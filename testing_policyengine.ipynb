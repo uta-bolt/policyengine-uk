{
 "cells": [
  {
   "cell_type": "code",
   "execution_count": null,
   "metadata": {},
   "outputs": [],
   "source": [
    "# python -m venv policyengine_venv\n",
    "# source policyengine_venv/bin/activate\n",
    "# make sure to select kernel to be in the above environment\n",
    "# Install ipykernel if not already installed\n",
    "!pip install ipykernel\n",
    "!pip install python-dotenv\n",
    "# Register the environment as a kernel\n",
    "!python -m ipykernel install --user --name=policyengine_venv --display-name=\"Python (PolicyEngine)\"\n",
    "# import sys\n",
    "# print(sys.executable)  # Should show a path inside your policyengine_venv directory\n",
    "#Install policy engine\n",
    "!pip install policyengine-uk"
   ]
  },
  {
   "cell_type": "code",
   "execution_count": null,
   "metadata": {},
   "outputs": [],
   "source": [
    "import os\n",
    "from dotenv import load_dotenv\n",
    "# Load environment variables from .env file\n",
    "load_dotenv()\n",
    "\n",
    "# Access the tokens\n",
    "token = os.environ.get(\"HUGGING_FACE_TOKEN\")\n",
    "\n",
    "# Now you can use the token\n",
    "print(f\"Token loaded: {token[:4]}...{token[-4:]}\")  # Prints first and last 4 chars for verification"
   ]
  },
  {
   "cell_type": "code",
   "execution_count": null,
   "metadata": {},
   "outputs": [],
   "source": [
    "from policyengine_uk import Microsimulation\n",
    "from policyengine_uk.model_api import *\n",
    "from policyengine_core.reforms import Reform\n",
    "from policyengine_core.periods import instant\n",
    "from policyengine_core.parameters import Parameter\n",
    "\n",
    "import pandas as pd\n",
    "# LOCAL_enhanced_frs_2022_23=\"hf://policyengine/policyengine-uk-data/enhanced_frs_2022_23.h5\"\n",
    "# sim = Microsimulation(dataset=LOCAL_enhanced_frs_2022_23)\n",
    "#sim = Microsimulation(dataset=\"hf://policyengine/policyengine-uk-data/enhanced_frs_2022_23.h5\")\n",
    " "
   ]
  },
  {
   "cell_type": "code",
   "execution_count": null,
   "metadata": {},
   "outputs": [],
   "source": [
    "# Level 1: 20 GBP pw uplift to child element of UC\n",
    "start_date= \"2029-01-01\"\n",
    "eval_year=2029\n",
    "\n",
    "def change_tax_parameters(parameters):\n",
    "    add=20.00*52/12\n",
    "    parameters.gov.dwp.universal_credit.elements.child.amount.update(\n",
    "        start=instant(start_date), value=orig_param+add\n",
    "        )\n",
    "    parameters.gov.dwp.universal_credit.elements.child.first.higher_amount.update(\n",
    "        start=instant(start_date), value=orig_param_higher+add\n",
    "    )\n",
    "    return parameters\n",
    "\n",
    "\n",
    "class reform(Reform):\n",
    "    def apply(self):\n",
    "        #self.modify_parameters(change_tax_parameters)\n",
    "        self.modify_parameters(change_tax_parameters)\n",
    "\n",
    "\n",
    "baseline = Microsimulation()\n",
    "Microsimulation()\n",
    "orig_param = baseline.tax_benefit_system.parameters.gov.dwp.universal_credit.elements.child.amount(start_date)\n",
    "orig_param_higher = baseline.tax_benefit_system.parameters.gov.dwp.universal_credit.elements.child.first.higher_amount(start_date)\n",
    "print(orig_param,orig_param_higher )\n",
    "reformed = Microsimulation(reform=reform)\n",
    "\n",
    "revenue = reformed.calculate(\"gov_spending\", eval_year).sum() - baseline.calculate(\"gov_spending\", eval_year).sum()\n",
    "print(f\"This reform would cost £{revenue / 1e9:.2f}bn in {eval_year}\")\n",
    "povertycalc(baseline, eval_year, reformed)\n",
    "avg_gain_gainer(baseline, reformed, eval_year)\n"
   ]
  },
  {
   "cell_type": "code",
   "execution_count": null,
   "metadata": {},
   "outputs": [],
   "source": [
    "#Level1b:  Work allowance increased to 1000 GBP  pa\n",
    "start_date= \"2029-01-01\"\n",
    "eval_year=2029\n",
    "\n",
    "def change_tax_parameters(parameters):\n",
    "    add=1000.00/12  # Monthly increase\n",
    "\n",
    "    parameters.gov.dwp.universal_credit.means_test.work_allowance.without_housing.update(\n",
    "        start=instant(start_date), value=orig_without_housing+add\n",
    "    )\n",
    "    parameters.gov.dwp.universal_credit.means_test.work_allowance.with_housing.update(\n",
    "        start=instant(start_date), value=orig_with_housing+add\n",
    "    )\n",
    "    return parameters\n",
    "\n",
    "\n",
    "class reform(Reform):\n",
    "    def apply(self):\n",
    "        self.modify_parameters(change_tax_parameters)\n",
    "\n",
    "\n",
    "baseline = Microsimulation()\n",
    "orig_without_housing = baseline.tax_benefit_system.parameters.gov.dwp.universal_credit.means_test.work_allowance.without_housing(start_date)\n",
    "orig_with_housing = baseline.tax_benefit_system.parameters.gov.dwp.universal_credit.means_test.work_allowance.with_housing(start_date)\n",
    "reformed = Microsimulation(reform=reform)\n",
    "revenue = reformed.calculate(\"gov_spending\", eval_year).sum() - baseline.calc(\"gov_spending\", eval_year).sum()\n",
    "print(f\"This reform would cost £{revenue / 1e9:.2f}bn in {eval_year}\")\n",
    "\n",
    "povertycalc(baseline, eval_year, reformed)\n",
    "avg_gain_gainer(baseline, reformed, eval_year)\n",
    "\n"
   ]
  },
  {
   "cell_type": "code",
   "execution_count": null,
   "metadata": {},
   "outputs": [],
   "source": [
    "#Level 1c: Change child limit\n",
    "start_date= \"2026-01-01\"\n",
    "eval_year=2026\n",
    "def change_tax_parameters(parameters):\n",
    "    parameters.gov.dwp.universal_credit.elements.child.limit.child_count.update(\n",
    "        start=instant(start_date), value=inf\n",
    "    )\n",
    "    return parameters\n",
    "\n",
    "\n",
    "class reform(Reform):\n",
    "    def apply(self):\n",
    "        self.modify_parameters(change_tax_parameters)\n",
    "\n",
    "\n",
    "baseline = Microsimulation()\n",
    "reformed = Microsimulation(reform=reform)\n",
    "revenue = reformed.calculate(\"gov_spending\", eval_year).sum() - baseline.calculate(\"gov_spending\", eval_year).sum()\n",
    "print(f\"Cost: £{round(revenue / 1e+9, 1)}bn\")\n",
    "povertycalc(baseline, eval_year, reformed)\n",
    "avg_gain_gainer(baseline, reformed, eval_year)\n"
   ]
  },
  {
   "cell_type": "code",
   "execution_count": null,
   "metadata": {},
   "outputs": [],
   "source": [
    "#Level 2b UNDER 5s premium\n",
    "from policyengine_uk import Microsimulation\n",
    "from policyengine_uk.reforms.uc_bonus_for_under5 import reform\n",
    "eval_year=2029\n",
    "baseline = Microsimulation()\n",
    "reformed = Microsimulation(reform=reform)\n",
    "print(reformed.calculate(\"num_households_with_under5\", eval_year).sum())\n",
    "print(reformed.calculate(\"universal_credit\", eval_year).mean())\n",
    "print(baseline.calculate(\"universal_credit\", eval_year).mean())\n",
    "print(f\"Number of households with at least one child under 5: {under5_households}\")\n",
    "revenue = reformed.calculate(\"gov_spending\", eval_year).sum() - baseline.calculate(\"gov_spending\", eval_year).sum()\n",
    "print(f\"Cost: £{round(revenue / 1e+9, 1)}bn\")\n",
    "povertycalc(baseline, eval_year, reformed)  \n",
    "avg_gain_gainer(baseline, reformed, eval_year)"
   ]
  },
  {
   "cell_type": "code",
   "execution_count": null,
   "metadata": {},
   "outputs": [],
   "source": [
    "#Level 3 ADD 30 HOUR WORK BONUS\n",
    "from policyengine_uk import Microsimulation\n",
    "from policyengine_uk.reforms.uc_30hour_bonus_v2 import reform\n",
    "from eval_functions import povertycalc, avg_gain_gainer\n",
    "eval_year=2026\n",
    "baseline = Microsimulation()\n",
    "NMW = baseline.tax_benefit_system.parameters.gov.hmrc.minimum_wage.OVER_24(eval_year)\n",
    "print(NMW)\n",
    "reformed = Microsimulation(reform=reform)\n",
    "# Debug: Check if UC is actually changing\n",
    "baseline_uc = baseline.calculate(\"universal_credit\", eval_year)\n",
    "reformed_uc = reformed.calculate(\"universal_credit\", eval_year)\n",
    "print(\"baseline uc:\",baseline.calculate(\"universal_credit\", eval_year).mean())\n",
    "print(\"reformed uc:\",reformed.calculate(\"universal_credit\", eval_year).mean())\n",
    "revenue = reformed.calculate(\"gov_spending\", eval_year).sum() - baseline.calculate(\"gov_spending\", eval_year).sum()\n",
    "print(f\"Cost: £{round(revenue / 1e+9, 1)}bn\")\n",
    "povertycalc(baseline, eval_year, reformed)  \n",
    "avg_gain_gainer(baseline, reformed, eval_year)"
   ]
  },
  {
   "cell_type": "code",
   "execution_count": null,
   "metadata": {},
   "outputs": [],
   "source": [
    "# REDUCE THE TAPER RATE FOR THOSE WITH KIDS\n",
    "from policyengine_uk import Microsimulation\n",
    "#from policyengine_uk.reforms.uc_phase_in import reform\n",
    "from policyengine_uk.reforms.uc_change_taper import reform\n",
    "from eval_functions import povertycalc, avg_gain_gainer\n",
    "eval_year=2026\n",
    "baseline = Microsimulation()\n",
    "reformed = Microsimulation(reform=reform)\n",
    "# Debug: Check if UC is actually changing\n",
    "baseline_uc = baseline.calculate(\"universal_credit\", eval_year)\n",
    "reformed_uc = reformed.calculate(\"universal_credit\", eval_year)\n",
    "print(\"baseline uc:\",baseline.calculate(\"universal_credit\", eval_year).mean())\n",
    "print(\"reformed uc:\",reformed.calculate(\"universal_credit\", eval_year).mean())\n",
    "\n",
    "revenue = reformed.calculate(\"gov_spending\", eval_year).sum() - baseline.calculate(\"gov_spending\", eval_year).sum()\n",
    "print(f\"Cost: £{round(revenue / 1e+9, 1)}bn\")\n",
    "povertycalc(baseline, eval_year, reformed)  \n",
    "avg_gain_gainer(baseline, reformed, eval_year)"
   ]
  },
  {
   "cell_type": "code",
   "execution_count": null,
   "metadata": {},
   "outputs": [],
   "source": [
    "# CHANGE TAPER RATE FOR THOSE WITH KIDS\n",
    "from policyengine_uk import Microsimulation\n",
    "from eval_functions import povertycalc, avg_gain_gainer\n",
    "from policyengine_uk import Simulation, Microsimulation\n",
    "from policyengine_uk.reforms.uc_change_taper import reform\n",
    "import pandas as pd\n",
    "import plotly.express as px\n",
    "eval_year=2026\n",
    "baseline = Microsimulation()\n",
    "reformed = Microsimulation(reform=reform)\n",
    "# Debug: Check if UC is actually changing\n",
    "baseline_uc = baseline.calculate(\"universal_credit\", eval_year)\n",
    "reformed_uc = reformed.calculate(\"universal_credit\", eval_year)\n",
    "print(\"baseline uc:\",baseline.calculate(\"universal_credit\", eval_year).mean())\n",
    "print(\"reformed uc:\",reformed.calculate(\"universal_credit\", eval_year).mean())\n",
    "\n",
    "revenue = reformed.calculate(\"gov_spending\", eval_year).sum() - baseline.calculate(\"gov_spending\", eval_year).sum()\n",
    "print(f\"Cost: £{round(revenue / 1e+9, 1)}bn\")\n",
    "povertycalc(baseline, eval_year, reformed)  \n",
    "avg_gain_gainer(baseline, reformed, eval_year)\n",
    "\n",
    "\n",
    "situation = {\n",
    "    \"people\": {\n",
    "        \"person\": {\n",
    "            \"age\": 26,\n",
    "        },\n",
    "        \"child\":{\n",
    "            \"age\": 5,\n",
    "        },\n",
    "    },\n",
    "    \"households\": {\n",
    "        \"household\": {\n",
    "            \"members\": [\"person\",\"child\"],\n",
    "            \"rent\": 1_000,\n",
    "        }\n",
    "    },\n",
    "    \"axes\": [[\n",
    "        {\n",
    "            \"name\": \"employment_income\",\n",
    "            \"min\": 0,\n",
    "            \"max\": 10_000,\n",
    "            \"count\": 301,\n",
    "        }\n",
    "    ]]\n",
    "}\n",
    "\n",
    "baseline = Simulation(\n",
    "    situation=situation,\n",
    ")\n",
    "\n",
    "reformed = Simulation(\n",
    "    situation=situation,\n",
    "    reform=reform,\n",
    ")\n",
    "df = pd.DataFrame()\n",
    "\n",
    "year = eval_year\n",
    "df[\"Employment income\"] = baseline.calculate(\"employment_income\", year, map_to=\"household\")\n",
    "df[\"UC (baseline)\"] = baseline.calculate(\"universal_credit\", year, map_to=\"household\")\n",
    "df[\"UC (reformed)\"] = reformed.calculate(\"universal_credit\", year, map_to=\"household\")\n",
    "# df[\"Net income (baseline)\"] = baseline.calculate(\"household_net_income\", year, map_to=\"household\")\n",
    "# df[\"Net income (reformed)\"] = reformed.calculate(\"household_net_income\", year, map_to=\"household\")\n",
    "# df[\"Marginal tax rate (baseline)\"] = baseline.calculate(\"marginal_tax_rate\", year, map_to=\"household\")\n",
    "# df[\"Marginal tax rate (reformed)\"] = reformed.calculate(\"marginal_tax_rate\", year, map_to=\"household\")\n",
    "\n",
    "fig = px.line(\n",
    "    df,\n",
    "    x=\"Employment income\",\n",
    "    y=df.columns,\n",
    "    labels={\n",
    "        \"value\": \"Universal Credit\",\n",
    "        \"Employment income\": \"Employment income\",\n",
    "    },\n",
    "    title=\"Taper rate reduced by 3p for those with children\",\n",
    ")\n",
    "fig.update_layout(xaxis_range=[0, 10_000])\n",
    "fig.show()\n"
   ]
  },
  {
   "cell_type": "code",
   "execution_count": null,
   "metadata": {},
   "outputs": [],
   "source": [
    "# Add EITC phase in -- EVALUATION\n",
    "from policyengine_uk import Microsimulation\n",
    "from policyengine_uk.reforms.uc_phase_in import reform\n",
    "from eval_functions import povertycalc, avg_gain_gainer\n",
    "from policyengine_uk import Simulation, Microsimulation\n",
    "import pandas as pd\n",
    "import plotly.express as px\n",
    "eval_year=2026\n",
    "baseline = Microsimulation()\n",
    "reformed = Microsimulation(reform=reform)\n",
    "# Debug: Check if UC is actually changing\n",
    "baseline_uc = baseline.calculate(\"universal_credit\", eval_year)\n",
    "reformed_uc = reformed.calculate(\"universal_credit\", eval_year)\n",
    "print(\"baseline uc:\",baseline.calculate(\"universal_credit\", eval_year).mean())\n",
    "print(\"reformed uc:\",reformed.calculate(\"universal_credit\", eval_year).mean())\n",
    "\n",
    "revenue = reformed.calculate(\"gov_spending\", eval_year).sum() - baseline.calculate(\"gov_spending\", eval_year).sum()\n",
    "print(f\"Cost: £{round(revenue / 1e+9, 1)}bn\")\n",
    "povertycalc(baseline, eval_year, reformed)  \n",
    "avg_gain_gainer(baseline, reformed, eval_year)\n",
    "\n",
    "\n",
    "situation = {\n",
    "    \"people\": {\n",
    "        \"person\": {\n",
    "            \"age\": 26,\n",
    "        },\n",
    "        \"child\":{\n",
    "            \"age\": 5,\n",
    "        },\n",
    "    },\n",
    "    \"households\": {\n",
    "        \"household\": {\n",
    "            \"members\": [\"person\",\"child\"],\n",
    "            \"rent\": 1_000,\n",
    "        }\n",
    "    },\n",
    "    \"axes\": [[\n",
    "        {\n",
    "            \"name\": \"employment_income\",\n",
    "            \"min\": 0,\n",
    "            \"max\": 10_000,\n",
    "            \"count\": 301,\n",
    "        }\n",
    "    ]]\n",
    "}\n",
    "\n",
    "baseline = Simulation(\n",
    "    situation=situation,\n",
    ")\n",
    "\n",
    "reformed = Simulation(\n",
    "    situation=situation,\n",
    "    reform=reform,\n",
    ")\n",
    "df = pd.DataFrame()\n",
    "\n",
    "year = eval_year\n",
    "df[\"Employment income\"] = baseline.calculate(\"employment_income\", year, map_to=\"household\")\n",
    "df[\"UC (baseline)\"] = baseline.calculate(\"universal_credit\", year, map_to=\"household\")\n",
    "df[\"UC (reformed)\"] = reformed.calculate(\"universal_credit\", year, map_to=\"household\")\n",
    "# df[\"Net income (baseline)\"] = baseline.calculate(\"household_net_income\", year, map_to=\"household\")\n",
    "# df[\"Net income (reformed)\"] = reformed.calculate(\"household_net_income\", year, map_to=\"household\")\n",
    "# df[\"Marginal tax rate (baseline)\"] = baseline.calculate(\"marginal_tax_rate\", year, map_to=\"household\")\n",
    "# df[\"Marginal tax rate (reformed)\"] = reformed.calculate(\"marginal_tax_rate\", year, map_to=\"household\")\n",
    "\n",
    "fig = px.line(\n",
    "    df,\n",
    "    x=\"Employment income\",\n",
    "    y=df.columns,\n",
    "    labels={\n",
    "        \"value\": \"Universal Credit\",\n",
    "        \"Employment income\": \"Employment income\",\n",
    "    },\n",
    "    title=\"Phase in at 20% for those with children\",\n",
    ")\n",
    "fig.update_layout(xaxis_range=[0, 10_000])\n",
    "fig.show()\n"
   ]
  },
  {
   "cell_type": "code",
   "execution_count": 2,
   "metadata": {},
   "outputs": [
    {
     "name": "stdout",
     "output_type": "stream",
     "text": [
      "baseline uc: 1911.24199084687\n",
      "reformed uc: 1928.6608423409643\n",
      "Cost: £0.7bn\n",
      "Reduction in child poverty: 43,124 in 2026, reformed\n",
      "Avg gain of gainers 2026: 306.94314936190915\n"
     ]
    },
    {
     "data": {
      "application/vnd.plotly.v1+json": {
       "config": {
        "plotlyServerURL": "https://plot.ly"
       },
       "data": [
        {
         "hovertemplate": "variable=UC (baseline)<br>Employment income=%{x}<br>Universal Credit=%{y}<extra></extra>",
         "legendgroup": "UC (baseline)",
         "line": {
          "color": "#636efa",
          "dash": "solid"
         },
         "marker": {
          "symbol": "circle"
         },
         "mode": "lines",
         "name": "UC (baseline)",
         "orientation": "v",
         "showlegend": true,
         "type": "scatter",
         "x": [
          0,
          39.10306167602539,
          78.20612335205078,
          117.30918884277344,
          156.41224670410156,
          195.51531982421875,
          234.61837768554688,
          273.721435546875,
          312.8244934082031,
          351.92755126953125,
          391.0306396484375,
          430.1336669921875,
          469.23675537109375,
          508.33984375,
          547.44287109375,
          586.5459594726562,
          625.6489868164062,
          664.7520751953125,
          703.8551025390625,
          742.9581909179688,
          782.061279296875,
          821.164306640625,
          860.267333984375,
          899.3704833984375,
          938.4735107421875,
          977.5765380859375,
          1016.6796875,
          1055.78271484375,
          1094.8857421875,
          1133.9888916015625,
          1173.0919189453125,
          1212.1949462890625,
          1251.2979736328125,
          1290.401123046875,
          1329.504150390625,
          1368.607177734375,
          1407.710205078125,
          1446.8133544921875,
          1485.9163818359375,
          1525.0194091796875,
          1564.12255859375,
          1603.2255859375,
          1642.32861328125,
          1681.4317626953125,
          1720.53466796875,
          1759.6378173828125,
          1798.740966796875,
          1837.8438720703125,
          1876.947021484375,
          1916.0501708984375,
          1955.153076171875,
          1994.2562255859375,
          2033.359375,
          2072.46240234375,
          2111.5654296875,
          2150.66845703125,
          2189.771484375,
          2228.87451171875,
          2267.977783203125,
          2307.08056640625,
          2346.183837890625,
          2385.286865234375,
          2424.389892578125,
          2463.492919921875,
          2502.595947265625,
          2541.69921875,
          2580.80224609375,
          2619.905029296875,
          2659.00830078125,
          2698.111328125,
          2737.21435546875,
          2776.317626953125,
          2815.42041015625,
          2854.5234375,
          2893.626708984375,
          2932.729736328125,
          2971.832763671875,
          3010.93603515625,
          3050.038818359375,
          3089.141845703125,
          3128.2451171875,
          3167.34814453125,
          3206.451171875,
          3245.55419921875,
          3284.6572265625,
          3323.76025390625,
          3362.863525390625,
          3401.966552734375,
          3441.0693359375,
          3480.172607421875,
          3519.275634765625,
          3558.378662109375,
          3597.48193359375,
          3636.5849609375,
          3675.687744140625,
          3714.791015625,
          3753.89404296875,
          3792.9970703125,
          3832.100341796875,
          3871.203125,
          3910.30615234375,
          3949.409423828125,
          3988.512451171875,
          4027.615478515625,
          4066.71875,
          4105.82177734375,
          4144.9248046875,
          4184.02783203125,
          4223.130859375,
          4262.23388671875,
          4301.3369140625,
          4340.43994140625,
          4379.54296875,
          4418.64599609375,
          4457.7490234375,
          4496.85205078125,
          4535.95556640625,
          4575.05859375,
          4614.1611328125,
          4653.2646484375,
          4692.36767578125,
          4731.470703125,
          4770.57373046875,
          4809.6767578125,
          4848.77978515625,
          4887.8828125,
          4926.98583984375,
          4966.08935546875,
          5005.19189453125,
          5044.294921875,
          5083.3984375,
          5122.5009765625,
          5161.6044921875,
          5200.70751953125,
          5239.81005859375,
          5278.91357421875,
          5318.0166015625,
          5357.11962890625,
          5396.22265625,
          5435.326171875,
          5474.4287109375,
          5513.53173828125,
          5552.63525390625,
          5591.73779296875,
          5630.8408203125,
          5669.9443359375,
          5709.046875,
          5748.150390625,
          5787.25341796875,
          5826.35595703125,
          5865.45947265625,
          5904.5625,
          5943.66552734375,
          5982.7685546875,
          6021.8720703125,
          6060.974609375,
          6100.07763671875,
          6139.18115234375,
          6178.28369140625,
          6217.38720703125,
          6256.490234375,
          6295.5927734375,
          6334.6962890625,
          6373.79931640625,
          6412.90234375,
          6452.00537109375,
          6491.1083984375,
          6530.21142578125,
          6569.314453125,
          6608.41796875,
          6647.5205078125,
          6686.62353515625,
          6725.72705078125,
          6764.82958984375,
          6803.93310546875,
          6843.0361328125,
          6882.138671875,
          6921.2421875,
          6960.34521484375,
          6999.4482421875,
          7038.55126953125,
          7077.65478515625,
          7116.75732421875,
          7155.8603515625,
          7194.9638671875,
          7234.06640625,
          7273.169921875,
          7312.27294921875,
          7351.37548828125,
          7390.47900390625,
          7429.58203125,
          7468.68505859375,
          7507.7880859375,
          7546.89111328125,
          7585.994140625,
          7625.09716796875,
          7664.20068359375,
          7703.30322265625,
          7742.40625,
          7781.509765625,
          7820.6123046875,
          7859.7158203125,
          7898.81884765625,
          7937.92138671875,
          7977.02490234375,
          8016.1279296875,
          8055.23095703125,
          8094.333984375,
          8133.4375,
          8172.5400390625,
          8211.6435546875,
          8250.74609375,
          8289.849609375,
          8328.9521484375,
          8368.0556640625,
          8407.158203125,
          8446.26171875,
          8485.365234375,
          8524.4677734375,
          8563.5703125,
          8602.673828125,
          8641.7763671875,
          8680.8798828125,
          8719.9833984375,
          8759.0859375,
          8798.189453125,
          8837.2919921875,
          8876.3955078125,
          8915.498046875,
          8954.6015625,
          8993.7041015625,
          9032.8076171875,
          9071.9111328125,
          9111.0126953125,
          9150.1171875,
          9189.2197265625,
          9228.3212890625,
          9267.4248046875,
          9306.529296875,
          9345.6318359375,
          9384.7353515625,
          9423.837890625,
          9462.94140625,
          9502.0439453125,
          9541.146484375,
          9580.25,
          9619.353515625,
          9658.4560546875,
          9697.55859375,
          9736.6630859375,
          9775.765625,
          9814.869140625,
          9853.9716796875,
          9893.07421875,
          9932.1787109375,
          9971.2802734375,
          10010.3837890625,
          10049.4873046875,
          10088.58984375,
          10127.6923828125,
          10166.796875,
          10205.8994140625,
          10245.001953125,
          10284.1044921875,
          10323.208984375,
          10362.3115234375,
          10401.4150390625,
          10440.517578125,
          10479.6201171875,
          10518.724609375,
          10557.826171875,
          10596.9296875,
          10636.033203125,
          10675.1357421875,
          10714.23828125,
          10753.3427734375,
          10792.4453125,
          10831.546875,
          10870.6513671875,
          10909.7548828125,
          10948.857421875,
          10987.9609375,
          11027.0634765625,
          11066.166015625,
          11105.2705078125,
          11144.3720703125,
          11183.4755859375,
          11222.5791015625,
          11261.681640625,
          11300.7841796875,
          11339.888671875,
          11378.9912109375,
          11418.0927734375,
          11457.197265625,
          11496.30078125,
          11535.4033203125,
          11574.505859375,
          11613.609375,
          11652.7119140625,
          11691.81640625,
          11730.91796875
         ],
         "xaxis": "x",
         "y": [
          9726.4765625,
          9726.4765625,
          9726.4765625,
          9726.4765625,
          9726.4765625,
          9726.4765625,
          9726.4765625,
          9726.4765625,
          9726.4765625,
          9726.4765625,
          9726.4765625,
          9726.4765625,
          9726.4765625,
          9726.4765625,
          9726.4765625,
          9726.4765625,
          9726.4765625,
          9726.4765625,
          9726.4765625,
          9726.4765625,
          9726.4765625,
          9726.4765625,
          9726.4765625,
          9726.4765625,
          9726.4765625,
          9726.4765625,
          9726.4765625,
          9726.4765625,
          9726.4765625,
          9726.4765625,
          9726.4765625,
          9726.4765625,
          9726.4765625,
          9726.4765625,
          9726.4765625,
          9726.4765625,
          9726.4765625,
          9726.4765625,
          9726.4765625,
          9726.4765625,
          9726.4765625,
          9726.4765625,
          9726.4765625,
          9726.4765625,
          9726.4765625,
          9726.4765625,
          9726.4765625,
          9726.4765625,
          9726.4765625,
          9726.4765625,
          9726.4765625,
          9726.4765625,
          9726.4765625,
          9726.4765625,
          9726.4765625,
          9726.4765625,
          9726.4765625,
          9726.4765625,
          9726.4765625,
          9726.4765625,
          9726.4765625,
          9726.4765625,
          9726.4765625,
          9726.4765625,
          9726.4765625,
          9726.4765625,
          9726.4765625,
          9726.4765625,
          9726.4765625,
          9726.4765625,
          9726.4765625,
          9726.4765625,
          9726.4765625,
          9726.4765625,
          9726.4765625,
          9726.4765625,
          9726.4765625,
          9726.4765625,
          9726.4765625,
          9726.4765625,
          9726.4765625,
          9726.4765625,
          9726.4765625,
          9726.4765625,
          9726.4765625,
          9726.4765625,
          9726.4765625,
          9726.4765625,
          9726.4765625,
          9726.4765625,
          9726.4765625,
          9726.4765625,
          9726.4765625,
          9726.4765625,
          9726.4765625,
          9726.4765625,
          9726.4765625,
          9726.4765625,
          9726.4765625,
          9726.4765625,
          9726.4765625,
          9726.4765625,
          9726.4765625,
          9726.4765625,
          9726.4765625,
          9726.4765625,
          9726.4765625,
          9726.4765625,
          9726.4765625,
          9726.4765625,
          9726.4765625,
          9726.4765625,
          9726.4765625,
          9726.4765625,
          9726.4765625,
          9726.4765625,
          9726.4765625,
          9726.4765625,
          9726.4765625,
          9726.4765625,
          9726.4765625,
          9726.4765625,
          9726.4765625,
          9726.4765625,
          9726.4765625,
          9726.4765625,
          9726.4765625,
          9726.4765625,
          9726.4765625,
          9717.4052734375,
          9695.8984375,
          9674.3916015625,
          9652.884765625,
          9631.3779296875,
          9609.8720703125,
          9588.365234375,
          9566.8583984375,
          9545.3515625,
          9523.8447265625,
          9502.337890625,
          9480.8310546875,
          9459.3251953125,
          9437.818359375,
          9416.3115234375,
          9394.8046875,
          9373.2978515625,
          9351.791015625,
          9330.2841796875,
          9308.7783203125,
          9287.271484375,
          9265.7646484375,
          9244.2578125,
          9222.7509765625,
          9201.244140625,
          9179.7373046875,
          9158.2314453125,
          9136.724609375,
          9115.2177734375,
          9093.7109375,
          9072.2041015625,
          9050.697265625,
          9029.19140625,
          9007.6845703125,
          8986.177734375,
          8964.6708984375,
          8943.1640625,
          8921.6572265625,
          8900.1513671875,
          8878.64453125,
          8857.1376953125,
          8835.630859375,
          8814.1240234375,
          8792.6171875,
          8771.111328125,
          8749.603515625,
          8728.09765625,
          8706.5908203125,
          8685.083984375,
          8663.5771484375,
          8642.0703125,
          8620.564453125,
          8599.056640625,
          8577.55078125,
          8556.0439453125,
          8534.537109375,
          8513.03125,
          8491.5234375,
          8470.017578125,
          8448.5107421875,
          8427.00390625,
          8405.4970703125,
          8383.990234375,
          8362.4833984375,
          8340.9775390625,
          8319.470703125,
          8297.9638671875,
          8276.45703125,
          8254.9501953125,
          8233.443359375,
          8211.9365234375,
          8190.4306640625,
          8168.923828125,
          8147.4169921875,
          8125.91064453125,
          8104.4033203125,
          8082.89697265625,
          8061.39013671875,
          8039.8837890625,
          8018.37646484375,
          7996.8701171875,
          7975.36328125,
          7953.85693359375,
          7932.35009765625,
          7910.84375,
          7889.33642578125,
          7867.830078125,
          7846.3232421875,
          7824.81640625,
          7803.31005859375,
          7781.8037109375,
          7760.296875,
          7738.7900390625,
          7717.283203125,
          7695.7763671875,
          7674.27001953125,
          7652.7626953125,
          7631.2568359375,
          7609.75,
          7588.2431640625,
          7566.736328125,
          7545.22998046875,
          7523.72314453125,
          7502.2158203125,
          7480.7099609375,
          7459.20263671875,
          7437.6962890625,
          7416.1904296875,
          7394.68359375,
          7373.17578125,
          7351.669921875,
          7330.1630859375,
          7308.65625,
          7287.1494140625,
          7265.64306640625,
          7244.13671875,
          7222.6298828125,
          7201.123046875,
          7179.6162109375,
          7158.10986328125,
          7136.6025390625,
          7115.09619140625,
          7093.5888671875,
          7072.0830078125,
          7050.576171875,
          7029.06884765625,
          7007.56298828125,
          6986.05615234375,
          6964.548828125,
          6943.04296875,
          6921.5361328125,
          6900.02880859375,
          6878.5224609375,
          6857.01611328125,
          6835.509765625,
          6814.001953125,
          6792.49609375,
          6770.9892578125,
          6749.482421875,
          6727.97607421875,
          6706.46875,
          6684.962890625,
          6663.4560546875,
          6641.94921875,
          6620.4423828125,
          6598.93603515625,
          6577.4287109375,
          6555.92236328125,
          6534.41650390625,
          6512.9091796875,
          6491.40234375,
          6469.8955078125,
          6448.388671875,
          6426.88232421875,
          6405.3759765625,
          6383.8681640625,
          6362.3623046875,
          6340.85546875,
          6319.3486328125,
          6297.84228515625,
          6276.3359375,
          6254.828125,
          6233.322265625,
          6211.81640625,
          6190.30859375,
          6168.8017578125,
          6147.29541015625,
          6125.7890625,
          6104.2822265625,
          6082.775390625,
          6061.26806640625,
          6039.76220703125
         ],
         "yaxis": "y"
        },
        {
         "hovertemplate": "variable=UC (reformed)<br>Employment income=%{x}<br>Universal Credit=%{y}<extra></extra>",
         "legendgroup": "UC (reformed)",
         "line": {
          "color": "#EF553B",
          "dash": "solid"
         },
         "marker": {
          "symbol": "circle"
         },
         "mode": "lines",
         "name": "UC (reformed)",
         "orientation": "v",
         "showlegend": true,
         "type": "scatter",
         "x": [
          0,
          39.10306167602539,
          78.20612335205078,
          117.30918884277344,
          156.41224670410156,
          195.51531982421875,
          234.61837768554688,
          273.721435546875,
          312.8244934082031,
          351.92755126953125,
          391.0306396484375,
          430.1336669921875,
          469.23675537109375,
          508.33984375,
          547.44287109375,
          586.5459594726562,
          625.6489868164062,
          664.7520751953125,
          703.8551025390625,
          742.9581909179688,
          782.061279296875,
          821.164306640625,
          860.267333984375,
          899.3704833984375,
          938.4735107421875,
          977.5765380859375,
          1016.6796875,
          1055.78271484375,
          1094.8857421875,
          1133.9888916015625,
          1173.0919189453125,
          1212.1949462890625,
          1251.2979736328125,
          1290.401123046875,
          1329.504150390625,
          1368.607177734375,
          1407.710205078125,
          1446.8133544921875,
          1485.9163818359375,
          1525.0194091796875,
          1564.12255859375,
          1603.2255859375,
          1642.32861328125,
          1681.4317626953125,
          1720.53466796875,
          1759.6378173828125,
          1798.740966796875,
          1837.8438720703125,
          1876.947021484375,
          1916.0501708984375,
          1955.153076171875,
          1994.2562255859375,
          2033.359375,
          2072.46240234375,
          2111.5654296875,
          2150.66845703125,
          2189.771484375,
          2228.87451171875,
          2267.977783203125,
          2307.08056640625,
          2346.183837890625,
          2385.286865234375,
          2424.389892578125,
          2463.492919921875,
          2502.595947265625,
          2541.69921875,
          2580.80224609375,
          2619.905029296875,
          2659.00830078125,
          2698.111328125,
          2737.21435546875,
          2776.317626953125,
          2815.42041015625,
          2854.5234375,
          2893.626708984375,
          2932.729736328125,
          2971.832763671875,
          3010.93603515625,
          3050.038818359375,
          3089.141845703125,
          3128.2451171875,
          3167.34814453125,
          3206.451171875,
          3245.55419921875,
          3284.6572265625,
          3323.76025390625,
          3362.863525390625,
          3401.966552734375,
          3441.0693359375,
          3480.172607421875,
          3519.275634765625,
          3558.378662109375,
          3597.48193359375,
          3636.5849609375,
          3675.687744140625,
          3714.791015625,
          3753.89404296875,
          3792.9970703125,
          3832.100341796875,
          3871.203125,
          3910.30615234375,
          3949.409423828125,
          3988.512451171875,
          4027.615478515625,
          4066.71875,
          4105.82177734375,
          4144.9248046875,
          4184.02783203125,
          4223.130859375,
          4262.23388671875,
          4301.3369140625,
          4340.43994140625,
          4379.54296875,
          4418.64599609375,
          4457.7490234375,
          4496.85205078125,
          4535.95556640625,
          4575.05859375,
          4614.1611328125,
          4653.2646484375,
          4692.36767578125,
          4731.470703125,
          4770.57373046875,
          4809.6767578125,
          4848.77978515625,
          4887.8828125,
          4926.98583984375,
          4966.08935546875,
          5005.19189453125,
          5044.294921875,
          5083.3984375,
          5122.5009765625,
          5161.6044921875,
          5200.70751953125,
          5239.81005859375,
          5278.91357421875,
          5318.0166015625,
          5357.11962890625,
          5396.22265625,
          5435.326171875,
          5474.4287109375,
          5513.53173828125,
          5552.63525390625,
          5591.73779296875,
          5630.8408203125,
          5669.9443359375,
          5709.046875,
          5748.150390625,
          5787.25341796875,
          5826.35595703125,
          5865.45947265625,
          5904.5625,
          5943.66552734375,
          5982.7685546875,
          6021.8720703125,
          6060.974609375,
          6100.07763671875,
          6139.18115234375,
          6178.28369140625,
          6217.38720703125,
          6256.490234375,
          6295.5927734375,
          6334.6962890625,
          6373.79931640625,
          6412.90234375,
          6452.00537109375,
          6491.1083984375,
          6530.21142578125,
          6569.314453125,
          6608.41796875,
          6647.5205078125,
          6686.62353515625,
          6725.72705078125,
          6764.82958984375,
          6803.93310546875,
          6843.0361328125,
          6882.138671875,
          6921.2421875,
          6960.34521484375,
          6999.4482421875,
          7038.55126953125,
          7077.65478515625,
          7116.75732421875,
          7155.8603515625,
          7194.9638671875,
          7234.06640625,
          7273.169921875,
          7312.27294921875,
          7351.37548828125,
          7390.47900390625,
          7429.58203125,
          7468.68505859375,
          7507.7880859375,
          7546.89111328125,
          7585.994140625,
          7625.09716796875,
          7664.20068359375,
          7703.30322265625,
          7742.40625,
          7781.509765625,
          7820.6123046875,
          7859.7158203125,
          7898.81884765625,
          7937.92138671875,
          7977.02490234375,
          8016.1279296875,
          8055.23095703125,
          8094.333984375,
          8133.4375,
          8172.5400390625,
          8211.6435546875,
          8250.74609375,
          8289.849609375,
          8328.9521484375,
          8368.0556640625,
          8407.158203125,
          8446.26171875,
          8485.365234375,
          8524.4677734375,
          8563.5703125,
          8602.673828125,
          8641.7763671875,
          8680.8798828125,
          8719.9833984375,
          8759.0859375,
          8798.189453125,
          8837.2919921875,
          8876.3955078125,
          8915.498046875,
          8954.6015625,
          8993.7041015625,
          9032.8076171875,
          9071.9111328125,
          9111.0126953125,
          9150.1171875,
          9189.2197265625,
          9228.3212890625,
          9267.4248046875,
          9306.529296875,
          9345.6318359375,
          9384.7353515625,
          9423.837890625,
          9462.94140625,
          9502.0439453125,
          9541.146484375,
          9580.25,
          9619.353515625,
          9658.4560546875,
          9697.55859375,
          9736.6630859375,
          9775.765625,
          9814.869140625,
          9853.9716796875,
          9893.07421875,
          9932.1787109375,
          9971.2802734375,
          10010.3837890625,
          10049.4873046875,
          10088.58984375,
          10127.6923828125,
          10166.796875,
          10205.8994140625,
          10245.001953125,
          10284.1044921875,
          10323.208984375,
          10362.3115234375,
          10401.4150390625,
          10440.517578125,
          10479.6201171875,
          10518.724609375,
          10557.826171875,
          10596.9296875,
          10636.033203125,
          10675.1357421875,
          10714.23828125,
          10753.3427734375,
          10792.4453125,
          10831.546875,
          10870.6513671875,
          10909.7548828125,
          10948.857421875,
          10987.9609375,
          11027.0634765625,
          11066.166015625,
          11105.2705078125,
          11144.3720703125,
          11183.4755859375,
          11222.5791015625,
          11261.681640625,
          11300.7841796875,
          11339.888671875,
          11378.9912109375,
          11418.0927734375,
          11457.197265625,
          11496.30078125,
          11535.4033203125,
          11574.505859375,
          11613.609375,
          11652.7119140625,
          11691.81640625,
          11730.91796875
         ],
         "xaxis": "x",
         "y": [
          9726.4765625,
          9726.4765625,
          9726.4765625,
          9726.4765625,
          9726.4765625,
          9726.4765625,
          9726.4765625,
          9726.4765625,
          9726.4765625,
          9726.4765625,
          9726.4765625,
          9726.4765625,
          9726.4765625,
          9726.4765625,
          9726.4765625,
          9726.4765625,
          9726.4765625,
          9726.4765625,
          9726.4765625,
          9726.4765625,
          9726.4765625,
          9726.4765625,
          9726.4765625,
          9726.4765625,
          9726.4765625,
          9726.4765625,
          9726.4765625,
          9726.4765625,
          9726.4765625,
          9726.4765625,
          9726.4765625,
          9726.4765625,
          9726.4765625,
          9726.4765625,
          9726.4765625,
          9726.4765625,
          9726.4765625,
          9726.4765625,
          9726.4765625,
          9726.4765625,
          9726.4765625,
          9726.4765625,
          9726.4765625,
          9726.4765625,
          9726.4765625,
          9726.4765625,
          9726.4765625,
          9726.4765625,
          9726.4765625,
          9726.4765625,
          9726.4765625,
          9726.4765625,
          9726.4765625,
          9726.4765625,
          9726.4765625,
          9726.4765625,
          9726.4765625,
          9726.4765625,
          9726.4765625,
          9726.4765625,
          9726.4765625,
          9726.4765625,
          9726.4765625,
          9726.4765625,
          9726.4765625,
          9726.4765625,
          9726.4765625,
          9726.4765625,
          9726.4765625,
          9726.4765625,
          9726.4765625,
          9726.4765625,
          9726.4765625,
          9726.4765625,
          9726.4765625,
          9726.4765625,
          9726.4765625,
          9726.4765625,
          9726.4765625,
          9726.4765625,
          9726.4765625,
          9726.4765625,
          9726.4765625,
          9726.4765625,
          9726.4765625,
          9726.4765625,
          9726.4765625,
          9726.4765625,
          9726.4765625,
          9726.4765625,
          9726.4765625,
          9726.4765625,
          9726.4765625,
          9726.4765625,
          9726.4765625,
          9726.4765625,
          9726.4765625,
          9726.4765625,
          9726.4765625,
          9726.4765625,
          9726.4765625,
          9726.4765625,
          9726.4765625,
          9726.4765625,
          9726.4765625,
          9726.4765625,
          9726.4765625,
          9726.4765625,
          9726.4765625,
          9726.4765625,
          9726.4765625,
          9726.4765625,
          9726.4765625,
          9726.4765625,
          9726.4765625,
          9726.4765625,
          9726.4765625,
          9726.4765625,
          9726.4765625,
          9726.4765625,
          9726.4765625,
          9726.4765625,
          9726.4765625,
          9726.4765625,
          9726.4765625,
          9726.4765625,
          9726.4765625,
          9726.4765625,
          9726.4765625,
          9717.7353515625,
          9697.009765625,
          9676.2861328125,
          9655.560546875,
          9634.8359375,
          9614.1123046875,
          9593.38671875,
          9572.662109375,
          9551.9375,
          9531.212890625,
          9510.48828125,
          9489.763671875,
          9469.0390625,
          9448.314453125,
          9427.58984375,
          9406.865234375,
          9386.140625,
          9365.416015625,
          9344.69140625,
          9323.966796875,
          9303.2421875,
          9282.517578125,
          9261.79296875,
          9241.068359375,
          9220.34375,
          9199.619140625,
          9178.89453125,
          9158.169921875,
          9137.4453125,
          9116.720703125,
          9095.99609375,
          9075.271484375,
          9054.546875,
          9033.822265625,
          9013.09765625,
          8992.373046875,
          8971.6484375,
          8950.923828125,
          8930.19921875,
          8909.474609375,
          8888.75,
          8868.025390625,
          8847.30078125,
          8826.576171875,
          8805.8515625,
          8785.126953125,
          8764.40234375,
          8743.677734375,
          8722.953125,
          8702.228515625,
          8681.50390625,
          8660.779296875,
          8640.0546875,
          8619.330078125,
          8598.60546875,
          8577.880859375,
          8557.15625,
          8536.431640625,
          8515.70703125,
          8494.982421875,
          8474.2578125,
          8453.533203125,
          8432.80859375,
          8412.083984375,
          8391.359375,
          8370.634765625,
          8349.91015625,
          8329.1845703125,
          8308.4609375,
          8287.736328125,
          8267.0107421875,
          8246.287109375,
          8225.5615234375,
          8204.8369140625,
          8184.11279296875,
          8163.38818359375,
          8142.66357421875,
          8121.93896484375,
          8101.21435546875,
          8080.4892578125,
          8059.76513671875,
          8039.0400390625,
          8018.31591796875,
          7997.5908203125,
          7976.86669921875,
          7956.1416015625,
          7935.41748046875,
          7914.6923828125,
          7893.9677734375,
          7873.2431640625,
          7852.51904296875,
          7831.7939453125,
          7811.06982421875,
          7790.3447265625,
          7769.6201171875,
          7748.8955078125,
          7728.1708984375,
          7707.4462890625,
          7686.7216796875,
          7665.9970703125,
          7645.2724609375,
          7624.5478515625,
          7603.8232421875,
          7583.0986328125,
          7562.37451171875,
          7541.6494140625,
          7520.9248046875,
          7500.201171875,
          7479.47607421875,
          7458.7509765625,
          7438.0263671875,
          7417.3017578125,
          7396.5771484375,
          7375.8525390625,
          7355.1279296875,
          7334.4033203125,
          7313.6787109375,
          7292.9541015625,
          7272.2294921875,
          7251.5048828125,
          7230.77978515625,
          7210.0556640625,
          7189.33056640625,
          7168.6064453125,
          7147.8818359375,
          7127.15625,
          7106.4326171875,
          7085.7080078125,
          7064.98291015625,
          7044.2587890625,
          7023.5341796875,
          7002.80859375,
          6982.08447265625,
          6961.3603515625,
          6940.6357421875,
          6919.91015625,
          6899.18603515625,
          6878.4609375,
          6857.73681640625,
          6837.0126953125,
          6816.287109375,
          6795.5634765625,
          6774.83837890625,
          6754.11328125,
          6733.3896484375,
          6712.6650390625,
          6691.939453125,
          6671.21533203125,
          6650.4912109375,
          6629.76611328125,
          6609.041015625,
          6588.31689453125,
          6567.591796875,
          6546.86767578125,
          6526.1435546875,
          6505.41796875,
          6484.6943359375,
          6463.96923828125,
          6443.244140625,
          6422.52001953125,
          6401.7958984375,
          6381.0703125,
          6360.345703125,
          6339.6220703125,
          6318.896484375,
          6298.171875,
          6277.447265625,
          6256.72314453125,
          6235.998046875,
          6215.27392578125,
          6194.548828125,
          6173.82470703125
         ],
         "yaxis": "y"
        }
       ],
       "layout": {
        "legend": {
         "title": {
          "text": "variable"
         },
         "tracegroupgap": 0
        },
        "template": {
         "data": {
          "bar": [
           {
            "error_x": {
             "color": "#2a3f5f"
            },
            "error_y": {
             "color": "#2a3f5f"
            },
            "marker": {
             "line": {
              "color": "#E5ECF6",
              "width": 0.5
             },
             "pattern": {
              "fillmode": "overlay",
              "size": 10,
              "solidity": 0.2
             }
            },
            "type": "bar"
           }
          ],
          "barpolar": [
           {
            "marker": {
             "line": {
              "color": "#E5ECF6",
              "width": 0.5
             },
             "pattern": {
              "fillmode": "overlay",
              "size": 10,
              "solidity": 0.2
             }
            },
            "type": "barpolar"
           }
          ],
          "carpet": [
           {
            "aaxis": {
             "endlinecolor": "#2a3f5f",
             "gridcolor": "white",
             "linecolor": "white",
             "minorgridcolor": "white",
             "startlinecolor": "#2a3f5f"
            },
            "baxis": {
             "endlinecolor": "#2a3f5f",
             "gridcolor": "white",
             "linecolor": "white",
             "minorgridcolor": "white",
             "startlinecolor": "#2a3f5f"
            },
            "type": "carpet"
           }
          ],
          "choropleth": [
           {
            "colorbar": {
             "outlinewidth": 0,
             "ticks": ""
            },
            "type": "choropleth"
           }
          ],
          "contour": [
           {
            "colorbar": {
             "outlinewidth": 0,
             "ticks": ""
            },
            "colorscale": [
             [
              0,
              "#0d0887"
             ],
             [
              0.1111111111111111,
              "#46039f"
             ],
             [
              0.2222222222222222,
              "#7201a8"
             ],
             [
              0.3333333333333333,
              "#9c179e"
             ],
             [
              0.4444444444444444,
              "#bd3786"
             ],
             [
              0.5555555555555556,
              "#d8576b"
             ],
             [
              0.6666666666666666,
              "#ed7953"
             ],
             [
              0.7777777777777778,
              "#fb9f3a"
             ],
             [
              0.8888888888888888,
              "#fdca26"
             ],
             [
              1,
              "#f0f921"
             ]
            ],
            "type": "contour"
           }
          ],
          "contourcarpet": [
           {
            "colorbar": {
             "outlinewidth": 0,
             "ticks": ""
            },
            "type": "contourcarpet"
           }
          ],
          "heatmap": [
           {
            "colorbar": {
             "outlinewidth": 0,
             "ticks": ""
            },
            "colorscale": [
             [
              0,
              "#0d0887"
             ],
             [
              0.1111111111111111,
              "#46039f"
             ],
             [
              0.2222222222222222,
              "#7201a8"
             ],
             [
              0.3333333333333333,
              "#9c179e"
             ],
             [
              0.4444444444444444,
              "#bd3786"
             ],
             [
              0.5555555555555556,
              "#d8576b"
             ],
             [
              0.6666666666666666,
              "#ed7953"
             ],
             [
              0.7777777777777778,
              "#fb9f3a"
             ],
             [
              0.8888888888888888,
              "#fdca26"
             ],
             [
              1,
              "#f0f921"
             ]
            ],
            "type": "heatmap"
           }
          ],
          "heatmapgl": [
           {
            "colorbar": {
             "outlinewidth": 0,
             "ticks": ""
            },
            "colorscale": [
             [
              0,
              "#0d0887"
             ],
             [
              0.1111111111111111,
              "#46039f"
             ],
             [
              0.2222222222222222,
              "#7201a8"
             ],
             [
              0.3333333333333333,
              "#9c179e"
             ],
             [
              0.4444444444444444,
              "#bd3786"
             ],
             [
              0.5555555555555556,
              "#d8576b"
             ],
             [
              0.6666666666666666,
              "#ed7953"
             ],
             [
              0.7777777777777778,
              "#fb9f3a"
             ],
             [
              0.8888888888888888,
              "#fdca26"
             ],
             [
              1,
              "#f0f921"
             ]
            ],
            "type": "heatmapgl"
           }
          ],
          "histogram": [
           {
            "marker": {
             "pattern": {
              "fillmode": "overlay",
              "size": 10,
              "solidity": 0.2
             }
            },
            "type": "histogram"
           }
          ],
          "histogram2d": [
           {
            "colorbar": {
             "outlinewidth": 0,
             "ticks": ""
            },
            "colorscale": [
             [
              0,
              "#0d0887"
             ],
             [
              0.1111111111111111,
              "#46039f"
             ],
             [
              0.2222222222222222,
              "#7201a8"
             ],
             [
              0.3333333333333333,
              "#9c179e"
             ],
             [
              0.4444444444444444,
              "#bd3786"
             ],
             [
              0.5555555555555556,
              "#d8576b"
             ],
             [
              0.6666666666666666,
              "#ed7953"
             ],
             [
              0.7777777777777778,
              "#fb9f3a"
             ],
             [
              0.8888888888888888,
              "#fdca26"
             ],
             [
              1,
              "#f0f921"
             ]
            ],
            "type": "histogram2d"
           }
          ],
          "histogram2dcontour": [
           {
            "colorbar": {
             "outlinewidth": 0,
             "ticks": ""
            },
            "colorscale": [
             [
              0,
              "#0d0887"
             ],
             [
              0.1111111111111111,
              "#46039f"
             ],
             [
              0.2222222222222222,
              "#7201a8"
             ],
             [
              0.3333333333333333,
              "#9c179e"
             ],
             [
              0.4444444444444444,
              "#bd3786"
             ],
             [
              0.5555555555555556,
              "#d8576b"
             ],
             [
              0.6666666666666666,
              "#ed7953"
             ],
             [
              0.7777777777777778,
              "#fb9f3a"
             ],
             [
              0.8888888888888888,
              "#fdca26"
             ],
             [
              1,
              "#f0f921"
             ]
            ],
            "type": "histogram2dcontour"
           }
          ],
          "mesh3d": [
           {
            "colorbar": {
             "outlinewidth": 0,
             "ticks": ""
            },
            "type": "mesh3d"
           }
          ],
          "parcoords": [
           {
            "line": {
             "colorbar": {
              "outlinewidth": 0,
              "ticks": ""
             }
            },
            "type": "parcoords"
           }
          ],
          "pie": [
           {
            "automargin": true,
            "type": "pie"
           }
          ],
          "scatter": [
           {
            "fillpattern": {
             "fillmode": "overlay",
             "size": 10,
             "solidity": 0.2
            },
            "type": "scatter"
           }
          ],
          "scatter3d": [
           {
            "line": {
             "colorbar": {
              "outlinewidth": 0,
              "ticks": ""
             }
            },
            "marker": {
             "colorbar": {
              "outlinewidth": 0,
              "ticks": ""
             }
            },
            "type": "scatter3d"
           }
          ],
          "scattercarpet": [
           {
            "marker": {
             "colorbar": {
              "outlinewidth": 0,
              "ticks": ""
             }
            },
            "type": "scattercarpet"
           }
          ],
          "scattergeo": [
           {
            "marker": {
             "colorbar": {
              "outlinewidth": 0,
              "ticks": ""
             }
            },
            "type": "scattergeo"
           }
          ],
          "scattergl": [
           {
            "marker": {
             "colorbar": {
              "outlinewidth": 0,
              "ticks": ""
             }
            },
            "type": "scattergl"
           }
          ],
          "scattermapbox": [
           {
            "marker": {
             "colorbar": {
              "outlinewidth": 0,
              "ticks": ""
             }
            },
            "type": "scattermapbox"
           }
          ],
          "scatterpolar": [
           {
            "marker": {
             "colorbar": {
              "outlinewidth": 0,
              "ticks": ""
             }
            },
            "type": "scatterpolar"
           }
          ],
          "scatterpolargl": [
           {
            "marker": {
             "colorbar": {
              "outlinewidth": 0,
              "ticks": ""
             }
            },
            "type": "scatterpolargl"
           }
          ],
          "scatterternary": [
           {
            "marker": {
             "colorbar": {
              "outlinewidth": 0,
              "ticks": ""
             }
            },
            "type": "scatterternary"
           }
          ],
          "surface": [
           {
            "colorbar": {
             "outlinewidth": 0,
             "ticks": ""
            },
            "colorscale": [
             [
              0,
              "#0d0887"
             ],
             [
              0.1111111111111111,
              "#46039f"
             ],
             [
              0.2222222222222222,
              "#7201a8"
             ],
             [
              0.3333333333333333,
              "#9c179e"
             ],
             [
              0.4444444444444444,
              "#bd3786"
             ],
             [
              0.5555555555555556,
              "#d8576b"
             ],
             [
              0.6666666666666666,
              "#ed7953"
             ],
             [
              0.7777777777777778,
              "#fb9f3a"
             ],
             [
              0.8888888888888888,
              "#fdca26"
             ],
             [
              1,
              "#f0f921"
             ]
            ],
            "type": "surface"
           }
          ],
          "table": [
           {
            "cells": {
             "fill": {
              "color": "#EBF0F8"
             },
             "line": {
              "color": "white"
             }
            },
            "header": {
             "fill": {
              "color": "#C8D4E3"
             },
             "line": {
              "color": "white"
             }
            },
            "type": "table"
           }
          ]
         },
         "layout": {
          "annotationdefaults": {
           "arrowcolor": "#2a3f5f",
           "arrowhead": 0,
           "arrowwidth": 1
          },
          "autotypenumbers": "strict",
          "coloraxis": {
           "colorbar": {
            "outlinewidth": 0,
            "ticks": ""
           }
          },
          "colorscale": {
           "diverging": [
            [
             0,
             "#8e0152"
            ],
            [
             0.1,
             "#c51b7d"
            ],
            [
             0.2,
             "#de77ae"
            ],
            [
             0.3,
             "#f1b6da"
            ],
            [
             0.4,
             "#fde0ef"
            ],
            [
             0.5,
             "#f7f7f7"
            ],
            [
             0.6,
             "#e6f5d0"
            ],
            [
             0.7,
             "#b8e186"
            ],
            [
             0.8,
             "#7fbc41"
            ],
            [
             0.9,
             "#4d9221"
            ],
            [
             1,
             "#276419"
            ]
           ],
           "sequential": [
            [
             0,
             "#0d0887"
            ],
            [
             0.1111111111111111,
             "#46039f"
            ],
            [
             0.2222222222222222,
             "#7201a8"
            ],
            [
             0.3333333333333333,
             "#9c179e"
            ],
            [
             0.4444444444444444,
             "#bd3786"
            ],
            [
             0.5555555555555556,
             "#d8576b"
            ],
            [
             0.6666666666666666,
             "#ed7953"
            ],
            [
             0.7777777777777778,
             "#fb9f3a"
            ],
            [
             0.8888888888888888,
             "#fdca26"
            ],
            [
             1,
             "#f0f921"
            ]
           ],
           "sequentialminus": [
            [
             0,
             "#0d0887"
            ],
            [
             0.1111111111111111,
             "#46039f"
            ],
            [
             0.2222222222222222,
             "#7201a8"
            ],
            [
             0.3333333333333333,
             "#9c179e"
            ],
            [
             0.4444444444444444,
             "#bd3786"
            ],
            [
             0.5555555555555556,
             "#d8576b"
            ],
            [
             0.6666666666666666,
             "#ed7953"
            ],
            [
             0.7777777777777778,
             "#fb9f3a"
            ],
            [
             0.8888888888888888,
             "#fdca26"
            ],
            [
             1,
             "#f0f921"
            ]
           ]
          },
          "colorway": [
           "#636efa",
           "#EF553B",
           "#00cc96",
           "#ab63fa",
           "#FFA15A",
           "#19d3f3",
           "#FF6692",
           "#B6E880",
           "#FF97FF",
           "#FECB52"
          ],
          "font": {
           "color": "#2a3f5f"
          },
          "geo": {
           "bgcolor": "white",
           "lakecolor": "white",
           "landcolor": "#E5ECF6",
           "showlakes": true,
           "showland": true,
           "subunitcolor": "white"
          },
          "hoverlabel": {
           "align": "left"
          },
          "hovermode": "closest",
          "mapbox": {
           "style": "light"
          },
          "paper_bgcolor": "white",
          "plot_bgcolor": "#E5ECF6",
          "polar": {
           "angularaxis": {
            "gridcolor": "white",
            "linecolor": "white",
            "ticks": ""
           },
           "bgcolor": "#E5ECF6",
           "radialaxis": {
            "gridcolor": "white",
            "linecolor": "white",
            "ticks": ""
           }
          },
          "scene": {
           "xaxis": {
            "backgroundcolor": "#E5ECF6",
            "gridcolor": "white",
            "gridwidth": 2,
            "linecolor": "white",
            "showbackground": true,
            "ticks": "",
            "zerolinecolor": "white"
           },
           "yaxis": {
            "backgroundcolor": "#E5ECF6",
            "gridcolor": "white",
            "gridwidth": 2,
            "linecolor": "white",
            "showbackground": true,
            "ticks": "",
            "zerolinecolor": "white"
           },
           "zaxis": {
            "backgroundcolor": "#E5ECF6",
            "gridcolor": "white",
            "gridwidth": 2,
            "linecolor": "white",
            "showbackground": true,
            "ticks": "",
            "zerolinecolor": "white"
           }
          },
          "shapedefaults": {
           "line": {
            "color": "#2a3f5f"
           }
          },
          "ternary": {
           "aaxis": {
            "gridcolor": "white",
            "linecolor": "white",
            "ticks": ""
           },
           "baxis": {
            "gridcolor": "white",
            "linecolor": "white",
            "ticks": ""
           },
           "bgcolor": "#E5ECF6",
           "caxis": {
            "gridcolor": "white",
            "linecolor": "white",
            "ticks": ""
           }
          },
          "title": {
           "x": 0.05
          },
          "xaxis": {
           "automargin": true,
           "gridcolor": "white",
           "linecolor": "white",
           "ticks": "",
           "title": {
            "standoff": 15
           },
           "zerolinecolor": "white",
           "zerolinewidth": 2
          },
          "yaxis": {
           "automargin": true,
           "gridcolor": "white",
           "linecolor": "white",
           "ticks": "",
           "title": {
            "standoff": 15
           },
           "zerolinecolor": "white",
           "zerolinewidth": 2
          }
         }
        },
        "title": {
         "text": "Reduce taper by 2p for all"
        },
        "xaxis": {
         "anchor": "y",
         "domain": [
          0,
          1
         ],
         "range": [
          0,
          10000
         ],
         "title": {
          "text": "Employment income"
         }
        },
        "yaxis": {
         "anchor": "x",
         "domain": [
          0,
          1
         ],
         "title": {
          "text": "Universal Credit"
         }
        }
       }
      }
     },
     "metadata": {},
     "output_type": "display_data"
    }
   ],
   "source": [
    "# Add EITC taper for all\n",
    "from policyengine_uk import Microsimulation\n",
    "from policyengine_uk.reforms.uc_change_taper_all import reform\n",
    "from eval_functions import povertycalc, avg_gain_gainer\n",
    "from policyengine_uk import Simulation, Microsimulation\n",
    "import pandas as pd\n",
    "import plotly.express as px\n",
    "eval_year=2026\n",
    "baseline = Microsimulation()\n",
    "reformed = Microsimulation(reform=reform)\n",
    "# Debug: Check if UC is actually changing\n",
    "baseline_uc = baseline.calculate(\"universal_credit\", eval_year)\n",
    "reformed_uc = reformed.calculate(\"universal_credit\", eval_year)\n",
    "print(\"baseline uc:\",baseline.calculate(\"universal_credit\", eval_year).mean())\n",
    "print(\"reformed uc:\",reformed.calculate(\"universal_credit\", eval_year).mean())\n",
    "\n",
    "revenue = reformed.calculate(\"gov_spending\", eval_year).sum() - baseline.calculate(\"gov_spending\", eval_year).sum()\n",
    "print(f\"Cost: £{round(revenue / 1e+9, 1)}bn\")\n",
    "povertycalc(baseline, eval_year, reformed)  \n",
    "avg_gain_gainer(baseline, reformed, eval_year)\n",
    "\n",
    "\n",
    "situation = {\n",
    "    \"people\": {\n",
    "        \"person\": {\n",
    "            \"age\": 26,\n",
    "        },\n",
    "        \"child\":{\n",
    "            \"age\": 5,\n",
    "        },\n",
    "    },\n",
    "    \"households\": {\n",
    "        \"household\": {\n",
    "            \"members\": [\"person\",\"child\"],\n",
    "            \"rent\": 1_000,\n",
    "        }\n",
    "    },\n",
    "    \"axes\": [[\n",
    "        {\n",
    "            \"name\": \"employment_income\",\n",
    "            \"min\": 0,\n",
    "            \"max\": 10_000,\n",
    "            \"count\": 301,\n",
    "        }\n",
    "    ]]\n",
    "}\n",
    "\n",
    "baseline = Simulation(\n",
    "    situation=situation,\n",
    ")\n",
    "\n",
    "reformed = Simulation(\n",
    "    situation=situation,\n",
    "    reform=reform,\n",
    ")\n",
    "df = pd.DataFrame()\n",
    "\n",
    "year = eval_year\n",
    "df[\"Employment income\"] = baseline.calculate(\"employment_income\", year, map_to=\"household\")\n",
    "df[\"UC (baseline)\"] = baseline.calculate(\"universal_credit\", year, map_to=\"household\")\n",
    "df[\"UC (reformed)\"] = reformed.calculate(\"universal_credit\", year, map_to=\"household\")\n",
    "# df[\"Net income (baseline)\"] = baseline.calculate(\"household_net_income\", year, map_to=\"household\")\n",
    "# df[\"Net income (reformed)\"] = reformed.calculate(\"household_net_income\", year, map_to=\"household\")\n",
    "# df[\"Marginal tax rate (baseline)\"] = baseline.calculate(\"marginal_tax_rate\", year, map_to=\"household\")\n",
    "# df[\"Marginal tax rate (reformed)\"] = reformed.calculate(\"marginal_tax_rate\", year, map_to=\"household\")\n",
    "\n",
    "fig = px.line(\n",
    "    df,\n",
    "    x=\"Employment income\",\n",
    "    y=df.columns,\n",
    "    labels={\n",
    "        \"value\": \"Universal Credit\",\n",
    "        \"Employment income\": \"Employment income\",\n",
    "    },\n",
    "    title=\"Reduce taper by 2p for all\",\n",
    ")\n",
    "fig.update_layout(xaxis_range=[0, 10_000])\n",
    "fig.show()\n"
   ]
  },
  {
   "cell_type": "code",
   "execution_count": null,
   "metadata": {},
   "outputs": [],
   "source": [
    "# Add EITC phase in + taper  \n",
    "from policyengine_uk import Microsimulation\n",
    "from policyengine_uk.reforms.uc_phase_in_plus_taper import reform\n",
    "from eval_functions import povertycalc, avg_gain_gainer\n",
    "from policyengine_uk import Simulation, Microsimulation\n",
    "import pandas as pd\n",
    "import plotly.express as px\n",
    "eval_year=2026\n",
    "baseline = Microsimulation()\n",
    "reformed = Microsimulation(reform=reform)\n",
    "# Debug: Check if UC is actually changing\n",
    "baseline_uc = baseline.calculate(\"universal_credit\", eval_year)\n",
    "reformed_uc = reformed.calculate(\"universal_credit\", eval_year)\n",
    "print(\"baseline uc:\",baseline.calculate(\"universal_credit\", eval_year).mean())\n",
    "print(\"reformed uc:\",reformed.calculate(\"universal_credit\", eval_year).mean())\n",
    "\n",
    "revenue = reformed.calculate(\"gov_spending\", eval_year).sum() - baseline.calculate(\"gov_spending\", eval_year).sum()\n",
    "print(f\"Cost: £{round(revenue / 1e+9, 1)}bn\")\n",
    "povertycalc(baseline, eval_year, reformed)  \n",
    "avg_gain_gainer(baseline, reformed, eval_year)\n",
    "\n",
    "\n",
    "situation = {\n",
    "    \"people\": {\n",
    "        \"person\": {\n",
    "            \"age\": 26,\n",
    "        },\n",
    "        \"child\":{\n",
    "            \"age\": 5,\n",
    "        },\n",
    "    },\n",
    "    \"households\": {\n",
    "        \"household\": {\n",
    "            \"members\": [\"person\",\"child\"],\n",
    "            \"rent\": 1_000,\n",
    "        }\n",
    "    },\n",
    "    \"axes\": [[\n",
    "        {\n",
    "            \"name\": \"employment_income\",\n",
    "            \"min\": 0,\n",
    "            \"max\": 10_000,\n",
    "            \"count\": 301,\n",
    "        }\n",
    "    ]]\n",
    "}\n",
    "\n",
    "baseline = Simulation(\n",
    "    situation=situation,\n",
    ")\n",
    "\n",
    "reformed = Simulation(\n",
    "    situation=situation,\n",
    "    reform=reform,\n",
    ")\n",
    "df = pd.DataFrame()\n",
    "\n",
    "year = eval_year\n",
    "df[\"Employment income\"] = baseline.calculate(\"employment_income\", year, map_to=\"household\")\n",
    "df[\"UC (baseline)\"] = baseline.calculate(\"universal_credit\", year, map_to=\"household\")\n",
    "df[\"UC (reformed)\"] = reformed.calculate(\"universal_credit\", year, map_to=\"household\")\n",
    "# df[\"Net income (baseline)\"] = baseline.calculate(\"household_net_income\", year, map_to=\"household\")\n",
    "# df[\"Net income (reformed)\"] = reformed.calculate(\"household_net_income\", year, map_to=\"household\")\n",
    "# df[\"Marginal tax rate (baseline)\"] = baseline.calculate(\"marginal_tax_rate\", year, map_to=\"household\")\n",
    "# df[\"Marginal tax rate (reformed)\"] = reformed.calculate(\"marginal_tax_rate\", year, map_to=\"household\")\n",
    "\n",
    "fig = px.line(\n",
    "    df,\n",
    "    x=\"Employment income\",\n",
    "    y=df.columns,\n",
    "    labels={\n",
    "        \"value\": \"Universal Credit\",\n",
    "        \"Employment income\": \"Employment income\",\n",
    "    },\n",
    "    title=\"Phase in at 20% for those with children\",\n",
    ")\n",
    "fig.update_layout(xaxis_range=[0, 10_000])\n",
    "fig.show()\n"
   ]
  }
 ],
 "metadata": {
  "kernelspec": {
   "display_name": "Python (PolicyEngine)",
   "language": "python",
   "name": "policyengine_venv"
  },
  "language_info": {
   "codemirror_mode": {
    "name": "ipython",
    "version": 3
   },
   "file_extension": ".py",
   "mimetype": "text/x-python",
   "name": "python",
   "nbconvert_exporter": "python",
   "pygments_lexer": "ipython3",
   "version": "3.10.6"
  }
 },
 "nbformat": 4,
 "nbformat_minor": 2
}
