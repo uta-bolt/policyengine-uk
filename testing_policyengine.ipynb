{
 "cells": [
  {
   "cell_type": "code",
   "execution_count": null,
   "metadata": {},
   "outputs": [],
   "source": [
    "# python -m venv policyengine_venv\n",
    "# source policyengine_venv/bin/activate\n",
    "# make sure to select kernel to be in the above environment\n",
    "# Install ipykernel if not already installed\n",
    "!pip install ipykernel\n",
    "!pip install python-dotenv\n",
    "# Register the environment as a kernel\n",
    "!python -m ipykernel install --user --name=policyengine_venv --display-name=\"Python (PolicyEngine)\"\n",
    "# import sys\n",
    "# print(sys.executable)  # Should show a path inside your policyengine_venv directory\n",
    "#Install policy engine\n",
    "!pip install policyengine-uk"
   ]
  },
  {
   "cell_type": "code",
   "execution_count": 3,
   "metadata": {},
   "outputs": [
    {
     "name": "stdout",
     "output_type": "stream",
     "text": [
      "Token loaded: hf_S...HLUg\n"
     ]
    }
   ],
   "source": [
    "import os\n",
    "from dotenv import load_dotenv\n",
    "# Load environment variables from .env file\n",
    "load_dotenv()\n",
    "\n",
    "# Access the token\n",
    "token = os.environ.get(\"HUGGING_FACE_TOKEN\")\n",
    "\n",
    "# Now you can use the token\n",
    "print(f\"Token loaded: {token[:4]}...{token[-4:]}\")  # Prints first and last 4 chars for verification"
   ]
  },
  {
   "cell_type": "code",
   "execution_count": 5,
   "metadata": {},
   "outputs": [
    {
     "name": "stderr",
     "output_type": "stream",
     "text": [
      "/Users/helenauta.bolt/Documents/GitHub/policyengine-uk/policyengine_venv/lib/python3.10/site-packages/tqdm/auto.py:21: TqdmWarning: IProgress not found. Please update jupyter and ipywidgets. See https://ipywidgets.readthedocs.io/en/stable/user_install.html\n",
      "  from .autonotebook import tqdm as notebook_tqdm\n"
     ]
    }
   ],
   "source": [
    "from policyengine_uk import Microsimulation\n",
    "from policyengine_uk.model_api import *\n",
    "from policyengine_core.reforms import Reform\n",
    "from policyengine_core.periods import instant\n",
    "import pandas as pd\n",
    "# LOCAL_enhanced_frs_2022_23=\"hf://policyengine/policyengine-uk-data/enhanced_frs_2022_23.h5\"\n",
    "# sim = Microsimulation(dataset=LOCAL_enhanced_frs_2022_23)\n",
    "#sim = Microsimulation(dataset=\"hf://policyengine/policyengine-uk-data/enhanced_frs_2022_23.h5\")\n",
    " "
   ]
  },
  {
   "cell_type": "code",
   "execution_count": 6,
   "metadata": {},
   "outputs": [],
   "source": [
    "# Level 1: 20 GBP pw uplift to child element of UC\n",
    "def change_tax_parameters(parameters):\n",
    "    parameters.gov.dwp.universal_credit.elements.child.amount.update(\n",
    "        start=instant(\"2026-01-01\"), stop=instant(\"2031-12-31\"), value=292.81+80.00\n",
    "    )\n",
    "    parameters.gov.dwp.universal_credit.elements.child.first.higher_amount.update(\n",
    "        start=instant(\"2026-01-01\"), stop=instant(\"2031-12-31\"), value=339.00+80.00\n",
    "    )\n",
    "    return parameters\n",
    "\n",
    "\n",
    "class reform(Reform):\n",
    "    def apply(self):\n",
    "        self.modify_parameters(change_tax_parameters)\n",
    "\n",
    "\n",
    "baseline = Microsimulation()\n",
    "reformed = Microsimulation(reform=reform)\n",
    "\n",
    "\n"
   ]
  },
  {
   "cell_type": "code",
   "execution_count": null,
   "metadata": {},
   "outputs": [],
   "source": [
    "revenue = reformed.calculate(\"gov_spending\", 2026).sum() - baseline.calculate(\"gov_spending\", 2026).sum()\n",
    "print(f\"This reform would cost £{revenue / 1e9:.2f}bn in 2026\")\n",
    "revenue = reformed.calculate(\"gov_spending\", 2029).sum() - baseline.calculate(\"gov_spending\", 2029).sum()\n",
    "print(f\"This reform would cost £{revenue / 1e9:.2f}bn in 2029\" )\n",
    "\n",
    "net_income_baseline = baseline.calculate(\"household_net_income\", 2026)\n",
    "net_income_reformed = reformed.calculate(\"household_net_income\", 2026)\n",
    "net_income_baseline_29 = baseline.calculate(\"household_net_income\", 2029)\n",
    "net_income_reformed_29 = reformed.calculate(\"household_net_income\", 2029)\n",
    "total_net_income_baseline = baseline.calculate(\"household_net_income\", 2029).sum()\n",
    "total_net_income_reformed = reformed.calculate(\"household_net_income\", 2029).sum()\n",
    "diff=total_net_income_reformed-total_net_income_baseline\n",
    "print(f\"Total net income in 2029: {diff/1e9:.2f}bn\")\n",
    "print(f\"Baseline spending 2026: £{net_income_baseline.sum() / 1e9:.2f}bn\")\n",
    "print(f\"Reformed spending 2026: £{net_income_reformed.sum()  / 1e9:.2f}bn\")\n",
    "print(f\"Baseline spending 2029: £{net_income_baseline_29.sum()  / 1e9:.2f}bn\")\n",
    "print(f\"Reformed spending 2029: £{net_income_reformed_29.sum()  / 1e9:.2f}bn\")\n"
   ]
  },
  {
   "cell_type": "code",
   "execution_count": null,
   "metadata": {},
   "outputs": [],
   "source": [
    "uc_variable = \"universal_credit\"  # \n",
    "\n",
    "uc_baseline_2026 = baseline.calculate(uc_variable, 2026).sum()\n",
    "uc_reformed_2026 = reformed.calculate(uc_variable, 2026).sum()\n",
    "uc_diff_2026 = uc_reformed_2026 - uc_baseline_2026\n",
    "\n",
    "uc_baseline_2029 = baseline.calculate(uc_variable, 2029).sum()\n",
    "uc_reformed_2029 = reformed.calculate(uc_variable, 2029).sum()\n",
    "uc_diff_2029 = uc_reformed_2029 - uc_baseline_2029\n",
    "print(f\"Universal Credit spending in 2026: Baseline: £{uc_baseline_2026 / 1e9:.2f}bn, Reformed: £{uc_reformed_2026 / 1e9:.2f}bn, Difference: £{uc_diff_2026 / 1e9:.2f}bn\")\n",
    "print(f\"Universal Credit spending in 2029: Baseline: £{uc_baseline_2029 / 1e9:.2f}bn, Reformed: £{uc_reformed_2029/ 1e9:.2f}bn, Difference: £{uc_diff_2029 / 1e9:.2f}bn\")"
   ]
  },
  {
   "cell_type": "code",
   "execution_count": null,
   "metadata": {},
   "outputs": [],
   "source": [
    "diff = net_income_reformed*net_income_reformed.weights - net_income_baseline*net_income_baseline.weights\n",
    "gainers = (diff > 0).sum()\n",
    "print(gainers)\n",
    "total=net_income_reformed.sum()-net_income_baseline.sum()\n",
    "print(f\"Avg gain of gainers 2026: {total/gainers}\")"
   ]
  },
  {
   "cell_type": "code",
   "execution_count": null,
   "metadata": {},
   "outputs": [],
   "source": [
    "diff = net_income_reformed_29*net_income_reformed_29.weights - net_income_baseline_29*net_income_baseline_29.weights\n",
    "gainers = (diff > 0).sum()\n",
    "print(gainers)\n",
    "total=net_income_reformed_29.sum()-net_income_baseline_29.sum()\n",
    "print(f\"Avg gain of gainers 2029: {total/gainers}\")"
   ]
  },
  {
   "cell_type": "code",
   "execution_count": null,
   "metadata": {},
   "outputs": [],
   "source": [
    "all_variables = baseline.tax_benefit_system.variables\n",
    "\n",
    "# Print the number of variables available\n",
    "print(f\"Total number of variables: {len(all_variables)}\")\n",
    "print(\"Sample variables:\")\n",
    "for i, var_name in enumerate(list(all_variables.keys())[:100]):\n",
    "    print(f\"  - {var_name}\")"
   ]
  },
  {
   "cell_type": "code",
   "execution_count": 21,
   "metadata": {},
   "outputs": [
    {
     "name": "stdout",
     "output_type": "stream",
     "text": [
      "Total weighted number of households: 35,238,752\n",
      "Total weighted number of people: 76,174,602\n"
     ]
    }
   ],
   "source": [
    "# Step 1: Make sure to include the weights column in your variables\n",
    "HOUSEHOLD_VARIABLES = [\"person_id\", \"household_id\", \"household_weight\", \"person_weight\"]  # Include the weight variable\n",
    "baseline_person_df = baseline.calculate_dataframe(HOUSEHOLD_VARIABLES, period=2032, use_weights=True).astype(float)\n",
    "weighted_persons= baseline_person_df[\"person_weight\"].sum()\n",
    "\n",
    "# Step 2: Create a household-level dataframe by dropping duplicate household IDs\n",
    "household_df = baseline_person_df.drop_duplicates('household_id')\n",
    "\n",
    "# Step 3: Calculate the weighted number of households\n",
    "# Sum the weights column, not the entire dataframe\n",
    "weighted_households = household_df[\"household_weight\"].sum()\n",
    "\n",
    "print(f\"Total weighted number of households: {weighted_households:,.0f}\")\n",
    "print(f\"Total weighted number of people: {weighted_persons:,.0f}\")"
   ]
  },
  {
   "cell_type": "code",
   "execution_count": null,
   "metadata": {},
   "outputs": [],
   "source": [
    "HOUSEHOLD_VARIABLES = [\"person_id\", \"household_id\", \"age\", \"household_net_income\", \"household_income_decile\", \"in_poverty\", \"household_tax\", \"household_benefits\"]\n",
    "baseline_person_df = baseline.calculate_dataframe(HOUSEHOLD_VARIABLES, 2026,use_weights=True).astype(float)\n",
    "reformed_person_df = reformed.calculate_dataframe(HOUSEHOLD_VARIABLES, 2026,use_weights=True).astype(float)\n",
    "# baseline_person_df[\"weight\"] = net_income_baseline.weights\n",
    "# household_df = baseline_person_df.drop_duplicates(\"household_id\")[[\"household_id\", \"weight\"]]\n",
    "# Calculate poverty rate before reform\n",
    "n_households=baseline.calculate(\"people\",2025).benunits.count()\n",
    "print(f\"Number of households in the simulation: {n_households}\")\n",
    "collapsed_baseline = baseline_person_df.groupby(\"household_id\").agg(in_poverty=(\"in_poverty\", \"first\"))\n",
    "poverty_before = collapsed_baseline[\"in_poverty\"].mean()  # Use mean() instead of sum()/len\n",
    "\n",
    "# Calculate poverty rate after reform\n",
    "collapsed_reform = reformed_person_df.groupby(\"household_id\").agg(in_poverty=(\"in_poverty\", \"first\"))\n",
    "poverty_after = collapsed_reform[\"in_poverty\"].mean()  # Use mean() instead of sum()/len\n",
    "diff_poverty=poverty_before-poverty_after\n",
    "print(f\"Total poverty difference: {diff_poverty}\")\n",
    "print(f\"%in poverty: {poverty_before}\")\n",
    "print(f\"% in poverty after: {poverty_after}\")\n",
    "print(f\"Total reduction of HH in poverty: {diff_poverty*28400000}\")"
   ]
  },
  {
   "cell_type": "code",
   "execution_count": null,
   "metadata": {},
   "outputs": [],
   "source": [
    "#Level2:  Work allowance increased to 1000 GBP  pa\n",
    "def change_tax_parameters(parameters):\n",
    "    # print(type(parameters.gov.dwp.universal_credit.means_test.work_allowance.with_housing))\n",
    "    # latest_value = parameters.gov.dwp.universal_credit.means_test.work_allowance.without_housing[\"values\"].get(\"2025-04-01\")\n",
    "    april_2025_date = \"2025-04-01\"\n",
    "    latest_value = parameters.gov.dwp.universal_credit.means_test.work_allowance.without_housing(april_2025_date)\n",
    "    parameters.gov.dwp.universal_credit.means_test.work_allowance.without_housing.update(\n",
    "        start=instant(\"2026-01-01\"), value=latest_value+83.33\n",
    "    )\n",
    "    latest_value = parameters.gov.dwp.universal_credit.means_test.work_allowance.with_housing(april_2025_date)\n",
    "    parameters.gov.dwp.universal_credit.means_test.work_allowance.with_housing.update(\n",
    "        start=instant(\"2026-01-01\"), value=latest_value+83.33\n",
    "    )\n",
    "    return parameters\n",
    "\n",
    "\n",
    "class reform(Reform):\n",
    "    def apply(self):\n",
    "        self.modify_parameters(change_tax_parameters)\n",
    "\n",
    "\n",
    "baseline = Microsimulation()\n",
    "reformed = Microsimulation(reform=reform)\n",
    "revenue = reformed.calculate(\"gov_spending\", 2026).sum() - baseline.calc(\"gov_spending\", 2026).sum()\n",
    "print(f\"Cost 2026: £{round(revenue / 1e+9, 1)}bn\")\n",
    "revenue = reformed.calculate(\"gov_spending\", 2029).sum() - baseline.calc(\"gov_spending\", 2029).sum()\n",
    "print(f\"Cost 2029: £{round(revenue / 1e+9, 1)}bn\")"
   ]
  },
  {
   "cell_type": "code",
   "execution_count": null,
   "metadata": {},
   "outputs": [],
   "source": [
    "#Level 2: Change child limit\n",
    "def change_tax_parameters(parameters):\n",
    "    parameters.gov.dwp.universal_credit.elements.child.limit.child_count.update(\n",
    "        start=instant(\"2026-01-01\"), value=inf\n",
    "    )\n",
    "    return parameters\n",
    "\n",
    "\n",
    "class reform(Reform):\n",
    "    def apply(self):\n",
    "        self.modify_parameters(change_tax_parameters)\n",
    "\n",
    "\n",
    "baseline = Microsimulation()\n",
    "reformed = Microsimulation(reform=reform)\n",
    "revenue = reformed.calculate(\"gov_spending\", 2026).sum() - baseline.calc(\"gov_spending\", 2026).sum()\n",
    "print(f\"Cost: £{round(revenue / 1e+9, 1)}bn\")\n",
    "revenue = reformed.calculate(\"gov_spending\", 2029).sum() - baseline.calc(\"gov_spending\", 2029).sum()\n",
    "print(f\"Cost: £{round(revenue / 1e+9, 1)}bn\")"
   ]
  },
  {
   "cell_type": "markdown",
   "metadata": {},
   "source": [
    "##RUN 2 CHILD LIMIT REFORM: "
   ]
  },
  {
   "cell_type": "code",
   "execution_count": null,
   "metadata": {},
   "outputs": [],
   "source": [
    "HOUSEHOLD_VARIABLES = [\"person_id\", \"household_id\", \"age\", \"household_net_income\", \"household_income_decile\", \"in_poverty\", \"household_tax\", \"household_benefits\"]\n",
    "baseline_person_df = baseline.calculate_dataframe(HOUSEHOLD_VARIABLES, 2026).astype(float)\n",
    "reformed_person_df = reformed.calculate_dataframe(HOUSEHOLD_VARIABLES, 2026).astype(float)\n",
    "difference_person_df = reformed_person_df - baseline_person_df\n",
    "total_net_income_baseline = baseline.calculate(\"household_net_income\", 2026).sum()\n",
    "total_net_income_reformed = reformed.calculate(\"household_net_income\", 2026).sum()\n",
    "\n",
    "net_cost = total_net_income_reformed - total_net_income_baseline\n",
    "\n",
    "print(f\"This reform would cost £{net_cost / 1e9:.1f}bn\")"
   ]
  },
  {
   "cell_type": "code",
   "execution_count": null,
   "metadata": {},
   "outputs": [],
   "source": [
    "\n",
    "def modify_parameters(parameters):\n",
    "    parameters.gov.dwp.universal_credit.standard_allowance.amount.COUPLE_OLD.update(start=instant(\"2024-01-01\"), value=738.82)\n",
    "    parameters.gov.dwp.universal_credit.standard_allowance.amount.COUPLE_YOUNG.update(start=instant(\"2024-01-01\"), value=618.51)\n",
    "    parameters.gov.dwp.universal_credit.standard_allowance.amount.SINGLE_OLD.update(start=instant(\"2024-01-01\"), value=528.74)\n",
    "    parameters.gov.dwp.universal_credit.standard_allowance.amount.SINGLE_YOUNG.update(start=instant(\"2024-01-01\"), value=452.11)\n",
    "    return parameters\n",
    "\n",
    "\n",
    "class reform(Reform):\n",
    "    def apply(self):\n",
    "        self.modify_parameters(modify_parameters)\n",
    "\n",
    "baseline = Microsimulation()\n",
    "reformed = Microsimulation(reform=reform)\n",
    "revenue = reformed.calculate(\"gov_spending\", 2025).sum() - baseline.calc(\"gov_spending\", 2025).sum()\n",
    "f\"Revenue: £{round(revenue / 1e+9, 1)}bn\"\n"
   ]
  },
  {
   "cell_type": "markdown",
   "metadata": {},
   "source": []
  }
 ],
 "metadata": {
  "kernelspec": {
   "display_name": "Python (PolicyEngine)",
   "language": "python",
   "name": "policyengine_venv"
  },
  "language_info": {
   "codemirror_mode": {
    "name": "ipython",
    "version": 3
   },
   "file_extension": ".py",
   "mimetype": "text/x-python",
   "name": "python",
   "nbconvert_exporter": "python",
   "pygments_lexer": "ipython3",
   "version": "3.10.6"
  }
 },
 "nbformat": 4,
 "nbformat_minor": 2
}
