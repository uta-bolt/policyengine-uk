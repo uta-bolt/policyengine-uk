{
 "cells": [
  {
   "cell_type": "code",
   "execution_count": null,
   "metadata": {},
   "outputs": [],
   "source": [
    "# python -m venv policyengine_venv\n",
    "# source policyengine_venv/bin/activate\n",
    "# make sure to select kernel to be in the above environment\n",
    "# Install ipykernel if not already installed\n",
    "!pip install ipykernel\n",
    "!pip install python-dotenv\n",
    "# Register the environment as a kernel\n",
    "!python -m ipykernel install --user --name=policyengine_venv --display-name=\"Python (PolicyEngine)\"\n",
    "# import sys\n",
    "# print(sys.executable)  # Should show a path inside your policyengine_venv directory\n",
    "#Install policy engine\n",
    "!pip install policyengine-uk"
   ]
  },
  {
   "cell_type": "code",
   "execution_count": null,
   "metadata": {},
   "outputs": [],
   "source": [
    "import os\n",
    "from dotenv import load_dotenv\n",
    "# Load environment variables from .env file\n",
    "load_dotenv()\n",
    "\n",
    "# Access the tokens\n",
    "token = os.environ.get(\"HUGGING_FACE_TOKEN\")\n",
    "\n",
    "# Now you can use the token\n",
    "print(f\"Token loaded: {token[:4]}...{token[-4:]}\")  # Prints first and last 4 chars for verification"
   ]
  },
  {
   "cell_type": "code",
   "execution_count": null,
   "metadata": {},
   "outputs": [],
   "source": [
    "from policyengine_uk import Microsimulation\n",
    "from policyengine_uk.model_api import *\n",
    "from policyengine_core.reforms import Reform\n",
    "from policyengine_core.periods import instant\n",
    "from policyengine_core.parameters import Parameter\n",
    "\n",
    "import pandas as pd\n",
    "# LOCAL_enhanced_frs_2022_23=\"hf://policyengine/policyengine-uk-data/enhanced_frs_2022_23.h5\"\n",
    "# sim = Microsimulation(dataset=LOCAL_enhanced_frs_2022_23)\n",
    "#sim = Microsimulation(dataset=\"hf://policyengine/policyengine-uk-data/enhanced_frs_2022_23.h5\")\n",
    " "
   ]
  },
  {
   "cell_type": "code",
   "execution_count": null,
   "metadata": {},
   "outputs": [],
   "source": [
    "# Level 1: 20 GBP pw uplift to child element of UC\n",
    "start_date= \"2029-01-01\"\n",
    "eval_year=2029\n",
    "\n",
    "def change_tax_parameters(parameters):\n",
    "    add=20.00*52/12\n",
    "    parameters.gov.dwp.universal_credit.elements.child.amount.update(\n",
    "        start=instant(start_date), value=orig_param+add\n",
    "        )\n",
    "    parameters.gov.dwp.universal_credit.elements.child.first.higher_amount.update(\n",
    "        start=instant(start_date), value=orig_param_higher+add\n",
    "    )\n",
    "    return parameters\n",
    "\n",
    "\n",
    "class reform(Reform):\n",
    "    def apply(self):\n",
    "        #self.modify_parameters(change_tax_parameters)\n",
    "        self.modify_parameters(change_tax_parameters)\n",
    "\n",
    "\n",
    "baseline = Microsimulation()\n",
    "Microsimulation()\n",
    "orig_param = baseline.tax_benefit_system.parameters.gov.dwp.universal_credit.elements.child.amount(start_date)\n",
    "orig_param_higher = baseline.tax_benefit_system.parameters.gov.dwp.universal_credit.elements.child.first.higher_amount(start_date)\n",
    "print(orig_param,orig_param_higher )\n",
    "reformed = Microsimulation(reform=reform)\n",
    "\n",
    "revenue = reformed.calculate(\"gov_spending\", eval_year).sum() - baseline.calculate(\"gov_spending\", eval_year).sum()\n",
    "print(f\"This reform would cost £{revenue / 1e9:.2f}bn in {eval_year}\")\n",
    "povertycalc(baseline, eval_year, reformed)\n",
    "avg_gain_gainer(baseline, reformed, eval_year)\n"
   ]
  },
  {
   "cell_type": "code",
   "execution_count": null,
   "metadata": {},
   "outputs": [],
   "source": [
    "#Level1b:  Work allowance increased to 1000 GBP  pa\n",
    "start_date= \"2029-01-01\"\n",
    "eval_year=2029\n",
    "\n",
    "def change_tax_parameters(parameters):\n",
    "    add=1000.00/12  # Monthly increase\n",
    "\n",
    "    parameters.gov.dwp.universal_credit.means_test.work_allowance.without_housing.update(\n",
    "        start=instant(start_date), value=orig_without_housing+add\n",
    "    )\n",
    "    parameters.gov.dwp.universal_credit.means_test.work_allowance.with_housing.update(\n",
    "        start=instant(start_date), value=orig_with_housing+add\n",
    "    )\n",
    "    return parameters\n",
    "\n",
    "\n",
    "class reform(Reform):\n",
    "    def apply(self):\n",
    "        self.modify_parameters(change_tax_parameters)\n",
    "\n",
    "\n",
    "baseline = Microsimulation()\n",
    "orig_without_housing = baseline.tax_benefit_system.parameters.gov.dwp.universal_credit.means_test.work_allowance.without_housing(start_date)\n",
    "orig_with_housing = baseline.tax_benefit_system.parameters.gov.dwp.universal_credit.means_test.work_allowance.with_housing(start_date)\n",
    "reformed = Microsimulation(reform=reform)\n",
    "revenue = reformed.calculate(\"gov_spending\", eval_year).sum() - baseline.calc(\"gov_spending\", eval_year).sum()\n",
    "print(f\"This reform would cost £{revenue / 1e9:.2f}bn in {eval_year}\")\n",
    "\n",
    "povertycalc(baseline, eval_year, reformed)\n",
    "avg_gain_gainer(baseline, reformed, eval_year)\n",
    "\n"
   ]
  },
  {
   "cell_type": "code",
   "execution_count": null,
   "metadata": {},
   "outputs": [],
   "source": [
    "#Level 1c: Change child limit\n",
    "start_date= \"2026-01-01\"\n",
    "eval_year=2026\n",
    "def change_tax_parameters(parameters):\n",
    "    parameters.gov.dwp.universal_credit.elements.child.limit.child_count.update(\n",
    "        start=instant(start_date), value=inf\n",
    "    )\n",
    "    return parameters\n",
    "\n",
    "\n",
    "class reform(Reform):\n",
    "    def apply(self):\n",
    "        self.modify_parameters(change_tax_parameters)\n",
    "\n",
    "\n",
    "baseline = Microsimulation()\n",
    "reformed = Microsimulation(reform=reform)\n",
    "revenue = reformed.calculate(\"gov_spending\", eval_year).sum() - baseline.calculate(\"gov_spending\", eval_year).sum()\n",
    "print(f\"Cost: £{round(revenue / 1e+9, 1)}bn\")\n",
    "povertycalc(baseline, eval_year, reformed)\n",
    "avg_gain_gainer(baseline, reformed, eval_year)\n"
   ]
  },
  {
   "cell_type": "code",
   "execution_count": null,
   "metadata": {},
   "outputs": [],
   "source": [
    "#Level 2b UNDER 5s premium\n",
    "from policyengine_uk import Microsimulation\n",
    "from policyengine_uk.reforms.uc_bonus_for_under5 import reform\n",
    "eval_year=2029\n",
    "baseline = Microsimulation()\n",
    "reformed = Microsimulation(reform=reform)\n",
    "print(reformed.calculate(\"num_households_with_under5\", eval_year).sum())\n",
    "print(reformed.calculate(\"universal_credit\", eval_year).mean())\n",
    "print(baseline.calculate(\"universal_credit\", eval_year).mean())\n",
    "print(f\"Number of households with at least one child under 5: {under5_households}\")\n",
    "revenue = reformed.calculate(\"gov_spending\", eval_year).sum() - baseline.calculate(\"gov_spending\", eval_year).sum()\n",
    "print(f\"Cost: £{round(revenue / 1e+9, 1)}bn\")\n",
    "povertycalc(baseline, eval_year, reformed)  \n",
    "avg_gain_gainer(baseline, reformed, eval_year)"
   ]
  },
  {
   "cell_type": "code",
   "execution_count": null,
   "metadata": {},
   "outputs": [],
   "source": [
    "#Level 3 ADD 30 HOUR WORK BONUS\n",
    "from policyengine_uk import Microsimulation\n",
    "from policyengine_uk.reforms.uc_30hour_bonus_v2 import reform\n",
    "from eval_functions import povertycalc, avg_gain_gainer\n",
    "eval_year=2026\n",
    "baseline = Microsimulation()\n",
    "NMW = baseline.tax_benefit_system.parameters.gov.hmrc.minimum_wage.OVER_24(eval_year)\n",
    "print(NMW)\n",
    "reformed = Microsimulation(reform=reform)\n",
    "# Debug: Check if UC is actually changing\n",
    "baseline_uc = baseline.calculate(\"universal_credit\", eval_year)\n",
    "reformed_uc = reformed.calculate(\"universal_credit\", eval_year)\n",
    "print(\"baseline uc:\",baseline.calculate(\"universal_credit\", eval_year).mean())\n",
    "print(\"reformed uc:\",reformed.calculate(\"universal_credit\", eval_year).mean())\n",
    "revenue = reformed.calculate(\"gov_spending\", eval_year).sum() - baseline.calculate(\"gov_spending\", eval_year).sum()\n",
    "print(f\"Cost: £{round(revenue / 1e+9, 1)}bn\")\n",
    "povertycalc(baseline, eval_year, reformed)  \n",
    "avg_gain_gainer(baseline, reformed, eval_year)"
   ]
  },
  {
   "cell_type": "code",
   "execution_count": null,
   "metadata": {},
   "outputs": [
    {
     "name": "stdout",
     "output_type": "stream",
     "text": [
      "baseline uc: 1911.24199084687\n",
      "reformed uc: 1977.077014808142\n",
      "Cost: £2.6bn\n",
      "Reduction in child poverty: 114,519 in 2026, reformed\n",
      "Avg gain of gainers 2026: 1696.5663441974175\n"
     ]
    }
   ],
   "source": [
    "# Add EITC phase in\n",
    "from policyengine_uk import Microsimulation\n",
    "from policyengine_uk.reforms.uc_phase_in import reform\n",
    "from eval_functions import povertycalc, avg_gain_gainer\n",
    "eval_year=2026\n",
    "baseline = Microsimulation()\n",
    "reformed = Microsimulation(reform=reform)\n",
    "# Debug: Check if UC is actually changing\n",
    "baseline_uc = baseline.calculate(\"universal_credit\", eval_year)\n",
    "reformed_uc = reformed.calculate(\"universal_credit\", eval_year)\n",
    "print(\"baseline uc:\",baseline.calculate(\"universal_credit\", eval_year).mean())\n",
    "print(\"reformed uc:\",reformed.calculate(\"universal_credit\", eval_year).mean())\n",
    "\n",
    "revenue = reformed.calculate(\"gov_spending\", eval_year).sum() - baseline.calculate(\"gov_spending\", eval_year).sum()\n",
    "print(f\"Cost: £{round(revenue / 1e+9, 1)}bn\")\n",
    "povertycalc(baseline, eval_year, reformed)  \n",
    "avg_gain_gainer(baseline, reformed, eval_year)\n",
    "\n"
   ]
  }
 ],
 "metadata": {
  "kernelspec": {
   "display_name": "Python (PolicyEngine)",
   "language": "python",
   "name": "policyengine_venv"
  },
  "language_info": {
   "codemirror_mode": {
    "name": "ipython",
    "version": 3
   },
   "file_extension": ".py",
   "mimetype": "text/x-python",
   "name": "python",
   "nbconvert_exporter": "python",
   "pygments_lexer": "ipython3",
   "version": "3.10.6"
  }
 },
 "nbformat": 4,
 "nbformat_minor": 2
}
