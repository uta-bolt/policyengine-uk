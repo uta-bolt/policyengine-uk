{
 "cells": [
  {
   "cell_type": "code",
   "execution_count": null,
   "metadata": {},
   "outputs": [],
   "source": [
    "# python -m venv policyengine_venv\n",
    "# source policyengine_venv/bin/activate\n",
    "# make sure to select kernel to be in the above environment\n",
    "# Install ipykernel if not already installed\n",
    "!pip install ipykernel\n",
    "!pip install python-dotenv\n",
    "# Register the environment as a kernel\n",
    "!python -m ipykernel install --user --name=policyengine_venv --display-name=\"Python (PolicyEngine)\"\n",
    "# import sys\n",
    "# print(sys.executable)  # Should show a path inside your policyengine_venv directory\n",
    "#Install policy engine\n",
    "!pip install policyengine-uk"
   ]
  },
  {
   "cell_type": "code",
   "execution_count": 1,
   "metadata": {},
   "outputs": [
    {
     "name": "stdout",
     "output_type": "stream",
     "text": [
      "Token loaded: hf_S...HLUg\n"
     ]
    }
   ],
   "source": [
    "import os\n",
    "from dotenv import load_dotenv\n",
    "# Load environment variables from .env file\n",
    "load_dotenv()\n",
    "\n",
    "# Access the token\n",
    "token = os.environ.get(\"HUGGING_FACE_TOKEN\")\n",
    "\n",
    "# Now you can use the token\n",
    "print(f\"Token loaded: {token[:4]}...{token[-4:]}\")  # Prints first and last 4 chars for verification"
   ]
  },
  {
   "cell_type": "code",
   "execution_count": 13,
   "metadata": {},
   "outputs": [],
   "source": [
    "from policyengine_uk import Microsimulation\n",
    "from policyengine_uk.model_api import *\n",
    "from policyengine_core.reforms import Reform\n",
    "from policyengine_core.periods import instant\n",
    "import pandas as pd\n",
    "# LOCAL_enhanced_frs_2022_23=\"hf://policyengine/policyengine-uk-data/enhanced_frs_2022_23.h5\"\n",
    "# sim = Microsimulation(dataset=LOCAL_enhanced_frs_2022_23)\n",
    "#sim = Microsimulation(dataset=\"hf://policyengine/policyengine-uk-data/enhanced_frs_2022_23.h5\")\n",
    " "
   ]
  },
  {
   "cell_type": "code",
   "execution_count": 24,
   "metadata": {},
   "outputs": [],
   "source": [
    "# Level 1: 20 GBP pw uplift to child element of UC\n",
    "def change_tax_parameters(parameters):\n",
    "    parameters.gov.dwp.universal_credit.elements.child.amount.update(\n",
    "        start=instant(\"2026-01-01\"), value=292.81+80.00\n",
    "    )\n",
    "    parameters.gov.dwp.universal_credit.elements.child.first.higher_amount.update(\n",
    "        start=instant(\"2026-01-01\"), value=339.00+80.00\n",
    "    )\n",
    "    return parameters\n",
    "\n",
    "\n",
    "class reform(Reform):\n",
    "    def apply(self):\n",
    "        self.modify_parameters(change_tax_parameters)\n",
    "\n",
    "\n",
    "baseline = Microsimulation()\n",
    "reformed = Microsimulation(reform=reform)\n",
    "\n",
    "\n"
   ]
  },
  {
   "cell_type": "code",
   "execution_count": 41,
   "metadata": {},
   "outputs": [
    {
     "name": "stdout",
     "output_type": "stream",
     "text": [
      "0.0\n",
      "Number of children: 13,668,940\n",
      "Number of children in poverty: 4,883,989\n",
      "Percent of children in poverty: 35.73%\n",
      "0.0\n",
      "Number of children: 13,668,940\n",
      "Number of children in poverty: 4,734,371\n",
      "Percent of children in poverty: 35.73%\n",
      "Reduction in child poverty: 149,618\n"
     ]
    }
   ],
   "source": [
    "baseline = Microsimulation()\n",
    "reformed = Microsimulation(reform=reform)\n",
    "year=2026\n",
    "# Step 1: Calculate in_poverty for everyone\n",
    "baseline_pov = baseline.calculate(\"in_relative_poverty_ahc\", year, map_to=\"person\", use_weights=True)\n",
    "ages = baseline.calculate(\"age\", year)\n",
    "weights = baseline.get_weights(\"age\", year)\n",
    "# Step 2: Create mask for children (age < 16 or < 18 as appropriate)\n",
    "is_child = ages < 16  # or < 18 depending on definition\n",
    "print(ages.min())\n",
    "# Step 3: Get child-level poverty status and weights\n",
    "child_poverty = baseline_pov[is_child]\n",
    "child_weights = weights[is_child]\n",
    "# Step 4: Calculate total number and percent of children in poverty\n",
    "num_children = child_weights.sum()\n",
    "num_children_in_poverty = (child_poverty).sum()\n",
    "percent_in_poverty = num_children_in_poverty / num_children\n",
    "print(f\"Number of children: {num_children:,.0f}\")\n",
    "print(f\"Number of children in poverty: {num_children_in_poverty:,.0f}\")\n",
    "print(f\"Percent of children in poverty: {percent_in_poverty:.2%}\")\n",
    " \n",
    "# Step 1: Calculate in_poverty for everyone\n",
    "baseline_pov = reformed.calculate(\"in_relative_poverty_ahc\", year, map_to=\"person\", use_weights=True)\n",
    "ages = reformed.calculate(\"age\", year)\n",
    "weights = reformed.get_weights(\"age\", year)\n",
    "# Step 2: Create mask for children (age < 16 or < 18 as appropriate)\n",
    "is_child = ages < 16  # or < 18 depending on definition\n",
    "print(ages.min())\n",
    "# Step 3: Get child-level poverty status and weights\n",
    "child_poverty = baseline_pov[is_child]\n",
    "child_weights = weights[is_child]\n",
    "# Step 4: Calculate total number and percent of children in poverty\n",
    "num_children = child_weights.sum()\n",
    "num_children_in_poverty_after = (child_poverty).sum()\n",
    "percent_in_poverty_after = num_children_in_poverty / num_children\n",
    "print(f\"Number of children: {num_children:,.0f}\")\n",
    "print(f\"Number of children in poverty: {num_children_in_poverty_after:,.0f}\")\n",
    "print(f\"Percent of children in poverty: {percent_in_poverty_after:.2%}\")\n",
    "print(f\"Reduction in child poverty: {num_children_in_poverty - num_children_in_poverty_after:,.0f}\")"
   ]
  },
  {
   "cell_type": "code",
   "execution_count": 42,
   "metadata": {},
   "outputs": [
    {
     "name": "stdout",
     "output_type": "stream",
     "text": [
      "This reform would cost £2.97bn in 2026\n",
      "This reform would cost £1.95bn in 2029\n",
      "Total net income in 2029: 1.95bn\n"
     ]
    }
   ],
   "source": [
    "revenue = reformed.calculate(\"gov_spending\", 2026).sum() - baseline.calculate(\"gov_spending\", 2026).sum()\n",
    "print(f\"This reform would cost £{revenue / 1e9:.2f}bn in 2026\")\n",
    "revenue = reformed.calculate(\"gov_spending\", 2029).sum() - baseline.calculate(\"gov_spending\", 2029).sum()\n",
    "print(f\"This reform would cost £{revenue / 1e9:.2f}bn in 2029\" )\n",
    "\n",
    "net_income_baseline = baseline.calculate(\"household_net_income\", 2026)\n",
    "net_income_reformed = reformed.calculate(\"household_net_income\", 2026)\n",
    "net_income_baseline_29 = baseline.calculate(\"household_net_income\", 2029)\n",
    "net_income_reformed_29 = reformed.calculate(\"household_net_income\", 2029)\n",
    "total_net_income_baseline = baseline.calculate(\"household_net_income\", 2029).sum()\n",
    "total_net_income_reformed = reformed.calculate(\"household_net_income\", 2029).sum()\n",
    "diff=total_net_income_reformed-total_net_income_baseline\n",
    "print(f\"Total net income in 2029: {diff/1e9:.2f}bn\")\n"
   ]
  },
  {
   "cell_type": "code",
   "execution_count": null,
   "metadata": {},
   "outputs": [
    {
     "name": "stdout",
     "output_type": "stream",
     "text": [
      "2057524.0241095778\n",
      "Avg gain of gainers 2026: 1442.5434090436418\n"
     ]
    }
   ],
   "source": [
    "diff = net_income_reformed*net_income_reformed.weights - net_income_baseline*net_income_baseline.weights\n",
    "gainers = (diff > 0).sum()\n",
    "total=net_income_reformed.sum()-net_income_baseline.sum()\n",
    "print(f\"Avg gain of gainers 2026: {total/gainers}\")"
   ]
  },
  {
   "cell_type": "code",
   "execution_count": 44,
   "metadata": {},
   "outputs": [
    {
     "name": "stdout",
     "output_type": "stream",
     "text": [
      "Cost 2026: £0.7bn\n",
      "Cost 2029: £0.4bn\n"
     ]
    }
   ],
   "source": [
    "#Level2:  Work allowance increased to 1000 GBP  pa\n",
    "def change_tax_parameters(parameters):\n",
    "    # print(type(parameters.gov.dwp.universal_credit.means_test.work_allowance.with_housing))\n",
    "    # latest_value = parameters.gov.dwp.universal_credit.means_test.work_allowance.without_housing[\"values\"].get(\"2025-04-01\")\n",
    "    april_2025_date = \"2025-04-01\"\n",
    "    latest_value = parameters.gov.dwp.universal_credit.means_test.work_allowance.without_housing(april_2025_date)\n",
    "    parameters.gov.dwp.universal_credit.means_test.work_allowance.without_housing.update(\n",
    "        start=instant(\"2026-01-01\"), value=latest_value+83.33\n",
    "    )\n",
    "    latest_value = parameters.gov.dwp.universal_credit.means_test.work_allowance.with_housing(april_2025_date)\n",
    "    parameters.gov.dwp.universal_credit.means_test.work_allowance.with_housing.update(\n",
    "        start=instant(\"2026-01-01\"), value=latest_value+83.33\n",
    "    )\n",
    "    return parameters\n",
    "\n",
    "\n",
    "class reform(Reform):\n",
    "    def apply(self):\n",
    "        self.modify_parameters(change_tax_parameters)\n",
    "\n",
    "\n",
    "baseline = Microsimulation()\n",
    "reformed = Microsimulation(reform=reform)\n",
    "revenue = reformed.calculate(\"gov_spending\", 2026).sum() - baseline.calc(\"gov_spending\", 2026).sum()\n",
    "print(f\"Cost 2026: £{round(revenue / 1e+9, 1)}bn\")\n",
    "revenue = reformed.calculate(\"gov_spending\", 2029).sum() - baseline.calc(\"gov_spending\", 2029).sum()\n",
    "print(f\"Cost 2029: £{round(revenue / 1e+9, 1)}bn\")"
   ]
  },
  {
   "cell_type": "code",
   "execution_count": null,
   "metadata": {},
   "outputs": [
    {
     "name": "stdout",
     "output_type": "stream",
     "text": [
      "Cost: £1.5bn\n",
      "Cost: £2.0bn\n",
      "0.0\n",
      "Number of children: 15,435,229\n",
      "Number of children in poverty: 5,344,630\n",
      "Percent of children in poverty: 34.63%\n",
      "0.0\n",
      "Number of children: 15,435,229\n",
      "Number of children in poverty: 5,180,919\n",
      "Percent of children in poverty: 33.57%\n",
      "Reduction in child poverty: 163,711\n"
     ]
    }
   ],
   "source": [
    "#Level 2: Change child limit\n",
    "def change_tax_parameters(parameters):\n",
    "    parameters.gov.dwp.universal_credit.elements.child.limit.child_count.update(\n",
    "        start=instant(\"2026-01-01\"), value=inf\n",
    "    )\n",
    "    return parameters\n",
    "\n",
    "\n",
    "class reform(Reform):\n",
    "    def apply(self):\n",
    "        self.modify_parameters(change_tax_parameters)\n",
    "\n",
    "\n",
    "baseline = Microsimulation()\n",
    "reformed = Microsimulation(reform=reform)\n",
    "revenue = reformed.calculate(\"gov_spending\", 2026).sum() - baseline.calculate(\"gov_spending\", 2026).sum()\n",
    "print(f\"Cost: £{round(revenue / 1e+9, 1)}bn\")\n",
    "revenue = reformed.calculate(\"gov_spending\", 2029).sum() - baseline.calculate(\"gov_spending\", 2029).sum()\n",
    "print(f\"Cost: £{round(revenue / 1e+9, 1)}bn\")\n",
    "#####IMPACT ON CHILD POVERTY\n",
    "year=2026\n",
    "def calc_childpov(baseline,year):\n",
    "    # Step 1: Calculate in_poverty for everyone\n",
    "    baseline_pov = baseline.calculate(\"in_relative_poverty_ahc\", year, map_to=\"person\", use_weights=True)\n",
    "    ages = baseline.calculate(\"age\", year)\n",
    "    weights = baseline.get_weights(\"age\", year)\n",
    "    # Step 2: Create mask for children (age < 16 or < 18 as appropriate)\n",
    "    is_child = ages < 16  # or < 18 depending on definition\n",
    "    print(ages.min())\n",
    "    # Step 3: Get child-level poverty status and weights\n",
    "    child_poverty = baseline_pov[is_child]\n",
    "    child_weights = weights[is_child]\n",
    "    # Step 4: Calculate total number and percent of children in poverty\n",
    "    num_children = child_weights.sum()\n",
    "    num_children_in_poverty = (child_poverty).sum()\n",
    "    percent_in_poverty = num_children_in_poverty / num_children\n",
    "    print(f\"Number of children: {num_children:,.0f}\")\n",
    "    print(f\"Number of children in poverty: {num_children_in_poverty:,.0f}\")\n",
    "    print(f\"Percent of children in poverty: {percent_in_poverty:.2%}\")\n",
    "    return num_children_in_poverty\n",
    "num_children_in_poverty_pre=calc_childpov(baseline,year)\n",
    "num_children_in_poverty_post=calc_childpov(reformed,year)\n",
    "print(f\"Reduction in child poverty: {num_children_in_poverty_pre - num_children_in_poverty_post:,.0f}\")\n",
    " "
   ]
  },
  {
   "cell_type": "code",
   "execution_count": null,
   "metadata": {},
   "outputs": [
    {
     "name": "stdout",
     "output_type": "stream",
     "text": [
      "0.0\n",
      "Number of children: 13,668,940\n",
      "Number of children in poverty: 4,883,989\n",
      "Percent of children in poverty: 35.73%\n",
      "0.0\n",
      "Number of children: 13,668,940\n",
      "Number of children in poverty: 4,723,822\n",
      "Percent of children in poverty: 35.73%\n",
      "Reduction in child poverty: 160,167\n"
     ]
    }
   ],
   "source": []
  },
  {
   "cell_type": "markdown",
   "metadata": {},
   "source": [
    "##RUN 2 CHILD LIMIT REFORM: "
   ]
  },
  {
   "cell_type": "code",
   "execution_count": null,
   "metadata": {},
   "outputs": [],
   "source": [
    "HOUSEHOLD_VARIABLES = [\"person_id\", \"household_id\", \"age\", \"household_net_income\", \"household_income_decile\", \"in_poverty\", \"household_tax\", \"household_benefits\"]\n",
    "baseline_person_df = baseline.calculate_dataframe(HOUSEHOLD_VARIABLES, 2026).astype(float)\n",
    "reformed_person_df = reformed.calculate_dataframe(HOUSEHOLD_VARIABLES, 2026).astype(float)\n",
    "difference_person_df = reformed_person_df - baseline_person_df\n",
    "total_net_income_baseline = baseline.calculate(\"household_net_income\", 2026).sum()\n",
    "total_net_income_reformed = reformed.calculate(\"household_net_income\", 2026).sum()\n",
    "\n",
    "net_cost = total_net_income_reformed - total_net_income_baseline\n",
    "\n",
    "print(f\"This reform would cost £{net_cost / 1e9:.1f}bn\")"
   ]
  },
  {
   "cell_type": "code",
   "execution_count": null,
   "metadata": {},
   "outputs": [],
   "source": [
    "\n",
    "def modify_parameters(parameters):\n",
    "    parameters.gov.dwp.universal_credit.standard_allowance.amount.COUPLE_OLD.update(start=instant(\"2024-01-01\"), value=738.82)\n",
    "    parameters.gov.dwp.universal_credit.standard_allowance.amount.COUPLE_YOUNG.update(start=instant(\"2024-01-01\"), value=618.51)\n",
    "    parameters.gov.dwp.universal_credit.standard_allowance.amount.SINGLE_OLD.update(start=instant(\"2024-01-01\"), value=528.74)\n",
    "    parameters.gov.dwp.universal_credit.standard_allowance.amount.SINGLE_YOUNG.update(start=instant(\"2024-01-01\"), value=452.11)\n",
    "    return parameters\n",
    "\n",
    "\n",
    "class reform(Reform):\n",
    "    def apply(self):\n",
    "        self.modify_parameters(modify_parameters)\n",
    "\n",
    "baseline = Microsimulation()\n",
    "reformed = Microsimulation(reform=reform)\n",
    "revenue = reformed.calculate(\"gov_spending\", 2025).sum() - baseline.calc(\"gov_spending\", 2025).sum()\n",
    "f\"Revenue: £{round(revenue / 1e+9, 1)}bn\"\n"
   ]
  },
  {
   "cell_type": "markdown",
   "metadata": {},
   "source": []
  },
  {
   "cell_type": "code",
   "execution_count": null,
   "metadata": {},
   "outputs": [],
   "source": [
    "# Step 1: Make sure to include the weights column in your variables\n",
    "HOUSEHOLD_VARIABLES = [\"person_id\", \"household_id\", \"household_weight\", \"person_weight\"]  # Include the weight variable\n",
    "baseline_person_df = baseline.calculate_dataframe(HOUSEHOLD_VARIABLES, period=2032, use_weights=True).astype(float)\n",
    "weighted_persons= baseline_person_df[\"person_weight\"].sum()\n",
    "\n",
    "# Step 2: Create a household-level dataframe by dropping duplicate household IDs\n",
    "household_df = baseline_person_df.drop_duplicates('household_id')\n",
    "\n",
    "# Step 3: Calculate the weighted number of households\n",
    "# Sum the weights column, not the entire dataframe\n",
    "weighted_households = household_df[\"household_weight\"].sum()\n",
    "\n",
    "print(f\"Total weighted number of households: {weighted_households:,.0f}\")\n",
    "print(f\"Total weighted number of people: {weighted_persons:,.0f}\")"
   ]
  }
 ],
 "metadata": {
  "kernelspec": {
   "display_name": "Python (PolicyEngine)",
   "language": "python",
   "name": "policyengine_venv"
  },
  "language_info": {
   "codemirror_mode": {
    "name": "ipython",
    "version": 3
   },
   "file_extension": ".py",
   "mimetype": "text/x-python",
   "name": "python",
   "nbconvert_exporter": "python",
   "pygments_lexer": "ipython3",
   "version": "3.10.6"
  }
 },
 "nbformat": 4,
 "nbformat_minor": 2
}
