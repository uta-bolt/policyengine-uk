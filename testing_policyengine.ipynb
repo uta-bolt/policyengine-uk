{
 "cells": [
  {
   "cell_type": "code",
   "execution_count": null,
   "metadata": {},
   "outputs": [],
   "source": [
    "# python -m venv policyengine_venv\n",
    "# source policyengine_venv/bin/activate\n",
    "# make sure to select kernel to be in the above environment\n",
    "# Install ipykernel if not already installed\n",
    "!pip install ipykernel\n",
    "!pip install python-dotenv\n",
    "# Register the environment as a kernel\n",
    "!python -m ipykernel install --user --name=policyengine_venv --display-name=\"Python (PolicyEngine)\"\n",
    "# import sys\n",
    "# print(sys.executable)  # Should show a path inside your policyengine_venv directory\n",
    "#Install policy engine\n",
    "!pip install policyengine-uk"
   ]
  },
  {
   "cell_type": "code",
   "execution_count": null,
   "metadata": {},
   "outputs": [],
   "source": [
    "import os\n",
    "from dotenv import load_dotenv\n",
    "# Load environment variables from .env file\n",
    "load_dotenv()\n",
    "\n",
    "# Access the token\n",
    "token = os.environ.get(\"HUGGING_FACE_TOKEN\")\n",
    "\n",
    "# Now you can use the token\n",
    "print(f\"Token loaded: {token[:4]}...{token[-4:]}\")  # Prints first and last 4 chars for verification"
   ]
  },
  {
   "cell_type": "code",
   "execution_count": null,
   "metadata": {},
   "outputs": [],
   "source": [
    "from policyengine_uk import Microsimulation\n",
    "from policyengine_uk.model_api import *\n",
    "from policyengine_core.reforms import Reform\n",
    "from policyengine_core.periods import instant\n",
    "import pandas as pd\n",
    "# LOCAL_enhanced_frs_2022_23=\"hf://policyengine/policyengine-uk-data/enhanced_frs_2022_23.h5\"\n",
    "# sim = Microsimulation(dataset=LOCAL_enhanced_frs_2022_23)\n",
    "sim = Microsimulation(dataset=\"hf://policyengine/policyengine-uk-data/enhanced_frs_2022_23.h5\")\n",
    " "
   ]
  },
  {
   "cell_type": "code",
   "execution_count": null,
   "metadata": {},
   "outputs": [],
   "source": [
    "# Level 1: 20 GBP pw uplift to child element of UC\n",
    "def change_tax_parameters(parameters):\n",
    "    parameters.gov.dwp.universal_credit.elements.child.amount.update(\n",
    "        start=instant(\"2026-01-01\"), value=292.81+80.00\n",
    "    )\n",
    "    return parameters\n",
    "\n",
    "\n",
    "class reform(Reform):\n",
    "    def apply(self):\n",
    "        self.modify_parameters(change_tax_parameters)\n",
    "\n",
    "\n",
    "baseline = Microsimulation()\n",
    "reformed = Microsimulation(reform=reform)\n",
    "revenue = reformed.calculate(\"gov_spending\", 2026).sum() - baseline.calc(\"gov_spending\", 2026).sum()\n",
    "f\"Cost: £{round(revenue / 1e+9, 1)}bn\""
   ]
  },
  {
   "cell_type": "code",
   "execution_count": null,
   "metadata": {},
   "outputs": [],
   "source": [
    "#Level2:  Work allowance increased to 1000 GBP  pa\n",
    "def change_tax_parameters(parameters):\n",
    "    latest_value = parameters.gov.dwp.universal_credit.means_test.work_allowance.without_housing[\"2025-04-01\"]\n",
    "    parameters.gov.dwp.universal_credit.means_test.work_allowance.without_housing.update(\n",
    "        start=instant(\"2026-01-01\"), value=83.33\n",
    "    )\n",
    "    latest_value = parameters.gov.dwp.universal_credit.means_test.work_allowance.with_housing[\"2025-04-01\"]\n",
    "    parameters.gov.dwp.universal_credit.means_test.work_allowance.with_housing.update(\n",
    "        start=instant(\"2026-01-01\"), value=83.33\n",
    "    )\n",
    "    return parameters\n",
    "\n",
    "\n",
    "class reform(Reform):\n",
    "    def apply(self):\n",
    "        self.modify_parameters(change_tax_parameters)\n",
    "\n",
    "\n",
    "baseline = Microsimulation()\n",
    "reformed = Microsimulation(reform=reform)\n",
    "revenue = reformed.calculate(\"gov_spending\", 2026).sum() - baseline.calc(\"gov_spending\", 2026).sum()\n",
    "f\"Cost: £{round(revenue / 1e+9, 1)}bn\""
   ]
  },
  {
   "cell_type": "code",
   "execution_count": null,
   "metadata": {},
   "outputs": [],
   "source": [
    "#Level 2: Change child limit\n",
    "def change_tax_parameters(parameters):\n",
    "    parameters.gov.dwp.universal_credit.elements.child.limit.child_count.update(\n",
    "        start=instant(\"2026-01-01\"), value=inf\n",
    "    )\n",
    "    return parameters\n",
    "\n",
    "\n",
    "class reform(Reform):\n",
    "    def apply(self):\n",
    "        self.modify_parameters(change_tax_parameters)\n",
    "\n",
    "\n",
    "baseline = Microsimulation()\n",
    "reformed = Microsimulation(reform=reform)\n",
    "revenue = reformed.calculate(\"gov_spending\", 2026).sum() - baseline.calc(\"gov_spending\", 2026).sum()\n",
    "f\"Cost: £{round(revenue / 1e+9, 1)}bn\""
   ]
  },
  {
   "cell_type": "code",
   "execution_count": 38,
   "metadata": {},
   "outputs": [
    {
     "ename": "AttributeError",
     "evalue": "module 'policyengine_uk.variables.gov.dwp.universal_credit.child_element.uc_child_element' has no attribute 'adds'",
     "output_type": "error",
     "traceback": [
      "\u001b[0;31m---------------------------------------------------------------------------\u001b[0m",
      "\u001b[0;31mAttributeError\u001b[0m                            Traceback (most recent call last)",
      "Cell \u001b[0;32mIn[38], line 5\u001b[0m\n\u001b[1;32m      2\u001b[0m \u001b[38;5;28;01mfrom\u001b[39;00m\u001b[38;5;250m \u001b[39m\u001b[38;5;21;01mpolicyengine_uk\u001b[39;00m\u001b[38;5;21;01m.\u001b[39;00m\u001b[38;5;21;01mreforms\u001b[39;00m\u001b[38;5;21;01m.\u001b[39;00m\u001b[38;5;21;01muc_bonus_for_under5\u001b[39;00m\u001b[38;5;250m \u001b[39m\u001b[38;5;28;01mimport\u001b[39;00m AddUCChildUnder5Bonus\n\u001b[1;32m      4\u001b[0m baseline \u001b[38;5;241m=\u001b[39m Microsimulation()\n\u001b[0;32m----> 5\u001b[0m reform \u001b[38;5;241m=\u001b[39m \u001b[43mAddUCChildUnder5Bonus\u001b[49m\u001b[43m(\u001b[49m\u001b[43mbaseline\u001b[49m\u001b[38;5;241;43m.\u001b[39;49m\u001b[43mtax_benefit_system\u001b[49m\u001b[43m)\u001b[49m\n\u001b[1;32m      6\u001b[0m reformed \u001b[38;5;241m=\u001b[39m Microsimulation(reform\u001b[38;5;241m=\u001b[39mreform)\n\u001b[1;32m      8\u001b[0m reformed\u001b[38;5;241m.\u001b[39mcalculate(\u001b[38;5;124m\"\u001b[39m\u001b[38;5;124muniversal_credit\u001b[39m\u001b[38;5;124m\"\u001b[39m, \u001b[38;5;124m\"\u001b[39m\u001b[38;5;124m2025-05\u001b[39m\u001b[38;5;124m\"\u001b[39m)\n",
      "File \u001b[0;32m~/Documents/GitHub/policyengine-uk/policyengine_venv/lib/python3.10/site-packages/policyengine_core/reforms/reform.py:85\u001b[0m, in \u001b[0;36mReform.__init__\u001b[0;34m(self, baseline)\u001b[0m\n\u001b[1;32m     81\u001b[0m \u001b[38;5;28;01mif\u001b[39;00m \u001b[38;5;129;01mnot\u001b[39;00m \u001b[38;5;28mhasattr\u001b[39m(\u001b[38;5;28mself\u001b[39m, \u001b[38;5;124m\"\u001b[39m\u001b[38;5;124mapply\u001b[39m\u001b[38;5;124m\"\u001b[39m):\n\u001b[1;32m     82\u001b[0m     \u001b[38;5;28;01mraise\u001b[39;00m \u001b[38;5;167;01mException\u001b[39;00m(\n\u001b[1;32m     83\u001b[0m         \u001b[38;5;124m\"\u001b[39m\u001b[38;5;124mReform \u001b[39m\u001b[38;5;132;01m{}\u001b[39;00m\u001b[38;5;124m must define an `apply` function\u001b[39m\u001b[38;5;124m\"\u001b[39m\u001b[38;5;241m.\u001b[39mformat(\u001b[38;5;28mself\u001b[39m\u001b[38;5;241m.\u001b[39mkey)\n\u001b[1;32m     84\u001b[0m     )\n\u001b[0;32m---> 85\u001b[0m \u001b[38;5;28;43mself\u001b[39;49m\u001b[38;5;241;43m.\u001b[39;49m\u001b[43mapply\u001b[49m\u001b[43m(\u001b[49m\u001b[43m)\u001b[49m\n",
      "File \u001b[0;32m~/Documents/GitHub/policyengine-uk/policyengine_uk/reforms/uc_bonus_for_under5.py:22\u001b[0m, in \u001b[0;36mAddUCChildUnder5Bonus.apply\u001b[0;34m(self)\u001b[0m\n\u001b[1;32m     21\u001b[0m \u001b[38;5;28;01mdef\u001b[39;00m\u001b[38;5;250m \u001b[39m\u001b[38;5;21mapply\u001b[39m(\u001b[38;5;28mself\u001b[39m):\n\u001b[0;32m---> 22\u001b[0m     \u001b[38;5;28;01mclass\u001b[39;00m\u001b[38;5;250m \u001b[39m\u001b[38;5;21;01mmodified_uc_child_element\u001b[39;00m(uc_child_element):\n\u001b[1;32m     23\u001b[0m         adds \u001b[38;5;241m=\u001b[39m uc_child_element\u001b[38;5;241m.\u001b[39madds \u001b[38;5;241m+\u001b[39m [\u001b[38;5;124m\"\u001b[39m\u001b[38;5;124muc_child_element_bonus_under_5\u001b[39m\u001b[38;5;124m\"\u001b[39m]\n\u001b[1;32m     25\u001b[0m     \u001b[38;5;28mself\u001b[39m\u001b[38;5;241m.\u001b[39mmodify_variable(uc_child_element, modified_uc_child_element)\n",
      "File \u001b[0;32m~/Documents/GitHub/policyengine-uk/policyengine_uk/reforms/uc_bonus_for_under5.py:23\u001b[0m, in \u001b[0;36mAddUCChildUnder5Bonus.apply.<locals>.modified_uc_child_element\u001b[0;34m()\u001b[0m\n\u001b[1;32m     22\u001b[0m \u001b[38;5;28;01mclass\u001b[39;00m\u001b[38;5;250m \u001b[39m\u001b[38;5;21;01mmodified_uc_child_element\u001b[39;00m(uc_child_element):\n\u001b[0;32m---> 23\u001b[0m     adds \u001b[38;5;241m=\u001b[39m \u001b[43muc_child_element\u001b[49m\u001b[38;5;241;43m.\u001b[39;49m\u001b[43madds\u001b[49m \u001b[38;5;241m+\u001b[39m [\u001b[38;5;124m\"\u001b[39m\u001b[38;5;124muc_child_element_bonus_under_5\u001b[39m\u001b[38;5;124m\"\u001b[39m]\n",
      "\u001b[0;31mAttributeError\u001b[0m: module 'policyengine_uk.variables.gov.dwp.universal_credit.child_element.uc_child_element' has no attribute 'adds'"
     ]
    }
   ],
   "source": [
    "from policyengine_uk import Microsimulation\n",
    "from policyengine_uk.reforms.uc_bonus_for_under5 import AddUCChildUnder5Bonus\n",
    "\n",
    "baseline = Microsimulation()\n",
    "reform = AddUCChildUnder5Bonus(baseline.tax_benefit_system)\n",
    "reformed = Microsimulation(reform=reform)\n",
    "\n",
    "reformed.calculate(\"universal_credit\", \"2025-05\")"
   ]
  },
  {
   "cell_type": "code",
   "execution_count": null,
   "metadata": {},
   "outputs": [],
   "source": []
  },
  {
   "cell_type": "code",
   "execution_count": null,
   "metadata": {},
   "outputs": [],
   "source": [
    "HOUSEHOLD_VARIABLES = [\"person_id\", \"household_id\", \"age\", \"household_net_income\", \"household_income_decile\", \"in_poverty\", \"household_tax\", \"household_benefits\"]\n",
    "baseline_person_df = baseline.calculate_dataframe(HOUSEHOLD_VARIABLES, 2026).astype(float)\n",
    "reformed_person_df = reformed.calculate_dataframe(HOUSEHOLD_VARIABLES, 2026).astype(float)\n",
    "difference_person_df = reformed_person_df - baseline_person_df\n",
    "total_net_income_baseline = baseline.calculate(\"household_net_income\", 2026).sum()\n",
    "total_net_income_reformed = reformed.calculate(\"household_net_income\", 2026).sum()\n",
    "\n",
    "net_cost = total_net_income_reformed - total_net_income_baseline\n",
    "\n",
    "print(f\"This reform would cost £{net_cost / 1e9:.1f}bn\")"
   ]
  },
  {
   "cell_type": "code",
   "execution_count": null,
   "metadata": {},
   "outputs": [],
   "source": [
    "\n",
    "def modify_parameters(parameters):\n",
    "    parameters.gov.dwp.universal_credit.standard_allowance.amount.COUPLE_OLD.update(start=instant(\"2024-01-01\"), value=738.82)\n",
    "    parameters.gov.dwp.universal_credit.standard_allowance.amount.COUPLE_YOUNG.update(start=instant(\"2024-01-01\"), value=618.51)\n",
    "    parameters.gov.dwp.universal_credit.standard_allowance.amount.SINGLE_OLD.update(start=instant(\"2024-01-01\"), value=528.74)\n",
    "    parameters.gov.dwp.universal_credit.standard_allowance.amount.SINGLE_YOUNG.update(start=instant(\"2024-01-01\"), value=452.11)\n",
    "    return parameters\n",
    "\n",
    "\n",
    "class reform(Reform):\n",
    "    def apply(self):\n",
    "        self.modify_parameters(modify_parameters)\n",
    "\n",
    "baseline = Microsimulation()\n",
    "reformed = Microsimulation(reform=reform)\n",
    "revenue = reformed.calculate(\"gov_spending\", 2025).sum() - baseline.calc(\"gov_spending\", 2025).sum()\n",
    "f\"Revenue: £{round(revenue / 1e+9, 1)}bn\""
   ]
  },
  {
   "cell_type": "markdown",
   "metadata": {},
   "source": []
  }
 ],
 "metadata": {
  "kernelspec": {
   "display_name": "policyengine_venv",
   "language": "python",
   "name": "python3"
  },
  "language_info": {
   "codemirror_mode": {
    "name": "ipython",
    "version": 3
   },
   "file_extension": ".py",
   "mimetype": "text/x-python",
   "name": "python",
   "nbconvert_exporter": "python",
   "pygments_lexer": "ipython3",
   "version": "3.10.6"
  }
 },
 "nbformat": 4,
 "nbformat_minor": 2
}
