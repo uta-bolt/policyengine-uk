{
 "cells": [
  {
   "cell_type": "code",
   "execution_count": null,
   "metadata": {},
   "outputs": [],
   "source": [
    "# python -m venv policyengine_venv\n",
    "# source policyengine_venv/bin/activate\n",
    "# make sure to select kernel to be in the above environment\n",
    "# Install ipykernel if not already installed\n",
    "!pip install ipykernel\n",
    "!pip install python-dotenv\n",
    "# Register the environment as a kernel\n",
    "!python -m ipykernel install --user --name=policyengine_venv --display-name=\"Python (PolicyEngine)\"\n",
    "# import sys\n",
    "# print(sys.executable)  # Should show a path inside your policyengine_venv directory\n",
    "#Install policy engine\n",
    "!pip install policyengine-uk"
   ]
  },
  {
   "cell_type": "code",
   "execution_count": null,
   "metadata": {},
   "outputs": [
    {
     "name": "stdout",
     "output_type": "stream",
     "text": [
      "Token loaded: hf_S...HLUg\n"
     ]
    }
   ],
   "source": [
    "import os\n",
    "from dotenv import load_dotenv\n",
    "# Load environment variables from .env file\n",
    "load_dotenv()\n",
    "\n",
    "# Access the token\n",
    "token = os.environ.get(\"HUGGING_FACE_TOKEN\")\n",
    "\n",
    "# Now you can use the token\n",
    "print(f\"Token loaded: {token[:4]}...{token[-4:]}\")  # Prints first and last 4 chars for verification"
   ]
  },
  {
   "cell_type": "code",
   "execution_count": 1,
   "metadata": {},
   "outputs": [
    {
     "name": "stderr",
     "output_type": "stream",
     "text": [
      "/Users/helenauta.bolt/Documents/GitHub/policyengine-uk/policyengine_venv/lib/python3.10/site-packages/tqdm/auto.py:21: TqdmWarning: IProgress not found. Please update jupyter and ipywidgets. See https://ipywidgets.readthedocs.io/en/stable/user_install.html\n",
      "  from .autonotebook import tqdm as notebook_tqdm\n"
     ]
    }
   ],
   "source": [
    "from policyengine_uk import Microsimulation\n",
    "from policyengine_uk.model_api import *\n",
    "from policyengine_core.reforms import Reform\n",
    "from policyengine_core.periods import instant\n",
    "import pandas as pd\n",
    "# LOCAL_enhanced_frs_2022_23=\"hf://policyengine/policyengine-uk-data/enhanced_frs_2022_23.h5\"\n",
    "# sim = Microsimulation(dataset=LOCAL_enhanced_frs_2022_23)\n",
    "sim = Microsimulation(dataset=\"hf://policyengine/policyengine-uk-data/enhanced_frs_2022_23.h5\")\n",
    " "
   ]
  },
  {
   "cell_type": "code",
   "execution_count": null,
   "metadata": {},
   "outputs": [
    {
     "data": {
      "text/plain": [
       "'Cost: £1.9bn'"
      ]
     },
     "execution_count": 24,
     "metadata": {},
     "output_type": "execute_result"
    }
   ],
   "source": [
    "# Level 1: 20 GBP pw uplift to child element of UC\n",
    "def change_tax_parameters(parameters):\n",
    "    parameters.gov.dwp.universal_credit.elements.child.amount.update(\n",
    "        start=instant(\"2026-01-01\"), value=292.81+80.00\n",
    "    )\n",
    "    return parameters\n",
    "\n",
    "\n",
    "class reform(Reform):\n",
    "    def apply(self):\n",
    "        self.modify_parameters(change_tax_parameters)\n",
    "\n",
    "\n",
    "baseline = Microsimulation()\n",
    "reformed = Microsimulation(reform=reform)\n",
    "revenue = reformed.calculate(\"gov_spending\", 2026).sum() - baseline.calc(\"gov_spending\", 2026).sum()\n",
    "f\"Cost: £{round(revenue / 1e+9, 1)}bn\""
   ]
  },
  {
   "cell_type": "code",
   "execution_count": 35,
   "metadata": {},
   "outputs": [
    {
     "ename": "TypeError",
     "evalue": "'Parameter' object is not subscriptable",
     "output_type": "error",
     "traceback": [
      "\u001b[0;31m---------------------------------------------------------------------------\u001b[0m",
      "\u001b[0;31mTypeError\u001b[0m                                 Traceback (most recent call last)",
      "Cell \u001b[0;32mIn[35], line 20\u001b[0m\n\u001b[1;32m     16\u001b[0m         \u001b[38;5;28mself\u001b[39m\u001b[38;5;241m.\u001b[39mmodify_parameters(change_tax_parameters)\n\u001b[1;32m     19\u001b[0m baseline \u001b[38;5;241m=\u001b[39m Microsimulation()\n\u001b[0;32m---> 20\u001b[0m reformed \u001b[38;5;241m=\u001b[39m \u001b[43mMicrosimulation\u001b[49m\u001b[43m(\u001b[49m\u001b[43mreform\u001b[49m\u001b[38;5;241;43m=\u001b[39;49m\u001b[43mreform\u001b[49m\u001b[43m)\u001b[49m\n\u001b[1;32m     21\u001b[0m revenue \u001b[38;5;241m=\u001b[39m reformed\u001b[38;5;241m.\u001b[39mcalculate(\u001b[38;5;124m\"\u001b[39m\u001b[38;5;124mgov_spending\u001b[39m\u001b[38;5;124m\"\u001b[39m, \u001b[38;5;241m2026\u001b[39m)\u001b[38;5;241m.\u001b[39msum() \u001b[38;5;241m-\u001b[39m baseline\u001b[38;5;241m.\u001b[39mcalc(\u001b[38;5;124m\"\u001b[39m\u001b[38;5;124mgov_spending\u001b[39m\u001b[38;5;124m\"\u001b[39m, \u001b[38;5;241m2026\u001b[39m)\u001b[38;5;241m.\u001b[39msum()\n\u001b[1;32m     22\u001b[0m \u001b[38;5;124mf\u001b[39m\u001b[38;5;124m\"\u001b[39m\u001b[38;5;124mCost: £\u001b[39m\u001b[38;5;132;01m{\u001b[39;00m\u001b[38;5;28mround\u001b[39m(revenue\u001b[38;5;250m \u001b[39m\u001b[38;5;241m/\u001b[39m\u001b[38;5;250m \u001b[39m\u001b[38;5;241m1e+9\u001b[39m,\u001b[38;5;250m \u001b[39m\u001b[38;5;241m1\u001b[39m)\u001b[38;5;132;01m}\u001b[39;00m\u001b[38;5;124mbn\u001b[39m\u001b[38;5;124m\"\u001b[39m\n",
      "File \u001b[0;32m~/Documents/GitHub/policyengine-uk/policyengine_uk/system.py:160\u001b[0m, in \u001b[0;36mMicrosimulation.__init__\u001b[0;34m(self, dataset, *args, **kwargs)\u001b[0m\n\u001b[1;32m    159\u001b[0m \u001b[38;5;28;01mdef\u001b[39;00m\u001b[38;5;250m \u001b[39m\u001b[38;5;21m__init__\u001b[39m(\u001b[38;5;28mself\u001b[39m, \u001b[38;5;241m*\u001b[39margs, dataset\u001b[38;5;241m=\u001b[39mENHANCED_FRS, \u001b[38;5;241m*\u001b[39m\u001b[38;5;241m*\u001b[39mkwargs):\n\u001b[0;32m--> 160\u001b[0m     \u001b[38;5;28;43msuper\u001b[39;49m\u001b[43m(\u001b[49m\u001b[43m)\u001b[49m\u001b[38;5;241;43m.\u001b[39;49m\u001b[38;5;21;43m__init__\u001b[39;49m\u001b[43m(\u001b[49m\u001b[38;5;241;43m*\u001b[39;49m\u001b[43margs\u001b[49m\u001b[43m,\u001b[49m\u001b[43m \u001b[49m\u001b[43mdataset\u001b[49m\u001b[38;5;241;43m=\u001b[39;49m\u001b[43mdataset\u001b[49m\u001b[43m,\u001b[49m\u001b[43m \u001b[49m\u001b[38;5;241;43m*\u001b[39;49m\u001b[38;5;241;43m*\u001b[39;49m\u001b[43mkwargs\u001b[49m\u001b[43m)\u001b[49m\n\u001b[1;32m    162\u001b[0m     reform \u001b[38;5;241m=\u001b[39m create_structural_reforms_from_parameters(\n\u001b[1;32m    163\u001b[0m         \u001b[38;5;28mself\u001b[39m\u001b[38;5;241m.\u001b[39mtax_benefit_system\u001b[38;5;241m.\u001b[39mparameters, \u001b[38;5;124m\"\u001b[39m\u001b[38;5;124m2023-01-01\u001b[39m\u001b[38;5;124m\"\u001b[39m\n\u001b[1;32m    164\u001b[0m     )\n\u001b[1;32m    165\u001b[0m     \u001b[38;5;28;01mif\u001b[39;00m reform \u001b[38;5;129;01mis\u001b[39;00m \u001b[38;5;129;01mnot\u001b[39;00m \u001b[38;5;28;01mNone\u001b[39;00m:\n",
      "File \u001b[0;32m~/Documents/GitHub/policyengine-uk/policyengine_venv/lib/python3.10/site-packages/policyengine_core/simulations/simulation.py:100\u001b[0m, in \u001b[0;36mSimulation.__init__\u001b[0;34m(self, tax_benefit_system, populations, situation, dataset, reform, trace)\u001b[0m\n\u001b[1;32m     98\u001b[0m         tax_benefit_system \u001b[38;5;241m=\u001b[39m \u001b[38;5;28mself\u001b[39m\u001b[38;5;241m.\u001b[39mdefault_tax_benefit_system_instance\n\u001b[1;32m     99\u001b[0m     \u001b[38;5;28;01melse\u001b[39;00m:\n\u001b[0;32m--> 100\u001b[0m         tax_benefit_system \u001b[38;5;241m=\u001b[39m \u001b[38;5;28;43mself\u001b[39;49m\u001b[38;5;241;43m.\u001b[39;49m\u001b[43mdefault_tax_benefit_system\u001b[49m\u001b[43m(\u001b[49m\n\u001b[1;32m    101\u001b[0m \u001b[43m            \u001b[49m\u001b[43mreform\u001b[49m\u001b[38;5;241;43m=\u001b[39;49m\u001b[43mreform\u001b[49m\n\u001b[1;32m    102\u001b[0m \u001b[43m        \u001b[49m\u001b[43m)\u001b[49m\n\u001b[1;32m    103\u001b[0m     \u001b[38;5;28mself\u001b[39m\u001b[38;5;241m.\u001b[39mtax_benefit_system \u001b[38;5;241m=\u001b[39m tax_benefit_system\n\u001b[1;32m    105\u001b[0m \u001b[38;5;28mself\u001b[39m\u001b[38;5;241m.\u001b[39mreform \u001b[38;5;241m=\u001b[39m reform\n",
      "File \u001b[0;32m~/Documents/GitHub/policyengine-uk/policyengine_uk/system.py:88\u001b[0m, in \u001b[0;36mCountryTaxBenefitSystem.__init__\u001b[0;34m(self, reform)\u001b[0m\n\u001b[1;32m     84\u001b[0m \u001b[38;5;28mself\u001b[39m\u001b[38;5;241m.\u001b[39mparameters_dir \u001b[38;5;241m=\u001b[39m COUNTRY_DIR \u001b[38;5;241m/\u001b[39m \u001b[38;5;124m\"\u001b[39m\u001b[38;5;124mparameters\u001b[39m\u001b[38;5;124m\"\u001b[39m\n\u001b[1;32m     86\u001b[0m \u001b[38;5;28mself\u001b[39m\u001b[38;5;241m.\u001b[39mload_parameters(\u001b[38;5;28mself\u001b[39m\u001b[38;5;241m.\u001b[39mparameters_dir)\n\u001b[0;32m---> 88\u001b[0m \u001b[38;5;28;43mself\u001b[39;49m\u001b[38;5;241;43m.\u001b[39;49m\u001b[43mprocess_parameters\u001b[49m\u001b[43m(\u001b[49m\u001b[43mreform\u001b[49m\u001b[38;5;241;43m=\u001b[39;49m\u001b[43mreform\u001b[49m\u001b[43m)\u001b[49m\n",
      "File \u001b[0;32m~/Documents/GitHub/policyengine-uk/policyengine_uk/system.py:63\u001b[0m, in \u001b[0;36mCountryTaxBenefitSystem.process_parameters\u001b[0;34m(self, reform)\u001b[0m\n\u001b[1;32m     61\u001b[0m \u001b[38;5;28mself\u001b[39m\u001b[38;5;241m.\u001b[39mparameters\u001b[38;5;241m.\u001b[39madd_child(\u001b[38;5;124m\"\u001b[39m\u001b[38;5;124mbaseline\u001b[39m\u001b[38;5;124m\"\u001b[39m, \u001b[38;5;28mself\u001b[39m\u001b[38;5;241m.\u001b[39mparameters\u001b[38;5;241m.\u001b[39mclone())\n\u001b[1;32m     62\u001b[0m \u001b[38;5;28;01mif\u001b[39;00m reform:\n\u001b[0;32m---> 63\u001b[0m     \u001b[38;5;28;43mself\u001b[39;49m\u001b[38;5;241;43m.\u001b[39;49m\u001b[43mapply_reform_set\u001b[49m\u001b[43m(\u001b[49m\u001b[43mreform\u001b[49m\u001b[43m)\u001b[49m\n\u001b[1;32m     64\u001b[0m \u001b[38;5;28mself\u001b[39m\u001b[38;5;241m.\u001b[39mparameters \u001b[38;5;241m=\u001b[39m homogenize_parameter_structures(\n\u001b[1;32m     65\u001b[0m     \u001b[38;5;28mself\u001b[39m\u001b[38;5;241m.\u001b[39mparameters, \u001b[38;5;28mself\u001b[39m\u001b[38;5;241m.\u001b[39mvariables\n\u001b[1;32m     66\u001b[0m )\n\u001b[1;32m     67\u001b[0m \u001b[38;5;28mself\u001b[39m\u001b[38;5;241m.\u001b[39mparameters \u001b[38;5;241m=\u001b[39m propagate_parameter_metadata(\u001b[38;5;28mself\u001b[39m\u001b[38;5;241m.\u001b[39mparameters)\n",
      "File \u001b[0;32m~/Documents/GitHub/policyengine-uk/policyengine_venv/lib/python3.10/site-packages/policyengine_core/taxbenefitsystems/tax_benefit_system.py:156\u001b[0m, in \u001b[0;36mTaxBenefitSystem.apply_reform_set\u001b[0;34m(self, reform)\u001b[0m\n\u001b[1;32m    153\u001b[0m     \u001b[38;5;28;01mfrom\u001b[39;00m\u001b[38;5;250m \u001b[39m\u001b[38;5;21;01mpolicyengine_core\u001b[39;00m\u001b[38;5;21;01m.\u001b[39;00m\u001b[38;5;21;01mreforms\u001b[39;00m\u001b[38;5;250m \u001b[39m\u001b[38;5;28;01mimport\u001b[39;00m Reform\n\u001b[1;32m    155\u001b[0m     reform \u001b[38;5;241m=\u001b[39m Reform\u001b[38;5;241m.\u001b[39mfrom_dict(reform)\n\u001b[0;32m--> 156\u001b[0m \u001b[43mreform\u001b[49m\u001b[38;5;241;43m.\u001b[39;49m\u001b[43mapply\u001b[49m\u001b[43m(\u001b[49m\u001b[38;5;28;43mself\u001b[39;49m\u001b[43m)\u001b[49m\n",
      "Cell \u001b[0;32mIn[35], line 16\u001b[0m, in \u001b[0;36mreform.apply\u001b[0;34m(self)\u001b[0m\n\u001b[1;32m     15\u001b[0m \u001b[38;5;28;01mdef\u001b[39;00m\u001b[38;5;250m \u001b[39m\u001b[38;5;21mapply\u001b[39m(\u001b[38;5;28mself\u001b[39m):\n\u001b[0;32m---> 16\u001b[0m     \u001b[38;5;28;43mself\u001b[39;49m\u001b[38;5;241;43m.\u001b[39;49m\u001b[43mmodify_parameters\u001b[49m\u001b[43m(\u001b[49m\u001b[43mchange_tax_parameters\u001b[49m\u001b[43m)\u001b[49m\n",
      "File \u001b[0;32m~/Documents/GitHub/policyengine-uk/policyengine_venv/lib/python3.10/site-packages/policyengine_core/taxbenefitsystems/tax_benefit_system.py:738\u001b[0m, in \u001b[0;36mTaxBenefitSystem.modify_parameters\u001b[0;34m(self, modifier_function)\u001b[0m\n\u001b[1;32m    733\u001b[0m             param\u001b[38;5;241m.\u001b[39mupdate(\n\u001b[1;32m    734\u001b[0m                 value\u001b[38;5;241m=\u001b[39mmodifier_function[parameter][time_period],\n\u001b[1;32m    735\u001b[0m                 period\u001b[38;5;241m=\u001b[39mperiods\u001b[38;5;241m.\u001b[39mperiod(time_period),\n\u001b[1;32m    736\u001b[0m             )\n\u001b[1;32m    737\u001b[0m \u001b[38;5;28;01melse\u001b[39;00m:\n\u001b[0;32m--> 738\u001b[0m     reform_parameters \u001b[38;5;241m=\u001b[39m \u001b[43mmodifier_function\u001b[49m\u001b[43m(\u001b[49m\u001b[38;5;28;43mself\u001b[39;49m\u001b[38;5;241;43m.\u001b[39;49m\u001b[43mparameters\u001b[49m\u001b[43m)\u001b[49m\n\u001b[1;32m    739\u001b[0m     \u001b[38;5;28;01mif\u001b[39;00m \u001b[38;5;129;01mnot\u001b[39;00m \u001b[38;5;28misinstance\u001b[39m(reform_parameters, ParameterNode):\n\u001b[1;32m    740\u001b[0m         \u001b[38;5;28;01mreturn\u001b[39;00m \u001b[38;5;167;01mValueError\u001b[39;00m(\n\u001b[1;32m    741\u001b[0m             \u001b[38;5;124m\"\u001b[39m\u001b[38;5;124mmodifier_function \u001b[39m\u001b[38;5;132;01m{}\u001b[39;00m\u001b[38;5;124m in module \u001b[39m\u001b[38;5;132;01m{}\u001b[39;00m\u001b[38;5;124m must return a ParameterNode\u001b[39m\u001b[38;5;124m\"\u001b[39m\u001b[38;5;241m.\u001b[39mformat(\n\u001b[1;32m    742\u001b[0m                 modifier_function\u001b[38;5;241m.\u001b[39m\u001b[38;5;18m__name__\u001b[39m,\n\u001b[1;32m    743\u001b[0m                 modifier_function\u001b[38;5;241m.\u001b[39m\u001b[38;5;18m__module__\u001b[39m,\n\u001b[1;32m    744\u001b[0m             )\n\u001b[1;32m    745\u001b[0m         )\n",
      "Cell \u001b[0;32mIn[35], line 3\u001b[0m, in \u001b[0;36mchange_tax_parameters\u001b[0;34m(parameters)\u001b[0m\n\u001b[1;32m      2\u001b[0m \u001b[38;5;28;01mdef\u001b[39;00m\u001b[38;5;250m \u001b[39m\u001b[38;5;21mchange_tax_parameters\u001b[39m(parameters):\n\u001b[0;32m----> 3\u001b[0m     latest_value \u001b[38;5;241m=\u001b[39m \u001b[43mparameters\u001b[49m\u001b[38;5;241;43m.\u001b[39;49m\u001b[43mgov\u001b[49m\u001b[38;5;241;43m.\u001b[39;49m\u001b[43mdwp\u001b[49m\u001b[38;5;241;43m.\u001b[39;49m\u001b[43muniversal_credit\u001b[49m\u001b[38;5;241;43m.\u001b[39;49m\u001b[43mmeans_test\u001b[49m\u001b[38;5;241;43m.\u001b[39;49m\u001b[43mwork_allowance\u001b[49m\u001b[38;5;241;43m.\u001b[39;49m\u001b[43mwithout_housing\u001b[49m\u001b[43m[\u001b[49m\u001b[38;5;124;43m\"\u001b[39;49m\u001b[38;5;124;43m2025-04-01\u001b[39;49m\u001b[38;5;124;43m\"\u001b[39;49m\u001b[43m]\u001b[49m\n\u001b[1;32m      4\u001b[0m     parameters\u001b[38;5;241m.\u001b[39mgov\u001b[38;5;241m.\u001b[39mdwp\u001b[38;5;241m.\u001b[39muniversal_credit\u001b[38;5;241m.\u001b[39mmeans_test\u001b[38;5;241m.\u001b[39mwork_allowance\u001b[38;5;241m.\u001b[39mwithout_housing\u001b[38;5;241m.\u001b[39mupdate(\n\u001b[1;32m      5\u001b[0m         start\u001b[38;5;241m=\u001b[39minstant(\u001b[38;5;124m\"\u001b[39m\u001b[38;5;124m2026-01-01\u001b[39m\u001b[38;5;124m\"\u001b[39m), value\u001b[38;5;241m=\u001b[39m\u001b[38;5;241m83.33\u001b[39m\n\u001b[1;32m      6\u001b[0m     )\n\u001b[1;32m      7\u001b[0m     latest_value \u001b[38;5;241m=\u001b[39m parameters\u001b[38;5;241m.\u001b[39mgov\u001b[38;5;241m.\u001b[39mdwp\u001b[38;5;241m.\u001b[39muniversal_credit\u001b[38;5;241m.\u001b[39mmeans_test\u001b[38;5;241m.\u001b[39mwork_allowance\u001b[38;5;241m.\u001b[39mwith_housing[\u001b[38;5;124m\"\u001b[39m\u001b[38;5;124m2025-04-01\u001b[39m\u001b[38;5;124m\"\u001b[39m]\n",
      "\u001b[0;31mTypeError\u001b[0m: 'Parameter' object is not subscriptable"
     ]
    }
   ],
   "source": [
    "#Level2:  Work allowance increased to 1000 GBP  pa\n",
    "def change_tax_parameters(parameters):\n",
    "    latest_value = parameters.gov.dwp.universal_credit.means_test.work_allowance.without_housing[\"2025-04-01\"]\n",
    "    parameters.gov.dwp.universal_credit.means_test.work_allowance.without_housing.update(\n",
    "        start=instant(\"2026-01-01\"), value=83.33\n",
    "    )\n",
    "    latest_value = parameters.gov.dwp.universal_credit.means_test.work_allowance.with_housing[\"2025-04-01\"]\n",
    "    parameters.gov.dwp.universal_credit.means_test.work_allowance.with_housing.update(\n",
    "        start=instant(\"2026-01-01\"), value=83.33\n",
    "    )\n",
    "    return parameters\n",
    "\n",
    "\n",
    "class reform(Reform):\n",
    "    def apply(self):\n",
    "        self.modify_parameters(change_tax_parameters)\n",
    "\n",
    "\n",
    "baseline = Microsimulation()\n",
    "reformed = Microsimulation(reform=reform)\n",
    "revenue = reformed.calculate(\"gov_spending\", 2026).sum() - baseline.calc(\"gov_spending\", 2026).sum()\n",
    "f\"Cost: £{round(revenue / 1e+9, 1)}bn\""
   ]
  },
  {
   "cell_type": "code",
   "execution_count": null,
   "metadata": {},
   "outputs": [
    {
     "data": {
      "text/plain": [
       "'Cost: £2.0bn'"
      ]
     },
     "execution_count": 26,
     "metadata": {},
     "output_type": "execute_result"
    }
   ],
   "source": [
    "#Level 2: Change child limit\n",
    "def change_tax_parameters(parameters):\n",
    "    parameters.gov.dwp.universal_credit.elements.child.limit.child_count.update(\n",
    "        start=instant(\"2026-01-01\"), value=inf\n",
    "    )\n",
    "    return parameters\n",
    "\n",
    "\n",
    "class reform(Reform):\n",
    "    def apply(self):\n",
    "        self.modify_parameters(change_tax_parameters)\n",
    "\n",
    "\n",
    "baseline = Microsimulation()\n",
    "reformed = Microsimulation(reform=reform)\n",
    "revenue = reformed.calculate(\"gov_spending\", 2026).sum() - baseline.calc(\"gov_spending\", 2026).sum()\n",
    "f\"Cost: £{round(revenue / 1e+9, 1)}bn\""
   ]
  },
  {
   "cell_type": "markdown",
   "metadata": {},
   "source": [
    "##RUN 2 CHILD LIMIT REFORM: "
   ]
  },
  {
   "cell_type": "code",
   "execution_count": 15,
   "metadata": {},
   "outputs": [
    {
     "name": "stdout",
     "output_type": "stream",
     "text": [
      "This reform would cost £0.4bn\n"
     ]
    }
   ],
   "source": [
    "HOUSEHOLD_VARIABLES = [\"person_id\", \"household_id\", \"age\", \"household_net_income\", \"household_income_decile\", \"in_poverty\", \"household_tax\", \"household_benefits\"]\n",
    "baseline_person_df = baseline.calculate_dataframe(HOUSEHOLD_VARIABLES, 2026).astype(float)\n",
    "reformed_person_df = reformed.calculate_dataframe(HOUSEHOLD_VARIABLES, 2026).astype(float)\n",
    "difference_person_df = reformed_person_df - baseline_person_df\n",
    "total_net_income_baseline = baseline.calculate(\"household_net_income\", 2026).sum()\n",
    "total_net_income_reformed = reformed.calculate(\"household_net_income\", 2026).sum()\n",
    "\n",
    "net_cost = total_net_income_reformed - total_net_income_baseline\n",
    "\n",
    "print(f\"This reform would cost £{net_cost / 1e9:.1f}bn\")"
   ]
  },
  {
   "cell_type": "code",
   "execution_count": 22,
   "metadata": {},
   "outputs": [
    {
     "data": {
      "text/plain": [
       "'Revenue: £9.1bn'"
      ]
     },
     "execution_count": 22,
     "metadata": {},
     "output_type": "execute_result"
    }
   ],
   "source": [
    "\n",
    "def modify_parameters(parameters):\n",
    "    parameters.gov.dwp.universal_credit.standard_allowance.amount.COUPLE_OLD.update(start=instant(\"2024-01-01\"), value=738.82)\n",
    "    parameters.gov.dwp.universal_credit.standard_allowance.amount.COUPLE_YOUNG.update(start=instant(\"2024-01-01\"), value=618.51)\n",
    "    parameters.gov.dwp.universal_credit.standard_allowance.amount.SINGLE_OLD.update(start=instant(\"2024-01-01\"), value=528.74)\n",
    "    parameters.gov.dwp.universal_credit.standard_allowance.amount.SINGLE_YOUNG.update(start=instant(\"2024-01-01\"), value=452.11)\n",
    "    return parameters\n",
    "\n",
    "\n",
    "class reform(Reform):\n",
    "    def apply(self):\n",
    "        self.modify_parameters(modify_parameters)\n",
    "\n",
    "baseline = Microsimulation()\n",
    "reformed = Microsimulation(reform=reform)\n",
    "revenue = reformed.calculate(\"gov_spending\", 2025).sum() - baseline.calc(\"gov_spending\", 2025).sum()\n",
    "f\"Revenue: £{round(revenue / 1e+9, 1)}bn\""
   ]
  },
  {
   "cell_type": "markdown",
   "metadata": {},
   "source": []
  }
 ],
 "metadata": {
  "kernelspec": {
   "display_name": "Python (PolicyEngine)",
   "language": "python",
   "name": "policyengine_venv"
  },
  "language_info": {
   "codemirror_mode": {
    "name": "ipython",
    "version": 3
   },
   "file_extension": ".py",
   "mimetype": "text/x-python",
   "name": "python",
   "nbconvert_exporter": "python",
   "pygments_lexer": "ipython3",
   "version": "3.10.6"
  }
 },
 "nbformat": 4,
 "nbformat_minor": 2
}
