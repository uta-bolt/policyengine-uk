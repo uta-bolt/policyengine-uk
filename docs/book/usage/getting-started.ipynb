{
 "cells": [
  {
   "attachments": {},
   "cell_type": "markdown",
   "metadata": {},
   "source": [
    "# Getting started\n",
    "\n",
    "PolicyEngine has two main use-cases:\n",
    "\n",
    "* I want to simulate policy over specific households.\n",
    "* I want to run microsimulation analyses over large datasets.\n",
    "\n",
    "Anyone can do the former in a few minutes of setup, but the UK's large household surveys are only available to academics, researchers and nonprofits, so getting set up takes a bit longer (and you should [get in touch](https://policyengine.org/uk/contact) so we can make it as fast as possible).\n",
    "\n",
    "If you can, please use Google Colab. It's free, and more importantly, it enables everyone to use the same computing environment, saving all the trouble of fiddling around with bad Python installations, etc. It means that the below snippet is all you need to use the full microsimulation model:\n",
    "\n",
    "```python\n",
    "!export POLICYENGINE_GITHUB_MICRODATA_AUTH_TOKEN=your_token_if_running_microsimulations\n",
    "!pip install policyengine-uk\n",
    "```\n",
    "\n",
    "## Household-level analysis\n",
    "\n",
    "The PolicyEngine UK Python package can be installed just like any other. Here's an example below.\n",
    "\n",
    "First, we need to install the package (please make sure you're using Python >=3.7):\n",
    "\n",
    "```bash\n",
    "pip install policyengine-uk\n",
    "```\n",
    "\n",
    "### Simulating current law\n",
    "\n",
    "This example shows how to define a situation (you need to define the people, benefit units and households, and their variables in specific time periods) and simulate the current tax-benefit system."
   ]
  },
  {
   "cell_type": "code",
   "execution_count": 1,
   "metadata": {},
   "outputs": [
    {
     "data": {
      "text/plain": [
       "array([3670.0005], dtype=float32)"
      ]
     },
     "execution_count": 1,
     "metadata": {},
     "output_type": "execute_result"
    }
   ],
   "source": [
    "# The `Simulation` class is the most important class in PolicyEngine- it runs the actual simulation.\n",
    "\n",
    "from policyengine_uk import Simulation\n",
    "\n",
    "situation = {\n",
    "    \"people\": {\n",
    "        \"person\": {\n",
    "            \"age\": {2023: 30},\n",
    "            \"employment_income\": {2023: 30_000},\n",
    "        },\n",
    "    },\n",
    "    \"benunits\": {\n",
    "        \"benunit\": {\n",
    "            \"members\": [\"person\"],\n",
    "        },\n",
    "    },\n",
    "    \"households\": {\n",
    "        \"household\": {\n",
    "            \"members\": [\"person\"],\n",
    "        }\n",
    "    },\n",
    "}\n",
    "\n",
    "simulation = Simulation(situation=situation)\n",
    "\n",
    "simulation.calculate(\"income_tax\", 2024)"
   ]
  },
  {
   "attachments": {},
   "cell_type": "markdown",
   "metadata": {},
   "source": [
    "### Simulating a policy reform\n",
    "\n",
    "Now, let's simulate a policy reform that changes a policy parameter. The [OpenFisca documentation](https://openfisca.org/doc) has some excellent documentation on the syntax here."
   ]
  },
  {
   "cell_type": "code",
   "execution_count": 2,
   "metadata": {},
   "outputs": [
    {
     "name": "stdout",
     "output_type": "stream",
     "text": [
      "Raising the basic rate to 25% would increase this person's income tax by £917.50\n"
     ]
    }
   ],
   "source": [
    "from policyengine_core.model_api import *\n",
    "\n",
    "\n",
    "increase_basic_rate = Reform.from_dict(\n",
    "    {\"gov.hmrc.income_tax.rates.uk[0].rate\": 0.25}\n",
    ")\n",
    "\n",
    "\n",
    "baseline = Simulation(situation=situation)\n",
    "reformed = Simulation(situation=situation, reform=increase_basic_rate)\n",
    "\n",
    "baseline_income_tax = baseline.calculate(\"income_tax\", 2024)[0]\n",
    "reformed_income_tax = reformed.calculate(\"income_tax\", 2024)[0]\n",
    "\n",
    "print(\n",
    "    f\"Raising the basic rate to 25% would increase this person's income tax by £{reformed_income_tax - baseline_income_tax:.2f}\"\n",
    ")"
   ]
  },
  {
   "attachments": {},
   "cell_type": "markdown",
   "metadata": {},
   "source": [
    "## Microsimulation analysis\n",
    "\n",
    "PolicyEngine UK has all the code needed to actually generate the microsimulation datasets from the raw dataset files if you have them, but it's easiest to download our final datasets. To do this, you'll need to do the following:\n",
    "\n",
    "* Make sure you've got a GitHub account.\n",
    "* Have PolicyEngine grant you permissions to our data storage.\n",
    "* Download a classic Personal Access Token (GitHub settings > developer settings).\n",
    "* Set it as the environment variable `POLICYENGINE_GITHUB_MICRODATA_AUTH_TOKEN`\n",
    "\n",
    "For example, in a bash shell:\n",
    "\n",
    "```bash\n",
    "export POLICYENGINE_GITHUB_MICRODATA_AUTH_TOKEN=your_token_here\n",
    "```\n",
    "\n",
    "### Getting set up\n",
    "\n",
    "Now the datasets will be downloaded automatically as you select them. Here's an example:"
   ]
  },
  {
   "cell_type": "code",
   "execution_count": 3,
   "metadata": {},
   "outputs": [
    {
     "data": {
      "text/plain": [
       "65.42002904584271"
      ]
     },
     "execution_count": 3,
     "metadata": {},
     "output_type": "execute_result"
    }
   ],
   "source": [
    "from policyengine_uk import Microsimulation\n",
    "\n",
    "sim = Microsimulation()\n",
    "\n",
    "sim.calculate(\"universal_credit\", 2024).sum() / 1e9"
   ]
  },
  {
   "attachments": {},
   "cell_type": "markdown",
   "metadata": {},
   "source": [
    "We passed a string to indicate that we'd like to use the enhanced FRS (PolicyEngine's most extensive dataset, with consumption, wealth and VAT imputations and full calibration to external statistics). But here are the other options we could have used:"
   ]
  },
  {
   "cell_type": "code",
   "execution_count": 4,
   "metadata": {},
   "outputs": [
    {
     "data": {
      "text/html": [
       "<div>\n",
       "<style scoped>\n",
       "    .dataframe tbody tr th:only-of-type {\n",
       "        vertical-align: middle;\n",
       "    }\n",
       "\n",
       "    .dataframe tbody tr th {\n",
       "        vertical-align: top;\n",
       "    }\n",
       "\n",
       "    .dataframe thead th {\n",
       "        text-align: right;\n",
       "    }\n",
       "</style>\n",
       "<table border=\"1\" class=\"dataframe\">\n",
       "  <thead>\n",
       "    <tr style=\"text-align: right;\">\n",
       "      <th></th>\n",
       "      <th></th>\n",
       "    </tr>\n",
       "    <tr>\n",
       "      <th>Name</th>\n",
       "      <th>Label</th>\n",
       "    </tr>\n",
       "  </thead>\n",
       "  <tbody>\n",
       "    <tr>\n",
       "      <th>frs_2020_21</th>\n",
       "      <th>FRS (2020-21)</th>\n",
       "    </tr>\n",
       "    <tr>\n",
       "      <th>frs_2021_22</th>\n",
       "      <th>FRS (2021-22)</th>\n",
       "    </tr>\n",
       "    <tr>\n",
       "      <th>frs_2022_23</th>\n",
       "      <th>FRS (2022-23)</th>\n",
       "    </tr>\n",
       "    <tr>\n",
       "      <th>reweighted_frs_2022_23</th>\n",
       "      <th>Reweighted FRS (2022-23)</th>\n",
       "    </tr>\n",
       "    <tr>\n",
       "      <th>enhanced_frs_2022_23</th>\n",
       "      <th>Enhanced FRS (2022-23)</th>\n",
       "    </tr>\n",
       "    <tr>\n",
       "      <th>spi_2020_21</th>\n",
       "      <th>SPI 2020-21</th>\n",
       "    </tr>\n",
       "  </tbody>\n",
       "</table>\n",
       "</div>"
      ],
      "text/plain": [
       "Empty DataFrame\n",
       "Columns: []\n",
       "Index: [(frs_2020_21, FRS (2020-21)), (frs_2021_22, FRS (2021-22)), (frs_2022_23, FRS (2022-23)), (reweighted_frs_2022_23, Reweighted FRS (2022-23)), (enhanced_frs_2022_23, Enhanced FRS (2022-23)), (spi_2020_21, SPI 2020-21)]"
      ]
     },
     "execution_count": 4,
     "metadata": {},
     "output_type": "execute_result"
    }
   ],
   "source": [
    "import pandas as pd\n",
    "\n",
    "names = [dataset.name for dataset in Microsimulation.datasets]\n",
    "labels = [dataset.label for dataset in Microsimulation.datasets]\n",
    "\n",
    "pd.DataFrame({\"Name\": names, \"Label\": labels}).set_index([\"Name\", \"Label\"])"
   ]
  },
  {
   "attachments": {},
   "cell_type": "markdown",
   "metadata": {},
   "source": [
    "### Running reform analyses\n",
    "\n",
    "Reforms work in exactly the same way as in the household-level analysis above. Here's the same example reform:"
   ]
  },
  {
   "cell_type": "code",
   "execution_count": 5,
   "metadata": {},
   "outputs": [
    {
     "name": "stdout",
     "output_type": "stream",
     "text": [
      "Raising the basic rate to 25% would raise the UK £29.06bn per year\n"
     ]
    }
   ],
   "source": [
    "baseline = Microsimulation()  # Enhanced FRS 2022 by default\n",
    "reformed = Microsimulation(reform=increase_basic_rate)\n",
    "\n",
    "revenue = (\n",
    "    -(\n",
    "        reformed.calculate(\"household_net_income\", 2024)\n",
    "        - baseline.calculate(\"household_net_income\", 2024)\n",
    "    ).sum()\n",
    "    / 1e9\n",
    ")\n",
    "\n",
    "print(\n",
    "    f\"Raising the basic rate to 25% would raise the UK £{revenue:.2f}bn per year\"\n",
    ")"
   ]
  },
  {
   "attachments": {},
   "cell_type": "markdown",
   "metadata": {},
   "source": [
    "The [PolicyEngine web app](https://policyengine.org) actually has a helpful tool for this: if you can generate a household or reform on the app, scroll down in the bottom left to the `Reproduce in Python` section, and you'll see an automatically-generated code snippet to reproduce the same analysis in Python."
   ]
  }
 ],
 "metadata": {
  "kernelspec": {
   "display_name": "base",
   "language": "python",
   "name": "python3"
  },
  "language_info": {
   "codemirror_mode": {
    "name": "ipython",
    "version": 3
   },
   "file_extension": ".py",
   "mimetype": "text/x-python",
   "name": "python",
   "nbconvert_exporter": "python",
   "pygments_lexer": "ipython3",
   "version": "3.12.5"
  },
  "orig_nbformat": 4,
  "vscode": {
   "interpreter": {
    "hash": "40d3a090f54c6569ab1632332b64b2c03c39dcf918b08424e98f38b5ae0af88f"
   }
  }
 },
 "nbformat": 4,
 "nbformat_minor": 2
}
