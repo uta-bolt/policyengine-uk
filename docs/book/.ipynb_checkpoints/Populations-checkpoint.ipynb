{
 "cells": [
  {
   "cell_type": "markdown",
   "metadata": {},
   "source": [
    "# Populations\n",
    "\n",
    "In calculating over weighted survey microdata, we use the Family Resources Survey. This isn't redistributable, but is available to academics. We use the package ```frs``` to convert the source TAB files into OpenFisca-compatible CSV files."
   ]
  },
  {
   "cell_type": "markdown",
   "metadata": {},
   "source": [
    "## Prerequisite: install and initialise ```frs```\n",
    "\n",
    "The FRS package converts the Family Resources Survey into OpenFisca-UK input files by calculating the required variables for each person, benefit unit and household from the relational database format. It only needs to be set up once with the original files.\n",
    "\n",
    "First, install and initialise the package ```frs``` (via ```pip install frs```):"
   ]
  },
  {
   "cell_type": "code",
   "execution_count": 2,
   "metadata": {
    "scrolled": true
   },
   "outputs": [
    {
     "name": "stdout",
     "output_type": "stream",
     "text": [
      "FRS status:\n",
      "\tFRS TAB files stored?\t\t\t\tYes\n",
      "\tFRS OpenFisca-UK input files generated?\t\tYes\n",
      "\tOpenFisca-UK input files outdated?\t\tNo (files generated with current version, 0.2.0)\n"
     ]
    }
   ],
   "source": [
    "!frs status"
   ]
  },
  {
   "cell_type": "markdown",
   "metadata": {},
   "source": [
    "The FRS package needs to be pointed to a folder containing the source TAB files for a year of the FRS. Command-line hints are provided:"
   ]
  },
  {
   "cell_type": "code",
   "execution_count": 11,
   "metadata": {},
   "outputs": [
    {
     "name": "stdout",
     "output_type": "stream",
     "text": [
      "usage: frs [-h] [--path PATH] {status,gen,regen}\n",
      "\n",
      "Utility for managing Family Resources Survey microdata\n",
      "\n",
      "positional arguments:\n",
      "  {status,gen,regen}  The action to take on stored data\n",
      "\n",
      "optional arguments:\n",
      "  -h, --help          show this help message and exit\n",
      "  --path PATH         The path to the FRS data\n"
     ]
    }
   ],
   "source": [
    "!frs --help"
   ]
  },
  {
   "cell_type": "markdown",
   "metadata": {},
   "source": [
    "## Using ```PopulationSim```"
   ]
  },
  {
   "cell_type": "markdown",
   "metadata": {},
   "source": [
    "The helper class ```PopulationSim``` uses the FRS package to load the input data:"
   ]
  },
  {
   "cell_type": "code",
   "execution_count": 2,
   "metadata": {},
   "outputs": [],
   "source": [
    "from openfisca_uk import PopulationSim\n",
    "\n",
    "sim = PopulationSim()"
   ]
  },
  {
   "cell_type": "markdown",
   "metadata": {},
   "source": [
    "This helper class contains an OpenFisca Simulation object in ```sim.model```; the ```PopulationSim``` class provides some functions such as mapping between entity types, effective marginal tax rate calculation and DataFrame generation.\n",
    "\n",
    "For example, we can generate a DataFrame containing all the variables for the ```person``` entity:"
   ]
  },
  {
   "cell_type": "code",
   "execution_count": 6,
   "metadata": {},
   "outputs": [
    {
     "data": {
      "text/html": [
       "<div>\n",
       "<style scoped>\n",
       "    .dataframe tbody tr th:only-of-type {\n",
       "        vertical-align: middle;\n",
       "    }\n",
       "\n",
       "    .dataframe tbody tr th {\n",
       "        vertical-align: top;\n",
       "    }\n",
       "\n",
       "    .dataframe thead th {\n",
       "        text-align: right;\n",
       "    }\n",
       "</style>\n",
       "<table border=\"1\" class=\"dataframe\">\n",
       "  <thead>\n",
       "    <tr style=\"text-align: right;\">\n",
       "      <th></th>\n",
       "      <th>age</th>\n",
       "      <th>hours</th>\n",
       "      <th>taxable_income</th>\n",
       "      <th>total_tax</th>\n",
       "      <th>unused_personal_allowance</th>\n",
       "      <th>NI</th>\n",
       "    </tr>\n",
       "  </thead>\n",
       "  <tbody>\n",
       "    <tr>\n",
       "      <th>count</th>\n",
       "      <td>43087.000000</td>\n",
       "      <td>43087.000000</td>\n",
       "      <td>4.308700e+04</td>\n",
       "      <td>4.308700e+04</td>\n",
       "      <td>43087.000000</td>\n",
       "      <td>43087.000000</td>\n",
       "    </tr>\n",
       "    <tr>\n",
       "      <th>mean</th>\n",
       "      <td>41.514309</td>\n",
       "      <td>15.404361</td>\n",
       "      <td>1.681093e+04</td>\n",
       "      <td>3.506071e+03</td>\n",
       "      <td>5442.554688</td>\n",
       "      <td>822.033203</td>\n",
       "    </tr>\n",
       "    <tr>\n",
       "      <th>std</th>\n",
       "      <td>23.953661</td>\n",
       "      <td>19.480444</td>\n",
       "      <td>1.107430e+05</td>\n",
       "      <td>5.258324e+04</td>\n",
       "      <td>5662.850098</td>\n",
       "      <td>2645.757080</td>\n",
       "    </tr>\n",
       "    <tr>\n",
       "      <th>min</th>\n",
       "      <td>0.000000</td>\n",
       "      <td>0.000000</td>\n",
       "      <td>0.000000e+00</td>\n",
       "      <td>0.000000e+00</td>\n",
       "      <td>0.000000</td>\n",
       "      <td>0.000000</td>\n",
       "    </tr>\n",
       "    <tr>\n",
       "      <th>25%</th>\n",
       "      <td>21.000000</td>\n",
       "      <td>0.000000</td>\n",
       "      <td>0.000000e+00</td>\n",
       "      <td>0.000000e+00</td>\n",
       "      <td>0.000000</td>\n",
       "      <td>0.000000</td>\n",
       "    </tr>\n",
       "    <tr>\n",
       "      <th>50%</th>\n",
       "      <td>43.000000</td>\n",
       "      <td>0.000000</td>\n",
       "      <td>9.308000e+03</td>\n",
       "      <td>0.000000e+00</td>\n",
       "      <td>3192.000000</td>\n",
       "      <td>0.000000</td>\n",
       "    </tr>\n",
       "    <tr>\n",
       "      <th>75%</th>\n",
       "      <td>62.000000</td>\n",
       "      <td>37.000000</td>\n",
       "      <td>2.311764e+04</td>\n",
       "      <td>3.147070e+03</td>\n",
       "      <td>12500.000000</td>\n",
       "      <td>1075.199951</td>\n",
       "    </tr>\n",
       "    <tr>\n",
       "      <th>max</th>\n",
       "      <td>80.000000</td>\n",
       "      <td>132.000000</td>\n",
       "      <td>2.189985e+07</td>\n",
       "      <td>1.049953e+07</td>\n",
       "      <td>12500.000000</td>\n",
       "      <td>440800.531250</td>\n",
       "    </tr>\n",
       "  </tbody>\n",
       "</table>\n",
       "</div>"
      ],
      "text/plain": [
       "                age         hours  taxable_income     total_tax  \\\n",
       "count  43087.000000  43087.000000    4.308700e+04  4.308700e+04   \n",
       "mean      41.514309     15.404361    1.681093e+04  3.506071e+03   \n",
       "std       23.953661     19.480444    1.107430e+05  5.258324e+04   \n",
       "min        0.000000      0.000000    0.000000e+00  0.000000e+00   \n",
       "25%       21.000000      0.000000    0.000000e+00  0.000000e+00   \n",
       "50%       43.000000      0.000000    9.308000e+03  0.000000e+00   \n",
       "75%       62.000000     37.000000    2.311764e+04  3.147070e+03   \n",
       "max       80.000000    132.000000    2.189985e+07  1.049953e+07   \n",
       "\n",
       "       unused_personal_allowance             NI  \n",
       "count               43087.000000   43087.000000  \n",
       "mean                 5442.554688     822.033203  \n",
       "std                  5662.850098    2645.757080  \n",
       "min                     0.000000       0.000000  \n",
       "25%                     0.000000       0.000000  \n",
       "50%                  3192.000000       0.000000  \n",
       "75%                 12500.000000    1075.199951  \n",
       "max                 12500.000000  440800.531250  "
      ]
     },
     "execution_count": 6,
     "metadata": {},
     "output_type": "execute_result"
    }
   ],
   "source": [
    "import pandas as pd\n",
    "\n",
    "# entity_df(entity) generates a DataFrame with all entity-level variables\n",
    "\n",
    "person_df = sim.entity_df(entity=\"person\")\n",
    "\n",
    "# display the results\n",
    "\n",
    "person_df = person_df.filter(items=[\"age\", \"hours\", \"taxable_income\", \"total_tax\", \"unused_personal_allowance\", \"NI\"])\n",
    "\n",
    "person_df.describe()"
   ]
  }
 ],
 "metadata": {
  "kernelspec": {
   "display_name": "Python 3",
   "language": "python",
   "name": "python3"
  },
  "language_info": {
   "codemirror_mode": {
    "name": "ipython",
    "version": 3
   },
   "file_extension": ".py",
   "mimetype": "text/x-python",
   "name": "python",
   "nbconvert_exporter": "python",
   "pygments_lexer": "ipython3",
   "version": "3.8.3"
  }
 },
 "nbformat": 4,
 "nbformat_minor": 4
}
