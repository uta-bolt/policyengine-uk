{
 "cells": [
  {
   "cell_type": "markdown",
   "id": "colonial-delaware",
   "metadata": {},
   "source": [
    "# Weighting\n",
    "\n",
    "OpenFisca-UK calculates variables on each entity of a survey - people, benefit units (nuclear families) and households. Not everyone in the population is in the surveys, so each entity has a weight, all of which sum to the target population. OpenFisca-UK uses ```microdf```, a Python package that modifies ```pandas``` to handle survey weights behind-the-scenes, allowing the user to abstract away the concept of weighting. In practice, this means that results from the model already take into account weights, and the you can essentially treat the Series- and DataFrame-like objects returned from ```sim.calc``` and ```sim.df``` as if they contain everyone in the population. For example:"
   ]
  },
  {
   "cell_type": "code",
   "execution_count": 1,
   "id": "tutorial-regard",
   "metadata": {},
   "outputs": [
    {
     "data": {
      "text/plain": [
       "              value  weight\n",
       "0      16123.759766  1329.0\n",
       "1          0.000000  1137.0\n",
       "2          0.000000  1137.0\n",
       "3          0.000000  1137.0\n",
       "4          0.000000  1183.0\n",
       "...             ...     ...\n",
       "43082      0.000000   524.0\n",
       "43083      0.000000   524.0\n",
       "43084   6145.979980  1379.0\n",
       "43085      0.000000   567.0\n",
       "43086      0.000000   567.0\n",
       "\n",
       "[43087 rows x 2 columns]"
      ]
     },
     "execution_count": 1,
     "metadata": {},
     "output_type": "execute_result"
    }
   ],
   "source": [
    "from openfisca_uk import Microsimulation\n",
    "\n",
    "sim = Microsimulation()\n",
    "\n",
    "sim.calc(\"income_tax\")"
   ]
  },
  {
   "cell_type": "markdown",
   "id": "hungarian-inspector",
   "metadata": {},
   "source": [
    "As can be seen above, this is not a Series but a MicroSeries, which associates weights with the results. The same happens with DataFrames (MicroDataFrames). We can see the statistics are different when weights are included."
   ]
  },
  {
   "cell_type": "code",
   "execution_count": 2,
   "id": "olympic-signal",
   "metadata": {},
   "outputs": [
    {
     "data": {
      "text/html": [
       "<div>\n",
       "<style scoped>\n",
       "    .dataframe tbody tr th:only-of-type {\n",
       "        vertical-align: middle;\n",
       "    }\n",
       "\n",
       "    .dataframe tbody tr th {\n",
       "        vertical-align: top;\n",
       "    }\n",
       "\n",
       "    .dataframe thead th {\n",
       "        text-align: right;\n",
       "    }\n",
       "</style>\n",
       "<table border=\"1\" class=\"dataframe\">\n",
       "  <thead>\n",
       "    <tr style=\"text-align: right;\">\n",
       "      <th></th>\n",
       "      <th>Total Income Tax (£bn)</th>\n",
       "    </tr>\n",
       "  </thead>\n",
       "  <tbody>\n",
       "    <tr>\n",
       "      <th>Unweighted</th>\n",
       "      <td>0.1</td>\n",
       "    </tr>\n",
       "    <tr>\n",
       "      <th>Weighted</th>\n",
       "      <td>199.1</td>\n",
       "    </tr>\n",
       "  </tbody>\n",
       "</table>\n",
       "</div>"
      ],
      "text/plain": [
       "            Total Income Tax (£bn)\n",
       "Unweighted                     0.1\n",
       "Weighted                     199.1"
      ]
     },
     "execution_count": 2,
     "metadata": {},
     "output_type": "execute_result"
    }
   ],
   "source": [
    "unweighted = sim.calc(\"income_tax\").values.sum()\n",
    "weighted = sim.calc(\"income_tax\").sum()\n",
    "\n",
    "import pandas as pd\n",
    "\n",
    "pd.DataFrame({\"Total Income Tax (£bn)\": pd.Series([unweighted, weighted], index=[\"Unweighted\", \"Weighted\"]).apply(lambda x: round(x / 1e+9, 1))})"
   ]
  }
 ],
 "metadata": {
  "kernelspec": {
   "display_name": "Python 3",
   "language": "python",
   "name": "python3"
  },
  "language_info": {
   "codemirror_mode": {
    "name": "ipython",
    "version": 3
   },
   "file_extension": ".py",
   "mimetype": "text/x-python",
   "name": "python",
   "nbconvert_exporter": "python",
   "pygments_lexer": "ipython3",
   "version": "3.8.8"
  }
 },
 "nbformat": 4,
 "nbformat_minor": 5
}
