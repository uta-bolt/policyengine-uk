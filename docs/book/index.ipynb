{
 "cells": [
  {
   "cell_type": "markdown",
   "metadata": {},
   "source": [
    "# PolicyEngine-UK\n",
    "\n",
    "This book contains an introduction to using PolicyEngine-UK to model UK taxes and benefits. It is currently a work in progress and may be added to. PolicyEngine-UK is a microsimulation model of the UK tax and benefit system: it is a model which calculates variable values over UK entities from given policy parameters and structures. In practice, this gives it two main uses: calculating statistics under current tax and benefit law, and simulating effects of potential new changes to the legislation.\n",
    "\n",
    "We're grateful to the [UKMOD](https://www.iser.essex.ac.uk/research/projects/ukmod) team for publishing descriptions of their model; our ability to reference these descriptions accelerated OpenFisca UK's development. UKMOD is maintained, developed and managed by the Centre for Microsimulation and Policy Analysis at the Institute for Social and Economic Research (ISER), University of Essex.\n",
    "\n",
    "Code examples and outputs are re-run automatically on each new version of PolicyEngine-UK.\n",
    "\n",
    "## Short demo\n",
    "\n",
    "### Baseline estimation\n",
    "\n",
    "Calculating, for example, the total tax (Income Tax and National Insurance) liability by region can be done with the following code:"
   ]
  },
  {
   "cell_type": "code",
   "execution_count": 1,
   "metadata": {},
   "outputs": [
    {
     "ename": "TypeError",
     "evalue": "from_folder() got an unexpected keyword argument 'url'",
     "output_type": "error",
     "traceback": [
      "\u001b[0;31m---------------------------------------------------------------------------\u001b[0m",
      "\u001b[0;31mTypeError\u001b[0m                                 Traceback (most recent call last)",
      "Cell \u001b[0;32mIn[1], line 1\u001b[0m\n\u001b[0;32m----> 1\u001b[0m \u001b[39mfrom\u001b[39;00m \u001b[39mpolicyengine_uk\u001b[39;00m \u001b[39mimport\u001b[39;00m Microsimulation\n\u001b[1;32m      2\u001b[0m \u001b[39mimport\u001b[39;00m \u001b[39mpandas\u001b[39;00m \u001b[39mas\u001b[39;00m \u001b[39mpd\u001b[39;00m\n\u001b[1;32m      4\u001b[0m sim \u001b[39m=\u001b[39m Microsimulation()\n",
      "File \u001b[0;32m~/policyengine/policyengine-uk/policyengine_uk/__init__.py:5\u001b[0m\n\u001b[1;32m      3\u001b[0m \u001b[39mimport\u001b[39;00m \u001b[39mos\u001b[39;00m\n\u001b[1;32m      4\u001b[0m \u001b[39mfrom\u001b[39;00m \u001b[39mpolicyengine_uk\u001b[39;00m \u001b[39mimport\u001b[39;00m entities\n\u001b[0;32m----> 5\u001b[0m \u001b[39mfrom\u001b[39;00m \u001b[39mpolicyengine_uk\u001b[39;00m\u001b[39m.\u001b[39;00m\u001b[39msystem\u001b[39;00m \u001b[39mimport\u001b[39;00m (\n\u001b[1;32m      6\u001b[0m     CountryTaxBenefitSystem,\n\u001b[1;32m      7\u001b[0m     Microsimulation,\n\u001b[1;32m      8\u001b[0m     Simulation,\n\u001b[1;32m      9\u001b[0m     IndividualSim,\n\u001b[1;32m     10\u001b[0m     COUNTRY_DIR,\n\u001b[1;32m     11\u001b[0m     BASELINE_VARIABLES,\n\u001b[1;32m     12\u001b[0m     parameters,\n\u001b[1;32m     13\u001b[0m     variables,\n\u001b[1;32m     14\u001b[0m )\n\u001b[1;32m     15\u001b[0m \u001b[39mfrom\u001b[39;00m \u001b[39mpathlib\u001b[39;00m \u001b[39mimport\u001b[39;00m Path\n\u001b[1;32m     16\u001b[0m \u001b[39mimport\u001b[39;00m \u001b[39mos\u001b[39;00m\n",
      "File \u001b[0;32m~/policyengine/policyengine-uk/policyengine_uk/system.py:9\u001b[0m\n\u001b[1;32m      3\u001b[0m \u001b[39mfrom\u001b[39;00m \u001b[39mpolicyengine_core\u001b[39;00m\u001b[39m.\u001b[39;00m\u001b[39mtaxbenefitsystems\u001b[39;00m \u001b[39mimport\u001b[39;00m TaxBenefitSystem\n\u001b[1;32m      4\u001b[0m \u001b[39mfrom\u001b[39;00m \u001b[39mpolicyengine_core\u001b[39;00m\u001b[39m.\u001b[39;00m\u001b[39msimulations\u001b[39;00m \u001b[39mimport\u001b[39;00m (\n\u001b[1;32m      5\u001b[0m     Simulation \u001b[39mas\u001b[39;00m CoreSimulation,\n\u001b[1;32m      6\u001b[0m     Microsimulation \u001b[39mas\u001b[39;00m CoreMicrosimulation,\n\u001b[1;32m      7\u001b[0m     IndividualSim \u001b[39mas\u001b[39;00m CoreIndividualSim,\n\u001b[1;32m      8\u001b[0m )\n\u001b[0;32m----> 9\u001b[0m \u001b[39mfrom\u001b[39;00m \u001b[39mpolicyengine_uk\u001b[39;00m\u001b[39m.\u001b[39;00m\u001b[39mdata\u001b[39;00m \u001b[39mimport\u001b[39;00m DATASETS, EnhancedFRS\n\u001b[1;32m     11\u001b[0m COUNTRY_DIR \u001b[39m=\u001b[39m Path(\u001b[39m__file__\u001b[39m)\u001b[39m.\u001b[39mparent\n\u001b[1;32m     14\u001b[0m \u001b[39mclass\u001b[39;00m \u001b[39mCountryTaxBenefitSystem\u001b[39;00m(TaxBenefitSystem):\n",
      "File \u001b[0;32m~/policyengine/policyengine-uk/policyengine_uk/data/__init__.py:1\u001b[0m\n\u001b[0;32m----> 1\u001b[0m \u001b[39mfrom\u001b[39;00m \u001b[39m.\u001b[39;00m\u001b[39mdatasets\u001b[39;00m \u001b[39mimport\u001b[39;00m \u001b[39m*\u001b[39m\n",
      "File \u001b[0;32m~/policyengine/policyengine-uk/policyengine_uk/data/datasets/__init__.py:1\u001b[0m\n\u001b[0;32m----> 1\u001b[0m \u001b[39mfrom\u001b[39;00m \u001b[39m.\u001b[39;00m\u001b[39mfrs\u001b[39;00m \u001b[39mimport\u001b[39;00m (\n\u001b[1;32m      2\u001b[0m     FRS_2018_19,\n\u001b[1;32m      3\u001b[0m     FRS_2019_20,\n\u001b[1;32m      4\u001b[0m     FRS_2020_21,\n\u001b[1;32m      5\u001b[0m     PooledFRS_2018_20,\n\u001b[1;32m      6\u001b[0m     SPIEnhancedFRS_2019_20,\n\u001b[1;32m      7\u001b[0m     SPIEnhancedPooledFRS_2018_20,\n\u001b[1;32m      8\u001b[0m     CalibratedFRS_2019_20,\n\u001b[1;32m      9\u001b[0m     CalibratedSPIEnhancedFRS_2019_20,\n\u001b[1;32m     10\u001b[0m     CalibratedSPIEnhancedPooledFRS_2018_20,\n\u001b[1;32m     11\u001b[0m     EnhancedFRS,\n\u001b[1;32m     12\u001b[0m )\n\u001b[1;32m     14\u001b[0m DATASETS \u001b[39m=\u001b[39m [\n\u001b[1;32m     15\u001b[0m     FRS_2018_19,\n\u001b[1;32m     16\u001b[0m     FRS_2019_20,\n\u001b[0;32m   (...)\u001b[0m\n\u001b[1;32m     24\u001b[0m     EnhancedFRS,\n\u001b[1;32m     25\u001b[0m ]\n",
      "File \u001b[0;32m~/policyengine/policyengine-uk/policyengine_uk/data/datasets/frs/__init__.py:1\u001b[0m\n\u001b[0;32m----> 1\u001b[0m \u001b[39mfrom\u001b[39;00m \u001b[39m.\u001b[39;00m\u001b[39mraw_frs\u001b[39;00m \u001b[39mimport\u001b[39;00m RawFRS, RawFRS_2018_19, RawFRS_2019_20, RawFRS_2020_21\n\u001b[1;32m      2\u001b[0m \u001b[39mfrom\u001b[39;00m \u001b[39m.\u001b[39;00m\u001b[39mfrs\u001b[39;00m \u001b[39mimport\u001b[39;00m FRS, FRS_2018_19, FRS_2019_20, FRS_2020_21\n\u001b[1;32m      3\u001b[0m \u001b[39mfrom\u001b[39;00m \u001b[39m.\u001b[39;00m\u001b[39mspi_enhanced_frs\u001b[39;00m \u001b[39mimport\u001b[39;00m (\n\u001b[1;32m      4\u001b[0m     SPIEnhancedFRS,\n\u001b[1;32m      5\u001b[0m     SPIEnhancedFRS_2019_20,\n\u001b[1;32m      6\u001b[0m     SPIEnhancedPooledFRS_2018_20,\n\u001b[1;32m      7\u001b[0m )\n",
      "File \u001b[0;32m~/policyengine/policyengine-uk/policyengine_uk/data/datasets/frs/raw_frs.py:114\u001b[0m\n\u001b[1;32m    110\u001b[0m         \u001b[39m# Save the data\u001b[39;00m\n\u001b[1;32m    111\u001b[0m         \u001b[39mself\u001b[39m\u001b[39m.\u001b[39msave_dataset(tables)\n\u001b[0;32m--> 114\u001b[0m RawFRS_2019_20 \u001b[39m=\u001b[39m RawFRS\u001b[39m.\u001b[39;49mfrom_folder(\n\u001b[1;32m    115\u001b[0m     \u001b[39m\"\u001b[39;49m\u001b[39m/Users/nikhil/ukda/frs_2019_20\u001b[39;49m\u001b[39m\"\u001b[39;49m, \u001b[39m\"\u001b[39;49m\u001b[39mraw_frs_2019\u001b[39;49m\u001b[39m\"\u001b[39;49m, \u001b[39m\"\u001b[39;49m\u001b[39mFRS 2019-20\u001b[39;49m\u001b[39m\"\u001b[39;49m, \u001b[39m2019\u001b[39;49m,\n\u001b[1;32m    116\u001b[0m     url \u001b[39m=\u001b[39;49m \u001b[39m\"\u001b[39;49m\u001b[39mrelease://policyengine/non-public-microdata/2023-q2-calibration/raw_frs_2019.h5\u001b[39;49m\u001b[39m\"\u001b[39;49m\n\u001b[1;32m    117\u001b[0m )\n\u001b[1;32m    119\u001b[0m RawFRS_2018_19 \u001b[39m=\u001b[39m RawFRS\u001b[39m.\u001b[39mfrom_folder(\n\u001b[1;32m    120\u001b[0m     \u001b[39m\"\u001b[39m\u001b[39m/Users/nikhil/ukda/frs_2018_19\u001b[39m\u001b[39m\"\u001b[39m, \u001b[39m\"\u001b[39m\u001b[39mraw_frs_2018\u001b[39m\u001b[39m\"\u001b[39m, \u001b[39m\"\u001b[39m\u001b[39mFRS 2018-19\u001b[39m\u001b[39m\"\u001b[39m, \u001b[39m2018\u001b[39m,\n\u001b[1;32m    121\u001b[0m     url \u001b[39m=\u001b[39m \u001b[39m\"\u001b[39m\u001b[39mrelease://policyengine/non-public-microdata/2023-q2-calibration/raw_frs_2018.h5\u001b[39m\u001b[39m\"\u001b[39m\n\u001b[1;32m    122\u001b[0m )\n\u001b[1;32m    124\u001b[0m RawFRS_2020_21 \u001b[39m=\u001b[39m RawFRS\u001b[39m.\u001b[39mfrom_folder(\n\u001b[1;32m    125\u001b[0m     \u001b[39m\"\u001b[39m\u001b[39m/Users/nikhil/ukda/frs_2020_21\u001b[39m\u001b[39m\"\u001b[39m, \u001b[39m\"\u001b[39m\u001b[39mraw_frs_2020\u001b[39m\u001b[39m\"\u001b[39m, \u001b[39m\"\u001b[39m\u001b[39mFRS 2020-21\u001b[39m\u001b[39m\"\u001b[39m, \u001b[39m2020\u001b[39m,\n\u001b[1;32m    126\u001b[0m     url \u001b[39m=\u001b[39m \u001b[39m\"\u001b[39m\u001b[39mrelease://policyengine/non-public-microdata/2023-q2-calibration/raw_frs_2020.h5\u001b[39m\u001b[39m\"\u001b[39m\n\u001b[1;32m    127\u001b[0m )\n",
      "\u001b[0;31mTypeError\u001b[0m: from_folder() got an unexpected keyword argument 'url'"
     ]
    }
   ],
   "source": [
    "from policyengine_uk import Microsimulation\n",
    "import pandas as pd\n",
    "\n",
    "sim = Microsimulation()\n",
    "\n",
    "df = sim.df([\"national_insurance\", \"income_tax\", \"people\"])\n",
    "\n",
    "summary = pd.DataFrame(\n",
    "    df.groupby(sim.calc(\"region\", map_to=\"person\")).sum()\n",
    ").sort_values(by=\"people\", ascending=False)\n",
    "summary.national_insurance = summary.national_insurance.apply(\n",
    "    lambda x: round(x / 1e9, 1)\n",
    ")\n",
    "summary.income_tax = summary.income_tax.apply(lambda x: round(x / 1e9, 1))\n",
    "summary.people = summary.people.apply(lambda x: round(x / 1e6, 1))\n",
    "summary.columns = [\n",
    "    \"National Insurance (£bn)\",\n",
    "    \"Income Tax (£bn)\",\n",
    "    \"Population (millions)\",\n",
    "]\n",
    "summary"
   ]
  },
  {
   "cell_type": "markdown",
   "metadata": {},
   "source": [
    "### Reform evaluation\n",
    "\n",
    "Below is an example of simulating the effects of a reform (namely, increasing the basic rate of income tax from 20% to 23%)."
   ]
  },
  {
   "cell_type": "code",
   "execution_count": null,
   "metadata": {},
   "outputs": [
    {
     "data": {
      "text/plain": [
       "'Revenue: £14.7bn'"
      ]
     },
     "execution_count": 4,
     "metadata": {},
     "output_type": "execute_result"
    }
   ],
   "source": [
    "from policyengine_uk.model_api import *\n",
    "\n",
    "\n",
    "def change_tax_parameters(parameters):\n",
    "    parameters.gov.hmrc.income_tax.rates.uk.brackets[0].rate.update(\n",
    "        period=periods.period(\"year:2019:10\"), value=0.23\n",
    "    )\n",
    "    return parameters\n",
    "\n",
    "\n",
    "class reform(Reform):\n",
    "    def apply(self):\n",
    "        self.modify_parameters(change_tax_parameters)\n",
    "\n",
    "\n",
    "baseline = Microsimulation()\n",
    "reformed = Microsimulation(reform)\n",
    "revenue = reformed.calc(\"tax\").sum() - baseline.calc(\"tax\").sum()\n",
    "f\"Revenue: £{round(revenue / 1e+9, 1)}bn\""
   ]
  }
 ],
 "metadata": {
  "kernelspec": {
   "display_name": "Python 3.8.8 ('base')",
   "language": "python",
   "name": "python3"
  },
  "language_info": {
   "codemirror_mode": {
    "name": "ipython",
    "version": 3
   },
   "file_extension": ".py",
   "mimetype": "text/x-python",
   "name": "python",
   "nbconvert_exporter": "python",
   "pygments_lexer": "ipython3",
   "version": "3.9.12"
  },
  "vscode": {
   "interpreter": {
    "hash": "0a77c10386953d7aa1ee55a26f0f5ac1b4e5dd001f8ebf81b7231e3a892c2cef"
   }
  }
 },
 "nbformat": 4,
 "nbformat_minor": 4
}
