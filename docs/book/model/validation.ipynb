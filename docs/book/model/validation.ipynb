{
 "cells": [
  {
   "cell_type": "markdown",
   "id": "8fde3747",
   "metadata": {},
   "source": [
    "# Validation\n",
    "\n",
    "OpenFisca-UK runs unit and integration tests on each new version (see [here](https://github.com/PSLmodels/openfisca-uk/tree/master/tests)).\n",
    "In addition, the table below shows the aggregates produced by the model for the major taxes and benefits, and comparisons with UKMOD (latest [country report](https://www.iser.essex.ac.uk/research/publications/working-papers/cempa/cempa2-22.pdf)) and official sources.[^1]\n",
    "UKMOD and administrative sources refer to 2018, and OpenFisca-UK is simulated on policy at the end of 2018.\n",
    "Numbers are in billions of pounds.\n",
    "\n",
    "[^1]: From the UKMOD country report: unless otherwise specified: Department for Work and Pensions https://www.gov.uk/government/publications/benefit-expenditure-and-caseload-tables-2018 ; Best Start Grant: https://www2.gov.scot/Topics/Statistics/Browse/Social-Welfare/SocialSecurityforScotland/BSGJune2019; Child tax credit and working tax credit: HMRC statistics \n",
    "https://www.gov.uk/government/statistics/child-and-working-tax-credits-statistics-finalised-annual-awards-2016-to-2017; Scottish Child Payment: Scottish Fiscal Commission https://www.fiscalcommission.scot/forecast/supplementary-costing-scottish-child-payment; Scottish Child Winter Heating Assistance: Scottish Fiscal Commission \n",
    "https://www.fiscalcommission.scot/forecast/supplementary-costing-child-winter-heating-assistance; Income tax: HMRC statistics https://www.gov.uk/government/statistics/income-tax-liabilities-statistics-tax-year-2014-to-2015-to-tax-year-2017-to-2018; National Insurance Contributions: ONS Blue Book Table 5.2.4s "
   ]
  },
  {
   "cell_type": "markdown",
   "id": "d4998737",
   "metadata": {},
   "source": [
    "## Aggregate tables\n",
    "\n",
    "OpenFisca-UK uprates input FRS data: below are comparisons between the aggregates calculated by OpenFisca-UK, UKMOD and external sources.\n",
    "\n",
    "### Aggregates in full"
   ]
  },
  {
   "cell_type": "code",
   "execution_count": 1,
   "id": "cb98f204-73b5-42f9-a75d-e26c08e1f63c",
   "metadata": {
    "tags": [
     "hide-input"
    ]
   },
   "outputs": [
    {
     "data": {
      "text/html": [
       "<div>\n",
       "<style scoped>\n",
       "    .dataframe tbody tr th:only-of-type {\n",
       "        vertical-align: middle;\n",
       "    }\n",
       "\n",
       "    .dataframe tbody tr th {\n",
       "        vertical-align: top;\n",
       "    }\n",
       "\n",
       "    .dataframe thead th {\n",
       "        text-align: right;\n",
       "    }\n",
       "</style>\n",
       "<table border=\"1\" class=\"dataframe\">\n",
       "  <thead>\n",
       "    <tr style=\"text-align: right;\">\n",
       "      <th></th>\n",
       "      <th></th>\n",
       "      <th>Child Benefit</th>\n",
       "      <th>Income Support</th>\n",
       "      <th>JSA (income-based)</th>\n",
       "      <th>Housing Benefit</th>\n",
       "      <th>Working Tax Credit</th>\n",
       "      <th>Child Tax Credit</th>\n",
       "      <th>Universal Credit</th>\n",
       "      <th>Pension Credit</th>\n",
       "      <th>Income Tax</th>\n",
       "      <th>National Insurance (total)</th>\n",
       "      <th>Employment income</th>\n",
       "      <th>Self-employment income</th>\n",
       "      <th>Pension income</th>\n",
       "      <th>Rental income</th>\n",
       "      <th>Savings interest income</th>\n",
       "      <th>Income from dividends</th>\n",
       "    </tr>\n",
       "  </thead>\n",
       "  <tbody>\n",
       "    <tr>\n",
       "      <th rowspan=\"4\" valign=\"top\">External</th>\n",
       "      <th>2022</th>\n",
       "      <td>11.2</td>\n",
       "      <td>0.7</td>\n",
       "      <td>0.2</td>\n",
       "      <td>15.9</td>\n",
       "      <td>1.7</td>\n",
       "      <td>6.1</td>\n",
       "      <td>43.7</td>\n",
       "      <td>4.5</td>\n",
       "      <td>205.0</td>\n",
       "      <td>151.3</td>\n",
       "      <td>868.6</td>\n",
       "      <td>93.3</td>\n",
       "      <td></td>\n",
       "      <td>25.0</td>\n",
       "      <td>5.3</td>\n",
       "      <td>69.6</td>\n",
       "    </tr>\n",
       "    <tr>\n",
       "      <th>2023</th>\n",
       "      <td>11.5</td>\n",
       "      <td>0.5</td>\n",
       "      <td>0.0</td>\n",
       "      <td>14.7</td>\n",
       "      <td>1.3</td>\n",
       "      <td>4.6</td>\n",
       "      <td>49.8</td>\n",
       "      <td>4.4</td>\n",
       "      <td>215.0</td>\n",
       "      <td>157.5</td>\n",
       "      <td>894.7</td>\n",
       "      <td>96.1</td>\n",
       "      <td></td>\n",
       "      <td>25.7</td>\n",
       "      <td>5.5</td>\n",
       "      <td>71.7</td>\n",
       "    </tr>\n",
       "    <tr>\n",
       "      <th>2024</th>\n",
       "      <td>11.6</td>\n",
       "      <td>0.5</td>\n",
       "      <td>0.0</td>\n",
       "      <td>12.5</td>\n",
       "      <td>0.8</td>\n",
       "      <td>3.0</td>\n",
       "      <td>57.8</td>\n",
       "      <td>4.4</td>\n",
       "      <td>225.7</td>\n",
       "      <td>164.6</td>\n",
       "      <td>922.4</td>\n",
       "      <td>99.0</td>\n",
       "      <td></td>\n",
       "      <td>26.5</td>\n",
       "      <td>5.6</td>\n",
       "      <td>73.9</td>\n",
       "    </tr>\n",
       "    <tr>\n",
       "      <th>2025</th>\n",
       "      <td>11.6</td>\n",
       "      <td>0.4</td>\n",
       "      <td>0.0</td>\n",
       "      <td>10.2</td>\n",
       "      <td>0.4</td>\n",
       "      <td>1.4</td>\n",
       "      <td>68.0</td>\n",
       "      <td>4.2</td>\n",
       "      <td>237.5</td>\n",
       "      <td>172.1</td>\n",
       "      <td>949.2</td>\n",
       "      <td>101.9</td>\n",
       "      <td></td>\n",
       "      <td>27.3</td>\n",
       "      <td>5.8</td>\n",
       "      <td>76.0</td>\n",
       "    </tr>\n",
       "    <tr>\n",
       "      <th rowspan=\"4\" valign=\"top\">OpenFisca-UK</th>\n",
       "      <th>2022</th>\n",
       "      <td>10.6</td>\n",
       "      <td>0.4</td>\n",
       "      <td>0.0</td>\n",
       "      <td>17.1</td>\n",
       "      <td>1.5</td>\n",
       "      <td>5.7</td>\n",
       "      <td>43.6</td>\n",
       "      <td>4.6</td>\n",
       "      <td>199.6</td>\n",
       "      <td>149.5</td>\n",
       "      <td>866.7</td>\n",
       "      <td>95.2</td>\n",
       "      <td>114.7</td>\n",
       "      <td>24.5</td>\n",
       "      <td>5.2</td>\n",
       "      <td>67.0</td>\n",
       "    </tr>\n",
       "    <tr>\n",
       "      <th>2023</th>\n",
       "      <td>11.0</td>\n",
       "      <td>0.3</td>\n",
       "      <td>0.0</td>\n",
       "      <td>15.0</td>\n",
       "      <td>1.2</td>\n",
       "      <td>4.4</td>\n",
       "      <td>50.6</td>\n",
       "      <td>4.6</td>\n",
       "      <td>210.3</td>\n",
       "      <td>155.8</td>\n",
       "      <td>896.2</td>\n",
       "      <td>97.8</td>\n",
       "      <td>118.0</td>\n",
       "      <td>25.2</td>\n",
       "      <td>5.4</td>\n",
       "      <td>68.1</td>\n",
       "    </tr>\n",
       "    <tr>\n",
       "      <th>2024</th>\n",
       "      <td>11.1</td>\n",
       "      <td>0.3</td>\n",
       "      <td>0.0</td>\n",
       "      <td>13.2</td>\n",
       "      <td>0.8</td>\n",
       "      <td>2.9</td>\n",
       "      <td>57.5</td>\n",
       "      <td>4.3</td>\n",
       "      <td>221.4</td>\n",
       "      <td>162.7</td>\n",
       "      <td>925.2</td>\n",
       "      <td>100.9</td>\n",
       "      <td>121.6</td>\n",
       "      <td>25.9</td>\n",
       "      <td>5.5</td>\n",
       "      <td>70.4</td>\n",
       "    </tr>\n",
       "    <tr>\n",
       "      <th>2025</th>\n",
       "      <td>11.1</td>\n",
       "      <td>0.3</td>\n",
       "      <td>0.0</td>\n",
       "      <td>11.2</td>\n",
       "      <td>0.3</td>\n",
       "      <td>1.3</td>\n",
       "      <td>65.5</td>\n",
       "      <td>4.1</td>\n",
       "      <td>227.7</td>\n",
       "      <td>170.5</td>\n",
       "      <td>958.6</td>\n",
       "      <td>104.2</td>\n",
       "      <td>125.3</td>\n",
       "      <td>26.8</td>\n",
       "      <td>5.7</td>\n",
       "      <td>72.7</td>\n",
       "    </tr>\n",
       "    <tr>\n",
       "      <th rowspan=\"4\" valign=\"top\">UKMOD</th>\n",
       "      <th>2022</th>\n",
       "      <td>12.0</td>\n",
       "      <td></td>\n",
       "      <td></td>\n",
       "      <td>10.3</td>\n",
       "      <td>1.6</td>\n",
       "      <td>5.4</td>\n",
       "      <td>34.1</td>\n",
       "      <td>4.2</td>\n",
       "      <td>161.2</td>\n",
       "      <td>156.0</td>\n",
       "      <td></td>\n",
       "      <td></td>\n",
       "      <td></td>\n",
       "      <td></td>\n",
       "      <td></td>\n",
       "      <td></td>\n",
       "    </tr>\n",
       "    <tr>\n",
       "      <th>2023</th>\n",
       "      <td>12.3</td>\n",
       "      <td></td>\n",
       "      <td></td>\n",
       "      <td>9.6</td>\n",
       "      <td>1.3</td>\n",
       "      <td>4.5</td>\n",
       "      <td>39.1</td>\n",
       "      <td>4.4</td>\n",
       "      <td>170.6</td>\n",
       "      <td>145.1</td>\n",
       "      <td></td>\n",
       "      <td></td>\n",
       "      <td></td>\n",
       "      <td></td>\n",
       "      <td></td>\n",
       "      <td></td>\n",
       "    </tr>\n",
       "    <tr>\n",
       "      <th>2024</th>\n",
       "      <td>12.5</td>\n",
       "      <td></td>\n",
       "      <td></td>\n",
       "      <td>8.5</td>\n",
       "      <td>0.9</td>\n",
       "      <td>3.3</td>\n",
       "      <td>39.1</td>\n",
       "      <td>4.5</td>\n",
       "      <td>178.5</td>\n",
       "      <td>147.9</td>\n",
       "      <td></td>\n",
       "      <td></td>\n",
       "      <td></td>\n",
       "      <td></td>\n",
       "      <td></td>\n",
       "      <td></td>\n",
       "    </tr>\n",
       "    <tr>\n",
       "      <th>2025</th>\n",
       "      <td>12.6</td>\n",
       "      <td></td>\n",
       "      <td></td>\n",
       "      <td>6.7</td>\n",
       "      <td>0.4</td>\n",
       "      <td>1.5</td>\n",
       "      <td>45.6</td>\n",
       "      <td>4.5</td>\n",
       "      <td>187.9</td>\n",
       "      <td>151.9</td>\n",
       "      <td></td>\n",
       "      <td></td>\n",
       "      <td></td>\n",
       "      <td></td>\n",
       "      <td></td>\n",
       "      <td></td>\n",
       "    </tr>\n",
       "  </tbody>\n",
       "</table>\n",
       "</div>"
      ],
      "text/plain": [
       "                   Child Benefit Income Support JSA (income-based)  \\\n",
       "External     2022           11.2            0.7                0.2   \n",
       "             2023           11.5            0.5                0.0   \n",
       "             2024           11.6            0.5                0.0   \n",
       "             2025           11.6            0.4                0.0   \n",
       "OpenFisca-UK 2022           10.6            0.4                0.0   \n",
       "             2023           11.0            0.3                0.0   \n",
       "             2024           11.1            0.3                0.0   \n",
       "             2025           11.1            0.3                0.0   \n",
       "UKMOD        2022           12.0                                     \n",
       "             2023           12.3                                     \n",
       "             2024           12.5                                     \n",
       "             2025           12.6                                     \n",
       "\n",
       "                   Housing Benefit  Working Tax Credit  Child Tax Credit  \\\n",
       "External     2022             15.9                 1.7               6.1   \n",
       "             2023             14.7                 1.3               4.6   \n",
       "             2024             12.5                 0.8               3.0   \n",
       "             2025             10.2                 0.4               1.4   \n",
       "OpenFisca-UK 2022             17.1                 1.5               5.7   \n",
       "             2023             15.0                 1.2               4.4   \n",
       "             2024             13.2                 0.8               2.9   \n",
       "             2025             11.2                 0.3               1.3   \n",
       "UKMOD        2022             10.3                 1.6               5.4   \n",
       "             2023              9.6                 1.3               4.5   \n",
       "             2024              8.5                 0.9               3.3   \n",
       "             2025              6.7                 0.4               1.5   \n",
       "\n",
       "                   Universal Credit  Pension Credit  Income Tax  \\\n",
       "External     2022              43.7             4.5       205.0   \n",
       "             2023              49.8             4.4       215.0   \n",
       "             2024              57.8             4.4       225.7   \n",
       "             2025              68.0             4.2       237.5   \n",
       "OpenFisca-UK 2022              43.6             4.6       199.6   \n",
       "             2023              50.6             4.6       210.3   \n",
       "             2024              57.5             4.3       221.4   \n",
       "             2025              65.5             4.1       227.7   \n",
       "UKMOD        2022              34.1             4.2       161.2   \n",
       "             2023              39.1             4.4       170.6   \n",
       "             2024              39.1             4.5       178.5   \n",
       "             2025              45.6             4.5       187.9   \n",
       "\n",
       "                   National Insurance (total) Employment income  \\\n",
       "External     2022                       151.3             868.6   \n",
       "             2023                       157.5             894.7   \n",
       "             2024                       164.6             922.4   \n",
       "             2025                       172.1             949.2   \n",
       "OpenFisca-UK 2022                       149.5             866.7   \n",
       "             2023                       155.8             896.2   \n",
       "             2024                       162.7             925.2   \n",
       "             2025                       170.5             958.6   \n",
       "UKMOD        2022                       156.0                     \n",
       "             2023                       145.1                     \n",
       "             2024                       147.9                     \n",
       "             2025                       151.9                     \n",
       "\n",
       "                  Self-employment income Pension income Rental income  \\\n",
       "External     2022                   93.3                         25.0   \n",
       "             2023                   96.1                         25.7   \n",
       "             2024                   99.0                         26.5   \n",
       "             2025                  101.9                         27.3   \n",
       "OpenFisca-UK 2022                   95.2          114.7          24.5   \n",
       "             2023                   97.8          118.0          25.2   \n",
       "             2024                  100.9          121.6          25.9   \n",
       "             2025                  104.2          125.3          26.8   \n",
       "UKMOD        2022                                                       \n",
       "             2023                                                       \n",
       "             2024                                                       \n",
       "             2025                                                       \n",
       "\n",
       "                  Savings interest income Income from dividends  \n",
       "External     2022                     5.3                  69.6  \n",
       "             2023                     5.5                  71.7  \n",
       "             2024                     5.6                  73.9  \n",
       "             2025                     5.8                  76.0  \n",
       "OpenFisca-UK 2022                     5.2                  67.0  \n",
       "             2023                     5.4                  68.1  \n",
       "             2024                     5.5                  70.4  \n",
       "             2025                     5.7                  72.7  \n",
       "UKMOD        2022                                                \n",
       "             2023                                                \n",
       "             2024                                                \n",
       "             2025                                                "
      ]
     },
     "execution_count": 1,
     "metadata": {},
     "output_type": "execute_result"
    }
   ],
   "source": [
    "import numpy as np\n",
    "import pandas as pd\n",
    "from policyengine_uk import (\n",
    "    Microsimulation,\n",
    "    REPO,\n",
    "    EnhancedFRS,\n",
    "    CalibratedFRS,\n",
    ")\n",
    "from policyengine_uk.system import (\n",
    "    parameters as BASELINE_PARAMETERS,\n",
    "    variables as BASELINE_VARIABLES,\n",
    ")\n",
    "from policyengine_core.parameters import ParameterNode\n",
    "from pathlib import Path\n",
    "import yaml\n",
    "import plotly.express as px\n",
    "import warnings\n",
    "\n",
    "warnings.filterwarnings(\"ignore\")\n",
    "warnings.simplefilter(\"ignore\")\n",
    "\n",
    "policyengine_uk = \"OpenFisca-UK\"\n",
    "UKMOD = \"UKMOD\"\n",
    "EXTERNAL = \"External\"\n",
    "\n",
    "parameters = BASELINE_PARAMETERS\n",
    "default_variables = BASELINE_VARIABLES\n",
    "\n",
    "VARIABLES = [\n",
    "    \"child_benefit\",\n",
    "    \"income_support\",\n",
    "    \"JSA_income\",\n",
    "    \"housing_benefit\",\n",
    "    \"working_tax_credit\",\n",
    "    \"child_tax_credit\",\n",
    "    \"universal_credit\",\n",
    "    \"pension_credit\",\n",
    "    \"income_tax\",\n",
    "    \"total_NI\",\n",
    "    \"employment_income\",\n",
    "    \"self_employment_income\",\n",
    "    \"pension_income\",\n",
    "    \"property_income\",\n",
    "    \"savings_interest_income\",\n",
    "    \"dividend_income\",\n",
    "]\n",
    "\n",
    "sim = Microsimulation(dataset=EnhancedFRS)\n",
    "\n",
    "# https://stackoverflow.com/questions/34667108/ignore-dates-and-times-while-parsing-yaml\n",
    "\n",
    "yaml.SafeLoader.yaml_implicit_resolvers = {\n",
    "    k: [r for r in v if r[0] != \"tag:yaml.org,2002:timestamp\"]\n",
    "    for k, v in yaml.SafeLoader.yaml_implicit_resolvers.items()\n",
    "}\n",
    "\n",
    "with open(\n",
    "    REPO.parent\n",
    "    / \"docs\"\n",
    "    / \"book\"\n",
    "    / \"model\"\n",
    "    / \"ukmod_country_report_statistics.yaml\",\n",
    "    mode=\"r\",\n",
    ") as f:\n",
    "    ukmod_statistics = ParameterNode(\n",
    "        \"ukmod\", data=yaml.load(f, Loader=yaml.SafeLoader)\n",
    "    )\n",
    "\n",
    "\n",
    "def process_scalar(x, divisor, decimals):\n",
    "    try:\n",
    "        if np.isnan(x):\n",
    "            return x\n",
    "    except:\n",
    "        return \"\"\n",
    "    return round(x / divisor, decimals)\n",
    "\n",
    "\n",
    "def model_validation_table(\n",
    "    model_year_variable_to_result_func,\n",
    "    title=None,\n",
    "    start_year=2022,\n",
    "    end_year=2025,\n",
    "    divisor=1,\n",
    "    decimals=0,\n",
    "    models=[EXTERNAL, policyengine_uk, UKMOD],\n",
    "    variables=VARIABLES,\n",
    "):\n",
    "    dfs = []\n",
    "    for model in models:\n",
    "        df = pd.DataFrame(\n",
    "            {\n",
    "                year: {\n",
    "                    BASELINE_VARIABLES[variable].label: process_scalar(\n",
    "                        model_year_variable_to_result_func(\n",
    "                            model, year, variable\n",
    "                        ),\n",
    "                        divisor,\n",
    "                        decimals,\n",
    "                    )\n",
    "                    for variable in variables\n",
    "                }\n",
    "                for year in range(start_year, end_year + 1)\n",
    "            }\n",
    "        )\n",
    "        dfs.append(df.T)\n",
    "    return pd.concat(dfs, keys=models).replace(np.nan, \"\")\n",
    "\n",
    "\n",
    "def budgetary_impact(model, year, variable):\n",
    "    try:\n",
    "        if model == policyengine_uk:\n",
    "            return sim.calc(variable, map_to=\"household\", period=year).sum()\n",
    "        elif model == UKMOD:\n",
    "            return getattr(ukmod_statistics.ukmod.budgetary_impact, variable)(\n",
    "                f\"{year}-01-01\"\n",
    "            )\n",
    "        elif model == EXTERNAL:\n",
    "            param = BASELINE_PARAMETERS.calibration.programs.children[\n",
    "                variable\n",
    "            ].budgetary_impact\n",
    "            if variable == \"income_tax\":\n",
    "                param = param.by_country\n",
    "            if \"UNITED_KINGDOM\" in param.children:\n",
    "                return param.UNITED_KINGDOM(f\"{year}-01-01\")\n",
    "            elif \"GREAT_BRITAIN\" in param.children:\n",
    "                return param.GREAT_BRITAIN(f\"{year}-01-01\")\n",
    "    except Exception as e:\n",
    "        return np.nan\n",
    "\n",
    "\n",
    "model_validation_table(budgetary_impact, divisor=1e9, decimals=1)"
   ]
  },
  {
   "cell_type": "markdown",
   "id": "626c55d3-8a51-4148-baae-3cf7405d2163",
   "metadata": {},
   "source": [
    "### Forecast comparison"
   ]
  },
  {
   "cell_type": "code",
   "execution_count": 2,
   "id": "e4b06316-41a6-480b-9816-9afdc244a824",
   "metadata": {
    "tags": [
     "hide-input"
    ]
   },
   "outputs": [
    {
     "data": {
      "application/vnd.plotly.v1+json": {
       "config": {
        "plotlyServerURL": "https://plot.ly"
       },
       "data": [
        {
         "hovertemplate": "",
         "legendgroup": "External",
         "line": {
          "color": "#00cc96",
          "dash": "solid"
         },
         "marker": {
          "symbol": "circle"
         },
         "mode": "lines",
         "name": "External",
         "orientation": "h",
         "showlegend": true,
         "type": "scatter",
         "x": [
          2022,
          2023,
          2024,
          2025
         ],
         "xaxis": "x",
         "y": [
          11213000000,
          11546000000,
          11626000000,
          11627000000
         ],
         "yaxis": "y"
        },
        {
         "hovertemplate": "",
         "legendgroup": "OpenFisca-UK",
         "line": {
          "color": "blue",
          "dash": "solid"
         },
         "marker": {
          "symbol": "circle"
         },
         "mode": "lines",
         "name": "OpenFisca-UK",
         "orientation": "h",
         "showlegend": true,
         "type": "scatter",
         "x": [
          2022,
          2023,
          2024,
          2025
         ],
         "xaxis": "x",
         "y": [
          10619257490.1,
          11045094385.7,
          11064886347.6,
          11109071583.5
         ],
         "yaxis": "y"
        },
        {
         "hovertemplate": "",
         "legendgroup": "UKMOD",
         "line": {
          "color": "lightgrey",
          "dash": "solid"
         },
         "marker": {
          "symbol": "circle"
         },
         "mode": "lines",
         "name": "UKMOD",
         "orientation": "h",
         "showlegend": true,
         "type": "scatter",
         "x": [
          2022,
          2023,
          2024,
          2025
         ],
         "xaxis": "x",
         "y": [
          11963000000,
          12331000000,
          12547000000,
          12579000000
         ],
         "yaxis": "y"
        }
       ],
       "frames": [
        {
         "data": [
          {
           "hovertemplate": "",
           "legendgroup": "External",
           "line": {
            "color": "#00cc96",
            "dash": "solid"
           },
           "marker": {
            "symbol": "circle"
           },
           "mode": "lines",
           "name": "External",
           "orientation": "h",
           "showlegend": true,
           "type": "scatter",
           "x": [
            2022,
            2023,
            2024,
            2025
           ],
           "xaxis": "x",
           "y": [
            11213000000,
            11546000000,
            11626000000,
            11627000000
           ],
           "yaxis": "y"
          },
          {
           "hovertemplate": "",
           "legendgroup": "OpenFisca-UK",
           "line": {
            "color": "blue",
            "dash": "solid"
           },
           "marker": {
            "symbol": "circle"
           },
           "mode": "lines",
           "name": "OpenFisca-UK",
           "orientation": "h",
           "showlegend": true,
           "type": "scatter",
           "x": [
            2022,
            2023,
            2024,
            2025
           ],
           "xaxis": "x",
           "y": [
            10619257490.1,
            11045094385.7,
            11064886347.6,
            11109071583.5
           ],
           "yaxis": "y"
          },
          {
           "hovertemplate": "",
           "legendgroup": "UKMOD",
           "line": {
            "color": "lightgrey",
            "dash": "solid"
           },
           "marker": {
            "symbol": "circle"
           },
           "mode": "lines",
           "name": "UKMOD",
           "orientation": "h",
           "showlegend": true,
           "type": "scatter",
           "x": [
            2022,
            2023,
            2024,
            2025
           ],
           "xaxis": "x",
           "y": [
            11963000000,
            12331000000,
            12547000000,
            12579000000
           ],
           "yaxis": "y"
          }
         ],
         "name": "Child Benefit"
        },
        {
         "data": [
          {
           "hovertemplate": "",
           "legendgroup": "External",
           "line": {
            "color": "#00cc96",
            "dash": "solid"
           },
           "marker": {
            "symbol": "circle"
           },
           "mode": "lines",
           "name": "External",
           "orientation": "h",
           "showlegend": true,
           "type": "scatter",
           "x": [
            2022,
            2023,
            2024,
            2025
           ],
           "xaxis": "x",
           "y": [
            6147712115.1,
            4614002783.7,
            3029598967.7,
            1374383807.9
           ],
           "yaxis": "y"
          },
          {
           "hovertemplate": "",
           "legendgroup": "OpenFisca-UK",
           "line": {
            "color": "blue",
            "dash": "solid"
           },
           "marker": {
            "symbol": "circle"
           },
           "mode": "lines",
           "name": "OpenFisca-UK",
           "orientation": "h",
           "showlegend": true,
           "type": "scatter",
           "x": [
            2022,
            2023,
            2024,
            2025
           ],
           "xaxis": "x",
           "y": [
            5663381936.9,
            4393981263.2,
            2884568198.9,
            1272695951.9
           ],
           "yaxis": "y"
          },
          {
           "hovertemplate": "",
           "legendgroup": "UKMOD",
           "line": {
            "color": "lightgrey",
            "dash": "solid"
           },
           "marker": {
            "symbol": "circle"
           },
           "mode": "lines",
           "name": "UKMOD",
           "orientation": "h",
           "showlegend": true,
           "type": "scatter",
           "x": [
            2022,
            2023,
            2024,
            2025
           ],
           "xaxis": "x",
           "y": [
            5382000000,
            4546000000,
            3287000000,
            1461000000
           ],
           "yaxis": "y"
          }
         ],
         "name": "Child Tax Credit"
        },
        {
         "data": [
          {
           "hovertemplate": "",
           "legendgroup": "External",
           "line": {
            "color": "#00cc96",
            "dash": "solid"
           },
           "marker": {
            "symbol": "circle"
           },
           "mode": "lines",
           "name": "External",
           "orientation": "h",
           "showlegend": true,
           "type": "scatter",
           "x": [
            2022,
            2023,
            2024,
            2025
           ],
           "xaxis": "x",
           "y": [
            868644173913,
            894739362318.8,
            922438956521.7,
            949194782608.7
           ],
           "yaxis": "y"
          },
          {
           "hovertemplate": "",
           "legendgroup": "OpenFisca-UK",
           "line": {
            "color": "blue",
            "dash": "solid"
           },
           "marker": {
            "symbol": "circle"
           },
           "mode": "lines",
           "name": "OpenFisca-UK",
           "orientation": "h",
           "showlegend": true,
           "type": "scatter",
           "x": [
            2022,
            2023,
            2024,
            2025
           ],
           "xaxis": "x",
           "y": [
            866704576568.4,
            896222386598.5,
            925221901474.2,
            958581487359
           ],
           "yaxis": "y"
          },
          {
           "hovertemplate": "",
           "legendgroup": "UKMOD",
           "line": {
            "color": "lightgrey",
            "dash": "solid"
           },
           "marker": {
            "symbol": "circle"
           },
           "mode": "lines",
           "name": "UKMOD",
           "orientation": "h",
           "showlegend": true,
           "type": "scatter",
           "x": [
            2022,
            2023,
            2024,
            2025
           ],
           "xaxis": "x",
           "y": [
            "",
            "",
            "",
            ""
           ],
           "yaxis": "y"
          }
         ],
         "name": "Employment income"
        },
        {
         "data": [
          {
           "hovertemplate": "",
           "legendgroup": "External",
           "line": {
            "color": "#00cc96",
            "dash": "solid"
           },
           "marker": {
            "symbol": "circle"
           },
           "mode": "lines",
           "name": "External",
           "orientation": "h",
           "showlegend": true,
           "type": "scatter",
           "x": [
            2022,
            2023,
            2024,
            2025
           ],
           "xaxis": "x",
           "y": [
            15894000000,
            14728000000,
            12503000000,
            10213000000
           ],
           "yaxis": "y"
          },
          {
           "hovertemplate": "",
           "legendgroup": "OpenFisca-UK",
           "line": {
            "color": "blue",
            "dash": "solid"
           },
           "marker": {
            "symbol": "circle"
           },
           "mode": "lines",
           "name": "OpenFisca-UK",
           "orientation": "h",
           "showlegend": true,
           "type": "scatter",
           "x": [
            2022,
            2023,
            2024,
            2025
           ],
           "xaxis": "x",
           "y": [
            17133765791.3,
            14953777223.9,
            13249015675.8,
            11230789702.8
           ],
           "yaxis": "y"
          },
          {
           "hovertemplate": "",
           "legendgroup": "UKMOD",
           "line": {
            "color": "lightgrey",
            "dash": "solid"
           },
           "marker": {
            "symbol": "circle"
           },
           "mode": "lines",
           "name": "UKMOD",
           "orientation": "h",
           "showlegend": true,
           "type": "scatter",
           "x": [
            2022,
            2023,
            2024,
            2025
           ],
           "xaxis": "x",
           "y": [
            10332000000,
            9622000000,
            8476000000,
            6706000000
           ],
           "yaxis": "y"
          }
         ],
         "name": "Housing Benefit"
        },
        {
         "data": [
          {
           "hovertemplate": "",
           "legendgroup": "External",
           "line": {
            "color": "#00cc96",
            "dash": "solid"
           },
           "marker": {
            "symbol": "circle"
           },
           "mode": "lines",
           "name": "External",
           "orientation": "h",
           "showlegend": true,
           "type": "scatter",
           "x": [
            2022,
            2023,
            2024,
            2025
           ],
           "xaxis": "x",
           "y": [
            670000000,
            491000000,
            471000000,
            432000000
           ],
           "yaxis": "y"
          },
          {
           "hovertemplate": "",
           "legendgroup": "OpenFisca-UK",
           "line": {
            "color": "blue",
            "dash": "solid"
           },
           "marker": {
            "symbol": "circle"
           },
           "mode": "lines",
           "name": "OpenFisca-UK",
           "orientation": "h",
           "showlegend": true,
           "type": "scatter",
           "x": [
            2022,
            2023,
            2024,
            2025
           ],
           "xaxis": "x",
           "y": [
            356887338.8,
            260210070.3,
            308152799.5,
            265021319.1
           ],
           "yaxis": "y"
          },
          {
           "hovertemplate": "",
           "legendgroup": "UKMOD",
           "line": {
            "color": "lightgrey",
            "dash": "solid"
           },
           "marker": {
            "symbol": "circle"
           },
           "mode": "lines",
           "name": "UKMOD",
           "orientation": "h",
           "showlegend": true,
           "type": "scatter",
           "x": [
            2022,
            2023,
            2024,
            2025
           ],
           "xaxis": "x",
           "y": [
            "",
            "",
            "",
            ""
           ],
           "yaxis": "y"
          }
         ],
         "name": "Income Support"
        },
        {
         "data": [
          {
           "hovertemplate": "",
           "legendgroup": "External",
           "line": {
            "color": "#00cc96",
            "dash": "solid"
           },
           "marker": {
            "symbol": "circle"
           },
           "mode": "lines",
           "name": "External",
           "orientation": "h",
           "showlegend": true,
           "type": "scatter",
           "x": [
            2022,
            2023,
            2024,
            2025
           ],
           "xaxis": "x",
           "y": [
            205000000000,
            215000000000,
            225700000000,
            237500000000
           ],
           "yaxis": "y"
          },
          {
           "hovertemplate": "",
           "legendgroup": "OpenFisca-UK",
           "line": {
            "color": "blue",
            "dash": "solid"
           },
           "marker": {
            "symbol": "circle"
           },
           "mode": "lines",
           "name": "OpenFisca-UK",
           "orientation": "h",
           "showlegend": true,
           "type": "scatter",
           "x": [
            2022,
            2023,
            2024,
            2025
           ],
           "xaxis": "x",
           "y": [
            199574401336.5,
            210322781318.3,
            221365680841.6,
            227678700348.6
           ],
           "yaxis": "y"
          },
          {
           "hovertemplate": "",
           "legendgroup": "UKMOD",
           "line": {
            "color": "lightgrey",
            "dash": "solid"
           },
           "marker": {
            "symbol": "circle"
           },
           "mode": "lines",
           "name": "UKMOD",
           "orientation": "h",
           "showlegend": true,
           "type": "scatter",
           "x": [
            2022,
            2023,
            2024,
            2025
           ],
           "xaxis": "x",
           "y": [
            161197000000,
            170626000000,
            178488000000,
            187865000000
           ],
           "yaxis": "y"
          }
         ],
         "name": "Income Tax"
        },
        {
         "data": [
          {
           "hovertemplate": "",
           "legendgroup": "External",
           "line": {
            "color": "#00cc96",
            "dash": "solid"
           },
           "marker": {
            "symbol": "circle"
           },
           "mode": "lines",
           "name": "External",
           "orientation": "h",
           "showlegend": true,
           "type": "scatter",
           "x": [
            2022,
            2023,
            2024,
            2025
           ],
           "xaxis": "x",
           "y": [
            69576904347.8,
            71667084058,
            73885773913,
            76028869565.2
           ],
           "yaxis": "y"
          },
          {
           "hovertemplate": "",
           "legendgroup": "OpenFisca-UK",
           "line": {
            "color": "blue",
            "dash": "solid"
           },
           "marker": {
            "symbol": "circle"
           },
           "mode": "lines",
           "name": "OpenFisca-UK",
           "orientation": "h",
           "showlegend": true,
           "type": "scatter",
           "x": [
            2022,
            2023,
            2024,
            2025
           ],
           "xaxis": "x",
           "y": [
            66994891671.1,
            68124118527.3,
            70358857444.2,
            72685324409.6
           ],
           "yaxis": "y"
          },
          {
           "hovertemplate": "",
           "legendgroup": "UKMOD",
           "line": {
            "color": "lightgrey",
            "dash": "solid"
           },
           "marker": {
            "symbol": "circle"
           },
           "mode": "lines",
           "name": "UKMOD",
           "orientation": "h",
           "showlegend": true,
           "type": "scatter",
           "x": [
            2022,
            2023,
            2024,
            2025
           ],
           "xaxis": "x",
           "y": [
            "",
            "",
            "",
            ""
           ],
           "yaxis": "y"
          }
         ],
         "name": "Income from dividends"
        },
        {
         "data": [
          {
           "hovertemplate": "",
           "legendgroup": "External",
           "line": {
            "color": "#00cc96",
            "dash": "solid"
           },
           "marker": {
            "symbol": "circle"
           },
           "mode": "lines",
           "name": "External",
           "orientation": "h",
           "showlegend": true,
           "type": "scatter",
           "x": [
            2022,
            2023,
            2024,
            2025
           ],
           "xaxis": "x",
           "y": [
            196000000,
            21000,
            0,
            0
           ],
           "yaxis": "y"
          },
          {
           "hovertemplate": "",
           "legendgroup": "OpenFisca-UK",
           "line": {
            "color": "blue",
            "dash": "solid"
           },
           "marker": {
            "symbol": "circle"
           },
           "mode": "lines",
           "name": "OpenFisca-UK",
           "orientation": "h",
           "showlegend": true,
           "type": "scatter",
           "x": [
            2022,
            2023,
            2024,
            2025
           ],
           "xaxis": "x",
           "y": [
            0,
            0,
            0,
            0
           ],
           "yaxis": "y"
          },
          {
           "hovertemplate": "",
           "legendgroup": "UKMOD",
           "line": {
            "color": "lightgrey",
            "dash": "solid"
           },
           "marker": {
            "symbol": "circle"
           },
           "mode": "lines",
           "name": "UKMOD",
           "orientation": "h",
           "showlegend": true,
           "type": "scatter",
           "x": [
            2022,
            2023,
            2024,
            2025
           ],
           "xaxis": "x",
           "y": [
            "",
            "",
            "",
            ""
           ],
           "yaxis": "y"
          }
         ],
         "name": "JSA (income-based)"
        },
        {
         "data": [
          {
           "hovertemplate": "",
           "legendgroup": "External",
           "line": {
            "color": "#00cc96",
            "dash": "solid"
           },
           "marker": {
            "symbol": "circle"
           },
           "mode": "lines",
           "name": "External",
           "orientation": "h",
           "showlegend": true,
           "type": "scatter",
           "x": [
            2022,
            2023,
            2024,
            2025
           ],
           "xaxis": "x",
           "y": [
            151300000000,
            157500000000,
            164600000000,
            172100000000
           ],
           "yaxis": "y"
          },
          {
           "hovertemplate": "",
           "legendgroup": "OpenFisca-UK",
           "line": {
            "color": "blue",
            "dash": "solid"
           },
           "marker": {
            "symbol": "circle"
           },
           "mode": "lines",
           "name": "OpenFisca-UK",
           "orientation": "h",
           "showlegend": true,
           "type": "scatter",
           "x": [
            2022,
            2023,
            2024,
            2025
           ],
           "xaxis": "x",
           "y": [
            149470753239.6,
            155755696761.6,
            162735330825.6,
            170495746368.8
           ],
           "yaxis": "y"
          },
          {
           "hovertemplate": "",
           "legendgroup": "UKMOD",
           "line": {
            "color": "lightgrey",
            "dash": "solid"
           },
           "marker": {
            "symbol": "circle"
           },
           "mode": "lines",
           "name": "UKMOD",
           "orientation": "h",
           "showlegend": true,
           "type": "scatter",
           "x": [
            2022,
            2023,
            2024,
            2025
           ],
           "xaxis": "x",
           "y": [
            156016000000,
            145114000000,
            147890000000,
            151875000000
           ],
           "yaxis": "y"
          }
         ],
         "name": "National Insurance (total)"
        },
        {
         "data": [
          {
           "hovertemplate": "",
           "legendgroup": "External",
           "line": {
            "color": "#00cc96",
            "dash": "solid"
           },
           "marker": {
            "symbol": "circle"
           },
           "mode": "lines",
           "name": "External",
           "orientation": "h",
           "showlegend": true,
           "type": "scatter",
           "x": [
            2022,
            2023,
            2024,
            2025
           ],
           "xaxis": "x",
           "y": [
            4466000000,
            4447000000,
            4379000000,
            4223000000
           ],
           "yaxis": "y"
          },
          {
           "hovertemplate": "",
           "legendgroup": "OpenFisca-UK",
           "line": {
            "color": "blue",
            "dash": "solid"
           },
           "marker": {
            "symbol": "circle"
           },
           "mode": "lines",
           "name": "OpenFisca-UK",
           "orientation": "h",
           "showlegend": true,
           "type": "scatter",
           "x": [
            2022,
            2023,
            2024,
            2025
           ],
           "xaxis": "x",
           "y": [
            4627063668.2,
            4616774581.2,
            4336706955.4,
            4067617762.1
           ],
           "yaxis": "y"
          },
          {
           "hovertemplate": "",
           "legendgroup": "UKMOD",
           "line": {
            "color": "lightgrey",
            "dash": "solid"
           },
           "marker": {
            "symbol": "circle"
           },
           "mode": "lines",
           "name": "UKMOD",
           "orientation": "h",
           "showlegend": true,
           "type": "scatter",
           "x": [
            2022,
            2023,
            2024,
            2025
           ],
           "xaxis": "x",
           "y": [
            4153000000,
            4410000000,
            4491000000,
            4466000000
           ],
           "yaxis": "y"
          }
         ],
         "name": "Pension Credit"
        },
        {
         "data": [
          {
           "hovertemplate": "",
           "legendgroup": "External",
           "line": {
            "color": "#00cc96",
            "dash": "solid"
           },
           "marker": {
            "symbol": "circle"
           },
           "mode": "lines",
           "name": "External",
           "orientation": "h",
           "showlegend": true,
           "type": "scatter",
           "x": [
            2022,
            2023,
            2024,
            2025
           ],
           "xaxis": "x",
           "y": [
            "",
            "",
            "",
            ""
           ],
           "yaxis": "y"
          },
          {
           "hovertemplate": "",
           "legendgroup": "OpenFisca-UK",
           "line": {
            "color": "blue",
            "dash": "solid"
           },
           "marker": {
            "symbol": "circle"
           },
           "mode": "lines",
           "name": "OpenFisca-UK",
           "orientation": "h",
           "showlegend": true,
           "type": "scatter",
           "x": [
            2022,
            2023,
            2024,
            2025
           ],
           "xaxis": "x",
           "y": [
            114668571386.9,
            117960968027.3,
            121647597909.6,
            125295621427
           ],
           "yaxis": "y"
          },
          {
           "hovertemplate": "",
           "legendgroup": "UKMOD",
           "line": {
            "color": "lightgrey",
            "dash": "solid"
           },
           "marker": {
            "symbol": "circle"
           },
           "mode": "lines",
           "name": "UKMOD",
           "orientation": "h",
           "showlegend": true,
           "type": "scatter",
           "x": [
            2022,
            2023,
            2024,
            2025
           ],
           "xaxis": "x",
           "y": [
            "",
            "",
            "",
            ""
           ],
           "yaxis": "y"
          }
         ],
         "name": "Pension income"
        },
        {
         "data": [
          {
           "hovertemplate": "",
           "legendgroup": "External",
           "line": {
            "color": "#00cc96",
            "dash": "solid"
           },
           "marker": {
            "symbol": "circle"
           },
           "mode": "lines",
           "name": "External",
           "orientation": "h",
           "showlegend": true,
           "type": "scatter",
           "x": [
            2022,
            2023,
            2024,
            2025
           ],
           "xaxis": "x",
           "y": [
            24970852173.9,
            25721008695.7,
            26517286956.5,
            27286434782.6
           ],
           "yaxis": "y"
          },
          {
           "hovertemplate": "",
           "legendgroup": "OpenFisca-UK",
           "line": {
            "color": "blue",
            "dash": "solid"
           },
           "marker": {
            "symbol": "circle"
           },
           "mode": "lines",
           "name": "OpenFisca-UK",
           "orientation": "h",
           "showlegend": true,
           "type": "scatter",
           "x": [
            2022,
            2023,
            2024,
            2025
           ],
           "xaxis": "x",
           "y": [
            24502583555.7,
            25157652889.2,
            25937967982.3,
            26774757988.7
           ],
           "yaxis": "y"
          },
          {
           "hovertemplate": "",
           "legendgroup": "UKMOD",
           "line": {
            "color": "lightgrey",
            "dash": "solid"
           },
           "marker": {
            "symbol": "circle"
           },
           "mode": "lines",
           "name": "UKMOD",
           "orientation": "h",
           "showlegend": true,
           "type": "scatter",
           "x": [
            2022,
            2023,
            2024,
            2025
           ],
           "xaxis": "x",
           "y": [
            "",
            "",
            "",
            ""
           ],
           "yaxis": "y"
          }
         ],
         "name": "Rental income"
        },
        {
         "data": [
          {
           "hovertemplate": "",
           "legendgroup": "External",
           "line": {
            "color": "#00cc96",
            "dash": "solid"
           },
           "marker": {
            "symbol": "circle"
           },
           "mode": "lines",
           "name": "External",
           "orientation": "h",
           "showlegend": true,
           "type": "scatter",
           "x": [
            2022,
            2023,
            2024,
            2025
           ],
           "xaxis": "x",
           "y": [
            5314309565.2,
            5473958260.9,
            5643422608.7,
            5807113043.5
           ],
           "yaxis": "y"
          },
          {
           "hovertemplate": "",
           "legendgroup": "OpenFisca-UK",
           "line": {
            "color": "blue",
            "dash": "solid"
           },
           "marker": {
            "symbol": "circle"
           },
           "mode": "lines",
           "name": "OpenFisca-UK",
           "orientation": "h",
           "showlegend": true,
           "type": "scatter",
           "x": [
            2022,
            2023,
            2024,
            2025
           ],
           "xaxis": "x",
           "y": [
            5220819975.5,
            5373102415.7,
            5540781740.1,
            5710217792.5
           ],
           "yaxis": "y"
          },
          {
           "hovertemplate": "",
           "legendgroup": "UKMOD",
           "line": {
            "color": "lightgrey",
            "dash": "solid"
           },
           "marker": {
            "symbol": "circle"
           },
           "mode": "lines",
           "name": "UKMOD",
           "orientation": "h",
           "showlegend": true,
           "type": "scatter",
           "x": [
            2022,
            2023,
            2024,
            2025
           ],
           "xaxis": "x",
           "y": [
            "",
            "",
            "",
            ""
           ],
           "yaxis": "y"
          }
         ],
         "name": "Savings interest income"
        },
        {
         "data": [
          {
           "hovertemplate": "",
           "legendgroup": "External",
           "line": {
            "color": "#00cc96",
            "dash": "solid"
           },
           "marker": {
            "symbol": "circle"
           },
           "mode": "lines",
           "name": "External",
           "orientation": "h",
           "showlegend": true,
           "type": "scatter",
           "x": [
            2022,
            2023,
            2024,
            2025
           ],
           "xaxis": "x",
           "y": [
            93267200000,
            96069066666.7,
            99043200000,
            101916000000
           ],
           "yaxis": "y"
          },
          {
           "hovertemplate": "",
           "legendgroup": "OpenFisca-UK",
           "line": {
            "color": "blue",
            "dash": "solid"
           },
           "marker": {
            "symbol": "circle"
           },
           "mode": "lines",
           "name": "OpenFisca-UK",
           "orientation": "h",
           "showlegend": true,
           "type": "scatter",
           "x": [
            2022,
            2023,
            2024,
            2025
           ],
           "xaxis": "x",
           "y": [
            95159690698.4,
            97799809115.2,
            100871849543,
            104155279672.3
           ],
           "yaxis": "y"
          },
          {
           "hovertemplate": "",
           "legendgroup": "UKMOD",
           "line": {
            "color": "lightgrey",
            "dash": "solid"
           },
           "marker": {
            "symbol": "circle"
           },
           "mode": "lines",
           "name": "UKMOD",
           "orientation": "h",
           "showlegend": true,
           "type": "scatter",
           "x": [
            2022,
            2023,
            2024,
            2025
           ],
           "xaxis": "x",
           "y": [
            "",
            "",
            "",
            ""
           ],
           "yaxis": "y"
          }
         ],
         "name": "Self-employment income"
        },
        {
         "data": [
          {
           "hovertemplate": "",
           "legendgroup": "External",
           "line": {
            "color": "#00cc96",
            "dash": "solid"
           },
           "marker": {
            "symbol": "circle"
           },
           "mode": "lines",
           "name": "External",
           "orientation": "h",
           "showlegend": true,
           "type": "scatter",
           "x": [
            2022,
            2023,
            2024,
            2025
           ],
           "xaxis": "x",
           "y": [
            43657000000,
            49751000000,
            57782000000,
            67959000000
           ],
           "yaxis": "y"
          },
          {
           "hovertemplate": "",
           "legendgroup": "OpenFisca-UK",
           "line": {
            "color": "blue",
            "dash": "solid"
           },
           "marker": {
            "symbol": "circle"
           },
           "mode": "lines",
           "name": "OpenFisca-UK",
           "orientation": "h",
           "showlegend": true,
           "type": "scatter",
           "x": [
            2022,
            2023,
            2024,
            2025
           ],
           "xaxis": "x",
           "y": [
            43564392294.2,
            50580852469.8,
            57466288529.9,
            65514824490.4
           ],
           "yaxis": "y"
          },
          {
           "hovertemplate": "",
           "legendgroup": "UKMOD",
           "line": {
            "color": "lightgrey",
            "dash": "solid"
           },
           "marker": {
            "symbol": "circle"
           },
           "mode": "lines",
           "name": "UKMOD",
           "orientation": "h",
           "showlegend": true,
           "type": "scatter",
           "x": [
            2022,
            2023,
            2024,
            2025
           ],
           "xaxis": "x",
           "y": [
            34073000000,
            39133000000,
            39133000000,
            45644000000
           ],
           "yaxis": "y"
          }
         ],
         "name": "Universal Credit"
        },
        {
         "data": [
          {
           "hovertemplate": "",
           "legendgroup": "External",
           "line": {
            "color": "#00cc96",
            "dash": "solid"
           },
           "marker": {
            "symbol": "circle"
           },
           "mode": "lines",
           "name": "External",
           "orientation": "h",
           "showlegend": true,
           "type": "scatter",
           "x": [
            2022,
            2023,
            2024,
            2025
           ],
           "xaxis": "x",
           "y": [
            1694774691.2,
            1271968335,
            835186742.4,
            378884184.9
           ],
           "yaxis": "y"
          },
          {
           "hovertemplate": "",
           "legendgroup": "OpenFisca-UK",
           "line": {
            "color": "blue",
            "dash": "solid"
           },
           "marker": {
            "symbol": "circle"
           },
           "mode": "lines",
           "name": "OpenFisca-UK",
           "orientation": "h",
           "showlegend": true,
           "type": "scatter",
           "x": [
            2022,
            2023,
            2024,
            2025
           ],
           "xaxis": "x",
           "y": [
            1456356504.5,
            1172271877.1,
            768229114.9,
            322638393.3
           ],
           "yaxis": "y"
          },
          {
           "hovertemplate": "",
           "legendgroup": "UKMOD",
           "line": {
            "color": "lightgrey",
            "dash": "solid"
           },
           "marker": {
            "symbol": "circle"
           },
           "mode": "lines",
           "name": "UKMOD",
           "orientation": "h",
           "showlegend": true,
           "type": "scatter",
           "x": [
            2022,
            2023,
            2024,
            2025
           ],
           "xaxis": "x",
           "y": [
            1573000000,
            1320000000,
            897000000,
            423000000
           ],
           "yaxis": "y"
          }
         ],
         "name": "Working Tax Credit"
        }
       ],
       "layout": {
        "height": 600,
        "legend": {
         "title": {
          "text": "Model"
         },
         "tracegroupgap": 0,
         "traceorder": "reversed"
        },
        "margin": {
         "t": 60
        },
        "sliders": [
         {
          "active": 0,
          "currentvalue": {
           "prefix": "Program="
          },
          "len": 0.9,
          "pad": {
           "b": 10,
           "t": 60
          },
          "steps": [
           {
            "args": [
             [
              "Child Benefit"
             ],
             {
              "frame": {
               "duration": 0,
               "redraw": false
              },
              "fromcurrent": true,
              "mode": "immediate",
              "transition": {
               "duration": 0,
               "easing": "linear"
              }
             }
            ],
            "label": "Child Benefit",
            "method": "animate"
           },
           {
            "args": [
             [
              "Child Tax Credit"
             ],
             {
              "frame": {
               "duration": 0,
               "redraw": false
              },
              "fromcurrent": true,
              "mode": "immediate",
              "transition": {
               "duration": 0,
               "easing": "linear"
              }
             }
            ],
            "label": "Child Tax Credit",
            "method": "animate"
           },
           {
            "args": [
             [
              "Employment income"
             ],
             {
              "frame": {
               "duration": 0,
               "redraw": false
              },
              "fromcurrent": true,
              "mode": "immediate",
              "transition": {
               "duration": 0,
               "easing": "linear"
              }
             }
            ],
            "label": "Employment income",
            "method": "animate"
           },
           {
            "args": [
             [
              "Housing Benefit"
             ],
             {
              "frame": {
               "duration": 0,
               "redraw": false
              },
              "fromcurrent": true,
              "mode": "immediate",
              "transition": {
               "duration": 0,
               "easing": "linear"
              }
             }
            ],
            "label": "Housing Benefit",
            "method": "animate"
           },
           {
            "args": [
             [
              "Income Support"
             ],
             {
              "frame": {
               "duration": 0,
               "redraw": false
              },
              "fromcurrent": true,
              "mode": "immediate",
              "transition": {
               "duration": 0,
               "easing": "linear"
              }
             }
            ],
            "label": "Income Support",
            "method": "animate"
           },
           {
            "args": [
             [
              "Income Tax"
             ],
             {
              "frame": {
               "duration": 0,
               "redraw": false
              },
              "fromcurrent": true,
              "mode": "immediate",
              "transition": {
               "duration": 0,
               "easing": "linear"
              }
             }
            ],
            "label": "Income Tax",
            "method": "animate"
           },
           {
            "args": [
             [
              "Income from dividends"
             ],
             {
              "frame": {
               "duration": 0,
               "redraw": false
              },
              "fromcurrent": true,
              "mode": "immediate",
              "transition": {
               "duration": 0,
               "easing": "linear"
              }
             }
            ],
            "label": "Income from dividends",
            "method": "animate"
           },
           {
            "args": [
             [
              "JSA (income-based)"
             ],
             {
              "frame": {
               "duration": 0,
               "redraw": false
              },
              "fromcurrent": true,
              "mode": "immediate",
              "transition": {
               "duration": 0,
               "easing": "linear"
              }
             }
            ],
            "label": "JSA (income-based)",
            "method": "animate"
           },
           {
            "args": [
             [
              "National Insurance (total)"
             ],
             {
              "frame": {
               "duration": 0,
               "redraw": false
              },
              "fromcurrent": true,
              "mode": "immediate",
              "transition": {
               "duration": 0,
               "easing": "linear"
              }
             }
            ],
            "label": "National Insurance (total)",
            "method": "animate"
           },
           {
            "args": [
             [
              "Pension Credit"
             ],
             {
              "frame": {
               "duration": 0,
               "redraw": false
              },
              "fromcurrent": true,
              "mode": "immediate",
              "transition": {
               "duration": 0,
               "easing": "linear"
              }
             }
            ],
            "label": "Pension Credit",
            "method": "animate"
           },
           {
            "args": [
             [
              "Pension income"
             ],
             {
              "frame": {
               "duration": 0,
               "redraw": false
              },
              "fromcurrent": true,
              "mode": "immediate",
              "transition": {
               "duration": 0,
               "easing": "linear"
              }
             }
            ],
            "label": "Pension income",
            "method": "animate"
           },
           {
            "args": [
             [
              "Rental income"
             ],
             {
              "frame": {
               "duration": 0,
               "redraw": false
              },
              "fromcurrent": true,
              "mode": "immediate",
              "transition": {
               "duration": 0,
               "easing": "linear"
              }
             }
            ],
            "label": "Rental income",
            "method": "animate"
           },
           {
            "args": [
             [
              "Savings interest income"
             ],
             {
              "frame": {
               "duration": 0,
               "redraw": false
              },
              "fromcurrent": true,
              "mode": "immediate",
              "transition": {
               "duration": 0,
               "easing": "linear"
              }
             }
            ],
            "label": "Savings interest income",
            "method": "animate"
           },
           {
            "args": [
             [
              "Self-employment income"
             ],
             {
              "frame": {
               "duration": 0,
               "redraw": false
              },
              "fromcurrent": true,
              "mode": "immediate",
              "transition": {
               "duration": 0,
               "easing": "linear"
              }
             }
            ],
            "label": "Self-employment income",
            "method": "animate"
           },
           {
            "args": [
             [
              "Universal Credit"
             ],
             {
              "frame": {
               "duration": 0,
               "redraw": false
              },
              "fromcurrent": true,
              "mode": "immediate",
              "transition": {
               "duration": 0,
               "easing": "linear"
              }
             }
            ],
            "label": "Universal Credit",
            "method": "animate"
           },
           {
            "args": [
             [
              "Working Tax Credit"
             ],
             {
              "frame": {
               "duration": 0,
               "redraw": false
              },
              "fromcurrent": true,
              "mode": "immediate",
              "transition": {
               "duration": 0,
               "easing": "linear"
              }
             }
            ],
            "label": "Working Tax Credit",
            "method": "animate"
           }
          ],
          "x": 0.1,
          "xanchor": "left",
          "y": 0,
          "yanchor": "top"
         }
        ],
        "template": {
         "data": {
          "bar": [
           {
            "error_x": {
             "color": "#2a3f5f"
            },
            "error_y": {
             "color": "#2a3f5f"
            },
            "marker": {
             "line": {
              "color": "white",
              "width": 0.5
             },
             "pattern": {
              "fillmode": "overlay",
              "size": 10,
              "solidity": 0.2
             }
            },
            "type": "bar"
           }
          ],
          "barpolar": [
           {
            "marker": {
             "line": {
              "color": "white",
              "width": 0.5
             },
             "pattern": {
              "fillmode": "overlay",
              "size": 10,
              "solidity": 0.2
             }
            },
            "type": "barpolar"
           }
          ],
          "carpet": [
           {
            "aaxis": {
             "endlinecolor": "#2a3f5f",
             "gridcolor": "#C8D4E3",
             "linecolor": "#C8D4E3",
             "minorgridcolor": "#C8D4E3",
             "startlinecolor": "#2a3f5f"
            },
            "baxis": {
             "endlinecolor": "#2a3f5f",
             "gridcolor": "#C8D4E3",
             "linecolor": "#C8D4E3",
             "minorgridcolor": "#C8D4E3",
             "startlinecolor": "#2a3f5f"
            },
            "type": "carpet"
           }
          ],
          "choropleth": [
           {
            "colorbar": {
             "outlinewidth": 0,
             "ticks": ""
            },
            "type": "choropleth"
           }
          ],
          "contour": [
           {
            "colorbar": {
             "outlinewidth": 0,
             "ticks": ""
            },
            "colorscale": [
             [
              0,
              "#0d0887"
             ],
             [
              0.1111111111111111,
              "#46039f"
             ],
             [
              0.2222222222222222,
              "#7201a8"
             ],
             [
              0.3333333333333333,
              "#9c179e"
             ],
             [
              0.4444444444444444,
              "#bd3786"
             ],
             [
              0.5555555555555556,
              "#d8576b"
             ],
             [
              0.6666666666666666,
              "#ed7953"
             ],
             [
              0.7777777777777778,
              "#fb9f3a"
             ],
             [
              0.8888888888888888,
              "#fdca26"
             ],
             [
              1,
              "#f0f921"
             ]
            ],
            "type": "contour"
           }
          ],
          "contourcarpet": [
           {
            "colorbar": {
             "outlinewidth": 0,
             "ticks": ""
            },
            "type": "contourcarpet"
           }
          ],
          "heatmap": [
           {
            "colorbar": {
             "outlinewidth": 0,
             "ticks": ""
            },
            "colorscale": [
             [
              0,
              "#0d0887"
             ],
             [
              0.1111111111111111,
              "#46039f"
             ],
             [
              0.2222222222222222,
              "#7201a8"
             ],
             [
              0.3333333333333333,
              "#9c179e"
             ],
             [
              0.4444444444444444,
              "#bd3786"
             ],
             [
              0.5555555555555556,
              "#d8576b"
             ],
             [
              0.6666666666666666,
              "#ed7953"
             ],
             [
              0.7777777777777778,
              "#fb9f3a"
             ],
             [
              0.8888888888888888,
              "#fdca26"
             ],
             [
              1,
              "#f0f921"
             ]
            ],
            "type": "heatmap"
           }
          ],
          "heatmapgl": [
           {
            "colorbar": {
             "outlinewidth": 0,
             "ticks": ""
            },
            "colorscale": [
             [
              0,
              "#0d0887"
             ],
             [
              0.1111111111111111,
              "#46039f"
             ],
             [
              0.2222222222222222,
              "#7201a8"
             ],
             [
              0.3333333333333333,
              "#9c179e"
             ],
             [
              0.4444444444444444,
              "#bd3786"
             ],
             [
              0.5555555555555556,
              "#d8576b"
             ],
             [
              0.6666666666666666,
              "#ed7953"
             ],
             [
              0.7777777777777778,
              "#fb9f3a"
             ],
             [
              0.8888888888888888,
              "#fdca26"
             ],
             [
              1,
              "#f0f921"
             ]
            ],
            "type": "heatmapgl"
           }
          ],
          "histogram": [
           {
            "marker": {
             "pattern": {
              "fillmode": "overlay",
              "size": 10,
              "solidity": 0.2
             }
            },
            "type": "histogram"
           }
          ],
          "histogram2d": [
           {
            "colorbar": {
             "outlinewidth": 0,
             "ticks": ""
            },
            "colorscale": [
             [
              0,
              "#0d0887"
             ],
             [
              0.1111111111111111,
              "#46039f"
             ],
             [
              0.2222222222222222,
              "#7201a8"
             ],
             [
              0.3333333333333333,
              "#9c179e"
             ],
             [
              0.4444444444444444,
              "#bd3786"
             ],
             [
              0.5555555555555556,
              "#d8576b"
             ],
             [
              0.6666666666666666,
              "#ed7953"
             ],
             [
              0.7777777777777778,
              "#fb9f3a"
             ],
             [
              0.8888888888888888,
              "#fdca26"
             ],
             [
              1,
              "#f0f921"
             ]
            ],
            "type": "histogram2d"
           }
          ],
          "histogram2dcontour": [
           {
            "colorbar": {
             "outlinewidth": 0,
             "ticks": ""
            },
            "colorscale": [
             [
              0,
              "#0d0887"
             ],
             [
              0.1111111111111111,
              "#46039f"
             ],
             [
              0.2222222222222222,
              "#7201a8"
             ],
             [
              0.3333333333333333,
              "#9c179e"
             ],
             [
              0.4444444444444444,
              "#bd3786"
             ],
             [
              0.5555555555555556,
              "#d8576b"
             ],
             [
              0.6666666666666666,
              "#ed7953"
             ],
             [
              0.7777777777777778,
              "#fb9f3a"
             ],
             [
              0.8888888888888888,
              "#fdca26"
             ],
             [
              1,
              "#f0f921"
             ]
            ],
            "type": "histogram2dcontour"
           }
          ],
          "mesh3d": [
           {
            "colorbar": {
             "outlinewidth": 0,
             "ticks": ""
            },
            "type": "mesh3d"
           }
          ],
          "parcoords": [
           {
            "line": {
             "colorbar": {
              "outlinewidth": 0,
              "ticks": ""
             }
            },
            "type": "parcoords"
           }
          ],
          "pie": [
           {
            "automargin": true,
            "type": "pie"
           }
          ],
          "scatter": [
           {
            "marker": {
             "colorbar": {
              "outlinewidth": 0,
              "ticks": ""
             }
            },
            "type": "scatter"
           }
          ],
          "scatter3d": [
           {
            "line": {
             "colorbar": {
              "outlinewidth": 0,
              "ticks": ""
             }
            },
            "marker": {
             "colorbar": {
              "outlinewidth": 0,
              "ticks": ""
             }
            },
            "type": "scatter3d"
           }
          ],
          "scattercarpet": [
           {
            "marker": {
             "colorbar": {
              "outlinewidth": 0,
              "ticks": ""
             }
            },
            "type": "scattercarpet"
           }
          ],
          "scattergeo": [
           {
            "marker": {
             "colorbar": {
              "outlinewidth": 0,
              "ticks": ""
             }
            },
            "type": "scattergeo"
           }
          ],
          "scattergl": [
           {
            "marker": {
             "colorbar": {
              "outlinewidth": 0,
              "ticks": ""
             }
            },
            "type": "scattergl"
           }
          ],
          "scattermapbox": [
           {
            "marker": {
             "colorbar": {
              "outlinewidth": 0,
              "ticks": ""
             }
            },
            "type": "scattermapbox"
           }
          ],
          "scatterpolar": [
           {
            "marker": {
             "colorbar": {
              "outlinewidth": 0,
              "ticks": ""
             }
            },
            "type": "scatterpolar"
           }
          ],
          "scatterpolargl": [
           {
            "marker": {
             "colorbar": {
              "outlinewidth": 0,
              "ticks": ""
             }
            },
            "type": "scatterpolargl"
           }
          ],
          "scatterternary": [
           {
            "marker": {
             "colorbar": {
              "outlinewidth": 0,
              "ticks": ""
             }
            },
            "type": "scatterternary"
           }
          ],
          "surface": [
           {
            "colorbar": {
             "outlinewidth": 0,
             "ticks": ""
            },
            "colorscale": [
             [
              0,
              "#0d0887"
             ],
             [
              0.1111111111111111,
              "#46039f"
             ],
             [
              0.2222222222222222,
              "#7201a8"
             ],
             [
              0.3333333333333333,
              "#9c179e"
             ],
             [
              0.4444444444444444,
              "#bd3786"
             ],
             [
              0.5555555555555556,
              "#d8576b"
             ],
             [
              0.6666666666666666,
              "#ed7953"
             ],
             [
              0.7777777777777778,
              "#fb9f3a"
             ],
             [
              0.8888888888888888,
              "#fdca26"
             ],
             [
              1,
              "#f0f921"
             ]
            ],
            "type": "surface"
           }
          ],
          "table": [
           {
            "cells": {
             "fill": {
              "color": "#EBF0F8"
             },
             "line": {
              "color": "white"
             }
            },
            "header": {
             "fill": {
              "color": "#C8D4E3"
             },
             "line": {
              "color": "white"
             }
            },
            "type": "table"
           }
          ]
         },
         "layout": {
          "annotationdefaults": {
           "arrowcolor": "#2a3f5f",
           "arrowhead": 0,
           "arrowwidth": 1
          },
          "autotypenumbers": "strict",
          "coloraxis": {
           "colorbar": {
            "outlinewidth": 0,
            "ticks": ""
           }
          },
          "colorscale": {
           "diverging": [
            [
             0,
             "#8e0152"
            ],
            [
             0.1,
             "#c51b7d"
            ],
            [
             0.2,
             "#de77ae"
            ],
            [
             0.3,
             "#f1b6da"
            ],
            [
             0.4,
             "#fde0ef"
            ],
            [
             0.5,
             "#f7f7f7"
            ],
            [
             0.6,
             "#e6f5d0"
            ],
            [
             0.7,
             "#b8e186"
            ],
            [
             0.8,
             "#7fbc41"
            ],
            [
             0.9,
             "#4d9221"
            ],
            [
             1,
             "#276419"
            ]
           ],
           "sequential": [
            [
             0,
             "#0d0887"
            ],
            [
             0.1111111111111111,
             "#46039f"
            ],
            [
             0.2222222222222222,
             "#7201a8"
            ],
            [
             0.3333333333333333,
             "#9c179e"
            ],
            [
             0.4444444444444444,
             "#bd3786"
            ],
            [
             0.5555555555555556,
             "#d8576b"
            ],
            [
             0.6666666666666666,
             "#ed7953"
            ],
            [
             0.7777777777777778,
             "#fb9f3a"
            ],
            [
             0.8888888888888888,
             "#fdca26"
            ],
            [
             1,
             "#f0f921"
            ]
           ],
           "sequentialminus": [
            [
             0,
             "#0d0887"
            ],
            [
             0.1111111111111111,
             "#46039f"
            ],
            [
             0.2222222222222222,
             "#7201a8"
            ],
            [
             0.3333333333333333,
             "#9c179e"
            ],
            [
             0.4444444444444444,
             "#bd3786"
            ],
            [
             0.5555555555555556,
             "#d8576b"
            ],
            [
             0.6666666666666666,
             "#ed7953"
            ],
            [
             0.7777777777777778,
             "#fb9f3a"
            ],
            [
             0.8888888888888888,
             "#fdca26"
            ],
            [
             1,
             "#f0f921"
            ]
           ]
          },
          "colorway": [
           "#636efa",
           "#EF553B",
           "#00cc96",
           "#ab63fa",
           "#FFA15A",
           "#19d3f3",
           "#FF6692",
           "#B6E880",
           "#FF97FF",
           "#FECB52"
          ],
          "font": {
           "color": "#2a3f5f"
          },
          "geo": {
           "bgcolor": "white",
           "lakecolor": "white",
           "landcolor": "white",
           "showlakes": true,
           "showland": true,
           "subunitcolor": "#C8D4E3"
          },
          "hoverlabel": {
           "align": "left"
          },
          "hovermode": "closest",
          "mapbox": {
           "style": "light"
          },
          "paper_bgcolor": "white",
          "plot_bgcolor": "white",
          "polar": {
           "angularaxis": {
            "gridcolor": "#EBF0F8",
            "linecolor": "#EBF0F8",
            "ticks": ""
           },
           "bgcolor": "white",
           "radialaxis": {
            "gridcolor": "#EBF0F8",
            "linecolor": "#EBF0F8",
            "ticks": ""
           }
          },
          "scene": {
           "xaxis": {
            "backgroundcolor": "white",
            "gridcolor": "#DFE8F3",
            "gridwidth": 2,
            "linecolor": "#EBF0F8",
            "showbackground": true,
            "ticks": "",
            "zerolinecolor": "#EBF0F8"
           },
           "yaxis": {
            "backgroundcolor": "white",
            "gridcolor": "#DFE8F3",
            "gridwidth": 2,
            "linecolor": "#EBF0F8",
            "showbackground": true,
            "ticks": "",
            "zerolinecolor": "#EBF0F8"
           },
           "zaxis": {
            "backgroundcolor": "white",
            "gridcolor": "#DFE8F3",
            "gridwidth": 2,
            "linecolor": "#EBF0F8",
            "showbackground": true,
            "ticks": "",
            "zerolinecolor": "#EBF0F8"
           }
          },
          "shapedefaults": {
           "line": {
            "color": "#2a3f5f"
           }
          },
          "ternary": {
           "aaxis": {
            "gridcolor": "#DFE8F3",
            "linecolor": "#A2B1C6",
            "ticks": ""
           },
           "baxis": {
            "gridcolor": "#DFE8F3",
            "linecolor": "#A2B1C6",
            "ticks": ""
           },
           "bgcolor": "white",
           "caxis": {
            "gridcolor": "#DFE8F3",
            "linecolor": "#A2B1C6",
            "ticks": ""
           }
          },
          "title": {
           "x": 0.05
          },
          "xaxis": {
           "automargin": true,
           "gridcolor": "#EBF0F8",
           "linecolor": "#EBF0F8",
           "ticks": "",
           "title": {
            "standoff": 15
           },
           "zerolinecolor": "#EBF0F8",
           "zerolinewidth": 2
          },
          "yaxis": {
           "automargin": true,
           "gridcolor": "#EBF0F8",
           "linecolor": "#EBF0F8",
           "ticks": "",
           "title": {
            "standoff": 15
           },
           "zerolinecolor": "#EBF0F8",
           "zerolinewidth": 2
          }
         }
        },
        "title": {
         "text": "Budgetary impact forecasts"
        },
        "updatemenus": [
         {
          "buttons": [
           {
            "args": [
             null,
             {
              "frame": {
               "duration": 500,
               "redraw": false
              },
              "fromcurrent": true,
              "mode": "immediate",
              "transition": {
               "duration": 500,
               "easing": "linear"
              }
             }
            ],
            "label": "&#9654;",
            "method": "animate"
           },
           {
            "args": [
             [
              null
             ],
             {
              "frame": {
               "duration": 0,
               "redraw": false
              },
              "fromcurrent": true,
              "mode": "immediate",
              "transition": {
               "duration": 0,
               "easing": "linear"
              }
             }
            ],
            "label": "&#9724;",
            "method": "animate"
           }
          ],
          "direction": "left",
          "pad": {
           "r": 10,
           "t": 70
          },
          "showactive": false,
          "type": "buttons",
          "x": 0.1,
          "xanchor": "right",
          "y": 0,
          "yanchor": "top"
         }
        ],
        "width": 800,
        "xaxis": {
         "anchor": "y",
         "domain": [
          0,
          1
         ],
         "tickvals": [
          2022,
          2023,
          2024,
          2025
         ],
         "title": {
          "text": "Year"
         }
        },
        "yaxis": {
         "anchor": "x",
         "domain": [
          0,
          1
         ],
         "range": [
          0,
          20000000000
         ],
         "tickprefix": "£",
         "title": {
          "text": ""
         }
        }
       }
      }
     },
     "metadata": {},
     "output_type": "display_data"
    }
   ],
   "source": [
    "def table_to_model_comparison(table):\n",
    "    df = table.reset_index()\n",
    "    df.columns = [\"Model\", \"Year\"] + list(table.columns)\n",
    "    return (\n",
    "        pd.melt(df, id_vars=[\"Year\", \"Model\"])\n",
    "        .pivot(index=[\"Year\", \"variable\"], columns=\"Model\", values=\"value\")\n",
    "        .reset_index()\n",
    "        .rename(columns=dict(variable=\"Program\"))\n",
    "    )\n",
    "\n",
    "\n",
    "def tables_to_model_comparisons(tables):\n",
    "    dfs = []\n",
    "    for key, table in tables.items():\n",
    "        df = table_to_model_comparison(table)\n",
    "        df = df.rename(\n",
    "            columns={\n",
    "                column: f\"{column} {key}\"\n",
    "                if key != \"\" and column not in (\"Year\", \"Model\", \"Program\")\n",
    "                else column\n",
    "                for column in df.columns\n",
    "            }\n",
    "        )\n",
    "        dfs.append(df)\n",
    "    df = pd.concat(dfs, axis=1)\n",
    "    df = df.loc[:, ~df.columns.duplicated()]\n",
    "    return df\n",
    "\n",
    "\n",
    "def model_forecast_chart(table, title=None, currency=True):\n",
    "    hovertemplate = \"\"\n",
    "    df = table_to_model_comparison(table)\n",
    "    fig = (\n",
    "        px.line(\n",
    "            df,\n",
    "            animation_frame=\"Program\",\n",
    "            x=\"Year\",\n",
    "            y=[EXTERNAL, policyengine_uk, UKMOD],\n",
    "            color_discrete_map={\n",
    "                policyengine_uk: \"blue\",\n",
    "                UKMOD: \"lightgrey\",\n",
    "            },\n",
    "        )\n",
    "        .update_layout(\n",
    "            width=800,\n",
    "            height=600,\n",
    "            yaxis_tickprefix=\"£\" if currency else \"\",\n",
    "            title=title,\n",
    "            template=\"plotly_white\",\n",
    "            legend_title=\"Model\",\n",
    "            yaxis_title=\"\",\n",
    "            yaxis_range=(0, 20e9) if currency else (0, 10e6),\n",
    "            legend_traceorder=\"reversed\",\n",
    "            xaxis_tickvals=list(range(2022, 2026)),\n",
    "        )\n",
    "        .update_traces(hovertemplate=hovertemplate)\n",
    "    )\n",
    "    for frame in fig.frames:\n",
    "        for data in frame.data:\n",
    "            data.hovertemplate = hovertemplate\n",
    "    return fig\n",
    "\n",
    "\n",
    "model_forecast_chart(\n",
    "    model_validation_table(budgetary_impact, divisor=1, decimals=1),\n",
    "    title=\"Budgetary impact forecasts\",\n",
    ")"
   ]
  },
  {
   "cell_type": "markdown",
   "id": "e07fb9b7-62dc-40e8-a861-cff08438a545",
   "metadata": {},
   "source": [
    "### Differences\n",
    "\n",
    "#### Absolute"
   ]
  },
  {
   "cell_type": "code",
   "execution_count": 3,
   "id": "df0bef66-16e4-4a54-b912-eff54b827ba4",
   "metadata": {
    "tags": [
     "hide-input"
    ]
   },
   "outputs": [
    {
     "data": {
      "text/html": [
       "<div>\n",
       "<style scoped>\n",
       "    .dataframe tbody tr th:only-of-type {\n",
       "        vertical-align: middle;\n",
       "    }\n",
       "\n",
       "    .dataframe tbody tr th {\n",
       "        vertical-align: top;\n",
       "    }\n",
       "\n",
       "    .dataframe thead th {\n",
       "        text-align: right;\n",
       "    }\n",
       "</style>\n",
       "<table border=\"1\" class=\"dataframe\">\n",
       "  <thead>\n",
       "    <tr style=\"text-align: right;\">\n",
       "      <th></th>\n",
       "      <th></th>\n",
       "      <th>Child Benefit</th>\n",
       "      <th>Income Support</th>\n",
       "      <th>JSA (income-based)</th>\n",
       "      <th>Housing Benefit</th>\n",
       "      <th>Working Tax Credit</th>\n",
       "      <th>Child Tax Credit</th>\n",
       "      <th>Universal Credit</th>\n",
       "      <th>Pension Credit</th>\n",
       "      <th>Income Tax</th>\n",
       "      <th>National Insurance (total)</th>\n",
       "      <th>Employment income</th>\n",
       "      <th>Self-employment income</th>\n",
       "      <th>Pension income</th>\n",
       "      <th>Rental income</th>\n",
       "      <th>Savings interest income</th>\n",
       "      <th>Income from dividends</th>\n",
       "    </tr>\n",
       "  </thead>\n",
       "  <tbody>\n",
       "    <tr>\n",
       "      <th rowspan=\"4\" valign=\"top\">OpenFisca-UK</th>\n",
       "      <th>2022</th>\n",
       "      <td>-0.6</td>\n",
       "      <td>-0.3</td>\n",
       "      <td>-0.2</td>\n",
       "      <td>1.2</td>\n",
       "      <td>-0.2</td>\n",
       "      <td>-0.5</td>\n",
       "      <td>-0.1</td>\n",
       "      <td>0.2</td>\n",
       "      <td>-5.4</td>\n",
       "      <td>-1.8</td>\n",
       "      <td>-1.9</td>\n",
       "      <td>1.9</td>\n",
       "      <td></td>\n",
       "      <td>-0.5</td>\n",
       "      <td>-0.1</td>\n",
       "      <td>-2.6</td>\n",
       "    </tr>\n",
       "    <tr>\n",
       "      <th>2023</th>\n",
       "      <td>-0.5</td>\n",
       "      <td>-0.2</td>\n",
       "      <td>-0.0</td>\n",
       "      <td>0.2</td>\n",
       "      <td>-0.1</td>\n",
       "      <td>-0.2</td>\n",
       "      <td>0.8</td>\n",
       "      <td>0.2</td>\n",
       "      <td>-4.7</td>\n",
       "      <td>-1.7</td>\n",
       "      <td>1.5</td>\n",
       "      <td>1.7</td>\n",
       "      <td></td>\n",
       "      <td>-0.6</td>\n",
       "      <td>-0.1</td>\n",
       "      <td>-3.5</td>\n",
       "    </tr>\n",
       "    <tr>\n",
       "      <th>2024</th>\n",
       "      <td>-0.6</td>\n",
       "      <td>-0.2</td>\n",
       "      <td>0.0</td>\n",
       "      <td>0.7</td>\n",
       "      <td>-0.1</td>\n",
       "      <td>-0.1</td>\n",
       "      <td>-0.3</td>\n",
       "      <td>-0.0</td>\n",
       "      <td>-4.3</td>\n",
       "      <td>-1.9</td>\n",
       "      <td>2.8</td>\n",
       "      <td>1.8</td>\n",
       "      <td></td>\n",
       "      <td>-0.6</td>\n",
       "      <td>-0.1</td>\n",
       "      <td>-3.5</td>\n",
       "    </tr>\n",
       "    <tr>\n",
       "      <th>2025</th>\n",
       "      <td>-0.5</td>\n",
       "      <td>-0.2</td>\n",
       "      <td>0.0</td>\n",
       "      <td>1.0</td>\n",
       "      <td>-0.1</td>\n",
       "      <td>-0.1</td>\n",
       "      <td>-2.4</td>\n",
       "      <td>-0.2</td>\n",
       "      <td>-9.8</td>\n",
       "      <td>-1.6</td>\n",
       "      <td>9.4</td>\n",
       "      <td>2.2</td>\n",
       "      <td></td>\n",
       "      <td>-0.5</td>\n",
       "      <td>-0.1</td>\n",
       "      <td>-3.3</td>\n",
       "    </tr>\n",
       "    <tr>\n",
       "      <th rowspan=\"4\" valign=\"top\">UKMOD</th>\n",
       "      <th>2022</th>\n",
       "      <td>0.8</td>\n",
       "      <td></td>\n",
       "      <td></td>\n",
       "      <td>-5.6</td>\n",
       "      <td>-0.1</td>\n",
       "      <td>-0.8</td>\n",
       "      <td>-9.6</td>\n",
       "      <td>-0.3</td>\n",
       "      <td>-43.8</td>\n",
       "      <td>4.7</td>\n",
       "      <td></td>\n",
       "      <td></td>\n",
       "      <td></td>\n",
       "      <td></td>\n",
       "      <td></td>\n",
       "      <td></td>\n",
       "    </tr>\n",
       "    <tr>\n",
       "      <th>2023</th>\n",
       "      <td>0.8</td>\n",
       "      <td></td>\n",
       "      <td></td>\n",
       "      <td>-5.1</td>\n",
       "      <td>0.0</td>\n",
       "      <td>-0.1</td>\n",
       "      <td>-10.6</td>\n",
       "      <td>-0.0</td>\n",
       "      <td>-44.4</td>\n",
       "      <td>-12.4</td>\n",
       "      <td></td>\n",
       "      <td></td>\n",
       "      <td></td>\n",
       "      <td></td>\n",
       "      <td></td>\n",
       "      <td></td>\n",
       "    </tr>\n",
       "    <tr>\n",
       "      <th>2024</th>\n",
       "      <td>0.9</td>\n",
       "      <td></td>\n",
       "      <td></td>\n",
       "      <td>-4.0</td>\n",
       "      <td>0.1</td>\n",
       "      <td>0.3</td>\n",
       "      <td>-18.6</td>\n",
       "      <td>0.1</td>\n",
       "      <td>-47.2</td>\n",
       "      <td>-16.7</td>\n",
       "      <td></td>\n",
       "      <td></td>\n",
       "      <td></td>\n",
       "      <td></td>\n",
       "      <td></td>\n",
       "      <td></td>\n",
       "    </tr>\n",
       "    <tr>\n",
       "      <th>2025</th>\n",
       "      <td>1.0</td>\n",
       "      <td></td>\n",
       "      <td></td>\n",
       "      <td>-3.5</td>\n",
       "      <td>0.0</td>\n",
       "      <td>0.1</td>\n",
       "      <td>-22.3</td>\n",
       "      <td>0.2</td>\n",
       "      <td>-49.6</td>\n",
       "      <td>-20.2</td>\n",
       "      <td></td>\n",
       "      <td></td>\n",
       "      <td></td>\n",
       "      <td></td>\n",
       "      <td></td>\n",
       "      <td></td>\n",
       "    </tr>\n",
       "  </tbody>\n",
       "</table>\n",
       "</div>"
      ],
      "text/plain": [
       "                   Child Benefit Income Support JSA (income-based)  \\\n",
       "OpenFisca-UK 2022           -0.6           -0.3               -0.2   \n",
       "             2023           -0.5           -0.2               -0.0   \n",
       "             2024           -0.6           -0.2                0.0   \n",
       "             2025           -0.5           -0.2                0.0   \n",
       "UKMOD        2022            0.8                                     \n",
       "             2023            0.8                                     \n",
       "             2024            0.9                                     \n",
       "             2025            1.0                                     \n",
       "\n",
       "                   Housing Benefit  Working Tax Credit  Child Tax Credit  \\\n",
       "OpenFisca-UK 2022              1.2                -0.2              -0.5   \n",
       "             2023              0.2                -0.1              -0.2   \n",
       "             2024              0.7                -0.1              -0.1   \n",
       "             2025              1.0                -0.1              -0.1   \n",
       "UKMOD        2022             -5.6                -0.1              -0.8   \n",
       "             2023             -5.1                 0.0              -0.1   \n",
       "             2024             -4.0                 0.1               0.3   \n",
       "             2025             -3.5                 0.0               0.1   \n",
       "\n",
       "                   Universal Credit  Pension Credit  Income Tax  \\\n",
       "OpenFisca-UK 2022              -0.1             0.2        -5.4   \n",
       "             2023               0.8             0.2        -4.7   \n",
       "             2024              -0.3            -0.0        -4.3   \n",
       "             2025              -2.4            -0.2        -9.8   \n",
       "UKMOD        2022              -9.6            -0.3       -43.8   \n",
       "             2023             -10.6            -0.0       -44.4   \n",
       "             2024             -18.6             0.1       -47.2   \n",
       "             2025             -22.3             0.2       -49.6   \n",
       "\n",
       "                   National Insurance (total) Employment income  \\\n",
       "OpenFisca-UK 2022                        -1.8              -1.9   \n",
       "             2023                        -1.7               1.5   \n",
       "             2024                        -1.9               2.8   \n",
       "             2025                        -1.6               9.4   \n",
       "UKMOD        2022                         4.7                     \n",
       "             2023                       -12.4                     \n",
       "             2024                       -16.7                     \n",
       "             2025                       -20.2                     \n",
       "\n",
       "                  Self-employment income Pension income Rental income  \\\n",
       "OpenFisca-UK 2022                    1.9                         -0.5   \n",
       "             2023                    1.7                         -0.6   \n",
       "             2024                    1.8                         -0.6   \n",
       "             2025                    2.2                         -0.5   \n",
       "UKMOD        2022                                                       \n",
       "             2023                                                       \n",
       "             2024                                                       \n",
       "             2025                                                       \n",
       "\n",
       "                  Savings interest income Income from dividends  \n",
       "OpenFisca-UK 2022                    -0.1                  -2.6  \n",
       "             2023                    -0.1                  -3.5  \n",
       "             2024                    -0.1                  -3.5  \n",
       "             2025                    -0.1                  -3.3  \n",
       "UKMOD        2022                                                \n",
       "             2023                                                \n",
       "             2024                                                \n",
       "             2025                                                "
      ]
     },
     "execution_count": 3,
     "metadata": {},
     "output_type": "execute_result"
    }
   ],
   "source": [
    "def budgetary_impact_error(model, year, variable):\n",
    "    try:\n",
    "        if model == policyengine_uk:\n",
    "            return sim.calc(\n",
    "                variable, map_to=\"household\", period=year\n",
    "            ).sum() - budgetary_impact(EXTERNAL, year, variable)\n",
    "        elif model == UKMOD:\n",
    "            return getattr(ukmod_statistics.ukmod.budgetary_impact, variable)(\n",
    "                f\"{year}-01-01\"\n",
    "            ) - budgetary_impact(EXTERNAL, year, variable)\n",
    "    except:\n",
    "        return np.nan\n",
    "\n",
    "\n",
    "model_validation_table(\n",
    "    budgetary_impact_error,\n",
    "    models=[policyengine_uk, UKMOD],\n",
    "    divisor=1e9,\n",
    "    decimals=1,\n",
    ")"
   ]
  },
  {
   "cell_type": "markdown",
   "id": "3faf63e8-f932-49df-9329-fa772cb33837",
   "metadata": {},
   "source": [
    "#### Relative"
   ]
  },
  {
   "cell_type": "code",
   "execution_count": 4,
   "id": "bfd19045-2851-47aa-861e-3f10d972b522",
   "metadata": {
    "tags": [
     "hide-input"
    ]
   },
   "outputs": [
    {
     "data": {
      "text/html": [
       "<div>\n",
       "<style scoped>\n",
       "    .dataframe tbody tr th:only-of-type {\n",
       "        vertical-align: middle;\n",
       "    }\n",
       "\n",
       "    .dataframe tbody tr th {\n",
       "        vertical-align: top;\n",
       "    }\n",
       "\n",
       "    .dataframe thead th {\n",
       "        text-align: right;\n",
       "    }\n",
       "</style>\n",
       "<table border=\"1\" class=\"dataframe\">\n",
       "  <thead>\n",
       "    <tr style=\"text-align: right;\">\n",
       "      <th></th>\n",
       "      <th></th>\n",
       "      <th>Child Benefit</th>\n",
       "      <th>Income Support</th>\n",
       "      <th>JSA (income-based)</th>\n",
       "      <th>Housing Benefit</th>\n",
       "      <th>Working Tax Credit</th>\n",
       "      <th>Child Tax Credit</th>\n",
       "      <th>Universal Credit</th>\n",
       "      <th>Pension Credit</th>\n",
       "      <th>Income Tax</th>\n",
       "      <th>National Insurance (total)</th>\n",
       "      <th>Employment income</th>\n",
       "      <th>Self-employment income</th>\n",
       "      <th>Pension income</th>\n",
       "      <th>Rental income</th>\n",
       "      <th>Savings interest income</th>\n",
       "      <th>Income from dividends</th>\n",
       "    </tr>\n",
       "  </thead>\n",
       "  <tbody>\n",
       "    <tr>\n",
       "      <th rowspan=\"4\" valign=\"top\">OpenFisca-UK</th>\n",
       "      <th>2022</th>\n",
       "      <td>-5.3</td>\n",
       "      <td>-46.7</td>\n",
       "      <td>-100.0</td>\n",
       "      <td>7.8</td>\n",
       "      <td>-14.1</td>\n",
       "      <td>-7.9</td>\n",
       "      <td>-0.2</td>\n",
       "      <td>3.6</td>\n",
       "      <td>-2.6</td>\n",
       "      <td>-1.2</td>\n",
       "      <td>-0.2</td>\n",
       "      <td>2.0</td>\n",
       "      <td></td>\n",
       "      <td>-1.9</td>\n",
       "      <td>-1.8</td>\n",
       "      <td>-3.7</td>\n",
       "    </tr>\n",
       "    <tr>\n",
       "      <th>2023</th>\n",
       "      <td>-4.3</td>\n",
       "      <td>-47.0</td>\n",
       "      <td>-100.0</td>\n",
       "      <td>1.5</td>\n",
       "      <td>-7.8</td>\n",
       "      <td>-4.8</td>\n",
       "      <td>1.7</td>\n",
       "      <td>3.8</td>\n",
       "      <td>-2.2</td>\n",
       "      <td>-1.1</td>\n",
       "      <td>0.2</td>\n",
       "      <td>1.8</td>\n",
       "      <td></td>\n",
       "      <td>-2.2</td>\n",
       "      <td>-1.8</td>\n",
       "      <td>-4.9</td>\n",
       "    </tr>\n",
       "    <tr>\n",
       "      <th>2024</th>\n",
       "      <td>-4.8</td>\n",
       "      <td>-34.6</td>\n",
       "      <td></td>\n",
       "      <td>6.0</td>\n",
       "      <td>-8.0</td>\n",
       "      <td>-4.8</td>\n",
       "      <td>-0.5</td>\n",
       "      <td>-1.0</td>\n",
       "      <td>-1.9</td>\n",
       "      <td>-1.1</td>\n",
       "      <td>0.3</td>\n",
       "      <td>1.8</td>\n",
       "      <td></td>\n",
       "      <td>-2.2</td>\n",
       "      <td>-1.8</td>\n",
       "      <td>-4.8</td>\n",
       "    </tr>\n",
       "    <tr>\n",
       "      <th>2025</th>\n",
       "      <td>-4.5</td>\n",
       "      <td>-38.7</td>\n",
       "      <td></td>\n",
       "      <td>10.0</td>\n",
       "      <td>-14.8</td>\n",
       "      <td>-7.4</td>\n",
       "      <td>-3.6</td>\n",
       "      <td>-3.7</td>\n",
       "      <td>-4.1</td>\n",
       "      <td>-0.9</td>\n",
       "      <td>1.0</td>\n",
       "      <td>2.2</td>\n",
       "      <td></td>\n",
       "      <td>-1.9</td>\n",
       "      <td>-1.7</td>\n",
       "      <td>-4.4</td>\n",
       "    </tr>\n",
       "    <tr>\n",
       "      <th rowspan=\"4\" valign=\"top\">UKMOD</th>\n",
       "      <th>2022</th>\n",
       "      <td>6.7</td>\n",
       "      <td></td>\n",
       "      <td></td>\n",
       "      <td>-35.0</td>\n",
       "      <td>-7.2</td>\n",
       "      <td>-12.5</td>\n",
       "      <td>-22.0</td>\n",
       "      <td>-7.0</td>\n",
       "      <td>-21.4</td>\n",
       "      <td>3.1</td>\n",
       "      <td></td>\n",
       "      <td></td>\n",
       "      <td></td>\n",
       "      <td></td>\n",
       "      <td></td>\n",
       "      <td></td>\n",
       "    </tr>\n",
       "    <tr>\n",
       "      <th>2023</th>\n",
       "      <td>6.8</td>\n",
       "      <td></td>\n",
       "      <td></td>\n",
       "      <td>-34.7</td>\n",
       "      <td>3.8</td>\n",
       "      <td>-1.5</td>\n",
       "      <td>-21.3</td>\n",
       "      <td>-0.8</td>\n",
       "      <td>-20.6</td>\n",
       "      <td>-7.9</td>\n",
       "      <td></td>\n",
       "      <td></td>\n",
       "      <td></td>\n",
       "      <td></td>\n",
       "      <td></td>\n",
       "      <td></td>\n",
       "    </tr>\n",
       "    <tr>\n",
       "      <th>2024</th>\n",
       "      <td>7.9</td>\n",
       "      <td></td>\n",
       "      <td></td>\n",
       "      <td>-32.2</td>\n",
       "      <td>7.4</td>\n",
       "      <td>8.5</td>\n",
       "      <td>-32.3</td>\n",
       "      <td>2.6</td>\n",
       "      <td>-20.9</td>\n",
       "      <td>-10.2</td>\n",
       "      <td></td>\n",
       "      <td></td>\n",
       "      <td></td>\n",
       "      <td></td>\n",
       "      <td></td>\n",
       "      <td></td>\n",
       "    </tr>\n",
       "    <tr>\n",
       "      <th>2025</th>\n",
       "      <td>8.2</td>\n",
       "      <td></td>\n",
       "      <td></td>\n",
       "      <td>-34.3</td>\n",
       "      <td>11.6</td>\n",
       "      <td>6.3</td>\n",
       "      <td>-32.8</td>\n",
       "      <td>5.8</td>\n",
       "      <td>-20.9</td>\n",
       "      <td>-11.8</td>\n",
       "      <td></td>\n",
       "      <td></td>\n",
       "      <td></td>\n",
       "      <td></td>\n",
       "      <td></td>\n",
       "      <td></td>\n",
       "    </tr>\n",
       "  </tbody>\n",
       "</table>\n",
       "</div>"
      ],
      "text/plain": [
       "                   Child Benefit Income Support JSA (income-based)  \\\n",
       "OpenFisca-UK 2022           -5.3          -46.7             -100.0   \n",
       "             2023           -4.3          -47.0             -100.0   \n",
       "             2024           -4.8          -34.6                      \n",
       "             2025           -4.5          -38.7                      \n",
       "UKMOD        2022            6.7                                     \n",
       "             2023            6.8                                     \n",
       "             2024            7.9                                     \n",
       "             2025            8.2                                     \n",
       "\n",
       "                   Housing Benefit  Working Tax Credit  Child Tax Credit  \\\n",
       "OpenFisca-UK 2022              7.8               -14.1              -7.9   \n",
       "             2023              1.5                -7.8              -4.8   \n",
       "             2024              6.0                -8.0              -4.8   \n",
       "             2025             10.0               -14.8              -7.4   \n",
       "UKMOD        2022            -35.0                -7.2             -12.5   \n",
       "             2023            -34.7                 3.8              -1.5   \n",
       "             2024            -32.2                 7.4               8.5   \n",
       "             2025            -34.3                11.6               6.3   \n",
       "\n",
       "                   Universal Credit  Pension Credit  Income Tax  \\\n",
       "OpenFisca-UK 2022              -0.2             3.6        -2.6   \n",
       "             2023               1.7             3.8        -2.2   \n",
       "             2024              -0.5            -1.0        -1.9   \n",
       "             2025              -3.6            -3.7        -4.1   \n",
       "UKMOD        2022             -22.0            -7.0       -21.4   \n",
       "             2023             -21.3            -0.8       -20.6   \n",
       "             2024             -32.3             2.6       -20.9   \n",
       "             2025             -32.8             5.8       -20.9   \n",
       "\n",
       "                   National Insurance (total) Employment income  \\\n",
       "OpenFisca-UK 2022                        -1.2              -0.2   \n",
       "             2023                        -1.1               0.2   \n",
       "             2024                        -1.1               0.3   \n",
       "             2025                        -0.9               1.0   \n",
       "UKMOD        2022                         3.1                     \n",
       "             2023                        -7.9                     \n",
       "             2024                       -10.2                     \n",
       "             2025                       -11.8                     \n",
       "\n",
       "                  Self-employment income Pension income Rental income  \\\n",
       "OpenFisca-UK 2022                    2.0                         -1.9   \n",
       "             2023                    1.8                         -2.2   \n",
       "             2024                    1.8                         -2.2   \n",
       "             2025                    2.2                         -1.9   \n",
       "UKMOD        2022                                                       \n",
       "             2023                                                       \n",
       "             2024                                                       \n",
       "             2025                                                       \n",
       "\n",
       "                  Savings interest income Income from dividends  \n",
       "OpenFisca-UK 2022                    -1.8                  -3.7  \n",
       "             2023                    -1.8                  -4.9  \n",
       "             2024                    -1.8                  -4.8  \n",
       "             2025                    -1.7                  -4.4  \n",
       "UKMOD        2022                                                \n",
       "             2023                                                \n",
       "             2024                                                \n",
       "             2025                                                "
      ]
     },
     "execution_count": 4,
     "metadata": {},
     "output_type": "execute_result"
    }
   ],
   "source": [
    "def relative_budgetary_impact_error(model, year, variable):\n",
    "    try:\n",
    "        if model == policyengine_uk:\n",
    "            return (\n",
    "                sim.calc(variable, map_to=\"household\", period=year).sum()\n",
    "                / budgetary_impact(EXTERNAL, year, variable)\n",
    "                - 1\n",
    "            )\n",
    "        elif model == UKMOD:\n",
    "            return (\n",
    "                getattr(ukmod_statistics.ukmod.budgetary_impact, variable)(\n",
    "                    f\"{year}-01-01\"\n",
    "                )\n",
    "                / budgetary_impact(EXTERNAL, year, variable)\n",
    "                - 1\n",
    "            )\n",
    "    except:\n",
    "        return np.nan\n",
    "\n",
    "\n",
    "model_validation_table(\n",
    "    relative_budgetary_impact_error,\n",
    "    models=[policyengine_uk, UKMOD],\n",
    "    divisor=1e-2,\n",
    "    decimals=1,\n",
    ")"
   ]
  },
  {
   "cell_type": "code",
   "execution_count": 5,
   "id": "fb725740-888f-477b-9aa4-dca99796cd20",
   "metadata": {
    "tags": [
     "hide-input"
    ]
   },
   "outputs": [
    {
     "data": {
      "application/vnd.plotly.v1+json": {
       "config": {
        "plotlyServerURL": "https://plot.ly"
       },
       "data": [
        {
         "alignmentgroup": "True",
         "customdata": [
          [
           43.6,
           34.1,
           43.7,
           2022,
           "Universal Credit"
          ],
          [
           4.6,
           4.2,
           4.5,
           2022,
           "Pension Credit"
          ],
          [
           1.5,
           1.6,
           1.7,
           2022,
           "Working Tax Credit"
          ],
          [
           5.7,
           5.4,
           6.1,
           2022,
           "Child Tax Credit"
          ],
          [
           10.6,
           12,
           11.2,
           2022,
           "Child Benefit"
          ],
          [
           17.1,
           10.3,
           15.9,
           2022,
           "Housing Benefit"
          ],
          [
           149.5,
           156,
           151.3,
           2022,
           "National Insurance (total)"
          ],
          [
           199.6,
           161.2,
           205,
           2022,
           "Income Tax"
          ]
         ],
         "hovertemplate": "<b>%{customdata[4]} in %{customdata[3]}</b><br>Error: %{x}<br>Official: £%{customdata[2]}bn<br>OpenFisca-UK: £%{customdata[0]}bn<br>UKMOD: £%{customdata[1]}bn",
         "legendgroup": "OpenFisca-UK",
         "marker": {
          "color": "blue",
          "pattern": {
           "shape": ""
          }
         },
         "name": "OpenFisca-UK",
         "offsetgroup": "OpenFisca-UK",
         "orientation": "h",
         "showlegend": true,
         "textposition": "auto",
         "type": "bar",
         "x": [
          92607705.752,
          161063668.244,
          238418186.692,
          484330178.14699996,
          593742509.886,
          1239765791.329,
          1829246760.3839998,
          5425598663.512
         ],
         "xaxis": "x",
         "y": [
          "Universal Credit",
          "Pension Credit",
          "Working Tax Credit",
          "Child Tax Credit",
          "Child Benefit",
          "Housing Benefit",
          "National Insurance (total)",
          "Income Tax"
         ],
         "yaxis": "y"
        },
        {
         "alignmentgroup": "True",
         "customdata": [
          [
           43.6,
           34.1,
           43.7,
           2022,
           "Universal Credit"
          ],
          [
           4.6,
           4.2,
           4.5,
           2022,
           "Pension Credit"
          ],
          [
           1.5,
           1.6,
           1.7,
           2022,
           "Working Tax Credit"
          ],
          [
           5.7,
           5.4,
           6.1,
           2022,
           "Child Tax Credit"
          ],
          [
           10.6,
           12,
           11.2,
           2022,
           "Child Benefit"
          ],
          [
           17.1,
           10.3,
           15.9,
           2022,
           "Housing Benefit"
          ],
          [
           149.5,
           156,
           151.3,
           2022,
           "National Insurance (total)"
          ],
          [
           199.6,
           161.2,
           205,
           2022,
           "Income Tax"
          ]
         ],
         "hovertemplate": "<b>%{customdata[4]} in %{customdata[3]}</b><br>Error: %{x}<br>Official: £%{customdata[2]}bn<br>OpenFisca-UK: £%{customdata[0]}bn<br>UKMOD: £%{customdata[1]}bn",
         "legendgroup": "UKMOD",
         "marker": {
          "color": "lightgrey",
          "pattern": {
           "shape": ""
          }
         },
         "name": "UKMOD",
         "offsetgroup": "UKMOD",
         "orientation": "h",
         "showlegend": true,
         "textposition": "auto",
         "type": "bar",
         "x": [
          9584000000,
          313000000,
          121774691.17899999,
          765712115.0610001,
          750000000,
          5562000000,
          4716000000,
          43803000000
         ],
         "xaxis": "x",
         "y": [
          "Universal Credit",
          "Pension Credit",
          "Working Tax Credit",
          "Child Tax Credit",
          "Child Benefit",
          "Housing Benefit",
          "National Insurance (total)",
          "Income Tax"
         ],
         "yaxis": "y"
        }
       ],
       "frames": [
        {
         "data": [
          {
           "alignmentgroup": "True",
           "customdata": [
            [
             43.6,
             34.1,
             43.7,
             2022,
             "Universal Credit"
            ],
            [
             4.6,
             4.2,
             4.5,
             2022,
             "Pension Credit"
            ],
            [
             1.5,
             1.6,
             1.7,
             2022,
             "Working Tax Credit"
            ],
            [
             5.7,
             5.4,
             6.1,
             2022,
             "Child Tax Credit"
            ],
            [
             10.6,
             12,
             11.2,
             2022,
             "Child Benefit"
            ],
            [
             17.1,
             10.3,
             15.9,
             2022,
             "Housing Benefit"
            ],
            [
             149.5,
             156,
             151.3,
             2022,
             "National Insurance (total)"
            ],
            [
             199.6,
             161.2,
             205,
             2022,
             "Income Tax"
            ]
           ],
           "hovertemplate": "<b>%{customdata[4]} in %{customdata[3]}</b><br>Error: %{x}<br>Official: £%{customdata[2]}bn<br>OpenFisca-UK: £%{customdata[0]}bn<br>UKMOD: £%{customdata[1]}bn",
           "legendgroup": "OpenFisca-UK",
           "marker": {
            "color": "blue",
            "pattern": {
             "shape": ""
            }
           },
           "name": "OpenFisca-UK",
           "offsetgroup": "OpenFisca-UK",
           "orientation": "h",
           "showlegend": true,
           "textposition": "auto",
           "type": "bar",
           "x": [
            92607705.752,
            161063668.244,
            238418186.692,
            484330178.14699996,
            593742509.886,
            1239765791.329,
            1829246760.3839998,
            5425598663.512
           ],
           "xaxis": "x",
           "y": [
            "Universal Credit",
            "Pension Credit",
            "Working Tax Credit",
            "Child Tax Credit",
            "Child Benefit",
            "Housing Benefit",
            "National Insurance (total)",
            "Income Tax"
           ],
           "yaxis": "y"
          },
          {
           "alignmentgroup": "True",
           "customdata": [
            [
             43.6,
             34.1,
             43.7,
             2022,
             "Universal Credit"
            ],
            [
             4.6,
             4.2,
             4.5,
             2022,
             "Pension Credit"
            ],
            [
             1.5,
             1.6,
             1.7,
             2022,
             "Working Tax Credit"
            ],
            [
             5.7,
             5.4,
             6.1,
             2022,
             "Child Tax Credit"
            ],
            [
             10.6,
             12,
             11.2,
             2022,
             "Child Benefit"
            ],
            [
             17.1,
             10.3,
             15.9,
             2022,
             "Housing Benefit"
            ],
            [
             149.5,
             156,
             151.3,
             2022,
             "National Insurance (total)"
            ],
            [
             199.6,
             161.2,
             205,
             2022,
             "Income Tax"
            ]
           ],
           "hovertemplate": "<b>%{customdata[4]} in %{customdata[3]}</b><br>Error: %{x}<br>Official: £%{customdata[2]}bn<br>OpenFisca-UK: £%{customdata[0]}bn<br>UKMOD: £%{customdata[1]}bn",
           "legendgroup": "UKMOD",
           "marker": {
            "color": "lightgrey",
            "pattern": {
             "shape": ""
            }
           },
           "name": "UKMOD",
           "offsetgroup": "UKMOD",
           "orientation": "h",
           "showlegend": true,
           "textposition": "auto",
           "type": "bar",
           "x": [
            9584000000,
            313000000,
            121774691.17899999,
            765712115.0610001,
            750000000,
            5562000000,
            4716000000,
            43803000000
           ],
           "xaxis": "x",
           "y": [
            "Universal Credit",
            "Pension Credit",
            "Working Tax Credit",
            "Child Tax Credit",
            "Child Benefit",
            "Housing Benefit",
            "National Insurance (total)",
            "Income Tax"
           ],
           "yaxis": "y"
          }
         ],
         "name": "2022"
        },
        {
         "data": [
          {
           "alignmentgroup": "True",
           "customdata": [
            [
             1.2,
             1.3,
             1.3,
             2023,
             "Working Tax Credit"
            ],
            [
             4.6,
             4.4,
             4.4,
             2023,
             "Pension Credit"
            ],
            [
             4.4,
             4.5,
             4.6,
             2023,
             "Child Tax Credit"
            ],
            [
             15,
             9.6,
             14.7,
             2023,
             "Housing Benefit"
            ],
            [
             11,
             12.3,
             11.5,
             2023,
             "Child Benefit"
            ],
            [
             50.6,
             39.1,
             49.8,
             2023,
             "Universal Credit"
            ],
            [
             155.8,
             145.1,
             157.5,
             2023,
             "National Insurance (total)"
            ],
            [
             210.3,
             170.6,
             215,
             2023,
             "Income Tax"
            ]
           ],
           "hovertemplate": "<b>%{customdata[4]} in %{customdata[3]}</b><br>Error: %{x}<br>Official: £%{customdata[2]}bn<br>OpenFisca-UK: £%{customdata[0]}bn<br>UKMOD: £%{customdata[1]}bn",
           "legendgroup": "OpenFisca-UK",
           "marker": {
            "color": "blue",
            "pattern": {
             "shape": ""
            }
           },
           "name": "OpenFisca-UK",
           "offsetgroup": "OpenFisca-UK",
           "orientation": "h",
           "showlegend": true,
           "textposition": "auto",
           "type": "bar",
           "x": [
            99696457.92,
            169774581.16,
            220021520.558,
            225777223.92099997,
            500905614.268,
            829852469.815,
            1744303238.436,
            4677218681.658
           ],
           "xaxis": "x",
           "y": [
            "Working Tax Credit",
            "Pension Credit",
            "Child Tax Credit",
            "Housing Benefit",
            "Child Benefit",
            "Universal Credit",
            "National Insurance (total)",
            "Income Tax"
           ],
           "yaxis": "y"
          },
          {
           "alignmentgroup": "True",
           "customdata": [
            [
             1.2,
             1.3,
             1.3,
             2023,
             "Working Tax Credit"
            ],
            [
             4.6,
             4.4,
             4.4,
             2023,
             "Pension Credit"
            ],
            [
             4.4,
             4.5,
             4.6,
             2023,
             "Child Tax Credit"
            ],
            [
             15,
             9.6,
             14.7,
             2023,
             "Housing Benefit"
            ],
            [
             11,
             12.3,
             11.5,
             2023,
             "Child Benefit"
            ],
            [
             50.6,
             39.1,
             49.8,
             2023,
             "Universal Credit"
            ],
            [
             155.8,
             145.1,
             157.5,
             2023,
             "National Insurance (total)"
            ],
            [
             210.3,
             170.6,
             215,
             2023,
             "Income Tax"
            ]
           ],
           "hovertemplate": "<b>%{customdata[4]} in %{customdata[3]}</b><br>Error: %{x}<br>Official: £%{customdata[2]}bn<br>OpenFisca-UK: £%{customdata[0]}bn<br>UKMOD: £%{customdata[1]}bn",
           "legendgroup": "UKMOD",
           "marker": {
            "color": "lightgrey",
            "pattern": {
             "shape": ""
            }
           },
           "name": "UKMOD",
           "offsetgroup": "UKMOD",
           "orientation": "h",
           "showlegend": true,
           "textposition": "auto",
           "type": "bar",
           "x": [
            48031665.023,
            37000000,
            68002783.738,
            5106000000,
            785000000,
            10618000000,
            12386000000,
            44374000000
           ],
           "xaxis": "x",
           "y": [
            "Working Tax Credit",
            "Pension Credit",
            "Child Tax Credit",
            "Housing Benefit",
            "Child Benefit",
            "Universal Credit",
            "National Insurance (total)",
            "Income Tax"
           ],
           "yaxis": "y"
          }
         ],
         "name": "2023"
        },
        {
         "data": [
          {
           "alignmentgroup": "True",
           "customdata": [
            [
             4.3,
             4.5,
             4.4,
             2024,
             "Pension Credit"
            ],
            [
             0.8,
             0.9,
             0.8,
             2024,
             "Working Tax Credit"
            ],
            [
             2.9,
             3.3,
             3,
             2024,
             "Child Tax Credit"
            ],
            [
             57.5,
             39.1,
             57.8,
             2024,
             "Universal Credit"
            ],
            [
             11.1,
             12.5,
             11.6,
             2024,
             "Child Benefit"
            ],
            [
             13.2,
             8.5,
             12.5,
             2024,
             "Housing Benefit"
            ],
            [
             162.7,
             147.9,
             164.6,
             2024,
             "National Insurance (total)"
            ],
            [
             221.4,
             178.5,
             225.7,
             2024,
             "Income Tax"
            ]
           ],
           "hovertemplate": "<b>%{customdata[4]} in %{customdata[3]}</b><br>Error: %{x}<br>Official: £%{customdata[2]}bn<br>OpenFisca-UK: £%{customdata[0]}bn<br>UKMOD: £%{customdata[1]}bn",
           "legendgroup": "OpenFisca-UK",
           "marker": {
            "color": "blue",
            "pattern": {
             "shape": ""
            }
           },
           "name": "OpenFisca-UK",
           "offsetgroup": "OpenFisca-UK",
           "orientation": "h",
           "showlegend": true,
           "textposition": "auto",
           "type": "bar",
           "x": [
            42293044.556,
            66957627.576000005,
            145030768.81,
            315711470.073,
            561113652.373,
            746015675.771,
            1864669174.379,
            4334319158.370999
           ],
           "xaxis": "x",
           "y": [
            "Pension Credit",
            "Working Tax Credit",
            "Child Tax Credit",
            "Universal Credit",
            "Child Benefit",
            "Housing Benefit",
            "National Insurance (total)",
            "Income Tax"
           ],
           "yaxis": "y"
          },
          {
           "alignmentgroup": "True",
           "customdata": [
            [
             4.3,
             4.5,
             4.4,
             2024,
             "Pension Credit"
            ],
            [
             0.8,
             0.9,
             0.8,
             2024,
             "Working Tax Credit"
            ],
            [
             2.9,
             3.3,
             3,
             2024,
             "Child Tax Credit"
            ],
            [
             57.5,
             39.1,
             57.8,
             2024,
             "Universal Credit"
            ],
            [
             11.1,
             12.5,
             11.6,
             2024,
             "Child Benefit"
            ],
            [
             13.2,
             8.5,
             12.5,
             2024,
             "Housing Benefit"
            ],
            [
             162.7,
             147.9,
             164.6,
             2024,
             "National Insurance (total)"
            ],
            [
             221.4,
             178.5,
             225.7,
             2024,
             "Income Tax"
            ]
           ],
           "hovertemplate": "<b>%{customdata[4]} in %{customdata[3]}</b><br>Error: %{x}<br>Official: £%{customdata[2]}bn<br>OpenFisca-UK: £%{customdata[0]}bn<br>UKMOD: £%{customdata[1]}bn",
           "legendgroup": "UKMOD",
           "marker": {
            "color": "lightgrey",
            "pattern": {
             "shape": ""
            }
           },
           "name": "UKMOD",
           "offsetgroup": "UKMOD",
           "orientation": "h",
           "showlegend": true,
           "textposition": "auto",
           "type": "bar",
           "x": [
            112000000,
            61813257.554,
            257401032.303,
            18649000000,
            921000000,
            4027000000,
            16710000000,
            47212000000
           ],
           "xaxis": "x",
           "y": [
            "Pension Credit",
            "Working Tax Credit",
            "Child Tax Credit",
            "Universal Credit",
            "Child Benefit",
            "Housing Benefit",
            "National Insurance (total)",
            "Income Tax"
           ],
           "yaxis": "y"
          }
         ],
         "name": "2024"
        },
        {
         "data": [
          {
           "alignmentgroup": "True",
           "customdata": [
            [
             0.3,
             0.4,
             0.4,
             2025,
             "Working Tax Credit"
            ],
            [
             1.3,
             1.5,
             1.4,
             2025,
             "Child Tax Credit"
            ],
            [
             4.1,
             4.5,
             4.2,
             2025,
             "Pension Credit"
            ],
            [
             11.1,
             12.6,
             11.6,
             2025,
             "Child Benefit"
            ],
            [
             11.2,
             6.7,
             10.2,
             2025,
             "Housing Benefit"
            ],
            [
             170.5,
             151.9,
             172.1,
             2025,
             "National Insurance (total)"
            ],
            [
             65.5,
             45.6,
             68,
             2025,
             "Universal Credit"
            ],
            [
             227.7,
             187.9,
             237.5,
             2025,
             "Income Tax"
            ]
           ],
           "hovertemplate": "<b>%{customdata[4]} in %{customdata[3]}</b><br>Error: %{x}<br>Official: £%{customdata[2]}bn<br>OpenFisca-UK: £%{customdata[0]}bn<br>UKMOD: £%{customdata[1]}bn",
           "legendgroup": "OpenFisca-UK",
           "marker": {
            "color": "blue",
            "pattern": {
             "shape": ""
            }
           },
           "name": "OpenFisca-UK",
           "offsetgroup": "OpenFisca-UK",
           "orientation": "h",
           "showlegend": true,
           "textposition": "auto",
           "type": "bar",
           "x": [
            56245791.62100001,
            101687856.064,
            155382237.946,
            517928416.49,
            1017789702.8110001,
            1604253631.199,
            2444175509.625,
            9821299651.423
           ],
           "xaxis": "x",
           "y": [
            "Working Tax Credit",
            "Child Tax Credit",
            "Pension Credit",
            "Child Benefit",
            "Housing Benefit",
            "National Insurance (total)",
            "Universal Credit",
            "Income Tax"
           ],
           "yaxis": "y"
          },
          {
           "alignmentgroup": "True",
           "customdata": [
            [
             0.3,
             0.4,
             0.4,
             2025,
             "Working Tax Credit"
            ],
            [
             1.3,
             1.5,
             1.4,
             2025,
             "Child Tax Credit"
            ],
            [
             4.1,
             4.5,
             4.2,
             2025,
             "Pension Credit"
            ],
            [
             11.1,
             12.6,
             11.6,
             2025,
             "Child Benefit"
            ],
            [
             11.2,
             6.7,
             10.2,
             2025,
             "Housing Benefit"
            ],
            [
             170.5,
             151.9,
             172.1,
             2025,
             "National Insurance (total)"
            ],
            [
             65.5,
             45.6,
             68,
             2025,
             "Universal Credit"
            ],
            [
             227.7,
             187.9,
             237.5,
             2025,
             "Income Tax"
            ]
           ],
           "hovertemplate": "<b>%{customdata[4]} in %{customdata[3]}</b><br>Error: %{x}<br>Official: £%{customdata[2]}bn<br>OpenFisca-UK: £%{customdata[0]}bn<br>UKMOD: £%{customdata[1]}bn",
           "legendgroup": "UKMOD",
           "marker": {
            "color": "lightgrey",
            "pattern": {
             "shape": ""
            }
           },
           "name": "UKMOD",
           "offsetgroup": "UKMOD",
           "orientation": "h",
           "showlegend": true,
           "textposition": "auto",
           "type": "bar",
           "x": [
            44115815.113000005,
            86616192.078,
            243000000,
            952000000,
            3507000000,
            20225000000,
            22315000000,
            49635000000
           ],
           "xaxis": "x",
           "y": [
            "Working Tax Credit",
            "Child Tax Credit",
            "Pension Credit",
            "Child Benefit",
            "Housing Benefit",
            "National Insurance (total)",
            "Universal Credit",
            "Income Tax"
           ],
           "yaxis": "y"
          }
         ],
         "name": "2025"
        }
       ],
       "layout": {
        "barmode": "group",
        "height": 600,
        "legend": {
         "title": {
          "text": "Model"
         },
         "tracegroupgap": 0,
         "traceorder": "reversed"
        },
        "margin": {
         "t": 60
        },
        "sliders": [
         {
          "active": 0,
          "currentvalue": {
           "prefix": "Year="
          },
          "len": 0.9,
          "pad": {
           "b": 10,
           "t": 60
          },
          "steps": [
           {
            "args": [
             [
              "2022"
             ],
             {
              "frame": {
               "duration": 0,
               "redraw": true
              },
              "fromcurrent": true,
              "mode": "immediate",
              "transition": {
               "duration": 0,
               "easing": "linear"
              }
             }
            ],
            "label": "2022",
            "method": "animate"
           },
           {
            "args": [
             [
              "2023"
             ],
             {
              "frame": {
               "duration": 0,
               "redraw": true
              },
              "fromcurrent": true,
              "mode": "immediate",
              "transition": {
               "duration": 0,
               "easing": "linear"
              }
             }
            ],
            "label": "2023",
            "method": "animate"
           },
           {
            "args": [
             [
              "2024"
             ],
             {
              "frame": {
               "duration": 0,
               "redraw": true
              },
              "fromcurrent": true,
              "mode": "immediate",
              "transition": {
               "duration": 0,
               "easing": "linear"
              }
             }
            ],
            "label": "2024",
            "method": "animate"
           },
           {
            "args": [
             [
              "2025"
             ],
             {
              "frame": {
               "duration": 0,
               "redraw": true
              },
              "fromcurrent": true,
              "mode": "immediate",
              "transition": {
               "duration": 0,
               "easing": "linear"
              }
             }
            ],
            "label": "2025",
            "method": "animate"
           }
          ],
          "x": 0.1,
          "xanchor": "left",
          "y": 0,
          "yanchor": "top"
         }
        ],
        "template": {
         "data": {
          "bar": [
           {
            "error_x": {
             "color": "#2a3f5f"
            },
            "error_y": {
             "color": "#2a3f5f"
            },
            "marker": {
             "line": {
              "color": "white",
              "width": 0.5
             },
             "pattern": {
              "fillmode": "overlay",
              "size": 10,
              "solidity": 0.2
             }
            },
            "type": "bar"
           }
          ],
          "barpolar": [
           {
            "marker": {
             "line": {
              "color": "white",
              "width": 0.5
             },
             "pattern": {
              "fillmode": "overlay",
              "size": 10,
              "solidity": 0.2
             }
            },
            "type": "barpolar"
           }
          ],
          "carpet": [
           {
            "aaxis": {
             "endlinecolor": "#2a3f5f",
             "gridcolor": "#C8D4E3",
             "linecolor": "#C8D4E3",
             "minorgridcolor": "#C8D4E3",
             "startlinecolor": "#2a3f5f"
            },
            "baxis": {
             "endlinecolor": "#2a3f5f",
             "gridcolor": "#C8D4E3",
             "linecolor": "#C8D4E3",
             "minorgridcolor": "#C8D4E3",
             "startlinecolor": "#2a3f5f"
            },
            "type": "carpet"
           }
          ],
          "choropleth": [
           {
            "colorbar": {
             "outlinewidth": 0,
             "ticks": ""
            },
            "type": "choropleth"
           }
          ],
          "contour": [
           {
            "colorbar": {
             "outlinewidth": 0,
             "ticks": ""
            },
            "colorscale": [
             [
              0,
              "#0d0887"
             ],
             [
              0.1111111111111111,
              "#46039f"
             ],
             [
              0.2222222222222222,
              "#7201a8"
             ],
             [
              0.3333333333333333,
              "#9c179e"
             ],
             [
              0.4444444444444444,
              "#bd3786"
             ],
             [
              0.5555555555555556,
              "#d8576b"
             ],
             [
              0.6666666666666666,
              "#ed7953"
             ],
             [
              0.7777777777777778,
              "#fb9f3a"
             ],
             [
              0.8888888888888888,
              "#fdca26"
             ],
             [
              1,
              "#f0f921"
             ]
            ],
            "type": "contour"
           }
          ],
          "contourcarpet": [
           {
            "colorbar": {
             "outlinewidth": 0,
             "ticks": ""
            },
            "type": "contourcarpet"
           }
          ],
          "heatmap": [
           {
            "colorbar": {
             "outlinewidth": 0,
             "ticks": ""
            },
            "colorscale": [
             [
              0,
              "#0d0887"
             ],
             [
              0.1111111111111111,
              "#46039f"
             ],
             [
              0.2222222222222222,
              "#7201a8"
             ],
             [
              0.3333333333333333,
              "#9c179e"
             ],
             [
              0.4444444444444444,
              "#bd3786"
             ],
             [
              0.5555555555555556,
              "#d8576b"
             ],
             [
              0.6666666666666666,
              "#ed7953"
             ],
             [
              0.7777777777777778,
              "#fb9f3a"
             ],
             [
              0.8888888888888888,
              "#fdca26"
             ],
             [
              1,
              "#f0f921"
             ]
            ],
            "type": "heatmap"
           }
          ],
          "heatmapgl": [
           {
            "colorbar": {
             "outlinewidth": 0,
             "ticks": ""
            },
            "colorscale": [
             [
              0,
              "#0d0887"
             ],
             [
              0.1111111111111111,
              "#46039f"
             ],
             [
              0.2222222222222222,
              "#7201a8"
             ],
             [
              0.3333333333333333,
              "#9c179e"
             ],
             [
              0.4444444444444444,
              "#bd3786"
             ],
             [
              0.5555555555555556,
              "#d8576b"
             ],
             [
              0.6666666666666666,
              "#ed7953"
             ],
             [
              0.7777777777777778,
              "#fb9f3a"
             ],
             [
              0.8888888888888888,
              "#fdca26"
             ],
             [
              1,
              "#f0f921"
             ]
            ],
            "type": "heatmapgl"
           }
          ],
          "histogram": [
           {
            "marker": {
             "pattern": {
              "fillmode": "overlay",
              "size": 10,
              "solidity": 0.2
             }
            },
            "type": "histogram"
           }
          ],
          "histogram2d": [
           {
            "colorbar": {
             "outlinewidth": 0,
             "ticks": ""
            },
            "colorscale": [
             [
              0,
              "#0d0887"
             ],
             [
              0.1111111111111111,
              "#46039f"
             ],
             [
              0.2222222222222222,
              "#7201a8"
             ],
             [
              0.3333333333333333,
              "#9c179e"
             ],
             [
              0.4444444444444444,
              "#bd3786"
             ],
             [
              0.5555555555555556,
              "#d8576b"
             ],
             [
              0.6666666666666666,
              "#ed7953"
             ],
             [
              0.7777777777777778,
              "#fb9f3a"
             ],
             [
              0.8888888888888888,
              "#fdca26"
             ],
             [
              1,
              "#f0f921"
             ]
            ],
            "type": "histogram2d"
           }
          ],
          "histogram2dcontour": [
           {
            "colorbar": {
             "outlinewidth": 0,
             "ticks": ""
            },
            "colorscale": [
             [
              0,
              "#0d0887"
             ],
             [
              0.1111111111111111,
              "#46039f"
             ],
             [
              0.2222222222222222,
              "#7201a8"
             ],
             [
              0.3333333333333333,
              "#9c179e"
             ],
             [
              0.4444444444444444,
              "#bd3786"
             ],
             [
              0.5555555555555556,
              "#d8576b"
             ],
             [
              0.6666666666666666,
              "#ed7953"
             ],
             [
              0.7777777777777778,
              "#fb9f3a"
             ],
             [
              0.8888888888888888,
              "#fdca26"
             ],
             [
              1,
              "#f0f921"
             ]
            ],
            "type": "histogram2dcontour"
           }
          ],
          "mesh3d": [
           {
            "colorbar": {
             "outlinewidth": 0,
             "ticks": ""
            },
            "type": "mesh3d"
           }
          ],
          "parcoords": [
           {
            "line": {
             "colorbar": {
              "outlinewidth": 0,
              "ticks": ""
             }
            },
            "type": "parcoords"
           }
          ],
          "pie": [
           {
            "automargin": true,
            "type": "pie"
           }
          ],
          "scatter": [
           {
            "marker": {
             "colorbar": {
              "outlinewidth": 0,
              "ticks": ""
             }
            },
            "type": "scatter"
           }
          ],
          "scatter3d": [
           {
            "line": {
             "colorbar": {
              "outlinewidth": 0,
              "ticks": ""
             }
            },
            "marker": {
             "colorbar": {
              "outlinewidth": 0,
              "ticks": ""
             }
            },
            "type": "scatter3d"
           }
          ],
          "scattercarpet": [
           {
            "marker": {
             "colorbar": {
              "outlinewidth": 0,
              "ticks": ""
             }
            },
            "type": "scattercarpet"
           }
          ],
          "scattergeo": [
           {
            "marker": {
             "colorbar": {
              "outlinewidth": 0,
              "ticks": ""
             }
            },
            "type": "scattergeo"
           }
          ],
          "scattergl": [
           {
            "marker": {
             "colorbar": {
              "outlinewidth": 0,
              "ticks": ""
             }
            },
            "type": "scattergl"
           }
          ],
          "scattermapbox": [
           {
            "marker": {
             "colorbar": {
              "outlinewidth": 0,
              "ticks": ""
             }
            },
            "type": "scattermapbox"
           }
          ],
          "scatterpolar": [
           {
            "marker": {
             "colorbar": {
              "outlinewidth": 0,
              "ticks": ""
             }
            },
            "type": "scatterpolar"
           }
          ],
          "scatterpolargl": [
           {
            "marker": {
             "colorbar": {
              "outlinewidth": 0,
              "ticks": ""
             }
            },
            "type": "scatterpolargl"
           }
          ],
          "scatterternary": [
           {
            "marker": {
             "colorbar": {
              "outlinewidth": 0,
              "ticks": ""
             }
            },
            "type": "scatterternary"
           }
          ],
          "surface": [
           {
            "colorbar": {
             "outlinewidth": 0,
             "ticks": ""
            },
            "colorscale": [
             [
              0,
              "#0d0887"
             ],
             [
              0.1111111111111111,
              "#46039f"
             ],
             [
              0.2222222222222222,
              "#7201a8"
             ],
             [
              0.3333333333333333,
              "#9c179e"
             ],
             [
              0.4444444444444444,
              "#bd3786"
             ],
             [
              0.5555555555555556,
              "#d8576b"
             ],
             [
              0.6666666666666666,
              "#ed7953"
             ],
             [
              0.7777777777777778,
              "#fb9f3a"
             ],
             [
              0.8888888888888888,
              "#fdca26"
             ],
             [
              1,
              "#f0f921"
             ]
            ],
            "type": "surface"
           }
          ],
          "table": [
           {
            "cells": {
             "fill": {
              "color": "#EBF0F8"
             },
             "line": {
              "color": "white"
             }
            },
            "header": {
             "fill": {
              "color": "#C8D4E3"
             },
             "line": {
              "color": "white"
             }
            },
            "type": "table"
           }
          ]
         },
         "layout": {
          "annotationdefaults": {
           "arrowcolor": "#2a3f5f",
           "arrowhead": 0,
           "arrowwidth": 1
          },
          "autotypenumbers": "strict",
          "coloraxis": {
           "colorbar": {
            "outlinewidth": 0,
            "ticks": ""
           }
          },
          "colorscale": {
           "diverging": [
            [
             0,
             "#8e0152"
            ],
            [
             0.1,
             "#c51b7d"
            ],
            [
             0.2,
             "#de77ae"
            ],
            [
             0.3,
             "#f1b6da"
            ],
            [
             0.4,
             "#fde0ef"
            ],
            [
             0.5,
             "#f7f7f7"
            ],
            [
             0.6,
             "#e6f5d0"
            ],
            [
             0.7,
             "#b8e186"
            ],
            [
             0.8,
             "#7fbc41"
            ],
            [
             0.9,
             "#4d9221"
            ],
            [
             1,
             "#276419"
            ]
           ],
           "sequential": [
            [
             0,
             "#0d0887"
            ],
            [
             0.1111111111111111,
             "#46039f"
            ],
            [
             0.2222222222222222,
             "#7201a8"
            ],
            [
             0.3333333333333333,
             "#9c179e"
            ],
            [
             0.4444444444444444,
             "#bd3786"
            ],
            [
             0.5555555555555556,
             "#d8576b"
            ],
            [
             0.6666666666666666,
             "#ed7953"
            ],
            [
             0.7777777777777778,
             "#fb9f3a"
            ],
            [
             0.8888888888888888,
             "#fdca26"
            ],
            [
             1,
             "#f0f921"
            ]
           ],
           "sequentialminus": [
            [
             0,
             "#0d0887"
            ],
            [
             0.1111111111111111,
             "#46039f"
            ],
            [
             0.2222222222222222,
             "#7201a8"
            ],
            [
             0.3333333333333333,
             "#9c179e"
            ],
            [
             0.4444444444444444,
             "#bd3786"
            ],
            [
             0.5555555555555556,
             "#d8576b"
            ],
            [
             0.6666666666666666,
             "#ed7953"
            ],
            [
             0.7777777777777778,
             "#fb9f3a"
            ],
            [
             0.8888888888888888,
             "#fdca26"
            ],
            [
             1,
             "#f0f921"
            ]
           ]
          },
          "colorway": [
           "#636efa",
           "#EF553B",
           "#00cc96",
           "#ab63fa",
           "#FFA15A",
           "#19d3f3",
           "#FF6692",
           "#B6E880",
           "#FF97FF",
           "#FECB52"
          ],
          "font": {
           "color": "#2a3f5f"
          },
          "geo": {
           "bgcolor": "white",
           "lakecolor": "white",
           "landcolor": "white",
           "showlakes": true,
           "showland": true,
           "subunitcolor": "#C8D4E3"
          },
          "hoverlabel": {
           "align": "left"
          },
          "hovermode": "closest",
          "mapbox": {
           "style": "light"
          },
          "paper_bgcolor": "white",
          "plot_bgcolor": "white",
          "polar": {
           "angularaxis": {
            "gridcolor": "#EBF0F8",
            "linecolor": "#EBF0F8",
            "ticks": ""
           },
           "bgcolor": "white",
           "radialaxis": {
            "gridcolor": "#EBF0F8",
            "linecolor": "#EBF0F8",
            "ticks": ""
           }
          },
          "scene": {
           "xaxis": {
            "backgroundcolor": "white",
            "gridcolor": "#DFE8F3",
            "gridwidth": 2,
            "linecolor": "#EBF0F8",
            "showbackground": true,
            "ticks": "",
            "zerolinecolor": "#EBF0F8"
           },
           "yaxis": {
            "backgroundcolor": "white",
            "gridcolor": "#DFE8F3",
            "gridwidth": 2,
            "linecolor": "#EBF0F8",
            "showbackground": true,
            "ticks": "",
            "zerolinecolor": "#EBF0F8"
           },
           "zaxis": {
            "backgroundcolor": "white",
            "gridcolor": "#DFE8F3",
            "gridwidth": 2,
            "linecolor": "#EBF0F8",
            "showbackground": true,
            "ticks": "",
            "zerolinecolor": "#EBF0F8"
           }
          },
          "shapedefaults": {
           "line": {
            "color": "#2a3f5f"
           }
          },
          "ternary": {
           "aaxis": {
            "gridcolor": "#DFE8F3",
            "linecolor": "#A2B1C6",
            "ticks": ""
           },
           "baxis": {
            "gridcolor": "#DFE8F3",
            "linecolor": "#A2B1C6",
            "ticks": ""
           },
           "bgcolor": "white",
           "caxis": {
            "gridcolor": "#DFE8F3",
            "linecolor": "#A2B1C6",
            "ticks": ""
           }
          },
          "title": {
           "x": 0.05
          },
          "xaxis": {
           "automargin": true,
           "gridcolor": "#EBF0F8",
           "linecolor": "#EBF0F8",
           "ticks": "",
           "title": {
            "standoff": 15
           },
           "zerolinecolor": "#EBF0F8",
           "zerolinewidth": 2
          },
          "yaxis": {
           "automargin": true,
           "gridcolor": "#EBF0F8",
           "linecolor": "#EBF0F8",
           "ticks": "",
           "title": {
            "standoff": 15
           },
           "zerolinecolor": "#EBF0F8",
           "zerolinewidth": 2
          }
         }
        },
        "title": {
         "text": "Budgetary impact error"
        },
        "updatemenus": [
         {
          "buttons": [
           {
            "args": [
             null,
             {
              "frame": {
               "duration": 500,
               "redraw": true
              },
              "fromcurrent": true,
              "mode": "immediate",
              "transition": {
               "duration": 500,
               "easing": "linear"
              }
             }
            ],
            "label": "&#9654;",
            "method": "animate"
           },
           {
            "args": [
             [
              null
             ],
             {
              "frame": {
               "duration": 0,
               "redraw": true
              },
              "fromcurrent": true,
              "mode": "immediate",
              "transition": {
               "duration": 0,
               "easing": "linear"
              }
             }
            ],
            "label": "&#9724;",
            "method": "animate"
           }
          ],
          "direction": "left",
          "pad": {
           "r": 10,
           "t": 70
          },
          "showactive": false,
          "type": "buttons",
          "x": 0.1,
          "xanchor": "right",
          "y": 0,
          "yanchor": "top"
         }
        ],
        "width": 800,
        "xaxis": {
         "anchor": "y",
         "domain": [
          0,
          1
         ],
         "tickprefix": "£",
         "title": {
          "text": "Budgetary impact error"
         }
        },
        "yaxis": {
         "anchor": "x",
         "domain": [
          0,
          1
         ],
         "title": {
          "text": ""
         }
        }
       }
      }
     },
     "metadata": {},
     "output_type": "display_data"
    }
   ],
   "source": [
    "pd.set_option(\"display.max_colwidth\", 0)\n",
    "pd.set_option(\"display.max_rows\", 500)\n",
    "\n",
    "\n",
    "def error_chart(table, title=None):\n",
    "    hovertemplate = \"<b>%{customdata[4]} in %{customdata[3]}</b><br>Error: %{x}<br>Official: £%{customdata[2]}bn<br>OpenFisca-UK: £%{customdata[0]}bn<br>UKMOD: £%{customdata[1]}bn\"\n",
    "    table = table.replace(\"\", np.nan).dropna(axis=0)\n",
    "    table[[policyengine_uk, UKMOD]] = (\n",
    "        table[[policyengine_uk, UKMOD]].abs() / 1e2\n",
    "    )\n",
    "    fig = (\n",
    "        px.bar(\n",
    "            table.sort_values([\"Year\", policyengine_uk]),\n",
    "            x=[policyengine_uk, UKMOD],\n",
    "            y=\"Program\",\n",
    "            orientation=\"h\",\n",
    "            animation_frame=\"Year\",\n",
    "            barmode=\"group\",\n",
    "            color_discrete_map={\n",
    "                policyengine_uk: \"blue\",\n",
    "                UKMOD: \"lightgrey\",\n",
    "            },\n",
    "            custom_data=[\n",
    "                \"OpenFisca-UK budgetary impact\",\n",
    "                \"UKMOD budgetary impact\",\n",
    "                \"External budgetary impact\",\n",
    "                \"Year\",\n",
    "                \"Program\",\n",
    "            ],\n",
    "        )\n",
    "        .update_layout(\n",
    "            width=800,\n",
    "            height=600,\n",
    "            xaxis_tickprefix=\"£\",\n",
    "            xaxis_title=\"Budgetary impact error\",\n",
    "            title=title,\n",
    "            template=\"plotly_white\",\n",
    "            legend_title=\"Model\",\n",
    "            yaxis_title=\"\",\n",
    "            legend_traceorder=\"reversed\",\n",
    "        )\n",
    "        .update_traces(hovertemplate=hovertemplate)\n",
    "    )\n",
    "    for frame in fig.frames:\n",
    "        for data in frame.data:\n",
    "            data.hovertemplate = hovertemplate\n",
    "    return fig\n",
    "\n",
    "\n",
    "error_chart(\n",
    "    tables_to_model_comparisons(\n",
    "        {\n",
    "            \"\": model_validation_table(\n",
    "                budgetary_impact_error,\n",
    "                models=[policyengine_uk, UKMOD],\n",
    "                divisor=1e-2,\n",
    "                decimals=1,\n",
    "            ),\n",
    "            \"budgetary impact\": model_validation_table(\n",
    "                budgetary_impact, divisor=1e9, decimals=1\n",
    "            ),\n",
    "        }\n",
    "    ),\n",
    "    title=\"Budgetary impact error\",\n",
    ")"
   ]
  },
  {
   "cell_type": "markdown",
   "id": "f89a9c20-9f10-4a8e-9ce9-5d35cc59f936",
   "metadata": {},
   "source": [
    "## Caseload tables\n",
    "\n",
    "OpenFisca-UK uprates input FRS data: below are comparisons between the aggregates calculated by OpenFisca-UK, UKMOD and external sources.\n",
    "\n",
    "### Caseloads in full"
   ]
  },
  {
   "cell_type": "code",
   "execution_count": 6,
   "id": "63f78e85-f975-49f2-9aa5-be89d8d0e4f4",
   "metadata": {
    "tags": [
     "hide-input"
    ]
   },
   "outputs": [
    {
     "data": {
      "text/html": [
       "<div>\n",
       "<style scoped>\n",
       "    .dataframe tbody tr th:only-of-type {\n",
       "        vertical-align: middle;\n",
       "    }\n",
       "\n",
       "    .dataframe tbody tr th {\n",
       "        vertical-align: top;\n",
       "    }\n",
       "\n",
       "    .dataframe thead th {\n",
       "        text-align: right;\n",
       "    }\n",
       "</style>\n",
       "<table border=\"1\" class=\"dataframe\">\n",
       "  <thead>\n",
       "    <tr style=\"text-align: right;\">\n",
       "      <th></th>\n",
       "      <th></th>\n",
       "      <th>Child Benefit</th>\n",
       "      <th>Income Support</th>\n",
       "      <th>JSA (income-based)</th>\n",
       "      <th>Housing Benefit</th>\n",
       "      <th>Working Tax Credit</th>\n",
       "      <th>Child Tax Credit</th>\n",
       "      <th>Universal Credit</th>\n",
       "      <th>Pension Credit</th>\n",
       "      <th>Income Tax</th>\n",
       "      <th>National Insurance (total)</th>\n",
       "      <th>Employment income</th>\n",
       "      <th>Self-employment income</th>\n",
       "      <th>Pension income</th>\n",
       "      <th>Rental income</th>\n",
       "      <th>Savings interest income</th>\n",
       "      <th>Income from dividends</th>\n",
       "    </tr>\n",
       "  </thead>\n",
       "  <tbody>\n",
       "    <tr>\n",
       "      <th rowspan=\"4\" valign=\"top\">External</th>\n",
       "      <th>2022</th>\n",
       "      <td>7.07</td>\n",
       "      <td>0.16</td>\n",
       "      <td>0.04</td>\n",
       "      <td>2.71</td>\n",
       "      <td>0.77</td>\n",
       "      <td>1.25</td>\n",
       "      <td>4.65</td>\n",
       "      <td>1.41</td>\n",
       "      <td>31.88</td>\n",
       "      <td></td>\n",
       "      <td></td>\n",
       "      <td></td>\n",
       "      <td></td>\n",
       "      <td></td>\n",
       "      <td></td>\n",
       "      <td></td>\n",
       "    </tr>\n",
       "    <tr>\n",
       "      <th>2023</th>\n",
       "      <td>7.00</td>\n",
       "      <td>0.12</td>\n",
       "      <td>0.01</td>\n",
       "      <td>2.46</td>\n",
       "      <td>0.58</td>\n",
       "      <td>0.94</td>\n",
       "      <td>5.05</td>\n",
       "      <td>1.34</td>\n",
       "      <td>31.88</td>\n",
       "      <td></td>\n",
       "      <td></td>\n",
       "      <td></td>\n",
       "      <td></td>\n",
       "      <td></td>\n",
       "      <td></td>\n",
       "      <td></td>\n",
       "    </tr>\n",
       "    <tr>\n",
       "      <th>2024</th>\n",
       "      <td>6.93</td>\n",
       "      <td>0.08</td>\n",
       "      <td>0.0</td>\n",
       "      <td>2.11</td>\n",
       "      <td>0.38</td>\n",
       "      <td>0.62</td>\n",
       "      <td>5.61</td>\n",
       "      <td>1.28</td>\n",
       "      <td>31.88</td>\n",
       "      <td></td>\n",
       "      <td></td>\n",
       "      <td></td>\n",
       "      <td></td>\n",
       "      <td></td>\n",
       "      <td></td>\n",
       "      <td></td>\n",
       "    </tr>\n",
       "    <tr>\n",
       "      <th>2025</th>\n",
       "      <td>6.87</td>\n",
       "      <td>0.03</td>\n",
       "      <td>0.0</td>\n",
       "      <td>1.73</td>\n",
       "      <td>0.17</td>\n",
       "      <td>0.28</td>\n",
       "      <td>6.29</td>\n",
       "      <td>1.23</td>\n",
       "      <td>31.88</td>\n",
       "      <td></td>\n",
       "      <td></td>\n",
       "      <td></td>\n",
       "      <td></td>\n",
       "      <td></td>\n",
       "      <td></td>\n",
       "      <td></td>\n",
       "    </tr>\n",
       "    <tr>\n",
       "      <th rowspan=\"4\" valign=\"top\">OpenFisca-UK</th>\n",
       "      <th>2022</th>\n",
       "      <td>6.92</td>\n",
       "      <td>0.09</td>\n",
       "      <td>0.0</td>\n",
       "      <td>2.91</td>\n",
       "      <td>0.68</td>\n",
       "      <td>1.19</td>\n",
       "      <td>5.15</td>\n",
       "      <td>1.59</td>\n",
       "      <td>31.41</td>\n",
       "      <td>26.56</td>\n",
       "      <td>32.32</td>\n",
       "      <td>4.63</td>\n",
       "      <td>11.4</td>\n",
       "      <td>2.6</td>\n",
       "      <td>14.64</td>\n",
       "      <td>5.44</td>\n",
       "    </tr>\n",
       "    <tr>\n",
       "      <th>2023</th>\n",
       "      <td>6.79</td>\n",
       "      <td>0.07</td>\n",
       "      <td>0.0</td>\n",
       "      <td>2.51</td>\n",
       "      <td>0.51</td>\n",
       "      <td>0.88</td>\n",
       "      <td>5.66</td>\n",
       "      <td>1.50</td>\n",
       "      <td>32.78</td>\n",
       "      <td>26.62</td>\n",
       "      <td>32.16</td>\n",
       "      <td>4.62</td>\n",
       "      <td>11.39</td>\n",
       "      <td>2.59</td>\n",
       "      <td>14.66</td>\n",
       "      <td>5.42</td>\n",
       "    </tr>\n",
       "    <tr>\n",
       "      <th>2024</th>\n",
       "      <td>6.71</td>\n",
       "      <td>0.06</td>\n",
       "      <td>0.0</td>\n",
       "      <td>2.20</td>\n",
       "      <td>0.32</td>\n",
       "      <td>0.55</td>\n",
       "      <td>6.21</td>\n",
       "      <td>1.35</td>\n",
       "      <td>34.06</td>\n",
       "      <td>27.13</td>\n",
       "      <td>32.12</td>\n",
       "      <td>4.62</td>\n",
       "      <td>11.39</td>\n",
       "      <td>2.59</td>\n",
       "      <td>14.63</td>\n",
       "      <td>5.41</td>\n",
       "    </tr>\n",
       "    <tr>\n",
       "      <th>2025</th>\n",
       "      <td>6.67</td>\n",
       "      <td>0.04</td>\n",
       "      <td>0.0</td>\n",
       "      <td>1.85</td>\n",
       "      <td>0.13</td>\n",
       "      <td>0.24</td>\n",
       "      <td>6.97</td>\n",
       "      <td>1.21</td>\n",
       "      <td>35.36</td>\n",
       "      <td>27.77</td>\n",
       "      <td>32.19</td>\n",
       "      <td>4.63</td>\n",
       "      <td>11.4</td>\n",
       "      <td>2.6</td>\n",
       "      <td>14.65</td>\n",
       "      <td>5.42</td>\n",
       "    </tr>\n",
       "    <tr>\n",
       "      <th rowspan=\"4\" valign=\"top\">UKMOD</th>\n",
       "      <th>2022</th>\n",
       "      <td>7.12</td>\n",
       "      <td></td>\n",
       "      <td></td>\n",
       "      <td>2.26</td>\n",
       "      <td>0.54</td>\n",
       "      <td>1.08</td>\n",
       "      <td>4.21</td>\n",
       "      <td>1.41</td>\n",
       "      <td>30.01</td>\n",
       "      <td>26.08</td>\n",
       "      <td></td>\n",
       "      <td></td>\n",
       "      <td></td>\n",
       "      <td></td>\n",
       "      <td></td>\n",
       "      <td></td>\n",
       "    </tr>\n",
       "    <tr>\n",
       "      <th>2023</th>\n",
       "      <td>7.07</td>\n",
       "      <td></td>\n",
       "      <td></td>\n",
       "      <td>2.05</td>\n",
       "      <td>0.44</td>\n",
       "      <td>0.89</td>\n",
       "      <td>4.66</td>\n",
       "      <td>1.45</td>\n",
       "      <td>30.58</td>\n",
       "      <td>26.19</td>\n",
       "      <td></td>\n",
       "      <td></td>\n",
       "      <td></td>\n",
       "      <td></td>\n",
       "      <td></td>\n",
       "      <td></td>\n",
       "    </tr>\n",
       "    <tr>\n",
       "      <th>2024</th>\n",
       "      <td>7.02</td>\n",
       "      <td></td>\n",
       "      <td></td>\n",
       "      <td>1.78</td>\n",
       "      <td>0.30</td>\n",
       "      <td>0.64</td>\n",
       "      <td>5.31</td>\n",
       "      <td>1.44</td>\n",
       "      <td>30.94</td>\n",
       "      <td>26.24</td>\n",
       "      <td></td>\n",
       "      <td></td>\n",
       "      <td></td>\n",
       "      <td></td>\n",
       "      <td></td>\n",
       "      <td></td>\n",
       "    </tr>\n",
       "    <tr>\n",
       "      <th>2025</th>\n",
       "      <td>6.99</td>\n",
       "      <td></td>\n",
       "      <td></td>\n",
       "      <td>1.43</td>\n",
       "      <td>0.13</td>\n",
       "      <td>0.29</td>\n",
       "      <td>6.15</td>\n",
       "      <td>1.42</td>\n",
       "      <td>31.47</td>\n",
       "      <td>26.27</td>\n",
       "      <td></td>\n",
       "      <td></td>\n",
       "      <td></td>\n",
       "      <td></td>\n",
       "      <td></td>\n",
       "      <td></td>\n",
       "    </tr>\n",
       "  </tbody>\n",
       "</table>\n",
       "</div>"
      ],
      "text/plain": [
       "                   Child Benefit Income Support JSA (income-based)  \\\n",
       "External     2022  7.07           0.16           0.04                \n",
       "             2023  7.00           0.12           0.01                \n",
       "             2024  6.93           0.08           0.0                 \n",
       "             2025  6.87           0.03           0.0                 \n",
       "OpenFisca-UK 2022  6.92           0.09           0.0                 \n",
       "             2023  6.79           0.07           0.0                 \n",
       "             2024  6.71           0.06           0.0                 \n",
       "             2025  6.67           0.04           0.0                 \n",
       "UKMOD        2022  7.12                                              \n",
       "             2023  7.07                                              \n",
       "             2024  7.02                                              \n",
       "             2025  6.99                                              \n",
       "\n",
       "                   Housing Benefit  Working Tax Credit  Child Tax Credit  \\\n",
       "External     2022  2.71             0.77                1.25               \n",
       "             2023  2.46             0.58                0.94               \n",
       "             2024  2.11             0.38                0.62               \n",
       "             2025  1.73             0.17                0.28               \n",
       "OpenFisca-UK 2022  2.91             0.68                1.19               \n",
       "             2023  2.51             0.51                0.88               \n",
       "             2024  2.20             0.32                0.55               \n",
       "             2025  1.85             0.13                0.24               \n",
       "UKMOD        2022  2.26             0.54                1.08               \n",
       "             2023  2.05             0.44                0.89               \n",
       "             2024  1.78             0.30                0.64               \n",
       "             2025  1.43             0.13                0.29               \n",
       "\n",
       "                   Universal Credit  Pension Credit  Income Tax  \\\n",
       "External     2022  4.65              1.41            31.88        \n",
       "             2023  5.05              1.34            31.88        \n",
       "             2024  5.61              1.28            31.88        \n",
       "             2025  6.29              1.23            31.88        \n",
       "OpenFisca-UK 2022  5.15              1.59            31.41        \n",
       "             2023  5.66              1.50            32.78        \n",
       "             2024  6.21              1.35            34.06        \n",
       "             2025  6.97              1.21            35.36        \n",
       "UKMOD        2022  4.21              1.41            30.01        \n",
       "             2023  4.66              1.45            30.58        \n",
       "             2024  5.31              1.44            30.94        \n",
       "             2025  6.15              1.42            31.47        \n",
       "\n",
       "                  National Insurance (total) Employment income  \\\n",
       "External     2022                                                \n",
       "             2023                                                \n",
       "             2024                                                \n",
       "             2025                                                \n",
       "OpenFisca-UK 2022  26.56                      32.32              \n",
       "             2023  26.62                      32.16              \n",
       "             2024  27.13                      32.12              \n",
       "             2025  27.77                      32.19              \n",
       "UKMOD        2022  26.08                                         \n",
       "             2023  26.19                                         \n",
       "             2024  26.24                                         \n",
       "             2025  26.27                                         \n",
       "\n",
       "                  Self-employment income Pension income Rental income  \\\n",
       "External     2022                                                       \n",
       "             2023                                                       \n",
       "             2024                                                       \n",
       "             2025                                                       \n",
       "OpenFisca-UK 2022  4.63                   11.4           2.6            \n",
       "             2023  4.62                   11.39          2.59           \n",
       "             2024  4.62                   11.39          2.59           \n",
       "             2025  4.63                   11.4           2.6            \n",
       "UKMOD        2022                                                       \n",
       "             2023                                                       \n",
       "             2024                                                       \n",
       "             2025                                                       \n",
       "\n",
       "                  Savings interest income Income from dividends  \n",
       "External     2022                                                \n",
       "             2023                                                \n",
       "             2024                                                \n",
       "             2025                                                \n",
       "OpenFisca-UK 2022  14.64                   5.44                  \n",
       "             2023  14.66                   5.42                  \n",
       "             2024  14.63                   5.41                  \n",
       "             2025  14.65                   5.42                  \n",
       "UKMOD        2022                                                \n",
       "             2023                                                \n",
       "             2024                                                \n",
       "             2025                                                "
      ]
     },
     "execution_count": 6,
     "metadata": {},
     "output_type": "execute_result"
    }
   ],
   "source": [
    "from microdf import MicroSeries\n",
    "from policyengine_core.parameters import Parameter\n",
    "\n",
    "\n",
    "def get_nonzero(variable, year):\n",
    "    entity = default_variables[variable].entity.key\n",
    "    values = sim.calc(variable, period=year) > 0\n",
    "    return MicroSeries(\n",
    "        sim.map_result(values, entity, \"household\"),\n",
    "        weights=sim.calc(\"household_weight\", year),\n",
    "    )\n",
    "\n",
    "\n",
    "def caseload(model, year, variable):\n",
    "    try:\n",
    "        if model == policyengine_uk:\n",
    "            return get_nonzero(variable, year).sum()\n",
    "        elif model == UKMOD:\n",
    "            return getattr(ukmod_statistics.ukmod.nonzero_units, variable)(\n",
    "                f\"{year}-01-01\"\n",
    "            )\n",
    "        elif model == EXTERNAL:\n",
    "            if variable == \"income_tax\":\n",
    "                total = 0\n",
    "                for (\n",
    "                    subparam\n",
    "                ) in (\n",
    "                    parameters.calibration.programs.income_tax.participants.by_country_and_band.get_descendants()\n",
    "                ):\n",
    "                    if isinstance(subparam, Parameter):\n",
    "                        total += subparam(f\"{year}-01-01\")\n",
    "                return total\n",
    "            try:\n",
    "                return parameters.calibration.programs.children[\n",
    "                    variable\n",
    "                ].participants.UNITED_KINGDOM(f\"{year}-01-01\")\n",
    "            except:\n",
    "                return parameters.calibration.programs.children[\n",
    "                    variable\n",
    "                ].participants.GREAT_BRITAIN(f\"{year}-01-01\")\n",
    "    except:\n",
    "        return np.nan\n",
    "\n",
    "\n",
    "model_validation_table(\n",
    "    caseload,\n",
    "    models=[EXTERNAL, policyengine_uk, UKMOD],\n",
    "    divisor=1e6,\n",
    "    decimals=2,\n",
    ")"
   ]
  },
  {
   "cell_type": "markdown",
   "id": "d83ef056-b2c6-4f56-b11b-de4ee980463d",
   "metadata": {},
   "source": [
    "### Caseload forecasts"
   ]
  },
  {
   "cell_type": "code",
   "execution_count": 7,
   "id": "7b883c5d-171d-4511-a769-47254476aad3",
   "metadata": {
    "tags": [
     "hide-input"
    ]
   },
   "outputs": [
    {
     "data": {
      "application/vnd.plotly.v1+json": {
       "config": {
        "plotlyServerURL": "https://plot.ly"
       },
       "data": [
        {
         "hovertemplate": "",
         "legendgroup": "External",
         "line": {
          "color": "#00cc96",
          "dash": "solid"
         },
         "marker": {
          "symbol": "circle"
         },
         "mode": "lines",
         "name": "External",
         "orientation": "h",
         "showlegend": true,
         "type": "scatter",
         "x": [
          2022,
          2023,
          2024,
          2025
         ],
         "xaxis": "x",
         "y": [
          7070781.7,
          7001894.9,
          6933679.3,
          6866128.3
         ],
         "yaxis": "y"
        },
        {
         "hovertemplate": "",
         "legendgroup": "OpenFisca-UK",
         "line": {
          "color": "blue",
          "dash": "solid"
         },
         "marker": {
          "symbol": "circle"
         },
         "mode": "lines",
         "name": "OpenFisca-UK",
         "orientation": "h",
         "showlegend": true,
         "type": "scatter",
         "x": [
          2022,
          2023,
          2024,
          2025
         ],
         "xaxis": "x",
         "y": [
          6921744.6,
          6792016.9,
          6709299.9,
          6668642.6
         ],
         "yaxis": "y"
        },
        {
         "hovertemplate": "",
         "legendgroup": "UKMOD",
         "line": {
          "color": "lightgrey",
          "dash": "solid"
         },
         "marker": {
          "symbol": "circle"
         },
         "mode": "lines",
         "name": "UKMOD",
         "orientation": "h",
         "showlegend": true,
         "type": "scatter",
         "x": [
          2022,
          2023,
          2024,
          2025
         ],
         "xaxis": "x",
         "y": [
          7116000,
          7072000,
          7022000,
          6990000
         ],
         "yaxis": "y"
        }
       ],
       "frames": [
        {
         "data": [
          {
           "hovertemplate": "",
           "legendgroup": "External",
           "line": {
            "color": "#00cc96",
            "dash": "solid"
           },
           "marker": {
            "symbol": "circle"
           },
           "mode": "lines",
           "name": "External",
           "orientation": "h",
           "showlegend": true,
           "type": "scatter",
           "x": [
            2022,
            2023,
            2024,
            2025
           ],
           "xaxis": "x",
           "y": [
            7070781.7,
            7001894.9,
            6933679.3,
            6866128.3
           ],
           "yaxis": "y"
          },
          {
           "hovertemplate": "",
           "legendgroup": "OpenFisca-UK",
           "line": {
            "color": "blue",
            "dash": "solid"
           },
           "marker": {
            "symbol": "circle"
           },
           "mode": "lines",
           "name": "OpenFisca-UK",
           "orientation": "h",
           "showlegend": true,
           "type": "scatter",
           "x": [
            2022,
            2023,
            2024,
            2025
           ],
           "xaxis": "x",
           "y": [
            6921744.6,
            6792016.9,
            6709299.9,
            6668642.6
           ],
           "yaxis": "y"
          },
          {
           "hovertemplate": "",
           "legendgroup": "UKMOD",
           "line": {
            "color": "lightgrey",
            "dash": "solid"
           },
           "marker": {
            "symbol": "circle"
           },
           "mode": "lines",
           "name": "UKMOD",
           "orientation": "h",
           "showlegend": true,
           "type": "scatter",
           "x": [
            2022,
            2023,
            2024,
            2025
           ],
           "xaxis": "x",
           "y": [
            7116000,
            7072000,
            7022000,
            6990000
           ],
           "yaxis": "y"
          }
         ],
         "name": "Child Benefit"
        },
        {
         "data": [
          {
           "hovertemplate": "",
           "legendgroup": "External",
           "line": {
            "color": "#00cc96",
            "dash": "solid"
           },
           "marker": {
            "symbol": "circle"
           },
           "mode": "lines",
           "name": "External",
           "orientation": "h",
           "showlegend": true,
           "type": "scatter",
           "x": [
            2022,
            2023,
            2024,
            2025
           ],
           "xaxis": "x",
           "y": [
            1249737.1,
            937957.1,
            615871.7,
            279391.5
           ],
           "yaxis": "y"
          },
          {
           "hovertemplate": "",
           "legendgroup": "OpenFisca-UK",
           "line": {
            "color": "blue",
            "dash": "solid"
           },
           "marker": {
            "symbol": "circle"
           },
           "mode": "lines",
           "name": "OpenFisca-UK",
           "orientation": "h",
           "showlegend": true,
           "type": "scatter",
           "x": [
            2022,
            2023,
            2024,
            2025
           ],
           "xaxis": "x",
           "y": [
            1186267.2,
            879631,
            553001.9,
            243005.3
           ],
           "yaxis": "y"
          },
          {
           "hovertemplate": "",
           "legendgroup": "UKMOD",
           "line": {
            "color": "lightgrey",
            "dash": "solid"
           },
           "marker": {
            "symbol": "circle"
           },
           "mode": "lines",
           "name": "UKMOD",
           "orientation": "h",
           "showlegend": true,
           "type": "scatter",
           "x": [
            2022,
            2023,
            2024,
            2025
           ],
           "xaxis": "x",
           "y": [
            1080000,
            890000,
            643000,
            292000
           ],
           "yaxis": "y"
          }
         ],
         "name": "Child Tax Credit"
        },
        {
         "data": [
          {
           "hovertemplate": "",
           "legendgroup": "External",
           "line": {
            "color": "#00cc96",
            "dash": "solid"
           },
           "marker": {
            "symbol": "circle"
           },
           "mode": "lines",
           "name": "External",
           "orientation": "h",
           "showlegend": true,
           "type": "scatter",
           "x": [
            2022,
            2023,
            2024,
            2025
           ],
           "xaxis": "x",
           "y": [
            "",
            "",
            "",
            ""
           ],
           "yaxis": "y"
          },
          {
           "hovertemplate": "",
           "legendgroup": "OpenFisca-UK",
           "line": {
            "color": "blue",
            "dash": "solid"
           },
           "marker": {
            "symbol": "circle"
           },
           "mode": "lines",
           "name": "OpenFisca-UK",
           "orientation": "h",
           "showlegend": true,
           "type": "scatter",
           "x": [
            2022,
            2023,
            2024,
            2025
           ],
           "xaxis": "x",
           "y": [
            32315648.1,
            32157285.5,
            32123080.3,
            32186795.3
           ],
           "yaxis": "y"
          },
          {
           "hovertemplate": "",
           "legendgroup": "UKMOD",
           "line": {
            "color": "lightgrey",
            "dash": "solid"
           },
           "marker": {
            "symbol": "circle"
           },
           "mode": "lines",
           "name": "UKMOD",
           "orientation": "h",
           "showlegend": true,
           "type": "scatter",
           "x": [
            2022,
            2023,
            2024,
            2025
           ],
           "xaxis": "x",
           "y": [
            "",
            "",
            "",
            ""
           ],
           "yaxis": "y"
          }
         ],
         "name": "Employment income"
        },
        {
         "data": [
          {
           "hovertemplate": "",
           "legendgroup": "External",
           "line": {
            "color": "#00cc96",
            "dash": "solid"
           },
           "marker": {
            "symbol": "circle"
           },
           "mode": "lines",
           "name": "External",
           "orientation": "h",
           "showlegend": true,
           "type": "scatter",
           "x": [
            2022,
            2023,
            2024,
            2025
           ],
           "xaxis": "x",
           "y": [
            2708000,
            2459000,
            2114000,
            1726000
           ],
           "yaxis": "y"
          },
          {
           "hovertemplate": "",
           "legendgroup": "OpenFisca-UK",
           "line": {
            "color": "blue",
            "dash": "solid"
           },
           "marker": {
            "symbol": "circle"
           },
           "mode": "lines",
           "name": "OpenFisca-UK",
           "orientation": "h",
           "showlegend": true,
           "type": "scatter",
           "x": [
            2022,
            2023,
            2024,
            2025
           ],
           "xaxis": "x",
           "y": [
            2913688.4,
            2505633.2,
            2199000.7,
            1853035.3
           ],
           "yaxis": "y"
          },
          {
           "hovertemplate": "",
           "legendgroup": "UKMOD",
           "line": {
            "color": "lightgrey",
            "dash": "solid"
           },
           "marker": {
            "symbol": "circle"
           },
           "mode": "lines",
           "name": "UKMOD",
           "orientation": "h",
           "showlegend": true,
           "type": "scatter",
           "x": [
            2022,
            2023,
            2024,
            2025
           ],
           "xaxis": "x",
           "y": [
            2262000,
            2050000,
            1783000,
            1432000
           ],
           "yaxis": "y"
          }
         ],
         "name": "Housing Benefit"
        },
        {
         "data": [
          {
           "hovertemplate": "",
           "legendgroup": "External",
           "line": {
            "color": "#00cc96",
            "dash": "solid"
           },
           "marker": {
            "symbol": "circle"
           },
           "mode": "lines",
           "name": "External",
           "orientation": "h",
           "showlegend": true,
           "type": "scatter",
           "x": [
            2022,
            2023,
            2024,
            2025
           ],
           "xaxis": "x",
           "y": [
            157000,
            116000,
            76000,
            34000
           ],
           "yaxis": "y"
          },
          {
           "hovertemplate": "",
           "legendgroup": "OpenFisca-UK",
           "line": {
            "color": "blue",
            "dash": "solid"
           },
           "marker": {
            "symbol": "circle"
           },
           "mode": "lines",
           "name": "OpenFisca-UK",
           "orientation": "h",
           "showlegend": true,
           "type": "scatter",
           "x": [
            2022,
            2023,
            2024,
            2025
           ],
           "xaxis": "x",
           "y": [
            94661.2,
            70314.9,
            58654.9,
            39508.1
           ],
           "yaxis": "y"
          },
          {
           "hovertemplate": "",
           "legendgroup": "UKMOD",
           "line": {
            "color": "lightgrey",
            "dash": "solid"
           },
           "marker": {
            "symbol": "circle"
           },
           "mode": "lines",
           "name": "UKMOD",
           "orientation": "h",
           "showlegend": true,
           "type": "scatter",
           "x": [
            2022,
            2023,
            2024,
            2025
           ],
           "xaxis": "x",
           "y": [
            "",
            "",
            "",
            ""
           ],
           "yaxis": "y"
          }
         ],
         "name": "Income Support"
        },
        {
         "data": [
          {
           "hovertemplate": "",
           "legendgroup": "External",
           "line": {
            "color": "#00cc96",
            "dash": "solid"
           },
           "marker": {
            "symbol": "circle"
           },
           "mode": "lines",
           "name": "External",
           "orientation": "h",
           "showlegend": true,
           "type": "scatter",
           "x": [
            2022,
            2023,
            2024,
            2025
           ],
           "xaxis": "x",
           "y": [
            31875962,
            31875962,
            31875962,
            31875962
           ],
           "yaxis": "y"
          },
          {
           "hovertemplate": "",
           "legendgroup": "OpenFisca-UK",
           "line": {
            "color": "blue",
            "dash": "solid"
           },
           "marker": {
            "symbol": "circle"
           },
           "mode": "lines",
           "name": "OpenFisca-UK",
           "orientation": "h",
           "showlegend": true,
           "type": "scatter",
           "x": [
            2022,
            2023,
            2024,
            2025
           ],
           "xaxis": "x",
           "y": [
            31414965.2,
            32777974.6,
            34060811.6,
            35356341
           ],
           "yaxis": "y"
          },
          {
           "hovertemplate": "",
           "legendgroup": "UKMOD",
           "line": {
            "color": "lightgrey",
            "dash": "solid"
           },
           "marker": {
            "symbol": "circle"
           },
           "mode": "lines",
           "name": "UKMOD",
           "orientation": "h",
           "showlegend": true,
           "type": "scatter",
           "x": [
            2022,
            2023,
            2024,
            2025
           ],
           "xaxis": "x",
           "y": [
            30011000,
            30583000,
            30939000,
            31466000
           ],
           "yaxis": "y"
          }
         ],
         "name": "Income Tax"
        },
        {
         "data": [
          {
           "hovertemplate": "",
           "legendgroup": "External",
           "line": {
            "color": "#00cc96",
            "dash": "solid"
           },
           "marker": {
            "symbol": "circle"
           },
           "mode": "lines",
           "name": "External",
           "orientation": "h",
           "showlegend": true,
           "type": "scatter",
           "x": [
            2022,
            2023,
            2024,
            2025
           ],
           "xaxis": "x",
           "y": [
            "",
            "",
            "",
            ""
           ],
           "yaxis": "y"
          },
          {
           "hovertemplate": "",
           "legendgroup": "OpenFisca-UK",
           "line": {
            "color": "blue",
            "dash": "solid"
           },
           "marker": {
            "symbol": "circle"
           },
           "mode": "lines",
           "name": "OpenFisca-UK",
           "orientation": "h",
           "showlegend": true,
           "type": "scatter",
           "x": [
            2022,
            2023,
            2024,
            2025
           ],
           "xaxis": "x",
           "y": [
            5437156.9,
            5417431.2,
            5408685.5,
            5416527.9
           ],
           "yaxis": "y"
          },
          {
           "hovertemplate": "",
           "legendgroup": "UKMOD",
           "line": {
            "color": "lightgrey",
            "dash": "solid"
           },
           "marker": {
            "symbol": "circle"
           },
           "mode": "lines",
           "name": "UKMOD",
           "orientation": "h",
           "showlegend": true,
           "type": "scatter",
           "x": [
            2022,
            2023,
            2024,
            2025
           ],
           "xaxis": "x",
           "y": [
            "",
            "",
            "",
            ""
           ],
           "yaxis": "y"
          }
         ],
         "name": "Income from dividends"
        },
        {
         "data": [
          {
           "hovertemplate": "",
           "legendgroup": "External",
           "line": {
            "color": "#00cc96",
            "dash": "solid"
           },
           "marker": {
            "symbol": "circle"
           },
           "mode": "lines",
           "name": "External",
           "orientation": "h",
           "showlegend": true,
           "type": "scatter",
           "x": [
            2022,
            2023,
            2024,
            2025
           ],
           "xaxis": "x",
           "y": [
            44000,
            5000,
            0,
            0
           ],
           "yaxis": "y"
          },
          {
           "hovertemplate": "",
           "legendgroup": "OpenFisca-UK",
           "line": {
            "color": "blue",
            "dash": "solid"
           },
           "marker": {
            "symbol": "circle"
           },
           "mode": "lines",
           "name": "OpenFisca-UK",
           "orientation": "h",
           "showlegend": true,
           "type": "scatter",
           "x": [
            2022,
            2023,
            2024,
            2025
           ],
           "xaxis": "x",
           "y": [
            0,
            0,
            0,
            0
           ],
           "yaxis": "y"
          },
          {
           "hovertemplate": "",
           "legendgroup": "UKMOD",
           "line": {
            "color": "lightgrey",
            "dash": "solid"
           },
           "marker": {
            "symbol": "circle"
           },
           "mode": "lines",
           "name": "UKMOD",
           "orientation": "h",
           "showlegend": true,
           "type": "scatter",
           "x": [
            2022,
            2023,
            2024,
            2025
           ],
           "xaxis": "x",
           "y": [
            "",
            "",
            "",
            ""
           ],
           "yaxis": "y"
          }
         ],
         "name": "JSA (income-based)"
        },
        {
         "data": [
          {
           "hovertemplate": "",
           "legendgroup": "External",
           "line": {
            "color": "#00cc96",
            "dash": "solid"
           },
           "marker": {
            "symbol": "circle"
           },
           "mode": "lines",
           "name": "External",
           "orientation": "h",
           "showlegend": true,
           "type": "scatter",
           "x": [
            2022,
            2023,
            2024,
            2025
           ],
           "xaxis": "x",
           "y": [
            "",
            "",
            "",
            ""
           ],
           "yaxis": "y"
          },
          {
           "hovertemplate": "",
           "legendgroup": "OpenFisca-UK",
           "line": {
            "color": "blue",
            "dash": "solid"
           },
           "marker": {
            "symbol": "circle"
           },
           "mode": "lines",
           "name": "OpenFisca-UK",
           "orientation": "h",
           "showlegend": true,
           "type": "scatter",
           "x": [
            2022,
            2023,
            2024,
            2025
           ],
           "xaxis": "x",
           "y": [
            26564494.7,
            26617537.8,
            27127213,
            27773680.4
           ],
           "yaxis": "y"
          },
          {
           "hovertemplate": "",
           "legendgroup": "UKMOD",
           "line": {
            "color": "lightgrey",
            "dash": "solid"
           },
           "marker": {
            "symbol": "circle"
           },
           "mode": "lines",
           "name": "UKMOD",
           "orientation": "h",
           "showlegend": true,
           "type": "scatter",
           "x": [
            2022,
            2023,
            2024,
            2025
           ],
           "xaxis": "x",
           "y": [
            26084000,
            26194000,
            26239000,
            26271000
           ],
           "yaxis": "y"
          }
         ],
         "name": "National Insurance (total)"
        },
        {
         "data": [
          {
           "hovertemplate": "",
           "legendgroup": "External",
           "line": {
            "color": "#00cc96",
            "dash": "solid"
           },
           "marker": {
            "symbol": "circle"
           },
           "mode": "lines",
           "name": "External",
           "orientation": "h",
           "showlegend": true,
           "type": "scatter",
           "x": [
            2022,
            2023,
            2024,
            2025
           ],
           "xaxis": "x",
           "y": [
            1406000,
            1341000,
            1284000,
            1233000
           ],
           "yaxis": "y"
          },
          {
           "hovertemplate": "",
           "legendgroup": "OpenFisca-UK",
           "line": {
            "color": "blue",
            "dash": "solid"
           },
           "marker": {
            "symbol": "circle"
           },
           "mode": "lines",
           "name": "OpenFisca-UK",
           "orientation": "h",
           "showlegend": true,
           "type": "scatter",
           "x": [
            2022,
            2023,
            2024,
            2025
           ],
           "xaxis": "x",
           "y": [
            1588756.3,
            1501270.4,
            1345394.7,
            1212726.1
           ],
           "yaxis": "y"
          },
          {
           "hovertemplate": "",
           "legendgroup": "UKMOD",
           "line": {
            "color": "lightgrey",
            "dash": "solid"
           },
           "marker": {
            "symbol": "circle"
           },
           "mode": "lines",
           "name": "UKMOD",
           "orientation": "h",
           "showlegend": true,
           "type": "scatter",
           "x": [
            2022,
            2023,
            2024,
            2025
           ],
           "xaxis": "x",
           "y": [
            1413000,
            1445000,
            1442000,
            1417000
           ],
           "yaxis": "y"
          }
         ],
         "name": "Pension Credit"
        },
        {
         "data": [
          {
           "hovertemplate": "",
           "legendgroup": "External",
           "line": {
            "color": "#00cc96",
            "dash": "solid"
           },
           "marker": {
            "symbol": "circle"
           },
           "mode": "lines",
           "name": "External",
           "orientation": "h",
           "showlegend": true,
           "type": "scatter",
           "x": [
            2022,
            2023,
            2024,
            2025
           ],
           "xaxis": "x",
           "y": [
            "",
            "",
            "",
            ""
           ],
           "yaxis": "y"
          },
          {
           "hovertemplate": "",
           "legendgroup": "OpenFisca-UK",
           "line": {
            "color": "blue",
            "dash": "solid"
           },
           "marker": {
            "symbol": "circle"
           },
           "mode": "lines",
           "name": "OpenFisca-UK",
           "orientation": "h",
           "showlegend": true,
           "type": "scatter",
           "x": [
            2022,
            2023,
            2024,
            2025
           ],
           "xaxis": "x",
           "y": [
            11398335.8,
            11390814.6,
            11392878.6,
            11401477
           ],
           "yaxis": "y"
          },
          {
           "hovertemplate": "",
           "legendgroup": "UKMOD",
           "line": {
            "color": "lightgrey",
            "dash": "solid"
           },
           "marker": {
            "symbol": "circle"
           },
           "mode": "lines",
           "name": "UKMOD",
           "orientation": "h",
           "showlegend": true,
           "type": "scatter",
           "x": [
            2022,
            2023,
            2024,
            2025
           ],
           "xaxis": "x",
           "y": [
            "",
            "",
            "",
            ""
           ],
           "yaxis": "y"
          }
         ],
         "name": "Pension income"
        },
        {
         "data": [
          {
           "hovertemplate": "",
           "legendgroup": "External",
           "line": {
            "color": "#00cc96",
            "dash": "solid"
           },
           "marker": {
            "symbol": "circle"
           },
           "mode": "lines",
           "name": "External",
           "orientation": "h",
           "showlegend": true,
           "type": "scatter",
           "x": [
            2022,
            2023,
            2024,
            2025
           ],
           "xaxis": "x",
           "y": [
            "",
            "",
            "",
            ""
           ],
           "yaxis": "y"
          },
          {
           "hovertemplate": "",
           "legendgroup": "OpenFisca-UK",
           "line": {
            "color": "blue",
            "dash": "solid"
           },
           "marker": {
            "symbol": "circle"
           },
           "mode": "lines",
           "name": "OpenFisca-UK",
           "orientation": "h",
           "showlegend": true,
           "type": "scatter",
           "x": [
            2022,
            2023,
            2024,
            2025
           ],
           "xaxis": "x",
           "y": [
            2598378.5,
            2594890.3,
            2593795.7,
            2598877.6
           ],
           "yaxis": "y"
          },
          {
           "hovertemplate": "",
           "legendgroup": "UKMOD",
           "line": {
            "color": "lightgrey",
            "dash": "solid"
           },
           "marker": {
            "symbol": "circle"
           },
           "mode": "lines",
           "name": "UKMOD",
           "orientation": "h",
           "showlegend": true,
           "type": "scatter",
           "x": [
            2022,
            2023,
            2024,
            2025
           ],
           "xaxis": "x",
           "y": [
            "",
            "",
            "",
            ""
           ],
           "yaxis": "y"
          }
         ],
         "name": "Rental income"
        },
        {
         "data": [
          {
           "hovertemplate": "",
           "legendgroup": "External",
           "line": {
            "color": "#00cc96",
            "dash": "solid"
           },
           "marker": {
            "symbol": "circle"
           },
           "mode": "lines",
           "name": "External",
           "orientation": "h",
           "showlegend": true,
           "type": "scatter",
           "x": [
            2022,
            2023,
            2024,
            2025
           ],
           "xaxis": "x",
           "y": [
            "",
            "",
            "",
            ""
           ],
           "yaxis": "y"
          },
          {
           "hovertemplate": "",
           "legendgroup": "OpenFisca-UK",
           "line": {
            "color": "blue",
            "dash": "solid"
           },
           "marker": {
            "symbol": "circle"
           },
           "mode": "lines",
           "name": "OpenFisca-UK",
           "orientation": "h",
           "showlegend": true,
           "type": "scatter",
           "x": [
            2022,
            2023,
            2024,
            2025
           ],
           "xaxis": "x",
           "y": [
            14644733.4,
            14659278.3,
            14627298.9,
            14651324.8
           ],
           "yaxis": "y"
          },
          {
           "hovertemplate": "",
           "legendgroup": "UKMOD",
           "line": {
            "color": "lightgrey",
            "dash": "solid"
           },
           "marker": {
            "symbol": "circle"
           },
           "mode": "lines",
           "name": "UKMOD",
           "orientation": "h",
           "showlegend": true,
           "type": "scatter",
           "x": [
            2022,
            2023,
            2024,
            2025
           ],
           "xaxis": "x",
           "y": [
            "",
            "",
            "",
            ""
           ],
           "yaxis": "y"
          }
         ],
         "name": "Savings interest income"
        },
        {
         "data": [
          {
           "hovertemplate": "",
           "legendgroup": "External",
           "line": {
            "color": "#00cc96",
            "dash": "solid"
           },
           "marker": {
            "symbol": "circle"
           },
           "mode": "lines",
           "name": "External",
           "orientation": "h",
           "showlegend": true,
           "type": "scatter",
           "x": [
            2022,
            2023,
            2024,
            2025
           ],
           "xaxis": "x",
           "y": [
            "",
            "",
            "",
            ""
           ],
           "yaxis": "y"
          },
          {
           "hovertemplate": "",
           "legendgroup": "OpenFisca-UK",
           "line": {
            "color": "blue",
            "dash": "solid"
           },
           "marker": {
            "symbol": "circle"
           },
           "mode": "lines",
           "name": "OpenFisca-UK",
           "orientation": "h",
           "showlegend": true,
           "type": "scatter",
           "x": [
            2022,
            2023,
            2024,
            2025
           ],
           "xaxis": "x",
           "y": [
            4632412.7,
            4622801,
            4623380.3,
            4634102.7
           ],
           "yaxis": "y"
          },
          {
           "hovertemplate": "",
           "legendgroup": "UKMOD",
           "line": {
            "color": "lightgrey",
            "dash": "solid"
           },
           "marker": {
            "symbol": "circle"
           },
           "mode": "lines",
           "name": "UKMOD",
           "orientation": "h",
           "showlegend": true,
           "type": "scatter",
           "x": [
            2022,
            2023,
            2024,
            2025
           ],
           "xaxis": "x",
           "y": [
            "",
            "",
            "",
            ""
           ],
           "yaxis": "y"
          }
         ],
         "name": "Self-employment income"
        },
        {
         "data": [
          {
           "hovertemplate": "",
           "legendgroup": "External",
           "line": {
            "color": "#00cc96",
            "dash": "solid"
           },
           "marker": {
            "symbol": "circle"
           },
           "mode": "lines",
           "name": "External",
           "orientation": "h",
           "showlegend": true,
           "type": "scatter",
           "x": [
            2022,
            2023,
            2024,
            2025
           ],
           "xaxis": "x",
           "y": [
            4649000,
            5048000,
            5605000,
            6285000
           ],
           "yaxis": "y"
          },
          {
           "hovertemplate": "",
           "legendgroup": "OpenFisca-UK",
           "line": {
            "color": "blue",
            "dash": "solid"
           },
           "marker": {
            "symbol": "circle"
           },
           "mode": "lines",
           "name": "OpenFisca-UK",
           "orientation": "h",
           "showlegend": true,
           "type": "scatter",
           "x": [
            2022,
            2023,
            2024,
            2025
           ],
           "xaxis": "x",
           "y": [
            5147482.6,
            5658194.3,
            6205494.3,
            6965488
           ],
           "yaxis": "y"
          },
          {
           "hovertemplate": "",
           "legendgroup": "UKMOD",
           "line": {
            "color": "lightgrey",
            "dash": "solid"
           },
           "marker": {
            "symbol": "circle"
           },
           "mode": "lines",
           "name": "UKMOD",
           "orientation": "h",
           "showlegend": true,
           "type": "scatter",
           "x": [
            2022,
            2023,
            2024,
            2025
           ],
           "xaxis": "x",
           "y": [
            4214000,
            4656000,
            5311000,
            6146000
           ],
           "yaxis": "y"
          }
         ],
         "name": "Universal Credit"
        },
        {
         "data": [
          {
           "hovertemplate": "",
           "legendgroup": "External",
           "line": {
            "color": "#00cc96",
            "dash": "solid"
           },
           "marker": {
            "symbol": "circle"
           },
           "mode": "lines",
           "name": "External",
           "orientation": "h",
           "showlegend": true,
           "type": "scatter",
           "x": [
            2022,
            2023,
            2024,
            2025
           ],
           "xaxis": "x",
           "y": [
            773858.5,
            580799.1,
            381358.3,
            173004
           ],
           "yaxis": "y"
          },
          {
           "hovertemplate": "",
           "legendgroup": "OpenFisca-UK",
           "line": {
            "color": "blue",
            "dash": "solid"
           },
           "marker": {
            "symbol": "circle"
           },
           "mode": "lines",
           "name": "OpenFisca-UK",
           "orientation": "h",
           "showlegend": true,
           "type": "scatter",
           "x": [
            2022,
            2023,
            2024,
            2025
           ],
           "xaxis": "x",
           "y": [
            675446.7,
            513909.9,
            320019,
            132876.4
           ],
           "yaxis": "y"
          },
          {
           "hovertemplate": "",
           "legendgroup": "UKMOD",
           "line": {
            "color": "lightgrey",
            "dash": "solid"
           },
           "marker": {
            "symbol": "circle"
           },
           "mode": "lines",
           "name": "UKMOD",
           "orientation": "h",
           "showlegend": true,
           "type": "scatter",
           "x": [
            2022,
            2023,
            2024,
            2025
           ],
           "xaxis": "x",
           "y": [
            540000,
            443000,
            297000,
            129000
           ],
           "yaxis": "y"
          }
         ],
         "name": "Working Tax Credit"
        }
       ],
       "layout": {
        "height": 600,
        "legend": {
         "title": {
          "text": "Model"
         },
         "tracegroupgap": 0,
         "traceorder": "reversed"
        },
        "margin": {
         "t": 60
        },
        "sliders": [
         {
          "active": 0,
          "currentvalue": {
           "prefix": "Program="
          },
          "len": 0.9,
          "pad": {
           "b": 10,
           "t": 60
          },
          "steps": [
           {
            "args": [
             [
              "Child Benefit"
             ],
             {
              "frame": {
               "duration": 0,
               "redraw": false
              },
              "fromcurrent": true,
              "mode": "immediate",
              "transition": {
               "duration": 0,
               "easing": "linear"
              }
             }
            ],
            "label": "Child Benefit",
            "method": "animate"
           },
           {
            "args": [
             [
              "Child Tax Credit"
             ],
             {
              "frame": {
               "duration": 0,
               "redraw": false
              },
              "fromcurrent": true,
              "mode": "immediate",
              "transition": {
               "duration": 0,
               "easing": "linear"
              }
             }
            ],
            "label": "Child Tax Credit",
            "method": "animate"
           },
           {
            "args": [
             [
              "Employment income"
             ],
             {
              "frame": {
               "duration": 0,
               "redraw": false
              },
              "fromcurrent": true,
              "mode": "immediate",
              "transition": {
               "duration": 0,
               "easing": "linear"
              }
             }
            ],
            "label": "Employment income",
            "method": "animate"
           },
           {
            "args": [
             [
              "Housing Benefit"
             ],
             {
              "frame": {
               "duration": 0,
               "redraw": false
              },
              "fromcurrent": true,
              "mode": "immediate",
              "transition": {
               "duration": 0,
               "easing": "linear"
              }
             }
            ],
            "label": "Housing Benefit",
            "method": "animate"
           },
           {
            "args": [
             [
              "Income Support"
             ],
             {
              "frame": {
               "duration": 0,
               "redraw": false
              },
              "fromcurrent": true,
              "mode": "immediate",
              "transition": {
               "duration": 0,
               "easing": "linear"
              }
             }
            ],
            "label": "Income Support",
            "method": "animate"
           },
           {
            "args": [
             [
              "Income Tax"
             ],
             {
              "frame": {
               "duration": 0,
               "redraw": false
              },
              "fromcurrent": true,
              "mode": "immediate",
              "transition": {
               "duration": 0,
               "easing": "linear"
              }
             }
            ],
            "label": "Income Tax",
            "method": "animate"
           },
           {
            "args": [
             [
              "Income from dividends"
             ],
             {
              "frame": {
               "duration": 0,
               "redraw": false
              },
              "fromcurrent": true,
              "mode": "immediate",
              "transition": {
               "duration": 0,
               "easing": "linear"
              }
             }
            ],
            "label": "Income from dividends",
            "method": "animate"
           },
           {
            "args": [
             [
              "JSA (income-based)"
             ],
             {
              "frame": {
               "duration": 0,
               "redraw": false
              },
              "fromcurrent": true,
              "mode": "immediate",
              "transition": {
               "duration": 0,
               "easing": "linear"
              }
             }
            ],
            "label": "JSA (income-based)",
            "method": "animate"
           },
           {
            "args": [
             [
              "National Insurance (total)"
             ],
             {
              "frame": {
               "duration": 0,
               "redraw": false
              },
              "fromcurrent": true,
              "mode": "immediate",
              "transition": {
               "duration": 0,
               "easing": "linear"
              }
             }
            ],
            "label": "National Insurance (total)",
            "method": "animate"
           },
           {
            "args": [
             [
              "Pension Credit"
             ],
             {
              "frame": {
               "duration": 0,
               "redraw": false
              },
              "fromcurrent": true,
              "mode": "immediate",
              "transition": {
               "duration": 0,
               "easing": "linear"
              }
             }
            ],
            "label": "Pension Credit",
            "method": "animate"
           },
           {
            "args": [
             [
              "Pension income"
             ],
             {
              "frame": {
               "duration": 0,
               "redraw": false
              },
              "fromcurrent": true,
              "mode": "immediate",
              "transition": {
               "duration": 0,
               "easing": "linear"
              }
             }
            ],
            "label": "Pension income",
            "method": "animate"
           },
           {
            "args": [
             [
              "Rental income"
             ],
             {
              "frame": {
               "duration": 0,
               "redraw": false
              },
              "fromcurrent": true,
              "mode": "immediate",
              "transition": {
               "duration": 0,
               "easing": "linear"
              }
             }
            ],
            "label": "Rental income",
            "method": "animate"
           },
           {
            "args": [
             [
              "Savings interest income"
             ],
             {
              "frame": {
               "duration": 0,
               "redraw": false
              },
              "fromcurrent": true,
              "mode": "immediate",
              "transition": {
               "duration": 0,
               "easing": "linear"
              }
             }
            ],
            "label": "Savings interest income",
            "method": "animate"
           },
           {
            "args": [
             [
              "Self-employment income"
             ],
             {
              "frame": {
               "duration": 0,
               "redraw": false
              },
              "fromcurrent": true,
              "mode": "immediate",
              "transition": {
               "duration": 0,
               "easing": "linear"
              }
             }
            ],
            "label": "Self-employment income",
            "method": "animate"
           },
           {
            "args": [
             [
              "Universal Credit"
             ],
             {
              "frame": {
               "duration": 0,
               "redraw": false
              },
              "fromcurrent": true,
              "mode": "immediate",
              "transition": {
               "duration": 0,
               "easing": "linear"
              }
             }
            ],
            "label": "Universal Credit",
            "method": "animate"
           },
           {
            "args": [
             [
              "Working Tax Credit"
             ],
             {
              "frame": {
               "duration": 0,
               "redraw": false
              },
              "fromcurrent": true,
              "mode": "immediate",
              "transition": {
               "duration": 0,
               "easing": "linear"
              }
             }
            ],
            "label": "Working Tax Credit",
            "method": "animate"
           }
          ],
          "x": 0.1,
          "xanchor": "left",
          "y": 0,
          "yanchor": "top"
         }
        ],
        "template": {
         "data": {
          "bar": [
           {
            "error_x": {
             "color": "#2a3f5f"
            },
            "error_y": {
             "color": "#2a3f5f"
            },
            "marker": {
             "line": {
              "color": "white",
              "width": 0.5
             },
             "pattern": {
              "fillmode": "overlay",
              "size": 10,
              "solidity": 0.2
             }
            },
            "type": "bar"
           }
          ],
          "barpolar": [
           {
            "marker": {
             "line": {
              "color": "white",
              "width": 0.5
             },
             "pattern": {
              "fillmode": "overlay",
              "size": 10,
              "solidity": 0.2
             }
            },
            "type": "barpolar"
           }
          ],
          "carpet": [
           {
            "aaxis": {
             "endlinecolor": "#2a3f5f",
             "gridcolor": "#C8D4E3",
             "linecolor": "#C8D4E3",
             "minorgridcolor": "#C8D4E3",
             "startlinecolor": "#2a3f5f"
            },
            "baxis": {
             "endlinecolor": "#2a3f5f",
             "gridcolor": "#C8D4E3",
             "linecolor": "#C8D4E3",
             "minorgridcolor": "#C8D4E3",
             "startlinecolor": "#2a3f5f"
            },
            "type": "carpet"
           }
          ],
          "choropleth": [
           {
            "colorbar": {
             "outlinewidth": 0,
             "ticks": ""
            },
            "type": "choropleth"
           }
          ],
          "contour": [
           {
            "colorbar": {
             "outlinewidth": 0,
             "ticks": ""
            },
            "colorscale": [
             [
              0,
              "#0d0887"
             ],
             [
              0.1111111111111111,
              "#46039f"
             ],
             [
              0.2222222222222222,
              "#7201a8"
             ],
             [
              0.3333333333333333,
              "#9c179e"
             ],
             [
              0.4444444444444444,
              "#bd3786"
             ],
             [
              0.5555555555555556,
              "#d8576b"
             ],
             [
              0.6666666666666666,
              "#ed7953"
             ],
             [
              0.7777777777777778,
              "#fb9f3a"
             ],
             [
              0.8888888888888888,
              "#fdca26"
             ],
             [
              1,
              "#f0f921"
             ]
            ],
            "type": "contour"
           }
          ],
          "contourcarpet": [
           {
            "colorbar": {
             "outlinewidth": 0,
             "ticks": ""
            },
            "type": "contourcarpet"
           }
          ],
          "heatmap": [
           {
            "colorbar": {
             "outlinewidth": 0,
             "ticks": ""
            },
            "colorscale": [
             [
              0,
              "#0d0887"
             ],
             [
              0.1111111111111111,
              "#46039f"
             ],
             [
              0.2222222222222222,
              "#7201a8"
             ],
             [
              0.3333333333333333,
              "#9c179e"
             ],
             [
              0.4444444444444444,
              "#bd3786"
             ],
             [
              0.5555555555555556,
              "#d8576b"
             ],
             [
              0.6666666666666666,
              "#ed7953"
             ],
             [
              0.7777777777777778,
              "#fb9f3a"
             ],
             [
              0.8888888888888888,
              "#fdca26"
             ],
             [
              1,
              "#f0f921"
             ]
            ],
            "type": "heatmap"
           }
          ],
          "heatmapgl": [
           {
            "colorbar": {
             "outlinewidth": 0,
             "ticks": ""
            },
            "colorscale": [
             [
              0,
              "#0d0887"
             ],
             [
              0.1111111111111111,
              "#46039f"
             ],
             [
              0.2222222222222222,
              "#7201a8"
             ],
             [
              0.3333333333333333,
              "#9c179e"
             ],
             [
              0.4444444444444444,
              "#bd3786"
             ],
             [
              0.5555555555555556,
              "#d8576b"
             ],
             [
              0.6666666666666666,
              "#ed7953"
             ],
             [
              0.7777777777777778,
              "#fb9f3a"
             ],
             [
              0.8888888888888888,
              "#fdca26"
             ],
             [
              1,
              "#f0f921"
             ]
            ],
            "type": "heatmapgl"
           }
          ],
          "histogram": [
           {
            "marker": {
             "pattern": {
              "fillmode": "overlay",
              "size": 10,
              "solidity": 0.2
             }
            },
            "type": "histogram"
           }
          ],
          "histogram2d": [
           {
            "colorbar": {
             "outlinewidth": 0,
             "ticks": ""
            },
            "colorscale": [
             [
              0,
              "#0d0887"
             ],
             [
              0.1111111111111111,
              "#46039f"
             ],
             [
              0.2222222222222222,
              "#7201a8"
             ],
             [
              0.3333333333333333,
              "#9c179e"
             ],
             [
              0.4444444444444444,
              "#bd3786"
             ],
             [
              0.5555555555555556,
              "#d8576b"
             ],
             [
              0.6666666666666666,
              "#ed7953"
             ],
             [
              0.7777777777777778,
              "#fb9f3a"
             ],
             [
              0.8888888888888888,
              "#fdca26"
             ],
             [
              1,
              "#f0f921"
             ]
            ],
            "type": "histogram2d"
           }
          ],
          "histogram2dcontour": [
           {
            "colorbar": {
             "outlinewidth": 0,
             "ticks": ""
            },
            "colorscale": [
             [
              0,
              "#0d0887"
             ],
             [
              0.1111111111111111,
              "#46039f"
             ],
             [
              0.2222222222222222,
              "#7201a8"
             ],
             [
              0.3333333333333333,
              "#9c179e"
             ],
             [
              0.4444444444444444,
              "#bd3786"
             ],
             [
              0.5555555555555556,
              "#d8576b"
             ],
             [
              0.6666666666666666,
              "#ed7953"
             ],
             [
              0.7777777777777778,
              "#fb9f3a"
             ],
             [
              0.8888888888888888,
              "#fdca26"
             ],
             [
              1,
              "#f0f921"
             ]
            ],
            "type": "histogram2dcontour"
           }
          ],
          "mesh3d": [
           {
            "colorbar": {
             "outlinewidth": 0,
             "ticks": ""
            },
            "type": "mesh3d"
           }
          ],
          "parcoords": [
           {
            "line": {
             "colorbar": {
              "outlinewidth": 0,
              "ticks": ""
             }
            },
            "type": "parcoords"
           }
          ],
          "pie": [
           {
            "automargin": true,
            "type": "pie"
           }
          ],
          "scatter": [
           {
            "marker": {
             "colorbar": {
              "outlinewidth": 0,
              "ticks": ""
             }
            },
            "type": "scatter"
           }
          ],
          "scatter3d": [
           {
            "line": {
             "colorbar": {
              "outlinewidth": 0,
              "ticks": ""
             }
            },
            "marker": {
             "colorbar": {
              "outlinewidth": 0,
              "ticks": ""
             }
            },
            "type": "scatter3d"
           }
          ],
          "scattercarpet": [
           {
            "marker": {
             "colorbar": {
              "outlinewidth": 0,
              "ticks": ""
             }
            },
            "type": "scattercarpet"
           }
          ],
          "scattergeo": [
           {
            "marker": {
             "colorbar": {
              "outlinewidth": 0,
              "ticks": ""
             }
            },
            "type": "scattergeo"
           }
          ],
          "scattergl": [
           {
            "marker": {
             "colorbar": {
              "outlinewidth": 0,
              "ticks": ""
             }
            },
            "type": "scattergl"
           }
          ],
          "scattermapbox": [
           {
            "marker": {
             "colorbar": {
              "outlinewidth": 0,
              "ticks": ""
             }
            },
            "type": "scattermapbox"
           }
          ],
          "scatterpolar": [
           {
            "marker": {
             "colorbar": {
              "outlinewidth": 0,
              "ticks": ""
             }
            },
            "type": "scatterpolar"
           }
          ],
          "scatterpolargl": [
           {
            "marker": {
             "colorbar": {
              "outlinewidth": 0,
              "ticks": ""
             }
            },
            "type": "scatterpolargl"
           }
          ],
          "scatterternary": [
           {
            "marker": {
             "colorbar": {
              "outlinewidth": 0,
              "ticks": ""
             }
            },
            "type": "scatterternary"
           }
          ],
          "surface": [
           {
            "colorbar": {
             "outlinewidth": 0,
             "ticks": ""
            },
            "colorscale": [
             [
              0,
              "#0d0887"
             ],
             [
              0.1111111111111111,
              "#46039f"
             ],
             [
              0.2222222222222222,
              "#7201a8"
             ],
             [
              0.3333333333333333,
              "#9c179e"
             ],
             [
              0.4444444444444444,
              "#bd3786"
             ],
             [
              0.5555555555555556,
              "#d8576b"
             ],
             [
              0.6666666666666666,
              "#ed7953"
             ],
             [
              0.7777777777777778,
              "#fb9f3a"
             ],
             [
              0.8888888888888888,
              "#fdca26"
             ],
             [
              1,
              "#f0f921"
             ]
            ],
            "type": "surface"
           }
          ],
          "table": [
           {
            "cells": {
             "fill": {
              "color": "#EBF0F8"
             },
             "line": {
              "color": "white"
             }
            },
            "header": {
             "fill": {
              "color": "#C8D4E3"
             },
             "line": {
              "color": "white"
             }
            },
            "type": "table"
           }
          ]
         },
         "layout": {
          "annotationdefaults": {
           "arrowcolor": "#2a3f5f",
           "arrowhead": 0,
           "arrowwidth": 1
          },
          "autotypenumbers": "strict",
          "coloraxis": {
           "colorbar": {
            "outlinewidth": 0,
            "ticks": ""
           }
          },
          "colorscale": {
           "diverging": [
            [
             0,
             "#8e0152"
            ],
            [
             0.1,
             "#c51b7d"
            ],
            [
             0.2,
             "#de77ae"
            ],
            [
             0.3,
             "#f1b6da"
            ],
            [
             0.4,
             "#fde0ef"
            ],
            [
             0.5,
             "#f7f7f7"
            ],
            [
             0.6,
             "#e6f5d0"
            ],
            [
             0.7,
             "#b8e186"
            ],
            [
             0.8,
             "#7fbc41"
            ],
            [
             0.9,
             "#4d9221"
            ],
            [
             1,
             "#276419"
            ]
           ],
           "sequential": [
            [
             0,
             "#0d0887"
            ],
            [
             0.1111111111111111,
             "#46039f"
            ],
            [
             0.2222222222222222,
             "#7201a8"
            ],
            [
             0.3333333333333333,
             "#9c179e"
            ],
            [
             0.4444444444444444,
             "#bd3786"
            ],
            [
             0.5555555555555556,
             "#d8576b"
            ],
            [
             0.6666666666666666,
             "#ed7953"
            ],
            [
             0.7777777777777778,
             "#fb9f3a"
            ],
            [
             0.8888888888888888,
             "#fdca26"
            ],
            [
             1,
             "#f0f921"
            ]
           ],
           "sequentialminus": [
            [
             0,
             "#0d0887"
            ],
            [
             0.1111111111111111,
             "#46039f"
            ],
            [
             0.2222222222222222,
             "#7201a8"
            ],
            [
             0.3333333333333333,
             "#9c179e"
            ],
            [
             0.4444444444444444,
             "#bd3786"
            ],
            [
             0.5555555555555556,
             "#d8576b"
            ],
            [
             0.6666666666666666,
             "#ed7953"
            ],
            [
             0.7777777777777778,
             "#fb9f3a"
            ],
            [
             0.8888888888888888,
             "#fdca26"
            ],
            [
             1,
             "#f0f921"
            ]
           ]
          },
          "colorway": [
           "#636efa",
           "#EF553B",
           "#00cc96",
           "#ab63fa",
           "#FFA15A",
           "#19d3f3",
           "#FF6692",
           "#B6E880",
           "#FF97FF",
           "#FECB52"
          ],
          "font": {
           "color": "#2a3f5f"
          },
          "geo": {
           "bgcolor": "white",
           "lakecolor": "white",
           "landcolor": "white",
           "showlakes": true,
           "showland": true,
           "subunitcolor": "#C8D4E3"
          },
          "hoverlabel": {
           "align": "left"
          },
          "hovermode": "closest",
          "mapbox": {
           "style": "light"
          },
          "paper_bgcolor": "white",
          "plot_bgcolor": "white",
          "polar": {
           "angularaxis": {
            "gridcolor": "#EBF0F8",
            "linecolor": "#EBF0F8",
            "ticks": ""
           },
           "bgcolor": "white",
           "radialaxis": {
            "gridcolor": "#EBF0F8",
            "linecolor": "#EBF0F8",
            "ticks": ""
           }
          },
          "scene": {
           "xaxis": {
            "backgroundcolor": "white",
            "gridcolor": "#DFE8F3",
            "gridwidth": 2,
            "linecolor": "#EBF0F8",
            "showbackground": true,
            "ticks": "",
            "zerolinecolor": "#EBF0F8"
           },
           "yaxis": {
            "backgroundcolor": "white",
            "gridcolor": "#DFE8F3",
            "gridwidth": 2,
            "linecolor": "#EBF0F8",
            "showbackground": true,
            "ticks": "",
            "zerolinecolor": "#EBF0F8"
           },
           "zaxis": {
            "backgroundcolor": "white",
            "gridcolor": "#DFE8F3",
            "gridwidth": 2,
            "linecolor": "#EBF0F8",
            "showbackground": true,
            "ticks": "",
            "zerolinecolor": "#EBF0F8"
           }
          },
          "shapedefaults": {
           "line": {
            "color": "#2a3f5f"
           }
          },
          "ternary": {
           "aaxis": {
            "gridcolor": "#DFE8F3",
            "linecolor": "#A2B1C6",
            "ticks": ""
           },
           "baxis": {
            "gridcolor": "#DFE8F3",
            "linecolor": "#A2B1C6",
            "ticks": ""
           },
           "bgcolor": "white",
           "caxis": {
            "gridcolor": "#DFE8F3",
            "linecolor": "#A2B1C6",
            "ticks": ""
           }
          },
          "title": {
           "x": 0.05
          },
          "xaxis": {
           "automargin": true,
           "gridcolor": "#EBF0F8",
           "linecolor": "#EBF0F8",
           "ticks": "",
           "title": {
            "standoff": 15
           },
           "zerolinecolor": "#EBF0F8",
           "zerolinewidth": 2
          },
          "yaxis": {
           "automargin": true,
           "gridcolor": "#EBF0F8",
           "linecolor": "#EBF0F8",
           "ticks": "",
           "title": {
            "standoff": 15
           },
           "zerolinecolor": "#EBF0F8",
           "zerolinewidth": 2
          }
         }
        },
        "title": {
         "text": "Caseload forecasts"
        },
        "updatemenus": [
         {
          "buttons": [
           {
            "args": [
             null,
             {
              "frame": {
               "duration": 500,
               "redraw": false
              },
              "fromcurrent": true,
              "mode": "immediate",
              "transition": {
               "duration": 500,
               "easing": "linear"
              }
             }
            ],
            "label": "&#9654;",
            "method": "animate"
           },
           {
            "args": [
             [
              null
             ],
             {
              "frame": {
               "duration": 0,
               "redraw": false
              },
              "fromcurrent": true,
              "mode": "immediate",
              "transition": {
               "duration": 0,
               "easing": "linear"
              }
             }
            ],
            "label": "&#9724;",
            "method": "animate"
           }
          ],
          "direction": "left",
          "pad": {
           "r": 10,
           "t": 70
          },
          "showactive": false,
          "type": "buttons",
          "x": 0.1,
          "xanchor": "right",
          "y": 0,
          "yanchor": "top"
         }
        ],
        "width": 800,
        "xaxis": {
         "anchor": "y",
         "domain": [
          0,
          1
         ],
         "tickvals": [
          2022,
          2023,
          2024,
          2025
         ],
         "title": {
          "text": "Year"
         }
        },
        "yaxis": {
         "anchor": "x",
         "domain": [
          0,
          1
         ],
         "range": [
          0,
          10000000
         ],
         "tickprefix": "",
         "title": {
          "text": ""
         }
        }
       }
      }
     },
     "metadata": {},
     "output_type": "display_data"
    }
   ],
   "source": [
    "model_forecast_chart(\n",
    "    model_validation_table(\n",
    "        caseload,\n",
    "        models=[EXTERNAL, policyengine_uk, UKMOD],\n",
    "        divisor=1,\n",
    "        decimals=1,\n",
    "    ),\n",
    "    title=\"Caseload forecasts\",\n",
    "    currency=False,\n",
    ")"
   ]
  },
  {
   "cell_type": "markdown",
   "id": "ff161a6a-52b4-4851-9c48-1aede9f8fef0",
   "metadata": {},
   "source": [
    "### Differences\n",
    "\n",
    "#### Absolute"
   ]
  },
  {
   "cell_type": "code",
   "execution_count": 8,
   "id": "89b1f1ba-7545-40e1-83b1-bf934ad6aaff",
   "metadata": {
    "tags": [
     "hide-input"
    ]
   },
   "outputs": [
    {
     "data": {
      "text/html": [
       "<div>\n",
       "<style scoped>\n",
       "    .dataframe tbody tr th:only-of-type {\n",
       "        vertical-align: middle;\n",
       "    }\n",
       "\n",
       "    .dataframe tbody tr th {\n",
       "        vertical-align: top;\n",
       "    }\n",
       "\n",
       "    .dataframe thead th {\n",
       "        text-align: right;\n",
       "    }\n",
       "</style>\n",
       "<table border=\"1\" class=\"dataframe\">\n",
       "  <thead>\n",
       "    <tr style=\"text-align: right;\">\n",
       "      <th></th>\n",
       "      <th></th>\n",
       "      <th>Child Benefit</th>\n",
       "      <th>Income Support</th>\n",
       "      <th>JSA (income-based)</th>\n",
       "      <th>Housing Benefit</th>\n",
       "      <th>Working Tax Credit</th>\n",
       "      <th>Child Tax Credit</th>\n",
       "      <th>Universal Credit</th>\n",
       "      <th>Pension Credit</th>\n",
       "      <th>Income Tax</th>\n",
       "      <th>National Insurance (total)</th>\n",
       "      <th>Employment income</th>\n",
       "      <th>Self-employment income</th>\n",
       "      <th>Pension income</th>\n",
       "      <th>Rental income</th>\n",
       "      <th>Savings interest income</th>\n",
       "    </tr>\n",
       "  </thead>\n",
       "  <tbody>\n",
       "    <tr>\n",
       "      <th rowspan=\"4\" valign=\"top\">OpenFisca-UK</th>\n",
       "      <th>2022</th>\n",
       "      <td>-0.1</td>\n",
       "      <td>-0.1</td>\n",
       "      <td>-0.0</td>\n",
       "      <td>0.2</td>\n",
       "      <td>-0.1</td>\n",
       "      <td>-0.1</td>\n",
       "      <td>0.5</td>\n",
       "      <td>0.2</td>\n",
       "      <td>-0.5</td>\n",
       "      <td></td>\n",
       "      <td></td>\n",
       "      <td></td>\n",
       "      <td></td>\n",
       "      <td></td>\n",
       "      <td></td>\n",
       "    </tr>\n",
       "    <tr>\n",
       "      <th>2023</th>\n",
       "      <td>-0.2</td>\n",
       "      <td>-0.0</td>\n",
       "      <td>-0.0</td>\n",
       "      <td>0.0</td>\n",
       "      <td>-0.1</td>\n",
       "      <td>-0.1</td>\n",
       "      <td>0.6</td>\n",
       "      <td>0.2</td>\n",
       "      <td>0.9</td>\n",
       "      <td></td>\n",
       "      <td></td>\n",
       "      <td></td>\n",
       "      <td></td>\n",
       "      <td></td>\n",
       "      <td></td>\n",
       "    </tr>\n",
       "    <tr>\n",
       "      <th>2024</th>\n",
       "      <td>-0.2</td>\n",
       "      <td>-0.0</td>\n",
       "      <td>0.0</td>\n",
       "      <td>0.1</td>\n",
       "      <td>-0.1</td>\n",
       "      <td>-0.1</td>\n",
       "      <td>0.6</td>\n",
       "      <td>0.1</td>\n",
       "      <td>2.2</td>\n",
       "      <td></td>\n",
       "      <td></td>\n",
       "      <td></td>\n",
       "      <td></td>\n",
       "      <td></td>\n",
       "      <td></td>\n",
       "    </tr>\n",
       "    <tr>\n",
       "      <th>2025</th>\n",
       "      <td>-0.2</td>\n",
       "      <td>0.0</td>\n",
       "      <td>0.0</td>\n",
       "      <td>0.1</td>\n",
       "      <td>-0.0</td>\n",
       "      <td>-0.0</td>\n",
       "      <td>0.7</td>\n",
       "      <td>-0.0</td>\n",
       "      <td>3.5</td>\n",
       "      <td></td>\n",
       "      <td></td>\n",
       "      <td></td>\n",
       "      <td></td>\n",
       "      <td></td>\n",
       "      <td></td>\n",
       "    </tr>\n",
       "    <tr>\n",
       "      <th rowspan=\"4\" valign=\"top\">UKMOD</th>\n",
       "      <th>2022</th>\n",
       "      <td>0.0</td>\n",
       "      <td></td>\n",
       "      <td></td>\n",
       "      <td>-0.4</td>\n",
       "      <td>-0.2</td>\n",
       "      <td>-0.2</td>\n",
       "      <td>-0.4</td>\n",
       "      <td>0.0</td>\n",
       "      <td>-1.9</td>\n",
       "      <td></td>\n",
       "      <td></td>\n",
       "      <td></td>\n",
       "      <td></td>\n",
       "      <td></td>\n",
       "      <td></td>\n",
       "    </tr>\n",
       "    <tr>\n",
       "      <th>2023</th>\n",
       "      <td>0.1</td>\n",
       "      <td></td>\n",
       "      <td></td>\n",
       "      <td>-0.4</td>\n",
       "      <td>-0.1</td>\n",
       "      <td>-0.0</td>\n",
       "      <td>-0.4</td>\n",
       "      <td>0.1</td>\n",
       "      <td>-1.3</td>\n",
       "      <td></td>\n",
       "      <td></td>\n",
       "      <td></td>\n",
       "      <td></td>\n",
       "      <td></td>\n",
       "      <td></td>\n",
       "    </tr>\n",
       "    <tr>\n",
       "      <th>2024</th>\n",
       "      <td>0.1</td>\n",
       "      <td></td>\n",
       "      <td></td>\n",
       "      <td>-0.3</td>\n",
       "      <td>-0.1</td>\n",
       "      <td>0.0</td>\n",
       "      <td>-0.3</td>\n",
       "      <td>0.2</td>\n",
       "      <td>-0.9</td>\n",
       "      <td></td>\n",
       "      <td></td>\n",
       "      <td></td>\n",
       "      <td></td>\n",
       "      <td></td>\n",
       "      <td></td>\n",
       "    </tr>\n",
       "    <tr>\n",
       "      <th>2025</th>\n",
       "      <td>0.1</td>\n",
       "      <td></td>\n",
       "      <td></td>\n",
       "      <td>-0.3</td>\n",
       "      <td>-0.0</td>\n",
       "      <td>0.0</td>\n",
       "      <td>-0.1</td>\n",
       "      <td>0.2</td>\n",
       "      <td>-0.4</td>\n",
       "      <td></td>\n",
       "      <td></td>\n",
       "      <td></td>\n",
       "      <td></td>\n",
       "      <td></td>\n",
       "      <td></td>\n",
       "    </tr>\n",
       "  </tbody>\n",
       "</table>\n",
       "</div>"
      ],
      "text/plain": [
       "                   Child Benefit Income Support JSA (income-based)  \\\n",
       "OpenFisca-UK 2022 -0.1           -0.1           -0.0                 \n",
       "             2023 -0.2           -0.0           -0.0                 \n",
       "             2024 -0.2           -0.0            0.0                 \n",
       "             2025 -0.2            0.0            0.0                 \n",
       "UKMOD        2022  0.0                                               \n",
       "             2023  0.1                                               \n",
       "             2024  0.1                                               \n",
       "             2025  0.1                                               \n",
       "\n",
       "                   Housing Benefit  Working Tax Credit  Child Tax Credit  \\\n",
       "OpenFisca-UK 2022  0.2             -0.1                -0.1                \n",
       "             2023  0.0             -0.1                -0.1                \n",
       "             2024  0.1             -0.1                -0.1                \n",
       "             2025  0.1             -0.0                -0.0                \n",
       "UKMOD        2022 -0.4             -0.2                -0.2                \n",
       "             2023 -0.4             -0.1                -0.0                \n",
       "             2024 -0.3             -0.1                 0.0                \n",
       "             2025 -0.3             -0.0                 0.0                \n",
       "\n",
       "                   Universal Credit  Pension Credit  Income Tax  \\\n",
       "OpenFisca-UK 2022  0.5               0.2            -0.5          \n",
       "             2023  0.6               0.2             0.9          \n",
       "             2024  0.6               0.1             2.2          \n",
       "             2025  0.7              -0.0             3.5          \n",
       "UKMOD        2022 -0.4               0.0            -1.9          \n",
       "             2023 -0.4               0.1            -1.3          \n",
       "             2024 -0.3               0.2            -0.9          \n",
       "             2025 -0.1               0.2            -0.4          \n",
       "\n",
       "                  National Insurance (total) Employment income  \\\n",
       "OpenFisca-UK 2022                                                \n",
       "             2023                                                \n",
       "             2024                                                \n",
       "             2025                                                \n",
       "UKMOD        2022                                                \n",
       "             2023                                                \n",
       "             2024                                                \n",
       "             2025                                                \n",
       "\n",
       "                  Self-employment income Pension income Rental income  \\\n",
       "OpenFisca-UK 2022                                                       \n",
       "             2023                                                       \n",
       "             2024                                                       \n",
       "             2025                                                       \n",
       "UKMOD        2022                                                       \n",
       "             2023                                                       \n",
       "             2024                                                       \n",
       "             2025                                                       \n",
       "\n",
       "                  Savings interest income  \n",
       "OpenFisca-UK 2022                          \n",
       "             2023                          \n",
       "             2024                          \n",
       "             2025                          \n",
       "UKMOD        2022                          \n",
       "             2023                          \n",
       "             2024                          \n",
       "             2025                          "
      ]
     },
     "execution_count": 8,
     "metadata": {},
     "output_type": "execute_result"
    }
   ],
   "source": [
    "def caseload_error(model, year, variable):\n",
    "    try:\n",
    "        if model == policyengine_uk:\n",
    "            return get_nonzero(variable, year).sum() - caseload(\n",
    "                EXTERNAL, year, variable\n",
    "            )\n",
    "        elif model == UKMOD:\n",
    "            return getattr(ukmod_statistics.ukmod.nonzero_units, variable)(\n",
    "                f\"{year}-01-01\"\n",
    "            ) - caseload(EXTERNAL, year, variable)\n",
    "    except:\n",
    "        return np.nan\n",
    "\n",
    "\n",
    "model_validation_table(\n",
    "    caseload_error,\n",
    "    variables=VARIABLES[:-1],\n",
    "    models=[policyengine_uk, UKMOD],\n",
    "    divisor=1e6,\n",
    "    decimals=1,\n",
    ")"
   ]
  },
  {
   "cell_type": "markdown",
   "id": "6a679603-acf0-44ea-a3b8-687e703bd041",
   "metadata": {},
   "source": [
    "#### Relative"
   ]
  },
  {
   "cell_type": "code",
   "execution_count": 9,
   "id": "55d5b862-5737-4148-a535-5c8bebfb129f",
   "metadata": {
    "tags": [
     "hide-input"
    ]
   },
   "outputs": [
    {
     "data": {
      "text/html": [
       "<div>\n",
       "<style scoped>\n",
       "    .dataframe tbody tr th:only-of-type {\n",
       "        vertical-align: middle;\n",
       "    }\n",
       "\n",
       "    .dataframe tbody tr th {\n",
       "        vertical-align: top;\n",
       "    }\n",
       "\n",
       "    .dataframe thead th {\n",
       "        text-align: right;\n",
       "    }\n",
       "</style>\n",
       "<table border=\"1\" class=\"dataframe\">\n",
       "  <thead>\n",
       "    <tr style=\"text-align: right;\">\n",
       "      <th></th>\n",
       "      <th></th>\n",
       "      <th>Child Benefit</th>\n",
       "      <th>Income Support</th>\n",
       "      <th>JSA (income-based)</th>\n",
       "      <th>Housing Benefit</th>\n",
       "      <th>Working Tax Credit</th>\n",
       "      <th>Child Tax Credit</th>\n",
       "      <th>Universal Credit</th>\n",
       "      <th>Pension Credit</th>\n",
       "      <th>Income Tax</th>\n",
       "      <th>National Insurance (total)</th>\n",
       "      <th>Employment income</th>\n",
       "      <th>Self-employment income</th>\n",
       "      <th>Pension income</th>\n",
       "      <th>Rental income</th>\n",
       "      <th>Savings interest income</th>\n",
       "    </tr>\n",
       "  </thead>\n",
       "  <tbody>\n",
       "    <tr>\n",
       "      <th rowspan=\"4\" valign=\"top\">OpenFisca-UK</th>\n",
       "      <th>2022</th>\n",
       "      <td>-2.1</td>\n",
       "      <td>-39.7</td>\n",
       "      <td>-100.0</td>\n",
       "      <td>7.6</td>\n",
       "      <td>-12.7</td>\n",
       "      <td>-5.1</td>\n",
       "      <td>10.7</td>\n",
       "      <td>13.0</td>\n",
       "      <td>-1.4</td>\n",
       "      <td></td>\n",
       "      <td></td>\n",
       "      <td></td>\n",
       "      <td></td>\n",
       "      <td></td>\n",
       "      <td></td>\n",
       "    </tr>\n",
       "    <tr>\n",
       "      <th>2023</th>\n",
       "      <td>-3.0</td>\n",
       "      <td>-39.4</td>\n",
       "      <td>-100.0</td>\n",
       "      <td>1.9</td>\n",
       "      <td>-11.5</td>\n",
       "      <td>-6.2</td>\n",
       "      <td>12.1</td>\n",
       "      <td>12.0</td>\n",
       "      <td>2.8</td>\n",
       "      <td></td>\n",
       "      <td></td>\n",
       "      <td></td>\n",
       "      <td></td>\n",
       "      <td></td>\n",
       "      <td></td>\n",
       "    </tr>\n",
       "    <tr>\n",
       "      <th>2024</th>\n",
       "      <td>-3.2</td>\n",
       "      <td>-22.8</td>\n",
       "      <td></td>\n",
       "      <td>4.0</td>\n",
       "      <td>-16.1</td>\n",
       "      <td>-10.2</td>\n",
       "      <td>10.7</td>\n",
       "      <td>4.8</td>\n",
       "      <td>6.9</td>\n",
       "      <td></td>\n",
       "      <td></td>\n",
       "      <td></td>\n",
       "      <td></td>\n",
       "      <td></td>\n",
       "      <td></td>\n",
       "    </tr>\n",
       "    <tr>\n",
       "      <th>2025</th>\n",
       "      <td>-2.9</td>\n",
       "      <td>16.2</td>\n",
       "      <td></td>\n",
       "      <td>7.4</td>\n",
       "      <td>-23.2</td>\n",
       "      <td>-13.0</td>\n",
       "      <td>10.8</td>\n",
       "      <td>-1.6</td>\n",
       "      <td>10.9</td>\n",
       "      <td></td>\n",
       "      <td></td>\n",
       "      <td></td>\n",
       "      <td></td>\n",
       "      <td></td>\n",
       "      <td></td>\n",
       "    </tr>\n",
       "    <tr>\n",
       "      <th rowspan=\"4\" valign=\"top\">UKMOD</th>\n",
       "      <th>2022</th>\n",
       "      <td>0.6</td>\n",
       "      <td></td>\n",
       "      <td></td>\n",
       "      <td>-16.5</td>\n",
       "      <td>-30.2</td>\n",
       "      <td>-13.6</td>\n",
       "      <td>-9.4</td>\n",
       "      <td>0.5</td>\n",
       "      <td>-5.9</td>\n",
       "      <td></td>\n",
       "      <td></td>\n",
       "      <td></td>\n",
       "      <td></td>\n",
       "      <td></td>\n",
       "      <td></td>\n",
       "    </tr>\n",
       "    <tr>\n",
       "      <th>2023</th>\n",
       "      <td>1.0</td>\n",
       "      <td></td>\n",
       "      <td></td>\n",
       "      <td>-16.6</td>\n",
       "      <td>-23.7</td>\n",
       "      <td>-5.1</td>\n",
       "      <td>-7.8</td>\n",
       "      <td>7.8</td>\n",
       "      <td>-4.1</td>\n",
       "      <td></td>\n",
       "      <td></td>\n",
       "      <td></td>\n",
       "      <td></td>\n",
       "      <td></td>\n",
       "      <td></td>\n",
       "    </tr>\n",
       "    <tr>\n",
       "      <th>2024</th>\n",
       "      <td>1.3</td>\n",
       "      <td></td>\n",
       "      <td></td>\n",
       "      <td>-15.7</td>\n",
       "      <td>-22.1</td>\n",
       "      <td>4.4</td>\n",
       "      <td>-5.2</td>\n",
       "      <td>12.3</td>\n",
       "      <td>-2.9</td>\n",
       "      <td></td>\n",
       "      <td></td>\n",
       "      <td></td>\n",
       "      <td></td>\n",
       "      <td></td>\n",
       "      <td></td>\n",
       "    </tr>\n",
       "    <tr>\n",
       "      <th>2025</th>\n",
       "      <td>1.8</td>\n",
       "      <td></td>\n",
       "      <td></td>\n",
       "      <td>-17.0</td>\n",
       "      <td>-25.4</td>\n",
       "      <td>4.5</td>\n",
       "      <td>-2.2</td>\n",
       "      <td>14.9</td>\n",
       "      <td>-1.3</td>\n",
       "      <td></td>\n",
       "      <td></td>\n",
       "      <td></td>\n",
       "      <td></td>\n",
       "      <td></td>\n",
       "      <td></td>\n",
       "    </tr>\n",
       "  </tbody>\n",
       "</table>\n",
       "</div>"
      ],
      "text/plain": [
       "                   Child Benefit Income Support JSA (income-based)  \\\n",
       "OpenFisca-UK 2022 -2.1           -39.7          -100.0               \n",
       "             2023 -3.0           -39.4          -100.0               \n",
       "             2024 -3.2           -22.8                               \n",
       "             2025 -2.9            16.2                               \n",
       "UKMOD        2022  0.6                                               \n",
       "             2023  1.0                                               \n",
       "             2024  1.3                                               \n",
       "             2025  1.8                                               \n",
       "\n",
       "                   Housing Benefit  Working Tax Credit  Child Tax Credit  \\\n",
       "OpenFisca-UK 2022  7.6             -12.7               -5.1                \n",
       "             2023  1.9             -11.5               -6.2                \n",
       "             2024  4.0             -16.1               -10.2               \n",
       "             2025  7.4             -23.2               -13.0               \n",
       "UKMOD        2022 -16.5            -30.2               -13.6               \n",
       "             2023 -16.6            -23.7               -5.1                \n",
       "             2024 -15.7            -22.1                4.4                \n",
       "             2025 -17.0            -25.4                4.5                \n",
       "\n",
       "                   Universal Credit  Pension Credit  Income Tax  \\\n",
       "OpenFisca-UK 2022  10.7              13.0           -1.4          \n",
       "             2023  12.1              12.0            2.8          \n",
       "             2024  10.7              4.8             6.9          \n",
       "             2025  10.8             -1.6             10.9         \n",
       "UKMOD        2022 -9.4               0.5            -5.9          \n",
       "             2023 -7.8               7.8            -4.1          \n",
       "             2024 -5.2               12.3           -2.9          \n",
       "             2025 -2.2               14.9           -1.3          \n",
       "\n",
       "                  National Insurance (total) Employment income  \\\n",
       "OpenFisca-UK 2022                                                \n",
       "             2023                                                \n",
       "             2024                                                \n",
       "             2025                                                \n",
       "UKMOD        2022                                                \n",
       "             2023                                                \n",
       "             2024                                                \n",
       "             2025                                                \n",
       "\n",
       "                  Self-employment income Pension income Rental income  \\\n",
       "OpenFisca-UK 2022                                                       \n",
       "             2023                                                       \n",
       "             2024                                                       \n",
       "             2025                                                       \n",
       "UKMOD        2022                                                       \n",
       "             2023                                                       \n",
       "             2024                                                       \n",
       "             2025                                                       \n",
       "\n",
       "                  Savings interest income  \n",
       "OpenFisca-UK 2022                          \n",
       "             2023                          \n",
       "             2024                          \n",
       "             2025                          \n",
       "UKMOD        2022                          \n",
       "             2023                          \n",
       "             2024                          \n",
       "             2025                          "
      ]
     },
     "execution_count": 9,
     "metadata": {},
     "output_type": "execute_result"
    }
   ],
   "source": [
    "def relative_caseload_error(model, year, variable):\n",
    "    try:\n",
    "        if model == policyengine_uk:\n",
    "            return (\n",
    "                get_nonzero(variable, year).sum()\n",
    "                / caseload(EXTERNAL, year, variable)\n",
    "                - 1\n",
    "            )\n",
    "        elif model == UKMOD:\n",
    "            return (\n",
    "                getattr(ukmod_statistics.ukmod.nonzero_units, variable)(\n",
    "                    f\"{year}-01-01\"\n",
    "                )\n",
    "                / caseload(EXTERNAL, year, variable)\n",
    "                - 1\n",
    "            )\n",
    "    except:\n",
    "        return np.nan\n",
    "\n",
    "\n",
    "model_validation_table(\n",
    "    relative_caseload_error,\n",
    "    variables=VARIABLES[:-1],\n",
    "    models=[policyengine_uk, UKMOD],\n",
    "    divisor=1e-2,\n",
    "    decimals=1,\n",
    ")"
   ]
  },
  {
   "cell_type": "code",
   "execution_count": 10,
   "id": "6f47e9b2-895d-4a70-9206-282bddff8769",
   "metadata": {
    "tags": [
     "hide-input"
    ]
   },
   "outputs": [
    {
     "data": {
      "application/vnd.plotly.v1+json": {
       "config": {
        "plotlyServerURL": "https://plot.ly"
       },
       "data": [
        {
         "alignmentgroup": "True",
         "customdata": [
          [
           1.2,
           1.1,
           1.2,
           2022,
           "Child Tax Credit"
          ],
          [
           0.7,
           0.5,
           0.8,
           2022,
           "Working Tax Credit"
          ],
          [
           6.9,
           7.1,
           7.1,
           2022,
           "Child Benefit"
          ],
          [
           1.6,
           1.4,
           1.4,
           2022,
           "Pension Credit"
          ],
          [
           2.9,
           2.3,
           2.7,
           2022,
           "Housing Benefit"
          ],
          [
           31.4,
           30,
           31.9,
           2022,
           "Income Tax"
          ],
          [
           5.1,
           4.2,
           4.6,
           2022,
           "Universal Credit"
          ]
         ],
         "hovertemplate": "<b>%{customdata[4]} in %{customdata[3]}</b><br>Error: %{x}<br>Official: %{customdata[2]}m<br>OpenFisca-UK: %{customdata[0]}m<br>UKMOD: %{customdata[1]}m",
         "legendgroup": "OpenFisca-UK",
         "marker": {
          "color": "blue",
          "pattern": {
           "shape": ""
          }
         },
         "name": "OpenFisca-UK",
         "offsetgroup": "OpenFisca-UK",
         "orientation": "h",
         "showlegend": true,
         "textposition": "auto",
         "type": "bar",
         "x": [
          63469.849,
          98411.855,
          149037.048,
          182756.3,
          205688.39899999998,
          460996.79799999995,
          498482.614
         ],
         "xaxis": "x",
         "y": [
          "Child Tax Credit",
          "Working Tax Credit",
          "Child Benefit",
          "Pension Credit",
          "Housing Benefit",
          "Income Tax",
          "Universal Credit"
         ],
         "yaxis": "y"
        },
        {
         "alignmentgroup": "True",
         "customdata": [
          [
           1.2,
           1.1,
           1.2,
           2022,
           "Child Tax Credit"
          ],
          [
           0.7,
           0.5,
           0.8,
           2022,
           "Working Tax Credit"
          ],
          [
           6.9,
           7.1,
           7.1,
           2022,
           "Child Benefit"
          ],
          [
           1.6,
           1.4,
           1.4,
           2022,
           "Pension Credit"
          ],
          [
           2.9,
           2.3,
           2.7,
           2022,
           "Housing Benefit"
          ],
          [
           31.4,
           30,
           31.9,
           2022,
           "Income Tax"
          ],
          [
           5.1,
           4.2,
           4.6,
           2022,
           "Universal Credit"
          ]
         ],
         "hovertemplate": "<b>%{customdata[4]} in %{customdata[3]}</b><br>Error: %{x}<br>Official: %{customdata[2]}m<br>OpenFisca-UK: %{customdata[0]}m<br>UKMOD: %{customdata[1]}m",
         "legendgroup": "UKMOD",
         "marker": {
          "color": "lightgrey",
          "pattern": {
           "shape": ""
          }
         },
         "name": "UKMOD",
         "offsetgroup": "UKMOD",
         "orientation": "h",
         "showlegend": true,
         "textposition": "auto",
         "type": "bar",
         "x": [
          169737.072,
          233858.543,
          45218.345,
          7000,
          446000,
          1864962.025,
          435000
         ],
         "xaxis": "x",
         "y": [
          "Child Tax Credit",
          "Working Tax Credit",
          "Child Benefit",
          "Pension Credit",
          "Housing Benefit",
          "Income Tax",
          "Universal Credit"
         ],
         "yaxis": "y"
        }
       ],
       "frames": [
        {
         "data": [
          {
           "alignmentgroup": "True",
           "customdata": [
            [
             1.2,
             1.1,
             1.2,
             2022,
             "Child Tax Credit"
            ],
            [
             0.7,
             0.5,
             0.8,
             2022,
             "Working Tax Credit"
            ],
            [
             6.9,
             7.1,
             7.1,
             2022,
             "Child Benefit"
            ],
            [
             1.6,
             1.4,
             1.4,
             2022,
             "Pension Credit"
            ],
            [
             2.9,
             2.3,
             2.7,
             2022,
             "Housing Benefit"
            ],
            [
             31.4,
             30,
             31.9,
             2022,
             "Income Tax"
            ],
            [
             5.1,
             4.2,
             4.6,
             2022,
             "Universal Credit"
            ]
           ],
           "hovertemplate": "<b>%{customdata[4]} in %{customdata[3]}</b><br>Error: %{x}<br>Official: %{customdata[2]}m<br>OpenFisca-UK: %{customdata[0]}m<br>UKMOD: %{customdata[1]}m",
           "legendgroup": "OpenFisca-UK",
           "marker": {
            "color": "blue",
            "pattern": {
             "shape": ""
            }
           },
           "name": "OpenFisca-UK",
           "offsetgroup": "OpenFisca-UK",
           "orientation": "h",
           "showlegend": true,
           "textposition": "auto",
           "type": "bar",
           "x": [
            63469.849,
            98411.855,
            149037.048,
            182756.3,
            205688.39899999998,
            460996.79799999995,
            498482.614
           ],
           "xaxis": "x",
           "y": [
            "Child Tax Credit",
            "Working Tax Credit",
            "Child Benefit",
            "Pension Credit",
            "Housing Benefit",
            "Income Tax",
            "Universal Credit"
           ],
           "yaxis": "y"
          },
          {
           "alignmentgroup": "True",
           "customdata": [
            [
             1.2,
             1.1,
             1.2,
             2022,
             "Child Tax Credit"
            ],
            [
             0.7,
             0.5,
             0.8,
             2022,
             "Working Tax Credit"
            ],
            [
             6.9,
             7.1,
             7.1,
             2022,
             "Child Benefit"
            ],
            [
             1.6,
             1.4,
             1.4,
             2022,
             "Pension Credit"
            ],
            [
             2.9,
             2.3,
             2.7,
             2022,
             "Housing Benefit"
            ],
            [
             31.4,
             30,
             31.9,
             2022,
             "Income Tax"
            ],
            [
             5.1,
             4.2,
             4.6,
             2022,
             "Universal Credit"
            ]
           ],
           "hovertemplate": "<b>%{customdata[4]} in %{customdata[3]}</b><br>Error: %{x}<br>Official: %{customdata[2]}m<br>OpenFisca-UK: %{customdata[0]}m<br>UKMOD: %{customdata[1]}m",
           "legendgroup": "UKMOD",
           "marker": {
            "color": "lightgrey",
            "pattern": {
             "shape": ""
            }
           },
           "name": "UKMOD",
           "offsetgroup": "UKMOD",
           "orientation": "h",
           "showlegend": true,
           "textposition": "auto",
           "type": "bar",
           "x": [
            169737.072,
            233858.543,
            45218.345,
            7000,
            446000,
            1864962.025,
            435000
           ],
           "xaxis": "x",
           "y": [
            "Child Tax Credit",
            "Working Tax Credit",
            "Child Benefit",
            "Pension Credit",
            "Housing Benefit",
            "Income Tax",
            "Universal Credit"
           ],
           "yaxis": "y"
          }
         ],
         "name": "2022"
        },
        {
         "data": [
          {
           "alignmentgroup": "True",
           "customdata": [
            [
             2.5,
             2,
             2.5,
             2023,
             "Housing Benefit"
            ],
            [
             0.9,
             0.9,
             0.9,
             2023,
             "Child Tax Credit"
            ],
            [
             0.5,
             0.4,
             0.6,
             2023,
             "Working Tax Credit"
            ],
            [
             1.5,
             1.4,
             1.3,
             2023,
             "Pension Credit"
            ],
            [
             6.8,
             7.1,
             7,
             2023,
             "Child Benefit"
            ],
            [
             5.7,
             4.7,
             5,
             2023,
             "Universal Credit"
            ],
            [
             32.8,
             30.6,
             31.9,
             2023,
             "Income Tax"
            ]
           ],
           "hovertemplate": "<b>%{customdata[4]} in %{customdata[3]}</b><br>Error: %{x}<br>Official: %{customdata[2]}m<br>OpenFisca-UK: %{customdata[0]}m<br>UKMOD: %{customdata[1]}m",
           "legendgroup": "OpenFisca-UK",
           "marker": {
            "color": "blue",
            "pattern": {
             "shape": ""
            }
           },
           "name": "OpenFisca-UK",
           "offsetgroup": "OpenFisca-UK",
           "orientation": "h",
           "showlegend": true,
           "textposition": "auto",
           "type": "bar",
           "x": [
            46633.202000000005,
            58326.115,
            66889.19099999999,
            160270.367,
            209878.039,
            610194.322,
            902012.541
           ],
           "xaxis": "x",
           "y": [
            "Housing Benefit",
            "Child Tax Credit",
            "Working Tax Credit",
            "Pension Credit",
            "Child Benefit",
            "Universal Credit",
            "Income Tax"
           ],
           "yaxis": "y"
          },
          {
           "alignmentgroup": "True",
           "customdata": [
            [
             2.5,
             2,
             2.5,
             2023,
             "Housing Benefit"
            ],
            [
             0.9,
             0.9,
             0.9,
             2023,
             "Child Tax Credit"
            ],
            [
             0.5,
             0.4,
             0.6,
             2023,
             "Working Tax Credit"
            ],
            [
             1.5,
             1.4,
             1.3,
             2023,
             "Pension Credit"
            ],
            [
             6.8,
             7.1,
             7,
             2023,
             "Child Benefit"
            ],
            [
             5.7,
             4.7,
             5,
             2023,
             "Universal Credit"
            ],
            [
             32.8,
             30.6,
             31.9,
             2023,
             "Income Tax"
            ]
           ],
           "hovertemplate": "<b>%{customdata[4]} in %{customdata[3]}</b><br>Error: %{x}<br>Official: %{customdata[2]}m<br>OpenFisca-UK: %{customdata[0]}m<br>UKMOD: %{customdata[1]}m",
           "legendgroup": "UKMOD",
           "marker": {
            "color": "lightgrey",
            "pattern": {
             "shape": ""
            }
           },
           "name": "UKMOD",
           "offsetgroup": "UKMOD",
           "orientation": "h",
           "showlegend": true,
           "textposition": "auto",
           "type": "bar",
           "x": [
            409000,
            47957.117,
            137799.06900000002,
            104000,
            70105.091,
            392000,
            1292962.025
           ],
           "xaxis": "x",
           "y": [
            "Housing Benefit",
            "Child Tax Credit",
            "Working Tax Credit",
            "Pension Credit",
            "Child Benefit",
            "Universal Credit",
            "Income Tax"
           ],
           "yaxis": "y"
          }
         ],
         "name": "2023"
        },
        {
         "data": [
          {
           "alignmentgroup": "True",
           "customdata": [
            [
             0.3,
             0.3,
             0.4,
             2024,
             "Working Tax Credit"
            ],
            [
             1.3,
             1.4,
             1.3,
             2024,
             "Pension Credit"
            ],
            [
             0.6,
             0.6,
             0.6,
             2024,
             "Child Tax Credit"
            ],
            [
             2.2,
             1.8,
             2.1,
             2024,
             "Housing Benefit"
            ],
            [
             6.7,
             7,
             6.9,
             2024,
             "Child Benefit"
            ],
            [
             6.2,
             5.3,
             5.6,
             2024,
             "Universal Credit"
            ],
            [
             34.1,
             30.9,
             31.9,
             2024,
             "Income Tax"
            ]
           ],
           "hovertemplate": "<b>%{customdata[4]} in %{customdata[3]}</b><br>Error: %{x}<br>Official: %{customdata[2]}m<br>OpenFisca-UK: %{customdata[0]}m<br>UKMOD: %{customdata[1]}m",
           "legendgroup": "OpenFisca-UK",
           "marker": {
            "color": "blue",
            "pattern": {
             "shape": ""
            }
           },
           "name": "OpenFisca-UK",
           "offsetgroup": "OpenFisca-UK",
           "orientation": "h",
           "showlegend": true,
           "textposition": "auto",
           "type": "bar",
           "x": [
            61339.329000000005,
            61394.654,
            62869.802,
            85000.68199999999,
            224379.397,
            600494.294,
            2184849.527
           ],
           "xaxis": "x",
           "y": [
            "Working Tax Credit",
            "Pension Credit",
            "Child Tax Credit",
            "Housing Benefit",
            "Child Benefit",
            "Universal Credit",
            "Income Tax"
           ],
           "yaxis": "y"
          },
          {
           "alignmentgroup": "True",
           "customdata": [
            [
             0.3,
             0.3,
             0.4,
             2024,
             "Working Tax Credit"
            ],
            [
             1.3,
             1.4,
             1.3,
             2024,
             "Pension Credit"
            ],
            [
             0.6,
             0.6,
             0.6,
             2024,
             "Child Tax Credit"
            ],
            [
             2.2,
             1.8,
             2.1,
             2024,
             "Housing Benefit"
            ],
            [
             6.7,
             7,
             6.9,
             2024,
             "Child Benefit"
            ],
            [
             6.2,
             5.3,
             5.6,
             2024,
             "Universal Credit"
            ],
            [
             34.1,
             30.9,
             31.9,
             2024,
             "Income Tax"
            ]
           ],
           "hovertemplate": "<b>%{customdata[4]} in %{customdata[3]}</b><br>Error: %{x}<br>Official: %{customdata[2]}m<br>OpenFisca-UK: %{customdata[0]}m<br>UKMOD: %{customdata[1]}m",
           "legendgroup": "UKMOD",
           "marker": {
            "color": "lightgrey",
            "pattern": {
             "shape": ""
            }
           },
           "name": "UKMOD",
           "offsetgroup": "UKMOD",
           "orientation": "h",
           "showlegend": true,
           "textposition": "auto",
           "type": "bar",
           "x": [
            84358.3,
            158000,
            27128.262000000002,
            331000,
            88320.711,
            294000,
            936962.025
           ],
           "xaxis": "x",
           "y": [
            "Working Tax Credit",
            "Pension Credit",
            "Child Tax Credit",
            "Housing Benefit",
            "Child Benefit",
            "Universal Credit",
            "Income Tax"
           ],
           "yaxis": "y"
          }
         ],
         "name": "2024"
        },
        {
         "data": [
          {
           "alignmentgroup": "True",
           "customdata": [
            [
             1.2,
             1.4,
             1.2,
             2025,
             "Pension Credit"
            ],
            [
             0.2,
             0.3,
             0.3,
             2025,
             "Child Tax Credit"
            ],
            [
             0.1,
             0.1,
             0.2,
             2025,
             "Working Tax Credit"
            ],
            [
             1.9,
             1.4,
             1.7,
             2025,
             "Housing Benefit"
            ],
            [
             6.7,
             7,
             6.9,
             2025,
             "Child Benefit"
            ],
            [
             7,
             6.1,
             6.3,
             2025,
             "Universal Credit"
            ],
            [
             35.4,
             31.5,
             31.9,
             2025,
             "Income Tax"
            ]
           ],
           "hovertemplate": "<b>%{customdata[4]} in %{customdata[3]}</b><br>Error: %{x}<br>Official: %{customdata[2]}m<br>OpenFisca-UK: %{customdata[0]}m<br>UKMOD: %{customdata[1]}m",
           "legendgroup": "OpenFisca-UK",
           "marker": {
            "color": "blue",
            "pattern": {
             "shape": ""
            }
           },
           "name": "OpenFisca-UK",
           "offsetgroup": "OpenFisca-UK",
           "orientation": "h",
           "showlegend": true,
           "textposition": "auto",
           "type": "bar",
           "x": [
            20273.917,
            36386.157999999996,
            40127.625,
            127035.349,
            197485.705,
            680487.9770000001,
            3480378.963
           ],
           "xaxis": "x",
           "y": [
            "Pension Credit",
            "Child Tax Credit",
            "Working Tax Credit",
            "Housing Benefit",
            "Child Benefit",
            "Universal Credit",
            "Income Tax"
           ],
           "yaxis": "y"
          },
          {
           "alignmentgroup": "True",
           "customdata": [
            [
             1.2,
             1.4,
             1.2,
             2025,
             "Pension Credit"
            ],
            [
             0.2,
             0.3,
             0.3,
             2025,
             "Child Tax Credit"
            ],
            [
             0.1,
             0.1,
             0.2,
             2025,
             "Working Tax Credit"
            ],
            [
             1.9,
             1.4,
             1.7,
             2025,
             "Housing Benefit"
            ],
            [
             6.7,
             7,
             6.9,
             2025,
             "Child Benefit"
            ],
            [
             7,
             6.1,
             6.3,
             2025,
             "Universal Credit"
            ],
            [
             35.4,
             31.5,
             31.9,
             2025,
             "Income Tax"
            ]
           ],
           "hovertemplate": "<b>%{customdata[4]} in %{customdata[3]}</b><br>Error: %{x}<br>Official: %{customdata[2]}m<br>OpenFisca-UK: %{customdata[0]}m<br>UKMOD: %{customdata[1]}m",
           "legendgroup": "UKMOD",
           "marker": {
            "color": "lightgrey",
            "pattern": {
             "shape": ""
            }
           },
           "name": "UKMOD",
           "offsetgroup": "UKMOD",
           "orientation": "h",
           "showlegend": true,
           "textposition": "auto",
           "type": "bar",
           "x": [
            184000,
            12608.518,
            44003.977999999996,
            294000,
            123871.743,
            139000,
            409962.025
           ],
           "xaxis": "x",
           "y": [
            "Pension Credit",
            "Child Tax Credit",
            "Working Tax Credit",
            "Housing Benefit",
            "Child Benefit",
            "Universal Credit",
            "Income Tax"
           ],
           "yaxis": "y"
          }
         ],
         "name": "2025"
        }
       ],
       "layout": {
        "barmode": "group",
        "height": 600,
        "legend": {
         "title": {
          "text": "Model"
         },
         "tracegroupgap": 0,
         "traceorder": "reversed"
        },
        "margin": {
         "t": 60
        },
        "sliders": [
         {
          "active": 0,
          "currentvalue": {
           "prefix": "Year="
          },
          "len": 0.9,
          "pad": {
           "b": 10,
           "t": 60
          },
          "steps": [
           {
            "args": [
             [
              "2022"
             ],
             {
              "frame": {
               "duration": 0,
               "redraw": true
              },
              "fromcurrent": true,
              "mode": "immediate",
              "transition": {
               "duration": 0,
               "easing": "linear"
              }
             }
            ],
            "label": "2022",
            "method": "animate"
           },
           {
            "args": [
             [
              "2023"
             ],
             {
              "frame": {
               "duration": 0,
               "redraw": true
              },
              "fromcurrent": true,
              "mode": "immediate",
              "transition": {
               "duration": 0,
               "easing": "linear"
              }
             }
            ],
            "label": "2023",
            "method": "animate"
           },
           {
            "args": [
             [
              "2024"
             ],
             {
              "frame": {
               "duration": 0,
               "redraw": true
              },
              "fromcurrent": true,
              "mode": "immediate",
              "transition": {
               "duration": 0,
               "easing": "linear"
              }
             }
            ],
            "label": "2024",
            "method": "animate"
           },
           {
            "args": [
             [
              "2025"
             ],
             {
              "frame": {
               "duration": 0,
               "redraw": true
              },
              "fromcurrent": true,
              "mode": "immediate",
              "transition": {
               "duration": 0,
               "easing": "linear"
              }
             }
            ],
            "label": "2025",
            "method": "animate"
           }
          ],
          "x": 0.1,
          "xanchor": "left",
          "y": 0,
          "yanchor": "top"
         }
        ],
        "template": {
         "data": {
          "bar": [
           {
            "error_x": {
             "color": "#2a3f5f"
            },
            "error_y": {
             "color": "#2a3f5f"
            },
            "marker": {
             "line": {
              "color": "white",
              "width": 0.5
             },
             "pattern": {
              "fillmode": "overlay",
              "size": 10,
              "solidity": 0.2
             }
            },
            "type": "bar"
           }
          ],
          "barpolar": [
           {
            "marker": {
             "line": {
              "color": "white",
              "width": 0.5
             },
             "pattern": {
              "fillmode": "overlay",
              "size": 10,
              "solidity": 0.2
             }
            },
            "type": "barpolar"
           }
          ],
          "carpet": [
           {
            "aaxis": {
             "endlinecolor": "#2a3f5f",
             "gridcolor": "#C8D4E3",
             "linecolor": "#C8D4E3",
             "minorgridcolor": "#C8D4E3",
             "startlinecolor": "#2a3f5f"
            },
            "baxis": {
             "endlinecolor": "#2a3f5f",
             "gridcolor": "#C8D4E3",
             "linecolor": "#C8D4E3",
             "minorgridcolor": "#C8D4E3",
             "startlinecolor": "#2a3f5f"
            },
            "type": "carpet"
           }
          ],
          "choropleth": [
           {
            "colorbar": {
             "outlinewidth": 0,
             "ticks": ""
            },
            "type": "choropleth"
           }
          ],
          "contour": [
           {
            "colorbar": {
             "outlinewidth": 0,
             "ticks": ""
            },
            "colorscale": [
             [
              0,
              "#0d0887"
             ],
             [
              0.1111111111111111,
              "#46039f"
             ],
             [
              0.2222222222222222,
              "#7201a8"
             ],
             [
              0.3333333333333333,
              "#9c179e"
             ],
             [
              0.4444444444444444,
              "#bd3786"
             ],
             [
              0.5555555555555556,
              "#d8576b"
             ],
             [
              0.6666666666666666,
              "#ed7953"
             ],
             [
              0.7777777777777778,
              "#fb9f3a"
             ],
             [
              0.8888888888888888,
              "#fdca26"
             ],
             [
              1,
              "#f0f921"
             ]
            ],
            "type": "contour"
           }
          ],
          "contourcarpet": [
           {
            "colorbar": {
             "outlinewidth": 0,
             "ticks": ""
            },
            "type": "contourcarpet"
           }
          ],
          "heatmap": [
           {
            "colorbar": {
             "outlinewidth": 0,
             "ticks": ""
            },
            "colorscale": [
             [
              0,
              "#0d0887"
             ],
             [
              0.1111111111111111,
              "#46039f"
             ],
             [
              0.2222222222222222,
              "#7201a8"
             ],
             [
              0.3333333333333333,
              "#9c179e"
             ],
             [
              0.4444444444444444,
              "#bd3786"
             ],
             [
              0.5555555555555556,
              "#d8576b"
             ],
             [
              0.6666666666666666,
              "#ed7953"
             ],
             [
              0.7777777777777778,
              "#fb9f3a"
             ],
             [
              0.8888888888888888,
              "#fdca26"
             ],
             [
              1,
              "#f0f921"
             ]
            ],
            "type": "heatmap"
           }
          ],
          "heatmapgl": [
           {
            "colorbar": {
             "outlinewidth": 0,
             "ticks": ""
            },
            "colorscale": [
             [
              0,
              "#0d0887"
             ],
             [
              0.1111111111111111,
              "#46039f"
             ],
             [
              0.2222222222222222,
              "#7201a8"
             ],
             [
              0.3333333333333333,
              "#9c179e"
             ],
             [
              0.4444444444444444,
              "#bd3786"
             ],
             [
              0.5555555555555556,
              "#d8576b"
             ],
             [
              0.6666666666666666,
              "#ed7953"
             ],
             [
              0.7777777777777778,
              "#fb9f3a"
             ],
             [
              0.8888888888888888,
              "#fdca26"
             ],
             [
              1,
              "#f0f921"
             ]
            ],
            "type": "heatmapgl"
           }
          ],
          "histogram": [
           {
            "marker": {
             "pattern": {
              "fillmode": "overlay",
              "size": 10,
              "solidity": 0.2
             }
            },
            "type": "histogram"
           }
          ],
          "histogram2d": [
           {
            "colorbar": {
             "outlinewidth": 0,
             "ticks": ""
            },
            "colorscale": [
             [
              0,
              "#0d0887"
             ],
             [
              0.1111111111111111,
              "#46039f"
             ],
             [
              0.2222222222222222,
              "#7201a8"
             ],
             [
              0.3333333333333333,
              "#9c179e"
             ],
             [
              0.4444444444444444,
              "#bd3786"
             ],
             [
              0.5555555555555556,
              "#d8576b"
             ],
             [
              0.6666666666666666,
              "#ed7953"
             ],
             [
              0.7777777777777778,
              "#fb9f3a"
             ],
             [
              0.8888888888888888,
              "#fdca26"
             ],
             [
              1,
              "#f0f921"
             ]
            ],
            "type": "histogram2d"
           }
          ],
          "histogram2dcontour": [
           {
            "colorbar": {
             "outlinewidth": 0,
             "ticks": ""
            },
            "colorscale": [
             [
              0,
              "#0d0887"
             ],
             [
              0.1111111111111111,
              "#46039f"
             ],
             [
              0.2222222222222222,
              "#7201a8"
             ],
             [
              0.3333333333333333,
              "#9c179e"
             ],
             [
              0.4444444444444444,
              "#bd3786"
             ],
             [
              0.5555555555555556,
              "#d8576b"
             ],
             [
              0.6666666666666666,
              "#ed7953"
             ],
             [
              0.7777777777777778,
              "#fb9f3a"
             ],
             [
              0.8888888888888888,
              "#fdca26"
             ],
             [
              1,
              "#f0f921"
             ]
            ],
            "type": "histogram2dcontour"
           }
          ],
          "mesh3d": [
           {
            "colorbar": {
             "outlinewidth": 0,
             "ticks": ""
            },
            "type": "mesh3d"
           }
          ],
          "parcoords": [
           {
            "line": {
             "colorbar": {
              "outlinewidth": 0,
              "ticks": ""
             }
            },
            "type": "parcoords"
           }
          ],
          "pie": [
           {
            "automargin": true,
            "type": "pie"
           }
          ],
          "scatter": [
           {
            "marker": {
             "colorbar": {
              "outlinewidth": 0,
              "ticks": ""
             }
            },
            "type": "scatter"
           }
          ],
          "scatter3d": [
           {
            "line": {
             "colorbar": {
              "outlinewidth": 0,
              "ticks": ""
             }
            },
            "marker": {
             "colorbar": {
              "outlinewidth": 0,
              "ticks": ""
             }
            },
            "type": "scatter3d"
           }
          ],
          "scattercarpet": [
           {
            "marker": {
             "colorbar": {
              "outlinewidth": 0,
              "ticks": ""
             }
            },
            "type": "scattercarpet"
           }
          ],
          "scattergeo": [
           {
            "marker": {
             "colorbar": {
              "outlinewidth": 0,
              "ticks": ""
             }
            },
            "type": "scattergeo"
           }
          ],
          "scattergl": [
           {
            "marker": {
             "colorbar": {
              "outlinewidth": 0,
              "ticks": ""
             }
            },
            "type": "scattergl"
           }
          ],
          "scattermapbox": [
           {
            "marker": {
             "colorbar": {
              "outlinewidth": 0,
              "ticks": ""
             }
            },
            "type": "scattermapbox"
           }
          ],
          "scatterpolar": [
           {
            "marker": {
             "colorbar": {
              "outlinewidth": 0,
              "ticks": ""
             }
            },
            "type": "scatterpolar"
           }
          ],
          "scatterpolargl": [
           {
            "marker": {
             "colorbar": {
              "outlinewidth": 0,
              "ticks": ""
             }
            },
            "type": "scatterpolargl"
           }
          ],
          "scatterternary": [
           {
            "marker": {
             "colorbar": {
              "outlinewidth": 0,
              "ticks": ""
             }
            },
            "type": "scatterternary"
           }
          ],
          "surface": [
           {
            "colorbar": {
             "outlinewidth": 0,
             "ticks": ""
            },
            "colorscale": [
             [
              0,
              "#0d0887"
             ],
             [
              0.1111111111111111,
              "#46039f"
             ],
             [
              0.2222222222222222,
              "#7201a8"
             ],
             [
              0.3333333333333333,
              "#9c179e"
             ],
             [
              0.4444444444444444,
              "#bd3786"
             ],
             [
              0.5555555555555556,
              "#d8576b"
             ],
             [
              0.6666666666666666,
              "#ed7953"
             ],
             [
              0.7777777777777778,
              "#fb9f3a"
             ],
             [
              0.8888888888888888,
              "#fdca26"
             ],
             [
              1,
              "#f0f921"
             ]
            ],
            "type": "surface"
           }
          ],
          "table": [
           {
            "cells": {
             "fill": {
              "color": "#EBF0F8"
             },
             "line": {
              "color": "white"
             }
            },
            "header": {
             "fill": {
              "color": "#C8D4E3"
             },
             "line": {
              "color": "white"
             }
            },
            "type": "table"
           }
          ]
         },
         "layout": {
          "annotationdefaults": {
           "arrowcolor": "#2a3f5f",
           "arrowhead": 0,
           "arrowwidth": 1
          },
          "autotypenumbers": "strict",
          "coloraxis": {
           "colorbar": {
            "outlinewidth": 0,
            "ticks": ""
           }
          },
          "colorscale": {
           "diverging": [
            [
             0,
             "#8e0152"
            ],
            [
             0.1,
             "#c51b7d"
            ],
            [
             0.2,
             "#de77ae"
            ],
            [
             0.3,
             "#f1b6da"
            ],
            [
             0.4,
             "#fde0ef"
            ],
            [
             0.5,
             "#f7f7f7"
            ],
            [
             0.6,
             "#e6f5d0"
            ],
            [
             0.7,
             "#b8e186"
            ],
            [
             0.8,
             "#7fbc41"
            ],
            [
             0.9,
             "#4d9221"
            ],
            [
             1,
             "#276419"
            ]
           ],
           "sequential": [
            [
             0,
             "#0d0887"
            ],
            [
             0.1111111111111111,
             "#46039f"
            ],
            [
             0.2222222222222222,
             "#7201a8"
            ],
            [
             0.3333333333333333,
             "#9c179e"
            ],
            [
             0.4444444444444444,
             "#bd3786"
            ],
            [
             0.5555555555555556,
             "#d8576b"
            ],
            [
             0.6666666666666666,
             "#ed7953"
            ],
            [
             0.7777777777777778,
             "#fb9f3a"
            ],
            [
             0.8888888888888888,
             "#fdca26"
            ],
            [
             1,
             "#f0f921"
            ]
           ],
           "sequentialminus": [
            [
             0,
             "#0d0887"
            ],
            [
             0.1111111111111111,
             "#46039f"
            ],
            [
             0.2222222222222222,
             "#7201a8"
            ],
            [
             0.3333333333333333,
             "#9c179e"
            ],
            [
             0.4444444444444444,
             "#bd3786"
            ],
            [
             0.5555555555555556,
             "#d8576b"
            ],
            [
             0.6666666666666666,
             "#ed7953"
            ],
            [
             0.7777777777777778,
             "#fb9f3a"
            ],
            [
             0.8888888888888888,
             "#fdca26"
            ],
            [
             1,
             "#f0f921"
            ]
           ]
          },
          "colorway": [
           "#636efa",
           "#EF553B",
           "#00cc96",
           "#ab63fa",
           "#FFA15A",
           "#19d3f3",
           "#FF6692",
           "#B6E880",
           "#FF97FF",
           "#FECB52"
          ],
          "font": {
           "color": "#2a3f5f"
          },
          "geo": {
           "bgcolor": "white",
           "lakecolor": "white",
           "landcolor": "white",
           "showlakes": true,
           "showland": true,
           "subunitcolor": "#C8D4E3"
          },
          "hoverlabel": {
           "align": "left"
          },
          "hovermode": "closest",
          "mapbox": {
           "style": "light"
          },
          "paper_bgcolor": "white",
          "plot_bgcolor": "white",
          "polar": {
           "angularaxis": {
            "gridcolor": "#EBF0F8",
            "linecolor": "#EBF0F8",
            "ticks": ""
           },
           "bgcolor": "white",
           "radialaxis": {
            "gridcolor": "#EBF0F8",
            "linecolor": "#EBF0F8",
            "ticks": ""
           }
          },
          "scene": {
           "xaxis": {
            "backgroundcolor": "white",
            "gridcolor": "#DFE8F3",
            "gridwidth": 2,
            "linecolor": "#EBF0F8",
            "showbackground": true,
            "ticks": "",
            "zerolinecolor": "#EBF0F8"
           },
           "yaxis": {
            "backgroundcolor": "white",
            "gridcolor": "#DFE8F3",
            "gridwidth": 2,
            "linecolor": "#EBF0F8",
            "showbackground": true,
            "ticks": "",
            "zerolinecolor": "#EBF0F8"
           },
           "zaxis": {
            "backgroundcolor": "white",
            "gridcolor": "#DFE8F3",
            "gridwidth": 2,
            "linecolor": "#EBF0F8",
            "showbackground": true,
            "ticks": "",
            "zerolinecolor": "#EBF0F8"
           }
          },
          "shapedefaults": {
           "line": {
            "color": "#2a3f5f"
           }
          },
          "ternary": {
           "aaxis": {
            "gridcolor": "#DFE8F3",
            "linecolor": "#A2B1C6",
            "ticks": ""
           },
           "baxis": {
            "gridcolor": "#DFE8F3",
            "linecolor": "#A2B1C6",
            "ticks": ""
           },
           "bgcolor": "white",
           "caxis": {
            "gridcolor": "#DFE8F3",
            "linecolor": "#A2B1C6",
            "ticks": ""
           }
          },
          "title": {
           "x": 0.05
          },
          "xaxis": {
           "automargin": true,
           "gridcolor": "#EBF0F8",
           "linecolor": "#EBF0F8",
           "ticks": "",
           "title": {
            "standoff": 15
           },
           "zerolinecolor": "#EBF0F8",
           "zerolinewidth": 2
          },
          "yaxis": {
           "automargin": true,
           "gridcolor": "#EBF0F8",
           "linecolor": "#EBF0F8",
           "ticks": "",
           "title": {
            "standoff": 15
           },
           "zerolinecolor": "#EBF0F8",
           "zerolinewidth": 2
          }
         }
        },
        "title": {
         "text": "Caseload errors"
        },
        "updatemenus": [
         {
          "buttons": [
           {
            "args": [
             null,
             {
              "frame": {
               "duration": 500,
               "redraw": true
              },
              "fromcurrent": true,
              "mode": "immediate",
              "transition": {
               "duration": 500,
               "easing": "linear"
              }
             }
            ],
            "label": "&#9654;",
            "method": "animate"
           },
           {
            "args": [
             [
              null
             ],
             {
              "frame": {
               "duration": 0,
               "redraw": true
              },
              "fromcurrent": true,
              "mode": "immediate",
              "transition": {
               "duration": 0,
               "easing": "linear"
              }
             }
            ],
            "label": "&#9724;",
            "method": "animate"
           }
          ],
          "direction": "left",
          "pad": {
           "r": 10,
           "t": 70
          },
          "showactive": false,
          "type": "buttons",
          "x": 0.1,
          "xanchor": "right",
          "y": 0,
          "yanchor": "top"
         }
        ],
        "width": 800,
        "xaxis": {
         "anchor": "y",
         "domain": [
          0,
          1
         ],
         "title": {
          "text": "Caseload error"
         }
        },
        "yaxis": {
         "anchor": "x",
         "domain": [
          0,
          1
         ],
         "title": {
          "text": ""
         }
        }
       }
      }
     },
     "metadata": {},
     "output_type": "display_data"
    }
   ],
   "source": [
    "def error_chart(table, title=None):\n",
    "    hovertemplate = \"<b>%{customdata[4]} in %{customdata[3]}</b><br>Error: %{x}<br>Official: %{customdata[2]}m<br>OpenFisca-UK: %{customdata[0]}m<br>UKMOD: %{customdata[1]}m\"\n",
    "    table = table.replace(\"\", np.nan).dropna(axis=0)\n",
    "    table[[policyengine_uk, UKMOD]] = (\n",
    "        table[[policyengine_uk, UKMOD]].abs() / 1e2\n",
    "    )\n",
    "    fig = (\n",
    "        px.bar(\n",
    "            table.sort_values([\"Year\", policyengine_uk]),\n",
    "            x=[policyengine_uk, UKMOD],\n",
    "            y=\"Program\",\n",
    "            orientation=\"h\",\n",
    "            animation_frame=\"Year\",\n",
    "            barmode=\"group\",\n",
    "            color_discrete_map={\n",
    "                policyengine_uk: \"blue\",\n",
    "                UKMOD: \"lightgrey\",\n",
    "            },\n",
    "            custom_data=[\n",
    "                \"OpenFisca-UK caseload\",\n",
    "                \"UKMOD caseload\",\n",
    "                \"External caseload\",\n",
    "                \"Year\",\n",
    "                \"Program\",\n",
    "            ],\n",
    "        )\n",
    "        .update_layout(\n",
    "            width=800,\n",
    "            height=600,\n",
    "            xaxis_title=\"Caseload error\",\n",
    "            title=title,\n",
    "            template=\"plotly_white\",\n",
    "            legend_title=\"Model\",\n",
    "            yaxis_title=\"\",\n",
    "            legend_traceorder=\"reversed\",\n",
    "        )\n",
    "        .update_traces(hovertemplate=hovertemplate)\n",
    "    )\n",
    "    for frame in fig.frames:\n",
    "        for data in frame.data:\n",
    "            data.hovertemplate = hovertemplate\n",
    "    return fig\n",
    "\n",
    "\n",
    "error_chart(\n",
    "    tables_to_model_comparisons(\n",
    "        {\n",
    "            \"\": model_validation_table(\n",
    "                caseload_error,\n",
    "                models=[policyengine_uk, UKMOD],\n",
    "                decimals=1,\n",
    "                divisor=1e-2,\n",
    "            ),\n",
    "            \"caseload\": model_validation_table(\n",
    "                caseload, divisor=1e6, decimals=1\n",
    "            ),\n",
    "        }\n",
    "    ),\n",
    "    title=\"Caseload errors\",\n",
    ")"
   ]
  },
  {
   "cell_type": "markdown",
   "id": "85a7bbc1-bc8f-45fa-9267-e01bf023b199",
   "metadata": {},
   "source": [
    "## Automated tests\n",
    "\n",
    "Below are test results from the most recent version."
   ]
  },
  {
   "cell_type": "code",
   "execution_count": 11,
   "id": "36cf98bd-f26a-49bb-a852-cedaeaf12a8d",
   "metadata": {
    "tags": [
     "hide-input"
    ]
   },
   "outputs": [
    {
     "data": {
      "text/html": [
       "<div>\n",
       "<style scoped>\n",
       "    .dataframe tbody tr th:only-of-type {\n",
       "        vertical-align: middle;\n",
       "    }\n",
       "\n",
       "    .dataframe tbody tr th {\n",
       "        vertical-align: top;\n",
       "    }\n",
       "\n",
       "    .dataframe thead th {\n",
       "        text-align: right;\n",
       "    }\n",
       "</style>\n",
       "<table border=\"1\" class=\"dataframe\">\n",
       "  <thead>\n",
       "    <tr style=\"text-align: right;\">\n",
       "      <th></th>\n",
       "      <th>Name</th>\n",
       "      <th>Passed</th>\n",
       "    </tr>\n",
       "  </thead>\n",
       "  <tbody>\n",
       "    <tr>\n",
       "      <th>0</th>\n",
       "      <td>OpenFisca-UK Child Benefit caseload error is less than 10.0% in 2022</td>\n",
       "      <td>True</td>\n",
       "    </tr>\n",
       "    <tr>\n",
       "      <th>1</th>\n",
       "      <td>OpenFisca-UK Council Tax (less CTB) aggregate error is less than 11.0% in 2022</td>\n",
       "      <td>True</td>\n",
       "    </tr>\n",
       "    <tr>\n",
       "      <th>2</th>\n",
       "      <td>OpenFisca-UK Child Tax Credit aggregate error is less than 40.0% in 2022</td>\n",
       "      <td>True</td>\n",
       "    </tr>\n",
       "    <tr>\n",
       "      <th>3</th>\n",
       "      <td>OpenFisca-UK Child Tax Credit caseload error is less than 25.0% in 2022</td>\n",
       "      <td>True</td>\n",
       "    </tr>\n",
       "    <tr>\n",
       "      <th>4</th>\n",
       "      <td>OpenFisca-UK Working Tax Credit caseload error is less than 40.0% in 2022</td>\n",
       "      <td>True</td>\n",
       "    </tr>\n",
       "    <tr>\n",
       "      <th>5</th>\n",
       "      <td>OpenFisca-UK Housing Benefit caseload error is less than 15.0% in 2022</td>\n",
       "      <td>True</td>\n",
       "    </tr>\n",
       "    <tr>\n",
       "      <th>6</th>\n",
       "      <td>OpenFisca-UK JSA (income-based) aggregate error is less than 110.0% in 2022</td>\n",
       "      <td>True</td>\n",
       "    </tr>\n",
       "    <tr>\n",
       "      <th>7</th>\n",
       "      <td>OpenFisca-UK Income Support caseload error is less than 50.0% in 2022</td>\n",
       "      <td>True</td>\n",
       "    </tr>\n",
       "    <tr>\n",
       "      <th>8</th>\n",
       "      <td>OpenFisca-UK Universal Credit caseload error is less than 20.0% in 2022</td>\n",
       "      <td>True</td>\n",
       "    </tr>\n",
       "    <tr>\n",
       "      <th>9</th>\n",
       "      <td>OpenFisca-UK Income Tax caseload error is less than 12.5% in 2022</td>\n",
       "      <td>True</td>\n",
       "    </tr>\n",
       "    <tr>\n",
       "      <th>10</th>\n",
       "      <td>OpenFisca-UK National Insurance (total) aggregate error is less than 5.0% in 2022</td>\n",
       "      <td>True</td>\n",
       "    </tr>\n",
       "  </tbody>\n",
       "</table>\n",
       "</div>"
      ],
      "text/plain": [
       "                                                                                 Name  \\\n",
       "0   OpenFisca-UK Child Benefit caseload error is less than 10.0% in 2022                \n",
       "1   OpenFisca-UK Council Tax (less CTB) aggregate error is less than 11.0% in 2022      \n",
       "2   OpenFisca-UK Child Tax Credit aggregate error is less than 40.0% in 2022            \n",
       "3   OpenFisca-UK Child Tax Credit caseload error is less than 25.0% in 2022             \n",
       "4   OpenFisca-UK Working Tax Credit caseload error is less than 40.0% in 2022           \n",
       "5   OpenFisca-UK Housing Benefit caseload error is less than 15.0% in 2022              \n",
       "6   OpenFisca-UK JSA (income-based) aggregate error is less than 110.0% in 2022         \n",
       "7   OpenFisca-UK Income Support caseload error is less than 50.0% in 2022               \n",
       "8   OpenFisca-UK Universal Credit caseload error is less than 20.0% in 2022             \n",
       "9   OpenFisca-UK Income Tax caseload error is less than 12.5% in 2022                   \n",
       "10  OpenFisca-UK National Insurance (total) aggregate error is less than 5.0% in 2022   \n",
       "\n",
       "    Passed  \n",
       "0   True    \n",
       "1   True    \n",
       "2   True    \n",
       "3   True    \n",
       "4   True    \n",
       "5   True    \n",
       "6   True    \n",
       "7   True    \n",
       "8   True    \n",
       "9   True    \n",
       "10  True    "
      ]
     },
     "execution_count": 11,
     "metadata": {},
     "output_type": "execute_result"
    }
   ],
   "source": [
    "from policyengine_uk.tests.microsimulation.test_statistics import tests\n",
    "\n",
    "pd.set_option(\"display.max_colwidth\", 0)\n",
    "pd.set_option(\"display.max_rows\", 500)\n",
    "pd.DataFrame({\"Name\": tests, \"Passed\": [test.test()[0] for test in tests]})"
   ]
  }
 ],
 "metadata": {
  "kernelspec": {
   "display_name": "Python 3.9.12 ('base')",
   "language": "python",
   "name": "python3"
  },
  "language_info": {
   "codemirror_mode": {
    "name": "ipython",
    "version": 3
   },
   "file_extension": ".py",
   "mimetype": "text/x-python",
   "name": "python",
   "nbconvert_exporter": "python",
   "pygments_lexer": "ipython3",
   "version": "3.9.12"
  },
  "vscode": {
   "interpreter": {
    "hash": "40d3a090f54c6569ab1632332b64b2c03c39dcf918b08424e98f38b5ae0af88f"
   }
  }
 },
 "nbformat": 4,
 "nbformat_minor": 5
}
