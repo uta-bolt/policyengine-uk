{
 "cells": [
  {
   "cell_type": "markdown",
   "id": "8fde3747",
   "metadata": {},
   "source": [
    "# Validation\n",
    "\n",
    "OpenFisca-UK runs unit and integration tests on each new version (see [here](https://github.com/PSLmodels/openfisca-uk/tree/master/tests)).\n",
    "In addition, the table below shows the aggregates produced by the model for the major taxes and benefits, and comparisons with UKMOD (latest [country report](https://www.iser.essex.ac.uk/research/publications/working-papers/cempa/cempa7-20.pdf)) and official sources.[^1]\n",
    "UKMOD and administrative sources refer to 2018, and OpenFisca-UK is simulated on policy at the end of 2018.\n",
    "Numbers are in billions of pounds.\n",
    "\n",
    "[^1]: From the UKMOD country report: unless otherwise specified: Department for Work and Pensions https://www.gov.uk/government/publications/benefit-expenditure-and-caseload-tables-2018 ; Best Start Grant: https://www2.gov.scot/Topics/Statistics/Browse/Social-Welfare/SocialSecurityforScotland/BSGJune2019; Child tax credit and working tax credit: HMRC statistics \n",
    "https://www.gov.uk/government/statistics/child-and-working-tax-credits-statistics-finalised-annual-awards-2016-to-2017; Scottish Child Payment: Scottish Fiscal Commission https://www.fiscalcommission.scot/forecast/supplementary-costing-scottish-child-payment; Scottish Child Winter Heating Assistance: Scottish Fiscal Commission \n",
    "https://www.fiscalcommission.scot/forecast/supplementary-costing-child-winter-heating-assistance; Income tax: HMRC statistics https://www.gov.uk/government/statistics/income-tax-liabilities-statistics-tax-year-2014-to-2015-to-tax-year-2017-to-2018; National Insurance Contributions: ONS Blue Book Table 5.2.4s "
   ]
  },
  {
   "cell_type": "markdown",
   "id": "d4998737",
   "metadata": {},
   "source": [
    "## Aggregate tables\n",
    "\n",
    "OpenFisca-UK uprates input FRS data: below are comparisons between the aggregates calculated by OpenFisca-UK, UKMOD and external sources.\n",
    "\n",
    "### Aggregates in full"
   ]
  },
  {
   "cell_type": "code",
   "execution_count": 1,
   "id": "cb98f204-73b5-42f9-a75d-e26c08e1f63c",
   "metadata": {},
   "outputs": [],
   "source": [
    "import numpy as np\n",
    "import pandas as pd\n",
    "from openfisca_uk import Microsimulation, variables as default_variables, REPO, parameters\n",
    "from openfisca_core.parameters import ParameterNode\n",
    "from pathlib import Path\n",
    "import yaml\n",
    "import plotly.express as px\n",
    "\n",
    "OPENFISCA_UK = \"OpenFisca-UK\"\n",
    "UKMOD = \"UKMOD\"\n",
    "EXTERNAL = \"External\"\n",
    "\n",
    "VARIABLES = [\n",
    "    \"child_benefit\",\n",
    "    \"ESA_income\",\n",
    "    \"income_support\",\n",
    "    \"JSA_income\",\n",
    "    \"housing_benefit\",\n",
    "    \"working_tax_credit\",\n",
    "    \"child_tax_credit\",\n",
    "    \"universal_credit\",\n",
    "    \"pension_credit\",\n",
    "    \"income_tax\",\n",
    "    \"total_NI\",\n",
    "]\n",
    "\n",
    "sim = Microsimulation()\n",
    "\n",
    "# https://stackoverflow.com/questions/34667108/ignore-dates-and-times-while-parsing-yaml\n",
    "\n",
    "yaml.SafeLoader.yaml_implicit_resolvers = {\n",
    "    k: [r for r in v if r[0] != 'tag:yaml.org,2002:timestamp'] for\n",
    "    k, v in yaml.SafeLoader.yaml_implicit_resolvers.items()\n",
    "}\n",
    "\n",
    "with open(REPO.parent / \"docs\" / \"book\" / \"model\" / \"ukmod_country_report_statistics.yaml\", mode=\"r\") as f:\n",
    "    ukmod_statistics = ParameterNode(\"ukmod\", data=yaml.load(f, Loader=yaml.SafeLoader))\n",
    "    \n",
    "def process_scalar(x, divisor, decimals):\n",
    "    if np.isnan(x):\n",
    "        return x\n",
    "    return round(x / divisor, decimals)\n",
    "\n",
    "def model_validation_table(\n",
    "    model_year_variable_to_result_func,\n",
    "    title=None,\n",
    "    start_year=2019,\n",
    "    end_year=2025,\n",
    "    divisor=1,\n",
    "    decimals=0,\n",
    "    models=[EXTERNAL, OPENFISCA_UK, UKMOD],\n",
    "    variables=VARIABLES,\n",
    "):\n",
    "    dfs = []\n",
    "    for model in models:\n",
    "        df = pd.DataFrame({\n",
    "            year: {\n",
    "                default_variables[variable].label: process_scalar(model_year_variable_to_result_func(model, year, variable), divisor, decimals)\n",
    "                for variable in variables\n",
    "            } for year in range(start_year, end_year + 1)\n",
    "        })\n",
    "        dfs.append(df.T)\n",
    "    return pd.concat(dfs, keys=models).replace(np.nan, \"\")\n",
    "\n",
    "def budgetary_impact(model, year, variable):\n",
    "    try:\n",
    "        if model == OPENFISCA_UK:\n",
    "            return sim.calc(variable, map_to=\"household\", period=year).sum()\n",
    "        elif model == UKMOD:\n",
    "            return getattr(ukmod_statistics.ukmod.budgetary_impact, variable)(f\"{year}-01-01\")\n",
    "        elif model == EXTERNAL:\n",
    "            return getattr(parameters.calibration.budgetary_impact.by_program, variable)(f\"{year}-01-01\")\n",
    "    except:\n",
    "        return np.nan"
   ]
  },
  {
   "cell_type": "code",
   "execution_count": 2,
   "id": "7526e917-5a11-46fa-8c71-f1e32de1653e",
   "metadata": {},
   "outputs": [
    {
     "data": {
      "text/html": [
       "<div>\n",
       "<style scoped>\n",
       "    .dataframe tbody tr th:only-of-type {\n",
       "        vertical-align: middle;\n",
       "    }\n",
       "\n",
       "    .dataframe tbody tr th {\n",
       "        vertical-align: top;\n",
       "    }\n",
       "\n",
       "    .dataframe thead th {\n",
       "        text-align: right;\n",
       "    }\n",
       "</style>\n",
       "<table border=\"1\" class=\"dataframe\">\n",
       "  <thead>\n",
       "    <tr style=\"text-align: right;\">\n",
       "      <th></th>\n",
       "      <th></th>\n",
       "      <th>Child Benefit</th>\n",
       "      <th>ESA (income-based)</th>\n",
       "      <th>Income Support</th>\n",
       "      <th>JSA (income-based)</th>\n",
       "      <th>Housing Benefit</th>\n",
       "      <th>Working Tax Credit</th>\n",
       "      <th>Child Tax Credit</th>\n",
       "      <th>Universal Credit</th>\n",
       "      <th>Pension Credit</th>\n",
       "      <th>Income Tax</th>\n",
       "      <th>National Insurance (total)</th>\n",
       "    </tr>\n",
       "  </thead>\n",
       "  <tbody>\n",
       "    <tr>\n",
       "      <th rowspan=\"7\" valign=\"top\">External</th>\n",
       "      <th>2019</th>\n",
       "      <td>11.1</td>\n",
       "      <td>9.3</td>\n",
       "      <td>1.4</td>\n",
       "      <td>0.6</td>\n",
       "      <td>18.4</td>\n",
       "      <td>3.8</td>\n",
       "      <td>13.9</td>\n",
       "      <td>18.4</td>\n",
       "      <td>5.1</td>\n",
       "      <td>193.6</td>\n",
       "      <td>145.0</td>\n",
       "    </tr>\n",
       "    <tr>\n",
       "      <th>2020</th>\n",
       "      <td>11.1</td>\n",
       "      <td>8.8</td>\n",
       "      <td>1.1</td>\n",
       "      <td>0.4</td>\n",
       "      <td>17.3</td>\n",
       "      <td>3.1</td>\n",
       "      <td>11.4</td>\n",
       "      <td>38.3</td>\n",
       "      <td>5.1</td>\n",
       "      <td>188.2</td>\n",
       "      <td>140.8</td>\n",
       "    </tr>\n",
       "    <tr>\n",
       "      <th>2021</th>\n",
       "      <td>11.0</td>\n",
       "      <td>8.3</td>\n",
       "      <td>0.9</td>\n",
       "      <td>0.3</td>\n",
       "      <td>17.1</td>\n",
       "      <td>2.2</td>\n",
       "      <td>8.1</td>\n",
       "      <td>41.1</td>\n",
       "      <td>5.0</td>\n",
       "      <td>203.6</td>\n",
       "      <td>145.9</td>\n",
       "    </tr>\n",
       "    <tr>\n",
       "      <th>2022</th>\n",
       "      <td>11.2</td>\n",
       "      <td>8.2</td>\n",
       "      <td>0.7</td>\n",
       "      <td>0.2</td>\n",
       "      <td>15.9</td>\n",
       "      <td>1.6</td>\n",
       "      <td>6.0</td>\n",
       "      <td>43.7</td>\n",
       "      <td>4.5</td>\n",
       "      <td>205.0</td>\n",
       "      <td>151.3</td>\n",
       "    </tr>\n",
       "    <tr>\n",
       "      <th>2023</th>\n",
       "      <td>11.5</td>\n",
       "      <td>7.8</td>\n",
       "      <td>0.5</td>\n",
       "      <td>0.0</td>\n",
       "      <td>14.7</td>\n",
       "      <td>1.2</td>\n",
       "      <td>4.5</td>\n",
       "      <td>49.8</td>\n",
       "      <td>4.4</td>\n",
       "      <td>215.0</td>\n",
       "      <td>157.5</td>\n",
       "    </tr>\n",
       "    <tr>\n",
       "      <th>2024</th>\n",
       "      <td>11.6</td>\n",
       "      <td>6.4</td>\n",
       "      <td>0.5</td>\n",
       "      <td>0.0</td>\n",
       "      <td>12.5</td>\n",
       "      <td>0.8</td>\n",
       "      <td>3.0</td>\n",
       "      <td>57.8</td>\n",
       "      <td>4.4</td>\n",
       "      <td>225.7</td>\n",
       "      <td>164.6</td>\n",
       "    </tr>\n",
       "    <tr>\n",
       "      <th>2025</th>\n",
       "      <td>11.6</td>\n",
       "      <td>3.5</td>\n",
       "      <td>0.4</td>\n",
       "      <td>0.0</td>\n",
       "      <td>10.2</td>\n",
       "      <td>0.4</td>\n",
       "      <td>1.3</td>\n",
       "      <td>68.0</td>\n",
       "      <td>4.2</td>\n",
       "      <td>237.5</td>\n",
       "      <td>172.1</td>\n",
       "    </tr>\n",
       "    <tr>\n",
       "      <th rowspan=\"7\" valign=\"top\">OpenFisca-UK</th>\n",
       "      <th>2019</th>\n",
       "      <td>11.5</td>\n",
       "      <td>7.2</td>\n",
       "      <td>1.8</td>\n",
       "      <td>0.5</td>\n",
       "      <td>11.1</td>\n",
       "      <td>3.6</td>\n",
       "      <td>14.4</td>\n",
       "      <td>16.2</td>\n",
       "      <td>2.8</td>\n",
       "      <td>168.2</td>\n",
       "      <td>143.5</td>\n",
       "    </tr>\n",
       "    <tr>\n",
       "      <th>2020</th>\n",
       "      <td>11.5</td>\n",
       "      <td>6.9</td>\n",
       "      <td>1.4</td>\n",
       "      <td>0.4</td>\n",
       "      <td>10.0</td>\n",
       "      <td>2.9</td>\n",
       "      <td>11.1</td>\n",
       "      <td>32.0</td>\n",
       "      <td>2.7</td>\n",
       "      <td>164.5</td>\n",
       "      <td>143.4</td>\n",
       "    </tr>\n",
       "    <tr>\n",
       "      <th>2021</th>\n",
       "      <td>11.5</td>\n",
       "      <td>3.4</td>\n",
       "      <td>1.0</td>\n",
       "      <td>0.3</td>\n",
       "      <td>9.8</td>\n",
       "      <td>3.1</td>\n",
       "      <td>8.8</td>\n",
       "      <td>36.8</td>\n",
       "      <td>2.9</td>\n",
       "      <td>174.5</td>\n",
       "      <td>147.9</td>\n",
       "    </tr>\n",
       "    <tr>\n",
       "      <th>2022</th>\n",
       "      <td>11.5</td>\n",
       "      <td>3.3</td>\n",
       "      <td>0.8</td>\n",
       "      <td>0.2</td>\n",
       "      <td>9.3</td>\n",
       "      <td>2.1</td>\n",
       "      <td>7.1</td>\n",
       "      <td>37.6</td>\n",
       "      <td>2.8</td>\n",
       "      <td>178.1</td>\n",
       "      <td>151.8</td>\n",
       "    </tr>\n",
       "    <tr>\n",
       "      <th>2023</th>\n",
       "      <td>11.7</td>\n",
       "      <td>3.1</td>\n",
       "      <td>0.5</td>\n",
       "      <td>0.0</td>\n",
       "      <td>8.8</td>\n",
       "      <td>1.7</td>\n",
       "      <td>5.7</td>\n",
       "      <td>41.9</td>\n",
       "      <td>2.5</td>\n",
       "      <td>187.0</td>\n",
       "      <td>156.5</td>\n",
       "    </tr>\n",
       "    <tr>\n",
       "      <th>2024</th>\n",
       "      <td>12.2</td>\n",
       "      <td>2.4</td>\n",
       "      <td>0.4</td>\n",
       "      <td>0.3</td>\n",
       "      <td>8.0</td>\n",
       "      <td>1.4</td>\n",
       "      <td>4.2</td>\n",
       "      <td>48.0</td>\n",
       "      <td>2.4</td>\n",
       "      <td>195.9</td>\n",
       "      <td>161.0</td>\n",
       "    </tr>\n",
       "    <tr>\n",
       "      <th>2025</th>\n",
       "      <td>12.7</td>\n",
       "      <td>1.2</td>\n",
       "      <td>0.2</td>\n",
       "      <td>0.3</td>\n",
       "      <td>6.9</td>\n",
       "      <td>0.9</td>\n",
       "      <td>2.6</td>\n",
       "      <td>55.3</td>\n",
       "      <td>2.3</td>\n",
       "      <td>205.9</td>\n",
       "      <td>165.2</td>\n",
       "    </tr>\n",
       "    <tr>\n",
       "      <th rowspan=\"7\" valign=\"top\">UKMOD</th>\n",
       "      <th>2019</th>\n",
       "      <td>11.3</td>\n",
       "      <td>6.1</td>\n",
       "      <td></td>\n",
       "      <td></td>\n",
       "      <td>12.6</td>\n",
       "      <td>2.1</td>\n",
       "      <td>8.5</td>\n",
       "      <td>17.4</td>\n",
       "      <td>4.4</td>\n",
       "      <td>163.3</td>\n",
       "      <td>149.4</td>\n",
       "    </tr>\n",
       "    <tr>\n",
       "      <th>2020</th>\n",
       "      <td>11.5</td>\n",
       "      <td>5.5</td>\n",
       "      <td></td>\n",
       "      <td></td>\n",
       "      <td>12.3</td>\n",
       "      <td>2.4</td>\n",
       "      <td>7.8</td>\n",
       "      <td>26.4</td>\n",
       "      <td>4.6</td>\n",
       "      <td>159.2</td>\n",
       "      <td>140.8</td>\n",
       "    </tr>\n",
       "    <tr>\n",
       "      <th>2021</th>\n",
       "      <td>11.7</td>\n",
       "      <td>4.8</td>\n",
       "      <td></td>\n",
       "      <td></td>\n",
       "      <td>11.0</td>\n",
       "      <td>2.1</td>\n",
       "      <td>6.5</td>\n",
       "      <td>29.8</td>\n",
       "      <td>4.1</td>\n",
       "      <td>152.4</td>\n",
       "      <td>137.7</td>\n",
       "    </tr>\n",
       "    <tr>\n",
       "      <th>2022</th>\n",
       "      <td>12.0</td>\n",
       "      <td>4.2</td>\n",
       "      <td></td>\n",
       "      <td></td>\n",
       "      <td>10.3</td>\n",
       "      <td>1.6</td>\n",
       "      <td>5.4</td>\n",
       "      <td>34.1</td>\n",
       "      <td>4.2</td>\n",
       "      <td>161.2</td>\n",
       "      <td>156.0</td>\n",
       "    </tr>\n",
       "    <tr>\n",
       "      <th>2023</th>\n",
       "      <td>12.3</td>\n",
       "      <td>3.7</td>\n",
       "      <td></td>\n",
       "      <td></td>\n",
       "      <td>9.6</td>\n",
       "      <td>1.3</td>\n",
       "      <td>4.5</td>\n",
       "      <td>39.1</td>\n",
       "      <td>4.4</td>\n",
       "      <td>170.6</td>\n",
       "      <td>145.1</td>\n",
       "    </tr>\n",
       "    <tr>\n",
       "      <th>2024</th>\n",
       "      <td>12.5</td>\n",
       "      <td>2.7</td>\n",
       "      <td></td>\n",
       "      <td></td>\n",
       "      <td>8.5</td>\n",
       "      <td>0.9</td>\n",
       "      <td>3.3</td>\n",
       "      <td>39.1</td>\n",
       "      <td>4.5</td>\n",
       "      <td>178.5</td>\n",
       "      <td>147.9</td>\n",
       "    </tr>\n",
       "    <tr>\n",
       "      <th>2025</th>\n",
       "      <td>12.6</td>\n",
       "      <td>1.2</td>\n",
       "      <td></td>\n",
       "      <td></td>\n",
       "      <td>6.7</td>\n",
       "      <td>0.4</td>\n",
       "      <td>1.5</td>\n",
       "      <td>45.6</td>\n",
       "      <td>4.5</td>\n",
       "      <td>187.9</td>\n",
       "      <td>151.9</td>\n",
       "    </tr>\n",
       "  </tbody>\n",
       "</table>\n",
       "</div>"
      ],
      "text/plain": [
       "                   Child Benefit  ESA (income-based) Income Support  \\\n",
       "External     2019           11.1                 9.3            1.4   \n",
       "             2020           11.1                 8.8            1.1   \n",
       "             2021           11.0                 8.3            0.9   \n",
       "             2022           11.2                 8.2            0.7   \n",
       "             2023           11.5                 7.8            0.5   \n",
       "             2024           11.6                 6.4            0.5   \n",
       "             2025           11.6                 3.5            0.4   \n",
       "OpenFisca-UK 2019           11.5                 7.2            1.8   \n",
       "             2020           11.5                 6.9            1.4   \n",
       "             2021           11.5                 3.4            1.0   \n",
       "             2022           11.5                 3.3            0.8   \n",
       "             2023           11.7                 3.1            0.5   \n",
       "             2024           12.2                 2.4            0.4   \n",
       "             2025           12.7                 1.2            0.2   \n",
       "UKMOD        2019           11.3                 6.1                  \n",
       "             2020           11.5                 5.5                  \n",
       "             2021           11.7                 4.8                  \n",
       "             2022           12.0                 4.2                  \n",
       "             2023           12.3                 3.7                  \n",
       "             2024           12.5                 2.7                  \n",
       "             2025           12.6                 1.2                  \n",
       "\n",
       "                  JSA (income-based)  Housing Benefit  Working Tax Credit  \\\n",
       "External     2019                0.6             18.4                 3.8   \n",
       "             2020                0.4             17.3                 3.1   \n",
       "             2021                0.3             17.1                 2.2   \n",
       "             2022                0.2             15.9                 1.6   \n",
       "             2023                0.0             14.7                 1.2   \n",
       "             2024                0.0             12.5                 0.8   \n",
       "             2025                0.0             10.2                 0.4   \n",
       "OpenFisca-UK 2019                0.5             11.1                 3.6   \n",
       "             2020                0.4             10.0                 2.9   \n",
       "             2021                0.3              9.8                 3.1   \n",
       "             2022                0.2              9.3                 2.1   \n",
       "             2023                0.0              8.8                 1.7   \n",
       "             2024                0.3              8.0                 1.4   \n",
       "             2025                0.3              6.9                 0.9   \n",
       "UKMOD        2019                                12.6                 2.1   \n",
       "             2020                                12.3                 2.4   \n",
       "             2021                                11.0                 2.1   \n",
       "             2022                                10.3                 1.6   \n",
       "             2023                                 9.6                 1.3   \n",
       "             2024                                 8.5                 0.9   \n",
       "             2025                                 6.7                 0.4   \n",
       "\n",
       "                   Child Tax Credit  Universal Credit  Pension Credit  \\\n",
       "External     2019              13.9              18.4             5.1   \n",
       "             2020              11.4              38.3             5.1   \n",
       "             2021               8.1              41.1             5.0   \n",
       "             2022               6.0              43.7             4.5   \n",
       "             2023               4.5              49.8             4.4   \n",
       "             2024               3.0              57.8             4.4   \n",
       "             2025               1.3              68.0             4.2   \n",
       "OpenFisca-UK 2019              14.4              16.2             2.8   \n",
       "             2020              11.1              32.0             2.7   \n",
       "             2021               8.8              36.8             2.9   \n",
       "             2022               7.1              37.6             2.8   \n",
       "             2023               5.7              41.9             2.5   \n",
       "             2024               4.2              48.0             2.4   \n",
       "             2025               2.6              55.3             2.3   \n",
       "UKMOD        2019               8.5              17.4             4.4   \n",
       "             2020               7.8              26.4             4.6   \n",
       "             2021               6.5              29.8             4.1   \n",
       "             2022               5.4              34.1             4.2   \n",
       "             2023               4.5              39.1             4.4   \n",
       "             2024               3.3              39.1             4.5   \n",
       "             2025               1.5              45.6             4.5   \n",
       "\n",
       "                   Income Tax  National Insurance (total)  \n",
       "External     2019       193.6                       145.0  \n",
       "             2020       188.2                       140.8  \n",
       "             2021       203.6                       145.9  \n",
       "             2022       205.0                       151.3  \n",
       "             2023       215.0                       157.5  \n",
       "             2024       225.7                       164.6  \n",
       "             2025       237.5                       172.1  \n",
       "OpenFisca-UK 2019       168.2                       143.5  \n",
       "             2020       164.5                       143.4  \n",
       "             2021       174.5                       147.9  \n",
       "             2022       178.1                       151.8  \n",
       "             2023       187.0                       156.5  \n",
       "             2024       195.9                       161.0  \n",
       "             2025       205.9                       165.2  \n",
       "UKMOD        2019       163.3                       149.4  \n",
       "             2020       159.2                       140.8  \n",
       "             2021       152.4                       137.7  \n",
       "             2022       161.2                       156.0  \n",
       "             2023       170.6                       145.1  \n",
       "             2024       178.5                       147.9  \n",
       "             2025       187.9                       151.9  "
      ]
     },
     "execution_count": 2,
     "metadata": {},
     "output_type": "execute_result"
    }
   ],
   "source": [
    "model_validation_table(budgetary_impact, divisor=1e9, decimals=1)"
   ]
  },
  {
   "cell_type": "markdown",
   "id": "e07fb9b7-62dc-40e8-a861-cff08438a545",
   "metadata": {},
   "source": [
    "### Differences\n",
    "\n",
    "#### Absolute"
   ]
  },
  {
   "cell_type": "code",
   "execution_count": 3,
   "id": "df0bef66-16e4-4a54-b912-eff54b827ba4",
   "metadata": {},
   "outputs": [
    {
     "data": {
      "text/html": [
       "<div>\n",
       "<style scoped>\n",
       "    .dataframe tbody tr th:only-of-type {\n",
       "        vertical-align: middle;\n",
       "    }\n",
       "\n",
       "    .dataframe tbody tr th {\n",
       "        vertical-align: top;\n",
       "    }\n",
       "\n",
       "    .dataframe thead th {\n",
       "        text-align: right;\n",
       "    }\n",
       "</style>\n",
       "<table border=\"1\" class=\"dataframe\">\n",
       "  <thead>\n",
       "    <tr style=\"text-align: right;\">\n",
       "      <th></th>\n",
       "      <th></th>\n",
       "      <th>Child Benefit</th>\n",
       "      <th>ESA (income-based)</th>\n",
       "      <th>Income Support</th>\n",
       "      <th>JSA (income-based)</th>\n",
       "      <th>Housing Benefit</th>\n",
       "      <th>Working Tax Credit</th>\n",
       "      <th>Child Tax Credit</th>\n",
       "      <th>Universal Credit</th>\n",
       "      <th>Pension Credit</th>\n",
       "      <th>Income Tax</th>\n",
       "      <th>National Insurance (total)</th>\n",
       "    </tr>\n",
       "  </thead>\n",
       "  <tbody>\n",
       "    <tr>\n",
       "      <th rowspan=\"7\" valign=\"top\">OpenFisca-UK</th>\n",
       "      <th>2019</th>\n",
       "      <td>0.4</td>\n",
       "      <td>-2.1</td>\n",
       "      <td>0.4</td>\n",
       "      <td>-0.1</td>\n",
       "      <td>-7.3</td>\n",
       "      <td>-0.2</td>\n",
       "      <td>0.6</td>\n",
       "      <td>-2.2</td>\n",
       "      <td>-2.2</td>\n",
       "      <td>-25.4</td>\n",
       "      <td>-1.5</td>\n",
       "    </tr>\n",
       "    <tr>\n",
       "      <th>2020</th>\n",
       "      <td>0.4</td>\n",
       "      <td>-1.9</td>\n",
       "      <td>0.3</td>\n",
       "      <td>-0.1</td>\n",
       "      <td>-7.4</td>\n",
       "      <td>-0.2</td>\n",
       "      <td>-0.3</td>\n",
       "      <td>-6.3</td>\n",
       "      <td>-2.3</td>\n",
       "      <td>-23.7</td>\n",
       "      <td>2.6</td>\n",
       "    </tr>\n",
       "    <tr>\n",
       "      <th>2021</th>\n",
       "      <td>0.5</td>\n",
       "      <td>-4.9</td>\n",
       "      <td>0.2</td>\n",
       "      <td>0.0</td>\n",
       "      <td>-7.3</td>\n",
       "      <td>0.8</td>\n",
       "      <td>0.7</td>\n",
       "      <td>-4.3</td>\n",
       "      <td>-2.1</td>\n",
       "      <td>-29.1</td>\n",
       "      <td>2.0</td>\n",
       "    </tr>\n",
       "    <tr>\n",
       "      <th>2022</th>\n",
       "      <td>0.3</td>\n",
       "      <td>-5.0</td>\n",
       "      <td>0.1</td>\n",
       "      <td>0.0</td>\n",
       "      <td>-6.6</td>\n",
       "      <td>0.4</td>\n",
       "      <td>1.1</td>\n",
       "      <td>-6.0</td>\n",
       "      <td>-1.7</td>\n",
       "      <td>-26.9</td>\n",
       "      <td>0.5</td>\n",
       "    </tr>\n",
       "    <tr>\n",
       "      <th>2023</th>\n",
       "      <td>0.1</td>\n",
       "      <td>-4.8</td>\n",
       "      <td>0.1</td>\n",
       "      <td>-0.0</td>\n",
       "      <td>-6.0</td>\n",
       "      <td>0.5</td>\n",
       "      <td>1.2</td>\n",
       "      <td>-7.8</td>\n",
       "      <td>-1.9</td>\n",
       "      <td>-28.0</td>\n",
       "      <td>-1.0</td>\n",
       "    </tr>\n",
       "    <tr>\n",
       "      <th>2024</th>\n",
       "      <td>0.5</td>\n",
       "      <td>-4.0</td>\n",
       "      <td>-0.1</td>\n",
       "      <td>0.3</td>\n",
       "      <td>-4.5</td>\n",
       "      <td>0.6</td>\n",
       "      <td>1.3</td>\n",
       "      <td>-9.7</td>\n",
       "      <td>-1.9</td>\n",
       "      <td>-29.8</td>\n",
       "      <td>-3.6</td>\n",
       "    </tr>\n",
       "    <tr>\n",
       "      <th>2025</th>\n",
       "      <td>1.1</td>\n",
       "      <td>-2.3</td>\n",
       "      <td>-0.2</td>\n",
       "      <td>0.3</td>\n",
       "      <td>-3.3</td>\n",
       "      <td>0.5</td>\n",
       "      <td>1.3</td>\n",
       "      <td>-12.6</td>\n",
       "      <td>-1.9</td>\n",
       "      <td>-31.6</td>\n",
       "      <td>-6.9</td>\n",
       "    </tr>\n",
       "    <tr>\n",
       "      <th rowspan=\"7\" valign=\"top\">UKMOD</th>\n",
       "      <th>2019</th>\n",
       "      <td>0.3</td>\n",
       "      <td>-3.2</td>\n",
       "      <td></td>\n",
       "      <td></td>\n",
       "      <td>-5.8</td>\n",
       "      <td>-1.7</td>\n",
       "      <td>-5.4</td>\n",
       "      <td>-1.0</td>\n",
       "      <td>-0.6</td>\n",
       "      <td>-30.3</td>\n",
       "      <td>4.4</td>\n",
       "    </tr>\n",
       "    <tr>\n",
       "      <th>2020</th>\n",
       "      <td>0.4</td>\n",
       "      <td>-3.3</td>\n",
       "      <td></td>\n",
       "      <td></td>\n",
       "      <td>-5.0</td>\n",
       "      <td>-0.7</td>\n",
       "      <td>-3.6</td>\n",
       "      <td>-11.9</td>\n",
       "      <td>-0.5</td>\n",
       "      <td>-29.0</td>\n",
       "      <td>0.0</td>\n",
       "    </tr>\n",
       "    <tr>\n",
       "      <th>2021</th>\n",
       "      <td>0.7</td>\n",
       "      <td>-3.5</td>\n",
       "      <td></td>\n",
       "      <td></td>\n",
       "      <td>-6.2</td>\n",
       "      <td>-0.1</td>\n",
       "      <td>-1.6</td>\n",
       "      <td>-11.3</td>\n",
       "      <td>-0.9</td>\n",
       "      <td>-51.2</td>\n",
       "      <td>-8.2</td>\n",
       "    </tr>\n",
       "    <tr>\n",
       "      <th>2022</th>\n",
       "      <td>0.8</td>\n",
       "      <td>-4.0</td>\n",
       "      <td></td>\n",
       "      <td></td>\n",
       "      <td>-5.6</td>\n",
       "      <td>-0.1</td>\n",
       "      <td>-0.6</td>\n",
       "      <td>-9.6</td>\n",
       "      <td>-0.3</td>\n",
       "      <td>-43.8</td>\n",
       "      <td>4.7</td>\n",
       "    </tr>\n",
       "    <tr>\n",
       "      <th>2023</th>\n",
       "      <td>0.8</td>\n",
       "      <td>-4.2</td>\n",
       "      <td></td>\n",
       "      <td></td>\n",
       "      <td>-5.1</td>\n",
       "      <td>0.1</td>\n",
       "      <td>0.1</td>\n",
       "      <td>-10.6</td>\n",
       "      <td>-0.0</td>\n",
       "      <td>-44.4</td>\n",
       "      <td>-12.4</td>\n",
       "    </tr>\n",
       "    <tr>\n",
       "      <th>2024</th>\n",
       "      <td>0.9</td>\n",
       "      <td>-3.7</td>\n",
       "      <td></td>\n",
       "      <td></td>\n",
       "      <td>-4.0</td>\n",
       "      <td>0.1</td>\n",
       "      <td>0.3</td>\n",
       "      <td>-18.6</td>\n",
       "      <td>0.1</td>\n",
       "      <td>-47.2</td>\n",
       "      <td>-16.7</td>\n",
       "    </tr>\n",
       "    <tr>\n",
       "      <th>2025</th>\n",
       "      <td>1.0</td>\n",
       "      <td>-2.3</td>\n",
       "      <td></td>\n",
       "      <td></td>\n",
       "      <td>-3.5</td>\n",
       "      <td>0.1</td>\n",
       "      <td>0.1</td>\n",
       "      <td>-22.3</td>\n",
       "      <td>0.2</td>\n",
       "      <td>-49.6</td>\n",
       "      <td>-20.2</td>\n",
       "    </tr>\n",
       "  </tbody>\n",
       "</table>\n",
       "</div>"
      ],
      "text/plain": [
       "                   Child Benefit  ESA (income-based) Income Support  \\\n",
       "OpenFisca-UK 2019            0.4                -2.1            0.4   \n",
       "             2020            0.4                -1.9            0.3   \n",
       "             2021            0.5                -4.9            0.2   \n",
       "             2022            0.3                -5.0            0.1   \n",
       "             2023            0.1                -4.8            0.1   \n",
       "             2024            0.5                -4.0           -0.1   \n",
       "             2025            1.1                -2.3           -0.2   \n",
       "UKMOD        2019            0.3                -3.2                  \n",
       "             2020            0.4                -3.3                  \n",
       "             2021            0.7                -3.5                  \n",
       "             2022            0.8                -4.0                  \n",
       "             2023            0.8                -4.2                  \n",
       "             2024            0.9                -3.7                  \n",
       "             2025            1.0                -2.3                  \n",
       "\n",
       "                  JSA (income-based)  Housing Benefit  Working Tax Credit  \\\n",
       "OpenFisca-UK 2019               -0.1             -7.3                -0.2   \n",
       "             2020               -0.1             -7.4                -0.2   \n",
       "             2021                0.0             -7.3                 0.8   \n",
       "             2022                0.0             -6.6                 0.4   \n",
       "             2023               -0.0             -6.0                 0.5   \n",
       "             2024                0.3             -4.5                 0.6   \n",
       "             2025                0.3             -3.3                 0.5   \n",
       "UKMOD        2019                                -5.8                -1.7   \n",
       "             2020                                -5.0                -0.7   \n",
       "             2021                                -6.2                -0.1   \n",
       "             2022                                -5.6                -0.1   \n",
       "             2023                                -5.1                 0.1   \n",
       "             2024                                -4.0                 0.1   \n",
       "             2025                                -3.5                 0.1   \n",
       "\n",
       "                   Child Tax Credit  Universal Credit  Pension Credit  \\\n",
       "OpenFisca-UK 2019               0.6              -2.2            -2.2   \n",
       "             2020              -0.3              -6.3            -2.3   \n",
       "             2021               0.7              -4.3            -2.1   \n",
       "             2022               1.1              -6.0            -1.7   \n",
       "             2023               1.2              -7.8            -1.9   \n",
       "             2024               1.3              -9.7            -1.9   \n",
       "             2025               1.3             -12.6            -1.9   \n",
       "UKMOD        2019              -5.4              -1.0            -0.6   \n",
       "             2020              -3.6             -11.9            -0.5   \n",
       "             2021              -1.6             -11.3            -0.9   \n",
       "             2022              -0.6              -9.6            -0.3   \n",
       "             2023               0.1             -10.6            -0.0   \n",
       "             2024               0.3             -18.6             0.1   \n",
       "             2025               0.1             -22.3             0.2   \n",
       "\n",
       "                   Income Tax  National Insurance (total)  \n",
       "OpenFisca-UK 2019       -25.4                        -1.5  \n",
       "             2020       -23.7                         2.6  \n",
       "             2021       -29.1                         2.0  \n",
       "             2022       -26.9                         0.5  \n",
       "             2023       -28.0                        -1.0  \n",
       "             2024       -29.8                        -3.6  \n",
       "             2025       -31.6                        -6.9  \n",
       "UKMOD        2019       -30.3                         4.4  \n",
       "             2020       -29.0                         0.0  \n",
       "             2021       -51.2                        -8.2  \n",
       "             2022       -43.8                         4.7  \n",
       "             2023       -44.4                       -12.4  \n",
       "             2024       -47.2                       -16.7  \n",
       "             2025       -49.6                       -20.2  "
      ]
     },
     "execution_count": 3,
     "metadata": {},
     "output_type": "execute_result"
    }
   ],
   "source": [
    "def budgetary_impact_error(model, year, variable):\n",
    "    try:\n",
    "        if model == OPENFISCA_UK:\n",
    "            return sim.calc(variable, map_to=\"household\", period=year).sum() - budgetary_impact(EXTERNAL, year, variable)\n",
    "        elif model == UKMOD:\n",
    "            return getattr(ukmod_statistics.ukmod.budgetary_impact, variable)(f\"{year}-01-01\") - budgetary_impact(EXTERNAL, year, variable)\n",
    "    except:\n",
    "        return np.nan\n",
    "\n",
    "model_validation_table(budgetary_impact_error, models=[OPENFISCA_UK, UKMOD], divisor=1e9, decimals=1)"
   ]
  },
  {
   "cell_type": "markdown",
   "id": "3faf63e8-f932-49df-9329-fa772cb33837",
   "metadata": {},
   "source": [
    "#### Relative"
   ]
  },
  {
   "cell_type": "code",
   "execution_count": 4,
   "id": "bfd19045-2851-47aa-861e-3f10d972b522",
   "metadata": {},
   "outputs": [
    {
     "data": {
      "text/html": [
       "<div>\n",
       "<style scoped>\n",
       "    .dataframe tbody tr th:only-of-type {\n",
       "        vertical-align: middle;\n",
       "    }\n",
       "\n",
       "    .dataframe tbody tr th {\n",
       "        vertical-align: top;\n",
       "    }\n",
       "\n",
       "    .dataframe thead th {\n",
       "        text-align: right;\n",
       "    }\n",
       "</style>\n",
       "<table border=\"1\" class=\"dataframe\">\n",
       "  <thead>\n",
       "    <tr style=\"text-align: right;\">\n",
       "      <th></th>\n",
       "      <th></th>\n",
       "      <th>Child Benefit</th>\n",
       "      <th>ESA (income-based)</th>\n",
       "      <th>Income Support</th>\n",
       "      <th>JSA (income-based)</th>\n",
       "      <th>Housing Benefit</th>\n",
       "      <th>Working Tax Credit</th>\n",
       "      <th>Child Tax Credit</th>\n",
       "      <th>Universal Credit</th>\n",
       "      <th>Pension Credit</th>\n",
       "      <th>Income Tax</th>\n",
       "      <th>National Insurance (total)</th>\n",
       "    </tr>\n",
       "  </thead>\n",
       "  <tbody>\n",
       "    <tr>\n",
       "      <th rowspan=\"7\" valign=\"top\">OpenFisca-UK</th>\n",
       "      <th>2019</th>\n",
       "      <td>3.4</td>\n",
       "      <td>-22.7</td>\n",
       "      <td>29.6</td>\n",
       "      <td>-20.9</td>\n",
       "      <td>-39.5</td>\n",
       "      <td>-5.2</td>\n",
       "      <td>4.1</td>\n",
       "      <td>-11.9</td>\n",
       "      <td>-43.8</td>\n",
       "      <td>-13.1</td>\n",
       "      <td>-1.0</td>\n",
       "    </tr>\n",
       "    <tr>\n",
       "      <th>2020</th>\n",
       "      <td>3.7</td>\n",
       "      <td>-21.7</td>\n",
       "      <td>25.6</td>\n",
       "      <td>-15.0</td>\n",
       "      <td>-42.6</td>\n",
       "      <td>-6.0</td>\n",
       "      <td>-2.9</td>\n",
       "      <td>-16.5</td>\n",
       "      <td>-46.0</td>\n",
       "      <td>-12.6</td>\n",
       "      <td>1.9</td>\n",
       "    </tr>\n",
       "    <tr>\n",
       "      <th>2021</th>\n",
       "      <td>5.0</td>\n",
       "      <td>-58.8</td>\n",
       "      <td>22.9</td>\n",
       "      <td>1.5</td>\n",
       "      <td>-42.7</td>\n",
       "      <td>37.5</td>\n",
       "      <td>8.3</td>\n",
       "      <td>-10.4</td>\n",
       "      <td>-41.6</td>\n",
       "      <td>-14.3</td>\n",
       "      <td>1.4</td>\n",
       "    </tr>\n",
       "    <tr>\n",
       "      <th>2022</th>\n",
       "      <td>2.3</td>\n",
       "      <td>-60.3</td>\n",
       "      <td>12.7</td>\n",
       "      <td>2.9</td>\n",
       "      <td>-41.4</td>\n",
       "      <td>25.3</td>\n",
       "      <td>18.1</td>\n",
       "      <td>-13.8</td>\n",
       "      <td>-38.0</td>\n",
       "      <td>-13.1</td>\n",
       "      <td>0.3</td>\n",
       "    </tr>\n",
       "    <tr>\n",
       "      <th>2023</th>\n",
       "      <td>1.2</td>\n",
       "      <td>-60.8</td>\n",
       "      <td>10.4</td>\n",
       "      <td>-100.0</td>\n",
       "      <td>-40.6</td>\n",
       "      <td>41.1</td>\n",
       "      <td>25.8</td>\n",
       "      <td>-15.7</td>\n",
       "      <td>-43.2</td>\n",
       "      <td>-13.0</td>\n",
       "      <td>-0.6</td>\n",
       "    </tr>\n",
       "    <tr>\n",
       "      <th>2024</th>\n",
       "      <td>4.6</td>\n",
       "      <td>-62.1</td>\n",
       "      <td>-12.7</td>\n",
       "      <td>inf</td>\n",
       "      <td>-36.1</td>\n",
       "      <td>69.7</td>\n",
       "      <td>43.3</td>\n",
       "      <td>-16.9</td>\n",
       "      <td>-44.2</td>\n",
       "      <td>-13.2</td>\n",
       "      <td>-2.2</td>\n",
       "    </tr>\n",
       "    <tr>\n",
       "      <th>2025</th>\n",
       "      <td>9.6</td>\n",
       "      <td>-64.7</td>\n",
       "      <td>-44.7</td>\n",
       "      <td>inf</td>\n",
       "      <td>-32.5</td>\n",
       "      <td>144.9</td>\n",
       "      <td>95.6</td>\n",
       "      <td>-18.6</td>\n",
       "      <td>-44.6</td>\n",
       "      <td>-13.3</td>\n",
       "      <td>-4.0</td>\n",
       "    </tr>\n",
       "    <tr>\n",
       "      <th rowspan=\"7\" valign=\"top\">UKMOD</th>\n",
       "      <th>2019</th>\n",
       "      <td>2.3</td>\n",
       "      <td>-34.2</td>\n",
       "      <td></td>\n",
       "      <td></td>\n",
       "      <td>-31.7</td>\n",
       "      <td>-44.1</td>\n",
       "      <td>-39.1</td>\n",
       "      <td>-5.3</td>\n",
       "      <td>-12.2</td>\n",
       "      <td>-15.7</td>\n",
       "      <td>3.0</td>\n",
       "    </tr>\n",
       "    <tr>\n",
       "      <th>2020</th>\n",
       "      <td>3.8</td>\n",
       "      <td>-37.4</td>\n",
       "      <td></td>\n",
       "      <td></td>\n",
       "      <td>-28.9</td>\n",
       "      <td>-23.2</td>\n",
       "      <td>-31.9</td>\n",
       "      <td>-31.0</td>\n",
       "      <td>-10.2</td>\n",
       "      <td>-15.4</td>\n",
       "      <td>0.0</td>\n",
       "    </tr>\n",
       "    <tr>\n",
       "      <th>2021</th>\n",
       "      <td>6.6</td>\n",
       "      <td>-42.2</td>\n",
       "      <td></td>\n",
       "      <td></td>\n",
       "      <td>-36.0</td>\n",
       "      <td>-5.4</td>\n",
       "      <td>-19.2</td>\n",
       "      <td>-27.4</td>\n",
       "      <td>-18.4</td>\n",
       "      <td>-25.1</td>\n",
       "      <td>-5.6</td>\n",
       "    </tr>\n",
       "    <tr>\n",
       "      <th>2022</th>\n",
       "      <td>6.7</td>\n",
       "      <td>-48.8</td>\n",
       "      <td></td>\n",
       "      <td></td>\n",
       "      <td>-35.0</td>\n",
       "      <td>-4.3</td>\n",
       "      <td>-10.2</td>\n",
       "      <td>-22.0</td>\n",
       "      <td>-7.0</td>\n",
       "      <td>-21.4</td>\n",
       "      <td>3.1</td>\n",
       "    </tr>\n",
       "    <tr>\n",
       "      <th>2023</th>\n",
       "      <td>6.8</td>\n",
       "      <td>-53.2</td>\n",
       "      <td></td>\n",
       "      <td></td>\n",
       "      <td>-34.7</td>\n",
       "      <td>6.5</td>\n",
       "      <td>1.1</td>\n",
       "      <td>-21.3</td>\n",
       "      <td>-0.8</td>\n",
       "      <td>-20.6</td>\n",
       "      <td>-7.9</td>\n",
       "    </tr>\n",
       "    <tr>\n",
       "      <th>2024</th>\n",
       "      <td>7.9</td>\n",
       "      <td>-57.9</td>\n",
       "      <td></td>\n",
       "      <td></td>\n",
       "      <td>-32.2</td>\n",
       "      <td>10.2</td>\n",
       "      <td>11.4</td>\n",
       "      <td>-32.3</td>\n",
       "      <td>2.6</td>\n",
       "      <td>-20.9</td>\n",
       "      <td>-10.2</td>\n",
       "    </tr>\n",
       "    <tr>\n",
       "      <th>2025</th>\n",
       "      <td>8.2</td>\n",
       "      <td>-65.1</td>\n",
       "      <td></td>\n",
       "      <td></td>\n",
       "      <td>-34.3</td>\n",
       "      <td>14.6</td>\n",
       "      <td>9.1</td>\n",
       "      <td>-32.8</td>\n",
       "      <td>5.8</td>\n",
       "      <td>-20.9</td>\n",
       "      <td>-11.8</td>\n",
       "    </tr>\n",
       "  </tbody>\n",
       "</table>\n",
       "</div>"
      ],
      "text/plain": [
       "                   Child Benefit  ESA (income-based) Income Support  \\\n",
       "OpenFisca-UK 2019            3.4               -22.7           29.6   \n",
       "             2020            3.7               -21.7           25.6   \n",
       "             2021            5.0               -58.8           22.9   \n",
       "             2022            2.3               -60.3           12.7   \n",
       "             2023            1.2               -60.8           10.4   \n",
       "             2024            4.6               -62.1          -12.7   \n",
       "             2025            9.6               -64.7          -44.7   \n",
       "UKMOD        2019            2.3               -34.2                  \n",
       "             2020            3.8               -37.4                  \n",
       "             2021            6.6               -42.2                  \n",
       "             2022            6.7               -48.8                  \n",
       "             2023            6.8               -53.2                  \n",
       "             2024            7.9               -57.9                  \n",
       "             2025            8.2               -65.1                  \n",
       "\n",
       "                  JSA (income-based)  Housing Benefit  Working Tax Credit  \\\n",
       "OpenFisca-UK 2019              -20.9            -39.5                -5.2   \n",
       "             2020              -15.0            -42.6                -6.0   \n",
       "             2021                1.5            -42.7                37.5   \n",
       "             2022                2.9            -41.4                25.3   \n",
       "             2023             -100.0            -40.6                41.1   \n",
       "             2024                inf            -36.1                69.7   \n",
       "             2025                inf            -32.5               144.9   \n",
       "UKMOD        2019                               -31.7               -44.1   \n",
       "             2020                               -28.9               -23.2   \n",
       "             2021                               -36.0                -5.4   \n",
       "             2022                               -35.0                -4.3   \n",
       "             2023                               -34.7                 6.5   \n",
       "             2024                               -32.2                10.2   \n",
       "             2025                               -34.3                14.6   \n",
       "\n",
       "                   Child Tax Credit  Universal Credit  Pension Credit  \\\n",
       "OpenFisca-UK 2019               4.1             -11.9           -43.8   \n",
       "             2020              -2.9             -16.5           -46.0   \n",
       "             2021               8.3             -10.4           -41.6   \n",
       "             2022              18.1             -13.8           -38.0   \n",
       "             2023              25.8             -15.7           -43.2   \n",
       "             2024              43.3             -16.9           -44.2   \n",
       "             2025              95.6             -18.6           -44.6   \n",
       "UKMOD        2019             -39.1              -5.3           -12.2   \n",
       "             2020             -31.9             -31.0           -10.2   \n",
       "             2021             -19.2             -27.4           -18.4   \n",
       "             2022             -10.2             -22.0            -7.0   \n",
       "             2023               1.1             -21.3            -0.8   \n",
       "             2024              11.4             -32.3             2.6   \n",
       "             2025               9.1             -32.8             5.8   \n",
       "\n",
       "                   Income Tax  National Insurance (total)  \n",
       "OpenFisca-UK 2019       -13.1                        -1.0  \n",
       "             2020       -12.6                         1.9  \n",
       "             2021       -14.3                         1.4  \n",
       "             2022       -13.1                         0.3  \n",
       "             2023       -13.0                        -0.6  \n",
       "             2024       -13.2                        -2.2  \n",
       "             2025       -13.3                        -4.0  \n",
       "UKMOD        2019       -15.7                         3.0  \n",
       "             2020       -15.4                         0.0  \n",
       "             2021       -25.1                        -5.6  \n",
       "             2022       -21.4                         3.1  \n",
       "             2023       -20.6                        -7.9  \n",
       "             2024       -20.9                       -10.2  \n",
       "             2025       -20.9                       -11.8  "
      ]
     },
     "execution_count": 4,
     "metadata": {},
     "output_type": "execute_result"
    }
   ],
   "source": [
    "def relative_budgetary_impact_error(model, year, variable):\n",
    "    try:\n",
    "        if model == OPENFISCA_UK:\n",
    "            return sim.calc(variable, map_to=\"household\", period=year).sum() / budgetary_impact(EXTERNAL, year, variable) - 1\n",
    "        elif model == UKMOD:\n",
    "            return getattr(ukmod_statistics.ukmod.budgetary_impact, variable)(f\"{year}-01-01\") / budgetary_impact(EXTERNAL, year, variable) - 1\n",
    "    except:\n",
    "        return np.nan\n",
    "\n",
    "model_validation_table(relative_budgetary_impact_error, models=[OPENFISCA_UK, UKMOD], divisor=1e-2, decimals=1)"
   ]
  },
  {
   "cell_type": "code",
   "execution_count": 18,
   "id": "fb725740-888f-477b-9aa4-dca99796cd20",
   "metadata": {},
   "outputs": [
    {
     "data": {
      "application/vnd.plotly.v1+json": {
       "config": {
        "plotlyServerURL": "https://plot.ly"
       },
       "data": [
        {
         "alignmentgroup": "True",
         "customdata": [
          [
           143.5,
           149.4,
           145,
           2019,
           "National Insurance (total)"
          ],
          [
           11.5,
           11.3,
           11.1,
           2019,
           "Child Benefit"
          ],
          [
           14.4,
           8.5,
           13.9,
           2019,
           "Child Tax Credit"
          ],
          [
           3.6,
           2.1,
           3.8,
           2019,
           "Working Tax Credit"
          ],
          [
           16.2,
           17.4,
           18.4,
           2019,
           "Universal Credit"
          ],
          [
           168.2,
           163.3,
           193.6,
           2019,
           "Income Tax"
          ],
          [
           7.2,
           6.1,
           9.3,
           2019,
           "ESA (income-based)"
          ],
          [
           11.1,
           12.6,
           18.4,
           2019,
           "Housing Benefit"
          ],
          [
           2.8,
           4.4,
           5.1,
           2019,
           "Pension Credit"
          ]
         ],
         "hovertemplate": "<b>%{customdata[4]} in %{customdata[3]}</b><br>Error: %{x}<br>Official: £%{customdata[2]}bn<br>OpenFisca-UK: £%{customdata[0]}bn<br>UKMOD: £%{customdata[1]}bn",
         "legendgroup": "OpenFisca-UK",
         "marker": {
          "color": "blue",
          "pattern": {
           "shape": ""
          }
         },
         "name": "OpenFisca-UK",
         "offsetgroup": "OpenFisca-UK",
         "orientation": "h",
         "showlegend": true,
         "textposition": "auto",
         "type": "bar",
         "x": [
          0.01,
          0.034,
          0.040999999999999995,
          0.052000000000000005,
          0.11900000000000001,
          0.131,
          0.22699999999999998,
          0.395,
          0.43799999999999994
         ],
         "xaxis": "x",
         "y": [
          "National Insurance (total)",
          "Child Benefit",
          "Child Tax Credit",
          "Working Tax Credit",
          "Universal Credit",
          "Income Tax",
          "ESA (income-based)",
          "Housing Benefit",
          "Pension Credit"
         ],
         "yaxis": "y"
        },
        {
         "alignmentgroup": "True",
         "customdata": [
          [
           143.5,
           149.4,
           145,
           2019,
           "National Insurance (total)"
          ],
          [
           11.5,
           11.3,
           11.1,
           2019,
           "Child Benefit"
          ],
          [
           14.4,
           8.5,
           13.9,
           2019,
           "Child Tax Credit"
          ],
          [
           3.6,
           2.1,
           3.8,
           2019,
           "Working Tax Credit"
          ],
          [
           16.2,
           17.4,
           18.4,
           2019,
           "Universal Credit"
          ],
          [
           168.2,
           163.3,
           193.6,
           2019,
           "Income Tax"
          ],
          [
           7.2,
           6.1,
           9.3,
           2019,
           "ESA (income-based)"
          ],
          [
           11.1,
           12.6,
           18.4,
           2019,
           "Housing Benefit"
          ],
          [
           2.8,
           4.4,
           5.1,
           2019,
           "Pension Credit"
          ]
         ],
         "hovertemplate": "<b>%{customdata[4]} in %{customdata[3]}</b><br>Error: %{x}<br>Official: £%{customdata[2]}bn<br>OpenFisca-UK: £%{customdata[0]}bn<br>UKMOD: £%{customdata[1]}bn",
         "legendgroup": "UKMOD",
         "marker": {
          "color": "lightgrey",
          "pattern": {
           "shape": ""
          }
         },
         "name": "UKMOD",
         "offsetgroup": "UKMOD",
         "orientation": "h",
         "showlegend": true,
         "textposition": "auto",
         "type": "bar",
         "x": [
          0.03,
          0.023,
          0.391,
          0.441,
          0.053,
          0.157,
          0.342,
          0.317,
          0.122
         ],
         "xaxis": "x",
         "y": [
          "National Insurance (total)",
          "Child Benefit",
          "Child Tax Credit",
          "Working Tax Credit",
          "Universal Credit",
          "Income Tax",
          "ESA (income-based)",
          "Housing Benefit",
          "Pension Credit"
         ],
         "yaxis": "y"
        }
       ],
       "frames": [
        {
         "data": [
          {
           "alignmentgroup": "True",
           "customdata": [
            [
             143.5,
             149.4,
             145,
             2019,
             "National Insurance (total)"
            ],
            [
             11.5,
             11.3,
             11.1,
             2019,
             "Child Benefit"
            ],
            [
             14.4,
             8.5,
             13.9,
             2019,
             "Child Tax Credit"
            ],
            [
             3.6,
             2.1,
             3.8,
             2019,
             "Working Tax Credit"
            ],
            [
             16.2,
             17.4,
             18.4,
             2019,
             "Universal Credit"
            ],
            [
             168.2,
             163.3,
             193.6,
             2019,
             "Income Tax"
            ],
            [
             7.2,
             6.1,
             9.3,
             2019,
             "ESA (income-based)"
            ],
            [
             11.1,
             12.6,
             18.4,
             2019,
             "Housing Benefit"
            ],
            [
             2.8,
             4.4,
             5.1,
             2019,
             "Pension Credit"
            ]
           ],
           "hovertemplate": "<b>%{customdata[4]} in %{customdata[3]}</b><br>Error: %{x}<br>Official: £%{customdata[2]}bn<br>OpenFisca-UK: £%{customdata[0]}bn<br>UKMOD: £%{customdata[1]}bn",
           "legendgroup": "OpenFisca-UK",
           "marker": {
            "color": "blue",
            "pattern": {
             "shape": ""
            }
           },
           "name": "OpenFisca-UK",
           "offsetgroup": "OpenFisca-UK",
           "orientation": "h",
           "showlegend": true,
           "textposition": "auto",
           "type": "bar",
           "x": [
            0.01,
            0.034,
            0.040999999999999995,
            0.052000000000000005,
            0.11900000000000001,
            0.131,
            0.22699999999999998,
            0.395,
            0.43799999999999994
           ],
           "xaxis": "x",
           "y": [
            "National Insurance (total)",
            "Child Benefit",
            "Child Tax Credit",
            "Working Tax Credit",
            "Universal Credit",
            "Income Tax",
            "ESA (income-based)",
            "Housing Benefit",
            "Pension Credit"
           ],
           "yaxis": "y"
          },
          {
           "alignmentgroup": "True",
           "customdata": [
            [
             143.5,
             149.4,
             145,
             2019,
             "National Insurance (total)"
            ],
            [
             11.5,
             11.3,
             11.1,
             2019,
             "Child Benefit"
            ],
            [
             14.4,
             8.5,
             13.9,
             2019,
             "Child Tax Credit"
            ],
            [
             3.6,
             2.1,
             3.8,
             2019,
             "Working Tax Credit"
            ],
            [
             16.2,
             17.4,
             18.4,
             2019,
             "Universal Credit"
            ],
            [
             168.2,
             163.3,
             193.6,
             2019,
             "Income Tax"
            ],
            [
             7.2,
             6.1,
             9.3,
             2019,
             "ESA (income-based)"
            ],
            [
             11.1,
             12.6,
             18.4,
             2019,
             "Housing Benefit"
            ],
            [
             2.8,
             4.4,
             5.1,
             2019,
             "Pension Credit"
            ]
           ],
           "hovertemplate": "<b>%{customdata[4]} in %{customdata[3]}</b><br>Error: %{x}<br>Official: £%{customdata[2]}bn<br>OpenFisca-UK: £%{customdata[0]}bn<br>UKMOD: £%{customdata[1]}bn",
           "legendgroup": "UKMOD",
           "marker": {
            "color": "lightgrey",
            "pattern": {
             "shape": ""
            }
           },
           "name": "UKMOD",
           "offsetgroup": "UKMOD",
           "orientation": "h",
           "showlegend": true,
           "textposition": "auto",
           "type": "bar",
           "x": [
            0.03,
            0.023,
            0.391,
            0.441,
            0.053,
            0.157,
            0.342,
            0.317,
            0.122
           ],
           "xaxis": "x",
           "y": [
            "National Insurance (total)",
            "Child Benefit",
            "Child Tax Credit",
            "Working Tax Credit",
            "Universal Credit",
            "Income Tax",
            "ESA (income-based)",
            "Housing Benefit",
            "Pension Credit"
           ],
           "yaxis": "y"
          }
         ],
         "name": "2019"
        },
        {
         "data": [
          {
           "alignmentgroup": "True",
           "customdata": [
            [
             143.4,
             140.8,
             140.8,
             2020,
             "National Insurance (total)"
            ],
            [
             11.1,
             7.8,
             11.4,
             2020,
             "Child Tax Credit"
            ],
            [
             11.5,
             11.5,
             11.1,
             2020,
             "Child Benefit"
            ],
            [
             2.9,
             2.4,
             3.1,
             2020,
             "Working Tax Credit"
            ],
            [
             164.5,
             159.2,
             188.2,
             2020,
             "Income Tax"
            ],
            [
             32,
             26.4,
             38.3,
             2020,
             "Universal Credit"
            ],
            [
             6.9,
             5.5,
             8.8,
             2020,
             "ESA (income-based)"
            ],
            [
             10,
             12.3,
             17.3,
             2020,
             "Housing Benefit"
            ],
            [
             2.7,
             4.6,
             5.1,
             2020,
             "Pension Credit"
            ]
           ],
           "hovertemplate": "<b>%{customdata[4]} in %{customdata[3]}</b><br>Error: %{x}<br>Official: £%{customdata[2]}bn<br>OpenFisca-UK: £%{customdata[0]}bn<br>UKMOD: £%{customdata[1]}bn",
           "legendgroup": "OpenFisca-UK",
           "marker": {
            "color": "blue",
            "pattern": {
             "shape": ""
            }
           },
           "name": "OpenFisca-UK",
           "offsetgroup": "OpenFisca-UK",
           "orientation": "h",
           "showlegend": true,
           "textposition": "auto",
           "type": "bar",
           "x": [
            0.019,
            0.028999999999999998,
            0.037000000000000005,
            0.06,
            0.126,
            0.165,
            0.217,
            0.426,
            0.46
           ],
           "xaxis": "x",
           "y": [
            "National Insurance (total)",
            "Child Tax Credit",
            "Child Benefit",
            "Working Tax Credit",
            "Income Tax",
            "Universal Credit",
            "ESA (income-based)",
            "Housing Benefit",
            "Pension Credit"
           ],
           "yaxis": "y"
          },
          {
           "alignmentgroup": "True",
           "customdata": [
            [
             143.4,
             140.8,
             140.8,
             2020,
             "National Insurance (total)"
            ],
            [
             11.1,
             7.8,
             11.4,
             2020,
             "Child Tax Credit"
            ],
            [
             11.5,
             11.5,
             11.1,
             2020,
             "Child Benefit"
            ],
            [
             2.9,
             2.4,
             3.1,
             2020,
             "Working Tax Credit"
            ],
            [
             164.5,
             159.2,
             188.2,
             2020,
             "Income Tax"
            ],
            [
             32,
             26.4,
             38.3,
             2020,
             "Universal Credit"
            ],
            [
             6.9,
             5.5,
             8.8,
             2020,
             "ESA (income-based)"
            ],
            [
             10,
             12.3,
             17.3,
             2020,
             "Housing Benefit"
            ],
            [
             2.7,
             4.6,
             5.1,
             2020,
             "Pension Credit"
            ]
           ],
           "hovertemplate": "<b>%{customdata[4]} in %{customdata[3]}</b><br>Error: %{x}<br>Official: £%{customdata[2]}bn<br>OpenFisca-UK: £%{customdata[0]}bn<br>UKMOD: £%{customdata[1]}bn",
           "legendgroup": "UKMOD",
           "marker": {
            "color": "lightgrey",
            "pattern": {
             "shape": ""
            }
           },
           "name": "UKMOD",
           "offsetgroup": "UKMOD",
           "orientation": "h",
           "showlegend": true,
           "textposition": "auto",
           "type": "bar",
           "x": [
            0,
            0.319,
            0.038,
            0.23199999999999998,
            0.154,
            0.31,
            0.374,
            0.289,
            0.102
           ],
           "xaxis": "x",
           "y": [
            "National Insurance (total)",
            "Child Tax Credit",
            "Child Benefit",
            "Working Tax Credit",
            "Income Tax",
            "Universal Credit",
            "ESA (income-based)",
            "Housing Benefit",
            "Pension Credit"
           ],
           "yaxis": "y"
          }
         ],
         "name": "2020"
        },
        {
         "data": [
          {
           "alignmentgroup": "True",
           "customdata": [
            [
             147.9,
             137.7,
             145.9,
             2021,
             "National Insurance (total)"
            ],
            [
             11.5,
             11.7,
             11,
             2021,
             "Child Benefit"
            ],
            [
             8.8,
             6.5,
             8.1,
             2021,
             "Child Tax Credit"
            ],
            [
             36.8,
             29.8,
             41.1,
             2021,
             "Universal Credit"
            ],
            [
             174.5,
             152.4,
             203.6,
             2021,
             "Income Tax"
            ],
            [
             3.1,
             2.1,
             2.2,
             2021,
             "Working Tax Credit"
            ],
            [
             2.9,
             4.1,
             5,
             2021,
             "Pension Credit"
            ],
            [
             9.8,
             11,
             17.1,
             2021,
             "Housing Benefit"
            ],
            [
             3.4,
             4.8,
             8.3,
             2021,
             "ESA (income-based)"
            ]
           ],
           "hovertemplate": "<b>%{customdata[4]} in %{customdata[3]}</b><br>Error: %{x}<br>Official: £%{customdata[2]}bn<br>OpenFisca-UK: £%{customdata[0]}bn<br>UKMOD: £%{customdata[1]}bn",
           "legendgroup": "OpenFisca-UK",
           "marker": {
            "color": "blue",
            "pattern": {
             "shape": ""
            }
           },
           "name": "OpenFisca-UK",
           "offsetgroup": "OpenFisca-UK",
           "orientation": "h",
           "showlegend": true,
           "textposition": "auto",
           "type": "bar",
           "x": [
            0.013999999999999999,
            0.05,
            0.083,
            0.10400000000000001,
            0.14300000000000002,
            0.375,
            0.41600000000000004,
            0.42700000000000005,
            0.588
           ],
           "xaxis": "x",
           "y": [
            "National Insurance (total)",
            "Child Benefit",
            "Child Tax Credit",
            "Universal Credit",
            "Income Tax",
            "Working Tax Credit",
            "Pension Credit",
            "Housing Benefit",
            "ESA (income-based)"
           ],
           "yaxis": "y"
          },
          {
           "alignmentgroup": "True",
           "customdata": [
            [
             147.9,
             137.7,
             145.9,
             2021,
             "National Insurance (total)"
            ],
            [
             11.5,
             11.7,
             11,
             2021,
             "Child Benefit"
            ],
            [
             8.8,
             6.5,
             8.1,
             2021,
             "Child Tax Credit"
            ],
            [
             36.8,
             29.8,
             41.1,
             2021,
             "Universal Credit"
            ],
            [
             174.5,
             152.4,
             203.6,
             2021,
             "Income Tax"
            ],
            [
             3.1,
             2.1,
             2.2,
             2021,
             "Working Tax Credit"
            ],
            [
             2.9,
             4.1,
             5,
             2021,
             "Pension Credit"
            ],
            [
             9.8,
             11,
             17.1,
             2021,
             "Housing Benefit"
            ],
            [
             3.4,
             4.8,
             8.3,
             2021,
             "ESA (income-based)"
            ]
           ],
           "hovertemplate": "<b>%{customdata[4]} in %{customdata[3]}</b><br>Error: %{x}<br>Official: £%{customdata[2]}bn<br>OpenFisca-UK: £%{customdata[0]}bn<br>UKMOD: £%{customdata[1]}bn",
           "legendgroup": "UKMOD",
           "marker": {
            "color": "lightgrey",
            "pattern": {
             "shape": ""
            }
           },
           "name": "UKMOD",
           "offsetgroup": "UKMOD",
           "orientation": "h",
           "showlegend": true,
           "textposition": "auto",
           "type": "bar",
           "x": [
            0.055999999999999994,
            0.066,
            0.192,
            0.27399999999999997,
            0.251,
            0.054000000000000006,
            0.184,
            0.36,
            0.42200000000000004
           ],
           "xaxis": "x",
           "y": [
            "National Insurance (total)",
            "Child Benefit",
            "Child Tax Credit",
            "Universal Credit",
            "Income Tax",
            "Working Tax Credit",
            "Pension Credit",
            "Housing Benefit",
            "ESA (income-based)"
           ],
           "yaxis": "y"
          }
         ],
         "name": "2021"
        },
        {
         "data": [
          {
           "alignmentgroup": "True",
           "customdata": [
            [
             151.8,
             156,
             151.3,
             2022,
             "National Insurance (total)"
            ],
            [
             11.5,
             12,
             11.2,
             2022,
             "Child Benefit"
            ],
            [
             178.1,
             161.2,
             205,
             2022,
             "Income Tax"
            ],
            [
             37.6,
             34.1,
             43.7,
             2022,
             "Universal Credit"
            ],
            [
             7.1,
             5.4,
             6,
             2022,
             "Child Tax Credit"
            ],
            [
             2.1,
             1.6,
             1.6,
             2022,
             "Working Tax Credit"
            ],
            [
             2.8,
             4.2,
             4.5,
             2022,
             "Pension Credit"
            ],
            [
             9.3,
             10.3,
             15.9,
             2022,
             "Housing Benefit"
            ],
            [
             3.3,
             4.2,
             8.2,
             2022,
             "ESA (income-based)"
            ]
           ],
           "hovertemplate": "<b>%{customdata[4]} in %{customdata[3]}</b><br>Error: %{x}<br>Official: £%{customdata[2]}bn<br>OpenFisca-UK: £%{customdata[0]}bn<br>UKMOD: £%{customdata[1]}bn",
           "legendgroup": "OpenFisca-UK",
           "marker": {
            "color": "blue",
            "pattern": {
             "shape": ""
            }
           },
           "name": "OpenFisca-UK",
           "offsetgroup": "OpenFisca-UK",
           "orientation": "h",
           "showlegend": true,
           "textposition": "auto",
           "type": "bar",
           "x": [
            0.003,
            0.023,
            0.131,
            0.138,
            0.18100000000000002,
            0.253,
            0.38,
            0.414,
            0.603
           ],
           "xaxis": "x",
           "y": [
            "National Insurance (total)",
            "Child Benefit",
            "Income Tax",
            "Universal Credit",
            "Child Tax Credit",
            "Working Tax Credit",
            "Pension Credit",
            "Housing Benefit",
            "ESA (income-based)"
           ],
           "yaxis": "y"
          },
          {
           "alignmentgroup": "True",
           "customdata": [
            [
             151.8,
             156,
             151.3,
             2022,
             "National Insurance (total)"
            ],
            [
             11.5,
             12,
             11.2,
             2022,
             "Child Benefit"
            ],
            [
             178.1,
             161.2,
             205,
             2022,
             "Income Tax"
            ],
            [
             37.6,
             34.1,
             43.7,
             2022,
             "Universal Credit"
            ],
            [
             7.1,
             5.4,
             6,
             2022,
             "Child Tax Credit"
            ],
            [
             2.1,
             1.6,
             1.6,
             2022,
             "Working Tax Credit"
            ],
            [
             2.8,
             4.2,
             4.5,
             2022,
             "Pension Credit"
            ],
            [
             9.3,
             10.3,
             15.9,
             2022,
             "Housing Benefit"
            ],
            [
             3.3,
             4.2,
             8.2,
             2022,
             "ESA (income-based)"
            ]
           ],
           "hovertemplate": "<b>%{customdata[4]} in %{customdata[3]}</b><br>Error: %{x}<br>Official: £%{customdata[2]}bn<br>OpenFisca-UK: £%{customdata[0]}bn<br>UKMOD: £%{customdata[1]}bn",
           "legendgroup": "UKMOD",
           "marker": {
            "color": "lightgrey",
            "pattern": {
             "shape": ""
            }
           },
           "name": "UKMOD",
           "offsetgroup": "UKMOD",
           "orientation": "h",
           "showlegend": true,
           "textposition": "auto",
           "type": "bar",
           "x": [
            0.031,
            0.067,
            0.214,
            0.22,
            0.102,
            0.043,
            0.07,
            0.35,
            0.488
           ],
           "xaxis": "x",
           "y": [
            "National Insurance (total)",
            "Child Benefit",
            "Income Tax",
            "Universal Credit",
            "Child Tax Credit",
            "Working Tax Credit",
            "Pension Credit",
            "Housing Benefit",
            "ESA (income-based)"
           ],
           "yaxis": "y"
          }
         ],
         "name": "2022"
        },
        {
         "data": [
          {
           "alignmentgroup": "True",
           "customdata": [
            [
             156.5,
             145.1,
             157.5,
             2023,
             "National Insurance (total)"
            ],
            [
             11.7,
             12.3,
             11.5,
             2023,
             "Child Benefit"
            ],
            [
             187,
             170.6,
             215,
             2023,
             "Income Tax"
            ],
            [
             41.9,
             39.1,
             49.8,
             2023,
             "Universal Credit"
            ],
            [
             5.7,
             4.5,
             4.5,
             2023,
             "Child Tax Credit"
            ],
            [
             8.8,
             9.6,
             14.7,
             2023,
             "Housing Benefit"
            ],
            [
             1.7,
             1.3,
             1.2,
             2023,
             "Working Tax Credit"
            ],
            [
             2.5,
             4.4,
             4.4,
             2023,
             "Pension Credit"
            ],
            [
             3.1,
             3.7,
             7.8,
             2023,
             "ESA (income-based)"
            ]
           ],
           "hovertemplate": "<b>%{customdata[4]} in %{customdata[3]}</b><br>Error: %{x}<br>Official: £%{customdata[2]}bn<br>OpenFisca-UK: £%{customdata[0]}bn<br>UKMOD: £%{customdata[1]}bn",
           "legendgroup": "OpenFisca-UK",
           "marker": {
            "color": "blue",
            "pattern": {
             "shape": ""
            }
           },
           "name": "OpenFisca-UK",
           "offsetgroup": "OpenFisca-UK",
           "orientation": "h",
           "showlegend": true,
           "textposition": "auto",
           "type": "bar",
           "x": [
            0.006,
            0.012,
            0.13,
            0.157,
            0.258,
            0.406,
            0.41100000000000003,
            0.43200000000000005,
            0.608
           ],
           "xaxis": "x",
           "y": [
            "National Insurance (total)",
            "Child Benefit",
            "Income Tax",
            "Universal Credit",
            "Child Tax Credit",
            "Housing Benefit",
            "Working Tax Credit",
            "Pension Credit",
            "ESA (income-based)"
           ],
           "yaxis": "y"
          },
          {
           "alignmentgroup": "True",
           "customdata": [
            [
             156.5,
             145.1,
             157.5,
             2023,
             "National Insurance (total)"
            ],
            [
             11.7,
             12.3,
             11.5,
             2023,
             "Child Benefit"
            ],
            [
             187,
             170.6,
             215,
             2023,
             "Income Tax"
            ],
            [
             41.9,
             39.1,
             49.8,
             2023,
             "Universal Credit"
            ],
            [
             5.7,
             4.5,
             4.5,
             2023,
             "Child Tax Credit"
            ],
            [
             8.8,
             9.6,
             14.7,
             2023,
             "Housing Benefit"
            ],
            [
             1.7,
             1.3,
             1.2,
             2023,
             "Working Tax Credit"
            ],
            [
             2.5,
             4.4,
             4.4,
             2023,
             "Pension Credit"
            ],
            [
             3.1,
             3.7,
             7.8,
             2023,
             "ESA (income-based)"
            ]
           ],
           "hovertemplate": "<b>%{customdata[4]} in %{customdata[3]}</b><br>Error: %{x}<br>Official: £%{customdata[2]}bn<br>OpenFisca-UK: £%{customdata[0]}bn<br>UKMOD: £%{customdata[1]}bn",
           "legendgroup": "UKMOD",
           "marker": {
            "color": "lightgrey",
            "pattern": {
             "shape": ""
            }
           },
           "name": "UKMOD",
           "offsetgroup": "UKMOD",
           "orientation": "h",
           "showlegend": true,
           "textposition": "auto",
           "type": "bar",
           "x": [
            0.079,
            0.068,
            0.20600000000000002,
            0.213,
            0.011000000000000001,
            0.34700000000000003,
            0.065,
            0.008,
            0.532
           ],
           "xaxis": "x",
           "y": [
            "National Insurance (total)",
            "Child Benefit",
            "Income Tax",
            "Universal Credit",
            "Child Tax Credit",
            "Housing Benefit",
            "Working Tax Credit",
            "Pension Credit",
            "ESA (income-based)"
           ],
           "yaxis": "y"
          }
         ],
         "name": "2023"
        },
        {
         "data": [
          {
           "alignmentgroup": "True",
           "customdata": [
            [
             161,
             147.9,
             164.6,
             2024,
             "National Insurance (total)"
            ],
            [
             12.2,
             12.5,
             11.6,
             2024,
             "Child Benefit"
            ],
            [
             195.9,
             178.5,
             225.7,
             2024,
             "Income Tax"
            ],
            [
             48,
             39.1,
             57.8,
             2024,
             "Universal Credit"
            ],
            [
             8,
             8.5,
             12.5,
             2024,
             "Housing Benefit"
            ],
            [
             4.2,
             3.3,
             3,
             2024,
             "Child Tax Credit"
            ],
            [
             2.4,
             4.5,
             4.4,
             2024,
             "Pension Credit"
            ],
            [
             2.4,
             2.7,
             6.4,
             2024,
             "ESA (income-based)"
            ],
            [
             1.4,
             0.9,
             0.8,
             2024,
             "Working Tax Credit"
            ]
           ],
           "hovertemplate": "<b>%{customdata[4]} in %{customdata[3]}</b><br>Error: %{x}<br>Official: £%{customdata[2]}bn<br>OpenFisca-UK: £%{customdata[0]}bn<br>UKMOD: £%{customdata[1]}bn",
           "legendgroup": "OpenFisca-UK",
           "marker": {
            "color": "blue",
            "pattern": {
             "shape": ""
            }
           },
           "name": "OpenFisca-UK",
           "offsetgroup": "OpenFisca-UK",
           "orientation": "h",
           "showlegend": true,
           "textposition": "auto",
           "type": "bar",
           "x": [
            0.022000000000000002,
            0.046,
            0.132,
            0.16899999999999998,
            0.361,
            0.433,
            0.442,
            0.621,
            0.6970000000000001
           ],
           "xaxis": "x",
           "y": [
            "National Insurance (total)",
            "Child Benefit",
            "Income Tax",
            "Universal Credit",
            "Housing Benefit",
            "Child Tax Credit",
            "Pension Credit",
            "ESA (income-based)",
            "Working Tax Credit"
           ],
           "yaxis": "y"
          },
          {
           "alignmentgroup": "True",
           "customdata": [
            [
             161,
             147.9,
             164.6,
             2024,
             "National Insurance (total)"
            ],
            [
             12.2,
             12.5,
             11.6,
             2024,
             "Child Benefit"
            ],
            [
             195.9,
             178.5,
             225.7,
             2024,
             "Income Tax"
            ],
            [
             48,
             39.1,
             57.8,
             2024,
             "Universal Credit"
            ],
            [
             8,
             8.5,
             12.5,
             2024,
             "Housing Benefit"
            ],
            [
             4.2,
             3.3,
             3,
             2024,
             "Child Tax Credit"
            ],
            [
             2.4,
             4.5,
             4.4,
             2024,
             "Pension Credit"
            ],
            [
             2.4,
             2.7,
             6.4,
             2024,
             "ESA (income-based)"
            ],
            [
             1.4,
             0.9,
             0.8,
             2024,
             "Working Tax Credit"
            ]
           ],
           "hovertemplate": "<b>%{customdata[4]} in %{customdata[3]}</b><br>Error: %{x}<br>Official: £%{customdata[2]}bn<br>OpenFisca-UK: £%{customdata[0]}bn<br>UKMOD: £%{customdata[1]}bn",
           "legendgroup": "UKMOD",
           "marker": {
            "color": "lightgrey",
            "pattern": {
             "shape": ""
            }
           },
           "name": "UKMOD",
           "offsetgroup": "UKMOD",
           "orientation": "h",
           "showlegend": true,
           "textposition": "auto",
           "type": "bar",
           "x": [
            0.102,
            0.079,
            0.209,
            0.32299999999999995,
            0.322,
            0.114,
            0.026000000000000002,
            0.579,
            0.102
           ],
           "xaxis": "x",
           "y": [
            "National Insurance (total)",
            "Child Benefit",
            "Income Tax",
            "Universal Credit",
            "Housing Benefit",
            "Child Tax Credit",
            "Pension Credit",
            "ESA (income-based)",
            "Working Tax Credit"
           ],
           "yaxis": "y"
          }
         ],
         "name": "2024"
        },
        {
         "data": [
          {
           "alignmentgroup": "True",
           "customdata": [
            [
             165.2,
             151.9,
             172.1,
             2025,
             "National Insurance (total)"
            ],
            [
             12.7,
             12.6,
             11.6,
             2025,
             "Child Benefit"
            ],
            [
             205.9,
             187.9,
             237.5,
             2025,
             "Income Tax"
            ],
            [
             55.3,
             45.6,
             68,
             2025,
             "Universal Credit"
            ],
            [
             6.9,
             6.7,
             10.2,
             2025,
             "Housing Benefit"
            ],
            [
             2.3,
             4.5,
             4.2,
             2025,
             "Pension Credit"
            ],
            [
             1.2,
             1.2,
             3.5,
             2025,
             "ESA (income-based)"
            ],
            [
             2.6,
             1.5,
             1.3,
             2025,
             "Child Tax Credit"
            ],
            [
             0.9,
             0.4,
             0.4,
             2025,
             "Working Tax Credit"
            ]
           ],
           "hovertemplate": "<b>%{customdata[4]} in %{customdata[3]}</b><br>Error: %{x}<br>Official: £%{customdata[2]}bn<br>OpenFisca-UK: £%{customdata[0]}bn<br>UKMOD: £%{customdata[1]}bn",
           "legendgroup": "OpenFisca-UK",
           "marker": {
            "color": "blue",
            "pattern": {
             "shape": ""
            }
           },
           "name": "OpenFisca-UK",
           "offsetgroup": "OpenFisca-UK",
           "orientation": "h",
           "showlegend": true,
           "textposition": "auto",
           "type": "bar",
           "x": [
            0.04,
            0.096,
            0.133,
            0.18600000000000003,
            0.325,
            0.446,
            0.647,
            0.956,
            1.449
           ],
           "xaxis": "x",
           "y": [
            "National Insurance (total)",
            "Child Benefit",
            "Income Tax",
            "Universal Credit",
            "Housing Benefit",
            "Pension Credit",
            "ESA (income-based)",
            "Child Tax Credit",
            "Working Tax Credit"
           ],
           "yaxis": "y"
          },
          {
           "alignmentgroup": "True",
           "customdata": [
            [
             165.2,
             151.9,
             172.1,
             2025,
             "National Insurance (total)"
            ],
            [
             12.7,
             12.6,
             11.6,
             2025,
             "Child Benefit"
            ],
            [
             205.9,
             187.9,
             237.5,
             2025,
             "Income Tax"
            ],
            [
             55.3,
             45.6,
             68,
             2025,
             "Universal Credit"
            ],
            [
             6.9,
             6.7,
             10.2,
             2025,
             "Housing Benefit"
            ],
            [
             2.3,
             4.5,
             4.2,
             2025,
             "Pension Credit"
            ],
            [
             1.2,
             1.2,
             3.5,
             2025,
             "ESA (income-based)"
            ],
            [
             2.6,
             1.5,
             1.3,
             2025,
             "Child Tax Credit"
            ],
            [
             0.9,
             0.4,
             0.4,
             2025,
             "Working Tax Credit"
            ]
           ],
           "hovertemplate": "<b>%{customdata[4]} in %{customdata[3]}</b><br>Error: %{x}<br>Official: £%{customdata[2]}bn<br>OpenFisca-UK: £%{customdata[0]}bn<br>UKMOD: £%{customdata[1]}bn",
           "legendgroup": "UKMOD",
           "marker": {
            "color": "lightgrey",
            "pattern": {
             "shape": ""
            }
           },
           "name": "UKMOD",
           "offsetgroup": "UKMOD",
           "orientation": "h",
           "showlegend": true,
           "textposition": "auto",
           "type": "bar",
           "x": [
            0.11800000000000001,
            0.08199999999999999,
            0.209,
            0.32799999999999996,
            0.34299999999999997,
            0.057999999999999996,
            0.6509999999999999,
            0.091,
            0.146
           ],
           "xaxis": "x",
           "y": [
            "National Insurance (total)",
            "Child Benefit",
            "Income Tax",
            "Universal Credit",
            "Housing Benefit",
            "Pension Credit",
            "ESA (income-based)",
            "Child Tax Credit",
            "Working Tax Credit"
           ],
           "yaxis": "y"
          }
         ],
         "name": "2025"
        }
       ],
       "layout": {
        "barmode": "group",
        "height": 600,
        "legend": {
         "title": {
          "text": "Model"
         },
         "tracegroupgap": 0,
         "traceorder": "reversed"
        },
        "margin": {
         "t": 60
        },
        "sliders": [
         {
          "active": 0,
          "currentvalue": {
           "prefix": "Year="
          },
          "len": 0.9,
          "pad": {
           "b": 10,
           "t": 60
          },
          "steps": [
           {
            "args": [
             [
              "2019"
             ],
             {
              "frame": {
               "duration": 0,
               "redraw": true
              },
              "fromcurrent": true,
              "mode": "immediate",
              "transition": {
               "duration": 0,
               "easing": "linear"
              }
             }
            ],
            "label": "2019",
            "method": "animate"
           },
           {
            "args": [
             [
              "2020"
             ],
             {
              "frame": {
               "duration": 0,
               "redraw": true
              },
              "fromcurrent": true,
              "mode": "immediate",
              "transition": {
               "duration": 0,
               "easing": "linear"
              }
             }
            ],
            "label": "2020",
            "method": "animate"
           },
           {
            "args": [
             [
              "2021"
             ],
             {
              "frame": {
               "duration": 0,
               "redraw": true
              },
              "fromcurrent": true,
              "mode": "immediate",
              "transition": {
               "duration": 0,
               "easing": "linear"
              }
             }
            ],
            "label": "2021",
            "method": "animate"
           },
           {
            "args": [
             [
              "2022"
             ],
             {
              "frame": {
               "duration": 0,
               "redraw": true
              },
              "fromcurrent": true,
              "mode": "immediate",
              "transition": {
               "duration": 0,
               "easing": "linear"
              }
             }
            ],
            "label": "2022",
            "method": "animate"
           },
           {
            "args": [
             [
              "2023"
             ],
             {
              "frame": {
               "duration": 0,
               "redraw": true
              },
              "fromcurrent": true,
              "mode": "immediate",
              "transition": {
               "duration": 0,
               "easing": "linear"
              }
             }
            ],
            "label": "2023",
            "method": "animate"
           },
           {
            "args": [
             [
              "2024"
             ],
             {
              "frame": {
               "duration": 0,
               "redraw": true
              },
              "fromcurrent": true,
              "mode": "immediate",
              "transition": {
               "duration": 0,
               "easing": "linear"
              }
             }
            ],
            "label": "2024",
            "method": "animate"
           },
           {
            "args": [
             [
              "2025"
             ],
             {
              "frame": {
               "duration": 0,
               "redraw": true
              },
              "fromcurrent": true,
              "mode": "immediate",
              "transition": {
               "duration": 0,
               "easing": "linear"
              }
             }
            ],
            "label": "2025",
            "method": "animate"
           }
          ],
          "x": 0.1,
          "xanchor": "left",
          "y": 0,
          "yanchor": "top"
         }
        ],
        "template": {
         "data": {
          "bar": [
           {
            "error_x": {
             "color": "#2a3f5f"
            },
            "error_y": {
             "color": "#2a3f5f"
            },
            "marker": {
             "line": {
              "color": "white",
              "width": 0.5
             },
             "pattern": {
              "fillmode": "overlay",
              "size": 10,
              "solidity": 0.2
             }
            },
            "type": "bar"
           }
          ],
          "barpolar": [
           {
            "marker": {
             "line": {
              "color": "white",
              "width": 0.5
             },
             "pattern": {
              "fillmode": "overlay",
              "size": 10,
              "solidity": 0.2
             }
            },
            "type": "barpolar"
           }
          ],
          "carpet": [
           {
            "aaxis": {
             "endlinecolor": "#2a3f5f",
             "gridcolor": "#C8D4E3",
             "linecolor": "#C8D4E3",
             "minorgridcolor": "#C8D4E3",
             "startlinecolor": "#2a3f5f"
            },
            "baxis": {
             "endlinecolor": "#2a3f5f",
             "gridcolor": "#C8D4E3",
             "linecolor": "#C8D4E3",
             "minorgridcolor": "#C8D4E3",
             "startlinecolor": "#2a3f5f"
            },
            "type": "carpet"
           }
          ],
          "choropleth": [
           {
            "colorbar": {
             "outlinewidth": 0,
             "ticks": ""
            },
            "type": "choropleth"
           }
          ],
          "contour": [
           {
            "colorbar": {
             "outlinewidth": 0,
             "ticks": ""
            },
            "colorscale": [
             [
              0,
              "#0d0887"
             ],
             [
              0.1111111111111111,
              "#46039f"
             ],
             [
              0.2222222222222222,
              "#7201a8"
             ],
             [
              0.3333333333333333,
              "#9c179e"
             ],
             [
              0.4444444444444444,
              "#bd3786"
             ],
             [
              0.5555555555555556,
              "#d8576b"
             ],
             [
              0.6666666666666666,
              "#ed7953"
             ],
             [
              0.7777777777777778,
              "#fb9f3a"
             ],
             [
              0.8888888888888888,
              "#fdca26"
             ],
             [
              1,
              "#f0f921"
             ]
            ],
            "type": "contour"
           }
          ],
          "contourcarpet": [
           {
            "colorbar": {
             "outlinewidth": 0,
             "ticks": ""
            },
            "type": "contourcarpet"
           }
          ],
          "heatmap": [
           {
            "colorbar": {
             "outlinewidth": 0,
             "ticks": ""
            },
            "colorscale": [
             [
              0,
              "#0d0887"
             ],
             [
              0.1111111111111111,
              "#46039f"
             ],
             [
              0.2222222222222222,
              "#7201a8"
             ],
             [
              0.3333333333333333,
              "#9c179e"
             ],
             [
              0.4444444444444444,
              "#bd3786"
             ],
             [
              0.5555555555555556,
              "#d8576b"
             ],
             [
              0.6666666666666666,
              "#ed7953"
             ],
             [
              0.7777777777777778,
              "#fb9f3a"
             ],
             [
              0.8888888888888888,
              "#fdca26"
             ],
             [
              1,
              "#f0f921"
             ]
            ],
            "type": "heatmap"
           }
          ],
          "heatmapgl": [
           {
            "colorbar": {
             "outlinewidth": 0,
             "ticks": ""
            },
            "colorscale": [
             [
              0,
              "#0d0887"
             ],
             [
              0.1111111111111111,
              "#46039f"
             ],
             [
              0.2222222222222222,
              "#7201a8"
             ],
             [
              0.3333333333333333,
              "#9c179e"
             ],
             [
              0.4444444444444444,
              "#bd3786"
             ],
             [
              0.5555555555555556,
              "#d8576b"
             ],
             [
              0.6666666666666666,
              "#ed7953"
             ],
             [
              0.7777777777777778,
              "#fb9f3a"
             ],
             [
              0.8888888888888888,
              "#fdca26"
             ],
             [
              1,
              "#f0f921"
             ]
            ],
            "type": "heatmapgl"
           }
          ],
          "histogram": [
           {
            "marker": {
             "pattern": {
              "fillmode": "overlay",
              "size": 10,
              "solidity": 0.2
             }
            },
            "type": "histogram"
           }
          ],
          "histogram2d": [
           {
            "colorbar": {
             "outlinewidth": 0,
             "ticks": ""
            },
            "colorscale": [
             [
              0,
              "#0d0887"
             ],
             [
              0.1111111111111111,
              "#46039f"
             ],
             [
              0.2222222222222222,
              "#7201a8"
             ],
             [
              0.3333333333333333,
              "#9c179e"
             ],
             [
              0.4444444444444444,
              "#bd3786"
             ],
             [
              0.5555555555555556,
              "#d8576b"
             ],
             [
              0.6666666666666666,
              "#ed7953"
             ],
             [
              0.7777777777777778,
              "#fb9f3a"
             ],
             [
              0.8888888888888888,
              "#fdca26"
             ],
             [
              1,
              "#f0f921"
             ]
            ],
            "type": "histogram2d"
           }
          ],
          "histogram2dcontour": [
           {
            "colorbar": {
             "outlinewidth": 0,
             "ticks": ""
            },
            "colorscale": [
             [
              0,
              "#0d0887"
             ],
             [
              0.1111111111111111,
              "#46039f"
             ],
             [
              0.2222222222222222,
              "#7201a8"
             ],
             [
              0.3333333333333333,
              "#9c179e"
             ],
             [
              0.4444444444444444,
              "#bd3786"
             ],
             [
              0.5555555555555556,
              "#d8576b"
             ],
             [
              0.6666666666666666,
              "#ed7953"
             ],
             [
              0.7777777777777778,
              "#fb9f3a"
             ],
             [
              0.8888888888888888,
              "#fdca26"
             ],
             [
              1,
              "#f0f921"
             ]
            ],
            "type": "histogram2dcontour"
           }
          ],
          "mesh3d": [
           {
            "colorbar": {
             "outlinewidth": 0,
             "ticks": ""
            },
            "type": "mesh3d"
           }
          ],
          "parcoords": [
           {
            "line": {
             "colorbar": {
              "outlinewidth": 0,
              "ticks": ""
             }
            },
            "type": "parcoords"
           }
          ],
          "pie": [
           {
            "automargin": true,
            "type": "pie"
           }
          ],
          "scatter": [
           {
            "marker": {
             "colorbar": {
              "outlinewidth": 0,
              "ticks": ""
             }
            },
            "type": "scatter"
           }
          ],
          "scatter3d": [
           {
            "line": {
             "colorbar": {
              "outlinewidth": 0,
              "ticks": ""
             }
            },
            "marker": {
             "colorbar": {
              "outlinewidth": 0,
              "ticks": ""
             }
            },
            "type": "scatter3d"
           }
          ],
          "scattercarpet": [
           {
            "marker": {
             "colorbar": {
              "outlinewidth": 0,
              "ticks": ""
             }
            },
            "type": "scattercarpet"
           }
          ],
          "scattergeo": [
           {
            "marker": {
             "colorbar": {
              "outlinewidth": 0,
              "ticks": ""
             }
            },
            "type": "scattergeo"
           }
          ],
          "scattergl": [
           {
            "marker": {
             "colorbar": {
              "outlinewidth": 0,
              "ticks": ""
             }
            },
            "type": "scattergl"
           }
          ],
          "scattermapbox": [
           {
            "marker": {
             "colorbar": {
              "outlinewidth": 0,
              "ticks": ""
             }
            },
            "type": "scattermapbox"
           }
          ],
          "scatterpolar": [
           {
            "marker": {
             "colorbar": {
              "outlinewidth": 0,
              "ticks": ""
             }
            },
            "type": "scatterpolar"
           }
          ],
          "scatterpolargl": [
           {
            "marker": {
             "colorbar": {
              "outlinewidth": 0,
              "ticks": ""
             }
            },
            "type": "scatterpolargl"
           }
          ],
          "scatterternary": [
           {
            "marker": {
             "colorbar": {
              "outlinewidth": 0,
              "ticks": ""
             }
            },
            "type": "scatterternary"
           }
          ],
          "surface": [
           {
            "colorbar": {
             "outlinewidth": 0,
             "ticks": ""
            },
            "colorscale": [
             [
              0,
              "#0d0887"
             ],
             [
              0.1111111111111111,
              "#46039f"
             ],
             [
              0.2222222222222222,
              "#7201a8"
             ],
             [
              0.3333333333333333,
              "#9c179e"
             ],
             [
              0.4444444444444444,
              "#bd3786"
             ],
             [
              0.5555555555555556,
              "#d8576b"
             ],
             [
              0.6666666666666666,
              "#ed7953"
             ],
             [
              0.7777777777777778,
              "#fb9f3a"
             ],
             [
              0.8888888888888888,
              "#fdca26"
             ],
             [
              1,
              "#f0f921"
             ]
            ],
            "type": "surface"
           }
          ],
          "table": [
           {
            "cells": {
             "fill": {
              "color": "#EBF0F8"
             },
             "line": {
              "color": "white"
             }
            },
            "header": {
             "fill": {
              "color": "#C8D4E3"
             },
             "line": {
              "color": "white"
             }
            },
            "type": "table"
           }
          ]
         },
         "layout": {
          "annotationdefaults": {
           "arrowcolor": "#2a3f5f",
           "arrowhead": 0,
           "arrowwidth": 1
          },
          "autotypenumbers": "strict",
          "coloraxis": {
           "colorbar": {
            "outlinewidth": 0,
            "ticks": ""
           }
          },
          "colorscale": {
           "diverging": [
            [
             0,
             "#8e0152"
            ],
            [
             0.1,
             "#c51b7d"
            ],
            [
             0.2,
             "#de77ae"
            ],
            [
             0.3,
             "#f1b6da"
            ],
            [
             0.4,
             "#fde0ef"
            ],
            [
             0.5,
             "#f7f7f7"
            ],
            [
             0.6,
             "#e6f5d0"
            ],
            [
             0.7,
             "#b8e186"
            ],
            [
             0.8,
             "#7fbc41"
            ],
            [
             0.9,
             "#4d9221"
            ],
            [
             1,
             "#276419"
            ]
           ],
           "sequential": [
            [
             0,
             "#0d0887"
            ],
            [
             0.1111111111111111,
             "#46039f"
            ],
            [
             0.2222222222222222,
             "#7201a8"
            ],
            [
             0.3333333333333333,
             "#9c179e"
            ],
            [
             0.4444444444444444,
             "#bd3786"
            ],
            [
             0.5555555555555556,
             "#d8576b"
            ],
            [
             0.6666666666666666,
             "#ed7953"
            ],
            [
             0.7777777777777778,
             "#fb9f3a"
            ],
            [
             0.8888888888888888,
             "#fdca26"
            ],
            [
             1,
             "#f0f921"
            ]
           ],
           "sequentialminus": [
            [
             0,
             "#0d0887"
            ],
            [
             0.1111111111111111,
             "#46039f"
            ],
            [
             0.2222222222222222,
             "#7201a8"
            ],
            [
             0.3333333333333333,
             "#9c179e"
            ],
            [
             0.4444444444444444,
             "#bd3786"
            ],
            [
             0.5555555555555556,
             "#d8576b"
            ],
            [
             0.6666666666666666,
             "#ed7953"
            ],
            [
             0.7777777777777778,
             "#fb9f3a"
            ],
            [
             0.8888888888888888,
             "#fdca26"
            ],
            [
             1,
             "#f0f921"
            ]
           ]
          },
          "colorway": [
           "#636efa",
           "#EF553B",
           "#00cc96",
           "#ab63fa",
           "#FFA15A",
           "#19d3f3",
           "#FF6692",
           "#B6E880",
           "#FF97FF",
           "#FECB52"
          ],
          "font": {
           "color": "#2a3f5f"
          },
          "geo": {
           "bgcolor": "white",
           "lakecolor": "white",
           "landcolor": "white",
           "showlakes": true,
           "showland": true,
           "subunitcolor": "#C8D4E3"
          },
          "hoverlabel": {
           "align": "left"
          },
          "hovermode": "closest",
          "mapbox": {
           "style": "light"
          },
          "paper_bgcolor": "white",
          "plot_bgcolor": "white",
          "polar": {
           "angularaxis": {
            "gridcolor": "#EBF0F8",
            "linecolor": "#EBF0F8",
            "ticks": ""
           },
           "bgcolor": "white",
           "radialaxis": {
            "gridcolor": "#EBF0F8",
            "linecolor": "#EBF0F8",
            "ticks": ""
           }
          },
          "scene": {
           "xaxis": {
            "backgroundcolor": "white",
            "gridcolor": "#DFE8F3",
            "gridwidth": 2,
            "linecolor": "#EBF0F8",
            "showbackground": true,
            "ticks": "",
            "zerolinecolor": "#EBF0F8"
           },
           "yaxis": {
            "backgroundcolor": "white",
            "gridcolor": "#DFE8F3",
            "gridwidth": 2,
            "linecolor": "#EBF0F8",
            "showbackground": true,
            "ticks": "",
            "zerolinecolor": "#EBF0F8"
           },
           "zaxis": {
            "backgroundcolor": "white",
            "gridcolor": "#DFE8F3",
            "gridwidth": 2,
            "linecolor": "#EBF0F8",
            "showbackground": true,
            "ticks": "",
            "zerolinecolor": "#EBF0F8"
           }
          },
          "shapedefaults": {
           "line": {
            "color": "#2a3f5f"
           }
          },
          "ternary": {
           "aaxis": {
            "gridcolor": "#DFE8F3",
            "linecolor": "#A2B1C6",
            "ticks": ""
           },
           "baxis": {
            "gridcolor": "#DFE8F3",
            "linecolor": "#A2B1C6",
            "ticks": ""
           },
           "bgcolor": "white",
           "caxis": {
            "gridcolor": "#DFE8F3",
            "linecolor": "#A2B1C6",
            "ticks": ""
           }
          },
          "title": {
           "x": 0.05
          },
          "xaxis": {
           "automargin": true,
           "gridcolor": "#EBF0F8",
           "linecolor": "#EBF0F8",
           "ticks": "",
           "title": {
            "standoff": 15
           },
           "zerolinecolor": "#EBF0F8",
           "zerolinewidth": 2
          },
          "yaxis": {
           "automargin": true,
           "gridcolor": "#EBF0F8",
           "linecolor": "#EBF0F8",
           "ticks": "",
           "title": {
            "standoff": 15
           },
           "zerolinecolor": "#EBF0F8",
           "zerolinewidth": 2
          }
         }
        },
        "title": {
         "text": "Relative errors on budgetary impacts"
        },
        "updatemenus": [
         {
          "buttons": [
           {
            "args": [
             null,
             {
              "frame": {
               "duration": 500,
               "redraw": true
              },
              "fromcurrent": true,
              "mode": "immediate",
              "transition": {
               "duration": 500,
               "easing": "linear"
              }
             }
            ],
            "label": "&#9654;",
            "method": "animate"
           },
           {
            "args": [
             [
              null
             ],
             {
              "frame": {
               "duration": 0,
               "redraw": true
              },
              "fromcurrent": true,
              "mode": "immediate",
              "transition": {
               "duration": 0,
               "easing": "linear"
              }
             }
            ],
            "label": "&#9724;",
            "method": "animate"
           }
          ],
          "direction": "left",
          "pad": {
           "r": 10,
           "t": 70
          },
          "showactive": false,
          "type": "buttons",
          "x": 0.1,
          "xanchor": "right",
          "y": 0,
          "yanchor": "top"
         }
        ],
        "width": 800,
        "xaxis": {
         "anchor": "y",
         "domain": [
          0,
          1
         ],
         "range": [
          0,
          1
         ],
         "tickformat": ".0%",
         "title": {
          "text": "Relative error"
         },
         "type": "linear"
        },
        "yaxis": {
         "anchor": "x",
         "autorange": true,
         "domain": [
          0,
          1
         ],
         "range": [
          -0.5,
          8.5
         ],
         "title": {
          "text": ""
         },
         "type": "category"
        }
       }
      },
      "image/png": "[encoded data removed]",
      "text/html": [
       "<div>                            <div id=\"a62f6e53-c021-44c2-9742-b2d982fe064b\" class=\"plotly-graph-div\" style=\"height:600px; width:800px;\"></div>            <script type=\"text/javascript\">                require([\"plotly\"], function(Plotly) {                    window.PLOTLYENV=window.PLOTLYENV || {};                                    if (document.getElementById(\"a62f6e53-c021-44c2-9742-b2d982fe064b\")) {                    Plotly.newPlot(                        \"a62f6e53-c021-44c2-9742-b2d982fe064b\",                        [{\"alignmentgroup\":\"True\",\"customdata\":[[143.5,149.4,145.0,2019,\"National Insurance (total)\"],[11.5,11.3,11.1,2019,\"Child Benefit\"],[14.4,8.5,13.9,2019,\"Child Tax Credit\"],[3.6,2.1,3.8,2019,\"Working Tax Credit\"],[16.2,17.4,18.4,2019,\"Universal Credit\"],[168.2,163.3,193.6,2019,\"Income Tax\"],[7.2,6.1,9.3,2019,\"ESA (income-based)\"],[11.1,12.6,18.4,2019,\"Housing Benefit\"],[2.8,4.4,5.1,2019,\"Pension Credit\"]],\"hovertemplate\":\"<b>%{customdata[4]} in %{customdata[3]}</b><br>Error: %{x}<br>Official: \\u00a3%{customdata[2]}bn<br>OpenFisca-UK: \\u00a3%{customdata[0]}bn<br>UKMOD: \\u00a3%{customdata[1]}bn\",\"legendgroup\":\"OpenFisca-UK\",\"marker\":{\"color\":\"blue\",\"pattern\":{\"shape\":\"\"}},\"name\":\"OpenFisca-UK\",\"offsetgroup\":\"OpenFisca-UK\",\"orientation\":\"h\",\"showlegend\":true,\"textposition\":\"auto\",\"type\":\"bar\",\"x\":[0.01,0.034,0.040999999999999995,0.052000000000000005,0.11900000000000001,0.131,0.22699999999999998,0.395,0.43799999999999994],\"xaxis\":\"x\",\"y\":[\"National Insurance (total)\",\"Child Benefit\",\"Child Tax Credit\",\"Working Tax Credit\",\"Universal Credit\",\"Income Tax\",\"ESA (income-based)\",\"Housing Benefit\",\"Pension Credit\"],\"yaxis\":\"y\"},{\"alignmentgroup\":\"True\",\"customdata\":[[143.5,149.4,145.0,2019,\"National Insurance (total)\"],[11.5,11.3,11.1,2019,\"Child Benefit\"],[14.4,8.5,13.9,2019,\"Child Tax Credit\"],[3.6,2.1,3.8,2019,\"Working Tax Credit\"],[16.2,17.4,18.4,2019,\"Universal Credit\"],[168.2,163.3,193.6,2019,\"Income Tax\"],[7.2,6.1,9.3,2019,\"ESA (income-based)\"],[11.1,12.6,18.4,2019,\"Housing Benefit\"],[2.8,4.4,5.1,2019,\"Pension Credit\"]],\"hovertemplate\":\"<b>%{customdata[4]} in %{customdata[3]}</b><br>Error: %{x}<br>Official: \\u00a3%{customdata[2]}bn<br>OpenFisca-UK: \\u00a3%{customdata[0]}bn<br>UKMOD: \\u00a3%{customdata[1]}bn\",\"legendgroup\":\"UKMOD\",\"marker\":{\"color\":\"lightgrey\",\"pattern\":{\"shape\":\"\"}},\"name\":\"UKMOD\",\"offsetgroup\":\"UKMOD\",\"orientation\":\"h\",\"showlegend\":true,\"textposition\":\"auto\",\"type\":\"bar\",\"x\":[0.03,0.023,0.391,0.441,0.053,0.157,0.342,0.317,0.122],\"xaxis\":\"x\",\"y\":[\"National Insurance (total)\",\"Child Benefit\",\"Child Tax Credit\",\"Working Tax Credit\",\"Universal Credit\",\"Income Tax\",\"ESA (income-based)\",\"Housing Benefit\",\"Pension Credit\"],\"yaxis\":\"y\"}],                        {\"barmode\":\"group\",\"height\":600,\"legend\":{\"title\":{\"text\":\"Model\"},\"tracegroupgap\":0,\"traceorder\":\"reversed\"},\"margin\":{\"t\":60},\"sliders\":[{\"active\":0,\"currentvalue\":{\"prefix\":\"Year=\"},\"len\":0.9,\"pad\":{\"b\":10,\"t\":60},\"steps\":[{\"args\":[[\"2019\"],{\"frame\":{\"duration\":0,\"redraw\":true},\"fromcurrent\":true,\"mode\":\"immediate\",\"transition\":{\"duration\":0,\"easing\":\"linear\"}}],\"label\":\"2019\",\"method\":\"animate\"},{\"args\":[[\"2020\"],{\"frame\":{\"duration\":0,\"redraw\":true},\"fromcurrent\":true,\"mode\":\"immediate\",\"transition\":{\"duration\":0,\"easing\":\"linear\"}}],\"label\":\"2020\",\"method\":\"animate\"},{\"args\":[[\"2021\"],{\"frame\":{\"duration\":0,\"redraw\":true},\"fromcurrent\":true,\"mode\":\"immediate\",\"transition\":{\"duration\":0,\"easing\":\"linear\"}}],\"label\":\"2021\",\"method\":\"animate\"},{\"args\":[[\"2022\"],{\"frame\":{\"duration\":0,\"redraw\":true},\"fromcurrent\":true,\"mode\":\"immediate\",\"transition\":{\"duration\":0,\"easing\":\"linear\"}}],\"label\":\"2022\",\"method\":\"animate\"},{\"args\":[[\"2023\"],{\"frame\":{\"duration\":0,\"redraw\":true},\"fromcurrent\":true,\"mode\":\"immediate\",\"transition\":{\"duration\":0,\"easing\":\"linear\"}}],\"label\":\"2023\",\"method\":\"animate\"},{\"args\":[[\"2024\"],{\"frame\":{\"duration\":0,\"redraw\":true},\"fromcurrent\":true,\"mode\":\"immediate\",\"transition\":{\"duration\":0,\"easing\":\"linear\"}}],\"label\":\"2024\",\"method\":\"animate\"},{\"args\":[[\"2025\"],{\"frame\":{\"duration\":0,\"redraw\":true},\"fromcurrent\":true,\"mode\":\"immediate\",\"transition\":{\"duration\":0,\"easing\":\"linear\"}}],\"label\":\"2025\",\"method\":\"animate\"}],\"x\":0.1,\"xanchor\":\"left\",\"y\":0,\"yanchor\":\"top\"}],\"template\":{\"data\":{\"bar\":[{\"error_x\":{\"color\":\"#2a3f5f\"},\"error_y\":{\"color\":\"#2a3f5f\"},\"marker\":{\"line\":{\"color\":\"white\",\"width\":0.5},\"pattern\":{\"fillmode\":\"overlay\",\"size\":10,\"solidity\":0.2}},\"type\":\"bar\"}],\"barpolar\":[{\"marker\":{\"line\":{\"color\":\"white\",\"width\":0.5},\"pattern\":{\"fillmode\":\"overlay\",\"size\":10,\"solidity\":0.2}},\"type\":\"barpolar\"}],\"carpet\":[{\"aaxis\":{\"endlinecolor\":\"#2a3f5f\",\"gridcolor\":\"#C8D4E3\",\"linecolor\":\"#C8D4E3\",\"minorgridcolor\":\"#C8D4E3\",\"startlinecolor\":\"#2a3f5f\"},\"baxis\":{\"endlinecolor\":\"#2a3f5f\",\"gridcolor\":\"#C8D4E3\",\"linecolor\":\"#C8D4E3\",\"minorgridcolor\":\"#C8D4E3\",\"startlinecolor\":\"#2a3f5f\"},\"type\":\"carpet\"}],\"choropleth\":[{\"colorbar\":{\"outlinewidth\":0,\"ticks\":\"\"},\"type\":\"choropleth\"}],\"contour\":[{\"colorbar\":{\"outlinewidth\":0,\"ticks\":\"\"},\"colorscale\":[[0.0,\"#0d0887\"],[0.1111111111111111,\"#46039f\"],[0.2222222222222222,\"#7201a8\"],[0.3333333333333333,\"#9c179e\"],[0.4444444444444444,\"#bd3786\"],[0.5555555555555556,\"#d8576b\"],[0.6666666666666666,\"#ed7953\"],[0.7777777777777778,\"#fb9f3a\"],[0.8888888888888888,\"#fdca26\"],[1.0,\"#f0f921\"]],\"type\":\"contour\"}],\"contourcarpet\":[{\"colorbar\":{\"outlinewidth\":0,\"ticks\":\"\"},\"type\":\"contourcarpet\"}],\"heatmap\":[{\"colorbar\":{\"outlinewidth\":0,\"ticks\":\"\"},\"colorscale\":[[0.0,\"#0d0887\"],[0.1111111111111111,\"#46039f\"],[0.2222222222222222,\"#7201a8\"],[0.3333333333333333,\"#9c179e\"],[0.4444444444444444,\"#bd3786\"],[0.5555555555555556,\"#d8576b\"],[0.6666666666666666,\"#ed7953\"],[0.7777777777777778,\"#fb9f3a\"],[0.8888888888888888,\"#fdca26\"],[1.0,\"#f0f921\"]],\"type\":\"heatmap\"}],\"heatmapgl\":[{\"colorbar\":{\"outlinewidth\":0,\"ticks\":\"\"},\"colorscale\":[[0.0,\"#0d0887\"],[0.1111111111111111,\"#46039f\"],[0.2222222222222222,\"#7201a8\"],[0.3333333333333333,\"#9c179e\"],[0.4444444444444444,\"#bd3786\"],[0.5555555555555556,\"#d8576b\"],[0.6666666666666666,\"#ed7953\"],[0.7777777777777778,\"#fb9f3a\"],[0.8888888888888888,\"#fdca26\"],[1.0,\"#f0f921\"]],\"type\":\"heatmapgl\"}],\"histogram\":[{\"marker\":{\"pattern\":{\"fillmode\":\"overlay\",\"size\":10,\"solidity\":0.2}},\"type\":\"histogram\"}],\"histogram2d\":[{\"colorbar\":{\"outlinewidth\":0,\"ticks\":\"\"},\"colorscale\":[[0.0,\"#0d0887\"],[0.1111111111111111,\"#46039f\"],[0.2222222222222222,\"#7201a8\"],[0.3333333333333333,\"#9c179e\"],[0.4444444444444444,\"#bd3786\"],[0.5555555555555556,\"#d8576b\"],[0.6666666666666666,\"#ed7953\"],[0.7777777777777778,\"#fb9f3a\"],[0.8888888888888888,\"#fdca26\"],[1.0,\"#f0f921\"]],\"type\":\"histogram2d\"}],\"histogram2dcontour\":[{\"colorbar\":{\"outlinewidth\":0,\"ticks\":\"\"},\"colorscale\":[[0.0,\"#0d0887\"],[0.1111111111111111,\"#46039f\"],[0.2222222222222222,\"#7201a8\"],[0.3333333333333333,\"#9c179e\"],[0.4444444444444444,\"#bd3786\"],[0.5555555555555556,\"#d8576b\"],[0.6666666666666666,\"#ed7953\"],[0.7777777777777778,\"#fb9f3a\"],[0.8888888888888888,\"#fdca26\"],[1.0,\"#f0f921\"]],\"type\":\"histogram2dcontour\"}],\"mesh3d\":[{\"colorbar\":{\"outlinewidth\":0,\"ticks\":\"\"},\"type\":\"mesh3d\"}],\"parcoords\":[{\"line\":{\"colorbar\":{\"outlinewidth\":0,\"ticks\":\"\"}},\"type\":\"parcoords\"}],\"pie\":[{\"automargin\":true,\"type\":\"pie\"}],\"scatter\":[{\"marker\":{\"colorbar\":{\"outlinewidth\":0,\"ticks\":\"\"}},\"type\":\"scatter\"}],\"scatter3d\":[{\"line\":{\"colorbar\":{\"outlinewidth\":0,\"ticks\":\"\"}},\"marker\":{\"colorbar\":{\"outlinewidth\":0,\"ticks\":\"\"}},\"type\":\"scatter3d\"}],\"scattercarpet\":[{\"marker\":{\"colorbar\":{\"outlinewidth\":0,\"ticks\":\"\"}},\"type\":\"scattercarpet\"}],\"scattergeo\":[{\"marker\":{\"colorbar\":{\"outlinewidth\":0,\"ticks\":\"\"}},\"type\":\"scattergeo\"}],\"scattergl\":[{\"marker\":{\"colorbar\":{\"outlinewidth\":0,\"ticks\":\"\"}},\"type\":\"scattergl\"}],\"scattermapbox\":[{\"marker\":{\"colorbar\":{\"outlinewidth\":0,\"ticks\":\"\"}},\"type\":\"scattermapbox\"}],\"scatterpolar\":[{\"marker\":{\"colorbar\":{\"outlinewidth\":0,\"ticks\":\"\"}},\"type\":\"scatterpolar\"}],\"scatterpolargl\":[{\"marker\":{\"colorbar\":{\"outlinewidth\":0,\"ticks\":\"\"}},\"type\":\"scatterpolargl\"}],\"scatterternary\":[{\"marker\":{\"colorbar\":{\"outlinewidth\":0,\"ticks\":\"\"}},\"type\":\"scatterternary\"}],\"surface\":[{\"colorbar\":{\"outlinewidth\":0,\"ticks\":\"\"},\"colorscale\":[[0.0,\"#0d0887\"],[0.1111111111111111,\"#46039f\"],[0.2222222222222222,\"#7201a8\"],[0.3333333333333333,\"#9c179e\"],[0.4444444444444444,\"#bd3786\"],[0.5555555555555556,\"#d8576b\"],[0.6666666666666666,\"#ed7953\"],[0.7777777777777778,\"#fb9f3a\"],[0.8888888888888888,\"#fdca26\"],[1.0,\"#f0f921\"]],\"type\":\"surface\"}],\"table\":[{\"cells\":{\"fill\":{\"color\":\"#EBF0F8\"},\"line\":{\"color\":\"white\"}},\"header\":{\"fill\":{\"color\":\"#C8D4E3\"},\"line\":{\"color\":\"white\"}},\"type\":\"table\"}]},\"layout\":{\"annotationdefaults\":{\"arrowcolor\":\"#2a3f5f\",\"arrowhead\":0,\"arrowwidth\":1},\"autotypenumbers\":\"strict\",\"coloraxis\":{\"colorbar\":{\"outlinewidth\":0,\"ticks\":\"\"}},\"colorscale\":{\"diverging\":[[0,\"#8e0152\"],[0.1,\"#c51b7d\"],[0.2,\"#de77ae\"],[0.3,\"#f1b6da\"],[0.4,\"#fde0ef\"],[0.5,\"#f7f7f7\"],[0.6,\"#e6f5d0\"],[0.7,\"#b8e186\"],[0.8,\"#7fbc41\"],[0.9,\"#4d9221\"],[1,\"#276419\"]],\"sequential\":[[0.0,\"#0d0887\"],[0.1111111111111111,\"#46039f\"],[0.2222222222222222,\"#7201a8\"],[0.3333333333333333,\"#9c179e\"],[0.4444444444444444,\"#bd3786\"],[0.5555555555555556,\"#d8576b\"],[0.6666666666666666,\"#ed7953\"],[0.7777777777777778,\"#fb9f3a\"],[0.8888888888888888,\"#fdca26\"],[1.0,\"#f0f921\"]],\"sequentialminus\":[[0.0,\"#0d0887\"],[0.1111111111111111,\"#46039f\"],[0.2222222222222222,\"#7201a8\"],[0.3333333333333333,\"#9c179e\"],[0.4444444444444444,\"#bd3786\"],[0.5555555555555556,\"#d8576b\"],[0.6666666666666666,\"#ed7953\"],[0.7777777777777778,\"#fb9f3a\"],[0.8888888888888888,\"#fdca26\"],[1.0,\"#f0f921\"]]},\"colorway\":[\"#636efa\",\"#EF553B\",\"#00cc96\",\"#ab63fa\",\"#FFA15A\",\"#19d3f3\",\"#FF6692\",\"#B6E880\",\"#FF97FF\",\"#FECB52\"],\"font\":{\"color\":\"#2a3f5f\"},\"geo\":{\"bgcolor\":\"white\",\"lakecolor\":\"white\",\"landcolor\":\"white\",\"showlakes\":true,\"showland\":true,\"subunitcolor\":\"#C8D4E3\"},\"hoverlabel\":{\"align\":\"left\"},\"hovermode\":\"closest\",\"mapbox\":{\"style\":\"light\"},\"paper_bgcolor\":\"white\",\"plot_bgcolor\":\"white\",\"polar\":{\"angularaxis\":{\"gridcolor\":\"#EBF0F8\",\"linecolor\":\"#EBF0F8\",\"ticks\":\"\"},\"bgcolor\":\"white\",\"radialaxis\":{\"gridcolor\":\"#EBF0F8\",\"linecolor\":\"#EBF0F8\",\"ticks\":\"\"}},\"scene\":{\"xaxis\":{\"backgroundcolor\":\"white\",\"gridcolor\":\"#DFE8F3\",\"gridwidth\":2,\"linecolor\":\"#EBF0F8\",\"showbackground\":true,\"ticks\":\"\",\"zerolinecolor\":\"#EBF0F8\"},\"yaxis\":{\"backgroundcolor\":\"white\",\"gridcolor\":\"#DFE8F3\",\"gridwidth\":2,\"linecolor\":\"#EBF0F8\",\"showbackground\":true,\"ticks\":\"\",\"zerolinecolor\":\"#EBF0F8\"},\"zaxis\":{\"backgroundcolor\":\"white\",\"gridcolor\":\"#DFE8F3\",\"gridwidth\":2,\"linecolor\":\"#EBF0F8\",\"showbackground\":true,\"ticks\":\"\",\"zerolinecolor\":\"#EBF0F8\"}},\"shapedefaults\":{\"line\":{\"color\":\"#2a3f5f\"}},\"ternary\":{\"aaxis\":{\"gridcolor\":\"#DFE8F3\",\"linecolor\":\"#A2B1C6\",\"ticks\":\"\"},\"baxis\":{\"gridcolor\":\"#DFE8F3\",\"linecolor\":\"#A2B1C6\",\"ticks\":\"\"},\"bgcolor\":\"white\",\"caxis\":{\"gridcolor\":\"#DFE8F3\",\"linecolor\":\"#A2B1C6\",\"ticks\":\"\"}},\"title\":{\"x\":0.05},\"xaxis\":{\"automargin\":true,\"gridcolor\":\"#EBF0F8\",\"linecolor\":\"#EBF0F8\",\"ticks\":\"\",\"title\":{\"standoff\":15},\"zerolinecolor\":\"#EBF0F8\",\"zerolinewidth\":2},\"yaxis\":{\"automargin\":true,\"gridcolor\":\"#EBF0F8\",\"linecolor\":\"#EBF0F8\",\"ticks\":\"\",\"title\":{\"standoff\":15},\"zerolinecolor\":\"#EBF0F8\",\"zerolinewidth\":2}}},\"title\":{\"text\":\"Relative errors on budgetary impacts\"},\"updatemenus\":[{\"buttons\":[{\"args\":[null,{\"frame\":{\"duration\":500,\"redraw\":true},\"fromcurrent\":true,\"mode\":\"immediate\",\"transition\":{\"duration\":500,\"easing\":\"linear\"}}],\"label\":\"&#9654;\",\"method\":\"animate\"},{\"args\":[[null],{\"frame\":{\"duration\":0,\"redraw\":true},\"fromcurrent\":true,\"mode\":\"immediate\",\"transition\":{\"duration\":0,\"easing\":\"linear\"}}],\"label\":\"&#9724;\",\"method\":\"animate\"}],\"direction\":\"left\",\"pad\":{\"r\":10,\"t\":70},\"showactive\":false,\"type\":\"buttons\",\"x\":0.1,\"xanchor\":\"right\",\"y\":0,\"yanchor\":\"top\"}],\"width\":800,\"xaxis\":{\"anchor\":\"y\",\"domain\":[0.0,1.0],\"range\":[0,1],\"tickformat\":\".0%\",\"title\":{\"text\":\"Relative error\"}},\"yaxis\":{\"anchor\":\"x\",\"domain\":[0.0,1.0],\"title\":{\"text\":\"\"}}},                        {\"responsive\": true}                    ).then(function(){\n",
       "                            Plotly.addFrames('a62f6e53-c021-44c2-9742-b2d982fe064b', [{\"data\":[{\"alignmentgroup\":\"True\",\"customdata\":[[143.5,149.4,145.0,2019,\"National Insurance (total)\"],[11.5,11.3,11.1,2019,\"Child Benefit\"],[14.4,8.5,13.9,2019,\"Child Tax Credit\"],[3.6,2.1,3.8,2019,\"Working Tax Credit\"],[16.2,17.4,18.4,2019,\"Universal Credit\"],[168.2,163.3,193.6,2019,\"Income Tax\"],[7.2,6.1,9.3,2019,\"ESA (income-based)\"],[11.1,12.6,18.4,2019,\"Housing Benefit\"],[2.8,4.4,5.1,2019,\"Pension Credit\"]],\"hovertemplate\":\"<b>%{customdata[4]} in %{customdata[3]}</b><br>Error: %{x}<br>Official: \\u00a3%{customdata[2]}bn<br>OpenFisca-UK: \\u00a3%{customdata[0]}bn<br>UKMOD: \\u00a3%{customdata[1]}bn\",\"legendgroup\":\"OpenFisca-UK\",\"marker\":{\"color\":\"blue\",\"pattern\":{\"shape\":\"\"}},\"name\":\"OpenFisca-UK\",\"offsetgroup\":\"OpenFisca-UK\",\"orientation\":\"h\",\"showlegend\":true,\"textposition\":\"auto\",\"type\":\"bar\",\"x\":[0.01,0.034,0.040999999999999995,0.052000000000000005,0.11900000000000001,0.131,0.22699999999999998,0.395,0.43799999999999994],\"xaxis\":\"x\",\"y\":[\"National Insurance (total)\",\"Child Benefit\",\"Child Tax Credit\",\"Working Tax Credit\",\"Universal Credit\",\"Income Tax\",\"ESA (income-based)\",\"Housing Benefit\",\"Pension Credit\"],\"yaxis\":\"y\"},{\"alignmentgroup\":\"True\",\"customdata\":[[143.5,149.4,145.0,2019,\"National Insurance (total)\"],[11.5,11.3,11.1,2019,\"Child Benefit\"],[14.4,8.5,13.9,2019,\"Child Tax Credit\"],[3.6,2.1,3.8,2019,\"Working Tax Credit\"],[16.2,17.4,18.4,2019,\"Universal Credit\"],[168.2,163.3,193.6,2019,\"Income Tax\"],[7.2,6.1,9.3,2019,\"ESA (income-based)\"],[11.1,12.6,18.4,2019,\"Housing Benefit\"],[2.8,4.4,5.1,2019,\"Pension Credit\"]],\"hovertemplate\":\"<b>%{customdata[4]} in %{customdata[3]}</b><br>Error: %{x}<br>Official: \\u00a3%{customdata[2]}bn<br>OpenFisca-UK: \\u00a3%{customdata[0]}bn<br>UKMOD: \\u00a3%{customdata[1]}bn\",\"legendgroup\":\"UKMOD\",\"marker\":{\"color\":\"lightgrey\",\"pattern\":{\"shape\":\"\"}},\"name\":\"UKMOD\",\"offsetgroup\":\"UKMOD\",\"orientation\":\"h\",\"showlegend\":true,\"textposition\":\"auto\",\"type\":\"bar\",\"x\":[0.03,0.023,0.391,0.441,0.053,0.157,0.342,0.317,0.122],\"xaxis\":\"x\",\"y\":[\"National Insurance (total)\",\"Child Benefit\",\"Child Tax Credit\",\"Working Tax Credit\",\"Universal Credit\",\"Income Tax\",\"ESA (income-based)\",\"Housing Benefit\",\"Pension Credit\"],\"yaxis\":\"y\"}],\"name\":\"2019\"},{\"data\":[{\"alignmentgroup\":\"True\",\"customdata\":[[143.4,140.8,140.8,2020,\"National Insurance (total)\"],[11.1,7.8,11.4,2020,\"Child Tax Credit\"],[11.5,11.5,11.1,2020,\"Child Benefit\"],[2.9,2.4,3.1,2020,\"Working Tax Credit\"],[164.5,159.2,188.2,2020,\"Income Tax\"],[32.0,26.4,38.3,2020,\"Universal Credit\"],[6.9,5.5,8.8,2020,\"ESA (income-based)\"],[10.0,12.3,17.3,2020,\"Housing Benefit\"],[2.7,4.6,5.1,2020,\"Pension Credit\"]],\"hovertemplate\":\"<b>%{customdata[4]} in %{customdata[3]}</b><br>Error: %{x}<br>Official: \\u00a3%{customdata[2]}bn<br>OpenFisca-UK: \\u00a3%{customdata[0]}bn<br>UKMOD: \\u00a3%{customdata[1]}bn\",\"legendgroup\":\"OpenFisca-UK\",\"marker\":{\"color\":\"blue\",\"pattern\":{\"shape\":\"\"}},\"name\":\"OpenFisca-UK\",\"offsetgroup\":\"OpenFisca-UK\",\"orientation\":\"h\",\"showlegend\":true,\"textposition\":\"auto\",\"type\":\"bar\",\"x\":[0.019,0.028999999999999998,0.037000000000000005,0.06,0.126,0.165,0.217,0.426,0.46],\"xaxis\":\"x\",\"y\":[\"National Insurance (total)\",\"Child Tax Credit\",\"Child Benefit\",\"Working Tax Credit\",\"Income Tax\",\"Universal Credit\",\"ESA (income-based)\",\"Housing Benefit\",\"Pension Credit\"],\"yaxis\":\"y\"},{\"alignmentgroup\":\"True\",\"customdata\":[[143.4,140.8,140.8,2020,\"National Insurance (total)\"],[11.1,7.8,11.4,2020,\"Child Tax Credit\"],[11.5,11.5,11.1,2020,\"Child Benefit\"],[2.9,2.4,3.1,2020,\"Working Tax Credit\"],[164.5,159.2,188.2,2020,\"Income Tax\"],[32.0,26.4,38.3,2020,\"Universal Credit\"],[6.9,5.5,8.8,2020,\"ESA (income-based)\"],[10.0,12.3,17.3,2020,\"Housing Benefit\"],[2.7,4.6,5.1,2020,\"Pension Credit\"]],\"hovertemplate\":\"<b>%{customdata[4]} in %{customdata[3]}</b><br>Error: %{x}<br>Official: \\u00a3%{customdata[2]}bn<br>OpenFisca-UK: \\u00a3%{customdata[0]}bn<br>UKMOD: \\u00a3%{customdata[1]}bn\",\"legendgroup\":\"UKMOD\",\"marker\":{\"color\":\"lightgrey\",\"pattern\":{\"shape\":\"\"}},\"name\":\"UKMOD\",\"offsetgroup\":\"UKMOD\",\"orientation\":\"h\",\"showlegend\":true,\"textposition\":\"auto\",\"type\":\"bar\",\"x\":[0.0,0.319,0.038,0.23199999999999998,0.154,0.31,0.374,0.289,0.102],\"xaxis\":\"x\",\"y\":[\"National Insurance (total)\",\"Child Tax Credit\",\"Child Benefit\",\"Working Tax Credit\",\"Income Tax\",\"Universal Credit\",\"ESA (income-based)\",\"Housing Benefit\",\"Pension Credit\"],\"yaxis\":\"y\"}],\"name\":\"2020\"},{\"data\":[{\"alignmentgroup\":\"True\",\"customdata\":[[147.9,137.7,145.9,2021,\"National Insurance (total)\"],[11.5,11.7,11.0,2021,\"Child Benefit\"],[8.8,6.5,8.1,2021,\"Child Tax Credit\"],[36.8,29.8,41.1,2021,\"Universal Credit\"],[174.5,152.4,203.6,2021,\"Income Tax\"],[3.1,2.1,2.2,2021,\"Working Tax Credit\"],[2.9,4.1,5.0,2021,\"Pension Credit\"],[9.8,11.0,17.1,2021,\"Housing Benefit\"],[3.4,4.8,8.3,2021,\"ESA (income-based)\"]],\"hovertemplate\":\"<b>%{customdata[4]} in %{customdata[3]}</b><br>Error: %{x}<br>Official: \\u00a3%{customdata[2]}bn<br>OpenFisca-UK: \\u00a3%{customdata[0]}bn<br>UKMOD: \\u00a3%{customdata[1]}bn\",\"legendgroup\":\"OpenFisca-UK\",\"marker\":{\"color\":\"blue\",\"pattern\":{\"shape\":\"\"}},\"name\":\"OpenFisca-UK\",\"offsetgroup\":\"OpenFisca-UK\",\"orientation\":\"h\",\"showlegend\":true,\"textposition\":\"auto\",\"type\":\"bar\",\"x\":[0.013999999999999999,0.05,0.083,0.10400000000000001,0.14300000000000002,0.375,0.41600000000000004,0.42700000000000005,0.588],\"xaxis\":\"x\",\"y\":[\"National Insurance (total)\",\"Child Benefit\",\"Child Tax Credit\",\"Universal Credit\",\"Income Tax\",\"Working Tax Credit\",\"Pension Credit\",\"Housing Benefit\",\"ESA (income-based)\"],\"yaxis\":\"y\"},{\"alignmentgroup\":\"True\",\"customdata\":[[147.9,137.7,145.9,2021,\"National Insurance (total)\"],[11.5,11.7,11.0,2021,\"Child Benefit\"],[8.8,6.5,8.1,2021,\"Child Tax Credit\"],[36.8,29.8,41.1,2021,\"Universal Credit\"],[174.5,152.4,203.6,2021,\"Income Tax\"],[3.1,2.1,2.2,2021,\"Working Tax Credit\"],[2.9,4.1,5.0,2021,\"Pension Credit\"],[9.8,11.0,17.1,2021,\"Housing Benefit\"],[3.4,4.8,8.3,2021,\"ESA (income-based)\"]],\"hovertemplate\":\"<b>%{customdata[4]} in %{customdata[3]}</b><br>Error: %{x}<br>Official: \\u00a3%{customdata[2]}bn<br>OpenFisca-UK: \\u00a3%{customdata[0]}bn<br>UKMOD: \\u00a3%{customdata[1]}bn\",\"legendgroup\":\"UKMOD\",\"marker\":{\"color\":\"lightgrey\",\"pattern\":{\"shape\":\"\"}},\"name\":\"UKMOD\",\"offsetgroup\":\"UKMOD\",\"orientation\":\"h\",\"showlegend\":true,\"textposition\":\"auto\",\"type\":\"bar\",\"x\":[0.055999999999999994,0.066,0.192,0.27399999999999997,0.251,0.054000000000000006,0.184,0.36,0.42200000000000004],\"xaxis\":\"x\",\"y\":[\"National Insurance (total)\",\"Child Benefit\",\"Child Tax Credit\",\"Universal Credit\",\"Income Tax\",\"Working Tax Credit\",\"Pension Credit\",\"Housing Benefit\",\"ESA (income-based)\"],\"yaxis\":\"y\"}],\"name\":\"2021\"},{\"data\":[{\"alignmentgroup\":\"True\",\"customdata\":[[151.8,156.0,151.3,2022,\"National Insurance (total)\"],[11.5,12.0,11.2,2022,\"Child Benefit\"],[178.1,161.2,205.0,2022,\"Income Tax\"],[37.6,34.1,43.7,2022,\"Universal Credit\"],[7.1,5.4,6.0,2022,\"Child Tax Credit\"],[2.1,1.6,1.6,2022,\"Working Tax Credit\"],[2.8,4.2,4.5,2022,\"Pension Credit\"],[9.3,10.3,15.9,2022,\"Housing Benefit\"],[3.3,4.2,8.2,2022,\"ESA (income-based)\"]],\"hovertemplate\":\"<b>%{customdata[4]} in %{customdata[3]}</b><br>Error: %{x}<br>Official: \\u00a3%{customdata[2]}bn<br>OpenFisca-UK: \\u00a3%{customdata[0]}bn<br>UKMOD: \\u00a3%{customdata[1]}bn\",\"legendgroup\":\"OpenFisca-UK\",\"marker\":{\"color\":\"blue\",\"pattern\":{\"shape\":\"\"}},\"name\":\"OpenFisca-UK\",\"offsetgroup\":\"OpenFisca-UK\",\"orientation\":\"h\",\"showlegend\":true,\"textposition\":\"auto\",\"type\":\"bar\",\"x\":[0.003,0.023,0.131,0.138,0.18100000000000002,0.253,0.38,0.414,0.603],\"xaxis\":\"x\",\"y\":[\"National Insurance (total)\",\"Child Benefit\",\"Income Tax\",\"Universal Credit\",\"Child Tax Credit\",\"Working Tax Credit\",\"Pension Credit\",\"Housing Benefit\",\"ESA (income-based)\"],\"yaxis\":\"y\"},{\"alignmentgroup\":\"True\",\"customdata\":[[151.8,156.0,151.3,2022,\"National Insurance (total)\"],[11.5,12.0,11.2,2022,\"Child Benefit\"],[178.1,161.2,205.0,2022,\"Income Tax\"],[37.6,34.1,43.7,2022,\"Universal Credit\"],[7.1,5.4,6.0,2022,\"Child Tax Credit\"],[2.1,1.6,1.6,2022,\"Working Tax Credit\"],[2.8,4.2,4.5,2022,\"Pension Credit\"],[9.3,10.3,15.9,2022,\"Housing Benefit\"],[3.3,4.2,8.2,2022,\"ESA (income-based)\"]],\"hovertemplate\":\"<b>%{customdata[4]} in %{customdata[3]}</b><br>Error: %{x}<br>Official: \\u00a3%{customdata[2]}bn<br>OpenFisca-UK: \\u00a3%{customdata[0]}bn<br>UKMOD: \\u00a3%{customdata[1]}bn\",\"legendgroup\":\"UKMOD\",\"marker\":{\"color\":\"lightgrey\",\"pattern\":{\"shape\":\"\"}},\"name\":\"UKMOD\",\"offsetgroup\":\"UKMOD\",\"orientation\":\"h\",\"showlegend\":true,\"textposition\":\"auto\",\"type\":\"bar\",\"x\":[0.031,0.067,0.214,0.22,0.102,0.043,0.07,0.35,0.488],\"xaxis\":\"x\",\"y\":[\"National Insurance (total)\",\"Child Benefit\",\"Income Tax\",\"Universal Credit\",\"Child Tax Credit\",\"Working Tax Credit\",\"Pension Credit\",\"Housing Benefit\",\"ESA (income-based)\"],\"yaxis\":\"y\"}],\"name\":\"2022\"},{\"data\":[{\"alignmentgroup\":\"True\",\"customdata\":[[156.5,145.1,157.5,2023,\"National Insurance (total)\"],[11.7,12.3,11.5,2023,\"Child Benefit\"],[187.0,170.6,215.0,2023,\"Income Tax\"],[41.9,39.1,49.8,2023,\"Universal Credit\"],[5.7,4.5,4.5,2023,\"Child Tax Credit\"],[8.8,9.6,14.7,2023,\"Housing Benefit\"],[1.7,1.3,1.2,2023,\"Working Tax Credit\"],[2.5,4.4,4.4,2023,\"Pension Credit\"],[3.1,3.7,7.8,2023,\"ESA (income-based)\"]],\"hovertemplate\":\"<b>%{customdata[4]} in %{customdata[3]}</b><br>Error: %{x}<br>Official: \\u00a3%{customdata[2]}bn<br>OpenFisca-UK: \\u00a3%{customdata[0]}bn<br>UKMOD: \\u00a3%{customdata[1]}bn\",\"legendgroup\":\"OpenFisca-UK\",\"marker\":{\"color\":\"blue\",\"pattern\":{\"shape\":\"\"}},\"name\":\"OpenFisca-UK\",\"offsetgroup\":\"OpenFisca-UK\",\"orientation\":\"h\",\"showlegend\":true,\"textposition\":\"auto\",\"type\":\"bar\",\"x\":[0.006,0.012,0.13,0.157,0.258,0.406,0.41100000000000003,0.43200000000000005,0.608],\"xaxis\":\"x\",\"y\":[\"National Insurance (total)\",\"Child Benefit\",\"Income Tax\",\"Universal Credit\",\"Child Tax Credit\",\"Housing Benefit\",\"Working Tax Credit\",\"Pension Credit\",\"ESA (income-based)\"],\"yaxis\":\"y\"},{\"alignmentgroup\":\"True\",\"customdata\":[[156.5,145.1,157.5,2023,\"National Insurance (total)\"],[11.7,12.3,11.5,2023,\"Child Benefit\"],[187.0,170.6,215.0,2023,\"Income Tax\"],[41.9,39.1,49.8,2023,\"Universal Credit\"],[5.7,4.5,4.5,2023,\"Child Tax Credit\"],[8.8,9.6,14.7,2023,\"Housing Benefit\"],[1.7,1.3,1.2,2023,\"Working Tax Credit\"],[2.5,4.4,4.4,2023,\"Pension Credit\"],[3.1,3.7,7.8,2023,\"ESA (income-based)\"]],\"hovertemplate\":\"<b>%{customdata[4]} in %{customdata[3]}</b><br>Error: %{x}<br>Official: \\u00a3%{customdata[2]}bn<br>OpenFisca-UK: \\u00a3%{customdata[0]}bn<br>UKMOD: \\u00a3%{customdata[1]}bn\",\"legendgroup\":\"UKMOD\",\"marker\":{\"color\":\"lightgrey\",\"pattern\":{\"shape\":\"\"}},\"name\":\"UKMOD\",\"offsetgroup\":\"UKMOD\",\"orientation\":\"h\",\"showlegend\":true,\"textposition\":\"auto\",\"type\":\"bar\",\"x\":[0.079,0.068,0.20600000000000002,0.213,0.011000000000000001,0.34700000000000003,0.065,0.008,0.532],\"xaxis\":\"x\",\"y\":[\"National Insurance (total)\",\"Child Benefit\",\"Income Tax\",\"Universal Credit\",\"Child Tax Credit\",\"Housing Benefit\",\"Working Tax Credit\",\"Pension Credit\",\"ESA (income-based)\"],\"yaxis\":\"y\"}],\"name\":\"2023\"},{\"data\":[{\"alignmentgroup\":\"True\",\"customdata\":[[161.0,147.9,164.6,2024,\"National Insurance (total)\"],[12.2,12.5,11.6,2024,\"Child Benefit\"],[195.9,178.5,225.7,2024,\"Income Tax\"],[48.0,39.1,57.8,2024,\"Universal Credit\"],[8.0,8.5,12.5,2024,\"Housing Benefit\"],[4.2,3.3,3.0,2024,\"Child Tax Credit\"],[2.4,4.5,4.4,2024,\"Pension Credit\"],[2.4,2.7,6.4,2024,\"ESA (income-based)\"],[1.4,0.9,0.8,2024,\"Working Tax Credit\"]],\"hovertemplate\":\"<b>%{customdata[4]} in %{customdata[3]}</b><br>Error: %{x}<br>Official: \\u00a3%{customdata[2]}bn<br>OpenFisca-UK: \\u00a3%{customdata[0]}bn<br>UKMOD: \\u00a3%{customdata[1]}bn\",\"legendgroup\":\"OpenFisca-UK\",\"marker\":{\"color\":\"blue\",\"pattern\":{\"shape\":\"\"}},\"name\":\"OpenFisca-UK\",\"offsetgroup\":\"OpenFisca-UK\",\"orientation\":\"h\",\"showlegend\":true,\"textposition\":\"auto\",\"type\":\"bar\",\"x\":[0.022000000000000002,0.046,0.132,0.16899999999999998,0.361,0.433,0.442,0.621,0.6970000000000001],\"xaxis\":\"x\",\"y\":[\"National Insurance (total)\",\"Child Benefit\",\"Income Tax\",\"Universal Credit\",\"Housing Benefit\",\"Child Tax Credit\",\"Pension Credit\",\"ESA (income-based)\",\"Working Tax Credit\"],\"yaxis\":\"y\"},{\"alignmentgroup\":\"True\",\"customdata\":[[161.0,147.9,164.6,2024,\"National Insurance (total)\"],[12.2,12.5,11.6,2024,\"Child Benefit\"],[195.9,178.5,225.7,2024,\"Income Tax\"],[48.0,39.1,57.8,2024,\"Universal Credit\"],[8.0,8.5,12.5,2024,\"Housing Benefit\"],[4.2,3.3,3.0,2024,\"Child Tax Credit\"],[2.4,4.5,4.4,2024,\"Pension Credit\"],[2.4,2.7,6.4,2024,\"ESA (income-based)\"],[1.4,0.9,0.8,2024,\"Working Tax Credit\"]],\"hovertemplate\":\"<b>%{customdata[4]} in %{customdata[3]}</b><br>Error: %{x}<br>Official: \\u00a3%{customdata[2]}bn<br>OpenFisca-UK: \\u00a3%{customdata[0]}bn<br>UKMOD: \\u00a3%{customdata[1]}bn\",\"legendgroup\":\"UKMOD\",\"marker\":{\"color\":\"lightgrey\",\"pattern\":{\"shape\":\"\"}},\"name\":\"UKMOD\",\"offsetgroup\":\"UKMOD\",\"orientation\":\"h\",\"showlegend\":true,\"textposition\":\"auto\",\"type\":\"bar\",\"x\":[0.102,0.079,0.209,0.32299999999999995,0.322,0.114,0.026000000000000002,0.579,0.102],\"xaxis\":\"x\",\"y\":[\"National Insurance (total)\",\"Child Benefit\",\"Income Tax\",\"Universal Credit\",\"Housing Benefit\",\"Child Tax Credit\",\"Pension Credit\",\"ESA (income-based)\",\"Working Tax Credit\"],\"yaxis\":\"y\"}],\"name\":\"2024\"},{\"data\":[{\"alignmentgroup\":\"True\",\"customdata\":[[165.2,151.9,172.1,2025,\"National Insurance (total)\"],[12.7,12.6,11.6,2025,\"Child Benefit\"],[205.9,187.9,237.5,2025,\"Income Tax\"],[55.3,45.6,68.0,2025,\"Universal Credit\"],[6.9,6.7,10.2,2025,\"Housing Benefit\"],[2.3,4.5,4.2,2025,\"Pension Credit\"],[1.2,1.2,3.5,2025,\"ESA (income-based)\"],[2.6,1.5,1.3,2025,\"Child Tax Credit\"],[0.9,0.4,0.4,2025,\"Working Tax Credit\"]],\"hovertemplate\":\"<b>%{customdata[4]} in %{customdata[3]}</b><br>Error: %{x}<br>Official: \\u00a3%{customdata[2]}bn<br>OpenFisca-UK: \\u00a3%{customdata[0]}bn<br>UKMOD: \\u00a3%{customdata[1]}bn\",\"legendgroup\":\"OpenFisca-UK\",\"marker\":{\"color\":\"blue\",\"pattern\":{\"shape\":\"\"}},\"name\":\"OpenFisca-UK\",\"offsetgroup\":\"OpenFisca-UK\",\"orientation\":\"h\",\"showlegend\":true,\"textposition\":\"auto\",\"type\":\"bar\",\"x\":[0.04,0.096,0.133,0.18600000000000003,0.325,0.446,0.647,0.956,1.449],\"xaxis\":\"x\",\"y\":[\"National Insurance (total)\",\"Child Benefit\",\"Income Tax\",\"Universal Credit\",\"Housing Benefit\",\"Pension Credit\",\"ESA (income-based)\",\"Child Tax Credit\",\"Working Tax Credit\"],\"yaxis\":\"y\"},{\"alignmentgroup\":\"True\",\"customdata\":[[165.2,151.9,172.1,2025,\"National Insurance (total)\"],[12.7,12.6,11.6,2025,\"Child Benefit\"],[205.9,187.9,237.5,2025,\"Income Tax\"],[55.3,45.6,68.0,2025,\"Universal Credit\"],[6.9,6.7,10.2,2025,\"Housing Benefit\"],[2.3,4.5,4.2,2025,\"Pension Credit\"],[1.2,1.2,3.5,2025,\"ESA (income-based)\"],[2.6,1.5,1.3,2025,\"Child Tax Credit\"],[0.9,0.4,0.4,2025,\"Working Tax Credit\"]],\"hovertemplate\":\"<b>%{customdata[4]} in %{customdata[3]}</b><br>Error: %{x}<br>Official: \\u00a3%{customdata[2]}bn<br>OpenFisca-UK: \\u00a3%{customdata[0]}bn<br>UKMOD: \\u00a3%{customdata[1]}bn\",\"legendgroup\":\"UKMOD\",\"marker\":{\"color\":\"lightgrey\",\"pattern\":{\"shape\":\"\"}},\"name\":\"UKMOD\",\"offsetgroup\":\"UKMOD\",\"orientation\":\"h\",\"showlegend\":true,\"textposition\":\"auto\",\"type\":\"bar\",\"x\":[0.11800000000000001,0.08199999999999999,0.209,0.32799999999999996,0.34299999999999997,0.057999999999999996,0.6509999999999999,0.091,0.146],\"xaxis\":\"x\",\"y\":[\"National Insurance (total)\",\"Child Benefit\",\"Income Tax\",\"Universal Credit\",\"Housing Benefit\",\"Pension Credit\",\"ESA (income-based)\",\"Child Tax Credit\",\"Working Tax Credit\"],\"yaxis\":\"y\"}],\"name\":\"2025\"}]);\n",
       "                        }).then(function(){\n",
       "                            \n",
       "var gd = document.getElementById('a62f6e53-c021-44c2-9742-b2d982fe064b');\n",
       "var x = new MutationObserver(function (mutations, observer) {{\n",
       "        var display = window.getComputedStyle(gd).display;\n",
       "        if (!display || display === 'none') {{\n",
       "            console.log([gd, 'removed!']);\n",
       "            Plotly.purge(gd);\n",
       "            observer.disconnect();\n",
       "        }}\n",
       "}});\n",
       "\n",
       "// Listen for the removal of the full notebook cells\n",
       "var notebookContainer = gd.closest('#notebook-container');\n",
       "if (notebookContainer) {{\n",
       "    x.observe(notebookContainer, {childList: true});\n",
       "}}\n",
       "\n",
       "// Listen for the clearing of the current output cell\n",
       "var outputEl = gd.closest('.output');\n",
       "if (outputEl) {{\n",
       "    x.observe(outputEl, {childList: true});\n",
       "}}\n",
       "\n",
       "                        })                };                });            </script>        </div>"
      ]
     },
     "metadata": {},
     "output_type": "display_data"
    }
   ],
   "source": [
    "pd.set_option(\"display.max_colwidth\", 0)\n",
    "pd.set_option(\"display.max_rows\", 500)\n",
    "\n",
    "def error_chart(table, title=None):\n",
    "    hovertemplate = \"<b>%{customdata[4]} in %{customdata[3]}</b><br>Error: %{x}<br>Official: £%{customdata[2]}bn<br>OpenFisca-UK: £%{customdata[0]}bn<br>UKMOD: £%{customdata[1]}bn\"\n",
    "    table = table.replace(\"\", np.nan).dropna(axis=0)\n",
    "    table[[OPENFISCA_UK, UKMOD]] = table[[OPENFISCA_UK, UKMOD]].abs() / 1e2\n",
    "    fig = (\n",
    "        px.bar(\n",
    "            table.sort_values([\"Year\", OPENFISCA_UK]),\n",
    "            x=[OPENFISCA_UK, UKMOD],\n",
    "            y=\"Program\",\n",
    "            orientation=\"h\",\n",
    "            animation_frame=\"Year\",\n",
    "            barmode=\"group\",\n",
    "            color_discrete_map={\n",
    "                OPENFISCA_UK: \"blue\",\n",
    "                UKMOD: \"lightgrey\",\n",
    "            },\n",
    "            custom_data=[\n",
    "                \"OpenFisca-UK budgetary impact\",\n",
    "                \"UKMOD budgetary impact\",\n",
    "                \"External budgetary impact\",\n",
    "                \"Year\",\n",
    "                \"Program\",\n",
    "            ],\n",
    "        )\n",
    "        .update_layout(\n",
    "            width=800,\n",
    "            height=600,\n",
    "            xaxis_tickformat=\".0%\",\n",
    "            xaxis_title=\"Relative error\",\n",
    "            title=title,\n",
    "            xaxis_range=(0, 1),\n",
    "            template=\"plotly_white\",\n",
    "            legend_title=\"Model\",\n",
    "            yaxis_title=\"\",\n",
    "            legend_traceorder=\"reversed\",\n",
    "        )\n",
    "        .update_traces(hovertemplate=hovertemplate)\n",
    "    )\n",
    "    for frame in fig.frames:\n",
    "        for data in frame.data:\n",
    "            data.hovertemplate = hovertemplate\n",
    "    return fig\n",
    "\n",
    "def table_to_model_comparison(table):\n",
    "    df = table.reset_index()\n",
    "    df.columns = [\"Model\", \"Year\"] + list(table.columns)\n",
    "    return pd.melt(df, id_vars=[\"Year\", \"Model\"]).pivot(index=[\"Year\", \"variable\"], columns=\"Model\", values=\"value\").reset_index().rename(columns=dict(variable=\"Program\"))\n",
    " \n",
    "def tables_to_model_comparisons(tables):\n",
    "    dfs = []\n",
    "    for key, table in tables.items():\n",
    "        df = table_to_model_comparison(table)\n",
    "        df = df.rename(columns={column: f\"{column} {key}\" if key != \"\" and column not in (\"Year\", \"Model\", \"Program\") else column for column in df.columns})\n",
    "        dfs.append(df)\n",
    "    df = pd.concat(dfs, axis=1)\n",
    "    df = df.loc[:,~df.columns.duplicated()]\n",
    "    return df\n",
    "\n",
    "error_chart(\n",
    "    tables_to_model_comparisons(\n",
    "        {\n",
    "            \"\": model_validation_table(relative_budgetary_impact_error, models=[OPENFISCA_UK, UKMOD], divisor=1e-2, decimals=1),\n",
    "            \"budgetary impact\": model_validation_table(budgetary_impact, divisor=1e9, decimals=1),\n",
    "        }\n",
    "    ),\n",
    "    title=\"Relative errors on budgetary impacts\"\n",
    ")"
   ]
  },
  {
   "cell_type": "markdown",
   "id": "f89a9c20-9f10-4a8e-9ce9-5d35cc59f936",
   "metadata": {},
   "source": [
    "## Caseload tables\n",
    "\n",
    "OpenFisca-UK uprates input FRS data: below are comparisons between the aggregates calculated by OpenFisca-UK, UKMOD and external sources.\n",
    "\n",
    "### Caseloads in full"
   ]
  },
  {
   "cell_type": "code",
   "execution_count": 6,
   "id": "63f78e85-f975-49f2-9aa5-be89d8d0e4f4",
   "metadata": {},
   "outputs": [
    {
     "data": {
      "text/html": [
       "<div>\n",
       "<style scoped>\n",
       "    .dataframe tbody tr th:only-of-type {\n",
       "        vertical-align: middle;\n",
       "    }\n",
       "\n",
       "    .dataframe tbody tr th {\n",
       "        vertical-align: top;\n",
       "    }\n",
       "\n",
       "    .dataframe thead th {\n",
       "        text-align: right;\n",
       "    }\n",
       "</style>\n",
       "<table border=\"1\" class=\"dataframe\">\n",
       "  <thead>\n",
       "    <tr style=\"text-align: right;\">\n",
       "      <th></th>\n",
       "      <th></th>\n",
       "      <th>Child Benefit</th>\n",
       "      <th>ESA (income-based)</th>\n",
       "      <th>Income Support</th>\n",
       "      <th>JSA (income-based)</th>\n",
       "      <th>Housing Benefit</th>\n",
       "      <th>Working Tax Credit</th>\n",
       "      <th>Child Tax Credit</th>\n",
       "      <th>Universal Credit</th>\n",
       "      <th>Pension Credit</th>\n",
       "      <th>Income Tax</th>\n",
       "      <th>National Insurance (total)</th>\n",
       "    </tr>\n",
       "  </thead>\n",
       "  <tbody>\n",
       "    <tr>\n",
       "      <th rowspan=\"7\" valign=\"top\">External</th>\n",
       "      <th>2019</th>\n",
       "      <td>7.3</td>\n",
       "      <td>1.1</td>\n",
       "      <td>0.4</td>\n",
       "      <td>0.1</td>\n",
       "      <td>3.4</td>\n",
       "      <td>1.6</td>\n",
       "      <td>2.8</td>\n",
       "      <td>2.1</td>\n",
       "      <td>1.6</td>\n",
       "      <td>31.4</td>\n",
       "      <td></td>\n",
       "    </tr>\n",
       "    <tr>\n",
       "      <th>2020</th>\n",
       "      <td>7.2</td>\n",
       "      <td>1.0</td>\n",
       "      <td>0.3</td>\n",
       "      <td>0.1</td>\n",
       "      <td>3.0</td>\n",
       "      <td>1.2</td>\n",
       "      <td>2.1</td>\n",
       "      <td>4.1</td>\n",
       "      <td>1.5</td>\n",
       "      <td>31.7</td>\n",
       "      <td></td>\n",
       "    </tr>\n",
       "    <tr>\n",
       "      <th>2021</th>\n",
       "      <td>7.1</td>\n",
       "      <td>0.4</td>\n",
       "      <td>0.2</td>\n",
       "      <td>0.1</td>\n",
       "      <td>2.9</td>\n",
       "      <td>1.0</td>\n",
       "      <td>1.7</td>\n",
       "      <td>4.3</td>\n",
       "      <td>1.5</td>\n",
       "      <td>32.2</td>\n",
       "      <td></td>\n",
       "    </tr>\n",
       "    <tr>\n",
       "      <th>2022</th>\n",
       "      <td>7.1</td>\n",
       "      <td>0.4</td>\n",
       "      <td>0.2</td>\n",
       "      <td>0.0</td>\n",
       "      <td>2.7</td>\n",
       "      <td>0.9</td>\n",
       "      <td>1.3</td>\n",
       "      <td>4.6</td>\n",
       "      <td>1.4</td>\n",
       "      <td>32.7</td>\n",
       "      <td></td>\n",
       "    </tr>\n",
       "    <tr>\n",
       "      <th>2023</th>\n",
       "      <td>7.0</td>\n",
       "      <td>0.3</td>\n",
       "      <td>0.1</td>\n",
       "      <td>0.0</td>\n",
       "      <td>2.5</td>\n",
       "      <td>0.8</td>\n",
       "      <td>1.1</td>\n",
       "      <td>5.0</td>\n",
       "      <td>1.3</td>\n",
       "      <td>33.2</td>\n",
       "      <td></td>\n",
       "    </tr>\n",
       "    <tr>\n",
       "      <th>2024</th>\n",
       "      <td>6.9</td>\n",
       "      <td>0.3</td>\n",
       "      <td>0.1</td>\n",
       "      <td>0.0</td>\n",
       "      <td>2.1</td>\n",
       "      <td>0.7</td>\n",
       "      <td>0.8</td>\n",
       "      <td>5.6</td>\n",
       "      <td>1.3</td>\n",
       "      <td>33.7</td>\n",
       "      <td></td>\n",
       "    </tr>\n",
       "    <tr>\n",
       "      <th>2025</th>\n",
       "      <td>6.9</td>\n",
       "      <td>0.1</td>\n",
       "      <td>0.0</td>\n",
       "      <td>0.0</td>\n",
       "      <td>1.7</td>\n",
       "      <td>0.6</td>\n",
       "      <td>0.7</td>\n",
       "      <td>6.3</td>\n",
       "      <td>1.2</td>\n",
       "      <td>34.3</td>\n",
       "      <td></td>\n",
       "    </tr>\n",
       "    <tr>\n",
       "      <th rowspan=\"7\" valign=\"top\">OpenFisca-UK</th>\n",
       "      <th>2019</th>\n",
       "      <td>6.9</td>\n",
       "      <td>0.9</td>\n",
       "      <td>0.3</td>\n",
       "      <td>0.1</td>\n",
       "      <td>2.5</td>\n",
       "      <td>1.1</td>\n",
       "      <td>2.2</td>\n",
       "      <td>1.7</td>\n",
       "      <td>1.2</td>\n",
       "      <td>28.2</td>\n",
       "      <td>25.9</td>\n",
       "    </tr>\n",
       "    <tr>\n",
       "      <th>2020</th>\n",
       "      <td>6.9</td>\n",
       "      <td>0.8</td>\n",
       "      <td>0.2</td>\n",
       "      <td>0.1</td>\n",
       "      <td>2.2</td>\n",
       "      <td>0.9</td>\n",
       "      <td>1.7</td>\n",
       "      <td>3.1</td>\n",
       "      <td>1.2</td>\n",
       "      <td>27.2</td>\n",
       "      <td>25.3</td>\n",
       "    </tr>\n",
       "    <tr>\n",
       "      <th>2021</th>\n",
       "      <td>6.8</td>\n",
       "      <td>0.4</td>\n",
       "      <td>0.2</td>\n",
       "      <td>0.1</td>\n",
       "      <td>2.2</td>\n",
       "      <td>0.8</td>\n",
       "      <td>1.4</td>\n",
       "      <td>3.3</td>\n",
       "      <td>1.2</td>\n",
       "      <td>28.3</td>\n",
       "      <td>26.1</td>\n",
       "    </tr>\n",
       "    <tr>\n",
       "      <th>2022</th>\n",
       "      <td>6.8</td>\n",
       "      <td>0.4</td>\n",
       "      <td>0.1</td>\n",
       "      <td>0.0</td>\n",
       "      <td>2.0</td>\n",
       "      <td>0.7</td>\n",
       "      <td>1.1</td>\n",
       "      <td>3.6</td>\n",
       "      <td>1.2</td>\n",
       "      <td>29.1</td>\n",
       "      <td>26.6</td>\n",
       "    </tr>\n",
       "    <tr>\n",
       "      <th>2023</th>\n",
       "      <td>6.7</td>\n",
       "      <td>0.4</td>\n",
       "      <td>0.1</td>\n",
       "      <td>0.0</td>\n",
       "      <td>1.9</td>\n",
       "      <td>0.6</td>\n",
       "      <td>0.9</td>\n",
       "      <td>4.0</td>\n",
       "      <td>1.1</td>\n",
       "      <td>30.0</td>\n",
       "      <td>27.0</td>\n",
       "    </tr>\n",
       "    <tr>\n",
       "      <th>2024</th>\n",
       "      <td>6.7</td>\n",
       "      <td>0.3</td>\n",
       "      <td>0.1</td>\n",
       "      <td>0.1</td>\n",
       "      <td>1.7</td>\n",
       "      <td>0.4</td>\n",
       "      <td>0.7</td>\n",
       "      <td>4.4</td>\n",
       "      <td>1.1</td>\n",
       "      <td>31.1</td>\n",
       "      <td>27.2</td>\n",
       "    </tr>\n",
       "    <tr>\n",
       "      <th>2025</th>\n",
       "      <td>6.7</td>\n",
       "      <td>0.1</td>\n",
       "      <td>0.0</td>\n",
       "      <td>0.0</td>\n",
       "      <td>1.4</td>\n",
       "      <td>0.3</td>\n",
       "      <td>0.5</td>\n",
       "      <td>4.8</td>\n",
       "      <td>1.0</td>\n",
       "      <td>32.0</td>\n",
       "      <td>27.2</td>\n",
       "    </tr>\n",
       "    <tr>\n",
       "      <th rowspan=\"7\" valign=\"top\">UKMOD</th>\n",
       "      <th>2019</th>\n",
       "      <td>7.1</td>\n",
       "      <td>0.9</td>\n",
       "      <td></td>\n",
       "      <td></td>\n",
       "      <td>2.9</td>\n",
       "      <td>0.8</td>\n",
       "      <td>1.7</td>\n",
       "      <td>2.1</td>\n",
       "      <td>1.5</td>\n",
       "      <td>39.9</td>\n",
       "      <td>26.9</td>\n",
       "    </tr>\n",
       "    <tr>\n",
       "      <th>2020</th>\n",
       "      <td>7.1</td>\n",
       "      <td>0.8</td>\n",
       "      <td></td>\n",
       "      <td></td>\n",
       "      <td>2.7</td>\n",
       "      <td>0.6</td>\n",
       "      <td>1.5</td>\n",
       "      <td>3.1</td>\n",
       "      <td>1.5</td>\n",
       "      <td>29.5</td>\n",
       "      <td>20.3</td>\n",
       "    </tr>\n",
       "    <tr>\n",
       "      <th>2021</th>\n",
       "      <td>7.2</td>\n",
       "      <td>0.7</td>\n",
       "      <td></td>\n",
       "      <td></td>\n",
       "      <td>2.4</td>\n",
       "      <td>0.7</td>\n",
       "      <td>1.3</td>\n",
       "      <td>3.6</td>\n",
       "      <td>1.4</td>\n",
       "      <td>29.4</td>\n",
       "      <td>25.3</td>\n",
       "    </tr>\n",
       "    <tr>\n",
       "      <th>2022</th>\n",
       "      <td>7.1</td>\n",
       "      <td>0.6</td>\n",
       "      <td></td>\n",
       "      <td></td>\n",
       "      <td>2.3</td>\n",
       "      <td>0.5</td>\n",
       "      <td>1.1</td>\n",
       "      <td>4.2</td>\n",
       "      <td>1.4</td>\n",
       "      <td>30.0</td>\n",
       "      <td>26.1</td>\n",
       "    </tr>\n",
       "    <tr>\n",
       "      <th>2023</th>\n",
       "      <td>7.1</td>\n",
       "      <td>0.5</td>\n",
       "      <td></td>\n",
       "      <td></td>\n",
       "      <td>2.0</td>\n",
       "      <td>0.4</td>\n",
       "      <td>0.9</td>\n",
       "      <td>4.7</td>\n",
       "      <td>1.4</td>\n",
       "      <td>30.6</td>\n",
       "      <td>26.2</td>\n",
       "    </tr>\n",
       "    <tr>\n",
       "      <th>2024</th>\n",
       "      <td>7.0</td>\n",
       "      <td>0.3</td>\n",
       "      <td></td>\n",
       "      <td></td>\n",
       "      <td>1.8</td>\n",
       "      <td>0.3</td>\n",
       "      <td>0.6</td>\n",
       "      <td>5.3</td>\n",
       "      <td>1.4</td>\n",
       "      <td>30.9</td>\n",
       "      <td>26.2</td>\n",
       "    </tr>\n",
       "    <tr>\n",
       "      <th>2025</th>\n",
       "      <td>7.0</td>\n",
       "      <td>0.1</td>\n",
       "      <td></td>\n",
       "      <td></td>\n",
       "      <td>1.4</td>\n",
       "      <td>0.1</td>\n",
       "      <td>0.3</td>\n",
       "      <td>6.1</td>\n",
       "      <td>1.4</td>\n",
       "      <td>31.5</td>\n",
       "      <td>26.3</td>\n",
       "    </tr>\n",
       "  </tbody>\n",
       "</table>\n",
       "</div>"
      ],
      "text/plain": [
       "                   Child Benefit  ESA (income-based) Income Support  \\\n",
       "External     2019  7.3            1.1                 0.4             \n",
       "             2020  7.2            1.0                 0.3             \n",
       "             2021  7.1            0.4                 0.2             \n",
       "             2022  7.1            0.4                 0.2             \n",
       "             2023  7.0            0.3                 0.1             \n",
       "             2024  6.9            0.3                 0.1             \n",
       "             2025  6.9            0.1                 0.0             \n",
       "OpenFisca-UK 2019  6.9            0.9                 0.3             \n",
       "             2020  6.9            0.8                 0.2             \n",
       "             2021  6.8            0.4                 0.2             \n",
       "             2022  6.8            0.4                 0.1             \n",
       "             2023  6.7            0.4                 0.1             \n",
       "             2024  6.7            0.3                 0.1             \n",
       "             2025  6.7            0.1                 0.0             \n",
       "UKMOD        2019  7.1            0.9                                 \n",
       "             2020  7.1            0.8                                 \n",
       "             2021  7.2            0.7                                 \n",
       "             2022  7.1            0.6                                 \n",
       "             2023  7.1            0.5                                 \n",
       "             2024  7.0            0.3                                 \n",
       "             2025  7.0            0.1                                 \n",
       "\n",
       "                  JSA (income-based)  Housing Benefit  Working Tax Credit  \\\n",
       "External     2019  0.1                3.4              1.6                  \n",
       "             2020  0.1                3.0              1.2                  \n",
       "             2021  0.1                2.9              1.0                  \n",
       "             2022  0.0                2.7              0.9                  \n",
       "             2023  0.0                2.5              0.8                  \n",
       "             2024  0.0                2.1              0.7                  \n",
       "             2025  0.0                1.7              0.6                  \n",
       "OpenFisca-UK 2019  0.1                2.5              1.1                  \n",
       "             2020  0.1                2.2              0.9                  \n",
       "             2021  0.1                2.2              0.8                  \n",
       "             2022  0.0                2.0              0.7                  \n",
       "             2023  0.0                1.9              0.6                  \n",
       "             2024  0.1                1.7              0.4                  \n",
       "             2025  0.0                1.4              0.3                  \n",
       "UKMOD        2019                     2.9              0.8                  \n",
       "             2020                     2.7              0.6                  \n",
       "             2021                     2.4              0.7                  \n",
       "             2022                     2.3              0.5                  \n",
       "             2023                     2.0              0.4                  \n",
       "             2024                     1.8              0.3                  \n",
       "             2025                     1.4              0.1                  \n",
       "\n",
       "                   Child Tax Credit  Universal Credit  Pension Credit  \\\n",
       "External     2019  2.8               2.1               1.6              \n",
       "             2020  2.1               4.1               1.5              \n",
       "             2021  1.7               4.3               1.5              \n",
       "             2022  1.3               4.6               1.4              \n",
       "             2023  1.1               5.0               1.3              \n",
       "             2024  0.8               5.6               1.3              \n",
       "             2025  0.7               6.3               1.2              \n",
       "OpenFisca-UK 2019  2.2               1.7               1.2              \n",
       "             2020  1.7               3.1               1.2              \n",
       "             2021  1.4               3.3               1.2              \n",
       "             2022  1.1               3.6               1.2              \n",
       "             2023  0.9               4.0               1.1              \n",
       "             2024  0.7               4.4               1.1              \n",
       "             2025  0.5               4.8               1.0              \n",
       "UKMOD        2019  1.7               2.1               1.5              \n",
       "             2020  1.5               3.1               1.5              \n",
       "             2021  1.3               3.6               1.4              \n",
       "             2022  1.1               4.2               1.4              \n",
       "             2023  0.9               4.7               1.4              \n",
       "             2024  0.6               5.3               1.4              \n",
       "             2025  0.3               6.1               1.4              \n",
       "\n",
       "                   Income Tax National Insurance (total)  \n",
       "External     2019  31.4                                   \n",
       "             2020  31.7                                   \n",
       "             2021  32.2                                   \n",
       "             2022  32.7                                   \n",
       "             2023  33.2                                   \n",
       "             2024  33.7                                   \n",
       "             2025  34.3                                   \n",
       "OpenFisca-UK 2019  28.2        25.9                       \n",
       "             2020  27.2        25.3                       \n",
       "             2021  28.3        26.1                       \n",
       "             2022  29.1        26.6                       \n",
       "             2023  30.0        27.0                       \n",
       "             2024  31.1        27.2                       \n",
       "             2025  32.0        27.2                       \n",
       "UKMOD        2019  39.9        26.9                       \n",
       "             2020  29.5        20.3                       \n",
       "             2021  29.4        25.3                       \n",
       "             2022  30.0        26.1                       \n",
       "             2023  30.6        26.2                       \n",
       "             2024  30.9        26.2                       \n",
       "             2025  31.5        26.3                       "
      ]
     },
     "execution_count": 6,
     "metadata": {},
     "output_type": "execute_result"
    }
   ],
   "source": [
    "def caseload(model, year, variable):\n",
    "    try:\n",
    "        if model == OPENFISCA_UK:\n",
    "            return (sim.calc(variable, period=year) > 0).sum()\n",
    "        elif model == UKMOD:\n",
    "            return getattr(ukmod_statistics.ukmod.nonzero_units, variable)(f\"{year}-01-01\")\n",
    "        elif model == EXTERNAL:\n",
    "            try:\n",
    "                return getattr(parameters.calibration.families.by_program_participation, variable)(f\"{year}-01-01\")\n",
    "            except:\n",
    "                return getattr(parameters.calibration.populations.by_program_participation, variable)(f\"{year}-01-01\")\n",
    "    except:\n",
    "        return np.nan\n",
    "\n",
    "model_validation_table(caseload, models=[EXTERNAL, OPENFISCA_UK, UKMOD], divisor=1e6, decimals=1)"
   ]
  },
  {
   "cell_type": "markdown",
   "id": "ff161a6a-52b4-4851-9c48-1aede9f8fef0",
   "metadata": {},
   "source": [
    "### Differences\n",
    "\n",
    "#### Absolute"
   ]
  },
  {
   "cell_type": "code",
   "execution_count": 7,
   "id": "89b1f1ba-7545-40e1-83b1-bf934ad6aaff",
   "metadata": {
    "tags": [
     "hide-input"
    ]
   },
   "outputs": [
    {
     "data": {
      "text/html": [
       "<div>\n",
       "<style scoped>\n",
       "    .dataframe tbody tr th:only-of-type {\n",
       "        vertical-align: middle;\n",
       "    }\n",
       "\n",
       "    .dataframe tbody tr th {\n",
       "        vertical-align: top;\n",
       "    }\n",
       "\n",
       "    .dataframe thead th {\n",
       "        text-align: right;\n",
       "    }\n",
       "</style>\n",
       "<table border=\"1\" class=\"dataframe\">\n",
       "  <thead>\n",
       "    <tr style=\"text-align: right;\">\n",
       "      <th></th>\n",
       "      <th></th>\n",
       "      <th>Child Benefit</th>\n",
       "      <th>ESA (income-based)</th>\n",
       "      <th>Income Support</th>\n",
       "      <th>JSA (income-based)</th>\n",
       "      <th>Housing Benefit</th>\n",
       "      <th>Working Tax Credit</th>\n",
       "      <th>Child Tax Credit</th>\n",
       "      <th>Universal Credit</th>\n",
       "      <th>Pension Credit</th>\n",
       "      <th>Income Tax</th>\n",
       "    </tr>\n",
       "  </thead>\n",
       "  <tbody>\n",
       "    <tr>\n",
       "      <th rowspan=\"7\" valign=\"top\">OpenFisca-UK</th>\n",
       "      <th>2019</th>\n",
       "      <td>-0.4</td>\n",
       "      <td>-0.2</td>\n",
       "      <td>-0.0</td>\n",
       "      <td>-0.0</td>\n",
       "      <td>-0.9</td>\n",
       "      <td>-0.5</td>\n",
       "      <td>-0.6</td>\n",
       "      <td>-0.4</td>\n",
       "      <td>-0.3</td>\n",
       "      <td>-3.2</td>\n",
       "    </tr>\n",
       "    <tr>\n",
       "      <th>2020</th>\n",
       "      <td>-0.3</td>\n",
       "      <td>-0.1</td>\n",
       "      <td>-0.0</td>\n",
       "      <td>-0.0</td>\n",
       "      <td>-0.8</td>\n",
       "      <td>-0.3</td>\n",
       "      <td>-0.4</td>\n",
       "      <td>-0.9</td>\n",
       "      <td>-0.3</td>\n",
       "      <td>-4.5</td>\n",
       "    </tr>\n",
       "    <tr>\n",
       "      <th>2021</th>\n",
       "      <td>-0.3</td>\n",
       "      <td>0.0</td>\n",
       "      <td>-0.0</td>\n",
       "      <td>-0.0</td>\n",
       "      <td>-0.8</td>\n",
       "      <td>-0.3</td>\n",
       "      <td>-0.3</td>\n",
       "      <td>-1.0</td>\n",
       "      <td>-0.3</td>\n",
       "      <td>-3.9</td>\n",
       "    </tr>\n",
       "    <tr>\n",
       "      <th>2022</th>\n",
       "      <td>-0.3</td>\n",
       "      <td>0.0</td>\n",
       "      <td>-0.0</td>\n",
       "      <td>-0.0</td>\n",
       "      <td>-0.7</td>\n",
       "      <td>-0.3</td>\n",
       "      <td>-0.2</td>\n",
       "      <td>-1.0</td>\n",
       "      <td>-0.3</td>\n",
       "      <td>-3.6</td>\n",
       "    </tr>\n",
       "    <tr>\n",
       "      <th>2023</th>\n",
       "      <td>-0.3</td>\n",
       "      <td>0.0</td>\n",
       "      <td>-0.0</td>\n",
       "      <td>-0.0</td>\n",
       "      <td>-0.6</td>\n",
       "      <td>-0.2</td>\n",
       "      <td>-0.1</td>\n",
       "      <td>-1.1</td>\n",
       "      <td>-0.2</td>\n",
       "      <td>-3.3</td>\n",
       "    </tr>\n",
       "    <tr>\n",
       "      <th>2024</th>\n",
       "      <td>-0.2</td>\n",
       "      <td>0.0</td>\n",
       "      <td>-0.0</td>\n",
       "      <td>0.1</td>\n",
       "      <td>-0.4</td>\n",
       "      <td>-0.2</td>\n",
       "      <td>-0.2</td>\n",
       "      <td>-1.3</td>\n",
       "      <td>-0.2</td>\n",
       "      <td>-2.7</td>\n",
       "    </tr>\n",
       "    <tr>\n",
       "      <th>2025</th>\n",
       "      <td>-0.2</td>\n",
       "      <td>0.0</td>\n",
       "      <td>-0.0</td>\n",
       "      <td>0.0</td>\n",
       "      <td>-0.3</td>\n",
       "      <td>-0.3</td>\n",
       "      <td>-0.2</td>\n",
       "      <td>-1.5</td>\n",
       "      <td>-0.2</td>\n",
       "      <td>-2.3</td>\n",
       "    </tr>\n",
       "    <tr>\n",
       "      <th rowspan=\"7\" valign=\"top\">UKMOD</th>\n",
       "      <th>2019</th>\n",
       "      <td>-0.2</td>\n",
       "      <td>-0.2</td>\n",
       "      <td></td>\n",
       "      <td></td>\n",
       "      <td>-0.5</td>\n",
       "      <td>-0.8</td>\n",
       "      <td>-1.1</td>\n",
       "      <td>-0.0</td>\n",
       "      <td>-0.0</td>\n",
       "      <td>8.5</td>\n",
       "    </tr>\n",
       "    <tr>\n",
       "      <th>2020</th>\n",
       "      <td>-0.1</td>\n",
       "      <td>-0.2</td>\n",
       "      <td></td>\n",
       "      <td></td>\n",
       "      <td>-0.3</td>\n",
       "      <td>-0.6</td>\n",
       "      <td>-0.6</td>\n",
       "      <td>-0.9</td>\n",
       "      <td>0.1</td>\n",
       "      <td>-2.2</td>\n",
       "    </tr>\n",
       "    <tr>\n",
       "      <th>2021</th>\n",
       "      <td>0.0</td>\n",
       "      <td>0.3</td>\n",
       "      <td></td>\n",
       "      <td></td>\n",
       "      <td>-0.5</td>\n",
       "      <td>-0.4</td>\n",
       "      <td>-0.4</td>\n",
       "      <td>-0.7</td>\n",
       "      <td>-0.1</td>\n",
       "      <td>-2.8</td>\n",
       "    </tr>\n",
       "    <tr>\n",
       "      <th>2022</th>\n",
       "      <td>0.0</td>\n",
       "      <td>0.2</td>\n",
       "      <td></td>\n",
       "      <td></td>\n",
       "      <td>-0.4</td>\n",
       "      <td>-0.4</td>\n",
       "      <td>-0.3</td>\n",
       "      <td>-0.4</td>\n",
       "      <td>0.0</td>\n",
       "      <td>-2.7</td>\n",
       "    </tr>\n",
       "    <tr>\n",
       "      <th>2023</th>\n",
       "      <td>0.1</td>\n",
       "      <td>0.1</td>\n",
       "      <td></td>\n",
       "      <td></td>\n",
       "      <td>-0.4</td>\n",
       "      <td>-0.3</td>\n",
       "      <td>-0.2</td>\n",
       "      <td>-0.4</td>\n",
       "      <td>0.1</td>\n",
       "      <td>-2.6</td>\n",
       "    </tr>\n",
       "    <tr>\n",
       "      <th>2024</th>\n",
       "      <td>0.1</td>\n",
       "      <td>0.1</td>\n",
       "      <td></td>\n",
       "      <td></td>\n",
       "      <td>-0.3</td>\n",
       "      <td>-0.4</td>\n",
       "      <td>-0.2</td>\n",
       "      <td>-0.3</td>\n",
       "      <td>0.2</td>\n",
       "      <td>-2.8</td>\n",
       "    </tr>\n",
       "    <tr>\n",
       "      <th>2025</th>\n",
       "      <td>0.1</td>\n",
       "      <td>0.0</td>\n",
       "      <td></td>\n",
       "      <td></td>\n",
       "      <td>-0.3</td>\n",
       "      <td>-0.5</td>\n",
       "      <td>-0.4</td>\n",
       "      <td>-0.1</td>\n",
       "      <td>0.2</td>\n",
       "      <td>-2.8</td>\n",
       "    </tr>\n",
       "  </tbody>\n",
       "</table>\n",
       "</div>"
      ],
      "text/plain": [
       "                   Child Benefit  ESA (income-based) Income Support  \\\n",
       "OpenFisca-UK 2019 -0.4           -0.2                -0.0             \n",
       "             2020 -0.3           -0.1                -0.0             \n",
       "             2021 -0.3            0.0                -0.0             \n",
       "             2022 -0.3            0.0                -0.0             \n",
       "             2023 -0.3            0.0                -0.0             \n",
       "             2024 -0.2            0.0                -0.0             \n",
       "             2025 -0.2            0.0                -0.0             \n",
       "UKMOD        2019 -0.2           -0.2                                 \n",
       "             2020 -0.1           -0.2                                 \n",
       "             2021  0.0            0.3                                 \n",
       "             2022  0.0            0.2                                 \n",
       "             2023  0.1            0.1                                 \n",
       "             2024  0.1            0.1                                 \n",
       "             2025  0.1            0.0                                 \n",
       "\n",
       "                  JSA (income-based)  Housing Benefit  Working Tax Credit  \\\n",
       "OpenFisca-UK 2019 -0.0               -0.9             -0.5                  \n",
       "             2020 -0.0               -0.8             -0.3                  \n",
       "             2021 -0.0               -0.8             -0.3                  \n",
       "             2022 -0.0               -0.7             -0.3                  \n",
       "             2023 -0.0               -0.6             -0.2                  \n",
       "             2024  0.1               -0.4             -0.2                  \n",
       "             2025  0.0               -0.3             -0.3                  \n",
       "UKMOD        2019                    -0.5             -0.8                  \n",
       "             2020                    -0.3             -0.6                  \n",
       "             2021                    -0.5             -0.4                  \n",
       "             2022                    -0.4             -0.4                  \n",
       "             2023                    -0.4             -0.3                  \n",
       "             2024                    -0.3             -0.4                  \n",
       "             2025                    -0.3             -0.5                  \n",
       "\n",
       "                   Child Tax Credit  Universal Credit  Pension Credit  \\\n",
       "OpenFisca-UK 2019 -0.6              -0.4              -0.3              \n",
       "             2020 -0.4              -0.9              -0.3              \n",
       "             2021 -0.3              -1.0              -0.3              \n",
       "             2022 -0.2              -1.0              -0.3              \n",
       "             2023 -0.1              -1.1              -0.2              \n",
       "             2024 -0.2              -1.3              -0.2              \n",
       "             2025 -0.2              -1.5              -0.2              \n",
       "UKMOD        2019 -1.1              -0.0              -0.0              \n",
       "             2020 -0.6              -0.9               0.1              \n",
       "             2021 -0.4              -0.7              -0.1              \n",
       "             2022 -0.3              -0.4               0.0              \n",
       "             2023 -0.2              -0.4               0.1              \n",
       "             2024 -0.2              -0.3               0.2              \n",
       "             2025 -0.4              -0.1               0.2              \n",
       "\n",
       "                   Income Tax  \n",
       "OpenFisca-UK 2019 -3.2         \n",
       "             2020 -4.5         \n",
       "             2021 -3.9         \n",
       "             2022 -3.6         \n",
       "             2023 -3.3         \n",
       "             2024 -2.7         \n",
       "             2025 -2.3         \n",
       "UKMOD        2019  8.5         \n",
       "             2020 -2.2         \n",
       "             2021 -2.8         \n",
       "             2022 -2.7         \n",
       "             2023 -2.6         \n",
       "             2024 -2.8         \n",
       "             2025 -2.8         "
      ]
     },
     "execution_count": 7,
     "metadata": {},
     "output_type": "execute_result"
    }
   ],
   "source": [
    "def caseload_error(model, year, variable):\n",
    "    try:\n",
    "        if model == OPENFISCA_UK:\n",
    "            return (sim.calc(variable, period=year) > 0).sum() - caseload(EXTERNAL, year, variable)\n",
    "        elif model == UKMOD:\n",
    "            return getattr(ukmod_statistics.ukmod.nonzero_units, variable)(f\"{year}-01-01\") - caseload(EXTERNAL, year, variable)\n",
    "    except:\n",
    "        return np.nan\n",
    "\n",
    "model_validation_table(caseload_error, variables=VARIABLES[:-1], models=[OPENFISCA_UK, UKMOD], divisor=1e6, decimals=1)"
   ]
  },
  {
   "cell_type": "markdown",
   "id": "6a679603-acf0-44ea-a3b8-687e703bd041",
   "metadata": {},
   "source": [
    "#### Relative"
   ]
  },
  {
   "cell_type": "code",
   "execution_count": 8,
   "id": "55d5b862-5737-4148-a535-5c8bebfb129f",
   "metadata": {
    "tags": [
     "hide-input"
    ]
   },
   "outputs": [
    {
     "data": {
      "text/html": [
       "<div>\n",
       "<style scoped>\n",
       "    .dataframe tbody tr th:only-of-type {\n",
       "        vertical-align: middle;\n",
       "    }\n",
       "\n",
       "    .dataframe tbody tr th {\n",
       "        vertical-align: top;\n",
       "    }\n",
       "\n",
       "    .dataframe thead th {\n",
       "        text-align: right;\n",
       "    }\n",
       "</style>\n",
       "<table border=\"1\" class=\"dataframe\">\n",
       "  <thead>\n",
       "    <tr style=\"text-align: right;\">\n",
       "      <th></th>\n",
       "      <th></th>\n",
       "      <th>Child Benefit</th>\n",
       "      <th>ESA (income-based)</th>\n",
       "      <th>Income Support</th>\n",
       "      <th>JSA (income-based)</th>\n",
       "      <th>Housing Benefit</th>\n",
       "      <th>Working Tax Credit</th>\n",
       "      <th>Child Tax Credit</th>\n",
       "      <th>Universal Credit</th>\n",
       "      <th>Pension Credit</th>\n",
       "      <th>Income Tax</th>\n",
       "    </tr>\n",
       "  </thead>\n",
       "  <tbody>\n",
       "    <tr>\n",
       "      <th rowspan=\"7\" valign=\"top\">OpenFisca-UK</th>\n",
       "      <th>2019</th>\n",
       "      <td>-5.5</td>\n",
       "      <td>-15.8</td>\n",
       "      <td>-10.3</td>\n",
       "      <td>-24.3</td>\n",
       "      <td>-26.3</td>\n",
       "      <td>-31.9</td>\n",
       "      <td>-22.9</td>\n",
       "      <td>-20.1</td>\n",
       "      <td>-20.1</td>\n",
       "      <td>-10.1</td>\n",
       "    </tr>\n",
       "    <tr>\n",
       "      <th>2020</th>\n",
       "      <td>-4.4</td>\n",
       "      <td>-13.1</td>\n",
       "      <td>-11.1</td>\n",
       "      <td>-15.2</td>\n",
       "      <td>-26.6</td>\n",
       "      <td>-25.2</td>\n",
       "      <td>-18.8</td>\n",
       "      <td>-23.1</td>\n",
       "      <td>-20.6</td>\n",
       "      <td>-14.2</td>\n",
       "    </tr>\n",
       "    <tr>\n",
       "      <th>2021</th>\n",
       "      <td>-4.4</td>\n",
       "      <td>1.8</td>\n",
       "      <td>-9.5</td>\n",
       "      <td>-7.7</td>\n",
       "      <td>-26.4</td>\n",
       "      <td>-25.1</td>\n",
       "      <td>-17.2</td>\n",
       "      <td>-22.9</td>\n",
       "      <td>-18.7</td>\n",
       "      <td>-12.1</td>\n",
       "    </tr>\n",
       "    <tr>\n",
       "      <th>2022</th>\n",
       "      <td>-4.0</td>\n",
       "      <td>2.9</td>\n",
       "      <td>-11.7</td>\n",
       "      <td>-4.3</td>\n",
       "      <td>-24.6</td>\n",
       "      <td>-27.9</td>\n",
       "      <td>-14.3</td>\n",
       "      <td>-22.1</td>\n",
       "      <td>-17.9</td>\n",
       "      <td>-11.1</td>\n",
       "    </tr>\n",
       "    <tr>\n",
       "      <th>2023</th>\n",
       "      <td>-3.7</td>\n",
       "      <td>4.1</td>\n",
       "      <td>-14.5</td>\n",
       "      <td>-100.0</td>\n",
       "      <td>-23.1</td>\n",
       "      <td>-30.2</td>\n",
       "      <td>-14.1</td>\n",
       "      <td>-21.7</td>\n",
       "      <td>-17.3</td>\n",
       "      <td>-9.8</td>\n",
       "    </tr>\n",
       "    <tr>\n",
       "      <th>2024</th>\n",
       "      <td>-3.3</td>\n",
       "      <td>4.6</td>\n",
       "      <td>-12.3</td>\n",
       "      <td>inf</td>\n",
       "      <td>-20.0</td>\n",
       "      <td>-35.1</td>\n",
       "      <td>-17.9</td>\n",
       "      <td>-22.4</td>\n",
       "      <td>-17.9</td>\n",
       "      <td>-7.9</td>\n",
       "    </tr>\n",
       "    <tr>\n",
       "      <th>2025</th>\n",
       "      <td>-2.6</td>\n",
       "      <td>5.3</td>\n",
       "      <td>-5.1</td>\n",
       "      <td>inf</td>\n",
       "      <td>-16.7</td>\n",
       "      <td>-47.6</td>\n",
       "      <td>-31.4</td>\n",
       "      <td>-23.5</td>\n",
       "      <td>-18.8</td>\n",
       "      <td>-6.6</td>\n",
       "    </tr>\n",
       "    <tr>\n",
       "      <th rowspan=\"7\" valign=\"top\">UKMOD</th>\n",
       "      <th>2019</th>\n",
       "      <td>-2.5</td>\n",
       "      <td>-15.6</td>\n",
       "      <td></td>\n",
       "      <td></td>\n",
       "      <td>-14.2</td>\n",
       "      <td>-49.8</td>\n",
       "      <td>-38.7</td>\n",
       "      <td>-0.2</td>\n",
       "      <td>-2.6</td>\n",
       "      <td>26.9</td>\n",
       "    </tr>\n",
       "    <tr>\n",
       "      <th>2020</th>\n",
       "      <td>-1.6</td>\n",
       "      <td>-17.5</td>\n",
       "      <td></td>\n",
       "      <td></td>\n",
       "      <td>-11.3</td>\n",
       "      <td>-48.2</td>\n",
       "      <td>-30.4</td>\n",
       "      <td>-22.3</td>\n",
       "      <td>4.5</td>\n",
       "      <td>-6.8</td>\n",
       "    </tr>\n",
       "    <tr>\n",
       "      <th>2021</th>\n",
       "      <td>0.3</td>\n",
       "      <td>72.2</td>\n",
       "      <td></td>\n",
       "      <td></td>\n",
       "      <td>-16.7</td>\n",
       "      <td>-36.4</td>\n",
       "      <td>-22.2</td>\n",
       "      <td>-16.4</td>\n",
       "      <td>-3.9</td>\n",
       "      <td>-8.6</td>\n",
       "    </tr>\n",
       "    <tr>\n",
       "      <th>2022</th>\n",
       "      <td>0.6</td>\n",
       "      <td>55.8</td>\n",
       "      <td></td>\n",
       "      <td></td>\n",
       "      <td>-16.5</td>\n",
       "      <td>-40.6</td>\n",
       "      <td>-19.3</td>\n",
       "      <td>-9.4</td>\n",
       "      <td>0.5</td>\n",
       "      <td>-8.2</td>\n",
       "    </tr>\n",
       "    <tr>\n",
       "      <th>2023</th>\n",
       "      <td>1.0</td>\n",
       "      <td>42.2</td>\n",
       "      <td></td>\n",
       "      <td></td>\n",
       "      <td>-16.6</td>\n",
       "      <td>-44.0</td>\n",
       "      <td>-16.1</td>\n",
       "      <td>-7.8</td>\n",
       "      <td>7.8</td>\n",
       "      <td>-7.9</td>\n",
       "    </tr>\n",
       "    <tr>\n",
       "      <th>2024</th>\n",
       "      <td>1.3</td>\n",
       "      <td>29.5</td>\n",
       "      <td></td>\n",
       "      <td></td>\n",
       "      <td>-15.7</td>\n",
       "      <td>-56.9</td>\n",
       "      <td>-23.6</td>\n",
       "      <td>-5.2</td>\n",
       "      <td>12.3</td>\n",
       "      <td>-8.3</td>\n",
       "    </tr>\n",
       "    <tr>\n",
       "      <th>2025</th>\n",
       "      <td>1.8</td>\n",
       "      <td>10.6</td>\n",
       "      <td></td>\n",
       "      <td></td>\n",
       "      <td>-17.0</td>\n",
       "      <td>-78.5</td>\n",
       "      <td>-56.3</td>\n",
       "      <td>-2.2</td>\n",
       "      <td>14.9</td>\n",
       "      <td>-8.2</td>\n",
       "    </tr>\n",
       "  </tbody>\n",
       "</table>\n",
       "</div>"
      ],
      "text/plain": [
       "                   Child Benefit  ESA (income-based) Income Support  \\\n",
       "OpenFisca-UK 2019 -5.5           -15.8               -10.3            \n",
       "             2020 -4.4           -13.1               -11.1            \n",
       "             2021 -4.4            1.8                -9.5             \n",
       "             2022 -4.0            2.9                -11.7            \n",
       "             2023 -3.7            4.1                -14.5            \n",
       "             2024 -3.3            4.6                -12.3            \n",
       "             2025 -2.6            5.3                -5.1             \n",
       "UKMOD        2019 -2.5           -15.6                                \n",
       "             2020 -1.6           -17.5                                \n",
       "             2021  0.3            72.2                                \n",
       "             2022  0.6            55.8                                \n",
       "             2023  1.0            42.2                                \n",
       "             2024  1.3            29.5                                \n",
       "             2025  1.8            10.6                                \n",
       "\n",
       "                  JSA (income-based)  Housing Benefit  Working Tax Credit  \\\n",
       "OpenFisca-UK 2019 -24.3              -26.3            -31.9                 \n",
       "             2020 -15.2              -26.6            -25.2                 \n",
       "             2021 -7.7               -26.4            -25.1                 \n",
       "             2022 -4.3               -24.6            -27.9                 \n",
       "             2023 -100.0             -23.1            -30.2                 \n",
       "             2024  inf               -20.0            -35.1                 \n",
       "             2025  inf               -16.7            -47.6                 \n",
       "UKMOD        2019                    -14.2            -49.8                 \n",
       "             2020                    -11.3            -48.2                 \n",
       "             2021                    -16.7            -36.4                 \n",
       "             2022                    -16.5            -40.6                 \n",
       "             2023                    -16.6            -44.0                 \n",
       "             2024                    -15.7            -56.9                 \n",
       "             2025                    -17.0            -78.5                 \n",
       "\n",
       "                   Child Tax Credit  Universal Credit  Pension Credit  \\\n",
       "OpenFisca-UK 2019 -22.9             -20.1             -20.1             \n",
       "             2020 -18.8             -23.1             -20.6             \n",
       "             2021 -17.2             -22.9             -18.7             \n",
       "             2022 -14.3             -22.1             -17.9             \n",
       "             2023 -14.1             -21.7             -17.3             \n",
       "             2024 -17.9             -22.4             -17.9             \n",
       "             2025 -31.4             -23.5             -18.8             \n",
       "UKMOD        2019 -38.7             -0.2              -2.6              \n",
       "             2020 -30.4             -22.3              4.5              \n",
       "             2021 -22.2             -16.4             -3.9              \n",
       "             2022 -19.3             -9.4               0.5              \n",
       "             2023 -16.1             -7.8               7.8              \n",
       "             2024 -23.6             -5.2               12.3             \n",
       "             2025 -56.3             -2.2               14.9             \n",
       "\n",
       "                   Income Tax  \n",
       "OpenFisca-UK 2019 -10.1        \n",
       "             2020 -14.2        \n",
       "             2021 -12.1        \n",
       "             2022 -11.1        \n",
       "             2023 -9.8         \n",
       "             2024 -7.9         \n",
       "             2025 -6.6         \n",
       "UKMOD        2019  26.9        \n",
       "             2020 -6.8         \n",
       "             2021 -8.6         \n",
       "             2022 -8.2         \n",
       "             2023 -7.9         \n",
       "             2024 -8.3         \n",
       "             2025 -8.2         "
      ]
     },
     "execution_count": 8,
     "metadata": {},
     "output_type": "execute_result"
    }
   ],
   "source": [
    "def relative_caseload_error(model, year, variable):\n",
    "    try:\n",
    "        if model == OPENFISCA_UK:\n",
    "            return (sim.calc(variable, period=year) > 0).sum() / caseload(EXTERNAL, year, variable) - 1\n",
    "        elif model == UKMOD:\n",
    "            return getattr(ukmod_statistics.ukmod.nonzero_units, variable)(f\"{year}-01-01\") / caseload(EXTERNAL, year, variable) - 1\n",
    "    except:\n",
    "        return np.nan\n",
    "\n",
    "model_validation_table(relative_caseload_error, variables=VARIABLES[:-1], models=[OPENFISCA_UK, UKMOD], divisor=1e-2, decimals=1)"
   ]
  },
  {
   "cell_type": "code",
   "execution_count": 21,
   "id": "6f47e9b2-895d-4a70-9206-282bddff8769",
   "metadata": {},
   "outputs": [
    {
     "data": {
      "application/vnd.plotly.v1+json": {
       "config": {
        "plotlyServerURL": "https://plot.ly"
       },
       "data": [
        {
         "alignmentgroup": "True",
         "customdata": [
          [
           0.4,
           0.6,
           0.4,
           2022,
           "ESA (income-based)"
          ],
          [
           6.8,
           7.1,
           7.1,
           2022,
           "Child Benefit"
          ],
          [
           29.1,
           30,
           32.7,
           2022,
           "Income Tax"
          ],
          [
           1.1,
           1.1,
           1.3,
           2022,
           "Child Tax Credit"
          ],
          [
           1.2,
           1.4,
           1.4,
           2022,
           "Pension Credit"
          ],
          [
           3.6,
           4.2,
           4.6,
           2022,
           "Universal Credit"
          ],
          [
           2,
           2.3,
           2.7,
           2022,
           "Housing Benefit"
          ],
          [
           0.7,
           0.5,
           0.9,
           2022,
           "Working Tax Credit"
          ]
         ],
         "hovertemplate": "<b>%{customdata[4]} in %{customdata[3]}</b><br>Error: %{x}<br>Official: %{customdata[2]}m<br>OpenFisca-UK: %{customdata[0]}m<br>UKMOD: %{customdata[1]}m",
         "legendgroup": "OpenFisca-UK",
         "marker": {
          "color": "blue",
          "pattern": {
           "shape": ""
          }
         },
         "name": "OpenFisca-UK",
         "offsetgroup": "OpenFisca-UK",
         "orientation": "h",
         "showlegend": true,
         "textposition": "auto",
         "type": "bar",
         "x": [
          0.028999999999999998,
          0.04,
          0.111,
          0.14300000000000002,
          0.179,
          0.221,
          0.24600000000000002,
          0.27899999999999997
         ],
         "xaxis": "x",
         "y": [
          "ESA (income-based)",
          "Child Benefit",
          "Income Tax",
          "Child Tax Credit",
          "Pension Credit",
          "Universal Credit",
          "Housing Benefit",
          "Working Tax Credit"
         ],
         "yaxis": "y"
        },
        {
         "alignmentgroup": "True",
         "customdata": [
          [
           0.4,
           0.6,
           0.4,
           2022,
           "ESA (income-based)"
          ],
          [
           6.8,
           7.1,
           7.1,
           2022,
           "Child Benefit"
          ],
          [
           29.1,
           30,
           32.7,
           2022,
           "Income Tax"
          ],
          [
           1.1,
           1.1,
           1.3,
           2022,
           "Child Tax Credit"
          ],
          [
           1.2,
           1.4,
           1.4,
           2022,
           "Pension Credit"
          ],
          [
           3.6,
           4.2,
           4.6,
           2022,
           "Universal Credit"
          ],
          [
           2,
           2.3,
           2.7,
           2022,
           "Housing Benefit"
          ],
          [
           0.7,
           0.5,
           0.9,
           2022,
           "Working Tax Credit"
          ]
         ],
         "hovertemplate": "<b>%{customdata[4]} in %{customdata[3]}</b><br>Error: %{x}<br>Official: %{customdata[2]}m<br>OpenFisca-UK: %{customdata[0]}m<br>UKMOD: %{customdata[1]}m",
         "legendgroup": "UKMOD",
         "marker": {
          "color": "lightgrey",
          "pattern": {
           "shape": ""
          }
         },
         "name": "UKMOD",
         "offsetgroup": "UKMOD",
         "orientation": "h",
         "showlegend": true,
         "textposition": "auto",
         "type": "bar",
         "x": [
          0.5579999999999999,
          0.006,
          0.08199999999999999,
          0.193,
          0.005,
          0.094,
          0.165,
          0.406
         ],
         "xaxis": "x",
         "y": [
          "ESA (income-based)",
          "Child Benefit",
          "Income Tax",
          "Child Tax Credit",
          "Pension Credit",
          "Universal Credit",
          "Housing Benefit",
          "Working Tax Credit"
         ],
         "yaxis": "y"
        }
       ],
       "frames": [
        {
         "data": [
          {
           "alignmentgroup": "True",
           "customdata": [
            [
             6.9,
             7.1,
             7.3,
             2019,
             "Child Benefit"
            ],
            [
             28.2,
             39.9,
             31.4,
             2019,
             "Income Tax"
            ],
            [
             0.9,
             0.9,
             1.1,
             2019,
             "ESA (income-based)"
            ],
            [
             1.2,
             1.5,
             1.6,
             2019,
             "Pension Credit"
            ],
            [
             1.7,
             2.1,
             2.1,
             2019,
             "Universal Credit"
            ],
            [
             2.2,
             1.7,
             2.8,
             2019,
             "Child Tax Credit"
            ],
            [
             2.5,
             2.9,
             3.4,
             2019,
             "Housing Benefit"
            ],
            [
             1.1,
             0.8,
             1.6,
             2019,
             "Working Tax Credit"
            ]
           ],
           "hovertemplate": "<b>%{customdata[4]} in %{customdata[3]}</b><br>Error: %{x}<br>Official: %{customdata[2]}m<br>OpenFisca-UK: %{customdata[0]}m<br>UKMOD: %{customdata[1]}m",
           "legendgroup": "OpenFisca-UK",
           "marker": {
            "color": "blue",
            "pattern": {
             "shape": ""
            }
           },
           "name": "OpenFisca-UK",
           "offsetgroup": "OpenFisca-UK",
           "orientation": "h",
           "showlegend": true,
           "textposition": "auto",
           "type": "bar",
           "x": [
            0.055,
            0.10099999999999999,
            0.158,
            0.201,
            0.201,
            0.22899999999999998,
            0.263,
            0.319
           ],
           "xaxis": "x",
           "y": [
            "Child Benefit",
            "Income Tax",
            "ESA (income-based)",
            "Pension Credit",
            "Universal Credit",
            "Child Tax Credit",
            "Housing Benefit",
            "Working Tax Credit"
           ],
           "yaxis": "y"
          },
          {
           "alignmentgroup": "True",
           "customdata": [
            [
             6.9,
             7.1,
             7.3,
             2019,
             "Child Benefit"
            ],
            [
             28.2,
             39.9,
             31.4,
             2019,
             "Income Tax"
            ],
            [
             0.9,
             0.9,
             1.1,
             2019,
             "ESA (income-based)"
            ],
            [
             1.2,
             1.5,
             1.6,
             2019,
             "Pension Credit"
            ],
            [
             1.7,
             2.1,
             2.1,
             2019,
             "Universal Credit"
            ],
            [
             2.2,
             1.7,
             2.8,
             2019,
             "Child Tax Credit"
            ],
            [
             2.5,
             2.9,
             3.4,
             2019,
             "Housing Benefit"
            ],
            [
             1.1,
             0.8,
             1.6,
             2019,
             "Working Tax Credit"
            ]
           ],
           "hovertemplate": "<b>%{customdata[4]} in %{customdata[3]}</b><br>Error: %{x}<br>Official: %{customdata[2]}m<br>OpenFisca-UK: %{customdata[0]}m<br>UKMOD: %{customdata[1]}m",
           "legendgroup": "UKMOD",
           "marker": {
            "color": "lightgrey",
            "pattern": {
             "shape": ""
            }
           },
           "name": "UKMOD",
           "offsetgroup": "UKMOD",
           "orientation": "h",
           "showlegend": true,
           "textposition": "auto",
           "type": "bar",
           "x": [
            0.025,
            0.26899999999999996,
            0.156,
            0.026000000000000002,
            0.002,
            0.387,
            0.142,
            0.498
           ],
           "xaxis": "x",
           "y": [
            "Child Benefit",
            "Income Tax",
            "ESA (income-based)",
            "Pension Credit",
            "Universal Credit",
            "Child Tax Credit",
            "Housing Benefit",
            "Working Tax Credit"
           ],
           "yaxis": "y"
          }
         ],
         "name": "2019"
        },
        {
         "data": [
          {
           "alignmentgroup": "True",
           "customdata": [
            [
             6.9,
             7.1,
             7.2,
             2020,
             "Child Benefit"
            ],
            [
             0.8,
             0.8,
             1,
             2020,
             "ESA (income-based)"
            ],
            [
             27.2,
             29.5,
             31.7,
             2020,
             "Income Tax"
            ],
            [
             1.7,
             1.5,
             2.1,
             2020,
             "Child Tax Credit"
            ],
            [
             1.2,
             1.5,
             1.5,
             2020,
             "Pension Credit"
            ],
            [
             3.1,
             3.1,
             4.1,
             2020,
             "Universal Credit"
            ],
            [
             0.9,
             0.6,
             1.2,
             2020,
             "Working Tax Credit"
            ],
            [
             2.2,
             2.7,
             3,
             2020,
             "Housing Benefit"
            ]
           ],
           "hovertemplate": "<b>%{customdata[4]} in %{customdata[3]}</b><br>Error: %{x}<br>Official: %{customdata[2]}m<br>OpenFisca-UK: %{customdata[0]}m<br>UKMOD: %{customdata[1]}m",
           "legendgroup": "OpenFisca-UK",
           "marker": {
            "color": "blue",
            "pattern": {
             "shape": ""
            }
           },
           "name": "OpenFisca-UK",
           "offsetgroup": "OpenFisca-UK",
           "orientation": "h",
           "showlegend": true,
           "textposition": "auto",
           "type": "bar",
           "x": [
            0.044000000000000004,
            0.131,
            0.142,
            0.188,
            0.20600000000000002,
            0.231,
            0.252,
            0.266
           ],
           "xaxis": "x",
           "y": [
            "Child Benefit",
            "ESA (income-based)",
            "Income Tax",
            "Child Tax Credit",
            "Pension Credit",
            "Universal Credit",
            "Working Tax Credit",
            "Housing Benefit"
           ],
           "yaxis": "y"
          },
          {
           "alignmentgroup": "True",
           "customdata": [
            [
             6.9,
             7.1,
             7.2,
             2020,
             "Child Benefit"
            ],
            [
             0.8,
             0.8,
             1,
             2020,
             "ESA (income-based)"
            ],
            [
             27.2,
             29.5,
             31.7,
             2020,
             "Income Tax"
            ],
            [
             1.7,
             1.5,
             2.1,
             2020,
             "Child Tax Credit"
            ],
            [
             1.2,
             1.5,
             1.5,
             2020,
             "Pension Credit"
            ],
            [
             3.1,
             3.1,
             4.1,
             2020,
             "Universal Credit"
            ],
            [
             0.9,
             0.6,
             1.2,
             2020,
             "Working Tax Credit"
            ],
            [
             2.2,
             2.7,
             3,
             2020,
             "Housing Benefit"
            ]
           ],
           "hovertemplate": "<b>%{customdata[4]} in %{customdata[3]}</b><br>Error: %{x}<br>Official: %{customdata[2]}m<br>OpenFisca-UK: %{customdata[0]}m<br>UKMOD: %{customdata[1]}m",
           "legendgroup": "UKMOD",
           "marker": {
            "color": "lightgrey",
            "pattern": {
             "shape": ""
            }
           },
           "name": "UKMOD",
           "offsetgroup": "UKMOD",
           "orientation": "h",
           "showlegend": true,
           "textposition": "auto",
           "type": "bar",
           "x": [
            0.016,
            0.175,
            0.068,
            0.304,
            0.045,
            0.223,
            0.48200000000000004,
            0.113
           ],
           "xaxis": "x",
           "y": [
            "Child Benefit",
            "ESA (income-based)",
            "Income Tax",
            "Child Tax Credit",
            "Pension Credit",
            "Universal Credit",
            "Working Tax Credit",
            "Housing Benefit"
           ],
           "yaxis": "y"
          }
         ],
         "name": "2020"
        },
        {
         "data": [
          {
           "alignmentgroup": "True",
           "customdata": [
            [
             0.4,
             0.7,
             0.4,
             2021,
             "ESA (income-based)"
            ],
            [
             6.8,
             7.2,
             7.1,
             2021,
             "Child Benefit"
            ],
            [
             28.3,
             29.4,
             32.2,
             2021,
             "Income Tax"
            ],
            [
             1.4,
             1.3,
             1.7,
             2021,
             "Child Tax Credit"
            ],
            [
             1.2,
             1.4,
             1.5,
             2021,
             "Pension Credit"
            ],
            [
             3.3,
             3.6,
             4.3,
             2021,
             "Universal Credit"
            ],
            [
             0.8,
             0.7,
             1,
             2021,
             "Working Tax Credit"
            ],
            [
             2.2,
             2.4,
             2.9,
             2021,
             "Housing Benefit"
            ]
           ],
           "hovertemplate": "<b>%{customdata[4]} in %{customdata[3]}</b><br>Error: %{x}<br>Official: %{customdata[2]}m<br>OpenFisca-UK: %{customdata[0]}m<br>UKMOD: %{customdata[1]}m",
           "legendgroup": "OpenFisca-UK",
           "marker": {
            "color": "blue",
            "pattern": {
             "shape": ""
            }
           },
           "name": "OpenFisca-UK",
           "offsetgroup": "OpenFisca-UK",
           "orientation": "h",
           "showlegend": true,
           "textposition": "auto",
           "type": "bar",
           "x": [
            0.018000000000000002,
            0.044000000000000004,
            0.121,
            0.172,
            0.187,
            0.22899999999999998,
            0.251,
            0.264
           ],
           "xaxis": "x",
           "y": [
            "ESA (income-based)",
            "Child Benefit",
            "Income Tax",
            "Child Tax Credit",
            "Pension Credit",
            "Universal Credit",
            "Working Tax Credit",
            "Housing Benefit"
           ],
           "yaxis": "y"
          },
          {
           "alignmentgroup": "True",
           "customdata": [
            [
             0.4,
             0.7,
             0.4,
             2021,
             "ESA (income-based)"
            ],
            [
             6.8,
             7.2,
             7.1,
             2021,
             "Child Benefit"
            ],
            [
             28.3,
             29.4,
             32.2,
             2021,
             "Income Tax"
            ],
            [
             1.4,
             1.3,
             1.7,
             2021,
             "Child Tax Credit"
            ],
            [
             1.2,
             1.4,
             1.5,
             2021,
             "Pension Credit"
            ],
            [
             3.3,
             3.6,
             4.3,
             2021,
             "Universal Credit"
            ],
            [
             0.8,
             0.7,
             1,
             2021,
             "Working Tax Credit"
            ],
            [
             2.2,
             2.4,
             2.9,
             2021,
             "Housing Benefit"
            ]
           ],
           "hovertemplate": "<b>%{customdata[4]} in %{customdata[3]}</b><br>Error: %{x}<br>Official: %{customdata[2]}m<br>OpenFisca-UK: %{customdata[0]}m<br>UKMOD: %{customdata[1]}m",
           "legendgroup": "UKMOD",
           "marker": {
            "color": "lightgrey",
            "pattern": {
             "shape": ""
            }
           },
           "name": "UKMOD",
           "offsetgroup": "UKMOD",
           "orientation": "h",
           "showlegend": true,
           "textposition": "auto",
           "type": "bar",
           "x": [
            0.722,
            0.003,
            0.086,
            0.222,
            0.039,
            0.16399999999999998,
            0.364,
            0.16699999999999998
           ],
           "xaxis": "x",
           "y": [
            "ESA (income-based)",
            "Child Benefit",
            "Income Tax",
            "Child Tax Credit",
            "Pension Credit",
            "Universal Credit",
            "Working Tax Credit",
            "Housing Benefit"
           ],
           "yaxis": "y"
          }
         ],
         "name": "2021"
        },
        {
         "data": [
          {
           "alignmentgroup": "True",
           "customdata": [
            [
             0.4,
             0.6,
             0.4,
             2022,
             "ESA (income-based)"
            ],
            [
             6.8,
             7.1,
             7.1,
             2022,
             "Child Benefit"
            ],
            [
             29.1,
             30,
             32.7,
             2022,
             "Income Tax"
            ],
            [
             1.1,
             1.1,
             1.3,
             2022,
             "Child Tax Credit"
            ],
            [
             1.2,
             1.4,
             1.4,
             2022,
             "Pension Credit"
            ],
            [
             3.6,
             4.2,
             4.6,
             2022,
             "Universal Credit"
            ],
            [
             2,
             2.3,
             2.7,
             2022,
             "Housing Benefit"
            ],
            [
             0.7,
             0.5,
             0.9,
             2022,
             "Working Tax Credit"
            ]
           ],
           "hovertemplate": "<b>%{customdata[4]} in %{customdata[3]}</b><br>Error: %{x}<br>Official: %{customdata[2]}m<br>OpenFisca-UK: %{customdata[0]}m<br>UKMOD: %{customdata[1]}m",
           "legendgroup": "OpenFisca-UK",
           "marker": {
            "color": "blue",
            "pattern": {
             "shape": ""
            }
           },
           "name": "OpenFisca-UK",
           "offsetgroup": "OpenFisca-UK",
           "orientation": "h",
           "showlegend": true,
           "textposition": "auto",
           "type": "bar",
           "x": [
            0.028999999999999998,
            0.04,
            0.111,
            0.14300000000000002,
            0.179,
            0.221,
            0.24600000000000002,
            0.27899999999999997
           ],
           "xaxis": "x",
           "y": [
            "ESA (income-based)",
            "Child Benefit",
            "Income Tax",
            "Child Tax Credit",
            "Pension Credit",
            "Universal Credit",
            "Housing Benefit",
            "Working Tax Credit"
           ],
           "yaxis": "y"
          },
          {
           "alignmentgroup": "True",
           "customdata": [
            [
             0.4,
             0.6,
             0.4,
             2022,
             "ESA (income-based)"
            ],
            [
             6.8,
             7.1,
             7.1,
             2022,
             "Child Benefit"
            ],
            [
             29.1,
             30,
             32.7,
             2022,
             "Income Tax"
            ],
            [
             1.1,
             1.1,
             1.3,
             2022,
             "Child Tax Credit"
            ],
            [
             1.2,
             1.4,
             1.4,
             2022,
             "Pension Credit"
            ],
            [
             3.6,
             4.2,
             4.6,
             2022,
             "Universal Credit"
            ],
            [
             2,
             2.3,
             2.7,
             2022,
             "Housing Benefit"
            ],
            [
             0.7,
             0.5,
             0.9,
             2022,
             "Working Tax Credit"
            ]
           ],
           "hovertemplate": "<b>%{customdata[4]} in %{customdata[3]}</b><br>Error: %{x}<br>Official: %{customdata[2]}m<br>OpenFisca-UK: %{customdata[0]}m<br>UKMOD: %{customdata[1]}m",
           "legendgroup": "UKMOD",
           "marker": {
            "color": "lightgrey",
            "pattern": {
             "shape": ""
            }
           },
           "name": "UKMOD",
           "offsetgroup": "UKMOD",
           "orientation": "h",
           "showlegend": true,
           "textposition": "auto",
           "type": "bar",
           "x": [
            0.5579999999999999,
            0.006,
            0.08199999999999999,
            0.193,
            0.005,
            0.094,
            0.165,
            0.406
           ],
           "xaxis": "x",
           "y": [
            "ESA (income-based)",
            "Child Benefit",
            "Income Tax",
            "Child Tax Credit",
            "Pension Credit",
            "Universal Credit",
            "Housing Benefit",
            "Working Tax Credit"
           ],
           "yaxis": "y"
          }
         ],
         "name": "2022"
        },
        {
         "data": [
          {
           "alignmentgroup": "True",
           "customdata": [
            [
             6.7,
             7.1,
             7,
             2023,
             "Child Benefit"
            ],
            [
             0.4,
             0.5,
             0.3,
             2023,
             "ESA (income-based)"
            ],
            [
             30,
             30.6,
             33.2,
             2023,
             "Income Tax"
            ],
            [
             0.9,
             0.9,
             1.1,
             2023,
             "Child Tax Credit"
            ],
            [
             1.1,
             1.4,
             1.3,
             2023,
             "Pension Credit"
            ],
            [
             4,
             4.7,
             5,
             2023,
             "Universal Credit"
            ],
            [
             1.9,
             2,
             2.5,
             2023,
             "Housing Benefit"
            ],
            [
             0.6,
             0.4,
             0.8,
             2023,
             "Working Tax Credit"
            ]
           ],
           "hovertemplate": "<b>%{customdata[4]} in %{customdata[3]}</b><br>Error: %{x}<br>Official: %{customdata[2]}m<br>OpenFisca-UK: %{customdata[0]}m<br>UKMOD: %{customdata[1]}m",
           "legendgroup": "OpenFisca-UK",
           "marker": {
            "color": "blue",
            "pattern": {
             "shape": ""
            }
           },
           "name": "OpenFisca-UK",
           "offsetgroup": "OpenFisca-UK",
           "orientation": "h",
           "showlegend": true,
           "textposition": "auto",
           "type": "bar",
           "x": [
            0.037000000000000005,
            0.040999999999999995,
            0.098,
            0.141,
            0.17300000000000001,
            0.217,
            0.231,
            0.302
           ],
           "xaxis": "x",
           "y": [
            "Child Benefit",
            "ESA (income-based)",
            "Income Tax",
            "Child Tax Credit",
            "Pension Credit",
            "Universal Credit",
            "Housing Benefit",
            "Working Tax Credit"
           ],
           "yaxis": "y"
          },
          {
           "alignmentgroup": "True",
           "customdata": [
            [
             6.7,
             7.1,
             7,
             2023,
             "Child Benefit"
            ],
            [
             0.4,
             0.5,
             0.3,
             2023,
             "ESA (income-based)"
            ],
            [
             30,
             30.6,
             33.2,
             2023,
             "Income Tax"
            ],
            [
             0.9,
             0.9,
             1.1,
             2023,
             "Child Tax Credit"
            ],
            [
             1.1,
             1.4,
             1.3,
             2023,
             "Pension Credit"
            ],
            [
             4,
             4.7,
             5,
             2023,
             "Universal Credit"
            ],
            [
             1.9,
             2,
             2.5,
             2023,
             "Housing Benefit"
            ],
            [
             0.6,
             0.4,
             0.8,
             2023,
             "Working Tax Credit"
            ]
           ],
           "hovertemplate": "<b>%{customdata[4]} in %{customdata[3]}</b><br>Error: %{x}<br>Official: %{customdata[2]}m<br>OpenFisca-UK: %{customdata[0]}m<br>UKMOD: %{customdata[1]}m",
           "legendgroup": "UKMOD",
           "marker": {
            "color": "lightgrey",
            "pattern": {
             "shape": ""
            }
           },
           "name": "UKMOD",
           "offsetgroup": "UKMOD",
           "orientation": "h",
           "showlegend": true,
           "textposition": "auto",
           "type": "bar",
           "x": [
            0.01,
            0.42200000000000004,
            0.079,
            0.161,
            0.078,
            0.078,
            0.166,
            0.44
           ],
           "xaxis": "x",
           "y": [
            "Child Benefit",
            "ESA (income-based)",
            "Income Tax",
            "Child Tax Credit",
            "Pension Credit",
            "Universal Credit",
            "Housing Benefit",
            "Working Tax Credit"
           ],
           "yaxis": "y"
          }
         ],
         "name": "2023"
        },
        {
         "data": [
          {
           "alignmentgroup": "True",
           "customdata": [
            [
             6.7,
             7,
             6.9,
             2024,
             "Child Benefit"
            ],
            [
             0.3,
             0.3,
             0.3,
             2024,
             "ESA (income-based)"
            ],
            [
             31.1,
             30.9,
             33.7,
             2024,
             "Income Tax"
            ],
            [
             0.7,
             0.6,
             0.8,
             2024,
             "Child Tax Credit"
            ],
            [
             1.1,
             1.4,
             1.3,
             2024,
             "Pension Credit"
            ],
            [
             1.7,
             1.8,
             2.1,
             2024,
             "Housing Benefit"
            ],
            [
             4.4,
             5.3,
             5.6,
             2024,
             "Universal Credit"
            ],
            [
             0.4,
             0.3,
             0.7,
             2024,
             "Working Tax Credit"
            ]
           ],
           "hovertemplate": "<b>%{customdata[4]} in %{customdata[3]}</b><br>Error: %{x}<br>Official: %{customdata[2]}m<br>OpenFisca-UK: %{customdata[0]}m<br>UKMOD: %{customdata[1]}m",
           "legendgroup": "OpenFisca-UK",
           "marker": {
            "color": "blue",
            "pattern": {
             "shape": ""
            }
           },
           "name": "OpenFisca-UK",
           "offsetgroup": "OpenFisca-UK",
           "orientation": "h",
           "showlegend": true,
           "textposition": "auto",
           "type": "bar",
           "x": [
            0.033,
            0.046,
            0.079,
            0.179,
            0.179,
            0.2,
            0.22399999999999998,
            0.35100000000000003
           ],
           "xaxis": "x",
           "y": [
            "Child Benefit",
            "ESA (income-based)",
            "Income Tax",
            "Child Tax Credit",
            "Pension Credit",
            "Housing Benefit",
            "Universal Credit",
            "Working Tax Credit"
           ],
           "yaxis": "y"
          },
          {
           "alignmentgroup": "True",
           "customdata": [
            [
             6.7,
             7,
             6.9,
             2024,
             "Child Benefit"
            ],
            [
             0.3,
             0.3,
             0.3,
             2024,
             "ESA (income-based)"
            ],
            [
             31.1,
             30.9,
             33.7,
             2024,
             "Income Tax"
            ],
            [
             0.7,
             0.6,
             0.8,
             2024,
             "Child Tax Credit"
            ],
            [
             1.1,
             1.4,
             1.3,
             2024,
             "Pension Credit"
            ],
            [
             1.7,
             1.8,
             2.1,
             2024,
             "Housing Benefit"
            ],
            [
             4.4,
             5.3,
             5.6,
             2024,
             "Universal Credit"
            ],
            [
             0.4,
             0.3,
             0.7,
             2024,
             "Working Tax Credit"
            ]
           ],
           "hovertemplate": "<b>%{customdata[4]} in %{customdata[3]}</b><br>Error: %{x}<br>Official: %{customdata[2]}m<br>OpenFisca-UK: %{customdata[0]}m<br>UKMOD: %{customdata[1]}m",
           "legendgroup": "UKMOD",
           "marker": {
            "color": "lightgrey",
            "pattern": {
             "shape": ""
            }
           },
           "name": "UKMOD",
           "offsetgroup": "UKMOD",
           "orientation": "h",
           "showlegend": true,
           "textposition": "auto",
           "type": "bar",
           "x": [
            0.013000000000000001,
            0.295,
            0.083,
            0.23600000000000002,
            0.12300000000000001,
            0.157,
            0.052000000000000005,
            0.569
           ],
           "xaxis": "x",
           "y": [
            "Child Benefit",
            "ESA (income-based)",
            "Income Tax",
            "Child Tax Credit",
            "Pension Credit",
            "Housing Benefit",
            "Universal Credit",
            "Working Tax Credit"
           ],
           "yaxis": "y"
          }
         ],
         "name": "2024"
        },
        {
         "data": [
          {
           "alignmentgroup": "True",
           "customdata": [
            [
             6.7,
             7,
             6.9,
             2025,
             "Child Benefit"
            ],
            [
             0.1,
             0.1,
             0.1,
             2025,
             "ESA (income-based)"
            ],
            [
             32,
             31.5,
             34.3,
             2025,
             "Income Tax"
            ],
            [
             1.4,
             1.4,
             1.7,
             2025,
             "Housing Benefit"
            ],
            [
             1,
             1.4,
             1.2,
             2025,
             "Pension Credit"
            ],
            [
             4.8,
             6.1,
             6.3,
             2025,
             "Universal Credit"
            ],
            [
             0.5,
             0.3,
             0.7,
             2025,
             "Child Tax Credit"
            ],
            [
             0.3,
             0.1,
             0.6,
             2025,
             "Working Tax Credit"
            ]
           ],
           "hovertemplate": "<b>%{customdata[4]} in %{customdata[3]}</b><br>Error: %{x}<br>Official: %{customdata[2]}m<br>OpenFisca-UK: %{customdata[0]}m<br>UKMOD: %{customdata[1]}m",
           "legendgroup": "OpenFisca-UK",
           "marker": {
            "color": "blue",
            "pattern": {
             "shape": ""
            }
           },
           "name": "OpenFisca-UK",
           "offsetgroup": "OpenFisca-UK",
           "orientation": "h",
           "showlegend": true,
           "textposition": "auto",
           "type": "bar",
           "x": [
            0.026000000000000002,
            0.053,
            0.066,
            0.16699999999999998,
            0.188,
            0.235,
            0.314,
            0.47600000000000003
           ],
           "xaxis": "x",
           "y": [
            "Child Benefit",
            "ESA (income-based)",
            "Income Tax",
            "Housing Benefit",
            "Pension Credit",
            "Universal Credit",
            "Child Tax Credit",
            "Working Tax Credit"
           ],
           "yaxis": "y"
          },
          {
           "alignmentgroup": "True",
           "customdata": [
            [
             6.7,
             7,
             6.9,
             2025,
             "Child Benefit"
            ],
            [
             0.1,
             0.1,
             0.1,
             2025,
             "ESA (income-based)"
            ],
            [
             32,
             31.5,
             34.3,
             2025,
             "Income Tax"
            ],
            [
             1.4,
             1.4,
             1.7,
             2025,
             "Housing Benefit"
            ],
            [
             1,
             1.4,
             1.2,
             2025,
             "Pension Credit"
            ],
            [
             4.8,
             6.1,
             6.3,
             2025,
             "Universal Credit"
            ],
            [
             0.5,
             0.3,
             0.7,
             2025,
             "Child Tax Credit"
            ],
            [
             0.3,
             0.1,
             0.6,
             2025,
             "Working Tax Credit"
            ]
           ],
           "hovertemplate": "<b>%{customdata[4]} in %{customdata[3]}</b><br>Error: %{x}<br>Official: %{customdata[2]}m<br>OpenFisca-UK: %{customdata[0]}m<br>UKMOD: %{customdata[1]}m",
           "legendgroup": "UKMOD",
           "marker": {
            "color": "lightgrey",
            "pattern": {
             "shape": ""
            }
           },
           "name": "UKMOD",
           "offsetgroup": "UKMOD",
           "orientation": "h",
           "showlegend": true,
           "textposition": "auto",
           "type": "bar",
           "x": [
            0.018000000000000002,
            0.106,
            0.08199999999999999,
            0.17,
            0.149,
            0.022000000000000002,
            0.563,
            0.785
           ],
           "xaxis": "x",
           "y": [
            "Child Benefit",
            "ESA (income-based)",
            "Income Tax",
            "Housing Benefit",
            "Pension Credit",
            "Universal Credit",
            "Child Tax Credit",
            "Working Tax Credit"
           ],
           "yaxis": "y"
          }
         ],
         "name": "2025"
        }
       ],
       "layout": {
        "barmode": "group",
        "height": 600,
        "legend": {
         "title": {
          "text": "Model"
         },
         "tracegroupgap": 0,
         "traceorder": "reversed"
        },
        "margin": {
         "t": 60
        },
        "sliders": [
         {
          "active": 3,
          "currentvalue": {
           "prefix": "Year="
          },
          "len": 0.9,
          "pad": {
           "b": 10,
           "t": 60
          },
          "steps": [
           {
            "args": [
             [
              "2019"
             ],
             {
              "frame": {
               "duration": 0,
               "redraw": true
              },
              "fromcurrent": true,
              "mode": "immediate",
              "transition": {
               "duration": 0,
               "easing": "linear"
              }
             }
            ],
            "label": "2019",
            "method": "animate"
           },
           {
            "args": [
             [
              "2020"
             ],
             {
              "frame": {
               "duration": 0,
               "redraw": true
              },
              "fromcurrent": true,
              "mode": "immediate",
              "transition": {
               "duration": 0,
               "easing": "linear"
              }
             }
            ],
            "label": "2020",
            "method": "animate"
           },
           {
            "args": [
             [
              "2021"
             ],
             {
              "frame": {
               "duration": 0,
               "redraw": true
              },
              "fromcurrent": true,
              "mode": "immediate",
              "transition": {
               "duration": 0,
               "easing": "linear"
              }
             }
            ],
            "label": "2021",
            "method": "animate"
           },
           {
            "args": [
             [
              "2022"
             ],
             {
              "frame": {
               "duration": 0,
               "redraw": true
              },
              "fromcurrent": true,
              "mode": "immediate",
              "transition": {
               "duration": 0,
               "easing": "linear"
              }
             }
            ],
            "label": "2022",
            "method": "animate"
           },
           {
            "args": [
             [
              "2023"
             ],
             {
              "frame": {
               "duration": 0,
               "redraw": true
              },
              "fromcurrent": true,
              "mode": "immediate",
              "transition": {
               "duration": 0,
               "easing": "linear"
              }
             }
            ],
            "label": "2023",
            "method": "animate"
           },
           {
            "args": [
             [
              "2024"
             ],
             {
              "frame": {
               "duration": 0,
               "redraw": true
              },
              "fromcurrent": true,
              "mode": "immediate",
              "transition": {
               "duration": 0,
               "easing": "linear"
              }
             }
            ],
            "label": "2024",
            "method": "animate"
           },
           {
            "args": [
             [
              "2025"
             ],
             {
              "frame": {
               "duration": 0,
               "redraw": true
              },
              "fromcurrent": true,
              "mode": "immediate",
              "transition": {
               "duration": 0,
               "easing": "linear"
              }
             }
            ],
            "label": "2025",
            "method": "animate"
           }
          ],
          "x": 0.1,
          "xanchor": "left",
          "y": 0,
          "yanchor": "top"
         }
        ],
        "template": {
         "data": {
          "bar": [
           {
            "error_x": {
             "color": "#2a3f5f"
            },
            "error_y": {
             "color": "#2a3f5f"
            },
            "marker": {
             "line": {
              "color": "white",
              "width": 0.5
             },
             "pattern": {
              "fillmode": "overlay",
              "size": 10,
              "solidity": 0.2
             }
            },
            "type": "bar"
           }
          ],
          "barpolar": [
           {
            "marker": {
             "line": {
              "color": "white",
              "width": 0.5
             },
             "pattern": {
              "fillmode": "overlay",
              "size": 10,
              "solidity": 0.2
             }
            },
            "type": "barpolar"
           }
          ],
          "carpet": [
           {
            "aaxis": {
             "endlinecolor": "#2a3f5f",
             "gridcolor": "#C8D4E3",
             "linecolor": "#C8D4E3",
             "minorgridcolor": "#C8D4E3",
             "startlinecolor": "#2a3f5f"
            },
            "baxis": {
             "endlinecolor": "#2a3f5f",
             "gridcolor": "#C8D4E3",
             "linecolor": "#C8D4E3",
             "minorgridcolor": "#C8D4E3",
             "startlinecolor": "#2a3f5f"
            },
            "type": "carpet"
           }
          ],
          "choropleth": [
           {
            "colorbar": {
             "outlinewidth": 0,
             "ticks": ""
            },
            "type": "choropleth"
           }
          ],
          "contour": [
           {
            "colorbar": {
             "outlinewidth": 0,
             "ticks": ""
            },
            "colorscale": [
             [
              0,
              "#0d0887"
             ],
             [
              0.1111111111111111,
              "#46039f"
             ],
             [
              0.2222222222222222,
              "#7201a8"
             ],
             [
              0.3333333333333333,
              "#9c179e"
             ],
             [
              0.4444444444444444,
              "#bd3786"
             ],
             [
              0.5555555555555556,
              "#d8576b"
             ],
             [
              0.6666666666666666,
              "#ed7953"
             ],
             [
              0.7777777777777778,
              "#fb9f3a"
             ],
             [
              0.8888888888888888,
              "#fdca26"
             ],
             [
              1,
              "#f0f921"
             ]
            ],
            "type": "contour"
           }
          ],
          "contourcarpet": [
           {
            "colorbar": {
             "outlinewidth": 0,
             "ticks": ""
            },
            "type": "contourcarpet"
           }
          ],
          "heatmap": [
           {
            "colorbar": {
             "outlinewidth": 0,
             "ticks": ""
            },
            "colorscale": [
             [
              0,
              "#0d0887"
             ],
             [
              0.1111111111111111,
              "#46039f"
             ],
             [
              0.2222222222222222,
              "#7201a8"
             ],
             [
              0.3333333333333333,
              "#9c179e"
             ],
             [
              0.4444444444444444,
              "#bd3786"
             ],
             [
              0.5555555555555556,
              "#d8576b"
             ],
             [
              0.6666666666666666,
              "#ed7953"
             ],
             [
              0.7777777777777778,
              "#fb9f3a"
             ],
             [
              0.8888888888888888,
              "#fdca26"
             ],
             [
              1,
              "#f0f921"
             ]
            ],
            "type": "heatmap"
           }
          ],
          "heatmapgl": [
           {
            "colorbar": {
             "outlinewidth": 0,
             "ticks": ""
            },
            "colorscale": [
             [
              0,
              "#0d0887"
             ],
             [
              0.1111111111111111,
              "#46039f"
             ],
             [
              0.2222222222222222,
              "#7201a8"
             ],
             [
              0.3333333333333333,
              "#9c179e"
             ],
             [
              0.4444444444444444,
              "#bd3786"
             ],
             [
              0.5555555555555556,
              "#d8576b"
             ],
             [
              0.6666666666666666,
              "#ed7953"
             ],
             [
              0.7777777777777778,
              "#fb9f3a"
             ],
             [
              0.8888888888888888,
              "#fdca26"
             ],
             [
              1,
              "#f0f921"
             ]
            ],
            "type": "heatmapgl"
           }
          ],
          "histogram": [
           {
            "marker": {
             "pattern": {
              "fillmode": "overlay",
              "size": 10,
              "solidity": 0.2
             }
            },
            "type": "histogram"
           }
          ],
          "histogram2d": [
           {
            "colorbar": {
             "outlinewidth": 0,
             "ticks": ""
            },
            "colorscale": [
             [
              0,
              "#0d0887"
             ],
             [
              0.1111111111111111,
              "#46039f"
             ],
             [
              0.2222222222222222,
              "#7201a8"
             ],
             [
              0.3333333333333333,
              "#9c179e"
             ],
             [
              0.4444444444444444,
              "#bd3786"
             ],
             [
              0.5555555555555556,
              "#d8576b"
             ],
             [
              0.6666666666666666,
              "#ed7953"
             ],
             [
              0.7777777777777778,
              "#fb9f3a"
             ],
             [
              0.8888888888888888,
              "#fdca26"
             ],
             [
              1,
              "#f0f921"
             ]
            ],
            "type": "histogram2d"
           }
          ],
          "histogram2dcontour": [
           {
            "colorbar": {
             "outlinewidth": 0,
             "ticks": ""
            },
            "colorscale": [
             [
              0,
              "#0d0887"
             ],
             [
              0.1111111111111111,
              "#46039f"
             ],
             [
              0.2222222222222222,
              "#7201a8"
             ],
             [
              0.3333333333333333,
              "#9c179e"
             ],
             [
              0.4444444444444444,
              "#bd3786"
             ],
             [
              0.5555555555555556,
              "#d8576b"
             ],
             [
              0.6666666666666666,
              "#ed7953"
             ],
             [
              0.7777777777777778,
              "#fb9f3a"
             ],
             [
              0.8888888888888888,
              "#fdca26"
             ],
             [
              1,
              "#f0f921"
             ]
            ],
            "type": "histogram2dcontour"
           }
          ],
          "mesh3d": [
           {
            "colorbar": {
             "outlinewidth": 0,
             "ticks": ""
            },
            "type": "mesh3d"
           }
          ],
          "parcoords": [
           {
            "line": {
             "colorbar": {
              "outlinewidth": 0,
              "ticks": ""
             }
            },
            "type": "parcoords"
           }
          ],
          "pie": [
           {
            "automargin": true,
            "type": "pie"
           }
          ],
          "scatter": [
           {
            "marker": {
             "colorbar": {
              "outlinewidth": 0,
              "ticks": ""
             }
            },
            "type": "scatter"
           }
          ],
          "scatter3d": [
           {
            "line": {
             "colorbar": {
              "outlinewidth": 0,
              "ticks": ""
             }
            },
            "marker": {
             "colorbar": {
              "outlinewidth": 0,
              "ticks": ""
             }
            },
            "type": "scatter3d"
           }
          ],
          "scattercarpet": [
           {
            "marker": {
             "colorbar": {
              "outlinewidth": 0,
              "ticks": ""
             }
            },
            "type": "scattercarpet"
           }
          ],
          "scattergeo": [
           {
            "marker": {
             "colorbar": {
              "outlinewidth": 0,
              "ticks": ""
             }
            },
            "type": "scattergeo"
           }
          ],
          "scattergl": [
           {
            "marker": {
             "colorbar": {
              "outlinewidth": 0,
              "ticks": ""
             }
            },
            "type": "scattergl"
           }
          ],
          "scattermapbox": [
           {
            "marker": {
             "colorbar": {
              "outlinewidth": 0,
              "ticks": ""
             }
            },
            "type": "scattermapbox"
           }
          ],
          "scatterpolar": [
           {
            "marker": {
             "colorbar": {
              "outlinewidth": 0,
              "ticks": ""
             }
            },
            "type": "scatterpolar"
           }
          ],
          "scatterpolargl": [
           {
            "marker": {
             "colorbar": {
              "outlinewidth": 0,
              "ticks": ""
             }
            },
            "type": "scatterpolargl"
           }
          ],
          "scatterternary": [
           {
            "marker": {
             "colorbar": {
              "outlinewidth": 0,
              "ticks": ""
             }
            },
            "type": "scatterternary"
           }
          ],
          "surface": [
           {
            "colorbar": {
             "outlinewidth": 0,
             "ticks": ""
            },
            "colorscale": [
             [
              0,
              "#0d0887"
             ],
             [
              0.1111111111111111,
              "#46039f"
             ],
             [
              0.2222222222222222,
              "#7201a8"
             ],
             [
              0.3333333333333333,
              "#9c179e"
             ],
             [
              0.4444444444444444,
              "#bd3786"
             ],
             [
              0.5555555555555556,
              "#d8576b"
             ],
             [
              0.6666666666666666,
              "#ed7953"
             ],
             [
              0.7777777777777778,
              "#fb9f3a"
             ],
             [
              0.8888888888888888,
              "#fdca26"
             ],
             [
              1,
              "#f0f921"
             ]
            ],
            "type": "surface"
           }
          ],
          "table": [
           {
            "cells": {
             "fill": {
              "color": "#EBF0F8"
             },
             "line": {
              "color": "white"
             }
            },
            "header": {
             "fill": {
              "color": "#C8D4E3"
             },
             "line": {
              "color": "white"
             }
            },
            "type": "table"
           }
          ]
         },
         "layout": {
          "annotationdefaults": {
           "arrowcolor": "#2a3f5f",
           "arrowhead": 0,
           "arrowwidth": 1
          },
          "autotypenumbers": "strict",
          "coloraxis": {
           "colorbar": {
            "outlinewidth": 0,
            "ticks": ""
           }
          },
          "colorscale": {
           "diverging": [
            [
             0,
             "#8e0152"
            ],
            [
             0.1,
             "#c51b7d"
            ],
            [
             0.2,
             "#de77ae"
            ],
            [
             0.3,
             "#f1b6da"
            ],
            [
             0.4,
             "#fde0ef"
            ],
            [
             0.5,
             "#f7f7f7"
            ],
            [
             0.6,
             "#e6f5d0"
            ],
            [
             0.7,
             "#b8e186"
            ],
            [
             0.8,
             "#7fbc41"
            ],
            [
             0.9,
             "#4d9221"
            ],
            [
             1,
             "#276419"
            ]
           ],
           "sequential": [
            [
             0,
             "#0d0887"
            ],
            [
             0.1111111111111111,
             "#46039f"
            ],
            [
             0.2222222222222222,
             "#7201a8"
            ],
            [
             0.3333333333333333,
             "#9c179e"
            ],
            [
             0.4444444444444444,
             "#bd3786"
            ],
            [
             0.5555555555555556,
             "#d8576b"
            ],
            [
             0.6666666666666666,
             "#ed7953"
            ],
            [
             0.7777777777777778,
             "#fb9f3a"
            ],
            [
             0.8888888888888888,
             "#fdca26"
            ],
            [
             1,
             "#f0f921"
            ]
           ],
           "sequentialminus": [
            [
             0,
             "#0d0887"
            ],
            [
             0.1111111111111111,
             "#46039f"
            ],
            [
             0.2222222222222222,
             "#7201a8"
            ],
            [
             0.3333333333333333,
             "#9c179e"
            ],
            [
             0.4444444444444444,
             "#bd3786"
            ],
            [
             0.5555555555555556,
             "#d8576b"
            ],
            [
             0.6666666666666666,
             "#ed7953"
            ],
            [
             0.7777777777777778,
             "#fb9f3a"
            ],
            [
             0.8888888888888888,
             "#fdca26"
            ],
            [
             1,
             "#f0f921"
            ]
           ]
          },
          "colorway": [
           "#636efa",
           "#EF553B",
           "#00cc96",
           "#ab63fa",
           "#FFA15A",
           "#19d3f3",
           "#FF6692",
           "#B6E880",
           "#FF97FF",
           "#FECB52"
          ],
          "font": {
           "color": "#2a3f5f"
          },
          "geo": {
           "bgcolor": "white",
           "lakecolor": "white",
           "landcolor": "white",
           "showlakes": true,
           "showland": true,
           "subunitcolor": "#C8D4E3"
          },
          "hoverlabel": {
           "align": "left"
          },
          "hovermode": "closest",
          "mapbox": {
           "style": "light"
          },
          "paper_bgcolor": "white",
          "plot_bgcolor": "white",
          "polar": {
           "angularaxis": {
            "gridcolor": "#EBF0F8",
            "linecolor": "#EBF0F8",
            "ticks": ""
           },
           "bgcolor": "white",
           "radialaxis": {
            "gridcolor": "#EBF0F8",
            "linecolor": "#EBF0F8",
            "ticks": ""
           }
          },
          "scene": {
           "xaxis": {
            "backgroundcolor": "white",
            "gridcolor": "#DFE8F3",
            "gridwidth": 2,
            "linecolor": "#EBF0F8",
            "showbackground": true,
            "ticks": "",
            "zerolinecolor": "#EBF0F8"
           },
           "yaxis": {
            "backgroundcolor": "white",
            "gridcolor": "#DFE8F3",
            "gridwidth": 2,
            "linecolor": "#EBF0F8",
            "showbackground": true,
            "ticks": "",
            "zerolinecolor": "#EBF0F8"
           },
           "zaxis": {
            "backgroundcolor": "white",
            "gridcolor": "#DFE8F3",
            "gridwidth": 2,
            "linecolor": "#EBF0F8",
            "showbackground": true,
            "ticks": "",
            "zerolinecolor": "#EBF0F8"
           }
          },
          "shapedefaults": {
           "line": {
            "color": "#2a3f5f"
           }
          },
          "ternary": {
           "aaxis": {
            "gridcolor": "#DFE8F3",
            "linecolor": "#A2B1C6",
            "ticks": ""
           },
           "baxis": {
            "gridcolor": "#DFE8F3",
            "linecolor": "#A2B1C6",
            "ticks": ""
           },
           "bgcolor": "white",
           "caxis": {
            "gridcolor": "#DFE8F3",
            "linecolor": "#A2B1C6",
            "ticks": ""
           }
          },
          "title": {
           "x": 0.05
          },
          "xaxis": {
           "automargin": true,
           "gridcolor": "#EBF0F8",
           "linecolor": "#EBF0F8",
           "ticks": "",
           "title": {
            "standoff": 15
           },
           "zerolinecolor": "#EBF0F8",
           "zerolinewidth": 2
          },
          "yaxis": {
           "automargin": true,
           "gridcolor": "#EBF0F8",
           "linecolor": "#EBF0F8",
           "ticks": "",
           "title": {
            "standoff": 15
           },
           "zerolinecolor": "#EBF0F8",
           "zerolinewidth": 2
          }
         }
        },
        "title": {
         "text": "Relative errors on caseloads"
        },
        "updatemenus": [
         {
          "buttons": [
           {
            "args": [
             null,
             {
              "frame": {
               "duration": 500,
               "redraw": true
              },
              "fromcurrent": true,
              "mode": "immediate",
              "transition": {
               "duration": 500,
               "easing": "linear"
              }
             }
            ],
            "label": "&#9654;",
            "method": "animate"
           },
           {
            "args": [
             [
              null
             ],
             {
              "frame": {
               "duration": 0,
               "redraw": true
              },
              "fromcurrent": true,
              "mode": "immediate",
              "transition": {
               "duration": 0,
               "easing": "linear"
              }
             }
            ],
            "label": "&#9724;",
            "method": "animate"
           }
          ],
          "direction": "left",
          "pad": {
           "r": 10,
           "t": 70
          },
          "showactive": false,
          "type": "buttons",
          "x": 0.1,
          "xanchor": "right",
          "y": 0,
          "yanchor": "top"
         }
        ],
        "width": 800,
        "xaxis": {
         "anchor": "y",
         "domain": [
          0,
          1
         ],
         "range": [
          0,
          1
         ],
         "tickformat": ".0%",
         "title": {
          "text": "Relative error"
         },
         "type": "linear"
        },
        "yaxis": {
         "anchor": "x",
         "autorange": true,
         "domain": [
          0,
          1
         ],
         "range": [
          -0.5,
          7.5
         ],
         "title": {
          "text": ""
         },
         "type": "category"
        }
       }
      },
      "image/png": "[encoded data removed]",
      "text/html": [
       "<div>                            <div id=\"e06b8715-736a-4d80-a96c-27afed02d349\" class=\"plotly-graph-div\" style=\"height:600px; width:800px;\"></div>            <script type=\"text/javascript\">                require([\"plotly\"], function(Plotly) {                    window.PLOTLYENV=window.PLOTLYENV || {};                                    if (document.getElementById(\"e06b8715-736a-4d80-a96c-27afed02d349\")) {                    Plotly.newPlot(                        \"e06b8715-736a-4d80-a96c-27afed02d349\",                        [{\"alignmentgroup\":\"True\",\"customdata\":[[6.9,7.1,7.3,2019,\"Child Benefit\"],[28.2,39.9,31.4,2019,\"Income Tax\"],[0.9,0.9,1.1,2019,\"ESA (income-based)\"],[1.2,1.5,1.6,2019,\"Pension Credit\"],[1.7,2.1,2.1,2019,\"Universal Credit\"],[2.2,1.7,2.8,2019,\"Child Tax Credit\"],[2.5,2.9,3.4,2019,\"Housing Benefit\"],[1.1,0.8,1.6,2019,\"Working Tax Credit\"]],\"hovertemplate\":\"<b>%{customdata[4]} in %{customdata[3]}</b><br>Error: %{x}<br>Official: %{customdata[2]}m<br>OpenFisca-UK: %{customdata[0]}m<br>UKMOD: %{customdata[1]}m\",\"legendgroup\":\"OpenFisca-UK\",\"marker\":{\"color\":\"blue\",\"pattern\":{\"shape\":\"\"}},\"name\":\"OpenFisca-UK\",\"offsetgroup\":\"OpenFisca-UK\",\"orientation\":\"h\",\"showlegend\":true,\"textposition\":\"auto\",\"type\":\"bar\",\"x\":[0.055,0.10099999999999999,0.158,0.201,0.201,0.22899999999999998,0.263,0.319],\"xaxis\":\"x\",\"y\":[\"Child Benefit\",\"Income Tax\",\"ESA (income-based)\",\"Pension Credit\",\"Universal Credit\",\"Child Tax Credit\",\"Housing Benefit\",\"Working Tax Credit\"],\"yaxis\":\"y\"},{\"alignmentgroup\":\"True\",\"customdata\":[[6.9,7.1,7.3,2019,\"Child Benefit\"],[28.2,39.9,31.4,2019,\"Income Tax\"],[0.9,0.9,1.1,2019,\"ESA (income-based)\"],[1.2,1.5,1.6,2019,\"Pension Credit\"],[1.7,2.1,2.1,2019,\"Universal Credit\"],[2.2,1.7,2.8,2019,\"Child Tax Credit\"],[2.5,2.9,3.4,2019,\"Housing Benefit\"],[1.1,0.8,1.6,2019,\"Working Tax Credit\"]],\"hovertemplate\":\"<b>%{customdata[4]} in %{customdata[3]}</b><br>Error: %{x}<br>Official: %{customdata[2]}m<br>OpenFisca-UK: %{customdata[0]}m<br>UKMOD: %{customdata[1]}m\",\"legendgroup\":\"UKMOD\",\"marker\":{\"color\":\"lightgrey\",\"pattern\":{\"shape\":\"\"}},\"name\":\"UKMOD\",\"offsetgroup\":\"UKMOD\",\"orientation\":\"h\",\"showlegend\":true,\"textposition\":\"auto\",\"type\":\"bar\",\"x\":[0.025,0.26899999999999996,0.156,0.026000000000000002,0.002,0.387,0.142,0.498],\"xaxis\":\"x\",\"y\":[\"Child Benefit\",\"Income Tax\",\"ESA (income-based)\",\"Pension Credit\",\"Universal Credit\",\"Child Tax Credit\",\"Housing Benefit\",\"Working Tax Credit\"],\"yaxis\":\"y\"}],                        {\"barmode\":\"group\",\"height\":600,\"legend\":{\"title\":{\"text\":\"Model\"},\"tracegroupgap\":0,\"traceorder\":\"reversed\"},\"margin\":{\"t\":60},\"sliders\":[{\"active\":0,\"currentvalue\":{\"prefix\":\"Year=\"},\"len\":0.9,\"pad\":{\"b\":10,\"t\":60},\"steps\":[{\"args\":[[\"2019\"],{\"frame\":{\"duration\":0,\"redraw\":true},\"fromcurrent\":true,\"mode\":\"immediate\",\"transition\":{\"duration\":0,\"easing\":\"linear\"}}],\"label\":\"2019\",\"method\":\"animate\"},{\"args\":[[\"2020\"],{\"frame\":{\"duration\":0,\"redraw\":true},\"fromcurrent\":true,\"mode\":\"immediate\",\"transition\":{\"duration\":0,\"easing\":\"linear\"}}],\"label\":\"2020\",\"method\":\"animate\"},{\"args\":[[\"2021\"],{\"frame\":{\"duration\":0,\"redraw\":true},\"fromcurrent\":true,\"mode\":\"immediate\",\"transition\":{\"duration\":0,\"easing\":\"linear\"}}],\"label\":\"2021\",\"method\":\"animate\"},{\"args\":[[\"2022\"],{\"frame\":{\"duration\":0,\"redraw\":true},\"fromcurrent\":true,\"mode\":\"immediate\",\"transition\":{\"duration\":0,\"easing\":\"linear\"}}],\"label\":\"2022\",\"method\":\"animate\"},{\"args\":[[\"2023\"],{\"frame\":{\"duration\":0,\"redraw\":true},\"fromcurrent\":true,\"mode\":\"immediate\",\"transition\":{\"duration\":0,\"easing\":\"linear\"}}],\"label\":\"2023\",\"method\":\"animate\"},{\"args\":[[\"2024\"],{\"frame\":{\"duration\":0,\"redraw\":true},\"fromcurrent\":true,\"mode\":\"immediate\",\"transition\":{\"duration\":0,\"easing\":\"linear\"}}],\"label\":\"2024\",\"method\":\"animate\"},{\"args\":[[\"2025\"],{\"frame\":{\"duration\":0,\"redraw\":true},\"fromcurrent\":true,\"mode\":\"immediate\",\"transition\":{\"duration\":0,\"easing\":\"linear\"}}],\"label\":\"2025\",\"method\":\"animate\"}],\"x\":0.1,\"xanchor\":\"left\",\"y\":0,\"yanchor\":\"top\"}],\"template\":{\"data\":{\"bar\":[{\"error_x\":{\"color\":\"#2a3f5f\"},\"error_y\":{\"color\":\"#2a3f5f\"},\"marker\":{\"line\":{\"color\":\"white\",\"width\":0.5},\"pattern\":{\"fillmode\":\"overlay\",\"size\":10,\"solidity\":0.2}},\"type\":\"bar\"}],\"barpolar\":[{\"marker\":{\"line\":{\"color\":\"white\",\"width\":0.5},\"pattern\":{\"fillmode\":\"overlay\",\"size\":10,\"solidity\":0.2}},\"type\":\"barpolar\"}],\"carpet\":[{\"aaxis\":{\"endlinecolor\":\"#2a3f5f\",\"gridcolor\":\"#C8D4E3\",\"linecolor\":\"#C8D4E3\",\"minorgridcolor\":\"#C8D4E3\",\"startlinecolor\":\"#2a3f5f\"},\"baxis\":{\"endlinecolor\":\"#2a3f5f\",\"gridcolor\":\"#C8D4E3\",\"linecolor\":\"#C8D4E3\",\"minorgridcolor\":\"#C8D4E3\",\"startlinecolor\":\"#2a3f5f\"},\"type\":\"carpet\"}],\"choropleth\":[{\"colorbar\":{\"outlinewidth\":0,\"ticks\":\"\"},\"type\":\"choropleth\"}],\"contour\":[{\"colorbar\":{\"outlinewidth\":0,\"ticks\":\"\"},\"colorscale\":[[0.0,\"#0d0887\"],[0.1111111111111111,\"#46039f\"],[0.2222222222222222,\"#7201a8\"],[0.3333333333333333,\"#9c179e\"],[0.4444444444444444,\"#bd3786\"],[0.5555555555555556,\"#d8576b\"],[0.6666666666666666,\"#ed7953\"],[0.7777777777777778,\"#fb9f3a\"],[0.8888888888888888,\"#fdca26\"],[1.0,\"#f0f921\"]],\"type\":\"contour\"}],\"contourcarpet\":[{\"colorbar\":{\"outlinewidth\":0,\"ticks\":\"\"},\"type\":\"contourcarpet\"}],\"heatmap\":[{\"colorbar\":{\"outlinewidth\":0,\"ticks\":\"\"},\"colorscale\":[[0.0,\"#0d0887\"],[0.1111111111111111,\"#46039f\"],[0.2222222222222222,\"#7201a8\"],[0.3333333333333333,\"#9c179e\"],[0.4444444444444444,\"#bd3786\"],[0.5555555555555556,\"#d8576b\"],[0.6666666666666666,\"#ed7953\"],[0.7777777777777778,\"#fb9f3a\"],[0.8888888888888888,\"#fdca26\"],[1.0,\"#f0f921\"]],\"type\":\"heatmap\"}],\"heatmapgl\":[{\"colorbar\":{\"outlinewidth\":0,\"ticks\":\"\"},\"colorscale\":[[0.0,\"#0d0887\"],[0.1111111111111111,\"#46039f\"],[0.2222222222222222,\"#7201a8\"],[0.3333333333333333,\"#9c179e\"],[0.4444444444444444,\"#bd3786\"],[0.5555555555555556,\"#d8576b\"],[0.6666666666666666,\"#ed7953\"],[0.7777777777777778,\"#fb9f3a\"],[0.8888888888888888,\"#fdca26\"],[1.0,\"#f0f921\"]],\"type\":\"heatmapgl\"}],\"histogram\":[{\"marker\":{\"pattern\":{\"fillmode\":\"overlay\",\"size\":10,\"solidity\":0.2}},\"type\":\"histogram\"}],\"histogram2d\":[{\"colorbar\":{\"outlinewidth\":0,\"ticks\":\"\"},\"colorscale\":[[0.0,\"#0d0887\"],[0.1111111111111111,\"#46039f\"],[0.2222222222222222,\"#7201a8\"],[0.3333333333333333,\"#9c179e\"],[0.4444444444444444,\"#bd3786\"],[0.5555555555555556,\"#d8576b\"],[0.6666666666666666,\"#ed7953\"],[0.7777777777777778,\"#fb9f3a\"],[0.8888888888888888,\"#fdca26\"],[1.0,\"#f0f921\"]],\"type\":\"histogram2d\"}],\"histogram2dcontour\":[{\"colorbar\":{\"outlinewidth\":0,\"ticks\":\"\"},\"colorscale\":[[0.0,\"#0d0887\"],[0.1111111111111111,\"#46039f\"],[0.2222222222222222,\"#7201a8\"],[0.3333333333333333,\"#9c179e\"],[0.4444444444444444,\"#bd3786\"],[0.5555555555555556,\"#d8576b\"],[0.6666666666666666,\"#ed7953\"],[0.7777777777777778,\"#fb9f3a\"],[0.8888888888888888,\"#fdca26\"],[1.0,\"#f0f921\"]],\"type\":\"histogram2dcontour\"}],\"mesh3d\":[{\"colorbar\":{\"outlinewidth\":0,\"ticks\":\"\"},\"type\":\"mesh3d\"}],\"parcoords\":[{\"line\":{\"colorbar\":{\"outlinewidth\":0,\"ticks\":\"\"}},\"type\":\"parcoords\"}],\"pie\":[{\"automargin\":true,\"type\":\"pie\"}],\"scatter\":[{\"marker\":{\"colorbar\":{\"outlinewidth\":0,\"ticks\":\"\"}},\"type\":\"scatter\"}],\"scatter3d\":[{\"line\":{\"colorbar\":{\"outlinewidth\":0,\"ticks\":\"\"}},\"marker\":{\"colorbar\":{\"outlinewidth\":0,\"ticks\":\"\"}},\"type\":\"scatter3d\"}],\"scattercarpet\":[{\"marker\":{\"colorbar\":{\"outlinewidth\":0,\"ticks\":\"\"}},\"type\":\"scattercarpet\"}],\"scattergeo\":[{\"marker\":{\"colorbar\":{\"outlinewidth\":0,\"ticks\":\"\"}},\"type\":\"scattergeo\"}],\"scattergl\":[{\"marker\":{\"colorbar\":{\"outlinewidth\":0,\"ticks\":\"\"}},\"type\":\"scattergl\"}],\"scattermapbox\":[{\"marker\":{\"colorbar\":{\"outlinewidth\":0,\"ticks\":\"\"}},\"type\":\"scattermapbox\"}],\"scatterpolar\":[{\"marker\":{\"colorbar\":{\"outlinewidth\":0,\"ticks\":\"\"}},\"type\":\"scatterpolar\"}],\"scatterpolargl\":[{\"marker\":{\"colorbar\":{\"outlinewidth\":0,\"ticks\":\"\"}},\"type\":\"scatterpolargl\"}],\"scatterternary\":[{\"marker\":{\"colorbar\":{\"outlinewidth\":0,\"ticks\":\"\"}},\"type\":\"scatterternary\"}],\"surface\":[{\"colorbar\":{\"outlinewidth\":0,\"ticks\":\"\"},\"colorscale\":[[0.0,\"#0d0887\"],[0.1111111111111111,\"#46039f\"],[0.2222222222222222,\"#7201a8\"],[0.3333333333333333,\"#9c179e\"],[0.4444444444444444,\"#bd3786\"],[0.5555555555555556,\"#d8576b\"],[0.6666666666666666,\"#ed7953\"],[0.7777777777777778,\"#fb9f3a\"],[0.8888888888888888,\"#fdca26\"],[1.0,\"#f0f921\"]],\"type\":\"surface\"}],\"table\":[{\"cells\":{\"fill\":{\"color\":\"#EBF0F8\"},\"line\":{\"color\":\"white\"}},\"header\":{\"fill\":{\"color\":\"#C8D4E3\"},\"line\":{\"color\":\"white\"}},\"type\":\"table\"}]},\"layout\":{\"annotationdefaults\":{\"arrowcolor\":\"#2a3f5f\",\"arrowhead\":0,\"arrowwidth\":1},\"autotypenumbers\":\"strict\",\"coloraxis\":{\"colorbar\":{\"outlinewidth\":0,\"ticks\":\"\"}},\"colorscale\":{\"diverging\":[[0,\"#8e0152\"],[0.1,\"#c51b7d\"],[0.2,\"#de77ae\"],[0.3,\"#f1b6da\"],[0.4,\"#fde0ef\"],[0.5,\"#f7f7f7\"],[0.6,\"#e6f5d0\"],[0.7,\"#b8e186\"],[0.8,\"#7fbc41\"],[0.9,\"#4d9221\"],[1,\"#276419\"]],\"sequential\":[[0.0,\"#0d0887\"],[0.1111111111111111,\"#46039f\"],[0.2222222222222222,\"#7201a8\"],[0.3333333333333333,\"#9c179e\"],[0.4444444444444444,\"#bd3786\"],[0.5555555555555556,\"#d8576b\"],[0.6666666666666666,\"#ed7953\"],[0.7777777777777778,\"#fb9f3a\"],[0.8888888888888888,\"#fdca26\"],[1.0,\"#f0f921\"]],\"sequentialminus\":[[0.0,\"#0d0887\"],[0.1111111111111111,\"#46039f\"],[0.2222222222222222,\"#7201a8\"],[0.3333333333333333,\"#9c179e\"],[0.4444444444444444,\"#bd3786\"],[0.5555555555555556,\"#d8576b\"],[0.6666666666666666,\"#ed7953\"],[0.7777777777777778,\"#fb9f3a\"],[0.8888888888888888,\"#fdca26\"],[1.0,\"#f0f921\"]]},\"colorway\":[\"#636efa\",\"#EF553B\",\"#00cc96\",\"#ab63fa\",\"#FFA15A\",\"#19d3f3\",\"#FF6692\",\"#B6E880\",\"#FF97FF\",\"#FECB52\"],\"font\":{\"color\":\"#2a3f5f\"},\"geo\":{\"bgcolor\":\"white\",\"lakecolor\":\"white\",\"landcolor\":\"white\",\"showlakes\":true,\"showland\":true,\"subunitcolor\":\"#C8D4E3\"},\"hoverlabel\":{\"align\":\"left\"},\"hovermode\":\"closest\",\"mapbox\":{\"style\":\"light\"},\"paper_bgcolor\":\"white\",\"plot_bgcolor\":\"white\",\"polar\":{\"angularaxis\":{\"gridcolor\":\"#EBF0F8\",\"linecolor\":\"#EBF0F8\",\"ticks\":\"\"},\"bgcolor\":\"white\",\"radialaxis\":{\"gridcolor\":\"#EBF0F8\",\"linecolor\":\"#EBF0F8\",\"ticks\":\"\"}},\"scene\":{\"xaxis\":{\"backgroundcolor\":\"white\",\"gridcolor\":\"#DFE8F3\",\"gridwidth\":2,\"linecolor\":\"#EBF0F8\",\"showbackground\":true,\"ticks\":\"\",\"zerolinecolor\":\"#EBF0F8\"},\"yaxis\":{\"backgroundcolor\":\"white\",\"gridcolor\":\"#DFE8F3\",\"gridwidth\":2,\"linecolor\":\"#EBF0F8\",\"showbackground\":true,\"ticks\":\"\",\"zerolinecolor\":\"#EBF0F8\"},\"zaxis\":{\"backgroundcolor\":\"white\",\"gridcolor\":\"#DFE8F3\",\"gridwidth\":2,\"linecolor\":\"#EBF0F8\",\"showbackground\":true,\"ticks\":\"\",\"zerolinecolor\":\"#EBF0F8\"}},\"shapedefaults\":{\"line\":{\"color\":\"#2a3f5f\"}},\"ternary\":{\"aaxis\":{\"gridcolor\":\"#DFE8F3\",\"linecolor\":\"#A2B1C6\",\"ticks\":\"\"},\"baxis\":{\"gridcolor\":\"#DFE8F3\",\"linecolor\":\"#A2B1C6\",\"ticks\":\"\"},\"bgcolor\":\"white\",\"caxis\":{\"gridcolor\":\"#DFE8F3\",\"linecolor\":\"#A2B1C6\",\"ticks\":\"\"}},\"title\":{\"x\":0.05},\"xaxis\":{\"automargin\":true,\"gridcolor\":\"#EBF0F8\",\"linecolor\":\"#EBF0F8\",\"ticks\":\"\",\"title\":{\"standoff\":15},\"zerolinecolor\":\"#EBF0F8\",\"zerolinewidth\":2},\"yaxis\":{\"automargin\":true,\"gridcolor\":\"#EBF0F8\",\"linecolor\":\"#EBF0F8\",\"ticks\":\"\",\"title\":{\"standoff\":15},\"zerolinecolor\":\"#EBF0F8\",\"zerolinewidth\":2}}},\"title\":{\"text\":\"Relative errors on caseloads\"},\"updatemenus\":[{\"buttons\":[{\"args\":[null,{\"frame\":{\"duration\":500,\"redraw\":true},\"fromcurrent\":true,\"mode\":\"immediate\",\"transition\":{\"duration\":500,\"easing\":\"linear\"}}],\"label\":\"&#9654;\",\"method\":\"animate\"},{\"args\":[[null],{\"frame\":{\"duration\":0,\"redraw\":true},\"fromcurrent\":true,\"mode\":\"immediate\",\"transition\":{\"duration\":0,\"easing\":\"linear\"}}],\"label\":\"&#9724;\",\"method\":\"animate\"}],\"direction\":\"left\",\"pad\":{\"r\":10,\"t\":70},\"showactive\":false,\"type\":\"buttons\",\"x\":0.1,\"xanchor\":\"right\",\"y\":0,\"yanchor\":\"top\"}],\"width\":800,\"xaxis\":{\"anchor\":\"y\",\"domain\":[0.0,1.0],\"range\":[0,1],\"tickformat\":\".0%\",\"title\":{\"text\":\"Relative error\"}},\"yaxis\":{\"anchor\":\"x\",\"domain\":[0.0,1.0],\"title\":{\"text\":\"\"}}},                        {\"responsive\": true}                    ).then(function(){\n",
       "                            Plotly.addFrames('e06b8715-736a-4d80-a96c-27afed02d349', [{\"data\":[{\"alignmentgroup\":\"True\",\"customdata\":[[6.9,7.1,7.3,2019,\"Child Benefit\"],[28.2,39.9,31.4,2019,\"Income Tax\"],[0.9,0.9,1.1,2019,\"ESA (income-based)\"],[1.2,1.5,1.6,2019,\"Pension Credit\"],[1.7,2.1,2.1,2019,\"Universal Credit\"],[2.2,1.7,2.8,2019,\"Child Tax Credit\"],[2.5,2.9,3.4,2019,\"Housing Benefit\"],[1.1,0.8,1.6,2019,\"Working Tax Credit\"]],\"hovertemplate\":\"<b>%{customdata[4]} in %{customdata[3]}</b><br>Error: %{x}<br>Official: %{customdata[2]}m<br>OpenFisca-UK: %{customdata[0]}m<br>UKMOD: %{customdata[1]}m\",\"legendgroup\":\"OpenFisca-UK\",\"marker\":{\"color\":\"blue\",\"pattern\":{\"shape\":\"\"}},\"name\":\"OpenFisca-UK\",\"offsetgroup\":\"OpenFisca-UK\",\"orientation\":\"h\",\"showlegend\":true,\"textposition\":\"auto\",\"type\":\"bar\",\"x\":[0.055,0.10099999999999999,0.158,0.201,0.201,0.22899999999999998,0.263,0.319],\"xaxis\":\"x\",\"y\":[\"Child Benefit\",\"Income Tax\",\"ESA (income-based)\",\"Pension Credit\",\"Universal Credit\",\"Child Tax Credit\",\"Housing Benefit\",\"Working Tax Credit\"],\"yaxis\":\"y\"},{\"alignmentgroup\":\"True\",\"customdata\":[[6.9,7.1,7.3,2019,\"Child Benefit\"],[28.2,39.9,31.4,2019,\"Income Tax\"],[0.9,0.9,1.1,2019,\"ESA (income-based)\"],[1.2,1.5,1.6,2019,\"Pension Credit\"],[1.7,2.1,2.1,2019,\"Universal Credit\"],[2.2,1.7,2.8,2019,\"Child Tax Credit\"],[2.5,2.9,3.4,2019,\"Housing Benefit\"],[1.1,0.8,1.6,2019,\"Working Tax Credit\"]],\"hovertemplate\":\"<b>%{customdata[4]} in %{customdata[3]}</b><br>Error: %{x}<br>Official: %{customdata[2]}m<br>OpenFisca-UK: %{customdata[0]}m<br>UKMOD: %{customdata[1]}m\",\"legendgroup\":\"UKMOD\",\"marker\":{\"color\":\"lightgrey\",\"pattern\":{\"shape\":\"\"}},\"name\":\"UKMOD\",\"offsetgroup\":\"UKMOD\",\"orientation\":\"h\",\"showlegend\":true,\"textposition\":\"auto\",\"type\":\"bar\",\"x\":[0.025,0.26899999999999996,0.156,0.026000000000000002,0.002,0.387,0.142,0.498],\"xaxis\":\"x\",\"y\":[\"Child Benefit\",\"Income Tax\",\"ESA (income-based)\",\"Pension Credit\",\"Universal Credit\",\"Child Tax Credit\",\"Housing Benefit\",\"Working Tax Credit\"],\"yaxis\":\"y\"}],\"name\":\"2019\"},{\"data\":[{\"alignmentgroup\":\"True\",\"customdata\":[[6.9,7.1,7.2,2020,\"Child Benefit\"],[0.8,0.8,1.0,2020,\"ESA (income-based)\"],[27.2,29.5,31.7,2020,\"Income Tax\"],[1.7,1.5,2.1,2020,\"Child Tax Credit\"],[1.2,1.5,1.5,2020,\"Pension Credit\"],[3.1,3.1,4.1,2020,\"Universal Credit\"],[0.9,0.6,1.2,2020,\"Working Tax Credit\"],[2.2,2.7,3.0,2020,\"Housing Benefit\"]],\"hovertemplate\":\"<b>%{customdata[4]} in %{customdata[3]}</b><br>Error: %{x}<br>Official: %{customdata[2]}m<br>OpenFisca-UK: %{customdata[0]}m<br>UKMOD: %{customdata[1]}m\",\"legendgroup\":\"OpenFisca-UK\",\"marker\":{\"color\":\"blue\",\"pattern\":{\"shape\":\"\"}},\"name\":\"OpenFisca-UK\",\"offsetgroup\":\"OpenFisca-UK\",\"orientation\":\"h\",\"showlegend\":true,\"textposition\":\"auto\",\"type\":\"bar\",\"x\":[0.044000000000000004,0.131,0.142,0.188,0.20600000000000002,0.231,0.252,0.266],\"xaxis\":\"x\",\"y\":[\"Child Benefit\",\"ESA (income-based)\",\"Income Tax\",\"Child Tax Credit\",\"Pension Credit\",\"Universal Credit\",\"Working Tax Credit\",\"Housing Benefit\"],\"yaxis\":\"y\"},{\"alignmentgroup\":\"True\",\"customdata\":[[6.9,7.1,7.2,2020,\"Child Benefit\"],[0.8,0.8,1.0,2020,\"ESA (income-based)\"],[27.2,29.5,31.7,2020,\"Income Tax\"],[1.7,1.5,2.1,2020,\"Child Tax Credit\"],[1.2,1.5,1.5,2020,\"Pension Credit\"],[3.1,3.1,4.1,2020,\"Universal Credit\"],[0.9,0.6,1.2,2020,\"Working Tax Credit\"],[2.2,2.7,3.0,2020,\"Housing Benefit\"]],\"hovertemplate\":\"<b>%{customdata[4]} in %{customdata[3]}</b><br>Error: %{x}<br>Official: %{customdata[2]}m<br>OpenFisca-UK: %{customdata[0]}m<br>UKMOD: %{customdata[1]}m\",\"legendgroup\":\"UKMOD\",\"marker\":{\"color\":\"lightgrey\",\"pattern\":{\"shape\":\"\"}},\"name\":\"UKMOD\",\"offsetgroup\":\"UKMOD\",\"orientation\":\"h\",\"showlegend\":true,\"textposition\":\"auto\",\"type\":\"bar\",\"x\":[0.016,0.175,0.068,0.304,0.045,0.223,0.48200000000000004,0.113],\"xaxis\":\"x\",\"y\":[\"Child Benefit\",\"ESA (income-based)\",\"Income Tax\",\"Child Tax Credit\",\"Pension Credit\",\"Universal Credit\",\"Working Tax Credit\",\"Housing Benefit\"],\"yaxis\":\"y\"}],\"name\":\"2020\"},{\"data\":[{\"alignmentgroup\":\"True\",\"customdata\":[[0.4,0.7,0.4,2021,\"ESA (income-based)\"],[6.8,7.2,7.1,2021,\"Child Benefit\"],[28.3,29.4,32.2,2021,\"Income Tax\"],[1.4,1.3,1.7,2021,\"Child Tax Credit\"],[1.2,1.4,1.5,2021,\"Pension Credit\"],[3.3,3.6,4.3,2021,\"Universal Credit\"],[0.8,0.7,1.0,2021,\"Working Tax Credit\"],[2.2,2.4,2.9,2021,\"Housing Benefit\"]],\"hovertemplate\":\"<b>%{customdata[4]} in %{customdata[3]}</b><br>Error: %{x}<br>Official: %{customdata[2]}m<br>OpenFisca-UK: %{customdata[0]}m<br>UKMOD: %{customdata[1]}m\",\"legendgroup\":\"OpenFisca-UK\",\"marker\":{\"color\":\"blue\",\"pattern\":{\"shape\":\"\"}},\"name\":\"OpenFisca-UK\",\"offsetgroup\":\"OpenFisca-UK\",\"orientation\":\"h\",\"showlegend\":true,\"textposition\":\"auto\",\"type\":\"bar\",\"x\":[0.018000000000000002,0.044000000000000004,0.121,0.172,0.187,0.22899999999999998,0.251,0.264],\"xaxis\":\"x\",\"y\":[\"ESA (income-based)\",\"Child Benefit\",\"Income Tax\",\"Child Tax Credit\",\"Pension Credit\",\"Universal Credit\",\"Working Tax Credit\",\"Housing Benefit\"],\"yaxis\":\"y\"},{\"alignmentgroup\":\"True\",\"customdata\":[[0.4,0.7,0.4,2021,\"ESA (income-based)\"],[6.8,7.2,7.1,2021,\"Child Benefit\"],[28.3,29.4,32.2,2021,\"Income Tax\"],[1.4,1.3,1.7,2021,\"Child Tax Credit\"],[1.2,1.4,1.5,2021,\"Pension Credit\"],[3.3,3.6,4.3,2021,\"Universal Credit\"],[0.8,0.7,1.0,2021,\"Working Tax Credit\"],[2.2,2.4,2.9,2021,\"Housing Benefit\"]],\"hovertemplate\":\"<b>%{customdata[4]} in %{customdata[3]}</b><br>Error: %{x}<br>Official: %{customdata[2]}m<br>OpenFisca-UK: %{customdata[0]}m<br>UKMOD: %{customdata[1]}m\",\"legendgroup\":\"UKMOD\",\"marker\":{\"color\":\"lightgrey\",\"pattern\":{\"shape\":\"\"}},\"name\":\"UKMOD\",\"offsetgroup\":\"UKMOD\",\"orientation\":\"h\",\"showlegend\":true,\"textposition\":\"auto\",\"type\":\"bar\",\"x\":[0.722,0.003,0.086,0.222,0.039,0.16399999999999998,0.364,0.16699999999999998],\"xaxis\":\"x\",\"y\":[\"ESA (income-based)\",\"Child Benefit\",\"Income Tax\",\"Child Tax Credit\",\"Pension Credit\",\"Universal Credit\",\"Working Tax Credit\",\"Housing Benefit\"],\"yaxis\":\"y\"}],\"name\":\"2021\"},{\"data\":[{\"alignmentgroup\":\"True\",\"customdata\":[[0.4,0.6,0.4,2022,\"ESA (income-based)\"],[6.8,7.1,7.1,2022,\"Child Benefit\"],[29.1,30.0,32.7,2022,\"Income Tax\"],[1.1,1.1,1.3,2022,\"Child Tax Credit\"],[1.2,1.4,1.4,2022,\"Pension Credit\"],[3.6,4.2,4.6,2022,\"Universal Credit\"],[2.0,2.3,2.7,2022,\"Housing Benefit\"],[0.7,0.5,0.9,2022,\"Working Tax Credit\"]],\"hovertemplate\":\"<b>%{customdata[4]} in %{customdata[3]}</b><br>Error: %{x}<br>Official: %{customdata[2]}m<br>OpenFisca-UK: %{customdata[0]}m<br>UKMOD: %{customdata[1]}m\",\"legendgroup\":\"OpenFisca-UK\",\"marker\":{\"color\":\"blue\",\"pattern\":{\"shape\":\"\"}},\"name\":\"OpenFisca-UK\",\"offsetgroup\":\"OpenFisca-UK\",\"orientation\":\"h\",\"showlegend\":true,\"textposition\":\"auto\",\"type\":\"bar\",\"x\":[0.028999999999999998,0.04,0.111,0.14300000000000002,0.179,0.221,0.24600000000000002,0.27899999999999997],\"xaxis\":\"x\",\"y\":[\"ESA (income-based)\",\"Child Benefit\",\"Income Tax\",\"Child Tax Credit\",\"Pension Credit\",\"Universal Credit\",\"Housing Benefit\",\"Working Tax Credit\"],\"yaxis\":\"y\"},{\"alignmentgroup\":\"True\",\"customdata\":[[0.4,0.6,0.4,2022,\"ESA (income-based)\"],[6.8,7.1,7.1,2022,\"Child Benefit\"],[29.1,30.0,32.7,2022,\"Income Tax\"],[1.1,1.1,1.3,2022,\"Child Tax Credit\"],[1.2,1.4,1.4,2022,\"Pension Credit\"],[3.6,4.2,4.6,2022,\"Universal Credit\"],[2.0,2.3,2.7,2022,\"Housing Benefit\"],[0.7,0.5,0.9,2022,\"Working Tax Credit\"]],\"hovertemplate\":\"<b>%{customdata[4]} in %{customdata[3]}</b><br>Error: %{x}<br>Official: %{customdata[2]}m<br>OpenFisca-UK: %{customdata[0]}m<br>UKMOD: %{customdata[1]}m\",\"legendgroup\":\"UKMOD\",\"marker\":{\"color\":\"lightgrey\",\"pattern\":{\"shape\":\"\"}},\"name\":\"UKMOD\",\"offsetgroup\":\"UKMOD\",\"orientation\":\"h\",\"showlegend\":true,\"textposition\":\"auto\",\"type\":\"bar\",\"x\":[0.5579999999999999,0.006,0.08199999999999999,0.193,0.005,0.094,0.165,0.406],\"xaxis\":\"x\",\"y\":[\"ESA (income-based)\",\"Child Benefit\",\"Income Tax\",\"Child Tax Credit\",\"Pension Credit\",\"Universal Credit\",\"Housing Benefit\",\"Working Tax Credit\"],\"yaxis\":\"y\"}],\"name\":\"2022\"},{\"data\":[{\"alignmentgroup\":\"True\",\"customdata\":[[6.7,7.1,7.0,2023,\"Child Benefit\"],[0.4,0.5,0.3,2023,\"ESA (income-based)\"],[30.0,30.6,33.2,2023,\"Income Tax\"],[0.9,0.9,1.1,2023,\"Child Tax Credit\"],[1.1,1.4,1.3,2023,\"Pension Credit\"],[4.0,4.7,5.0,2023,\"Universal Credit\"],[1.9,2.0,2.5,2023,\"Housing Benefit\"],[0.6,0.4,0.8,2023,\"Working Tax Credit\"]],\"hovertemplate\":\"<b>%{customdata[4]} in %{customdata[3]}</b><br>Error: %{x}<br>Official: %{customdata[2]}m<br>OpenFisca-UK: %{customdata[0]}m<br>UKMOD: %{customdata[1]}m\",\"legendgroup\":\"OpenFisca-UK\",\"marker\":{\"color\":\"blue\",\"pattern\":{\"shape\":\"\"}},\"name\":\"OpenFisca-UK\",\"offsetgroup\":\"OpenFisca-UK\",\"orientation\":\"h\",\"showlegend\":true,\"textposition\":\"auto\",\"type\":\"bar\",\"x\":[0.037000000000000005,0.040999999999999995,0.098,0.141,0.17300000000000001,0.217,0.231,0.302],\"xaxis\":\"x\",\"y\":[\"Child Benefit\",\"ESA (income-based)\",\"Income Tax\",\"Child Tax Credit\",\"Pension Credit\",\"Universal Credit\",\"Housing Benefit\",\"Working Tax Credit\"],\"yaxis\":\"y\"},{\"alignmentgroup\":\"True\",\"customdata\":[[6.7,7.1,7.0,2023,\"Child Benefit\"],[0.4,0.5,0.3,2023,\"ESA (income-based)\"],[30.0,30.6,33.2,2023,\"Income Tax\"],[0.9,0.9,1.1,2023,\"Child Tax Credit\"],[1.1,1.4,1.3,2023,\"Pension Credit\"],[4.0,4.7,5.0,2023,\"Universal Credit\"],[1.9,2.0,2.5,2023,\"Housing Benefit\"],[0.6,0.4,0.8,2023,\"Working Tax Credit\"]],\"hovertemplate\":\"<b>%{customdata[4]} in %{customdata[3]}</b><br>Error: %{x}<br>Official: %{customdata[2]}m<br>OpenFisca-UK: %{customdata[0]}m<br>UKMOD: %{customdata[1]}m\",\"legendgroup\":\"UKMOD\",\"marker\":{\"color\":\"lightgrey\",\"pattern\":{\"shape\":\"\"}},\"name\":\"UKMOD\",\"offsetgroup\":\"UKMOD\",\"orientation\":\"h\",\"showlegend\":true,\"textposition\":\"auto\",\"type\":\"bar\",\"x\":[0.01,0.42200000000000004,0.079,0.161,0.078,0.078,0.166,0.44],\"xaxis\":\"x\",\"y\":[\"Child Benefit\",\"ESA (income-based)\",\"Income Tax\",\"Child Tax Credit\",\"Pension Credit\",\"Universal Credit\",\"Housing Benefit\",\"Working Tax Credit\"],\"yaxis\":\"y\"}],\"name\":\"2023\"},{\"data\":[{\"alignmentgroup\":\"True\",\"customdata\":[[6.7,7.0,6.9,2024,\"Child Benefit\"],[0.3,0.3,0.3,2024,\"ESA (income-based)\"],[31.1,30.9,33.7,2024,\"Income Tax\"],[0.7,0.6,0.8,2024,\"Child Tax Credit\"],[1.1,1.4,1.3,2024,\"Pension Credit\"],[1.7,1.8,2.1,2024,\"Housing Benefit\"],[4.4,5.3,5.6,2024,\"Universal Credit\"],[0.4,0.3,0.7,2024,\"Working Tax Credit\"]],\"hovertemplate\":\"<b>%{customdata[4]} in %{customdata[3]}</b><br>Error: %{x}<br>Official: %{customdata[2]}m<br>OpenFisca-UK: %{customdata[0]}m<br>UKMOD: %{customdata[1]}m\",\"legendgroup\":\"OpenFisca-UK\",\"marker\":{\"color\":\"blue\",\"pattern\":{\"shape\":\"\"}},\"name\":\"OpenFisca-UK\",\"offsetgroup\":\"OpenFisca-UK\",\"orientation\":\"h\",\"showlegend\":true,\"textposition\":\"auto\",\"type\":\"bar\",\"x\":[0.033,0.046,0.079,0.179,0.179,0.2,0.22399999999999998,0.35100000000000003],\"xaxis\":\"x\",\"y\":[\"Child Benefit\",\"ESA (income-based)\",\"Income Tax\",\"Child Tax Credit\",\"Pension Credit\",\"Housing Benefit\",\"Universal Credit\",\"Working Tax Credit\"],\"yaxis\":\"y\"},{\"alignmentgroup\":\"True\",\"customdata\":[[6.7,7.0,6.9,2024,\"Child Benefit\"],[0.3,0.3,0.3,2024,\"ESA (income-based)\"],[31.1,30.9,33.7,2024,\"Income Tax\"],[0.7,0.6,0.8,2024,\"Child Tax Credit\"],[1.1,1.4,1.3,2024,\"Pension Credit\"],[1.7,1.8,2.1,2024,\"Housing Benefit\"],[4.4,5.3,5.6,2024,\"Universal Credit\"],[0.4,0.3,0.7,2024,\"Working Tax Credit\"]],\"hovertemplate\":\"<b>%{customdata[4]} in %{customdata[3]}</b><br>Error: %{x}<br>Official: %{customdata[2]}m<br>OpenFisca-UK: %{customdata[0]}m<br>UKMOD: %{customdata[1]}m\",\"legendgroup\":\"UKMOD\",\"marker\":{\"color\":\"lightgrey\",\"pattern\":{\"shape\":\"\"}},\"name\":\"UKMOD\",\"offsetgroup\":\"UKMOD\",\"orientation\":\"h\",\"showlegend\":true,\"textposition\":\"auto\",\"type\":\"bar\",\"x\":[0.013000000000000001,0.295,0.083,0.23600000000000002,0.12300000000000001,0.157,0.052000000000000005,0.569],\"xaxis\":\"x\",\"y\":[\"Child Benefit\",\"ESA (income-based)\",\"Income Tax\",\"Child Tax Credit\",\"Pension Credit\",\"Housing Benefit\",\"Universal Credit\",\"Working Tax Credit\"],\"yaxis\":\"y\"}],\"name\":\"2024\"},{\"data\":[{\"alignmentgroup\":\"True\",\"customdata\":[[6.7,7.0,6.9,2025,\"Child Benefit\"],[0.1,0.1,0.1,2025,\"ESA (income-based)\"],[32.0,31.5,34.3,2025,\"Income Tax\"],[1.4,1.4,1.7,2025,\"Housing Benefit\"],[1.0,1.4,1.2,2025,\"Pension Credit\"],[4.8,6.1,6.3,2025,\"Universal Credit\"],[0.5,0.3,0.7,2025,\"Child Tax Credit\"],[0.3,0.1,0.6,2025,\"Working Tax Credit\"]],\"hovertemplate\":\"<b>%{customdata[4]} in %{customdata[3]}</b><br>Error: %{x}<br>Official: %{customdata[2]}m<br>OpenFisca-UK: %{customdata[0]}m<br>UKMOD: %{customdata[1]}m\",\"legendgroup\":\"OpenFisca-UK\",\"marker\":{\"color\":\"blue\",\"pattern\":{\"shape\":\"\"}},\"name\":\"OpenFisca-UK\",\"offsetgroup\":\"OpenFisca-UK\",\"orientation\":\"h\",\"showlegend\":true,\"textposition\":\"auto\",\"type\":\"bar\",\"x\":[0.026000000000000002,0.053,0.066,0.16699999999999998,0.188,0.235,0.314,0.47600000000000003],\"xaxis\":\"x\",\"y\":[\"Child Benefit\",\"ESA (income-based)\",\"Income Tax\",\"Housing Benefit\",\"Pension Credit\",\"Universal Credit\",\"Child Tax Credit\",\"Working Tax Credit\"],\"yaxis\":\"y\"},{\"alignmentgroup\":\"True\",\"customdata\":[[6.7,7.0,6.9,2025,\"Child Benefit\"],[0.1,0.1,0.1,2025,\"ESA (income-based)\"],[32.0,31.5,34.3,2025,\"Income Tax\"],[1.4,1.4,1.7,2025,\"Housing Benefit\"],[1.0,1.4,1.2,2025,\"Pension Credit\"],[4.8,6.1,6.3,2025,\"Universal Credit\"],[0.5,0.3,0.7,2025,\"Child Tax Credit\"],[0.3,0.1,0.6,2025,\"Working Tax Credit\"]],\"hovertemplate\":\"<b>%{customdata[4]} in %{customdata[3]}</b><br>Error: %{x}<br>Official: %{customdata[2]}m<br>OpenFisca-UK: %{customdata[0]}m<br>UKMOD: %{customdata[1]}m\",\"legendgroup\":\"UKMOD\",\"marker\":{\"color\":\"lightgrey\",\"pattern\":{\"shape\":\"\"}},\"name\":\"UKMOD\",\"offsetgroup\":\"UKMOD\",\"orientation\":\"h\",\"showlegend\":true,\"textposition\":\"auto\",\"type\":\"bar\",\"x\":[0.018000000000000002,0.106,0.08199999999999999,0.17,0.149,0.022000000000000002,0.563,0.785],\"xaxis\":\"x\",\"y\":[\"Child Benefit\",\"ESA (income-based)\",\"Income Tax\",\"Housing Benefit\",\"Pension Credit\",\"Universal Credit\",\"Child Tax Credit\",\"Working Tax Credit\"],\"yaxis\":\"y\"}],\"name\":\"2025\"}]);\n",
       "                        }).then(function(){\n",
       "                            \n",
       "var gd = document.getElementById('e06b8715-736a-4d80-a96c-27afed02d349');\n",
       "var x = new MutationObserver(function (mutations, observer) {{\n",
       "        var display = window.getComputedStyle(gd).display;\n",
       "        if (!display || display === 'none') {{\n",
       "            console.log([gd, 'removed!']);\n",
       "            Plotly.purge(gd);\n",
       "            observer.disconnect();\n",
       "        }}\n",
       "}});\n",
       "\n",
       "// Listen for the removal of the full notebook cells\n",
       "var notebookContainer = gd.closest('#notebook-container');\n",
       "if (notebookContainer) {{\n",
       "    x.observe(notebookContainer, {childList: true});\n",
       "}}\n",
       "\n",
       "// Listen for the clearing of the current output cell\n",
       "var outputEl = gd.closest('.output');\n",
       "if (outputEl) {{\n",
       "    x.observe(outputEl, {childList: true});\n",
       "}}\n",
       "\n",
       "                        })                };                });            </script>        </div>"
      ]
     },
     "metadata": {},
     "output_type": "display_data"
    }
   ],
   "source": [
    "def error_chart(table, title=None):\n",
    "    hovertemplate = \"<b>%{customdata[4]} in %{customdata[3]}</b><br>Error: %{x}<br>Official: %{customdata[2]}m<br>OpenFisca-UK: %{customdata[0]}m<br>UKMOD: %{customdata[1]}m\"\n",
    "    table = table.replace(\"\", np.nan).dropna(axis=0)\n",
    "    table[[OPENFISCA_UK, UKMOD]] = table[[OPENFISCA_UK, UKMOD]].abs() / 1e2\n",
    "    fig = (\n",
    "        px.bar(\n",
    "            table.sort_values([\"Year\", OPENFISCA_UK]),\n",
    "            x=[OPENFISCA_UK, UKMOD],\n",
    "            y=\"Program\",\n",
    "            orientation=\"h\",\n",
    "            animation_frame=\"Year\",\n",
    "            barmode=\"group\",\n",
    "            color_discrete_map={\n",
    "                OPENFISCA_UK: \"blue\",\n",
    "                UKMOD: \"lightgrey\",\n",
    "            },\n",
    "            custom_data=[\n",
    "                \"OpenFisca-UK caseload\",\n",
    "                \"UKMOD caseload\",\n",
    "                \"External caseload\",\n",
    "                \"Year\",\n",
    "                \"Program\",\n",
    "            ],\n",
    "        )\n",
    "        .update_layout(\n",
    "            width=800,\n",
    "            height=600,\n",
    "            xaxis_tickformat=\".0%\",\n",
    "            xaxis_title=\"Relative error\",\n",
    "            title=title,\n",
    "            xaxis_range=(0, 1),\n",
    "            template=\"plotly_white\",\n",
    "            legend_title=\"Model\",\n",
    "            yaxis_title=\"\",\n",
    "            legend_traceorder=\"reversed\",\n",
    "        )\n",
    "        .update_traces(hovertemplate=hovertemplate)\n",
    "    )\n",
    "    for frame in fig.frames:\n",
    "        for data in frame.data:\n",
    "            data.hovertemplate = hovertemplate\n",
    "    return fig\n",
    "\n",
    "\n",
    "error_chart(\n",
    "    tables_to_model_comparisons(\n",
    "        {\n",
    "            \"\": model_validation_table(relative_caseload_error, models=[OPENFISCA_UK, UKMOD], divisor=1e-2, decimals=1),\n",
    "            \"caseload\": model_validation_table(caseload, divisor=1e6, decimals=1),\n",
    "        }\n",
    "    ),\n",
    "    title=\"Relative errors on caseloads\"\n",
    ")"
   ]
  },
  {
   "cell_type": "markdown",
   "id": "85a7bbc1-bc8f-45fa-9267-e01bf023b199",
   "metadata": {},
   "source": [
    "## Automated tests\n",
    "\n",
    "Below are test results from the most recent version."
   ]
  },
  {
   "cell_type": "code",
   "execution_count": 9,
   "id": "36cf98bd-f26a-49bb-a852-cedaeaf12a8d",
   "metadata": {
    "tags": [
     "hide-input"
    ]
   },
   "outputs": [
    {
     "data": {
      "text/html": [
       "<div>\n",
       "<style scoped>\n",
       "    .dataframe tbody tr th:only-of-type {\n",
       "        vertical-align: middle;\n",
       "    }\n",
       "\n",
       "    .dataframe tbody tr th {\n",
       "        vertical-align: top;\n",
       "    }\n",
       "\n",
       "    .dataframe thead th {\n",
       "        text-align: right;\n",
       "    }\n",
       "</style>\n",
       "<table border=\"1\" class=\"dataframe\">\n",
       "  <thead>\n",
       "    <tr style=\"text-align: right;\">\n",
       "      <th></th>\n",
       "      <th>Name</th>\n",
       "      <th>Passed</th>\n",
       "    </tr>\n",
       "  </thead>\n",
       "  <tbody>\n",
       "    <tr>\n",
       "      <th>0</th>\n",
       "      <td>OpenFisca-UK Child Benefit aggregate error is less than 10.0% in 2019</td>\n",
       "      <td>True</td>\n",
       "    </tr>\n",
       "    <tr>\n",
       "      <th>1</th>\n",
       "      <td>OpenFisca-UK Child Benefit aggregate error is less than 10.0% in 2020</td>\n",
       "      <td>True</td>\n",
       "    </tr>\n",
       "    <tr>\n",
       "      <th>2</th>\n",
       "      <td>OpenFisca-UK Child Benefit aggregate error is less than 10.0% in 2021</td>\n",
       "      <td>True</td>\n",
       "    </tr>\n",
       "    <tr>\n",
       "      <th>3</th>\n",
       "      <td>OpenFisca-UK Child Benefit aggregate error is less than 10.0% in 2022</td>\n",
       "      <td>True</td>\n",
       "    </tr>\n",
       "    <tr>\n",
       "      <th>4</th>\n",
       "      <td>OpenFisca-UK Child Benefit caseload error is less than 10.0% in 2019</td>\n",
       "      <td>True</td>\n",
       "    </tr>\n",
       "    <tr>\n",
       "      <th>5</th>\n",
       "      <td>OpenFisca-UK Child Benefit caseload error is less than 10.0% in 2020</td>\n",
       "      <td>True</td>\n",
       "    </tr>\n",
       "    <tr>\n",
       "      <th>6</th>\n",
       "      <td>OpenFisca-UK Child Benefit caseload error is less than 10.0% in 2021</td>\n",
       "      <td>True</td>\n",
       "    </tr>\n",
       "    <tr>\n",
       "      <th>7</th>\n",
       "      <td>OpenFisca-UK Child Benefit caseload error is less than 10.0% in 2022</td>\n",
       "      <td>True</td>\n",
       "    </tr>\n",
       "    <tr>\n",
       "      <th>8</th>\n",
       "      <td>OpenFisca-UK Council Tax (less CTB) aggregate error is less than 11.0% in 2019</td>\n",
       "      <td>True</td>\n",
       "    </tr>\n",
       "    <tr>\n",
       "      <th>9</th>\n",
       "      <td>OpenFisca-UK Council Tax (less CTB) aggregate error is less than 11.0% in 2020</td>\n",
       "      <td>True</td>\n",
       "    </tr>\n",
       "    <tr>\n",
       "      <th>10</th>\n",
       "      <td>OpenFisca-UK Council Tax (less CTB) aggregate error is less than 11.0% in 2021</td>\n",
       "      <td>True</td>\n",
       "    </tr>\n",
       "    <tr>\n",
       "      <th>11</th>\n",
       "      <td>OpenFisca-UK Council Tax (less CTB) aggregate error is less than 11.0% in 2022</td>\n",
       "      <td>True</td>\n",
       "    </tr>\n",
       "    <tr>\n",
       "      <th>12</th>\n",
       "      <td>OpenFisca-UK Child Tax Credit aggregate error is less than 40.0% in 2019</td>\n",
       "      <td>True</td>\n",
       "    </tr>\n",
       "    <tr>\n",
       "      <th>13</th>\n",
       "      <td>OpenFisca-UK Child Tax Credit aggregate error is less than 40.0% in 2020</td>\n",
       "      <td>True</td>\n",
       "    </tr>\n",
       "    <tr>\n",
       "      <th>14</th>\n",
       "      <td>OpenFisca-UK Child Tax Credit aggregate error is less than 40.0% in 2021</td>\n",
       "      <td>True</td>\n",
       "    </tr>\n",
       "    <tr>\n",
       "      <th>15</th>\n",
       "      <td>OpenFisca-UK Child Tax Credit aggregate error is less than 40.0% in 2022</td>\n",
       "      <td>True</td>\n",
       "    </tr>\n",
       "    <tr>\n",
       "      <th>16</th>\n",
       "      <td>OpenFisca-UK Child Tax Credit caseload error is less than 25.0% in 2019</td>\n",
       "      <td>True</td>\n",
       "    </tr>\n",
       "    <tr>\n",
       "      <th>17</th>\n",
       "      <td>OpenFisca-UK Child Tax Credit caseload error is less than 25.0% in 2020</td>\n",
       "      <td>True</td>\n",
       "    </tr>\n",
       "    <tr>\n",
       "      <th>18</th>\n",
       "      <td>OpenFisca-UK Child Tax Credit caseload error is less than 25.0% in 2021</td>\n",
       "      <td>True</td>\n",
       "    </tr>\n",
       "    <tr>\n",
       "      <th>19</th>\n",
       "      <td>OpenFisca-UK Child Tax Credit caseload error is less than 25.0% in 2022</td>\n",
       "      <td>True</td>\n",
       "    </tr>\n",
       "    <tr>\n",
       "      <th>20</th>\n",
       "      <td>OpenFisca-UK Working Tax Credit aggregate error is less than 45.0% in 2019</td>\n",
       "      <td>True</td>\n",
       "    </tr>\n",
       "    <tr>\n",
       "      <th>21</th>\n",
       "      <td>OpenFisca-UK Working Tax Credit aggregate error is less than 45.0% in 2020</td>\n",
       "      <td>True</td>\n",
       "    </tr>\n",
       "    <tr>\n",
       "      <th>22</th>\n",
       "      <td>OpenFisca-UK Working Tax Credit aggregate error is less than 45.0% in 2021</td>\n",
       "      <td>True</td>\n",
       "    </tr>\n",
       "    <tr>\n",
       "      <th>23</th>\n",
       "      <td>OpenFisca-UK Working Tax Credit aggregate error is less than 45.0% in 2022</td>\n",
       "      <td>True</td>\n",
       "    </tr>\n",
       "    <tr>\n",
       "      <th>24</th>\n",
       "      <td>OpenFisca-UK Working Tax Credit caseload error is less than 40.0% in 2019</td>\n",
       "      <td>True</td>\n",
       "    </tr>\n",
       "    <tr>\n",
       "      <th>25</th>\n",
       "      <td>OpenFisca-UK Working Tax Credit caseload error is less than 40.0% in 2020</td>\n",
       "      <td>True</td>\n",
       "    </tr>\n",
       "    <tr>\n",
       "      <th>26</th>\n",
       "      <td>OpenFisca-UK Working Tax Credit caseload error is less than 40.0% in 2021</td>\n",
       "      <td>True</td>\n",
       "    </tr>\n",
       "    <tr>\n",
       "      <th>27</th>\n",
       "      <td>OpenFisca-UK Working Tax Credit caseload error is less than 40.0% in 2022</td>\n",
       "      <td>True</td>\n",
       "    </tr>\n",
       "    <tr>\n",
       "      <th>28</th>\n",
       "      <td>OpenFisca-UK Housing Benefit aggregate error is less than 25.0% in 2019</td>\n",
       "      <td>False</td>\n",
       "    </tr>\n",
       "    <tr>\n",
       "      <th>29</th>\n",
       "      <td>OpenFisca-UK Housing Benefit aggregate error is less than 25.0% in 2020</td>\n",
       "      <td>False</td>\n",
       "    </tr>\n",
       "    <tr>\n",
       "      <th>30</th>\n",
       "      <td>OpenFisca-UK Housing Benefit aggregate error is less than 25.0% in 2021</td>\n",
       "      <td>False</td>\n",
       "    </tr>\n",
       "    <tr>\n",
       "      <th>31</th>\n",
       "      <td>OpenFisca-UK Housing Benefit aggregate error is less than 25.0% in 2022</td>\n",
       "      <td>False</td>\n",
       "    </tr>\n",
       "    <tr>\n",
       "      <th>32</th>\n",
       "      <td>OpenFisca-UK Housing Benefit caseload error is less than 15.0% in 2019</td>\n",
       "      <td>False</td>\n",
       "    </tr>\n",
       "    <tr>\n",
       "      <th>33</th>\n",
       "      <td>OpenFisca-UK Housing Benefit caseload error is less than 15.0% in 2020</td>\n",
       "      <td>False</td>\n",
       "    </tr>\n",
       "    <tr>\n",
       "      <th>34</th>\n",
       "      <td>OpenFisca-UK Housing Benefit caseload error is less than 15.0% in 2021</td>\n",
       "      <td>False</td>\n",
       "    </tr>\n",
       "    <tr>\n",
       "      <th>35</th>\n",
       "      <td>OpenFisca-UK Housing Benefit caseload error is less than 15.0% in 2022</td>\n",
       "      <td>False</td>\n",
       "    </tr>\n",
       "    <tr>\n",
       "      <th>36</th>\n",
       "      <td>OpenFisca-UK JSA (income-based) aggregate error is less than 20.0% in 2019</td>\n",
       "      <td>False</td>\n",
       "    </tr>\n",
       "    <tr>\n",
       "      <th>37</th>\n",
       "      <td>OpenFisca-UK JSA (income-based) aggregate error is less than 20.0% in 2020</td>\n",
       "      <td>True</td>\n",
       "    </tr>\n",
       "    <tr>\n",
       "      <th>38</th>\n",
       "      <td>OpenFisca-UK JSA (income-based) aggregate error is less than 20.0% in 2021</td>\n",
       "      <td>True</td>\n",
       "    </tr>\n",
       "    <tr>\n",
       "      <th>39</th>\n",
       "      <td>OpenFisca-UK JSA (income-based) aggregate error is less than 20.0% in 2022</td>\n",
       "      <td>True</td>\n",
       "    </tr>\n",
       "    <tr>\n",
       "      <th>40</th>\n",
       "      <td>OpenFisca-UK JSA (income-based) caseload error is less than 20.0% in 2019</td>\n",
       "      <td>True</td>\n",
       "    </tr>\n",
       "    <tr>\n",
       "      <th>41</th>\n",
       "      <td>OpenFisca-UK JSA (income-based) caseload error is less than 20.0% in 2020</td>\n",
       "      <td>True</td>\n",
       "    </tr>\n",
       "    <tr>\n",
       "      <th>42</th>\n",
       "      <td>OpenFisca-UK JSA (income-based) caseload error is less than 20.0% in 2021</td>\n",
       "      <td>True</td>\n",
       "    </tr>\n",
       "    <tr>\n",
       "      <th>43</th>\n",
       "      <td>OpenFisca-UK JSA (income-based) caseload error is less than 20.0% in 2022</td>\n",
       "      <td>True</td>\n",
       "    </tr>\n",
       "    <tr>\n",
       "      <th>44</th>\n",
       "      <td>OpenFisca-UK Income Support aggregate error is less than 15.0% in 2019</td>\n",
       "      <td>False</td>\n",
       "    </tr>\n",
       "    <tr>\n",
       "      <th>45</th>\n",
       "      <td>OpenFisca-UK Income Support aggregate error is less than 15.0% in 2020</td>\n",
       "      <td>False</td>\n",
       "    </tr>\n",
       "    <tr>\n",
       "      <th>46</th>\n",
       "      <td>OpenFisca-UK Income Support aggregate error is less than 15.0% in 2021</td>\n",
       "      <td>False</td>\n",
       "    </tr>\n",
       "    <tr>\n",
       "      <th>47</th>\n",
       "      <td>OpenFisca-UK Income Support aggregate error is less than 15.0% in 2022</td>\n",
       "      <td>True</td>\n",
       "    </tr>\n",
       "    <tr>\n",
       "      <th>48</th>\n",
       "      <td>OpenFisca-UK Income Support caseload error is less than 15.0% in 2019</td>\n",
       "      <td>True</td>\n",
       "    </tr>\n",
       "    <tr>\n",
       "      <th>49</th>\n",
       "      <td>OpenFisca-UK Income Support caseload error is less than 15.0% in 2020</td>\n",
       "      <td>True</td>\n",
       "    </tr>\n",
       "    <tr>\n",
       "      <th>50</th>\n",
       "      <td>OpenFisca-UK Income Support caseload error is less than 15.0% in 2021</td>\n",
       "      <td>True</td>\n",
       "    </tr>\n",
       "    <tr>\n",
       "      <th>51</th>\n",
       "      <td>OpenFisca-UK Income Support caseload error is less than 15.0% in 2022</td>\n",
       "      <td>True</td>\n",
       "    </tr>\n",
       "    <tr>\n",
       "      <th>52</th>\n",
       "      <td>OpenFisca-UK Universal Credit aggregate error is less than 5.0% in 2019</td>\n",
       "      <td>False</td>\n",
       "    </tr>\n",
       "    <tr>\n",
       "      <th>53</th>\n",
       "      <td>OpenFisca-UK Universal Credit aggregate error is less than 5.0% in 2020</td>\n",
       "      <td>False</td>\n",
       "    </tr>\n",
       "    <tr>\n",
       "      <th>54</th>\n",
       "      <td>OpenFisca-UK Universal Credit aggregate error is less than 5.0% in 2021</td>\n",
       "      <td>False</td>\n",
       "    </tr>\n",
       "    <tr>\n",
       "      <th>55</th>\n",
       "      <td>OpenFisca-UK Universal Credit aggregate error is less than 5.0% in 2022</td>\n",
       "      <td>False</td>\n",
       "    </tr>\n",
       "    <tr>\n",
       "      <th>56</th>\n",
       "      <td>OpenFisca-UK Universal Credit caseload error is less than 10.0% in 2019</td>\n",
       "      <td>True</td>\n",
       "    </tr>\n",
       "    <tr>\n",
       "      <th>57</th>\n",
       "      <td>OpenFisca-UK Universal Credit caseload error is less than 10.0% in 2020</td>\n",
       "      <td>False</td>\n",
       "    </tr>\n",
       "    <tr>\n",
       "      <th>58</th>\n",
       "      <td>OpenFisca-UK Universal Credit caseload error is less than 10.0% in 2021</td>\n",
       "      <td>False</td>\n",
       "    </tr>\n",
       "    <tr>\n",
       "      <th>59</th>\n",
       "      <td>OpenFisca-UK Universal Credit caseload error is less than 10.0% in 2022</td>\n",
       "      <td>False</td>\n",
       "    </tr>\n",
       "    <tr>\n",
       "      <th>60</th>\n",
       "      <td>OpenFisca-UK Income Tax aggregate error is less than 12.5% in 2019</td>\n",
       "      <td>False</td>\n",
       "    </tr>\n",
       "    <tr>\n",
       "      <th>61</th>\n",
       "      <td>OpenFisca-UK Income Tax aggregate error is less than 12.5% in 2020</td>\n",
       "      <td>False</td>\n",
       "    </tr>\n",
       "    <tr>\n",
       "      <th>62</th>\n",
       "      <td>OpenFisca-UK Income Tax aggregate error is less than 12.5% in 2021</td>\n",
       "      <td>False</td>\n",
       "    </tr>\n",
       "    <tr>\n",
       "      <th>63</th>\n",
       "      <td>OpenFisca-UK Income Tax aggregate error is less than 12.5% in 2022</td>\n",
       "      <td>False</td>\n",
       "    </tr>\n",
       "    <tr>\n",
       "      <th>64</th>\n",
       "      <td>OpenFisca-UK Income Tax caseload error is less than 12.5% in 2019</td>\n",
       "      <td>True</td>\n",
       "    </tr>\n",
       "    <tr>\n",
       "      <th>65</th>\n",
       "      <td>OpenFisca-UK Income Tax caseload error is less than 12.5% in 2020</td>\n",
       "      <td>False</td>\n",
       "    </tr>\n",
       "    <tr>\n",
       "      <th>66</th>\n",
       "      <td>OpenFisca-UK Income Tax caseload error is less than 12.5% in 2021</td>\n",
       "      <td>True</td>\n",
       "    </tr>\n",
       "    <tr>\n",
       "      <th>67</th>\n",
       "      <td>OpenFisca-UK Income Tax caseload error is less than 12.5% in 2022</td>\n",
       "      <td>True</td>\n",
       "    </tr>\n",
       "    <tr>\n",
       "      <th>68</th>\n",
       "      <td>OpenFisca-UK National Insurance (total) aggregate error is less than 5.0% in 2019</td>\n",
       "      <td>True</td>\n",
       "    </tr>\n",
       "    <tr>\n",
       "      <th>69</th>\n",
       "      <td>OpenFisca-UK National Insurance (total) aggregate error is less than 5.0% in 2020</td>\n",
       "      <td>True</td>\n",
       "    </tr>\n",
       "    <tr>\n",
       "      <th>70</th>\n",
       "      <td>OpenFisca-UK National Insurance (total) aggregate error is less than 5.0% in 2021</td>\n",
       "      <td>True</td>\n",
       "    </tr>\n",
       "    <tr>\n",
       "      <th>71</th>\n",
       "      <td>OpenFisca-UK National Insurance (total) aggregate error is less than 5.0% in 2022</td>\n",
       "      <td>True</td>\n",
       "    </tr>\n",
       "  </tbody>\n",
       "</table>\n",
       "</div>"
      ],
      "text/plain": [
       "                                                                                 Name  \\\n",
       "0   OpenFisca-UK Child Benefit aggregate error is less than 10.0% in 2019               \n",
       "1   OpenFisca-UK Child Benefit aggregate error is less than 10.0% in 2020               \n",
       "2   OpenFisca-UK Child Benefit aggregate error is less than 10.0% in 2021               \n",
       "3   OpenFisca-UK Child Benefit aggregate error is less than 10.0% in 2022               \n",
       "4   OpenFisca-UK Child Benefit caseload error is less than 10.0% in 2019                \n",
       "5   OpenFisca-UK Child Benefit caseload error is less than 10.0% in 2020                \n",
       "6   OpenFisca-UK Child Benefit caseload error is less than 10.0% in 2021                \n",
       "7   OpenFisca-UK Child Benefit caseload error is less than 10.0% in 2022                \n",
       "8   OpenFisca-UK Council Tax (less CTB) aggregate error is less than 11.0% in 2019      \n",
       "9   OpenFisca-UK Council Tax (less CTB) aggregate error is less than 11.0% in 2020      \n",
       "10  OpenFisca-UK Council Tax (less CTB) aggregate error is less than 11.0% in 2021      \n",
       "11  OpenFisca-UK Council Tax (less CTB) aggregate error is less than 11.0% in 2022      \n",
       "12  OpenFisca-UK Child Tax Credit aggregate error is less than 40.0% in 2019            \n",
       "13  OpenFisca-UK Child Tax Credit aggregate error is less than 40.0% in 2020            \n",
       "14  OpenFisca-UK Child Tax Credit aggregate error is less than 40.0% in 2021            \n",
       "15  OpenFisca-UK Child Tax Credit aggregate error is less than 40.0% in 2022            \n",
       "16  OpenFisca-UK Child Tax Credit caseload error is less than 25.0% in 2019             \n",
       "17  OpenFisca-UK Child Tax Credit caseload error is less than 25.0% in 2020             \n",
       "18  OpenFisca-UK Child Tax Credit caseload error is less than 25.0% in 2021             \n",
       "19  OpenFisca-UK Child Tax Credit caseload error is less than 25.0% in 2022             \n",
       "20  OpenFisca-UK Working Tax Credit aggregate error is less than 45.0% in 2019          \n",
       "21  OpenFisca-UK Working Tax Credit aggregate error is less than 45.0% in 2020          \n",
       "22  OpenFisca-UK Working Tax Credit aggregate error is less than 45.0% in 2021          \n",
       "23  OpenFisca-UK Working Tax Credit aggregate error is less than 45.0% in 2022          \n",
       "24  OpenFisca-UK Working Tax Credit caseload error is less than 40.0% in 2019           \n",
       "25  OpenFisca-UK Working Tax Credit caseload error is less than 40.0% in 2020           \n",
       "26  OpenFisca-UK Working Tax Credit caseload error is less than 40.0% in 2021           \n",
       "27  OpenFisca-UK Working Tax Credit caseload error is less than 40.0% in 2022           \n",
       "28  OpenFisca-UK Housing Benefit aggregate error is less than 25.0% in 2019             \n",
       "29  OpenFisca-UK Housing Benefit aggregate error is less than 25.0% in 2020             \n",
       "30  OpenFisca-UK Housing Benefit aggregate error is less than 25.0% in 2021             \n",
       "31  OpenFisca-UK Housing Benefit aggregate error is less than 25.0% in 2022             \n",
       "32  OpenFisca-UK Housing Benefit caseload error is less than 15.0% in 2019              \n",
       "33  OpenFisca-UK Housing Benefit caseload error is less than 15.0% in 2020              \n",
       "34  OpenFisca-UK Housing Benefit caseload error is less than 15.0% in 2021              \n",
       "35  OpenFisca-UK Housing Benefit caseload error is less than 15.0% in 2022              \n",
       "36  OpenFisca-UK JSA (income-based) aggregate error is less than 20.0% in 2019          \n",
       "37  OpenFisca-UK JSA (income-based) aggregate error is less than 20.0% in 2020          \n",
       "38  OpenFisca-UK JSA (income-based) aggregate error is less than 20.0% in 2021          \n",
       "39  OpenFisca-UK JSA (income-based) aggregate error is less than 20.0% in 2022          \n",
       "40  OpenFisca-UK JSA (income-based) caseload error is less than 20.0% in 2019           \n",
       "41  OpenFisca-UK JSA (income-based) caseload error is less than 20.0% in 2020           \n",
       "42  OpenFisca-UK JSA (income-based) caseload error is less than 20.0% in 2021           \n",
       "43  OpenFisca-UK JSA (income-based) caseload error is less than 20.0% in 2022           \n",
       "44  OpenFisca-UK Income Support aggregate error is less than 15.0% in 2019              \n",
       "45  OpenFisca-UK Income Support aggregate error is less than 15.0% in 2020              \n",
       "46  OpenFisca-UK Income Support aggregate error is less than 15.0% in 2021              \n",
       "47  OpenFisca-UK Income Support aggregate error is less than 15.0% in 2022              \n",
       "48  OpenFisca-UK Income Support caseload error is less than 15.0% in 2019               \n",
       "49  OpenFisca-UK Income Support caseload error is less than 15.0% in 2020               \n",
       "50  OpenFisca-UK Income Support caseload error is less than 15.0% in 2021               \n",
       "51  OpenFisca-UK Income Support caseload error is less than 15.0% in 2022               \n",
       "52  OpenFisca-UK Universal Credit aggregate error is less than 5.0% in 2019             \n",
       "53  OpenFisca-UK Universal Credit aggregate error is less than 5.0% in 2020             \n",
       "54  OpenFisca-UK Universal Credit aggregate error is less than 5.0% in 2021             \n",
       "55  OpenFisca-UK Universal Credit aggregate error is less than 5.0% in 2022             \n",
       "56  OpenFisca-UK Universal Credit caseload error is less than 10.0% in 2019             \n",
       "57  OpenFisca-UK Universal Credit caseload error is less than 10.0% in 2020             \n",
       "58  OpenFisca-UK Universal Credit caseload error is less than 10.0% in 2021             \n",
       "59  OpenFisca-UK Universal Credit caseload error is less than 10.0% in 2022             \n",
       "60  OpenFisca-UK Income Tax aggregate error is less than 12.5% in 2019                  \n",
       "61  OpenFisca-UK Income Tax aggregate error is less than 12.5% in 2020                  \n",
       "62  OpenFisca-UK Income Tax aggregate error is less than 12.5% in 2021                  \n",
       "63  OpenFisca-UK Income Tax aggregate error is less than 12.5% in 2022                  \n",
       "64  OpenFisca-UK Income Tax caseload error is less than 12.5% in 2019                   \n",
       "65  OpenFisca-UK Income Tax caseload error is less than 12.5% in 2020                   \n",
       "66  OpenFisca-UK Income Tax caseload error is less than 12.5% in 2021                   \n",
       "67  OpenFisca-UK Income Tax caseload error is less than 12.5% in 2022                   \n",
       "68  OpenFisca-UK National Insurance (total) aggregate error is less than 5.0% in 2019   \n",
       "69  OpenFisca-UK National Insurance (total) aggregate error is less than 5.0% in 2020   \n",
       "70  OpenFisca-UK National Insurance (total) aggregate error is less than 5.0% in 2021   \n",
       "71  OpenFisca-UK National Insurance (total) aggregate error is less than 5.0% in 2022   \n",
       "\n",
       "    Passed  \n",
       "0   True    \n",
       "1   True    \n",
       "2   True    \n",
       "3   True    \n",
       "4   True    \n",
       "5   True    \n",
       "6   True    \n",
       "7   True    \n",
       "8   True    \n",
       "9   True    \n",
       "10  True    \n",
       "11  True    \n",
       "12  True    \n",
       "13  True    \n",
       "14  True    \n",
       "15  True    \n",
       "16  True    \n",
       "17  True    \n",
       "18  True    \n",
       "19  True    \n",
       "20  True    \n",
       "21  True    \n",
       "22  True    \n",
       "23  True    \n",
       "24  True    \n",
       "25  True    \n",
       "26  True    \n",
       "27  True    \n",
       "28  False   \n",
       "29  False   \n",
       "30  False   \n",
       "31  False   \n",
       "32  False   \n",
       "33  False   \n",
       "34  False   \n",
       "35  False   \n",
       "36  False   \n",
       "37  True    \n",
       "38  True    \n",
       "39  True    \n",
       "40  True    \n",
       "41  True    \n",
       "42  True    \n",
       "43  True    \n",
       "44  False   \n",
       "45  False   \n",
       "46  False   \n",
       "47  True    \n",
       "48  True    \n",
       "49  True    \n",
       "50  True    \n",
       "51  True    \n",
       "52  False   \n",
       "53  False   \n",
       "54  False   \n",
       "55  False   \n",
       "56  True    \n",
       "57  False   \n",
       "58  False   \n",
       "59  False   \n",
       "60  False   \n",
       "61  False   \n",
       "62  False   \n",
       "63  False   \n",
       "64  True    \n",
       "65  False   \n",
       "66  True    \n",
       "67  True    \n",
       "68  True    \n",
       "69  True    \n",
       "70  True    \n",
       "71  True    "
      ]
     },
     "execution_count": 9,
     "metadata": {},
     "output_type": "execute_result"
    }
   ],
   "source": [
    "from openfisca_uk.tests.microsimulation.test_statistics import tests\n",
    "\n",
    "pd.set_option(\"display.max_colwidth\", 0)\n",
    "pd.set_option(\"display.max_rows\", 500)\n",
    "pd.DataFrame({\"Name\": tests, \"Passed\": [test.test()[0] for test in tests]})"
   ]
  }
 ],
 "metadata": {
  "interpreter": {
   "hash": "d8fe82497dc3af1dafdfcaf67c3f347e622d9ec55d37e96a4812404db83e4772"
  },
  "kernelspec": {
   "display_name": "Python 3",
   "language": "python",
   "name": "python3"
  },
  "language_info": {
   "codemirror_mode": {
    "name": "ipython",
    "version": 3
   },
   "file_extension": ".py",
   "mimetype": "text/x-python",
   "name": "python",
   "nbconvert_exporter": "python",
   "pygments_lexer": "ipython3",
   "version": "3.8.8"
  }
 },
 "nbformat": 4,
 "nbformat_minor": 5
}
