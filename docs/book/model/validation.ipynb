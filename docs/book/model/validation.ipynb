{
 "cells": [
  {
   "cell_type": "markdown",
   "id": "8fde3747",
   "metadata": {},
   "source": [
    "# Validation\n",
    "\n",
    "OpenFisca-UK runs unit and integration tests on each new version (see [here](https://github.com/PSLmodels/openfisca-uk/tree/master/tests)).\n",
    "In addition, the table below shows the aggregates produced by the model for the major taxes and benefits, and comparisons with UKMOD (latest [country report](https://www.iser.essex.ac.uk/research/publications/working-papers/cempa/cempa2-22.pdf)) and official sources.[^1]\n",
    "UKMOD and administrative sources refer to 2018, and OpenFisca-UK is simulated on policy at the end of 2018.\n",
    "Numbers are in billions of pounds.\n",
    "\n",
    "[^1]: From the UKMOD country report: unless otherwise specified: Department for Work and Pensions https://www.gov.uk/government/publications/benefit-expenditure-and-caseload-tables-2018 ; Best Start Grant: https://www2.gov.scot/Topics/Statistics/Browse/Social-Welfare/SocialSecurityforScotland/BSGJune2019; Child tax credit and working tax credit: HMRC statistics \n",
    "https://www.gov.uk/government/statistics/child-and-working-tax-credits-statistics-finalised-annual-awards-2016-to-2017; Scottish Child Payment: Scottish Fiscal Commission https://www.fiscalcommission.scot/forecast/supplementary-costing-scottish-child-payment; Scottish Child Winter Heating Assistance: Scottish Fiscal Commission \n",
    "https://www.fiscalcommission.scot/forecast/supplementary-costing-child-winter-heating-assistance; Income tax: HMRC statistics https://www.gov.uk/government/statistics/income-tax-liabilities-statistics-tax-year-2014-to-2015-to-tax-year-2017-to-2018; National Insurance Contributions: ONS Blue Book Table 5.2.4s "
   ]
  },
  {
   "cell_type": "markdown",
   "id": "d4998737",
   "metadata": {},
   "source": [
    "## Aggregate tables\n",
    "\n",
    "OpenFisca-UK uprates input FRS data: below are comparisons between the aggregates calculated by OpenFisca-UK, UKMOD and external sources.\n",
    "\n",
    "### Aggregates in full"
   ]
  },
  {
   "cell_type": "code",
   "execution_count": 13,
   "id": "cb98f204-73b5-42f9-a75d-e26c08e1f63c",
   "metadata": {
    "tags": [
     "hide-input"
    ]
   },
   "outputs": [],
   "source": [
    "import numpy as np\n",
    "import pandas as pd\n",
    "from openfisca_uk import (\n",
    "    Microsimulation,\n",
    "    variables as default_variables,\n",
    "    REPO,\n",
    "    parameters,\n",
    "    CalibratedFRS,\n",
    ")\n",
    "from openfisca_core.parameters import ParameterNode\n",
    "from pathlib import Path\n",
    "import yaml\n",
    "import plotly.express as px\n",
    "\n",
    "OPENFISCA_UK = \"OpenFisca-UK\"\n",
    "UKMOD = \"UKMOD\"\n",
    "EXTERNAL = \"External\"\n",
    "\n",
    "VARIABLES = [\n",
    "    \"child_benefit\",\n",
    "    \"income_support\",\n",
    "    \"JSA_income\",\n",
    "    \"housing_benefit\",\n",
    "    \"working_tax_credit\",\n",
    "    \"child_tax_credit\",\n",
    "    \"universal_credit\",\n",
    "    \"pension_credit\",\n",
    "    \"income_tax\",\n",
    "    \"total_NI\",\n",
    "]\n",
    "\n",
    "sim = Microsimulation(dataset=CalibratedFRS, average_parameters=True)\n",
    "\n",
    "# https://stackoverflow.com/questions/34667108/ignore-dates-and-times-while-parsing-yaml\n",
    "\n",
    "yaml.SafeLoader.yaml_implicit_resolvers = {\n",
    "    k: [r for r in v if r[0] != \"tag:yaml.org,2002:timestamp\"]\n",
    "    for k, v in yaml.SafeLoader.yaml_implicit_resolvers.items()\n",
    "}\n",
    "\n",
    "with open(\n",
    "    REPO.parent\n",
    "    / \"docs\"\n",
    "    / \"book\"\n",
    "    / \"model\"\n",
    "    / \"ukmod_country_report_statistics.yaml\",\n",
    "    mode=\"r\",\n",
    ") as f:\n",
    "    ukmod_statistics = ParameterNode(\n",
    "        \"ukmod\", data=yaml.load(f, Loader=yaml.SafeLoader)\n",
    "    )\n",
    "\n",
    "\n",
    "def process_scalar(x, divisor, decimals):\n",
    "    if np.isnan(x):\n",
    "        return x\n",
    "    return round(x / divisor, decimals)\n",
    "\n",
    "\n",
    "def model_validation_table(\n",
    "    model_year_variable_to_result_func,\n",
    "    title=None,\n",
    "    start_year=2022,\n",
    "    end_year=2025,\n",
    "    divisor=1,\n",
    "    decimals=0,\n",
    "    models=[EXTERNAL, OPENFISCA_UK, UKMOD],\n",
    "    variables=VARIABLES,\n",
    "):\n",
    "    dfs = []\n",
    "    for model in models:\n",
    "        df = pd.DataFrame(\n",
    "            {\n",
    "                year: {\n",
    "                    default_variables[variable].label: process_scalar(\n",
    "                        model_year_variable_to_result_func(\n",
    "                            model, year, variable\n",
    "                        ),\n",
    "                        divisor,\n",
    "                        decimals,\n",
    "                    )\n",
    "                    for variable in variables\n",
    "                }\n",
    "                for year in range(start_year, end_year + 1)\n",
    "            }\n",
    "        )\n",
    "        dfs.append(df.T)\n",
    "    return pd.concat(dfs, keys=models).replace(np.nan, \"\")\n",
    "\n",
    "\n",
    "def budgetary_impact(model, year, variable):\n",
    "    try:\n",
    "        if model == OPENFISCA_UK:\n",
    "            return sim.calc(variable, map_to=\"household\", period=year).sum()\n",
    "        elif model == UKMOD:\n",
    "            return getattr(ukmod_statistics.ukmod.budgetary_impact, variable)(\n",
    "                f\"{year}-01-01\"\n",
    "            )\n",
    "        elif model == EXTERNAL:\n",
    "            return getattr(\n",
    "                parameters.calibration.budgetary_impact.by_program, variable\n",
    "            )(f\"{year}-01-01\")\n",
    "    except:\n",
    "        return np.nan"
   ]
  },
  {
   "cell_type": "code",
   "execution_count": 14,
   "id": "7526e917-5a11-46fa-8c71-f1e32de1653e",
   "metadata": {
    "tags": [
     "hide-input"
    ]
   },
   "outputs": [
    {
     "data": {
      "text/html": [
       "<div>\n",
       "<style scoped>\n",
       "    .dataframe tbody tr th:only-of-type {\n",
       "        vertical-align: middle;\n",
       "    }\n",
       "\n",
       "    .dataframe tbody tr th {\n",
       "        vertical-align: top;\n",
       "    }\n",
       "\n",
       "    .dataframe thead th {\n",
       "        text-align: right;\n",
       "    }\n",
       "</style>\n",
       "<table border=\"1\" class=\"dataframe\">\n",
       "  <thead>\n",
       "    <tr style=\"text-align: right;\">\n",
       "      <th></th>\n",
       "      <th></th>\n",
       "      <th>Child Benefit</th>\n",
       "      <th>Income Support</th>\n",
       "      <th>JSA (income-based)</th>\n",
       "      <th>Housing Benefit</th>\n",
       "      <th>Working Tax Credit</th>\n",
       "      <th>Child Tax Credit</th>\n",
       "      <th>Universal Credit</th>\n",
       "      <th>Pension Credit</th>\n",
       "      <th>Income Tax</th>\n",
       "      <th>National Insurance (total)</th>\n",
       "    </tr>\n",
       "  </thead>\n",
       "  <tbody>\n",
       "    <tr>\n",
       "      <th rowspan=\"4\" valign=\"top\">External</th>\n",
       "      <th>2022</th>\n",
       "      <td>11.2</td>\n",
       "      <td>0.7</td>\n",
       "      <td>0.2</td>\n",
       "      <td>15.9</td>\n",
       "      <td>1.6</td>\n",
       "      <td>6.0</td>\n",
       "      <td>43.7</td>\n",
       "      <td>4.5</td>\n",
       "      <td>205.0</td>\n",
       "      <td>151.3</td>\n",
       "    </tr>\n",
       "    <tr>\n",
       "      <th>2023</th>\n",
       "      <td>11.5</td>\n",
       "      <td>0.5</td>\n",
       "      <td>0.0</td>\n",
       "      <td>14.7</td>\n",
       "      <td>1.2</td>\n",
       "      <td>4.5</td>\n",
       "      <td>49.8</td>\n",
       "      <td>4.4</td>\n",
       "      <td>215.0</td>\n",
       "      <td>157.5</td>\n",
       "    </tr>\n",
       "    <tr>\n",
       "      <th>2024</th>\n",
       "      <td>11.6</td>\n",
       "      <td>0.5</td>\n",
       "      <td>0.0</td>\n",
       "      <td>12.5</td>\n",
       "      <td>0.8</td>\n",
       "      <td>3.0</td>\n",
       "      <td>57.8</td>\n",
       "      <td>4.4</td>\n",
       "      <td>225.7</td>\n",
       "      <td>164.6</td>\n",
       "    </tr>\n",
       "    <tr>\n",
       "      <th>2025</th>\n",
       "      <td>11.6</td>\n",
       "      <td>0.4</td>\n",
       "      <td>0.0</td>\n",
       "      <td>10.2</td>\n",
       "      <td>0.4</td>\n",
       "      <td>1.3</td>\n",
       "      <td>68.0</td>\n",
       "      <td>4.2</td>\n",
       "      <td>237.5</td>\n",
       "      <td>172.1</td>\n",
       "    </tr>\n",
       "    <tr>\n",
       "      <th rowspan=\"4\" valign=\"top\">OpenFisca-UK</th>\n",
       "      <th>2022</th>\n",
       "      <td>12.0</td>\n",
       "      <td>0.8</td>\n",
       "      <td>0.2</td>\n",
       "      <td>11.9</td>\n",
       "      <td>2.7</td>\n",
       "      <td>7.8</td>\n",
       "      <td>40.6</td>\n",
       "      <td>3.1</td>\n",
       "      <td>203.3</td>\n",
       "      <td>151.4</td>\n",
       "    </tr>\n",
       "    <tr>\n",
       "      <th>2023</th>\n",
       "      <td>12.0</td>\n",
       "      <td>0.6</td>\n",
       "      <td>0.1</td>\n",
       "      <td>10.8</td>\n",
       "      <td>2.3</td>\n",
       "      <td>6.2</td>\n",
       "      <td>45.8</td>\n",
       "      <td>2.9</td>\n",
       "      <td>213.4</td>\n",
       "      <td>156.2</td>\n",
       "    </tr>\n",
       "    <tr>\n",
       "      <th>2024</th>\n",
       "      <td>11.9</td>\n",
       "      <td>0.4</td>\n",
       "      <td>0.1</td>\n",
       "      <td>9.3</td>\n",
       "      <td>2.0</td>\n",
       "      <td>4.8</td>\n",
       "      <td>53.3</td>\n",
       "      <td>2.8</td>\n",
       "      <td>224.0</td>\n",
       "      <td>162.8</td>\n",
       "    </tr>\n",
       "    <tr>\n",
       "      <th>2025</th>\n",
       "      <td>12.0</td>\n",
       "      <td>0.2</td>\n",
       "      <td>0.1</td>\n",
       "      <td>7.6</td>\n",
       "      <td>1.7</td>\n",
       "      <td>3.7</td>\n",
       "      <td>66.1</td>\n",
       "      <td>2.6</td>\n",
       "      <td>235.2</td>\n",
       "      <td>170.0</td>\n",
       "    </tr>\n",
       "    <tr>\n",
       "      <th rowspan=\"4\" valign=\"top\">UKMOD</th>\n",
       "      <th>2022</th>\n",
       "      <td>12.0</td>\n",
       "      <td></td>\n",
       "      <td></td>\n",
       "      <td>10.3</td>\n",
       "      <td>1.6</td>\n",
       "      <td>5.4</td>\n",
       "      <td>34.1</td>\n",
       "      <td>4.2</td>\n",
       "      <td>161.2</td>\n",
       "      <td>156.0</td>\n",
       "    </tr>\n",
       "    <tr>\n",
       "      <th>2023</th>\n",
       "      <td>12.3</td>\n",
       "      <td></td>\n",
       "      <td></td>\n",
       "      <td>9.6</td>\n",
       "      <td>1.3</td>\n",
       "      <td>4.5</td>\n",
       "      <td>39.1</td>\n",
       "      <td>4.4</td>\n",
       "      <td>170.6</td>\n",
       "      <td>145.1</td>\n",
       "    </tr>\n",
       "    <tr>\n",
       "      <th>2024</th>\n",
       "      <td>12.5</td>\n",
       "      <td></td>\n",
       "      <td></td>\n",
       "      <td>8.5</td>\n",
       "      <td>0.9</td>\n",
       "      <td>3.3</td>\n",
       "      <td>39.1</td>\n",
       "      <td>4.5</td>\n",
       "      <td>178.5</td>\n",
       "      <td>147.9</td>\n",
       "    </tr>\n",
       "    <tr>\n",
       "      <th>2025</th>\n",
       "      <td>12.6</td>\n",
       "      <td></td>\n",
       "      <td></td>\n",
       "      <td>6.7</td>\n",
       "      <td>0.4</td>\n",
       "      <td>1.5</td>\n",
       "      <td>45.6</td>\n",
       "      <td>4.5</td>\n",
       "      <td>187.9</td>\n",
       "      <td>151.9</td>\n",
       "    </tr>\n",
       "  </tbody>\n",
       "</table>\n",
       "</div>"
      ],
      "text/plain": [
       "                   Child Benefit Income Support JSA (income-based)  \\\n",
       "External     2022  11.2           0.7            0.2                 \n",
       "             2023  11.5           0.5            0.0                 \n",
       "             2024  11.6           0.5            0.0                 \n",
       "             2025  11.6           0.4            0.0                 \n",
       "OpenFisca-UK 2022  12.0           0.8            0.2                 \n",
       "             2023  12.0           0.6            0.1                 \n",
       "             2024  11.9           0.4            0.1                 \n",
       "             2025  12.0           0.2            0.1                 \n",
       "UKMOD        2022  12.0                                              \n",
       "             2023  12.3                                              \n",
       "             2024  12.5                                              \n",
       "             2025  12.6                                              \n",
       "\n",
       "                   Housing Benefit  Working Tax Credit  Child Tax Credit  \\\n",
       "External     2022  15.9             1.6                 6.0                \n",
       "             2023  14.7             1.2                 4.5                \n",
       "             2024  12.5             0.8                 3.0                \n",
       "             2025  10.2             0.4                 1.3                \n",
       "OpenFisca-UK 2022  11.9             2.7                 7.8                \n",
       "             2023  10.8             2.3                 6.2                \n",
       "             2024  9.3              2.0                 4.8                \n",
       "             2025  7.6              1.7                 3.7                \n",
       "UKMOD        2022  10.3             1.6                 5.4                \n",
       "             2023  9.6              1.3                 4.5                \n",
       "             2024  8.5              0.9                 3.3                \n",
       "             2025  6.7              0.4                 1.5                \n",
       "\n",
       "                   Universal Credit  Pension Credit  Income Tax  \\\n",
       "External     2022  43.7              4.5             205.0        \n",
       "             2023  49.8              4.4             215.0        \n",
       "             2024  57.8              4.4             225.7        \n",
       "             2025  68.0              4.2             237.5        \n",
       "OpenFisca-UK 2022  40.6              3.1             203.3        \n",
       "             2023  45.8              2.9             213.4        \n",
       "             2024  53.3              2.8             224.0        \n",
       "             2025  66.1              2.6             235.2        \n",
       "UKMOD        2022  34.1              4.2             161.2        \n",
       "             2023  39.1              4.4             170.6        \n",
       "             2024  39.1              4.5             178.5        \n",
       "             2025  45.6              4.5             187.9        \n",
       "\n",
       "                   National Insurance (total)  \n",
       "External     2022  151.3                       \n",
       "             2023  157.5                       \n",
       "             2024  164.6                       \n",
       "             2025  172.1                       \n",
       "OpenFisca-UK 2022  151.4                       \n",
       "             2023  156.2                       \n",
       "             2024  162.8                       \n",
       "             2025  170.0                       \n",
       "UKMOD        2022  156.0                       \n",
       "             2023  145.1                       \n",
       "             2024  147.9                       \n",
       "             2025  151.9                       "
      ]
     },
     "execution_count": 14,
     "metadata": {},
     "output_type": "execute_result"
    }
   ],
   "source": [
    "model_validation_table(budgetary_impact, divisor=1e9, decimals=1)"
   ]
  },
  {
   "cell_type": "markdown",
   "id": "626c55d3-8a51-4148-baae-3cf7405d2163",
   "metadata": {},
   "source": [
    "### Forecast comparison"
   ]
  },
  {
   "cell_type": "code",
   "execution_count": 18,
   "id": "e4b06316-41a6-480b-9816-9afdc244a824",
   "metadata": {
    "tags": [
     "hide-input"
    ]
   },
   "outputs": [
    {
     "data": {
      "application/vnd.plotly.v1+json": {
       "config": {
        "plotlyServerURL": "https://plot.ly"
       },
       "data": [
        {
         "hovertemplate": "",
         "legendgroup": "External",
         "line": {
          "color": "#00cc96",
          "dash": "solid"
         },
         "marker": {
          "symbol": "circle"
         },
         "mode": "lines",
         "name": "External",
         "orientation": "h",
         "showlegend": true,
         "type": "scatter",
         "x": [
          2022,
          2023,
          2024,
          2025
         ],
         "xaxis": "x",
         "y": [
          11213000000,
          11546000000,
          11626000000,
          11627000000
         ],
         "yaxis": "y"
        },
        {
         "hovertemplate": "",
         "legendgroup": "OpenFisca-UK",
         "line": {
          "color": "blue",
          "dash": "solid"
         },
         "marker": {
          "symbol": "circle"
         },
         "mode": "lines",
         "name": "OpenFisca-UK",
         "orientation": "h",
         "showlegend": true,
         "type": "scatter",
         "x": [
          2022,
          2023,
          2024,
          2025
         ],
         "xaxis": "x",
         "y": [
          11963033572.4,
          11990815099.6,
          11896403375.8,
          12045240376.8
         ],
         "yaxis": "y"
        },
        {
         "hovertemplate": "",
         "legendgroup": "UKMOD",
         "line": {
          "color": "lightgrey",
          "dash": "solid"
         },
         "marker": {
          "symbol": "circle"
         },
         "mode": "lines",
         "name": "UKMOD",
         "orientation": "h",
         "showlegend": true,
         "type": "scatter",
         "x": [
          2022,
          2023,
          2024,
          2025
         ],
         "xaxis": "x",
         "y": [
          11963000000,
          12331000000,
          12547000000,
          12579000000
         ],
         "yaxis": "y"
        }
       ],
       "frames": [
        {
         "data": [
          {
           "hovertemplate": "",
           "legendgroup": "External",
           "line": {
            "color": "#00cc96",
            "dash": "solid"
           },
           "marker": {
            "symbol": "circle"
           },
           "mode": "lines",
           "name": "External",
           "orientation": "h",
           "showlegend": true,
           "type": "scatter",
           "x": [
            2022,
            2023,
            2024,
            2025
           ],
           "xaxis": "x",
           "y": [
            11213000000,
            11546000000,
            11626000000,
            11627000000
           ],
           "yaxis": "y"
          },
          {
           "hovertemplate": "",
           "legendgroup": "OpenFisca-UK",
           "line": {
            "color": "blue",
            "dash": "solid"
           },
           "marker": {
            "symbol": "circle"
           },
           "mode": "lines",
           "name": "OpenFisca-UK",
           "orientation": "h",
           "showlegend": true,
           "type": "scatter",
           "x": [
            2022,
            2023,
            2024,
            2025
           ],
           "xaxis": "x",
           "y": [
            11963033572.4,
            11990815099.6,
            11896403375.8,
            12045240376.8
           ],
           "yaxis": "y"
          },
          {
           "hovertemplate": "",
           "legendgroup": "UKMOD",
           "line": {
            "color": "lightgrey",
            "dash": "solid"
           },
           "marker": {
            "symbol": "circle"
           },
           "mode": "lines",
           "name": "UKMOD",
           "orientation": "h",
           "showlegend": true,
           "type": "scatter",
           "x": [
            2022,
            2023,
            2024,
            2025
           ],
           "xaxis": "x",
           "y": [
            11963000000,
            12331000000,
            12547000000,
            12579000000
           ],
           "yaxis": "y"
          }
         ],
         "name": "Child Benefit"
        },
        {
         "data": [
          {
           "hovertemplate": "",
           "legendgroup": "External",
           "line": {
            "color": "#00cc96",
            "dash": "solid"
           },
           "marker": {
            "symbol": "circle"
           },
           "mode": "lines",
           "name": "External",
           "orientation": "h",
           "showlegend": true,
           "type": "scatter",
           "x": [
            2022,
            2023,
            2024,
            2025
           ],
           "xaxis": "x",
           "y": [
            5995000000,
            4494872881,
            2951377119,
            1338898305
           ],
           "yaxis": "y"
          },
          {
           "hovertemplate": "",
           "legendgroup": "OpenFisca-UK",
           "line": {
            "color": "blue",
            "dash": "solid"
           },
           "marker": {
            "symbol": "circle"
           },
           "mode": "lines",
           "name": "OpenFisca-UK",
           "orientation": "h",
           "showlegend": true,
           "type": "scatter",
           "x": [
            2022,
            2023,
            2024,
            2025
           ],
           "xaxis": "x",
           "y": [
            7793198160.7,
            6170182807.5,
            4775259560,
            3672317666.5
           ],
           "yaxis": "y"
          },
          {
           "hovertemplate": "",
           "legendgroup": "UKMOD",
           "line": {
            "color": "lightgrey",
            "dash": "solid"
           },
           "marker": {
            "symbol": "circle"
           },
           "mode": "lines",
           "name": "UKMOD",
           "orientation": "h",
           "showlegend": true,
           "type": "scatter",
           "x": [
            2022,
            2023,
            2024,
            2025
           ],
           "xaxis": "x",
           "y": [
            5382000000,
            4546000000,
            3287000000,
            1461000000
           ],
           "yaxis": "y"
          }
         ],
         "name": "Child Tax Credit"
        },
        {
         "data": [
          {
           "hovertemplate": "",
           "legendgroup": "External",
           "line": {
            "color": "#00cc96",
            "dash": "solid"
           },
           "marker": {
            "symbol": "circle"
           },
           "mode": "lines",
           "name": "External",
           "orientation": "h",
           "showlegend": true,
           "type": "scatter",
           "x": [
            2022,
            2023,
            2024,
            2025
           ],
           "xaxis": "x",
           "y": [
            15894000000,
            14728000000,
            12503000000,
            10213000000
           ],
           "yaxis": "y"
          },
          {
           "hovertemplate": "",
           "legendgroup": "OpenFisca-UK",
           "line": {
            "color": "blue",
            "dash": "solid"
           },
           "marker": {
            "symbol": "circle"
           },
           "mode": "lines",
           "name": "OpenFisca-UK",
           "orientation": "h",
           "showlegend": true,
           "type": "scatter",
           "x": [
            2022,
            2023,
            2024,
            2025
           ],
           "xaxis": "x",
           "y": [
            11945243123.9,
            10800983474.1,
            9251032829.6,
            7575339027.4
           ],
           "yaxis": "y"
          },
          {
           "hovertemplate": "",
           "legendgroup": "UKMOD",
           "line": {
            "color": "lightgrey",
            "dash": "solid"
           },
           "marker": {
            "symbol": "circle"
           },
           "mode": "lines",
           "name": "UKMOD",
           "orientation": "h",
           "showlegend": true,
           "type": "scatter",
           "x": [
            2022,
            2023,
            2024,
            2025
           ],
           "xaxis": "x",
           "y": [
            10332000000,
            9622000000,
            8476000000,
            6706000000
           ],
           "yaxis": "y"
          }
         ],
         "name": "Housing Benefit"
        },
        {
         "data": [
          {
           "hovertemplate": "",
           "legendgroup": "External",
           "line": {
            "color": "#00cc96",
            "dash": "solid"
           },
           "marker": {
            "symbol": "circle"
           },
           "mode": "lines",
           "name": "External",
           "orientation": "h",
           "showlegend": true,
           "type": "scatter",
           "x": [
            2022,
            2023,
            2024,
            2025
           ],
           "xaxis": "x",
           "y": [
            670000000,
            491000000,
            471000000,
            432000000
           ],
           "yaxis": "y"
          },
          {
           "hovertemplate": "",
           "legendgroup": "OpenFisca-UK",
           "line": {
            "color": "blue",
            "dash": "solid"
           },
           "marker": {
            "symbol": "circle"
           },
           "mode": "lines",
           "name": "OpenFisca-UK",
           "orientation": "h",
           "showlegend": true,
           "type": "scatter",
           "x": [
            2022,
            2023,
            2024,
            2025
           ],
           "xaxis": "x",
           "y": [
            814715142.6,
            611702971.8,
            428531087,
            230479941.7
           ],
           "yaxis": "y"
          },
          {
           "hovertemplate": "",
           "legendgroup": "UKMOD",
           "line": {
            "color": "lightgrey",
            "dash": "solid"
           },
           "marker": {
            "symbol": "circle"
           },
           "mode": "lines",
           "name": "UKMOD",
           "orientation": "h",
           "showlegend": true,
           "type": "scatter",
           "x": [
            2022,
            2023,
            2024,
            2025
           ],
           "xaxis": "x",
           "y": [
            "",
            "",
            "",
            ""
           ],
           "yaxis": "y"
          }
         ],
         "name": "Income Support"
        },
        {
         "data": [
          {
           "hovertemplate": "",
           "legendgroup": "External",
           "line": {
            "color": "#00cc96",
            "dash": "solid"
           },
           "marker": {
            "symbol": "circle"
           },
           "mode": "lines",
           "name": "External",
           "orientation": "h",
           "showlegend": true,
           "type": "scatter",
           "x": [
            2022,
            2023,
            2024,
            2025
           ],
           "xaxis": "x",
           "y": [
            205000000000,
            215000000000,
            225700000000,
            237500000000
           ],
           "yaxis": "y"
          },
          {
           "hovertemplate": "",
           "legendgroup": "OpenFisca-UK",
           "line": {
            "color": "blue",
            "dash": "solid"
           },
           "marker": {
            "symbol": "circle"
           },
           "mode": "lines",
           "name": "OpenFisca-UK",
           "orientation": "h",
           "showlegend": true,
           "type": "scatter",
           "x": [
            2022,
            2023,
            2024,
            2025
           ],
           "xaxis": "x",
           "y": [
            203269469667.2,
            213380454443.9,
            224034816785.7,
            235237920383.7
           ],
           "yaxis": "y"
          },
          {
           "hovertemplate": "",
           "legendgroup": "UKMOD",
           "line": {
            "color": "lightgrey",
            "dash": "solid"
           },
           "marker": {
            "symbol": "circle"
           },
           "mode": "lines",
           "name": "UKMOD",
           "orientation": "h",
           "showlegend": true,
           "type": "scatter",
           "x": [
            2022,
            2023,
            2024,
            2025
           ],
           "xaxis": "x",
           "y": [
            161197000000,
            170626000000,
            178488000000,
            187865000000
           ],
           "yaxis": "y"
          }
         ],
         "name": "Income Tax"
        },
        {
         "data": [
          {
           "hovertemplate": "",
           "legendgroup": "External",
           "line": {
            "color": "#00cc96",
            "dash": "solid"
           },
           "marker": {
            "symbol": "circle"
           },
           "mode": "lines",
           "name": "External",
           "orientation": "h",
           "showlegend": true,
           "type": "scatter",
           "x": [
            2022,
            2023,
            2024,
            2025
           ],
           "xaxis": "x",
           "y": [
            196000000,
            21000,
            0,
            0
           ],
           "yaxis": "y"
          },
          {
           "hovertemplate": "",
           "legendgroup": "OpenFisca-UK",
           "line": {
            "color": "blue",
            "dash": "solid"
           },
           "marker": {
            "symbol": "circle"
           },
           "mode": "lines",
           "name": "OpenFisca-UK",
           "orientation": "h",
           "showlegend": true,
           "type": "scatter",
           "x": [
            2022,
            2023,
            2024,
            2025
           ],
           "xaxis": "x",
           "y": [
            236363030.9,
            142514720,
            131117799.6,
            120507646.1
           ],
           "yaxis": "y"
          },
          {
           "hovertemplate": "",
           "legendgroup": "UKMOD",
           "line": {
            "color": "lightgrey",
            "dash": "solid"
           },
           "marker": {
            "symbol": "circle"
           },
           "mode": "lines",
           "name": "UKMOD",
           "orientation": "h",
           "showlegend": true,
           "type": "scatter",
           "x": [
            2022,
            2023,
            2024,
            2025
           ],
           "xaxis": "x",
           "y": [
            "",
            "",
            "",
            ""
           ],
           "yaxis": "y"
          }
         ],
         "name": "JSA (income-based)"
        },
        {
         "data": [
          {
           "hovertemplate": "",
           "legendgroup": "External",
           "line": {
            "color": "#00cc96",
            "dash": "solid"
           },
           "marker": {
            "symbol": "circle"
           },
           "mode": "lines",
           "name": "External",
           "orientation": "h",
           "showlegend": true,
           "type": "scatter",
           "x": [
            2022,
            2023,
            2024,
            2025
           ],
           "xaxis": "x",
           "y": [
            151300000000,
            157500000000,
            164600000000,
            172100000000
           ],
           "yaxis": "y"
          },
          {
           "hovertemplate": "",
           "legendgroup": "OpenFisca-UK",
           "line": {
            "color": "blue",
            "dash": "solid"
           },
           "marker": {
            "symbol": "circle"
           },
           "mode": "lines",
           "name": "OpenFisca-UK",
           "orientation": "h",
           "showlegend": true,
           "type": "scatter",
           "x": [
            2022,
            2023,
            2024,
            2025
           ],
           "xaxis": "x",
           "y": [
            151394347998.8,
            156182140713,
            162825424926.2,
            169961340674
           ],
           "yaxis": "y"
          },
          {
           "hovertemplate": "",
           "legendgroup": "UKMOD",
           "line": {
            "color": "lightgrey",
            "dash": "solid"
           },
           "marker": {
            "symbol": "circle"
           },
           "mode": "lines",
           "name": "UKMOD",
           "orientation": "h",
           "showlegend": true,
           "type": "scatter",
           "x": [
            2022,
            2023,
            2024,
            2025
           ],
           "xaxis": "x",
           "y": [
            156016000000,
            145114000000,
            147890000000,
            151875000000
           ],
           "yaxis": "y"
          }
         ],
         "name": "National Insurance (total)"
        },
        {
         "data": [
          {
           "hovertemplate": "",
           "legendgroup": "External",
           "line": {
            "color": "#00cc96",
            "dash": "solid"
           },
           "marker": {
            "symbol": "circle"
           },
           "mode": "lines",
           "name": "External",
           "orientation": "h",
           "showlegend": true,
           "type": "scatter",
           "x": [
            2022,
            2023,
            2024,
            2025
           ],
           "xaxis": "x",
           "y": [
            4466000000,
            4447000000,
            4379000000,
            4223000000
           ],
           "yaxis": "y"
          },
          {
           "hovertemplate": "",
           "legendgroup": "OpenFisca-UK",
           "line": {
            "color": "blue",
            "dash": "solid"
           },
           "marker": {
            "symbol": "circle"
           },
           "mode": "lines",
           "name": "OpenFisca-UK",
           "orientation": "h",
           "showlegend": true,
           "type": "scatter",
           "x": [
            2022,
            2023,
            2024,
            2025
           ],
           "xaxis": "x",
           "y": [
            3136005329.2,
            2944565496.6,
            2764686033.5,
            2559735127
           ],
           "yaxis": "y"
          },
          {
           "hovertemplate": "",
           "legendgroup": "UKMOD",
           "line": {
            "color": "lightgrey",
            "dash": "solid"
           },
           "marker": {
            "symbol": "circle"
           },
           "mode": "lines",
           "name": "UKMOD",
           "orientation": "h",
           "showlegend": true,
           "type": "scatter",
           "x": [
            2022,
            2023,
            2024,
            2025
           ],
           "xaxis": "x",
           "y": [
            4153000000,
            4410000000,
            4491000000,
            4466000000
           ],
           "yaxis": "y"
          }
         ],
         "name": "Pension Credit"
        },
        {
         "data": [
          {
           "hovertemplate": "",
           "legendgroup": "External",
           "line": {
            "color": "#00cc96",
            "dash": "solid"
           },
           "marker": {
            "symbol": "circle"
           },
           "mode": "lines",
           "name": "External",
           "orientation": "h",
           "showlegend": true,
           "type": "scatter",
           "x": [
            2022,
            2023,
            2024,
            2025
           ],
           "xaxis": "x",
           "y": [
            43657000000,
            49751000000,
            57782000000,
            67959000000
           ],
           "yaxis": "y"
          },
          {
           "hovertemplate": "",
           "legendgroup": "OpenFisca-UK",
           "line": {
            "color": "blue",
            "dash": "solid"
           },
           "marker": {
            "symbol": "circle"
           },
           "mode": "lines",
           "name": "OpenFisca-UK",
           "orientation": "h",
           "showlegend": true,
           "type": "scatter",
           "x": [
            2022,
            2023,
            2024,
            2025
           ],
           "xaxis": "x",
           "y": [
            40602564653.3,
            45757679222.8,
            53254814130.3,
            66056899965
           ],
           "yaxis": "y"
          },
          {
           "hovertemplate": "",
           "legendgroup": "UKMOD",
           "line": {
            "color": "lightgrey",
            "dash": "solid"
           },
           "marker": {
            "symbol": "circle"
           },
           "mode": "lines",
           "name": "UKMOD",
           "orientation": "h",
           "showlegend": true,
           "type": "scatter",
           "x": [
            2022,
            2023,
            2024,
            2025
           ],
           "xaxis": "x",
           "y": [
            34073000000,
            39133000000,
            39133000000,
            45644000000
           ],
           "yaxis": "y"
          }
         ],
         "name": "Universal Credit"
        },
        {
         "data": [
          {
           "hovertemplate": "",
           "legendgroup": "External",
           "line": {
            "color": "#00cc96",
            "dash": "solid"
           },
           "marker": {
            "symbol": "circle"
           },
           "mode": "lines",
           "name": "External",
           "orientation": "h",
           "showlegend": true,
           "type": "scatter",
           "x": [
            2022,
            2023,
            2024,
            2025
           ],
           "xaxis": "x",
           "y": [
            1644000000,
            1239127119,
            813622881,
            369101695
           ],
           "yaxis": "y"
          },
          {
           "hovertemplate": "",
           "legendgroup": "OpenFisca-UK",
           "line": {
            "color": "blue",
            "dash": "solid"
           },
           "marker": {
            "symbol": "circle"
           },
           "mode": "lines",
           "name": "OpenFisca-UK",
           "orientation": "h",
           "showlegend": true,
           "type": "scatter",
           "x": [
            2022,
            2023,
            2024,
            2025
           ],
           "xaxis": "x",
           "y": [
            2704462517.2,
            2337728334.5,
            1976331130.3,
            1684052832.7
           ],
           "yaxis": "y"
          },
          {
           "hovertemplate": "",
           "legendgroup": "UKMOD",
           "line": {
            "color": "lightgrey",
            "dash": "solid"
           },
           "marker": {
            "symbol": "circle"
           },
           "mode": "lines",
           "name": "UKMOD",
           "orientation": "h",
           "showlegend": true,
           "type": "scatter",
           "x": [
            2022,
            2023,
            2024,
            2025
           ],
           "xaxis": "x",
           "y": [
            1573000000,
            1320000000,
            897000000,
            423000000
           ],
           "yaxis": "y"
          }
         ],
         "name": "Working Tax Credit"
        }
       ],
       "layout": {
        "height": 600,
        "legend": {
         "title": {
          "text": "Model"
         },
         "tracegroupgap": 0,
         "traceorder": "reversed"
        },
        "margin": {
         "t": 60
        },
        "sliders": [
         {
          "active": 0,
          "currentvalue": {
           "prefix": "Program="
          },
          "len": 0.9,
          "pad": {
           "b": 10,
           "t": 60
          },
          "steps": [
           {
            "args": [
             [
              "Child Benefit"
             ],
             {
              "frame": {
               "duration": 0,
               "redraw": false
              },
              "fromcurrent": true,
              "mode": "immediate",
              "transition": {
               "duration": 0,
               "easing": "linear"
              }
             }
            ],
            "label": "Child Benefit",
            "method": "animate"
           },
           {
            "args": [
             [
              "Child Tax Credit"
             ],
             {
              "frame": {
               "duration": 0,
               "redraw": false
              },
              "fromcurrent": true,
              "mode": "immediate",
              "transition": {
               "duration": 0,
               "easing": "linear"
              }
             }
            ],
            "label": "Child Tax Credit",
            "method": "animate"
           },
           {
            "args": [
             [
              "Housing Benefit"
             ],
             {
              "frame": {
               "duration": 0,
               "redraw": false
              },
              "fromcurrent": true,
              "mode": "immediate",
              "transition": {
               "duration": 0,
               "easing": "linear"
              }
             }
            ],
            "label": "Housing Benefit",
            "method": "animate"
           },
           {
            "args": [
             [
              "Income Support"
             ],
             {
              "frame": {
               "duration": 0,
               "redraw": false
              },
              "fromcurrent": true,
              "mode": "immediate",
              "transition": {
               "duration": 0,
               "easing": "linear"
              }
             }
            ],
            "label": "Income Support",
            "method": "animate"
           },
           {
            "args": [
             [
              "Income Tax"
             ],
             {
              "frame": {
               "duration": 0,
               "redraw": false
              },
              "fromcurrent": true,
              "mode": "immediate",
              "transition": {
               "duration": 0,
               "easing": "linear"
              }
             }
            ],
            "label": "Income Tax",
            "method": "animate"
           },
           {
            "args": [
             [
              "JSA (income-based)"
             ],
             {
              "frame": {
               "duration": 0,
               "redraw": false
              },
              "fromcurrent": true,
              "mode": "immediate",
              "transition": {
               "duration": 0,
               "easing": "linear"
              }
             }
            ],
            "label": "JSA (income-based)",
            "method": "animate"
           },
           {
            "args": [
             [
              "National Insurance (total)"
             ],
             {
              "frame": {
               "duration": 0,
               "redraw": false
              },
              "fromcurrent": true,
              "mode": "immediate",
              "transition": {
               "duration": 0,
               "easing": "linear"
              }
             }
            ],
            "label": "National Insurance (total)",
            "method": "animate"
           },
           {
            "args": [
             [
              "Pension Credit"
             ],
             {
              "frame": {
               "duration": 0,
               "redraw": false
              },
              "fromcurrent": true,
              "mode": "immediate",
              "transition": {
               "duration": 0,
               "easing": "linear"
              }
             }
            ],
            "label": "Pension Credit",
            "method": "animate"
           },
           {
            "args": [
             [
              "Universal Credit"
             ],
             {
              "frame": {
               "duration": 0,
               "redraw": false
              },
              "fromcurrent": true,
              "mode": "immediate",
              "transition": {
               "duration": 0,
               "easing": "linear"
              }
             }
            ],
            "label": "Universal Credit",
            "method": "animate"
           },
           {
            "args": [
             [
              "Working Tax Credit"
             ],
             {
              "frame": {
               "duration": 0,
               "redraw": false
              },
              "fromcurrent": true,
              "mode": "immediate",
              "transition": {
               "duration": 0,
               "easing": "linear"
              }
             }
            ],
            "label": "Working Tax Credit",
            "method": "animate"
           }
          ],
          "x": 0.1,
          "xanchor": "left",
          "y": 0,
          "yanchor": "top"
         }
        ],
        "template": {
         "data": {
          "bar": [
           {
            "error_x": {
             "color": "#2a3f5f"
            },
            "error_y": {
             "color": "#2a3f5f"
            },
            "marker": {
             "line": {
              "color": "white",
              "width": 0.5
             },
             "pattern": {
              "fillmode": "overlay",
              "size": 10,
              "solidity": 0.2
             }
            },
            "type": "bar"
           }
          ],
          "barpolar": [
           {
            "marker": {
             "line": {
              "color": "white",
              "width": 0.5
             },
             "pattern": {
              "fillmode": "overlay",
              "size": 10,
              "solidity": 0.2
             }
            },
            "type": "barpolar"
           }
          ],
          "carpet": [
           {
            "aaxis": {
             "endlinecolor": "#2a3f5f",
             "gridcolor": "#C8D4E3",
             "linecolor": "#C8D4E3",
             "minorgridcolor": "#C8D4E3",
             "startlinecolor": "#2a3f5f"
            },
            "baxis": {
             "endlinecolor": "#2a3f5f",
             "gridcolor": "#C8D4E3",
             "linecolor": "#C8D4E3",
             "minorgridcolor": "#C8D4E3",
             "startlinecolor": "#2a3f5f"
            },
            "type": "carpet"
           }
          ],
          "choropleth": [
           {
            "colorbar": {
             "outlinewidth": 0,
             "ticks": ""
            },
            "type": "choropleth"
           }
          ],
          "contour": [
           {
            "colorbar": {
             "outlinewidth": 0,
             "ticks": ""
            },
            "colorscale": [
             [
              0,
              "#0d0887"
             ],
             [
              0.1111111111111111,
              "#46039f"
             ],
             [
              0.2222222222222222,
              "#7201a8"
             ],
             [
              0.3333333333333333,
              "#9c179e"
             ],
             [
              0.4444444444444444,
              "#bd3786"
             ],
             [
              0.5555555555555556,
              "#d8576b"
             ],
             [
              0.6666666666666666,
              "#ed7953"
             ],
             [
              0.7777777777777778,
              "#fb9f3a"
             ],
             [
              0.8888888888888888,
              "#fdca26"
             ],
             [
              1,
              "#f0f921"
             ]
            ],
            "type": "contour"
           }
          ],
          "contourcarpet": [
           {
            "colorbar": {
             "outlinewidth": 0,
             "ticks": ""
            },
            "type": "contourcarpet"
           }
          ],
          "heatmap": [
           {
            "colorbar": {
             "outlinewidth": 0,
             "ticks": ""
            },
            "colorscale": [
             [
              0,
              "#0d0887"
             ],
             [
              0.1111111111111111,
              "#46039f"
             ],
             [
              0.2222222222222222,
              "#7201a8"
             ],
             [
              0.3333333333333333,
              "#9c179e"
             ],
             [
              0.4444444444444444,
              "#bd3786"
             ],
             [
              0.5555555555555556,
              "#d8576b"
             ],
             [
              0.6666666666666666,
              "#ed7953"
             ],
             [
              0.7777777777777778,
              "#fb9f3a"
             ],
             [
              0.8888888888888888,
              "#fdca26"
             ],
             [
              1,
              "#f0f921"
             ]
            ],
            "type": "heatmap"
           }
          ],
          "heatmapgl": [
           {
            "colorbar": {
             "outlinewidth": 0,
             "ticks": ""
            },
            "colorscale": [
             [
              0,
              "#0d0887"
             ],
             [
              0.1111111111111111,
              "#46039f"
             ],
             [
              0.2222222222222222,
              "#7201a8"
             ],
             [
              0.3333333333333333,
              "#9c179e"
             ],
             [
              0.4444444444444444,
              "#bd3786"
             ],
             [
              0.5555555555555556,
              "#d8576b"
             ],
             [
              0.6666666666666666,
              "#ed7953"
             ],
             [
              0.7777777777777778,
              "#fb9f3a"
             ],
             [
              0.8888888888888888,
              "#fdca26"
             ],
             [
              1,
              "#f0f921"
             ]
            ],
            "type": "heatmapgl"
           }
          ],
          "histogram": [
           {
            "marker": {
             "pattern": {
              "fillmode": "overlay",
              "size": 10,
              "solidity": 0.2
             }
            },
            "type": "histogram"
           }
          ],
          "histogram2d": [
           {
            "colorbar": {
             "outlinewidth": 0,
             "ticks": ""
            },
            "colorscale": [
             [
              0,
              "#0d0887"
             ],
             [
              0.1111111111111111,
              "#46039f"
             ],
             [
              0.2222222222222222,
              "#7201a8"
             ],
             [
              0.3333333333333333,
              "#9c179e"
             ],
             [
              0.4444444444444444,
              "#bd3786"
             ],
             [
              0.5555555555555556,
              "#d8576b"
             ],
             [
              0.6666666666666666,
              "#ed7953"
             ],
             [
              0.7777777777777778,
              "#fb9f3a"
             ],
             [
              0.8888888888888888,
              "#fdca26"
             ],
             [
              1,
              "#f0f921"
             ]
            ],
            "type": "histogram2d"
           }
          ],
          "histogram2dcontour": [
           {
            "colorbar": {
             "outlinewidth": 0,
             "ticks": ""
            },
            "colorscale": [
             [
              0,
              "#0d0887"
             ],
             [
              0.1111111111111111,
              "#46039f"
             ],
             [
              0.2222222222222222,
              "#7201a8"
             ],
             [
              0.3333333333333333,
              "#9c179e"
             ],
             [
              0.4444444444444444,
              "#bd3786"
             ],
             [
              0.5555555555555556,
              "#d8576b"
             ],
             [
              0.6666666666666666,
              "#ed7953"
             ],
             [
              0.7777777777777778,
              "#fb9f3a"
             ],
             [
              0.8888888888888888,
              "#fdca26"
             ],
             [
              1,
              "#f0f921"
             ]
            ],
            "type": "histogram2dcontour"
           }
          ],
          "mesh3d": [
           {
            "colorbar": {
             "outlinewidth": 0,
             "ticks": ""
            },
            "type": "mesh3d"
           }
          ],
          "parcoords": [
           {
            "line": {
             "colorbar": {
              "outlinewidth": 0,
              "ticks": ""
             }
            },
            "type": "parcoords"
           }
          ],
          "pie": [
           {
            "automargin": true,
            "type": "pie"
           }
          ],
          "scatter": [
           {
            "marker": {
             "colorbar": {
              "outlinewidth": 0,
              "ticks": ""
             }
            },
            "type": "scatter"
           }
          ],
          "scatter3d": [
           {
            "line": {
             "colorbar": {
              "outlinewidth": 0,
              "ticks": ""
             }
            },
            "marker": {
             "colorbar": {
              "outlinewidth": 0,
              "ticks": ""
             }
            },
            "type": "scatter3d"
           }
          ],
          "scattercarpet": [
           {
            "marker": {
             "colorbar": {
              "outlinewidth": 0,
              "ticks": ""
             }
            },
            "type": "scattercarpet"
           }
          ],
          "scattergeo": [
           {
            "marker": {
             "colorbar": {
              "outlinewidth": 0,
              "ticks": ""
             }
            },
            "type": "scattergeo"
           }
          ],
          "scattergl": [
           {
            "marker": {
             "colorbar": {
              "outlinewidth": 0,
              "ticks": ""
             }
            },
            "type": "scattergl"
           }
          ],
          "scattermapbox": [
           {
            "marker": {
             "colorbar": {
              "outlinewidth": 0,
              "ticks": ""
             }
            },
            "type": "scattermapbox"
           }
          ],
          "scatterpolar": [
           {
            "marker": {
             "colorbar": {
              "outlinewidth": 0,
              "ticks": ""
             }
            },
            "type": "scatterpolar"
           }
          ],
          "scatterpolargl": [
           {
            "marker": {
             "colorbar": {
              "outlinewidth": 0,
              "ticks": ""
             }
            },
            "type": "scatterpolargl"
           }
          ],
          "scatterternary": [
           {
            "marker": {
             "colorbar": {
              "outlinewidth": 0,
              "ticks": ""
             }
            },
            "type": "scatterternary"
           }
          ],
          "surface": [
           {
            "colorbar": {
             "outlinewidth": 0,
             "ticks": ""
            },
            "colorscale": [
             [
              0,
              "#0d0887"
             ],
             [
              0.1111111111111111,
              "#46039f"
             ],
             [
              0.2222222222222222,
              "#7201a8"
             ],
             [
              0.3333333333333333,
              "#9c179e"
             ],
             [
              0.4444444444444444,
              "#bd3786"
             ],
             [
              0.5555555555555556,
              "#d8576b"
             ],
             [
              0.6666666666666666,
              "#ed7953"
             ],
             [
              0.7777777777777778,
              "#fb9f3a"
             ],
             [
              0.8888888888888888,
              "#fdca26"
             ],
             [
              1,
              "#f0f921"
             ]
            ],
            "type": "surface"
           }
          ],
          "table": [
           {
            "cells": {
             "fill": {
              "color": "#EBF0F8"
             },
             "line": {
              "color": "white"
             }
            },
            "header": {
             "fill": {
              "color": "#C8D4E3"
             },
             "line": {
              "color": "white"
             }
            },
            "type": "table"
           }
          ]
         },
         "layout": {
          "annotationdefaults": {
           "arrowcolor": "#2a3f5f",
           "arrowhead": 0,
           "arrowwidth": 1
          },
          "autotypenumbers": "strict",
          "coloraxis": {
           "colorbar": {
            "outlinewidth": 0,
            "ticks": ""
           }
          },
          "colorscale": {
           "diverging": [
            [
             0,
             "#8e0152"
            ],
            [
             0.1,
             "#c51b7d"
            ],
            [
             0.2,
             "#de77ae"
            ],
            [
             0.3,
             "#f1b6da"
            ],
            [
             0.4,
             "#fde0ef"
            ],
            [
             0.5,
             "#f7f7f7"
            ],
            [
             0.6,
             "#e6f5d0"
            ],
            [
             0.7,
             "#b8e186"
            ],
            [
             0.8,
             "#7fbc41"
            ],
            [
             0.9,
             "#4d9221"
            ],
            [
             1,
             "#276419"
            ]
           ],
           "sequential": [
            [
             0,
             "#0d0887"
            ],
            [
             0.1111111111111111,
             "#46039f"
            ],
            [
             0.2222222222222222,
             "#7201a8"
            ],
            [
             0.3333333333333333,
             "#9c179e"
            ],
            [
             0.4444444444444444,
             "#bd3786"
            ],
            [
             0.5555555555555556,
             "#d8576b"
            ],
            [
             0.6666666666666666,
             "#ed7953"
            ],
            [
             0.7777777777777778,
             "#fb9f3a"
            ],
            [
             0.8888888888888888,
             "#fdca26"
            ],
            [
             1,
             "#f0f921"
            ]
           ],
           "sequentialminus": [
            [
             0,
             "#0d0887"
            ],
            [
             0.1111111111111111,
             "#46039f"
            ],
            [
             0.2222222222222222,
             "#7201a8"
            ],
            [
             0.3333333333333333,
             "#9c179e"
            ],
            [
             0.4444444444444444,
             "#bd3786"
            ],
            [
             0.5555555555555556,
             "#d8576b"
            ],
            [
             0.6666666666666666,
             "#ed7953"
            ],
            [
             0.7777777777777778,
             "#fb9f3a"
            ],
            [
             0.8888888888888888,
             "#fdca26"
            ],
            [
             1,
             "#f0f921"
            ]
           ]
          },
          "colorway": [
           "#636efa",
           "#EF553B",
           "#00cc96",
           "#ab63fa",
           "#FFA15A",
           "#19d3f3",
           "#FF6692",
           "#B6E880",
           "#FF97FF",
           "#FECB52"
          ],
          "font": {
           "color": "#2a3f5f"
          },
          "geo": {
           "bgcolor": "white",
           "lakecolor": "white",
           "landcolor": "white",
           "showlakes": true,
           "showland": true,
           "subunitcolor": "#C8D4E3"
          },
          "hoverlabel": {
           "align": "left"
          },
          "hovermode": "closest",
          "mapbox": {
           "style": "light"
          },
          "paper_bgcolor": "white",
          "plot_bgcolor": "white",
          "polar": {
           "angularaxis": {
            "gridcolor": "#EBF0F8",
            "linecolor": "#EBF0F8",
            "ticks": ""
           },
           "bgcolor": "white",
           "radialaxis": {
            "gridcolor": "#EBF0F8",
            "linecolor": "#EBF0F8",
            "ticks": ""
           }
          },
          "scene": {
           "xaxis": {
            "backgroundcolor": "white",
            "gridcolor": "#DFE8F3",
            "gridwidth": 2,
            "linecolor": "#EBF0F8",
            "showbackground": true,
            "ticks": "",
            "zerolinecolor": "#EBF0F8"
           },
           "yaxis": {
            "backgroundcolor": "white",
            "gridcolor": "#DFE8F3",
            "gridwidth": 2,
            "linecolor": "#EBF0F8",
            "showbackground": true,
            "ticks": "",
            "zerolinecolor": "#EBF0F8"
           },
           "zaxis": {
            "backgroundcolor": "white",
            "gridcolor": "#DFE8F3",
            "gridwidth": 2,
            "linecolor": "#EBF0F8",
            "showbackground": true,
            "ticks": "",
            "zerolinecolor": "#EBF0F8"
           }
          },
          "shapedefaults": {
           "line": {
            "color": "#2a3f5f"
           }
          },
          "ternary": {
           "aaxis": {
            "gridcolor": "#DFE8F3",
            "linecolor": "#A2B1C6",
            "ticks": ""
           },
           "baxis": {
            "gridcolor": "#DFE8F3",
            "linecolor": "#A2B1C6",
            "ticks": ""
           },
           "bgcolor": "white",
           "caxis": {
            "gridcolor": "#DFE8F3",
            "linecolor": "#A2B1C6",
            "ticks": ""
           }
          },
          "title": {
           "x": 0.05
          },
          "xaxis": {
           "automargin": true,
           "gridcolor": "#EBF0F8",
           "linecolor": "#EBF0F8",
           "ticks": "",
           "title": {
            "standoff": 15
           },
           "zerolinecolor": "#EBF0F8",
           "zerolinewidth": 2
          },
          "yaxis": {
           "automargin": true,
           "gridcolor": "#EBF0F8",
           "linecolor": "#EBF0F8",
           "ticks": "",
           "title": {
            "standoff": 15
           },
           "zerolinecolor": "#EBF0F8",
           "zerolinewidth": 2
          }
         }
        },
        "title": {
         "text": "Budgetary impact forecasts"
        },
        "updatemenus": [
         {
          "buttons": [
           {
            "args": [
             null,
             {
              "frame": {
               "duration": 500,
               "redraw": false
              },
              "fromcurrent": true,
              "mode": "immediate",
              "transition": {
               "duration": 500,
               "easing": "linear"
              }
             }
            ],
            "label": "&#9654;",
            "method": "animate"
           },
           {
            "args": [
             [
              null
             ],
             {
              "frame": {
               "duration": 0,
               "redraw": false
              },
              "fromcurrent": true,
              "mode": "immediate",
              "transition": {
               "duration": 0,
               "easing": "linear"
              }
             }
            ],
            "label": "&#9724;",
            "method": "animate"
           }
          ],
          "direction": "left",
          "pad": {
           "r": 10,
           "t": 70
          },
          "showactive": false,
          "type": "buttons",
          "x": 0.1,
          "xanchor": "right",
          "y": 0,
          "yanchor": "top"
         }
        ],
        "width": 800,
        "xaxis": {
         "anchor": "y",
         "autorange": true,
         "domain": [
          0,
          1
         ],
         "range": [
          2022,
          2025
         ],
         "tickvals": [
          2022,
          2023,
          2024,
          2025
         ],
         "title": {
          "text": "Year"
         },
         "type": "linear"
        },
        "yaxis": {
         "anchor": "x",
         "domain": [
          0,
          1
         ],
         "range": [
          0,
          20000000000
         ],
         "tickprefix": "£",
         "title": {
          "text": ""
         },
         "type": "linear"
        }
       }
      },
      "image/png": "[encoded data removed]",
      "text/html": [
       "<div>                            <div id=\"41d5e4fe-6088-4635-bb2a-20580b0b337a\" class=\"plotly-graph-div\" style=\"height:600px; width:800px;\"></div>            <script type=\"text/javascript\">                require([\"plotly\"], function(Plotly) {                    window.PLOTLYENV=window.PLOTLYENV || {};                                    if (document.getElementById(\"41d5e4fe-6088-4635-bb2a-20580b0b337a\")) {                    Plotly.newPlot(                        \"41d5e4fe-6088-4635-bb2a-20580b0b337a\",                        [{\"hovertemplate\":\"\",\"legendgroup\":\"External\",\"line\":{\"color\":\"#00cc96\",\"dash\":\"solid\"},\"marker\":{\"symbol\":\"circle\"},\"mode\":\"lines\",\"name\":\"External\",\"orientation\":\"h\",\"showlegend\":true,\"x\":[2022,2023,2024,2025],\"xaxis\":\"x\",\"y\":[11213000000.0,11546000000.0,11626000000.0,11627000000.0],\"yaxis\":\"y\",\"type\":\"scatter\"},{\"hovertemplate\":\"\",\"legendgroup\":\"OpenFisca-UK\",\"line\":{\"color\":\"blue\",\"dash\":\"solid\"},\"marker\":{\"symbol\":\"circle\"},\"mode\":\"lines\",\"name\":\"OpenFisca-UK\",\"orientation\":\"h\",\"showlegend\":true,\"x\":[2022,2023,2024,2025],\"xaxis\":\"x\",\"y\":[11963033572.4,11990815099.6,11896403375.8,12045240376.8],\"yaxis\":\"y\",\"type\":\"scatter\"},{\"hovertemplate\":\"\",\"legendgroup\":\"UKMOD\",\"line\":{\"color\":\"lightgrey\",\"dash\":\"solid\"},\"marker\":{\"symbol\":\"circle\"},\"mode\":\"lines\",\"name\":\"UKMOD\",\"orientation\":\"h\",\"showlegend\":true,\"x\":[2022,2023,2024,2025],\"xaxis\":\"x\",\"y\":[11963000000.0,12331000000.0,12547000000.0,12579000000.0],\"yaxis\":\"y\",\"type\":\"scatter\"}],                        {\"template\":{\"data\":{\"barpolar\":[{\"marker\":{\"line\":{\"color\":\"white\",\"width\":0.5},\"pattern\":{\"fillmode\":\"overlay\",\"size\":10,\"solidity\":0.2}},\"type\":\"barpolar\"}],\"bar\":[{\"error_x\":{\"color\":\"#2a3f5f\"},\"error_y\":{\"color\":\"#2a3f5f\"},\"marker\":{\"line\":{\"color\":\"white\",\"width\":0.5},\"pattern\":{\"fillmode\":\"overlay\",\"size\":10,\"solidity\":0.2}},\"type\":\"bar\"}],\"carpet\":[{\"aaxis\":{\"endlinecolor\":\"#2a3f5f\",\"gridcolor\":\"#C8D4E3\",\"linecolor\":\"#C8D4E3\",\"minorgridcolor\":\"#C8D4E3\",\"startlinecolor\":\"#2a3f5f\"},\"baxis\":{\"endlinecolor\":\"#2a3f5f\",\"gridcolor\":\"#C8D4E3\",\"linecolor\":\"#C8D4E3\",\"minorgridcolor\":\"#C8D4E3\",\"startlinecolor\":\"#2a3f5f\"},\"type\":\"carpet\"}],\"choropleth\":[{\"colorbar\":{\"outlinewidth\":0,\"ticks\":\"\"},\"type\":\"choropleth\"}],\"contourcarpet\":[{\"colorbar\":{\"outlinewidth\":0,\"ticks\":\"\"},\"type\":\"contourcarpet\"}],\"contour\":[{\"colorbar\":{\"outlinewidth\":0,\"ticks\":\"\"},\"colorscale\":[[0.0,\"#0d0887\"],[0.1111111111111111,\"#46039f\"],[0.2222222222222222,\"#7201a8\"],[0.3333333333333333,\"#9c179e\"],[0.4444444444444444,\"#bd3786\"],[0.5555555555555556,\"#d8576b\"],[0.6666666666666666,\"#ed7953\"],[0.7777777777777778,\"#fb9f3a\"],[0.8888888888888888,\"#fdca26\"],[1.0,\"#f0f921\"]],\"type\":\"contour\"}],\"heatmapgl\":[{\"colorbar\":{\"outlinewidth\":0,\"ticks\":\"\"},\"colorscale\":[[0.0,\"#0d0887\"],[0.1111111111111111,\"#46039f\"],[0.2222222222222222,\"#7201a8\"],[0.3333333333333333,\"#9c179e\"],[0.4444444444444444,\"#bd3786\"],[0.5555555555555556,\"#d8576b\"],[0.6666666666666666,\"#ed7953\"],[0.7777777777777778,\"#fb9f3a\"],[0.8888888888888888,\"#fdca26\"],[1.0,\"#f0f921\"]],\"type\":\"heatmapgl\"}],\"heatmap\":[{\"colorbar\":{\"outlinewidth\":0,\"ticks\":\"\"},\"colorscale\":[[0.0,\"#0d0887\"],[0.1111111111111111,\"#46039f\"],[0.2222222222222222,\"#7201a8\"],[0.3333333333333333,\"#9c179e\"],[0.4444444444444444,\"#bd3786\"],[0.5555555555555556,\"#d8576b\"],[0.6666666666666666,\"#ed7953\"],[0.7777777777777778,\"#fb9f3a\"],[0.8888888888888888,\"#fdca26\"],[1.0,\"#f0f921\"]],\"type\":\"heatmap\"}],\"histogram2dcontour\":[{\"colorbar\":{\"outlinewidth\":0,\"ticks\":\"\"},\"colorscale\":[[0.0,\"#0d0887\"],[0.1111111111111111,\"#46039f\"],[0.2222222222222222,\"#7201a8\"],[0.3333333333333333,\"#9c179e\"],[0.4444444444444444,\"#bd3786\"],[0.5555555555555556,\"#d8576b\"],[0.6666666666666666,\"#ed7953\"],[0.7777777777777778,\"#fb9f3a\"],[0.8888888888888888,\"#fdca26\"],[1.0,\"#f0f921\"]],\"type\":\"histogram2dcontour\"}],\"histogram2d\":[{\"colorbar\":{\"outlinewidth\":0,\"ticks\":\"\"},\"colorscale\":[[0.0,\"#0d0887\"],[0.1111111111111111,\"#46039f\"],[0.2222222222222222,\"#7201a8\"],[0.3333333333333333,\"#9c179e\"],[0.4444444444444444,\"#bd3786\"],[0.5555555555555556,\"#d8576b\"],[0.6666666666666666,\"#ed7953\"],[0.7777777777777778,\"#fb9f3a\"],[0.8888888888888888,\"#fdca26\"],[1.0,\"#f0f921\"]],\"type\":\"histogram2d\"}],\"histogram\":[{\"marker\":{\"pattern\":{\"fillmode\":\"overlay\",\"size\":10,\"solidity\":0.2}},\"type\":\"histogram\"}],\"mesh3d\":[{\"colorbar\":{\"outlinewidth\":0,\"ticks\":\"\"},\"type\":\"mesh3d\"}],\"parcoords\":[{\"line\":{\"colorbar\":{\"outlinewidth\":0,\"ticks\":\"\"}},\"type\":\"parcoords\"}],\"pie\":[{\"automargin\":true,\"type\":\"pie\"}],\"scatter3d\":[{\"line\":{\"colorbar\":{\"outlinewidth\":0,\"ticks\":\"\"}},\"marker\":{\"colorbar\":{\"outlinewidth\":0,\"ticks\":\"\"}},\"type\":\"scatter3d\"}],\"scattercarpet\":[{\"marker\":{\"colorbar\":{\"outlinewidth\":0,\"ticks\":\"\"}},\"type\":\"scattercarpet\"}],\"scattergeo\":[{\"marker\":{\"colorbar\":{\"outlinewidth\":0,\"ticks\":\"\"}},\"type\":\"scattergeo\"}],\"scattergl\":[{\"marker\":{\"colorbar\":{\"outlinewidth\":0,\"ticks\":\"\"}},\"type\":\"scattergl\"}],\"scattermapbox\":[{\"marker\":{\"colorbar\":{\"outlinewidth\":0,\"ticks\":\"\"}},\"type\":\"scattermapbox\"}],\"scatterpolargl\":[{\"marker\":{\"colorbar\":{\"outlinewidth\":0,\"ticks\":\"\"}},\"type\":\"scatterpolargl\"}],\"scatterpolar\":[{\"marker\":{\"colorbar\":{\"outlinewidth\":0,\"ticks\":\"\"}},\"type\":\"scatterpolar\"}],\"scatter\":[{\"marker\":{\"colorbar\":{\"outlinewidth\":0,\"ticks\":\"\"}},\"type\":\"scatter\"}],\"scatterternary\":[{\"marker\":{\"colorbar\":{\"outlinewidth\":0,\"ticks\":\"\"}},\"type\":\"scatterternary\"}],\"surface\":[{\"colorbar\":{\"outlinewidth\":0,\"ticks\":\"\"},\"colorscale\":[[0.0,\"#0d0887\"],[0.1111111111111111,\"#46039f\"],[0.2222222222222222,\"#7201a8\"],[0.3333333333333333,\"#9c179e\"],[0.4444444444444444,\"#bd3786\"],[0.5555555555555556,\"#d8576b\"],[0.6666666666666666,\"#ed7953\"],[0.7777777777777778,\"#fb9f3a\"],[0.8888888888888888,\"#fdca26\"],[1.0,\"#f0f921\"]],\"type\":\"surface\"}],\"table\":[{\"cells\":{\"fill\":{\"color\":\"#EBF0F8\"},\"line\":{\"color\":\"white\"}},\"header\":{\"fill\":{\"color\":\"#C8D4E3\"},\"line\":{\"color\":\"white\"}},\"type\":\"table\"}]},\"layout\":{\"annotationdefaults\":{\"arrowcolor\":\"#2a3f5f\",\"arrowhead\":0,\"arrowwidth\":1},\"autotypenumbers\":\"strict\",\"coloraxis\":{\"colorbar\":{\"outlinewidth\":0,\"ticks\":\"\"}},\"colorscale\":{\"diverging\":[[0,\"#8e0152\"],[0.1,\"#c51b7d\"],[0.2,\"#de77ae\"],[0.3,\"#f1b6da\"],[0.4,\"#fde0ef\"],[0.5,\"#f7f7f7\"],[0.6,\"#e6f5d0\"],[0.7,\"#b8e186\"],[0.8,\"#7fbc41\"],[0.9,\"#4d9221\"],[1,\"#276419\"]],\"sequential\":[[0.0,\"#0d0887\"],[0.1111111111111111,\"#46039f\"],[0.2222222222222222,\"#7201a8\"],[0.3333333333333333,\"#9c179e\"],[0.4444444444444444,\"#bd3786\"],[0.5555555555555556,\"#d8576b\"],[0.6666666666666666,\"#ed7953\"],[0.7777777777777778,\"#fb9f3a\"],[0.8888888888888888,\"#fdca26\"],[1.0,\"#f0f921\"]],\"sequentialminus\":[[0.0,\"#0d0887\"],[0.1111111111111111,\"#46039f\"],[0.2222222222222222,\"#7201a8\"],[0.3333333333333333,\"#9c179e\"],[0.4444444444444444,\"#bd3786\"],[0.5555555555555556,\"#d8576b\"],[0.6666666666666666,\"#ed7953\"],[0.7777777777777778,\"#fb9f3a\"],[0.8888888888888888,\"#fdca26\"],[1.0,\"#f0f921\"]]},\"colorway\":[\"#636efa\",\"#EF553B\",\"#00cc96\",\"#ab63fa\",\"#FFA15A\",\"#19d3f3\",\"#FF6692\",\"#B6E880\",\"#FF97FF\",\"#FECB52\"],\"font\":{\"color\":\"#2a3f5f\"},\"geo\":{\"bgcolor\":\"white\",\"lakecolor\":\"white\",\"landcolor\":\"white\",\"showlakes\":true,\"showland\":true,\"subunitcolor\":\"#C8D4E3\"},\"hoverlabel\":{\"align\":\"left\"},\"hovermode\":\"closest\",\"mapbox\":{\"style\":\"light\"},\"paper_bgcolor\":\"white\",\"plot_bgcolor\":\"white\",\"polar\":{\"angularaxis\":{\"gridcolor\":\"#EBF0F8\",\"linecolor\":\"#EBF0F8\",\"ticks\":\"\"},\"bgcolor\":\"white\",\"radialaxis\":{\"gridcolor\":\"#EBF0F8\",\"linecolor\":\"#EBF0F8\",\"ticks\":\"\"}},\"scene\":{\"xaxis\":{\"backgroundcolor\":\"white\",\"gridcolor\":\"#DFE8F3\",\"gridwidth\":2,\"linecolor\":\"#EBF0F8\",\"showbackground\":true,\"ticks\":\"\",\"zerolinecolor\":\"#EBF0F8\"},\"yaxis\":{\"backgroundcolor\":\"white\",\"gridcolor\":\"#DFE8F3\",\"gridwidth\":2,\"linecolor\":\"#EBF0F8\",\"showbackground\":true,\"ticks\":\"\",\"zerolinecolor\":\"#EBF0F8\"},\"zaxis\":{\"backgroundcolor\":\"white\",\"gridcolor\":\"#DFE8F3\",\"gridwidth\":2,\"linecolor\":\"#EBF0F8\",\"showbackground\":true,\"ticks\":\"\",\"zerolinecolor\":\"#EBF0F8\"}},\"shapedefaults\":{\"line\":{\"color\":\"#2a3f5f\"}},\"ternary\":{\"aaxis\":{\"gridcolor\":\"#DFE8F3\",\"linecolor\":\"#A2B1C6\",\"ticks\":\"\"},\"baxis\":{\"gridcolor\":\"#DFE8F3\",\"linecolor\":\"#A2B1C6\",\"ticks\":\"\"},\"bgcolor\":\"white\",\"caxis\":{\"gridcolor\":\"#DFE8F3\",\"linecolor\":\"#A2B1C6\",\"ticks\":\"\"}},\"title\":{\"x\":0.05},\"xaxis\":{\"automargin\":true,\"gridcolor\":\"#EBF0F8\",\"linecolor\":\"#EBF0F8\",\"ticks\":\"\",\"title\":{\"standoff\":15},\"zerolinecolor\":\"#EBF0F8\",\"zerolinewidth\":2},\"yaxis\":{\"automargin\":true,\"gridcolor\":\"#EBF0F8\",\"linecolor\":\"#EBF0F8\",\"ticks\":\"\",\"title\":{\"standoff\":15},\"zerolinecolor\":\"#EBF0F8\",\"zerolinewidth\":2}}},\"xaxis\":{\"anchor\":\"y\",\"domain\":[0.0,1.0],\"title\":{\"text\":\"Year\"},\"tickvals\":[2022,2023,2024,2025]},\"yaxis\":{\"anchor\":\"x\",\"domain\":[0.0,1.0],\"title\":{\"text\":\"\"},\"tickprefix\":\"\\u00a3\",\"range\":[0,20000000000.0]},\"legend\":{\"title\":{\"text\":\"Model\"},\"tracegroupgap\":0,\"traceorder\":\"reversed\"},\"margin\":{\"t\":60},\"updatemenus\":[{\"buttons\":[{\"args\":[null,{\"frame\":{\"duration\":500,\"redraw\":false},\"mode\":\"immediate\",\"fromcurrent\":true,\"transition\":{\"duration\":500,\"easing\":\"linear\"}}],\"label\":\"&#9654;\",\"method\":\"animate\"},{\"args\":[[null],{\"frame\":{\"duration\":0,\"redraw\":false},\"mode\":\"immediate\",\"fromcurrent\":true,\"transition\":{\"duration\":0,\"easing\":\"linear\"}}],\"label\":\"&#9724;\",\"method\":\"animate\"}],\"direction\":\"left\",\"pad\":{\"r\":10,\"t\":70},\"showactive\":false,\"type\":\"buttons\",\"x\":0.1,\"xanchor\":\"right\",\"y\":0,\"yanchor\":\"top\"}],\"sliders\":[{\"active\":0,\"currentvalue\":{\"prefix\":\"Program=\"},\"len\":0.9,\"pad\":{\"b\":10,\"t\":60},\"steps\":[{\"args\":[[\"Child Benefit\"],{\"frame\":{\"duration\":0,\"redraw\":false},\"mode\":\"immediate\",\"fromcurrent\":true,\"transition\":{\"duration\":0,\"easing\":\"linear\"}}],\"label\":\"Child Benefit\",\"method\":\"animate\"},{\"args\":[[\"Child Tax Credit\"],{\"frame\":{\"duration\":0,\"redraw\":false},\"mode\":\"immediate\",\"fromcurrent\":true,\"transition\":{\"duration\":0,\"easing\":\"linear\"}}],\"label\":\"Child Tax Credit\",\"method\":\"animate\"},{\"args\":[[\"Housing Benefit\"],{\"frame\":{\"duration\":0,\"redraw\":false},\"mode\":\"immediate\",\"fromcurrent\":true,\"transition\":{\"duration\":0,\"easing\":\"linear\"}}],\"label\":\"Housing Benefit\",\"method\":\"animate\"},{\"args\":[[\"Income Support\"],{\"frame\":{\"duration\":0,\"redraw\":false},\"mode\":\"immediate\",\"fromcurrent\":true,\"transition\":{\"duration\":0,\"easing\":\"linear\"}}],\"label\":\"Income Support\",\"method\":\"animate\"},{\"args\":[[\"Income Tax\"],{\"frame\":{\"duration\":0,\"redraw\":false},\"mode\":\"immediate\",\"fromcurrent\":true,\"transition\":{\"duration\":0,\"easing\":\"linear\"}}],\"label\":\"Income Tax\",\"method\":\"animate\"},{\"args\":[[\"JSA (income-based)\"],{\"frame\":{\"duration\":0,\"redraw\":false},\"mode\":\"immediate\",\"fromcurrent\":true,\"transition\":{\"duration\":0,\"easing\":\"linear\"}}],\"label\":\"JSA (income-based)\",\"method\":\"animate\"},{\"args\":[[\"National Insurance (total)\"],{\"frame\":{\"duration\":0,\"redraw\":false},\"mode\":\"immediate\",\"fromcurrent\":true,\"transition\":{\"duration\":0,\"easing\":\"linear\"}}],\"label\":\"National Insurance (total)\",\"method\":\"animate\"},{\"args\":[[\"Pension Credit\"],{\"frame\":{\"duration\":0,\"redraw\":false},\"mode\":\"immediate\",\"fromcurrent\":true,\"transition\":{\"duration\":0,\"easing\":\"linear\"}}],\"label\":\"Pension Credit\",\"method\":\"animate\"},{\"args\":[[\"Universal Credit\"],{\"frame\":{\"duration\":0,\"redraw\":false},\"mode\":\"immediate\",\"fromcurrent\":true,\"transition\":{\"duration\":0,\"easing\":\"linear\"}}],\"label\":\"Universal Credit\",\"method\":\"animate\"},{\"args\":[[\"Working Tax Credit\"],{\"frame\":{\"duration\":0,\"redraw\":false},\"mode\":\"immediate\",\"fromcurrent\":true,\"transition\":{\"duration\":0,\"easing\":\"linear\"}}],\"label\":\"Working Tax Credit\",\"method\":\"animate\"}],\"x\":0.1,\"xanchor\":\"left\",\"y\":0,\"yanchor\":\"top\"}],\"width\":800,\"height\":600,\"title\":{\"text\":\"Budgetary impact forecasts\"}},                        {\"responsive\": true}                    ).then(function(){\n",
       "                            Plotly.addFrames('41d5e4fe-6088-4635-bb2a-20580b0b337a', [{\"data\":[{\"hovertemplate\":\"\",\"legendgroup\":\"External\",\"line\":{\"color\":\"#00cc96\",\"dash\":\"solid\"},\"marker\":{\"symbol\":\"circle\"},\"mode\":\"lines\",\"name\":\"External\",\"orientation\":\"h\",\"showlegend\":true,\"x\":[2022,2023,2024,2025],\"xaxis\":\"x\",\"y\":[11213000000.0,11546000000.0,11626000000.0,11627000000.0],\"yaxis\":\"y\",\"type\":\"scatter\"},{\"hovertemplate\":\"\",\"legendgroup\":\"OpenFisca-UK\",\"line\":{\"color\":\"blue\",\"dash\":\"solid\"},\"marker\":{\"symbol\":\"circle\"},\"mode\":\"lines\",\"name\":\"OpenFisca-UK\",\"orientation\":\"h\",\"showlegend\":true,\"x\":[2022,2023,2024,2025],\"xaxis\":\"x\",\"y\":[11963033572.4,11990815099.6,11896403375.8,12045240376.8],\"yaxis\":\"y\",\"type\":\"scatter\"},{\"hovertemplate\":\"\",\"legendgroup\":\"UKMOD\",\"line\":{\"color\":\"lightgrey\",\"dash\":\"solid\"},\"marker\":{\"symbol\":\"circle\"},\"mode\":\"lines\",\"name\":\"UKMOD\",\"orientation\":\"h\",\"showlegend\":true,\"x\":[2022,2023,2024,2025],\"xaxis\":\"x\",\"y\":[11963000000.0,12331000000.0,12547000000.0,12579000000.0],\"yaxis\":\"y\",\"type\":\"scatter\"}],\"name\":\"Child Benefit\"},{\"data\":[{\"hovertemplate\":\"\",\"legendgroup\":\"External\",\"line\":{\"color\":\"#00cc96\",\"dash\":\"solid\"},\"marker\":{\"symbol\":\"circle\"},\"mode\":\"lines\",\"name\":\"External\",\"orientation\":\"h\",\"showlegend\":true,\"x\":[2022,2023,2024,2025],\"xaxis\":\"x\",\"y\":[5995000000.0,4494872881.0,2951377119.0,1338898305.0],\"yaxis\":\"y\",\"type\":\"scatter\"},{\"hovertemplate\":\"\",\"legendgroup\":\"OpenFisca-UK\",\"line\":{\"color\":\"blue\",\"dash\":\"solid\"},\"marker\":{\"symbol\":\"circle\"},\"mode\":\"lines\",\"name\":\"OpenFisca-UK\",\"orientation\":\"h\",\"showlegend\":true,\"x\":[2022,2023,2024,2025],\"xaxis\":\"x\",\"y\":[7793198160.7,6170182807.5,4775259560.0,3672317666.5],\"yaxis\":\"y\",\"type\":\"scatter\"},{\"hovertemplate\":\"\",\"legendgroup\":\"UKMOD\",\"line\":{\"color\":\"lightgrey\",\"dash\":\"solid\"},\"marker\":{\"symbol\":\"circle\"},\"mode\":\"lines\",\"name\":\"UKMOD\",\"orientation\":\"h\",\"showlegend\":true,\"x\":[2022,2023,2024,2025],\"xaxis\":\"x\",\"y\":[5382000000.0,4546000000.0,3287000000.0,1461000000.0],\"yaxis\":\"y\",\"type\":\"scatter\"}],\"name\":\"Child Tax Credit\"},{\"data\":[{\"hovertemplate\":\"\",\"legendgroup\":\"External\",\"line\":{\"color\":\"#00cc96\",\"dash\":\"solid\"},\"marker\":{\"symbol\":\"circle\"},\"mode\":\"lines\",\"name\":\"External\",\"orientation\":\"h\",\"showlegend\":true,\"x\":[2022,2023,2024,2025],\"xaxis\":\"x\",\"y\":[15894000000.0,14728000000.0,12503000000.0,10213000000.0],\"yaxis\":\"y\",\"type\":\"scatter\"},{\"hovertemplate\":\"\",\"legendgroup\":\"OpenFisca-UK\",\"line\":{\"color\":\"blue\",\"dash\":\"solid\"},\"marker\":{\"symbol\":\"circle\"},\"mode\":\"lines\",\"name\":\"OpenFisca-UK\",\"orientation\":\"h\",\"showlegend\":true,\"x\":[2022,2023,2024,2025],\"xaxis\":\"x\",\"y\":[11945243123.9,10800983474.1,9251032829.6,7575339027.4],\"yaxis\":\"y\",\"type\":\"scatter\"},{\"hovertemplate\":\"\",\"legendgroup\":\"UKMOD\",\"line\":{\"color\":\"lightgrey\",\"dash\":\"solid\"},\"marker\":{\"symbol\":\"circle\"},\"mode\":\"lines\",\"name\":\"UKMOD\",\"orientation\":\"h\",\"showlegend\":true,\"x\":[2022,2023,2024,2025],\"xaxis\":\"x\",\"y\":[10332000000.0,9622000000.0,8476000000.0,6706000000.0],\"yaxis\":\"y\",\"type\":\"scatter\"}],\"name\":\"Housing Benefit\"},{\"data\":[{\"hovertemplate\":\"\",\"legendgroup\":\"External\",\"line\":{\"color\":\"#00cc96\",\"dash\":\"solid\"},\"marker\":{\"symbol\":\"circle\"},\"mode\":\"lines\",\"name\":\"External\",\"orientation\":\"h\",\"showlegend\":true,\"x\":[2022,2023,2024,2025],\"xaxis\":\"x\",\"y\":[670000000.0,491000000.0,471000000.0,432000000.0],\"yaxis\":\"y\",\"type\":\"scatter\"},{\"hovertemplate\":\"\",\"legendgroup\":\"OpenFisca-UK\",\"line\":{\"color\":\"blue\",\"dash\":\"solid\"},\"marker\":{\"symbol\":\"circle\"},\"mode\":\"lines\",\"name\":\"OpenFisca-UK\",\"orientation\":\"h\",\"showlegend\":true,\"x\":[2022,2023,2024,2025],\"xaxis\":\"x\",\"y\":[814715142.6,611702971.8,428531087.0,230479941.7],\"yaxis\":\"y\",\"type\":\"scatter\"},{\"hovertemplate\":\"\",\"legendgroup\":\"UKMOD\",\"line\":{\"color\":\"lightgrey\",\"dash\":\"solid\"},\"marker\":{\"symbol\":\"circle\"},\"mode\":\"lines\",\"name\":\"UKMOD\",\"orientation\":\"h\",\"showlegend\":true,\"x\":[2022,2023,2024,2025],\"xaxis\":\"x\",\"y\":[\"\",\"\",\"\",\"\"],\"yaxis\":\"y\",\"type\":\"scatter\"}],\"name\":\"Income Support\"},{\"data\":[{\"hovertemplate\":\"\",\"legendgroup\":\"External\",\"line\":{\"color\":\"#00cc96\",\"dash\":\"solid\"},\"marker\":{\"symbol\":\"circle\"},\"mode\":\"lines\",\"name\":\"External\",\"orientation\":\"h\",\"showlegend\":true,\"x\":[2022,2023,2024,2025],\"xaxis\":\"x\",\"y\":[205000000000.0,215000000000.0,225700000000.0,237500000000.0],\"yaxis\":\"y\",\"type\":\"scatter\"},{\"hovertemplate\":\"\",\"legendgroup\":\"OpenFisca-UK\",\"line\":{\"color\":\"blue\",\"dash\":\"solid\"},\"marker\":{\"symbol\":\"circle\"},\"mode\":\"lines\",\"name\":\"OpenFisca-UK\",\"orientation\":\"h\",\"showlegend\":true,\"x\":[2022,2023,2024,2025],\"xaxis\":\"x\",\"y\":[203269469667.2,213380454443.9,224034816785.7,235237920383.7],\"yaxis\":\"y\",\"type\":\"scatter\"},{\"hovertemplate\":\"\",\"legendgroup\":\"UKMOD\",\"line\":{\"color\":\"lightgrey\",\"dash\":\"solid\"},\"marker\":{\"symbol\":\"circle\"},\"mode\":\"lines\",\"name\":\"UKMOD\",\"orientation\":\"h\",\"showlegend\":true,\"x\":[2022,2023,2024,2025],\"xaxis\":\"x\",\"y\":[161197000000.0,170626000000.0,178488000000.0,187865000000.0],\"yaxis\":\"y\",\"type\":\"scatter\"}],\"name\":\"Income Tax\"},{\"data\":[{\"hovertemplate\":\"\",\"legendgroup\":\"External\",\"line\":{\"color\":\"#00cc96\",\"dash\":\"solid\"},\"marker\":{\"symbol\":\"circle\"},\"mode\":\"lines\",\"name\":\"External\",\"orientation\":\"h\",\"showlegend\":true,\"x\":[2022,2023,2024,2025],\"xaxis\":\"x\",\"y\":[196000000.0,21000.0,0.0,0.0],\"yaxis\":\"y\",\"type\":\"scatter\"},{\"hovertemplate\":\"\",\"legendgroup\":\"OpenFisca-UK\",\"line\":{\"color\":\"blue\",\"dash\":\"solid\"},\"marker\":{\"symbol\":\"circle\"},\"mode\":\"lines\",\"name\":\"OpenFisca-UK\",\"orientation\":\"h\",\"showlegend\":true,\"x\":[2022,2023,2024,2025],\"xaxis\":\"x\",\"y\":[236363030.9,142514720.0,131117799.6,120507646.1],\"yaxis\":\"y\",\"type\":\"scatter\"},{\"hovertemplate\":\"\",\"legendgroup\":\"UKMOD\",\"line\":{\"color\":\"lightgrey\",\"dash\":\"solid\"},\"marker\":{\"symbol\":\"circle\"},\"mode\":\"lines\",\"name\":\"UKMOD\",\"orientation\":\"h\",\"showlegend\":true,\"x\":[2022,2023,2024,2025],\"xaxis\":\"x\",\"y\":[\"\",\"\",\"\",\"\"],\"yaxis\":\"y\",\"type\":\"scatter\"}],\"name\":\"JSA (income-based)\"},{\"data\":[{\"hovertemplate\":\"\",\"legendgroup\":\"External\",\"line\":{\"color\":\"#00cc96\",\"dash\":\"solid\"},\"marker\":{\"symbol\":\"circle\"},\"mode\":\"lines\",\"name\":\"External\",\"orientation\":\"h\",\"showlegend\":true,\"x\":[2022,2023,2024,2025],\"xaxis\":\"x\",\"y\":[151300000000.0,157500000000.0,164600000000.0,172100000000.0],\"yaxis\":\"y\",\"type\":\"scatter\"},{\"hovertemplate\":\"\",\"legendgroup\":\"OpenFisca-UK\",\"line\":{\"color\":\"blue\",\"dash\":\"solid\"},\"marker\":{\"symbol\":\"circle\"},\"mode\":\"lines\",\"name\":\"OpenFisca-UK\",\"orientation\":\"h\",\"showlegend\":true,\"x\":[2022,2023,2024,2025],\"xaxis\":\"x\",\"y\":[151394347998.8,156182140713.0,162825424926.2,169961340674.0],\"yaxis\":\"y\",\"type\":\"scatter\"},{\"hovertemplate\":\"\",\"legendgroup\":\"UKMOD\",\"line\":{\"color\":\"lightgrey\",\"dash\":\"solid\"},\"marker\":{\"symbol\":\"circle\"},\"mode\":\"lines\",\"name\":\"UKMOD\",\"orientation\":\"h\",\"showlegend\":true,\"x\":[2022,2023,2024,2025],\"xaxis\":\"x\",\"y\":[156016000000.0,145114000000.0,147890000000.0,151875000000.0],\"yaxis\":\"y\",\"type\":\"scatter\"}],\"name\":\"National Insurance (total)\"},{\"data\":[{\"hovertemplate\":\"\",\"legendgroup\":\"External\",\"line\":{\"color\":\"#00cc96\",\"dash\":\"solid\"},\"marker\":{\"symbol\":\"circle\"},\"mode\":\"lines\",\"name\":\"External\",\"orientation\":\"h\",\"showlegend\":true,\"x\":[2022,2023,2024,2025],\"xaxis\":\"x\",\"y\":[4466000000.0,4447000000.0,4379000000.0,4223000000.0],\"yaxis\":\"y\",\"type\":\"scatter\"},{\"hovertemplate\":\"\",\"legendgroup\":\"OpenFisca-UK\",\"line\":{\"color\":\"blue\",\"dash\":\"solid\"},\"marker\":{\"symbol\":\"circle\"},\"mode\":\"lines\",\"name\":\"OpenFisca-UK\",\"orientation\":\"h\",\"showlegend\":true,\"x\":[2022,2023,2024,2025],\"xaxis\":\"x\",\"y\":[3136005329.2,2944565496.6,2764686033.5,2559735127.0],\"yaxis\":\"y\",\"type\":\"scatter\"},{\"hovertemplate\":\"\",\"legendgroup\":\"UKMOD\",\"line\":{\"color\":\"lightgrey\",\"dash\":\"solid\"},\"marker\":{\"symbol\":\"circle\"},\"mode\":\"lines\",\"name\":\"UKMOD\",\"orientation\":\"h\",\"showlegend\":true,\"x\":[2022,2023,2024,2025],\"xaxis\":\"x\",\"y\":[4153000000.0,4410000000.0,4491000000.0,4466000000.0],\"yaxis\":\"y\",\"type\":\"scatter\"}],\"name\":\"Pension Credit\"},{\"data\":[{\"hovertemplate\":\"\",\"legendgroup\":\"External\",\"line\":{\"color\":\"#00cc96\",\"dash\":\"solid\"},\"marker\":{\"symbol\":\"circle\"},\"mode\":\"lines\",\"name\":\"External\",\"orientation\":\"h\",\"showlegend\":true,\"x\":[2022,2023,2024,2025],\"xaxis\":\"x\",\"y\":[43657000000.0,49751000000.0,57782000000.0,67959000000.0],\"yaxis\":\"y\",\"type\":\"scatter\"},{\"hovertemplate\":\"\",\"legendgroup\":\"OpenFisca-UK\",\"line\":{\"color\":\"blue\",\"dash\":\"solid\"},\"marker\":{\"symbol\":\"circle\"},\"mode\":\"lines\",\"name\":\"OpenFisca-UK\",\"orientation\":\"h\",\"showlegend\":true,\"x\":[2022,2023,2024,2025],\"xaxis\":\"x\",\"y\":[40602564653.3,45757679222.8,53254814130.3,66056899965.0],\"yaxis\":\"y\",\"type\":\"scatter\"},{\"hovertemplate\":\"\",\"legendgroup\":\"UKMOD\",\"line\":{\"color\":\"lightgrey\",\"dash\":\"solid\"},\"marker\":{\"symbol\":\"circle\"},\"mode\":\"lines\",\"name\":\"UKMOD\",\"orientation\":\"h\",\"showlegend\":true,\"x\":[2022,2023,2024,2025],\"xaxis\":\"x\",\"y\":[34073000000.0,39133000000.0,39133000000.0,45644000000.0],\"yaxis\":\"y\",\"type\":\"scatter\"}],\"name\":\"Universal Credit\"},{\"data\":[{\"hovertemplate\":\"\",\"legendgroup\":\"External\",\"line\":{\"color\":\"#00cc96\",\"dash\":\"solid\"},\"marker\":{\"symbol\":\"circle\"},\"mode\":\"lines\",\"name\":\"External\",\"orientation\":\"h\",\"showlegend\":true,\"x\":[2022,2023,2024,2025],\"xaxis\":\"x\",\"y\":[1644000000.0,1239127119.0,813622881.0,369101695.0],\"yaxis\":\"y\",\"type\":\"scatter\"},{\"hovertemplate\":\"\",\"legendgroup\":\"OpenFisca-UK\",\"line\":{\"color\":\"blue\",\"dash\":\"solid\"},\"marker\":{\"symbol\":\"circle\"},\"mode\":\"lines\",\"name\":\"OpenFisca-UK\",\"orientation\":\"h\",\"showlegend\":true,\"x\":[2022,2023,2024,2025],\"xaxis\":\"x\",\"y\":[2704462517.2,2337728334.5,1976331130.3,1684052832.7],\"yaxis\":\"y\",\"type\":\"scatter\"},{\"hovertemplate\":\"\",\"legendgroup\":\"UKMOD\",\"line\":{\"color\":\"lightgrey\",\"dash\":\"solid\"},\"marker\":{\"symbol\":\"circle\"},\"mode\":\"lines\",\"name\":\"UKMOD\",\"orientation\":\"h\",\"showlegend\":true,\"x\":[2022,2023,2024,2025],\"xaxis\":\"x\",\"y\":[1573000000.0,1320000000.0,897000000.0,423000000.0],\"yaxis\":\"y\",\"type\":\"scatter\"}],\"name\":\"Working Tax Credit\"}]);\n",
       "                        }).then(function(){\n",
       "                            \n",
       "var gd = document.getElementById('41d5e4fe-6088-4635-bb2a-20580b0b337a');\n",
       "var x = new MutationObserver(function (mutations, observer) {{\n",
       "        var display = window.getComputedStyle(gd).display;\n",
       "        if (!display || display === 'none') {{\n",
       "            console.log([gd, 'removed!']);\n",
       "            Plotly.purge(gd);\n",
       "            observer.disconnect();\n",
       "        }}\n",
       "}});\n",
       "\n",
       "// Listen for the removal of the full notebook cells\n",
       "var notebookContainer = gd.closest('#notebook-container');\n",
       "if (notebookContainer) {{\n",
       "    x.observe(notebookContainer, {childList: true});\n",
       "}}\n",
       "\n",
       "// Listen for the clearing of the current output cell\n",
       "var outputEl = gd.closest('.output');\n",
       "if (outputEl) {{\n",
       "    x.observe(outputEl, {childList: true});\n",
       "}}\n",
       "\n",
       "                        })                };                });            </script>        </div>"
      ]
     },
     "metadata": {},
     "output_type": "display_data"
    }
   ],
   "source": [
    "def table_to_model_comparison(table):\n",
    "    df = table.reset_index()\n",
    "    df.columns = [\"Model\", \"Year\"] + list(table.columns)\n",
    "    return (\n",
    "        pd.melt(df, id_vars=[\"Year\", \"Model\"])\n",
    "        .pivot(index=[\"Year\", \"variable\"], columns=\"Model\", values=\"value\")\n",
    "        .reset_index()\n",
    "        .rename(columns=dict(variable=\"Program\"))\n",
    "    )\n",
    "\n",
    "\n",
    "def tables_to_model_comparisons(tables):\n",
    "    dfs = []\n",
    "    for key, table in tables.items():\n",
    "        df = table_to_model_comparison(table)\n",
    "        df = df.rename(\n",
    "            columns={\n",
    "                column: f\"{column} {key}\"\n",
    "                if key != \"\" and column not in (\"Year\", \"Model\", \"Program\")\n",
    "                else column\n",
    "                for column in df.columns\n",
    "            }\n",
    "        )\n",
    "        dfs.append(df)\n",
    "    df = pd.concat(dfs, axis=1)\n",
    "    df = df.loc[:, ~df.columns.duplicated()]\n",
    "    return df\n",
    "\n",
    "\n",
    "def model_forecast_chart(table, title=None, currency=True):\n",
    "    hovertemplate = \"\"\n",
    "    df = table_to_model_comparison(table)\n",
    "    fig = (\n",
    "        px.line(\n",
    "            df,\n",
    "            animation_frame=\"Program\",\n",
    "            x=\"Year\",\n",
    "            y=[EXTERNAL, OPENFISCA_UK, UKMOD],\n",
    "            color_discrete_map={\n",
    "                OPENFISCA_UK: \"blue\",\n",
    "                UKMOD: \"lightgrey\",\n",
    "            },\n",
    "        )\n",
    "        .update_layout(\n",
    "            width=800,\n",
    "            height=600,\n",
    "            yaxis_tickprefix=\"£\" if currency else \"\",\n",
    "            title=title,\n",
    "            template=\"plotly_white\",\n",
    "            legend_title=\"Model\",\n",
    "            yaxis_title=\"\",\n",
    "            yaxis_range=(0, 20e9) if currency else (0, 10e6),\n",
    "            legend_traceorder=\"reversed\",\n",
    "            xaxis_tickvals=list(range(2022, 2026)),\n",
    "        )\n",
    "        .update_traces(hovertemplate=hovertemplate)\n",
    "    )\n",
    "    for frame in fig.frames:\n",
    "        for data in frame.data:\n",
    "            data.hovertemplate = hovertemplate\n",
    "    return fig\n",
    "\n",
    "\n",
    "model_forecast_chart(\n",
    "    model_validation_table(budgetary_impact, divisor=1, decimals=1),\n",
    "    title=\"Budgetary impact forecasts\",\n",
    ")"
   ]
  },
  {
   "cell_type": "markdown",
   "id": "e07fb9b7-62dc-40e8-a861-cff08438a545",
   "metadata": {},
   "source": [
    "### Differences\n",
    "\n",
    "#### Absolute"
   ]
  },
  {
   "cell_type": "code",
   "execution_count": 4,
   "id": "df0bef66-16e4-4a54-b912-eff54b827ba4",
   "metadata": {
    "tags": [
     "hide-input"
    ]
   },
   "outputs": [
    {
     "data": {
      "text/html": [
       "<div>\n",
       "<style scoped>\n",
       "    .dataframe tbody tr th:only-of-type {\n",
       "        vertical-align: middle;\n",
       "    }\n",
       "\n",
       "    .dataframe tbody tr th {\n",
       "        vertical-align: top;\n",
       "    }\n",
       "\n",
       "    .dataframe thead th {\n",
       "        text-align: right;\n",
       "    }\n",
       "</style>\n",
       "<table border=\"1\" class=\"dataframe\">\n",
       "  <thead>\n",
       "    <tr style=\"text-align: right;\">\n",
       "      <th></th>\n",
       "      <th></th>\n",
       "      <th>Child Benefit</th>\n",
       "      <th>Income Support</th>\n",
       "      <th>JSA (income-based)</th>\n",
       "      <th>Housing Benefit</th>\n",
       "      <th>Working Tax Credit</th>\n",
       "      <th>Child Tax Credit</th>\n",
       "      <th>Universal Credit</th>\n",
       "      <th>Pension Credit</th>\n",
       "      <th>Income Tax</th>\n",
       "      <th>National Insurance (total)</th>\n",
       "    </tr>\n",
       "  </thead>\n",
       "  <tbody>\n",
       "    <tr>\n",
       "      <th rowspan=\"5\" valign=\"top\">OpenFisca-UK</th>\n",
       "      <th>2022</th>\n",
       "      <td>0.7</td>\n",
       "      <td>0.1</td>\n",
       "      <td>0.0</td>\n",
       "      <td>-4.0</td>\n",
       "      <td>1.1</td>\n",
       "      <td>1.8</td>\n",
       "      <td>-3.3</td>\n",
       "      <td>-1.3</td>\n",
       "      <td>-1.7</td>\n",
       "      <td>0.1</td>\n",
       "    </tr>\n",
       "    <tr>\n",
       "      <th>2023</th>\n",
       "      <td>0.4</td>\n",
       "      <td>0.1</td>\n",
       "      <td>0.1</td>\n",
       "      <td>-4.0</td>\n",
       "      <td>1.1</td>\n",
       "      <td>1.7</td>\n",
       "      <td>-4.3</td>\n",
       "      <td>-1.5</td>\n",
       "      <td>-1.6</td>\n",
       "      <td>-1.3</td>\n",
       "    </tr>\n",
       "    <tr>\n",
       "      <th>2024</th>\n",
       "      <td>0.3</td>\n",
       "      <td>-0.0</td>\n",
       "      <td>0.1</td>\n",
       "      <td>-3.3</td>\n",
       "      <td>1.2</td>\n",
       "      <td>1.8</td>\n",
       "      <td>-4.8</td>\n",
       "      <td>-1.6</td>\n",
       "      <td>-1.7</td>\n",
       "      <td>-1.8</td>\n",
       "    </tr>\n",
       "    <tr>\n",
       "      <th>2025</th>\n",
       "      <td>0.4</td>\n",
       "      <td>-0.2</td>\n",
       "      <td>0.1</td>\n",
       "      <td>-2.7</td>\n",
       "      <td>1.3</td>\n",
       "      <td>2.3</td>\n",
       "      <td>-2.1</td>\n",
       "      <td>-1.7</td>\n",
       "      <td>-2.3</td>\n",
       "      <td>-2.1</td>\n",
       "    </tr>\n",
       "    <tr>\n",
       "      <th>2026</th>\n",
       "      <td>0.4</td>\n",
       "      <td>-0.3</td>\n",
       "      <td>0.1</td>\n",
       "      <td>-2.1</td>\n",
       "      <td>1.4</td>\n",
       "      <td>2.6</td>\n",
       "      <td>-3.0</td>\n",
       "      <td>-1.7</td>\n",
       "      <td>-1.6</td>\n",
       "      <td>0.1</td>\n",
       "    </tr>\n",
       "    <tr>\n",
       "      <th rowspan=\"5\" valign=\"top\">UKMOD</th>\n",
       "      <th>2022</th>\n",
       "      <td>0.8</td>\n",
       "      <td></td>\n",
       "      <td></td>\n",
       "      <td>-5.6</td>\n",
       "      <td>-0.1</td>\n",
       "      <td>-0.6</td>\n",
       "      <td>-9.6</td>\n",
       "      <td>-0.3</td>\n",
       "      <td>-43.8</td>\n",
       "      <td>4.7</td>\n",
       "    </tr>\n",
       "    <tr>\n",
       "      <th>2023</th>\n",
       "      <td>0.8</td>\n",
       "      <td></td>\n",
       "      <td></td>\n",
       "      <td>-5.1</td>\n",
       "      <td>0.1</td>\n",
       "      <td>0.1</td>\n",
       "      <td>-10.6</td>\n",
       "      <td>-0.0</td>\n",
       "      <td>-44.4</td>\n",
       "      <td>-12.4</td>\n",
       "    </tr>\n",
       "    <tr>\n",
       "      <th>2024</th>\n",
       "      <td>0.9</td>\n",
       "      <td></td>\n",
       "      <td></td>\n",
       "      <td>-4.0</td>\n",
       "      <td>0.1</td>\n",
       "      <td>0.3</td>\n",
       "      <td>-18.6</td>\n",
       "      <td>0.1</td>\n",
       "      <td>-47.2</td>\n",
       "      <td>-16.7</td>\n",
       "    </tr>\n",
       "    <tr>\n",
       "      <th>2025</th>\n",
       "      <td>1.0</td>\n",
       "      <td></td>\n",
       "      <td></td>\n",
       "      <td>-3.5</td>\n",
       "      <td>0.1</td>\n",
       "      <td>0.1</td>\n",
       "      <td>-22.3</td>\n",
       "      <td>0.2</td>\n",
       "      <td>-49.6</td>\n",
       "      <td>-20.2</td>\n",
       "    </tr>\n",
       "    <tr>\n",
       "      <th>2026</th>\n",
       "      <td>1.0</td>\n",
       "      <td></td>\n",
       "      <td></td>\n",
       "      <td>-1.5</td>\n",
       "      <td>0.4</td>\n",
       "      <td>1.2</td>\n",
       "      <td>-32.2</td>\n",
       "      <td>0.3</td>\n",
       "      <td>-49.6</td>\n",
       "      <td>-20.2</td>\n",
       "    </tr>\n",
       "  </tbody>\n",
       "</table>\n",
       "</div>"
      ],
      "text/plain": [
       "                   Child Benefit Income Support JSA (income-based)  \\\n",
       "OpenFisca-UK 2022            0.7            0.1                0.0   \n",
       "             2023            0.4            0.1                0.1   \n",
       "             2024            0.3           -0.0                0.1   \n",
       "             2025            0.4           -0.2                0.1   \n",
       "             2026            0.4           -0.3                0.1   \n",
       "UKMOD        2022            0.8                                     \n",
       "             2023            0.8                                     \n",
       "             2024            0.9                                     \n",
       "             2025            1.0                                     \n",
       "             2026            1.0                                     \n",
       "\n",
       "                   Housing Benefit  Working Tax Credit  Child Tax Credit  \\\n",
       "OpenFisca-UK 2022             -4.0                 1.1               1.8   \n",
       "             2023             -4.0                 1.1               1.7   \n",
       "             2024             -3.3                 1.2               1.8   \n",
       "             2025             -2.7                 1.3               2.3   \n",
       "             2026             -2.1                 1.4               2.6   \n",
       "UKMOD        2022             -5.6                -0.1              -0.6   \n",
       "             2023             -5.1                 0.1               0.1   \n",
       "             2024             -4.0                 0.1               0.3   \n",
       "             2025             -3.5                 0.1               0.1   \n",
       "             2026             -1.5                 0.4               1.2   \n",
       "\n",
       "                   Universal Credit  Pension Credit  Income Tax  \\\n",
       "OpenFisca-UK 2022              -3.3            -1.3        -1.7   \n",
       "             2023              -4.3            -1.5        -1.6   \n",
       "             2024              -4.8            -1.6        -1.7   \n",
       "             2025              -2.1            -1.7        -2.3   \n",
       "             2026              -3.0            -1.7        -1.6   \n",
       "UKMOD        2022              -9.6            -0.3       -43.8   \n",
       "             2023             -10.6            -0.0       -44.4   \n",
       "             2024             -18.6             0.1       -47.2   \n",
       "             2025             -22.3             0.2       -49.6   \n",
       "             2026             -32.2             0.3       -49.6   \n",
       "\n",
       "                   National Insurance (total)  \n",
       "OpenFisca-UK 2022                         0.1  \n",
       "             2023                        -1.3  \n",
       "             2024                        -1.8  \n",
       "             2025                        -2.1  \n",
       "             2026                         0.1  \n",
       "UKMOD        2022                         4.7  \n",
       "             2023                       -12.4  \n",
       "             2024                       -16.7  \n",
       "             2025                       -20.2  \n",
       "             2026                       -20.2  "
      ]
     },
     "execution_count": 4,
     "metadata": {},
     "output_type": "execute_result"
    }
   ],
   "source": [
    "def budgetary_impact_error(model, year, variable):\n",
    "    try:\n",
    "        if model == OPENFISCA_UK:\n",
    "            return sim.calc(\n",
    "                variable, map_to=\"household\", period=year\n",
    "            ).sum() - budgetary_impact(EXTERNAL, year, variable)\n",
    "        elif model == UKMOD:\n",
    "            return getattr(ukmod_statistics.ukmod.budgetary_impact, variable)(\n",
    "                f\"{year}-01-01\"\n",
    "            ) - budgetary_impact(EXTERNAL, year, variable)\n",
    "    except:\n",
    "        return np.nan\n",
    "\n",
    "\n",
    "model_validation_table(\n",
    "    budgetary_impact_error,\n",
    "    models=[OPENFISCA_UK, UKMOD],\n",
    "    divisor=1e9,\n",
    "    decimals=1,\n",
    ")"
   ]
  },
  {
   "cell_type": "markdown",
   "id": "3faf63e8-f932-49df-9329-fa772cb33837",
   "metadata": {},
   "source": [
    "#### Relative"
   ]
  },
  {
   "cell_type": "code",
   "execution_count": 5,
   "id": "bfd19045-2851-47aa-861e-3f10d972b522",
   "metadata": {
    "tags": [
     "hide-input"
    ]
   },
   "outputs": [
    {
     "data": {
      "text/html": [
       "<div>\n",
       "<style scoped>\n",
       "    .dataframe tbody tr th:only-of-type {\n",
       "        vertical-align: middle;\n",
       "    }\n",
       "\n",
       "    .dataframe tbody tr th {\n",
       "        vertical-align: top;\n",
       "    }\n",
       "\n",
       "    .dataframe thead th {\n",
       "        text-align: right;\n",
       "    }\n",
       "</style>\n",
       "<table border=\"1\" class=\"dataframe\">\n",
       "  <thead>\n",
       "    <tr style=\"text-align: right;\">\n",
       "      <th></th>\n",
       "      <th></th>\n",
       "      <th>Child Benefit</th>\n",
       "      <th>Income Support</th>\n",
       "      <th>JSA (income-based)</th>\n",
       "      <th>Housing Benefit</th>\n",
       "      <th>Working Tax Credit</th>\n",
       "      <th>Child Tax Credit</th>\n",
       "      <th>Universal Credit</th>\n",
       "      <th>Pension Credit</th>\n",
       "      <th>Income Tax</th>\n",
       "      <th>National Insurance (total)</th>\n",
       "    </tr>\n",
       "  </thead>\n",
       "  <tbody>\n",
       "    <tr>\n",
       "      <th rowspan=\"5\" valign=\"top\">OpenFisca-UK</th>\n",
       "      <th>2022</th>\n",
       "      <td>6.7</td>\n",
       "      <td>21.6</td>\n",
       "      <td>21.8</td>\n",
       "      <td>-25.1</td>\n",
       "      <td>64.7</td>\n",
       "      <td>30.2</td>\n",
       "      <td>-7.5</td>\n",
       "      <td>-29.9</td>\n",
       "      <td>-0.8</td>\n",
       "      <td>0.1</td>\n",
       "    </tr>\n",
       "    <tr>\n",
       "      <th>2023</th>\n",
       "      <td>3.8</td>\n",
       "      <td>24.6</td>\n",
       "      <td>694171.0</td>\n",
       "      <td>-26.8</td>\n",
       "      <td>88.9</td>\n",
       "      <td>37.4</td>\n",
       "      <td>-8.5</td>\n",
       "      <td>-33.9</td>\n",
       "      <td>-0.8</td>\n",
       "      <td>-0.8</td>\n",
       "    </tr>\n",
       "    <tr>\n",
       "      <th>2024</th>\n",
       "      <td>2.3</td>\n",
       "      <td>-8.8</td>\n",
       "      <td>inf</td>\n",
       "      <td>-26.2</td>\n",
       "      <td>143.3</td>\n",
       "      <td>62.0</td>\n",
       "      <td>-8.3</td>\n",
       "      <td>-37.0</td>\n",
       "      <td>-0.7</td>\n",
       "      <td>-1.1</td>\n",
       "    </tr>\n",
       "    <tr>\n",
       "      <th>2025</th>\n",
       "      <td>3.6</td>\n",
       "      <td>-46.1</td>\n",
       "      <td>inf</td>\n",
       "      <td>-26.0</td>\n",
       "      <td>356.9</td>\n",
       "      <td>174.7</td>\n",
       "      <td>-3.1</td>\n",
       "      <td>-39.5</td>\n",
       "      <td>-1.0</td>\n",
       "      <td>-1.2</td>\n",
       "    </tr>\n",
       "    <tr>\n",
       "      <th>2026</th>\n",
       "      <td>3.4</td>\n",
       "      <td>-75.5</td>\n",
       "      <td>inf</td>\n",
       "      <td>-25.3</td>\n",
       "      <td>2112.8</td>\n",
       "      <td>1090.6</td>\n",
       "      <td>-3.9</td>\n",
       "      <td>-41.5</td>\n",
       "      <td>-0.7</td>\n",
       "      <td>0.0</td>\n",
       "    </tr>\n",
       "    <tr>\n",
       "      <th rowspan=\"5\" valign=\"top\">UKMOD</th>\n",
       "      <th>2022</th>\n",
       "      <td>6.7</td>\n",
       "      <td></td>\n",
       "      <td></td>\n",
       "      <td>-35.0</td>\n",
       "      <td>-4.3</td>\n",
       "      <td>-10.2</td>\n",
       "      <td>-22.0</td>\n",
       "      <td>-7.0</td>\n",
       "      <td>-21.4</td>\n",
       "      <td>3.1</td>\n",
       "    </tr>\n",
       "    <tr>\n",
       "      <th>2023</th>\n",
       "      <td>6.8</td>\n",
       "      <td></td>\n",
       "      <td></td>\n",
       "      <td>-34.7</td>\n",
       "      <td>6.5</td>\n",
       "      <td>1.1</td>\n",
       "      <td>-21.3</td>\n",
       "      <td>-0.8</td>\n",
       "      <td>-20.6</td>\n",
       "      <td>-7.9</td>\n",
       "    </tr>\n",
       "    <tr>\n",
       "      <th>2024</th>\n",
       "      <td>7.9</td>\n",
       "      <td></td>\n",
       "      <td></td>\n",
       "      <td>-32.2</td>\n",
       "      <td>10.2</td>\n",
       "      <td>11.4</td>\n",
       "      <td>-32.3</td>\n",
       "      <td>2.6</td>\n",
       "      <td>-20.9</td>\n",
       "      <td>-10.2</td>\n",
       "    </tr>\n",
       "    <tr>\n",
       "      <th>2025</th>\n",
       "      <td>8.2</td>\n",
       "      <td></td>\n",
       "      <td></td>\n",
       "      <td>-34.3</td>\n",
       "      <td>14.6</td>\n",
       "      <td>9.1</td>\n",
       "      <td>-32.8</td>\n",
       "      <td>5.8</td>\n",
       "      <td>-20.9</td>\n",
       "      <td>-11.8</td>\n",
       "    </tr>\n",
       "    <tr>\n",
       "      <th>2026</th>\n",
       "      <td>8.4</td>\n",
       "      <td></td>\n",
       "      <td></td>\n",
       "      <td>-18.2</td>\n",
       "      <td>546.0</td>\n",
       "      <td>515.1</td>\n",
       "      <td>-41.3</td>\n",
       "      <td>8.2</td>\n",
       "      <td>-20.9</td>\n",
       "      <td>-11.8</td>\n",
       "    </tr>\n",
       "  </tbody>\n",
       "</table>\n",
       "</div>"
      ],
      "text/plain": [
       "                   Child Benefit Income Support JSA (income-based)  \\\n",
       "OpenFisca-UK 2022            6.7           21.6               21.8   \n",
       "             2023            3.8           24.6           694171.0   \n",
       "             2024            2.3           -8.8                inf   \n",
       "             2025            3.6          -46.1                inf   \n",
       "             2026            3.4          -75.5                inf   \n",
       "UKMOD        2022            6.7                                     \n",
       "             2023            6.8                                     \n",
       "             2024            7.9                                     \n",
       "             2025            8.2                                     \n",
       "             2026            8.4                                     \n",
       "\n",
       "                   Housing Benefit  Working Tax Credit  Child Tax Credit  \\\n",
       "OpenFisca-UK 2022            -25.1                64.7              30.2   \n",
       "             2023            -26.8                88.9              37.4   \n",
       "             2024            -26.2               143.3              62.0   \n",
       "             2025            -26.0               356.9             174.7   \n",
       "             2026            -25.3              2112.8            1090.6   \n",
       "UKMOD        2022            -35.0                -4.3             -10.2   \n",
       "             2023            -34.7                 6.5               1.1   \n",
       "             2024            -32.2                10.2              11.4   \n",
       "             2025            -34.3                14.6               9.1   \n",
       "             2026            -18.2               546.0             515.1   \n",
       "\n",
       "                   Universal Credit  Pension Credit  Income Tax  \\\n",
       "OpenFisca-UK 2022              -7.5           -29.9        -0.8   \n",
       "             2023              -8.5           -33.9        -0.8   \n",
       "             2024              -8.3           -37.0        -0.7   \n",
       "             2025              -3.1           -39.5        -1.0   \n",
       "             2026              -3.9           -41.5        -0.7   \n",
       "UKMOD        2022             -22.0            -7.0       -21.4   \n",
       "             2023             -21.3            -0.8       -20.6   \n",
       "             2024             -32.3             2.6       -20.9   \n",
       "             2025             -32.8             5.8       -20.9   \n",
       "             2026             -41.3             8.2       -20.9   \n",
       "\n",
       "                   National Insurance (total)  \n",
       "OpenFisca-UK 2022                         0.1  \n",
       "             2023                        -0.8  \n",
       "             2024                        -1.1  \n",
       "             2025                        -1.2  \n",
       "             2026                         0.0  \n",
       "UKMOD        2022                         3.1  \n",
       "             2023                        -7.9  \n",
       "             2024                       -10.2  \n",
       "             2025                       -11.8  \n",
       "             2026                       -11.8  "
      ]
     },
     "execution_count": 5,
     "metadata": {},
     "output_type": "execute_result"
    }
   ],
   "source": [
    "def relative_budgetary_impact_error(model, year, variable):\n",
    "    try:\n",
    "        if model == OPENFISCA_UK:\n",
    "            return (\n",
    "                sim.calc(variable, map_to=\"household\", period=year).sum()\n",
    "                / budgetary_impact(EXTERNAL, year, variable)\n",
    "                - 1\n",
    "            )\n",
    "        elif model == UKMOD:\n",
    "            return (\n",
    "                getattr(ukmod_statistics.ukmod.budgetary_impact, variable)(\n",
    "                    f\"{year}-01-01\"\n",
    "                )\n",
    "                / budgetary_impact(EXTERNAL, year, variable)\n",
    "                - 1\n",
    "            )\n",
    "    except:\n",
    "        return np.nan\n",
    "\n",
    "\n",
    "model_validation_table(\n",
    "    relative_budgetary_impact_error,\n",
    "    models=[OPENFISCA_UK, UKMOD],\n",
    "    divisor=1e-2,\n",
    "    decimals=1,\n",
    ")"
   ]
  },
  {
   "cell_type": "code",
   "execution_count": 6,
   "id": "fb725740-888f-477b-9aa4-dca99796cd20",
   "metadata": {
    "tags": [
     "hide-input"
    ]
   },
   "outputs": [
    {
     "data": {
      "application/vnd.plotly.v1+json": {
       "config": {
        "plotlyServerURL": "https://plot.ly"
       },
       "data": [
        {
         "alignmentgroup": "True",
         "customdata": [
          [
           151.4,
           156,
           151.3,
           2022,
           "National Insurance (total)"
          ],
          [
           12,
           12,
           11.2,
           2022,
           "Child Benefit"
          ],
          [
           2.7,
           1.6,
           1.6,
           2022,
           "Working Tax Credit"
          ],
          [
           3.1,
           4.2,
           4.5,
           2022,
           "Pension Credit"
          ],
          [
           203.3,
           161.2,
           205,
           2022,
           "Income Tax"
          ],
          [
           7.8,
           5.4,
           6,
           2022,
           "Child Tax Credit"
          ],
          [
           40.4,
           34.1,
           43.7,
           2022,
           "Universal Credit"
          ],
          [
           11.9,
           10.3,
           15.9,
           2022,
           "Housing Benefit"
          ]
         ],
         "hovertemplate": "<b>%{customdata[4]} in %{customdata[3]}</b><br>Error: %{x}<br>Official: £%{customdata[2]}bn<br>OpenFisca-UK: £%{customdata[0]}bn<br>UKMOD: £%{customdata[1]}bn",
         "legendgroup": "OpenFisca-UK",
         "marker": {
          "color": "blue",
          "pattern": {
           "shape": ""
          }
         },
         "name": "OpenFisca-UK",
         "offsetgroup": "OpenFisca-UK",
         "orientation": "h",
         "showlegend": true,
         "textposition": "auto",
         "type": "bar",
         "x": [
          121699556.19399999,
          748920927.1810001,
          1064361369.9339999,
          1335539542.796,
          1738175489.726,
          1808874126.725,
          3272935257.5759997,
          3981540083.479
         ],
         "xaxis": "x",
         "y": [
          "National Insurance (total)",
          "Child Benefit",
          "Working Tax Credit",
          "Pension Credit",
          "Income Tax",
          "Child Tax Credit",
          "Universal Credit",
          "Housing Benefit"
         ],
         "yaxis": "y"
        },
        {
         "alignmentgroup": "True",
         "customdata": [
          [
           151.4,
           156,
           151.3,
           2022,
           "National Insurance (total)"
          ],
          [
           12,
           12,
           11.2,
           2022,
           "Child Benefit"
          ],
          [
           2.7,
           1.6,
           1.6,
           2022,
           "Working Tax Credit"
          ],
          [
           3.1,
           4.2,
           4.5,
           2022,
           "Pension Credit"
          ],
          [
           203.3,
           161.2,
           205,
           2022,
           "Income Tax"
          ],
          [
           7.8,
           5.4,
           6,
           2022,
           "Child Tax Credit"
          ],
          [
           40.4,
           34.1,
           43.7,
           2022,
           "Universal Credit"
          ],
          [
           11.9,
           10.3,
           15.9,
           2022,
           "Housing Benefit"
          ]
         ],
         "hovertemplate": "<b>%{customdata[4]} in %{customdata[3]}</b><br>Error: %{x}<br>Official: £%{customdata[2]}bn<br>OpenFisca-UK: £%{customdata[0]}bn<br>UKMOD: £%{customdata[1]}bn",
         "legendgroup": "UKMOD",
         "marker": {
          "color": "lightgrey",
          "pattern": {
           "shape": ""
          }
         },
         "name": "UKMOD",
         "offsetgroup": "UKMOD",
         "orientation": "h",
         "showlegend": true,
         "textposition": "auto",
         "type": "bar",
         "x": [
          4716000000,
          750000000,
          71000000,
          313000000,
          43803000000,
          613000000,
          9584000000,
          5562000000
         ],
         "xaxis": "x",
         "y": [
          "National Insurance (total)",
          "Child Benefit",
          "Working Tax Credit",
          "Pension Credit",
          "Income Tax",
          "Child Tax Credit",
          "Universal Credit",
          "Housing Benefit"
         ],
         "yaxis": "y"
        }
       ],
       "frames": [
        {
         "data": [
          {
           "alignmentgroup": "True",
           "customdata": [
            [
             151.4,
             156,
             151.3,
             2022,
             "National Insurance (total)"
            ],
            [
             12,
             12,
             11.2,
             2022,
             "Child Benefit"
            ],
            [
             2.7,
             1.6,
             1.6,
             2022,
             "Working Tax Credit"
            ],
            [
             3.1,
             4.2,
             4.5,
             2022,
             "Pension Credit"
            ],
            [
             203.3,
             161.2,
             205,
             2022,
             "Income Tax"
            ],
            [
             7.8,
             5.4,
             6,
             2022,
             "Child Tax Credit"
            ],
            [
             40.4,
             34.1,
             43.7,
             2022,
             "Universal Credit"
            ],
            [
             11.9,
             10.3,
             15.9,
             2022,
             "Housing Benefit"
            ]
           ],
           "hovertemplate": "<b>%{customdata[4]} in %{customdata[3]}</b><br>Error: %{x}<br>Official: £%{customdata[2]}bn<br>OpenFisca-UK: £%{customdata[0]}bn<br>UKMOD: £%{customdata[1]}bn",
           "legendgroup": "OpenFisca-UK",
           "marker": {
            "color": "blue",
            "pattern": {
             "shape": ""
            }
           },
           "name": "OpenFisca-UK",
           "offsetgroup": "OpenFisca-UK",
           "orientation": "h",
           "showlegend": true,
           "textposition": "auto",
           "type": "bar",
           "x": [
            121699556.19399999,
            748920927.1810001,
            1064361369.9339999,
            1335539542.796,
            1738175489.726,
            1808874126.725,
            3272935257.5759997,
            3981540083.479
           ],
           "xaxis": "x",
           "y": [
            "National Insurance (total)",
            "Child Benefit",
            "Working Tax Credit",
            "Pension Credit",
            "Income Tax",
            "Child Tax Credit",
            "Universal Credit",
            "Housing Benefit"
           ],
           "yaxis": "y"
          },
          {
           "alignmentgroup": "True",
           "customdata": [
            [
             151.4,
             156,
             151.3,
             2022,
             "National Insurance (total)"
            ],
            [
             12,
             12,
             11.2,
             2022,
             "Child Benefit"
            ],
            [
             2.7,
             1.6,
             1.6,
             2022,
             "Working Tax Credit"
            ],
            [
             3.1,
             4.2,
             4.5,
             2022,
             "Pension Credit"
            ],
            [
             203.3,
             161.2,
             205,
             2022,
             "Income Tax"
            ],
            [
             7.8,
             5.4,
             6,
             2022,
             "Child Tax Credit"
            ],
            [
             40.4,
             34.1,
             43.7,
             2022,
             "Universal Credit"
            ],
            [
             11.9,
             10.3,
             15.9,
             2022,
             "Housing Benefit"
            ]
           ],
           "hovertemplate": "<b>%{customdata[4]} in %{customdata[3]}</b><br>Error: %{x}<br>Official: £%{customdata[2]}bn<br>OpenFisca-UK: £%{customdata[0]}bn<br>UKMOD: £%{customdata[1]}bn",
           "legendgroup": "UKMOD",
           "marker": {
            "color": "lightgrey",
            "pattern": {
             "shape": ""
            }
           },
           "name": "UKMOD",
           "offsetgroup": "UKMOD",
           "orientation": "h",
           "showlegend": true,
           "textposition": "auto",
           "type": "bar",
           "x": [
            4716000000,
            750000000,
            71000000,
            313000000,
            43803000000,
            613000000,
            9584000000,
            5562000000
           ],
           "xaxis": "x",
           "y": [
            "National Insurance (total)",
            "Child Benefit",
            "Working Tax Credit",
            "Pension Credit",
            "Income Tax",
            "Child Tax Credit",
            "Universal Credit",
            "Housing Benefit"
           ],
           "yaxis": "y"
          }
         ],
         "name": "2022"
        },
        {
         "data": [
          {
           "alignmentgroup": "True",
           "customdata": [
            [
             12,
             12.3,
             11.5,
             2023,
             "Child Benefit"
            ],
            [
             2.3,
             1.3,
             1.2,
             2023,
             "Working Tax Credit"
            ],
            [
             156.2,
             145.1,
             157.5,
             2023,
             "National Insurance (total)"
            ],
            [
             2.9,
             4.4,
             4.4,
             2023,
             "Pension Credit"
            ],
            [
             213.4,
             170.6,
             215,
             2023,
             "Income Tax"
            ],
            [
             6.2,
             4.5,
             4.5,
             2023,
             "Child Tax Credit"
            ],
            [
             10.8,
             9.6,
             14.7,
             2023,
             "Housing Benefit"
            ],
            [
             45.5,
             39.1,
             49.8,
             2023,
             "Universal Credit"
            ]
           ],
           "hovertemplate": "<b>%{customdata[4]} in %{customdata[3]}</b><br>Error: %{x}<br>Official: £%{customdata[2]}bn<br>OpenFisca-UK: £%{customdata[0]}bn<br>UKMOD: £%{customdata[1]}bn",
           "legendgroup": "OpenFisca-UK",
           "marker": {
            "color": "blue",
            "pattern": {
             "shape": ""
            }
           },
           "name": "OpenFisca-UK",
           "offsetgroup": "OpenFisca-UK",
           "orientation": "h",
           "showlegend": true,
           "textposition": "auto",
           "type": "bar",
           "x": [
            442141570.52099997,
            1102153866.26,
            1313439231.58,
            1507673031.145,
            1626053279.7979999,
            1683098485.784,
            3953975417.521,
            4250952446.4909997
           ],
           "xaxis": "x",
           "y": [
            "Child Benefit",
            "Working Tax Credit",
            "National Insurance (total)",
            "Pension Credit",
            "Income Tax",
            "Child Tax Credit",
            "Housing Benefit",
            "Universal Credit"
           ],
           "yaxis": "y"
          },
          {
           "alignmentgroup": "True",
           "customdata": [
            [
             12,
             12.3,
             11.5,
             2023,
             "Child Benefit"
            ],
            [
             2.3,
             1.3,
             1.2,
             2023,
             "Working Tax Credit"
            ],
            [
             156.2,
             145.1,
             157.5,
             2023,
             "National Insurance (total)"
            ],
            [
             2.9,
             4.4,
             4.4,
             2023,
             "Pension Credit"
            ],
            [
             213.4,
             170.6,
             215,
             2023,
             "Income Tax"
            ],
            [
             6.2,
             4.5,
             4.5,
             2023,
             "Child Tax Credit"
            ],
            [
             10.8,
             9.6,
             14.7,
             2023,
             "Housing Benefit"
            ],
            [
             45.5,
             39.1,
             49.8,
             2023,
             "Universal Credit"
            ]
           ],
           "hovertemplate": "<b>%{customdata[4]} in %{customdata[3]}</b><br>Error: %{x}<br>Official: £%{customdata[2]}bn<br>OpenFisca-UK: £%{customdata[0]}bn<br>UKMOD: £%{customdata[1]}bn",
           "legendgroup": "UKMOD",
           "marker": {
            "color": "lightgrey",
            "pattern": {
             "shape": ""
            }
           },
           "name": "UKMOD",
           "offsetgroup": "UKMOD",
           "orientation": "h",
           "showlegend": true,
           "textposition": "auto",
           "type": "bar",
           "x": [
            785000000,
            80872881,
            12386000000,
            37000000,
            44374000000,
            51127119,
            5106000000,
            10618000000
           ],
           "xaxis": "x",
           "y": [
            "Child Benefit",
            "Working Tax Credit",
            "National Insurance (total)",
            "Pension Credit",
            "Income Tax",
            "Child Tax Credit",
            "Housing Benefit",
            "Universal Credit"
           ],
           "yaxis": "y"
          }
         ],
         "name": "2023"
        },
        {
         "data": [
          {
           "alignmentgroup": "True",
           "customdata": [
            [
             11.9,
             12.5,
             11.6,
             2024,
             "Child Benefit"
            ],
            [
             2,
             0.9,
             0.8,
             2024,
             "Working Tax Credit"
            ],
            [
             2.8,
             4.5,
             4.4,
             2024,
             "Pension Credit"
            ],
            [
             224,
             178.5,
             225.7,
             2024,
             "Income Tax"
            ],
            [
             162.8,
             147.9,
             164.6,
             2024,
             "National Insurance (total)"
            ],
            [
             4.8,
             3.3,
             3,
             2024,
             "Child Tax Credit"
            ],
            [
             9.2,
             8.5,
             12.5,
             2024,
             "Housing Benefit"
            ],
            [
             53,
             39.1,
             57.8,
             2024,
             "Universal Credit"
            ]
           ],
           "hovertemplate": "<b>%{customdata[4]} in %{customdata[3]}</b><br>Error: %{x}<br>Official: £%{customdata[2]}bn<br>OpenFisca-UK: £%{customdata[0]}bn<br>UKMOD: £%{customdata[1]}bn",
           "legendgroup": "OpenFisca-UK",
           "marker": {
            "color": "blue",
            "pattern": {
             "shape": ""
            }
           },
           "name": "OpenFisca-UK",
           "offsetgroup": "OpenFisca-UK",
           "orientation": "h",
           "showlegend": true,
           "textposition": "auto",
           "type": "bar",
           "x": [
            267072095.35099998,
            1165611260.2,
            1618319856.4889998,
            1671020582.736,
            1776927255.6239998,
            1830010423.016,
            3271408255.7609997,
            4821693652.327
           ],
           "xaxis": "x",
           "y": [
            "Child Benefit",
            "Working Tax Credit",
            "Pension Credit",
            "Income Tax",
            "National Insurance (total)",
            "Child Tax Credit",
            "Housing Benefit",
            "Universal Credit"
           ],
           "yaxis": "y"
          },
          {
           "alignmentgroup": "True",
           "customdata": [
            [
             11.9,
             12.5,
             11.6,
             2024,
             "Child Benefit"
            ],
            [
             2,
             0.9,
             0.8,
             2024,
             "Working Tax Credit"
            ],
            [
             2.8,
             4.5,
             4.4,
             2024,
             "Pension Credit"
            ],
            [
             224,
             178.5,
             225.7,
             2024,
             "Income Tax"
            ],
            [
             162.8,
             147.9,
             164.6,
             2024,
             "National Insurance (total)"
            ],
            [
             4.8,
             3.3,
             3,
             2024,
             "Child Tax Credit"
            ],
            [
             9.2,
             8.5,
             12.5,
             2024,
             "Housing Benefit"
            ],
            [
             53,
             39.1,
             57.8,
             2024,
             "Universal Credit"
            ]
           ],
           "hovertemplate": "<b>%{customdata[4]} in %{customdata[3]}</b><br>Error: %{x}<br>Official: £%{customdata[2]}bn<br>OpenFisca-UK: £%{customdata[0]}bn<br>UKMOD: £%{customdata[1]}bn",
           "legendgroup": "UKMOD",
           "marker": {
            "color": "lightgrey",
            "pattern": {
             "shape": ""
            }
           },
           "name": "UKMOD",
           "offsetgroup": "UKMOD",
           "orientation": "h",
           "showlegend": true,
           "textposition": "auto",
           "type": "bar",
           "x": [
            921000000,
            83377119,
            112000000,
            47212000000,
            16710000000,
            335622881,
            4027000000,
            18649000000
           ],
           "xaxis": "x",
           "y": [
            "Child Benefit",
            "Working Tax Credit",
            "Pension Credit",
            "Income Tax",
            "National Insurance (total)",
            "Child Tax Credit",
            "Housing Benefit",
            "Universal Credit"
           ],
           "yaxis": "y"
          }
         ],
         "name": "2024"
        },
        {
         "data": [
          {
           "alignmentgroup": "True",
           "customdata": [
            [
             12,
             12.6,
             11.6,
             2025,
             "Child Benefit"
            ],
            [
             1.7,
             0.4,
             0.4,
             2025,
             "Working Tax Credit"
            ],
            [
             2.6,
             4.5,
             4.2,
             2025,
             "Pension Credit"
            ],
            [
             65.9,
             45.6,
             68,
             2025,
             "Universal Credit"
            ],
            [
             170,
             151.9,
             172.1,
             2025,
             "National Insurance (total)"
            ],
            [
             235.2,
             187.9,
             237.5,
             2025,
             "Income Tax"
            ],
            [
             3.7,
             1.5,
             1.3,
             2025,
             "Child Tax Credit"
            ],
            [
             7.6,
             6.7,
             10.2,
             2025,
             "Housing Benefit"
            ]
           ],
           "hovertemplate": "<b>%{customdata[4]} in %{customdata[3]}</b><br>Error: %{x}<br>Official: £%{customdata[2]}bn<br>OpenFisca-UK: £%{customdata[0]}bn<br>UKMOD: £%{customdata[1]}bn",
           "legendgroup": "OpenFisca-UK",
           "marker": {
            "color": "blue",
            "pattern": {
             "shape": ""
            }
           },
           "name": "OpenFisca-UK",
           "offsetgroup": "OpenFisca-UK",
           "orientation": "h",
           "showlegend": true,
           "textposition": "auto",
           "type": "bar",
           "x": [
            415906594.33,
            1317467712.765,
            1667082569.4320002,
            2090669198.756,
            2149961892.889,
            2274787410.876,
            2339288567.108,
            2653183089.251
           ],
           "xaxis": "x",
           "y": [
            "Child Benefit",
            "Working Tax Credit",
            "Pension Credit",
            "Universal Credit",
            "National Insurance (total)",
            "Income Tax",
            "Child Tax Credit",
            "Housing Benefit"
           ],
           "yaxis": "y"
          },
          {
           "alignmentgroup": "True",
           "customdata": [
            [
             12,
             12.6,
             11.6,
             2025,
             "Child Benefit"
            ],
            [
             1.7,
             0.4,
             0.4,
             2025,
             "Working Tax Credit"
            ],
            [
             2.6,
             4.5,
             4.2,
             2025,
             "Pension Credit"
            ],
            [
             65.9,
             45.6,
             68,
             2025,
             "Universal Credit"
            ],
            [
             170,
             151.9,
             172.1,
             2025,
             "National Insurance (total)"
            ],
            [
             235.2,
             187.9,
             237.5,
             2025,
             "Income Tax"
            ],
            [
             3.7,
             1.5,
             1.3,
             2025,
             "Child Tax Credit"
            ],
            [
             7.6,
             6.7,
             10.2,
             2025,
             "Housing Benefit"
            ]
           ],
           "hovertemplate": "<b>%{customdata[4]} in %{customdata[3]}</b><br>Error: %{x}<br>Official: £%{customdata[2]}bn<br>OpenFisca-UK: £%{customdata[0]}bn<br>UKMOD: £%{customdata[1]}bn",
           "legendgroup": "UKMOD",
           "marker": {
            "color": "lightgrey",
            "pattern": {
             "shape": ""
            }
           },
           "name": "UKMOD",
           "offsetgroup": "UKMOD",
           "orientation": "h",
           "showlegend": true,
           "textposition": "auto",
           "type": "bar",
           "x": [
            952000000,
            53898305,
            243000000,
            22315000000,
            20225000000,
            49635000000,
            122101695,
            3507000000
           ],
           "xaxis": "x",
           "y": [
            "Child Benefit",
            "Working Tax Credit",
            "Pension Credit",
            "Universal Credit",
            "National Insurance (total)",
            "Income Tax",
            "Child Tax Credit",
            "Housing Benefit"
           ],
           "yaxis": "y"
          }
         ],
         "name": "2025"
        },
        {
         "data": [
          {
           "alignmentgroup": "True",
           "customdata": [
            [
             172.2,
             151.9,
             172.1,
             2026,
             "National Insurance (total)"
            ],
            [
             12,
             12.6,
             11.6,
             2026,
             "Child Benefit"
            ],
            [
             1.4,
             0.4,
             0.1,
             2026,
             "Working Tax Credit"
            ],
            [
             235.9,
             187.9,
             237.5,
             2026,
             "Income Tax"
            ],
            [
             2.4,
             4.5,
             4.1,
             2026,
             "Pension Credit"
            ],
            [
             6.1,
             6.7,
             8.2,
             2026,
             "Housing Benefit"
            ],
            [
             2.8,
             1.5,
             0.2,
             2026,
             "Child Tax Credit"
            ],
            [
             74.8,
             45.6,
             77.8,
             2026,
             "Universal Credit"
            ]
           ],
           "hovertemplate": "<b>%{customdata[4]} in %{customdata[3]}</b><br>Error: %{x}<br>Official: £%{customdata[2]}bn<br>OpenFisca-UK: £%{customdata[0]}bn<br>UKMOD: £%{customdata[1]}bn",
           "legendgroup": "OpenFisca-UK",
           "marker": {
            "color": "blue",
            "pattern": {
             "shape": ""
            }
           },
           "name": "OpenFisca-UK",
           "offsetgroup": "OpenFisca-UK",
           "orientation": "h",
           "showlegend": true,
           "textposition": "auto",
           "type": "bar",
           "x": [
            68335127.598,
            398362217.759,
            1383432442.994,
            1577157335.341,
            1711536804.585,
            2071128382.529,
            2590310855.128,
            3039905373.0990005
           ],
           "xaxis": "x",
           "y": [
            "National Insurance (total)",
            "Child Benefit",
            "Working Tax Credit",
            "Income Tax",
            "Pension Credit",
            "Housing Benefit",
            "Child Tax Credit",
            "Universal Credit"
           ],
           "yaxis": "y"
          },
          {
           "alignmentgroup": "True",
           "customdata": [
            [
             172.2,
             151.9,
             172.1,
             2026,
             "National Insurance (total)"
            ],
            [
             12,
             12.6,
             11.6,
             2026,
             "Child Benefit"
            ],
            [
             1.4,
             0.4,
             0.1,
             2026,
             "Working Tax Credit"
            ],
            [
             235.9,
             187.9,
             237.5,
             2026,
             "Income Tax"
            ],
            [
             2.4,
             4.5,
             4.1,
             2026,
             "Pension Credit"
            ],
            [
             6.1,
             6.7,
             8.2,
             2026,
             "Housing Benefit"
            ],
            [
             2.8,
             1.5,
             0.2,
             2026,
             "Child Tax Credit"
            ],
            [
             74.8,
             45.6,
             77.8,
             2026,
             "Universal Credit"
            ]
           ],
           "hovertemplate": "<b>%{customdata[4]} in %{customdata[3]}</b><br>Error: %{x}<br>Official: £%{customdata[2]}bn<br>OpenFisca-UK: £%{customdata[0]}bn<br>UKMOD: £%{customdata[1]}bn",
           "legendgroup": "UKMOD",
           "marker": {
            "color": "lightgrey",
            "pattern": {
             "shape": ""
            }
           },
           "name": "UKMOD",
           "offsetgroup": "UKMOD",
           "orientation": "h",
           "showlegend": true,
           "textposition": "auto",
           "type": "bar",
           "x": [
            20225000000,
            977000000,
            357521186,
            49635000000,
            339000000,
            1493000000,
            1223478814,
            32160000000
           ],
           "xaxis": "x",
           "y": [
            "National Insurance (total)",
            "Child Benefit",
            "Working Tax Credit",
            "Income Tax",
            "Pension Credit",
            "Housing Benefit",
            "Child Tax Credit",
            "Universal Credit"
           ],
           "yaxis": "y"
          }
         ],
         "name": "2026"
        }
       ],
       "layout": {
        "barmode": "group",
        "height": 600,
        "legend": {
         "title": {
          "text": "Model"
         },
         "tracegroupgap": 0,
         "traceorder": "reversed"
        },
        "margin": {
         "t": 60
        },
        "sliders": [
         {
          "active": 0,
          "currentvalue": {
           "prefix": "Year="
          },
          "len": 0.9,
          "pad": {
           "b": 10,
           "t": 60
          },
          "steps": [
           {
            "args": [
             [
              "2022"
             ],
             {
              "frame": {
               "duration": 0,
               "redraw": true
              },
              "fromcurrent": true,
              "mode": "immediate",
              "transition": {
               "duration": 0,
               "easing": "linear"
              }
             }
            ],
            "label": "2022",
            "method": "animate"
           },
           {
            "args": [
             [
              "2023"
             ],
             {
              "frame": {
               "duration": 0,
               "redraw": true
              },
              "fromcurrent": true,
              "mode": "immediate",
              "transition": {
               "duration": 0,
               "easing": "linear"
              }
             }
            ],
            "label": "2023",
            "method": "animate"
           },
           {
            "args": [
             [
              "2024"
             ],
             {
              "frame": {
               "duration": 0,
               "redraw": true
              },
              "fromcurrent": true,
              "mode": "immediate",
              "transition": {
               "duration": 0,
               "easing": "linear"
              }
             }
            ],
            "label": "2024",
            "method": "animate"
           },
           {
            "args": [
             [
              "2025"
             ],
             {
              "frame": {
               "duration": 0,
               "redraw": true
              },
              "fromcurrent": true,
              "mode": "immediate",
              "transition": {
               "duration": 0,
               "easing": "linear"
              }
             }
            ],
            "label": "2025",
            "method": "animate"
           },
           {
            "args": [
             [
              "2026"
             ],
             {
              "frame": {
               "duration": 0,
               "redraw": true
              },
              "fromcurrent": true,
              "mode": "immediate",
              "transition": {
               "duration": 0,
               "easing": "linear"
              }
             }
            ],
            "label": "2026",
            "method": "animate"
           }
          ],
          "x": 0.1,
          "xanchor": "left",
          "y": 0,
          "yanchor": "top"
         }
        ],
        "template": {
         "data": {
          "bar": [
           {
            "error_x": {
             "color": "#2a3f5f"
            },
            "error_y": {
             "color": "#2a3f5f"
            },
            "marker": {
             "line": {
              "color": "white",
              "width": 0.5
             },
             "pattern": {
              "fillmode": "overlay",
              "size": 10,
              "solidity": 0.2
             }
            },
            "type": "bar"
           }
          ],
          "barpolar": [
           {
            "marker": {
             "line": {
              "color": "white",
              "width": 0.5
             },
             "pattern": {
              "fillmode": "overlay",
              "size": 10,
              "solidity": 0.2
             }
            },
            "type": "barpolar"
           }
          ],
          "carpet": [
           {
            "aaxis": {
             "endlinecolor": "#2a3f5f",
             "gridcolor": "#C8D4E3",
             "linecolor": "#C8D4E3",
             "minorgridcolor": "#C8D4E3",
             "startlinecolor": "#2a3f5f"
            },
            "baxis": {
             "endlinecolor": "#2a3f5f",
             "gridcolor": "#C8D4E3",
             "linecolor": "#C8D4E3",
             "minorgridcolor": "#C8D4E3",
             "startlinecolor": "#2a3f5f"
            },
            "type": "carpet"
           }
          ],
          "choropleth": [
           {
            "colorbar": {
             "outlinewidth": 0,
             "ticks": ""
            },
            "type": "choropleth"
           }
          ],
          "contour": [
           {
            "colorbar": {
             "outlinewidth": 0,
             "ticks": ""
            },
            "colorscale": [
             [
              0,
              "#0d0887"
             ],
             [
              0.1111111111111111,
              "#46039f"
             ],
             [
              0.2222222222222222,
              "#7201a8"
             ],
             [
              0.3333333333333333,
              "#9c179e"
             ],
             [
              0.4444444444444444,
              "#bd3786"
             ],
             [
              0.5555555555555556,
              "#d8576b"
             ],
             [
              0.6666666666666666,
              "#ed7953"
             ],
             [
              0.7777777777777778,
              "#fb9f3a"
             ],
             [
              0.8888888888888888,
              "#fdca26"
             ],
             [
              1,
              "#f0f921"
             ]
            ],
            "type": "contour"
           }
          ],
          "contourcarpet": [
           {
            "colorbar": {
             "outlinewidth": 0,
             "ticks": ""
            },
            "type": "contourcarpet"
           }
          ],
          "heatmap": [
           {
            "colorbar": {
             "outlinewidth": 0,
             "ticks": ""
            },
            "colorscale": [
             [
              0,
              "#0d0887"
             ],
             [
              0.1111111111111111,
              "#46039f"
             ],
             [
              0.2222222222222222,
              "#7201a8"
             ],
             [
              0.3333333333333333,
              "#9c179e"
             ],
             [
              0.4444444444444444,
              "#bd3786"
             ],
             [
              0.5555555555555556,
              "#d8576b"
             ],
             [
              0.6666666666666666,
              "#ed7953"
             ],
             [
              0.7777777777777778,
              "#fb9f3a"
             ],
             [
              0.8888888888888888,
              "#fdca26"
             ],
             [
              1,
              "#f0f921"
             ]
            ],
            "type": "heatmap"
           }
          ],
          "heatmapgl": [
           {
            "colorbar": {
             "outlinewidth": 0,
             "ticks": ""
            },
            "colorscale": [
             [
              0,
              "#0d0887"
             ],
             [
              0.1111111111111111,
              "#46039f"
             ],
             [
              0.2222222222222222,
              "#7201a8"
             ],
             [
              0.3333333333333333,
              "#9c179e"
             ],
             [
              0.4444444444444444,
              "#bd3786"
             ],
             [
              0.5555555555555556,
              "#d8576b"
             ],
             [
              0.6666666666666666,
              "#ed7953"
             ],
             [
              0.7777777777777778,
              "#fb9f3a"
             ],
             [
              0.8888888888888888,
              "#fdca26"
             ],
             [
              1,
              "#f0f921"
             ]
            ],
            "type": "heatmapgl"
           }
          ],
          "histogram": [
           {
            "marker": {
             "pattern": {
              "fillmode": "overlay",
              "size": 10,
              "solidity": 0.2
             }
            },
            "type": "histogram"
           }
          ],
          "histogram2d": [
           {
            "colorbar": {
             "outlinewidth": 0,
             "ticks": ""
            },
            "colorscale": [
             [
              0,
              "#0d0887"
             ],
             [
              0.1111111111111111,
              "#46039f"
             ],
             [
              0.2222222222222222,
              "#7201a8"
             ],
             [
              0.3333333333333333,
              "#9c179e"
             ],
             [
              0.4444444444444444,
              "#bd3786"
             ],
             [
              0.5555555555555556,
              "#d8576b"
             ],
             [
              0.6666666666666666,
              "#ed7953"
             ],
             [
              0.7777777777777778,
              "#fb9f3a"
             ],
             [
              0.8888888888888888,
              "#fdca26"
             ],
             [
              1,
              "#f0f921"
             ]
            ],
            "type": "histogram2d"
           }
          ],
          "histogram2dcontour": [
           {
            "colorbar": {
             "outlinewidth": 0,
             "ticks": ""
            },
            "colorscale": [
             [
              0,
              "#0d0887"
             ],
             [
              0.1111111111111111,
              "#46039f"
             ],
             [
              0.2222222222222222,
              "#7201a8"
             ],
             [
              0.3333333333333333,
              "#9c179e"
             ],
             [
              0.4444444444444444,
              "#bd3786"
             ],
             [
              0.5555555555555556,
              "#d8576b"
             ],
             [
              0.6666666666666666,
              "#ed7953"
             ],
             [
              0.7777777777777778,
              "#fb9f3a"
             ],
             [
              0.8888888888888888,
              "#fdca26"
             ],
             [
              1,
              "#f0f921"
             ]
            ],
            "type": "histogram2dcontour"
           }
          ],
          "mesh3d": [
           {
            "colorbar": {
             "outlinewidth": 0,
             "ticks": ""
            },
            "type": "mesh3d"
           }
          ],
          "parcoords": [
           {
            "line": {
             "colorbar": {
              "outlinewidth": 0,
              "ticks": ""
             }
            },
            "type": "parcoords"
           }
          ],
          "pie": [
           {
            "automargin": true,
            "type": "pie"
           }
          ],
          "scatter": [
           {
            "marker": {
             "colorbar": {
              "outlinewidth": 0,
              "ticks": ""
             }
            },
            "type": "scatter"
           }
          ],
          "scatter3d": [
           {
            "line": {
             "colorbar": {
              "outlinewidth": 0,
              "ticks": ""
             }
            },
            "marker": {
             "colorbar": {
              "outlinewidth": 0,
              "ticks": ""
             }
            },
            "type": "scatter3d"
           }
          ],
          "scattercarpet": [
           {
            "marker": {
             "colorbar": {
              "outlinewidth": 0,
              "ticks": ""
             }
            },
            "type": "scattercarpet"
           }
          ],
          "scattergeo": [
           {
            "marker": {
             "colorbar": {
              "outlinewidth": 0,
              "ticks": ""
             }
            },
            "type": "scattergeo"
           }
          ],
          "scattergl": [
           {
            "marker": {
             "colorbar": {
              "outlinewidth": 0,
              "ticks": ""
             }
            },
            "type": "scattergl"
           }
          ],
          "scattermapbox": [
           {
            "marker": {
             "colorbar": {
              "outlinewidth": 0,
              "ticks": ""
             }
            },
            "type": "scattermapbox"
           }
          ],
          "scatterpolar": [
           {
            "marker": {
             "colorbar": {
              "outlinewidth": 0,
              "ticks": ""
             }
            },
            "type": "scatterpolar"
           }
          ],
          "scatterpolargl": [
           {
            "marker": {
             "colorbar": {
              "outlinewidth": 0,
              "ticks": ""
             }
            },
            "type": "scatterpolargl"
           }
          ],
          "scatterternary": [
           {
            "marker": {
             "colorbar": {
              "outlinewidth": 0,
              "ticks": ""
             }
            },
            "type": "scatterternary"
           }
          ],
          "surface": [
           {
            "colorbar": {
             "outlinewidth": 0,
             "ticks": ""
            },
            "colorscale": [
             [
              0,
              "#0d0887"
             ],
             [
              0.1111111111111111,
              "#46039f"
             ],
             [
              0.2222222222222222,
              "#7201a8"
             ],
             [
              0.3333333333333333,
              "#9c179e"
             ],
             [
              0.4444444444444444,
              "#bd3786"
             ],
             [
              0.5555555555555556,
              "#d8576b"
             ],
             [
              0.6666666666666666,
              "#ed7953"
             ],
             [
              0.7777777777777778,
              "#fb9f3a"
             ],
             [
              0.8888888888888888,
              "#fdca26"
             ],
             [
              1,
              "#f0f921"
             ]
            ],
            "type": "surface"
           }
          ],
          "table": [
           {
            "cells": {
             "fill": {
              "color": "#EBF0F8"
             },
             "line": {
              "color": "white"
             }
            },
            "header": {
             "fill": {
              "color": "#C8D4E3"
             },
             "line": {
              "color": "white"
             }
            },
            "type": "table"
           }
          ]
         },
         "layout": {
          "annotationdefaults": {
           "arrowcolor": "#2a3f5f",
           "arrowhead": 0,
           "arrowwidth": 1
          },
          "autotypenumbers": "strict",
          "coloraxis": {
           "colorbar": {
            "outlinewidth": 0,
            "ticks": ""
           }
          },
          "colorscale": {
           "diverging": [
            [
             0,
             "#8e0152"
            ],
            [
             0.1,
             "#c51b7d"
            ],
            [
             0.2,
             "#de77ae"
            ],
            [
             0.3,
             "#f1b6da"
            ],
            [
             0.4,
             "#fde0ef"
            ],
            [
             0.5,
             "#f7f7f7"
            ],
            [
             0.6,
             "#e6f5d0"
            ],
            [
             0.7,
             "#b8e186"
            ],
            [
             0.8,
             "#7fbc41"
            ],
            [
             0.9,
             "#4d9221"
            ],
            [
             1,
             "#276419"
            ]
           ],
           "sequential": [
            [
             0,
             "#0d0887"
            ],
            [
             0.1111111111111111,
             "#46039f"
            ],
            [
             0.2222222222222222,
             "#7201a8"
            ],
            [
             0.3333333333333333,
             "#9c179e"
            ],
            [
             0.4444444444444444,
             "#bd3786"
            ],
            [
             0.5555555555555556,
             "#d8576b"
            ],
            [
             0.6666666666666666,
             "#ed7953"
            ],
            [
             0.7777777777777778,
             "#fb9f3a"
            ],
            [
             0.8888888888888888,
             "#fdca26"
            ],
            [
             1,
             "#f0f921"
            ]
           ],
           "sequentialminus": [
            [
             0,
             "#0d0887"
            ],
            [
             0.1111111111111111,
             "#46039f"
            ],
            [
             0.2222222222222222,
             "#7201a8"
            ],
            [
             0.3333333333333333,
             "#9c179e"
            ],
            [
             0.4444444444444444,
             "#bd3786"
            ],
            [
             0.5555555555555556,
             "#d8576b"
            ],
            [
             0.6666666666666666,
             "#ed7953"
            ],
            [
             0.7777777777777778,
             "#fb9f3a"
            ],
            [
             0.8888888888888888,
             "#fdca26"
            ],
            [
             1,
             "#f0f921"
            ]
           ]
          },
          "colorway": [
           "#636efa",
           "#EF553B",
           "#00cc96",
           "#ab63fa",
           "#FFA15A",
           "#19d3f3",
           "#FF6692",
           "#B6E880",
           "#FF97FF",
           "#FECB52"
          ],
          "font": {
           "color": "#2a3f5f"
          },
          "geo": {
           "bgcolor": "white",
           "lakecolor": "white",
           "landcolor": "white",
           "showlakes": true,
           "showland": true,
           "subunitcolor": "#C8D4E3"
          },
          "hoverlabel": {
           "align": "left"
          },
          "hovermode": "closest",
          "mapbox": {
           "style": "light"
          },
          "paper_bgcolor": "white",
          "plot_bgcolor": "white",
          "polar": {
           "angularaxis": {
            "gridcolor": "#EBF0F8",
            "linecolor": "#EBF0F8",
            "ticks": ""
           },
           "bgcolor": "white",
           "radialaxis": {
            "gridcolor": "#EBF0F8",
            "linecolor": "#EBF0F8",
            "ticks": ""
           }
          },
          "scene": {
           "xaxis": {
            "backgroundcolor": "white",
            "gridcolor": "#DFE8F3",
            "gridwidth": 2,
            "linecolor": "#EBF0F8",
            "showbackground": true,
            "ticks": "",
            "zerolinecolor": "#EBF0F8"
           },
           "yaxis": {
            "backgroundcolor": "white",
            "gridcolor": "#DFE8F3",
            "gridwidth": 2,
            "linecolor": "#EBF0F8",
            "showbackground": true,
            "ticks": "",
            "zerolinecolor": "#EBF0F8"
           },
           "zaxis": {
            "backgroundcolor": "white",
            "gridcolor": "#DFE8F3",
            "gridwidth": 2,
            "linecolor": "#EBF0F8",
            "showbackground": true,
            "ticks": "",
            "zerolinecolor": "#EBF0F8"
           }
          },
          "shapedefaults": {
           "line": {
            "color": "#2a3f5f"
           }
          },
          "ternary": {
           "aaxis": {
            "gridcolor": "#DFE8F3",
            "linecolor": "#A2B1C6",
            "ticks": ""
           },
           "baxis": {
            "gridcolor": "#DFE8F3",
            "linecolor": "#A2B1C6",
            "ticks": ""
           },
           "bgcolor": "white",
           "caxis": {
            "gridcolor": "#DFE8F3",
            "linecolor": "#A2B1C6",
            "ticks": ""
           }
          },
          "title": {
           "x": 0.05
          },
          "xaxis": {
           "automargin": true,
           "gridcolor": "#EBF0F8",
           "linecolor": "#EBF0F8",
           "ticks": "",
           "title": {
            "standoff": 15
           },
           "zerolinecolor": "#EBF0F8",
           "zerolinewidth": 2
          },
          "yaxis": {
           "automargin": true,
           "gridcolor": "#EBF0F8",
           "linecolor": "#EBF0F8",
           "ticks": "",
           "title": {
            "standoff": 15
           },
           "zerolinecolor": "#EBF0F8",
           "zerolinewidth": 2
          }
         }
        },
        "title": {
         "text": "Budgetary impact error"
        },
        "updatemenus": [
         {
          "buttons": [
           {
            "args": [
             null,
             {
              "frame": {
               "duration": 500,
               "redraw": true
              },
              "fromcurrent": true,
              "mode": "immediate",
              "transition": {
               "duration": 500,
               "easing": "linear"
              }
             }
            ],
            "label": "&#9654;",
            "method": "animate"
           },
           {
            "args": [
             [
              null
             ],
             {
              "frame": {
               "duration": 0,
               "redraw": true
              },
              "fromcurrent": true,
              "mode": "immediate",
              "transition": {
               "duration": 0,
               "easing": "linear"
              }
             }
            ],
            "label": "&#9724;",
            "method": "animate"
           }
          ],
          "direction": "left",
          "pad": {
           "r": 10,
           "t": 70
          },
          "showactive": false,
          "type": "buttons",
          "x": 0.1,
          "xanchor": "right",
          "y": 0,
          "yanchor": "top"
         }
        ],
        "width": 800,
        "xaxis": {
         "anchor": "y",
         "autorange": true,
         "domain": [
          0,
          1
         ],
         "range": [
          0,
          46108421052.63158
         ],
         "tickprefix": "£",
         "title": {
          "text": "Budgetary impact error"
         },
         "type": "linear"
        },
        "yaxis": {
         "anchor": "x",
         "autorange": true,
         "domain": [
          0,
          1
         ],
         "range": [
          -0.5,
          7.5
         ],
         "title": {
          "text": ""
         },
         "type": "category"
        }
       }
      },
      "image/png": "[encoded data removed]",
      "text/html": [
       "<div>                            <div id=\"63de6920-d521-4c5f-9f8e-4d08760ddd75\" class=\"plotly-graph-div\" style=\"height:600px; width:800px;\"></div>            <script type=\"text/javascript\">                require([\"plotly\"], function(Plotly) {                    window.PLOTLYENV=window.PLOTLYENV || {};                                    if (document.getElementById(\"63de6920-d521-4c5f-9f8e-4d08760ddd75\")) {                    Plotly.newPlot(                        \"63de6920-d521-4c5f-9f8e-4d08760ddd75\",                        [{\"alignmentgroup\":\"True\",\"customdata\":[[151.4,156.0,151.3,2022,\"National Insurance (total)\"],[12.0,12.0,11.2,2022,\"Child Benefit\"],[2.7,1.6,1.6,2022,\"Working Tax Credit\"],[3.1,4.2,4.5,2022,\"Pension Credit\"],[203.3,161.2,205.0,2022,\"Income Tax\"],[7.8,5.4,6.0,2022,\"Child Tax Credit\"],[40.4,34.1,43.7,2022,\"Universal Credit\"],[11.9,10.3,15.9,2022,\"Housing Benefit\"]],\"hovertemplate\":\"<b>%{customdata[4]} in %{customdata[3]}</b><br>Error: %{x}<br>Official: \\u00a3%{customdata[2]}bn<br>OpenFisca-UK: \\u00a3%{customdata[0]}bn<br>UKMOD: \\u00a3%{customdata[1]}bn\",\"legendgroup\":\"OpenFisca-UK\",\"marker\":{\"color\":\"blue\",\"pattern\":{\"shape\":\"\"}},\"name\":\"OpenFisca-UK\",\"offsetgroup\":\"OpenFisca-UK\",\"orientation\":\"h\",\"showlegend\":true,\"textposition\":\"auto\",\"x\":[121699556.19399999,748920927.1810001,1064361369.9339999,1335539542.796,1738175489.726,1808874126.725,3272935257.5759997,3981540083.479],\"xaxis\":\"x\",\"y\":[\"National Insurance (total)\",\"Child Benefit\",\"Working Tax Credit\",\"Pension Credit\",\"Income Tax\",\"Child Tax Credit\",\"Universal Credit\",\"Housing Benefit\"],\"yaxis\":\"y\",\"type\":\"bar\"},{\"alignmentgroup\":\"True\",\"customdata\":[[151.4,156.0,151.3,2022,\"National Insurance (total)\"],[12.0,12.0,11.2,2022,\"Child Benefit\"],[2.7,1.6,1.6,2022,\"Working Tax Credit\"],[3.1,4.2,4.5,2022,\"Pension Credit\"],[203.3,161.2,205.0,2022,\"Income Tax\"],[7.8,5.4,6.0,2022,\"Child Tax Credit\"],[40.4,34.1,43.7,2022,\"Universal Credit\"],[11.9,10.3,15.9,2022,\"Housing Benefit\"]],\"hovertemplate\":\"<b>%{customdata[4]} in %{customdata[3]}</b><br>Error: %{x}<br>Official: \\u00a3%{customdata[2]}bn<br>OpenFisca-UK: \\u00a3%{customdata[0]}bn<br>UKMOD: \\u00a3%{customdata[1]}bn\",\"legendgroup\":\"UKMOD\",\"marker\":{\"color\":\"lightgrey\",\"pattern\":{\"shape\":\"\"}},\"name\":\"UKMOD\",\"offsetgroup\":\"UKMOD\",\"orientation\":\"h\",\"showlegend\":true,\"textposition\":\"auto\",\"x\":[4716000000.0,750000000.0,71000000.0,313000000.0,43803000000.0,613000000.0,9584000000.0,5562000000.0],\"xaxis\":\"x\",\"y\":[\"National Insurance (total)\",\"Child Benefit\",\"Working Tax Credit\",\"Pension Credit\",\"Income Tax\",\"Child Tax Credit\",\"Universal Credit\",\"Housing Benefit\"],\"yaxis\":\"y\",\"type\":\"bar\"}],                        {\"template\":{\"data\":{\"barpolar\":[{\"marker\":{\"line\":{\"color\":\"white\",\"width\":0.5},\"pattern\":{\"fillmode\":\"overlay\",\"size\":10,\"solidity\":0.2}},\"type\":\"barpolar\"}],\"bar\":[{\"error_x\":{\"color\":\"#2a3f5f\"},\"error_y\":{\"color\":\"#2a3f5f\"},\"marker\":{\"line\":{\"color\":\"white\",\"width\":0.5},\"pattern\":{\"fillmode\":\"overlay\",\"size\":10,\"solidity\":0.2}},\"type\":\"bar\"}],\"carpet\":[{\"aaxis\":{\"endlinecolor\":\"#2a3f5f\",\"gridcolor\":\"#C8D4E3\",\"linecolor\":\"#C8D4E3\",\"minorgridcolor\":\"#C8D4E3\",\"startlinecolor\":\"#2a3f5f\"},\"baxis\":{\"endlinecolor\":\"#2a3f5f\",\"gridcolor\":\"#C8D4E3\",\"linecolor\":\"#C8D4E3\",\"minorgridcolor\":\"#C8D4E3\",\"startlinecolor\":\"#2a3f5f\"},\"type\":\"carpet\"}],\"choropleth\":[{\"colorbar\":{\"outlinewidth\":0,\"ticks\":\"\"},\"type\":\"choropleth\"}],\"contourcarpet\":[{\"colorbar\":{\"outlinewidth\":0,\"ticks\":\"\"},\"type\":\"contourcarpet\"}],\"contour\":[{\"colorbar\":{\"outlinewidth\":0,\"ticks\":\"\"},\"colorscale\":[[0.0,\"#0d0887\"],[0.1111111111111111,\"#46039f\"],[0.2222222222222222,\"#7201a8\"],[0.3333333333333333,\"#9c179e\"],[0.4444444444444444,\"#bd3786\"],[0.5555555555555556,\"#d8576b\"],[0.6666666666666666,\"#ed7953\"],[0.7777777777777778,\"#fb9f3a\"],[0.8888888888888888,\"#fdca26\"],[1.0,\"#f0f921\"]],\"type\":\"contour\"}],\"heatmapgl\":[{\"colorbar\":{\"outlinewidth\":0,\"ticks\":\"\"},\"colorscale\":[[0.0,\"#0d0887\"],[0.1111111111111111,\"#46039f\"],[0.2222222222222222,\"#7201a8\"],[0.3333333333333333,\"#9c179e\"],[0.4444444444444444,\"#bd3786\"],[0.5555555555555556,\"#d8576b\"],[0.6666666666666666,\"#ed7953\"],[0.7777777777777778,\"#fb9f3a\"],[0.8888888888888888,\"#fdca26\"],[1.0,\"#f0f921\"]],\"type\":\"heatmapgl\"}],\"heatmap\":[{\"colorbar\":{\"outlinewidth\":0,\"ticks\":\"\"},\"colorscale\":[[0.0,\"#0d0887\"],[0.1111111111111111,\"#46039f\"],[0.2222222222222222,\"#7201a8\"],[0.3333333333333333,\"#9c179e\"],[0.4444444444444444,\"#bd3786\"],[0.5555555555555556,\"#d8576b\"],[0.6666666666666666,\"#ed7953\"],[0.7777777777777778,\"#fb9f3a\"],[0.8888888888888888,\"#fdca26\"],[1.0,\"#f0f921\"]],\"type\":\"heatmap\"}],\"histogram2dcontour\":[{\"colorbar\":{\"outlinewidth\":0,\"ticks\":\"\"},\"colorscale\":[[0.0,\"#0d0887\"],[0.1111111111111111,\"#46039f\"],[0.2222222222222222,\"#7201a8\"],[0.3333333333333333,\"#9c179e\"],[0.4444444444444444,\"#bd3786\"],[0.5555555555555556,\"#d8576b\"],[0.6666666666666666,\"#ed7953\"],[0.7777777777777778,\"#fb9f3a\"],[0.8888888888888888,\"#fdca26\"],[1.0,\"#f0f921\"]],\"type\":\"histogram2dcontour\"}],\"histogram2d\":[{\"colorbar\":{\"outlinewidth\":0,\"ticks\":\"\"},\"colorscale\":[[0.0,\"#0d0887\"],[0.1111111111111111,\"#46039f\"],[0.2222222222222222,\"#7201a8\"],[0.3333333333333333,\"#9c179e\"],[0.4444444444444444,\"#bd3786\"],[0.5555555555555556,\"#d8576b\"],[0.6666666666666666,\"#ed7953\"],[0.7777777777777778,\"#fb9f3a\"],[0.8888888888888888,\"#fdca26\"],[1.0,\"#f0f921\"]],\"type\":\"histogram2d\"}],\"histogram\":[{\"marker\":{\"pattern\":{\"fillmode\":\"overlay\",\"size\":10,\"solidity\":0.2}},\"type\":\"histogram\"}],\"mesh3d\":[{\"colorbar\":{\"outlinewidth\":0,\"ticks\":\"\"},\"type\":\"mesh3d\"}],\"parcoords\":[{\"line\":{\"colorbar\":{\"outlinewidth\":0,\"ticks\":\"\"}},\"type\":\"parcoords\"}],\"pie\":[{\"automargin\":true,\"type\":\"pie\"}],\"scatter3d\":[{\"line\":{\"colorbar\":{\"outlinewidth\":0,\"ticks\":\"\"}},\"marker\":{\"colorbar\":{\"outlinewidth\":0,\"ticks\":\"\"}},\"type\":\"scatter3d\"}],\"scattercarpet\":[{\"marker\":{\"colorbar\":{\"outlinewidth\":0,\"ticks\":\"\"}},\"type\":\"scattercarpet\"}],\"scattergeo\":[{\"marker\":{\"colorbar\":{\"outlinewidth\":0,\"ticks\":\"\"}},\"type\":\"scattergeo\"}],\"scattergl\":[{\"marker\":{\"colorbar\":{\"outlinewidth\":0,\"ticks\":\"\"}},\"type\":\"scattergl\"}],\"scattermapbox\":[{\"marker\":{\"colorbar\":{\"outlinewidth\":0,\"ticks\":\"\"}},\"type\":\"scattermapbox\"}],\"scatterpolargl\":[{\"marker\":{\"colorbar\":{\"outlinewidth\":0,\"ticks\":\"\"}},\"type\":\"scatterpolargl\"}],\"scatterpolar\":[{\"marker\":{\"colorbar\":{\"outlinewidth\":0,\"ticks\":\"\"}},\"type\":\"scatterpolar\"}],\"scatter\":[{\"marker\":{\"colorbar\":{\"outlinewidth\":0,\"ticks\":\"\"}},\"type\":\"scatter\"}],\"scatterternary\":[{\"marker\":{\"colorbar\":{\"outlinewidth\":0,\"ticks\":\"\"}},\"type\":\"scatterternary\"}],\"surface\":[{\"colorbar\":{\"outlinewidth\":0,\"ticks\":\"\"},\"colorscale\":[[0.0,\"#0d0887\"],[0.1111111111111111,\"#46039f\"],[0.2222222222222222,\"#7201a8\"],[0.3333333333333333,\"#9c179e\"],[0.4444444444444444,\"#bd3786\"],[0.5555555555555556,\"#d8576b\"],[0.6666666666666666,\"#ed7953\"],[0.7777777777777778,\"#fb9f3a\"],[0.8888888888888888,\"#fdca26\"],[1.0,\"#f0f921\"]],\"type\":\"surface\"}],\"table\":[{\"cells\":{\"fill\":{\"color\":\"#EBF0F8\"},\"line\":{\"color\":\"white\"}},\"header\":{\"fill\":{\"color\":\"#C8D4E3\"},\"line\":{\"color\":\"white\"}},\"type\":\"table\"}]},\"layout\":{\"annotationdefaults\":{\"arrowcolor\":\"#2a3f5f\",\"arrowhead\":0,\"arrowwidth\":1},\"autotypenumbers\":\"strict\",\"coloraxis\":{\"colorbar\":{\"outlinewidth\":0,\"ticks\":\"\"}},\"colorscale\":{\"diverging\":[[0,\"#8e0152\"],[0.1,\"#c51b7d\"],[0.2,\"#de77ae\"],[0.3,\"#f1b6da\"],[0.4,\"#fde0ef\"],[0.5,\"#f7f7f7\"],[0.6,\"#e6f5d0\"],[0.7,\"#b8e186\"],[0.8,\"#7fbc41\"],[0.9,\"#4d9221\"],[1,\"#276419\"]],\"sequential\":[[0.0,\"#0d0887\"],[0.1111111111111111,\"#46039f\"],[0.2222222222222222,\"#7201a8\"],[0.3333333333333333,\"#9c179e\"],[0.4444444444444444,\"#bd3786\"],[0.5555555555555556,\"#d8576b\"],[0.6666666666666666,\"#ed7953\"],[0.7777777777777778,\"#fb9f3a\"],[0.8888888888888888,\"#fdca26\"],[1.0,\"#f0f921\"]],\"sequentialminus\":[[0.0,\"#0d0887\"],[0.1111111111111111,\"#46039f\"],[0.2222222222222222,\"#7201a8\"],[0.3333333333333333,\"#9c179e\"],[0.4444444444444444,\"#bd3786\"],[0.5555555555555556,\"#d8576b\"],[0.6666666666666666,\"#ed7953\"],[0.7777777777777778,\"#fb9f3a\"],[0.8888888888888888,\"#fdca26\"],[1.0,\"#f0f921\"]]},\"colorway\":[\"#636efa\",\"#EF553B\",\"#00cc96\",\"#ab63fa\",\"#FFA15A\",\"#19d3f3\",\"#FF6692\",\"#B6E880\",\"#FF97FF\",\"#FECB52\"],\"font\":{\"color\":\"#2a3f5f\"},\"geo\":{\"bgcolor\":\"white\",\"lakecolor\":\"white\",\"landcolor\":\"white\",\"showlakes\":true,\"showland\":true,\"subunitcolor\":\"#C8D4E3\"},\"hoverlabel\":{\"align\":\"left\"},\"hovermode\":\"closest\",\"mapbox\":{\"style\":\"light\"},\"paper_bgcolor\":\"white\",\"plot_bgcolor\":\"white\",\"polar\":{\"angularaxis\":{\"gridcolor\":\"#EBF0F8\",\"linecolor\":\"#EBF0F8\",\"ticks\":\"\"},\"bgcolor\":\"white\",\"radialaxis\":{\"gridcolor\":\"#EBF0F8\",\"linecolor\":\"#EBF0F8\",\"ticks\":\"\"}},\"scene\":{\"xaxis\":{\"backgroundcolor\":\"white\",\"gridcolor\":\"#DFE8F3\",\"gridwidth\":2,\"linecolor\":\"#EBF0F8\",\"showbackground\":true,\"ticks\":\"\",\"zerolinecolor\":\"#EBF0F8\"},\"yaxis\":{\"backgroundcolor\":\"white\",\"gridcolor\":\"#DFE8F3\",\"gridwidth\":2,\"linecolor\":\"#EBF0F8\",\"showbackground\":true,\"ticks\":\"\",\"zerolinecolor\":\"#EBF0F8\"},\"zaxis\":{\"backgroundcolor\":\"white\",\"gridcolor\":\"#DFE8F3\",\"gridwidth\":2,\"linecolor\":\"#EBF0F8\",\"showbackground\":true,\"ticks\":\"\",\"zerolinecolor\":\"#EBF0F8\"}},\"shapedefaults\":{\"line\":{\"color\":\"#2a3f5f\"}},\"ternary\":{\"aaxis\":{\"gridcolor\":\"#DFE8F3\",\"linecolor\":\"#A2B1C6\",\"ticks\":\"\"},\"baxis\":{\"gridcolor\":\"#DFE8F3\",\"linecolor\":\"#A2B1C6\",\"ticks\":\"\"},\"bgcolor\":\"white\",\"caxis\":{\"gridcolor\":\"#DFE8F3\",\"linecolor\":\"#A2B1C6\",\"ticks\":\"\"}},\"title\":{\"x\":0.05},\"xaxis\":{\"automargin\":true,\"gridcolor\":\"#EBF0F8\",\"linecolor\":\"#EBF0F8\",\"ticks\":\"\",\"title\":{\"standoff\":15},\"zerolinecolor\":\"#EBF0F8\",\"zerolinewidth\":2},\"yaxis\":{\"automargin\":true,\"gridcolor\":\"#EBF0F8\",\"linecolor\":\"#EBF0F8\",\"ticks\":\"\",\"title\":{\"standoff\":15},\"zerolinecolor\":\"#EBF0F8\",\"zerolinewidth\":2}}},\"xaxis\":{\"anchor\":\"y\",\"domain\":[0.0,1.0],\"title\":{\"text\":\"Budgetary impact error\"},\"tickprefix\":\"\\u00a3\"},\"yaxis\":{\"anchor\":\"x\",\"domain\":[0.0,1.0],\"title\":{\"text\":\"\"}},\"legend\":{\"title\":{\"text\":\"Model\"},\"tracegroupgap\":0,\"traceorder\":\"reversed\"},\"margin\":{\"t\":60},\"barmode\":\"group\",\"updatemenus\":[{\"buttons\":[{\"args\":[null,{\"frame\":{\"duration\":500,\"redraw\":true},\"mode\":\"immediate\",\"fromcurrent\":true,\"transition\":{\"duration\":500,\"easing\":\"linear\"}}],\"label\":\"&#9654;\",\"method\":\"animate\"},{\"args\":[[null],{\"frame\":{\"duration\":0,\"redraw\":true},\"mode\":\"immediate\",\"fromcurrent\":true,\"transition\":{\"duration\":0,\"easing\":\"linear\"}}],\"label\":\"&#9724;\",\"method\":\"animate\"}],\"direction\":\"left\",\"pad\":{\"r\":10,\"t\":70},\"showactive\":false,\"type\":\"buttons\",\"x\":0.1,\"xanchor\":\"right\",\"y\":0,\"yanchor\":\"top\"}],\"sliders\":[{\"active\":0,\"currentvalue\":{\"prefix\":\"Year=\"},\"len\":0.9,\"pad\":{\"b\":10,\"t\":60},\"steps\":[{\"args\":[[\"2022\"],{\"frame\":{\"duration\":0,\"redraw\":true},\"mode\":\"immediate\",\"fromcurrent\":true,\"transition\":{\"duration\":0,\"easing\":\"linear\"}}],\"label\":\"2022\",\"method\":\"animate\"},{\"args\":[[\"2023\"],{\"frame\":{\"duration\":0,\"redraw\":true},\"mode\":\"immediate\",\"fromcurrent\":true,\"transition\":{\"duration\":0,\"easing\":\"linear\"}}],\"label\":\"2023\",\"method\":\"animate\"},{\"args\":[[\"2024\"],{\"frame\":{\"duration\":0,\"redraw\":true},\"mode\":\"immediate\",\"fromcurrent\":true,\"transition\":{\"duration\":0,\"easing\":\"linear\"}}],\"label\":\"2024\",\"method\":\"animate\"},{\"args\":[[\"2025\"],{\"frame\":{\"duration\":0,\"redraw\":true},\"mode\":\"immediate\",\"fromcurrent\":true,\"transition\":{\"duration\":0,\"easing\":\"linear\"}}],\"label\":\"2025\",\"method\":\"animate\"},{\"args\":[[\"2026\"],{\"frame\":{\"duration\":0,\"redraw\":true},\"mode\":\"immediate\",\"fromcurrent\":true,\"transition\":{\"duration\":0,\"easing\":\"linear\"}}],\"label\":\"2026\",\"method\":\"animate\"}],\"x\":0.1,\"xanchor\":\"left\",\"y\":0,\"yanchor\":\"top\"}],\"width\":800,\"height\":600,\"title\":{\"text\":\"Budgetary impact error\"}},                        {\"responsive\": true}                    ).then(function(){\n",
       "                            Plotly.addFrames('63de6920-d521-4c5f-9f8e-4d08760ddd75', [{\"data\":[{\"alignmentgroup\":\"True\",\"customdata\":[[151.4,156.0,151.3,2022,\"National Insurance (total)\"],[12.0,12.0,11.2,2022,\"Child Benefit\"],[2.7,1.6,1.6,2022,\"Working Tax Credit\"],[3.1,4.2,4.5,2022,\"Pension Credit\"],[203.3,161.2,205.0,2022,\"Income Tax\"],[7.8,5.4,6.0,2022,\"Child Tax Credit\"],[40.4,34.1,43.7,2022,\"Universal Credit\"],[11.9,10.3,15.9,2022,\"Housing Benefit\"]],\"hovertemplate\":\"<b>%{customdata[4]} in %{customdata[3]}</b><br>Error: %{x}<br>Official: \\u00a3%{customdata[2]}bn<br>OpenFisca-UK: \\u00a3%{customdata[0]}bn<br>UKMOD: \\u00a3%{customdata[1]}bn\",\"legendgroup\":\"OpenFisca-UK\",\"marker\":{\"color\":\"blue\",\"pattern\":{\"shape\":\"\"}},\"name\":\"OpenFisca-UK\",\"offsetgroup\":\"OpenFisca-UK\",\"orientation\":\"h\",\"showlegend\":true,\"textposition\":\"auto\",\"x\":[121699556.19399999,748920927.1810001,1064361369.9339999,1335539542.796,1738175489.726,1808874126.725,3272935257.5759997,3981540083.479],\"xaxis\":\"x\",\"y\":[\"National Insurance (total)\",\"Child Benefit\",\"Working Tax Credit\",\"Pension Credit\",\"Income Tax\",\"Child Tax Credit\",\"Universal Credit\",\"Housing Benefit\"],\"yaxis\":\"y\",\"type\":\"bar\"},{\"alignmentgroup\":\"True\",\"customdata\":[[151.4,156.0,151.3,2022,\"National Insurance (total)\"],[12.0,12.0,11.2,2022,\"Child Benefit\"],[2.7,1.6,1.6,2022,\"Working Tax Credit\"],[3.1,4.2,4.5,2022,\"Pension Credit\"],[203.3,161.2,205.0,2022,\"Income Tax\"],[7.8,5.4,6.0,2022,\"Child Tax Credit\"],[40.4,34.1,43.7,2022,\"Universal Credit\"],[11.9,10.3,15.9,2022,\"Housing Benefit\"]],\"hovertemplate\":\"<b>%{customdata[4]} in %{customdata[3]}</b><br>Error: %{x}<br>Official: \\u00a3%{customdata[2]}bn<br>OpenFisca-UK: \\u00a3%{customdata[0]}bn<br>UKMOD: \\u00a3%{customdata[1]}bn\",\"legendgroup\":\"UKMOD\",\"marker\":{\"color\":\"lightgrey\",\"pattern\":{\"shape\":\"\"}},\"name\":\"UKMOD\",\"offsetgroup\":\"UKMOD\",\"orientation\":\"h\",\"showlegend\":true,\"textposition\":\"auto\",\"x\":[4716000000.0,750000000.0,71000000.0,313000000.0,43803000000.0,613000000.0,9584000000.0,5562000000.0],\"xaxis\":\"x\",\"y\":[\"National Insurance (total)\",\"Child Benefit\",\"Working Tax Credit\",\"Pension Credit\",\"Income Tax\",\"Child Tax Credit\",\"Universal Credit\",\"Housing Benefit\"],\"yaxis\":\"y\",\"type\":\"bar\"}],\"name\":\"2022\"},{\"data\":[{\"alignmentgroup\":\"True\",\"customdata\":[[12.0,12.3,11.5,2023,\"Child Benefit\"],[2.3,1.3,1.2,2023,\"Working Tax Credit\"],[156.2,145.1,157.5,2023,\"National Insurance (total)\"],[2.9,4.4,4.4,2023,\"Pension Credit\"],[213.4,170.6,215.0,2023,\"Income Tax\"],[6.2,4.5,4.5,2023,\"Child Tax Credit\"],[10.8,9.6,14.7,2023,\"Housing Benefit\"],[45.5,39.1,49.8,2023,\"Universal Credit\"]],\"hovertemplate\":\"<b>%{customdata[4]} in %{customdata[3]}</b><br>Error: %{x}<br>Official: \\u00a3%{customdata[2]}bn<br>OpenFisca-UK: \\u00a3%{customdata[0]}bn<br>UKMOD: \\u00a3%{customdata[1]}bn\",\"legendgroup\":\"OpenFisca-UK\",\"marker\":{\"color\":\"blue\",\"pattern\":{\"shape\":\"\"}},\"name\":\"OpenFisca-UK\",\"offsetgroup\":\"OpenFisca-UK\",\"orientation\":\"h\",\"showlegend\":true,\"textposition\":\"auto\",\"x\":[442141570.52099997,1102153866.26,1313439231.58,1507673031.145,1626053279.7979999,1683098485.784,3953975417.521,4250952446.4909997],\"xaxis\":\"x\",\"y\":[\"Child Benefit\",\"Working Tax Credit\",\"National Insurance (total)\",\"Pension Credit\",\"Income Tax\",\"Child Tax Credit\",\"Housing Benefit\",\"Universal Credit\"],\"yaxis\":\"y\",\"type\":\"bar\"},{\"alignmentgroup\":\"True\",\"customdata\":[[12.0,12.3,11.5,2023,\"Child Benefit\"],[2.3,1.3,1.2,2023,\"Working Tax Credit\"],[156.2,145.1,157.5,2023,\"National Insurance (total)\"],[2.9,4.4,4.4,2023,\"Pension Credit\"],[213.4,170.6,215.0,2023,\"Income Tax\"],[6.2,4.5,4.5,2023,\"Child Tax Credit\"],[10.8,9.6,14.7,2023,\"Housing Benefit\"],[45.5,39.1,49.8,2023,\"Universal Credit\"]],\"hovertemplate\":\"<b>%{customdata[4]} in %{customdata[3]}</b><br>Error: %{x}<br>Official: \\u00a3%{customdata[2]}bn<br>OpenFisca-UK: \\u00a3%{customdata[0]}bn<br>UKMOD: \\u00a3%{customdata[1]}bn\",\"legendgroup\":\"UKMOD\",\"marker\":{\"color\":\"lightgrey\",\"pattern\":{\"shape\":\"\"}},\"name\":\"UKMOD\",\"offsetgroup\":\"UKMOD\",\"orientation\":\"h\",\"showlegend\":true,\"textposition\":\"auto\",\"x\":[785000000.0,80872881.0,12386000000.0,37000000.0,44374000000.0,51127119.0,5106000000.0,10618000000.0],\"xaxis\":\"x\",\"y\":[\"Child Benefit\",\"Working Tax Credit\",\"National Insurance (total)\",\"Pension Credit\",\"Income Tax\",\"Child Tax Credit\",\"Housing Benefit\",\"Universal Credit\"],\"yaxis\":\"y\",\"type\":\"bar\"}],\"name\":\"2023\"},{\"data\":[{\"alignmentgroup\":\"True\",\"customdata\":[[11.9,12.5,11.6,2024,\"Child Benefit\"],[2.0,0.9,0.8,2024,\"Working Tax Credit\"],[2.8,4.5,4.4,2024,\"Pension Credit\"],[224.0,178.5,225.7,2024,\"Income Tax\"],[162.8,147.9,164.6,2024,\"National Insurance (total)\"],[4.8,3.3,3.0,2024,\"Child Tax Credit\"],[9.2,8.5,12.5,2024,\"Housing Benefit\"],[53.0,39.1,57.8,2024,\"Universal Credit\"]],\"hovertemplate\":\"<b>%{customdata[4]} in %{customdata[3]}</b><br>Error: %{x}<br>Official: \\u00a3%{customdata[2]}bn<br>OpenFisca-UK: \\u00a3%{customdata[0]}bn<br>UKMOD: \\u00a3%{customdata[1]}bn\",\"legendgroup\":\"OpenFisca-UK\",\"marker\":{\"color\":\"blue\",\"pattern\":{\"shape\":\"\"}},\"name\":\"OpenFisca-UK\",\"offsetgroup\":\"OpenFisca-UK\",\"orientation\":\"h\",\"showlegend\":true,\"textposition\":\"auto\",\"x\":[267072095.35099998,1165611260.2,1618319856.4889998,1671020582.736,1776927255.6239998,1830010423.016,3271408255.7609997,4821693652.327],\"xaxis\":\"x\",\"y\":[\"Child Benefit\",\"Working Tax Credit\",\"Pension Credit\",\"Income Tax\",\"National Insurance (total)\",\"Child Tax Credit\",\"Housing Benefit\",\"Universal Credit\"],\"yaxis\":\"y\",\"type\":\"bar\"},{\"alignmentgroup\":\"True\",\"customdata\":[[11.9,12.5,11.6,2024,\"Child Benefit\"],[2.0,0.9,0.8,2024,\"Working Tax Credit\"],[2.8,4.5,4.4,2024,\"Pension Credit\"],[224.0,178.5,225.7,2024,\"Income Tax\"],[162.8,147.9,164.6,2024,\"National Insurance (total)\"],[4.8,3.3,3.0,2024,\"Child Tax Credit\"],[9.2,8.5,12.5,2024,\"Housing Benefit\"],[53.0,39.1,57.8,2024,\"Universal Credit\"]],\"hovertemplate\":\"<b>%{customdata[4]} in %{customdata[3]}</b><br>Error: %{x}<br>Official: \\u00a3%{customdata[2]}bn<br>OpenFisca-UK: \\u00a3%{customdata[0]}bn<br>UKMOD: \\u00a3%{customdata[1]}bn\",\"legendgroup\":\"UKMOD\",\"marker\":{\"color\":\"lightgrey\",\"pattern\":{\"shape\":\"\"}},\"name\":\"UKMOD\",\"offsetgroup\":\"UKMOD\",\"orientation\":\"h\",\"showlegend\":true,\"textposition\":\"auto\",\"x\":[921000000.0,83377119.0,112000000.0,47212000000.0,16710000000.0,335622881.0,4027000000.0,18649000000.0],\"xaxis\":\"x\",\"y\":[\"Child Benefit\",\"Working Tax Credit\",\"Pension Credit\",\"Income Tax\",\"National Insurance (total)\",\"Child Tax Credit\",\"Housing Benefit\",\"Universal Credit\"],\"yaxis\":\"y\",\"type\":\"bar\"}],\"name\":\"2024\"},{\"data\":[{\"alignmentgroup\":\"True\",\"customdata\":[[12.0,12.6,11.6,2025,\"Child Benefit\"],[1.7,0.4,0.4,2025,\"Working Tax Credit\"],[2.6,4.5,4.2,2025,\"Pension Credit\"],[65.9,45.6,68.0,2025,\"Universal Credit\"],[170.0,151.9,172.1,2025,\"National Insurance (total)\"],[235.2,187.9,237.5,2025,\"Income Tax\"],[3.7,1.5,1.3,2025,\"Child Tax Credit\"],[7.6,6.7,10.2,2025,\"Housing Benefit\"]],\"hovertemplate\":\"<b>%{customdata[4]} in %{customdata[3]}</b><br>Error: %{x}<br>Official: \\u00a3%{customdata[2]}bn<br>OpenFisca-UK: \\u00a3%{customdata[0]}bn<br>UKMOD: \\u00a3%{customdata[1]}bn\",\"legendgroup\":\"OpenFisca-UK\",\"marker\":{\"color\":\"blue\",\"pattern\":{\"shape\":\"\"}},\"name\":\"OpenFisca-UK\",\"offsetgroup\":\"OpenFisca-UK\",\"orientation\":\"h\",\"showlegend\":true,\"textposition\":\"auto\",\"x\":[415906594.33,1317467712.765,1667082569.4320002,2090669198.756,2149961892.889,2274787410.876,2339288567.108,2653183089.251],\"xaxis\":\"x\",\"y\":[\"Child Benefit\",\"Working Tax Credit\",\"Pension Credit\",\"Universal Credit\",\"National Insurance (total)\",\"Income Tax\",\"Child Tax Credit\",\"Housing Benefit\"],\"yaxis\":\"y\",\"type\":\"bar\"},{\"alignmentgroup\":\"True\",\"customdata\":[[12.0,12.6,11.6,2025,\"Child Benefit\"],[1.7,0.4,0.4,2025,\"Working Tax Credit\"],[2.6,4.5,4.2,2025,\"Pension Credit\"],[65.9,45.6,68.0,2025,\"Universal Credit\"],[170.0,151.9,172.1,2025,\"National Insurance (total)\"],[235.2,187.9,237.5,2025,\"Income Tax\"],[3.7,1.5,1.3,2025,\"Child Tax Credit\"],[7.6,6.7,10.2,2025,\"Housing Benefit\"]],\"hovertemplate\":\"<b>%{customdata[4]} in %{customdata[3]}</b><br>Error: %{x}<br>Official: \\u00a3%{customdata[2]}bn<br>OpenFisca-UK: \\u00a3%{customdata[0]}bn<br>UKMOD: \\u00a3%{customdata[1]}bn\",\"legendgroup\":\"UKMOD\",\"marker\":{\"color\":\"lightgrey\",\"pattern\":{\"shape\":\"\"}},\"name\":\"UKMOD\",\"offsetgroup\":\"UKMOD\",\"orientation\":\"h\",\"showlegend\":true,\"textposition\":\"auto\",\"x\":[952000000.0,53898305.0,243000000.0,22315000000.0,20225000000.0,49635000000.0,122101695.0,3507000000.0],\"xaxis\":\"x\",\"y\":[\"Child Benefit\",\"Working Tax Credit\",\"Pension Credit\",\"Universal Credit\",\"National Insurance (total)\",\"Income Tax\",\"Child Tax Credit\",\"Housing Benefit\"],\"yaxis\":\"y\",\"type\":\"bar\"}],\"name\":\"2025\"},{\"data\":[{\"alignmentgroup\":\"True\",\"customdata\":[[172.2,151.9,172.1,2026,\"National Insurance (total)\"],[12.0,12.6,11.6,2026,\"Child Benefit\"],[1.4,0.4,0.1,2026,\"Working Tax Credit\"],[235.9,187.9,237.5,2026,\"Income Tax\"],[2.4,4.5,4.1,2026,\"Pension Credit\"],[6.1,6.7,8.2,2026,\"Housing Benefit\"],[2.8,1.5,0.2,2026,\"Child Tax Credit\"],[74.8,45.6,77.8,2026,\"Universal Credit\"]],\"hovertemplate\":\"<b>%{customdata[4]} in %{customdata[3]}</b><br>Error: %{x}<br>Official: \\u00a3%{customdata[2]}bn<br>OpenFisca-UK: \\u00a3%{customdata[0]}bn<br>UKMOD: \\u00a3%{customdata[1]}bn\",\"legendgroup\":\"OpenFisca-UK\",\"marker\":{\"color\":\"blue\",\"pattern\":{\"shape\":\"\"}},\"name\":\"OpenFisca-UK\",\"offsetgroup\":\"OpenFisca-UK\",\"orientation\":\"h\",\"showlegend\":true,\"textposition\":\"auto\",\"x\":[68335127.598,398362217.759,1383432442.994,1577157335.341,1711536804.585,2071128382.529,2590310855.128,3039905373.0990005],\"xaxis\":\"x\",\"y\":[\"National Insurance (total)\",\"Child Benefit\",\"Working Tax Credit\",\"Income Tax\",\"Pension Credit\",\"Housing Benefit\",\"Child Tax Credit\",\"Universal Credit\"],\"yaxis\":\"y\",\"type\":\"bar\"},{\"alignmentgroup\":\"True\",\"customdata\":[[172.2,151.9,172.1,2026,\"National Insurance (total)\"],[12.0,12.6,11.6,2026,\"Child Benefit\"],[1.4,0.4,0.1,2026,\"Working Tax Credit\"],[235.9,187.9,237.5,2026,\"Income Tax\"],[2.4,4.5,4.1,2026,\"Pension Credit\"],[6.1,6.7,8.2,2026,\"Housing Benefit\"],[2.8,1.5,0.2,2026,\"Child Tax Credit\"],[74.8,45.6,77.8,2026,\"Universal Credit\"]],\"hovertemplate\":\"<b>%{customdata[4]} in %{customdata[3]}</b><br>Error: %{x}<br>Official: \\u00a3%{customdata[2]}bn<br>OpenFisca-UK: \\u00a3%{customdata[0]}bn<br>UKMOD: \\u00a3%{customdata[1]}bn\",\"legendgroup\":\"UKMOD\",\"marker\":{\"color\":\"lightgrey\",\"pattern\":{\"shape\":\"\"}},\"name\":\"UKMOD\",\"offsetgroup\":\"UKMOD\",\"orientation\":\"h\",\"showlegend\":true,\"textposition\":\"auto\",\"x\":[20225000000.0,977000000.0,357521186.0,49635000000.0,339000000.0,1493000000.0,1223478814.0,32160000000.0],\"xaxis\":\"x\",\"y\":[\"National Insurance (total)\",\"Child Benefit\",\"Working Tax Credit\",\"Income Tax\",\"Pension Credit\",\"Housing Benefit\",\"Child Tax Credit\",\"Universal Credit\"],\"yaxis\":\"y\",\"type\":\"bar\"}],\"name\":\"2026\"}]);\n",
       "                        }).then(function(){\n",
       "                            \n",
       "var gd = document.getElementById('63de6920-d521-4c5f-9f8e-4d08760ddd75');\n",
       "var x = new MutationObserver(function (mutations, observer) {{\n",
       "        var display = window.getComputedStyle(gd).display;\n",
       "        if (!display || display === 'none') {{\n",
       "            console.log([gd, 'removed!']);\n",
       "            Plotly.purge(gd);\n",
       "            observer.disconnect();\n",
       "        }}\n",
       "}});\n",
       "\n",
       "// Listen for the removal of the full notebook cells\n",
       "var notebookContainer = gd.closest('#notebook-container');\n",
       "if (notebookContainer) {{\n",
       "    x.observe(notebookContainer, {childList: true});\n",
       "}}\n",
       "\n",
       "// Listen for the clearing of the current output cell\n",
       "var outputEl = gd.closest('.output');\n",
       "if (outputEl) {{\n",
       "    x.observe(outputEl, {childList: true});\n",
       "}}\n",
       "\n",
       "                        })                };                });            </script>        </div>"
      ]
     },
     "metadata": {},
     "output_type": "display_data"
    }
   ],
   "source": [
    "pd.set_option(\"display.max_colwidth\", 0)\n",
    "pd.set_option(\"display.max_rows\", 500)\n",
    "\n",
    "\n",
    "def error_chart(table, title=None):\n",
    "    hovertemplate = \"<b>%{customdata[4]} in %{customdata[3]}</b><br>Error: %{x}<br>Official: £%{customdata[2]}bn<br>OpenFisca-UK: £%{customdata[0]}bn<br>UKMOD: £%{customdata[1]}bn\"\n",
    "    table = table.replace(\"\", np.nan).dropna(axis=0)\n",
    "    table[[OPENFISCA_UK, UKMOD]] = table[[OPENFISCA_UK, UKMOD]].abs() / 1e2\n",
    "    fig = (\n",
    "        px.bar(\n",
    "            table.sort_values([\"Year\", OPENFISCA_UK]),\n",
    "            x=[OPENFISCA_UK, UKMOD],\n",
    "            y=\"Program\",\n",
    "            orientation=\"h\",\n",
    "            animation_frame=\"Year\",\n",
    "            barmode=\"group\",\n",
    "            color_discrete_map={\n",
    "                OPENFISCA_UK: \"blue\",\n",
    "                UKMOD: \"lightgrey\",\n",
    "            },\n",
    "            custom_data=[\n",
    "                \"OpenFisca-UK budgetary impact\",\n",
    "                \"UKMOD budgetary impact\",\n",
    "                \"External budgetary impact\",\n",
    "                \"Year\",\n",
    "                \"Program\",\n",
    "            ],\n",
    "        )\n",
    "        .update_layout(\n",
    "            width=800,\n",
    "            height=600,\n",
    "            xaxis_tickprefix=\"£\",\n",
    "            xaxis_title=\"Budgetary impact error\",\n",
    "            title=title,\n",
    "            template=\"plotly_white\",\n",
    "            legend_title=\"Model\",\n",
    "            yaxis_title=\"\",\n",
    "            legend_traceorder=\"reversed\",\n",
    "        )\n",
    "        .update_traces(hovertemplate=hovertemplate)\n",
    "    )\n",
    "    for frame in fig.frames:\n",
    "        for data in frame.data:\n",
    "            data.hovertemplate = hovertemplate\n",
    "    return fig\n",
    "\n",
    "\n",
    "error_chart(\n",
    "    tables_to_model_comparisons(\n",
    "        {\n",
    "            \"\": model_validation_table(\n",
    "                budgetary_impact_error,\n",
    "                models=[OPENFISCA_UK, UKMOD],\n",
    "                divisor=1e-2,\n",
    "                decimals=1,\n",
    "            ),\n",
    "            \"budgetary impact\": model_validation_table(\n",
    "                budgetary_impact, divisor=1e9, decimals=1\n",
    "            ),\n",
    "        }\n",
    "    ),\n",
    "    title=\"Budgetary impact error\",\n",
    ")"
   ]
  },
  {
   "cell_type": "markdown",
   "id": "f89a9c20-9f10-4a8e-9ce9-5d35cc59f936",
   "metadata": {},
   "source": [
    "## Caseload tables\n",
    "\n",
    "OpenFisca-UK uprates input FRS data: below are comparisons between the aggregates calculated by OpenFisca-UK, UKMOD and external sources.\n",
    "\n",
    "### Caseloads in full"
   ]
  },
  {
   "cell_type": "code",
   "execution_count": 7,
   "id": "63f78e85-f975-49f2-9aa5-be89d8d0e4f4",
   "metadata": {
    "tags": [
     "hide-input"
    ]
   },
   "outputs": [
    {
     "data": {
      "text/html": [
       "<div>\n",
       "<style scoped>\n",
       "    .dataframe tbody tr th:only-of-type {\n",
       "        vertical-align: middle;\n",
       "    }\n",
       "\n",
       "    .dataframe tbody tr th {\n",
       "        vertical-align: top;\n",
       "    }\n",
       "\n",
       "    .dataframe thead th {\n",
       "        text-align: right;\n",
       "    }\n",
       "</style>\n",
       "<table border=\"1\" class=\"dataframe\">\n",
       "  <thead>\n",
       "    <tr style=\"text-align: right;\">\n",
       "      <th></th>\n",
       "      <th></th>\n",
       "      <th>Child Benefit</th>\n",
       "      <th>Income Support</th>\n",
       "      <th>JSA (income-based)</th>\n",
       "      <th>Housing Benefit</th>\n",
       "      <th>Working Tax Credit</th>\n",
       "      <th>Child Tax Credit</th>\n",
       "      <th>Universal Credit</th>\n",
       "      <th>Pension Credit</th>\n",
       "      <th>Income Tax</th>\n",
       "      <th>National Insurance (total)</th>\n",
       "    </tr>\n",
       "  </thead>\n",
       "  <tbody>\n",
       "    <tr>\n",
       "      <th rowspan=\"5\" valign=\"top\">External</th>\n",
       "      <th>2022</th>\n",
       "      <td>7.07</td>\n",
       "      <td>0.16</td>\n",
       "      <td>0.04</td>\n",
       "      <td>2.71</td>\n",
       "      <td>0.91</td>\n",
       "      <td>1.34</td>\n",
       "      <td>4.65</td>\n",
       "      <td>1.41</td>\n",
       "      <td>32.71</td>\n",
       "      <td></td>\n",
       "    </tr>\n",
       "    <tr>\n",
       "      <th>2023</th>\n",
       "      <td>7.00</td>\n",
       "      <td>0.12</td>\n",
       "      <td>0.01</td>\n",
       "      <td>2.46</td>\n",
       "      <td>0.79</td>\n",
       "      <td>1.06</td>\n",
       "      <td>5.05</td>\n",
       "      <td>1.34</td>\n",
       "      <td>33.22</td>\n",
       "      <td></td>\n",
       "    </tr>\n",
       "    <tr>\n",
       "      <th>2024</th>\n",
       "      <td>6.93</td>\n",
       "      <td>0.08</td>\n",
       "      <td>0.0</td>\n",
       "      <td>2.11</td>\n",
       "      <td>0.69</td>\n",
       "      <td>0.84</td>\n",
       "      <td>5.61</td>\n",
       "      <td>1.28</td>\n",
       "      <td>33.75</td>\n",
       "      <td></td>\n",
       "    </tr>\n",
       "    <tr>\n",
       "      <th>2025</th>\n",
       "      <td>6.87</td>\n",
       "      <td>0.03</td>\n",
       "      <td>0.0</td>\n",
       "      <td>1.73</td>\n",
       "      <td>0.60</td>\n",
       "      <td>0.67</td>\n",
       "      <td>6.29</td>\n",
       "      <td>1.23</td>\n",
       "      <td>34.28</td>\n",
       "      <td></td>\n",
       "    </tr>\n",
       "    <tr>\n",
       "      <th>2026</th>\n",
       "      <td>6.80</td>\n",
       "      <td>0.0</td>\n",
       "      <td>0.0</td>\n",
       "      <td>1.39</td>\n",
       "      <td>0.52</td>\n",
       "      <td>0.53</td>\n",
       "      <td>6.91</td>\n",
       "      <td>1.19</td>\n",
       "      <td>34.82</td>\n",
       "      <td></td>\n",
       "    </tr>\n",
       "    <tr>\n",
       "      <th rowspan=\"5\" valign=\"top\">OpenFisca-UK</th>\n",
       "      <th>2022</th>\n",
       "      <td>7.07</td>\n",
       "      <td>0.15</td>\n",
       "      <td>0.06</td>\n",
       "      <td>2.71</td>\n",
       "      <td>0.90</td>\n",
       "      <td>1.33</td>\n",
       "      <td>4.67</td>\n",
       "      <td>1.41</td>\n",
       "      <td>31.21</td>\n",
       "      <td>27.55</td>\n",
       "    </tr>\n",
       "    <tr>\n",
       "      <th>2023</th>\n",
       "      <td>7.01</td>\n",
       "      <td>0.11</td>\n",
       "      <td>0.03</td>\n",
       "      <td>2.46</td>\n",
       "      <td>0.78</td>\n",
       "      <td>1.05</td>\n",
       "      <td>5.07</td>\n",
       "      <td>1.34</td>\n",
       "      <td>31.32</td>\n",
       "      <td>27.55</td>\n",
       "    </tr>\n",
       "    <tr>\n",
       "      <th>2024</th>\n",
       "      <td>6.94</td>\n",
       "      <td>0.08</td>\n",
       "      <td>0.03</td>\n",
       "      <td>2.12</td>\n",
       "      <td>0.68</td>\n",
       "      <td>0.83</td>\n",
       "      <td>5.63</td>\n",
       "      <td>1.28</td>\n",
       "      <td>31.35</td>\n",
       "      <td>27.63</td>\n",
       "    </tr>\n",
       "    <tr>\n",
       "      <th>2025</th>\n",
       "      <td>6.87</td>\n",
       "      <td>0.04</td>\n",
       "      <td>0.03</td>\n",
       "      <td>1.73</td>\n",
       "      <td>0.59</td>\n",
       "      <td>0.66</td>\n",
       "      <td>6.30</td>\n",
       "      <td>1.23</td>\n",
       "      <td>31.41</td>\n",
       "      <td>27.53</td>\n",
       "    </tr>\n",
       "    <tr>\n",
       "      <th>2026</th>\n",
       "      <td>6.80</td>\n",
       "      <td>0.02</td>\n",
       "      <td>0.03</td>\n",
       "      <td>1.39</td>\n",
       "      <td>0.51</td>\n",
       "      <td>0.52</td>\n",
       "      <td>6.93</td>\n",
       "      <td>1.19</td>\n",
       "      <td>31.50</td>\n",
       "      <td>27.91</td>\n",
       "    </tr>\n",
       "    <tr>\n",
       "      <th rowspan=\"5\" valign=\"top\">UKMOD</th>\n",
       "      <th>2022</th>\n",
       "      <td>7.12</td>\n",
       "      <td></td>\n",
       "      <td></td>\n",
       "      <td>2.26</td>\n",
       "      <td>0.54</td>\n",
       "      <td>1.08</td>\n",
       "      <td>4.21</td>\n",
       "      <td>1.41</td>\n",
       "      <td>30.01</td>\n",
       "      <td>26.08</td>\n",
       "    </tr>\n",
       "    <tr>\n",
       "      <th>2023</th>\n",
       "      <td>7.07</td>\n",
       "      <td></td>\n",
       "      <td></td>\n",
       "      <td>2.05</td>\n",
       "      <td>0.44</td>\n",
       "      <td>0.89</td>\n",
       "      <td>4.66</td>\n",
       "      <td>1.45</td>\n",
       "      <td>30.58</td>\n",
       "      <td>26.19</td>\n",
       "    </tr>\n",
       "    <tr>\n",
       "      <th>2024</th>\n",
       "      <td>7.02</td>\n",
       "      <td></td>\n",
       "      <td></td>\n",
       "      <td>1.78</td>\n",
       "      <td>0.30</td>\n",
       "      <td>0.64</td>\n",
       "      <td>5.31</td>\n",
       "      <td>1.44</td>\n",
       "      <td>30.94</td>\n",
       "      <td>26.24</td>\n",
       "    </tr>\n",
       "    <tr>\n",
       "      <th>2025</th>\n",
       "      <td>6.99</td>\n",
       "      <td></td>\n",
       "      <td></td>\n",
       "      <td>1.43</td>\n",
       "      <td>0.13</td>\n",
       "      <td>0.29</td>\n",
       "      <td>6.15</td>\n",
       "      <td>1.42</td>\n",
       "      <td>31.47</td>\n",
       "      <td>26.27</td>\n",
       "    </tr>\n",
       "    <tr>\n",
       "      <th>2026</th>\n",
       "      <td>6.99</td>\n",
       "      <td></td>\n",
       "      <td></td>\n",
       "      <td>1.43</td>\n",
       "      <td>0.13</td>\n",
       "      <td>0.29</td>\n",
       "      <td>6.15</td>\n",
       "      <td>1.42</td>\n",
       "      <td>31.47</td>\n",
       "      <td>26.27</td>\n",
       "    </tr>\n",
       "  </tbody>\n",
       "</table>\n",
       "</div>"
      ],
      "text/plain": [
       "                   Child Benefit Income Support JSA (income-based)  \\\n",
       "External     2022  7.07           0.16           0.04                \n",
       "             2023  7.00           0.12           0.01                \n",
       "             2024  6.93           0.08           0.0                 \n",
       "             2025  6.87           0.03           0.0                 \n",
       "             2026  6.80           0.0            0.0                 \n",
       "OpenFisca-UK 2022  7.07           0.15           0.06                \n",
       "             2023  7.01           0.11           0.03                \n",
       "             2024  6.94           0.08           0.03                \n",
       "             2025  6.87           0.04           0.03                \n",
       "             2026  6.80           0.02           0.03                \n",
       "UKMOD        2022  7.12                                              \n",
       "             2023  7.07                                              \n",
       "             2024  7.02                                              \n",
       "             2025  6.99                                              \n",
       "             2026  6.99                                              \n",
       "\n",
       "                   Housing Benefit  Working Tax Credit  Child Tax Credit  \\\n",
       "External     2022  2.71             0.91                1.34               \n",
       "             2023  2.46             0.79                1.06               \n",
       "             2024  2.11             0.69                0.84               \n",
       "             2025  1.73             0.60                0.67               \n",
       "             2026  1.39             0.52                0.53               \n",
       "OpenFisca-UK 2022  2.71             0.90                1.33               \n",
       "             2023  2.46             0.78                1.05               \n",
       "             2024  2.12             0.68                0.83               \n",
       "             2025  1.73             0.59                0.66               \n",
       "             2026  1.39             0.51                0.52               \n",
       "UKMOD        2022  2.26             0.54                1.08               \n",
       "             2023  2.05             0.44                0.89               \n",
       "             2024  1.78             0.30                0.64               \n",
       "             2025  1.43             0.13                0.29               \n",
       "             2026  1.43             0.13                0.29               \n",
       "\n",
       "                   Universal Credit  Pension Credit  Income Tax  \\\n",
       "External     2022  4.65              1.41            32.71        \n",
       "             2023  5.05              1.34            33.22        \n",
       "             2024  5.61              1.28            33.75        \n",
       "             2025  6.29              1.23            34.28        \n",
       "             2026  6.91              1.19            34.82        \n",
       "OpenFisca-UK 2022  4.67              1.41            31.21        \n",
       "             2023  5.07              1.34            31.32        \n",
       "             2024  5.63              1.28            31.35        \n",
       "             2025  6.30              1.23            31.41        \n",
       "             2026  6.93              1.19            31.50        \n",
       "UKMOD        2022  4.21              1.41            30.01        \n",
       "             2023  4.66              1.45            30.58        \n",
       "             2024  5.31              1.44            30.94        \n",
       "             2025  6.15              1.42            31.47        \n",
       "             2026  6.15              1.42            31.47        \n",
       "\n",
       "                  National Insurance (total)  \n",
       "External     2022                             \n",
       "             2023                             \n",
       "             2024                             \n",
       "             2025                             \n",
       "             2026                             \n",
       "OpenFisca-UK 2022  27.55                      \n",
       "             2023  27.55                      \n",
       "             2024  27.63                      \n",
       "             2025  27.53                      \n",
       "             2026  27.91                      \n",
       "UKMOD        2022  26.08                      \n",
       "             2023  26.19                      \n",
       "             2024  26.24                      \n",
       "             2025  26.27                      \n",
       "             2026  26.27                      "
      ]
     },
     "execution_count": 7,
     "metadata": {},
     "output_type": "execute_result"
    }
   ],
   "source": [
    "from microdf import MicroSeries\n",
    "\n",
    "\n",
    "def get_nonzero(variable, year):\n",
    "    entity = default_variables[variable].entity.key\n",
    "    values = sim.calc(variable, period=year) > 0\n",
    "    return MicroSeries(\n",
    "        sim.map_to(values, entity, \"household\"),\n",
    "        weights=sim.calc(\"household_weight\", year),\n",
    "    )\n",
    "\n",
    "\n",
    "def caseload(model, year, variable):\n",
    "    try:\n",
    "        if model == OPENFISCA_UK:\n",
    "            return get_nonzero(variable, year).sum()\n",
    "        elif model == UKMOD:\n",
    "            return getattr(ukmod_statistics.ukmod.nonzero_units, variable)(\n",
    "                f\"{year}-01-01\"\n",
    "            )\n",
    "        elif model == EXTERNAL:\n",
    "            try:\n",
    "                return getattr(\n",
    "                    parameters.calibration.families.by_program_participation,\n",
    "                    variable,\n",
    "                )(f\"{year}-01-01\")\n",
    "            except:\n",
    "                return getattr(\n",
    "                    parameters.calibration.populations.by_program_participation,\n",
    "                    variable,\n",
    "                )(f\"{year}-01-01\")\n",
    "    except:\n",
    "        return np.nan\n",
    "\n",
    "\n",
    "model_validation_table(\n",
    "    caseload, models=[EXTERNAL, OPENFISCA_UK, UKMOD], divisor=1e6, decimals=2\n",
    ")"
   ]
  },
  {
   "cell_type": "markdown",
   "id": "d83ef056-b2c6-4f56-b11b-de4ee980463d",
   "metadata": {},
   "source": [
    "### Caseload forecasts"
   ]
  },
  {
   "cell_type": "code",
   "execution_count": 8,
   "id": "7b883c5d-171d-4511-a769-47254476aad3",
   "metadata": {
    "tags": [
     "hide-input"
    ]
   },
   "outputs": [
    {
     "data": {
      "application/vnd.plotly.v1+json": {
       "config": {
        "plotlyServerURL": "https://plot.ly"
       },
       "data": [
        {
         "hovertemplate": "",
         "legendgroup": "External",
         "line": {
          "color": "#00cc96",
          "dash": "solid"
         },
         "marker": {
          "symbol": "circle"
         },
         "mode": "lines",
         "name": "External",
         "orientation": "h",
         "showlegend": true,
         "type": "scatter",
         "x": [
          2022,
          2023,
          2024,
          2025,
          2026
         ],
         "xaxis": "x",
         "y": [
          7070781.7,
          7001894.9,
          6933679.3,
          6866128.3,
          6799235.3
         ],
         "yaxis": "y"
        },
        {
         "hovertemplate": "",
         "legendgroup": "OpenFisca-UK",
         "line": {
          "color": "blue",
          "dash": "solid"
         },
         "marker": {
          "symbol": "circle"
         },
         "mode": "lines",
         "name": "OpenFisca-UK",
         "orientation": "h",
         "showlegend": true,
         "type": "scatter",
         "x": [
          2022,
          2023,
          2024,
          2025,
          2026
         ],
         "xaxis": "x",
         "y": [
          7073473.4,
          7005424.8,
          6937346.9,
          6868779.9,
          6802052.8
         ],
         "yaxis": "y"
        },
        {
         "hovertemplate": "",
         "legendgroup": "UKMOD",
         "line": {
          "color": "lightgrey",
          "dash": "solid"
         },
         "marker": {
          "symbol": "circle"
         },
         "mode": "lines",
         "name": "UKMOD",
         "orientation": "h",
         "showlegend": true,
         "type": "scatter",
         "x": [
          2022,
          2023,
          2024,
          2025,
          2026
         ],
         "xaxis": "x",
         "y": [
          7116000,
          7072000,
          7022000,
          6990000,
          6990000
         ],
         "yaxis": "y"
        }
       ],
       "frames": [
        {
         "data": [
          {
           "hovertemplate": "",
           "legendgroup": "External",
           "line": {
            "color": "#00cc96",
            "dash": "solid"
           },
           "marker": {
            "symbol": "circle"
           },
           "mode": "lines",
           "name": "External",
           "orientation": "h",
           "showlegend": true,
           "type": "scatter",
           "x": [
            2022,
            2023,
            2024,
            2025,
            2026
           ],
           "xaxis": "x",
           "y": [
            7070781.7,
            7001894.9,
            6933679.3,
            6866128.3,
            6799235.3
           ],
           "yaxis": "y"
          },
          {
           "hovertemplate": "",
           "legendgroup": "OpenFisca-UK",
           "line": {
            "color": "blue",
            "dash": "solid"
           },
           "marker": {
            "symbol": "circle"
           },
           "mode": "lines",
           "name": "OpenFisca-UK",
           "orientation": "h",
           "showlegend": true,
           "type": "scatter",
           "x": [
            2022,
            2023,
            2024,
            2025,
            2026
           ],
           "xaxis": "x",
           "y": [
            7073473.4,
            7005424.8,
            6937346.9,
            6868779.9,
            6802052.8
           ],
           "yaxis": "y"
          },
          {
           "hovertemplate": "",
           "legendgroup": "UKMOD",
           "line": {
            "color": "lightgrey",
            "dash": "solid"
           },
           "marker": {
            "symbol": "circle"
           },
           "mode": "lines",
           "name": "UKMOD",
           "orientation": "h",
           "showlegend": true,
           "type": "scatter",
           "x": [
            2022,
            2023,
            2024,
            2025,
            2026
           ],
           "xaxis": "x",
           "y": [
            7116000,
            7072000,
            7022000,
            6990000,
            6990000
           ],
           "yaxis": "y"
          }
         ],
         "name": "Child Benefit"
        },
        {
         "data": [
          {
           "hovertemplate": "",
           "legendgroup": "External",
           "line": {
            "color": "#00cc96",
            "dash": "solid"
           },
           "marker": {
            "symbol": "circle"
           },
           "mode": "lines",
           "name": "External",
           "orientation": "h",
           "showlegend": true,
           "type": "scatter",
           "x": [
            2022,
            2023,
            2024,
            2025,
            2026
           ],
           "xaxis": "x",
           "y": [
            1337692.2,
            1061340.8,
            842080.2,
            668116.4,
            530091.4
           ],
           "yaxis": "y"
          },
          {
           "hovertemplate": "",
           "legendgroup": "OpenFisca-UK",
           "line": {
            "color": "blue",
            "dash": "solid"
           },
           "marker": {
            "symbol": "circle"
           },
           "mode": "lines",
           "name": "OpenFisca-UK",
           "orientation": "h",
           "showlegend": true,
           "type": "scatter",
           "x": [
            2022,
            2023,
            2024,
            2025,
            2026
           ],
           "xaxis": "x",
           "y": [
            1329657,
            1053413.3,
            833430.8,
            658437.6,
            517783
           ],
           "yaxis": "y"
          },
          {
           "hovertemplate": "",
           "legendgroup": "UKMOD",
           "line": {
            "color": "lightgrey",
            "dash": "solid"
           },
           "marker": {
            "symbol": "circle"
           },
           "mode": "lines",
           "name": "UKMOD",
           "orientation": "h",
           "showlegend": true,
           "type": "scatter",
           "x": [
            2022,
            2023,
            2024,
            2025,
            2026
           ],
           "xaxis": "x",
           "y": [
            1080000,
            890000,
            643000,
            292000,
            292000
           ],
           "yaxis": "y"
          }
         ],
         "name": "Child Tax Credit"
        },
        {
         "data": [
          {
           "hovertemplate": "",
           "legendgroup": "External",
           "line": {
            "color": "#00cc96",
            "dash": "solid"
           },
           "marker": {
            "symbol": "circle"
           },
           "mode": "lines",
           "name": "External",
           "orientation": "h",
           "showlegend": true,
           "type": "scatter",
           "x": [
            2022,
            2023,
            2024,
            2025,
            2026
           ],
           "xaxis": "x",
           "y": [
            2708000,
            2459000,
            2114000,
            1726000,
            1388000
           ],
           "yaxis": "y"
          },
          {
           "hovertemplate": "",
           "legendgroup": "OpenFisca-UK",
           "line": {
            "color": "blue",
            "dash": "solid"
           },
           "marker": {
            "symbol": "circle"
           },
           "mode": "lines",
           "name": "OpenFisca-UK",
           "orientation": "h",
           "showlegend": true,
           "type": "scatter",
           "x": [
            2022,
            2023,
            2024,
            2025,
            2026
           ],
           "xaxis": "x",
           "y": [
            2713363.3,
            2463888,
            2117283.9,
            1728219,
            1385973.3
           ],
           "yaxis": "y"
          },
          {
           "hovertemplate": "",
           "legendgroup": "UKMOD",
           "line": {
            "color": "lightgrey",
            "dash": "solid"
           },
           "marker": {
            "symbol": "circle"
           },
           "mode": "lines",
           "name": "UKMOD",
           "orientation": "h",
           "showlegend": true,
           "type": "scatter",
           "x": [
            2022,
            2023,
            2024,
            2025,
            2026
           ],
           "xaxis": "x",
           "y": [
            2262000,
            2050000,
            1783000,
            1432000,
            1432000
           ],
           "yaxis": "y"
          }
         ],
         "name": "Housing Benefit"
        },
        {
         "data": [
          {
           "hovertemplate": "",
           "legendgroup": "External",
           "line": {
            "color": "#00cc96",
            "dash": "solid"
           },
           "marker": {
            "symbol": "circle"
           },
           "mode": "lines",
           "name": "External",
           "orientation": "h",
           "showlegend": true,
           "type": "scatter",
           "x": [
            2022,
            2023,
            2024,
            2025,
            2026
           ],
           "xaxis": "x",
           "y": [
            157000,
            116000,
            76000,
            34000,
            3000
           ],
           "yaxis": "y"
          },
          {
           "hovertemplate": "",
           "legendgroup": "OpenFisca-UK",
           "line": {
            "color": "blue",
            "dash": "solid"
           },
           "marker": {
            "symbol": "circle"
           },
           "mode": "lines",
           "name": "OpenFisca-UK",
           "orientation": "h",
           "showlegend": true,
           "type": "scatter",
           "x": [
            2022,
            2023,
            2024,
            2025,
            2026
           ],
           "xaxis": "x",
           "y": [
            154623.1,
            114271,
            77017.7,
            42087.4,
            18673.2
           ],
           "yaxis": "y"
          },
          {
           "hovertemplate": "",
           "legendgroup": "UKMOD",
           "line": {
            "color": "lightgrey",
            "dash": "solid"
           },
           "marker": {
            "symbol": "circle"
           },
           "mode": "lines",
           "name": "UKMOD",
           "orientation": "h",
           "showlegend": true,
           "type": "scatter",
           "x": [
            2022,
            2023,
            2024,
            2025,
            2026
           ],
           "xaxis": "x",
           "y": [
            "",
            "",
            "",
            "",
            ""
           ],
           "yaxis": "y"
          }
         ],
         "name": "Income Support"
        },
        {
         "data": [
          {
           "hovertemplate": "",
           "legendgroup": "External",
           "line": {
            "color": "#00cc96",
            "dash": "solid"
           },
           "marker": {
            "symbol": "circle"
           },
           "mode": "lines",
           "name": "External",
           "orientation": "h",
           "showlegend": true,
           "type": "scatter",
           "x": [
            2022,
            2023,
            2024,
            2025,
            2026
           ],
           "xaxis": "x",
           "y": [
            32707886.4,
            33223783.7,
            33747818.1,
            34280118.1,
            34820814
           ],
           "yaxis": "y"
          },
          {
           "hovertemplate": "",
           "legendgroup": "OpenFisca-UK",
           "line": {
            "color": "blue",
            "dash": "solid"
           },
           "marker": {
            "symbol": "circle"
           },
           "mode": "lines",
           "name": "OpenFisca-UK",
           "orientation": "h",
           "showlegend": true,
           "type": "scatter",
           "x": [
            2022,
            2023,
            2024,
            2025,
            2026
           ],
           "xaxis": "x",
           "y": [
            31207196.6,
            31323351.1,
            31345234.3,
            31409394.8,
            31497129
           ],
           "yaxis": "y"
          },
          {
           "hovertemplate": "",
           "legendgroup": "UKMOD",
           "line": {
            "color": "lightgrey",
            "dash": "solid"
           },
           "marker": {
            "symbol": "circle"
           },
           "mode": "lines",
           "name": "UKMOD",
           "orientation": "h",
           "showlegend": true,
           "type": "scatter",
           "x": [
            2022,
            2023,
            2024,
            2025,
            2026
           ],
           "xaxis": "x",
           "y": [
            30011000,
            30583000,
            30939000,
            31466000,
            31466000
           ],
           "yaxis": "y"
          }
         ],
         "name": "Income Tax"
        },
        {
         "data": [
          {
           "hovertemplate": "",
           "legendgroup": "External",
           "line": {
            "color": "#00cc96",
            "dash": "solid"
           },
           "marker": {
            "symbol": "circle"
           },
           "mode": "lines",
           "name": "External",
           "orientation": "h",
           "showlegend": true,
           "type": "scatter",
           "x": [
            2022,
            2023,
            2024,
            2025,
            2026
           ],
           "xaxis": "x",
           "y": [
            44000,
            5000,
            0,
            0,
            0
           ],
           "yaxis": "y"
          },
          {
           "hovertemplate": "",
           "legendgroup": "OpenFisca-UK",
           "line": {
            "color": "blue",
            "dash": "solid"
           },
           "marker": {
            "symbol": "circle"
           },
           "mode": "lines",
           "name": "OpenFisca-UK",
           "orientation": "h",
           "showlegend": true,
           "type": "scatter",
           "x": [
            2022,
            2023,
            2024,
            2025,
            2026
           ],
           "xaxis": "x",
           "y": [
            56355.4,
            32986.7,
            29747.5,
            27885.4,
            26774.8
           ],
           "yaxis": "y"
          },
          {
           "hovertemplate": "",
           "legendgroup": "UKMOD",
           "line": {
            "color": "lightgrey",
            "dash": "solid"
           },
           "marker": {
            "symbol": "circle"
           },
           "mode": "lines",
           "name": "UKMOD",
           "orientation": "h",
           "showlegend": true,
           "type": "scatter",
           "x": [
            2022,
            2023,
            2024,
            2025,
            2026
           ],
           "xaxis": "x",
           "y": [
            "",
            "",
            "",
            "",
            ""
           ],
           "yaxis": "y"
          }
         ],
         "name": "JSA (income-based)"
        },
        {
         "data": [
          {
           "hovertemplate": "",
           "legendgroup": "External",
           "line": {
            "color": "#00cc96",
            "dash": "solid"
           },
           "marker": {
            "symbol": "circle"
           },
           "mode": "lines",
           "name": "External",
           "orientation": "h",
           "showlegend": true,
           "type": "scatter",
           "x": [
            2022,
            2023,
            2024,
            2025,
            2026
           ],
           "xaxis": "x",
           "y": [
            "",
            "",
            "",
            "",
            ""
           ],
           "yaxis": "y"
          },
          {
           "hovertemplate": "",
           "legendgroup": "OpenFisca-UK",
           "line": {
            "color": "blue",
            "dash": "solid"
           },
           "marker": {
            "symbol": "circle"
           },
           "mode": "lines",
           "name": "OpenFisca-UK",
           "orientation": "h",
           "showlegend": true,
           "type": "scatter",
           "x": [
            2022,
            2023,
            2024,
            2025,
            2026
           ],
           "xaxis": "x",
           "y": [
            27547924.7,
            27551976.5,
            27626555.2,
            27529434.1,
            27913645.2
           ],
           "yaxis": "y"
          },
          {
           "hovertemplate": "",
           "legendgroup": "UKMOD",
           "line": {
            "color": "lightgrey",
            "dash": "solid"
           },
           "marker": {
            "symbol": "circle"
           },
           "mode": "lines",
           "name": "UKMOD",
           "orientation": "h",
           "showlegend": true,
           "type": "scatter",
           "x": [
            2022,
            2023,
            2024,
            2025,
            2026
           ],
           "xaxis": "x",
           "y": [
            26084000,
            26194000,
            26239000,
            26271000,
            26271000
           ],
           "yaxis": "y"
          }
         ],
         "name": "National Insurance (total)"
        },
        {
         "data": [
          {
           "hovertemplate": "",
           "legendgroup": "External",
           "line": {
            "color": "#00cc96",
            "dash": "solid"
           },
           "marker": {
            "symbol": "circle"
           },
           "mode": "lines",
           "name": "External",
           "orientation": "h",
           "showlegend": true,
           "type": "scatter",
           "x": [
            2022,
            2023,
            2024,
            2025,
            2026
           ],
           "xaxis": "x",
           "y": [
            1406000,
            1341000,
            1284000,
            1233000,
            1194000
           ],
           "yaxis": "y"
          },
          {
           "hovertemplate": "",
           "legendgroup": "OpenFisca-UK",
           "line": {
            "color": "blue",
            "dash": "solid"
           },
           "marker": {
            "symbol": "circle"
           },
           "mode": "lines",
           "name": "OpenFisca-UK",
           "orientation": "h",
           "showlegend": true,
           "type": "scatter",
           "x": [
            2022,
            2023,
            2024,
            2025,
            2026
           ],
           "xaxis": "x",
           "y": [
            1405314.8,
            1340556.6,
            1283473.6,
            1233130.6,
            1193434
           ],
           "yaxis": "y"
          },
          {
           "hovertemplate": "",
           "legendgroup": "UKMOD",
           "line": {
            "color": "lightgrey",
            "dash": "solid"
           },
           "marker": {
            "symbol": "circle"
           },
           "mode": "lines",
           "name": "UKMOD",
           "orientation": "h",
           "showlegend": true,
           "type": "scatter",
           "x": [
            2022,
            2023,
            2024,
            2025,
            2026
           ],
           "xaxis": "x",
           "y": [
            1413000,
            1445000,
            1442000,
            1417000,
            1417000
           ],
           "yaxis": "y"
          }
         ],
         "name": "Pension Credit"
        },
        {
         "data": [
          {
           "hovertemplate": "",
           "legendgroup": "External",
           "line": {
            "color": "#00cc96",
            "dash": "solid"
           },
           "marker": {
            "symbol": "circle"
           },
           "mode": "lines",
           "name": "External",
           "orientation": "h",
           "showlegend": true,
           "type": "scatter",
           "x": [
            2022,
            2023,
            2024,
            2025,
            2026
           ],
           "xaxis": "x",
           "y": [
            4649000,
            5048000,
            5605000,
            6285000,
            6912000
           ],
           "yaxis": "y"
          },
          {
           "hovertemplate": "",
           "legendgroup": "OpenFisca-UK",
           "line": {
            "color": "blue",
            "dash": "solid"
           },
           "marker": {
            "symbol": "circle"
           },
           "mode": "lines",
           "name": "OpenFisca-UK",
           "orientation": "h",
           "showlegend": true,
           "type": "scatter",
           "x": [
            2022,
            2023,
            2024,
            2025,
            2026
           ],
           "xaxis": "x",
           "y": [
            4667120,
            5071264.4,
            5632091.4,
            6300414.3,
            6930805
           ],
           "yaxis": "y"
          },
          {
           "hovertemplate": "",
           "legendgroup": "UKMOD",
           "line": {
            "color": "lightgrey",
            "dash": "solid"
           },
           "marker": {
            "symbol": "circle"
           },
           "mode": "lines",
           "name": "UKMOD",
           "orientation": "h",
           "showlegend": true,
           "type": "scatter",
           "x": [
            2022,
            2023,
            2024,
            2025,
            2026
           ],
           "xaxis": "x",
           "y": [
            4214000,
            4656000,
            5311000,
            6146000,
            6146000
           ],
           "yaxis": "y"
          }
         ],
         "name": "Universal Credit"
        },
        {
         "data": [
          {
           "hovertemplate": "",
           "legendgroup": "External",
           "line": {
            "color": "#00cc96",
            "dash": "solid"
           },
           "marker": {
            "symbol": "circle"
           },
           "mode": "lines",
           "name": "External",
           "orientation": "h",
           "showlegend": true,
           "type": "scatter",
           "x": [
            2022,
            2023,
            2024,
            2025,
            2026
           ],
           "xaxis": "x",
           "y": [
            909037.5,
            791522.3,
            689198.7,
            600102.9,
            522525
           ],
           "yaxis": "y"
          },
          {
           "hovertemplate": "",
           "legendgroup": "OpenFisca-UK",
           "line": {
            "color": "blue",
            "dash": "solid"
           },
           "marker": {
            "symbol": "circle"
           },
           "mode": "lines",
           "name": "OpenFisca-UK",
           "orientation": "h",
           "showlegend": true,
           "type": "scatter",
           "x": [
            2022,
            2023,
            2024,
            2025,
            2026
           ],
           "xaxis": "x",
           "y": [
            903293.4,
            784669,
            681723.8,
            591931,
            513745.8
           ],
           "yaxis": "y"
          },
          {
           "hovertemplate": "",
           "legendgroup": "UKMOD",
           "line": {
            "color": "lightgrey",
            "dash": "solid"
           },
           "marker": {
            "symbol": "circle"
           },
           "mode": "lines",
           "name": "UKMOD",
           "orientation": "h",
           "showlegend": true,
           "type": "scatter",
           "x": [
            2022,
            2023,
            2024,
            2025,
            2026
           ],
           "xaxis": "x",
           "y": [
            540000,
            443000,
            297000,
            129000,
            129000
           ],
           "yaxis": "y"
          }
         ],
         "name": "Working Tax Credit"
        }
       ],
       "layout": {
        "height": 600,
        "legend": {
         "title": {
          "text": "Model"
         },
         "tracegroupgap": 0,
         "traceorder": "reversed"
        },
        "margin": {
         "t": 60
        },
        "sliders": [
         {
          "active": 0,
          "currentvalue": {
           "prefix": "Program="
          },
          "len": 0.9,
          "pad": {
           "b": 10,
           "t": 60
          },
          "steps": [
           {
            "args": [
             [
              "Child Benefit"
             ],
             {
              "frame": {
               "duration": 0,
               "redraw": false
              },
              "fromcurrent": true,
              "mode": "immediate",
              "transition": {
               "duration": 0,
               "easing": "linear"
              }
             }
            ],
            "label": "Child Benefit",
            "method": "animate"
           },
           {
            "args": [
             [
              "Child Tax Credit"
             ],
             {
              "frame": {
               "duration": 0,
               "redraw": false
              },
              "fromcurrent": true,
              "mode": "immediate",
              "transition": {
               "duration": 0,
               "easing": "linear"
              }
             }
            ],
            "label": "Child Tax Credit",
            "method": "animate"
           },
           {
            "args": [
             [
              "Housing Benefit"
             ],
             {
              "frame": {
               "duration": 0,
               "redraw": false
              },
              "fromcurrent": true,
              "mode": "immediate",
              "transition": {
               "duration": 0,
               "easing": "linear"
              }
             }
            ],
            "label": "Housing Benefit",
            "method": "animate"
           },
           {
            "args": [
             [
              "Income Support"
             ],
             {
              "frame": {
               "duration": 0,
               "redraw": false
              },
              "fromcurrent": true,
              "mode": "immediate",
              "transition": {
               "duration": 0,
               "easing": "linear"
              }
             }
            ],
            "label": "Income Support",
            "method": "animate"
           },
           {
            "args": [
             [
              "Income Tax"
             ],
             {
              "frame": {
               "duration": 0,
               "redraw": false
              },
              "fromcurrent": true,
              "mode": "immediate",
              "transition": {
               "duration": 0,
               "easing": "linear"
              }
             }
            ],
            "label": "Income Tax",
            "method": "animate"
           },
           {
            "args": [
             [
              "JSA (income-based)"
             ],
             {
              "frame": {
               "duration": 0,
               "redraw": false
              },
              "fromcurrent": true,
              "mode": "immediate",
              "transition": {
               "duration": 0,
               "easing": "linear"
              }
             }
            ],
            "label": "JSA (income-based)",
            "method": "animate"
           },
           {
            "args": [
             [
              "National Insurance (total)"
             ],
             {
              "frame": {
               "duration": 0,
               "redraw": false
              },
              "fromcurrent": true,
              "mode": "immediate",
              "transition": {
               "duration": 0,
               "easing": "linear"
              }
             }
            ],
            "label": "National Insurance (total)",
            "method": "animate"
           },
           {
            "args": [
             [
              "Pension Credit"
             ],
             {
              "frame": {
               "duration": 0,
               "redraw": false
              },
              "fromcurrent": true,
              "mode": "immediate",
              "transition": {
               "duration": 0,
               "easing": "linear"
              }
             }
            ],
            "label": "Pension Credit",
            "method": "animate"
           },
           {
            "args": [
             [
              "Universal Credit"
             ],
             {
              "frame": {
               "duration": 0,
               "redraw": false
              },
              "fromcurrent": true,
              "mode": "immediate",
              "transition": {
               "duration": 0,
               "easing": "linear"
              }
             }
            ],
            "label": "Universal Credit",
            "method": "animate"
           },
           {
            "args": [
             [
              "Working Tax Credit"
             ],
             {
              "frame": {
               "duration": 0,
               "redraw": false
              },
              "fromcurrent": true,
              "mode": "immediate",
              "transition": {
               "duration": 0,
               "easing": "linear"
              }
             }
            ],
            "label": "Working Tax Credit",
            "method": "animate"
           }
          ],
          "x": 0.1,
          "xanchor": "left",
          "y": 0,
          "yanchor": "top"
         }
        ],
        "template": {
         "data": {
          "bar": [
           {
            "error_x": {
             "color": "#2a3f5f"
            },
            "error_y": {
             "color": "#2a3f5f"
            },
            "marker": {
             "line": {
              "color": "white",
              "width": 0.5
             },
             "pattern": {
              "fillmode": "overlay",
              "size": 10,
              "solidity": 0.2
             }
            },
            "type": "bar"
           }
          ],
          "barpolar": [
           {
            "marker": {
             "line": {
              "color": "white",
              "width": 0.5
             },
             "pattern": {
              "fillmode": "overlay",
              "size": 10,
              "solidity": 0.2
             }
            },
            "type": "barpolar"
           }
          ],
          "carpet": [
           {
            "aaxis": {
             "endlinecolor": "#2a3f5f",
             "gridcolor": "#C8D4E3",
             "linecolor": "#C8D4E3",
             "minorgridcolor": "#C8D4E3",
             "startlinecolor": "#2a3f5f"
            },
            "baxis": {
             "endlinecolor": "#2a3f5f",
             "gridcolor": "#C8D4E3",
             "linecolor": "#C8D4E3",
             "minorgridcolor": "#C8D4E3",
             "startlinecolor": "#2a3f5f"
            },
            "type": "carpet"
           }
          ],
          "choropleth": [
           {
            "colorbar": {
             "outlinewidth": 0,
             "ticks": ""
            },
            "type": "choropleth"
           }
          ],
          "contour": [
           {
            "colorbar": {
             "outlinewidth": 0,
             "ticks": ""
            },
            "colorscale": [
             [
              0,
              "#0d0887"
             ],
             [
              0.1111111111111111,
              "#46039f"
             ],
             [
              0.2222222222222222,
              "#7201a8"
             ],
             [
              0.3333333333333333,
              "#9c179e"
             ],
             [
              0.4444444444444444,
              "#bd3786"
             ],
             [
              0.5555555555555556,
              "#d8576b"
             ],
             [
              0.6666666666666666,
              "#ed7953"
             ],
             [
              0.7777777777777778,
              "#fb9f3a"
             ],
             [
              0.8888888888888888,
              "#fdca26"
             ],
             [
              1,
              "#f0f921"
             ]
            ],
            "type": "contour"
           }
          ],
          "contourcarpet": [
           {
            "colorbar": {
             "outlinewidth": 0,
             "ticks": ""
            },
            "type": "contourcarpet"
           }
          ],
          "heatmap": [
           {
            "colorbar": {
             "outlinewidth": 0,
             "ticks": ""
            },
            "colorscale": [
             [
              0,
              "#0d0887"
             ],
             [
              0.1111111111111111,
              "#46039f"
             ],
             [
              0.2222222222222222,
              "#7201a8"
             ],
             [
              0.3333333333333333,
              "#9c179e"
             ],
             [
              0.4444444444444444,
              "#bd3786"
             ],
             [
              0.5555555555555556,
              "#d8576b"
             ],
             [
              0.6666666666666666,
              "#ed7953"
             ],
             [
              0.7777777777777778,
              "#fb9f3a"
             ],
             [
              0.8888888888888888,
              "#fdca26"
             ],
             [
              1,
              "#f0f921"
             ]
            ],
            "type": "heatmap"
           }
          ],
          "heatmapgl": [
           {
            "colorbar": {
             "outlinewidth": 0,
             "ticks": ""
            },
            "colorscale": [
             [
              0,
              "#0d0887"
             ],
             [
              0.1111111111111111,
              "#46039f"
             ],
             [
              0.2222222222222222,
              "#7201a8"
             ],
             [
              0.3333333333333333,
              "#9c179e"
             ],
             [
              0.4444444444444444,
              "#bd3786"
             ],
             [
              0.5555555555555556,
              "#d8576b"
             ],
             [
              0.6666666666666666,
              "#ed7953"
             ],
             [
              0.7777777777777778,
              "#fb9f3a"
             ],
             [
              0.8888888888888888,
              "#fdca26"
             ],
             [
              1,
              "#f0f921"
             ]
            ],
            "type": "heatmapgl"
           }
          ],
          "histogram": [
           {
            "marker": {
             "pattern": {
              "fillmode": "overlay",
              "size": 10,
              "solidity": 0.2
             }
            },
            "type": "histogram"
           }
          ],
          "histogram2d": [
           {
            "colorbar": {
             "outlinewidth": 0,
             "ticks": ""
            },
            "colorscale": [
             [
              0,
              "#0d0887"
             ],
             [
              0.1111111111111111,
              "#46039f"
             ],
             [
              0.2222222222222222,
              "#7201a8"
             ],
             [
              0.3333333333333333,
              "#9c179e"
             ],
             [
              0.4444444444444444,
              "#bd3786"
             ],
             [
              0.5555555555555556,
              "#d8576b"
             ],
             [
              0.6666666666666666,
              "#ed7953"
             ],
             [
              0.7777777777777778,
              "#fb9f3a"
             ],
             [
              0.8888888888888888,
              "#fdca26"
             ],
             [
              1,
              "#f0f921"
             ]
            ],
            "type": "histogram2d"
           }
          ],
          "histogram2dcontour": [
           {
            "colorbar": {
             "outlinewidth": 0,
             "ticks": ""
            },
            "colorscale": [
             [
              0,
              "#0d0887"
             ],
             [
              0.1111111111111111,
              "#46039f"
             ],
             [
              0.2222222222222222,
              "#7201a8"
             ],
             [
              0.3333333333333333,
              "#9c179e"
             ],
             [
              0.4444444444444444,
              "#bd3786"
             ],
             [
              0.5555555555555556,
              "#d8576b"
             ],
             [
              0.6666666666666666,
              "#ed7953"
             ],
             [
              0.7777777777777778,
              "#fb9f3a"
             ],
             [
              0.8888888888888888,
              "#fdca26"
             ],
             [
              1,
              "#f0f921"
             ]
            ],
            "type": "histogram2dcontour"
           }
          ],
          "mesh3d": [
           {
            "colorbar": {
             "outlinewidth": 0,
             "ticks": ""
            },
            "type": "mesh3d"
           }
          ],
          "parcoords": [
           {
            "line": {
             "colorbar": {
              "outlinewidth": 0,
              "ticks": ""
             }
            },
            "type": "parcoords"
           }
          ],
          "pie": [
           {
            "automargin": true,
            "type": "pie"
           }
          ],
          "scatter": [
           {
            "marker": {
             "colorbar": {
              "outlinewidth": 0,
              "ticks": ""
             }
            },
            "type": "scatter"
           }
          ],
          "scatter3d": [
           {
            "line": {
             "colorbar": {
              "outlinewidth": 0,
              "ticks": ""
             }
            },
            "marker": {
             "colorbar": {
              "outlinewidth": 0,
              "ticks": ""
             }
            },
            "type": "scatter3d"
           }
          ],
          "scattercarpet": [
           {
            "marker": {
             "colorbar": {
              "outlinewidth": 0,
              "ticks": ""
             }
            },
            "type": "scattercarpet"
           }
          ],
          "scattergeo": [
           {
            "marker": {
             "colorbar": {
              "outlinewidth": 0,
              "ticks": ""
             }
            },
            "type": "scattergeo"
           }
          ],
          "scattergl": [
           {
            "marker": {
             "colorbar": {
              "outlinewidth": 0,
              "ticks": ""
             }
            },
            "type": "scattergl"
           }
          ],
          "scattermapbox": [
           {
            "marker": {
             "colorbar": {
              "outlinewidth": 0,
              "ticks": ""
             }
            },
            "type": "scattermapbox"
           }
          ],
          "scatterpolar": [
           {
            "marker": {
             "colorbar": {
              "outlinewidth": 0,
              "ticks": ""
             }
            },
            "type": "scatterpolar"
           }
          ],
          "scatterpolargl": [
           {
            "marker": {
             "colorbar": {
              "outlinewidth": 0,
              "ticks": ""
             }
            },
            "type": "scatterpolargl"
           }
          ],
          "scatterternary": [
           {
            "marker": {
             "colorbar": {
              "outlinewidth": 0,
              "ticks": ""
             }
            },
            "type": "scatterternary"
           }
          ],
          "surface": [
           {
            "colorbar": {
             "outlinewidth": 0,
             "ticks": ""
            },
            "colorscale": [
             [
              0,
              "#0d0887"
             ],
             [
              0.1111111111111111,
              "#46039f"
             ],
             [
              0.2222222222222222,
              "#7201a8"
             ],
             [
              0.3333333333333333,
              "#9c179e"
             ],
             [
              0.4444444444444444,
              "#bd3786"
             ],
             [
              0.5555555555555556,
              "#d8576b"
             ],
             [
              0.6666666666666666,
              "#ed7953"
             ],
             [
              0.7777777777777778,
              "#fb9f3a"
             ],
             [
              0.8888888888888888,
              "#fdca26"
             ],
             [
              1,
              "#f0f921"
             ]
            ],
            "type": "surface"
           }
          ],
          "table": [
           {
            "cells": {
             "fill": {
              "color": "#EBF0F8"
             },
             "line": {
              "color": "white"
             }
            },
            "header": {
             "fill": {
              "color": "#C8D4E3"
             },
             "line": {
              "color": "white"
             }
            },
            "type": "table"
           }
          ]
         },
         "layout": {
          "annotationdefaults": {
           "arrowcolor": "#2a3f5f",
           "arrowhead": 0,
           "arrowwidth": 1
          },
          "autotypenumbers": "strict",
          "coloraxis": {
           "colorbar": {
            "outlinewidth": 0,
            "ticks": ""
           }
          },
          "colorscale": {
           "diverging": [
            [
             0,
             "#8e0152"
            ],
            [
             0.1,
             "#c51b7d"
            ],
            [
             0.2,
             "#de77ae"
            ],
            [
             0.3,
             "#f1b6da"
            ],
            [
             0.4,
             "#fde0ef"
            ],
            [
             0.5,
             "#f7f7f7"
            ],
            [
             0.6,
             "#e6f5d0"
            ],
            [
             0.7,
             "#b8e186"
            ],
            [
             0.8,
             "#7fbc41"
            ],
            [
             0.9,
             "#4d9221"
            ],
            [
             1,
             "#276419"
            ]
           ],
           "sequential": [
            [
             0,
             "#0d0887"
            ],
            [
             0.1111111111111111,
             "#46039f"
            ],
            [
             0.2222222222222222,
             "#7201a8"
            ],
            [
             0.3333333333333333,
             "#9c179e"
            ],
            [
             0.4444444444444444,
             "#bd3786"
            ],
            [
             0.5555555555555556,
             "#d8576b"
            ],
            [
             0.6666666666666666,
             "#ed7953"
            ],
            [
             0.7777777777777778,
             "#fb9f3a"
            ],
            [
             0.8888888888888888,
             "#fdca26"
            ],
            [
             1,
             "#f0f921"
            ]
           ],
           "sequentialminus": [
            [
             0,
             "#0d0887"
            ],
            [
             0.1111111111111111,
             "#46039f"
            ],
            [
             0.2222222222222222,
             "#7201a8"
            ],
            [
             0.3333333333333333,
             "#9c179e"
            ],
            [
             0.4444444444444444,
             "#bd3786"
            ],
            [
             0.5555555555555556,
             "#d8576b"
            ],
            [
             0.6666666666666666,
             "#ed7953"
            ],
            [
             0.7777777777777778,
             "#fb9f3a"
            ],
            [
             0.8888888888888888,
             "#fdca26"
            ],
            [
             1,
             "#f0f921"
            ]
           ]
          },
          "colorway": [
           "#636efa",
           "#EF553B",
           "#00cc96",
           "#ab63fa",
           "#FFA15A",
           "#19d3f3",
           "#FF6692",
           "#B6E880",
           "#FF97FF",
           "#FECB52"
          ],
          "font": {
           "color": "#2a3f5f"
          },
          "geo": {
           "bgcolor": "white",
           "lakecolor": "white",
           "landcolor": "white",
           "showlakes": true,
           "showland": true,
           "subunitcolor": "#C8D4E3"
          },
          "hoverlabel": {
           "align": "left"
          },
          "hovermode": "closest",
          "mapbox": {
           "style": "light"
          },
          "paper_bgcolor": "white",
          "plot_bgcolor": "white",
          "polar": {
           "angularaxis": {
            "gridcolor": "#EBF0F8",
            "linecolor": "#EBF0F8",
            "ticks": ""
           },
           "bgcolor": "white",
           "radialaxis": {
            "gridcolor": "#EBF0F8",
            "linecolor": "#EBF0F8",
            "ticks": ""
           }
          },
          "scene": {
           "xaxis": {
            "backgroundcolor": "white",
            "gridcolor": "#DFE8F3",
            "gridwidth": 2,
            "linecolor": "#EBF0F8",
            "showbackground": true,
            "ticks": "",
            "zerolinecolor": "#EBF0F8"
           },
           "yaxis": {
            "backgroundcolor": "white",
            "gridcolor": "#DFE8F3",
            "gridwidth": 2,
            "linecolor": "#EBF0F8",
            "showbackground": true,
            "ticks": "",
            "zerolinecolor": "#EBF0F8"
           },
           "zaxis": {
            "backgroundcolor": "white",
            "gridcolor": "#DFE8F3",
            "gridwidth": 2,
            "linecolor": "#EBF0F8",
            "showbackground": true,
            "ticks": "",
            "zerolinecolor": "#EBF0F8"
           }
          },
          "shapedefaults": {
           "line": {
            "color": "#2a3f5f"
           }
          },
          "ternary": {
           "aaxis": {
            "gridcolor": "#DFE8F3",
            "linecolor": "#A2B1C6",
            "ticks": ""
           },
           "baxis": {
            "gridcolor": "#DFE8F3",
            "linecolor": "#A2B1C6",
            "ticks": ""
           },
           "bgcolor": "white",
           "caxis": {
            "gridcolor": "#DFE8F3",
            "linecolor": "#A2B1C6",
            "ticks": ""
           }
          },
          "title": {
           "x": 0.05
          },
          "xaxis": {
           "automargin": true,
           "gridcolor": "#EBF0F8",
           "linecolor": "#EBF0F8",
           "ticks": "",
           "title": {
            "standoff": 15
           },
           "zerolinecolor": "#EBF0F8",
           "zerolinewidth": 2
          },
          "yaxis": {
           "automargin": true,
           "gridcolor": "#EBF0F8",
           "linecolor": "#EBF0F8",
           "ticks": "",
           "title": {
            "standoff": 15
           },
           "zerolinecolor": "#EBF0F8",
           "zerolinewidth": 2
          }
         }
        },
        "title": {
         "text": "Caseload forecasts"
        },
        "updatemenus": [
         {
          "buttons": [
           {
            "args": [
             null,
             {
              "frame": {
               "duration": 500,
               "redraw": false
              },
              "fromcurrent": true,
              "mode": "immediate",
              "transition": {
               "duration": 500,
               "easing": "linear"
              }
             }
            ],
            "label": "&#9654;",
            "method": "animate"
           },
           {
            "args": [
             [
              null
             ],
             {
              "frame": {
               "duration": 0,
               "redraw": false
              },
              "fromcurrent": true,
              "mode": "immediate",
              "transition": {
               "duration": 0,
               "easing": "linear"
              }
             }
            ],
            "label": "&#9724;",
            "method": "animate"
           }
          ],
          "direction": "left",
          "pad": {
           "r": 10,
           "t": 70
          },
          "showactive": false,
          "type": "buttons",
          "x": 0.1,
          "xanchor": "right",
          "y": 0,
          "yanchor": "top"
         }
        ],
        "width": 800,
        "xaxis": {
         "anchor": "y",
         "autorange": true,
         "domain": [
          0,
          1
         ],
         "range": [
          2022,
          2026
         ],
         "title": {
          "text": "Year"
         },
         "type": "linear"
        },
        "yaxis": {
         "anchor": "x",
         "domain": [
          0,
          1
         ],
         "range": [
          0,
          10000000
         ],
         "tickprefix": "",
         "title": {
          "text": ""
         },
         "type": "linear"
        }
       }
      },
      "image/png": "[encoded data removed]",
      "text/html": [
       "<div>                            <div id=\"f0a1c129-a1b9-47ac-9117-9b2189cf29ed\" class=\"plotly-graph-div\" style=\"height:600px; width:800px;\"></div>            <script type=\"text/javascript\">                require([\"plotly\"], function(Plotly) {                    window.PLOTLYENV=window.PLOTLYENV || {};                                    if (document.getElementById(\"f0a1c129-a1b9-47ac-9117-9b2189cf29ed\")) {                    Plotly.newPlot(                        \"f0a1c129-a1b9-47ac-9117-9b2189cf29ed\",                        [{\"hovertemplate\":\"\",\"legendgroup\":\"External\",\"line\":{\"color\":\"#00cc96\",\"dash\":\"solid\"},\"marker\":{\"symbol\":\"circle\"},\"mode\":\"lines\",\"name\":\"External\",\"orientation\":\"h\",\"showlegend\":true,\"x\":[2022,2023,2024,2025,2026],\"xaxis\":\"x\",\"y\":[7070781.7,7001894.9,6933679.3,6866128.3,6799235.3],\"yaxis\":\"y\",\"type\":\"scatter\"},{\"hovertemplate\":\"\",\"legendgroup\":\"OpenFisca-UK\",\"line\":{\"color\":\"blue\",\"dash\":\"solid\"},\"marker\":{\"symbol\":\"circle\"},\"mode\":\"lines\",\"name\":\"OpenFisca-UK\",\"orientation\":\"h\",\"showlegend\":true,\"x\":[2022,2023,2024,2025,2026],\"xaxis\":\"x\",\"y\":[7073473.4,7005424.8,6937346.9,6868779.9,6802052.8],\"yaxis\":\"y\",\"type\":\"scatter\"},{\"hovertemplate\":\"\",\"legendgroup\":\"UKMOD\",\"line\":{\"color\":\"lightgrey\",\"dash\":\"solid\"},\"marker\":{\"symbol\":\"circle\"},\"mode\":\"lines\",\"name\":\"UKMOD\",\"orientation\":\"h\",\"showlegend\":true,\"x\":[2022,2023,2024,2025,2026],\"xaxis\":\"x\",\"y\":[7116000.0,7072000.0,7022000.0,6990000.0,6990000.0],\"yaxis\":\"y\",\"type\":\"scatter\"}],                        {\"template\":{\"data\":{\"barpolar\":[{\"marker\":{\"line\":{\"color\":\"white\",\"width\":0.5},\"pattern\":{\"fillmode\":\"overlay\",\"size\":10,\"solidity\":0.2}},\"type\":\"barpolar\"}],\"bar\":[{\"error_x\":{\"color\":\"#2a3f5f\"},\"error_y\":{\"color\":\"#2a3f5f\"},\"marker\":{\"line\":{\"color\":\"white\",\"width\":0.5},\"pattern\":{\"fillmode\":\"overlay\",\"size\":10,\"solidity\":0.2}},\"type\":\"bar\"}],\"carpet\":[{\"aaxis\":{\"endlinecolor\":\"#2a3f5f\",\"gridcolor\":\"#C8D4E3\",\"linecolor\":\"#C8D4E3\",\"minorgridcolor\":\"#C8D4E3\",\"startlinecolor\":\"#2a3f5f\"},\"baxis\":{\"endlinecolor\":\"#2a3f5f\",\"gridcolor\":\"#C8D4E3\",\"linecolor\":\"#C8D4E3\",\"minorgridcolor\":\"#C8D4E3\",\"startlinecolor\":\"#2a3f5f\"},\"type\":\"carpet\"}],\"choropleth\":[{\"colorbar\":{\"outlinewidth\":0,\"ticks\":\"\"},\"type\":\"choropleth\"}],\"contourcarpet\":[{\"colorbar\":{\"outlinewidth\":0,\"ticks\":\"\"},\"type\":\"contourcarpet\"}],\"contour\":[{\"colorbar\":{\"outlinewidth\":0,\"ticks\":\"\"},\"colorscale\":[[0.0,\"#0d0887\"],[0.1111111111111111,\"#46039f\"],[0.2222222222222222,\"#7201a8\"],[0.3333333333333333,\"#9c179e\"],[0.4444444444444444,\"#bd3786\"],[0.5555555555555556,\"#d8576b\"],[0.6666666666666666,\"#ed7953\"],[0.7777777777777778,\"#fb9f3a\"],[0.8888888888888888,\"#fdca26\"],[1.0,\"#f0f921\"]],\"type\":\"contour\"}],\"heatmapgl\":[{\"colorbar\":{\"outlinewidth\":0,\"ticks\":\"\"},\"colorscale\":[[0.0,\"#0d0887\"],[0.1111111111111111,\"#46039f\"],[0.2222222222222222,\"#7201a8\"],[0.3333333333333333,\"#9c179e\"],[0.4444444444444444,\"#bd3786\"],[0.5555555555555556,\"#d8576b\"],[0.6666666666666666,\"#ed7953\"],[0.7777777777777778,\"#fb9f3a\"],[0.8888888888888888,\"#fdca26\"],[1.0,\"#f0f921\"]],\"type\":\"heatmapgl\"}],\"heatmap\":[{\"colorbar\":{\"outlinewidth\":0,\"ticks\":\"\"},\"colorscale\":[[0.0,\"#0d0887\"],[0.1111111111111111,\"#46039f\"],[0.2222222222222222,\"#7201a8\"],[0.3333333333333333,\"#9c179e\"],[0.4444444444444444,\"#bd3786\"],[0.5555555555555556,\"#d8576b\"],[0.6666666666666666,\"#ed7953\"],[0.7777777777777778,\"#fb9f3a\"],[0.8888888888888888,\"#fdca26\"],[1.0,\"#f0f921\"]],\"type\":\"heatmap\"}],\"histogram2dcontour\":[{\"colorbar\":{\"outlinewidth\":0,\"ticks\":\"\"},\"colorscale\":[[0.0,\"#0d0887\"],[0.1111111111111111,\"#46039f\"],[0.2222222222222222,\"#7201a8\"],[0.3333333333333333,\"#9c179e\"],[0.4444444444444444,\"#bd3786\"],[0.5555555555555556,\"#d8576b\"],[0.6666666666666666,\"#ed7953\"],[0.7777777777777778,\"#fb9f3a\"],[0.8888888888888888,\"#fdca26\"],[1.0,\"#f0f921\"]],\"type\":\"histogram2dcontour\"}],\"histogram2d\":[{\"colorbar\":{\"outlinewidth\":0,\"ticks\":\"\"},\"colorscale\":[[0.0,\"#0d0887\"],[0.1111111111111111,\"#46039f\"],[0.2222222222222222,\"#7201a8\"],[0.3333333333333333,\"#9c179e\"],[0.4444444444444444,\"#bd3786\"],[0.5555555555555556,\"#d8576b\"],[0.6666666666666666,\"#ed7953\"],[0.7777777777777778,\"#fb9f3a\"],[0.8888888888888888,\"#fdca26\"],[1.0,\"#f0f921\"]],\"type\":\"histogram2d\"}],\"histogram\":[{\"marker\":{\"pattern\":{\"fillmode\":\"overlay\",\"size\":10,\"solidity\":0.2}},\"type\":\"histogram\"}],\"mesh3d\":[{\"colorbar\":{\"outlinewidth\":0,\"ticks\":\"\"},\"type\":\"mesh3d\"}],\"parcoords\":[{\"line\":{\"colorbar\":{\"outlinewidth\":0,\"ticks\":\"\"}},\"type\":\"parcoords\"}],\"pie\":[{\"automargin\":true,\"type\":\"pie\"}],\"scatter3d\":[{\"line\":{\"colorbar\":{\"outlinewidth\":0,\"ticks\":\"\"}},\"marker\":{\"colorbar\":{\"outlinewidth\":0,\"ticks\":\"\"}},\"type\":\"scatter3d\"}],\"scattercarpet\":[{\"marker\":{\"colorbar\":{\"outlinewidth\":0,\"ticks\":\"\"}},\"type\":\"scattercarpet\"}],\"scattergeo\":[{\"marker\":{\"colorbar\":{\"outlinewidth\":0,\"ticks\":\"\"}},\"type\":\"scattergeo\"}],\"scattergl\":[{\"marker\":{\"colorbar\":{\"outlinewidth\":0,\"ticks\":\"\"}},\"type\":\"scattergl\"}],\"scattermapbox\":[{\"marker\":{\"colorbar\":{\"outlinewidth\":0,\"ticks\":\"\"}},\"type\":\"scattermapbox\"}],\"scatterpolargl\":[{\"marker\":{\"colorbar\":{\"outlinewidth\":0,\"ticks\":\"\"}},\"type\":\"scatterpolargl\"}],\"scatterpolar\":[{\"marker\":{\"colorbar\":{\"outlinewidth\":0,\"ticks\":\"\"}},\"type\":\"scatterpolar\"}],\"scatter\":[{\"marker\":{\"colorbar\":{\"outlinewidth\":0,\"ticks\":\"\"}},\"type\":\"scatter\"}],\"scatterternary\":[{\"marker\":{\"colorbar\":{\"outlinewidth\":0,\"ticks\":\"\"}},\"type\":\"scatterternary\"}],\"surface\":[{\"colorbar\":{\"outlinewidth\":0,\"ticks\":\"\"},\"colorscale\":[[0.0,\"#0d0887\"],[0.1111111111111111,\"#46039f\"],[0.2222222222222222,\"#7201a8\"],[0.3333333333333333,\"#9c179e\"],[0.4444444444444444,\"#bd3786\"],[0.5555555555555556,\"#d8576b\"],[0.6666666666666666,\"#ed7953\"],[0.7777777777777778,\"#fb9f3a\"],[0.8888888888888888,\"#fdca26\"],[1.0,\"#f0f921\"]],\"type\":\"surface\"}],\"table\":[{\"cells\":{\"fill\":{\"color\":\"#EBF0F8\"},\"line\":{\"color\":\"white\"}},\"header\":{\"fill\":{\"color\":\"#C8D4E3\"},\"line\":{\"color\":\"white\"}},\"type\":\"table\"}]},\"layout\":{\"annotationdefaults\":{\"arrowcolor\":\"#2a3f5f\",\"arrowhead\":0,\"arrowwidth\":1},\"autotypenumbers\":\"strict\",\"coloraxis\":{\"colorbar\":{\"outlinewidth\":0,\"ticks\":\"\"}},\"colorscale\":{\"diverging\":[[0,\"#8e0152\"],[0.1,\"#c51b7d\"],[0.2,\"#de77ae\"],[0.3,\"#f1b6da\"],[0.4,\"#fde0ef\"],[0.5,\"#f7f7f7\"],[0.6,\"#e6f5d0\"],[0.7,\"#b8e186\"],[0.8,\"#7fbc41\"],[0.9,\"#4d9221\"],[1,\"#276419\"]],\"sequential\":[[0.0,\"#0d0887\"],[0.1111111111111111,\"#46039f\"],[0.2222222222222222,\"#7201a8\"],[0.3333333333333333,\"#9c179e\"],[0.4444444444444444,\"#bd3786\"],[0.5555555555555556,\"#d8576b\"],[0.6666666666666666,\"#ed7953\"],[0.7777777777777778,\"#fb9f3a\"],[0.8888888888888888,\"#fdca26\"],[1.0,\"#f0f921\"]],\"sequentialminus\":[[0.0,\"#0d0887\"],[0.1111111111111111,\"#46039f\"],[0.2222222222222222,\"#7201a8\"],[0.3333333333333333,\"#9c179e\"],[0.4444444444444444,\"#bd3786\"],[0.5555555555555556,\"#d8576b\"],[0.6666666666666666,\"#ed7953\"],[0.7777777777777778,\"#fb9f3a\"],[0.8888888888888888,\"#fdca26\"],[1.0,\"#f0f921\"]]},\"colorway\":[\"#636efa\",\"#EF553B\",\"#00cc96\",\"#ab63fa\",\"#FFA15A\",\"#19d3f3\",\"#FF6692\",\"#B6E880\",\"#FF97FF\",\"#FECB52\"],\"font\":{\"color\":\"#2a3f5f\"},\"geo\":{\"bgcolor\":\"white\",\"lakecolor\":\"white\",\"landcolor\":\"white\",\"showlakes\":true,\"showland\":true,\"subunitcolor\":\"#C8D4E3\"},\"hoverlabel\":{\"align\":\"left\"},\"hovermode\":\"closest\",\"mapbox\":{\"style\":\"light\"},\"paper_bgcolor\":\"white\",\"plot_bgcolor\":\"white\",\"polar\":{\"angularaxis\":{\"gridcolor\":\"#EBF0F8\",\"linecolor\":\"#EBF0F8\",\"ticks\":\"\"},\"bgcolor\":\"white\",\"radialaxis\":{\"gridcolor\":\"#EBF0F8\",\"linecolor\":\"#EBF0F8\",\"ticks\":\"\"}},\"scene\":{\"xaxis\":{\"backgroundcolor\":\"white\",\"gridcolor\":\"#DFE8F3\",\"gridwidth\":2,\"linecolor\":\"#EBF0F8\",\"showbackground\":true,\"ticks\":\"\",\"zerolinecolor\":\"#EBF0F8\"},\"yaxis\":{\"backgroundcolor\":\"white\",\"gridcolor\":\"#DFE8F3\",\"gridwidth\":2,\"linecolor\":\"#EBF0F8\",\"showbackground\":true,\"ticks\":\"\",\"zerolinecolor\":\"#EBF0F8\"},\"zaxis\":{\"backgroundcolor\":\"white\",\"gridcolor\":\"#DFE8F3\",\"gridwidth\":2,\"linecolor\":\"#EBF0F8\",\"showbackground\":true,\"ticks\":\"\",\"zerolinecolor\":\"#EBF0F8\"}},\"shapedefaults\":{\"line\":{\"color\":\"#2a3f5f\"}},\"ternary\":{\"aaxis\":{\"gridcolor\":\"#DFE8F3\",\"linecolor\":\"#A2B1C6\",\"ticks\":\"\"},\"baxis\":{\"gridcolor\":\"#DFE8F3\",\"linecolor\":\"#A2B1C6\",\"ticks\":\"\"},\"bgcolor\":\"white\",\"caxis\":{\"gridcolor\":\"#DFE8F3\",\"linecolor\":\"#A2B1C6\",\"ticks\":\"\"}},\"title\":{\"x\":0.05},\"xaxis\":{\"automargin\":true,\"gridcolor\":\"#EBF0F8\",\"linecolor\":\"#EBF0F8\",\"ticks\":\"\",\"title\":{\"standoff\":15},\"zerolinecolor\":\"#EBF0F8\",\"zerolinewidth\":2},\"yaxis\":{\"automargin\":true,\"gridcolor\":\"#EBF0F8\",\"linecolor\":\"#EBF0F8\",\"ticks\":\"\",\"title\":{\"standoff\":15},\"zerolinecolor\":\"#EBF0F8\",\"zerolinewidth\":2}}},\"xaxis\":{\"anchor\":\"y\",\"domain\":[0.0,1.0],\"title\":{\"text\":\"Year\"}},\"yaxis\":{\"anchor\":\"x\",\"domain\":[0.0,1.0],\"title\":{\"text\":\"\"},\"tickprefix\":\"\",\"range\":[0,10000000.0]},\"legend\":{\"title\":{\"text\":\"Model\"},\"tracegroupgap\":0,\"traceorder\":\"reversed\"},\"margin\":{\"t\":60},\"updatemenus\":[{\"buttons\":[{\"args\":[null,{\"frame\":{\"duration\":500,\"redraw\":false},\"mode\":\"immediate\",\"fromcurrent\":true,\"transition\":{\"duration\":500,\"easing\":\"linear\"}}],\"label\":\"&#9654;\",\"method\":\"animate\"},{\"args\":[[null],{\"frame\":{\"duration\":0,\"redraw\":false},\"mode\":\"immediate\",\"fromcurrent\":true,\"transition\":{\"duration\":0,\"easing\":\"linear\"}}],\"label\":\"&#9724;\",\"method\":\"animate\"}],\"direction\":\"left\",\"pad\":{\"r\":10,\"t\":70},\"showactive\":false,\"type\":\"buttons\",\"x\":0.1,\"xanchor\":\"right\",\"y\":0,\"yanchor\":\"top\"}],\"sliders\":[{\"active\":0,\"currentvalue\":{\"prefix\":\"Program=\"},\"len\":0.9,\"pad\":{\"b\":10,\"t\":60},\"steps\":[{\"args\":[[\"Child Benefit\"],{\"frame\":{\"duration\":0,\"redraw\":false},\"mode\":\"immediate\",\"fromcurrent\":true,\"transition\":{\"duration\":0,\"easing\":\"linear\"}}],\"label\":\"Child Benefit\",\"method\":\"animate\"},{\"args\":[[\"Child Tax Credit\"],{\"frame\":{\"duration\":0,\"redraw\":false},\"mode\":\"immediate\",\"fromcurrent\":true,\"transition\":{\"duration\":0,\"easing\":\"linear\"}}],\"label\":\"Child Tax Credit\",\"method\":\"animate\"},{\"args\":[[\"Housing Benefit\"],{\"frame\":{\"duration\":0,\"redraw\":false},\"mode\":\"immediate\",\"fromcurrent\":true,\"transition\":{\"duration\":0,\"easing\":\"linear\"}}],\"label\":\"Housing Benefit\",\"method\":\"animate\"},{\"args\":[[\"Income Support\"],{\"frame\":{\"duration\":0,\"redraw\":false},\"mode\":\"immediate\",\"fromcurrent\":true,\"transition\":{\"duration\":0,\"easing\":\"linear\"}}],\"label\":\"Income Support\",\"method\":\"animate\"},{\"args\":[[\"Income Tax\"],{\"frame\":{\"duration\":0,\"redraw\":false},\"mode\":\"immediate\",\"fromcurrent\":true,\"transition\":{\"duration\":0,\"easing\":\"linear\"}}],\"label\":\"Income Tax\",\"method\":\"animate\"},{\"args\":[[\"JSA (income-based)\"],{\"frame\":{\"duration\":0,\"redraw\":false},\"mode\":\"immediate\",\"fromcurrent\":true,\"transition\":{\"duration\":0,\"easing\":\"linear\"}}],\"label\":\"JSA (income-based)\",\"method\":\"animate\"},{\"args\":[[\"National Insurance (total)\"],{\"frame\":{\"duration\":0,\"redraw\":false},\"mode\":\"immediate\",\"fromcurrent\":true,\"transition\":{\"duration\":0,\"easing\":\"linear\"}}],\"label\":\"National Insurance (total)\",\"method\":\"animate\"},{\"args\":[[\"Pension Credit\"],{\"frame\":{\"duration\":0,\"redraw\":false},\"mode\":\"immediate\",\"fromcurrent\":true,\"transition\":{\"duration\":0,\"easing\":\"linear\"}}],\"label\":\"Pension Credit\",\"method\":\"animate\"},{\"args\":[[\"Universal Credit\"],{\"frame\":{\"duration\":0,\"redraw\":false},\"mode\":\"immediate\",\"fromcurrent\":true,\"transition\":{\"duration\":0,\"easing\":\"linear\"}}],\"label\":\"Universal Credit\",\"method\":\"animate\"},{\"args\":[[\"Working Tax Credit\"],{\"frame\":{\"duration\":0,\"redraw\":false},\"mode\":\"immediate\",\"fromcurrent\":true,\"transition\":{\"duration\":0,\"easing\":\"linear\"}}],\"label\":\"Working Tax Credit\",\"method\":\"animate\"}],\"x\":0.1,\"xanchor\":\"left\",\"y\":0,\"yanchor\":\"top\"}],\"width\":800,\"height\":600,\"title\":{\"text\":\"Caseload forecasts\"}},                        {\"responsive\": true}                    ).then(function(){\n",
       "                            Plotly.addFrames('f0a1c129-a1b9-47ac-9117-9b2189cf29ed', [{\"data\":[{\"hovertemplate\":\"\",\"legendgroup\":\"External\",\"line\":{\"color\":\"#00cc96\",\"dash\":\"solid\"},\"marker\":{\"symbol\":\"circle\"},\"mode\":\"lines\",\"name\":\"External\",\"orientation\":\"h\",\"showlegend\":true,\"x\":[2022,2023,2024,2025,2026],\"xaxis\":\"x\",\"y\":[7070781.7,7001894.9,6933679.3,6866128.3,6799235.3],\"yaxis\":\"y\",\"type\":\"scatter\"},{\"hovertemplate\":\"\",\"legendgroup\":\"OpenFisca-UK\",\"line\":{\"color\":\"blue\",\"dash\":\"solid\"},\"marker\":{\"symbol\":\"circle\"},\"mode\":\"lines\",\"name\":\"OpenFisca-UK\",\"orientation\":\"h\",\"showlegend\":true,\"x\":[2022,2023,2024,2025,2026],\"xaxis\":\"x\",\"y\":[7073473.4,7005424.8,6937346.9,6868779.9,6802052.8],\"yaxis\":\"y\",\"type\":\"scatter\"},{\"hovertemplate\":\"\",\"legendgroup\":\"UKMOD\",\"line\":{\"color\":\"lightgrey\",\"dash\":\"solid\"},\"marker\":{\"symbol\":\"circle\"},\"mode\":\"lines\",\"name\":\"UKMOD\",\"orientation\":\"h\",\"showlegend\":true,\"x\":[2022,2023,2024,2025,2026],\"xaxis\":\"x\",\"y\":[7116000.0,7072000.0,7022000.0,6990000.0,6990000.0],\"yaxis\":\"y\",\"type\":\"scatter\"}],\"name\":\"Child Benefit\"},{\"data\":[{\"hovertemplate\":\"\",\"legendgroup\":\"External\",\"line\":{\"color\":\"#00cc96\",\"dash\":\"solid\"},\"marker\":{\"symbol\":\"circle\"},\"mode\":\"lines\",\"name\":\"External\",\"orientation\":\"h\",\"showlegend\":true,\"x\":[2022,2023,2024,2025,2026],\"xaxis\":\"x\",\"y\":[1337692.2,1061340.8,842080.2,668116.4,530091.4],\"yaxis\":\"y\",\"type\":\"scatter\"},{\"hovertemplate\":\"\",\"legendgroup\":\"OpenFisca-UK\",\"line\":{\"color\":\"blue\",\"dash\":\"solid\"},\"marker\":{\"symbol\":\"circle\"},\"mode\":\"lines\",\"name\":\"OpenFisca-UK\",\"orientation\":\"h\",\"showlegend\":true,\"x\":[2022,2023,2024,2025,2026],\"xaxis\":\"x\",\"y\":[1329657.0,1053413.3,833430.8,658437.6,517783.0],\"yaxis\":\"y\",\"type\":\"scatter\"},{\"hovertemplate\":\"\",\"legendgroup\":\"UKMOD\",\"line\":{\"color\":\"lightgrey\",\"dash\":\"solid\"},\"marker\":{\"symbol\":\"circle\"},\"mode\":\"lines\",\"name\":\"UKMOD\",\"orientation\":\"h\",\"showlegend\":true,\"x\":[2022,2023,2024,2025,2026],\"xaxis\":\"x\",\"y\":[1080000.0,890000.0,643000.0,292000.0,292000.0],\"yaxis\":\"y\",\"type\":\"scatter\"}],\"name\":\"Child Tax Credit\"},{\"data\":[{\"hovertemplate\":\"\",\"legendgroup\":\"External\",\"line\":{\"color\":\"#00cc96\",\"dash\":\"solid\"},\"marker\":{\"symbol\":\"circle\"},\"mode\":\"lines\",\"name\":\"External\",\"orientation\":\"h\",\"showlegend\":true,\"x\":[2022,2023,2024,2025,2026],\"xaxis\":\"x\",\"y\":[2708000.0,2459000.0,2114000.0,1726000.0,1388000.0],\"yaxis\":\"y\",\"type\":\"scatter\"},{\"hovertemplate\":\"\",\"legendgroup\":\"OpenFisca-UK\",\"line\":{\"color\":\"blue\",\"dash\":\"solid\"},\"marker\":{\"symbol\":\"circle\"},\"mode\":\"lines\",\"name\":\"OpenFisca-UK\",\"orientation\":\"h\",\"showlegend\":true,\"x\":[2022,2023,2024,2025,2026],\"xaxis\":\"x\",\"y\":[2713363.3,2463888.0,2117283.9,1728219.0,1385973.3],\"yaxis\":\"y\",\"type\":\"scatter\"},{\"hovertemplate\":\"\",\"legendgroup\":\"UKMOD\",\"line\":{\"color\":\"lightgrey\",\"dash\":\"solid\"},\"marker\":{\"symbol\":\"circle\"},\"mode\":\"lines\",\"name\":\"UKMOD\",\"orientation\":\"h\",\"showlegend\":true,\"x\":[2022,2023,2024,2025,2026],\"xaxis\":\"x\",\"y\":[2262000.0,2050000.0,1783000.0,1432000.0,1432000.0],\"yaxis\":\"y\",\"type\":\"scatter\"}],\"name\":\"Housing Benefit\"},{\"data\":[{\"hovertemplate\":\"\",\"legendgroup\":\"External\",\"line\":{\"color\":\"#00cc96\",\"dash\":\"solid\"},\"marker\":{\"symbol\":\"circle\"},\"mode\":\"lines\",\"name\":\"External\",\"orientation\":\"h\",\"showlegend\":true,\"x\":[2022,2023,2024,2025,2026],\"xaxis\":\"x\",\"y\":[157000.0,116000.0,76000.0,34000.0,3000.0],\"yaxis\":\"y\",\"type\":\"scatter\"},{\"hovertemplate\":\"\",\"legendgroup\":\"OpenFisca-UK\",\"line\":{\"color\":\"blue\",\"dash\":\"solid\"},\"marker\":{\"symbol\":\"circle\"},\"mode\":\"lines\",\"name\":\"OpenFisca-UK\",\"orientation\":\"h\",\"showlegend\":true,\"x\":[2022,2023,2024,2025,2026],\"xaxis\":\"x\",\"y\":[154623.1,114271.0,77017.7,42087.4,18673.2],\"yaxis\":\"y\",\"type\":\"scatter\"},{\"hovertemplate\":\"\",\"legendgroup\":\"UKMOD\",\"line\":{\"color\":\"lightgrey\",\"dash\":\"solid\"},\"marker\":{\"symbol\":\"circle\"},\"mode\":\"lines\",\"name\":\"UKMOD\",\"orientation\":\"h\",\"showlegend\":true,\"x\":[2022,2023,2024,2025,2026],\"xaxis\":\"x\",\"y\":[\"\",\"\",\"\",\"\",\"\"],\"yaxis\":\"y\",\"type\":\"scatter\"}],\"name\":\"Income Support\"},{\"data\":[{\"hovertemplate\":\"\",\"legendgroup\":\"External\",\"line\":{\"color\":\"#00cc96\",\"dash\":\"solid\"},\"marker\":{\"symbol\":\"circle\"},\"mode\":\"lines\",\"name\":\"External\",\"orientation\":\"h\",\"showlegend\":true,\"x\":[2022,2023,2024,2025,2026],\"xaxis\":\"x\",\"y\":[32707886.4,33223783.7,33747818.1,34280118.1,34820814.0],\"yaxis\":\"y\",\"type\":\"scatter\"},{\"hovertemplate\":\"\",\"legendgroup\":\"OpenFisca-UK\",\"line\":{\"color\":\"blue\",\"dash\":\"solid\"},\"marker\":{\"symbol\":\"circle\"},\"mode\":\"lines\",\"name\":\"OpenFisca-UK\",\"orientation\":\"h\",\"showlegend\":true,\"x\":[2022,2023,2024,2025,2026],\"xaxis\":\"x\",\"y\":[31207196.6,31323351.1,31345234.3,31409394.8,31497129.0],\"yaxis\":\"y\",\"type\":\"scatter\"},{\"hovertemplate\":\"\",\"legendgroup\":\"UKMOD\",\"line\":{\"color\":\"lightgrey\",\"dash\":\"solid\"},\"marker\":{\"symbol\":\"circle\"},\"mode\":\"lines\",\"name\":\"UKMOD\",\"orientation\":\"h\",\"showlegend\":true,\"x\":[2022,2023,2024,2025,2026],\"xaxis\":\"x\",\"y\":[30011000.0,30583000.0,30939000.0,31466000.0,31466000.0],\"yaxis\":\"y\",\"type\":\"scatter\"}],\"name\":\"Income Tax\"},{\"data\":[{\"hovertemplate\":\"\",\"legendgroup\":\"External\",\"line\":{\"color\":\"#00cc96\",\"dash\":\"solid\"},\"marker\":{\"symbol\":\"circle\"},\"mode\":\"lines\",\"name\":\"External\",\"orientation\":\"h\",\"showlegend\":true,\"x\":[2022,2023,2024,2025,2026],\"xaxis\":\"x\",\"y\":[44000.0,5000.0,0.0,0.0,0.0],\"yaxis\":\"y\",\"type\":\"scatter\"},{\"hovertemplate\":\"\",\"legendgroup\":\"OpenFisca-UK\",\"line\":{\"color\":\"blue\",\"dash\":\"solid\"},\"marker\":{\"symbol\":\"circle\"},\"mode\":\"lines\",\"name\":\"OpenFisca-UK\",\"orientation\":\"h\",\"showlegend\":true,\"x\":[2022,2023,2024,2025,2026],\"xaxis\":\"x\",\"y\":[56355.4,32986.7,29747.5,27885.4,26774.8],\"yaxis\":\"y\",\"type\":\"scatter\"},{\"hovertemplate\":\"\",\"legendgroup\":\"UKMOD\",\"line\":{\"color\":\"lightgrey\",\"dash\":\"solid\"},\"marker\":{\"symbol\":\"circle\"},\"mode\":\"lines\",\"name\":\"UKMOD\",\"orientation\":\"h\",\"showlegend\":true,\"x\":[2022,2023,2024,2025,2026],\"xaxis\":\"x\",\"y\":[\"\",\"\",\"\",\"\",\"\"],\"yaxis\":\"y\",\"type\":\"scatter\"}],\"name\":\"JSA (income-based)\"},{\"data\":[{\"hovertemplate\":\"\",\"legendgroup\":\"External\",\"line\":{\"color\":\"#00cc96\",\"dash\":\"solid\"},\"marker\":{\"symbol\":\"circle\"},\"mode\":\"lines\",\"name\":\"External\",\"orientation\":\"h\",\"showlegend\":true,\"x\":[2022,2023,2024,2025,2026],\"xaxis\":\"x\",\"y\":[\"\",\"\",\"\",\"\",\"\"],\"yaxis\":\"y\",\"type\":\"scatter\"},{\"hovertemplate\":\"\",\"legendgroup\":\"OpenFisca-UK\",\"line\":{\"color\":\"blue\",\"dash\":\"solid\"},\"marker\":{\"symbol\":\"circle\"},\"mode\":\"lines\",\"name\":\"OpenFisca-UK\",\"orientation\":\"h\",\"showlegend\":true,\"x\":[2022,2023,2024,2025,2026],\"xaxis\":\"x\",\"y\":[27547924.7,27551976.5,27626555.2,27529434.1,27913645.2],\"yaxis\":\"y\",\"type\":\"scatter\"},{\"hovertemplate\":\"\",\"legendgroup\":\"UKMOD\",\"line\":{\"color\":\"lightgrey\",\"dash\":\"solid\"},\"marker\":{\"symbol\":\"circle\"},\"mode\":\"lines\",\"name\":\"UKMOD\",\"orientation\":\"h\",\"showlegend\":true,\"x\":[2022,2023,2024,2025,2026],\"xaxis\":\"x\",\"y\":[26084000.0,26194000.0,26239000.0,26271000.0,26271000.0],\"yaxis\":\"y\",\"type\":\"scatter\"}],\"name\":\"National Insurance (total)\"},{\"data\":[{\"hovertemplate\":\"\",\"legendgroup\":\"External\",\"line\":{\"color\":\"#00cc96\",\"dash\":\"solid\"},\"marker\":{\"symbol\":\"circle\"},\"mode\":\"lines\",\"name\":\"External\",\"orientation\":\"h\",\"showlegend\":true,\"x\":[2022,2023,2024,2025,2026],\"xaxis\":\"x\",\"y\":[1406000.0,1341000.0,1284000.0,1233000.0,1194000.0],\"yaxis\":\"y\",\"type\":\"scatter\"},{\"hovertemplate\":\"\",\"legendgroup\":\"OpenFisca-UK\",\"line\":{\"color\":\"blue\",\"dash\":\"solid\"},\"marker\":{\"symbol\":\"circle\"},\"mode\":\"lines\",\"name\":\"OpenFisca-UK\",\"orientation\":\"h\",\"showlegend\":true,\"x\":[2022,2023,2024,2025,2026],\"xaxis\":\"x\",\"y\":[1405314.8,1340556.6,1283473.6,1233130.6,1193434.0],\"yaxis\":\"y\",\"type\":\"scatter\"},{\"hovertemplate\":\"\",\"legendgroup\":\"UKMOD\",\"line\":{\"color\":\"lightgrey\",\"dash\":\"solid\"},\"marker\":{\"symbol\":\"circle\"},\"mode\":\"lines\",\"name\":\"UKMOD\",\"orientation\":\"h\",\"showlegend\":true,\"x\":[2022,2023,2024,2025,2026],\"xaxis\":\"x\",\"y\":[1413000.0,1445000.0,1442000.0,1417000.0,1417000.0],\"yaxis\":\"y\",\"type\":\"scatter\"}],\"name\":\"Pension Credit\"},{\"data\":[{\"hovertemplate\":\"\",\"legendgroup\":\"External\",\"line\":{\"color\":\"#00cc96\",\"dash\":\"solid\"},\"marker\":{\"symbol\":\"circle\"},\"mode\":\"lines\",\"name\":\"External\",\"orientation\":\"h\",\"showlegend\":true,\"x\":[2022,2023,2024,2025,2026],\"xaxis\":\"x\",\"y\":[4649000.0,5048000.0,5605000.0,6285000.0,6912000.0],\"yaxis\":\"y\",\"type\":\"scatter\"},{\"hovertemplate\":\"\",\"legendgroup\":\"OpenFisca-UK\",\"line\":{\"color\":\"blue\",\"dash\":\"solid\"},\"marker\":{\"symbol\":\"circle\"},\"mode\":\"lines\",\"name\":\"OpenFisca-UK\",\"orientation\":\"h\",\"showlegend\":true,\"x\":[2022,2023,2024,2025,2026],\"xaxis\":\"x\",\"y\":[4667120.0,5071264.4,5632091.4,6300414.3,6930805.0],\"yaxis\":\"y\",\"type\":\"scatter\"},{\"hovertemplate\":\"\",\"legendgroup\":\"UKMOD\",\"line\":{\"color\":\"lightgrey\",\"dash\":\"solid\"},\"marker\":{\"symbol\":\"circle\"},\"mode\":\"lines\",\"name\":\"UKMOD\",\"orientation\":\"h\",\"showlegend\":true,\"x\":[2022,2023,2024,2025,2026],\"xaxis\":\"x\",\"y\":[4214000.0,4656000.0,5311000.0,6146000.0,6146000.0],\"yaxis\":\"y\",\"type\":\"scatter\"}],\"name\":\"Universal Credit\"},{\"data\":[{\"hovertemplate\":\"\",\"legendgroup\":\"External\",\"line\":{\"color\":\"#00cc96\",\"dash\":\"solid\"},\"marker\":{\"symbol\":\"circle\"},\"mode\":\"lines\",\"name\":\"External\",\"orientation\":\"h\",\"showlegend\":true,\"x\":[2022,2023,2024,2025,2026],\"xaxis\":\"x\",\"y\":[909037.5,791522.3,689198.7,600102.9,522525.0],\"yaxis\":\"y\",\"type\":\"scatter\"},{\"hovertemplate\":\"\",\"legendgroup\":\"OpenFisca-UK\",\"line\":{\"color\":\"blue\",\"dash\":\"solid\"},\"marker\":{\"symbol\":\"circle\"},\"mode\":\"lines\",\"name\":\"OpenFisca-UK\",\"orientation\":\"h\",\"showlegend\":true,\"x\":[2022,2023,2024,2025,2026],\"xaxis\":\"x\",\"y\":[903293.4,784669.0,681723.8,591931.0,513745.8],\"yaxis\":\"y\",\"type\":\"scatter\"},{\"hovertemplate\":\"\",\"legendgroup\":\"UKMOD\",\"line\":{\"color\":\"lightgrey\",\"dash\":\"solid\"},\"marker\":{\"symbol\":\"circle\"},\"mode\":\"lines\",\"name\":\"UKMOD\",\"orientation\":\"h\",\"showlegend\":true,\"x\":[2022,2023,2024,2025,2026],\"xaxis\":\"x\",\"y\":[540000.0,443000.0,297000.0,129000.0,129000.0],\"yaxis\":\"y\",\"type\":\"scatter\"}],\"name\":\"Working Tax Credit\"}]);\n",
       "                        }).then(function(){\n",
       "                            \n",
       "var gd = document.getElementById('f0a1c129-a1b9-47ac-9117-9b2189cf29ed');\n",
       "var x = new MutationObserver(function (mutations, observer) {{\n",
       "        var display = window.getComputedStyle(gd).display;\n",
       "        if (!display || display === 'none') {{\n",
       "            console.log([gd, 'removed!']);\n",
       "            Plotly.purge(gd);\n",
       "            observer.disconnect();\n",
       "        }}\n",
       "}});\n",
       "\n",
       "// Listen for the removal of the full notebook cells\n",
       "var notebookContainer = gd.closest('#notebook-container');\n",
       "if (notebookContainer) {{\n",
       "    x.observe(notebookContainer, {childList: true});\n",
       "}}\n",
       "\n",
       "// Listen for the clearing of the current output cell\n",
       "var outputEl = gd.closest('.output');\n",
       "if (outputEl) {{\n",
       "    x.observe(outputEl, {childList: true});\n",
       "}}\n",
       "\n",
       "                        })                };                });            </script>        </div>"
      ]
     },
     "metadata": {},
     "output_type": "display_data"
    }
   ],
   "source": [
    "model_forecast_chart(\n",
    "    model_validation_table(\n",
    "        caseload, models=[EXTERNAL, OPENFISCA_UK, UKMOD], divisor=1, decimals=1\n",
    "    ),\n",
    "    title=\"Caseload forecasts\",\n",
    "    currency=False,\n",
    ")"
   ]
  },
  {
   "cell_type": "markdown",
   "id": "ff161a6a-52b4-4851-9c48-1aede9f8fef0",
   "metadata": {},
   "source": [
    "### Differences\n",
    "\n",
    "#### Absolute"
   ]
  },
  {
   "cell_type": "code",
   "execution_count": 9,
   "id": "89b1f1ba-7545-40e1-83b1-bf934ad6aaff",
   "metadata": {
    "tags": [
     "hide-input"
    ]
   },
   "outputs": [
    {
     "data": {
      "text/html": [
       "<div>\n",
       "<style scoped>\n",
       "    .dataframe tbody tr th:only-of-type {\n",
       "        vertical-align: middle;\n",
       "    }\n",
       "\n",
       "    .dataframe tbody tr th {\n",
       "        vertical-align: top;\n",
       "    }\n",
       "\n",
       "    .dataframe thead th {\n",
       "        text-align: right;\n",
       "    }\n",
       "</style>\n",
       "<table border=\"1\" class=\"dataframe\">\n",
       "  <thead>\n",
       "    <tr style=\"text-align: right;\">\n",
       "      <th></th>\n",
       "      <th></th>\n",
       "      <th>Child Benefit</th>\n",
       "      <th>Income Support</th>\n",
       "      <th>JSA (income-based)</th>\n",
       "      <th>Housing Benefit</th>\n",
       "      <th>Working Tax Credit</th>\n",
       "      <th>Child Tax Credit</th>\n",
       "      <th>Universal Credit</th>\n",
       "      <th>Pension Credit</th>\n",
       "      <th>Income Tax</th>\n",
       "    </tr>\n",
       "  </thead>\n",
       "  <tbody>\n",
       "    <tr>\n",
       "      <th rowspan=\"5\" valign=\"top\">OpenFisca-UK</th>\n",
       "      <th>2022</th>\n",
       "      <td>0.0</td>\n",
       "      <td>-0.0</td>\n",
       "      <td>0.0</td>\n",
       "      <td>0.0</td>\n",
       "      <td>-0.0</td>\n",
       "      <td>-0.0</td>\n",
       "      <td>0.0</td>\n",
       "      <td>-0.0</td>\n",
       "      <td>-1.5</td>\n",
       "    </tr>\n",
       "    <tr>\n",
       "      <th>2023</th>\n",
       "      <td>0.0</td>\n",
       "      <td>-0.0</td>\n",
       "      <td>0.0</td>\n",
       "      <td>0.0</td>\n",
       "      <td>-0.0</td>\n",
       "      <td>-0.0</td>\n",
       "      <td>0.0</td>\n",
       "      <td>-0.0</td>\n",
       "      <td>-1.9</td>\n",
       "    </tr>\n",
       "    <tr>\n",
       "      <th>2024</th>\n",
       "      <td>0.0</td>\n",
       "      <td>0.0</td>\n",
       "      <td>0.0</td>\n",
       "      <td>0.0</td>\n",
       "      <td>-0.0</td>\n",
       "      <td>-0.0</td>\n",
       "      <td>0.0</td>\n",
       "      <td>-0.0</td>\n",
       "      <td>-2.4</td>\n",
       "    </tr>\n",
       "    <tr>\n",
       "      <th>2025</th>\n",
       "      <td>0.0</td>\n",
       "      <td>0.0</td>\n",
       "      <td>0.0</td>\n",
       "      <td>0.0</td>\n",
       "      <td>-0.0</td>\n",
       "      <td>-0.0</td>\n",
       "      <td>0.0</td>\n",
       "      <td>0.0</td>\n",
       "      <td>-2.9</td>\n",
       "    </tr>\n",
       "    <tr>\n",
       "      <th>2026</th>\n",
       "      <td>0.0</td>\n",
       "      <td>0.0</td>\n",
       "      <td>0.0</td>\n",
       "      <td>-0.0</td>\n",
       "      <td>-0.0</td>\n",
       "      <td>-0.0</td>\n",
       "      <td>0.0</td>\n",
       "      <td>-0.0</td>\n",
       "      <td>-3.3</td>\n",
       "    </tr>\n",
       "    <tr>\n",
       "      <th rowspan=\"5\" valign=\"top\">UKMOD</th>\n",
       "      <th>2022</th>\n",
       "      <td>0.0</td>\n",
       "      <td></td>\n",
       "      <td></td>\n",
       "      <td>-0.4</td>\n",
       "      <td>-0.4</td>\n",
       "      <td>-0.3</td>\n",
       "      <td>-0.4</td>\n",
       "      <td>0.0</td>\n",
       "      <td>-2.7</td>\n",
       "    </tr>\n",
       "    <tr>\n",
       "      <th>2023</th>\n",
       "      <td>0.1</td>\n",
       "      <td></td>\n",
       "      <td></td>\n",
       "      <td>-0.4</td>\n",
       "      <td>-0.3</td>\n",
       "      <td>-0.2</td>\n",
       "      <td>-0.4</td>\n",
       "      <td>0.1</td>\n",
       "      <td>-2.6</td>\n",
       "    </tr>\n",
       "    <tr>\n",
       "      <th>2024</th>\n",
       "      <td>0.1</td>\n",
       "      <td></td>\n",
       "      <td></td>\n",
       "      <td>-0.3</td>\n",
       "      <td>-0.4</td>\n",
       "      <td>-0.2</td>\n",
       "      <td>-0.3</td>\n",
       "      <td>0.2</td>\n",
       "      <td>-2.8</td>\n",
       "    </tr>\n",
       "    <tr>\n",
       "      <th>2025</th>\n",
       "      <td>0.1</td>\n",
       "      <td></td>\n",
       "      <td></td>\n",
       "      <td>-0.3</td>\n",
       "      <td>-0.5</td>\n",
       "      <td>-0.4</td>\n",
       "      <td>-0.1</td>\n",
       "      <td>0.2</td>\n",
       "      <td>-2.8</td>\n",
       "    </tr>\n",
       "    <tr>\n",
       "      <th>2026</th>\n",
       "      <td>0.2</td>\n",
       "      <td></td>\n",
       "      <td></td>\n",
       "      <td>0.0</td>\n",
       "      <td>-0.4</td>\n",
       "      <td>-0.2</td>\n",
       "      <td>-0.8</td>\n",
       "      <td>0.2</td>\n",
       "      <td>-3.4</td>\n",
       "    </tr>\n",
       "  </tbody>\n",
       "</table>\n",
       "</div>"
      ],
      "text/plain": [
       "                   Child Benefit Income Support JSA (income-based)  \\\n",
       "OpenFisca-UK 2022  0.0           -0.0            0.0                 \n",
       "             2023  0.0           -0.0            0.0                 \n",
       "             2024  0.0            0.0            0.0                 \n",
       "             2025  0.0            0.0            0.0                 \n",
       "             2026  0.0            0.0            0.0                 \n",
       "UKMOD        2022  0.0                                               \n",
       "             2023  0.1                                               \n",
       "             2024  0.1                                               \n",
       "             2025  0.1                                               \n",
       "             2026  0.2                                               \n",
       "\n",
       "                   Housing Benefit  Working Tax Credit  Child Tax Credit  \\\n",
       "OpenFisca-UK 2022  0.0             -0.0                -0.0                \n",
       "             2023  0.0             -0.0                -0.0                \n",
       "             2024  0.0             -0.0                -0.0                \n",
       "             2025  0.0             -0.0                -0.0                \n",
       "             2026 -0.0             -0.0                -0.0                \n",
       "UKMOD        2022 -0.4             -0.4                -0.3                \n",
       "             2023 -0.4             -0.3                -0.2                \n",
       "             2024 -0.3             -0.4                -0.2                \n",
       "             2025 -0.3             -0.5                -0.4                \n",
       "             2026  0.0             -0.4                -0.2                \n",
       "\n",
       "                   Universal Credit  Pension Credit  Income Tax  \n",
       "OpenFisca-UK 2022  0.0              -0.0            -1.5         \n",
       "             2023  0.0              -0.0            -1.9         \n",
       "             2024  0.0              -0.0            -2.4         \n",
       "             2025  0.0               0.0            -2.9         \n",
       "             2026  0.0              -0.0            -3.3         \n",
       "UKMOD        2022 -0.4               0.0            -2.7         \n",
       "             2023 -0.4               0.1            -2.6         \n",
       "             2024 -0.3               0.2            -2.8         \n",
       "             2025 -0.1               0.2            -2.8         \n",
       "             2026 -0.8               0.2            -3.4         "
      ]
     },
     "execution_count": 9,
     "metadata": {},
     "output_type": "execute_result"
    }
   ],
   "source": [
    "def caseload_error(model, year, variable):\n",
    "    try:\n",
    "        if model == OPENFISCA_UK:\n",
    "            return get_nonzero(variable, year).sum() - caseload(\n",
    "                EXTERNAL, year, variable\n",
    "            )\n",
    "        elif model == UKMOD:\n",
    "            return getattr(ukmod_statistics.ukmod.nonzero_units, variable)(\n",
    "                f\"{year}-01-01\"\n",
    "            ) - caseload(EXTERNAL, year, variable)\n",
    "    except:\n",
    "        return np.nan\n",
    "\n",
    "\n",
    "model_validation_table(\n",
    "    caseload_error,\n",
    "    variables=VARIABLES[:-1],\n",
    "    models=[OPENFISCA_UK, UKMOD],\n",
    "    divisor=1e6,\n",
    "    decimals=1,\n",
    ")"
   ]
  },
  {
   "cell_type": "markdown",
   "id": "6a679603-acf0-44ea-a3b8-687e703bd041",
   "metadata": {},
   "source": [
    "#### Relative"
   ]
  },
  {
   "cell_type": "code",
   "execution_count": 10,
   "id": "55d5b862-5737-4148-a535-5c8bebfb129f",
   "metadata": {
    "tags": [
     "hide-input"
    ]
   },
   "outputs": [
    {
     "data": {
      "text/html": [
       "<div>\n",
       "<style scoped>\n",
       "    .dataframe tbody tr th:only-of-type {\n",
       "        vertical-align: middle;\n",
       "    }\n",
       "\n",
       "    .dataframe tbody tr th {\n",
       "        vertical-align: top;\n",
       "    }\n",
       "\n",
       "    .dataframe thead th {\n",
       "        text-align: right;\n",
       "    }\n",
       "</style>\n",
       "<table border=\"1\" class=\"dataframe\">\n",
       "  <thead>\n",
       "    <tr style=\"text-align: right;\">\n",
       "      <th></th>\n",
       "      <th></th>\n",
       "      <th>Child Benefit</th>\n",
       "      <th>Income Support</th>\n",
       "      <th>JSA (income-based)</th>\n",
       "      <th>Housing Benefit</th>\n",
       "      <th>Working Tax Credit</th>\n",
       "      <th>Child Tax Credit</th>\n",
       "      <th>Universal Credit</th>\n",
       "      <th>Pension Credit</th>\n",
       "      <th>Income Tax</th>\n",
       "    </tr>\n",
       "  </thead>\n",
       "  <tbody>\n",
       "    <tr>\n",
       "      <th rowspan=\"5\" valign=\"top\">OpenFisca-UK</th>\n",
       "      <th>2022</th>\n",
       "      <td>0.0</td>\n",
       "      <td>-1.5</td>\n",
       "      <td>28.1</td>\n",
       "      <td>0.2</td>\n",
       "      <td>-0.6</td>\n",
       "      <td>-0.6</td>\n",
       "      <td>0.4</td>\n",
       "      <td>-0.0</td>\n",
       "      <td>-4.6</td>\n",
       "    </tr>\n",
       "    <tr>\n",
       "      <th>2023</th>\n",
       "      <td>0.1</td>\n",
       "      <td>-1.5</td>\n",
       "      <td>559.7</td>\n",
       "      <td>0.2</td>\n",
       "      <td>-0.9</td>\n",
       "      <td>-0.7</td>\n",
       "      <td>0.5</td>\n",
       "      <td>-0.0</td>\n",
       "      <td>-5.7</td>\n",
       "    </tr>\n",
       "    <tr>\n",
       "      <th>2024</th>\n",
       "      <td>0.1</td>\n",
       "      <td>1.3</td>\n",
       "      <td>inf</td>\n",
       "      <td>0.2</td>\n",
       "      <td>-1.1</td>\n",
       "      <td>-1.0</td>\n",
       "      <td>0.5</td>\n",
       "      <td>-0.0</td>\n",
       "      <td>-7.1</td>\n",
       "    </tr>\n",
       "    <tr>\n",
       "      <th>2025</th>\n",
       "      <td>0.0</td>\n",
       "      <td>23.8</td>\n",
       "      <td>inf</td>\n",
       "      <td>0.1</td>\n",
       "      <td>-1.4</td>\n",
       "      <td>-1.4</td>\n",
       "      <td>0.2</td>\n",
       "      <td>0.0</td>\n",
       "      <td>-8.4</td>\n",
       "    </tr>\n",
       "    <tr>\n",
       "      <th>2026</th>\n",
       "      <td>0.0</td>\n",
       "      <td>522.4</td>\n",
       "      <td>inf</td>\n",
       "      <td>-0.1</td>\n",
       "      <td>-1.7</td>\n",
       "      <td>-2.3</td>\n",
       "      <td>0.3</td>\n",
       "      <td>-0.0</td>\n",
       "      <td>-9.5</td>\n",
       "    </tr>\n",
       "    <tr>\n",
       "      <th rowspan=\"5\" valign=\"top\">UKMOD</th>\n",
       "      <th>2022</th>\n",
       "      <td>0.6</td>\n",
       "      <td></td>\n",
       "      <td></td>\n",
       "      <td>-16.5</td>\n",
       "      <td>-40.6</td>\n",
       "      <td>-19.3</td>\n",
       "      <td>-9.4</td>\n",
       "      <td>0.5</td>\n",
       "      <td>-8.2</td>\n",
       "    </tr>\n",
       "    <tr>\n",
       "      <th>2023</th>\n",
       "      <td>1.0</td>\n",
       "      <td></td>\n",
       "      <td></td>\n",
       "      <td>-16.6</td>\n",
       "      <td>-44.0</td>\n",
       "      <td>-16.1</td>\n",
       "      <td>-7.8</td>\n",
       "      <td>7.8</td>\n",
       "      <td>-7.9</td>\n",
       "    </tr>\n",
       "    <tr>\n",
       "      <th>2024</th>\n",
       "      <td>1.3</td>\n",
       "      <td></td>\n",
       "      <td></td>\n",
       "      <td>-15.7</td>\n",
       "      <td>-56.9</td>\n",
       "      <td>-23.6</td>\n",
       "      <td>-5.2</td>\n",
       "      <td>12.3</td>\n",
       "      <td>-8.3</td>\n",
       "    </tr>\n",
       "    <tr>\n",
       "      <th>2025</th>\n",
       "      <td>1.8</td>\n",
       "      <td></td>\n",
       "      <td></td>\n",
       "      <td>-17.0</td>\n",
       "      <td>-78.5</td>\n",
       "      <td>-56.3</td>\n",
       "      <td>-2.2</td>\n",
       "      <td>14.9</td>\n",
       "      <td>-8.2</td>\n",
       "    </tr>\n",
       "    <tr>\n",
       "      <th>2026</th>\n",
       "      <td>2.8</td>\n",
       "      <td></td>\n",
       "      <td></td>\n",
       "      <td>3.2</td>\n",
       "      <td>-75.3</td>\n",
       "      <td>-44.9</td>\n",
       "      <td>-11.1</td>\n",
       "      <td>18.7</td>\n",
       "      <td>-9.6</td>\n",
       "    </tr>\n",
       "  </tbody>\n",
       "</table>\n",
       "</div>"
      ],
      "text/plain": [
       "                   Child Benefit Income Support JSA (income-based)  \\\n",
       "OpenFisca-UK 2022  0.0           -1.5            28.1                \n",
       "             2023  0.1           -1.5            559.7               \n",
       "             2024  0.1            1.3            inf                 \n",
       "             2025  0.0            23.8           inf                 \n",
       "             2026  0.0            522.4          inf                 \n",
       "UKMOD        2022  0.6                                               \n",
       "             2023  1.0                                               \n",
       "             2024  1.3                                               \n",
       "             2025  1.8                                               \n",
       "             2026  2.8                                               \n",
       "\n",
       "                   Housing Benefit  Working Tax Credit  Child Tax Credit  \\\n",
       "OpenFisca-UK 2022  0.2             -0.6                -0.6                \n",
       "             2023  0.2             -0.9                -0.7                \n",
       "             2024  0.2             -1.1                -1.0                \n",
       "             2025  0.1             -1.4                -1.4                \n",
       "             2026 -0.1             -1.7                -2.3                \n",
       "UKMOD        2022 -16.5            -40.6               -19.3               \n",
       "             2023 -16.6            -44.0               -16.1               \n",
       "             2024 -15.7            -56.9               -23.6               \n",
       "             2025 -17.0            -78.5               -56.3               \n",
       "             2026  3.2             -75.3               -44.9               \n",
       "\n",
       "                   Universal Credit  Pension Credit  Income Tax  \n",
       "OpenFisca-UK 2022  0.4              -0.0            -4.6         \n",
       "             2023  0.5              -0.0            -5.7         \n",
       "             2024  0.5              -0.0            -7.1         \n",
       "             2025  0.2               0.0            -8.4         \n",
       "             2026  0.3              -0.0            -9.5         \n",
       "UKMOD        2022 -9.4               0.5            -8.2         \n",
       "             2023 -7.8               7.8            -7.9         \n",
       "             2024 -5.2               12.3           -8.3         \n",
       "             2025 -2.2               14.9           -8.2         \n",
       "             2026 -11.1              18.7           -9.6         "
      ]
     },
     "execution_count": 10,
     "metadata": {},
     "output_type": "execute_result"
    }
   ],
   "source": [
    "def relative_caseload_error(model, year, variable):\n",
    "    try:\n",
    "        if model == OPENFISCA_UK:\n",
    "            return (\n",
    "                get_nonzero(variable, year).sum()\n",
    "                / caseload(EXTERNAL, year, variable)\n",
    "                - 1\n",
    "            )\n",
    "        elif model == UKMOD:\n",
    "            return (\n",
    "                getattr(ukmod_statistics.ukmod.nonzero_units, variable)(\n",
    "                    f\"{year}-01-01\"\n",
    "                )\n",
    "                / caseload(EXTERNAL, year, variable)\n",
    "                - 1\n",
    "            )\n",
    "    except:\n",
    "        return np.nan\n",
    "\n",
    "\n",
    "model_validation_table(\n",
    "    relative_caseload_error,\n",
    "    variables=VARIABLES[:-1],\n",
    "    models=[OPENFISCA_UK, UKMOD],\n",
    "    divisor=1e-2,\n",
    "    decimals=1,\n",
    ")"
   ]
  },
  {
   "cell_type": "code",
   "execution_count": 11,
   "id": "6f47e9b2-895d-4a70-9206-282bddff8769",
   "metadata": {
    "tags": [
     "hide-input"
    ]
   },
   "outputs": [
    {
     "data": {
      "application/vnd.plotly.v1+json": {
       "config": {
        "plotlyServerURL": "https://plot.ly"
       },
       "data": [
        {
         "alignmentgroup": "True",
         "customdata": [
          [
           1.4,
           1.4,
           1.4,
           2022,
           "Pension Credit"
          ],
          [
           7.1,
           7.1,
           7.1,
           2022,
           "Child Benefit"
          ],
          [
           2.7,
           2.3,
           2.7,
           2022,
           "Housing Benefit"
          ],
          [
           0.9,
           0.5,
           0.9,
           2022,
           "Working Tax Credit"
          ],
          [
           1.3,
           1.1,
           1.3,
           2022,
           "Child Tax Credit"
          ],
          [
           4.7,
           4.2,
           4.6,
           2022,
           "Universal Credit"
          ],
          [
           31.2,
           30,
           32.7,
           2022,
           "Income Tax"
          ]
         ],
         "hovertemplate": "<b>%{customdata[4]} in %{customdata[3]}</b><br>Error: %{x}<br>Official: %{customdata[2]}m<br>OpenFisca-UK: %{customdata[0]}m<br>UKMOD: %{customdata[1]}m",
         "legendgroup": "OpenFisca-UK",
         "marker": {
          "color": "blue",
          "pattern": {
           "shape": ""
          }
         },
         "name": "OpenFisca-UK",
         "offsetgroup": "OpenFisca-UK",
         "orientation": "h",
         "showlegend": true,
         "textposition": "auto",
         "type": "bar",
         "x": [
          685.2339999999999,
          2691.775,
          5363.285,
          5744.128000000001,
          8035.228,
          18120.034,
          1500689.846
         ],
         "xaxis": "x",
         "y": [
          "Pension Credit",
          "Child Benefit",
          "Housing Benefit",
          "Working Tax Credit",
          "Child Tax Credit",
          "Universal Credit",
          "Income Tax"
         ],
         "yaxis": "y"
        },
        {
         "alignmentgroup": "True",
         "customdata": [
          [
           1.4,
           1.4,
           1.4,
           2022,
           "Pension Credit"
          ],
          [
           7.1,
           7.1,
           7.1,
           2022,
           "Child Benefit"
          ],
          [
           2.7,
           2.3,
           2.7,
           2022,
           "Housing Benefit"
          ],
          [
           0.9,
           0.5,
           0.9,
           2022,
           "Working Tax Credit"
          ],
          [
           1.3,
           1.1,
           1.3,
           2022,
           "Child Tax Credit"
          ],
          [
           4.7,
           4.2,
           4.6,
           2022,
           "Universal Credit"
          ],
          [
           31.2,
           30,
           32.7,
           2022,
           "Income Tax"
          ]
         ],
         "hovertemplate": "<b>%{customdata[4]} in %{customdata[3]}</b><br>Error: %{x}<br>Official: %{customdata[2]}m<br>OpenFisca-UK: %{customdata[0]}m<br>UKMOD: %{customdata[1]}m",
         "legendgroup": "UKMOD",
         "marker": {
          "color": "lightgrey",
          "pattern": {
           "shape": ""
          }
         },
         "name": "UKMOD",
         "offsetgroup": "UKMOD",
         "orientation": "h",
         "showlegend": true,
         "textposition": "auto",
         "type": "bar",
         "x": [
          7000,
          45218.345,
          446000,
          369037.531,
          257692.235,
          435000,
          2696886.435
         ],
         "xaxis": "x",
         "y": [
          "Pension Credit",
          "Child Benefit",
          "Housing Benefit",
          "Working Tax Credit",
          "Child Tax Credit",
          "Universal Credit",
          "Income Tax"
         ],
         "yaxis": "y"
        }
       ],
       "frames": [
        {
         "data": [
          {
           "alignmentgroup": "True",
           "customdata": [
            [
             1.4,
             1.4,
             1.4,
             2022,
             "Pension Credit"
            ],
            [
             7.1,
             7.1,
             7.1,
             2022,
             "Child Benefit"
            ],
            [
             2.7,
             2.3,
             2.7,
             2022,
             "Housing Benefit"
            ],
            [
             0.9,
             0.5,
             0.9,
             2022,
             "Working Tax Credit"
            ],
            [
             1.3,
             1.1,
             1.3,
             2022,
             "Child Tax Credit"
            ],
            [
             4.7,
             4.2,
             4.6,
             2022,
             "Universal Credit"
            ],
            [
             31.2,
             30,
             32.7,
             2022,
             "Income Tax"
            ]
           ],
           "hovertemplate": "<b>%{customdata[4]} in %{customdata[3]}</b><br>Error: %{x}<br>Official: %{customdata[2]}m<br>OpenFisca-UK: %{customdata[0]}m<br>UKMOD: %{customdata[1]}m",
           "legendgroup": "OpenFisca-UK",
           "marker": {
            "color": "blue",
            "pattern": {
             "shape": ""
            }
           },
           "name": "OpenFisca-UK",
           "offsetgroup": "OpenFisca-UK",
           "orientation": "h",
           "showlegend": true,
           "textposition": "auto",
           "type": "bar",
           "x": [
            685.2339999999999,
            2691.775,
            5363.285,
            5744.128000000001,
            8035.228,
            18120.034,
            1500689.846
           ],
           "xaxis": "x",
           "y": [
            "Pension Credit",
            "Child Benefit",
            "Housing Benefit",
            "Working Tax Credit",
            "Child Tax Credit",
            "Universal Credit",
            "Income Tax"
           ],
           "yaxis": "y"
          },
          {
           "alignmentgroup": "True",
           "customdata": [
            [
             1.4,
             1.4,
             1.4,
             2022,
             "Pension Credit"
            ],
            [
             7.1,
             7.1,
             7.1,
             2022,
             "Child Benefit"
            ],
            [
             2.7,
             2.3,
             2.7,
             2022,
             "Housing Benefit"
            ],
            [
             0.9,
             0.5,
             0.9,
             2022,
             "Working Tax Credit"
            ],
            [
             1.3,
             1.1,
             1.3,
             2022,
             "Child Tax Credit"
            ],
            [
             4.7,
             4.2,
             4.6,
             2022,
             "Universal Credit"
            ],
            [
             31.2,
             30,
             32.7,
             2022,
             "Income Tax"
            ]
           ],
           "hovertemplate": "<b>%{customdata[4]} in %{customdata[3]}</b><br>Error: %{x}<br>Official: %{customdata[2]}m<br>OpenFisca-UK: %{customdata[0]}m<br>UKMOD: %{customdata[1]}m",
           "legendgroup": "UKMOD",
           "marker": {
            "color": "lightgrey",
            "pattern": {
             "shape": ""
            }
           },
           "name": "UKMOD",
           "offsetgroup": "UKMOD",
           "orientation": "h",
           "showlegend": true,
           "textposition": "auto",
           "type": "bar",
           "x": [
            7000,
            45218.345,
            446000,
            369037.531,
            257692.235,
            435000,
            2696886.435
           ],
           "xaxis": "x",
           "y": [
            "Pension Credit",
            "Child Benefit",
            "Housing Benefit",
            "Working Tax Credit",
            "Child Tax Credit",
            "Universal Credit",
            "Income Tax"
           ],
           "yaxis": "y"
          }
         ],
         "name": "2022"
        },
        {
         "data": [
          {
           "alignmentgroup": "True",
           "customdata": [
            [
             1.3,
             1.4,
             1.3,
             2023,
             "Pension Credit"
            ],
            [
             7,
             7.1,
             7,
             2023,
             "Child Benefit"
            ],
            [
             2.5,
             2,
             2.5,
             2023,
             "Housing Benefit"
            ],
            [
             0.8,
             0.4,
             0.8,
             2023,
             "Working Tax Credit"
            ],
            [
             1.1,
             0.9,
             1.1,
             2023,
             "Child Tax Credit"
            ],
            [
             5.1,
             4.7,
             5,
             2023,
             "Universal Credit"
            ],
            [
             31.3,
             30.6,
             33.2,
             2023,
             "Income Tax"
            ]
           ],
           "hovertemplate": "<b>%{customdata[4]} in %{customdata[3]}</b><br>Error: %{x}<br>Official: %{customdata[2]}m<br>OpenFisca-UK: %{customdata[0]}m<br>UKMOD: %{customdata[1]}m",
           "legendgroup": "OpenFisca-UK",
           "marker": {
            "color": "blue",
            "pattern": {
             "shape": ""
            }
           },
           "name": "OpenFisca-UK",
           "offsetgroup": "OpenFisca-UK",
           "orientation": "h",
           "showlegend": true,
           "textposition": "auto",
           "type": "bar",
           "x": [
            443.36400000000003,
            3529.927,
            4887.972,
            6853.291,
            7927.42,
            23264.385,
            1900432.5690000001
           ],
           "xaxis": "x",
           "y": [
            "Pension Credit",
            "Child Benefit",
            "Housing Benefit",
            "Working Tax Credit",
            "Child Tax Credit",
            "Universal Credit",
            "Income Tax"
           ],
           "yaxis": "y"
          },
          {
           "alignmentgroup": "True",
           "customdata": [
            [
             1.3,
             1.4,
             1.3,
             2023,
             "Pension Credit"
            ],
            [
             7,
             7.1,
             7,
             2023,
             "Child Benefit"
            ],
            [
             2.5,
             2,
             2.5,
             2023,
             "Housing Benefit"
            ],
            [
             0.8,
             0.4,
             0.8,
             2023,
             "Working Tax Credit"
            ],
            [
             1.1,
             0.9,
             1.1,
             2023,
             "Child Tax Credit"
            ],
            [
             5.1,
             4.7,
             5,
             2023,
             "Universal Credit"
            ],
            [
             31.3,
             30.6,
             33.2,
             2023,
             "Income Tax"
            ]
           ],
           "hovertemplate": "<b>%{customdata[4]} in %{customdata[3]}</b><br>Error: %{x}<br>Official: %{customdata[2]}m<br>OpenFisca-UK: %{customdata[0]}m<br>UKMOD: %{customdata[1]}m",
           "legendgroup": "UKMOD",
           "marker": {
            "color": "lightgrey",
            "pattern": {
             "shape": ""
            }
           },
           "name": "UKMOD",
           "offsetgroup": "UKMOD",
           "orientation": "h",
           "showlegend": true,
           "textposition": "auto",
           "type": "bar",
           "x": [
            104000,
            70105.091,
            409000,
            348522.25399999996,
            171340.75699999998,
            392000,
            2640783.6980000003
           ],
           "xaxis": "x",
           "y": [
            "Pension Credit",
            "Child Benefit",
            "Housing Benefit",
            "Working Tax Credit",
            "Child Tax Credit",
            "Universal Credit",
            "Income Tax"
           ],
           "yaxis": "y"
          }
         ],
         "name": "2023"
        },
        {
         "data": [
          {
           "alignmentgroup": "True",
           "customdata": [
            [
             1.3,
             1.4,
             1.3,
             2024,
             "Pension Credit"
            ],
            [
             2.1,
             1.8,
             2.1,
             2024,
             "Housing Benefit"
            ],
            [
             6.9,
             7,
             6.9,
             2024,
             "Child Benefit"
            ],
            [
             0.7,
             0.3,
             0.7,
             2024,
             "Working Tax Credit"
            ],
            [
             0.8,
             0.6,
             0.8,
             2024,
             "Child Tax Credit"
            ],
            [
             5.6,
             5.3,
             5.6,
             2024,
             "Universal Credit"
            ],
            [
             31.3,
             30.9,
             33.7,
             2024,
             "Income Tax"
            ]
           ],
           "hovertemplate": "<b>%{customdata[4]} in %{customdata[3]}</b><br>Error: %{x}<br>Official: %{customdata[2]}m<br>OpenFisca-UK: %{customdata[0]}m<br>UKMOD: %{customdata[1]}m",
           "legendgroup": "OpenFisca-UK",
           "marker": {
            "color": "blue",
            "pattern": {
             "shape": ""
            }
           },
           "name": "OpenFisca-UK",
           "offsetgroup": "OpenFisca-UK",
           "orientation": "h",
           "showlegend": true,
           "textposition": "auto",
           "type": "bar",
           "x": [
            526.352,
            3283.923,
            3667.5640000000003,
            7474.866999999999,
            8649.431,
            27091.362,
            2402583.89
           ],
           "xaxis": "x",
           "y": [
            "Pension Credit",
            "Housing Benefit",
            "Child Benefit",
            "Working Tax Credit",
            "Child Tax Credit",
            "Universal Credit",
            "Income Tax"
           ],
           "yaxis": "y"
          },
          {
           "alignmentgroup": "True",
           "customdata": [
            [
             1.3,
             1.4,
             1.3,
             2024,
             "Pension Credit"
            ],
            [
             2.1,
             1.8,
             2.1,
             2024,
             "Housing Benefit"
            ],
            [
             6.9,
             7,
             6.9,
             2024,
             "Child Benefit"
            ],
            [
             0.7,
             0.3,
             0.7,
             2024,
             "Working Tax Credit"
            ],
            [
             0.8,
             0.6,
             0.8,
             2024,
             "Child Tax Credit"
            ],
            [
             5.6,
             5.3,
             5.6,
             2024,
             "Universal Credit"
            ],
            [
             31.3,
             30.9,
             33.7,
             2024,
             "Income Tax"
            ]
           ],
           "hovertemplate": "<b>%{customdata[4]} in %{customdata[3]}</b><br>Error: %{x}<br>Official: %{customdata[2]}m<br>OpenFisca-UK: %{customdata[0]}m<br>UKMOD: %{customdata[1]}m",
           "legendgroup": "UKMOD",
           "marker": {
            "color": "lightgrey",
            "pattern": {
             "shape": ""
            }
           },
           "name": "UKMOD",
           "offsetgroup": "UKMOD",
           "orientation": "h",
           "showlegend": true,
           "textposition": "auto",
           "type": "bar",
           "x": [
            158000,
            331000,
            88320.711,
            392198.69299999997,
            199080.24300000002,
            294000,
            2808818.1410000003
           ],
           "xaxis": "x",
           "y": [
            "Pension Credit",
            "Housing Benefit",
            "Child Benefit",
            "Working Tax Credit",
            "Child Tax Credit",
            "Universal Credit",
            "Income Tax"
           ],
           "yaxis": "y"
          }
         ],
         "name": "2024"
        },
        {
         "data": [
          {
           "alignmentgroup": "True",
           "customdata": [
            [
             1.2,
             1.4,
             1.2,
             2025,
             "Pension Credit"
            ],
            [
             1.7,
             1.4,
             1.7,
             2025,
             "Housing Benefit"
            ],
            [
             6.9,
             7,
             6.9,
             2025,
             "Child Benefit"
            ],
            [
             0.6,
             0.1,
             0.6,
             2025,
             "Working Tax Credit"
            ],
            [
             0.7,
             0.3,
             0.7,
             2025,
             "Child Tax Credit"
            ],
            [
             6.3,
             6.1,
             6.3,
             2025,
             "Universal Credit"
            ],
            [
             31.4,
             31.5,
             34.3,
             2025,
             "Income Tax"
            ]
           ],
           "hovertemplate": "<b>%{customdata[4]} in %{customdata[3]}</b><br>Error: %{x}<br>Official: %{customdata[2]}m<br>OpenFisca-UK: %{customdata[0]}m<br>UKMOD: %{customdata[1]}m",
           "legendgroup": "OpenFisca-UK",
           "marker": {
            "color": "blue",
            "pattern": {
             "shape": ""
            }
           },
           "name": "OpenFisca-UK",
           "offsetgroup": "OpenFisca-UK",
           "orientation": "h",
           "showlegend": true,
           "textposition": "auto",
           "type": "bar",
           "x": [
            130.641,
            2219.024,
            2651.6259999999997,
            8171.903,
            9678.748,
            15414.271,
            2870723.311
           ],
           "xaxis": "x",
           "y": [
            "Pension Credit",
            "Housing Benefit",
            "Child Benefit",
            "Working Tax Credit",
            "Child Tax Credit",
            "Universal Credit",
            "Income Tax"
           ],
           "yaxis": "y"
          },
          {
           "alignmentgroup": "True",
           "customdata": [
            [
             1.2,
             1.4,
             1.2,
             2025,
             "Pension Credit"
            ],
            [
             1.7,
             1.4,
             1.7,
             2025,
             "Housing Benefit"
            ],
            [
             6.9,
             7,
             6.9,
             2025,
             "Child Benefit"
            ],
            [
             0.6,
             0.1,
             0.6,
             2025,
             "Working Tax Credit"
            ],
            [
             0.7,
             0.3,
             0.7,
             2025,
             "Child Tax Credit"
            ],
            [
             6.3,
             6.1,
             6.3,
             2025,
             "Universal Credit"
            ],
            [
             31.4,
             31.5,
             34.3,
             2025,
             "Income Tax"
            ]
           ],
           "hovertemplate": "<b>%{customdata[4]} in %{customdata[3]}</b><br>Error: %{x}<br>Official: %{customdata[2]}m<br>OpenFisca-UK: %{customdata[0]}m<br>UKMOD: %{customdata[1]}m",
           "legendgroup": "UKMOD",
           "marker": {
            "color": "lightgrey",
            "pattern": {
             "shape": ""
            }
           },
           "name": "UKMOD",
           "offsetgroup": "UKMOD",
           "orientation": "h",
           "showlegend": true,
           "textposition": "auto",
           "type": "bar",
           "x": [
            184000,
            294000,
            123871.743,
            471102.94899999996,
            376116.37200000003,
            139000,
            2814118.1119999997
           ],
           "xaxis": "x",
           "y": [
            "Pension Credit",
            "Housing Benefit",
            "Child Benefit",
            "Working Tax Credit",
            "Child Tax Credit",
            "Universal Credit",
            "Income Tax"
           ],
           "yaxis": "y"
          }
         ],
         "name": "2025"
        },
        {
         "data": [
          {
           "alignmentgroup": "True",
           "customdata": [
            [
             1.2,
             1.4,
             1.2,
             2026,
             "Pension Credit"
            ],
            [
             1.4,
             1.4,
             1.4,
             2026,
             "Housing Benefit"
            ],
            [
             6.8,
             7,
             6.8,
             2026,
             "Child Benefit"
            ],
            [
             0.5,
             0.1,
             0.5,
             2026,
             "Working Tax Credit"
            ],
            [
             0.5,
             0.3,
             0.5,
             2026,
             "Child Tax Credit"
            ],
            [
             6.9,
             6.1,
             6.9,
             2026,
             "Universal Credit"
            ],
            [
             31.5,
             31.5,
             34.8,
             2026,
             "Income Tax"
            ]
           ],
           "hovertemplate": "<b>%{customdata[4]} in %{customdata[3]}</b><br>Error: %{x}<br>Official: %{customdata[2]}m<br>OpenFisca-UK: %{customdata[0]}m<br>UKMOD: %{customdata[1]}m",
           "legendgroup": "OpenFisca-UK",
           "marker": {
            "color": "blue",
            "pattern": {
             "shape": ""
            }
           },
           "name": "OpenFisca-UK",
           "offsetgroup": "OpenFisca-UK",
           "orientation": "h",
           "showlegend": true,
           "textposition": "auto",
           "type": "bar",
           "x": [
            566.007,
            2026.724,
            2817.442,
            8779.199,
            12308.418,
            18804.955,
            3323684.983
           ],
           "xaxis": "x",
           "y": [
            "Pension Credit",
            "Housing Benefit",
            "Child Benefit",
            "Working Tax Credit",
            "Child Tax Credit",
            "Universal Credit",
            "Income Tax"
           ],
           "yaxis": "y"
          },
          {
           "alignmentgroup": "True",
           "customdata": [
            [
             1.2,
             1.4,
             1.2,
             2026,
             "Pension Credit"
            ],
            [
             1.4,
             1.4,
             1.4,
             2026,
             "Housing Benefit"
            ],
            [
             6.8,
             7,
             6.8,
             2026,
             "Child Benefit"
            ],
            [
             0.5,
             0.1,
             0.5,
             2026,
             "Working Tax Credit"
            ],
            [
             0.5,
             0.3,
             0.5,
             2026,
             "Child Tax Credit"
            ],
            [
             6.9,
             6.1,
             6.9,
             2026,
             "Universal Credit"
            ],
            [
             31.5,
             31.5,
             34.8,
             2026,
             "Income Tax"
            ]
           ],
           "hovertemplate": "<b>%{customdata[4]} in %{customdata[3]}</b><br>Error: %{x}<br>Official: %{customdata[2]}m<br>OpenFisca-UK: %{customdata[0]}m<br>UKMOD: %{customdata[1]}m",
           "legendgroup": "UKMOD",
           "marker": {
            "color": "lightgrey",
            "pattern": {
             "shape": ""
            }
           },
           "name": "UKMOD",
           "offsetgroup": "UKMOD",
           "orientation": "h",
           "showlegend": true,
           "textposition": "auto",
           "type": "bar",
           "x": [
            223000,
            44000,
            190764.663,
            393525.00299999997,
            238091.389,
            766000,
            3354813.981
           ],
           "xaxis": "x",
           "y": [
            "Pension Credit",
            "Housing Benefit",
            "Child Benefit",
            "Working Tax Credit",
            "Child Tax Credit",
            "Universal Credit",
            "Income Tax"
           ],
           "yaxis": "y"
          }
         ],
         "name": "2026"
        }
       ],
       "layout": {
        "barmode": "group",
        "height": 600,
        "legend": {
         "title": {
          "text": "Model"
         },
         "tracegroupgap": 0,
         "traceorder": "reversed"
        },
        "margin": {
         "t": 60
        },
        "sliders": [
         {
          "active": 0,
          "currentvalue": {
           "prefix": "Year="
          },
          "len": 0.9,
          "pad": {
           "b": 10,
           "t": 60
          },
          "steps": [
           {
            "args": [
             [
              "2022"
             ],
             {
              "frame": {
               "duration": 0,
               "redraw": true
              },
              "fromcurrent": true,
              "mode": "immediate",
              "transition": {
               "duration": 0,
               "easing": "linear"
              }
             }
            ],
            "label": "2022",
            "method": "animate"
           },
           {
            "args": [
             [
              "2023"
             ],
             {
              "frame": {
               "duration": 0,
               "redraw": true
              },
              "fromcurrent": true,
              "mode": "immediate",
              "transition": {
               "duration": 0,
               "easing": "linear"
              }
             }
            ],
            "label": "2023",
            "method": "animate"
           },
           {
            "args": [
             [
              "2024"
             ],
             {
              "frame": {
               "duration": 0,
               "redraw": true
              },
              "fromcurrent": true,
              "mode": "immediate",
              "transition": {
               "duration": 0,
               "easing": "linear"
              }
             }
            ],
            "label": "2024",
            "method": "animate"
           },
           {
            "args": [
             [
              "2025"
             ],
             {
              "frame": {
               "duration": 0,
               "redraw": true
              },
              "fromcurrent": true,
              "mode": "immediate",
              "transition": {
               "duration": 0,
               "easing": "linear"
              }
             }
            ],
            "label": "2025",
            "method": "animate"
           },
           {
            "args": [
             [
              "2026"
             ],
             {
              "frame": {
               "duration": 0,
               "redraw": true
              },
              "fromcurrent": true,
              "mode": "immediate",
              "transition": {
               "duration": 0,
               "easing": "linear"
              }
             }
            ],
            "label": "2026",
            "method": "animate"
           }
          ],
          "x": 0.1,
          "xanchor": "left",
          "y": 0,
          "yanchor": "top"
         }
        ],
        "template": {
         "data": {
          "bar": [
           {
            "error_x": {
             "color": "#2a3f5f"
            },
            "error_y": {
             "color": "#2a3f5f"
            },
            "marker": {
             "line": {
              "color": "white",
              "width": 0.5
             },
             "pattern": {
              "fillmode": "overlay",
              "size": 10,
              "solidity": 0.2
             }
            },
            "type": "bar"
           }
          ],
          "barpolar": [
           {
            "marker": {
             "line": {
              "color": "white",
              "width": 0.5
             },
             "pattern": {
              "fillmode": "overlay",
              "size": 10,
              "solidity": 0.2
             }
            },
            "type": "barpolar"
           }
          ],
          "carpet": [
           {
            "aaxis": {
             "endlinecolor": "#2a3f5f",
             "gridcolor": "#C8D4E3",
             "linecolor": "#C8D4E3",
             "minorgridcolor": "#C8D4E3",
             "startlinecolor": "#2a3f5f"
            },
            "baxis": {
             "endlinecolor": "#2a3f5f",
             "gridcolor": "#C8D4E3",
             "linecolor": "#C8D4E3",
             "minorgridcolor": "#C8D4E3",
             "startlinecolor": "#2a3f5f"
            },
            "type": "carpet"
           }
          ],
          "choropleth": [
           {
            "colorbar": {
             "outlinewidth": 0,
             "ticks": ""
            },
            "type": "choropleth"
           }
          ],
          "contour": [
           {
            "colorbar": {
             "outlinewidth": 0,
             "ticks": ""
            },
            "colorscale": [
             [
              0,
              "#0d0887"
             ],
             [
              0.1111111111111111,
              "#46039f"
             ],
             [
              0.2222222222222222,
              "#7201a8"
             ],
             [
              0.3333333333333333,
              "#9c179e"
             ],
             [
              0.4444444444444444,
              "#bd3786"
             ],
             [
              0.5555555555555556,
              "#d8576b"
             ],
             [
              0.6666666666666666,
              "#ed7953"
             ],
             [
              0.7777777777777778,
              "#fb9f3a"
             ],
             [
              0.8888888888888888,
              "#fdca26"
             ],
             [
              1,
              "#f0f921"
             ]
            ],
            "type": "contour"
           }
          ],
          "contourcarpet": [
           {
            "colorbar": {
             "outlinewidth": 0,
             "ticks": ""
            },
            "type": "contourcarpet"
           }
          ],
          "heatmap": [
           {
            "colorbar": {
             "outlinewidth": 0,
             "ticks": ""
            },
            "colorscale": [
             [
              0,
              "#0d0887"
             ],
             [
              0.1111111111111111,
              "#46039f"
             ],
             [
              0.2222222222222222,
              "#7201a8"
             ],
             [
              0.3333333333333333,
              "#9c179e"
             ],
             [
              0.4444444444444444,
              "#bd3786"
             ],
             [
              0.5555555555555556,
              "#d8576b"
             ],
             [
              0.6666666666666666,
              "#ed7953"
             ],
             [
              0.7777777777777778,
              "#fb9f3a"
             ],
             [
              0.8888888888888888,
              "#fdca26"
             ],
             [
              1,
              "#f0f921"
             ]
            ],
            "type": "heatmap"
           }
          ],
          "heatmapgl": [
           {
            "colorbar": {
             "outlinewidth": 0,
             "ticks": ""
            },
            "colorscale": [
             [
              0,
              "#0d0887"
             ],
             [
              0.1111111111111111,
              "#46039f"
             ],
             [
              0.2222222222222222,
              "#7201a8"
             ],
             [
              0.3333333333333333,
              "#9c179e"
             ],
             [
              0.4444444444444444,
              "#bd3786"
             ],
             [
              0.5555555555555556,
              "#d8576b"
             ],
             [
              0.6666666666666666,
              "#ed7953"
             ],
             [
              0.7777777777777778,
              "#fb9f3a"
             ],
             [
              0.8888888888888888,
              "#fdca26"
             ],
             [
              1,
              "#f0f921"
             ]
            ],
            "type": "heatmapgl"
           }
          ],
          "histogram": [
           {
            "marker": {
             "pattern": {
              "fillmode": "overlay",
              "size": 10,
              "solidity": 0.2
             }
            },
            "type": "histogram"
           }
          ],
          "histogram2d": [
           {
            "colorbar": {
             "outlinewidth": 0,
             "ticks": ""
            },
            "colorscale": [
             [
              0,
              "#0d0887"
             ],
             [
              0.1111111111111111,
              "#46039f"
             ],
             [
              0.2222222222222222,
              "#7201a8"
             ],
             [
              0.3333333333333333,
              "#9c179e"
             ],
             [
              0.4444444444444444,
              "#bd3786"
             ],
             [
              0.5555555555555556,
              "#d8576b"
             ],
             [
              0.6666666666666666,
              "#ed7953"
             ],
             [
              0.7777777777777778,
              "#fb9f3a"
             ],
             [
              0.8888888888888888,
              "#fdca26"
             ],
             [
              1,
              "#f0f921"
             ]
            ],
            "type": "histogram2d"
           }
          ],
          "histogram2dcontour": [
           {
            "colorbar": {
             "outlinewidth": 0,
             "ticks": ""
            },
            "colorscale": [
             [
              0,
              "#0d0887"
             ],
             [
              0.1111111111111111,
              "#46039f"
             ],
             [
              0.2222222222222222,
              "#7201a8"
             ],
             [
              0.3333333333333333,
              "#9c179e"
             ],
             [
              0.4444444444444444,
              "#bd3786"
             ],
             [
              0.5555555555555556,
              "#d8576b"
             ],
             [
              0.6666666666666666,
              "#ed7953"
             ],
             [
              0.7777777777777778,
              "#fb9f3a"
             ],
             [
              0.8888888888888888,
              "#fdca26"
             ],
             [
              1,
              "#f0f921"
             ]
            ],
            "type": "histogram2dcontour"
           }
          ],
          "mesh3d": [
           {
            "colorbar": {
             "outlinewidth": 0,
             "ticks": ""
            },
            "type": "mesh3d"
           }
          ],
          "parcoords": [
           {
            "line": {
             "colorbar": {
              "outlinewidth": 0,
              "ticks": ""
             }
            },
            "type": "parcoords"
           }
          ],
          "pie": [
           {
            "automargin": true,
            "type": "pie"
           }
          ],
          "scatter": [
           {
            "marker": {
             "colorbar": {
              "outlinewidth": 0,
              "ticks": ""
             }
            },
            "type": "scatter"
           }
          ],
          "scatter3d": [
           {
            "line": {
             "colorbar": {
              "outlinewidth": 0,
              "ticks": ""
             }
            },
            "marker": {
             "colorbar": {
              "outlinewidth": 0,
              "ticks": ""
             }
            },
            "type": "scatter3d"
           }
          ],
          "scattercarpet": [
           {
            "marker": {
             "colorbar": {
              "outlinewidth": 0,
              "ticks": ""
             }
            },
            "type": "scattercarpet"
           }
          ],
          "scattergeo": [
           {
            "marker": {
             "colorbar": {
              "outlinewidth": 0,
              "ticks": ""
             }
            },
            "type": "scattergeo"
           }
          ],
          "scattergl": [
           {
            "marker": {
             "colorbar": {
              "outlinewidth": 0,
              "ticks": ""
             }
            },
            "type": "scattergl"
           }
          ],
          "scattermapbox": [
           {
            "marker": {
             "colorbar": {
              "outlinewidth": 0,
              "ticks": ""
             }
            },
            "type": "scattermapbox"
           }
          ],
          "scatterpolar": [
           {
            "marker": {
             "colorbar": {
              "outlinewidth": 0,
              "ticks": ""
             }
            },
            "type": "scatterpolar"
           }
          ],
          "scatterpolargl": [
           {
            "marker": {
             "colorbar": {
              "outlinewidth": 0,
              "ticks": ""
             }
            },
            "type": "scatterpolargl"
           }
          ],
          "scatterternary": [
           {
            "marker": {
             "colorbar": {
              "outlinewidth": 0,
              "ticks": ""
             }
            },
            "type": "scatterternary"
           }
          ],
          "surface": [
           {
            "colorbar": {
             "outlinewidth": 0,
             "ticks": ""
            },
            "colorscale": [
             [
              0,
              "#0d0887"
             ],
             [
              0.1111111111111111,
              "#46039f"
             ],
             [
              0.2222222222222222,
              "#7201a8"
             ],
             [
              0.3333333333333333,
              "#9c179e"
             ],
             [
              0.4444444444444444,
              "#bd3786"
             ],
             [
              0.5555555555555556,
              "#d8576b"
             ],
             [
              0.6666666666666666,
              "#ed7953"
             ],
             [
              0.7777777777777778,
              "#fb9f3a"
             ],
             [
              0.8888888888888888,
              "#fdca26"
             ],
             [
              1,
              "#f0f921"
             ]
            ],
            "type": "surface"
           }
          ],
          "table": [
           {
            "cells": {
             "fill": {
              "color": "#EBF0F8"
             },
             "line": {
              "color": "white"
             }
            },
            "header": {
             "fill": {
              "color": "#C8D4E3"
             },
             "line": {
              "color": "white"
             }
            },
            "type": "table"
           }
          ]
         },
         "layout": {
          "annotationdefaults": {
           "arrowcolor": "#2a3f5f",
           "arrowhead": 0,
           "arrowwidth": 1
          },
          "autotypenumbers": "strict",
          "coloraxis": {
           "colorbar": {
            "outlinewidth": 0,
            "ticks": ""
           }
          },
          "colorscale": {
           "diverging": [
            [
             0,
             "#8e0152"
            ],
            [
             0.1,
             "#c51b7d"
            ],
            [
             0.2,
             "#de77ae"
            ],
            [
             0.3,
             "#f1b6da"
            ],
            [
             0.4,
             "#fde0ef"
            ],
            [
             0.5,
             "#f7f7f7"
            ],
            [
             0.6,
             "#e6f5d0"
            ],
            [
             0.7,
             "#b8e186"
            ],
            [
             0.8,
             "#7fbc41"
            ],
            [
             0.9,
             "#4d9221"
            ],
            [
             1,
             "#276419"
            ]
           ],
           "sequential": [
            [
             0,
             "#0d0887"
            ],
            [
             0.1111111111111111,
             "#46039f"
            ],
            [
             0.2222222222222222,
             "#7201a8"
            ],
            [
             0.3333333333333333,
             "#9c179e"
            ],
            [
             0.4444444444444444,
             "#bd3786"
            ],
            [
             0.5555555555555556,
             "#d8576b"
            ],
            [
             0.6666666666666666,
             "#ed7953"
            ],
            [
             0.7777777777777778,
             "#fb9f3a"
            ],
            [
             0.8888888888888888,
             "#fdca26"
            ],
            [
             1,
             "#f0f921"
            ]
           ],
           "sequentialminus": [
            [
             0,
             "#0d0887"
            ],
            [
             0.1111111111111111,
             "#46039f"
            ],
            [
             0.2222222222222222,
             "#7201a8"
            ],
            [
             0.3333333333333333,
             "#9c179e"
            ],
            [
             0.4444444444444444,
             "#bd3786"
            ],
            [
             0.5555555555555556,
             "#d8576b"
            ],
            [
             0.6666666666666666,
             "#ed7953"
            ],
            [
             0.7777777777777778,
             "#fb9f3a"
            ],
            [
             0.8888888888888888,
             "#fdca26"
            ],
            [
             1,
             "#f0f921"
            ]
           ]
          },
          "colorway": [
           "#636efa",
           "#EF553B",
           "#00cc96",
           "#ab63fa",
           "#FFA15A",
           "#19d3f3",
           "#FF6692",
           "#B6E880",
           "#FF97FF",
           "#FECB52"
          ],
          "font": {
           "color": "#2a3f5f"
          },
          "geo": {
           "bgcolor": "white",
           "lakecolor": "white",
           "landcolor": "white",
           "showlakes": true,
           "showland": true,
           "subunitcolor": "#C8D4E3"
          },
          "hoverlabel": {
           "align": "left"
          },
          "hovermode": "closest",
          "mapbox": {
           "style": "light"
          },
          "paper_bgcolor": "white",
          "plot_bgcolor": "white",
          "polar": {
           "angularaxis": {
            "gridcolor": "#EBF0F8",
            "linecolor": "#EBF0F8",
            "ticks": ""
           },
           "bgcolor": "white",
           "radialaxis": {
            "gridcolor": "#EBF0F8",
            "linecolor": "#EBF0F8",
            "ticks": ""
           }
          },
          "scene": {
           "xaxis": {
            "backgroundcolor": "white",
            "gridcolor": "#DFE8F3",
            "gridwidth": 2,
            "linecolor": "#EBF0F8",
            "showbackground": true,
            "ticks": "",
            "zerolinecolor": "#EBF0F8"
           },
           "yaxis": {
            "backgroundcolor": "white",
            "gridcolor": "#DFE8F3",
            "gridwidth": 2,
            "linecolor": "#EBF0F8",
            "showbackground": true,
            "ticks": "",
            "zerolinecolor": "#EBF0F8"
           },
           "zaxis": {
            "backgroundcolor": "white",
            "gridcolor": "#DFE8F3",
            "gridwidth": 2,
            "linecolor": "#EBF0F8",
            "showbackground": true,
            "ticks": "",
            "zerolinecolor": "#EBF0F8"
           }
          },
          "shapedefaults": {
           "line": {
            "color": "#2a3f5f"
           }
          },
          "ternary": {
           "aaxis": {
            "gridcolor": "#DFE8F3",
            "linecolor": "#A2B1C6",
            "ticks": ""
           },
           "baxis": {
            "gridcolor": "#DFE8F3",
            "linecolor": "#A2B1C6",
            "ticks": ""
           },
           "bgcolor": "white",
           "caxis": {
            "gridcolor": "#DFE8F3",
            "linecolor": "#A2B1C6",
            "ticks": ""
           }
          },
          "title": {
           "x": 0.05
          },
          "xaxis": {
           "automargin": true,
           "gridcolor": "#EBF0F8",
           "linecolor": "#EBF0F8",
           "ticks": "",
           "title": {
            "standoff": 15
           },
           "zerolinecolor": "#EBF0F8",
           "zerolinewidth": 2
          },
          "yaxis": {
           "automargin": true,
           "gridcolor": "#EBF0F8",
           "linecolor": "#EBF0F8",
           "ticks": "",
           "title": {
            "standoff": 15
           },
           "zerolinecolor": "#EBF0F8",
           "zerolinewidth": 2
          }
         }
        },
        "title": {
         "text": "Caseload errors"
        },
        "updatemenus": [
         {
          "buttons": [
           {
            "args": [
             null,
             {
              "frame": {
               "duration": 500,
               "redraw": true
              },
              "fromcurrent": true,
              "mode": "immediate",
              "transition": {
               "duration": 500,
               "easing": "linear"
              }
             }
            ],
            "label": "&#9654;",
            "method": "animate"
           },
           {
            "args": [
             [
              null
             ],
             {
              "frame": {
               "duration": 0,
               "redraw": true
              },
              "fromcurrent": true,
              "mode": "immediate",
              "transition": {
               "duration": 0,
               "easing": "linear"
              }
             }
            ],
            "label": "&#9724;",
            "method": "animate"
           }
          ],
          "direction": "left",
          "pad": {
           "r": 10,
           "t": 70
          },
          "showactive": false,
          "type": "buttons",
          "x": 0.1,
          "xanchor": "right",
          "y": 0,
          "yanchor": "top"
         }
        ],
        "width": 800,
        "xaxis": {
         "anchor": "y",
         "autorange": true,
         "domain": [
          0,
          1
         ],
         "range": [
          0,
          2838827.8263157895
         ],
         "title": {
          "text": "Caseload error"
         },
         "type": "linear"
        },
        "yaxis": {
         "anchor": "x",
         "autorange": true,
         "domain": [
          0,
          1
         ],
         "range": [
          -0.5,
          6.5
         ],
         "title": {
          "text": ""
         },
         "type": "category"
        }
       }
      },
      "image/png": "[encoded data removed]",
      "text/html": [
       "<div>                            <div id=\"00fb1af1-9efb-4b6c-9e4e-83d3f4a2be09\" class=\"plotly-graph-div\" style=\"height:600px; width:800px;\"></div>            <script type=\"text/javascript\">                require([\"plotly\"], function(Plotly) {                    window.PLOTLYENV=window.PLOTLYENV || {};                                    if (document.getElementById(\"00fb1af1-9efb-4b6c-9e4e-83d3f4a2be09\")) {                    Plotly.newPlot(                        \"00fb1af1-9efb-4b6c-9e4e-83d3f4a2be09\",                        [{\"alignmentgroup\":\"True\",\"customdata\":[[1.4,1.4,1.4,2022,\"Pension Credit\"],[7.1,7.1,7.1,2022,\"Child Benefit\"],[2.7,2.3,2.7,2022,\"Housing Benefit\"],[0.9,0.5,0.9,2022,\"Working Tax Credit\"],[1.3,1.1,1.3,2022,\"Child Tax Credit\"],[4.7,4.2,4.6,2022,\"Universal Credit\"],[31.2,30.0,32.7,2022,\"Income Tax\"]],\"hovertemplate\":\"<b>%{customdata[4]} in %{customdata[3]}</b><br>Error: %{x}<br>Official: %{customdata[2]}m<br>OpenFisca-UK: %{customdata[0]}m<br>UKMOD: %{customdata[1]}m\",\"legendgroup\":\"OpenFisca-UK\",\"marker\":{\"color\":\"blue\",\"pattern\":{\"shape\":\"\"}},\"name\":\"OpenFisca-UK\",\"offsetgroup\":\"OpenFisca-UK\",\"orientation\":\"h\",\"showlegend\":true,\"textposition\":\"auto\",\"x\":[685.2339999999999,2691.775,5363.285,5744.128000000001,8035.228,18120.034,1500689.846],\"xaxis\":\"x\",\"y\":[\"Pension Credit\",\"Child Benefit\",\"Housing Benefit\",\"Working Tax Credit\",\"Child Tax Credit\",\"Universal Credit\",\"Income Tax\"],\"yaxis\":\"y\",\"type\":\"bar\"},{\"alignmentgroup\":\"True\",\"customdata\":[[1.4,1.4,1.4,2022,\"Pension Credit\"],[7.1,7.1,7.1,2022,\"Child Benefit\"],[2.7,2.3,2.7,2022,\"Housing Benefit\"],[0.9,0.5,0.9,2022,\"Working Tax Credit\"],[1.3,1.1,1.3,2022,\"Child Tax Credit\"],[4.7,4.2,4.6,2022,\"Universal Credit\"],[31.2,30.0,32.7,2022,\"Income Tax\"]],\"hovertemplate\":\"<b>%{customdata[4]} in %{customdata[3]}</b><br>Error: %{x}<br>Official: %{customdata[2]}m<br>OpenFisca-UK: %{customdata[0]}m<br>UKMOD: %{customdata[1]}m\",\"legendgroup\":\"UKMOD\",\"marker\":{\"color\":\"lightgrey\",\"pattern\":{\"shape\":\"\"}},\"name\":\"UKMOD\",\"offsetgroup\":\"UKMOD\",\"orientation\":\"h\",\"showlegend\":true,\"textposition\":\"auto\",\"x\":[7000.0,45218.345,446000.0,369037.531,257692.235,435000.0,2696886.435],\"xaxis\":\"x\",\"y\":[\"Pension Credit\",\"Child Benefit\",\"Housing Benefit\",\"Working Tax Credit\",\"Child Tax Credit\",\"Universal Credit\",\"Income Tax\"],\"yaxis\":\"y\",\"type\":\"bar\"}],                        {\"template\":{\"data\":{\"barpolar\":[{\"marker\":{\"line\":{\"color\":\"white\",\"width\":0.5},\"pattern\":{\"fillmode\":\"overlay\",\"size\":10,\"solidity\":0.2}},\"type\":\"barpolar\"}],\"bar\":[{\"error_x\":{\"color\":\"#2a3f5f\"},\"error_y\":{\"color\":\"#2a3f5f\"},\"marker\":{\"line\":{\"color\":\"white\",\"width\":0.5},\"pattern\":{\"fillmode\":\"overlay\",\"size\":10,\"solidity\":0.2}},\"type\":\"bar\"}],\"carpet\":[{\"aaxis\":{\"endlinecolor\":\"#2a3f5f\",\"gridcolor\":\"#C8D4E3\",\"linecolor\":\"#C8D4E3\",\"minorgridcolor\":\"#C8D4E3\",\"startlinecolor\":\"#2a3f5f\"},\"baxis\":{\"endlinecolor\":\"#2a3f5f\",\"gridcolor\":\"#C8D4E3\",\"linecolor\":\"#C8D4E3\",\"minorgridcolor\":\"#C8D4E3\",\"startlinecolor\":\"#2a3f5f\"},\"type\":\"carpet\"}],\"choropleth\":[{\"colorbar\":{\"outlinewidth\":0,\"ticks\":\"\"},\"type\":\"choropleth\"}],\"contourcarpet\":[{\"colorbar\":{\"outlinewidth\":0,\"ticks\":\"\"},\"type\":\"contourcarpet\"}],\"contour\":[{\"colorbar\":{\"outlinewidth\":0,\"ticks\":\"\"},\"colorscale\":[[0.0,\"#0d0887\"],[0.1111111111111111,\"#46039f\"],[0.2222222222222222,\"#7201a8\"],[0.3333333333333333,\"#9c179e\"],[0.4444444444444444,\"#bd3786\"],[0.5555555555555556,\"#d8576b\"],[0.6666666666666666,\"#ed7953\"],[0.7777777777777778,\"#fb9f3a\"],[0.8888888888888888,\"#fdca26\"],[1.0,\"#f0f921\"]],\"type\":\"contour\"}],\"heatmapgl\":[{\"colorbar\":{\"outlinewidth\":0,\"ticks\":\"\"},\"colorscale\":[[0.0,\"#0d0887\"],[0.1111111111111111,\"#46039f\"],[0.2222222222222222,\"#7201a8\"],[0.3333333333333333,\"#9c179e\"],[0.4444444444444444,\"#bd3786\"],[0.5555555555555556,\"#d8576b\"],[0.6666666666666666,\"#ed7953\"],[0.7777777777777778,\"#fb9f3a\"],[0.8888888888888888,\"#fdca26\"],[1.0,\"#f0f921\"]],\"type\":\"heatmapgl\"}],\"heatmap\":[{\"colorbar\":{\"outlinewidth\":0,\"ticks\":\"\"},\"colorscale\":[[0.0,\"#0d0887\"],[0.1111111111111111,\"#46039f\"],[0.2222222222222222,\"#7201a8\"],[0.3333333333333333,\"#9c179e\"],[0.4444444444444444,\"#bd3786\"],[0.5555555555555556,\"#d8576b\"],[0.6666666666666666,\"#ed7953\"],[0.7777777777777778,\"#fb9f3a\"],[0.8888888888888888,\"#fdca26\"],[1.0,\"#f0f921\"]],\"type\":\"heatmap\"}],\"histogram2dcontour\":[{\"colorbar\":{\"outlinewidth\":0,\"ticks\":\"\"},\"colorscale\":[[0.0,\"#0d0887\"],[0.1111111111111111,\"#46039f\"],[0.2222222222222222,\"#7201a8\"],[0.3333333333333333,\"#9c179e\"],[0.4444444444444444,\"#bd3786\"],[0.5555555555555556,\"#d8576b\"],[0.6666666666666666,\"#ed7953\"],[0.7777777777777778,\"#fb9f3a\"],[0.8888888888888888,\"#fdca26\"],[1.0,\"#f0f921\"]],\"type\":\"histogram2dcontour\"}],\"histogram2d\":[{\"colorbar\":{\"outlinewidth\":0,\"ticks\":\"\"},\"colorscale\":[[0.0,\"#0d0887\"],[0.1111111111111111,\"#46039f\"],[0.2222222222222222,\"#7201a8\"],[0.3333333333333333,\"#9c179e\"],[0.4444444444444444,\"#bd3786\"],[0.5555555555555556,\"#d8576b\"],[0.6666666666666666,\"#ed7953\"],[0.7777777777777778,\"#fb9f3a\"],[0.8888888888888888,\"#fdca26\"],[1.0,\"#f0f921\"]],\"type\":\"histogram2d\"}],\"histogram\":[{\"marker\":{\"pattern\":{\"fillmode\":\"overlay\",\"size\":10,\"solidity\":0.2}},\"type\":\"histogram\"}],\"mesh3d\":[{\"colorbar\":{\"outlinewidth\":0,\"ticks\":\"\"},\"type\":\"mesh3d\"}],\"parcoords\":[{\"line\":{\"colorbar\":{\"outlinewidth\":0,\"ticks\":\"\"}},\"type\":\"parcoords\"}],\"pie\":[{\"automargin\":true,\"type\":\"pie\"}],\"scatter3d\":[{\"line\":{\"colorbar\":{\"outlinewidth\":0,\"ticks\":\"\"}},\"marker\":{\"colorbar\":{\"outlinewidth\":0,\"ticks\":\"\"}},\"type\":\"scatter3d\"}],\"scattercarpet\":[{\"marker\":{\"colorbar\":{\"outlinewidth\":0,\"ticks\":\"\"}},\"type\":\"scattercarpet\"}],\"scattergeo\":[{\"marker\":{\"colorbar\":{\"outlinewidth\":0,\"ticks\":\"\"}},\"type\":\"scattergeo\"}],\"scattergl\":[{\"marker\":{\"colorbar\":{\"outlinewidth\":0,\"ticks\":\"\"}},\"type\":\"scattergl\"}],\"scattermapbox\":[{\"marker\":{\"colorbar\":{\"outlinewidth\":0,\"ticks\":\"\"}},\"type\":\"scattermapbox\"}],\"scatterpolargl\":[{\"marker\":{\"colorbar\":{\"outlinewidth\":0,\"ticks\":\"\"}},\"type\":\"scatterpolargl\"}],\"scatterpolar\":[{\"marker\":{\"colorbar\":{\"outlinewidth\":0,\"ticks\":\"\"}},\"type\":\"scatterpolar\"}],\"scatter\":[{\"marker\":{\"colorbar\":{\"outlinewidth\":0,\"ticks\":\"\"}},\"type\":\"scatter\"}],\"scatterternary\":[{\"marker\":{\"colorbar\":{\"outlinewidth\":0,\"ticks\":\"\"}},\"type\":\"scatterternary\"}],\"surface\":[{\"colorbar\":{\"outlinewidth\":0,\"ticks\":\"\"},\"colorscale\":[[0.0,\"#0d0887\"],[0.1111111111111111,\"#46039f\"],[0.2222222222222222,\"#7201a8\"],[0.3333333333333333,\"#9c179e\"],[0.4444444444444444,\"#bd3786\"],[0.5555555555555556,\"#d8576b\"],[0.6666666666666666,\"#ed7953\"],[0.7777777777777778,\"#fb9f3a\"],[0.8888888888888888,\"#fdca26\"],[1.0,\"#f0f921\"]],\"type\":\"surface\"}],\"table\":[{\"cells\":{\"fill\":{\"color\":\"#EBF0F8\"},\"line\":{\"color\":\"white\"}},\"header\":{\"fill\":{\"color\":\"#C8D4E3\"},\"line\":{\"color\":\"white\"}},\"type\":\"table\"}]},\"layout\":{\"annotationdefaults\":{\"arrowcolor\":\"#2a3f5f\",\"arrowhead\":0,\"arrowwidth\":1},\"autotypenumbers\":\"strict\",\"coloraxis\":{\"colorbar\":{\"outlinewidth\":0,\"ticks\":\"\"}},\"colorscale\":{\"diverging\":[[0,\"#8e0152\"],[0.1,\"#c51b7d\"],[0.2,\"#de77ae\"],[0.3,\"#f1b6da\"],[0.4,\"#fde0ef\"],[0.5,\"#f7f7f7\"],[0.6,\"#e6f5d0\"],[0.7,\"#b8e186\"],[0.8,\"#7fbc41\"],[0.9,\"#4d9221\"],[1,\"#276419\"]],\"sequential\":[[0.0,\"#0d0887\"],[0.1111111111111111,\"#46039f\"],[0.2222222222222222,\"#7201a8\"],[0.3333333333333333,\"#9c179e\"],[0.4444444444444444,\"#bd3786\"],[0.5555555555555556,\"#d8576b\"],[0.6666666666666666,\"#ed7953\"],[0.7777777777777778,\"#fb9f3a\"],[0.8888888888888888,\"#fdca26\"],[1.0,\"#f0f921\"]],\"sequentialminus\":[[0.0,\"#0d0887\"],[0.1111111111111111,\"#46039f\"],[0.2222222222222222,\"#7201a8\"],[0.3333333333333333,\"#9c179e\"],[0.4444444444444444,\"#bd3786\"],[0.5555555555555556,\"#d8576b\"],[0.6666666666666666,\"#ed7953\"],[0.7777777777777778,\"#fb9f3a\"],[0.8888888888888888,\"#fdca26\"],[1.0,\"#f0f921\"]]},\"colorway\":[\"#636efa\",\"#EF553B\",\"#00cc96\",\"#ab63fa\",\"#FFA15A\",\"#19d3f3\",\"#FF6692\",\"#B6E880\",\"#FF97FF\",\"#FECB52\"],\"font\":{\"color\":\"#2a3f5f\"},\"geo\":{\"bgcolor\":\"white\",\"lakecolor\":\"white\",\"landcolor\":\"white\",\"showlakes\":true,\"showland\":true,\"subunitcolor\":\"#C8D4E3\"},\"hoverlabel\":{\"align\":\"left\"},\"hovermode\":\"closest\",\"mapbox\":{\"style\":\"light\"},\"paper_bgcolor\":\"white\",\"plot_bgcolor\":\"white\",\"polar\":{\"angularaxis\":{\"gridcolor\":\"#EBF0F8\",\"linecolor\":\"#EBF0F8\",\"ticks\":\"\"},\"bgcolor\":\"white\",\"radialaxis\":{\"gridcolor\":\"#EBF0F8\",\"linecolor\":\"#EBF0F8\",\"ticks\":\"\"}},\"scene\":{\"xaxis\":{\"backgroundcolor\":\"white\",\"gridcolor\":\"#DFE8F3\",\"gridwidth\":2,\"linecolor\":\"#EBF0F8\",\"showbackground\":true,\"ticks\":\"\",\"zerolinecolor\":\"#EBF0F8\"},\"yaxis\":{\"backgroundcolor\":\"white\",\"gridcolor\":\"#DFE8F3\",\"gridwidth\":2,\"linecolor\":\"#EBF0F8\",\"showbackground\":true,\"ticks\":\"\",\"zerolinecolor\":\"#EBF0F8\"},\"zaxis\":{\"backgroundcolor\":\"white\",\"gridcolor\":\"#DFE8F3\",\"gridwidth\":2,\"linecolor\":\"#EBF0F8\",\"showbackground\":true,\"ticks\":\"\",\"zerolinecolor\":\"#EBF0F8\"}},\"shapedefaults\":{\"line\":{\"color\":\"#2a3f5f\"}},\"ternary\":{\"aaxis\":{\"gridcolor\":\"#DFE8F3\",\"linecolor\":\"#A2B1C6\",\"ticks\":\"\"},\"baxis\":{\"gridcolor\":\"#DFE8F3\",\"linecolor\":\"#A2B1C6\",\"ticks\":\"\"},\"bgcolor\":\"white\",\"caxis\":{\"gridcolor\":\"#DFE8F3\",\"linecolor\":\"#A2B1C6\",\"ticks\":\"\"}},\"title\":{\"x\":0.05},\"xaxis\":{\"automargin\":true,\"gridcolor\":\"#EBF0F8\",\"linecolor\":\"#EBF0F8\",\"ticks\":\"\",\"title\":{\"standoff\":15},\"zerolinecolor\":\"#EBF0F8\",\"zerolinewidth\":2},\"yaxis\":{\"automargin\":true,\"gridcolor\":\"#EBF0F8\",\"linecolor\":\"#EBF0F8\",\"ticks\":\"\",\"title\":{\"standoff\":15},\"zerolinecolor\":\"#EBF0F8\",\"zerolinewidth\":2}}},\"xaxis\":{\"anchor\":\"y\",\"domain\":[0.0,1.0],\"title\":{\"text\":\"Caseload error\"}},\"yaxis\":{\"anchor\":\"x\",\"domain\":[0.0,1.0],\"title\":{\"text\":\"\"}},\"legend\":{\"title\":{\"text\":\"Model\"},\"tracegroupgap\":0,\"traceorder\":\"reversed\"},\"margin\":{\"t\":60},\"barmode\":\"group\",\"updatemenus\":[{\"buttons\":[{\"args\":[null,{\"frame\":{\"duration\":500,\"redraw\":true},\"mode\":\"immediate\",\"fromcurrent\":true,\"transition\":{\"duration\":500,\"easing\":\"linear\"}}],\"label\":\"&#9654;\",\"method\":\"animate\"},{\"args\":[[null],{\"frame\":{\"duration\":0,\"redraw\":true},\"mode\":\"immediate\",\"fromcurrent\":true,\"transition\":{\"duration\":0,\"easing\":\"linear\"}}],\"label\":\"&#9724;\",\"method\":\"animate\"}],\"direction\":\"left\",\"pad\":{\"r\":10,\"t\":70},\"showactive\":false,\"type\":\"buttons\",\"x\":0.1,\"xanchor\":\"right\",\"y\":0,\"yanchor\":\"top\"}],\"sliders\":[{\"active\":0,\"currentvalue\":{\"prefix\":\"Year=\"},\"len\":0.9,\"pad\":{\"b\":10,\"t\":60},\"steps\":[{\"args\":[[\"2022\"],{\"frame\":{\"duration\":0,\"redraw\":true},\"mode\":\"immediate\",\"fromcurrent\":true,\"transition\":{\"duration\":0,\"easing\":\"linear\"}}],\"label\":\"2022\",\"method\":\"animate\"},{\"args\":[[\"2023\"],{\"frame\":{\"duration\":0,\"redraw\":true},\"mode\":\"immediate\",\"fromcurrent\":true,\"transition\":{\"duration\":0,\"easing\":\"linear\"}}],\"label\":\"2023\",\"method\":\"animate\"},{\"args\":[[\"2024\"],{\"frame\":{\"duration\":0,\"redraw\":true},\"mode\":\"immediate\",\"fromcurrent\":true,\"transition\":{\"duration\":0,\"easing\":\"linear\"}}],\"label\":\"2024\",\"method\":\"animate\"},{\"args\":[[\"2025\"],{\"frame\":{\"duration\":0,\"redraw\":true},\"mode\":\"immediate\",\"fromcurrent\":true,\"transition\":{\"duration\":0,\"easing\":\"linear\"}}],\"label\":\"2025\",\"method\":\"animate\"},{\"args\":[[\"2026\"],{\"frame\":{\"duration\":0,\"redraw\":true},\"mode\":\"immediate\",\"fromcurrent\":true,\"transition\":{\"duration\":0,\"easing\":\"linear\"}}],\"label\":\"2026\",\"method\":\"animate\"}],\"x\":0.1,\"xanchor\":\"left\",\"y\":0,\"yanchor\":\"top\"}],\"width\":800,\"height\":600,\"title\":{\"text\":\"Caseload errors\"}},                        {\"responsive\": true}                    ).then(function(){\n",
       "                            Plotly.addFrames('00fb1af1-9efb-4b6c-9e4e-83d3f4a2be09', [{\"data\":[{\"alignmentgroup\":\"True\",\"customdata\":[[1.4,1.4,1.4,2022,\"Pension Credit\"],[7.1,7.1,7.1,2022,\"Child Benefit\"],[2.7,2.3,2.7,2022,\"Housing Benefit\"],[0.9,0.5,0.9,2022,\"Working Tax Credit\"],[1.3,1.1,1.3,2022,\"Child Tax Credit\"],[4.7,4.2,4.6,2022,\"Universal Credit\"],[31.2,30.0,32.7,2022,\"Income Tax\"]],\"hovertemplate\":\"<b>%{customdata[4]} in %{customdata[3]}</b><br>Error: %{x}<br>Official: %{customdata[2]}m<br>OpenFisca-UK: %{customdata[0]}m<br>UKMOD: %{customdata[1]}m\",\"legendgroup\":\"OpenFisca-UK\",\"marker\":{\"color\":\"blue\",\"pattern\":{\"shape\":\"\"}},\"name\":\"OpenFisca-UK\",\"offsetgroup\":\"OpenFisca-UK\",\"orientation\":\"h\",\"showlegend\":true,\"textposition\":\"auto\",\"x\":[685.2339999999999,2691.775,5363.285,5744.128000000001,8035.228,18120.034,1500689.846],\"xaxis\":\"x\",\"y\":[\"Pension Credit\",\"Child Benefit\",\"Housing Benefit\",\"Working Tax Credit\",\"Child Tax Credit\",\"Universal Credit\",\"Income Tax\"],\"yaxis\":\"y\",\"type\":\"bar\"},{\"alignmentgroup\":\"True\",\"customdata\":[[1.4,1.4,1.4,2022,\"Pension Credit\"],[7.1,7.1,7.1,2022,\"Child Benefit\"],[2.7,2.3,2.7,2022,\"Housing Benefit\"],[0.9,0.5,0.9,2022,\"Working Tax Credit\"],[1.3,1.1,1.3,2022,\"Child Tax Credit\"],[4.7,4.2,4.6,2022,\"Universal Credit\"],[31.2,30.0,32.7,2022,\"Income Tax\"]],\"hovertemplate\":\"<b>%{customdata[4]} in %{customdata[3]}</b><br>Error: %{x}<br>Official: %{customdata[2]}m<br>OpenFisca-UK: %{customdata[0]}m<br>UKMOD: %{customdata[1]}m\",\"legendgroup\":\"UKMOD\",\"marker\":{\"color\":\"lightgrey\",\"pattern\":{\"shape\":\"\"}},\"name\":\"UKMOD\",\"offsetgroup\":\"UKMOD\",\"orientation\":\"h\",\"showlegend\":true,\"textposition\":\"auto\",\"x\":[7000.0,45218.345,446000.0,369037.531,257692.235,435000.0,2696886.435],\"xaxis\":\"x\",\"y\":[\"Pension Credit\",\"Child Benefit\",\"Housing Benefit\",\"Working Tax Credit\",\"Child Tax Credit\",\"Universal Credit\",\"Income Tax\"],\"yaxis\":\"y\",\"type\":\"bar\"}],\"name\":\"2022\"},{\"data\":[{\"alignmentgroup\":\"True\",\"customdata\":[[1.3,1.4,1.3,2023,\"Pension Credit\"],[7.0,7.1,7.0,2023,\"Child Benefit\"],[2.5,2.0,2.5,2023,\"Housing Benefit\"],[0.8,0.4,0.8,2023,\"Working Tax Credit\"],[1.1,0.9,1.1,2023,\"Child Tax Credit\"],[5.1,4.7,5.0,2023,\"Universal Credit\"],[31.3,30.6,33.2,2023,\"Income Tax\"]],\"hovertemplate\":\"<b>%{customdata[4]} in %{customdata[3]}</b><br>Error: %{x}<br>Official: %{customdata[2]}m<br>OpenFisca-UK: %{customdata[0]}m<br>UKMOD: %{customdata[1]}m\",\"legendgroup\":\"OpenFisca-UK\",\"marker\":{\"color\":\"blue\",\"pattern\":{\"shape\":\"\"}},\"name\":\"OpenFisca-UK\",\"offsetgroup\":\"OpenFisca-UK\",\"orientation\":\"h\",\"showlegend\":true,\"textposition\":\"auto\",\"x\":[443.36400000000003,3529.927,4887.972,6853.291,7927.42,23264.385,1900432.5690000001],\"xaxis\":\"x\",\"y\":[\"Pension Credit\",\"Child Benefit\",\"Housing Benefit\",\"Working Tax Credit\",\"Child Tax Credit\",\"Universal Credit\",\"Income Tax\"],\"yaxis\":\"y\",\"type\":\"bar\"},{\"alignmentgroup\":\"True\",\"customdata\":[[1.3,1.4,1.3,2023,\"Pension Credit\"],[7.0,7.1,7.0,2023,\"Child Benefit\"],[2.5,2.0,2.5,2023,\"Housing Benefit\"],[0.8,0.4,0.8,2023,\"Working Tax Credit\"],[1.1,0.9,1.1,2023,\"Child Tax Credit\"],[5.1,4.7,5.0,2023,\"Universal Credit\"],[31.3,30.6,33.2,2023,\"Income Tax\"]],\"hovertemplate\":\"<b>%{customdata[4]} in %{customdata[3]}</b><br>Error: %{x}<br>Official: %{customdata[2]}m<br>OpenFisca-UK: %{customdata[0]}m<br>UKMOD: %{customdata[1]}m\",\"legendgroup\":\"UKMOD\",\"marker\":{\"color\":\"lightgrey\",\"pattern\":{\"shape\":\"\"}},\"name\":\"UKMOD\",\"offsetgroup\":\"UKMOD\",\"orientation\":\"h\",\"showlegend\":true,\"textposition\":\"auto\",\"x\":[104000.0,70105.091,409000.0,348522.25399999996,171340.75699999998,392000.0,2640783.6980000003],\"xaxis\":\"x\",\"y\":[\"Pension Credit\",\"Child Benefit\",\"Housing Benefit\",\"Working Tax Credit\",\"Child Tax Credit\",\"Universal Credit\",\"Income Tax\"],\"yaxis\":\"y\",\"type\":\"bar\"}],\"name\":\"2023\"},{\"data\":[{\"alignmentgroup\":\"True\",\"customdata\":[[1.3,1.4,1.3,2024,\"Pension Credit\"],[2.1,1.8,2.1,2024,\"Housing Benefit\"],[6.9,7.0,6.9,2024,\"Child Benefit\"],[0.7,0.3,0.7,2024,\"Working Tax Credit\"],[0.8,0.6,0.8,2024,\"Child Tax Credit\"],[5.6,5.3,5.6,2024,\"Universal Credit\"],[31.3,30.9,33.7,2024,\"Income Tax\"]],\"hovertemplate\":\"<b>%{customdata[4]} in %{customdata[3]}</b><br>Error: %{x}<br>Official: %{customdata[2]}m<br>OpenFisca-UK: %{customdata[0]}m<br>UKMOD: %{customdata[1]}m\",\"legendgroup\":\"OpenFisca-UK\",\"marker\":{\"color\":\"blue\",\"pattern\":{\"shape\":\"\"}},\"name\":\"OpenFisca-UK\",\"offsetgroup\":\"OpenFisca-UK\",\"orientation\":\"h\",\"showlegend\":true,\"textposition\":\"auto\",\"x\":[526.352,3283.923,3667.5640000000003,7474.866999999999,8649.431,27091.362,2402583.89],\"xaxis\":\"x\",\"y\":[\"Pension Credit\",\"Housing Benefit\",\"Child Benefit\",\"Working Tax Credit\",\"Child Tax Credit\",\"Universal Credit\",\"Income Tax\"],\"yaxis\":\"y\",\"type\":\"bar\"},{\"alignmentgroup\":\"True\",\"customdata\":[[1.3,1.4,1.3,2024,\"Pension Credit\"],[2.1,1.8,2.1,2024,\"Housing Benefit\"],[6.9,7.0,6.9,2024,\"Child Benefit\"],[0.7,0.3,0.7,2024,\"Working Tax Credit\"],[0.8,0.6,0.8,2024,\"Child Tax Credit\"],[5.6,5.3,5.6,2024,\"Universal Credit\"],[31.3,30.9,33.7,2024,\"Income Tax\"]],\"hovertemplate\":\"<b>%{customdata[4]} in %{customdata[3]}</b><br>Error: %{x}<br>Official: %{customdata[2]}m<br>OpenFisca-UK: %{customdata[0]}m<br>UKMOD: %{customdata[1]}m\",\"legendgroup\":\"UKMOD\",\"marker\":{\"color\":\"lightgrey\",\"pattern\":{\"shape\":\"\"}},\"name\":\"UKMOD\",\"offsetgroup\":\"UKMOD\",\"orientation\":\"h\",\"showlegend\":true,\"textposition\":\"auto\",\"x\":[158000.0,331000.0,88320.711,392198.69299999997,199080.24300000002,294000.0,2808818.1410000003],\"xaxis\":\"x\",\"y\":[\"Pension Credit\",\"Housing Benefit\",\"Child Benefit\",\"Working Tax Credit\",\"Child Tax Credit\",\"Universal Credit\",\"Income Tax\"],\"yaxis\":\"y\",\"type\":\"bar\"}],\"name\":\"2024\"},{\"data\":[{\"alignmentgroup\":\"True\",\"customdata\":[[1.2,1.4,1.2,2025,\"Pension Credit\"],[1.7,1.4,1.7,2025,\"Housing Benefit\"],[6.9,7.0,6.9,2025,\"Child Benefit\"],[0.6,0.1,0.6,2025,\"Working Tax Credit\"],[0.7,0.3,0.7,2025,\"Child Tax Credit\"],[6.3,6.1,6.3,2025,\"Universal Credit\"],[31.4,31.5,34.3,2025,\"Income Tax\"]],\"hovertemplate\":\"<b>%{customdata[4]} in %{customdata[3]}</b><br>Error: %{x}<br>Official: %{customdata[2]}m<br>OpenFisca-UK: %{customdata[0]}m<br>UKMOD: %{customdata[1]}m\",\"legendgroup\":\"OpenFisca-UK\",\"marker\":{\"color\":\"blue\",\"pattern\":{\"shape\":\"\"}},\"name\":\"OpenFisca-UK\",\"offsetgroup\":\"OpenFisca-UK\",\"orientation\":\"h\",\"showlegend\":true,\"textposition\":\"auto\",\"x\":[130.641,2219.024,2651.6259999999997,8171.903,9678.748,15414.271,2870723.311],\"xaxis\":\"x\",\"y\":[\"Pension Credit\",\"Housing Benefit\",\"Child Benefit\",\"Working Tax Credit\",\"Child Tax Credit\",\"Universal Credit\",\"Income Tax\"],\"yaxis\":\"y\",\"type\":\"bar\"},{\"alignmentgroup\":\"True\",\"customdata\":[[1.2,1.4,1.2,2025,\"Pension Credit\"],[1.7,1.4,1.7,2025,\"Housing Benefit\"],[6.9,7.0,6.9,2025,\"Child Benefit\"],[0.6,0.1,0.6,2025,\"Working Tax Credit\"],[0.7,0.3,0.7,2025,\"Child Tax Credit\"],[6.3,6.1,6.3,2025,\"Universal Credit\"],[31.4,31.5,34.3,2025,\"Income Tax\"]],\"hovertemplate\":\"<b>%{customdata[4]} in %{customdata[3]}</b><br>Error: %{x}<br>Official: %{customdata[2]}m<br>OpenFisca-UK: %{customdata[0]}m<br>UKMOD: %{customdata[1]}m\",\"legendgroup\":\"UKMOD\",\"marker\":{\"color\":\"lightgrey\",\"pattern\":{\"shape\":\"\"}},\"name\":\"UKMOD\",\"offsetgroup\":\"UKMOD\",\"orientation\":\"h\",\"showlegend\":true,\"textposition\":\"auto\",\"x\":[184000.0,294000.0,123871.743,471102.94899999996,376116.37200000003,139000.0,2814118.1119999997],\"xaxis\":\"x\",\"y\":[\"Pension Credit\",\"Housing Benefit\",\"Child Benefit\",\"Working Tax Credit\",\"Child Tax Credit\",\"Universal Credit\",\"Income Tax\"],\"yaxis\":\"y\",\"type\":\"bar\"}],\"name\":\"2025\"},{\"data\":[{\"alignmentgroup\":\"True\",\"customdata\":[[1.2,1.4,1.2,2026,\"Pension Credit\"],[1.4,1.4,1.4,2026,\"Housing Benefit\"],[6.8,7.0,6.8,2026,\"Child Benefit\"],[0.5,0.1,0.5,2026,\"Working Tax Credit\"],[0.5,0.3,0.5,2026,\"Child Tax Credit\"],[6.9,6.1,6.9,2026,\"Universal Credit\"],[31.5,31.5,34.8,2026,\"Income Tax\"]],\"hovertemplate\":\"<b>%{customdata[4]} in %{customdata[3]}</b><br>Error: %{x}<br>Official: %{customdata[2]}m<br>OpenFisca-UK: %{customdata[0]}m<br>UKMOD: %{customdata[1]}m\",\"legendgroup\":\"OpenFisca-UK\",\"marker\":{\"color\":\"blue\",\"pattern\":{\"shape\":\"\"}},\"name\":\"OpenFisca-UK\",\"offsetgroup\":\"OpenFisca-UK\",\"orientation\":\"h\",\"showlegend\":true,\"textposition\":\"auto\",\"x\":[566.007,2026.724,2817.442,8779.199,12308.418,18804.955,3323684.983],\"xaxis\":\"x\",\"y\":[\"Pension Credit\",\"Housing Benefit\",\"Child Benefit\",\"Working Tax Credit\",\"Child Tax Credit\",\"Universal Credit\",\"Income Tax\"],\"yaxis\":\"y\",\"type\":\"bar\"},{\"alignmentgroup\":\"True\",\"customdata\":[[1.2,1.4,1.2,2026,\"Pension Credit\"],[1.4,1.4,1.4,2026,\"Housing Benefit\"],[6.8,7.0,6.8,2026,\"Child Benefit\"],[0.5,0.1,0.5,2026,\"Working Tax Credit\"],[0.5,0.3,0.5,2026,\"Child Tax Credit\"],[6.9,6.1,6.9,2026,\"Universal Credit\"],[31.5,31.5,34.8,2026,\"Income Tax\"]],\"hovertemplate\":\"<b>%{customdata[4]} in %{customdata[3]}</b><br>Error: %{x}<br>Official: %{customdata[2]}m<br>OpenFisca-UK: %{customdata[0]}m<br>UKMOD: %{customdata[1]}m\",\"legendgroup\":\"UKMOD\",\"marker\":{\"color\":\"lightgrey\",\"pattern\":{\"shape\":\"\"}},\"name\":\"UKMOD\",\"offsetgroup\":\"UKMOD\",\"orientation\":\"h\",\"showlegend\":true,\"textposition\":\"auto\",\"x\":[223000.0,44000.0,190764.663,393525.00299999997,238091.389,766000.0,3354813.981],\"xaxis\":\"x\",\"y\":[\"Pension Credit\",\"Housing Benefit\",\"Child Benefit\",\"Working Tax Credit\",\"Child Tax Credit\",\"Universal Credit\",\"Income Tax\"],\"yaxis\":\"y\",\"type\":\"bar\"}],\"name\":\"2026\"}]);\n",
       "                        }).then(function(){\n",
       "                            \n",
       "var gd = document.getElementById('00fb1af1-9efb-4b6c-9e4e-83d3f4a2be09');\n",
       "var x = new MutationObserver(function (mutations, observer) {{\n",
       "        var display = window.getComputedStyle(gd).display;\n",
       "        if (!display || display === 'none') {{\n",
       "            console.log([gd, 'removed!']);\n",
       "            Plotly.purge(gd);\n",
       "            observer.disconnect();\n",
       "        }}\n",
       "}});\n",
       "\n",
       "// Listen for the removal of the full notebook cells\n",
       "var notebookContainer = gd.closest('#notebook-container');\n",
       "if (notebookContainer) {{\n",
       "    x.observe(notebookContainer, {childList: true});\n",
       "}}\n",
       "\n",
       "// Listen for the clearing of the current output cell\n",
       "var outputEl = gd.closest('.output');\n",
       "if (outputEl) {{\n",
       "    x.observe(outputEl, {childList: true});\n",
       "}}\n",
       "\n",
       "                        })                };                });            </script>        </div>"
      ]
     },
     "metadata": {},
     "output_type": "display_data"
    }
   ],
   "source": [
    "def error_chart(table, title=None):\n",
    "    hovertemplate = \"<b>%{customdata[4]} in %{customdata[3]}</b><br>Error: %{x}<br>Official: %{customdata[2]}m<br>OpenFisca-UK: %{customdata[0]}m<br>UKMOD: %{customdata[1]}m\"\n",
    "    table = table.replace(\"\", np.nan).dropna(axis=0)\n",
    "    table[[OPENFISCA_UK, UKMOD]] = table[[OPENFISCA_UK, UKMOD]].abs() / 1e2\n",
    "    fig = (\n",
    "        px.bar(\n",
    "            table.sort_values([\"Year\", OPENFISCA_UK]),\n",
    "            x=[OPENFISCA_UK, UKMOD],\n",
    "            y=\"Program\",\n",
    "            orientation=\"h\",\n",
    "            animation_frame=\"Year\",\n",
    "            barmode=\"group\",\n",
    "            color_discrete_map={\n",
    "                OPENFISCA_UK: \"blue\",\n",
    "                UKMOD: \"lightgrey\",\n",
    "            },\n",
    "            custom_data=[\n",
    "                \"OpenFisca-UK caseload\",\n",
    "                \"UKMOD caseload\",\n",
    "                \"External caseload\",\n",
    "                \"Year\",\n",
    "                \"Program\",\n",
    "            ],\n",
    "        )\n",
    "        .update_layout(\n",
    "            width=800,\n",
    "            height=600,\n",
    "            xaxis_title=\"Caseload error\",\n",
    "            title=title,\n",
    "            template=\"plotly_white\",\n",
    "            legend_title=\"Model\",\n",
    "            yaxis_title=\"\",\n",
    "            legend_traceorder=\"reversed\",\n",
    "        )\n",
    "        .update_traces(hovertemplate=hovertemplate)\n",
    "    )\n",
    "    for frame in fig.frames:\n",
    "        for data in frame.data:\n",
    "            data.hovertemplate = hovertemplate\n",
    "    return fig\n",
    "\n",
    "\n",
    "error_chart(\n",
    "    tables_to_model_comparisons(\n",
    "        {\n",
    "            \"\": model_validation_table(\n",
    "                caseload_error,\n",
    "                models=[OPENFISCA_UK, UKMOD],\n",
    "                decimals=1,\n",
    "                divisor=1e-2,\n",
    "            ),\n",
    "            \"caseload\": model_validation_table(\n",
    "                caseload, divisor=1e6, decimals=1\n",
    "            ),\n",
    "        }\n",
    "    ),\n",
    "    title=\"Caseload errors\",\n",
    ")"
   ]
  },
  {
   "cell_type": "markdown",
   "id": "85a7bbc1-bc8f-45fa-9267-e01bf023b199",
   "metadata": {},
   "source": [
    "## Automated tests\n",
    "\n",
    "Below are test results from the most recent version."
   ]
  },
  {
   "cell_type": "code",
   "execution_count": 12,
   "id": "36cf98bd-f26a-49bb-a852-cedaeaf12a8d",
   "metadata": {
    "tags": [
     "hide-input"
    ]
   },
   "outputs": [
    {
     "data": {
      "text/html": [
       "<div>\n",
       "<style scoped>\n",
       "    .dataframe tbody tr th:only-of-type {\n",
       "        vertical-align: middle;\n",
       "    }\n",
       "\n",
       "    .dataframe tbody tr th {\n",
       "        vertical-align: top;\n",
       "    }\n",
       "\n",
       "    .dataframe thead th {\n",
       "        text-align: right;\n",
       "    }\n",
       "</style>\n",
       "<table border=\"1\" class=\"dataframe\">\n",
       "  <thead>\n",
       "    <tr style=\"text-align: right;\">\n",
       "      <th></th>\n",
       "      <th>Name</th>\n",
       "      <th>Passed</th>\n",
       "    </tr>\n",
       "  </thead>\n",
       "  <tbody>\n",
       "    <tr>\n",
       "      <th>0</th>\n",
       "      <td>OpenFisca-UK Child Benefit caseload error is less than 10.0% in 2019</td>\n",
       "      <td>True</td>\n",
       "    </tr>\n",
       "    <tr>\n",
       "      <th>1</th>\n",
       "      <td>OpenFisca-UK Child Benefit caseload error is less than 10.0% in 2020</td>\n",
       "      <td>True</td>\n",
       "    </tr>\n",
       "    <tr>\n",
       "      <th>2</th>\n",
       "      <td>OpenFisca-UK Child Benefit caseload error is less than 10.0% in 2021</td>\n",
       "      <td>True</td>\n",
       "    </tr>\n",
       "    <tr>\n",
       "      <th>3</th>\n",
       "      <td>OpenFisca-UK Child Benefit caseload error is less than 10.0% in 2022</td>\n",
       "      <td>True</td>\n",
       "    </tr>\n",
       "    <tr>\n",
       "      <th>4</th>\n",
       "      <td>OpenFisca-UK Council Tax (less CTB) aggregate error is less than 11.0% in 2019</td>\n",
       "      <td>True</td>\n",
       "    </tr>\n",
       "    <tr>\n",
       "      <th>5</th>\n",
       "      <td>OpenFisca-UK Council Tax (less CTB) aggregate error is less than 11.0% in 2020</td>\n",
       "      <td>True</td>\n",
       "    </tr>\n",
       "    <tr>\n",
       "      <th>6</th>\n",
       "      <td>OpenFisca-UK Council Tax (less CTB) aggregate error is less than 11.0% in 2021</td>\n",
       "      <td>True</td>\n",
       "    </tr>\n",
       "    <tr>\n",
       "      <th>7</th>\n",
       "      <td>OpenFisca-UK Council Tax (less CTB) aggregate error is less than 11.0% in 2022</td>\n",
       "      <td>True</td>\n",
       "    </tr>\n",
       "    <tr>\n",
       "      <th>8</th>\n",
       "      <td>OpenFisca-UK Child Tax Credit aggregate error is less than 40.0% in 2019</td>\n",
       "      <td>True</td>\n",
       "    </tr>\n",
       "    <tr>\n",
       "      <th>9</th>\n",
       "      <td>OpenFisca-UK Child Tax Credit aggregate error is less than 40.0% in 2020</td>\n",
       "      <td>True</td>\n",
       "    </tr>\n",
       "    <tr>\n",
       "      <th>10</th>\n",
       "      <td>OpenFisca-UK Child Tax Credit aggregate error is less than 40.0% in 2021</td>\n",
       "      <td>True</td>\n",
       "    </tr>\n",
       "    <tr>\n",
       "      <th>11</th>\n",
       "      <td>OpenFisca-UK Child Tax Credit aggregate error is less than 40.0% in 2022</td>\n",
       "      <td>False</td>\n",
       "    </tr>\n",
       "    <tr>\n",
       "      <th>12</th>\n",
       "      <td>OpenFisca-UK Child Tax Credit caseload error is less than 25.0% in 2019</td>\n",
       "      <td>False</td>\n",
       "    </tr>\n",
       "    <tr>\n",
       "      <th>13</th>\n",
       "      <td>OpenFisca-UK Child Tax Credit caseload error is less than 25.0% in 2020</td>\n",
       "      <td>False</td>\n",
       "    </tr>\n",
       "    <tr>\n",
       "      <th>14</th>\n",
       "      <td>OpenFisca-UK Child Tax Credit caseload error is less than 25.0% in 2021</td>\n",
       "      <td>True</td>\n",
       "    </tr>\n",
       "    <tr>\n",
       "      <th>15</th>\n",
       "      <td>OpenFisca-UK Child Tax Credit caseload error is less than 25.0% in 2022</td>\n",
       "      <td>True</td>\n",
       "    </tr>\n",
       "    <tr>\n",
       "      <th>16</th>\n",
       "      <td>OpenFisca-UK Working Tax Credit caseload error is less than 40.0% in 2019</td>\n",
       "      <td>False</td>\n",
       "    </tr>\n",
       "    <tr>\n",
       "      <th>17</th>\n",
       "      <td>OpenFisca-UK Working Tax Credit caseload error is less than 40.0% in 2020</td>\n",
       "      <td>False</td>\n",
       "    </tr>\n",
       "    <tr>\n",
       "      <th>18</th>\n",
       "      <td>OpenFisca-UK Working Tax Credit caseload error is less than 40.0% in 2021</td>\n",
       "      <td>True</td>\n",
       "    </tr>\n",
       "    <tr>\n",
       "      <th>19</th>\n",
       "      <td>OpenFisca-UK Working Tax Credit caseload error is less than 40.0% in 2022</td>\n",
       "      <td>True</td>\n",
       "    </tr>\n",
       "    <tr>\n",
       "      <th>20</th>\n",
       "      <td>OpenFisca-UK Housing Benefit caseload error is less than 15.0% in 2019</td>\n",
       "      <td>False</td>\n",
       "    </tr>\n",
       "    <tr>\n",
       "      <th>21</th>\n",
       "      <td>OpenFisca-UK Housing Benefit caseload error is less than 15.0% in 2020</td>\n",
       "      <td>False</td>\n",
       "    </tr>\n",
       "    <tr>\n",
       "      <th>22</th>\n",
       "      <td>OpenFisca-UK Housing Benefit caseload error is less than 15.0% in 2021</td>\n",
       "      <td>False</td>\n",
       "    </tr>\n",
       "    <tr>\n",
       "      <th>23</th>\n",
       "      <td>OpenFisca-UK Housing Benefit caseload error is less than 15.0% in 2022</td>\n",
       "      <td>False</td>\n",
       "    </tr>\n",
       "    <tr>\n",
       "      <th>24</th>\n",
       "      <td>OpenFisca-UK JSA (income-based) aggregate error is less than 110.0% in 2019</td>\n",
       "      <td>True</td>\n",
       "    </tr>\n",
       "    <tr>\n",
       "      <th>25</th>\n",
       "      <td>OpenFisca-UK JSA (income-based) aggregate error is less than 110.0% in 2020</td>\n",
       "      <td>True</td>\n",
       "    </tr>\n",
       "    <tr>\n",
       "      <th>26</th>\n",
       "      <td>OpenFisca-UK JSA (income-based) aggregate error is less than 110.0% in 2021</td>\n",
       "      <td>True</td>\n",
       "    </tr>\n",
       "    <tr>\n",
       "      <th>27</th>\n",
       "      <td>OpenFisca-UK JSA (income-based) aggregate error is less than 110.0% in 2022</td>\n",
       "      <td>True</td>\n",
       "    </tr>\n",
       "    <tr>\n",
       "      <th>28</th>\n",
       "      <td>OpenFisca-UK Income Support caseload error is less than 15.0% in 2019</td>\n",
       "      <td>False</td>\n",
       "    </tr>\n",
       "    <tr>\n",
       "      <th>29</th>\n",
       "      <td>OpenFisca-UK Income Support caseload error is less than 15.0% in 2020</td>\n",
       "      <td>True</td>\n",
       "    </tr>\n",
       "    <tr>\n",
       "      <th>30</th>\n",
       "      <td>OpenFisca-UK Income Support caseload error is less than 15.0% in 2021</td>\n",
       "      <td>False</td>\n",
       "    </tr>\n",
       "    <tr>\n",
       "      <th>31</th>\n",
       "      <td>OpenFisca-UK Income Support caseload error is less than 15.0% in 2022</td>\n",
       "      <td>False</td>\n",
       "    </tr>\n",
       "    <tr>\n",
       "      <th>32</th>\n",
       "      <td>OpenFisca-UK Universal Credit caseload error is less than 20.0% in 2019</td>\n",
       "      <td>False</td>\n",
       "    </tr>\n",
       "    <tr>\n",
       "      <th>33</th>\n",
       "      <td>OpenFisca-UK Universal Credit caseload error is less than 20.0% in 2020</td>\n",
       "      <td>False</td>\n",
       "    </tr>\n",
       "    <tr>\n",
       "      <th>34</th>\n",
       "      <td>OpenFisca-UK Universal Credit caseload error is less than 20.0% in 2021</td>\n",
       "      <td>False</td>\n",
       "    </tr>\n",
       "    <tr>\n",
       "      <th>35</th>\n",
       "      <td>OpenFisca-UK Universal Credit caseload error is less than 20.0% in 2022</td>\n",
       "      <td>False</td>\n",
       "    </tr>\n",
       "    <tr>\n",
       "      <th>36</th>\n",
       "      <td>OpenFisca-UK Income Tax caseload error is less than 12.5% in 2019</td>\n",
       "      <td>True</td>\n",
       "    </tr>\n",
       "    <tr>\n",
       "      <th>37</th>\n",
       "      <td>OpenFisca-UK Income Tax caseload error is less than 12.5% in 2020</td>\n",
       "      <td>True</td>\n",
       "    </tr>\n",
       "    <tr>\n",
       "      <th>38</th>\n",
       "      <td>OpenFisca-UK Income Tax caseload error is less than 12.5% in 2021</td>\n",
       "      <td>True</td>\n",
       "    </tr>\n",
       "    <tr>\n",
       "      <th>39</th>\n",
       "      <td>OpenFisca-UK Income Tax caseload error is less than 12.5% in 2022</td>\n",
       "      <td>True</td>\n",
       "    </tr>\n",
       "    <tr>\n",
       "      <th>40</th>\n",
       "      <td>OpenFisca-UK National Insurance (total) aggregate error is less than 5.0% in 2019</td>\n",
       "      <td>True</td>\n",
       "    </tr>\n",
       "    <tr>\n",
       "      <th>41</th>\n",
       "      <td>OpenFisca-UK National Insurance (total) aggregate error is less than 5.0% in 2020</td>\n",
       "      <td>False</td>\n",
       "    </tr>\n",
       "    <tr>\n",
       "      <th>42</th>\n",
       "      <td>OpenFisca-UK National Insurance (total) aggregate error is less than 5.0% in 2021</td>\n",
       "      <td>False</td>\n",
       "    </tr>\n",
       "    <tr>\n",
       "      <th>43</th>\n",
       "      <td>OpenFisca-UK National Insurance (total) aggregate error is less than 5.0% in 2022</td>\n",
       "      <td>False</td>\n",
       "    </tr>\n",
       "  </tbody>\n",
       "</table>\n",
       "</div>"
      ],
      "text/plain": [
       "                                                                                 Name  \\\n",
       "0   OpenFisca-UK Child Benefit caseload error is less than 10.0% in 2019                \n",
       "1   OpenFisca-UK Child Benefit caseload error is less than 10.0% in 2020                \n",
       "2   OpenFisca-UK Child Benefit caseload error is less than 10.0% in 2021                \n",
       "3   OpenFisca-UK Child Benefit caseload error is less than 10.0% in 2022                \n",
       "4   OpenFisca-UK Council Tax (less CTB) aggregate error is less than 11.0% in 2019      \n",
       "5   OpenFisca-UK Council Tax (less CTB) aggregate error is less than 11.0% in 2020      \n",
       "6   OpenFisca-UK Council Tax (less CTB) aggregate error is less than 11.0% in 2021      \n",
       "7   OpenFisca-UK Council Tax (less CTB) aggregate error is less than 11.0% in 2022      \n",
       "8   OpenFisca-UK Child Tax Credit aggregate error is less than 40.0% in 2019            \n",
       "9   OpenFisca-UK Child Tax Credit aggregate error is less than 40.0% in 2020            \n",
       "10  OpenFisca-UK Child Tax Credit aggregate error is less than 40.0% in 2021            \n",
       "11  OpenFisca-UK Child Tax Credit aggregate error is less than 40.0% in 2022            \n",
       "12  OpenFisca-UK Child Tax Credit caseload error is less than 25.0% in 2019             \n",
       "13  OpenFisca-UK Child Tax Credit caseload error is less than 25.0% in 2020             \n",
       "14  OpenFisca-UK Child Tax Credit caseload error is less than 25.0% in 2021             \n",
       "15  OpenFisca-UK Child Tax Credit caseload error is less than 25.0% in 2022             \n",
       "16  OpenFisca-UK Working Tax Credit caseload error is less than 40.0% in 2019           \n",
       "17  OpenFisca-UK Working Tax Credit caseload error is less than 40.0% in 2020           \n",
       "18  OpenFisca-UK Working Tax Credit caseload error is less than 40.0% in 2021           \n",
       "19  OpenFisca-UK Working Tax Credit caseload error is less than 40.0% in 2022           \n",
       "20  OpenFisca-UK Housing Benefit caseload error is less than 15.0% in 2019              \n",
       "21  OpenFisca-UK Housing Benefit caseload error is less than 15.0% in 2020              \n",
       "22  OpenFisca-UK Housing Benefit caseload error is less than 15.0% in 2021              \n",
       "23  OpenFisca-UK Housing Benefit caseload error is less than 15.0% in 2022              \n",
       "24  OpenFisca-UK JSA (income-based) aggregate error is less than 110.0% in 2019         \n",
       "25  OpenFisca-UK JSA (income-based) aggregate error is less than 110.0% in 2020         \n",
       "26  OpenFisca-UK JSA (income-based) aggregate error is less than 110.0% in 2021         \n",
       "27  OpenFisca-UK JSA (income-based) aggregate error is less than 110.0% in 2022         \n",
       "28  OpenFisca-UK Income Support caseload error is less than 15.0% in 2019               \n",
       "29  OpenFisca-UK Income Support caseload error is less than 15.0% in 2020               \n",
       "30  OpenFisca-UK Income Support caseload error is less than 15.0% in 2021               \n",
       "31  OpenFisca-UK Income Support caseload error is less than 15.0% in 2022               \n",
       "32  OpenFisca-UK Universal Credit caseload error is less than 20.0% in 2019             \n",
       "33  OpenFisca-UK Universal Credit caseload error is less than 20.0% in 2020             \n",
       "34  OpenFisca-UK Universal Credit caseload error is less than 20.0% in 2021             \n",
       "35  OpenFisca-UK Universal Credit caseload error is less than 20.0% in 2022             \n",
       "36  OpenFisca-UK Income Tax caseload error is less than 12.5% in 2019                   \n",
       "37  OpenFisca-UK Income Tax caseload error is less than 12.5% in 2020                   \n",
       "38  OpenFisca-UK Income Tax caseload error is less than 12.5% in 2021                   \n",
       "39  OpenFisca-UK Income Tax caseload error is less than 12.5% in 2022                   \n",
       "40  OpenFisca-UK National Insurance (total) aggregate error is less than 5.0% in 2019   \n",
       "41  OpenFisca-UK National Insurance (total) aggregate error is less than 5.0% in 2020   \n",
       "42  OpenFisca-UK National Insurance (total) aggregate error is less than 5.0% in 2021   \n",
       "43  OpenFisca-UK National Insurance (total) aggregate error is less than 5.0% in 2022   \n",
       "\n",
       "    Passed  \n",
       "0   True    \n",
       "1   True    \n",
       "2   True    \n",
       "3   True    \n",
       "4   True    \n",
       "5   True    \n",
       "6   True    \n",
       "7   True    \n",
       "8   True    \n",
       "9   True    \n",
       "10  True    \n",
       "11  False   \n",
       "12  False   \n",
       "13  False   \n",
       "14  True    \n",
       "15  True    \n",
       "16  False   \n",
       "17  False   \n",
       "18  True    \n",
       "19  True    \n",
       "20  False   \n",
       "21  False   \n",
       "22  False   \n",
       "23  False   \n",
       "24  True    \n",
       "25  True    \n",
       "26  True    \n",
       "27  True    \n",
       "28  False   \n",
       "29  True    \n",
       "30  False   \n",
       "31  False   \n",
       "32  False   \n",
       "33  False   \n",
       "34  False   \n",
       "35  False   \n",
       "36  True    \n",
       "37  True    \n",
       "38  True    \n",
       "39  True    \n",
       "40  True    \n",
       "41  False   \n",
       "42  False   \n",
       "43  False   "
      ]
     },
     "execution_count": 12,
     "metadata": {},
     "output_type": "execute_result"
    }
   ],
   "source": [
    "from openfisca_uk.tests.microsimulation.test_statistics import tests\n",
    "\n",
    "pd.set_option(\"display.max_colwidth\", 0)\n",
    "pd.set_option(\"display.max_rows\", 500)\n",
    "pd.DataFrame({\"Name\": tests, \"Passed\": [test.test()[0] for test in tests]})"
   ]
  }
 ],
 "metadata": {
  "interpreter": {
   "hash": "d8fe82497dc3af1dafdfcaf67c3f347e622d9ec55d37e96a4812404db83e4772"
  },
  "kernelspec": {
   "display_name": "Python 3 (ipykernel)",
   "language": "python",
   "name": "python3"
  },
  "language_info": {
   "codemirror_mode": {
    "name": "ipython",
    "version": 3
   },
   "file_extension": ".py",
   "mimetype": "text/x-python",
   "name": "python",
   "nbconvert_exporter": "python",
   "pygments_lexer": "ipython3",
   "version": "3.7.11"
  }
 },
 "nbformat": 4,
 "nbformat_minor": 5
}
