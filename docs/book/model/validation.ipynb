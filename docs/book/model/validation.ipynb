{
 "cells": [
  {
   "cell_type": "markdown",
   "id": "8fde3747",
   "metadata": {},
   "source": [
    "# Validation\n",
    "\n",
    "OpenFisca-UK runs unit and integration tests on each new version (see [here](https://github.com/PSLmodels/openfisca-uk/tree/master/tests)).\n",
    "In addition, the table below shows the aggregates produced by the model for the major taxes and benefits, and comparisons with UKMOD (latest [country report](https://www.iser.essex.ac.uk/research/publications/working-papers/cempa/cempa2-22.pdf)) and official sources.[^1]\n",
    "UKMOD and administrative sources refer to 2018, and OpenFisca-UK is simulated on policy at the end of 2018.\n",
    "Numbers are in billions of pounds.\n",
    "\n",
    "[^1]: From the UKMOD country report: unless otherwise specified: Department for Work and Pensions https://www.gov.uk/government/publications/benefit-expenditure-and-caseload-tables-2018 ; Best Start Grant: https://www2.gov.scot/Topics/Statistics/Browse/Social-Welfare/SocialSecurityforScotland/BSGJune2019; Child tax credit and working tax credit: HMRC statistics \n",
    "https://www.gov.uk/government/statistics/child-and-working-tax-credits-statistics-finalised-annual-awards-2016-to-2017; Scottish Child Payment: Scottish Fiscal Commission https://www.fiscalcommission.scot/forecast/supplementary-costing-scottish-child-payment; Scottish Child Winter Heating Assistance: Scottish Fiscal Commission \n",
    "https://www.fiscalcommission.scot/forecast/supplementary-costing-child-winter-heating-assistance; Income tax: HMRC statistics https://www.gov.uk/government/statistics/income-tax-liabilities-statistics-tax-year-2014-to-2015-to-tax-year-2017-to-2018; National Insurance Contributions: ONS Blue Book Table 5.2.4s "
   ]
  },
  {
   "cell_type": "markdown",
   "id": "d4998737",
   "metadata": {},
   "source": [
    "## Aggregate tables\n",
    "\n",
    "OpenFisca-UK uprates input FRS data: below are comparisons between the aggregates calculated by OpenFisca-UK, UKMOD and external sources.\n",
    "\n",
    "### Aggregates in full"
   ]
  },
  {
   "cell_type": "code",
   "execution_count": 16,
   "id": "cb98f204-73b5-42f9-a75d-e26c08e1f63c",
   "metadata": {
    "tags": [
     "hide-input"
    ]
   },
   "outputs": [],
   "source": [
    "import numpy as np\n",
    "import pandas as pd\n",
    "from policyengine_uk import (\n",
    "    Microsimulation,\n",
    "    variables as default_variables,\n",
    "    REPO,\n",
    "    EnhancedFRS,\n",
    "    CalibratedFRS,\n",
    ")\n",
    "from policyengine_uk.parameter_tree import parameters\n",
    "from openfisca_core.parameters import ParameterNode\n",
    "from pathlib import Path\n",
    "import yaml\n",
    "import plotly.express as px\n",
    "\n",
    "policyengine_uk = \"OpenFisca-UK\"\n",
    "UKMOD = \"UKMOD\"\n",
    "EXTERNAL = \"External\"\n",
    "\n",
    "VARIABLES = [\n",
    "    \"child_benefit\",\n",
    "    \"income_support\",\n",
    "    \"JSA_income\",\n",
    "    \"housing_benefit\",\n",
    "    \"working_tax_credit\",\n",
    "    \"child_tax_credit\",\n",
    "    \"universal_credit\",\n",
    "    \"pension_credit\",\n",
    "    \"income_tax\",\n",
    "    \"total_NI\",\n",
    "    \"employment_income\",\n",
    "    \"self_employment_income\",\n",
    "    \"pension_income\",\n",
    "    \"property_income\",\n",
    "    \"savings_interest_income\",\n",
    "    \"dividend_income\",\n",
    "]\n",
    "\n",
    "sim = Microsimulation(dataset=EnhancedFRS, average_parameters=True)\n",
    "\n",
    "# https://stackoverflow.com/questions/34667108/ignore-dates-and-times-while-parsing-yaml\n",
    "\n",
    "yaml.SafeLoader.yaml_implicit_resolvers = {\n",
    "    k: [r for r in v if r[0] != \"tag:yaml.org,2002:timestamp\"]\n",
    "    for k, v in yaml.SafeLoader.yaml_implicit_resolvers.items()\n",
    "}\n",
    "\n",
    "with open(\n",
    "    REPO.parent\n",
    "    / \"docs\"\n",
    "    / \"book\"\n",
    "    / \"model\"\n",
    "    / \"ukmod_country_report_statistics.yaml\",\n",
    "    mode=\"r\",\n",
    ") as f:\n",
    "    ukmod_statistics = ParameterNode(\n",
    "        \"ukmod\", data=yaml.load(f, Loader=yaml.SafeLoader)\n",
    "    )\n",
    "\n",
    "\n",
    "def process_scalar(x, divisor, decimals):\n",
    "    try:\n",
    "        if np.isnan(x):\n",
    "            return x\n",
    "    except:\n",
    "        return \"\"\n",
    "    return round(x / divisor, decimals)\n",
    "\n",
    "\n",
    "def model_validation_table(\n",
    "    model_year_variable_to_result_func,\n",
    "    title=None,\n",
    "    start_year=2022,\n",
    "    end_year=2025,\n",
    "    divisor=1,\n",
    "    decimals=0,\n",
    "    models=[EXTERNAL, policyengine_uk, UKMOD],\n",
    "    variables=VARIABLES,\n",
    "):\n",
    "    dfs = []\n",
    "    for model in models:\n",
    "        df = pd.DataFrame(\n",
    "            {\n",
    "                year: {\n",
    "                    default_variables[variable].label: process_scalar(\n",
    "                        model_year_variable_to_result_func(\n",
    "                            model, year, variable\n",
    "                        ),\n",
    "                        divisor,\n",
    "                        decimals,\n",
    "                    )\n",
    "                    for variable in variables\n",
    "                }\n",
    "                for year in range(start_year, end_year + 1)\n",
    "            }\n",
    "        )\n",
    "        dfs.append(df.T)\n",
    "    return pd.concat(dfs, keys=models).replace(np.nan, \"\")\n",
    "\n",
    "\n",
    "def budgetary_impact(model, year, variable):\n",
    "    try:\n",
    "        if model == policyengine_uk:\n",
    "            return sim.calc(variable, map_to=\"household\", period=year).sum()\n",
    "        elif model == UKMOD:\n",
    "            return getattr(ukmod_statistics.ukmod.budgetary_impact, variable)(\n",
    "                f\"{year}-01-01\"\n",
    "            )\n",
    "        elif model == EXTERNAL:\n",
    "            param = parameters.calibration.programs.children[\n",
    "                variable\n",
    "            ].budgetary_impact\n",
    "            if variable == \"income_tax\":\n",
    "                param = param.by_country\n",
    "            if \"UNITED_KINGDOM\" in param.children:\n",
    "                return param.UNITED_KINGDOM(f\"{year}-01-01\")\n",
    "            elif \"GREAT_BRITAIN\" in param.children:\n",
    "                return param.GREAT_BRITAIN(f\"{year}-01-01\")\n",
    "    except Exception as e:\n",
    "        return np.nan"
   ]
  },
  {
   "cell_type": "code",
   "execution_count": 17,
   "id": "7526e917-5a11-46fa-8c71-f1e32de1653e",
   "metadata": {
    "tags": [
     "hide-input"
    ]
   },
   "outputs": [
    {
     "name": "stdout",
     "output_type": "stream",
     "text": [
      "'ParameterNode' object has no attribute 'income_support'\n",
      "'ParameterNode' object has no attribute 'JSA_income'\n",
      "'ParameterNode' object has no attribute 'employment_income'\n",
      "'ParameterNode' object has no attribute 'self_employment_income'\n",
      "'ParameterNode' object has no attribute 'pension_income'\n",
      "'ParameterNode' object has no attribute 'property_income'\n",
      "'ParameterNode' object has no attribute 'savings_interest_income'\n",
      "'ParameterNode' object has no attribute 'dividend_income'\n",
      "'ParameterNode' object has no attribute 'income_support'\n",
      "'ParameterNode' object has no attribute 'JSA_income'\n",
      "'ParameterNode' object has no attribute 'employment_income'\n",
      "'ParameterNode' object has no attribute 'self_employment_income'\n",
      "'ParameterNode' object has no attribute 'pension_income'\n",
      "'ParameterNode' object has no attribute 'property_income'\n",
      "'ParameterNode' object has no attribute 'savings_interest_income'\n",
      "'ParameterNode' object has no attribute 'dividend_income'\n",
      "'ParameterNode' object has no attribute 'income_support'\n",
      "'ParameterNode' object has no attribute 'JSA_income'\n",
      "'ParameterNode' object has no attribute 'employment_income'\n",
      "'ParameterNode' object has no attribute 'self_employment_income'\n",
      "'ParameterNode' object has no attribute 'pension_income'\n",
      "'ParameterNode' object has no attribute 'property_income'\n",
      "'ParameterNode' object has no attribute 'savings_interest_income'\n",
      "'ParameterNode' object has no attribute 'dividend_income'\n",
      "'ParameterNode' object has no attribute 'income_support'\n",
      "'ParameterNode' object has no attribute 'JSA_income'\n",
      "'ParameterNode' object has no attribute 'employment_income'\n",
      "'ParameterNode' object has no attribute 'self_employment_income'\n",
      "'ParameterNode' object has no attribute 'pension_income'\n",
      "'ParameterNode' object has no attribute 'property_income'\n",
      "'ParameterNode' object has no attribute 'savings_interest_income'\n",
      "'ParameterNode' object has no attribute 'dividend_income'\n"
     ]
    },
    {
     "data": {
      "text/html": [
       "<div>\n",
       "<style scoped>\n",
       "    .dataframe tbody tr th:only-of-type {\n",
       "        vertical-align: middle;\n",
       "    }\n",
       "\n",
       "    .dataframe tbody tr th {\n",
       "        vertical-align: top;\n",
       "    }\n",
       "\n",
       "    .dataframe thead th {\n",
       "        text-align: right;\n",
       "    }\n",
       "</style>\n",
       "<table border=\"1\" class=\"dataframe\">\n",
       "  <thead>\n",
       "    <tr style=\"text-align: right;\">\n",
       "      <th></th>\n",
       "      <th></th>\n",
       "      <th>Child Benefit</th>\n",
       "      <th>Income Support</th>\n",
       "      <th>JSA (income-based)</th>\n",
       "      <th>Housing Benefit</th>\n",
       "      <th>Working Tax Credit</th>\n",
       "      <th>Child Tax Credit</th>\n",
       "      <th>Universal Credit</th>\n",
       "      <th>Pension Credit</th>\n",
       "      <th>Income Tax</th>\n",
       "      <th>National Insurance (total)</th>\n",
       "      <th>Employment income</th>\n",
       "      <th>Self-employment income</th>\n",
       "      <th>Pension income</th>\n",
       "      <th>Rental income</th>\n",
       "      <th>Savings interest income</th>\n",
       "      <th>Income from dividends</th>\n",
       "    </tr>\n",
       "  </thead>\n",
       "  <tbody>\n",
       "    <tr>\n",
       "      <th rowspan=\"4\" valign=\"top\">External</th>\n",
       "      <th>2022</th>\n",
       "      <td>11.2</td>\n",
       "      <td>0.7</td>\n",
       "      <td>0.2</td>\n",
       "      <td>15.9</td>\n",
       "      <td>3.8</td>\n",
       "      <td>13.9</td>\n",
       "      <td>43.7</td>\n",
       "      <td>4.5</td>\n",
       "      <td>205.0</td>\n",
       "      <td>151.3</td>\n",
       "      <td>814.0</td>\n",
       "      <td>87.4</td>\n",
       "      <td></td>\n",
       "      <td>23.4</td>\n",
       "      <td>5.0</td>\n",
       "      <td>65.2</td>\n",
       "    </tr>\n",
       "    <tr>\n",
       "      <th>2023</th>\n",
       "      <td>11.5</td>\n",
       "      <td>0.5</td>\n",
       "      <td>0.0</td>\n",
       "      <td>14.7</td>\n",
       "      <td>3.8</td>\n",
       "      <td>13.9</td>\n",
       "      <td>49.8</td>\n",
       "      <td>4.4</td>\n",
       "      <td>215.0</td>\n",
       "      <td>157.5</td>\n",
       "      <td>814.0</td>\n",
       "      <td>87.4</td>\n",
       "      <td></td>\n",
       "      <td>23.4</td>\n",
       "      <td>5.0</td>\n",
       "      <td>65.2</td>\n",
       "    </tr>\n",
       "    <tr>\n",
       "      <th>2024</th>\n",
       "      <td>11.6</td>\n",
       "      <td>0.5</td>\n",
       "      <td>0.0</td>\n",
       "      <td>12.5</td>\n",
       "      <td>3.8</td>\n",
       "      <td>13.9</td>\n",
       "      <td>57.8</td>\n",
       "      <td>4.4</td>\n",
       "      <td>225.7</td>\n",
       "      <td>164.6</td>\n",
       "      <td>814.0</td>\n",
       "      <td>87.4</td>\n",
       "      <td></td>\n",
       "      <td>23.4</td>\n",
       "      <td>5.0</td>\n",
       "      <td>65.2</td>\n",
       "    </tr>\n",
       "    <tr>\n",
       "      <th>2025</th>\n",
       "      <td>11.6</td>\n",
       "      <td>0.4</td>\n",
       "      <td>0.0</td>\n",
       "      <td>10.2</td>\n",
       "      <td>3.8</td>\n",
       "      <td>13.9</td>\n",
       "      <td>68.0</td>\n",
       "      <td>4.2</td>\n",
       "      <td>237.5</td>\n",
       "      <td>172.1</td>\n",
       "      <td>814.0</td>\n",
       "      <td>87.4</td>\n",
       "      <td></td>\n",
       "      <td>23.4</td>\n",
       "      <td>5.0</td>\n",
       "      <td>65.2</td>\n",
       "    </tr>\n",
       "    <tr>\n",
       "      <th rowspan=\"4\" valign=\"top\">OpenFisca-UK</th>\n",
       "      <th>2022</th>\n",
       "      <td>11.4</td>\n",
       "      <td>0.7</td>\n",
       "      <td>0.2</td>\n",
       "      <td>15.9</td>\n",
       "      <td>1.7</td>\n",
       "      <td>6.1</td>\n",
       "      <td>43.2</td>\n",
       "      <td>4.9</td>\n",
       "      <td>199.4</td>\n",
       "      <td>150.2</td>\n",
       "      <td>866.7</td>\n",
       "      <td>95.2</td>\n",
       "      <td>114.7</td>\n",
       "      <td>24.5</td>\n",
       "      <td>5.2</td>\n",
       "      <td>67.0</td>\n",
       "    </tr>\n",
       "    <tr>\n",
       "      <th>2023</th>\n",
       "      <td>11.6</td>\n",
       "      <td>0.5</td>\n",
       "      <td>0.0</td>\n",
       "      <td>14.6</td>\n",
       "      <td>1.3</td>\n",
       "      <td>4.6</td>\n",
       "      <td>48.8</td>\n",
       "      <td>4.8</td>\n",
       "      <td>209.6</td>\n",
       "      <td>155.8</td>\n",
       "      <td>896.2</td>\n",
       "      <td>97.8</td>\n",
       "      <td>118.0</td>\n",
       "      <td>25.2</td>\n",
       "      <td>5.4</td>\n",
       "      <td>68.1</td>\n",
       "    </tr>\n",
       "    <tr>\n",
       "      <th>2024</th>\n",
       "      <td>11.6</td>\n",
       "      <td>0.5</td>\n",
       "      <td>0.0</td>\n",
       "      <td>12.6</td>\n",
       "      <td>0.8</td>\n",
       "      <td>3.0</td>\n",
       "      <td>56.3</td>\n",
       "      <td>4.6</td>\n",
       "      <td>220.3</td>\n",
       "      <td>162.7</td>\n",
       "      <td>925.2</td>\n",
       "      <td>100.9</td>\n",
       "      <td>121.6</td>\n",
       "      <td>25.9</td>\n",
       "      <td>5.5</td>\n",
       "      <td>70.4</td>\n",
       "    </tr>\n",
       "    <tr>\n",
       "      <th>2025</th>\n",
       "      <td>11.7</td>\n",
       "      <td>0.3</td>\n",
       "      <td>0.0</td>\n",
       "      <td>10.4</td>\n",
       "      <td>0.4</td>\n",
       "      <td>1.3</td>\n",
       "      <td>65.0</td>\n",
       "      <td>4.5</td>\n",
       "      <td>226.8</td>\n",
       "      <td>170.5</td>\n",
       "      <td>958.6</td>\n",
       "      <td>104.2</td>\n",
       "      <td>125.3</td>\n",
       "      <td>26.8</td>\n",
       "      <td>5.7</td>\n",
       "      <td>72.7</td>\n",
       "    </tr>\n",
       "    <tr>\n",
       "      <th rowspan=\"4\" valign=\"top\">UKMOD</th>\n",
       "      <th>2022</th>\n",
       "      <td>12.0</td>\n",
       "      <td></td>\n",
       "      <td></td>\n",
       "      <td>10.3</td>\n",
       "      <td>1.6</td>\n",
       "      <td>5.4</td>\n",
       "      <td>34.1</td>\n",
       "      <td>4.2</td>\n",
       "      <td>161.2</td>\n",
       "      <td>156.0</td>\n",
       "      <td></td>\n",
       "      <td></td>\n",
       "      <td></td>\n",
       "      <td></td>\n",
       "      <td></td>\n",
       "      <td></td>\n",
       "    </tr>\n",
       "    <tr>\n",
       "      <th>2023</th>\n",
       "      <td>12.3</td>\n",
       "      <td></td>\n",
       "      <td></td>\n",
       "      <td>9.6</td>\n",
       "      <td>1.3</td>\n",
       "      <td>4.5</td>\n",
       "      <td>39.1</td>\n",
       "      <td>4.4</td>\n",
       "      <td>170.6</td>\n",
       "      <td>145.1</td>\n",
       "      <td></td>\n",
       "      <td></td>\n",
       "      <td></td>\n",
       "      <td></td>\n",
       "      <td></td>\n",
       "      <td></td>\n",
       "    </tr>\n",
       "    <tr>\n",
       "      <th>2024</th>\n",
       "      <td>12.5</td>\n",
       "      <td></td>\n",
       "      <td></td>\n",
       "      <td>8.5</td>\n",
       "      <td>0.9</td>\n",
       "      <td>3.3</td>\n",
       "      <td>39.1</td>\n",
       "      <td>4.5</td>\n",
       "      <td>178.5</td>\n",
       "      <td>147.9</td>\n",
       "      <td></td>\n",
       "      <td></td>\n",
       "      <td></td>\n",
       "      <td></td>\n",
       "      <td></td>\n",
       "      <td></td>\n",
       "    </tr>\n",
       "    <tr>\n",
       "      <th>2025</th>\n",
       "      <td>12.6</td>\n",
       "      <td></td>\n",
       "      <td></td>\n",
       "      <td>6.7</td>\n",
       "      <td>0.4</td>\n",
       "      <td>1.5</td>\n",
       "      <td>45.6</td>\n",
       "      <td>4.5</td>\n",
       "      <td>187.9</td>\n",
       "      <td>151.9</td>\n",
       "      <td></td>\n",
       "      <td></td>\n",
       "      <td></td>\n",
       "      <td></td>\n",
       "      <td></td>\n",
       "      <td></td>\n",
       "    </tr>\n",
       "  </tbody>\n",
       "</table>\n",
       "</div>"
      ],
      "text/plain": [
       "                   Child Benefit Income Support JSA (income-based)  \\\n",
       "External     2022  11.2           0.7            0.2                 \n",
       "             2023  11.5           0.5            0.0                 \n",
       "             2024  11.6           0.5            0.0                 \n",
       "             2025  11.6           0.4            0.0                 \n",
       "OpenFisca-UK 2022  11.4           0.7            0.2                 \n",
       "             2023  11.6           0.5            0.0                 \n",
       "             2024  11.6           0.5            0.0                 \n",
       "             2025  11.7           0.3            0.0                 \n",
       "UKMOD        2022  12.0                                              \n",
       "             2023  12.3                                              \n",
       "             2024  12.5                                              \n",
       "             2025  12.6                                              \n",
       "\n",
       "                   Housing Benefit  Working Tax Credit  Child Tax Credit  \\\n",
       "External     2022  15.9             3.8                 13.9               \n",
       "             2023  14.7             3.8                 13.9               \n",
       "             2024  12.5             3.8                 13.9               \n",
       "             2025  10.2             3.8                 13.9               \n",
       "OpenFisca-UK 2022  15.9             1.7                 6.1                \n",
       "             2023  14.6             1.3                 4.6                \n",
       "             2024  12.6             0.8                 3.0                \n",
       "             2025  10.4             0.4                 1.3                \n",
       "UKMOD        2022  10.3             1.6                 5.4                \n",
       "             2023  9.6              1.3                 4.5                \n",
       "             2024  8.5              0.9                 3.3                \n",
       "             2025  6.7              0.4                 1.5                \n",
       "\n",
       "                   Universal Credit  Pension Credit  Income Tax  \\\n",
       "External     2022  43.7              4.5             205.0        \n",
       "             2023  49.8              4.4             215.0        \n",
       "             2024  57.8              4.4             225.7        \n",
       "             2025  68.0              4.2             237.5        \n",
       "OpenFisca-UK 2022  43.2              4.9             199.4        \n",
       "             2023  48.8              4.8             209.6        \n",
       "             2024  56.3              4.6             220.3        \n",
       "             2025  65.0              4.5             226.8        \n",
       "UKMOD        2022  34.1              4.2             161.2        \n",
       "             2023  39.1              4.4             170.6        \n",
       "             2024  39.1              4.5             178.5        \n",
       "             2025  45.6              4.5             187.9        \n",
       "\n",
       "                   National Insurance (total) Employment income  \\\n",
       "External     2022  151.3                       814.0              \n",
       "             2023  157.5                       814.0              \n",
       "             2024  164.6                       814.0              \n",
       "             2025  172.1                       814.0              \n",
       "OpenFisca-UK 2022  150.2                       866.7              \n",
       "             2023  155.8                       896.2              \n",
       "             2024  162.7                       925.2              \n",
       "             2025  170.5                       958.6              \n",
       "UKMOD        2022  156.0                                          \n",
       "             2023  145.1                                          \n",
       "             2024  147.9                                          \n",
       "             2025  151.9                                          \n",
       "\n",
       "                  Self-employment income Pension income Rental income  \\\n",
       "External     2022  87.4                                  23.4           \n",
       "             2023  87.4                                  23.4           \n",
       "             2024  87.4                                  23.4           \n",
       "             2025  87.4                                  23.4           \n",
       "OpenFisca-UK 2022  95.2                   114.7          24.5           \n",
       "             2023  97.8                   118.0          25.2           \n",
       "             2024  100.9                  121.6          25.9           \n",
       "             2025  104.2                  125.3          26.8           \n",
       "UKMOD        2022                                                       \n",
       "             2023                                                       \n",
       "             2024                                                       \n",
       "             2025                                                       \n",
       "\n",
       "                  Savings interest income Income from dividends  \n",
       "External     2022  5.0                     65.2                  \n",
       "             2023  5.0                     65.2                  \n",
       "             2024  5.0                     65.2                  \n",
       "             2025  5.0                     65.2                  \n",
       "OpenFisca-UK 2022  5.2                     67.0                  \n",
       "             2023  5.4                     68.1                  \n",
       "             2024  5.5                     70.4                  \n",
       "             2025  5.7                     72.7                  \n",
       "UKMOD        2022                                                \n",
       "             2023                                                \n",
       "             2024                                                \n",
       "             2025                                                "
      ]
     },
     "execution_count": 17,
     "metadata": {},
     "output_type": "execute_result"
    }
   ],
   "source": [
    "model_validation_table(budgetary_impact, divisor=1e9, decimals=1)"
   ]
  },
  {
   "cell_type": "markdown",
   "id": "626c55d3-8a51-4148-baae-3cf7405d2163",
   "metadata": {},
   "source": [
    "### Forecast comparison"
   ]
  },
  {
   "cell_type": "code",
   "execution_count": 18,
   "id": "e4b06316-41a6-480b-9816-9afdc244a824",
   "metadata": {
    "tags": [
     "hide-input"
    ]
   },
   "outputs": [
    {
     "name": "stdout",
     "output_type": "stream",
     "text": [
      "'ParameterNode' object has no attribute 'income_support'\n",
      "'ParameterNode' object has no attribute 'JSA_income'\n",
      "'ParameterNode' object has no attribute 'employment_income'\n",
      "'ParameterNode' object has no attribute 'self_employment_income'\n",
      "'ParameterNode' object has no attribute 'pension_income'\n",
      "'ParameterNode' object has no attribute 'property_income'\n",
      "'ParameterNode' object has no attribute 'savings_interest_income'\n",
      "'ParameterNode' object has no attribute 'dividend_income'\n",
      "'ParameterNode' object has no attribute 'income_support'\n",
      "'ParameterNode' object has no attribute 'JSA_income'\n",
      "'ParameterNode' object has no attribute 'employment_income'\n",
      "'ParameterNode' object has no attribute 'self_employment_income'\n",
      "'ParameterNode' object has no attribute 'pension_income'\n",
      "'ParameterNode' object has no attribute 'property_income'\n",
      "'ParameterNode' object has no attribute 'savings_interest_income'\n",
      "'ParameterNode' object has no attribute 'dividend_income'\n",
      "'ParameterNode' object has no attribute 'income_support'\n",
      "'ParameterNode' object has no attribute 'JSA_income'\n",
      "'ParameterNode' object has no attribute 'employment_income'\n",
      "'ParameterNode' object has no attribute 'self_employment_income'\n",
      "'ParameterNode' object has no attribute 'pension_income'\n",
      "'ParameterNode' object has no attribute 'property_income'\n",
      "'ParameterNode' object has no attribute 'savings_interest_income'\n",
      "'ParameterNode' object has no attribute 'dividend_income'\n",
      "'ParameterNode' object has no attribute 'income_support'\n",
      "'ParameterNode' object has no attribute 'JSA_income'\n",
      "'ParameterNode' object has no attribute 'employment_income'\n",
      "'ParameterNode' object has no attribute 'self_employment_income'\n",
      "'ParameterNode' object has no attribute 'pension_income'\n",
      "'ParameterNode' object has no attribute 'property_income'\n",
      "'ParameterNode' object has no attribute 'savings_interest_income'\n",
      "'ParameterNode' object has no attribute 'dividend_income'\n"
     ]
    },
    {
     "data": {
      "application/vnd.plotly.v1+json": {
       "config": {
        "plotlyServerURL": "https://plot.ly"
       },
       "data": [
        {
         "hovertemplate": "",
         "legendgroup": "External",
         "line": {
          "color": "#00cc96",
          "dash": "solid"
         },
         "marker": {
          "symbol": "circle"
         },
         "mode": "lines",
         "name": "External",
         "orientation": "h",
         "showlegend": true,
         "type": "scatter",
         "x": [
          2022,
          2023,
          2024,
          2025
         ],
         "xaxis": "x",
         "y": [
          11213000000,
          11546000000,
          11626000000,
          11627000000
         ],
         "yaxis": "y"
        },
        {
         "hovertemplate": "",
         "legendgroup": "OpenFisca-UK",
         "line": {
          "color": "blue",
          "dash": "solid"
         },
         "marker": {
          "symbol": "circle"
         },
         "mode": "lines",
         "name": "OpenFisca-UK",
         "orientation": "h",
         "showlegend": true,
         "type": "scatter",
         "x": [
          2022,
          2023,
          2024,
          2025
         ],
         "xaxis": "x",
         "y": [
          11392790014.1,
          11617473449.3,
          11637478418.3,
          11686240609.9
         ],
         "yaxis": "y"
        },
        {
         "hovertemplate": "",
         "legendgroup": "UKMOD",
         "line": {
          "color": "lightgrey",
          "dash": "solid"
         },
         "marker": {
          "symbol": "circle"
         },
         "mode": "lines",
         "name": "UKMOD",
         "orientation": "h",
         "showlegend": true,
         "type": "scatter",
         "x": [
          2022,
          2023,
          2024,
          2025
         ],
         "xaxis": "x",
         "y": [
          11963000000,
          12331000000,
          12547000000,
          12579000000
         ],
         "yaxis": "y"
        }
       ],
       "frames": [
        {
         "data": [
          {
           "hovertemplate": "",
           "legendgroup": "External",
           "line": {
            "color": "#00cc96",
            "dash": "solid"
           },
           "marker": {
            "symbol": "circle"
           },
           "mode": "lines",
           "name": "External",
           "orientation": "h",
           "showlegend": true,
           "type": "scatter",
           "x": [
            2022,
            2023,
            2024,
            2025
           ],
           "xaxis": "x",
           "y": [
            11213000000,
            11546000000,
            11626000000,
            11627000000
           ],
           "yaxis": "y"
          },
          {
           "hovertemplate": "",
           "legendgroup": "OpenFisca-UK",
           "line": {
            "color": "blue",
            "dash": "solid"
           },
           "marker": {
            "symbol": "circle"
           },
           "mode": "lines",
           "name": "OpenFisca-UK",
           "orientation": "h",
           "showlegend": true,
           "type": "scatter",
           "x": [
            2022,
            2023,
            2024,
            2025
           ],
           "xaxis": "x",
           "y": [
            11392790014.1,
            11617473449.3,
            11637478418.3,
            11686240609.9
           ],
           "yaxis": "y"
          },
          {
           "hovertemplate": "",
           "legendgroup": "UKMOD",
           "line": {
            "color": "lightgrey",
            "dash": "solid"
           },
           "marker": {
            "symbol": "circle"
           },
           "mode": "lines",
           "name": "UKMOD",
           "orientation": "h",
           "showlegend": true,
           "type": "scatter",
           "x": [
            2022,
            2023,
            2024,
            2025
           ],
           "xaxis": "x",
           "y": [
            11963000000,
            12331000000,
            12547000000,
            12579000000
           ],
           "yaxis": "y"
          }
         ],
         "name": "Child Benefit"
        },
        {
         "data": [
          {
           "hovertemplate": "",
           "legendgroup": "External",
           "line": {
            "color": "#00cc96",
            "dash": "solid"
           },
           "marker": {
            "symbol": "circle"
           },
           "mode": "lines",
           "name": "External",
           "orientation": "h",
           "showlegend": true,
           "type": "scatter",
           "x": [
            2022,
            2023,
            2024,
            2025
           ],
           "xaxis": "x",
           "y": [
            13875000000,
            13875000000,
            13875000000,
            13875000000
           ],
           "yaxis": "y"
          },
          {
           "hovertemplate": "",
           "legendgroup": "OpenFisca-UK",
           "line": {
            "color": "blue",
            "dash": "solid"
           },
           "marker": {
            "symbol": "circle"
           },
           "mode": "lines",
           "name": "OpenFisca-UK",
           "orientation": "h",
           "showlegend": true,
           "type": "scatter",
           "x": [
            2022,
            2023,
            2024,
            2025
           ],
           "xaxis": "x",
           "y": [
            6142658498,
            4608071391.6,
            3010416752.8,
            1323722953.2
           ],
           "yaxis": "y"
          },
          {
           "hovertemplate": "",
           "legendgroup": "UKMOD",
           "line": {
            "color": "lightgrey",
            "dash": "solid"
           },
           "marker": {
            "symbol": "circle"
           },
           "mode": "lines",
           "name": "UKMOD",
           "orientation": "h",
           "showlegend": true,
           "type": "scatter",
           "x": [
            2022,
            2023,
            2024,
            2025
           ],
           "xaxis": "x",
           "y": [
            5382000000,
            4546000000,
            3287000000,
            1461000000
           ],
           "yaxis": "y"
          }
         ],
         "name": "Child Tax Credit"
        },
        {
         "data": [
          {
           "hovertemplate": "",
           "legendgroup": "External",
           "line": {
            "color": "#00cc96",
            "dash": "solid"
           },
           "marker": {
            "symbol": "circle"
           },
           "mode": "lines",
           "name": "External",
           "orientation": "h",
           "showlegend": true,
           "type": "scatter",
           "x": [
            2022,
            2023,
            2024,
            2025
           ],
           "xaxis": "x",
           "y": [
            814000000000,
            814000000000,
            814000000000,
            814000000000
           ],
           "yaxis": "y"
          },
          {
           "hovertemplate": "",
           "legendgroup": "OpenFisca-UK",
           "line": {
            "color": "blue",
            "dash": "solid"
           },
           "marker": {
            "symbol": "circle"
           },
           "mode": "lines",
           "name": "OpenFisca-UK",
           "orientation": "h",
           "showlegend": true,
           "type": "scatter",
           "x": [
            2022,
            2023,
            2024,
            2025
           ],
           "xaxis": "x",
           "y": [
            866704576568.4,
            896222386598.5,
            925221901474.2,
            958581487359
           ],
           "yaxis": "y"
          },
          {
           "hovertemplate": "",
           "legendgroup": "UKMOD",
           "line": {
            "color": "lightgrey",
            "dash": "solid"
           },
           "marker": {
            "symbol": "circle"
           },
           "mode": "lines",
           "name": "UKMOD",
           "orientation": "h",
           "showlegend": true,
           "type": "scatter",
           "x": [
            2022,
            2023,
            2024,
            2025
           ],
           "xaxis": "x",
           "y": [
            "",
            "",
            "",
            ""
           ],
           "yaxis": "y"
          }
         ],
         "name": "Employment income"
        },
        {
         "data": [
          {
           "hovertemplate": "",
           "legendgroup": "External",
           "line": {
            "color": "#00cc96",
            "dash": "solid"
           },
           "marker": {
            "symbol": "circle"
           },
           "mode": "lines",
           "name": "External",
           "orientation": "h",
           "showlegend": true,
           "type": "scatter",
           "x": [
            2022,
            2023,
            2024,
            2025
           ],
           "xaxis": "x",
           "y": [
            15894000000,
            14728000000,
            12503000000,
            10213000000
           ],
           "yaxis": "y"
          },
          {
           "hovertemplate": "",
           "legendgroup": "OpenFisca-UK",
           "line": {
            "color": "blue",
            "dash": "solid"
           },
           "marker": {
            "symbol": "circle"
           },
           "mode": "lines",
           "name": "OpenFisca-UK",
           "orientation": "h",
           "showlegend": true,
           "type": "scatter",
           "x": [
            2022,
            2023,
            2024,
            2025
           ],
           "xaxis": "x",
           "y": [
            15864243414.8,
            14550894583.4,
            12552287943.8,
            10387076886.4
           ],
           "yaxis": "y"
          },
          {
           "hovertemplate": "",
           "legendgroup": "UKMOD",
           "line": {
            "color": "lightgrey",
            "dash": "solid"
           },
           "marker": {
            "symbol": "circle"
           },
           "mode": "lines",
           "name": "UKMOD",
           "orientation": "h",
           "showlegend": true,
           "type": "scatter",
           "x": [
            2022,
            2023,
            2024,
            2025
           ],
           "xaxis": "x",
           "y": [
            10332000000,
            9622000000,
            8476000000,
            6706000000
           ],
           "yaxis": "y"
          }
         ],
         "name": "Housing Benefit"
        },
        {
         "data": [
          {
           "hovertemplate": "",
           "legendgroup": "External",
           "line": {
            "color": "#00cc96",
            "dash": "solid"
           },
           "marker": {
            "symbol": "circle"
           },
           "mode": "lines",
           "name": "External",
           "orientation": "h",
           "showlegend": true,
           "type": "scatter",
           "x": [
            2022,
            2023,
            2024,
            2025
           ],
           "xaxis": "x",
           "y": [
            670000000,
            491000000,
            471000000,
            432000000
           ],
           "yaxis": "y"
          },
          {
           "hovertemplate": "",
           "legendgroup": "OpenFisca-UK",
           "line": {
            "color": "blue",
            "dash": "solid"
           },
           "marker": {
            "symbol": "circle"
           },
           "mode": "lines",
           "name": "OpenFisca-UK",
           "orientation": "h",
           "showlegend": true,
           "type": "scatter",
           "x": [
            2022,
            2023,
            2024,
            2025
           ],
           "xaxis": "x",
           "y": [
            749349094.9,
            541532097.5,
            500407332.3,
            324129543.6
           ],
           "yaxis": "y"
          },
          {
           "hovertemplate": "",
           "legendgroup": "UKMOD",
           "line": {
            "color": "lightgrey",
            "dash": "solid"
           },
           "marker": {
            "symbol": "circle"
           },
           "mode": "lines",
           "name": "UKMOD",
           "orientation": "h",
           "showlegend": true,
           "type": "scatter",
           "x": [
            2022,
            2023,
            2024,
            2025
           ],
           "xaxis": "x",
           "y": [
            "",
            "",
            "",
            ""
           ],
           "yaxis": "y"
          }
         ],
         "name": "Income Support"
        },
        {
         "data": [
          {
           "hovertemplate": "",
           "legendgroup": "External",
           "line": {
            "color": "#00cc96",
            "dash": "solid"
           },
           "marker": {
            "symbol": "circle"
           },
           "mode": "lines",
           "name": "External",
           "orientation": "h",
           "showlegend": true,
           "type": "scatter",
           "x": [
            2022,
            2023,
            2024,
            2025
           ],
           "xaxis": "x",
           "y": [
            205000000000,
            215000000000,
            225700000000,
            237500000000
           ],
           "yaxis": "y"
          },
          {
           "hovertemplate": "",
           "legendgroup": "OpenFisca-UK",
           "line": {
            "color": "blue",
            "dash": "solid"
           },
           "marker": {
            "symbol": "circle"
           },
           "mode": "lines",
           "name": "OpenFisca-UK",
           "orientation": "h",
           "showlegend": true,
           "type": "scatter",
           "x": [
            2022,
            2023,
            2024,
            2025
           ],
           "xaxis": "x",
           "y": [
            199409624769.7,
            209619785523.2,
            220331600705.6,
            226826624339.2
           ],
           "yaxis": "y"
          },
          {
           "hovertemplate": "",
           "legendgroup": "UKMOD",
           "line": {
            "color": "lightgrey",
            "dash": "solid"
           },
           "marker": {
            "symbol": "circle"
           },
           "mode": "lines",
           "name": "UKMOD",
           "orientation": "h",
           "showlegend": true,
           "type": "scatter",
           "x": [
            2022,
            2023,
            2024,
            2025
           ],
           "xaxis": "x",
           "y": [
            161197000000,
            170626000000,
            178488000000,
            187865000000
           ],
           "yaxis": "y"
          }
         ],
         "name": "Income Tax"
        },
        {
         "data": [
          {
           "hovertemplate": "",
           "legendgroup": "External",
           "line": {
            "color": "#00cc96",
            "dash": "solid"
           },
           "marker": {
            "symbol": "circle"
           },
           "mode": "lines",
           "name": "External",
           "orientation": "h",
           "showlegend": true,
           "type": "scatter",
           "x": [
            2022,
            2023,
            2024,
            2025
           ],
           "xaxis": "x",
           "y": [
            65200000000,
            65200000000,
            65200000000,
            65200000000
           ],
           "yaxis": "y"
          },
          {
           "hovertemplate": "",
           "legendgroup": "OpenFisca-UK",
           "line": {
            "color": "blue",
            "dash": "solid"
           },
           "marker": {
            "symbol": "circle"
           },
           "mode": "lines",
           "name": "OpenFisca-UK",
           "orientation": "h",
           "showlegend": true,
           "type": "scatter",
           "x": [
            2022,
            2023,
            2024,
            2025
           ],
           "xaxis": "x",
           "y": [
            66994891671.1,
            68124118527.3,
            70358857444.2,
            72685324409.6
           ],
           "yaxis": "y"
          },
          {
           "hovertemplate": "",
           "legendgroup": "UKMOD",
           "line": {
            "color": "lightgrey",
            "dash": "solid"
           },
           "marker": {
            "symbol": "circle"
           },
           "mode": "lines",
           "name": "UKMOD",
           "orientation": "h",
           "showlegend": true,
           "type": "scatter",
           "x": [
            2022,
            2023,
            2024,
            2025
           ],
           "xaxis": "x",
           "y": [
            "",
            "",
            "",
            ""
           ],
           "yaxis": "y"
          }
         ],
         "name": "Income from dividends"
        },
        {
         "data": [
          {
           "hovertemplate": "",
           "legendgroup": "External",
           "line": {
            "color": "#00cc96",
            "dash": "solid"
           },
           "marker": {
            "symbol": "circle"
           },
           "mode": "lines",
           "name": "External",
           "orientation": "h",
           "showlegend": true,
           "type": "scatter",
           "x": [
            2022,
            2023,
            2024,
            2025
           ],
           "xaxis": "x",
           "y": [
            196000000,
            21000,
            0,
            0
           ],
           "yaxis": "y"
          },
          {
           "hovertemplate": "",
           "legendgroup": "OpenFisca-UK",
           "line": {
            "color": "blue",
            "dash": "solid"
           },
           "marker": {
            "symbol": "circle"
           },
           "mode": "lines",
           "name": "OpenFisca-UK",
           "orientation": "h",
           "showlegend": true,
           "type": "scatter",
           "x": [
            2022,
            2023,
            2024,
            2025
           ],
           "xaxis": "x",
           "y": [
            221067799.1,
            29906425.3,
            17103022.1,
            12170888.3
           ],
           "yaxis": "y"
          },
          {
           "hovertemplate": "",
           "legendgroup": "UKMOD",
           "line": {
            "color": "lightgrey",
            "dash": "solid"
           },
           "marker": {
            "symbol": "circle"
           },
           "mode": "lines",
           "name": "UKMOD",
           "orientation": "h",
           "showlegend": true,
           "type": "scatter",
           "x": [
            2022,
            2023,
            2024,
            2025
           ],
           "xaxis": "x",
           "y": [
            "",
            "",
            "",
            ""
           ],
           "yaxis": "y"
          }
         ],
         "name": "JSA (income-based)"
        },
        {
         "data": [
          {
           "hovertemplate": "",
           "legendgroup": "External",
           "line": {
            "color": "#00cc96",
            "dash": "solid"
           },
           "marker": {
            "symbol": "circle"
           },
           "mode": "lines",
           "name": "External",
           "orientation": "h",
           "showlegend": true,
           "type": "scatter",
           "x": [
            2022,
            2023,
            2024,
            2025
           ],
           "xaxis": "x",
           "y": [
            151300000000,
            157500000000,
            164600000000,
            172100000000
           ],
           "yaxis": "y"
          },
          {
           "hovertemplate": "",
           "legendgroup": "OpenFisca-UK",
           "line": {
            "color": "blue",
            "dash": "solid"
           },
           "marker": {
            "symbol": "circle"
           },
           "mode": "lines",
           "name": "OpenFisca-UK",
           "orientation": "h",
           "showlegend": true,
           "type": "scatter",
           "x": [
            2022,
            2023,
            2024,
            2025
           ],
           "xaxis": "x",
           "y": [
            150208889508.6,
            155755696761.6,
            162735330825.6,
            170495746368.8
           ],
           "yaxis": "y"
          },
          {
           "hovertemplate": "",
           "legendgroup": "UKMOD",
           "line": {
            "color": "lightgrey",
            "dash": "solid"
           },
           "marker": {
            "symbol": "circle"
           },
           "mode": "lines",
           "name": "UKMOD",
           "orientation": "h",
           "showlegend": true,
           "type": "scatter",
           "x": [
            2022,
            2023,
            2024,
            2025
           ],
           "xaxis": "x",
           "y": [
            156016000000,
            145114000000,
            147890000000,
            151875000000
           ],
           "yaxis": "y"
          }
         ],
         "name": "National Insurance (total)"
        },
        {
         "data": [
          {
           "hovertemplate": "",
           "legendgroup": "External",
           "line": {
            "color": "#00cc96",
            "dash": "solid"
           },
           "marker": {
            "symbol": "circle"
           },
           "mode": "lines",
           "name": "External",
           "orientation": "h",
           "showlegend": true,
           "type": "scatter",
           "x": [
            2022,
            2023,
            2024,
            2025
           ],
           "xaxis": "x",
           "y": [
            4466000000,
            4447000000,
            4379000000,
            4223000000
           ],
           "yaxis": "y"
          },
          {
           "hovertemplate": "",
           "legendgroup": "OpenFisca-UK",
           "line": {
            "color": "blue",
            "dash": "solid"
           },
           "marker": {
            "symbol": "circle"
           },
           "mode": "lines",
           "name": "OpenFisca-UK",
           "orientation": "h",
           "showlegend": true,
           "type": "scatter",
           "x": [
            2022,
            2023,
            2024,
            2025
           ],
           "xaxis": "x",
           "y": [
            4940361682.6,
            4803205365.4,
            4629655892.9,
            4452626115.6
           ],
           "yaxis": "y"
          },
          {
           "hovertemplate": "",
           "legendgroup": "UKMOD",
           "line": {
            "color": "lightgrey",
            "dash": "solid"
           },
           "marker": {
            "symbol": "circle"
           },
           "mode": "lines",
           "name": "UKMOD",
           "orientation": "h",
           "showlegend": true,
           "type": "scatter",
           "x": [
            2022,
            2023,
            2024,
            2025
           ],
           "xaxis": "x",
           "y": [
            4153000000,
            4410000000,
            4491000000,
            4466000000
           ],
           "yaxis": "y"
          }
         ],
         "name": "Pension Credit"
        },
        {
         "data": [
          {
           "hovertemplate": "",
           "legendgroup": "External",
           "line": {
            "color": "#00cc96",
            "dash": "solid"
           },
           "marker": {
            "symbol": "circle"
           },
           "mode": "lines",
           "name": "External",
           "orientation": "h",
           "showlegend": true,
           "type": "scatter",
           "x": [
            2022,
            2023,
            2024,
            2025
           ],
           "xaxis": "x",
           "y": [
            "",
            "",
            "",
            ""
           ],
           "yaxis": "y"
          },
          {
           "hovertemplate": "",
           "legendgroup": "OpenFisca-UK",
           "line": {
            "color": "blue",
            "dash": "solid"
           },
           "marker": {
            "symbol": "circle"
           },
           "mode": "lines",
           "name": "OpenFisca-UK",
           "orientation": "h",
           "showlegend": true,
           "type": "scatter",
           "x": [
            2022,
            2023,
            2024,
            2025
           ],
           "xaxis": "x",
           "y": [
            114668571386.9,
            117960968027.3,
            121647597909.6,
            125295621427
           ],
           "yaxis": "y"
          },
          {
           "hovertemplate": "",
           "legendgroup": "UKMOD",
           "line": {
            "color": "lightgrey",
            "dash": "solid"
           },
           "marker": {
            "symbol": "circle"
           },
           "mode": "lines",
           "name": "UKMOD",
           "orientation": "h",
           "showlegend": true,
           "type": "scatter",
           "x": [
            2022,
            2023,
            2024,
            2025
           ],
           "xaxis": "x",
           "y": [
            "",
            "",
            "",
            ""
           ],
           "yaxis": "y"
          }
         ],
         "name": "Pension income"
        },
        {
         "data": [
          {
           "hovertemplate": "",
           "legendgroup": "External",
           "line": {
            "color": "#00cc96",
            "dash": "solid"
           },
           "marker": {
            "symbol": "circle"
           },
           "mode": "lines",
           "name": "External",
           "orientation": "h",
           "showlegend": true,
           "type": "scatter",
           "x": [
            2022,
            2023,
            2024,
            2025
           ],
           "xaxis": "x",
           "y": [
            23400000000,
            23400000000,
            23400000000,
            23400000000
           ],
           "yaxis": "y"
          },
          {
           "hovertemplate": "",
           "legendgroup": "OpenFisca-UK",
           "line": {
            "color": "blue",
            "dash": "solid"
           },
           "marker": {
            "symbol": "circle"
           },
           "mode": "lines",
           "name": "OpenFisca-UK",
           "orientation": "h",
           "showlegend": true,
           "type": "scatter",
           "x": [
            2022,
            2023,
            2024,
            2025
           ],
           "xaxis": "x",
           "y": [
            24502583555.7,
            25157652889.2,
            25937967982.3,
            26774757988.7
           ],
           "yaxis": "y"
          },
          {
           "hovertemplate": "",
           "legendgroup": "UKMOD",
           "line": {
            "color": "lightgrey",
            "dash": "solid"
           },
           "marker": {
            "symbol": "circle"
           },
           "mode": "lines",
           "name": "UKMOD",
           "orientation": "h",
           "showlegend": true,
           "type": "scatter",
           "x": [
            2022,
            2023,
            2024,
            2025
           ],
           "xaxis": "x",
           "y": [
            "",
            "",
            "",
            ""
           ],
           "yaxis": "y"
          }
         ],
         "name": "Rental income"
        },
        {
         "data": [
          {
           "hovertemplate": "",
           "legendgroup": "External",
           "line": {
            "color": "#00cc96",
            "dash": "solid"
           },
           "marker": {
            "symbol": "circle"
           },
           "mode": "lines",
           "name": "External",
           "orientation": "h",
           "showlegend": true,
           "type": "scatter",
           "x": [
            2022,
            2023,
            2024,
            2025
           ],
           "xaxis": "x",
           "y": [
            4980000000,
            4980000000,
            4980000000,
            4980000000
           ],
           "yaxis": "y"
          },
          {
           "hovertemplate": "",
           "legendgroup": "OpenFisca-UK",
           "line": {
            "color": "blue",
            "dash": "solid"
           },
           "marker": {
            "symbol": "circle"
           },
           "mode": "lines",
           "name": "OpenFisca-UK",
           "orientation": "h",
           "showlegend": true,
           "type": "scatter",
           "x": [
            2022,
            2023,
            2024,
            2025
           ],
           "xaxis": "x",
           "y": [
            5220819975.5,
            5373102415.7,
            5540781740.1,
            5710217792.5
           ],
           "yaxis": "y"
          },
          {
           "hovertemplate": "",
           "legendgroup": "UKMOD",
           "line": {
            "color": "lightgrey",
            "dash": "solid"
           },
           "marker": {
            "symbol": "circle"
           },
           "mode": "lines",
           "name": "UKMOD",
           "orientation": "h",
           "showlegend": true,
           "type": "scatter",
           "x": [
            2022,
            2023,
            2024,
            2025
           ],
           "xaxis": "x",
           "y": [
            "",
            "",
            "",
            ""
           ],
           "yaxis": "y"
          }
         ],
         "name": "Savings interest income"
        },
        {
         "data": [
          {
           "hovertemplate": "",
           "legendgroup": "External",
           "line": {
            "color": "#00cc96",
            "dash": "solid"
           },
           "marker": {
            "symbol": "circle"
           },
           "mode": "lines",
           "name": "External",
           "orientation": "h",
           "showlegend": true,
           "type": "scatter",
           "x": [
            2022,
            2023,
            2024,
            2025
           ],
           "xaxis": "x",
           "y": [
            87400000000,
            87400000000,
            87400000000,
            87400000000
           ],
           "yaxis": "y"
          },
          {
           "hovertemplate": "",
           "legendgroup": "OpenFisca-UK",
           "line": {
            "color": "blue",
            "dash": "solid"
           },
           "marker": {
            "symbol": "circle"
           },
           "mode": "lines",
           "name": "OpenFisca-UK",
           "orientation": "h",
           "showlegend": true,
           "type": "scatter",
           "x": [
            2022,
            2023,
            2024,
            2025
           ],
           "xaxis": "x",
           "y": [
            95159690698.4,
            97799809115.2,
            100871849543,
            104155279672.3
           ],
           "yaxis": "y"
          },
          {
           "hovertemplate": "",
           "legendgroup": "UKMOD",
           "line": {
            "color": "lightgrey",
            "dash": "solid"
           },
           "marker": {
            "symbol": "circle"
           },
           "mode": "lines",
           "name": "UKMOD",
           "orientation": "h",
           "showlegend": true,
           "type": "scatter",
           "x": [
            2022,
            2023,
            2024,
            2025
           ],
           "xaxis": "x",
           "y": [
            "",
            "",
            "",
            ""
           ],
           "yaxis": "y"
          }
         ],
         "name": "Self-employment income"
        },
        {
         "data": [
          {
           "hovertemplate": "",
           "legendgroup": "External",
           "line": {
            "color": "#00cc96",
            "dash": "solid"
           },
           "marker": {
            "symbol": "circle"
           },
           "mode": "lines",
           "name": "External",
           "orientation": "h",
           "showlegend": true,
           "type": "scatter",
           "x": [
            2022,
            2023,
            2024,
            2025
           ],
           "xaxis": "x",
           "y": [
            43657000000,
            49751000000,
            57782000000,
            67959000000
           ],
           "yaxis": "y"
          },
          {
           "hovertemplate": "",
           "legendgroup": "OpenFisca-UK",
           "line": {
            "color": "blue",
            "dash": "solid"
           },
           "marker": {
            "symbol": "circle"
           },
           "mode": "lines",
           "name": "OpenFisca-UK",
           "orientation": "h",
           "showlegend": true,
           "type": "scatter",
           "x": [
            2022,
            2023,
            2024,
            2025
           ],
           "xaxis": "x",
           "y": [
            43190182731.2,
            48800439136.7,
            56295655281.9,
            64951010846.6
           ],
           "yaxis": "y"
          },
          {
           "hovertemplate": "",
           "legendgroup": "UKMOD",
           "line": {
            "color": "lightgrey",
            "dash": "solid"
           },
           "marker": {
            "symbol": "circle"
           },
           "mode": "lines",
           "name": "UKMOD",
           "orientation": "h",
           "showlegend": true,
           "type": "scatter",
           "x": [
            2022,
            2023,
            2024,
            2025
           ],
           "xaxis": "x",
           "y": [
            34073000000,
            39133000000,
            39133000000,
            45644000000
           ],
           "yaxis": "y"
          }
         ],
         "name": "Universal Credit"
        },
        {
         "data": [
          {
           "hovertemplate": "",
           "legendgroup": "External",
           "line": {
            "color": "#00cc96",
            "dash": "solid"
           },
           "marker": {
            "symbol": "circle"
           },
           "mode": "lines",
           "name": "External",
           "orientation": "h",
           "showlegend": true,
           "type": "scatter",
           "x": [
            2022,
            2023,
            2024,
            2025
           ],
           "xaxis": "x",
           "y": [
            3825000000,
            3825000000,
            3825000000,
            3825000000
           ],
           "yaxis": "y"
          },
          {
           "hovertemplate": "",
           "legendgroup": "OpenFisca-UK",
           "line": {
            "color": "blue",
            "dash": "solid"
           },
           "marker": {
            "symbol": "circle"
           },
           "mode": "lines",
           "name": "OpenFisca-UK",
           "orientation": "h",
           "showlegend": true,
           "type": "scatter",
           "x": [
            2022,
            2023,
            2024,
            2025
           ],
           "xaxis": "x",
           "y": [
            1694677773.5,
            1269350227.4,
            833192515.2,
            381139555.2
           ],
           "yaxis": "y"
          },
          {
           "hovertemplate": "",
           "legendgroup": "UKMOD",
           "line": {
            "color": "lightgrey",
            "dash": "solid"
           },
           "marker": {
            "symbol": "circle"
           },
           "mode": "lines",
           "name": "UKMOD",
           "orientation": "h",
           "showlegend": true,
           "type": "scatter",
           "x": [
            2022,
            2023,
            2024,
            2025
           ],
           "xaxis": "x",
           "y": [
            1573000000,
            1320000000,
            897000000,
            423000000
           ],
           "yaxis": "y"
          }
         ],
         "name": "Working Tax Credit"
        }
       ],
       "layout": {
        "height": 600,
        "legend": {
         "title": {
          "text": "Model"
         },
         "tracegroupgap": 0,
         "traceorder": "reversed"
        },
        "margin": {
         "t": 60
        },
        "sliders": [
         {
          "active": 0,
          "currentvalue": {
           "prefix": "Program="
          },
          "len": 0.9,
          "pad": {
           "b": 10,
           "t": 60
          },
          "steps": [
           {
            "args": [
             [
              "Child Benefit"
             ],
             {
              "frame": {
               "duration": 0,
               "redraw": false
              },
              "fromcurrent": true,
              "mode": "immediate",
              "transition": {
               "duration": 0,
               "easing": "linear"
              }
             }
            ],
            "label": "Child Benefit",
            "method": "animate"
           },
           {
            "args": [
             [
              "Child Tax Credit"
             ],
             {
              "frame": {
               "duration": 0,
               "redraw": false
              },
              "fromcurrent": true,
              "mode": "immediate",
              "transition": {
               "duration": 0,
               "easing": "linear"
              }
             }
            ],
            "label": "Child Tax Credit",
            "method": "animate"
           },
           {
            "args": [
             [
              "Employment income"
             ],
             {
              "frame": {
               "duration": 0,
               "redraw": false
              },
              "fromcurrent": true,
              "mode": "immediate",
              "transition": {
               "duration": 0,
               "easing": "linear"
              }
             }
            ],
            "label": "Employment income",
            "method": "animate"
           },
           {
            "args": [
             [
              "Housing Benefit"
             ],
             {
              "frame": {
               "duration": 0,
               "redraw": false
              },
              "fromcurrent": true,
              "mode": "immediate",
              "transition": {
               "duration": 0,
               "easing": "linear"
              }
             }
            ],
            "label": "Housing Benefit",
            "method": "animate"
           },
           {
            "args": [
             [
              "Income Support"
             ],
             {
              "frame": {
               "duration": 0,
               "redraw": false
              },
              "fromcurrent": true,
              "mode": "immediate",
              "transition": {
               "duration": 0,
               "easing": "linear"
              }
             }
            ],
            "label": "Income Support",
            "method": "animate"
           },
           {
            "args": [
             [
              "Income Tax"
             ],
             {
              "frame": {
               "duration": 0,
               "redraw": false
              },
              "fromcurrent": true,
              "mode": "immediate",
              "transition": {
               "duration": 0,
               "easing": "linear"
              }
             }
            ],
            "label": "Income Tax",
            "method": "animate"
           },
           {
            "args": [
             [
              "Income from dividends"
             ],
             {
              "frame": {
               "duration": 0,
               "redraw": false
              },
              "fromcurrent": true,
              "mode": "immediate",
              "transition": {
               "duration": 0,
               "easing": "linear"
              }
             }
            ],
            "label": "Income from dividends",
            "method": "animate"
           },
           {
            "args": [
             [
              "JSA (income-based)"
             ],
             {
              "frame": {
               "duration": 0,
               "redraw": false
              },
              "fromcurrent": true,
              "mode": "immediate",
              "transition": {
               "duration": 0,
               "easing": "linear"
              }
             }
            ],
            "label": "JSA (income-based)",
            "method": "animate"
           },
           {
            "args": [
             [
              "National Insurance (total)"
             ],
             {
              "frame": {
               "duration": 0,
               "redraw": false
              },
              "fromcurrent": true,
              "mode": "immediate",
              "transition": {
               "duration": 0,
               "easing": "linear"
              }
             }
            ],
            "label": "National Insurance (total)",
            "method": "animate"
           },
           {
            "args": [
             [
              "Pension Credit"
             ],
             {
              "frame": {
               "duration": 0,
               "redraw": false
              },
              "fromcurrent": true,
              "mode": "immediate",
              "transition": {
               "duration": 0,
               "easing": "linear"
              }
             }
            ],
            "label": "Pension Credit",
            "method": "animate"
           },
           {
            "args": [
             [
              "Pension income"
             ],
             {
              "frame": {
               "duration": 0,
               "redraw": false
              },
              "fromcurrent": true,
              "mode": "immediate",
              "transition": {
               "duration": 0,
               "easing": "linear"
              }
             }
            ],
            "label": "Pension income",
            "method": "animate"
           },
           {
            "args": [
             [
              "Rental income"
             ],
             {
              "frame": {
               "duration": 0,
               "redraw": false
              },
              "fromcurrent": true,
              "mode": "immediate",
              "transition": {
               "duration": 0,
               "easing": "linear"
              }
             }
            ],
            "label": "Rental income",
            "method": "animate"
           },
           {
            "args": [
             [
              "Savings interest income"
             ],
             {
              "frame": {
               "duration": 0,
               "redraw": false
              },
              "fromcurrent": true,
              "mode": "immediate",
              "transition": {
               "duration": 0,
               "easing": "linear"
              }
             }
            ],
            "label": "Savings interest income",
            "method": "animate"
           },
           {
            "args": [
             [
              "Self-employment income"
             ],
             {
              "frame": {
               "duration": 0,
               "redraw": false
              },
              "fromcurrent": true,
              "mode": "immediate",
              "transition": {
               "duration": 0,
               "easing": "linear"
              }
             }
            ],
            "label": "Self-employment income",
            "method": "animate"
           },
           {
            "args": [
             [
              "Universal Credit"
             ],
             {
              "frame": {
               "duration": 0,
               "redraw": false
              },
              "fromcurrent": true,
              "mode": "immediate",
              "transition": {
               "duration": 0,
               "easing": "linear"
              }
             }
            ],
            "label": "Universal Credit",
            "method": "animate"
           },
           {
            "args": [
             [
              "Working Tax Credit"
             ],
             {
              "frame": {
               "duration": 0,
               "redraw": false
              },
              "fromcurrent": true,
              "mode": "immediate",
              "transition": {
               "duration": 0,
               "easing": "linear"
              }
             }
            ],
            "label": "Working Tax Credit",
            "method": "animate"
           }
          ],
          "x": 0.1,
          "xanchor": "left",
          "y": 0,
          "yanchor": "top"
         }
        ],
        "template": {
         "data": {
          "bar": [
           {
            "error_x": {
             "color": "#2a3f5f"
            },
            "error_y": {
             "color": "#2a3f5f"
            },
            "marker": {
             "line": {
              "color": "white",
              "width": 0.5
             },
             "pattern": {
              "fillmode": "overlay",
              "size": 10,
              "solidity": 0.2
             }
            },
            "type": "bar"
           }
          ],
          "barpolar": [
           {
            "marker": {
             "line": {
              "color": "white",
              "width": 0.5
             },
             "pattern": {
              "fillmode": "overlay",
              "size": 10,
              "solidity": 0.2
             }
            },
            "type": "barpolar"
           }
          ],
          "carpet": [
           {
            "aaxis": {
             "endlinecolor": "#2a3f5f",
             "gridcolor": "#C8D4E3",
             "linecolor": "#C8D4E3",
             "minorgridcolor": "#C8D4E3",
             "startlinecolor": "#2a3f5f"
            },
            "baxis": {
             "endlinecolor": "#2a3f5f",
             "gridcolor": "#C8D4E3",
             "linecolor": "#C8D4E3",
             "minorgridcolor": "#C8D4E3",
             "startlinecolor": "#2a3f5f"
            },
            "type": "carpet"
           }
          ],
          "choropleth": [
           {
            "colorbar": {
             "outlinewidth": 0,
             "ticks": ""
            },
            "type": "choropleth"
           }
          ],
          "contour": [
           {
            "colorbar": {
             "outlinewidth": 0,
             "ticks": ""
            },
            "colorscale": [
             [
              0,
              "#0d0887"
             ],
             [
              0.1111111111111111,
              "#46039f"
             ],
             [
              0.2222222222222222,
              "#7201a8"
             ],
             [
              0.3333333333333333,
              "#9c179e"
             ],
             [
              0.4444444444444444,
              "#bd3786"
             ],
             [
              0.5555555555555556,
              "#d8576b"
             ],
             [
              0.6666666666666666,
              "#ed7953"
             ],
             [
              0.7777777777777778,
              "#fb9f3a"
             ],
             [
              0.8888888888888888,
              "#fdca26"
             ],
             [
              1,
              "#f0f921"
             ]
            ],
            "type": "contour"
           }
          ],
          "contourcarpet": [
           {
            "colorbar": {
             "outlinewidth": 0,
             "ticks": ""
            },
            "type": "contourcarpet"
           }
          ],
          "heatmap": [
           {
            "colorbar": {
             "outlinewidth": 0,
             "ticks": ""
            },
            "colorscale": [
             [
              0,
              "#0d0887"
             ],
             [
              0.1111111111111111,
              "#46039f"
             ],
             [
              0.2222222222222222,
              "#7201a8"
             ],
             [
              0.3333333333333333,
              "#9c179e"
             ],
             [
              0.4444444444444444,
              "#bd3786"
             ],
             [
              0.5555555555555556,
              "#d8576b"
             ],
             [
              0.6666666666666666,
              "#ed7953"
             ],
             [
              0.7777777777777778,
              "#fb9f3a"
             ],
             [
              0.8888888888888888,
              "#fdca26"
             ],
             [
              1,
              "#f0f921"
             ]
            ],
            "type": "heatmap"
           }
          ],
          "heatmapgl": [
           {
            "colorbar": {
             "outlinewidth": 0,
             "ticks": ""
            },
            "colorscale": [
             [
              0,
              "#0d0887"
             ],
             [
              0.1111111111111111,
              "#46039f"
             ],
             [
              0.2222222222222222,
              "#7201a8"
             ],
             [
              0.3333333333333333,
              "#9c179e"
             ],
             [
              0.4444444444444444,
              "#bd3786"
             ],
             [
              0.5555555555555556,
              "#d8576b"
             ],
             [
              0.6666666666666666,
              "#ed7953"
             ],
             [
              0.7777777777777778,
              "#fb9f3a"
             ],
             [
              0.8888888888888888,
              "#fdca26"
             ],
             [
              1,
              "#f0f921"
             ]
            ],
            "type": "heatmapgl"
           }
          ],
          "histogram": [
           {
            "marker": {
             "pattern": {
              "fillmode": "overlay",
              "size": 10,
              "solidity": 0.2
             }
            },
            "type": "histogram"
           }
          ],
          "histogram2d": [
           {
            "colorbar": {
             "outlinewidth": 0,
             "ticks": ""
            },
            "colorscale": [
             [
              0,
              "#0d0887"
             ],
             [
              0.1111111111111111,
              "#46039f"
             ],
             [
              0.2222222222222222,
              "#7201a8"
             ],
             [
              0.3333333333333333,
              "#9c179e"
             ],
             [
              0.4444444444444444,
              "#bd3786"
             ],
             [
              0.5555555555555556,
              "#d8576b"
             ],
             [
              0.6666666666666666,
              "#ed7953"
             ],
             [
              0.7777777777777778,
              "#fb9f3a"
             ],
             [
              0.8888888888888888,
              "#fdca26"
             ],
             [
              1,
              "#f0f921"
             ]
            ],
            "type": "histogram2d"
           }
          ],
          "histogram2dcontour": [
           {
            "colorbar": {
             "outlinewidth": 0,
             "ticks": ""
            },
            "colorscale": [
             [
              0,
              "#0d0887"
             ],
             [
              0.1111111111111111,
              "#46039f"
             ],
             [
              0.2222222222222222,
              "#7201a8"
             ],
             [
              0.3333333333333333,
              "#9c179e"
             ],
             [
              0.4444444444444444,
              "#bd3786"
             ],
             [
              0.5555555555555556,
              "#d8576b"
             ],
             [
              0.6666666666666666,
              "#ed7953"
             ],
             [
              0.7777777777777778,
              "#fb9f3a"
             ],
             [
              0.8888888888888888,
              "#fdca26"
             ],
             [
              1,
              "#f0f921"
             ]
            ],
            "type": "histogram2dcontour"
           }
          ],
          "mesh3d": [
           {
            "colorbar": {
             "outlinewidth": 0,
             "ticks": ""
            },
            "type": "mesh3d"
           }
          ],
          "parcoords": [
           {
            "line": {
             "colorbar": {
              "outlinewidth": 0,
              "ticks": ""
             }
            },
            "type": "parcoords"
           }
          ],
          "pie": [
           {
            "automargin": true,
            "type": "pie"
           }
          ],
          "scatter": [
           {
            "marker": {
             "colorbar": {
              "outlinewidth": 0,
              "ticks": ""
             }
            },
            "type": "scatter"
           }
          ],
          "scatter3d": [
           {
            "line": {
             "colorbar": {
              "outlinewidth": 0,
              "ticks": ""
             }
            },
            "marker": {
             "colorbar": {
              "outlinewidth": 0,
              "ticks": ""
             }
            },
            "type": "scatter3d"
           }
          ],
          "scattercarpet": [
           {
            "marker": {
             "colorbar": {
              "outlinewidth": 0,
              "ticks": ""
             }
            },
            "type": "scattercarpet"
           }
          ],
          "scattergeo": [
           {
            "marker": {
             "colorbar": {
              "outlinewidth": 0,
              "ticks": ""
             }
            },
            "type": "scattergeo"
           }
          ],
          "scattergl": [
           {
            "marker": {
             "colorbar": {
              "outlinewidth": 0,
              "ticks": ""
             }
            },
            "type": "scattergl"
           }
          ],
          "scattermapbox": [
           {
            "marker": {
             "colorbar": {
              "outlinewidth": 0,
              "ticks": ""
             }
            },
            "type": "scattermapbox"
           }
          ],
          "scatterpolar": [
           {
            "marker": {
             "colorbar": {
              "outlinewidth": 0,
              "ticks": ""
             }
            },
            "type": "scatterpolar"
           }
          ],
          "scatterpolargl": [
           {
            "marker": {
             "colorbar": {
              "outlinewidth": 0,
              "ticks": ""
             }
            },
            "type": "scatterpolargl"
           }
          ],
          "scatterternary": [
           {
            "marker": {
             "colorbar": {
              "outlinewidth": 0,
              "ticks": ""
             }
            },
            "type": "scatterternary"
           }
          ],
          "surface": [
           {
            "colorbar": {
             "outlinewidth": 0,
             "ticks": ""
            },
            "colorscale": [
             [
              0,
              "#0d0887"
             ],
             [
              0.1111111111111111,
              "#46039f"
             ],
             [
              0.2222222222222222,
              "#7201a8"
             ],
             [
              0.3333333333333333,
              "#9c179e"
             ],
             [
              0.4444444444444444,
              "#bd3786"
             ],
             [
              0.5555555555555556,
              "#d8576b"
             ],
             [
              0.6666666666666666,
              "#ed7953"
             ],
             [
              0.7777777777777778,
              "#fb9f3a"
             ],
             [
              0.8888888888888888,
              "#fdca26"
             ],
             [
              1,
              "#f0f921"
             ]
            ],
            "type": "surface"
           }
          ],
          "table": [
           {
            "cells": {
             "fill": {
              "color": "#EBF0F8"
             },
             "line": {
              "color": "white"
             }
            },
            "header": {
             "fill": {
              "color": "#C8D4E3"
             },
             "line": {
              "color": "white"
             }
            },
            "type": "table"
           }
          ]
         },
         "layout": {
          "annotationdefaults": {
           "arrowcolor": "#2a3f5f",
           "arrowhead": 0,
           "arrowwidth": 1
          },
          "autotypenumbers": "strict",
          "coloraxis": {
           "colorbar": {
            "outlinewidth": 0,
            "ticks": ""
           }
          },
          "colorscale": {
           "diverging": [
            [
             0,
             "#8e0152"
            ],
            [
             0.1,
             "#c51b7d"
            ],
            [
             0.2,
             "#de77ae"
            ],
            [
             0.3,
             "#f1b6da"
            ],
            [
             0.4,
             "#fde0ef"
            ],
            [
             0.5,
             "#f7f7f7"
            ],
            [
             0.6,
             "#e6f5d0"
            ],
            [
             0.7,
             "#b8e186"
            ],
            [
             0.8,
             "#7fbc41"
            ],
            [
             0.9,
             "#4d9221"
            ],
            [
             1,
             "#276419"
            ]
           ],
           "sequential": [
            [
             0,
             "#0d0887"
            ],
            [
             0.1111111111111111,
             "#46039f"
            ],
            [
             0.2222222222222222,
             "#7201a8"
            ],
            [
             0.3333333333333333,
             "#9c179e"
            ],
            [
             0.4444444444444444,
             "#bd3786"
            ],
            [
             0.5555555555555556,
             "#d8576b"
            ],
            [
             0.6666666666666666,
             "#ed7953"
            ],
            [
             0.7777777777777778,
             "#fb9f3a"
            ],
            [
             0.8888888888888888,
             "#fdca26"
            ],
            [
             1,
             "#f0f921"
            ]
           ],
           "sequentialminus": [
            [
             0,
             "#0d0887"
            ],
            [
             0.1111111111111111,
             "#46039f"
            ],
            [
             0.2222222222222222,
             "#7201a8"
            ],
            [
             0.3333333333333333,
             "#9c179e"
            ],
            [
             0.4444444444444444,
             "#bd3786"
            ],
            [
             0.5555555555555556,
             "#d8576b"
            ],
            [
             0.6666666666666666,
             "#ed7953"
            ],
            [
             0.7777777777777778,
             "#fb9f3a"
            ],
            [
             0.8888888888888888,
             "#fdca26"
            ],
            [
             1,
             "#f0f921"
            ]
           ]
          },
          "colorway": [
           "#636efa",
           "#EF553B",
           "#00cc96",
           "#ab63fa",
           "#FFA15A",
           "#19d3f3",
           "#FF6692",
           "#B6E880",
           "#FF97FF",
           "#FECB52"
          ],
          "font": {
           "color": "#2a3f5f"
          },
          "geo": {
           "bgcolor": "white",
           "lakecolor": "white",
           "landcolor": "white",
           "showlakes": true,
           "showland": true,
           "subunitcolor": "#C8D4E3"
          },
          "hoverlabel": {
           "align": "left"
          },
          "hovermode": "closest",
          "mapbox": {
           "style": "light"
          },
          "paper_bgcolor": "white",
          "plot_bgcolor": "white",
          "polar": {
           "angularaxis": {
            "gridcolor": "#EBF0F8",
            "linecolor": "#EBF0F8",
            "ticks": ""
           },
           "bgcolor": "white",
           "radialaxis": {
            "gridcolor": "#EBF0F8",
            "linecolor": "#EBF0F8",
            "ticks": ""
           }
          },
          "scene": {
           "xaxis": {
            "backgroundcolor": "white",
            "gridcolor": "#DFE8F3",
            "gridwidth": 2,
            "linecolor": "#EBF0F8",
            "showbackground": true,
            "ticks": "",
            "zerolinecolor": "#EBF0F8"
           },
           "yaxis": {
            "backgroundcolor": "white",
            "gridcolor": "#DFE8F3",
            "gridwidth": 2,
            "linecolor": "#EBF0F8",
            "showbackground": true,
            "ticks": "",
            "zerolinecolor": "#EBF0F8"
           },
           "zaxis": {
            "backgroundcolor": "white",
            "gridcolor": "#DFE8F3",
            "gridwidth": 2,
            "linecolor": "#EBF0F8",
            "showbackground": true,
            "ticks": "",
            "zerolinecolor": "#EBF0F8"
           }
          },
          "shapedefaults": {
           "line": {
            "color": "#2a3f5f"
           }
          },
          "ternary": {
           "aaxis": {
            "gridcolor": "#DFE8F3",
            "linecolor": "#A2B1C6",
            "ticks": ""
           },
           "baxis": {
            "gridcolor": "#DFE8F3",
            "linecolor": "#A2B1C6",
            "ticks": ""
           },
           "bgcolor": "white",
           "caxis": {
            "gridcolor": "#DFE8F3",
            "linecolor": "#A2B1C6",
            "ticks": ""
           }
          },
          "title": {
           "x": 0.05
          },
          "xaxis": {
           "automargin": true,
           "gridcolor": "#EBF0F8",
           "linecolor": "#EBF0F8",
           "ticks": "",
           "title": {
            "standoff": 15
           },
           "zerolinecolor": "#EBF0F8",
           "zerolinewidth": 2
          },
          "yaxis": {
           "automargin": true,
           "gridcolor": "#EBF0F8",
           "linecolor": "#EBF0F8",
           "ticks": "",
           "title": {
            "standoff": 15
           },
           "zerolinecolor": "#EBF0F8",
           "zerolinewidth": 2
          }
         }
        },
        "title": {
         "text": "Budgetary impact forecasts"
        },
        "updatemenus": [
         {
          "buttons": [
           {
            "args": [
             null,
             {
              "frame": {
               "duration": 500,
               "redraw": false
              },
              "fromcurrent": true,
              "mode": "immediate",
              "transition": {
               "duration": 500,
               "easing": "linear"
              }
             }
            ],
            "label": "&#9654;",
            "method": "animate"
           },
           {
            "args": [
             [
              null
             ],
             {
              "frame": {
               "duration": 0,
               "redraw": false
              },
              "fromcurrent": true,
              "mode": "immediate",
              "transition": {
               "duration": 0,
               "easing": "linear"
              }
             }
            ],
            "label": "&#9724;",
            "method": "animate"
           }
          ],
          "direction": "left",
          "pad": {
           "r": 10,
           "t": 70
          },
          "showactive": false,
          "type": "buttons",
          "x": 0.1,
          "xanchor": "right",
          "y": 0,
          "yanchor": "top"
         }
        ],
        "width": 800,
        "xaxis": {
         "anchor": "y",
         "autorange": true,
         "domain": [
          0,
          1
         ],
         "range": [
          2022,
          2025
         ],
         "tickvals": [
          2022,
          2023,
          2024,
          2025
         ],
         "title": {
          "text": "Year"
         },
         "type": "linear"
        },
        "yaxis": {
         "anchor": "x",
         "domain": [
          0,
          1
         ],
         "range": [
          0,
          20000000000
         ],
         "tickprefix": "£",
         "title": {
          "text": ""
         },
         "type": "linear"
        }
       }
      },
      "image/png": "[encoded data removed]",
      "text/html": [
       "<div>                            <div id=\"808e86ce-8e57-4c30-a51f-c0f74d5abdb5\" class=\"plotly-graph-div\" style=\"height:600px; width:800px;\"></div>            <script type=\"text/javascript\">                require([\"plotly\"], function(Plotly) {                    window.PLOTLYENV=window.PLOTLYENV || {};                                    if (document.getElementById(\"808e86ce-8e57-4c30-a51f-c0f74d5abdb5\")) {                    Plotly.newPlot(                        \"808e86ce-8e57-4c30-a51f-c0f74d5abdb5\",                        [{\"hovertemplate\":\"\",\"legendgroup\":\"External\",\"line\":{\"color\":\"#00cc96\",\"dash\":\"solid\"},\"marker\":{\"symbol\":\"circle\"},\"mode\":\"lines\",\"name\":\"External\",\"orientation\":\"h\",\"showlegend\":true,\"x\":[2022,2023,2024,2025],\"xaxis\":\"x\",\"y\":[11213000000.0,11546000000.0,11626000000.0,11627000000.0],\"yaxis\":\"y\",\"type\":\"scatter\"},{\"hovertemplate\":\"\",\"legendgroup\":\"OpenFisca-UK\",\"line\":{\"color\":\"blue\",\"dash\":\"solid\"},\"marker\":{\"symbol\":\"circle\"},\"mode\":\"lines\",\"name\":\"OpenFisca-UK\",\"orientation\":\"h\",\"showlegend\":true,\"x\":[2022,2023,2024,2025],\"xaxis\":\"x\",\"y\":[11392790014.1,11617473449.3,11637478418.3,11686240609.9],\"yaxis\":\"y\",\"type\":\"scatter\"},{\"hovertemplate\":\"\",\"legendgroup\":\"UKMOD\",\"line\":{\"color\":\"lightgrey\",\"dash\":\"solid\"},\"marker\":{\"symbol\":\"circle\"},\"mode\":\"lines\",\"name\":\"UKMOD\",\"orientation\":\"h\",\"showlegend\":true,\"x\":[2022,2023,2024,2025],\"xaxis\":\"x\",\"y\":[11963000000.0,12331000000.0,12547000000.0,12579000000.0],\"yaxis\":\"y\",\"type\":\"scatter\"}],                        {\"template\":{\"data\":{\"barpolar\":[{\"marker\":{\"line\":{\"color\":\"white\",\"width\":0.5},\"pattern\":{\"fillmode\":\"overlay\",\"size\":10,\"solidity\":0.2}},\"type\":\"barpolar\"}],\"bar\":[{\"error_x\":{\"color\":\"#2a3f5f\"},\"error_y\":{\"color\":\"#2a3f5f\"},\"marker\":{\"line\":{\"color\":\"white\",\"width\":0.5},\"pattern\":{\"fillmode\":\"overlay\",\"size\":10,\"solidity\":0.2}},\"type\":\"bar\"}],\"carpet\":[{\"aaxis\":{\"endlinecolor\":\"#2a3f5f\",\"gridcolor\":\"#C8D4E3\",\"linecolor\":\"#C8D4E3\",\"minorgridcolor\":\"#C8D4E3\",\"startlinecolor\":\"#2a3f5f\"},\"baxis\":{\"endlinecolor\":\"#2a3f5f\",\"gridcolor\":\"#C8D4E3\",\"linecolor\":\"#C8D4E3\",\"minorgridcolor\":\"#C8D4E3\",\"startlinecolor\":\"#2a3f5f\"},\"type\":\"carpet\"}],\"choropleth\":[{\"colorbar\":{\"outlinewidth\":0,\"ticks\":\"\"},\"type\":\"choropleth\"}],\"contourcarpet\":[{\"colorbar\":{\"outlinewidth\":0,\"ticks\":\"\"},\"type\":\"contourcarpet\"}],\"contour\":[{\"colorbar\":{\"outlinewidth\":0,\"ticks\":\"\"},\"colorscale\":[[0.0,\"#0d0887\"],[0.1111111111111111,\"#46039f\"],[0.2222222222222222,\"#7201a8\"],[0.3333333333333333,\"#9c179e\"],[0.4444444444444444,\"#bd3786\"],[0.5555555555555556,\"#d8576b\"],[0.6666666666666666,\"#ed7953\"],[0.7777777777777778,\"#fb9f3a\"],[0.8888888888888888,\"#fdca26\"],[1.0,\"#f0f921\"]],\"type\":\"contour\"}],\"heatmapgl\":[{\"colorbar\":{\"outlinewidth\":0,\"ticks\":\"\"},\"colorscale\":[[0.0,\"#0d0887\"],[0.1111111111111111,\"#46039f\"],[0.2222222222222222,\"#7201a8\"],[0.3333333333333333,\"#9c179e\"],[0.4444444444444444,\"#bd3786\"],[0.5555555555555556,\"#d8576b\"],[0.6666666666666666,\"#ed7953\"],[0.7777777777777778,\"#fb9f3a\"],[0.8888888888888888,\"#fdca26\"],[1.0,\"#f0f921\"]],\"type\":\"heatmapgl\"}],\"heatmap\":[{\"colorbar\":{\"outlinewidth\":0,\"ticks\":\"\"},\"colorscale\":[[0.0,\"#0d0887\"],[0.1111111111111111,\"#46039f\"],[0.2222222222222222,\"#7201a8\"],[0.3333333333333333,\"#9c179e\"],[0.4444444444444444,\"#bd3786\"],[0.5555555555555556,\"#d8576b\"],[0.6666666666666666,\"#ed7953\"],[0.7777777777777778,\"#fb9f3a\"],[0.8888888888888888,\"#fdca26\"],[1.0,\"#f0f921\"]],\"type\":\"heatmap\"}],\"histogram2dcontour\":[{\"colorbar\":{\"outlinewidth\":0,\"ticks\":\"\"},\"colorscale\":[[0.0,\"#0d0887\"],[0.1111111111111111,\"#46039f\"],[0.2222222222222222,\"#7201a8\"],[0.3333333333333333,\"#9c179e\"],[0.4444444444444444,\"#bd3786\"],[0.5555555555555556,\"#d8576b\"],[0.6666666666666666,\"#ed7953\"],[0.7777777777777778,\"#fb9f3a\"],[0.8888888888888888,\"#fdca26\"],[1.0,\"#f0f921\"]],\"type\":\"histogram2dcontour\"}],\"histogram2d\":[{\"colorbar\":{\"outlinewidth\":0,\"ticks\":\"\"},\"colorscale\":[[0.0,\"#0d0887\"],[0.1111111111111111,\"#46039f\"],[0.2222222222222222,\"#7201a8\"],[0.3333333333333333,\"#9c179e\"],[0.4444444444444444,\"#bd3786\"],[0.5555555555555556,\"#d8576b\"],[0.6666666666666666,\"#ed7953\"],[0.7777777777777778,\"#fb9f3a\"],[0.8888888888888888,\"#fdca26\"],[1.0,\"#f0f921\"]],\"type\":\"histogram2d\"}],\"histogram\":[{\"marker\":{\"pattern\":{\"fillmode\":\"overlay\",\"size\":10,\"solidity\":0.2}},\"type\":\"histogram\"}],\"mesh3d\":[{\"colorbar\":{\"outlinewidth\":0,\"ticks\":\"\"},\"type\":\"mesh3d\"}],\"parcoords\":[{\"line\":{\"colorbar\":{\"outlinewidth\":0,\"ticks\":\"\"}},\"type\":\"parcoords\"}],\"pie\":[{\"automargin\":true,\"type\":\"pie\"}],\"scatter3d\":[{\"line\":{\"colorbar\":{\"outlinewidth\":0,\"ticks\":\"\"}},\"marker\":{\"colorbar\":{\"outlinewidth\":0,\"ticks\":\"\"}},\"type\":\"scatter3d\"}],\"scattercarpet\":[{\"marker\":{\"colorbar\":{\"outlinewidth\":0,\"ticks\":\"\"}},\"type\":\"scattercarpet\"}],\"scattergeo\":[{\"marker\":{\"colorbar\":{\"outlinewidth\":0,\"ticks\":\"\"}},\"type\":\"scattergeo\"}],\"scattergl\":[{\"marker\":{\"colorbar\":{\"outlinewidth\":0,\"ticks\":\"\"}},\"type\":\"scattergl\"}],\"scattermapbox\":[{\"marker\":{\"colorbar\":{\"outlinewidth\":0,\"ticks\":\"\"}},\"type\":\"scattermapbox\"}],\"scatterpolargl\":[{\"marker\":{\"colorbar\":{\"outlinewidth\":0,\"ticks\":\"\"}},\"type\":\"scatterpolargl\"}],\"scatterpolar\":[{\"marker\":{\"colorbar\":{\"outlinewidth\":0,\"ticks\":\"\"}},\"type\":\"scatterpolar\"}],\"scatter\":[{\"marker\":{\"colorbar\":{\"outlinewidth\":0,\"ticks\":\"\"}},\"type\":\"scatter\"}],\"scatterternary\":[{\"marker\":{\"colorbar\":{\"outlinewidth\":0,\"ticks\":\"\"}},\"type\":\"scatterternary\"}],\"surface\":[{\"colorbar\":{\"outlinewidth\":0,\"ticks\":\"\"},\"colorscale\":[[0.0,\"#0d0887\"],[0.1111111111111111,\"#46039f\"],[0.2222222222222222,\"#7201a8\"],[0.3333333333333333,\"#9c179e\"],[0.4444444444444444,\"#bd3786\"],[0.5555555555555556,\"#d8576b\"],[0.6666666666666666,\"#ed7953\"],[0.7777777777777778,\"#fb9f3a\"],[0.8888888888888888,\"#fdca26\"],[1.0,\"#f0f921\"]],\"type\":\"surface\"}],\"table\":[{\"cells\":{\"fill\":{\"color\":\"#EBF0F8\"},\"line\":{\"color\":\"white\"}},\"header\":{\"fill\":{\"color\":\"#C8D4E3\"},\"line\":{\"color\":\"white\"}},\"type\":\"table\"}]},\"layout\":{\"annotationdefaults\":{\"arrowcolor\":\"#2a3f5f\",\"arrowhead\":0,\"arrowwidth\":1},\"autotypenumbers\":\"strict\",\"coloraxis\":{\"colorbar\":{\"outlinewidth\":0,\"ticks\":\"\"}},\"colorscale\":{\"diverging\":[[0,\"#8e0152\"],[0.1,\"#c51b7d\"],[0.2,\"#de77ae\"],[0.3,\"#f1b6da\"],[0.4,\"#fde0ef\"],[0.5,\"#f7f7f7\"],[0.6,\"#e6f5d0\"],[0.7,\"#b8e186\"],[0.8,\"#7fbc41\"],[0.9,\"#4d9221\"],[1,\"#276419\"]],\"sequential\":[[0.0,\"#0d0887\"],[0.1111111111111111,\"#46039f\"],[0.2222222222222222,\"#7201a8\"],[0.3333333333333333,\"#9c179e\"],[0.4444444444444444,\"#bd3786\"],[0.5555555555555556,\"#d8576b\"],[0.6666666666666666,\"#ed7953\"],[0.7777777777777778,\"#fb9f3a\"],[0.8888888888888888,\"#fdca26\"],[1.0,\"#f0f921\"]],\"sequentialminus\":[[0.0,\"#0d0887\"],[0.1111111111111111,\"#46039f\"],[0.2222222222222222,\"#7201a8\"],[0.3333333333333333,\"#9c179e\"],[0.4444444444444444,\"#bd3786\"],[0.5555555555555556,\"#d8576b\"],[0.6666666666666666,\"#ed7953\"],[0.7777777777777778,\"#fb9f3a\"],[0.8888888888888888,\"#fdca26\"],[1.0,\"#f0f921\"]]},\"colorway\":[\"#636efa\",\"#EF553B\",\"#00cc96\",\"#ab63fa\",\"#FFA15A\",\"#19d3f3\",\"#FF6692\",\"#B6E880\",\"#FF97FF\",\"#FECB52\"],\"font\":{\"color\":\"#2a3f5f\"},\"geo\":{\"bgcolor\":\"white\",\"lakecolor\":\"white\",\"landcolor\":\"white\",\"showlakes\":true,\"showland\":true,\"subunitcolor\":\"#C8D4E3\"},\"hoverlabel\":{\"align\":\"left\"},\"hovermode\":\"closest\",\"mapbox\":{\"style\":\"light\"},\"paper_bgcolor\":\"white\",\"plot_bgcolor\":\"white\",\"polar\":{\"angularaxis\":{\"gridcolor\":\"#EBF0F8\",\"linecolor\":\"#EBF0F8\",\"ticks\":\"\"},\"bgcolor\":\"white\",\"radialaxis\":{\"gridcolor\":\"#EBF0F8\",\"linecolor\":\"#EBF0F8\",\"ticks\":\"\"}},\"scene\":{\"xaxis\":{\"backgroundcolor\":\"white\",\"gridcolor\":\"#DFE8F3\",\"gridwidth\":2,\"linecolor\":\"#EBF0F8\",\"showbackground\":true,\"ticks\":\"\",\"zerolinecolor\":\"#EBF0F8\"},\"yaxis\":{\"backgroundcolor\":\"white\",\"gridcolor\":\"#DFE8F3\",\"gridwidth\":2,\"linecolor\":\"#EBF0F8\",\"showbackground\":true,\"ticks\":\"\",\"zerolinecolor\":\"#EBF0F8\"},\"zaxis\":{\"backgroundcolor\":\"white\",\"gridcolor\":\"#DFE8F3\",\"gridwidth\":2,\"linecolor\":\"#EBF0F8\",\"showbackground\":true,\"ticks\":\"\",\"zerolinecolor\":\"#EBF0F8\"}},\"shapedefaults\":{\"line\":{\"color\":\"#2a3f5f\"}},\"ternary\":{\"aaxis\":{\"gridcolor\":\"#DFE8F3\",\"linecolor\":\"#A2B1C6\",\"ticks\":\"\"},\"baxis\":{\"gridcolor\":\"#DFE8F3\",\"linecolor\":\"#A2B1C6\",\"ticks\":\"\"},\"bgcolor\":\"white\",\"caxis\":{\"gridcolor\":\"#DFE8F3\",\"linecolor\":\"#A2B1C6\",\"ticks\":\"\"}},\"title\":{\"x\":0.05},\"xaxis\":{\"automargin\":true,\"gridcolor\":\"#EBF0F8\",\"linecolor\":\"#EBF0F8\",\"ticks\":\"\",\"title\":{\"standoff\":15},\"zerolinecolor\":\"#EBF0F8\",\"zerolinewidth\":2},\"yaxis\":{\"automargin\":true,\"gridcolor\":\"#EBF0F8\",\"linecolor\":\"#EBF0F8\",\"ticks\":\"\",\"title\":{\"standoff\":15},\"zerolinecolor\":\"#EBF0F8\",\"zerolinewidth\":2}}},\"xaxis\":{\"anchor\":\"y\",\"domain\":[0.0,1.0],\"title\":{\"text\":\"Year\"},\"tickvals\":[2022,2023,2024,2025]},\"yaxis\":{\"anchor\":\"x\",\"domain\":[0.0,1.0],\"title\":{\"text\":\"\"},\"tickprefix\":\"\\u00a3\",\"range\":[0,20000000000.0]},\"legend\":{\"title\":{\"text\":\"Model\"},\"tracegroupgap\":0,\"traceorder\":\"reversed\"},\"margin\":{\"t\":60},\"updatemenus\":[{\"buttons\":[{\"args\":[null,{\"frame\":{\"duration\":500,\"redraw\":false},\"mode\":\"immediate\",\"fromcurrent\":true,\"transition\":{\"duration\":500,\"easing\":\"linear\"}}],\"label\":\"&#9654;\",\"method\":\"animate\"},{\"args\":[[null],{\"frame\":{\"duration\":0,\"redraw\":false},\"mode\":\"immediate\",\"fromcurrent\":true,\"transition\":{\"duration\":0,\"easing\":\"linear\"}}],\"label\":\"&#9724;\",\"method\":\"animate\"}],\"direction\":\"left\",\"pad\":{\"r\":10,\"t\":70},\"showactive\":false,\"type\":\"buttons\",\"x\":0.1,\"xanchor\":\"right\",\"y\":0,\"yanchor\":\"top\"}],\"sliders\":[{\"active\":0,\"currentvalue\":{\"prefix\":\"Program=\"},\"len\":0.9,\"pad\":{\"b\":10,\"t\":60},\"steps\":[{\"args\":[[\"Child Benefit\"],{\"frame\":{\"duration\":0,\"redraw\":false},\"mode\":\"immediate\",\"fromcurrent\":true,\"transition\":{\"duration\":0,\"easing\":\"linear\"}}],\"label\":\"Child Benefit\",\"method\":\"animate\"},{\"args\":[[\"Child Tax Credit\"],{\"frame\":{\"duration\":0,\"redraw\":false},\"mode\":\"immediate\",\"fromcurrent\":true,\"transition\":{\"duration\":0,\"easing\":\"linear\"}}],\"label\":\"Child Tax Credit\",\"method\":\"animate\"},{\"args\":[[\"Employment income\"],{\"frame\":{\"duration\":0,\"redraw\":false},\"mode\":\"immediate\",\"fromcurrent\":true,\"transition\":{\"duration\":0,\"easing\":\"linear\"}}],\"label\":\"Employment income\",\"method\":\"animate\"},{\"args\":[[\"Housing Benefit\"],{\"frame\":{\"duration\":0,\"redraw\":false},\"mode\":\"immediate\",\"fromcurrent\":true,\"transition\":{\"duration\":0,\"easing\":\"linear\"}}],\"label\":\"Housing Benefit\",\"method\":\"animate\"},{\"args\":[[\"Income Support\"],{\"frame\":{\"duration\":0,\"redraw\":false},\"mode\":\"immediate\",\"fromcurrent\":true,\"transition\":{\"duration\":0,\"easing\":\"linear\"}}],\"label\":\"Income Support\",\"method\":\"animate\"},{\"args\":[[\"Income Tax\"],{\"frame\":{\"duration\":0,\"redraw\":false},\"mode\":\"immediate\",\"fromcurrent\":true,\"transition\":{\"duration\":0,\"easing\":\"linear\"}}],\"label\":\"Income Tax\",\"method\":\"animate\"},{\"args\":[[\"Income from dividends\"],{\"frame\":{\"duration\":0,\"redraw\":false},\"mode\":\"immediate\",\"fromcurrent\":true,\"transition\":{\"duration\":0,\"easing\":\"linear\"}}],\"label\":\"Income from dividends\",\"method\":\"animate\"},{\"args\":[[\"JSA (income-based)\"],{\"frame\":{\"duration\":0,\"redraw\":false},\"mode\":\"immediate\",\"fromcurrent\":true,\"transition\":{\"duration\":0,\"easing\":\"linear\"}}],\"label\":\"JSA (income-based)\",\"method\":\"animate\"},{\"args\":[[\"National Insurance (total)\"],{\"frame\":{\"duration\":0,\"redraw\":false},\"mode\":\"immediate\",\"fromcurrent\":true,\"transition\":{\"duration\":0,\"easing\":\"linear\"}}],\"label\":\"National Insurance (total)\",\"method\":\"animate\"},{\"args\":[[\"Pension Credit\"],{\"frame\":{\"duration\":0,\"redraw\":false},\"mode\":\"immediate\",\"fromcurrent\":true,\"transition\":{\"duration\":0,\"easing\":\"linear\"}}],\"label\":\"Pension Credit\",\"method\":\"animate\"},{\"args\":[[\"Pension income\"],{\"frame\":{\"duration\":0,\"redraw\":false},\"mode\":\"immediate\",\"fromcurrent\":true,\"transition\":{\"duration\":0,\"easing\":\"linear\"}}],\"label\":\"Pension income\",\"method\":\"animate\"},{\"args\":[[\"Rental income\"],{\"frame\":{\"duration\":0,\"redraw\":false},\"mode\":\"immediate\",\"fromcurrent\":true,\"transition\":{\"duration\":0,\"easing\":\"linear\"}}],\"label\":\"Rental income\",\"method\":\"animate\"},{\"args\":[[\"Savings interest income\"],{\"frame\":{\"duration\":0,\"redraw\":false},\"mode\":\"immediate\",\"fromcurrent\":true,\"transition\":{\"duration\":0,\"easing\":\"linear\"}}],\"label\":\"Savings interest income\",\"method\":\"animate\"},{\"args\":[[\"Self-employment income\"],{\"frame\":{\"duration\":0,\"redraw\":false},\"mode\":\"immediate\",\"fromcurrent\":true,\"transition\":{\"duration\":0,\"easing\":\"linear\"}}],\"label\":\"Self-employment income\",\"method\":\"animate\"},{\"args\":[[\"Universal Credit\"],{\"frame\":{\"duration\":0,\"redraw\":false},\"mode\":\"immediate\",\"fromcurrent\":true,\"transition\":{\"duration\":0,\"easing\":\"linear\"}}],\"label\":\"Universal Credit\",\"method\":\"animate\"},{\"args\":[[\"Working Tax Credit\"],{\"frame\":{\"duration\":0,\"redraw\":false},\"mode\":\"immediate\",\"fromcurrent\":true,\"transition\":{\"duration\":0,\"easing\":\"linear\"}}],\"label\":\"Working Tax Credit\",\"method\":\"animate\"}],\"x\":0.1,\"xanchor\":\"left\",\"y\":0,\"yanchor\":\"top\"}],\"width\":800,\"height\":600,\"title\":{\"text\":\"Budgetary impact forecasts\"}},                        {\"responsive\": true}                    ).then(function(){\n",
       "                            Plotly.addFrames('808e86ce-8e57-4c30-a51f-c0f74d5abdb5', [{\"data\":[{\"hovertemplate\":\"\",\"legendgroup\":\"External\",\"line\":{\"color\":\"#00cc96\",\"dash\":\"solid\"},\"marker\":{\"symbol\":\"circle\"},\"mode\":\"lines\",\"name\":\"External\",\"orientation\":\"h\",\"showlegend\":true,\"x\":[2022,2023,2024,2025],\"xaxis\":\"x\",\"y\":[11213000000.0,11546000000.0,11626000000.0,11627000000.0],\"yaxis\":\"y\",\"type\":\"scatter\"},{\"hovertemplate\":\"\",\"legendgroup\":\"OpenFisca-UK\",\"line\":{\"color\":\"blue\",\"dash\":\"solid\"},\"marker\":{\"symbol\":\"circle\"},\"mode\":\"lines\",\"name\":\"OpenFisca-UK\",\"orientation\":\"h\",\"showlegend\":true,\"x\":[2022,2023,2024,2025],\"xaxis\":\"x\",\"y\":[11392790014.1,11617473449.3,11637478418.3,11686240609.9],\"yaxis\":\"y\",\"type\":\"scatter\"},{\"hovertemplate\":\"\",\"legendgroup\":\"UKMOD\",\"line\":{\"color\":\"lightgrey\",\"dash\":\"solid\"},\"marker\":{\"symbol\":\"circle\"},\"mode\":\"lines\",\"name\":\"UKMOD\",\"orientation\":\"h\",\"showlegend\":true,\"x\":[2022,2023,2024,2025],\"xaxis\":\"x\",\"y\":[11963000000.0,12331000000.0,12547000000.0,12579000000.0],\"yaxis\":\"y\",\"type\":\"scatter\"}],\"name\":\"Child Benefit\"},{\"data\":[{\"hovertemplate\":\"\",\"legendgroup\":\"External\",\"line\":{\"color\":\"#00cc96\",\"dash\":\"solid\"},\"marker\":{\"symbol\":\"circle\"},\"mode\":\"lines\",\"name\":\"External\",\"orientation\":\"h\",\"showlegend\":true,\"x\":[2022,2023,2024,2025],\"xaxis\":\"x\",\"y\":[13875000000.0,13875000000.0,13875000000.0,13875000000.0],\"yaxis\":\"y\",\"type\":\"scatter\"},{\"hovertemplate\":\"\",\"legendgroup\":\"OpenFisca-UK\",\"line\":{\"color\":\"blue\",\"dash\":\"solid\"},\"marker\":{\"symbol\":\"circle\"},\"mode\":\"lines\",\"name\":\"OpenFisca-UK\",\"orientation\":\"h\",\"showlegend\":true,\"x\":[2022,2023,2024,2025],\"xaxis\":\"x\",\"y\":[6142658498.0,4608071391.6,3010416752.8,1323722953.2],\"yaxis\":\"y\",\"type\":\"scatter\"},{\"hovertemplate\":\"\",\"legendgroup\":\"UKMOD\",\"line\":{\"color\":\"lightgrey\",\"dash\":\"solid\"},\"marker\":{\"symbol\":\"circle\"},\"mode\":\"lines\",\"name\":\"UKMOD\",\"orientation\":\"h\",\"showlegend\":true,\"x\":[2022,2023,2024,2025],\"xaxis\":\"x\",\"y\":[5382000000.0,4546000000.0,3287000000.0,1461000000.0],\"yaxis\":\"y\",\"type\":\"scatter\"}],\"name\":\"Child Tax Credit\"},{\"data\":[{\"hovertemplate\":\"\",\"legendgroup\":\"External\",\"line\":{\"color\":\"#00cc96\",\"dash\":\"solid\"},\"marker\":{\"symbol\":\"circle\"},\"mode\":\"lines\",\"name\":\"External\",\"orientation\":\"h\",\"showlegend\":true,\"x\":[2022,2023,2024,2025],\"xaxis\":\"x\",\"y\":[814000000000.0,814000000000.0,814000000000.0,814000000000.0],\"yaxis\":\"y\",\"type\":\"scatter\"},{\"hovertemplate\":\"\",\"legendgroup\":\"OpenFisca-UK\",\"line\":{\"color\":\"blue\",\"dash\":\"solid\"},\"marker\":{\"symbol\":\"circle\"},\"mode\":\"lines\",\"name\":\"OpenFisca-UK\",\"orientation\":\"h\",\"showlegend\":true,\"x\":[2022,2023,2024,2025],\"xaxis\":\"x\",\"y\":[866704576568.4,896222386598.5,925221901474.2,958581487359.0],\"yaxis\":\"y\",\"type\":\"scatter\"},{\"hovertemplate\":\"\",\"legendgroup\":\"UKMOD\",\"line\":{\"color\":\"lightgrey\",\"dash\":\"solid\"},\"marker\":{\"symbol\":\"circle\"},\"mode\":\"lines\",\"name\":\"UKMOD\",\"orientation\":\"h\",\"showlegend\":true,\"x\":[2022,2023,2024,2025],\"xaxis\":\"x\",\"y\":[\"\",\"\",\"\",\"\"],\"yaxis\":\"y\",\"type\":\"scatter\"}],\"name\":\"Employment income\"},{\"data\":[{\"hovertemplate\":\"\",\"legendgroup\":\"External\",\"line\":{\"color\":\"#00cc96\",\"dash\":\"solid\"},\"marker\":{\"symbol\":\"circle\"},\"mode\":\"lines\",\"name\":\"External\",\"orientation\":\"h\",\"showlegend\":true,\"x\":[2022,2023,2024,2025],\"xaxis\":\"x\",\"y\":[15894000000.0,14728000000.0,12503000000.0,10213000000.0],\"yaxis\":\"y\",\"type\":\"scatter\"},{\"hovertemplate\":\"\",\"legendgroup\":\"OpenFisca-UK\",\"line\":{\"color\":\"blue\",\"dash\":\"solid\"},\"marker\":{\"symbol\":\"circle\"},\"mode\":\"lines\",\"name\":\"OpenFisca-UK\",\"orientation\":\"h\",\"showlegend\":true,\"x\":[2022,2023,2024,2025],\"xaxis\":\"x\",\"y\":[15864243414.8,14550894583.4,12552287943.8,10387076886.4],\"yaxis\":\"y\",\"type\":\"scatter\"},{\"hovertemplate\":\"\",\"legendgroup\":\"UKMOD\",\"line\":{\"color\":\"lightgrey\",\"dash\":\"solid\"},\"marker\":{\"symbol\":\"circle\"},\"mode\":\"lines\",\"name\":\"UKMOD\",\"orientation\":\"h\",\"showlegend\":true,\"x\":[2022,2023,2024,2025],\"xaxis\":\"x\",\"y\":[10332000000.0,9622000000.0,8476000000.0,6706000000.0],\"yaxis\":\"y\",\"type\":\"scatter\"}],\"name\":\"Housing Benefit\"},{\"data\":[{\"hovertemplate\":\"\",\"legendgroup\":\"External\",\"line\":{\"color\":\"#00cc96\",\"dash\":\"solid\"},\"marker\":{\"symbol\":\"circle\"},\"mode\":\"lines\",\"name\":\"External\",\"orientation\":\"h\",\"showlegend\":true,\"x\":[2022,2023,2024,2025],\"xaxis\":\"x\",\"y\":[670000000.0,491000000.0,471000000.0,432000000.0],\"yaxis\":\"y\",\"type\":\"scatter\"},{\"hovertemplate\":\"\",\"legendgroup\":\"OpenFisca-UK\",\"line\":{\"color\":\"blue\",\"dash\":\"solid\"},\"marker\":{\"symbol\":\"circle\"},\"mode\":\"lines\",\"name\":\"OpenFisca-UK\",\"orientation\":\"h\",\"showlegend\":true,\"x\":[2022,2023,2024,2025],\"xaxis\":\"x\",\"y\":[749349094.9,541532097.5,500407332.3,324129543.6],\"yaxis\":\"y\",\"type\":\"scatter\"},{\"hovertemplate\":\"\",\"legendgroup\":\"UKMOD\",\"line\":{\"color\":\"lightgrey\",\"dash\":\"solid\"},\"marker\":{\"symbol\":\"circle\"},\"mode\":\"lines\",\"name\":\"UKMOD\",\"orientation\":\"h\",\"showlegend\":true,\"x\":[2022,2023,2024,2025],\"xaxis\":\"x\",\"y\":[\"\",\"\",\"\",\"\"],\"yaxis\":\"y\",\"type\":\"scatter\"}],\"name\":\"Income Support\"},{\"data\":[{\"hovertemplate\":\"\",\"legendgroup\":\"External\",\"line\":{\"color\":\"#00cc96\",\"dash\":\"solid\"},\"marker\":{\"symbol\":\"circle\"},\"mode\":\"lines\",\"name\":\"External\",\"orientation\":\"h\",\"showlegend\":true,\"x\":[2022,2023,2024,2025],\"xaxis\":\"x\",\"y\":[205000000000.0,215000000000.0,225700000000.0,237500000000.0],\"yaxis\":\"y\",\"type\":\"scatter\"},{\"hovertemplate\":\"\",\"legendgroup\":\"OpenFisca-UK\",\"line\":{\"color\":\"blue\",\"dash\":\"solid\"},\"marker\":{\"symbol\":\"circle\"},\"mode\":\"lines\",\"name\":\"OpenFisca-UK\",\"orientation\":\"h\",\"showlegend\":true,\"x\":[2022,2023,2024,2025],\"xaxis\":\"x\",\"y\":[199409624769.7,209619785523.2,220331600705.6,226826624339.2],\"yaxis\":\"y\",\"type\":\"scatter\"},{\"hovertemplate\":\"\",\"legendgroup\":\"UKMOD\",\"line\":{\"color\":\"lightgrey\",\"dash\":\"solid\"},\"marker\":{\"symbol\":\"circle\"},\"mode\":\"lines\",\"name\":\"UKMOD\",\"orientation\":\"h\",\"showlegend\":true,\"x\":[2022,2023,2024,2025],\"xaxis\":\"x\",\"y\":[161197000000.0,170626000000.0,178488000000.0,187865000000.0],\"yaxis\":\"y\",\"type\":\"scatter\"}],\"name\":\"Income Tax\"},{\"data\":[{\"hovertemplate\":\"\",\"legendgroup\":\"External\",\"line\":{\"color\":\"#00cc96\",\"dash\":\"solid\"},\"marker\":{\"symbol\":\"circle\"},\"mode\":\"lines\",\"name\":\"External\",\"orientation\":\"h\",\"showlegend\":true,\"x\":[2022,2023,2024,2025],\"xaxis\":\"x\",\"y\":[65200000000.0,65200000000.0,65200000000.0,65200000000.0],\"yaxis\":\"y\",\"type\":\"scatter\"},{\"hovertemplate\":\"\",\"legendgroup\":\"OpenFisca-UK\",\"line\":{\"color\":\"blue\",\"dash\":\"solid\"},\"marker\":{\"symbol\":\"circle\"},\"mode\":\"lines\",\"name\":\"OpenFisca-UK\",\"orientation\":\"h\",\"showlegend\":true,\"x\":[2022,2023,2024,2025],\"xaxis\":\"x\",\"y\":[66994891671.1,68124118527.3,70358857444.2,72685324409.6],\"yaxis\":\"y\",\"type\":\"scatter\"},{\"hovertemplate\":\"\",\"legendgroup\":\"UKMOD\",\"line\":{\"color\":\"lightgrey\",\"dash\":\"solid\"},\"marker\":{\"symbol\":\"circle\"},\"mode\":\"lines\",\"name\":\"UKMOD\",\"orientation\":\"h\",\"showlegend\":true,\"x\":[2022,2023,2024,2025],\"xaxis\":\"x\",\"y\":[\"\",\"\",\"\",\"\"],\"yaxis\":\"y\",\"type\":\"scatter\"}],\"name\":\"Income from dividends\"},{\"data\":[{\"hovertemplate\":\"\",\"legendgroup\":\"External\",\"line\":{\"color\":\"#00cc96\",\"dash\":\"solid\"},\"marker\":{\"symbol\":\"circle\"},\"mode\":\"lines\",\"name\":\"External\",\"orientation\":\"h\",\"showlegend\":true,\"x\":[2022,2023,2024,2025],\"xaxis\":\"x\",\"y\":[196000000.0,21000.0,0.0,0.0],\"yaxis\":\"y\",\"type\":\"scatter\"},{\"hovertemplate\":\"\",\"legendgroup\":\"OpenFisca-UK\",\"line\":{\"color\":\"blue\",\"dash\":\"solid\"},\"marker\":{\"symbol\":\"circle\"},\"mode\":\"lines\",\"name\":\"OpenFisca-UK\",\"orientation\":\"h\",\"showlegend\":true,\"x\":[2022,2023,2024,2025],\"xaxis\":\"x\",\"y\":[221067799.1,29906425.3,17103022.1,12170888.3],\"yaxis\":\"y\",\"type\":\"scatter\"},{\"hovertemplate\":\"\",\"legendgroup\":\"UKMOD\",\"line\":{\"color\":\"lightgrey\",\"dash\":\"solid\"},\"marker\":{\"symbol\":\"circle\"},\"mode\":\"lines\",\"name\":\"UKMOD\",\"orientation\":\"h\",\"showlegend\":true,\"x\":[2022,2023,2024,2025],\"xaxis\":\"x\",\"y\":[\"\",\"\",\"\",\"\"],\"yaxis\":\"y\",\"type\":\"scatter\"}],\"name\":\"JSA (income-based)\"},{\"data\":[{\"hovertemplate\":\"\",\"legendgroup\":\"External\",\"line\":{\"color\":\"#00cc96\",\"dash\":\"solid\"},\"marker\":{\"symbol\":\"circle\"},\"mode\":\"lines\",\"name\":\"External\",\"orientation\":\"h\",\"showlegend\":true,\"x\":[2022,2023,2024,2025],\"xaxis\":\"x\",\"y\":[151300000000.0,157500000000.0,164600000000.0,172100000000.0],\"yaxis\":\"y\",\"type\":\"scatter\"},{\"hovertemplate\":\"\",\"legendgroup\":\"OpenFisca-UK\",\"line\":{\"color\":\"blue\",\"dash\":\"solid\"},\"marker\":{\"symbol\":\"circle\"},\"mode\":\"lines\",\"name\":\"OpenFisca-UK\",\"orientation\":\"h\",\"showlegend\":true,\"x\":[2022,2023,2024,2025],\"xaxis\":\"x\",\"y\":[150208889508.6,155755696761.6,162735330825.6,170495746368.8],\"yaxis\":\"y\",\"type\":\"scatter\"},{\"hovertemplate\":\"\",\"legendgroup\":\"UKMOD\",\"line\":{\"color\":\"lightgrey\",\"dash\":\"solid\"},\"marker\":{\"symbol\":\"circle\"},\"mode\":\"lines\",\"name\":\"UKMOD\",\"orientation\":\"h\",\"showlegend\":true,\"x\":[2022,2023,2024,2025],\"xaxis\":\"x\",\"y\":[156016000000.0,145114000000.0,147890000000.0,151875000000.0],\"yaxis\":\"y\",\"type\":\"scatter\"}],\"name\":\"National Insurance (total)\"},{\"data\":[{\"hovertemplate\":\"\",\"legendgroup\":\"External\",\"line\":{\"color\":\"#00cc96\",\"dash\":\"solid\"},\"marker\":{\"symbol\":\"circle\"},\"mode\":\"lines\",\"name\":\"External\",\"orientation\":\"h\",\"showlegend\":true,\"x\":[2022,2023,2024,2025],\"xaxis\":\"x\",\"y\":[4466000000.0,4447000000.0,4379000000.0,4223000000.0],\"yaxis\":\"y\",\"type\":\"scatter\"},{\"hovertemplate\":\"\",\"legendgroup\":\"OpenFisca-UK\",\"line\":{\"color\":\"blue\",\"dash\":\"solid\"},\"marker\":{\"symbol\":\"circle\"},\"mode\":\"lines\",\"name\":\"OpenFisca-UK\",\"orientation\":\"h\",\"showlegend\":true,\"x\":[2022,2023,2024,2025],\"xaxis\":\"x\",\"y\":[4940361682.6,4803205365.4,4629655892.9,4452626115.6],\"yaxis\":\"y\",\"type\":\"scatter\"},{\"hovertemplate\":\"\",\"legendgroup\":\"UKMOD\",\"line\":{\"color\":\"lightgrey\",\"dash\":\"solid\"},\"marker\":{\"symbol\":\"circle\"},\"mode\":\"lines\",\"name\":\"UKMOD\",\"orientation\":\"h\",\"showlegend\":true,\"x\":[2022,2023,2024,2025],\"xaxis\":\"x\",\"y\":[4153000000.0,4410000000.0,4491000000.0,4466000000.0],\"yaxis\":\"y\",\"type\":\"scatter\"}],\"name\":\"Pension Credit\"},{\"data\":[{\"hovertemplate\":\"\",\"legendgroup\":\"External\",\"line\":{\"color\":\"#00cc96\",\"dash\":\"solid\"},\"marker\":{\"symbol\":\"circle\"},\"mode\":\"lines\",\"name\":\"External\",\"orientation\":\"h\",\"showlegend\":true,\"x\":[2022,2023,2024,2025],\"xaxis\":\"x\",\"y\":[\"\",\"\",\"\",\"\"],\"yaxis\":\"y\",\"type\":\"scatter\"},{\"hovertemplate\":\"\",\"legendgroup\":\"OpenFisca-UK\",\"line\":{\"color\":\"blue\",\"dash\":\"solid\"},\"marker\":{\"symbol\":\"circle\"},\"mode\":\"lines\",\"name\":\"OpenFisca-UK\",\"orientation\":\"h\",\"showlegend\":true,\"x\":[2022,2023,2024,2025],\"xaxis\":\"x\",\"y\":[114668571386.9,117960968027.3,121647597909.6,125295621427.0],\"yaxis\":\"y\",\"type\":\"scatter\"},{\"hovertemplate\":\"\",\"legendgroup\":\"UKMOD\",\"line\":{\"color\":\"lightgrey\",\"dash\":\"solid\"},\"marker\":{\"symbol\":\"circle\"},\"mode\":\"lines\",\"name\":\"UKMOD\",\"orientation\":\"h\",\"showlegend\":true,\"x\":[2022,2023,2024,2025],\"xaxis\":\"x\",\"y\":[\"\",\"\",\"\",\"\"],\"yaxis\":\"y\",\"type\":\"scatter\"}],\"name\":\"Pension income\"},{\"data\":[{\"hovertemplate\":\"\",\"legendgroup\":\"External\",\"line\":{\"color\":\"#00cc96\",\"dash\":\"solid\"},\"marker\":{\"symbol\":\"circle\"},\"mode\":\"lines\",\"name\":\"External\",\"orientation\":\"h\",\"showlegend\":true,\"x\":[2022,2023,2024,2025],\"xaxis\":\"x\",\"y\":[23400000000.0,23400000000.0,23400000000.0,23400000000.0],\"yaxis\":\"y\",\"type\":\"scatter\"},{\"hovertemplate\":\"\",\"legendgroup\":\"OpenFisca-UK\",\"line\":{\"color\":\"blue\",\"dash\":\"solid\"},\"marker\":{\"symbol\":\"circle\"},\"mode\":\"lines\",\"name\":\"OpenFisca-UK\",\"orientation\":\"h\",\"showlegend\":true,\"x\":[2022,2023,2024,2025],\"xaxis\":\"x\",\"y\":[24502583555.7,25157652889.2,25937967982.3,26774757988.7],\"yaxis\":\"y\",\"type\":\"scatter\"},{\"hovertemplate\":\"\",\"legendgroup\":\"UKMOD\",\"line\":{\"color\":\"lightgrey\",\"dash\":\"solid\"},\"marker\":{\"symbol\":\"circle\"},\"mode\":\"lines\",\"name\":\"UKMOD\",\"orientation\":\"h\",\"showlegend\":true,\"x\":[2022,2023,2024,2025],\"xaxis\":\"x\",\"y\":[\"\",\"\",\"\",\"\"],\"yaxis\":\"y\",\"type\":\"scatter\"}],\"name\":\"Rental income\"},{\"data\":[{\"hovertemplate\":\"\",\"legendgroup\":\"External\",\"line\":{\"color\":\"#00cc96\",\"dash\":\"solid\"},\"marker\":{\"symbol\":\"circle\"},\"mode\":\"lines\",\"name\":\"External\",\"orientation\":\"h\",\"showlegend\":true,\"x\":[2022,2023,2024,2025],\"xaxis\":\"x\",\"y\":[4980000000.0,4980000000.0,4980000000.0,4980000000.0],\"yaxis\":\"y\",\"type\":\"scatter\"},{\"hovertemplate\":\"\",\"legendgroup\":\"OpenFisca-UK\",\"line\":{\"color\":\"blue\",\"dash\":\"solid\"},\"marker\":{\"symbol\":\"circle\"},\"mode\":\"lines\",\"name\":\"OpenFisca-UK\",\"orientation\":\"h\",\"showlegend\":true,\"x\":[2022,2023,2024,2025],\"xaxis\":\"x\",\"y\":[5220819975.5,5373102415.7,5540781740.1,5710217792.5],\"yaxis\":\"y\",\"type\":\"scatter\"},{\"hovertemplate\":\"\",\"legendgroup\":\"UKMOD\",\"line\":{\"color\":\"lightgrey\",\"dash\":\"solid\"},\"marker\":{\"symbol\":\"circle\"},\"mode\":\"lines\",\"name\":\"UKMOD\",\"orientation\":\"h\",\"showlegend\":true,\"x\":[2022,2023,2024,2025],\"xaxis\":\"x\",\"y\":[\"\",\"\",\"\",\"\"],\"yaxis\":\"y\",\"type\":\"scatter\"}],\"name\":\"Savings interest income\"},{\"data\":[{\"hovertemplate\":\"\",\"legendgroup\":\"External\",\"line\":{\"color\":\"#00cc96\",\"dash\":\"solid\"},\"marker\":{\"symbol\":\"circle\"},\"mode\":\"lines\",\"name\":\"External\",\"orientation\":\"h\",\"showlegend\":true,\"x\":[2022,2023,2024,2025],\"xaxis\":\"x\",\"y\":[87400000000.0,87400000000.0,87400000000.0,87400000000.0],\"yaxis\":\"y\",\"type\":\"scatter\"},{\"hovertemplate\":\"\",\"legendgroup\":\"OpenFisca-UK\",\"line\":{\"color\":\"blue\",\"dash\":\"solid\"},\"marker\":{\"symbol\":\"circle\"},\"mode\":\"lines\",\"name\":\"OpenFisca-UK\",\"orientation\":\"h\",\"showlegend\":true,\"x\":[2022,2023,2024,2025],\"xaxis\":\"x\",\"y\":[95159690698.4,97799809115.2,100871849543.0,104155279672.3],\"yaxis\":\"y\",\"type\":\"scatter\"},{\"hovertemplate\":\"\",\"legendgroup\":\"UKMOD\",\"line\":{\"color\":\"lightgrey\",\"dash\":\"solid\"},\"marker\":{\"symbol\":\"circle\"},\"mode\":\"lines\",\"name\":\"UKMOD\",\"orientation\":\"h\",\"showlegend\":true,\"x\":[2022,2023,2024,2025],\"xaxis\":\"x\",\"y\":[\"\",\"\",\"\",\"\"],\"yaxis\":\"y\",\"type\":\"scatter\"}],\"name\":\"Self-employment income\"},{\"data\":[{\"hovertemplate\":\"\",\"legendgroup\":\"External\",\"line\":{\"color\":\"#00cc96\",\"dash\":\"solid\"},\"marker\":{\"symbol\":\"circle\"},\"mode\":\"lines\",\"name\":\"External\",\"orientation\":\"h\",\"showlegend\":true,\"x\":[2022,2023,2024,2025],\"xaxis\":\"x\",\"y\":[43657000000.0,49751000000.0,57782000000.0,67959000000.0],\"yaxis\":\"y\",\"type\":\"scatter\"},{\"hovertemplate\":\"\",\"legendgroup\":\"OpenFisca-UK\",\"line\":{\"color\":\"blue\",\"dash\":\"solid\"},\"marker\":{\"symbol\":\"circle\"},\"mode\":\"lines\",\"name\":\"OpenFisca-UK\",\"orientation\":\"h\",\"showlegend\":true,\"x\":[2022,2023,2024,2025],\"xaxis\":\"x\",\"y\":[43190182731.2,48800439136.7,56295655281.9,64951010846.6],\"yaxis\":\"y\",\"type\":\"scatter\"},{\"hovertemplate\":\"\",\"legendgroup\":\"UKMOD\",\"line\":{\"color\":\"lightgrey\",\"dash\":\"solid\"},\"marker\":{\"symbol\":\"circle\"},\"mode\":\"lines\",\"name\":\"UKMOD\",\"orientation\":\"h\",\"showlegend\":true,\"x\":[2022,2023,2024,2025],\"xaxis\":\"x\",\"y\":[34073000000.0,39133000000.0,39133000000.0,45644000000.0],\"yaxis\":\"y\",\"type\":\"scatter\"}],\"name\":\"Universal Credit\"},{\"data\":[{\"hovertemplate\":\"\",\"legendgroup\":\"External\",\"line\":{\"color\":\"#00cc96\",\"dash\":\"solid\"},\"marker\":{\"symbol\":\"circle\"},\"mode\":\"lines\",\"name\":\"External\",\"orientation\":\"h\",\"showlegend\":true,\"x\":[2022,2023,2024,2025],\"xaxis\":\"x\",\"y\":[3825000000.0,3825000000.0,3825000000.0,3825000000.0],\"yaxis\":\"y\",\"type\":\"scatter\"},{\"hovertemplate\":\"\",\"legendgroup\":\"OpenFisca-UK\",\"line\":{\"color\":\"blue\",\"dash\":\"solid\"},\"marker\":{\"symbol\":\"circle\"},\"mode\":\"lines\",\"name\":\"OpenFisca-UK\",\"orientation\":\"h\",\"showlegend\":true,\"x\":[2022,2023,2024,2025],\"xaxis\":\"x\",\"y\":[1694677773.5,1269350227.4,833192515.2,381139555.2],\"yaxis\":\"y\",\"type\":\"scatter\"},{\"hovertemplate\":\"\",\"legendgroup\":\"UKMOD\",\"line\":{\"color\":\"lightgrey\",\"dash\":\"solid\"},\"marker\":{\"symbol\":\"circle\"},\"mode\":\"lines\",\"name\":\"UKMOD\",\"orientation\":\"h\",\"showlegend\":true,\"x\":[2022,2023,2024,2025],\"xaxis\":\"x\",\"y\":[1573000000.0,1320000000.0,897000000.0,423000000.0],\"yaxis\":\"y\",\"type\":\"scatter\"}],\"name\":\"Working Tax Credit\"}]);\n",
       "                        }).then(function(){\n",
       "                            \n",
       "var gd = document.getElementById('808e86ce-8e57-4c30-a51f-c0f74d5abdb5');\n",
       "var x = new MutationObserver(function (mutations, observer) {{\n",
       "        var display = window.getComputedStyle(gd).display;\n",
       "        if (!display || display === 'none') {{\n",
       "            console.log([gd, 'removed!']);\n",
       "            Plotly.purge(gd);\n",
       "            observer.disconnect();\n",
       "        }}\n",
       "}});\n",
       "\n",
       "// Listen for the removal of the full notebook cells\n",
       "var notebookContainer = gd.closest('#notebook-container');\n",
       "if (notebookContainer) {{\n",
       "    x.observe(notebookContainer, {childList: true});\n",
       "}}\n",
       "\n",
       "// Listen for the clearing of the current output cell\n",
       "var outputEl = gd.closest('.output');\n",
       "if (outputEl) {{\n",
       "    x.observe(outputEl, {childList: true});\n",
       "}}\n",
       "\n",
       "                        })                };                });            </script>        </div>"
      ]
     },
     "metadata": {},
     "output_type": "display_data"
    }
   ],
   "source": [
    "def table_to_model_comparison(table):\n",
    "    df = table.reset_index()\n",
    "    df.columns = [\"Model\", \"Year\"] + list(table.columns)\n",
    "    return (\n",
    "        pd.melt(df, id_vars=[\"Year\", \"Model\"])\n",
    "        .pivot(index=[\"Year\", \"variable\"], columns=\"Model\", values=\"value\")\n",
    "        .reset_index()\n",
    "        .rename(columns=dict(variable=\"Program\"))\n",
    "    )\n",
    "\n",
    "\n",
    "def tables_to_model_comparisons(tables):\n",
    "    dfs = []\n",
    "    for key, table in tables.items():\n",
    "        df = table_to_model_comparison(table)\n",
    "        df = df.rename(\n",
    "            columns={\n",
    "                column: f\"{column} {key}\"\n",
    "                if key != \"\" and column not in (\"Year\", \"Model\", \"Program\")\n",
    "                else column\n",
    "                for column in df.columns\n",
    "            }\n",
    "        )\n",
    "        dfs.append(df)\n",
    "    df = pd.concat(dfs, axis=1)\n",
    "    df = df.loc[:, ~df.columns.duplicated()]\n",
    "    return df\n",
    "\n",
    "\n",
    "def model_forecast_chart(table, title=None, currency=True):\n",
    "    hovertemplate = \"\"\n",
    "    df = table_to_model_comparison(table)\n",
    "    fig = (\n",
    "        px.line(\n",
    "            df,\n",
    "            animation_frame=\"Program\",\n",
    "            x=\"Year\",\n",
    "            y=[EXTERNAL, policyengine_uk, UKMOD],\n",
    "            color_discrete_map={\n",
    "                policyengine_uk: \"blue\",\n",
    "                UKMOD: \"lightgrey\",\n",
    "            },\n",
    "        )\n",
    "        .update_layout(\n",
    "            width=800,\n",
    "            height=600,\n",
    "            yaxis_tickprefix=\"£\" if currency else \"\",\n",
    "            title=title,\n",
    "            template=\"plotly_white\",\n",
    "            legend_title=\"Model\",\n",
    "            yaxis_title=\"\",\n",
    "            yaxis_range=(0, 20e9) if currency else (0, 10e6),\n",
    "            legend_traceorder=\"reversed\",\n",
    "            xaxis_tickvals=list(range(2022, 2026)),\n",
    "        )\n",
    "        .update_traces(hovertemplate=hovertemplate)\n",
    "    )\n",
    "    for frame in fig.frames:\n",
    "        for data in frame.data:\n",
    "            data.hovertemplate = hovertemplate\n",
    "    return fig\n",
    "\n",
    "\n",
    "model_forecast_chart(\n",
    "    model_validation_table(budgetary_impact, divisor=1, decimals=1),\n",
    "    title=\"Budgetary impact forecasts\",\n",
    ")"
   ]
  },
  {
   "cell_type": "markdown",
   "id": "e07fb9b7-62dc-40e8-a861-cff08438a545",
   "metadata": {},
   "source": [
    "### Differences\n",
    "\n",
    "#### Absolute"
   ]
  },
  {
   "cell_type": "code",
   "execution_count": 4,
   "id": "df0bef66-16e4-4a54-b912-eff54b827ba4",
   "metadata": {
    "tags": [
     "hide-input"
    ]
   },
   "outputs": [
    {
     "data": {
      "text/html": [
       "<div>\n",
       "<style scoped>\n",
       "    .dataframe tbody tr th:only-of-type {\n",
       "        vertical-align: middle;\n",
       "    }\n",
       "\n",
       "    .dataframe tbody tr th {\n",
       "        vertical-align: top;\n",
       "    }\n",
       "\n",
       "    .dataframe thead th {\n",
       "        text-align: right;\n",
       "    }\n",
       "</style>\n",
       "<table border=\"1\" class=\"dataframe\">\n",
       "  <thead>\n",
       "    <tr style=\"text-align: right;\">\n",
       "      <th></th>\n",
       "      <th></th>\n",
       "      <th>Child Benefit</th>\n",
       "      <th>Income Support</th>\n",
       "      <th>JSA (income-based)</th>\n",
       "      <th>Housing Benefit</th>\n",
       "      <th>Working Tax Credit</th>\n",
       "      <th>Child Tax Credit</th>\n",
       "      <th>Universal Credit</th>\n",
       "      <th>Pension Credit</th>\n",
       "      <th>Income Tax</th>\n",
       "      <th>National Insurance (total)</th>\n",
       "      <th>Employment income</th>\n",
       "      <th>Self-employment income</th>\n",
       "      <th>Pension income</th>\n",
       "      <th>Rental income</th>\n",
       "      <th>Savings interest income</th>\n",
       "      <th>Income from dividends</th>\n",
       "    </tr>\n",
       "  </thead>\n",
       "  <tbody>\n",
       "    <tr>\n",
       "      <th rowspan=\"4\" valign=\"top\">OpenFisca-UK</th>\n",
       "      <th>2022</th>\n",
       "      <td></td>\n",
       "      <td></td>\n",
       "      <td></td>\n",
       "      <td></td>\n",
       "      <td></td>\n",
       "      <td></td>\n",
       "      <td></td>\n",
       "      <td></td>\n",
       "      <td></td>\n",
       "      <td></td>\n",
       "      <td></td>\n",
       "      <td></td>\n",
       "      <td></td>\n",
       "      <td></td>\n",
       "      <td></td>\n",
       "      <td></td>\n",
       "    </tr>\n",
       "    <tr>\n",
       "      <th>2023</th>\n",
       "      <td></td>\n",
       "      <td></td>\n",
       "      <td></td>\n",
       "      <td></td>\n",
       "      <td></td>\n",
       "      <td></td>\n",
       "      <td></td>\n",
       "      <td></td>\n",
       "      <td></td>\n",
       "      <td></td>\n",
       "      <td></td>\n",
       "      <td></td>\n",
       "      <td></td>\n",
       "      <td></td>\n",
       "      <td></td>\n",
       "      <td></td>\n",
       "    </tr>\n",
       "    <tr>\n",
       "      <th>2024</th>\n",
       "      <td></td>\n",
       "      <td></td>\n",
       "      <td></td>\n",
       "      <td></td>\n",
       "      <td></td>\n",
       "      <td></td>\n",
       "      <td></td>\n",
       "      <td></td>\n",
       "      <td></td>\n",
       "      <td></td>\n",
       "      <td></td>\n",
       "      <td></td>\n",
       "      <td></td>\n",
       "      <td></td>\n",
       "      <td></td>\n",
       "      <td></td>\n",
       "    </tr>\n",
       "    <tr>\n",
       "      <th>2025</th>\n",
       "      <td></td>\n",
       "      <td></td>\n",
       "      <td></td>\n",
       "      <td></td>\n",
       "      <td></td>\n",
       "      <td></td>\n",
       "      <td></td>\n",
       "      <td></td>\n",
       "      <td></td>\n",
       "      <td></td>\n",
       "      <td></td>\n",
       "      <td></td>\n",
       "      <td></td>\n",
       "      <td></td>\n",
       "      <td></td>\n",
       "      <td></td>\n",
       "    </tr>\n",
       "    <tr>\n",
       "      <th rowspan=\"4\" valign=\"top\">UKMOD</th>\n",
       "      <th>2022</th>\n",
       "      <td></td>\n",
       "      <td></td>\n",
       "      <td></td>\n",
       "      <td></td>\n",
       "      <td></td>\n",
       "      <td></td>\n",
       "      <td></td>\n",
       "      <td></td>\n",
       "      <td></td>\n",
       "      <td></td>\n",
       "      <td></td>\n",
       "      <td></td>\n",
       "      <td></td>\n",
       "      <td></td>\n",
       "      <td></td>\n",
       "      <td></td>\n",
       "    </tr>\n",
       "    <tr>\n",
       "      <th>2023</th>\n",
       "      <td></td>\n",
       "      <td></td>\n",
       "      <td></td>\n",
       "      <td></td>\n",
       "      <td></td>\n",
       "      <td></td>\n",
       "      <td></td>\n",
       "      <td></td>\n",
       "      <td></td>\n",
       "      <td></td>\n",
       "      <td></td>\n",
       "      <td></td>\n",
       "      <td></td>\n",
       "      <td></td>\n",
       "      <td></td>\n",
       "      <td></td>\n",
       "    </tr>\n",
       "    <tr>\n",
       "      <th>2024</th>\n",
       "      <td></td>\n",
       "      <td></td>\n",
       "      <td></td>\n",
       "      <td></td>\n",
       "      <td></td>\n",
       "      <td></td>\n",
       "      <td></td>\n",
       "      <td></td>\n",
       "      <td></td>\n",
       "      <td></td>\n",
       "      <td></td>\n",
       "      <td></td>\n",
       "      <td></td>\n",
       "      <td></td>\n",
       "      <td></td>\n",
       "      <td></td>\n",
       "    </tr>\n",
       "    <tr>\n",
       "      <th>2025</th>\n",
       "      <td></td>\n",
       "      <td></td>\n",
       "      <td></td>\n",
       "      <td></td>\n",
       "      <td></td>\n",
       "      <td></td>\n",
       "      <td></td>\n",
       "      <td></td>\n",
       "      <td></td>\n",
       "      <td></td>\n",
       "      <td></td>\n",
       "      <td></td>\n",
       "      <td></td>\n",
       "      <td></td>\n",
       "      <td></td>\n",
       "      <td></td>\n",
       "    </tr>\n",
       "  </tbody>\n",
       "</table>\n",
       "</div>"
      ],
      "text/plain": [
       "                  Child Benefit Income Support JSA (income-based)  \\\n",
       "OpenFisca-UK 2022                                                   \n",
       "             2023                                                   \n",
       "             2024                                                   \n",
       "             2025                                                   \n",
       "UKMOD        2022                                                   \n",
       "             2023                                                   \n",
       "             2024                                                   \n",
       "             2025                                                   \n",
       "\n",
       "                  Housing Benefit Working Tax Credit Child Tax Credit  \\\n",
       "OpenFisca-UK 2022                                                       \n",
       "             2023                                                       \n",
       "             2024                                                       \n",
       "             2025                                                       \n",
       "UKMOD        2022                                                       \n",
       "             2023                                                       \n",
       "             2024                                                       \n",
       "             2025                                                       \n",
       "\n",
       "                  Universal Credit Pension Credit Income Tax  \\\n",
       "OpenFisca-UK 2022                                              \n",
       "             2023                                              \n",
       "             2024                                              \n",
       "             2025                                              \n",
       "UKMOD        2022                                              \n",
       "             2023                                              \n",
       "             2024                                              \n",
       "             2025                                              \n",
       "\n",
       "                  National Insurance (total) Employment income  \\\n",
       "OpenFisca-UK 2022                                                \n",
       "             2023                                                \n",
       "             2024                                                \n",
       "             2025                                                \n",
       "UKMOD        2022                                                \n",
       "             2023                                                \n",
       "             2024                                                \n",
       "             2025                                                \n",
       "\n",
       "                  Self-employment income Pension income Rental income  \\\n",
       "OpenFisca-UK 2022                                                       \n",
       "             2023                                                       \n",
       "             2024                                                       \n",
       "             2025                                                       \n",
       "UKMOD        2022                                                       \n",
       "             2023                                                       \n",
       "             2024                                                       \n",
       "             2025                                                       \n",
       "\n",
       "                  Savings interest income Income from dividends  \n",
       "OpenFisca-UK 2022                                                \n",
       "             2023                                                \n",
       "             2024                                                \n",
       "             2025                                                \n",
       "UKMOD        2022                                                \n",
       "             2023                                                \n",
       "             2024                                                \n",
       "             2025                                                "
      ]
     },
     "execution_count": 4,
     "metadata": {},
     "output_type": "execute_result"
    }
   ],
   "source": [
    "def budgetary_impact_error(model, year, variable):\n",
    "    try:\n",
    "        if model == policyengine_uk:\n",
    "            return sim.calc(\n",
    "                variable, map_to=\"household\", period=year\n",
    "            ).sum() - budgetary_impact(EXTERNAL, year, variable)\n",
    "        elif model == UKMOD:\n",
    "            return getattr(ukmod_statistics.ukmod.budgetary_impact, variable)(\n",
    "                f\"{year}-01-01\"\n",
    "            ) - budgetary_impact(EXTERNAL, year, variable)\n",
    "    except:\n",
    "        return np.nan\n",
    "\n",
    "\n",
    "model_validation_table(\n",
    "    budgetary_impact_error,\n",
    "    models=[policyengine_uk, UKMOD],\n",
    "    divisor=1e9,\n",
    "    decimals=1,\n",
    ")"
   ]
  },
  {
   "cell_type": "markdown",
   "id": "3faf63e8-f932-49df-9329-fa772cb33837",
   "metadata": {},
   "source": [
    "#### Relative"
   ]
  },
  {
   "cell_type": "code",
   "execution_count": 5,
   "id": "bfd19045-2851-47aa-861e-3f10d972b522",
   "metadata": {
    "tags": [
     "hide-input"
    ]
   },
   "outputs": [
    {
     "data": {
      "text/html": [
       "<div>\n",
       "<style scoped>\n",
       "    .dataframe tbody tr th:only-of-type {\n",
       "        vertical-align: middle;\n",
       "    }\n",
       "\n",
       "    .dataframe tbody tr th {\n",
       "        vertical-align: top;\n",
       "    }\n",
       "\n",
       "    .dataframe thead th {\n",
       "        text-align: right;\n",
       "    }\n",
       "</style>\n",
       "<table border=\"1\" class=\"dataframe\">\n",
       "  <thead>\n",
       "    <tr style=\"text-align: right;\">\n",
       "      <th></th>\n",
       "      <th></th>\n",
       "      <th>Child Benefit</th>\n",
       "      <th>Income Support</th>\n",
       "      <th>JSA (income-based)</th>\n",
       "      <th>Housing Benefit</th>\n",
       "      <th>Working Tax Credit</th>\n",
       "      <th>Child Tax Credit</th>\n",
       "      <th>Universal Credit</th>\n",
       "      <th>Pension Credit</th>\n",
       "      <th>Income Tax</th>\n",
       "      <th>National Insurance (total)</th>\n",
       "      <th>Employment income</th>\n",
       "      <th>Self-employment income</th>\n",
       "      <th>Pension income</th>\n",
       "      <th>Rental income</th>\n",
       "      <th>Savings interest income</th>\n",
       "      <th>Income from dividends</th>\n",
       "    </tr>\n",
       "  </thead>\n",
       "  <tbody>\n",
       "    <tr>\n",
       "      <th rowspan=\"4\" valign=\"top\">OpenFisca-UK</th>\n",
       "      <th>2022</th>\n",
       "      <td></td>\n",
       "      <td></td>\n",
       "      <td></td>\n",
       "      <td></td>\n",
       "      <td></td>\n",
       "      <td></td>\n",
       "      <td></td>\n",
       "      <td></td>\n",
       "      <td></td>\n",
       "      <td></td>\n",
       "      <td></td>\n",
       "      <td></td>\n",
       "      <td></td>\n",
       "      <td></td>\n",
       "      <td></td>\n",
       "      <td></td>\n",
       "    </tr>\n",
       "    <tr>\n",
       "      <th>2023</th>\n",
       "      <td></td>\n",
       "      <td></td>\n",
       "      <td></td>\n",
       "      <td></td>\n",
       "      <td></td>\n",
       "      <td></td>\n",
       "      <td></td>\n",
       "      <td></td>\n",
       "      <td></td>\n",
       "      <td></td>\n",
       "      <td></td>\n",
       "      <td></td>\n",
       "      <td></td>\n",
       "      <td></td>\n",
       "      <td></td>\n",
       "      <td></td>\n",
       "    </tr>\n",
       "    <tr>\n",
       "      <th>2024</th>\n",
       "      <td></td>\n",
       "      <td></td>\n",
       "      <td></td>\n",
       "      <td></td>\n",
       "      <td></td>\n",
       "      <td></td>\n",
       "      <td></td>\n",
       "      <td></td>\n",
       "      <td></td>\n",
       "      <td></td>\n",
       "      <td></td>\n",
       "      <td></td>\n",
       "      <td></td>\n",
       "      <td></td>\n",
       "      <td></td>\n",
       "      <td></td>\n",
       "    </tr>\n",
       "    <tr>\n",
       "      <th>2025</th>\n",
       "      <td></td>\n",
       "      <td></td>\n",
       "      <td></td>\n",
       "      <td></td>\n",
       "      <td></td>\n",
       "      <td></td>\n",
       "      <td></td>\n",
       "      <td></td>\n",
       "      <td></td>\n",
       "      <td></td>\n",
       "      <td></td>\n",
       "      <td></td>\n",
       "      <td></td>\n",
       "      <td></td>\n",
       "      <td></td>\n",
       "      <td></td>\n",
       "    </tr>\n",
       "    <tr>\n",
       "      <th rowspan=\"4\" valign=\"top\">UKMOD</th>\n",
       "      <th>2022</th>\n",
       "      <td></td>\n",
       "      <td></td>\n",
       "      <td></td>\n",
       "      <td></td>\n",
       "      <td></td>\n",
       "      <td></td>\n",
       "      <td></td>\n",
       "      <td></td>\n",
       "      <td></td>\n",
       "      <td></td>\n",
       "      <td></td>\n",
       "      <td></td>\n",
       "      <td></td>\n",
       "      <td></td>\n",
       "      <td></td>\n",
       "      <td></td>\n",
       "    </tr>\n",
       "    <tr>\n",
       "      <th>2023</th>\n",
       "      <td></td>\n",
       "      <td></td>\n",
       "      <td></td>\n",
       "      <td></td>\n",
       "      <td></td>\n",
       "      <td></td>\n",
       "      <td></td>\n",
       "      <td></td>\n",
       "      <td></td>\n",
       "      <td></td>\n",
       "      <td></td>\n",
       "      <td></td>\n",
       "      <td></td>\n",
       "      <td></td>\n",
       "      <td></td>\n",
       "      <td></td>\n",
       "    </tr>\n",
       "    <tr>\n",
       "      <th>2024</th>\n",
       "      <td></td>\n",
       "      <td></td>\n",
       "      <td></td>\n",
       "      <td></td>\n",
       "      <td></td>\n",
       "      <td></td>\n",
       "      <td></td>\n",
       "      <td></td>\n",
       "      <td></td>\n",
       "      <td></td>\n",
       "      <td></td>\n",
       "      <td></td>\n",
       "      <td></td>\n",
       "      <td></td>\n",
       "      <td></td>\n",
       "      <td></td>\n",
       "    </tr>\n",
       "    <tr>\n",
       "      <th>2025</th>\n",
       "      <td></td>\n",
       "      <td></td>\n",
       "      <td></td>\n",
       "      <td></td>\n",
       "      <td></td>\n",
       "      <td></td>\n",
       "      <td></td>\n",
       "      <td></td>\n",
       "      <td></td>\n",
       "      <td></td>\n",
       "      <td></td>\n",
       "      <td></td>\n",
       "      <td></td>\n",
       "      <td></td>\n",
       "      <td></td>\n",
       "      <td></td>\n",
       "    </tr>\n",
       "  </tbody>\n",
       "</table>\n",
       "</div>"
      ],
      "text/plain": [
       "                  Child Benefit Income Support JSA (income-based)  \\\n",
       "OpenFisca-UK 2022                                                   \n",
       "             2023                                                   \n",
       "             2024                                                   \n",
       "             2025                                                   \n",
       "UKMOD        2022                                                   \n",
       "             2023                                                   \n",
       "             2024                                                   \n",
       "             2025                                                   \n",
       "\n",
       "                  Housing Benefit Working Tax Credit Child Tax Credit  \\\n",
       "OpenFisca-UK 2022                                                       \n",
       "             2023                                                       \n",
       "             2024                                                       \n",
       "             2025                                                       \n",
       "UKMOD        2022                                                       \n",
       "             2023                                                       \n",
       "             2024                                                       \n",
       "             2025                                                       \n",
       "\n",
       "                  Universal Credit Pension Credit Income Tax  \\\n",
       "OpenFisca-UK 2022                                              \n",
       "             2023                                              \n",
       "             2024                                              \n",
       "             2025                                              \n",
       "UKMOD        2022                                              \n",
       "             2023                                              \n",
       "             2024                                              \n",
       "             2025                                              \n",
       "\n",
       "                  National Insurance (total) Employment income  \\\n",
       "OpenFisca-UK 2022                                                \n",
       "             2023                                                \n",
       "             2024                                                \n",
       "             2025                                                \n",
       "UKMOD        2022                                                \n",
       "             2023                                                \n",
       "             2024                                                \n",
       "             2025                                                \n",
       "\n",
       "                  Self-employment income Pension income Rental income  \\\n",
       "OpenFisca-UK 2022                                                       \n",
       "             2023                                                       \n",
       "             2024                                                       \n",
       "             2025                                                       \n",
       "UKMOD        2022                                                       \n",
       "             2023                                                       \n",
       "             2024                                                       \n",
       "             2025                                                       \n",
       "\n",
       "                  Savings interest income Income from dividends  \n",
       "OpenFisca-UK 2022                                                \n",
       "             2023                                                \n",
       "             2024                                                \n",
       "             2025                                                \n",
       "UKMOD        2022                                                \n",
       "             2023                                                \n",
       "             2024                                                \n",
       "             2025                                                "
      ]
     },
     "execution_count": 5,
     "metadata": {},
     "output_type": "execute_result"
    }
   ],
   "source": [
    "def relative_budgetary_impact_error(model, year, variable):\n",
    "    try:\n",
    "        if model == policyengine_uk:\n",
    "            return (\n",
    "                sim.calc(variable, map_to=\"household\", period=year).sum()\n",
    "                / budgetary_impact(EXTERNAL, year, variable)\n",
    "                - 1\n",
    "            )\n",
    "        elif model == UKMOD:\n",
    "            return (\n",
    "                getattr(ukmod_statistics.ukmod.budgetary_impact, variable)(\n",
    "                    f\"{year}-01-01\"\n",
    "                )\n",
    "                / budgetary_impact(EXTERNAL, year, variable)\n",
    "                - 1\n",
    "            )\n",
    "    except:\n",
    "        return np.nan\n",
    "\n",
    "\n",
    "model_validation_table(\n",
    "    relative_budgetary_impact_error,\n",
    "    models=[policyengine_uk, UKMOD],\n",
    "    divisor=1e-2,\n",
    "    decimals=1,\n",
    ")"
   ]
  },
  {
   "cell_type": "code",
   "execution_count": 6,
   "id": "fb725740-888f-477b-9aa4-dca99796cd20",
   "metadata": {
    "tags": [
     "hide-input"
    ]
   },
   "outputs": [
    {
     "data": {
      "application/vnd.plotly.v1+json": {
       "config": {
        "plotlyServerURL": "https://plot.ly"
       },
       "data": [],
       "layout": {
        "barmode": "group",
        "height": 600,
        "legend": {
         "title": {
          "text": "Model"
         },
         "tracegroupgap": 0,
         "traceorder": "reversed"
        },
        "margin": {
         "t": 60
        },
        "template": {
         "data": {
          "bar": [
           {
            "error_x": {
             "color": "#2a3f5f"
            },
            "error_y": {
             "color": "#2a3f5f"
            },
            "marker": {
             "line": {
              "color": "white",
              "width": 0.5
             },
             "pattern": {
              "fillmode": "overlay",
              "size": 10,
              "solidity": 0.2
             }
            },
            "type": "bar"
           }
          ],
          "barpolar": [
           {
            "marker": {
             "line": {
              "color": "white",
              "width": 0.5
             },
             "pattern": {
              "fillmode": "overlay",
              "size": 10,
              "solidity": 0.2
             }
            },
            "type": "barpolar"
           }
          ],
          "carpet": [
           {
            "aaxis": {
             "endlinecolor": "#2a3f5f",
             "gridcolor": "#C8D4E3",
             "linecolor": "#C8D4E3",
             "minorgridcolor": "#C8D4E3",
             "startlinecolor": "#2a3f5f"
            },
            "baxis": {
             "endlinecolor": "#2a3f5f",
             "gridcolor": "#C8D4E3",
             "linecolor": "#C8D4E3",
             "minorgridcolor": "#C8D4E3",
             "startlinecolor": "#2a3f5f"
            },
            "type": "carpet"
           }
          ],
          "choropleth": [
           {
            "colorbar": {
             "outlinewidth": 0,
             "ticks": ""
            },
            "type": "choropleth"
           }
          ],
          "contour": [
           {
            "colorbar": {
             "outlinewidth": 0,
             "ticks": ""
            },
            "colorscale": [
             [
              0,
              "#0d0887"
             ],
             [
              0.1111111111111111,
              "#46039f"
             ],
             [
              0.2222222222222222,
              "#7201a8"
             ],
             [
              0.3333333333333333,
              "#9c179e"
             ],
             [
              0.4444444444444444,
              "#bd3786"
             ],
             [
              0.5555555555555556,
              "#d8576b"
             ],
             [
              0.6666666666666666,
              "#ed7953"
             ],
             [
              0.7777777777777778,
              "#fb9f3a"
             ],
             [
              0.8888888888888888,
              "#fdca26"
             ],
             [
              1,
              "#f0f921"
             ]
            ],
            "type": "contour"
           }
          ],
          "contourcarpet": [
           {
            "colorbar": {
             "outlinewidth": 0,
             "ticks": ""
            },
            "type": "contourcarpet"
           }
          ],
          "heatmap": [
           {
            "colorbar": {
             "outlinewidth": 0,
             "ticks": ""
            },
            "colorscale": [
             [
              0,
              "#0d0887"
             ],
             [
              0.1111111111111111,
              "#46039f"
             ],
             [
              0.2222222222222222,
              "#7201a8"
             ],
             [
              0.3333333333333333,
              "#9c179e"
             ],
             [
              0.4444444444444444,
              "#bd3786"
             ],
             [
              0.5555555555555556,
              "#d8576b"
             ],
             [
              0.6666666666666666,
              "#ed7953"
             ],
             [
              0.7777777777777778,
              "#fb9f3a"
             ],
             [
              0.8888888888888888,
              "#fdca26"
             ],
             [
              1,
              "#f0f921"
             ]
            ],
            "type": "heatmap"
           }
          ],
          "heatmapgl": [
           {
            "colorbar": {
             "outlinewidth": 0,
             "ticks": ""
            },
            "colorscale": [
             [
              0,
              "#0d0887"
             ],
             [
              0.1111111111111111,
              "#46039f"
             ],
             [
              0.2222222222222222,
              "#7201a8"
             ],
             [
              0.3333333333333333,
              "#9c179e"
             ],
             [
              0.4444444444444444,
              "#bd3786"
             ],
             [
              0.5555555555555556,
              "#d8576b"
             ],
             [
              0.6666666666666666,
              "#ed7953"
             ],
             [
              0.7777777777777778,
              "#fb9f3a"
             ],
             [
              0.8888888888888888,
              "#fdca26"
             ],
             [
              1,
              "#f0f921"
             ]
            ],
            "type": "heatmapgl"
           }
          ],
          "histogram": [
           {
            "marker": {
             "pattern": {
              "fillmode": "overlay",
              "size": 10,
              "solidity": 0.2
             }
            },
            "type": "histogram"
           }
          ],
          "histogram2d": [
           {
            "colorbar": {
             "outlinewidth": 0,
             "ticks": ""
            },
            "colorscale": [
             [
              0,
              "#0d0887"
             ],
             [
              0.1111111111111111,
              "#46039f"
             ],
             [
              0.2222222222222222,
              "#7201a8"
             ],
             [
              0.3333333333333333,
              "#9c179e"
             ],
             [
              0.4444444444444444,
              "#bd3786"
             ],
             [
              0.5555555555555556,
              "#d8576b"
             ],
             [
              0.6666666666666666,
              "#ed7953"
             ],
             [
              0.7777777777777778,
              "#fb9f3a"
             ],
             [
              0.8888888888888888,
              "#fdca26"
             ],
             [
              1,
              "#f0f921"
             ]
            ],
            "type": "histogram2d"
           }
          ],
          "histogram2dcontour": [
           {
            "colorbar": {
             "outlinewidth": 0,
             "ticks": ""
            },
            "colorscale": [
             [
              0,
              "#0d0887"
             ],
             [
              0.1111111111111111,
              "#46039f"
             ],
             [
              0.2222222222222222,
              "#7201a8"
             ],
             [
              0.3333333333333333,
              "#9c179e"
             ],
             [
              0.4444444444444444,
              "#bd3786"
             ],
             [
              0.5555555555555556,
              "#d8576b"
             ],
             [
              0.6666666666666666,
              "#ed7953"
             ],
             [
              0.7777777777777778,
              "#fb9f3a"
             ],
             [
              0.8888888888888888,
              "#fdca26"
             ],
             [
              1,
              "#f0f921"
             ]
            ],
            "type": "histogram2dcontour"
           }
          ],
          "mesh3d": [
           {
            "colorbar": {
             "outlinewidth": 0,
             "ticks": ""
            },
            "type": "mesh3d"
           }
          ],
          "parcoords": [
           {
            "line": {
             "colorbar": {
              "outlinewidth": 0,
              "ticks": ""
             }
            },
            "type": "parcoords"
           }
          ],
          "pie": [
           {
            "automargin": true,
            "type": "pie"
           }
          ],
          "scatter": [
           {
            "marker": {
             "colorbar": {
              "outlinewidth": 0,
              "ticks": ""
             }
            },
            "type": "scatter"
           }
          ],
          "scatter3d": [
           {
            "line": {
             "colorbar": {
              "outlinewidth": 0,
              "ticks": ""
             }
            },
            "marker": {
             "colorbar": {
              "outlinewidth": 0,
              "ticks": ""
             }
            },
            "type": "scatter3d"
           }
          ],
          "scattercarpet": [
           {
            "marker": {
             "colorbar": {
              "outlinewidth": 0,
              "ticks": ""
             }
            },
            "type": "scattercarpet"
           }
          ],
          "scattergeo": [
           {
            "marker": {
             "colorbar": {
              "outlinewidth": 0,
              "ticks": ""
             }
            },
            "type": "scattergeo"
           }
          ],
          "scattergl": [
           {
            "marker": {
             "colorbar": {
              "outlinewidth": 0,
              "ticks": ""
             }
            },
            "type": "scattergl"
           }
          ],
          "scattermapbox": [
           {
            "marker": {
             "colorbar": {
              "outlinewidth": 0,
              "ticks": ""
             }
            },
            "type": "scattermapbox"
           }
          ],
          "scatterpolar": [
           {
            "marker": {
             "colorbar": {
              "outlinewidth": 0,
              "ticks": ""
             }
            },
            "type": "scatterpolar"
           }
          ],
          "scatterpolargl": [
           {
            "marker": {
             "colorbar": {
              "outlinewidth": 0,
              "ticks": ""
             }
            },
            "type": "scatterpolargl"
           }
          ],
          "scatterternary": [
           {
            "marker": {
             "colorbar": {
              "outlinewidth": 0,
              "ticks": ""
             }
            },
            "type": "scatterternary"
           }
          ],
          "surface": [
           {
            "colorbar": {
             "outlinewidth": 0,
             "ticks": ""
            },
            "colorscale": [
             [
              0,
              "#0d0887"
             ],
             [
              0.1111111111111111,
              "#46039f"
             ],
             [
              0.2222222222222222,
              "#7201a8"
             ],
             [
              0.3333333333333333,
              "#9c179e"
             ],
             [
              0.4444444444444444,
              "#bd3786"
             ],
             [
              0.5555555555555556,
              "#d8576b"
             ],
             [
              0.6666666666666666,
              "#ed7953"
             ],
             [
              0.7777777777777778,
              "#fb9f3a"
             ],
             [
              0.8888888888888888,
              "#fdca26"
             ],
             [
              1,
              "#f0f921"
             ]
            ],
            "type": "surface"
           }
          ],
          "table": [
           {
            "cells": {
             "fill": {
              "color": "#EBF0F8"
             },
             "line": {
              "color": "white"
             }
            },
            "header": {
             "fill": {
              "color": "#C8D4E3"
             },
             "line": {
              "color": "white"
             }
            },
            "type": "table"
           }
          ]
         },
         "layout": {
          "annotationdefaults": {
           "arrowcolor": "#2a3f5f",
           "arrowhead": 0,
           "arrowwidth": 1
          },
          "autotypenumbers": "strict",
          "coloraxis": {
           "colorbar": {
            "outlinewidth": 0,
            "ticks": ""
           }
          },
          "colorscale": {
           "diverging": [
            [
             0,
             "#8e0152"
            ],
            [
             0.1,
             "#c51b7d"
            ],
            [
             0.2,
             "#de77ae"
            ],
            [
             0.3,
             "#f1b6da"
            ],
            [
             0.4,
             "#fde0ef"
            ],
            [
             0.5,
             "#f7f7f7"
            ],
            [
             0.6,
             "#e6f5d0"
            ],
            [
             0.7,
             "#b8e186"
            ],
            [
             0.8,
             "#7fbc41"
            ],
            [
             0.9,
             "#4d9221"
            ],
            [
             1,
             "#276419"
            ]
           ],
           "sequential": [
            [
             0,
             "#0d0887"
            ],
            [
             0.1111111111111111,
             "#46039f"
            ],
            [
             0.2222222222222222,
             "#7201a8"
            ],
            [
             0.3333333333333333,
             "#9c179e"
            ],
            [
             0.4444444444444444,
             "#bd3786"
            ],
            [
             0.5555555555555556,
             "#d8576b"
            ],
            [
             0.6666666666666666,
             "#ed7953"
            ],
            [
             0.7777777777777778,
             "#fb9f3a"
            ],
            [
             0.8888888888888888,
             "#fdca26"
            ],
            [
             1,
             "#f0f921"
            ]
           ],
           "sequentialminus": [
            [
             0,
             "#0d0887"
            ],
            [
             0.1111111111111111,
             "#46039f"
            ],
            [
             0.2222222222222222,
             "#7201a8"
            ],
            [
             0.3333333333333333,
             "#9c179e"
            ],
            [
             0.4444444444444444,
             "#bd3786"
            ],
            [
             0.5555555555555556,
             "#d8576b"
            ],
            [
             0.6666666666666666,
             "#ed7953"
            ],
            [
             0.7777777777777778,
             "#fb9f3a"
            ],
            [
             0.8888888888888888,
             "#fdca26"
            ],
            [
             1,
             "#f0f921"
            ]
           ]
          },
          "colorway": [
           "#636efa",
           "#EF553B",
           "#00cc96",
           "#ab63fa",
           "#FFA15A",
           "#19d3f3",
           "#FF6692",
           "#B6E880",
           "#FF97FF",
           "#FECB52"
          ],
          "font": {
           "color": "#2a3f5f"
          },
          "geo": {
           "bgcolor": "white",
           "lakecolor": "white",
           "landcolor": "white",
           "showlakes": true,
           "showland": true,
           "subunitcolor": "#C8D4E3"
          },
          "hoverlabel": {
           "align": "left"
          },
          "hovermode": "closest",
          "mapbox": {
           "style": "light"
          },
          "paper_bgcolor": "white",
          "plot_bgcolor": "white",
          "polar": {
           "angularaxis": {
            "gridcolor": "#EBF0F8",
            "linecolor": "#EBF0F8",
            "ticks": ""
           },
           "bgcolor": "white",
           "radialaxis": {
            "gridcolor": "#EBF0F8",
            "linecolor": "#EBF0F8",
            "ticks": ""
           }
          },
          "scene": {
           "xaxis": {
            "backgroundcolor": "white",
            "gridcolor": "#DFE8F3",
            "gridwidth": 2,
            "linecolor": "#EBF0F8",
            "showbackground": true,
            "ticks": "",
            "zerolinecolor": "#EBF0F8"
           },
           "yaxis": {
            "backgroundcolor": "white",
            "gridcolor": "#DFE8F3",
            "gridwidth": 2,
            "linecolor": "#EBF0F8",
            "showbackground": true,
            "ticks": "",
            "zerolinecolor": "#EBF0F8"
           },
           "zaxis": {
            "backgroundcolor": "white",
            "gridcolor": "#DFE8F3",
            "gridwidth": 2,
            "linecolor": "#EBF0F8",
            "showbackground": true,
            "ticks": "",
            "zerolinecolor": "#EBF0F8"
           }
          },
          "shapedefaults": {
           "line": {
            "color": "#2a3f5f"
           }
          },
          "ternary": {
           "aaxis": {
            "gridcolor": "#DFE8F3",
            "linecolor": "#A2B1C6",
            "ticks": ""
           },
           "baxis": {
            "gridcolor": "#DFE8F3",
            "linecolor": "#A2B1C6",
            "ticks": ""
           },
           "bgcolor": "white",
           "caxis": {
            "gridcolor": "#DFE8F3",
            "linecolor": "#A2B1C6",
            "ticks": ""
           }
          },
          "title": {
           "x": 0.05
          },
          "xaxis": {
           "automargin": true,
           "gridcolor": "#EBF0F8",
           "linecolor": "#EBF0F8",
           "ticks": "",
           "title": {
            "standoff": 15
           },
           "zerolinecolor": "#EBF0F8",
           "zerolinewidth": 2
          },
          "yaxis": {
           "automargin": true,
           "gridcolor": "#EBF0F8",
           "linecolor": "#EBF0F8",
           "ticks": "",
           "title": {
            "standoff": 15
           },
           "zerolinecolor": "#EBF0F8",
           "zerolinewidth": 2
          }
         }
        },
        "title": {
         "text": "Budgetary impact error"
        },
        "width": 800,
        "xaxis": {
         "anchor": "y",
         "autorange": true,
         "domain": [
          0,
          1
         ],
         "range": [
          -1,
          6
         ],
         "tickprefix": "£",
         "title": {
          "text": "Budgetary impact error"
         }
        },
        "yaxis": {
         "anchor": "x",
         "autorange": true,
         "domain": [
          0,
          1
         ],
         "range": [
          -1,
          4
         ],
         "title": {
          "text": ""
         }
        }
       }
      },
      "image/png": "[encoded data removed]",
      "text/html": [
       "<div>                            <div id=\"0ef56ff8-702d-444b-bf2c-0afa8ec52c95\" class=\"plotly-graph-div\" style=\"height:600px; width:800px;\"></div>            <script type=\"text/javascript\">                require([\"plotly\"], function(Plotly) {                    window.PLOTLYENV=window.PLOTLYENV || {};                                    if (document.getElementById(\"0ef56ff8-702d-444b-bf2c-0afa8ec52c95\")) {                    Plotly.newPlot(                        \"0ef56ff8-702d-444b-bf2c-0afa8ec52c95\",                        [],                        {\"template\":{\"data\":{\"barpolar\":[{\"marker\":{\"line\":{\"color\":\"white\",\"width\":0.5},\"pattern\":{\"fillmode\":\"overlay\",\"size\":10,\"solidity\":0.2}},\"type\":\"barpolar\"}],\"bar\":[{\"error_x\":{\"color\":\"#2a3f5f\"},\"error_y\":{\"color\":\"#2a3f5f\"},\"marker\":{\"line\":{\"color\":\"white\",\"width\":0.5},\"pattern\":{\"fillmode\":\"overlay\",\"size\":10,\"solidity\":0.2}},\"type\":\"bar\"}],\"carpet\":[{\"aaxis\":{\"endlinecolor\":\"#2a3f5f\",\"gridcolor\":\"#C8D4E3\",\"linecolor\":\"#C8D4E3\",\"minorgridcolor\":\"#C8D4E3\",\"startlinecolor\":\"#2a3f5f\"},\"baxis\":{\"endlinecolor\":\"#2a3f5f\",\"gridcolor\":\"#C8D4E3\",\"linecolor\":\"#C8D4E3\",\"minorgridcolor\":\"#C8D4E3\",\"startlinecolor\":\"#2a3f5f\"},\"type\":\"carpet\"}],\"choropleth\":[{\"colorbar\":{\"outlinewidth\":0,\"ticks\":\"\"},\"type\":\"choropleth\"}],\"contourcarpet\":[{\"colorbar\":{\"outlinewidth\":0,\"ticks\":\"\"},\"type\":\"contourcarpet\"}],\"contour\":[{\"colorbar\":{\"outlinewidth\":0,\"ticks\":\"\"},\"colorscale\":[[0.0,\"#0d0887\"],[0.1111111111111111,\"#46039f\"],[0.2222222222222222,\"#7201a8\"],[0.3333333333333333,\"#9c179e\"],[0.4444444444444444,\"#bd3786\"],[0.5555555555555556,\"#d8576b\"],[0.6666666666666666,\"#ed7953\"],[0.7777777777777778,\"#fb9f3a\"],[0.8888888888888888,\"#fdca26\"],[1.0,\"#f0f921\"]],\"type\":\"contour\"}],\"heatmapgl\":[{\"colorbar\":{\"outlinewidth\":0,\"ticks\":\"\"},\"colorscale\":[[0.0,\"#0d0887\"],[0.1111111111111111,\"#46039f\"],[0.2222222222222222,\"#7201a8\"],[0.3333333333333333,\"#9c179e\"],[0.4444444444444444,\"#bd3786\"],[0.5555555555555556,\"#d8576b\"],[0.6666666666666666,\"#ed7953\"],[0.7777777777777778,\"#fb9f3a\"],[0.8888888888888888,\"#fdca26\"],[1.0,\"#f0f921\"]],\"type\":\"heatmapgl\"}],\"heatmap\":[{\"colorbar\":{\"outlinewidth\":0,\"ticks\":\"\"},\"colorscale\":[[0.0,\"#0d0887\"],[0.1111111111111111,\"#46039f\"],[0.2222222222222222,\"#7201a8\"],[0.3333333333333333,\"#9c179e\"],[0.4444444444444444,\"#bd3786\"],[0.5555555555555556,\"#d8576b\"],[0.6666666666666666,\"#ed7953\"],[0.7777777777777778,\"#fb9f3a\"],[0.8888888888888888,\"#fdca26\"],[1.0,\"#f0f921\"]],\"type\":\"heatmap\"}],\"histogram2dcontour\":[{\"colorbar\":{\"outlinewidth\":0,\"ticks\":\"\"},\"colorscale\":[[0.0,\"#0d0887\"],[0.1111111111111111,\"#46039f\"],[0.2222222222222222,\"#7201a8\"],[0.3333333333333333,\"#9c179e\"],[0.4444444444444444,\"#bd3786\"],[0.5555555555555556,\"#d8576b\"],[0.6666666666666666,\"#ed7953\"],[0.7777777777777778,\"#fb9f3a\"],[0.8888888888888888,\"#fdca26\"],[1.0,\"#f0f921\"]],\"type\":\"histogram2dcontour\"}],\"histogram2d\":[{\"colorbar\":{\"outlinewidth\":0,\"ticks\":\"\"},\"colorscale\":[[0.0,\"#0d0887\"],[0.1111111111111111,\"#46039f\"],[0.2222222222222222,\"#7201a8\"],[0.3333333333333333,\"#9c179e\"],[0.4444444444444444,\"#bd3786\"],[0.5555555555555556,\"#d8576b\"],[0.6666666666666666,\"#ed7953\"],[0.7777777777777778,\"#fb9f3a\"],[0.8888888888888888,\"#fdca26\"],[1.0,\"#f0f921\"]],\"type\":\"histogram2d\"}],\"histogram\":[{\"marker\":{\"pattern\":{\"fillmode\":\"overlay\",\"size\":10,\"solidity\":0.2}},\"type\":\"histogram\"}],\"mesh3d\":[{\"colorbar\":{\"outlinewidth\":0,\"ticks\":\"\"},\"type\":\"mesh3d\"}],\"parcoords\":[{\"line\":{\"colorbar\":{\"outlinewidth\":0,\"ticks\":\"\"}},\"type\":\"parcoords\"}],\"pie\":[{\"automargin\":true,\"type\":\"pie\"}],\"scatter3d\":[{\"line\":{\"colorbar\":{\"outlinewidth\":0,\"ticks\":\"\"}},\"marker\":{\"colorbar\":{\"outlinewidth\":0,\"ticks\":\"\"}},\"type\":\"scatter3d\"}],\"scattercarpet\":[{\"marker\":{\"colorbar\":{\"outlinewidth\":0,\"ticks\":\"\"}},\"type\":\"scattercarpet\"}],\"scattergeo\":[{\"marker\":{\"colorbar\":{\"outlinewidth\":0,\"ticks\":\"\"}},\"type\":\"scattergeo\"}],\"scattergl\":[{\"marker\":{\"colorbar\":{\"outlinewidth\":0,\"ticks\":\"\"}},\"type\":\"scattergl\"}],\"scattermapbox\":[{\"marker\":{\"colorbar\":{\"outlinewidth\":0,\"ticks\":\"\"}},\"type\":\"scattermapbox\"}],\"scatterpolargl\":[{\"marker\":{\"colorbar\":{\"outlinewidth\":0,\"ticks\":\"\"}},\"type\":\"scatterpolargl\"}],\"scatterpolar\":[{\"marker\":{\"colorbar\":{\"outlinewidth\":0,\"ticks\":\"\"}},\"type\":\"scatterpolar\"}],\"scatter\":[{\"marker\":{\"colorbar\":{\"outlinewidth\":0,\"ticks\":\"\"}},\"type\":\"scatter\"}],\"scatterternary\":[{\"marker\":{\"colorbar\":{\"outlinewidth\":0,\"ticks\":\"\"}},\"type\":\"scatterternary\"}],\"surface\":[{\"colorbar\":{\"outlinewidth\":0,\"ticks\":\"\"},\"colorscale\":[[0.0,\"#0d0887\"],[0.1111111111111111,\"#46039f\"],[0.2222222222222222,\"#7201a8\"],[0.3333333333333333,\"#9c179e\"],[0.4444444444444444,\"#bd3786\"],[0.5555555555555556,\"#d8576b\"],[0.6666666666666666,\"#ed7953\"],[0.7777777777777778,\"#fb9f3a\"],[0.8888888888888888,\"#fdca26\"],[1.0,\"#f0f921\"]],\"type\":\"surface\"}],\"table\":[{\"cells\":{\"fill\":{\"color\":\"#EBF0F8\"},\"line\":{\"color\":\"white\"}},\"header\":{\"fill\":{\"color\":\"#C8D4E3\"},\"line\":{\"color\":\"white\"}},\"type\":\"table\"}]},\"layout\":{\"annotationdefaults\":{\"arrowcolor\":\"#2a3f5f\",\"arrowhead\":0,\"arrowwidth\":1},\"autotypenumbers\":\"strict\",\"coloraxis\":{\"colorbar\":{\"outlinewidth\":0,\"ticks\":\"\"}},\"colorscale\":{\"diverging\":[[0,\"#8e0152\"],[0.1,\"#c51b7d\"],[0.2,\"#de77ae\"],[0.3,\"#f1b6da\"],[0.4,\"#fde0ef\"],[0.5,\"#f7f7f7\"],[0.6,\"#e6f5d0\"],[0.7,\"#b8e186\"],[0.8,\"#7fbc41\"],[0.9,\"#4d9221\"],[1,\"#276419\"]],\"sequential\":[[0.0,\"#0d0887\"],[0.1111111111111111,\"#46039f\"],[0.2222222222222222,\"#7201a8\"],[0.3333333333333333,\"#9c179e\"],[0.4444444444444444,\"#bd3786\"],[0.5555555555555556,\"#d8576b\"],[0.6666666666666666,\"#ed7953\"],[0.7777777777777778,\"#fb9f3a\"],[0.8888888888888888,\"#fdca26\"],[1.0,\"#f0f921\"]],\"sequentialminus\":[[0.0,\"#0d0887\"],[0.1111111111111111,\"#46039f\"],[0.2222222222222222,\"#7201a8\"],[0.3333333333333333,\"#9c179e\"],[0.4444444444444444,\"#bd3786\"],[0.5555555555555556,\"#d8576b\"],[0.6666666666666666,\"#ed7953\"],[0.7777777777777778,\"#fb9f3a\"],[0.8888888888888888,\"#fdca26\"],[1.0,\"#f0f921\"]]},\"colorway\":[\"#636efa\",\"#EF553B\",\"#00cc96\",\"#ab63fa\",\"#FFA15A\",\"#19d3f3\",\"#FF6692\",\"#B6E880\",\"#FF97FF\",\"#FECB52\"],\"font\":{\"color\":\"#2a3f5f\"},\"geo\":{\"bgcolor\":\"white\",\"lakecolor\":\"white\",\"landcolor\":\"white\",\"showlakes\":true,\"showland\":true,\"subunitcolor\":\"#C8D4E3\"},\"hoverlabel\":{\"align\":\"left\"},\"hovermode\":\"closest\",\"mapbox\":{\"style\":\"light\"},\"paper_bgcolor\":\"white\",\"plot_bgcolor\":\"white\",\"polar\":{\"angularaxis\":{\"gridcolor\":\"#EBF0F8\",\"linecolor\":\"#EBF0F8\",\"ticks\":\"\"},\"bgcolor\":\"white\",\"radialaxis\":{\"gridcolor\":\"#EBF0F8\",\"linecolor\":\"#EBF0F8\",\"ticks\":\"\"}},\"scene\":{\"xaxis\":{\"backgroundcolor\":\"white\",\"gridcolor\":\"#DFE8F3\",\"gridwidth\":2,\"linecolor\":\"#EBF0F8\",\"showbackground\":true,\"ticks\":\"\",\"zerolinecolor\":\"#EBF0F8\"},\"yaxis\":{\"backgroundcolor\":\"white\",\"gridcolor\":\"#DFE8F3\",\"gridwidth\":2,\"linecolor\":\"#EBF0F8\",\"showbackground\":true,\"ticks\":\"\",\"zerolinecolor\":\"#EBF0F8\"},\"zaxis\":{\"backgroundcolor\":\"white\",\"gridcolor\":\"#DFE8F3\",\"gridwidth\":2,\"linecolor\":\"#EBF0F8\",\"showbackground\":true,\"ticks\":\"\",\"zerolinecolor\":\"#EBF0F8\"}},\"shapedefaults\":{\"line\":{\"color\":\"#2a3f5f\"}},\"ternary\":{\"aaxis\":{\"gridcolor\":\"#DFE8F3\",\"linecolor\":\"#A2B1C6\",\"ticks\":\"\"},\"baxis\":{\"gridcolor\":\"#DFE8F3\",\"linecolor\":\"#A2B1C6\",\"ticks\":\"\"},\"bgcolor\":\"white\",\"caxis\":{\"gridcolor\":\"#DFE8F3\",\"linecolor\":\"#A2B1C6\",\"ticks\":\"\"}},\"title\":{\"x\":0.05},\"xaxis\":{\"automargin\":true,\"gridcolor\":\"#EBF0F8\",\"linecolor\":\"#EBF0F8\",\"ticks\":\"\",\"title\":{\"standoff\":15},\"zerolinecolor\":\"#EBF0F8\",\"zerolinewidth\":2},\"yaxis\":{\"automargin\":true,\"gridcolor\":\"#EBF0F8\",\"linecolor\":\"#EBF0F8\",\"ticks\":\"\",\"title\":{\"standoff\":15},\"zerolinecolor\":\"#EBF0F8\",\"zerolinewidth\":2}}},\"xaxis\":{\"anchor\":\"y\",\"domain\":[0.0,1.0],\"title\":{\"text\":\"Budgetary impact error\"},\"tickprefix\":\"\\u00a3\"},\"yaxis\":{\"anchor\":\"x\",\"domain\":[0.0,1.0],\"title\":{\"text\":\"\"}},\"legend\":{\"tracegroupgap\":0,\"title\":{\"text\":\"Model\"},\"traceorder\":\"reversed\"},\"margin\":{\"t\":60},\"barmode\":\"group\",\"width\":800,\"height\":600,\"title\":{\"text\":\"Budgetary impact error\"}},                        {\"responsive\": true}                    ).then(function(){\n",
       "                            \n",
       "var gd = document.getElementById('0ef56ff8-702d-444b-bf2c-0afa8ec52c95');\n",
       "var x = new MutationObserver(function (mutations, observer) {{\n",
       "        var display = window.getComputedStyle(gd).display;\n",
       "        if (!display || display === 'none') {{\n",
       "            console.log([gd, 'removed!']);\n",
       "            Plotly.purge(gd);\n",
       "            observer.disconnect();\n",
       "        }}\n",
       "}});\n",
       "\n",
       "// Listen for the removal of the full notebook cells\n",
       "var notebookContainer = gd.closest('#notebook-container');\n",
       "if (notebookContainer) {{\n",
       "    x.observe(notebookContainer, {childList: true});\n",
       "}}\n",
       "\n",
       "// Listen for the clearing of the current output cell\n",
       "var outputEl = gd.closest('.output');\n",
       "if (outputEl) {{\n",
       "    x.observe(outputEl, {childList: true});\n",
       "}}\n",
       "\n",
       "                        })                };                });            </script>        </div>"
      ]
     },
     "metadata": {},
     "output_type": "display_data"
    }
   ],
   "source": [
    "pd.set_option(\"display.max_colwidth\", 0)\n",
    "pd.set_option(\"display.max_rows\", 500)\n",
    "\n",
    "\n",
    "def error_chart(table, title=None):\n",
    "    hovertemplate = \"<b>%{customdata[4]} in %{customdata[3]}</b><br>Error: %{x}<br>Official: £%{customdata[2]}bn<br>OpenFisca-UK: £%{customdata[0]}bn<br>UKMOD: £%{customdata[1]}bn\"\n",
    "    table = table.replace(\"\", np.nan).dropna(axis=0)\n",
    "    table[[policyengine_uk, UKMOD]] = table[[policyengine_uk, UKMOD]].abs() / 1e2\n",
    "    fig = (\n",
    "        px.bar(\n",
    "            table.sort_values([\"Year\", policyengine_uk]),\n",
    "            x=[policyengine_uk, UKMOD],\n",
    "            y=\"Program\",\n",
    "            orientation=\"h\",\n",
    "            animation_frame=\"Year\",\n",
    "            barmode=\"group\",\n",
    "            color_discrete_map={\n",
    "                policyengine_uk: \"blue\",\n",
    "                UKMOD: \"lightgrey\",\n",
    "            },\n",
    "            custom_data=[\n",
    "                \"OpenFisca-UK budgetary impact\",\n",
    "                \"UKMOD budgetary impact\",\n",
    "                \"External budgetary impact\",\n",
    "                \"Year\",\n",
    "                \"Program\",\n",
    "            ],\n",
    "        )\n",
    "        .update_layout(\n",
    "            width=800,\n",
    "            height=600,\n",
    "            xaxis_tickprefix=\"£\",\n",
    "            xaxis_title=\"Budgetary impact error\",\n",
    "            title=title,\n",
    "            template=\"plotly_white\",\n",
    "            legend_title=\"Model\",\n",
    "            yaxis_title=\"\",\n",
    "            legend_traceorder=\"reversed\",\n",
    "        )\n",
    "        .update_traces(hovertemplate=hovertemplate)\n",
    "    )\n",
    "    for frame in fig.frames:\n",
    "        for data in frame.data:\n",
    "            data.hovertemplate = hovertemplate\n",
    "    return fig\n",
    "\n",
    "\n",
    "error_chart(\n",
    "    tables_to_model_comparisons(\n",
    "        {\n",
    "            \"\": model_validation_table(\n",
    "                budgetary_impact_error,\n",
    "                models=[policyengine_uk, UKMOD],\n",
    "                divisor=1e-2,\n",
    "                decimals=1,\n",
    "            ),\n",
    "            \"budgetary impact\": model_validation_table(\n",
    "                budgetary_impact, divisor=1e9, decimals=1\n",
    "            ),\n",
    "        }\n",
    "    ),\n",
    "    title=\"Budgetary impact error\",\n",
    ")"
   ]
  },
  {
   "cell_type": "markdown",
   "id": "f89a9c20-9f10-4a8e-9ce9-5d35cc59f936",
   "metadata": {},
   "source": [
    "## Caseload tables\n",
    "\n",
    "OpenFisca-UK uprates input FRS data: below are comparisons between the aggregates calculated by OpenFisca-UK, UKMOD and external sources.\n",
    "\n",
    "### Caseloads in full"
   ]
  },
  {
   "cell_type": "code",
   "execution_count": 7,
   "id": "63f78e85-f975-49f2-9aa5-be89d8d0e4f4",
   "metadata": {
    "tags": [
     "hide-input"
    ]
   },
   "outputs": [
    {
     "data": {
      "text/html": [
       "<div>\n",
       "<style scoped>\n",
       "    .dataframe tbody tr th:only-of-type {\n",
       "        vertical-align: middle;\n",
       "    }\n",
       "\n",
       "    .dataframe tbody tr th {\n",
       "        vertical-align: top;\n",
       "    }\n",
       "\n",
       "    .dataframe thead th {\n",
       "        text-align: right;\n",
       "    }\n",
       "</style>\n",
       "<table border=\"1\" class=\"dataframe\">\n",
       "  <thead>\n",
       "    <tr style=\"text-align: right;\">\n",
       "      <th></th>\n",
       "      <th></th>\n",
       "      <th>Child Benefit</th>\n",
       "      <th>Income Support</th>\n",
       "      <th>JSA (income-based)</th>\n",
       "      <th>Housing Benefit</th>\n",
       "      <th>Working Tax Credit</th>\n",
       "      <th>Child Tax Credit</th>\n",
       "      <th>Universal Credit</th>\n",
       "      <th>Pension Credit</th>\n",
       "      <th>Income Tax</th>\n",
       "      <th>National Insurance (total)</th>\n",
       "      <th>Employment income</th>\n",
       "      <th>Self-employment income</th>\n",
       "      <th>Pension income</th>\n",
       "      <th>Rental income</th>\n",
       "      <th>Savings interest income</th>\n",
       "      <th>Income from dividends</th>\n",
       "    </tr>\n",
       "  </thead>\n",
       "  <tbody>\n",
       "    <tr>\n",
       "      <th rowspan=\"4\" valign=\"top\">External</th>\n",
       "      <th>2022</th>\n",
       "      <td></td>\n",
       "      <td></td>\n",
       "      <td></td>\n",
       "      <td></td>\n",
       "      <td></td>\n",
       "      <td></td>\n",
       "      <td></td>\n",
       "      <td></td>\n",
       "      <td></td>\n",
       "      <td></td>\n",
       "      <td></td>\n",
       "      <td></td>\n",
       "      <td></td>\n",
       "      <td></td>\n",
       "      <td></td>\n",
       "      <td></td>\n",
       "    </tr>\n",
       "    <tr>\n",
       "      <th>2023</th>\n",
       "      <td></td>\n",
       "      <td></td>\n",
       "      <td></td>\n",
       "      <td></td>\n",
       "      <td></td>\n",
       "      <td></td>\n",
       "      <td></td>\n",
       "      <td></td>\n",
       "      <td></td>\n",
       "      <td></td>\n",
       "      <td></td>\n",
       "      <td></td>\n",
       "      <td></td>\n",
       "      <td></td>\n",
       "      <td></td>\n",
       "      <td></td>\n",
       "    </tr>\n",
       "    <tr>\n",
       "      <th>2024</th>\n",
       "      <td></td>\n",
       "      <td></td>\n",
       "      <td></td>\n",
       "      <td></td>\n",
       "      <td></td>\n",
       "      <td></td>\n",
       "      <td></td>\n",
       "      <td></td>\n",
       "      <td></td>\n",
       "      <td></td>\n",
       "      <td></td>\n",
       "      <td></td>\n",
       "      <td></td>\n",
       "      <td></td>\n",
       "      <td></td>\n",
       "      <td></td>\n",
       "    </tr>\n",
       "    <tr>\n",
       "      <th>2025</th>\n",
       "      <td></td>\n",
       "      <td></td>\n",
       "      <td></td>\n",
       "      <td></td>\n",
       "      <td></td>\n",
       "      <td></td>\n",
       "      <td></td>\n",
       "      <td></td>\n",
       "      <td></td>\n",
       "      <td></td>\n",
       "      <td></td>\n",
       "      <td></td>\n",
       "      <td></td>\n",
       "      <td></td>\n",
       "      <td></td>\n",
       "      <td></td>\n",
       "    </tr>\n",
       "    <tr>\n",
       "      <th rowspan=\"4\" valign=\"top\">OpenFisca-UK</th>\n",
       "      <th>2022</th>\n",
       "      <td>7.16</td>\n",
       "      <td>0.17</td>\n",
       "      <td>0.05</td>\n",
       "      <td>2.78</td>\n",
       "      <td>0.78</td>\n",
       "      <td>1.25</td>\n",
       "      <td>4.95</td>\n",
       "      <td>1.62</td>\n",
       "      <td>31.17</td>\n",
       "      <td>26.36</td>\n",
       "      <td>32.32</td>\n",
       "      <td>4.63</td>\n",
       "      <td>11.4</td>\n",
       "      <td>2.6</td>\n",
       "      <td>14.64</td>\n",
       "      <td>5.44</td>\n",
       "    </tr>\n",
       "    <tr>\n",
       "      <th>2023</th>\n",
       "      <td>7.03</td>\n",
       "      <td>0.13</td>\n",
       "      <td>0.01</td>\n",
       "      <td>2.52</td>\n",
       "      <td>0.57</td>\n",
       "      <td>0.91</td>\n",
       "      <td>5.58</td>\n",
       "      <td>1.52</td>\n",
       "      <td>32.37</td>\n",
       "      <td>26.62</td>\n",
       "      <td>32.16</td>\n",
       "      <td>4.62</td>\n",
       "      <td>11.39</td>\n",
       "      <td>2.59</td>\n",
       "      <td>14.66</td>\n",
       "      <td>5.42</td>\n",
       "    </tr>\n",
       "    <tr>\n",
       "      <th>2024</th>\n",
       "      <td>6.93</td>\n",
       "      <td>0.08</td>\n",
       "      <td>0.0</td>\n",
       "      <td>2.15</td>\n",
       "      <td>0.36</td>\n",
       "      <td>0.56</td>\n",
       "      <td>6.16</td>\n",
       "      <td>1.4</td>\n",
       "      <td>33.51</td>\n",
       "      <td>27.13</td>\n",
       "      <td>32.12</td>\n",
       "      <td>4.62</td>\n",
       "      <td>11.39</td>\n",
       "      <td>2.59</td>\n",
       "      <td>14.63</td>\n",
       "      <td>5.41</td>\n",
       "    </tr>\n",
       "    <tr>\n",
       "      <th>2025</th>\n",
       "      <td>6.89</td>\n",
       "      <td>0.04</td>\n",
       "      <td>0.0</td>\n",
       "      <td>1.76</td>\n",
       "      <td>0.16</td>\n",
       "      <td>0.24</td>\n",
       "      <td>7.02</td>\n",
       "      <td>1.31</td>\n",
       "      <td>34.75</td>\n",
       "      <td>27.77</td>\n",
       "      <td>32.19</td>\n",
       "      <td>4.63</td>\n",
       "      <td>11.4</td>\n",
       "      <td>2.6</td>\n",
       "      <td>14.65</td>\n",
       "      <td>5.42</td>\n",
       "    </tr>\n",
       "    <tr>\n",
       "      <th rowspan=\"4\" valign=\"top\">UKMOD</th>\n",
       "      <th>2022</th>\n",
       "      <td>7.12</td>\n",
       "      <td></td>\n",
       "      <td></td>\n",
       "      <td>2.26</td>\n",
       "      <td>0.54</td>\n",
       "      <td>1.08</td>\n",
       "      <td>4.21</td>\n",
       "      <td>1.41</td>\n",
       "      <td>30.01</td>\n",
       "      <td>26.08</td>\n",
       "      <td></td>\n",
       "      <td></td>\n",
       "      <td></td>\n",
       "      <td></td>\n",
       "      <td></td>\n",
       "      <td></td>\n",
       "    </tr>\n",
       "    <tr>\n",
       "      <th>2023</th>\n",
       "      <td>7.07</td>\n",
       "      <td></td>\n",
       "      <td></td>\n",
       "      <td>2.05</td>\n",
       "      <td>0.44</td>\n",
       "      <td>0.89</td>\n",
       "      <td>4.66</td>\n",
       "      <td>1.45</td>\n",
       "      <td>30.58</td>\n",
       "      <td>26.19</td>\n",
       "      <td></td>\n",
       "      <td></td>\n",
       "      <td></td>\n",
       "      <td></td>\n",
       "      <td></td>\n",
       "      <td></td>\n",
       "    </tr>\n",
       "    <tr>\n",
       "      <th>2024</th>\n",
       "      <td>7.02</td>\n",
       "      <td></td>\n",
       "      <td></td>\n",
       "      <td>1.78</td>\n",
       "      <td>0.3</td>\n",
       "      <td>0.64</td>\n",
       "      <td>5.31</td>\n",
       "      <td>1.44</td>\n",
       "      <td>30.94</td>\n",
       "      <td>26.24</td>\n",
       "      <td></td>\n",
       "      <td></td>\n",
       "      <td></td>\n",
       "      <td></td>\n",
       "      <td></td>\n",
       "      <td></td>\n",
       "    </tr>\n",
       "    <tr>\n",
       "      <th>2025</th>\n",
       "      <td>6.99</td>\n",
       "      <td></td>\n",
       "      <td></td>\n",
       "      <td>1.43</td>\n",
       "      <td>0.13</td>\n",
       "      <td>0.29</td>\n",
       "      <td>6.15</td>\n",
       "      <td>1.42</td>\n",
       "      <td>31.47</td>\n",
       "      <td>26.27</td>\n",
       "      <td></td>\n",
       "      <td></td>\n",
       "      <td></td>\n",
       "      <td></td>\n",
       "      <td></td>\n",
       "      <td></td>\n",
       "    </tr>\n",
       "  </tbody>\n",
       "</table>\n",
       "</div>"
      ],
      "text/plain": [
       "                  Child Benefit Income Support JSA (income-based)  \\\n",
       "External     2022                                                   \n",
       "             2023                                                   \n",
       "             2024                                                   \n",
       "             2025                                                   \n",
       "OpenFisca-UK 2022  7.16          0.17           0.05                \n",
       "             2023  7.03          0.13           0.01                \n",
       "             2024  6.93          0.08           0.0                 \n",
       "             2025  6.89          0.04           0.0                 \n",
       "UKMOD        2022  7.12                                             \n",
       "             2023  7.07                                             \n",
       "             2024  7.02                                             \n",
       "             2025  6.99                                             \n",
       "\n",
       "                  Housing Benefit Working Tax Credit Child Tax Credit  \\\n",
       "External     2022                                                       \n",
       "             2023                                                       \n",
       "             2024                                                       \n",
       "             2025                                                       \n",
       "OpenFisca-UK 2022  2.78            0.78               1.25              \n",
       "             2023  2.52            0.57               0.91              \n",
       "             2024  2.15            0.36               0.56              \n",
       "             2025  1.76            0.16               0.24              \n",
       "UKMOD        2022  2.26            0.54               1.08              \n",
       "             2023  2.05            0.44               0.89              \n",
       "             2024  1.78            0.3                0.64              \n",
       "             2025  1.43            0.13               0.29              \n",
       "\n",
       "                  Universal Credit Pension Credit Income Tax  \\\n",
       "External     2022                                              \n",
       "             2023                                              \n",
       "             2024                                              \n",
       "             2025                                              \n",
       "OpenFisca-UK 2022  4.95             1.62           31.17       \n",
       "             2023  5.58             1.52           32.37       \n",
       "             2024  6.16             1.4            33.51       \n",
       "             2025  7.02             1.31           34.75       \n",
       "UKMOD        2022  4.21             1.41           30.01       \n",
       "             2023  4.66             1.45           30.58       \n",
       "             2024  5.31             1.44           30.94       \n",
       "             2025  6.15             1.42           31.47       \n",
       "\n",
       "                  National Insurance (total) Employment income  \\\n",
       "External     2022                                                \n",
       "             2023                                                \n",
       "             2024                                                \n",
       "             2025                                                \n",
       "OpenFisca-UK 2022  26.36                      32.32              \n",
       "             2023  26.62                      32.16              \n",
       "             2024  27.13                      32.12              \n",
       "             2025  27.77                      32.19              \n",
       "UKMOD        2022  26.08                                         \n",
       "             2023  26.19                                         \n",
       "             2024  26.24                                         \n",
       "             2025  26.27                                         \n",
       "\n",
       "                  Self-employment income Pension income Rental income  \\\n",
       "External     2022                                                       \n",
       "             2023                                                       \n",
       "             2024                                                       \n",
       "             2025                                                       \n",
       "OpenFisca-UK 2022  4.63                   11.4           2.6            \n",
       "             2023  4.62                   11.39          2.59           \n",
       "             2024  4.62                   11.39          2.59           \n",
       "             2025  4.63                   11.4           2.6            \n",
       "UKMOD        2022                                                       \n",
       "             2023                                                       \n",
       "             2024                                                       \n",
       "             2025                                                       \n",
       "\n",
       "                  Savings interest income Income from dividends  \n",
       "External     2022                                                \n",
       "             2023                                                \n",
       "             2024                                                \n",
       "             2025                                                \n",
       "OpenFisca-UK 2022  14.64                   5.44                  \n",
       "             2023  14.66                   5.42                  \n",
       "             2024  14.63                   5.41                  \n",
       "             2025  14.65                   5.42                  \n",
       "UKMOD        2022                                                \n",
       "             2023                                                \n",
       "             2024                                                \n",
       "             2025                                                "
      ]
     },
     "execution_count": 7,
     "metadata": {},
     "output_type": "execute_result"
    }
   ],
   "source": [
    "from microdf import MicroSeries\n",
    "from openfisca_core.parameters import Parameter\n",
    "\n",
    "\n",
    "def get_nonzero(variable, year):\n",
    "    entity = default_variables[variable].entity.key\n",
    "    values = sim.calc(variable, period=year) > 0\n",
    "    return MicroSeries(\n",
    "        sim.map_to(values, entity, \"household\"),\n",
    "        weights=sim.calc(\"household_weight\", year),\n",
    "    )\n",
    "\n",
    "\n",
    "def caseload(model, year, variable):\n",
    "    try:\n",
    "        if model == policyengine_uk:\n",
    "            return get_nonzero(variable, year).sum()\n",
    "        elif model == UKMOD:\n",
    "            return getattr(ukmod_statistics.ukmod.nonzero_units, variable)(\n",
    "                f\"{year}-01-01\"\n",
    "            )\n",
    "        elif model == EXTERNAL:\n",
    "            if variable == \"income_tax\":\n",
    "                total = 0\n",
    "                for (\n",
    "                    subparam\n",
    "                ) in (\n",
    "                    parameters.calibration.programs.income_tax.participants.by_country_and_band.get_descendants()\n",
    "                ):\n",
    "                    if isinstance(subparam, Parameter):\n",
    "                        total += subparam(f\"{year}-01-01\")\n",
    "                return total\n",
    "            try:\n",
    "                return parameters.calibration.programs.children[\n",
    "                    variable\n",
    "                ].participants.UNITED_KINGDOM(f\"{year}-01-01\")\n",
    "            except:\n",
    "                return parameters.calibration.programs.children[\n",
    "                    variable\n",
    "                ].participants.GREAT_BRITAIN(f\"{year}-01-01\")\n",
    "    except:\n",
    "        return np.nan\n",
    "\n",
    "\n",
    "model_validation_table(\n",
    "    caseload, models=[EXTERNAL, policyengine_uk, UKMOD], divisor=1e6, decimals=2\n",
    ")"
   ]
  },
  {
   "cell_type": "markdown",
   "id": "d83ef056-b2c6-4f56-b11b-de4ee980463d",
   "metadata": {},
   "source": [
    "### Caseload forecasts"
   ]
  },
  {
   "cell_type": "code",
   "execution_count": 8,
   "id": "7b883c5d-171d-4511-a769-47254476aad3",
   "metadata": {
    "tags": [
     "hide-input"
    ]
   },
   "outputs": [
    {
     "data": {
      "application/vnd.plotly.v1+json": {
       "config": {
        "plotlyServerURL": "https://plot.ly"
       },
       "data": [
        {
         "hovertemplate": "",
         "legendgroup": "External",
         "line": {
          "color": "#00cc96",
          "dash": "solid"
         },
         "marker": {
          "symbol": "circle"
         },
         "mode": "lines",
         "name": "External",
         "orientation": "h",
         "showlegend": true,
         "type": "scatter",
         "x": [
          2022,
          2023,
          2024,
          2025
         ],
         "xaxis": "x",
         "y": [
          "",
          "",
          "",
          ""
         ],
         "yaxis": "y"
        },
        {
         "hovertemplate": "",
         "legendgroup": "OpenFisca-UK",
         "line": {
          "color": "blue",
          "dash": "solid"
         },
         "marker": {
          "symbol": "circle"
         },
         "mode": "lines",
         "name": "OpenFisca-UK",
         "orientation": "h",
         "showlegend": true,
         "type": "scatter",
         "x": [
          2022,
          2023,
          2024,
          2025
         ],
         "xaxis": "x",
         "y": [
          7157839.9,
          7029670.7,
          6930827.8,
          6888168.7
         ],
         "yaxis": "y"
        },
        {
         "hovertemplate": "",
         "legendgroup": "UKMOD",
         "line": {
          "color": "lightgrey",
          "dash": "solid"
         },
         "marker": {
          "symbol": "circle"
         },
         "mode": "lines",
         "name": "UKMOD",
         "orientation": "h",
         "showlegend": true,
         "type": "scatter",
         "x": [
          2022,
          2023,
          2024,
          2025
         ],
         "xaxis": "x",
         "y": [
          7116000,
          7072000,
          7022000,
          6990000
         ],
         "yaxis": "y"
        }
       ],
       "frames": [
        {
         "data": [
          {
           "hovertemplate": "",
           "legendgroup": "External",
           "line": {
            "color": "#00cc96",
            "dash": "solid"
           },
           "marker": {
            "symbol": "circle"
           },
           "mode": "lines",
           "name": "External",
           "orientation": "h",
           "showlegend": true,
           "type": "scatter",
           "x": [
            2022,
            2023,
            2024,
            2025
           ],
           "xaxis": "x",
           "y": [
            "",
            "",
            "",
            ""
           ],
           "yaxis": "y"
          },
          {
           "hovertemplate": "",
           "legendgroup": "OpenFisca-UK",
           "line": {
            "color": "blue",
            "dash": "solid"
           },
           "marker": {
            "symbol": "circle"
           },
           "mode": "lines",
           "name": "OpenFisca-UK",
           "orientation": "h",
           "showlegend": true,
           "type": "scatter",
           "x": [
            2022,
            2023,
            2024,
            2025
           ],
           "xaxis": "x",
           "y": [
            7157839.9,
            7029670.7,
            6930827.8,
            6888168.7
           ],
           "yaxis": "y"
          },
          {
           "hovertemplate": "",
           "legendgroup": "UKMOD",
           "line": {
            "color": "lightgrey",
            "dash": "solid"
           },
           "marker": {
            "symbol": "circle"
           },
           "mode": "lines",
           "name": "UKMOD",
           "orientation": "h",
           "showlegend": true,
           "type": "scatter",
           "x": [
            2022,
            2023,
            2024,
            2025
           ],
           "xaxis": "x",
           "y": [
            7116000,
            7072000,
            7022000,
            6990000
           ],
           "yaxis": "y"
          }
         ],
         "name": "Child Benefit"
        },
        {
         "data": [
          {
           "hovertemplate": "",
           "legendgroup": "External",
           "line": {
            "color": "#00cc96",
            "dash": "solid"
           },
           "marker": {
            "symbol": "circle"
           },
           "mode": "lines",
           "name": "External",
           "orientation": "h",
           "showlegend": true,
           "type": "scatter",
           "x": [
            2022,
            2023,
            2024,
            2025
           ],
           "xaxis": "x",
           "y": [
            "",
            "",
            "",
            ""
           ],
           "yaxis": "y"
          },
          {
           "hovertemplate": "",
           "legendgroup": "OpenFisca-UK",
           "line": {
            "color": "blue",
            "dash": "solid"
           },
           "marker": {
            "symbol": "circle"
           },
           "mode": "lines",
           "name": "OpenFisca-UK",
           "orientation": "h",
           "showlegend": true,
           "type": "scatter",
           "x": [
            2022,
            2023,
            2024,
            2025
           ],
           "xaxis": "x",
           "y": [
            1248143.6,
            905727.4,
            562812.1,
            244957
           ],
           "yaxis": "y"
          },
          {
           "hovertemplate": "",
           "legendgroup": "UKMOD",
           "line": {
            "color": "lightgrey",
            "dash": "solid"
           },
           "marker": {
            "symbol": "circle"
           },
           "mode": "lines",
           "name": "UKMOD",
           "orientation": "h",
           "showlegend": true,
           "type": "scatter",
           "x": [
            2022,
            2023,
            2024,
            2025
           ],
           "xaxis": "x",
           "y": [
            1080000,
            890000,
            643000,
            292000
           ],
           "yaxis": "y"
          }
         ],
         "name": "Child Tax Credit"
        },
        {
         "data": [
          {
           "hovertemplate": "",
           "legendgroup": "External",
           "line": {
            "color": "#00cc96",
            "dash": "solid"
           },
           "marker": {
            "symbol": "circle"
           },
           "mode": "lines",
           "name": "External",
           "orientation": "h",
           "showlegend": true,
           "type": "scatter",
           "x": [
            2022,
            2023,
            2024,
            2025
           ],
           "xaxis": "x",
           "y": [
            "",
            "",
            "",
            ""
           ],
           "yaxis": "y"
          },
          {
           "hovertemplate": "",
           "legendgroup": "OpenFisca-UK",
           "line": {
            "color": "blue",
            "dash": "solid"
           },
           "marker": {
            "symbol": "circle"
           },
           "mode": "lines",
           "name": "OpenFisca-UK",
           "orientation": "h",
           "showlegend": true,
           "type": "scatter",
           "x": [
            2022,
            2023,
            2024,
            2025
           ],
           "xaxis": "x",
           "y": [
            32315648.1,
            32157285.5,
            32123080.3,
            32186795.3
           ],
           "yaxis": "y"
          },
          {
           "hovertemplate": "",
           "legendgroup": "UKMOD",
           "line": {
            "color": "lightgrey",
            "dash": "solid"
           },
           "marker": {
            "symbol": "circle"
           },
           "mode": "lines",
           "name": "UKMOD",
           "orientation": "h",
           "showlegend": true,
           "type": "scatter",
           "x": [
            2022,
            2023,
            2024,
            2025
           ],
           "xaxis": "x",
           "y": [
            "",
            "",
            "",
            ""
           ],
           "yaxis": "y"
          }
         ],
         "name": "Employment income"
        },
        {
         "data": [
          {
           "hovertemplate": "",
           "legendgroup": "External",
           "line": {
            "color": "#00cc96",
            "dash": "solid"
           },
           "marker": {
            "symbol": "circle"
           },
           "mode": "lines",
           "name": "External",
           "orientation": "h",
           "showlegend": true,
           "type": "scatter",
           "x": [
            2022,
            2023,
            2024,
            2025
           ],
           "xaxis": "x",
           "y": [
            "",
            "",
            "",
            ""
           ],
           "yaxis": "y"
          },
          {
           "hovertemplate": "",
           "legendgroup": "OpenFisca-UK",
           "line": {
            "color": "blue",
            "dash": "solid"
           },
           "marker": {
            "symbol": "circle"
           },
           "mode": "lines",
           "name": "OpenFisca-UK",
           "orientation": "h",
           "showlegend": true,
           "type": "scatter",
           "x": [
            2022,
            2023,
            2024,
            2025
           ],
           "xaxis": "x",
           "y": [
            2777764.9,
            2516062.2,
            2147624.6,
            1755599.7
           ],
           "yaxis": "y"
          },
          {
           "hovertemplate": "",
           "legendgroup": "UKMOD",
           "line": {
            "color": "lightgrey",
            "dash": "solid"
           },
           "marker": {
            "symbol": "circle"
           },
           "mode": "lines",
           "name": "UKMOD",
           "orientation": "h",
           "showlegend": true,
           "type": "scatter",
           "x": [
            2022,
            2023,
            2024,
            2025
           ],
           "xaxis": "x",
           "y": [
            2262000,
            2050000,
            1783000,
            1432000
           ],
           "yaxis": "y"
          }
         ],
         "name": "Housing Benefit"
        },
        {
         "data": [
          {
           "hovertemplate": "",
           "legendgroup": "External",
           "line": {
            "color": "#00cc96",
            "dash": "solid"
           },
           "marker": {
            "symbol": "circle"
           },
           "mode": "lines",
           "name": "External",
           "orientation": "h",
           "showlegend": true,
           "type": "scatter",
           "x": [
            2022,
            2023,
            2024,
            2025
           ],
           "xaxis": "x",
           "y": [
            "",
            "",
            "",
            ""
           ],
           "yaxis": "y"
          },
          {
           "hovertemplate": "",
           "legendgroup": "OpenFisca-UK",
           "line": {
            "color": "blue",
            "dash": "solid"
           },
           "marker": {
            "symbol": "circle"
           },
           "mode": "lines",
           "name": "OpenFisca-UK",
           "orientation": "h",
           "showlegend": true,
           "type": "scatter",
           "x": [
            2022,
            2023,
            2024,
            2025
           ],
           "xaxis": "x",
           "y": [
            172783.1,
            126623.3,
            84721.1,
            44383.8
           ],
           "yaxis": "y"
          },
          {
           "hovertemplate": "",
           "legendgroup": "UKMOD",
           "line": {
            "color": "lightgrey",
            "dash": "solid"
           },
           "marker": {
            "symbol": "circle"
           },
           "mode": "lines",
           "name": "UKMOD",
           "orientation": "h",
           "showlegend": true,
           "type": "scatter",
           "x": [
            2022,
            2023,
            2024,
            2025
           ],
           "xaxis": "x",
           "y": [
            "",
            "",
            "",
            ""
           ],
           "yaxis": "y"
          }
         ],
         "name": "Income Support"
        },
        {
         "data": [
          {
           "hovertemplate": "",
           "legendgroup": "External",
           "line": {
            "color": "#00cc96",
            "dash": "solid"
           },
           "marker": {
            "symbol": "circle"
           },
           "mode": "lines",
           "name": "External",
           "orientation": "h",
           "showlegend": true,
           "type": "scatter",
           "x": [
            2022,
            2023,
            2024,
            2025
           ],
           "xaxis": "x",
           "y": [
            "",
            "",
            "",
            ""
           ],
           "yaxis": "y"
          },
          {
           "hovertemplate": "",
           "legendgroup": "OpenFisca-UK",
           "line": {
            "color": "blue",
            "dash": "solid"
           },
           "marker": {
            "symbol": "circle"
           },
           "mode": "lines",
           "name": "OpenFisca-UK",
           "orientation": "h",
           "showlegend": true,
           "type": "scatter",
           "x": [
            2022,
            2023,
            2024,
            2025
           ],
           "xaxis": "x",
           "y": [
            31169613.1,
            32370129.9,
            33514861.8,
            34752508.9
           ],
           "yaxis": "y"
          },
          {
           "hovertemplate": "",
           "legendgroup": "UKMOD",
           "line": {
            "color": "lightgrey",
            "dash": "solid"
           },
           "marker": {
            "symbol": "circle"
           },
           "mode": "lines",
           "name": "UKMOD",
           "orientation": "h",
           "showlegend": true,
           "type": "scatter",
           "x": [
            2022,
            2023,
            2024,
            2025
           ],
           "xaxis": "x",
           "y": [
            30011000,
            30583000,
            30939000,
            31466000
           ],
           "yaxis": "y"
          }
         ],
         "name": "Income Tax"
        },
        {
         "data": [
          {
           "hovertemplate": "",
           "legendgroup": "External",
           "line": {
            "color": "#00cc96",
            "dash": "solid"
           },
           "marker": {
            "symbol": "circle"
           },
           "mode": "lines",
           "name": "External",
           "orientation": "h",
           "showlegend": true,
           "type": "scatter",
           "x": [
            2022,
            2023,
            2024,
            2025
           ],
           "xaxis": "x",
           "y": [
            "",
            "",
            "",
            ""
           ],
           "yaxis": "y"
          },
          {
           "hovertemplate": "",
           "legendgroup": "OpenFisca-UK",
           "line": {
            "color": "blue",
            "dash": "solid"
           },
           "marker": {
            "symbol": "circle"
           },
           "mode": "lines",
           "name": "OpenFisca-UK",
           "orientation": "h",
           "showlegend": true,
           "type": "scatter",
           "x": [
            2022,
            2023,
            2024,
            2025
           ],
           "xaxis": "x",
           "y": [
            5437156.9,
            5417431.2,
            5408685.5,
            5416527.9
           ],
           "yaxis": "y"
          },
          {
           "hovertemplate": "",
           "legendgroup": "UKMOD",
           "line": {
            "color": "lightgrey",
            "dash": "solid"
           },
           "marker": {
            "symbol": "circle"
           },
           "mode": "lines",
           "name": "UKMOD",
           "orientation": "h",
           "showlegend": true,
           "type": "scatter",
           "x": [
            2022,
            2023,
            2024,
            2025
           ],
           "xaxis": "x",
           "y": [
            "",
            "",
            "",
            ""
           ],
           "yaxis": "y"
          }
         ],
         "name": "Income from dividends"
        },
        {
         "data": [
          {
           "hovertemplate": "",
           "legendgroup": "External",
           "line": {
            "color": "#00cc96",
            "dash": "solid"
           },
           "marker": {
            "symbol": "circle"
           },
           "mode": "lines",
           "name": "External",
           "orientation": "h",
           "showlegend": true,
           "type": "scatter",
           "x": [
            2022,
            2023,
            2024,
            2025
           ],
           "xaxis": "x",
           "y": [
            "",
            "",
            "",
            ""
           ],
           "yaxis": "y"
          },
          {
           "hovertemplate": "",
           "legendgroup": "OpenFisca-UK",
           "line": {
            "color": "blue",
            "dash": "solid"
           },
           "marker": {
            "symbol": "circle"
           },
           "mode": "lines",
           "name": "OpenFisca-UK",
           "orientation": "h",
           "showlegend": true,
           "type": "scatter",
           "x": [
            2022,
            2023,
            2024,
            2025
           ],
           "xaxis": "x",
           "y": [
            50461.4,
            7650.4,
            4371.7,
            3134.3
           ],
           "yaxis": "y"
          },
          {
           "hovertemplate": "",
           "legendgroup": "UKMOD",
           "line": {
            "color": "lightgrey",
            "dash": "solid"
           },
           "marker": {
            "symbol": "circle"
           },
           "mode": "lines",
           "name": "UKMOD",
           "orientation": "h",
           "showlegend": true,
           "type": "scatter",
           "x": [
            2022,
            2023,
            2024,
            2025
           ],
           "xaxis": "x",
           "y": [
            "",
            "",
            "",
            ""
           ],
           "yaxis": "y"
          }
         ],
         "name": "JSA (income-based)"
        },
        {
         "data": [
          {
           "hovertemplate": "",
           "legendgroup": "External",
           "line": {
            "color": "#00cc96",
            "dash": "solid"
           },
           "marker": {
            "symbol": "circle"
           },
           "mode": "lines",
           "name": "External",
           "orientation": "h",
           "showlegend": true,
           "type": "scatter",
           "x": [
            2022,
            2023,
            2024,
            2025
           ],
           "xaxis": "x",
           "y": [
            "",
            "",
            "",
            ""
           ],
           "yaxis": "y"
          },
          {
           "hovertemplate": "",
           "legendgroup": "OpenFisca-UK",
           "line": {
            "color": "blue",
            "dash": "solid"
           },
           "marker": {
            "symbol": "circle"
           },
           "mode": "lines",
           "name": "OpenFisca-UK",
           "orientation": "h",
           "showlegend": true,
           "type": "scatter",
           "x": [
            2022,
            2023,
            2024,
            2025
           ],
           "xaxis": "x",
           "y": [
            26362129.4,
            26617537.8,
            27127213,
            27773680.4
           ],
           "yaxis": "y"
          },
          {
           "hovertemplate": "",
           "legendgroup": "UKMOD",
           "line": {
            "color": "lightgrey",
            "dash": "solid"
           },
           "marker": {
            "symbol": "circle"
           },
           "mode": "lines",
           "name": "UKMOD",
           "orientation": "h",
           "showlegend": true,
           "type": "scatter",
           "x": [
            2022,
            2023,
            2024,
            2025
           ],
           "xaxis": "x",
           "y": [
            26084000,
            26194000,
            26239000,
            26271000
           ],
           "yaxis": "y"
          }
         ],
         "name": "National Insurance (total)"
        },
        {
         "data": [
          {
           "hovertemplate": "",
           "legendgroup": "External",
           "line": {
            "color": "#00cc96",
            "dash": "solid"
           },
           "marker": {
            "symbol": "circle"
           },
           "mode": "lines",
           "name": "External",
           "orientation": "h",
           "showlegend": true,
           "type": "scatter",
           "x": [
            2022,
            2023,
            2024,
            2025
           ],
           "xaxis": "x",
           "y": [
            "",
            "",
            "",
            ""
           ],
           "yaxis": "y"
          },
          {
           "hovertemplate": "",
           "legendgroup": "OpenFisca-UK",
           "line": {
            "color": "blue",
            "dash": "solid"
           },
           "marker": {
            "symbol": "circle"
           },
           "mode": "lines",
           "name": "OpenFisca-UK",
           "orientation": "h",
           "showlegend": true,
           "type": "scatter",
           "x": [
            2022,
            2023,
            2024,
            2025
           ],
           "xaxis": "x",
           "y": [
            1622877.4,
            1520672.8,
            1400218.1,
            1313007.8
           ],
           "yaxis": "y"
          },
          {
           "hovertemplate": "",
           "legendgroup": "UKMOD",
           "line": {
            "color": "lightgrey",
            "dash": "solid"
           },
           "marker": {
            "symbol": "circle"
           },
           "mode": "lines",
           "name": "UKMOD",
           "orientation": "h",
           "showlegend": true,
           "type": "scatter",
           "x": [
            2022,
            2023,
            2024,
            2025
           ],
           "xaxis": "x",
           "y": [
            1413000,
            1445000,
            1442000,
            1417000
           ],
           "yaxis": "y"
          }
         ],
         "name": "Pension Credit"
        },
        {
         "data": [
          {
           "hovertemplate": "",
           "legendgroup": "External",
           "line": {
            "color": "#00cc96",
            "dash": "solid"
           },
           "marker": {
            "symbol": "circle"
           },
           "mode": "lines",
           "name": "External",
           "orientation": "h",
           "showlegend": true,
           "type": "scatter",
           "x": [
            2022,
            2023,
            2024,
            2025
           ],
           "xaxis": "x",
           "y": [
            "",
            "",
            "",
            ""
           ],
           "yaxis": "y"
          },
          {
           "hovertemplate": "",
           "legendgroup": "OpenFisca-UK",
           "line": {
            "color": "blue",
            "dash": "solid"
           },
           "marker": {
            "symbol": "circle"
           },
           "mode": "lines",
           "name": "OpenFisca-UK",
           "orientation": "h",
           "showlegend": true,
           "type": "scatter",
           "x": [
            2022,
            2023,
            2024,
            2025
           ],
           "xaxis": "x",
           "y": [
            11398335.8,
            11390814.6,
            11392878.6,
            11401477
           ],
           "yaxis": "y"
          },
          {
           "hovertemplate": "",
           "legendgroup": "UKMOD",
           "line": {
            "color": "lightgrey",
            "dash": "solid"
           },
           "marker": {
            "symbol": "circle"
           },
           "mode": "lines",
           "name": "UKMOD",
           "orientation": "h",
           "showlegend": true,
           "type": "scatter",
           "x": [
            2022,
            2023,
            2024,
            2025
           ],
           "xaxis": "x",
           "y": [
            "",
            "",
            "",
            ""
           ],
           "yaxis": "y"
          }
         ],
         "name": "Pension income"
        },
        {
         "data": [
          {
           "hovertemplate": "",
           "legendgroup": "External",
           "line": {
            "color": "#00cc96",
            "dash": "solid"
           },
           "marker": {
            "symbol": "circle"
           },
           "mode": "lines",
           "name": "External",
           "orientation": "h",
           "showlegend": true,
           "type": "scatter",
           "x": [
            2022,
            2023,
            2024,
            2025
           ],
           "xaxis": "x",
           "y": [
            "",
            "",
            "",
            ""
           ],
           "yaxis": "y"
          },
          {
           "hovertemplate": "",
           "legendgroup": "OpenFisca-UK",
           "line": {
            "color": "blue",
            "dash": "solid"
           },
           "marker": {
            "symbol": "circle"
           },
           "mode": "lines",
           "name": "OpenFisca-UK",
           "orientation": "h",
           "showlegend": true,
           "type": "scatter",
           "x": [
            2022,
            2023,
            2024,
            2025
           ],
           "xaxis": "x",
           "y": [
            2598378.5,
            2594890.3,
            2593795.7,
            2598877.6
           ],
           "yaxis": "y"
          },
          {
           "hovertemplate": "",
           "legendgroup": "UKMOD",
           "line": {
            "color": "lightgrey",
            "dash": "solid"
           },
           "marker": {
            "symbol": "circle"
           },
           "mode": "lines",
           "name": "UKMOD",
           "orientation": "h",
           "showlegend": true,
           "type": "scatter",
           "x": [
            2022,
            2023,
            2024,
            2025
           ],
           "xaxis": "x",
           "y": [
            "",
            "",
            "",
            ""
           ],
           "yaxis": "y"
          }
         ],
         "name": "Rental income"
        },
        {
         "data": [
          {
           "hovertemplate": "",
           "legendgroup": "External",
           "line": {
            "color": "#00cc96",
            "dash": "solid"
           },
           "marker": {
            "symbol": "circle"
           },
           "mode": "lines",
           "name": "External",
           "orientation": "h",
           "showlegend": true,
           "type": "scatter",
           "x": [
            2022,
            2023,
            2024,
            2025
           ],
           "xaxis": "x",
           "y": [
            "",
            "",
            "",
            ""
           ],
           "yaxis": "y"
          },
          {
           "hovertemplate": "",
           "legendgroup": "OpenFisca-UK",
           "line": {
            "color": "blue",
            "dash": "solid"
           },
           "marker": {
            "symbol": "circle"
           },
           "mode": "lines",
           "name": "OpenFisca-UK",
           "orientation": "h",
           "showlegend": true,
           "type": "scatter",
           "x": [
            2022,
            2023,
            2024,
            2025
           ],
           "xaxis": "x",
           "y": [
            14644733.4,
            14659278.3,
            14627298.9,
            14651324.8
           ],
           "yaxis": "y"
          },
          {
           "hovertemplate": "",
           "legendgroup": "UKMOD",
           "line": {
            "color": "lightgrey",
            "dash": "solid"
           },
           "marker": {
            "symbol": "circle"
           },
           "mode": "lines",
           "name": "UKMOD",
           "orientation": "h",
           "showlegend": true,
           "type": "scatter",
           "x": [
            2022,
            2023,
            2024,
            2025
           ],
           "xaxis": "x",
           "y": [
            "",
            "",
            "",
            ""
           ],
           "yaxis": "y"
          }
         ],
         "name": "Savings interest income"
        },
        {
         "data": [
          {
           "hovertemplate": "",
           "legendgroup": "External",
           "line": {
            "color": "#00cc96",
            "dash": "solid"
           },
           "marker": {
            "symbol": "circle"
           },
           "mode": "lines",
           "name": "External",
           "orientation": "h",
           "showlegend": true,
           "type": "scatter",
           "x": [
            2022,
            2023,
            2024,
            2025
           ],
           "xaxis": "x",
           "y": [
            "",
            "",
            "",
            ""
           ],
           "yaxis": "y"
          },
          {
           "hovertemplate": "",
           "legendgroup": "OpenFisca-UK",
           "line": {
            "color": "blue",
            "dash": "solid"
           },
           "marker": {
            "symbol": "circle"
           },
           "mode": "lines",
           "name": "OpenFisca-UK",
           "orientation": "h",
           "showlegend": true,
           "type": "scatter",
           "x": [
            2022,
            2023,
            2024,
            2025
           ],
           "xaxis": "x",
           "y": [
            4632412.7,
            4622801,
            4623380.3,
            4634102.7
           ],
           "yaxis": "y"
          },
          {
           "hovertemplate": "",
           "legendgroup": "UKMOD",
           "line": {
            "color": "lightgrey",
            "dash": "solid"
           },
           "marker": {
            "symbol": "circle"
           },
           "mode": "lines",
           "name": "UKMOD",
           "orientation": "h",
           "showlegend": true,
           "type": "scatter",
           "x": [
            2022,
            2023,
            2024,
            2025
           ],
           "xaxis": "x",
           "y": [
            "",
            "",
            "",
            ""
           ],
           "yaxis": "y"
          }
         ],
         "name": "Self-employment income"
        },
        {
         "data": [
          {
           "hovertemplate": "",
           "legendgroup": "External",
           "line": {
            "color": "#00cc96",
            "dash": "solid"
           },
           "marker": {
            "symbol": "circle"
           },
           "mode": "lines",
           "name": "External",
           "orientation": "h",
           "showlegend": true,
           "type": "scatter",
           "x": [
            2022,
            2023,
            2024,
            2025
           ],
           "xaxis": "x",
           "y": [
            "",
            "",
            "",
            ""
           ],
           "yaxis": "y"
          },
          {
           "hovertemplate": "",
           "legendgroup": "OpenFisca-UK",
           "line": {
            "color": "blue",
            "dash": "solid"
           },
           "marker": {
            "symbol": "circle"
           },
           "mode": "lines",
           "name": "OpenFisca-UK",
           "orientation": "h",
           "showlegend": true,
           "type": "scatter",
           "x": [
            2022,
            2023,
            2024,
            2025
           ],
           "xaxis": "x",
           "y": [
            4945411.5,
            5578677.7,
            6162086.7,
            7019848.6
           ],
           "yaxis": "y"
          },
          {
           "hovertemplate": "",
           "legendgroup": "UKMOD",
           "line": {
            "color": "lightgrey",
            "dash": "solid"
           },
           "marker": {
            "symbol": "circle"
           },
           "mode": "lines",
           "name": "UKMOD",
           "orientation": "h",
           "showlegend": true,
           "type": "scatter",
           "x": [
            2022,
            2023,
            2024,
            2025
           ],
           "xaxis": "x",
           "y": [
            4214000,
            4656000,
            5311000,
            6146000
           ],
           "yaxis": "y"
          }
         ],
         "name": "Universal Credit"
        },
        {
         "data": [
          {
           "hovertemplate": "",
           "legendgroup": "External",
           "line": {
            "color": "#00cc96",
            "dash": "solid"
           },
           "marker": {
            "symbol": "circle"
           },
           "mode": "lines",
           "name": "External",
           "orientation": "h",
           "showlegend": true,
           "type": "scatter",
           "x": [
            2022,
            2023,
            2024,
            2025
           ],
           "xaxis": "x",
           "y": [
            "",
            "",
            "",
            ""
           ],
           "yaxis": "y"
          },
          {
           "hovertemplate": "",
           "legendgroup": "OpenFisca-UK",
           "line": {
            "color": "blue",
            "dash": "solid"
           },
           "marker": {
            "symbol": "circle"
           },
           "mode": "lines",
           "name": "OpenFisca-UK",
           "orientation": "h",
           "showlegend": true,
           "type": "scatter",
           "x": [
            2022,
            2023,
            2024,
            2025
           ],
           "xaxis": "x",
           "y": [
            782999.1,
            572773,
            360953.2,
            164735.5
           ],
           "yaxis": "y"
          },
          {
           "hovertemplate": "",
           "legendgroup": "UKMOD",
           "line": {
            "color": "lightgrey",
            "dash": "solid"
           },
           "marker": {
            "symbol": "circle"
           },
           "mode": "lines",
           "name": "UKMOD",
           "orientation": "h",
           "showlegend": true,
           "type": "scatter",
           "x": [
            2022,
            2023,
            2024,
            2025
           ],
           "xaxis": "x",
           "y": [
            540000,
            443000,
            297000,
            129000
           ],
           "yaxis": "y"
          }
         ],
         "name": "Working Tax Credit"
        }
       ],
       "layout": {
        "height": 600,
        "legend": {
         "title": {
          "text": "Model"
         },
         "tracegroupgap": 0,
         "traceorder": "reversed"
        },
        "margin": {
         "t": 60
        },
        "sliders": [
         {
          "active": 0,
          "currentvalue": {
           "prefix": "Program="
          },
          "len": 0.9,
          "pad": {
           "b": 10,
           "t": 60
          },
          "steps": [
           {
            "args": [
             [
              "Child Benefit"
             ],
             {
              "frame": {
               "duration": 0,
               "redraw": false
              },
              "fromcurrent": true,
              "mode": "immediate",
              "transition": {
               "duration": 0,
               "easing": "linear"
              }
             }
            ],
            "label": "Child Benefit",
            "method": "animate"
           },
           {
            "args": [
             [
              "Child Tax Credit"
             ],
             {
              "frame": {
               "duration": 0,
               "redraw": false
              },
              "fromcurrent": true,
              "mode": "immediate",
              "transition": {
               "duration": 0,
               "easing": "linear"
              }
             }
            ],
            "label": "Child Tax Credit",
            "method": "animate"
           },
           {
            "args": [
             [
              "Employment income"
             ],
             {
              "frame": {
               "duration": 0,
               "redraw": false
              },
              "fromcurrent": true,
              "mode": "immediate",
              "transition": {
               "duration": 0,
               "easing": "linear"
              }
             }
            ],
            "label": "Employment income",
            "method": "animate"
           },
           {
            "args": [
             [
              "Housing Benefit"
             ],
             {
              "frame": {
               "duration": 0,
               "redraw": false
              },
              "fromcurrent": true,
              "mode": "immediate",
              "transition": {
               "duration": 0,
               "easing": "linear"
              }
             }
            ],
            "label": "Housing Benefit",
            "method": "animate"
           },
           {
            "args": [
             [
              "Income Support"
             ],
             {
              "frame": {
               "duration": 0,
               "redraw": false
              },
              "fromcurrent": true,
              "mode": "immediate",
              "transition": {
               "duration": 0,
               "easing": "linear"
              }
             }
            ],
            "label": "Income Support",
            "method": "animate"
           },
           {
            "args": [
             [
              "Income Tax"
             ],
             {
              "frame": {
               "duration": 0,
               "redraw": false
              },
              "fromcurrent": true,
              "mode": "immediate",
              "transition": {
               "duration": 0,
               "easing": "linear"
              }
             }
            ],
            "label": "Income Tax",
            "method": "animate"
           },
           {
            "args": [
             [
              "Income from dividends"
             ],
             {
              "frame": {
               "duration": 0,
               "redraw": false
              },
              "fromcurrent": true,
              "mode": "immediate",
              "transition": {
               "duration": 0,
               "easing": "linear"
              }
             }
            ],
            "label": "Income from dividends",
            "method": "animate"
           },
           {
            "args": [
             [
              "JSA (income-based)"
             ],
             {
              "frame": {
               "duration": 0,
               "redraw": false
              },
              "fromcurrent": true,
              "mode": "immediate",
              "transition": {
               "duration": 0,
               "easing": "linear"
              }
             }
            ],
            "label": "JSA (income-based)",
            "method": "animate"
           },
           {
            "args": [
             [
              "National Insurance (total)"
             ],
             {
              "frame": {
               "duration": 0,
               "redraw": false
              },
              "fromcurrent": true,
              "mode": "immediate",
              "transition": {
               "duration": 0,
               "easing": "linear"
              }
             }
            ],
            "label": "National Insurance (total)",
            "method": "animate"
           },
           {
            "args": [
             [
              "Pension Credit"
             ],
             {
              "frame": {
               "duration": 0,
               "redraw": false
              },
              "fromcurrent": true,
              "mode": "immediate",
              "transition": {
               "duration": 0,
               "easing": "linear"
              }
             }
            ],
            "label": "Pension Credit",
            "method": "animate"
           },
           {
            "args": [
             [
              "Pension income"
             ],
             {
              "frame": {
               "duration": 0,
               "redraw": false
              },
              "fromcurrent": true,
              "mode": "immediate",
              "transition": {
               "duration": 0,
               "easing": "linear"
              }
             }
            ],
            "label": "Pension income",
            "method": "animate"
           },
           {
            "args": [
             [
              "Rental income"
             ],
             {
              "frame": {
               "duration": 0,
               "redraw": false
              },
              "fromcurrent": true,
              "mode": "immediate",
              "transition": {
               "duration": 0,
               "easing": "linear"
              }
             }
            ],
            "label": "Rental income",
            "method": "animate"
           },
           {
            "args": [
             [
              "Savings interest income"
             ],
             {
              "frame": {
               "duration": 0,
               "redraw": false
              },
              "fromcurrent": true,
              "mode": "immediate",
              "transition": {
               "duration": 0,
               "easing": "linear"
              }
             }
            ],
            "label": "Savings interest income",
            "method": "animate"
           },
           {
            "args": [
             [
              "Self-employment income"
             ],
             {
              "frame": {
               "duration": 0,
               "redraw": false
              },
              "fromcurrent": true,
              "mode": "immediate",
              "transition": {
               "duration": 0,
               "easing": "linear"
              }
             }
            ],
            "label": "Self-employment income",
            "method": "animate"
           },
           {
            "args": [
             [
              "Universal Credit"
             ],
             {
              "frame": {
               "duration": 0,
               "redraw": false
              },
              "fromcurrent": true,
              "mode": "immediate",
              "transition": {
               "duration": 0,
               "easing": "linear"
              }
             }
            ],
            "label": "Universal Credit",
            "method": "animate"
           },
           {
            "args": [
             [
              "Working Tax Credit"
             ],
             {
              "frame": {
               "duration": 0,
               "redraw": false
              },
              "fromcurrent": true,
              "mode": "immediate",
              "transition": {
               "duration": 0,
               "easing": "linear"
              }
             }
            ],
            "label": "Working Tax Credit",
            "method": "animate"
           }
          ],
          "x": 0.1,
          "xanchor": "left",
          "y": 0,
          "yanchor": "top"
         }
        ],
        "template": {
         "data": {
          "bar": [
           {
            "error_x": {
             "color": "#2a3f5f"
            },
            "error_y": {
             "color": "#2a3f5f"
            },
            "marker": {
             "line": {
              "color": "white",
              "width": 0.5
             },
             "pattern": {
              "fillmode": "overlay",
              "size": 10,
              "solidity": 0.2
             }
            },
            "type": "bar"
           }
          ],
          "barpolar": [
           {
            "marker": {
             "line": {
              "color": "white",
              "width": 0.5
             },
             "pattern": {
              "fillmode": "overlay",
              "size": 10,
              "solidity": 0.2
             }
            },
            "type": "barpolar"
           }
          ],
          "carpet": [
           {
            "aaxis": {
             "endlinecolor": "#2a3f5f",
             "gridcolor": "#C8D4E3",
             "linecolor": "#C8D4E3",
             "minorgridcolor": "#C8D4E3",
             "startlinecolor": "#2a3f5f"
            },
            "baxis": {
             "endlinecolor": "#2a3f5f",
             "gridcolor": "#C8D4E3",
             "linecolor": "#C8D4E3",
             "minorgridcolor": "#C8D4E3",
             "startlinecolor": "#2a3f5f"
            },
            "type": "carpet"
           }
          ],
          "choropleth": [
           {
            "colorbar": {
             "outlinewidth": 0,
             "ticks": ""
            },
            "type": "choropleth"
           }
          ],
          "contour": [
           {
            "colorbar": {
             "outlinewidth": 0,
             "ticks": ""
            },
            "colorscale": [
             [
              0,
              "#0d0887"
             ],
             [
              0.1111111111111111,
              "#46039f"
             ],
             [
              0.2222222222222222,
              "#7201a8"
             ],
             [
              0.3333333333333333,
              "#9c179e"
             ],
             [
              0.4444444444444444,
              "#bd3786"
             ],
             [
              0.5555555555555556,
              "#d8576b"
             ],
             [
              0.6666666666666666,
              "#ed7953"
             ],
             [
              0.7777777777777778,
              "#fb9f3a"
             ],
             [
              0.8888888888888888,
              "#fdca26"
             ],
             [
              1,
              "#f0f921"
             ]
            ],
            "type": "contour"
           }
          ],
          "contourcarpet": [
           {
            "colorbar": {
             "outlinewidth": 0,
             "ticks": ""
            },
            "type": "contourcarpet"
           }
          ],
          "heatmap": [
           {
            "colorbar": {
             "outlinewidth": 0,
             "ticks": ""
            },
            "colorscale": [
             [
              0,
              "#0d0887"
             ],
             [
              0.1111111111111111,
              "#46039f"
             ],
             [
              0.2222222222222222,
              "#7201a8"
             ],
             [
              0.3333333333333333,
              "#9c179e"
             ],
             [
              0.4444444444444444,
              "#bd3786"
             ],
             [
              0.5555555555555556,
              "#d8576b"
             ],
             [
              0.6666666666666666,
              "#ed7953"
             ],
             [
              0.7777777777777778,
              "#fb9f3a"
             ],
             [
              0.8888888888888888,
              "#fdca26"
             ],
             [
              1,
              "#f0f921"
             ]
            ],
            "type": "heatmap"
           }
          ],
          "heatmapgl": [
           {
            "colorbar": {
             "outlinewidth": 0,
             "ticks": ""
            },
            "colorscale": [
             [
              0,
              "#0d0887"
             ],
             [
              0.1111111111111111,
              "#46039f"
             ],
             [
              0.2222222222222222,
              "#7201a8"
             ],
             [
              0.3333333333333333,
              "#9c179e"
             ],
             [
              0.4444444444444444,
              "#bd3786"
             ],
             [
              0.5555555555555556,
              "#d8576b"
             ],
             [
              0.6666666666666666,
              "#ed7953"
             ],
             [
              0.7777777777777778,
              "#fb9f3a"
             ],
             [
              0.8888888888888888,
              "#fdca26"
             ],
             [
              1,
              "#f0f921"
             ]
            ],
            "type": "heatmapgl"
           }
          ],
          "histogram": [
           {
            "marker": {
             "pattern": {
              "fillmode": "overlay",
              "size": 10,
              "solidity": 0.2
             }
            },
            "type": "histogram"
           }
          ],
          "histogram2d": [
           {
            "colorbar": {
             "outlinewidth": 0,
             "ticks": ""
            },
            "colorscale": [
             [
              0,
              "#0d0887"
             ],
             [
              0.1111111111111111,
              "#46039f"
             ],
             [
              0.2222222222222222,
              "#7201a8"
             ],
             [
              0.3333333333333333,
              "#9c179e"
             ],
             [
              0.4444444444444444,
              "#bd3786"
             ],
             [
              0.5555555555555556,
              "#d8576b"
             ],
             [
              0.6666666666666666,
              "#ed7953"
             ],
             [
              0.7777777777777778,
              "#fb9f3a"
             ],
             [
              0.8888888888888888,
              "#fdca26"
             ],
             [
              1,
              "#f0f921"
             ]
            ],
            "type": "histogram2d"
           }
          ],
          "histogram2dcontour": [
           {
            "colorbar": {
             "outlinewidth": 0,
             "ticks": ""
            },
            "colorscale": [
             [
              0,
              "#0d0887"
             ],
             [
              0.1111111111111111,
              "#46039f"
             ],
             [
              0.2222222222222222,
              "#7201a8"
             ],
             [
              0.3333333333333333,
              "#9c179e"
             ],
             [
              0.4444444444444444,
              "#bd3786"
             ],
             [
              0.5555555555555556,
              "#d8576b"
             ],
             [
              0.6666666666666666,
              "#ed7953"
             ],
             [
              0.7777777777777778,
              "#fb9f3a"
             ],
             [
              0.8888888888888888,
              "#fdca26"
             ],
             [
              1,
              "#f0f921"
             ]
            ],
            "type": "histogram2dcontour"
           }
          ],
          "mesh3d": [
           {
            "colorbar": {
             "outlinewidth": 0,
             "ticks": ""
            },
            "type": "mesh3d"
           }
          ],
          "parcoords": [
           {
            "line": {
             "colorbar": {
              "outlinewidth": 0,
              "ticks": ""
             }
            },
            "type": "parcoords"
           }
          ],
          "pie": [
           {
            "automargin": true,
            "type": "pie"
           }
          ],
          "scatter": [
           {
            "marker": {
             "colorbar": {
              "outlinewidth": 0,
              "ticks": ""
             }
            },
            "type": "scatter"
           }
          ],
          "scatter3d": [
           {
            "line": {
             "colorbar": {
              "outlinewidth": 0,
              "ticks": ""
             }
            },
            "marker": {
             "colorbar": {
              "outlinewidth": 0,
              "ticks": ""
             }
            },
            "type": "scatter3d"
           }
          ],
          "scattercarpet": [
           {
            "marker": {
             "colorbar": {
              "outlinewidth": 0,
              "ticks": ""
             }
            },
            "type": "scattercarpet"
           }
          ],
          "scattergeo": [
           {
            "marker": {
             "colorbar": {
              "outlinewidth": 0,
              "ticks": ""
             }
            },
            "type": "scattergeo"
           }
          ],
          "scattergl": [
           {
            "marker": {
             "colorbar": {
              "outlinewidth": 0,
              "ticks": ""
             }
            },
            "type": "scattergl"
           }
          ],
          "scattermapbox": [
           {
            "marker": {
             "colorbar": {
              "outlinewidth": 0,
              "ticks": ""
             }
            },
            "type": "scattermapbox"
           }
          ],
          "scatterpolar": [
           {
            "marker": {
             "colorbar": {
              "outlinewidth": 0,
              "ticks": ""
             }
            },
            "type": "scatterpolar"
           }
          ],
          "scatterpolargl": [
           {
            "marker": {
             "colorbar": {
              "outlinewidth": 0,
              "ticks": ""
             }
            },
            "type": "scatterpolargl"
           }
          ],
          "scatterternary": [
           {
            "marker": {
             "colorbar": {
              "outlinewidth": 0,
              "ticks": ""
             }
            },
            "type": "scatterternary"
           }
          ],
          "surface": [
           {
            "colorbar": {
             "outlinewidth": 0,
             "ticks": ""
            },
            "colorscale": [
             [
              0,
              "#0d0887"
             ],
             [
              0.1111111111111111,
              "#46039f"
             ],
             [
              0.2222222222222222,
              "#7201a8"
             ],
             [
              0.3333333333333333,
              "#9c179e"
             ],
             [
              0.4444444444444444,
              "#bd3786"
             ],
             [
              0.5555555555555556,
              "#d8576b"
             ],
             [
              0.6666666666666666,
              "#ed7953"
             ],
             [
              0.7777777777777778,
              "#fb9f3a"
             ],
             [
              0.8888888888888888,
              "#fdca26"
             ],
             [
              1,
              "#f0f921"
             ]
            ],
            "type": "surface"
           }
          ],
          "table": [
           {
            "cells": {
             "fill": {
              "color": "#EBF0F8"
             },
             "line": {
              "color": "white"
             }
            },
            "header": {
             "fill": {
              "color": "#C8D4E3"
             },
             "line": {
              "color": "white"
             }
            },
            "type": "table"
           }
          ]
         },
         "layout": {
          "annotationdefaults": {
           "arrowcolor": "#2a3f5f",
           "arrowhead": 0,
           "arrowwidth": 1
          },
          "autotypenumbers": "strict",
          "coloraxis": {
           "colorbar": {
            "outlinewidth": 0,
            "ticks": ""
           }
          },
          "colorscale": {
           "diverging": [
            [
             0,
             "#8e0152"
            ],
            [
             0.1,
             "#c51b7d"
            ],
            [
             0.2,
             "#de77ae"
            ],
            [
             0.3,
             "#f1b6da"
            ],
            [
             0.4,
             "#fde0ef"
            ],
            [
             0.5,
             "#f7f7f7"
            ],
            [
             0.6,
             "#e6f5d0"
            ],
            [
             0.7,
             "#b8e186"
            ],
            [
             0.8,
             "#7fbc41"
            ],
            [
             0.9,
             "#4d9221"
            ],
            [
             1,
             "#276419"
            ]
           ],
           "sequential": [
            [
             0,
             "#0d0887"
            ],
            [
             0.1111111111111111,
             "#46039f"
            ],
            [
             0.2222222222222222,
             "#7201a8"
            ],
            [
             0.3333333333333333,
             "#9c179e"
            ],
            [
             0.4444444444444444,
             "#bd3786"
            ],
            [
             0.5555555555555556,
             "#d8576b"
            ],
            [
             0.6666666666666666,
             "#ed7953"
            ],
            [
             0.7777777777777778,
             "#fb9f3a"
            ],
            [
             0.8888888888888888,
             "#fdca26"
            ],
            [
             1,
             "#f0f921"
            ]
           ],
           "sequentialminus": [
            [
             0,
             "#0d0887"
            ],
            [
             0.1111111111111111,
             "#46039f"
            ],
            [
             0.2222222222222222,
             "#7201a8"
            ],
            [
             0.3333333333333333,
             "#9c179e"
            ],
            [
             0.4444444444444444,
             "#bd3786"
            ],
            [
             0.5555555555555556,
             "#d8576b"
            ],
            [
             0.6666666666666666,
             "#ed7953"
            ],
            [
             0.7777777777777778,
             "#fb9f3a"
            ],
            [
             0.8888888888888888,
             "#fdca26"
            ],
            [
             1,
             "#f0f921"
            ]
           ]
          },
          "colorway": [
           "#636efa",
           "#EF553B",
           "#00cc96",
           "#ab63fa",
           "#FFA15A",
           "#19d3f3",
           "#FF6692",
           "#B6E880",
           "#FF97FF",
           "#FECB52"
          ],
          "font": {
           "color": "#2a3f5f"
          },
          "geo": {
           "bgcolor": "white",
           "lakecolor": "white",
           "landcolor": "white",
           "showlakes": true,
           "showland": true,
           "subunitcolor": "#C8D4E3"
          },
          "hoverlabel": {
           "align": "left"
          },
          "hovermode": "closest",
          "mapbox": {
           "style": "light"
          },
          "paper_bgcolor": "white",
          "plot_bgcolor": "white",
          "polar": {
           "angularaxis": {
            "gridcolor": "#EBF0F8",
            "linecolor": "#EBF0F8",
            "ticks": ""
           },
           "bgcolor": "white",
           "radialaxis": {
            "gridcolor": "#EBF0F8",
            "linecolor": "#EBF0F8",
            "ticks": ""
           }
          },
          "scene": {
           "xaxis": {
            "backgroundcolor": "white",
            "gridcolor": "#DFE8F3",
            "gridwidth": 2,
            "linecolor": "#EBF0F8",
            "showbackground": true,
            "ticks": "",
            "zerolinecolor": "#EBF0F8"
           },
           "yaxis": {
            "backgroundcolor": "white",
            "gridcolor": "#DFE8F3",
            "gridwidth": 2,
            "linecolor": "#EBF0F8",
            "showbackground": true,
            "ticks": "",
            "zerolinecolor": "#EBF0F8"
           },
           "zaxis": {
            "backgroundcolor": "white",
            "gridcolor": "#DFE8F3",
            "gridwidth": 2,
            "linecolor": "#EBF0F8",
            "showbackground": true,
            "ticks": "",
            "zerolinecolor": "#EBF0F8"
           }
          },
          "shapedefaults": {
           "line": {
            "color": "#2a3f5f"
           }
          },
          "ternary": {
           "aaxis": {
            "gridcolor": "#DFE8F3",
            "linecolor": "#A2B1C6",
            "ticks": ""
           },
           "baxis": {
            "gridcolor": "#DFE8F3",
            "linecolor": "#A2B1C6",
            "ticks": ""
           },
           "bgcolor": "white",
           "caxis": {
            "gridcolor": "#DFE8F3",
            "linecolor": "#A2B1C6",
            "ticks": ""
           }
          },
          "title": {
           "x": 0.05
          },
          "xaxis": {
           "automargin": true,
           "gridcolor": "#EBF0F8",
           "linecolor": "#EBF0F8",
           "ticks": "",
           "title": {
            "standoff": 15
           },
           "zerolinecolor": "#EBF0F8",
           "zerolinewidth": 2
          },
          "yaxis": {
           "automargin": true,
           "gridcolor": "#EBF0F8",
           "linecolor": "#EBF0F8",
           "ticks": "",
           "title": {
            "standoff": 15
           },
           "zerolinecolor": "#EBF0F8",
           "zerolinewidth": 2
          }
         }
        },
        "title": {
         "text": "Caseload forecasts"
        },
        "updatemenus": [
         {
          "buttons": [
           {
            "args": [
             null,
             {
              "frame": {
               "duration": 500,
               "redraw": false
              },
              "fromcurrent": true,
              "mode": "immediate",
              "transition": {
               "duration": 500,
               "easing": "linear"
              }
             }
            ],
            "label": "&#9654;",
            "method": "animate"
           },
           {
            "args": [
             [
              null
             ],
             {
              "frame": {
               "duration": 0,
               "redraw": false
              },
              "fromcurrent": true,
              "mode": "immediate",
              "transition": {
               "duration": 0,
               "easing": "linear"
              }
             }
            ],
            "label": "&#9724;",
            "method": "animate"
           }
          ],
          "direction": "left",
          "pad": {
           "r": 10,
           "t": 70
          },
          "showactive": false,
          "type": "buttons",
          "x": 0.1,
          "xanchor": "right",
          "y": 0,
          "yanchor": "top"
         }
        ],
        "width": 800,
        "xaxis": {
         "anchor": "y",
         "autorange": true,
         "domain": [
          0,
          1
         ],
         "range": [
          2022,
          2025
         ],
         "tickvals": [
          2022,
          2023,
          2024,
          2025
         ],
         "title": {
          "text": "Year"
         },
         "type": "linear"
        },
        "yaxis": {
         "anchor": "x",
         "domain": [
          0,
          1
         ],
         "range": [
          0,
          10000000
         ],
         "tickprefix": "",
         "title": {
          "text": ""
         },
         "type": "category"
        }
       }
      },
      "image/png": "[encoded data removed]",
      "text/html": [
       "<div>                            <div id=\"1e02073d-c9c3-484c-ae35-a8443a4f253d\" class=\"plotly-graph-div\" style=\"height:600px; width:800px;\"></div>            <script type=\"text/javascript\">                require([\"plotly\"], function(Plotly) {                    window.PLOTLYENV=window.PLOTLYENV || {};                                    if (document.getElementById(\"1e02073d-c9c3-484c-ae35-a8443a4f253d\")) {                    Plotly.newPlot(                        \"1e02073d-c9c3-484c-ae35-a8443a4f253d\",                        [{\"hovertemplate\":\"\",\"legendgroup\":\"External\",\"line\":{\"color\":\"#00cc96\",\"dash\":\"solid\"},\"marker\":{\"symbol\":\"circle\"},\"mode\":\"lines\",\"name\":\"External\",\"orientation\":\"h\",\"showlegend\":true,\"x\":[2022,2023,2024,2025],\"xaxis\":\"x\",\"y\":[\"\",\"\",\"\",\"\"],\"yaxis\":\"y\",\"type\":\"scatter\"},{\"hovertemplate\":\"\",\"legendgroup\":\"OpenFisca-UK\",\"line\":{\"color\":\"blue\",\"dash\":\"solid\"},\"marker\":{\"symbol\":\"circle\"},\"mode\":\"lines\",\"name\":\"OpenFisca-UK\",\"orientation\":\"h\",\"showlegend\":true,\"x\":[2022,2023,2024,2025],\"xaxis\":\"x\",\"y\":[7157839.9,7029670.7,6930827.8,6888168.7],\"yaxis\":\"y\",\"type\":\"scatter\"},{\"hovertemplate\":\"\",\"legendgroup\":\"UKMOD\",\"line\":{\"color\":\"lightgrey\",\"dash\":\"solid\"},\"marker\":{\"symbol\":\"circle\"},\"mode\":\"lines\",\"name\":\"UKMOD\",\"orientation\":\"h\",\"showlegend\":true,\"x\":[2022,2023,2024,2025],\"xaxis\":\"x\",\"y\":[7116000.0,7072000.0,7022000.0,6990000.0],\"yaxis\":\"y\",\"type\":\"scatter\"}],                        {\"template\":{\"data\":{\"barpolar\":[{\"marker\":{\"line\":{\"color\":\"white\",\"width\":0.5},\"pattern\":{\"fillmode\":\"overlay\",\"size\":10,\"solidity\":0.2}},\"type\":\"barpolar\"}],\"bar\":[{\"error_x\":{\"color\":\"#2a3f5f\"},\"error_y\":{\"color\":\"#2a3f5f\"},\"marker\":{\"line\":{\"color\":\"white\",\"width\":0.5},\"pattern\":{\"fillmode\":\"overlay\",\"size\":10,\"solidity\":0.2}},\"type\":\"bar\"}],\"carpet\":[{\"aaxis\":{\"endlinecolor\":\"#2a3f5f\",\"gridcolor\":\"#C8D4E3\",\"linecolor\":\"#C8D4E3\",\"minorgridcolor\":\"#C8D4E3\",\"startlinecolor\":\"#2a3f5f\"},\"baxis\":{\"endlinecolor\":\"#2a3f5f\",\"gridcolor\":\"#C8D4E3\",\"linecolor\":\"#C8D4E3\",\"minorgridcolor\":\"#C8D4E3\",\"startlinecolor\":\"#2a3f5f\"},\"type\":\"carpet\"}],\"choropleth\":[{\"colorbar\":{\"outlinewidth\":0,\"ticks\":\"\"},\"type\":\"choropleth\"}],\"contourcarpet\":[{\"colorbar\":{\"outlinewidth\":0,\"ticks\":\"\"},\"type\":\"contourcarpet\"}],\"contour\":[{\"colorbar\":{\"outlinewidth\":0,\"ticks\":\"\"},\"colorscale\":[[0.0,\"#0d0887\"],[0.1111111111111111,\"#46039f\"],[0.2222222222222222,\"#7201a8\"],[0.3333333333333333,\"#9c179e\"],[0.4444444444444444,\"#bd3786\"],[0.5555555555555556,\"#d8576b\"],[0.6666666666666666,\"#ed7953\"],[0.7777777777777778,\"#fb9f3a\"],[0.8888888888888888,\"#fdca26\"],[1.0,\"#f0f921\"]],\"type\":\"contour\"}],\"heatmapgl\":[{\"colorbar\":{\"outlinewidth\":0,\"ticks\":\"\"},\"colorscale\":[[0.0,\"#0d0887\"],[0.1111111111111111,\"#46039f\"],[0.2222222222222222,\"#7201a8\"],[0.3333333333333333,\"#9c179e\"],[0.4444444444444444,\"#bd3786\"],[0.5555555555555556,\"#d8576b\"],[0.6666666666666666,\"#ed7953\"],[0.7777777777777778,\"#fb9f3a\"],[0.8888888888888888,\"#fdca26\"],[1.0,\"#f0f921\"]],\"type\":\"heatmapgl\"}],\"heatmap\":[{\"colorbar\":{\"outlinewidth\":0,\"ticks\":\"\"},\"colorscale\":[[0.0,\"#0d0887\"],[0.1111111111111111,\"#46039f\"],[0.2222222222222222,\"#7201a8\"],[0.3333333333333333,\"#9c179e\"],[0.4444444444444444,\"#bd3786\"],[0.5555555555555556,\"#d8576b\"],[0.6666666666666666,\"#ed7953\"],[0.7777777777777778,\"#fb9f3a\"],[0.8888888888888888,\"#fdca26\"],[1.0,\"#f0f921\"]],\"type\":\"heatmap\"}],\"histogram2dcontour\":[{\"colorbar\":{\"outlinewidth\":0,\"ticks\":\"\"},\"colorscale\":[[0.0,\"#0d0887\"],[0.1111111111111111,\"#46039f\"],[0.2222222222222222,\"#7201a8\"],[0.3333333333333333,\"#9c179e\"],[0.4444444444444444,\"#bd3786\"],[0.5555555555555556,\"#d8576b\"],[0.6666666666666666,\"#ed7953\"],[0.7777777777777778,\"#fb9f3a\"],[0.8888888888888888,\"#fdca26\"],[1.0,\"#f0f921\"]],\"type\":\"histogram2dcontour\"}],\"histogram2d\":[{\"colorbar\":{\"outlinewidth\":0,\"ticks\":\"\"},\"colorscale\":[[0.0,\"#0d0887\"],[0.1111111111111111,\"#46039f\"],[0.2222222222222222,\"#7201a8\"],[0.3333333333333333,\"#9c179e\"],[0.4444444444444444,\"#bd3786\"],[0.5555555555555556,\"#d8576b\"],[0.6666666666666666,\"#ed7953\"],[0.7777777777777778,\"#fb9f3a\"],[0.8888888888888888,\"#fdca26\"],[1.0,\"#f0f921\"]],\"type\":\"histogram2d\"}],\"histogram\":[{\"marker\":{\"pattern\":{\"fillmode\":\"overlay\",\"size\":10,\"solidity\":0.2}},\"type\":\"histogram\"}],\"mesh3d\":[{\"colorbar\":{\"outlinewidth\":0,\"ticks\":\"\"},\"type\":\"mesh3d\"}],\"parcoords\":[{\"line\":{\"colorbar\":{\"outlinewidth\":0,\"ticks\":\"\"}},\"type\":\"parcoords\"}],\"pie\":[{\"automargin\":true,\"type\":\"pie\"}],\"scatter3d\":[{\"line\":{\"colorbar\":{\"outlinewidth\":0,\"ticks\":\"\"}},\"marker\":{\"colorbar\":{\"outlinewidth\":0,\"ticks\":\"\"}},\"type\":\"scatter3d\"}],\"scattercarpet\":[{\"marker\":{\"colorbar\":{\"outlinewidth\":0,\"ticks\":\"\"}},\"type\":\"scattercarpet\"}],\"scattergeo\":[{\"marker\":{\"colorbar\":{\"outlinewidth\":0,\"ticks\":\"\"}},\"type\":\"scattergeo\"}],\"scattergl\":[{\"marker\":{\"colorbar\":{\"outlinewidth\":0,\"ticks\":\"\"}},\"type\":\"scattergl\"}],\"scattermapbox\":[{\"marker\":{\"colorbar\":{\"outlinewidth\":0,\"ticks\":\"\"}},\"type\":\"scattermapbox\"}],\"scatterpolargl\":[{\"marker\":{\"colorbar\":{\"outlinewidth\":0,\"ticks\":\"\"}},\"type\":\"scatterpolargl\"}],\"scatterpolar\":[{\"marker\":{\"colorbar\":{\"outlinewidth\":0,\"ticks\":\"\"}},\"type\":\"scatterpolar\"}],\"scatter\":[{\"marker\":{\"colorbar\":{\"outlinewidth\":0,\"ticks\":\"\"}},\"type\":\"scatter\"}],\"scatterternary\":[{\"marker\":{\"colorbar\":{\"outlinewidth\":0,\"ticks\":\"\"}},\"type\":\"scatterternary\"}],\"surface\":[{\"colorbar\":{\"outlinewidth\":0,\"ticks\":\"\"},\"colorscale\":[[0.0,\"#0d0887\"],[0.1111111111111111,\"#46039f\"],[0.2222222222222222,\"#7201a8\"],[0.3333333333333333,\"#9c179e\"],[0.4444444444444444,\"#bd3786\"],[0.5555555555555556,\"#d8576b\"],[0.6666666666666666,\"#ed7953\"],[0.7777777777777778,\"#fb9f3a\"],[0.8888888888888888,\"#fdca26\"],[1.0,\"#f0f921\"]],\"type\":\"surface\"}],\"table\":[{\"cells\":{\"fill\":{\"color\":\"#EBF0F8\"},\"line\":{\"color\":\"white\"}},\"header\":{\"fill\":{\"color\":\"#C8D4E3\"},\"line\":{\"color\":\"white\"}},\"type\":\"table\"}]},\"layout\":{\"annotationdefaults\":{\"arrowcolor\":\"#2a3f5f\",\"arrowhead\":0,\"arrowwidth\":1},\"autotypenumbers\":\"strict\",\"coloraxis\":{\"colorbar\":{\"outlinewidth\":0,\"ticks\":\"\"}},\"colorscale\":{\"diverging\":[[0,\"#8e0152\"],[0.1,\"#c51b7d\"],[0.2,\"#de77ae\"],[0.3,\"#f1b6da\"],[0.4,\"#fde0ef\"],[0.5,\"#f7f7f7\"],[0.6,\"#e6f5d0\"],[0.7,\"#b8e186\"],[0.8,\"#7fbc41\"],[0.9,\"#4d9221\"],[1,\"#276419\"]],\"sequential\":[[0.0,\"#0d0887\"],[0.1111111111111111,\"#46039f\"],[0.2222222222222222,\"#7201a8\"],[0.3333333333333333,\"#9c179e\"],[0.4444444444444444,\"#bd3786\"],[0.5555555555555556,\"#d8576b\"],[0.6666666666666666,\"#ed7953\"],[0.7777777777777778,\"#fb9f3a\"],[0.8888888888888888,\"#fdca26\"],[1.0,\"#f0f921\"]],\"sequentialminus\":[[0.0,\"#0d0887\"],[0.1111111111111111,\"#46039f\"],[0.2222222222222222,\"#7201a8\"],[0.3333333333333333,\"#9c179e\"],[0.4444444444444444,\"#bd3786\"],[0.5555555555555556,\"#d8576b\"],[0.6666666666666666,\"#ed7953\"],[0.7777777777777778,\"#fb9f3a\"],[0.8888888888888888,\"#fdca26\"],[1.0,\"#f0f921\"]]},\"colorway\":[\"#636efa\",\"#EF553B\",\"#00cc96\",\"#ab63fa\",\"#FFA15A\",\"#19d3f3\",\"#FF6692\",\"#B6E880\",\"#FF97FF\",\"#FECB52\"],\"font\":{\"color\":\"#2a3f5f\"},\"geo\":{\"bgcolor\":\"white\",\"lakecolor\":\"white\",\"landcolor\":\"white\",\"showlakes\":true,\"showland\":true,\"subunitcolor\":\"#C8D4E3\"},\"hoverlabel\":{\"align\":\"left\"},\"hovermode\":\"closest\",\"mapbox\":{\"style\":\"light\"},\"paper_bgcolor\":\"white\",\"plot_bgcolor\":\"white\",\"polar\":{\"angularaxis\":{\"gridcolor\":\"#EBF0F8\",\"linecolor\":\"#EBF0F8\",\"ticks\":\"\"},\"bgcolor\":\"white\",\"radialaxis\":{\"gridcolor\":\"#EBF0F8\",\"linecolor\":\"#EBF0F8\",\"ticks\":\"\"}},\"scene\":{\"xaxis\":{\"backgroundcolor\":\"white\",\"gridcolor\":\"#DFE8F3\",\"gridwidth\":2,\"linecolor\":\"#EBF0F8\",\"showbackground\":true,\"ticks\":\"\",\"zerolinecolor\":\"#EBF0F8\"},\"yaxis\":{\"backgroundcolor\":\"white\",\"gridcolor\":\"#DFE8F3\",\"gridwidth\":2,\"linecolor\":\"#EBF0F8\",\"showbackground\":true,\"ticks\":\"\",\"zerolinecolor\":\"#EBF0F8\"},\"zaxis\":{\"backgroundcolor\":\"white\",\"gridcolor\":\"#DFE8F3\",\"gridwidth\":2,\"linecolor\":\"#EBF0F8\",\"showbackground\":true,\"ticks\":\"\",\"zerolinecolor\":\"#EBF0F8\"}},\"shapedefaults\":{\"line\":{\"color\":\"#2a3f5f\"}},\"ternary\":{\"aaxis\":{\"gridcolor\":\"#DFE8F3\",\"linecolor\":\"#A2B1C6\",\"ticks\":\"\"},\"baxis\":{\"gridcolor\":\"#DFE8F3\",\"linecolor\":\"#A2B1C6\",\"ticks\":\"\"},\"bgcolor\":\"white\",\"caxis\":{\"gridcolor\":\"#DFE8F3\",\"linecolor\":\"#A2B1C6\",\"ticks\":\"\"}},\"title\":{\"x\":0.05},\"xaxis\":{\"automargin\":true,\"gridcolor\":\"#EBF0F8\",\"linecolor\":\"#EBF0F8\",\"ticks\":\"\",\"title\":{\"standoff\":15},\"zerolinecolor\":\"#EBF0F8\",\"zerolinewidth\":2},\"yaxis\":{\"automargin\":true,\"gridcolor\":\"#EBF0F8\",\"linecolor\":\"#EBF0F8\",\"ticks\":\"\",\"title\":{\"standoff\":15},\"zerolinecolor\":\"#EBF0F8\",\"zerolinewidth\":2}}},\"xaxis\":{\"anchor\":\"y\",\"domain\":[0.0,1.0],\"title\":{\"text\":\"Year\"},\"tickvals\":[2022,2023,2024,2025]},\"yaxis\":{\"anchor\":\"x\",\"domain\":[0.0,1.0],\"title\":{\"text\":\"\"},\"tickprefix\":\"\",\"range\":[0,10000000.0]},\"legend\":{\"title\":{\"text\":\"Model\"},\"tracegroupgap\":0,\"traceorder\":\"reversed\"},\"margin\":{\"t\":60},\"updatemenus\":[{\"buttons\":[{\"args\":[null,{\"frame\":{\"duration\":500,\"redraw\":false},\"mode\":\"immediate\",\"fromcurrent\":true,\"transition\":{\"duration\":500,\"easing\":\"linear\"}}],\"label\":\"&#9654;\",\"method\":\"animate\"},{\"args\":[[null],{\"frame\":{\"duration\":0,\"redraw\":false},\"mode\":\"immediate\",\"fromcurrent\":true,\"transition\":{\"duration\":0,\"easing\":\"linear\"}}],\"label\":\"&#9724;\",\"method\":\"animate\"}],\"direction\":\"left\",\"pad\":{\"r\":10,\"t\":70},\"showactive\":false,\"type\":\"buttons\",\"x\":0.1,\"xanchor\":\"right\",\"y\":0,\"yanchor\":\"top\"}],\"sliders\":[{\"active\":0,\"currentvalue\":{\"prefix\":\"Program=\"},\"len\":0.9,\"pad\":{\"b\":10,\"t\":60},\"steps\":[{\"args\":[[\"Child Benefit\"],{\"frame\":{\"duration\":0,\"redraw\":false},\"mode\":\"immediate\",\"fromcurrent\":true,\"transition\":{\"duration\":0,\"easing\":\"linear\"}}],\"label\":\"Child Benefit\",\"method\":\"animate\"},{\"args\":[[\"Child Tax Credit\"],{\"frame\":{\"duration\":0,\"redraw\":false},\"mode\":\"immediate\",\"fromcurrent\":true,\"transition\":{\"duration\":0,\"easing\":\"linear\"}}],\"label\":\"Child Tax Credit\",\"method\":\"animate\"},{\"args\":[[\"Employment income\"],{\"frame\":{\"duration\":0,\"redraw\":false},\"mode\":\"immediate\",\"fromcurrent\":true,\"transition\":{\"duration\":0,\"easing\":\"linear\"}}],\"label\":\"Employment income\",\"method\":\"animate\"},{\"args\":[[\"Housing Benefit\"],{\"frame\":{\"duration\":0,\"redraw\":false},\"mode\":\"immediate\",\"fromcurrent\":true,\"transition\":{\"duration\":0,\"easing\":\"linear\"}}],\"label\":\"Housing Benefit\",\"method\":\"animate\"},{\"args\":[[\"Income Support\"],{\"frame\":{\"duration\":0,\"redraw\":false},\"mode\":\"immediate\",\"fromcurrent\":true,\"transition\":{\"duration\":0,\"easing\":\"linear\"}}],\"label\":\"Income Support\",\"method\":\"animate\"},{\"args\":[[\"Income Tax\"],{\"frame\":{\"duration\":0,\"redraw\":false},\"mode\":\"immediate\",\"fromcurrent\":true,\"transition\":{\"duration\":0,\"easing\":\"linear\"}}],\"label\":\"Income Tax\",\"method\":\"animate\"},{\"args\":[[\"Income from dividends\"],{\"frame\":{\"duration\":0,\"redraw\":false},\"mode\":\"immediate\",\"fromcurrent\":true,\"transition\":{\"duration\":0,\"easing\":\"linear\"}}],\"label\":\"Income from dividends\",\"method\":\"animate\"},{\"args\":[[\"JSA (income-based)\"],{\"frame\":{\"duration\":0,\"redraw\":false},\"mode\":\"immediate\",\"fromcurrent\":true,\"transition\":{\"duration\":0,\"easing\":\"linear\"}}],\"label\":\"JSA (income-based)\",\"method\":\"animate\"},{\"args\":[[\"National Insurance (total)\"],{\"frame\":{\"duration\":0,\"redraw\":false},\"mode\":\"immediate\",\"fromcurrent\":true,\"transition\":{\"duration\":0,\"easing\":\"linear\"}}],\"label\":\"National Insurance (total)\",\"method\":\"animate\"},{\"args\":[[\"Pension Credit\"],{\"frame\":{\"duration\":0,\"redraw\":false},\"mode\":\"immediate\",\"fromcurrent\":true,\"transition\":{\"duration\":0,\"easing\":\"linear\"}}],\"label\":\"Pension Credit\",\"method\":\"animate\"},{\"args\":[[\"Pension income\"],{\"frame\":{\"duration\":0,\"redraw\":false},\"mode\":\"immediate\",\"fromcurrent\":true,\"transition\":{\"duration\":0,\"easing\":\"linear\"}}],\"label\":\"Pension income\",\"method\":\"animate\"},{\"args\":[[\"Rental income\"],{\"frame\":{\"duration\":0,\"redraw\":false},\"mode\":\"immediate\",\"fromcurrent\":true,\"transition\":{\"duration\":0,\"easing\":\"linear\"}}],\"label\":\"Rental income\",\"method\":\"animate\"},{\"args\":[[\"Savings interest income\"],{\"frame\":{\"duration\":0,\"redraw\":false},\"mode\":\"immediate\",\"fromcurrent\":true,\"transition\":{\"duration\":0,\"easing\":\"linear\"}}],\"label\":\"Savings interest income\",\"method\":\"animate\"},{\"args\":[[\"Self-employment income\"],{\"frame\":{\"duration\":0,\"redraw\":false},\"mode\":\"immediate\",\"fromcurrent\":true,\"transition\":{\"duration\":0,\"easing\":\"linear\"}}],\"label\":\"Self-employment income\",\"method\":\"animate\"},{\"args\":[[\"Universal Credit\"],{\"frame\":{\"duration\":0,\"redraw\":false},\"mode\":\"immediate\",\"fromcurrent\":true,\"transition\":{\"duration\":0,\"easing\":\"linear\"}}],\"label\":\"Universal Credit\",\"method\":\"animate\"},{\"args\":[[\"Working Tax Credit\"],{\"frame\":{\"duration\":0,\"redraw\":false},\"mode\":\"immediate\",\"fromcurrent\":true,\"transition\":{\"duration\":0,\"easing\":\"linear\"}}],\"label\":\"Working Tax Credit\",\"method\":\"animate\"}],\"x\":0.1,\"xanchor\":\"left\",\"y\":0,\"yanchor\":\"top\"}],\"width\":800,\"height\":600,\"title\":{\"text\":\"Caseload forecasts\"}},                        {\"responsive\": true}                    ).then(function(){\n",
       "                            Plotly.addFrames('1e02073d-c9c3-484c-ae35-a8443a4f253d', [{\"data\":[{\"hovertemplate\":\"\",\"legendgroup\":\"External\",\"line\":{\"color\":\"#00cc96\",\"dash\":\"solid\"},\"marker\":{\"symbol\":\"circle\"},\"mode\":\"lines\",\"name\":\"External\",\"orientation\":\"h\",\"showlegend\":true,\"x\":[2022,2023,2024,2025],\"xaxis\":\"x\",\"y\":[\"\",\"\",\"\",\"\"],\"yaxis\":\"y\",\"type\":\"scatter\"},{\"hovertemplate\":\"\",\"legendgroup\":\"OpenFisca-UK\",\"line\":{\"color\":\"blue\",\"dash\":\"solid\"},\"marker\":{\"symbol\":\"circle\"},\"mode\":\"lines\",\"name\":\"OpenFisca-UK\",\"orientation\":\"h\",\"showlegend\":true,\"x\":[2022,2023,2024,2025],\"xaxis\":\"x\",\"y\":[7157839.9,7029670.7,6930827.8,6888168.7],\"yaxis\":\"y\",\"type\":\"scatter\"},{\"hovertemplate\":\"\",\"legendgroup\":\"UKMOD\",\"line\":{\"color\":\"lightgrey\",\"dash\":\"solid\"},\"marker\":{\"symbol\":\"circle\"},\"mode\":\"lines\",\"name\":\"UKMOD\",\"orientation\":\"h\",\"showlegend\":true,\"x\":[2022,2023,2024,2025],\"xaxis\":\"x\",\"y\":[7116000.0,7072000.0,7022000.0,6990000.0],\"yaxis\":\"y\",\"type\":\"scatter\"}],\"name\":\"Child Benefit\"},{\"data\":[{\"hovertemplate\":\"\",\"legendgroup\":\"External\",\"line\":{\"color\":\"#00cc96\",\"dash\":\"solid\"},\"marker\":{\"symbol\":\"circle\"},\"mode\":\"lines\",\"name\":\"External\",\"orientation\":\"h\",\"showlegend\":true,\"x\":[2022,2023,2024,2025],\"xaxis\":\"x\",\"y\":[\"\",\"\",\"\",\"\"],\"yaxis\":\"y\",\"type\":\"scatter\"},{\"hovertemplate\":\"\",\"legendgroup\":\"OpenFisca-UK\",\"line\":{\"color\":\"blue\",\"dash\":\"solid\"},\"marker\":{\"symbol\":\"circle\"},\"mode\":\"lines\",\"name\":\"OpenFisca-UK\",\"orientation\":\"h\",\"showlegend\":true,\"x\":[2022,2023,2024,2025],\"xaxis\":\"x\",\"y\":[1248143.6,905727.4,562812.1,244957.0],\"yaxis\":\"y\",\"type\":\"scatter\"},{\"hovertemplate\":\"\",\"legendgroup\":\"UKMOD\",\"line\":{\"color\":\"lightgrey\",\"dash\":\"solid\"},\"marker\":{\"symbol\":\"circle\"},\"mode\":\"lines\",\"name\":\"UKMOD\",\"orientation\":\"h\",\"showlegend\":true,\"x\":[2022,2023,2024,2025],\"xaxis\":\"x\",\"y\":[1080000.0,890000.0,643000.0,292000.0],\"yaxis\":\"y\",\"type\":\"scatter\"}],\"name\":\"Child Tax Credit\"},{\"data\":[{\"hovertemplate\":\"\",\"legendgroup\":\"External\",\"line\":{\"color\":\"#00cc96\",\"dash\":\"solid\"},\"marker\":{\"symbol\":\"circle\"},\"mode\":\"lines\",\"name\":\"External\",\"orientation\":\"h\",\"showlegend\":true,\"x\":[2022,2023,2024,2025],\"xaxis\":\"x\",\"y\":[\"\",\"\",\"\",\"\"],\"yaxis\":\"y\",\"type\":\"scatter\"},{\"hovertemplate\":\"\",\"legendgroup\":\"OpenFisca-UK\",\"line\":{\"color\":\"blue\",\"dash\":\"solid\"},\"marker\":{\"symbol\":\"circle\"},\"mode\":\"lines\",\"name\":\"OpenFisca-UK\",\"orientation\":\"h\",\"showlegend\":true,\"x\":[2022,2023,2024,2025],\"xaxis\":\"x\",\"y\":[32315648.1,32157285.5,32123080.3,32186795.3],\"yaxis\":\"y\",\"type\":\"scatter\"},{\"hovertemplate\":\"\",\"legendgroup\":\"UKMOD\",\"line\":{\"color\":\"lightgrey\",\"dash\":\"solid\"},\"marker\":{\"symbol\":\"circle\"},\"mode\":\"lines\",\"name\":\"UKMOD\",\"orientation\":\"h\",\"showlegend\":true,\"x\":[2022,2023,2024,2025],\"xaxis\":\"x\",\"y\":[\"\",\"\",\"\",\"\"],\"yaxis\":\"y\",\"type\":\"scatter\"}],\"name\":\"Employment income\"},{\"data\":[{\"hovertemplate\":\"\",\"legendgroup\":\"External\",\"line\":{\"color\":\"#00cc96\",\"dash\":\"solid\"},\"marker\":{\"symbol\":\"circle\"},\"mode\":\"lines\",\"name\":\"External\",\"orientation\":\"h\",\"showlegend\":true,\"x\":[2022,2023,2024,2025],\"xaxis\":\"x\",\"y\":[\"\",\"\",\"\",\"\"],\"yaxis\":\"y\",\"type\":\"scatter\"},{\"hovertemplate\":\"\",\"legendgroup\":\"OpenFisca-UK\",\"line\":{\"color\":\"blue\",\"dash\":\"solid\"},\"marker\":{\"symbol\":\"circle\"},\"mode\":\"lines\",\"name\":\"OpenFisca-UK\",\"orientation\":\"h\",\"showlegend\":true,\"x\":[2022,2023,2024,2025],\"xaxis\":\"x\",\"y\":[2777764.9,2516062.2,2147624.6,1755599.7],\"yaxis\":\"y\",\"type\":\"scatter\"},{\"hovertemplate\":\"\",\"legendgroup\":\"UKMOD\",\"line\":{\"color\":\"lightgrey\",\"dash\":\"solid\"},\"marker\":{\"symbol\":\"circle\"},\"mode\":\"lines\",\"name\":\"UKMOD\",\"orientation\":\"h\",\"showlegend\":true,\"x\":[2022,2023,2024,2025],\"xaxis\":\"x\",\"y\":[2262000.0,2050000.0,1783000.0,1432000.0],\"yaxis\":\"y\",\"type\":\"scatter\"}],\"name\":\"Housing Benefit\"},{\"data\":[{\"hovertemplate\":\"\",\"legendgroup\":\"External\",\"line\":{\"color\":\"#00cc96\",\"dash\":\"solid\"},\"marker\":{\"symbol\":\"circle\"},\"mode\":\"lines\",\"name\":\"External\",\"orientation\":\"h\",\"showlegend\":true,\"x\":[2022,2023,2024,2025],\"xaxis\":\"x\",\"y\":[\"\",\"\",\"\",\"\"],\"yaxis\":\"y\",\"type\":\"scatter\"},{\"hovertemplate\":\"\",\"legendgroup\":\"OpenFisca-UK\",\"line\":{\"color\":\"blue\",\"dash\":\"solid\"},\"marker\":{\"symbol\":\"circle\"},\"mode\":\"lines\",\"name\":\"OpenFisca-UK\",\"orientation\":\"h\",\"showlegend\":true,\"x\":[2022,2023,2024,2025],\"xaxis\":\"x\",\"y\":[172783.1,126623.3,84721.1,44383.8],\"yaxis\":\"y\",\"type\":\"scatter\"},{\"hovertemplate\":\"\",\"legendgroup\":\"UKMOD\",\"line\":{\"color\":\"lightgrey\",\"dash\":\"solid\"},\"marker\":{\"symbol\":\"circle\"},\"mode\":\"lines\",\"name\":\"UKMOD\",\"orientation\":\"h\",\"showlegend\":true,\"x\":[2022,2023,2024,2025],\"xaxis\":\"x\",\"y\":[\"\",\"\",\"\",\"\"],\"yaxis\":\"y\",\"type\":\"scatter\"}],\"name\":\"Income Support\"},{\"data\":[{\"hovertemplate\":\"\",\"legendgroup\":\"External\",\"line\":{\"color\":\"#00cc96\",\"dash\":\"solid\"},\"marker\":{\"symbol\":\"circle\"},\"mode\":\"lines\",\"name\":\"External\",\"orientation\":\"h\",\"showlegend\":true,\"x\":[2022,2023,2024,2025],\"xaxis\":\"x\",\"y\":[\"\",\"\",\"\",\"\"],\"yaxis\":\"y\",\"type\":\"scatter\"},{\"hovertemplate\":\"\",\"legendgroup\":\"OpenFisca-UK\",\"line\":{\"color\":\"blue\",\"dash\":\"solid\"},\"marker\":{\"symbol\":\"circle\"},\"mode\":\"lines\",\"name\":\"OpenFisca-UK\",\"orientation\":\"h\",\"showlegend\":true,\"x\":[2022,2023,2024,2025],\"xaxis\":\"x\",\"y\":[31169613.1,32370129.9,33514861.8,34752508.9],\"yaxis\":\"y\",\"type\":\"scatter\"},{\"hovertemplate\":\"\",\"legendgroup\":\"UKMOD\",\"line\":{\"color\":\"lightgrey\",\"dash\":\"solid\"},\"marker\":{\"symbol\":\"circle\"},\"mode\":\"lines\",\"name\":\"UKMOD\",\"orientation\":\"h\",\"showlegend\":true,\"x\":[2022,2023,2024,2025],\"xaxis\":\"x\",\"y\":[30011000.0,30583000.0,30939000.0,31466000.0],\"yaxis\":\"y\",\"type\":\"scatter\"}],\"name\":\"Income Tax\"},{\"data\":[{\"hovertemplate\":\"\",\"legendgroup\":\"External\",\"line\":{\"color\":\"#00cc96\",\"dash\":\"solid\"},\"marker\":{\"symbol\":\"circle\"},\"mode\":\"lines\",\"name\":\"External\",\"orientation\":\"h\",\"showlegend\":true,\"x\":[2022,2023,2024,2025],\"xaxis\":\"x\",\"y\":[\"\",\"\",\"\",\"\"],\"yaxis\":\"y\",\"type\":\"scatter\"},{\"hovertemplate\":\"\",\"legendgroup\":\"OpenFisca-UK\",\"line\":{\"color\":\"blue\",\"dash\":\"solid\"},\"marker\":{\"symbol\":\"circle\"},\"mode\":\"lines\",\"name\":\"OpenFisca-UK\",\"orientation\":\"h\",\"showlegend\":true,\"x\":[2022,2023,2024,2025],\"xaxis\":\"x\",\"y\":[5437156.9,5417431.2,5408685.5,5416527.9],\"yaxis\":\"y\",\"type\":\"scatter\"},{\"hovertemplate\":\"\",\"legendgroup\":\"UKMOD\",\"line\":{\"color\":\"lightgrey\",\"dash\":\"solid\"},\"marker\":{\"symbol\":\"circle\"},\"mode\":\"lines\",\"name\":\"UKMOD\",\"orientation\":\"h\",\"showlegend\":true,\"x\":[2022,2023,2024,2025],\"xaxis\":\"x\",\"y\":[\"\",\"\",\"\",\"\"],\"yaxis\":\"y\",\"type\":\"scatter\"}],\"name\":\"Income from dividends\"},{\"data\":[{\"hovertemplate\":\"\",\"legendgroup\":\"External\",\"line\":{\"color\":\"#00cc96\",\"dash\":\"solid\"},\"marker\":{\"symbol\":\"circle\"},\"mode\":\"lines\",\"name\":\"External\",\"orientation\":\"h\",\"showlegend\":true,\"x\":[2022,2023,2024,2025],\"xaxis\":\"x\",\"y\":[\"\",\"\",\"\",\"\"],\"yaxis\":\"y\",\"type\":\"scatter\"},{\"hovertemplate\":\"\",\"legendgroup\":\"OpenFisca-UK\",\"line\":{\"color\":\"blue\",\"dash\":\"solid\"},\"marker\":{\"symbol\":\"circle\"},\"mode\":\"lines\",\"name\":\"OpenFisca-UK\",\"orientation\":\"h\",\"showlegend\":true,\"x\":[2022,2023,2024,2025],\"xaxis\":\"x\",\"y\":[50461.4,7650.4,4371.7,3134.3],\"yaxis\":\"y\",\"type\":\"scatter\"},{\"hovertemplate\":\"\",\"legendgroup\":\"UKMOD\",\"line\":{\"color\":\"lightgrey\",\"dash\":\"solid\"},\"marker\":{\"symbol\":\"circle\"},\"mode\":\"lines\",\"name\":\"UKMOD\",\"orientation\":\"h\",\"showlegend\":true,\"x\":[2022,2023,2024,2025],\"xaxis\":\"x\",\"y\":[\"\",\"\",\"\",\"\"],\"yaxis\":\"y\",\"type\":\"scatter\"}],\"name\":\"JSA (income-based)\"},{\"data\":[{\"hovertemplate\":\"\",\"legendgroup\":\"External\",\"line\":{\"color\":\"#00cc96\",\"dash\":\"solid\"},\"marker\":{\"symbol\":\"circle\"},\"mode\":\"lines\",\"name\":\"External\",\"orientation\":\"h\",\"showlegend\":true,\"x\":[2022,2023,2024,2025],\"xaxis\":\"x\",\"y\":[\"\",\"\",\"\",\"\"],\"yaxis\":\"y\",\"type\":\"scatter\"},{\"hovertemplate\":\"\",\"legendgroup\":\"OpenFisca-UK\",\"line\":{\"color\":\"blue\",\"dash\":\"solid\"},\"marker\":{\"symbol\":\"circle\"},\"mode\":\"lines\",\"name\":\"OpenFisca-UK\",\"orientation\":\"h\",\"showlegend\":true,\"x\":[2022,2023,2024,2025],\"xaxis\":\"x\",\"y\":[26362129.4,26617537.8,27127213.0,27773680.4],\"yaxis\":\"y\",\"type\":\"scatter\"},{\"hovertemplate\":\"\",\"legendgroup\":\"UKMOD\",\"line\":{\"color\":\"lightgrey\",\"dash\":\"solid\"},\"marker\":{\"symbol\":\"circle\"},\"mode\":\"lines\",\"name\":\"UKMOD\",\"orientation\":\"h\",\"showlegend\":true,\"x\":[2022,2023,2024,2025],\"xaxis\":\"x\",\"y\":[26084000.0,26194000.0,26239000.0,26271000.0],\"yaxis\":\"y\",\"type\":\"scatter\"}],\"name\":\"National Insurance (total)\"},{\"data\":[{\"hovertemplate\":\"\",\"legendgroup\":\"External\",\"line\":{\"color\":\"#00cc96\",\"dash\":\"solid\"},\"marker\":{\"symbol\":\"circle\"},\"mode\":\"lines\",\"name\":\"External\",\"orientation\":\"h\",\"showlegend\":true,\"x\":[2022,2023,2024,2025],\"xaxis\":\"x\",\"y\":[\"\",\"\",\"\",\"\"],\"yaxis\":\"y\",\"type\":\"scatter\"},{\"hovertemplate\":\"\",\"legendgroup\":\"OpenFisca-UK\",\"line\":{\"color\":\"blue\",\"dash\":\"solid\"},\"marker\":{\"symbol\":\"circle\"},\"mode\":\"lines\",\"name\":\"OpenFisca-UK\",\"orientation\":\"h\",\"showlegend\":true,\"x\":[2022,2023,2024,2025],\"xaxis\":\"x\",\"y\":[1622877.4,1520672.8,1400218.1,1313007.8],\"yaxis\":\"y\",\"type\":\"scatter\"},{\"hovertemplate\":\"\",\"legendgroup\":\"UKMOD\",\"line\":{\"color\":\"lightgrey\",\"dash\":\"solid\"},\"marker\":{\"symbol\":\"circle\"},\"mode\":\"lines\",\"name\":\"UKMOD\",\"orientation\":\"h\",\"showlegend\":true,\"x\":[2022,2023,2024,2025],\"xaxis\":\"x\",\"y\":[1413000.0,1445000.0,1442000.0,1417000.0],\"yaxis\":\"y\",\"type\":\"scatter\"}],\"name\":\"Pension Credit\"},{\"data\":[{\"hovertemplate\":\"\",\"legendgroup\":\"External\",\"line\":{\"color\":\"#00cc96\",\"dash\":\"solid\"},\"marker\":{\"symbol\":\"circle\"},\"mode\":\"lines\",\"name\":\"External\",\"orientation\":\"h\",\"showlegend\":true,\"x\":[2022,2023,2024,2025],\"xaxis\":\"x\",\"y\":[\"\",\"\",\"\",\"\"],\"yaxis\":\"y\",\"type\":\"scatter\"},{\"hovertemplate\":\"\",\"legendgroup\":\"OpenFisca-UK\",\"line\":{\"color\":\"blue\",\"dash\":\"solid\"},\"marker\":{\"symbol\":\"circle\"},\"mode\":\"lines\",\"name\":\"OpenFisca-UK\",\"orientation\":\"h\",\"showlegend\":true,\"x\":[2022,2023,2024,2025],\"xaxis\":\"x\",\"y\":[11398335.8,11390814.6,11392878.6,11401477.0],\"yaxis\":\"y\",\"type\":\"scatter\"},{\"hovertemplate\":\"\",\"legendgroup\":\"UKMOD\",\"line\":{\"color\":\"lightgrey\",\"dash\":\"solid\"},\"marker\":{\"symbol\":\"circle\"},\"mode\":\"lines\",\"name\":\"UKMOD\",\"orientation\":\"h\",\"showlegend\":true,\"x\":[2022,2023,2024,2025],\"xaxis\":\"x\",\"y\":[\"\",\"\",\"\",\"\"],\"yaxis\":\"y\",\"type\":\"scatter\"}],\"name\":\"Pension income\"},{\"data\":[{\"hovertemplate\":\"\",\"legendgroup\":\"External\",\"line\":{\"color\":\"#00cc96\",\"dash\":\"solid\"},\"marker\":{\"symbol\":\"circle\"},\"mode\":\"lines\",\"name\":\"External\",\"orientation\":\"h\",\"showlegend\":true,\"x\":[2022,2023,2024,2025],\"xaxis\":\"x\",\"y\":[\"\",\"\",\"\",\"\"],\"yaxis\":\"y\",\"type\":\"scatter\"},{\"hovertemplate\":\"\",\"legendgroup\":\"OpenFisca-UK\",\"line\":{\"color\":\"blue\",\"dash\":\"solid\"},\"marker\":{\"symbol\":\"circle\"},\"mode\":\"lines\",\"name\":\"OpenFisca-UK\",\"orientation\":\"h\",\"showlegend\":true,\"x\":[2022,2023,2024,2025],\"xaxis\":\"x\",\"y\":[2598378.5,2594890.3,2593795.7,2598877.6],\"yaxis\":\"y\",\"type\":\"scatter\"},{\"hovertemplate\":\"\",\"legendgroup\":\"UKMOD\",\"line\":{\"color\":\"lightgrey\",\"dash\":\"solid\"},\"marker\":{\"symbol\":\"circle\"},\"mode\":\"lines\",\"name\":\"UKMOD\",\"orientation\":\"h\",\"showlegend\":true,\"x\":[2022,2023,2024,2025],\"xaxis\":\"x\",\"y\":[\"\",\"\",\"\",\"\"],\"yaxis\":\"y\",\"type\":\"scatter\"}],\"name\":\"Rental income\"},{\"data\":[{\"hovertemplate\":\"\",\"legendgroup\":\"External\",\"line\":{\"color\":\"#00cc96\",\"dash\":\"solid\"},\"marker\":{\"symbol\":\"circle\"},\"mode\":\"lines\",\"name\":\"External\",\"orientation\":\"h\",\"showlegend\":true,\"x\":[2022,2023,2024,2025],\"xaxis\":\"x\",\"y\":[\"\",\"\",\"\",\"\"],\"yaxis\":\"y\",\"type\":\"scatter\"},{\"hovertemplate\":\"\",\"legendgroup\":\"OpenFisca-UK\",\"line\":{\"color\":\"blue\",\"dash\":\"solid\"},\"marker\":{\"symbol\":\"circle\"},\"mode\":\"lines\",\"name\":\"OpenFisca-UK\",\"orientation\":\"h\",\"showlegend\":true,\"x\":[2022,2023,2024,2025],\"xaxis\":\"x\",\"y\":[14644733.4,14659278.3,14627298.9,14651324.8],\"yaxis\":\"y\",\"type\":\"scatter\"},{\"hovertemplate\":\"\",\"legendgroup\":\"UKMOD\",\"line\":{\"color\":\"lightgrey\",\"dash\":\"solid\"},\"marker\":{\"symbol\":\"circle\"},\"mode\":\"lines\",\"name\":\"UKMOD\",\"orientation\":\"h\",\"showlegend\":true,\"x\":[2022,2023,2024,2025],\"xaxis\":\"x\",\"y\":[\"\",\"\",\"\",\"\"],\"yaxis\":\"y\",\"type\":\"scatter\"}],\"name\":\"Savings interest income\"},{\"data\":[{\"hovertemplate\":\"\",\"legendgroup\":\"External\",\"line\":{\"color\":\"#00cc96\",\"dash\":\"solid\"},\"marker\":{\"symbol\":\"circle\"},\"mode\":\"lines\",\"name\":\"External\",\"orientation\":\"h\",\"showlegend\":true,\"x\":[2022,2023,2024,2025],\"xaxis\":\"x\",\"y\":[\"\",\"\",\"\",\"\"],\"yaxis\":\"y\",\"type\":\"scatter\"},{\"hovertemplate\":\"\",\"legendgroup\":\"OpenFisca-UK\",\"line\":{\"color\":\"blue\",\"dash\":\"solid\"},\"marker\":{\"symbol\":\"circle\"},\"mode\":\"lines\",\"name\":\"OpenFisca-UK\",\"orientation\":\"h\",\"showlegend\":true,\"x\":[2022,2023,2024,2025],\"xaxis\":\"x\",\"y\":[4632412.7,4622801.0,4623380.3,4634102.7],\"yaxis\":\"y\",\"type\":\"scatter\"},{\"hovertemplate\":\"\",\"legendgroup\":\"UKMOD\",\"line\":{\"color\":\"lightgrey\",\"dash\":\"solid\"},\"marker\":{\"symbol\":\"circle\"},\"mode\":\"lines\",\"name\":\"UKMOD\",\"orientation\":\"h\",\"showlegend\":true,\"x\":[2022,2023,2024,2025],\"xaxis\":\"x\",\"y\":[\"\",\"\",\"\",\"\"],\"yaxis\":\"y\",\"type\":\"scatter\"}],\"name\":\"Self-employment income\"},{\"data\":[{\"hovertemplate\":\"\",\"legendgroup\":\"External\",\"line\":{\"color\":\"#00cc96\",\"dash\":\"solid\"},\"marker\":{\"symbol\":\"circle\"},\"mode\":\"lines\",\"name\":\"External\",\"orientation\":\"h\",\"showlegend\":true,\"x\":[2022,2023,2024,2025],\"xaxis\":\"x\",\"y\":[\"\",\"\",\"\",\"\"],\"yaxis\":\"y\",\"type\":\"scatter\"},{\"hovertemplate\":\"\",\"legendgroup\":\"OpenFisca-UK\",\"line\":{\"color\":\"blue\",\"dash\":\"solid\"},\"marker\":{\"symbol\":\"circle\"},\"mode\":\"lines\",\"name\":\"OpenFisca-UK\",\"orientation\":\"h\",\"showlegend\":true,\"x\":[2022,2023,2024,2025],\"xaxis\":\"x\",\"y\":[4945411.5,5578677.7,6162086.7,7019848.6],\"yaxis\":\"y\",\"type\":\"scatter\"},{\"hovertemplate\":\"\",\"legendgroup\":\"UKMOD\",\"line\":{\"color\":\"lightgrey\",\"dash\":\"solid\"},\"marker\":{\"symbol\":\"circle\"},\"mode\":\"lines\",\"name\":\"UKMOD\",\"orientation\":\"h\",\"showlegend\":true,\"x\":[2022,2023,2024,2025],\"xaxis\":\"x\",\"y\":[4214000.0,4656000.0,5311000.0,6146000.0],\"yaxis\":\"y\",\"type\":\"scatter\"}],\"name\":\"Universal Credit\"},{\"data\":[{\"hovertemplate\":\"\",\"legendgroup\":\"External\",\"line\":{\"color\":\"#00cc96\",\"dash\":\"solid\"},\"marker\":{\"symbol\":\"circle\"},\"mode\":\"lines\",\"name\":\"External\",\"orientation\":\"h\",\"showlegend\":true,\"x\":[2022,2023,2024,2025],\"xaxis\":\"x\",\"y\":[\"\",\"\",\"\",\"\"],\"yaxis\":\"y\",\"type\":\"scatter\"},{\"hovertemplate\":\"\",\"legendgroup\":\"OpenFisca-UK\",\"line\":{\"color\":\"blue\",\"dash\":\"solid\"},\"marker\":{\"symbol\":\"circle\"},\"mode\":\"lines\",\"name\":\"OpenFisca-UK\",\"orientation\":\"h\",\"showlegend\":true,\"x\":[2022,2023,2024,2025],\"xaxis\":\"x\",\"y\":[782999.1,572773.0,360953.2,164735.5],\"yaxis\":\"y\",\"type\":\"scatter\"},{\"hovertemplate\":\"\",\"legendgroup\":\"UKMOD\",\"line\":{\"color\":\"lightgrey\",\"dash\":\"solid\"},\"marker\":{\"symbol\":\"circle\"},\"mode\":\"lines\",\"name\":\"UKMOD\",\"orientation\":\"h\",\"showlegend\":true,\"x\":[2022,2023,2024,2025],\"xaxis\":\"x\",\"y\":[540000.0,443000.0,297000.0,129000.0],\"yaxis\":\"y\",\"type\":\"scatter\"}],\"name\":\"Working Tax Credit\"}]);\n",
       "                        }).then(function(){\n",
       "                            \n",
       "var gd = document.getElementById('1e02073d-c9c3-484c-ae35-a8443a4f253d');\n",
       "var x = new MutationObserver(function (mutations, observer) {{\n",
       "        var display = window.getComputedStyle(gd).display;\n",
       "        if (!display || display === 'none') {{\n",
       "            console.log([gd, 'removed!']);\n",
       "            Plotly.purge(gd);\n",
       "            observer.disconnect();\n",
       "        }}\n",
       "}});\n",
       "\n",
       "// Listen for the removal of the full notebook cells\n",
       "var notebookContainer = gd.closest('#notebook-container');\n",
       "if (notebookContainer) {{\n",
       "    x.observe(notebookContainer, {childList: true});\n",
       "}}\n",
       "\n",
       "// Listen for the clearing of the current output cell\n",
       "var outputEl = gd.closest('.output');\n",
       "if (outputEl) {{\n",
       "    x.observe(outputEl, {childList: true});\n",
       "}}\n",
       "\n",
       "                        })                };                });            </script>        </div>"
      ]
     },
     "metadata": {},
     "output_type": "display_data"
    }
   ],
   "source": [
    "model_forecast_chart(\n",
    "    model_validation_table(\n",
    "        caseload, models=[EXTERNAL, policyengine_uk, UKMOD], divisor=1, decimals=1\n",
    "    ),\n",
    "    title=\"Caseload forecasts\",\n",
    "    currency=False,\n",
    ")"
   ]
  },
  {
   "cell_type": "markdown",
   "id": "ff161a6a-52b4-4851-9c48-1aede9f8fef0",
   "metadata": {},
   "source": [
    "### Differences\n",
    "\n",
    "#### Absolute"
   ]
  },
  {
   "cell_type": "code",
   "execution_count": 9,
   "id": "89b1f1ba-7545-40e1-83b1-bf934ad6aaff",
   "metadata": {
    "tags": [
     "hide-input"
    ]
   },
   "outputs": [
    {
     "data": {
      "text/html": [
       "<div>\n",
       "<style scoped>\n",
       "    .dataframe tbody tr th:only-of-type {\n",
       "        vertical-align: middle;\n",
       "    }\n",
       "\n",
       "    .dataframe tbody tr th {\n",
       "        vertical-align: top;\n",
       "    }\n",
       "\n",
       "    .dataframe thead th {\n",
       "        text-align: right;\n",
       "    }\n",
       "</style>\n",
       "<table border=\"1\" class=\"dataframe\">\n",
       "  <thead>\n",
       "    <tr style=\"text-align: right;\">\n",
       "      <th></th>\n",
       "      <th></th>\n",
       "      <th>Child Benefit</th>\n",
       "      <th>Income Support</th>\n",
       "      <th>JSA (income-based)</th>\n",
       "      <th>Housing Benefit</th>\n",
       "      <th>Working Tax Credit</th>\n",
       "      <th>Child Tax Credit</th>\n",
       "      <th>Universal Credit</th>\n",
       "      <th>Pension Credit</th>\n",
       "      <th>Income Tax</th>\n",
       "      <th>National Insurance (total)</th>\n",
       "      <th>Employment income</th>\n",
       "      <th>Self-employment income</th>\n",
       "      <th>Pension income</th>\n",
       "      <th>Rental income</th>\n",
       "      <th>Savings interest income</th>\n",
       "    </tr>\n",
       "  </thead>\n",
       "  <tbody>\n",
       "    <tr>\n",
       "      <th rowspan=\"4\" valign=\"top\">OpenFisca-UK</th>\n",
       "      <th>2022</th>\n",
       "      <td></td>\n",
       "      <td></td>\n",
       "      <td></td>\n",
       "      <td></td>\n",
       "      <td></td>\n",
       "      <td></td>\n",
       "      <td></td>\n",
       "      <td></td>\n",
       "      <td></td>\n",
       "      <td></td>\n",
       "      <td></td>\n",
       "      <td></td>\n",
       "      <td></td>\n",
       "      <td></td>\n",
       "      <td></td>\n",
       "    </tr>\n",
       "    <tr>\n",
       "      <th>2023</th>\n",
       "      <td></td>\n",
       "      <td></td>\n",
       "      <td></td>\n",
       "      <td></td>\n",
       "      <td></td>\n",
       "      <td></td>\n",
       "      <td></td>\n",
       "      <td></td>\n",
       "      <td></td>\n",
       "      <td></td>\n",
       "      <td></td>\n",
       "      <td></td>\n",
       "      <td></td>\n",
       "      <td></td>\n",
       "      <td></td>\n",
       "    </tr>\n",
       "    <tr>\n",
       "      <th>2024</th>\n",
       "      <td></td>\n",
       "      <td></td>\n",
       "      <td></td>\n",
       "      <td></td>\n",
       "      <td></td>\n",
       "      <td></td>\n",
       "      <td></td>\n",
       "      <td></td>\n",
       "      <td></td>\n",
       "      <td></td>\n",
       "      <td></td>\n",
       "      <td></td>\n",
       "      <td></td>\n",
       "      <td></td>\n",
       "      <td></td>\n",
       "    </tr>\n",
       "    <tr>\n",
       "      <th>2025</th>\n",
       "      <td></td>\n",
       "      <td></td>\n",
       "      <td></td>\n",
       "      <td></td>\n",
       "      <td></td>\n",
       "      <td></td>\n",
       "      <td></td>\n",
       "      <td></td>\n",
       "      <td></td>\n",
       "      <td></td>\n",
       "      <td></td>\n",
       "      <td></td>\n",
       "      <td></td>\n",
       "      <td></td>\n",
       "      <td></td>\n",
       "    </tr>\n",
       "    <tr>\n",
       "      <th rowspan=\"4\" valign=\"top\">UKMOD</th>\n",
       "      <th>2022</th>\n",
       "      <td></td>\n",
       "      <td></td>\n",
       "      <td></td>\n",
       "      <td></td>\n",
       "      <td></td>\n",
       "      <td></td>\n",
       "      <td></td>\n",
       "      <td></td>\n",
       "      <td></td>\n",
       "      <td></td>\n",
       "      <td></td>\n",
       "      <td></td>\n",
       "      <td></td>\n",
       "      <td></td>\n",
       "      <td></td>\n",
       "    </tr>\n",
       "    <tr>\n",
       "      <th>2023</th>\n",
       "      <td></td>\n",
       "      <td></td>\n",
       "      <td></td>\n",
       "      <td></td>\n",
       "      <td></td>\n",
       "      <td></td>\n",
       "      <td></td>\n",
       "      <td></td>\n",
       "      <td></td>\n",
       "      <td></td>\n",
       "      <td></td>\n",
       "      <td></td>\n",
       "      <td></td>\n",
       "      <td></td>\n",
       "      <td></td>\n",
       "    </tr>\n",
       "    <tr>\n",
       "      <th>2024</th>\n",
       "      <td></td>\n",
       "      <td></td>\n",
       "      <td></td>\n",
       "      <td></td>\n",
       "      <td></td>\n",
       "      <td></td>\n",
       "      <td></td>\n",
       "      <td></td>\n",
       "      <td></td>\n",
       "      <td></td>\n",
       "      <td></td>\n",
       "      <td></td>\n",
       "      <td></td>\n",
       "      <td></td>\n",
       "      <td></td>\n",
       "    </tr>\n",
       "    <tr>\n",
       "      <th>2025</th>\n",
       "      <td></td>\n",
       "      <td></td>\n",
       "      <td></td>\n",
       "      <td></td>\n",
       "      <td></td>\n",
       "      <td></td>\n",
       "      <td></td>\n",
       "      <td></td>\n",
       "      <td></td>\n",
       "      <td></td>\n",
       "      <td></td>\n",
       "      <td></td>\n",
       "      <td></td>\n",
       "      <td></td>\n",
       "      <td></td>\n",
       "    </tr>\n",
       "  </tbody>\n",
       "</table>\n",
       "</div>"
      ],
      "text/plain": [
       "                  Child Benefit Income Support JSA (income-based)  \\\n",
       "OpenFisca-UK 2022                                                   \n",
       "             2023                                                   \n",
       "             2024                                                   \n",
       "             2025                                                   \n",
       "UKMOD        2022                                                   \n",
       "             2023                                                   \n",
       "             2024                                                   \n",
       "             2025                                                   \n",
       "\n",
       "                  Housing Benefit Working Tax Credit Child Tax Credit  \\\n",
       "OpenFisca-UK 2022                                                       \n",
       "             2023                                                       \n",
       "             2024                                                       \n",
       "             2025                                                       \n",
       "UKMOD        2022                                                       \n",
       "             2023                                                       \n",
       "             2024                                                       \n",
       "             2025                                                       \n",
       "\n",
       "                  Universal Credit Pension Credit Income Tax  \\\n",
       "OpenFisca-UK 2022                                              \n",
       "             2023                                              \n",
       "             2024                                              \n",
       "             2025                                              \n",
       "UKMOD        2022                                              \n",
       "             2023                                              \n",
       "             2024                                              \n",
       "             2025                                              \n",
       "\n",
       "                  National Insurance (total) Employment income  \\\n",
       "OpenFisca-UK 2022                                                \n",
       "             2023                                                \n",
       "             2024                                                \n",
       "             2025                                                \n",
       "UKMOD        2022                                                \n",
       "             2023                                                \n",
       "             2024                                                \n",
       "             2025                                                \n",
       "\n",
       "                  Self-employment income Pension income Rental income  \\\n",
       "OpenFisca-UK 2022                                                       \n",
       "             2023                                                       \n",
       "             2024                                                       \n",
       "             2025                                                       \n",
       "UKMOD        2022                                                       \n",
       "             2023                                                       \n",
       "             2024                                                       \n",
       "             2025                                                       \n",
       "\n",
       "                  Savings interest income  \n",
       "OpenFisca-UK 2022                          \n",
       "             2023                          \n",
       "             2024                          \n",
       "             2025                          \n",
       "UKMOD        2022                          \n",
       "             2023                          \n",
       "             2024                          \n",
       "             2025                          "
      ]
     },
     "execution_count": 9,
     "metadata": {},
     "output_type": "execute_result"
    }
   ],
   "source": [
    "def caseload_error(model, year, variable):\n",
    "    try:\n",
    "        if model == policyengine_uk:\n",
    "            return get_nonzero(variable, year).sum() - caseload(\n",
    "                EXTERNAL, year, variable\n",
    "            )\n",
    "        elif model == UKMOD:\n",
    "            return getattr(ukmod_statistics.ukmod.nonzero_units, variable)(\n",
    "                f\"{year}-01-01\"\n",
    "            ) - caseload(EXTERNAL, year, variable)\n",
    "    except:\n",
    "        return np.nan\n",
    "\n",
    "\n",
    "model_validation_table(\n",
    "    caseload_error,\n",
    "    variables=VARIABLES[:-1],\n",
    "    models=[policyengine_uk, UKMOD],\n",
    "    divisor=1e6,\n",
    "    decimals=1,\n",
    ")"
   ]
  },
  {
   "cell_type": "markdown",
   "id": "6a679603-acf0-44ea-a3b8-687e703bd041",
   "metadata": {},
   "source": [
    "#### Relative"
   ]
  },
  {
   "cell_type": "code",
   "execution_count": 10,
   "id": "55d5b862-5737-4148-a535-5c8bebfb129f",
   "metadata": {
    "tags": [
     "hide-input"
    ]
   },
   "outputs": [
    {
     "data": {
      "text/html": [
       "<div>\n",
       "<style scoped>\n",
       "    .dataframe tbody tr th:only-of-type {\n",
       "        vertical-align: middle;\n",
       "    }\n",
       "\n",
       "    .dataframe tbody tr th {\n",
       "        vertical-align: top;\n",
       "    }\n",
       "\n",
       "    .dataframe thead th {\n",
       "        text-align: right;\n",
       "    }\n",
       "</style>\n",
       "<table border=\"1\" class=\"dataframe\">\n",
       "  <thead>\n",
       "    <tr style=\"text-align: right;\">\n",
       "      <th></th>\n",
       "      <th></th>\n",
       "      <th>Child Benefit</th>\n",
       "      <th>Income Support</th>\n",
       "      <th>JSA (income-based)</th>\n",
       "      <th>Housing Benefit</th>\n",
       "      <th>Working Tax Credit</th>\n",
       "      <th>Child Tax Credit</th>\n",
       "      <th>Universal Credit</th>\n",
       "      <th>Pension Credit</th>\n",
       "      <th>Income Tax</th>\n",
       "      <th>National Insurance (total)</th>\n",
       "      <th>Employment income</th>\n",
       "      <th>Self-employment income</th>\n",
       "      <th>Pension income</th>\n",
       "      <th>Rental income</th>\n",
       "      <th>Savings interest income</th>\n",
       "    </tr>\n",
       "  </thead>\n",
       "  <tbody>\n",
       "    <tr>\n",
       "      <th rowspan=\"4\" valign=\"top\">OpenFisca-UK</th>\n",
       "      <th>2022</th>\n",
       "      <td></td>\n",
       "      <td></td>\n",
       "      <td></td>\n",
       "      <td></td>\n",
       "      <td></td>\n",
       "      <td></td>\n",
       "      <td></td>\n",
       "      <td></td>\n",
       "      <td></td>\n",
       "      <td></td>\n",
       "      <td></td>\n",
       "      <td></td>\n",
       "      <td></td>\n",
       "      <td></td>\n",
       "      <td></td>\n",
       "    </tr>\n",
       "    <tr>\n",
       "      <th>2023</th>\n",
       "      <td></td>\n",
       "      <td></td>\n",
       "      <td></td>\n",
       "      <td></td>\n",
       "      <td></td>\n",
       "      <td></td>\n",
       "      <td></td>\n",
       "      <td></td>\n",
       "      <td></td>\n",
       "      <td></td>\n",
       "      <td></td>\n",
       "      <td></td>\n",
       "      <td></td>\n",
       "      <td></td>\n",
       "      <td></td>\n",
       "    </tr>\n",
       "    <tr>\n",
       "      <th>2024</th>\n",
       "      <td></td>\n",
       "      <td></td>\n",
       "      <td></td>\n",
       "      <td></td>\n",
       "      <td></td>\n",
       "      <td></td>\n",
       "      <td></td>\n",
       "      <td></td>\n",
       "      <td></td>\n",
       "      <td></td>\n",
       "      <td></td>\n",
       "      <td></td>\n",
       "      <td></td>\n",
       "      <td></td>\n",
       "      <td></td>\n",
       "    </tr>\n",
       "    <tr>\n",
       "      <th>2025</th>\n",
       "      <td></td>\n",
       "      <td></td>\n",
       "      <td></td>\n",
       "      <td></td>\n",
       "      <td></td>\n",
       "      <td></td>\n",
       "      <td></td>\n",
       "      <td></td>\n",
       "      <td></td>\n",
       "      <td></td>\n",
       "      <td></td>\n",
       "      <td></td>\n",
       "      <td></td>\n",
       "      <td></td>\n",
       "      <td></td>\n",
       "    </tr>\n",
       "    <tr>\n",
       "      <th rowspan=\"4\" valign=\"top\">UKMOD</th>\n",
       "      <th>2022</th>\n",
       "      <td></td>\n",
       "      <td></td>\n",
       "      <td></td>\n",
       "      <td></td>\n",
       "      <td></td>\n",
       "      <td></td>\n",
       "      <td></td>\n",
       "      <td></td>\n",
       "      <td></td>\n",
       "      <td></td>\n",
       "      <td></td>\n",
       "      <td></td>\n",
       "      <td></td>\n",
       "      <td></td>\n",
       "      <td></td>\n",
       "    </tr>\n",
       "    <tr>\n",
       "      <th>2023</th>\n",
       "      <td></td>\n",
       "      <td></td>\n",
       "      <td></td>\n",
       "      <td></td>\n",
       "      <td></td>\n",
       "      <td></td>\n",
       "      <td></td>\n",
       "      <td></td>\n",
       "      <td></td>\n",
       "      <td></td>\n",
       "      <td></td>\n",
       "      <td></td>\n",
       "      <td></td>\n",
       "      <td></td>\n",
       "      <td></td>\n",
       "    </tr>\n",
       "    <tr>\n",
       "      <th>2024</th>\n",
       "      <td></td>\n",
       "      <td></td>\n",
       "      <td></td>\n",
       "      <td></td>\n",
       "      <td></td>\n",
       "      <td></td>\n",
       "      <td></td>\n",
       "      <td></td>\n",
       "      <td></td>\n",
       "      <td></td>\n",
       "      <td></td>\n",
       "      <td></td>\n",
       "      <td></td>\n",
       "      <td></td>\n",
       "      <td></td>\n",
       "    </tr>\n",
       "    <tr>\n",
       "      <th>2025</th>\n",
       "      <td></td>\n",
       "      <td></td>\n",
       "      <td></td>\n",
       "      <td></td>\n",
       "      <td></td>\n",
       "      <td></td>\n",
       "      <td></td>\n",
       "      <td></td>\n",
       "      <td></td>\n",
       "      <td></td>\n",
       "      <td></td>\n",
       "      <td></td>\n",
       "      <td></td>\n",
       "      <td></td>\n",
       "      <td></td>\n",
       "    </tr>\n",
       "  </tbody>\n",
       "</table>\n",
       "</div>"
      ],
      "text/plain": [
       "                  Child Benefit Income Support JSA (income-based)  \\\n",
       "OpenFisca-UK 2022                                                   \n",
       "             2023                                                   \n",
       "             2024                                                   \n",
       "             2025                                                   \n",
       "UKMOD        2022                                                   \n",
       "             2023                                                   \n",
       "             2024                                                   \n",
       "             2025                                                   \n",
       "\n",
       "                  Housing Benefit Working Tax Credit Child Tax Credit  \\\n",
       "OpenFisca-UK 2022                                                       \n",
       "             2023                                                       \n",
       "             2024                                                       \n",
       "             2025                                                       \n",
       "UKMOD        2022                                                       \n",
       "             2023                                                       \n",
       "             2024                                                       \n",
       "             2025                                                       \n",
       "\n",
       "                  Universal Credit Pension Credit Income Tax  \\\n",
       "OpenFisca-UK 2022                                              \n",
       "             2023                                              \n",
       "             2024                                              \n",
       "             2025                                              \n",
       "UKMOD        2022                                              \n",
       "             2023                                              \n",
       "             2024                                              \n",
       "             2025                                              \n",
       "\n",
       "                  National Insurance (total) Employment income  \\\n",
       "OpenFisca-UK 2022                                                \n",
       "             2023                                                \n",
       "             2024                                                \n",
       "             2025                                                \n",
       "UKMOD        2022                                                \n",
       "             2023                                                \n",
       "             2024                                                \n",
       "             2025                                                \n",
       "\n",
       "                  Self-employment income Pension income Rental income  \\\n",
       "OpenFisca-UK 2022                                                       \n",
       "             2023                                                       \n",
       "             2024                                                       \n",
       "             2025                                                       \n",
       "UKMOD        2022                                                       \n",
       "             2023                                                       \n",
       "             2024                                                       \n",
       "             2025                                                       \n",
       "\n",
       "                  Savings interest income  \n",
       "OpenFisca-UK 2022                          \n",
       "             2023                          \n",
       "             2024                          \n",
       "             2025                          \n",
       "UKMOD        2022                          \n",
       "             2023                          \n",
       "             2024                          \n",
       "             2025                          "
      ]
     },
     "execution_count": 10,
     "metadata": {},
     "output_type": "execute_result"
    }
   ],
   "source": [
    "def relative_caseload_error(model, year, variable):\n",
    "    try:\n",
    "        if model == policyengine_uk:\n",
    "            return (\n",
    "                get_nonzero(variable, year).sum()\n",
    "                / caseload(EXTERNAL, year, variable)\n",
    "                - 1\n",
    "            )\n",
    "        elif model == UKMOD:\n",
    "            return (\n",
    "                getattr(ukmod_statistics.ukmod.nonzero_units, variable)(\n",
    "                    f\"{year}-01-01\"\n",
    "                )\n",
    "                / caseload(EXTERNAL, year, variable)\n",
    "                - 1\n",
    "            )\n",
    "    except:\n",
    "        return np.nan\n",
    "\n",
    "\n",
    "model_validation_table(\n",
    "    relative_caseload_error,\n",
    "    variables=VARIABLES[:-1],\n",
    "    models=[policyengine_uk, UKMOD],\n",
    "    divisor=1e-2,\n",
    "    decimals=1,\n",
    ")"
   ]
  },
  {
   "cell_type": "code",
   "execution_count": 11,
   "id": "6f47e9b2-895d-4a70-9206-282bddff8769",
   "metadata": {
    "tags": [
     "hide-input"
    ]
   },
   "outputs": [
    {
     "data": {
      "application/vnd.plotly.v1+json": {
       "config": {
        "plotlyServerURL": "https://plot.ly"
       },
       "data": [],
       "layout": {
        "barmode": "group",
        "height": 600,
        "legend": {
         "title": {
          "text": "Model"
         },
         "tracegroupgap": 0,
         "traceorder": "reversed"
        },
        "margin": {
         "t": 60
        },
        "template": {
         "data": {
          "bar": [
           {
            "error_x": {
             "color": "#2a3f5f"
            },
            "error_y": {
             "color": "#2a3f5f"
            },
            "marker": {
             "line": {
              "color": "white",
              "width": 0.5
             },
             "pattern": {
              "fillmode": "overlay",
              "size": 10,
              "solidity": 0.2
             }
            },
            "type": "bar"
           }
          ],
          "barpolar": [
           {
            "marker": {
             "line": {
              "color": "white",
              "width": 0.5
             },
             "pattern": {
              "fillmode": "overlay",
              "size": 10,
              "solidity": 0.2
             }
            },
            "type": "barpolar"
           }
          ],
          "carpet": [
           {
            "aaxis": {
             "endlinecolor": "#2a3f5f",
             "gridcolor": "#C8D4E3",
             "linecolor": "#C8D4E3",
             "minorgridcolor": "#C8D4E3",
             "startlinecolor": "#2a3f5f"
            },
            "baxis": {
             "endlinecolor": "#2a3f5f",
             "gridcolor": "#C8D4E3",
             "linecolor": "#C8D4E3",
             "minorgridcolor": "#C8D4E3",
             "startlinecolor": "#2a3f5f"
            },
            "type": "carpet"
           }
          ],
          "choropleth": [
           {
            "colorbar": {
             "outlinewidth": 0,
             "ticks": ""
            },
            "type": "choropleth"
           }
          ],
          "contour": [
           {
            "colorbar": {
             "outlinewidth": 0,
             "ticks": ""
            },
            "colorscale": [
             [
              0,
              "#0d0887"
             ],
             [
              0.1111111111111111,
              "#46039f"
             ],
             [
              0.2222222222222222,
              "#7201a8"
             ],
             [
              0.3333333333333333,
              "#9c179e"
             ],
             [
              0.4444444444444444,
              "#bd3786"
             ],
             [
              0.5555555555555556,
              "#d8576b"
             ],
             [
              0.6666666666666666,
              "#ed7953"
             ],
             [
              0.7777777777777778,
              "#fb9f3a"
             ],
             [
              0.8888888888888888,
              "#fdca26"
             ],
             [
              1,
              "#f0f921"
             ]
            ],
            "type": "contour"
           }
          ],
          "contourcarpet": [
           {
            "colorbar": {
             "outlinewidth": 0,
             "ticks": ""
            },
            "type": "contourcarpet"
           }
          ],
          "heatmap": [
           {
            "colorbar": {
             "outlinewidth": 0,
             "ticks": ""
            },
            "colorscale": [
             [
              0,
              "#0d0887"
             ],
             [
              0.1111111111111111,
              "#46039f"
             ],
             [
              0.2222222222222222,
              "#7201a8"
             ],
             [
              0.3333333333333333,
              "#9c179e"
             ],
             [
              0.4444444444444444,
              "#bd3786"
             ],
             [
              0.5555555555555556,
              "#d8576b"
             ],
             [
              0.6666666666666666,
              "#ed7953"
             ],
             [
              0.7777777777777778,
              "#fb9f3a"
             ],
             [
              0.8888888888888888,
              "#fdca26"
             ],
             [
              1,
              "#f0f921"
             ]
            ],
            "type": "heatmap"
           }
          ],
          "heatmapgl": [
           {
            "colorbar": {
             "outlinewidth": 0,
             "ticks": ""
            },
            "colorscale": [
             [
              0,
              "#0d0887"
             ],
             [
              0.1111111111111111,
              "#46039f"
             ],
             [
              0.2222222222222222,
              "#7201a8"
             ],
             [
              0.3333333333333333,
              "#9c179e"
             ],
             [
              0.4444444444444444,
              "#bd3786"
             ],
             [
              0.5555555555555556,
              "#d8576b"
             ],
             [
              0.6666666666666666,
              "#ed7953"
             ],
             [
              0.7777777777777778,
              "#fb9f3a"
             ],
             [
              0.8888888888888888,
              "#fdca26"
             ],
             [
              1,
              "#f0f921"
             ]
            ],
            "type": "heatmapgl"
           }
          ],
          "histogram": [
           {
            "marker": {
             "pattern": {
              "fillmode": "overlay",
              "size": 10,
              "solidity": 0.2
             }
            },
            "type": "histogram"
           }
          ],
          "histogram2d": [
           {
            "colorbar": {
             "outlinewidth": 0,
             "ticks": ""
            },
            "colorscale": [
             [
              0,
              "#0d0887"
             ],
             [
              0.1111111111111111,
              "#46039f"
             ],
             [
              0.2222222222222222,
              "#7201a8"
             ],
             [
              0.3333333333333333,
              "#9c179e"
             ],
             [
              0.4444444444444444,
              "#bd3786"
             ],
             [
              0.5555555555555556,
              "#d8576b"
             ],
             [
              0.6666666666666666,
              "#ed7953"
             ],
             [
              0.7777777777777778,
              "#fb9f3a"
             ],
             [
              0.8888888888888888,
              "#fdca26"
             ],
             [
              1,
              "#f0f921"
             ]
            ],
            "type": "histogram2d"
           }
          ],
          "histogram2dcontour": [
           {
            "colorbar": {
             "outlinewidth": 0,
             "ticks": ""
            },
            "colorscale": [
             [
              0,
              "#0d0887"
             ],
             [
              0.1111111111111111,
              "#46039f"
             ],
             [
              0.2222222222222222,
              "#7201a8"
             ],
             [
              0.3333333333333333,
              "#9c179e"
             ],
             [
              0.4444444444444444,
              "#bd3786"
             ],
             [
              0.5555555555555556,
              "#d8576b"
             ],
             [
              0.6666666666666666,
              "#ed7953"
             ],
             [
              0.7777777777777778,
              "#fb9f3a"
             ],
             [
              0.8888888888888888,
              "#fdca26"
             ],
             [
              1,
              "#f0f921"
             ]
            ],
            "type": "histogram2dcontour"
           }
          ],
          "mesh3d": [
           {
            "colorbar": {
             "outlinewidth": 0,
             "ticks": ""
            },
            "type": "mesh3d"
           }
          ],
          "parcoords": [
           {
            "line": {
             "colorbar": {
              "outlinewidth": 0,
              "ticks": ""
             }
            },
            "type": "parcoords"
           }
          ],
          "pie": [
           {
            "automargin": true,
            "type": "pie"
           }
          ],
          "scatter": [
           {
            "marker": {
             "colorbar": {
              "outlinewidth": 0,
              "ticks": ""
             }
            },
            "type": "scatter"
           }
          ],
          "scatter3d": [
           {
            "line": {
             "colorbar": {
              "outlinewidth": 0,
              "ticks": ""
             }
            },
            "marker": {
             "colorbar": {
              "outlinewidth": 0,
              "ticks": ""
             }
            },
            "type": "scatter3d"
           }
          ],
          "scattercarpet": [
           {
            "marker": {
             "colorbar": {
              "outlinewidth": 0,
              "ticks": ""
             }
            },
            "type": "scattercarpet"
           }
          ],
          "scattergeo": [
           {
            "marker": {
             "colorbar": {
              "outlinewidth": 0,
              "ticks": ""
             }
            },
            "type": "scattergeo"
           }
          ],
          "scattergl": [
           {
            "marker": {
             "colorbar": {
              "outlinewidth": 0,
              "ticks": ""
             }
            },
            "type": "scattergl"
           }
          ],
          "scattermapbox": [
           {
            "marker": {
             "colorbar": {
              "outlinewidth": 0,
              "ticks": ""
             }
            },
            "type": "scattermapbox"
           }
          ],
          "scatterpolar": [
           {
            "marker": {
             "colorbar": {
              "outlinewidth": 0,
              "ticks": ""
             }
            },
            "type": "scatterpolar"
           }
          ],
          "scatterpolargl": [
           {
            "marker": {
             "colorbar": {
              "outlinewidth": 0,
              "ticks": ""
             }
            },
            "type": "scatterpolargl"
           }
          ],
          "scatterternary": [
           {
            "marker": {
             "colorbar": {
              "outlinewidth": 0,
              "ticks": ""
             }
            },
            "type": "scatterternary"
           }
          ],
          "surface": [
           {
            "colorbar": {
             "outlinewidth": 0,
             "ticks": ""
            },
            "colorscale": [
             [
              0,
              "#0d0887"
             ],
             [
              0.1111111111111111,
              "#46039f"
             ],
             [
              0.2222222222222222,
              "#7201a8"
             ],
             [
              0.3333333333333333,
              "#9c179e"
             ],
             [
              0.4444444444444444,
              "#bd3786"
             ],
             [
              0.5555555555555556,
              "#d8576b"
             ],
             [
              0.6666666666666666,
              "#ed7953"
             ],
             [
              0.7777777777777778,
              "#fb9f3a"
             ],
             [
              0.8888888888888888,
              "#fdca26"
             ],
             [
              1,
              "#f0f921"
             ]
            ],
            "type": "surface"
           }
          ],
          "table": [
           {
            "cells": {
             "fill": {
              "color": "#EBF0F8"
             },
             "line": {
              "color": "white"
             }
            },
            "header": {
             "fill": {
              "color": "#C8D4E3"
             },
             "line": {
              "color": "white"
             }
            },
            "type": "table"
           }
          ]
         },
         "layout": {
          "annotationdefaults": {
           "arrowcolor": "#2a3f5f",
           "arrowhead": 0,
           "arrowwidth": 1
          },
          "autotypenumbers": "strict",
          "coloraxis": {
           "colorbar": {
            "outlinewidth": 0,
            "ticks": ""
           }
          },
          "colorscale": {
           "diverging": [
            [
             0,
             "#8e0152"
            ],
            [
             0.1,
             "#c51b7d"
            ],
            [
             0.2,
             "#de77ae"
            ],
            [
             0.3,
             "#f1b6da"
            ],
            [
             0.4,
             "#fde0ef"
            ],
            [
             0.5,
             "#f7f7f7"
            ],
            [
             0.6,
             "#e6f5d0"
            ],
            [
             0.7,
             "#b8e186"
            ],
            [
             0.8,
             "#7fbc41"
            ],
            [
             0.9,
             "#4d9221"
            ],
            [
             1,
             "#276419"
            ]
           ],
           "sequential": [
            [
             0,
             "#0d0887"
            ],
            [
             0.1111111111111111,
             "#46039f"
            ],
            [
             0.2222222222222222,
             "#7201a8"
            ],
            [
             0.3333333333333333,
             "#9c179e"
            ],
            [
             0.4444444444444444,
             "#bd3786"
            ],
            [
             0.5555555555555556,
             "#d8576b"
            ],
            [
             0.6666666666666666,
             "#ed7953"
            ],
            [
             0.7777777777777778,
             "#fb9f3a"
            ],
            [
             0.8888888888888888,
             "#fdca26"
            ],
            [
             1,
             "#f0f921"
            ]
           ],
           "sequentialminus": [
            [
             0,
             "#0d0887"
            ],
            [
             0.1111111111111111,
             "#46039f"
            ],
            [
             0.2222222222222222,
             "#7201a8"
            ],
            [
             0.3333333333333333,
             "#9c179e"
            ],
            [
             0.4444444444444444,
             "#bd3786"
            ],
            [
             0.5555555555555556,
             "#d8576b"
            ],
            [
             0.6666666666666666,
             "#ed7953"
            ],
            [
             0.7777777777777778,
             "#fb9f3a"
            ],
            [
             0.8888888888888888,
             "#fdca26"
            ],
            [
             1,
             "#f0f921"
            ]
           ]
          },
          "colorway": [
           "#636efa",
           "#EF553B",
           "#00cc96",
           "#ab63fa",
           "#FFA15A",
           "#19d3f3",
           "#FF6692",
           "#B6E880",
           "#FF97FF",
           "#FECB52"
          ],
          "font": {
           "color": "#2a3f5f"
          },
          "geo": {
           "bgcolor": "white",
           "lakecolor": "white",
           "landcolor": "white",
           "showlakes": true,
           "showland": true,
           "subunitcolor": "#C8D4E3"
          },
          "hoverlabel": {
           "align": "left"
          },
          "hovermode": "closest",
          "mapbox": {
           "style": "light"
          },
          "paper_bgcolor": "white",
          "plot_bgcolor": "white",
          "polar": {
           "angularaxis": {
            "gridcolor": "#EBF0F8",
            "linecolor": "#EBF0F8",
            "ticks": ""
           },
           "bgcolor": "white",
           "radialaxis": {
            "gridcolor": "#EBF0F8",
            "linecolor": "#EBF0F8",
            "ticks": ""
           }
          },
          "scene": {
           "xaxis": {
            "backgroundcolor": "white",
            "gridcolor": "#DFE8F3",
            "gridwidth": 2,
            "linecolor": "#EBF0F8",
            "showbackground": true,
            "ticks": "",
            "zerolinecolor": "#EBF0F8"
           },
           "yaxis": {
            "backgroundcolor": "white",
            "gridcolor": "#DFE8F3",
            "gridwidth": 2,
            "linecolor": "#EBF0F8",
            "showbackground": true,
            "ticks": "",
            "zerolinecolor": "#EBF0F8"
           },
           "zaxis": {
            "backgroundcolor": "white",
            "gridcolor": "#DFE8F3",
            "gridwidth": 2,
            "linecolor": "#EBF0F8",
            "showbackground": true,
            "ticks": "",
            "zerolinecolor": "#EBF0F8"
           }
          },
          "shapedefaults": {
           "line": {
            "color": "#2a3f5f"
           }
          },
          "ternary": {
           "aaxis": {
            "gridcolor": "#DFE8F3",
            "linecolor": "#A2B1C6",
            "ticks": ""
           },
           "baxis": {
            "gridcolor": "#DFE8F3",
            "linecolor": "#A2B1C6",
            "ticks": ""
           },
           "bgcolor": "white",
           "caxis": {
            "gridcolor": "#DFE8F3",
            "linecolor": "#A2B1C6",
            "ticks": ""
           }
          },
          "title": {
           "x": 0.05
          },
          "xaxis": {
           "automargin": true,
           "gridcolor": "#EBF0F8",
           "linecolor": "#EBF0F8",
           "ticks": "",
           "title": {
            "standoff": 15
           },
           "zerolinecolor": "#EBF0F8",
           "zerolinewidth": 2
          },
          "yaxis": {
           "automargin": true,
           "gridcolor": "#EBF0F8",
           "linecolor": "#EBF0F8",
           "ticks": "",
           "title": {
            "standoff": 15
           },
           "zerolinecolor": "#EBF0F8",
           "zerolinewidth": 2
          }
         }
        },
        "title": {
         "text": "Caseload errors"
        },
        "width": 800,
        "xaxis": {
         "anchor": "y",
         "autorange": true,
         "domain": [
          0,
          1
         ],
         "range": [
          -1,
          6
         ],
         "title": {
          "text": "Caseload error"
         }
        },
        "yaxis": {
         "anchor": "x",
         "autorange": true,
         "domain": [
          0,
          1
         ],
         "range": [
          -1,
          4
         ],
         "title": {
          "text": ""
         }
        }
       }
      },
      "image/png": "[encoded data removed]",
      "text/html": [
       "<div>                            <div id=\"d6539339-916b-4b80-bca8-a224af7ae9c9\" class=\"plotly-graph-div\" style=\"height:600px; width:800px;\"></div>            <script type=\"text/javascript\">                require([\"plotly\"], function(Plotly) {                    window.PLOTLYENV=window.PLOTLYENV || {};                                    if (document.getElementById(\"d6539339-916b-4b80-bca8-a224af7ae9c9\")) {                    Plotly.newPlot(                        \"d6539339-916b-4b80-bca8-a224af7ae9c9\",                        [],                        {\"template\":{\"data\":{\"barpolar\":[{\"marker\":{\"line\":{\"color\":\"white\",\"width\":0.5},\"pattern\":{\"fillmode\":\"overlay\",\"size\":10,\"solidity\":0.2}},\"type\":\"barpolar\"}],\"bar\":[{\"error_x\":{\"color\":\"#2a3f5f\"},\"error_y\":{\"color\":\"#2a3f5f\"},\"marker\":{\"line\":{\"color\":\"white\",\"width\":0.5},\"pattern\":{\"fillmode\":\"overlay\",\"size\":10,\"solidity\":0.2}},\"type\":\"bar\"}],\"carpet\":[{\"aaxis\":{\"endlinecolor\":\"#2a3f5f\",\"gridcolor\":\"#C8D4E3\",\"linecolor\":\"#C8D4E3\",\"minorgridcolor\":\"#C8D4E3\",\"startlinecolor\":\"#2a3f5f\"},\"baxis\":{\"endlinecolor\":\"#2a3f5f\",\"gridcolor\":\"#C8D4E3\",\"linecolor\":\"#C8D4E3\",\"minorgridcolor\":\"#C8D4E3\",\"startlinecolor\":\"#2a3f5f\"},\"type\":\"carpet\"}],\"choropleth\":[{\"colorbar\":{\"outlinewidth\":0,\"ticks\":\"\"},\"type\":\"choropleth\"}],\"contourcarpet\":[{\"colorbar\":{\"outlinewidth\":0,\"ticks\":\"\"},\"type\":\"contourcarpet\"}],\"contour\":[{\"colorbar\":{\"outlinewidth\":0,\"ticks\":\"\"},\"colorscale\":[[0.0,\"#0d0887\"],[0.1111111111111111,\"#46039f\"],[0.2222222222222222,\"#7201a8\"],[0.3333333333333333,\"#9c179e\"],[0.4444444444444444,\"#bd3786\"],[0.5555555555555556,\"#d8576b\"],[0.6666666666666666,\"#ed7953\"],[0.7777777777777778,\"#fb9f3a\"],[0.8888888888888888,\"#fdca26\"],[1.0,\"#f0f921\"]],\"type\":\"contour\"}],\"heatmapgl\":[{\"colorbar\":{\"outlinewidth\":0,\"ticks\":\"\"},\"colorscale\":[[0.0,\"#0d0887\"],[0.1111111111111111,\"#46039f\"],[0.2222222222222222,\"#7201a8\"],[0.3333333333333333,\"#9c179e\"],[0.4444444444444444,\"#bd3786\"],[0.5555555555555556,\"#d8576b\"],[0.6666666666666666,\"#ed7953\"],[0.7777777777777778,\"#fb9f3a\"],[0.8888888888888888,\"#fdca26\"],[1.0,\"#f0f921\"]],\"type\":\"heatmapgl\"}],\"heatmap\":[{\"colorbar\":{\"outlinewidth\":0,\"ticks\":\"\"},\"colorscale\":[[0.0,\"#0d0887\"],[0.1111111111111111,\"#46039f\"],[0.2222222222222222,\"#7201a8\"],[0.3333333333333333,\"#9c179e\"],[0.4444444444444444,\"#bd3786\"],[0.5555555555555556,\"#d8576b\"],[0.6666666666666666,\"#ed7953\"],[0.7777777777777778,\"#fb9f3a\"],[0.8888888888888888,\"#fdca26\"],[1.0,\"#f0f921\"]],\"type\":\"heatmap\"}],\"histogram2dcontour\":[{\"colorbar\":{\"outlinewidth\":0,\"ticks\":\"\"},\"colorscale\":[[0.0,\"#0d0887\"],[0.1111111111111111,\"#46039f\"],[0.2222222222222222,\"#7201a8\"],[0.3333333333333333,\"#9c179e\"],[0.4444444444444444,\"#bd3786\"],[0.5555555555555556,\"#d8576b\"],[0.6666666666666666,\"#ed7953\"],[0.7777777777777778,\"#fb9f3a\"],[0.8888888888888888,\"#fdca26\"],[1.0,\"#f0f921\"]],\"type\":\"histogram2dcontour\"}],\"histogram2d\":[{\"colorbar\":{\"outlinewidth\":0,\"ticks\":\"\"},\"colorscale\":[[0.0,\"#0d0887\"],[0.1111111111111111,\"#46039f\"],[0.2222222222222222,\"#7201a8\"],[0.3333333333333333,\"#9c179e\"],[0.4444444444444444,\"#bd3786\"],[0.5555555555555556,\"#d8576b\"],[0.6666666666666666,\"#ed7953\"],[0.7777777777777778,\"#fb9f3a\"],[0.8888888888888888,\"#fdca26\"],[1.0,\"#f0f921\"]],\"type\":\"histogram2d\"}],\"histogram\":[{\"marker\":{\"pattern\":{\"fillmode\":\"overlay\",\"size\":10,\"solidity\":0.2}},\"type\":\"histogram\"}],\"mesh3d\":[{\"colorbar\":{\"outlinewidth\":0,\"ticks\":\"\"},\"type\":\"mesh3d\"}],\"parcoords\":[{\"line\":{\"colorbar\":{\"outlinewidth\":0,\"ticks\":\"\"}},\"type\":\"parcoords\"}],\"pie\":[{\"automargin\":true,\"type\":\"pie\"}],\"scatter3d\":[{\"line\":{\"colorbar\":{\"outlinewidth\":0,\"ticks\":\"\"}},\"marker\":{\"colorbar\":{\"outlinewidth\":0,\"ticks\":\"\"}},\"type\":\"scatter3d\"}],\"scattercarpet\":[{\"marker\":{\"colorbar\":{\"outlinewidth\":0,\"ticks\":\"\"}},\"type\":\"scattercarpet\"}],\"scattergeo\":[{\"marker\":{\"colorbar\":{\"outlinewidth\":0,\"ticks\":\"\"}},\"type\":\"scattergeo\"}],\"scattergl\":[{\"marker\":{\"colorbar\":{\"outlinewidth\":0,\"ticks\":\"\"}},\"type\":\"scattergl\"}],\"scattermapbox\":[{\"marker\":{\"colorbar\":{\"outlinewidth\":0,\"ticks\":\"\"}},\"type\":\"scattermapbox\"}],\"scatterpolargl\":[{\"marker\":{\"colorbar\":{\"outlinewidth\":0,\"ticks\":\"\"}},\"type\":\"scatterpolargl\"}],\"scatterpolar\":[{\"marker\":{\"colorbar\":{\"outlinewidth\":0,\"ticks\":\"\"}},\"type\":\"scatterpolar\"}],\"scatter\":[{\"marker\":{\"colorbar\":{\"outlinewidth\":0,\"ticks\":\"\"}},\"type\":\"scatter\"}],\"scatterternary\":[{\"marker\":{\"colorbar\":{\"outlinewidth\":0,\"ticks\":\"\"}},\"type\":\"scatterternary\"}],\"surface\":[{\"colorbar\":{\"outlinewidth\":0,\"ticks\":\"\"},\"colorscale\":[[0.0,\"#0d0887\"],[0.1111111111111111,\"#46039f\"],[0.2222222222222222,\"#7201a8\"],[0.3333333333333333,\"#9c179e\"],[0.4444444444444444,\"#bd3786\"],[0.5555555555555556,\"#d8576b\"],[0.6666666666666666,\"#ed7953\"],[0.7777777777777778,\"#fb9f3a\"],[0.8888888888888888,\"#fdca26\"],[1.0,\"#f0f921\"]],\"type\":\"surface\"}],\"table\":[{\"cells\":{\"fill\":{\"color\":\"#EBF0F8\"},\"line\":{\"color\":\"white\"}},\"header\":{\"fill\":{\"color\":\"#C8D4E3\"},\"line\":{\"color\":\"white\"}},\"type\":\"table\"}]},\"layout\":{\"annotationdefaults\":{\"arrowcolor\":\"#2a3f5f\",\"arrowhead\":0,\"arrowwidth\":1},\"autotypenumbers\":\"strict\",\"coloraxis\":{\"colorbar\":{\"outlinewidth\":0,\"ticks\":\"\"}},\"colorscale\":{\"diverging\":[[0,\"#8e0152\"],[0.1,\"#c51b7d\"],[0.2,\"#de77ae\"],[0.3,\"#f1b6da\"],[0.4,\"#fde0ef\"],[0.5,\"#f7f7f7\"],[0.6,\"#e6f5d0\"],[0.7,\"#b8e186\"],[0.8,\"#7fbc41\"],[0.9,\"#4d9221\"],[1,\"#276419\"]],\"sequential\":[[0.0,\"#0d0887\"],[0.1111111111111111,\"#46039f\"],[0.2222222222222222,\"#7201a8\"],[0.3333333333333333,\"#9c179e\"],[0.4444444444444444,\"#bd3786\"],[0.5555555555555556,\"#d8576b\"],[0.6666666666666666,\"#ed7953\"],[0.7777777777777778,\"#fb9f3a\"],[0.8888888888888888,\"#fdca26\"],[1.0,\"#f0f921\"]],\"sequentialminus\":[[0.0,\"#0d0887\"],[0.1111111111111111,\"#46039f\"],[0.2222222222222222,\"#7201a8\"],[0.3333333333333333,\"#9c179e\"],[0.4444444444444444,\"#bd3786\"],[0.5555555555555556,\"#d8576b\"],[0.6666666666666666,\"#ed7953\"],[0.7777777777777778,\"#fb9f3a\"],[0.8888888888888888,\"#fdca26\"],[1.0,\"#f0f921\"]]},\"colorway\":[\"#636efa\",\"#EF553B\",\"#00cc96\",\"#ab63fa\",\"#FFA15A\",\"#19d3f3\",\"#FF6692\",\"#B6E880\",\"#FF97FF\",\"#FECB52\"],\"font\":{\"color\":\"#2a3f5f\"},\"geo\":{\"bgcolor\":\"white\",\"lakecolor\":\"white\",\"landcolor\":\"white\",\"showlakes\":true,\"showland\":true,\"subunitcolor\":\"#C8D4E3\"},\"hoverlabel\":{\"align\":\"left\"},\"hovermode\":\"closest\",\"mapbox\":{\"style\":\"light\"},\"paper_bgcolor\":\"white\",\"plot_bgcolor\":\"white\",\"polar\":{\"angularaxis\":{\"gridcolor\":\"#EBF0F8\",\"linecolor\":\"#EBF0F8\",\"ticks\":\"\"},\"bgcolor\":\"white\",\"radialaxis\":{\"gridcolor\":\"#EBF0F8\",\"linecolor\":\"#EBF0F8\",\"ticks\":\"\"}},\"scene\":{\"xaxis\":{\"backgroundcolor\":\"white\",\"gridcolor\":\"#DFE8F3\",\"gridwidth\":2,\"linecolor\":\"#EBF0F8\",\"showbackground\":true,\"ticks\":\"\",\"zerolinecolor\":\"#EBF0F8\"},\"yaxis\":{\"backgroundcolor\":\"white\",\"gridcolor\":\"#DFE8F3\",\"gridwidth\":2,\"linecolor\":\"#EBF0F8\",\"showbackground\":true,\"ticks\":\"\",\"zerolinecolor\":\"#EBF0F8\"},\"zaxis\":{\"backgroundcolor\":\"white\",\"gridcolor\":\"#DFE8F3\",\"gridwidth\":2,\"linecolor\":\"#EBF0F8\",\"showbackground\":true,\"ticks\":\"\",\"zerolinecolor\":\"#EBF0F8\"}},\"shapedefaults\":{\"line\":{\"color\":\"#2a3f5f\"}},\"ternary\":{\"aaxis\":{\"gridcolor\":\"#DFE8F3\",\"linecolor\":\"#A2B1C6\",\"ticks\":\"\"},\"baxis\":{\"gridcolor\":\"#DFE8F3\",\"linecolor\":\"#A2B1C6\",\"ticks\":\"\"},\"bgcolor\":\"white\",\"caxis\":{\"gridcolor\":\"#DFE8F3\",\"linecolor\":\"#A2B1C6\",\"ticks\":\"\"}},\"title\":{\"x\":0.05},\"xaxis\":{\"automargin\":true,\"gridcolor\":\"#EBF0F8\",\"linecolor\":\"#EBF0F8\",\"ticks\":\"\",\"title\":{\"standoff\":15},\"zerolinecolor\":\"#EBF0F8\",\"zerolinewidth\":2},\"yaxis\":{\"automargin\":true,\"gridcolor\":\"#EBF0F8\",\"linecolor\":\"#EBF0F8\",\"ticks\":\"\",\"title\":{\"standoff\":15},\"zerolinecolor\":\"#EBF0F8\",\"zerolinewidth\":2}}},\"xaxis\":{\"anchor\":\"y\",\"domain\":[0.0,1.0],\"title\":{\"text\":\"Caseload error\"}},\"yaxis\":{\"anchor\":\"x\",\"domain\":[0.0,1.0],\"title\":{\"text\":\"\"}},\"legend\":{\"tracegroupgap\":0,\"title\":{\"text\":\"Model\"},\"traceorder\":\"reversed\"},\"margin\":{\"t\":60},\"barmode\":\"group\",\"width\":800,\"height\":600,\"title\":{\"text\":\"Caseload errors\"}},                        {\"responsive\": true}                    ).then(function(){\n",
       "                            \n",
       "var gd = document.getElementById('d6539339-916b-4b80-bca8-a224af7ae9c9');\n",
       "var x = new MutationObserver(function (mutations, observer) {{\n",
       "        var display = window.getComputedStyle(gd).display;\n",
       "        if (!display || display === 'none') {{\n",
       "            console.log([gd, 'removed!']);\n",
       "            Plotly.purge(gd);\n",
       "            observer.disconnect();\n",
       "        }}\n",
       "}});\n",
       "\n",
       "// Listen for the removal of the full notebook cells\n",
       "var notebookContainer = gd.closest('#notebook-container');\n",
       "if (notebookContainer) {{\n",
       "    x.observe(notebookContainer, {childList: true});\n",
       "}}\n",
       "\n",
       "// Listen for the clearing of the current output cell\n",
       "var outputEl = gd.closest('.output');\n",
       "if (outputEl) {{\n",
       "    x.observe(outputEl, {childList: true});\n",
       "}}\n",
       "\n",
       "                        })                };                });            </script>        </div>"
      ]
     },
     "metadata": {},
     "output_type": "display_data"
    }
   ],
   "source": [
    "def error_chart(table, title=None):\n",
    "    hovertemplate = \"<b>%{customdata[4]} in %{customdata[3]}</b><br>Error: %{x}<br>Official: %{customdata[2]}m<br>OpenFisca-UK: %{customdata[0]}m<br>UKMOD: %{customdata[1]}m\"\n",
    "    table = table.replace(\"\", np.nan).dropna(axis=0)\n",
    "    table[[policyengine_uk, UKMOD]] = table[[policyengine_uk, UKMOD]].abs() / 1e2\n",
    "    fig = (\n",
    "        px.bar(\n",
    "            table.sort_values([\"Year\", policyengine_uk]),\n",
    "            x=[policyengine_uk, UKMOD],\n",
    "            y=\"Program\",\n",
    "            orientation=\"h\",\n",
    "            animation_frame=\"Year\",\n",
    "            barmode=\"group\",\n",
    "            color_discrete_map={\n",
    "                policyengine_uk: \"blue\",\n",
    "                UKMOD: \"lightgrey\",\n",
    "            },\n",
    "            custom_data=[\n",
    "                \"OpenFisca-UK caseload\",\n",
    "                \"UKMOD caseload\",\n",
    "                \"External caseload\",\n",
    "                \"Year\",\n",
    "                \"Program\",\n",
    "            ],\n",
    "        )\n",
    "        .update_layout(\n",
    "            width=800,\n",
    "            height=600,\n",
    "            xaxis_title=\"Caseload error\",\n",
    "            title=title,\n",
    "            template=\"plotly_white\",\n",
    "            legend_title=\"Model\",\n",
    "            yaxis_title=\"\",\n",
    "            legend_traceorder=\"reversed\",\n",
    "        )\n",
    "        .update_traces(hovertemplate=hovertemplate)\n",
    "    )\n",
    "    for frame in fig.frames:\n",
    "        for data in frame.data:\n",
    "            data.hovertemplate = hovertemplate\n",
    "    return fig\n",
    "\n",
    "\n",
    "error_chart(\n",
    "    tables_to_model_comparisons(\n",
    "        {\n",
    "            \"\": model_validation_table(\n",
    "                caseload_error,\n",
    "                models=[policyengine_uk, UKMOD],\n",
    "                decimals=1,\n",
    "                divisor=1e-2,\n",
    "            ),\n",
    "            \"caseload\": model_validation_table(\n",
    "                caseload, divisor=1e6, decimals=1\n",
    "            ),\n",
    "        }\n",
    "    ),\n",
    "    title=\"Caseload errors\",\n",
    ")"
   ]
  },
  {
   "cell_type": "markdown",
   "id": "85a7bbc1-bc8f-45fa-9267-e01bf023b199",
   "metadata": {},
   "source": [
    "## Automated tests\n",
    "\n",
    "Below are test results from the most recent version."
   ]
  },
  {
   "cell_type": "code",
   "execution_count": 12,
   "id": "36cf98bd-f26a-49bb-a852-cedaeaf12a8d",
   "metadata": {
    "tags": [
     "hide-input"
    ]
   },
   "outputs": [
    {
     "data": {
      "text/html": [
       "<div>\n",
       "<style scoped>\n",
       "    .dataframe tbody tr th:only-of-type {\n",
       "        vertical-align: middle;\n",
       "    }\n",
       "\n",
       "    .dataframe tbody tr th {\n",
       "        vertical-align: top;\n",
       "    }\n",
       "\n",
       "    .dataframe thead th {\n",
       "        text-align: right;\n",
       "    }\n",
       "</style>\n",
       "<table border=\"1\" class=\"dataframe\">\n",
       "  <thead>\n",
       "    <tr style=\"text-align: right;\">\n",
       "      <th></th>\n",
       "      <th>Name</th>\n",
       "      <th>Passed</th>\n",
       "    </tr>\n",
       "  </thead>\n",
       "  <tbody>\n",
       "    <tr>\n",
       "      <th>0</th>\n",
       "      <td>OpenFisca-UK Child Benefit caseload error is less than 10.0% in 2022</td>\n",
       "      <td>True</td>\n",
       "    </tr>\n",
       "    <tr>\n",
       "      <th>1</th>\n",
       "      <td>OpenFisca-UK Council Tax (less CTB) aggregate error is less than 11.0% in 2022</td>\n",
       "      <td>True</td>\n",
       "    </tr>\n",
       "    <tr>\n",
       "      <th>2</th>\n",
       "      <td>OpenFisca-UK Child Tax Credit aggregate error is less than 40.0% in 2022</td>\n",
       "      <td>True</td>\n",
       "    </tr>\n",
       "    <tr>\n",
       "      <th>3</th>\n",
       "      <td>OpenFisca-UK Child Tax Credit caseload error is less than 25.0% in 2022</td>\n",
       "      <td>True</td>\n",
       "    </tr>\n",
       "    <tr>\n",
       "      <th>4</th>\n",
       "      <td>OpenFisca-UK Working Tax Credit caseload error is less than 40.0% in 2022</td>\n",
       "      <td>True</td>\n",
       "    </tr>\n",
       "    <tr>\n",
       "      <th>5</th>\n",
       "      <td>OpenFisca-UK Housing Benefit caseload error is less than 15.0% in 2022</td>\n",
       "      <td>True</td>\n",
       "    </tr>\n",
       "    <tr>\n",
       "      <th>6</th>\n",
       "      <td>OpenFisca-UK JSA (income-based) aggregate error is less than 110.0% in 2022</td>\n",
       "      <td>True</td>\n",
       "    </tr>\n",
       "    <tr>\n",
       "      <th>7</th>\n",
       "      <td>OpenFisca-UK Income Support caseload error is less than 15.0% in 2022</td>\n",
       "      <td>True</td>\n",
       "    </tr>\n",
       "    <tr>\n",
       "      <th>8</th>\n",
       "      <td>OpenFisca-UK Universal Credit caseload error is less than 20.0% in 2022</td>\n",
       "      <td>True</td>\n",
       "    </tr>\n",
       "    <tr>\n",
       "      <th>9</th>\n",
       "      <td>OpenFisca-UK Income Tax caseload error is less than 12.5% in 2022</td>\n",
       "      <td>True</td>\n",
       "    </tr>\n",
       "    <tr>\n",
       "      <th>10</th>\n",
       "      <td>OpenFisca-UK National Insurance (total) aggregate error is less than 5.0% in 2022</td>\n",
       "      <td>True</td>\n",
       "    </tr>\n",
       "  </tbody>\n",
       "</table>\n",
       "</div>"
      ],
      "text/plain": [
       "                                                                                 Name  \\\n",
       "0   OpenFisca-UK Child Benefit caseload error is less than 10.0% in 2022                \n",
       "1   OpenFisca-UK Council Tax (less CTB) aggregate error is less than 11.0% in 2022      \n",
       "2   OpenFisca-UK Child Tax Credit aggregate error is less than 40.0% in 2022            \n",
       "3   OpenFisca-UK Child Tax Credit caseload error is less than 25.0% in 2022             \n",
       "4   OpenFisca-UK Working Tax Credit caseload error is less than 40.0% in 2022           \n",
       "5   OpenFisca-UK Housing Benefit caseload error is less than 15.0% in 2022              \n",
       "6   OpenFisca-UK JSA (income-based) aggregate error is less than 110.0% in 2022         \n",
       "7   OpenFisca-UK Income Support caseload error is less than 15.0% in 2022               \n",
       "8   OpenFisca-UK Universal Credit caseload error is less than 20.0% in 2022             \n",
       "9   OpenFisca-UK Income Tax caseload error is less than 12.5% in 2022                   \n",
       "10  OpenFisca-UK National Insurance (total) aggregate error is less than 5.0% in 2022   \n",
       "\n",
       "    Passed  \n",
       "0   True    \n",
       "1   True    \n",
       "2   True    \n",
       "3   True    \n",
       "4   True    \n",
       "5   True    \n",
       "6   True    \n",
       "7   True    \n",
       "8   True    \n",
       "9   True    \n",
       "10  True    "
      ]
     },
     "execution_count": 12,
     "metadata": {},
     "output_type": "execute_result"
    }
   ],
   "source": [
    "from policyengine_uk.tests.microsimulation.test_statistics import tests\n",
    "\n",
    "pd.set_option(\"display.max_colwidth\", 0)\n",
    "pd.set_option(\"display.max_rows\", 500)\n",
    "pd.DataFrame({\"Name\": tests, \"Passed\": [test.test()[0] for test in tests]})"
   ]
  }
 ],
 "metadata": {
  "interpreter": {
   "hash": "d8fe82497dc3af1dafdfcaf67c3f347e622d9ec55d37e96a4812404db83e4772"
  },
  "kernelspec": {
   "display_name": "Python 3 (ipykernel)",
   "language": "python",
   "name": "python3"
  },
  "language_info": {
   "codemirror_mode": {
    "name": "ipython",
    "version": 3
   },
   "file_extension": ".py",
   "mimetype": "text/x-python",
   "name": "python",
   "nbconvert_exporter": "python",
   "pygments_lexer": "ipython3",
   "version": "3.7.11"
  }
 },
 "nbformat": 4,
 "nbformat_minor": 5
}
