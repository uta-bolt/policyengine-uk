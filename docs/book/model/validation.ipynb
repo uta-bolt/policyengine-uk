{
 "cells": [
  {
   "cell_type": "markdown",
   "id": "8fde3747",
   "metadata": {},
   "source": [
    "# Validation\n",
    "\n",
    "PolicyEngine-UK runs unit and integration tests on each new version (see [here](https://github.com/PSLmodels/openfisca-uk/tree/master/tests)).\n",
    "In addition, the table below shows the aggregates produced by the model for the major taxes and benefits, and comparisons with UKMOD (latest [country report](https://www.iser.essex.ac.uk/research/publications/working-papers/cempa/cempa2-22.pdf)) and official sources.[^1]\n",
    "UKMOD and administrative sources refer to 2018, and PolicyEngine-UK is simulated on policy at the end of 2018.\n",
    "Numbers are in billions of pounds.\n",
    "\n",
    "[^1]: From the UKMOD country report: unless otherwise specified: Department for Work and Pensions https://www.gov.uk/government/publications/benefit-expenditure-and-caseload-tables-2018 ; Best Start Grant: https://www2.gov.scot/Topics/Statistics/Browse/Social-Welfare/SocialSecurityforScotland/BSGJune2019; Child tax credit and working tax credit: HMRC statistics \n",
    "https://www.gov.uk/government/statistics/child-and-working-tax-credits-statistics-finalised-annual-awards-2016-to-2017; Scottish Child Payment: Scottish Fiscal Commission https://www.fiscalcommission.scot/forecast/supplementary-costing-scottish-child-payment; Scottish Child Winter Heating Assistance: Scottish Fiscal Commission \n",
    "https://www.fiscalcommission.scot/forecast/supplementary-costing-child-winter-heating-assistance; Income tax: HMRC statistics https://www.gov.uk/government/statistics/income-tax-liabilities-statistics-tax-year-2014-to-2015-to-tax-year-2017-to-2018; National Insurance Contributions: ONS Blue Book Table 5.2.4s "
   ]
  },
  {
   "cell_type": "markdown",
   "id": "d4998737",
   "metadata": {},
   "source": [
    "## Aggregate tables\n",
    "\n",
    "PolicyEngine-UK uprates input FRS data: below are comparisons between the aggregates calculated by PolicyEngine-UK, UKMOD and external sources.\n",
    "\n",
    "### Aggregates in full"
   ]
  },
  {
   "cell_type": "code",
   "execution_count": 1,
   "id": "cb98f204-73b5-42f9-a75d-e26c08e1f63c",
   "metadata": {
    "tags": [
     "hide-input"
    ]
   },
   "outputs": [
    {
     "data": {
      "text/html": [
       "<div>\n",
       "<style scoped>\n",
       "    .dataframe tbody tr th:only-of-type {\n",
       "        vertical-align: middle;\n",
       "    }\n",
       "\n",
       "    .dataframe tbody tr th {\n",
       "        vertical-align: top;\n",
       "    }\n",
       "\n",
       "    .dataframe thead th {\n",
       "        text-align: right;\n",
       "    }\n",
       "</style>\n",
       "<table border=\"1\" class=\"dataframe\">\n",
       "  <thead>\n",
       "    <tr style=\"text-align: right;\">\n",
       "      <th></th>\n",
       "      <th></th>\n",
       "      <th>Child Benefit</th>\n",
       "      <th>Income Support</th>\n",
       "      <th>JSA (income-based)</th>\n",
       "      <th>Housing Benefit</th>\n",
       "      <th>Working Tax Credit</th>\n",
       "      <th>Child Tax Credit</th>\n",
       "      <th>Universal Credit</th>\n",
       "    </tr>\n",
       "  </thead>\n",
       "  <tbody>\n",
       "    <tr>\n",
       "      <th rowspan=\"4\" valign=\"top\">External</th>\n",
       "      <th>2022</th>\n",
       "      <td>11.2</td>\n",
       "      <td>0.7</td>\n",
       "      <td>0.2</td>\n",
       "      <td>15.9</td>\n",
       "      <td>1.7</td>\n",
       "      <td>6.1</td>\n",
       "      <td>43.7</td>\n",
       "    </tr>\n",
       "    <tr>\n",
       "      <th>2023</th>\n",
       "      <td>11.5</td>\n",
       "      <td>0.5</td>\n",
       "      <td>0.0</td>\n",
       "      <td>14.7</td>\n",
       "      <td>1.3</td>\n",
       "      <td>4.6</td>\n",
       "      <td>49.8</td>\n",
       "    </tr>\n",
       "    <tr>\n",
       "      <th>2024</th>\n",
       "      <td>11.6</td>\n",
       "      <td>0.5</td>\n",
       "      <td>0.0</td>\n",
       "      <td>12.5</td>\n",
       "      <td>0.8</td>\n",
       "      <td>3.0</td>\n",
       "      <td>57.8</td>\n",
       "    </tr>\n",
       "    <tr>\n",
       "      <th>2025</th>\n",
       "      <td>11.6</td>\n",
       "      <td>0.4</td>\n",
       "      <td>0.0</td>\n",
       "      <td>10.2</td>\n",
       "      <td>0.4</td>\n",
       "      <td>1.4</td>\n",
       "      <td>68.0</td>\n",
       "    </tr>\n",
       "    <tr>\n",
       "      <th rowspan=\"4\" valign=\"top\">PolicyEngine-UK</th>\n",
       "      <th>2022</th>\n",
       "      <td>11.3</td>\n",
       "      <td>0.8</td>\n",
       "      <td>0.2</td>\n",
       "      <td>13.8</td>\n",
       "      <td>3.8</td>\n",
       "      <td>9.4</td>\n",
       "      <td>40.4</td>\n",
       "    </tr>\n",
       "    <tr>\n",
       "      <th>2023</th>\n",
       "      <td>11.6</td>\n",
       "      <td>0.8</td>\n",
       "      <td>0.2</td>\n",
       "      <td>13.4</td>\n",
       "      <td>3.9</td>\n",
       "      <td>9.4</td>\n",
       "      <td>41.6</td>\n",
       "    </tr>\n",
       "    <tr>\n",
       "      <th>2024</th>\n",
       "      <td>11.6</td>\n",
       "      <td>0.8</td>\n",
       "      <td>0.2</td>\n",
       "      <td>13.2</td>\n",
       "      <td>3.7</td>\n",
       "      <td>9.0</td>\n",
       "      <td>41.3</td>\n",
       "    </tr>\n",
       "    <tr>\n",
       "      <th>2025</th>\n",
       "      <td>11.6</td>\n",
       "      <td>0.8</td>\n",
       "      <td>0.2</td>\n",
       "      <td>12.9</td>\n",
       "      <td>3.6</td>\n",
       "      <td>8.6</td>\n",
       "      <td>41.0</td>\n",
       "    </tr>\n",
       "    <tr>\n",
       "      <th rowspan=\"4\" valign=\"top\">UKMOD</th>\n",
       "      <th>2022</th>\n",
       "      <td>12.0</td>\n",
       "      <td></td>\n",
       "      <td></td>\n",
       "      <td>10.3</td>\n",
       "      <td>1.6</td>\n",
       "      <td>5.4</td>\n",
       "      <td>34.1</td>\n",
       "    </tr>\n",
       "    <tr>\n",
       "      <th>2023</th>\n",
       "      <td>12.3</td>\n",
       "      <td></td>\n",
       "      <td></td>\n",
       "      <td>9.6</td>\n",
       "      <td>1.3</td>\n",
       "      <td>4.5</td>\n",
       "      <td>39.1</td>\n",
       "    </tr>\n",
       "    <tr>\n",
       "      <th>2024</th>\n",
       "      <td>12.5</td>\n",
       "      <td></td>\n",
       "      <td></td>\n",
       "      <td>8.5</td>\n",
       "      <td>0.9</td>\n",
       "      <td>3.3</td>\n",
       "      <td>39.1</td>\n",
       "    </tr>\n",
       "    <tr>\n",
       "      <th>2025</th>\n",
       "      <td>12.6</td>\n",
       "      <td></td>\n",
       "      <td></td>\n",
       "      <td>6.7</td>\n",
       "      <td>0.4</td>\n",
       "      <td>1.5</td>\n",
       "      <td>45.6</td>\n",
       "    </tr>\n",
       "  </tbody>\n",
       "</table>\n",
       "</div>"
      ],
      "text/plain": [
       "                   Child Benefit Income Support JSA (income-based)  \\\n",
       "External     2022           11.2            0.7                0.2   \n",
       "             2023           11.5            0.5                0.0   \n",
       "             2024           11.6            0.5                0.0   \n",
       "             2025           11.6            0.4                0.0   \n",
       "PolicyEngine-UK 2022           11.3            0.8                0.2   \n",
       "             2023           11.6            0.8                0.2   \n",
       "             2024           11.6            0.8                0.2   \n",
       "             2025           11.6            0.8                0.2   \n",
       "UKMOD        2022           12.0                                     \n",
       "             2023           12.3                                     \n",
       "             2024           12.5                                     \n",
       "             2025           12.6                                     \n",
       "\n",
       "                   Housing Benefit  Working Tax Credit  Child Tax Credit  \\\n",
       "External     2022             15.9                 1.7               6.1   \n",
       "             2023             14.7                 1.3               4.6   \n",
       "             2024             12.5                 0.8               3.0   \n",
       "             2025             10.2                 0.4               1.4   \n",
       "PolicyEngine-UK 2022             13.8                 3.8               9.4   \n",
       "             2023             13.4                 3.9               9.4   \n",
       "             2024             13.2                 3.7               9.0   \n",
       "             2025             12.9                 3.6               8.6   \n",
       "UKMOD        2022             10.3                 1.6               5.4   \n",
       "             2023              9.6                 1.3               4.5   \n",
       "             2024              8.5                 0.9               3.3   \n",
       "             2025              6.7                 0.4               1.5   \n",
       "\n",
       "                   Universal Credit  \n",
       "External     2022              43.7  \n",
       "             2023              49.8  \n",
       "             2024              57.8  \n",
       "             2025              68.0  \n",
       "PolicyEngine-UK 2022              40.4  \n",
       "             2023              41.6  \n",
       "             2024              41.3  \n",
       "             2025              41.0  \n",
       "UKMOD        2022              34.1  \n",
       "             2023              39.1  \n",
       "             2024              39.1  \n",
       "             2025              45.6  "
      ]
     },
     "execution_count": 1,
     "metadata": {},
     "output_type": "execute_result"
    }
   ],
   "source": [
    "import numpy as np\n",
    "import pandas as pd\n",
    "from policyengine_uk import (\n",
    "    Microsimulation,\n",
    "    REPO,\n",
    ")\n",
    "from policyengine_uk.data import EnhancedFRS\n",
    "from policyengine_uk.system import (\n",
    "    parameters as BASELINE_PARAMETERS,\n",
    "    variables as BASELINE_VARIABLES,\n",
    ")\n",
    "from policyengine_core.parameters import ParameterNode\n",
    "from pathlib import Path\n",
    "import yaml\n",
    "import plotly.express as px\n",
    "import warnings\n",
    "\n",
    "warnings.filterwarnings(\"ignore\")\n",
    "warnings.simplefilter(\"ignore\")\n",
    "\n",
    "policyengine_uk = \"PolicyEngine-UK\"\n",
    "UKMOD = \"UKMOD\"\n",
    "EXTERNAL = \"External\"\n",
    "\n",
    "parameters = BASELINE_PARAMETERS\n",
    "default_variables = BASELINE_VARIABLES\n",
    "\n",
    "VARIABLES = [\n",
    "    \"child_benefit\",\n",
    "    \"income_support\",\n",
    "    \"JSA_income\",\n",
    "    \"housing_benefit\",\n",
    "    \"working_tax_credit\",\n",
    "    \"child_tax_credit\",\n",
    "    \"universal_credit\",\n",
    "    \"pension_credit\",\n",
    "    \"income_tax\",\n",
    "    \"total_NI\",\n",
    "    \"employment_income\",\n",
    "    \"self_employment_income\",\n",
    "    \"pension_income\",\n",
    "    \"property_income\",\n",
    "    \"savings_interest_income\",\n",
    "    \"dividend_income\",\n",
    "]\n",
    "\n",
    "sim = Microsimulation(dataset=EnhancedFRS)\n",
    "\n",
    "# https://stackoverflow.com/questions/34667108/ignore-dates-and-times-while-parsing-yaml\n",
    "\n",
    "yaml.SafeLoader.yaml_implicit_resolvers = {\n",
    "    k: [r for r in v if r[0] != \"tag:yaml.org,2002:timestamp\"]\n",
    "    for k, v in yaml.SafeLoader.yaml_implicit_resolvers.items()\n",
    "}\n",
    "\n",
    "with open(\n",
    "    REPO.parent\n",
    "    / \"docs\"\n",
    "    / \"book\"\n",
    "    / \"model\"\n",
    "    / \"ukmod_country_report_statistics.yaml\",\n",
    "    mode=\"r\",\n",
    ") as f:\n",
    "    ukmod_statistics = ParameterNode(\n",
    "        \"ukmod\", data=yaml.load(f, Loader=yaml.SafeLoader)\n",
    "    )\n",
    "\n",
    "\n",
    "def process_scalar(x, divisor, decimals):\n",
    "    try:\n",
    "        if np.isnan(x):\n",
    "            return x\n",
    "    except:\n",
    "        return \"\"\n",
    "    return round(x / divisor, decimals)\n",
    "\n",
    "\n",
    "def model_validation_table(\n",
    "    model_year_variable_to_result_func,\n",
    "    title=None,\n",
    "    start_year=2022,\n",
    "    end_year=2025,\n",
    "    divisor=1,\n",
    "    decimals=0,\n",
    "    models=[EXTERNAL, policyengine_uk, UKMOD],\n",
    "    variables=VARIABLES,\n",
    "):\n",
    "    dfs = []\n",
    "    for model in models:\n",
    "        df = pd.DataFrame(\n",
    "            {\n",
    "                year: {\n",
    "                    BASELINE_VARIABLES[variable].label: process_scalar(\n",
    "                        model_year_variable_to_result_func(\n",
    "                            model, year, variable\n",
    "                        ),\n",
    "                        divisor,\n",
    "                        decimals,\n",
    "                    )\n",
    "                    for variable in variables\n",
    "                }\n",
    "                for year in range(start_year, end_year + 1)\n",
    "            }\n",
    "        )\n",
    "        dfs.append(df.T)\n",
    "    return pd.concat(dfs, keys=models).replace(np.nan, \"\")\n",
    "\n",
    "\n",
    "def budgetary_impact(model, year, variable):\n",
    "    try:\n",
    "        if model == policyengine_uk:\n",
    "            return sim.calc(variable, map_to=\"household\", period=year).sum()\n",
    "        elif model == UKMOD:\n",
    "            return getattr(ukmod_statistics.ukmod.budgetary_impact, variable)(\n",
    "                f\"{year}-01-01\"\n",
    "            )\n",
    "        elif model == EXTERNAL:\n",
    "            param = BASELINE_PARAMETERS.calibration.programs.children[\n",
    "                variable\n",
    "            ].budgetary_impact\n",
    "            if variable == \"income_tax\":\n",
    "                param = param.by_country\n",
    "            if \"UNITED_KINGDOM\" in param.children:\n",
    "                return param.UNITED_KINGDOM(f\"{year}-01-01\")\n",
    "            elif \"GREAT_BRITAIN\" in param.children:\n",
    "                return param.GREAT_BRITAIN(f\"{year}-01-01\")\n",
    "    except Exception as e:\n",
    "        return np.nan\n",
    "\n",
    "\n",
    "df = model_validation_table(budgetary_impact, divisor=1e9, decimals=1)\n",
    "\n",
    "df[df.columns[:7]]"
   ]
  },
  {
   "cell_type": "code",
   "execution_count": 2,
   "id": "67484ca1",
   "metadata": {},
   "outputs": [
    {
     "data": {
      "text/html": [
       "<div>\n",
       "<style scoped>\n",
       "    .dataframe tbody tr th:only-of-type {\n",
       "        vertical-align: middle;\n",
       "    }\n",
       "\n",
       "    .dataframe tbody tr th {\n",
       "        vertical-align: top;\n",
       "    }\n",
       "\n",
       "    .dataframe thead th {\n",
       "        text-align: right;\n",
       "    }\n",
       "</style>\n",
       "<table border=\"1\" class=\"dataframe\">\n",
       "  <thead>\n",
       "    <tr style=\"text-align: right;\">\n",
       "      <th></th>\n",
       "      <th></th>\n",
       "      <th>Pension Credit</th>\n",
       "      <th>Income Tax</th>\n",
       "      <th>National Insurance (total)</th>\n",
       "      <th>employment income</th>\n",
       "      <th>self-employment income</th>\n",
       "      <th>pension income</th>\n",
       "      <th>rental income</th>\n",
       "    </tr>\n",
       "  </thead>\n",
       "  <tbody>\n",
       "    <tr>\n",
       "      <th rowspan=\"4\" valign=\"top\">External</th>\n",
       "      <th>2022</th>\n",
       "      <td>4.5</td>\n",
       "      <td>205.0</td>\n",
       "      <td>151.3</td>\n",
       "      <td>868.6</td>\n",
       "      <td>93.3</td>\n",
       "      <td></td>\n",
       "      <td>25.0</td>\n",
       "    </tr>\n",
       "    <tr>\n",
       "      <th>2023</th>\n",
       "      <td>4.4</td>\n",
       "      <td>215.0</td>\n",
       "      <td>157.5</td>\n",
       "      <td>894.7</td>\n",
       "      <td>96.1</td>\n",
       "      <td></td>\n",
       "      <td>25.7</td>\n",
       "    </tr>\n",
       "    <tr>\n",
       "      <th>2024</th>\n",
       "      <td>4.4</td>\n",
       "      <td>225.7</td>\n",
       "      <td>164.6</td>\n",
       "      <td>922.4</td>\n",
       "      <td>99.0</td>\n",
       "      <td></td>\n",
       "      <td>26.5</td>\n",
       "    </tr>\n",
       "    <tr>\n",
       "      <th>2025</th>\n",
       "      <td>4.2</td>\n",
       "      <td>237.5</td>\n",
       "      <td>172.1</td>\n",
       "      <td>949.2</td>\n",
       "      <td>101.9</td>\n",
       "      <td></td>\n",
       "      <td>27.3</td>\n",
       "    </tr>\n",
       "    <tr>\n",
       "      <th rowspan=\"4\" valign=\"top\">PolicyEngine-UK</th>\n",
       "      <th>2022</th>\n",
       "      <td>5.3</td>\n",
       "      <td>178.3</td>\n",
       "      <td>138.8</td>\n",
       "      <td>825.3</td>\n",
       "      <td>96.7</td>\n",
       "      <td>100.5</td>\n",
       "      <td>22.1</td>\n",
       "    </tr>\n",
       "    <tr>\n",
       "      <th>2023</th>\n",
       "      <td>5.2</td>\n",
       "      <td>188.7</td>\n",
       "      <td>136.7</td>\n",
       "      <td>850.1</td>\n",
       "      <td>99.6</td>\n",
       "      <td>103.6</td>\n",
       "      <td>22.7</td>\n",
       "    </tr>\n",
       "    <tr>\n",
       "      <th>2024</th>\n",
       "      <td>4.8</td>\n",
       "      <td>199.1</td>\n",
       "      <td>142.4</td>\n",
       "      <td>876.4</td>\n",
       "      <td>102.6</td>\n",
       "      <td>106.8</td>\n",
       "      <td>23.4</td>\n",
       "    </tr>\n",
       "    <tr>\n",
       "      <th>2025</th>\n",
       "      <td>4.4</td>\n",
       "      <td>204.6</td>\n",
       "      <td>148.0</td>\n",
       "      <td>901.8</td>\n",
       "      <td>105.6</td>\n",
       "      <td>109.9</td>\n",
       "      <td>24.1</td>\n",
       "    </tr>\n",
       "    <tr>\n",
       "      <th rowspan=\"4\" valign=\"top\">UKMOD</th>\n",
       "      <th>2022</th>\n",
       "      <td>4.2</td>\n",
       "      <td>161.2</td>\n",
       "      <td>156.0</td>\n",
       "      <td></td>\n",
       "      <td></td>\n",
       "      <td></td>\n",
       "      <td></td>\n",
       "    </tr>\n",
       "    <tr>\n",
       "      <th>2023</th>\n",
       "      <td>4.4</td>\n",
       "      <td>170.6</td>\n",
       "      <td>145.1</td>\n",
       "      <td></td>\n",
       "      <td></td>\n",
       "      <td></td>\n",
       "      <td></td>\n",
       "    </tr>\n",
       "    <tr>\n",
       "      <th>2024</th>\n",
       "      <td>4.5</td>\n",
       "      <td>178.5</td>\n",
       "      <td>147.9</td>\n",
       "      <td></td>\n",
       "      <td></td>\n",
       "      <td></td>\n",
       "      <td></td>\n",
       "    </tr>\n",
       "    <tr>\n",
       "      <th>2025</th>\n",
       "      <td>4.5</td>\n",
       "      <td>187.9</td>\n",
       "      <td>151.9</td>\n",
       "      <td></td>\n",
       "      <td></td>\n",
       "      <td></td>\n",
       "      <td></td>\n",
       "    </tr>\n",
       "  </tbody>\n",
       "</table>\n",
       "</div>"
      ],
      "text/plain": [
       "                   Pension Credit  Income Tax  National Insurance (total)  \\\n",
       "External     2022             4.5       205.0                       151.3   \n",
       "             2023             4.4       215.0                       157.5   \n",
       "             2024             4.4       225.7                       164.6   \n",
       "             2025             4.2       237.5                       172.1   \n",
       "PolicyEngine-UK 2022             5.3       178.3                       138.8   \n",
       "             2023             5.2       188.7                       136.7   \n",
       "             2024             4.8       199.1                       142.4   \n",
       "             2025             4.4       204.6                       148.0   \n",
       "UKMOD        2022             4.2       161.2                       156.0   \n",
       "             2023             4.4       170.6                       145.1   \n",
       "             2024             4.5       178.5                       147.9   \n",
       "             2025             4.5       187.9                       151.9   \n",
       "\n",
       "                  employment income self-employment income pension income  \\\n",
       "External     2022             868.6                   93.3                  \n",
       "             2023             894.7                   96.1                  \n",
       "             2024             922.4                   99.0                  \n",
       "             2025             949.2                  101.9                  \n",
       "PolicyEngine-UK 2022             825.3                   96.7          100.5   \n",
       "             2023             850.1                   99.6          103.6   \n",
       "             2024             876.4                  102.6          106.8   \n",
       "             2025             901.8                  105.6          109.9   \n",
       "UKMOD        2022                                                           \n",
       "             2023                                                           \n",
       "             2024                                                           \n",
       "             2025                                                           \n",
       "\n",
       "                  rental income  \n",
       "External     2022          25.0  \n",
       "             2023          25.7  \n",
       "             2024          26.5  \n",
       "             2025          27.3  \n",
       "PolicyEngine-UK 2022          22.1  \n",
       "             2023          22.7  \n",
       "             2024          23.4  \n",
       "             2025          24.1  \n",
       "UKMOD        2022                \n",
       "             2023                \n",
       "             2024                \n",
       "             2025                "
      ]
     },
     "execution_count": 2,
     "metadata": {},
     "output_type": "execute_result"
    }
   ],
   "source": [
    "df[df.columns[7:14]]"
   ]
  },
  {
   "cell_type": "code",
   "execution_count": 3,
   "id": "224f04e3",
   "metadata": {},
   "outputs": [
    {
     "data": {
      "text/html": [
       "<div>\n",
       "<style scoped>\n",
       "    .dataframe tbody tr th:only-of-type {\n",
       "        vertical-align: middle;\n",
       "    }\n",
       "\n",
       "    .dataframe tbody tr th {\n",
       "        vertical-align: top;\n",
       "    }\n",
       "\n",
       "    .dataframe thead th {\n",
       "        text-align: right;\n",
       "    }\n",
       "</style>\n",
       "<table border=\"1\" class=\"dataframe\">\n",
       "  <thead>\n",
       "    <tr style=\"text-align: right;\">\n",
       "      <th></th>\n",
       "      <th></th>\n",
       "      <th>savings interest income</th>\n",
       "      <th>dividend income</th>\n",
       "    </tr>\n",
       "  </thead>\n",
       "  <tbody>\n",
       "    <tr>\n",
       "      <th rowspan=\"4\" valign=\"top\">External</th>\n",
       "      <th>2022</th>\n",
       "      <td>5.3</td>\n",
       "      <td>69.6</td>\n",
       "    </tr>\n",
       "    <tr>\n",
       "      <th>2023</th>\n",
       "      <td>5.5</td>\n",
       "      <td>71.7</td>\n",
       "    </tr>\n",
       "    <tr>\n",
       "      <th>2024</th>\n",
       "      <td>5.6</td>\n",
       "      <td>73.9</td>\n",
       "    </tr>\n",
       "    <tr>\n",
       "      <th>2025</th>\n",
       "      <td>5.8</td>\n",
       "      <td>76.0</td>\n",
       "    </tr>\n",
       "    <tr>\n",
       "      <th rowspan=\"4\" valign=\"top\">PolicyEngine-UK</th>\n",
       "      <th>2022</th>\n",
       "      <td>4.8</td>\n",
       "      <td>59.5</td>\n",
       "    </tr>\n",
       "    <tr>\n",
       "      <th>2023</th>\n",
       "      <td>4.9</td>\n",
       "      <td>61.3</td>\n",
       "    </tr>\n",
       "    <tr>\n",
       "      <th>2024</th>\n",
       "      <td>5.1</td>\n",
       "      <td>63.2</td>\n",
       "    </tr>\n",
       "    <tr>\n",
       "      <th>2025</th>\n",
       "      <td>5.2</td>\n",
       "      <td>65.0</td>\n",
       "    </tr>\n",
       "    <tr>\n",
       "      <th rowspan=\"4\" valign=\"top\">UKMOD</th>\n",
       "      <th>2022</th>\n",
       "      <td></td>\n",
       "      <td></td>\n",
       "    </tr>\n",
       "    <tr>\n",
       "      <th>2023</th>\n",
       "      <td></td>\n",
       "      <td></td>\n",
       "    </tr>\n",
       "    <tr>\n",
       "      <th>2024</th>\n",
       "      <td></td>\n",
       "      <td></td>\n",
       "    </tr>\n",
       "    <tr>\n",
       "      <th>2025</th>\n",
       "      <td></td>\n",
       "      <td></td>\n",
       "    </tr>\n",
       "  </tbody>\n",
       "</table>\n",
       "</div>"
      ],
      "text/plain": [
       "                  savings interest income dividend income\n",
       "External     2022                     5.3            69.6\n",
       "             2023                     5.5            71.7\n",
       "             2024                     5.6            73.9\n",
       "             2025                     5.8            76.0\n",
       "PolicyEngine-UK 2022                     4.8            59.5\n",
       "             2023                     4.9            61.3\n",
       "             2024                     5.1            63.2\n",
       "             2025                     5.2            65.0\n",
       "UKMOD        2022                                        \n",
       "             2023                                        \n",
       "             2024                                        \n",
       "             2025                                        "
      ]
     },
     "execution_count": 3,
     "metadata": {},
     "output_type": "execute_result"
    }
   ],
   "source": [
    "df[df.columns[14:]]"
   ]
  },
  {
   "cell_type": "markdown",
   "id": "626c55d3-8a51-4148-baae-3cf7405d2163",
   "metadata": {},
   "source": [
    "### Forecast comparison"
   ]
  },
  {
   "cell_type": "code",
   "execution_count": 4,
   "id": "e4b06316-41a6-480b-9816-9afdc244a824",
   "metadata": {
    "tags": [
     "hide-input"
    ]
   },
   "outputs": [
    {
     "data": {
      "application/vnd.plotly.v1+json": {
       "config": {
        "plotlyServerURL": "https://plot.ly"
       },
       "data": [
        {
         "hovertemplate": "",
         "legendgroup": "External",
         "line": {
          "color": "#00cc96",
          "dash": "solid"
         },
         "marker": {
          "symbol": "circle"
         },
         "mode": "lines",
         "name": "External",
         "orientation": "h",
         "showlegend": true,
         "type": "scatter",
         "x": [
          2022,
          2023,
          2024,
          2025
         ],
         "xaxis": "x",
         "y": [
          11213000000,
          11546000000,
          11626000000,
          11627000000
         ],
         "yaxis": "y"
        },
        {
         "hovertemplate": "",
         "legendgroup": "PolicyEngine-UK",
         "line": {
          "color": "blue",
          "dash": "solid"
         },
         "marker": {
          "symbol": "circle"
         },
         "mode": "lines",
         "name": "PolicyEngine-UK",
         "orientation": "h",
         "showlegend": true,
         "type": "scatter",
         "x": [
          2022,
          2023,
          2024,
          2025
         ],
         "xaxis": "x",
         "y": [
          11292220917.8,
          11640350631.8,
          11637172385.4,
          11635418798.5
         ],
         "yaxis": "y"
        },
        {
         "hovertemplate": "",
         "legendgroup": "UKMOD",
         "line": {
          "color": "lightgrey",
          "dash": "solid"
         },
         "marker": {
          "symbol": "circle"
         },
         "mode": "lines",
         "name": "UKMOD",
         "orientation": "h",
         "showlegend": true,
         "type": "scatter",
         "x": [
          2022,
          2023,
          2024,
          2025
         ],
         "xaxis": "x",
         "y": [
          11963000000,
          12331000000,
          12547000000,
          12579000000
         ],
         "yaxis": "y"
        }
       ],
       "frames": [
        {
         "data": [
          {
           "hovertemplate": "",
           "legendgroup": "External",
           "line": {
            "color": "#00cc96",
            "dash": "solid"
           },
           "marker": {
            "symbol": "circle"
           },
           "mode": "lines",
           "name": "External",
           "orientation": "h",
           "showlegend": true,
           "type": "scatter",
           "x": [
            2022,
            2023,
            2024,
            2025
           ],
           "xaxis": "x",
           "y": [
            11213000000,
            11546000000,
            11626000000,
            11627000000
           ],
           "yaxis": "y"
          },
          {
           "hovertemplate": "",
           "legendgroup": "PolicyEngine-UK",
           "line": {
            "color": "blue",
            "dash": "solid"
           },
           "marker": {
            "symbol": "circle"
           },
           "mode": "lines",
           "name": "PolicyEngine-UK",
           "orientation": "h",
           "showlegend": true,
           "type": "scatter",
           "x": [
            2022,
            2023,
            2024,
            2025
           ],
           "xaxis": "x",
           "y": [
            11292220917.8,
            11640350631.8,
            11637172385.4,
            11635418798.5
           ],
           "yaxis": "y"
          },
          {
           "hovertemplate": "",
           "legendgroup": "UKMOD",
           "line": {
            "color": "lightgrey",
            "dash": "solid"
           },
           "marker": {
            "symbol": "circle"
           },
           "mode": "lines",
           "name": "UKMOD",
           "orientation": "h",
           "showlegend": true,
           "type": "scatter",
           "x": [
            2022,
            2023,
            2024,
            2025
           ],
           "xaxis": "x",
           "y": [
            11963000000,
            12331000000,
            12547000000,
            12579000000
           ],
           "yaxis": "y"
          }
         ],
         "name": "Child Benefit"
        },
        {
         "data": [
          {
           "hovertemplate": "",
           "legendgroup": "External",
           "line": {
            "color": "#00cc96",
            "dash": "solid"
           },
           "marker": {
            "symbol": "circle"
           },
           "mode": "lines",
           "name": "External",
           "orientation": "h",
           "showlegend": true,
           "type": "scatter",
           "x": [
            2022,
            2023,
            2024,
            2025
           ],
           "xaxis": "x",
           "y": [
            6147712115.1,
            4614002783.7,
            3029598967.7,
            1374383807.9
           ],
           "yaxis": "y"
          },
          {
           "hovertemplate": "",
           "legendgroup": "PolicyEngine-UK",
           "line": {
            "color": "blue",
            "dash": "solid"
           },
           "marker": {
            "symbol": "circle"
           },
           "mode": "lines",
           "name": "PolicyEngine-UK",
           "orientation": "h",
           "showlegend": true,
           "type": "scatter",
           "x": [
            2022,
            2023,
            2024,
            2025
           ],
           "xaxis": "x",
           "y": [
            9417702171.2,
            9419037235.4,
            8983678461.2,
            8597498765.9
           ],
           "yaxis": "y"
          },
          {
           "hovertemplate": "",
           "legendgroup": "UKMOD",
           "line": {
            "color": "lightgrey",
            "dash": "solid"
           },
           "marker": {
            "symbol": "circle"
           },
           "mode": "lines",
           "name": "UKMOD",
           "orientation": "h",
           "showlegend": true,
           "type": "scatter",
           "x": [
            2022,
            2023,
            2024,
            2025
           ],
           "xaxis": "x",
           "y": [
            5382000000,
            4546000000,
            3287000000,
            1461000000
           ],
           "yaxis": "y"
          }
         ],
         "name": "Child Tax Credit"
        },
        {
         "data": [
          {
           "hovertemplate": "",
           "legendgroup": "External",
           "line": {
            "color": "#00cc96",
            "dash": "solid"
           },
           "marker": {
            "symbol": "circle"
           },
           "mode": "lines",
           "name": "External",
           "orientation": "h",
           "showlegend": true,
           "type": "scatter",
           "x": [
            2022,
            2023,
            2024,
            2025
           ],
           "xaxis": "x",
           "y": [
            15894000000,
            14728000000,
            12503000000,
            10213000000
           ],
           "yaxis": "y"
          },
          {
           "hovertemplate": "",
           "legendgroup": "PolicyEngine-UK",
           "line": {
            "color": "blue",
            "dash": "solid"
           },
           "marker": {
            "symbol": "circle"
           },
           "mode": "lines",
           "name": "PolicyEngine-UK",
           "orientation": "h",
           "showlegend": true,
           "type": "scatter",
           "x": [
            2022,
            2023,
            2024,
            2025
           ],
           "xaxis": "x",
           "y": [
            13835649010.1,
            13372235651.2,
            13158774047,
            12913295441.5
           ],
           "yaxis": "y"
          },
          {
           "hovertemplate": "",
           "legendgroup": "UKMOD",
           "line": {
            "color": "lightgrey",
            "dash": "solid"
           },
           "marker": {
            "symbol": "circle"
           },
           "mode": "lines",
           "name": "UKMOD",
           "orientation": "h",
           "showlegend": true,
           "type": "scatter",
           "x": [
            2022,
            2023,
            2024,
            2025
           ],
           "xaxis": "x",
           "y": [
            10332000000,
            9622000000,
            8476000000,
            6706000000
           ],
           "yaxis": "y"
          }
         ],
         "name": "Housing Benefit"
        },
        {
         "data": [
          {
           "hovertemplate": "",
           "legendgroup": "External",
           "line": {
            "color": "#00cc96",
            "dash": "solid"
           },
           "marker": {
            "symbol": "circle"
           },
           "mode": "lines",
           "name": "External",
           "orientation": "h",
           "showlegend": true,
           "type": "scatter",
           "x": [
            2022,
            2023,
            2024,
            2025
           ],
           "xaxis": "x",
           "y": [
            670000000,
            491000000,
            471000000,
            432000000
           ],
           "yaxis": "y"
          },
          {
           "hovertemplate": "",
           "legendgroup": "PolicyEngine-UK",
           "line": {
            "color": "blue",
            "dash": "solid"
           },
           "marker": {
            "symbol": "circle"
           },
           "mode": "lines",
           "name": "PolicyEngine-UK",
           "orientation": "h",
           "showlegend": true,
           "type": "scatter",
           "x": [
            2022,
            2023,
            2024,
            2025
           ],
           "xaxis": "x",
           "y": [
            794196036.3,
            808358971.8,
            808286796.4,
            808217080.5
           ],
           "yaxis": "y"
          },
          {
           "hovertemplate": "",
           "legendgroup": "UKMOD",
           "line": {
            "color": "lightgrey",
            "dash": "solid"
           },
           "marker": {
            "symbol": "circle"
           },
           "mode": "lines",
           "name": "UKMOD",
           "orientation": "h",
           "showlegend": true,
           "type": "scatter",
           "x": [
            2022,
            2023,
            2024,
            2025
           ],
           "xaxis": "x",
           "y": [
            "",
            "",
            "",
            ""
           ],
           "yaxis": "y"
          }
         ],
         "name": "Income Support"
        },
        {
         "data": [
          {
           "hovertemplate": "",
           "legendgroup": "External",
           "line": {
            "color": "#00cc96",
            "dash": "solid"
           },
           "marker": {
            "symbol": "circle"
           },
           "mode": "lines",
           "name": "External",
           "orientation": "h",
           "showlegend": true,
           "type": "scatter",
           "x": [
            2022,
            2023,
            2024,
            2025
           ],
           "xaxis": "x",
           "y": [
            205000000000,
            215000000000,
            225700000000,
            237500000000
           ],
           "yaxis": "y"
          },
          {
           "hovertemplate": "",
           "legendgroup": "PolicyEngine-UK",
           "line": {
            "color": "blue",
            "dash": "solid"
           },
           "marker": {
            "symbol": "circle"
           },
           "mode": "lines",
           "name": "PolicyEngine-UK",
           "orientation": "h",
           "showlegend": true,
           "type": "scatter",
           "x": [
            2022,
            2023,
            2024,
            2025
           ],
           "xaxis": "x",
           "y": [
            178312550205.2,
            188689210962,
            199116336586.1,
            204579969879.5
           ],
           "yaxis": "y"
          },
          {
           "hovertemplate": "",
           "legendgroup": "UKMOD",
           "line": {
            "color": "lightgrey",
            "dash": "solid"
           },
           "marker": {
            "symbol": "circle"
           },
           "mode": "lines",
           "name": "UKMOD",
           "orientation": "h",
           "showlegend": true,
           "type": "scatter",
           "x": [
            2022,
            2023,
            2024,
            2025
           ],
           "xaxis": "x",
           "y": [
            161197000000,
            170626000000,
            178488000000,
            187865000000
           ],
           "yaxis": "y"
          }
         ],
         "name": "Income Tax"
        },
        {
         "data": [
          {
           "hovertemplate": "",
           "legendgroup": "External",
           "line": {
            "color": "#00cc96",
            "dash": "solid"
           },
           "marker": {
            "symbol": "circle"
           },
           "mode": "lines",
           "name": "External",
           "orientation": "h",
           "showlegend": true,
           "type": "scatter",
           "x": [
            2022,
            2023,
            2024,
            2025
           ],
           "xaxis": "x",
           "y": [
            196000000,
            21000,
            0,
            0
           ],
           "yaxis": "y"
          },
          {
           "hovertemplate": "",
           "legendgroup": "PolicyEngine-UK",
           "line": {
            "color": "blue",
            "dash": "solid"
           },
           "marker": {
            "symbol": "circle"
           },
           "mode": "lines",
           "name": "PolicyEngine-UK",
           "orientation": "h",
           "showlegend": true,
           "type": "scatter",
           "x": [
            2022,
            2023,
            2024,
            2025
           ],
           "xaxis": "x",
           "y": [
            233002202.5,
            240173025.3,
            240171993.6,
            240170996.9
           ],
           "yaxis": "y"
          },
          {
           "hovertemplate": "",
           "legendgroup": "UKMOD",
           "line": {
            "color": "lightgrey",
            "dash": "solid"
           },
           "marker": {
            "symbol": "circle"
           },
           "mode": "lines",
           "name": "UKMOD",
           "orientation": "h",
           "showlegend": true,
           "type": "scatter",
           "x": [
            2022,
            2023,
            2024,
            2025
           ],
           "xaxis": "x",
           "y": [
            "",
            "",
            "",
            ""
           ],
           "yaxis": "y"
          }
         ],
         "name": "JSA (income-based)"
        },
        {
         "data": [
          {
           "hovertemplate": "",
           "legendgroup": "External",
           "line": {
            "color": "#00cc96",
            "dash": "solid"
           },
           "marker": {
            "symbol": "circle"
           },
           "mode": "lines",
           "name": "External",
           "orientation": "h",
           "showlegend": true,
           "type": "scatter",
           "x": [
            2022,
            2023,
            2024,
            2025
           ],
           "xaxis": "x",
           "y": [
            151300000000,
            157500000000,
            164600000000,
            172100000000
           ],
           "yaxis": "y"
          },
          {
           "hovertemplate": "",
           "legendgroup": "PolicyEngine-UK",
           "line": {
            "color": "blue",
            "dash": "solid"
           },
           "marker": {
            "symbol": "circle"
           },
           "mode": "lines",
           "name": "PolicyEngine-UK",
           "orientation": "h",
           "showlegend": true,
           "type": "scatter",
           "x": [
            2022,
            2023,
            2024,
            2025
           ],
           "xaxis": "x",
           "y": [
            138774701029.7,
            136702949560.5,
            142446818350.1,
            147999010377.5
           ],
           "yaxis": "y"
          },
          {
           "hovertemplate": "",
           "legendgroup": "UKMOD",
           "line": {
            "color": "lightgrey",
            "dash": "solid"
           },
           "marker": {
            "symbol": "circle"
           },
           "mode": "lines",
           "name": "UKMOD",
           "orientation": "h",
           "showlegend": true,
           "type": "scatter",
           "x": [
            2022,
            2023,
            2024,
            2025
           ],
           "xaxis": "x",
           "y": [
            156016000000,
            145114000000,
            147890000000,
            151875000000
           ],
           "yaxis": "y"
          }
         ],
         "name": "National Insurance (total)"
        },
        {
         "data": [
          {
           "hovertemplate": "",
           "legendgroup": "External",
           "line": {
            "color": "#00cc96",
            "dash": "solid"
           },
           "marker": {
            "symbol": "circle"
           },
           "mode": "lines",
           "name": "External",
           "orientation": "h",
           "showlegend": true,
           "type": "scatter",
           "x": [
            2022,
            2023,
            2024,
            2025
           ],
           "xaxis": "x",
           "y": [
            4466000000,
            4447000000,
            4379000000,
            4223000000
           ],
           "yaxis": "y"
          },
          {
           "hovertemplate": "",
           "legendgroup": "PolicyEngine-UK",
           "line": {
            "color": "blue",
            "dash": "solid"
           },
           "marker": {
            "symbol": "circle"
           },
           "mode": "lines",
           "name": "PolicyEngine-UK",
           "orientation": "h",
           "showlegend": true,
           "type": "scatter",
           "x": [
            2022,
            2023,
            2024,
            2025
           ],
           "xaxis": "x",
           "y": [
            5260575562.3,
            5213297897.4,
            4772433150.1,
            4374963360.1
           ],
           "yaxis": "y"
          },
          {
           "hovertemplate": "",
           "legendgroup": "UKMOD",
           "line": {
            "color": "lightgrey",
            "dash": "solid"
           },
           "marker": {
            "symbol": "circle"
           },
           "mode": "lines",
           "name": "UKMOD",
           "orientation": "h",
           "showlegend": true,
           "type": "scatter",
           "x": [
            2022,
            2023,
            2024,
            2025
           ],
           "xaxis": "x",
           "y": [
            4153000000,
            4410000000,
            4491000000,
            4466000000
           ],
           "yaxis": "y"
          }
         ],
         "name": "Pension Credit"
        },
        {
         "data": [
          {
           "hovertemplate": "",
           "legendgroup": "External",
           "line": {
            "color": "#00cc96",
            "dash": "solid"
           },
           "marker": {
            "symbol": "circle"
           },
           "mode": "lines",
           "name": "External",
           "orientation": "h",
           "showlegend": true,
           "type": "scatter",
           "x": [
            2022,
            2023,
            2024,
            2025
           ],
           "xaxis": "x",
           "y": [
            43657000000,
            49751000000,
            57782000000,
            67959000000
           ],
           "yaxis": "y"
          },
          {
           "hovertemplate": "",
           "legendgroup": "PolicyEngine-UK",
           "line": {
            "color": "blue",
            "dash": "solid"
           },
           "marker": {
            "symbol": "circle"
           },
           "mode": "lines",
           "name": "PolicyEngine-UK",
           "orientation": "h",
           "showlegend": true,
           "type": "scatter",
           "x": [
            2022,
            2023,
            2024,
            2025
           ],
           "xaxis": "x",
           "y": [
            40411381717.1,
            41608636057.4,
            41263780039.6,
            40990561125.7
           ],
           "yaxis": "y"
          },
          {
           "hovertemplate": "",
           "legendgroup": "UKMOD",
           "line": {
            "color": "lightgrey",
            "dash": "solid"
           },
           "marker": {
            "symbol": "circle"
           },
           "mode": "lines",
           "name": "UKMOD",
           "orientation": "h",
           "showlegend": true,
           "type": "scatter",
           "x": [
            2022,
            2023,
            2024,
            2025
           ],
           "xaxis": "x",
           "y": [
            34073000000,
            39133000000,
            39133000000,
            45644000000
           ],
           "yaxis": "y"
          }
         ],
         "name": "Universal Credit"
        },
        {
         "data": [
          {
           "hovertemplate": "",
           "legendgroup": "External",
           "line": {
            "color": "#00cc96",
            "dash": "solid"
           },
           "marker": {
            "symbol": "circle"
           },
           "mode": "lines",
           "name": "External",
           "orientation": "h",
           "showlegend": true,
           "type": "scatter",
           "x": [
            2022,
            2023,
            2024,
            2025
           ],
           "xaxis": "x",
           "y": [
            1694774691.2,
            1271968335,
            835186742.4,
            378884184.9
           ],
           "yaxis": "y"
          },
          {
           "hovertemplate": "",
           "legendgroup": "PolicyEngine-UK",
           "line": {
            "color": "blue",
            "dash": "solid"
           },
           "marker": {
            "symbol": "circle"
           },
           "mode": "lines",
           "name": "PolicyEngine-UK",
           "orientation": "h",
           "showlegend": true,
           "type": "scatter",
           "x": [
            2022,
            2023,
            2024,
            2025
           ],
           "xaxis": "x",
           "y": [
            3773844161.7,
            3877778657.6,
            3743273233.1,
            3615919019.5
           ],
           "yaxis": "y"
          },
          {
           "hovertemplate": "",
           "legendgroup": "UKMOD",
           "line": {
            "color": "lightgrey",
            "dash": "solid"
           },
           "marker": {
            "symbol": "circle"
           },
           "mode": "lines",
           "name": "UKMOD",
           "orientation": "h",
           "showlegend": true,
           "type": "scatter",
           "x": [
            2022,
            2023,
            2024,
            2025
           ],
           "xaxis": "x",
           "y": [
            1573000000,
            1320000000,
            897000000,
            423000000
           ],
           "yaxis": "y"
          }
         ],
         "name": "Working Tax Credit"
        },
        {
         "data": [
          {
           "hovertemplate": "",
           "legendgroup": "External",
           "line": {
            "color": "#00cc96",
            "dash": "solid"
           },
           "marker": {
            "symbol": "circle"
           },
           "mode": "lines",
           "name": "External",
           "orientation": "h",
           "showlegend": true,
           "type": "scatter",
           "x": [
            2022,
            2023,
            2024,
            2025
           ],
           "xaxis": "x",
           "y": [
            69576904347.8,
            71667084058,
            73885773913,
            76028869565.2
           ],
           "yaxis": "y"
          },
          {
           "hovertemplate": "",
           "legendgroup": "PolicyEngine-UK",
           "line": {
            "color": "blue",
            "dash": "solid"
           },
           "marker": {
            "symbol": "circle"
           },
           "mode": "lines",
           "name": "PolicyEngine-UK",
           "orientation": "h",
           "showlegend": true,
           "type": "scatter",
           "x": [
            2022,
            2023,
            2024,
            2025
           ],
           "xaxis": "x",
           "y": [
            59498272846.7,
            61285680455.5,
            63182980902.2,
            65015636295.7
           ],
           "yaxis": "y"
          },
          {
           "hovertemplate": "",
           "legendgroup": "UKMOD",
           "line": {
            "color": "lightgrey",
            "dash": "solid"
           },
           "marker": {
            "symbol": "circle"
           },
           "mode": "lines",
           "name": "UKMOD",
           "orientation": "h",
           "showlegend": true,
           "type": "scatter",
           "x": [
            2022,
            2023,
            2024,
            2025
           ],
           "xaxis": "x",
           "y": [
            "",
            "",
            "",
            ""
           ],
           "yaxis": "y"
          }
         ],
         "name": "dividend income"
        },
        {
         "data": [
          {
           "hovertemplate": "",
           "legendgroup": "External",
           "line": {
            "color": "#00cc96",
            "dash": "solid"
           },
           "marker": {
            "symbol": "circle"
           },
           "mode": "lines",
           "name": "External",
           "orientation": "h",
           "showlegend": true,
           "type": "scatter",
           "x": [
            2022,
            2023,
            2024,
            2025
           ],
           "xaxis": "x",
           "y": [
            868644173913,
            894739362318.8,
            922438956521.7,
            949194782608.7
           ],
           "yaxis": "y"
          },
          {
           "hovertemplate": "",
           "legendgroup": "PolicyEngine-UK",
           "line": {
            "color": "blue",
            "dash": "solid"
           },
           "marker": {
            "symbol": "circle"
           },
           "mode": "lines",
           "name": "PolicyEngine-UK",
           "orientation": "h",
           "showlegend": true,
           "type": "scatter",
           "x": [
            2022,
            2023,
            2024,
            2025
           ],
           "xaxis": "x",
           "y": [
            825266280439.1,
            850058383204.2,
            876374739767.2,
            901794449466.8
           ],
           "yaxis": "y"
          },
          {
           "hovertemplate": "",
           "legendgroup": "UKMOD",
           "line": {
            "color": "lightgrey",
            "dash": "solid"
           },
           "marker": {
            "symbol": "circle"
           },
           "mode": "lines",
           "name": "UKMOD",
           "orientation": "h",
           "showlegend": true,
           "type": "scatter",
           "x": [
            2022,
            2023,
            2024,
            2025
           ],
           "xaxis": "x",
           "y": [
            "",
            "",
            "",
            ""
           ],
           "yaxis": "y"
          }
         ],
         "name": "employment income"
        },
        {
         "data": [
          {
           "hovertemplate": "",
           "legendgroup": "External",
           "line": {
            "color": "#00cc96",
            "dash": "solid"
           },
           "marker": {
            "symbol": "circle"
           },
           "mode": "lines",
           "name": "External",
           "orientation": "h",
           "showlegend": true,
           "type": "scatter",
           "x": [
            2022,
            2023,
            2024,
            2025
           ],
           "xaxis": "x",
           "y": [
            "",
            "",
            "",
            ""
           ],
           "yaxis": "y"
          },
          {
           "hovertemplate": "",
           "legendgroup": "PolicyEngine-UK",
           "line": {
            "color": "blue",
            "dash": "solid"
           },
           "marker": {
            "symbol": "circle"
           },
           "mode": "lines",
           "name": "PolicyEngine-UK",
           "orientation": "h",
           "showlegend": true,
           "type": "scatter",
           "x": [
            2022,
            2023,
            2024,
            2025
           ],
           "xaxis": "x",
           "y": [
            100533849003.1,
            103554020181.8,
            106759876094.2,
            109856502597.7
           ],
           "yaxis": "y"
          },
          {
           "hovertemplate": "",
           "legendgroup": "UKMOD",
           "line": {
            "color": "lightgrey",
            "dash": "solid"
           },
           "marker": {
            "symbol": "circle"
           },
           "mode": "lines",
           "name": "UKMOD",
           "orientation": "h",
           "showlegend": true,
           "type": "scatter",
           "x": [
            2022,
            2023,
            2024,
            2025
           ],
           "xaxis": "x",
           "y": [
            "",
            "",
            "",
            ""
           ],
           "yaxis": "y"
          }
         ],
         "name": "pension income"
        },
        {
         "data": [
          {
           "hovertemplate": "",
           "legendgroup": "External",
           "line": {
            "color": "#00cc96",
            "dash": "solid"
           },
           "marker": {
            "symbol": "circle"
           },
           "mode": "lines",
           "name": "External",
           "orientation": "h",
           "showlegend": true,
           "type": "scatter",
           "x": [
            2022,
            2023,
            2024,
            2025
           ],
           "xaxis": "x",
           "y": [
            24970852173.9,
            25721008695.7,
            26517286956.5,
            27286434782.6
           ],
           "yaxis": "y"
          },
          {
           "hovertemplate": "",
           "legendgroup": "PolicyEngine-UK",
           "line": {
            "color": "blue",
            "dash": "solid"
           },
           "marker": {
            "symbol": "circle"
           },
           "mode": "lines",
           "name": "PolicyEngine-UK",
           "orientation": "h",
           "showlegend": true,
           "type": "scatter",
           "x": [
            2022,
            2023,
            2024,
            2025
           ],
           "xaxis": "x",
           "y": [
            22064043299.5,
            22726876691,
            23430462063.5,
            24110074941
           ],
           "yaxis": "y"
          },
          {
           "hovertemplate": "",
           "legendgroup": "UKMOD",
           "line": {
            "color": "lightgrey",
            "dash": "solid"
           },
           "marker": {
            "symbol": "circle"
           },
           "mode": "lines",
           "name": "UKMOD",
           "orientation": "h",
           "showlegend": true,
           "type": "scatter",
           "x": [
            2022,
            2023,
            2024,
            2025
           ],
           "xaxis": "x",
           "y": [
            "",
            "",
            "",
            ""
           ],
           "yaxis": "y"
          }
         ],
         "name": "rental income"
        },
        {
         "data": [
          {
           "hovertemplate": "",
           "legendgroup": "External",
           "line": {
            "color": "#00cc96",
            "dash": "solid"
           },
           "marker": {
            "symbol": "circle"
           },
           "mode": "lines",
           "name": "External",
           "orientation": "h",
           "showlegend": true,
           "type": "scatter",
           "x": [
            2022,
            2023,
            2024,
            2025
           ],
           "xaxis": "x",
           "y": [
            5314309565.2,
            5473958260.9,
            5643422608.7,
            5807113043.5
           ],
           "yaxis": "y"
          },
          {
           "hovertemplate": "",
           "legendgroup": "PolicyEngine-UK",
           "line": {
            "color": "blue",
            "dash": "solid"
           },
           "marker": {
            "symbol": "circle"
           },
           "mode": "lines",
           "name": "PolicyEngine-UK",
           "orientation": "h",
           "showlegend": true,
           "type": "scatter",
           "x": [
            2022,
            2023,
            2024,
            2025
           ],
           "xaxis": "x",
           "y": [
            4771064556.7,
            4914393696.7,
            5066534942.3,
            5213492463.3
           ],
           "yaxis": "y"
          },
          {
           "hovertemplate": "",
           "legendgroup": "UKMOD",
           "line": {
            "color": "lightgrey",
            "dash": "solid"
           },
           "marker": {
            "symbol": "circle"
           },
           "mode": "lines",
           "name": "UKMOD",
           "orientation": "h",
           "showlegend": true,
           "type": "scatter",
           "x": [
            2022,
            2023,
            2024,
            2025
           ],
           "xaxis": "x",
           "y": [
            "",
            "",
            "",
            ""
           ],
           "yaxis": "y"
          }
         ],
         "name": "savings interest income"
        },
        {
         "data": [
          {
           "hovertemplate": "",
           "legendgroup": "External",
           "line": {
            "color": "#00cc96",
            "dash": "solid"
           },
           "marker": {
            "symbol": "circle"
           },
           "mode": "lines",
           "name": "External",
           "orientation": "h",
           "showlegend": true,
           "type": "scatter",
           "x": [
            2022,
            2023,
            2024,
            2025
           ],
           "xaxis": "x",
           "y": [
            93267200000,
            96069066666.7,
            99043200000,
            101916000000
           ],
           "yaxis": "y"
          },
          {
           "hovertemplate": "",
           "legendgroup": "PolicyEngine-UK",
           "line": {
            "color": "blue",
            "dash": "solid"
           },
           "marker": {
            "symbol": "circle"
           },
           "mode": "lines",
           "name": "PolicyEngine-UK",
           "orientation": "h",
           "showlegend": true,
           "type": "scatter",
           "x": [
            2022,
            2023,
            2024,
            2025
           ],
           "xaxis": "x",
           "y": [
            96663084573.9,
            99566973331.9,
            102649396907.1,
            105626795231.5
           ],
           "yaxis": "y"
          },
          {
           "hovertemplate": "",
           "legendgroup": "UKMOD",
           "line": {
            "color": "lightgrey",
            "dash": "solid"
           },
           "marker": {
            "symbol": "circle"
           },
           "mode": "lines",
           "name": "UKMOD",
           "orientation": "h",
           "showlegend": true,
           "type": "scatter",
           "x": [
            2022,
            2023,
            2024,
            2025
           ],
           "xaxis": "x",
           "y": [
            "",
            "",
            "",
            ""
           ],
           "yaxis": "y"
          }
         ],
         "name": "self-employment income"
        }
       ],
       "layout": {
        "height": 600,
        "legend": {
         "title": {
          "text": "Model"
         },
         "tracegroupgap": 0,
         "traceorder": "reversed"
        },
        "margin": {
         "t": 60
        },
        "sliders": [
         {
          "active": 0,
          "currentvalue": {
           "prefix": "Program="
          },
          "len": 0.9,
          "pad": {
           "b": 10,
           "t": 60
          },
          "steps": [
           {
            "args": [
             [
              "Child Benefit"
             ],
             {
              "frame": {
               "duration": 0,
               "redraw": false
              },
              "fromcurrent": true,
              "mode": "immediate",
              "transition": {
               "duration": 0,
               "easing": "linear"
              }
             }
            ],
            "label": "Child Benefit",
            "method": "animate"
           },
           {
            "args": [
             [
              "Child Tax Credit"
             ],
             {
              "frame": {
               "duration": 0,
               "redraw": false
              },
              "fromcurrent": true,
              "mode": "immediate",
              "transition": {
               "duration": 0,
               "easing": "linear"
              }
             }
            ],
            "label": "Child Tax Credit",
            "method": "animate"
           },
           {
            "args": [
             [
              "Housing Benefit"
             ],
             {
              "frame": {
               "duration": 0,
               "redraw": false
              },
              "fromcurrent": true,
              "mode": "immediate",
              "transition": {
               "duration": 0,
               "easing": "linear"
              }
             }
            ],
            "label": "Housing Benefit",
            "method": "animate"
           },
           {
            "args": [
             [
              "Income Support"
             ],
             {
              "frame": {
               "duration": 0,
               "redraw": false
              },
              "fromcurrent": true,
              "mode": "immediate",
              "transition": {
               "duration": 0,
               "easing": "linear"
              }
             }
            ],
            "label": "Income Support",
            "method": "animate"
           },
           {
            "args": [
             [
              "Income Tax"
             ],
             {
              "frame": {
               "duration": 0,
               "redraw": false
              },
              "fromcurrent": true,
              "mode": "immediate",
              "transition": {
               "duration": 0,
               "easing": "linear"
              }
             }
            ],
            "label": "Income Tax",
            "method": "animate"
           },
           {
            "args": [
             [
              "JSA (income-based)"
             ],
             {
              "frame": {
               "duration": 0,
               "redraw": false
              },
              "fromcurrent": true,
              "mode": "immediate",
              "transition": {
               "duration": 0,
               "easing": "linear"
              }
             }
            ],
            "label": "JSA (income-based)",
            "method": "animate"
           },
           {
            "args": [
             [
              "National Insurance (total)"
             ],
             {
              "frame": {
               "duration": 0,
               "redraw": false
              },
              "fromcurrent": true,
              "mode": "immediate",
              "transition": {
               "duration": 0,
               "easing": "linear"
              }
             }
            ],
            "label": "National Insurance (total)",
            "method": "animate"
           },
           {
            "args": [
             [
              "Pension Credit"
             ],
             {
              "frame": {
               "duration": 0,
               "redraw": false
              },
              "fromcurrent": true,
              "mode": "immediate",
              "transition": {
               "duration": 0,
               "easing": "linear"
              }
             }
            ],
            "label": "Pension Credit",
            "method": "animate"
           },
           {
            "args": [
             [
              "Universal Credit"
             ],
             {
              "frame": {
               "duration": 0,
               "redraw": false
              },
              "fromcurrent": true,
              "mode": "immediate",
              "transition": {
               "duration": 0,
               "easing": "linear"
              }
             }
            ],
            "label": "Universal Credit",
            "method": "animate"
           },
           {
            "args": [
             [
              "Working Tax Credit"
             ],
             {
              "frame": {
               "duration": 0,
               "redraw": false
              },
              "fromcurrent": true,
              "mode": "immediate",
              "transition": {
               "duration": 0,
               "easing": "linear"
              }
             }
            ],
            "label": "Working Tax Credit",
            "method": "animate"
           },
           {
            "args": [
             [
              "dividend income"
             ],
             {
              "frame": {
               "duration": 0,
               "redraw": false
              },
              "fromcurrent": true,
              "mode": "immediate",
              "transition": {
               "duration": 0,
               "easing": "linear"
              }
             }
            ],
            "label": "dividend income",
            "method": "animate"
           },
           {
            "args": [
             [
              "employment income"
             ],
             {
              "frame": {
               "duration": 0,
               "redraw": false
              },
              "fromcurrent": true,
              "mode": "immediate",
              "transition": {
               "duration": 0,
               "easing": "linear"
              }
             }
            ],
            "label": "employment income",
            "method": "animate"
           },
           {
            "args": [
             [
              "pension income"
             ],
             {
              "frame": {
               "duration": 0,
               "redraw": false
              },
              "fromcurrent": true,
              "mode": "immediate",
              "transition": {
               "duration": 0,
               "easing": "linear"
              }
             }
            ],
            "label": "pension income",
            "method": "animate"
           },
           {
            "args": [
             [
              "rental income"
             ],
             {
              "frame": {
               "duration": 0,
               "redraw": false
              },
              "fromcurrent": true,
              "mode": "immediate",
              "transition": {
               "duration": 0,
               "easing": "linear"
              }
             }
            ],
            "label": "rental income",
            "method": "animate"
           },
           {
            "args": [
             [
              "savings interest income"
             ],
             {
              "frame": {
               "duration": 0,
               "redraw": false
              },
              "fromcurrent": true,
              "mode": "immediate",
              "transition": {
               "duration": 0,
               "easing": "linear"
              }
             }
            ],
            "label": "savings interest income",
            "method": "animate"
           },
           {
            "args": [
             [
              "self-employment income"
             ],
             {
              "frame": {
               "duration": 0,
               "redraw": false
              },
              "fromcurrent": true,
              "mode": "immediate",
              "transition": {
               "duration": 0,
               "easing": "linear"
              }
             }
            ],
            "label": "self-employment income",
            "method": "animate"
           }
          ],
          "x": 0.1,
          "xanchor": "left",
          "y": 0,
          "yanchor": "top"
         }
        ],
        "template": {
         "data": {
          "bar": [
           {
            "error_x": {
             "color": "#2a3f5f"
            },
            "error_y": {
             "color": "#2a3f5f"
            },
            "marker": {
             "line": {
              "color": "white",
              "width": 0.5
             },
             "pattern": {
              "fillmode": "overlay",
              "size": 10,
              "solidity": 0.2
             }
            },
            "type": "bar"
           }
          ],
          "barpolar": [
           {
            "marker": {
             "line": {
              "color": "white",
              "width": 0.5
             },
             "pattern": {
              "fillmode": "overlay",
              "size": 10,
              "solidity": 0.2
             }
            },
            "type": "barpolar"
           }
          ],
          "carpet": [
           {
            "aaxis": {
             "endlinecolor": "#2a3f5f",
             "gridcolor": "#C8D4E3",
             "linecolor": "#C8D4E3",
             "minorgridcolor": "#C8D4E3",
             "startlinecolor": "#2a3f5f"
            },
            "baxis": {
             "endlinecolor": "#2a3f5f",
             "gridcolor": "#C8D4E3",
             "linecolor": "#C8D4E3",
             "minorgridcolor": "#C8D4E3",
             "startlinecolor": "#2a3f5f"
            },
            "type": "carpet"
           }
          ],
          "choropleth": [
           {
            "colorbar": {
             "outlinewidth": 0,
             "ticks": ""
            },
            "type": "choropleth"
           }
          ],
          "contour": [
           {
            "colorbar": {
             "outlinewidth": 0,
             "ticks": ""
            },
            "colorscale": [
             [
              0,
              "#0d0887"
             ],
             [
              0.1111111111111111,
              "#46039f"
             ],
             [
              0.2222222222222222,
              "#7201a8"
             ],
             [
              0.3333333333333333,
              "#9c179e"
             ],
             [
              0.4444444444444444,
              "#bd3786"
             ],
             [
              0.5555555555555556,
              "#d8576b"
             ],
             [
              0.6666666666666666,
              "#ed7953"
             ],
             [
              0.7777777777777778,
              "#fb9f3a"
             ],
             [
              0.8888888888888888,
              "#fdca26"
             ],
             [
              1,
              "#f0f921"
             ]
            ],
            "type": "contour"
           }
          ],
          "contourcarpet": [
           {
            "colorbar": {
             "outlinewidth": 0,
             "ticks": ""
            },
            "type": "contourcarpet"
           }
          ],
          "heatmap": [
           {
            "colorbar": {
             "outlinewidth": 0,
             "ticks": ""
            },
            "colorscale": [
             [
              0,
              "#0d0887"
             ],
             [
              0.1111111111111111,
              "#46039f"
             ],
             [
              0.2222222222222222,
              "#7201a8"
             ],
             [
              0.3333333333333333,
              "#9c179e"
             ],
             [
              0.4444444444444444,
              "#bd3786"
             ],
             [
              0.5555555555555556,
              "#d8576b"
             ],
             [
              0.6666666666666666,
              "#ed7953"
             ],
             [
              0.7777777777777778,
              "#fb9f3a"
             ],
             [
              0.8888888888888888,
              "#fdca26"
             ],
             [
              1,
              "#f0f921"
             ]
            ],
            "type": "heatmap"
           }
          ],
          "heatmapgl": [
           {
            "colorbar": {
             "outlinewidth": 0,
             "ticks": ""
            },
            "colorscale": [
             [
              0,
              "#0d0887"
             ],
             [
              0.1111111111111111,
              "#46039f"
             ],
             [
              0.2222222222222222,
              "#7201a8"
             ],
             [
              0.3333333333333333,
              "#9c179e"
             ],
             [
              0.4444444444444444,
              "#bd3786"
             ],
             [
              0.5555555555555556,
              "#d8576b"
             ],
             [
              0.6666666666666666,
              "#ed7953"
             ],
             [
              0.7777777777777778,
              "#fb9f3a"
             ],
             [
              0.8888888888888888,
              "#fdca26"
             ],
             [
              1,
              "#f0f921"
             ]
            ],
            "type": "heatmapgl"
           }
          ],
          "histogram": [
           {
            "marker": {
             "pattern": {
              "fillmode": "overlay",
              "size": 10,
              "solidity": 0.2
             }
            },
            "type": "histogram"
           }
          ],
          "histogram2d": [
           {
            "colorbar": {
             "outlinewidth": 0,
             "ticks": ""
            },
            "colorscale": [
             [
              0,
              "#0d0887"
             ],
             [
              0.1111111111111111,
              "#46039f"
             ],
             [
              0.2222222222222222,
              "#7201a8"
             ],
             [
              0.3333333333333333,
              "#9c179e"
             ],
             [
              0.4444444444444444,
              "#bd3786"
             ],
             [
              0.5555555555555556,
              "#d8576b"
             ],
             [
              0.6666666666666666,
              "#ed7953"
             ],
             [
              0.7777777777777778,
              "#fb9f3a"
             ],
             [
              0.8888888888888888,
              "#fdca26"
             ],
             [
              1,
              "#f0f921"
             ]
            ],
            "type": "histogram2d"
           }
          ],
          "histogram2dcontour": [
           {
            "colorbar": {
             "outlinewidth": 0,
             "ticks": ""
            },
            "colorscale": [
             [
              0,
              "#0d0887"
             ],
             [
              0.1111111111111111,
              "#46039f"
             ],
             [
              0.2222222222222222,
              "#7201a8"
             ],
             [
              0.3333333333333333,
              "#9c179e"
             ],
             [
              0.4444444444444444,
              "#bd3786"
             ],
             [
              0.5555555555555556,
              "#d8576b"
             ],
             [
              0.6666666666666666,
              "#ed7953"
             ],
             [
              0.7777777777777778,
              "#fb9f3a"
             ],
             [
              0.8888888888888888,
              "#fdca26"
             ],
             [
              1,
              "#f0f921"
             ]
            ],
            "type": "histogram2dcontour"
           }
          ],
          "mesh3d": [
           {
            "colorbar": {
             "outlinewidth": 0,
             "ticks": ""
            },
            "type": "mesh3d"
           }
          ],
          "parcoords": [
           {
            "line": {
             "colorbar": {
              "outlinewidth": 0,
              "ticks": ""
             }
            },
            "type": "parcoords"
           }
          ],
          "pie": [
           {
            "automargin": true,
            "type": "pie"
           }
          ],
          "scatter": [
           {
            "fillpattern": {
             "fillmode": "overlay",
             "size": 10,
             "solidity": 0.2
            },
            "type": "scatter"
           }
          ],
          "scatter3d": [
           {
            "line": {
             "colorbar": {
              "outlinewidth": 0,
              "ticks": ""
             }
            },
            "marker": {
             "colorbar": {
              "outlinewidth": 0,
              "ticks": ""
             }
            },
            "type": "scatter3d"
           }
          ],
          "scattercarpet": [
           {
            "marker": {
             "colorbar": {
              "outlinewidth": 0,
              "ticks": ""
             }
            },
            "type": "scattercarpet"
           }
          ],
          "scattergeo": [
           {
            "marker": {
             "colorbar": {
              "outlinewidth": 0,
              "ticks": ""
             }
            },
            "type": "scattergeo"
           }
          ],
          "scattergl": [
           {
            "marker": {
             "colorbar": {
              "outlinewidth": 0,
              "ticks": ""
             }
            },
            "type": "scattergl"
           }
          ],
          "scattermapbox": [
           {
            "marker": {
             "colorbar": {
              "outlinewidth": 0,
              "ticks": ""
             }
            },
            "type": "scattermapbox"
           }
          ],
          "scatterpolar": [
           {
            "marker": {
             "colorbar": {
              "outlinewidth": 0,
              "ticks": ""
             }
            },
            "type": "scatterpolar"
           }
          ],
          "scatterpolargl": [
           {
            "marker": {
             "colorbar": {
              "outlinewidth": 0,
              "ticks": ""
             }
            },
            "type": "scatterpolargl"
           }
          ],
          "scatterternary": [
           {
            "marker": {
             "colorbar": {
              "outlinewidth": 0,
              "ticks": ""
             }
            },
            "type": "scatterternary"
           }
          ],
          "surface": [
           {
            "colorbar": {
             "outlinewidth": 0,
             "ticks": ""
            },
            "colorscale": [
             [
              0,
              "#0d0887"
             ],
             [
              0.1111111111111111,
              "#46039f"
             ],
             [
              0.2222222222222222,
              "#7201a8"
             ],
             [
              0.3333333333333333,
              "#9c179e"
             ],
             [
              0.4444444444444444,
              "#bd3786"
             ],
             [
              0.5555555555555556,
              "#d8576b"
             ],
             [
              0.6666666666666666,
              "#ed7953"
             ],
             [
              0.7777777777777778,
              "#fb9f3a"
             ],
             [
              0.8888888888888888,
              "#fdca26"
             ],
             [
              1,
              "#f0f921"
             ]
            ],
            "type": "surface"
           }
          ],
          "table": [
           {
            "cells": {
             "fill": {
              "color": "#EBF0F8"
             },
             "line": {
              "color": "white"
             }
            },
            "header": {
             "fill": {
              "color": "#C8D4E3"
             },
             "line": {
              "color": "white"
             }
            },
            "type": "table"
           }
          ]
         },
         "layout": {
          "annotationdefaults": {
           "arrowcolor": "#2a3f5f",
           "arrowhead": 0,
           "arrowwidth": 1
          },
          "autotypenumbers": "strict",
          "coloraxis": {
           "colorbar": {
            "outlinewidth": 0,
            "ticks": ""
           }
          },
          "colorscale": {
           "diverging": [
            [
             0,
             "#8e0152"
            ],
            [
             0.1,
             "#c51b7d"
            ],
            [
             0.2,
             "#de77ae"
            ],
            [
             0.3,
             "#f1b6da"
            ],
            [
             0.4,
             "#fde0ef"
            ],
            [
             0.5,
             "#f7f7f7"
            ],
            [
             0.6,
             "#e6f5d0"
            ],
            [
             0.7,
             "#b8e186"
            ],
            [
             0.8,
             "#7fbc41"
            ],
            [
             0.9,
             "#4d9221"
            ],
            [
             1,
             "#276419"
            ]
           ],
           "sequential": [
            [
             0,
             "#0d0887"
            ],
            [
             0.1111111111111111,
             "#46039f"
            ],
            [
             0.2222222222222222,
             "#7201a8"
            ],
            [
             0.3333333333333333,
             "#9c179e"
            ],
            [
             0.4444444444444444,
             "#bd3786"
            ],
            [
             0.5555555555555556,
             "#d8576b"
            ],
            [
             0.6666666666666666,
             "#ed7953"
            ],
            [
             0.7777777777777778,
             "#fb9f3a"
            ],
            [
             0.8888888888888888,
             "#fdca26"
            ],
            [
             1,
             "#f0f921"
            ]
           ],
           "sequentialminus": [
            [
             0,
             "#0d0887"
            ],
            [
             0.1111111111111111,
             "#46039f"
            ],
            [
             0.2222222222222222,
             "#7201a8"
            ],
            [
             0.3333333333333333,
             "#9c179e"
            ],
            [
             0.4444444444444444,
             "#bd3786"
            ],
            [
             0.5555555555555556,
             "#d8576b"
            ],
            [
             0.6666666666666666,
             "#ed7953"
            ],
            [
             0.7777777777777778,
             "#fb9f3a"
            ],
            [
             0.8888888888888888,
             "#fdca26"
            ],
            [
             1,
             "#f0f921"
            ]
           ]
          },
          "colorway": [
           "#636efa",
           "#EF553B",
           "#00cc96",
           "#ab63fa",
           "#FFA15A",
           "#19d3f3",
           "#FF6692",
           "#B6E880",
           "#FF97FF",
           "#FECB52"
          ],
          "font": {
           "color": "#2a3f5f"
          },
          "geo": {
           "bgcolor": "white",
           "lakecolor": "white",
           "landcolor": "white",
           "showlakes": true,
           "showland": true,
           "subunitcolor": "#C8D4E3"
          },
          "hoverlabel": {
           "align": "left"
          },
          "hovermode": "closest",
          "mapbox": {
           "style": "light"
          },
          "paper_bgcolor": "white",
          "plot_bgcolor": "white",
          "polar": {
           "angularaxis": {
            "gridcolor": "#EBF0F8",
            "linecolor": "#EBF0F8",
            "ticks": ""
           },
           "bgcolor": "white",
           "radialaxis": {
            "gridcolor": "#EBF0F8",
            "linecolor": "#EBF0F8",
            "ticks": ""
           }
          },
          "scene": {
           "xaxis": {
            "backgroundcolor": "white",
            "gridcolor": "#DFE8F3",
            "gridwidth": 2,
            "linecolor": "#EBF0F8",
            "showbackground": true,
            "ticks": "",
            "zerolinecolor": "#EBF0F8"
           },
           "yaxis": {
            "backgroundcolor": "white",
            "gridcolor": "#DFE8F3",
            "gridwidth": 2,
            "linecolor": "#EBF0F8",
            "showbackground": true,
            "ticks": "",
            "zerolinecolor": "#EBF0F8"
           },
           "zaxis": {
            "backgroundcolor": "white",
            "gridcolor": "#DFE8F3",
            "gridwidth": 2,
            "linecolor": "#EBF0F8",
            "showbackground": true,
            "ticks": "",
            "zerolinecolor": "#EBF0F8"
           }
          },
          "shapedefaults": {
           "line": {
            "color": "#2a3f5f"
           }
          },
          "ternary": {
           "aaxis": {
            "gridcolor": "#DFE8F3",
            "linecolor": "#A2B1C6",
            "ticks": ""
           },
           "baxis": {
            "gridcolor": "#DFE8F3",
            "linecolor": "#A2B1C6",
            "ticks": ""
           },
           "bgcolor": "white",
           "caxis": {
            "gridcolor": "#DFE8F3",
            "linecolor": "#A2B1C6",
            "ticks": ""
           }
          },
          "title": {
           "x": 0.05
          },
          "xaxis": {
           "automargin": true,
           "gridcolor": "#EBF0F8",
           "linecolor": "#EBF0F8",
           "ticks": "",
           "title": {
            "standoff": 15
           },
           "zerolinecolor": "#EBF0F8",
           "zerolinewidth": 2
          },
          "yaxis": {
           "automargin": true,
           "gridcolor": "#EBF0F8",
           "linecolor": "#EBF0F8",
           "ticks": "",
           "title": {
            "standoff": 15
           },
           "zerolinecolor": "#EBF0F8",
           "zerolinewidth": 2
          }
         }
        },
        "title": {
         "text": "Budgetary impact forecasts"
        },
        "updatemenus": [
         {
          "buttons": [
           {
            "args": [
             null,
             {
              "frame": {
               "duration": 500,
               "redraw": false
              },
              "fromcurrent": true,
              "mode": "immediate",
              "transition": {
               "duration": 500,
               "easing": "linear"
              }
             }
            ],
            "label": "&#9654;",
            "method": "animate"
           },
           {
            "args": [
             [
              null
             ],
             {
              "frame": {
               "duration": 0,
               "redraw": false
              },
              "fromcurrent": true,
              "mode": "immediate",
              "transition": {
               "duration": 0,
               "easing": "linear"
              }
             }
            ],
            "label": "&#9724;",
            "method": "animate"
           }
          ],
          "direction": "left",
          "pad": {
           "r": 10,
           "t": 70
          },
          "showactive": false,
          "type": "buttons",
          "x": 0.1,
          "xanchor": "right",
          "y": 0,
          "yanchor": "top"
         }
        ],
        "width": 800,
        "xaxis": {
         "anchor": "y",
         "domain": [
          0,
          1
         ],
         "tickvals": [
          2022,
          2023,
          2024,
          2025
         ],
         "title": {
          "text": "Year"
         }
        },
        "yaxis": {
         "anchor": "x",
         "domain": [
          0,
          1
         ],
         "range": [
          0,
          20000000000
         ],
         "tickprefix": "£",
         "title": {
          "text": ""
         }
        }
       }
      }
     },
     "metadata": {},
     "output_type": "display_data"
    }
   ],
   "source": [
    "def table_to_model_comparison(table):\n",
    "    df = table.reset_index()\n",
    "    df.columns = [\"Model\", \"Year\"] + list(table.columns)\n",
    "    return (\n",
    "        pd.melt(df, id_vars=[\"Year\", \"Model\"])\n",
    "        .pivot(index=[\"Year\", \"variable\"], columns=\"Model\", values=\"value\")\n",
    "        .reset_index()\n",
    "        .rename(columns=dict(variable=\"Program\"))\n",
    "    )\n",
    "\n",
    "\n",
    "def tables_to_model_comparisons(tables):\n",
    "    dfs = []\n",
    "    for key, table in tables.items():\n",
    "        df = table_to_model_comparison(table)\n",
    "        df = df.rename(\n",
    "            columns={\n",
    "                column: f\"{column} {key}\"\n",
    "                if key != \"\" and column not in (\"Year\", \"Model\", \"Program\")\n",
    "                else column\n",
    "                for column in df.columns\n",
    "            }\n",
    "        )\n",
    "        dfs.append(df)\n",
    "    df = pd.concat(dfs, axis=1)\n",
    "    df = df.loc[:, ~df.columns.duplicated()]\n",
    "    return df\n",
    "\n",
    "\n",
    "def model_forecast_chart(table, title=None, currency=True):\n",
    "    hovertemplate = \"\"\n",
    "    df = table_to_model_comparison(table)\n",
    "    fig = (\n",
    "        px.line(\n",
    "            df,\n",
    "            animation_frame=\"Program\",\n",
    "            x=\"Year\",\n",
    "            y=[EXTERNAL, policyengine_uk, UKMOD],\n",
    "            color_discrete_map={\n",
    "                policyengine_uk: \"blue\",\n",
    "                UKMOD: \"lightgrey\",\n",
    "            },\n",
    "        )\n",
    "        .update_layout(\n",
    "            width=800,\n",
    "            height=600,\n",
    "            yaxis_tickprefix=\"£\" if currency else \"\",\n",
    "            title=title,\n",
    "            template=\"plotly_white\",\n",
    "            legend_title=\"Model\",\n",
    "            yaxis_title=\"\",\n",
    "            yaxis_range=(0, 20e9) if currency else (0, 10e6),\n",
    "            legend_traceorder=\"reversed\",\n",
    "            xaxis_tickvals=list(range(2022, 2026)),\n",
    "        )\n",
    "        .update_traces(hovertemplate=hovertemplate)\n",
    "    )\n",
    "    for frame in fig.frames:\n",
    "        for data in frame.data:\n",
    "            data.hovertemplate = hovertemplate\n",
    "    return fig\n",
    "\n",
    "\n",
    "model_forecast_chart(\n",
    "    model_validation_table(budgetary_impact, divisor=1, decimals=1),\n",
    "    title=\"Budgetary impact forecasts\",\n",
    ")"
   ]
  },
  {
   "cell_type": "markdown",
   "id": "e07fb9b7-62dc-40e8-a861-cff08438a545",
   "metadata": {},
   "source": [
    "### Differences\n",
    "\n",
    "#### Absolute"
   ]
  },
  {
   "cell_type": "code",
   "execution_count": 5,
   "id": "df0bef66-16e4-4a54-b912-eff54b827ba4",
   "metadata": {
    "tags": [
     "hide-input"
    ]
   },
   "outputs": [
    {
     "data": {
      "text/html": [
       "<div>\n",
       "<style scoped>\n",
       "    .dataframe tbody tr th:only-of-type {\n",
       "        vertical-align: middle;\n",
       "    }\n",
       "\n",
       "    .dataframe tbody tr th {\n",
       "        vertical-align: top;\n",
       "    }\n",
       "\n",
       "    .dataframe thead th {\n",
       "        text-align: right;\n",
       "    }\n",
       "</style>\n",
       "<table border=\"1\" class=\"dataframe\">\n",
       "  <thead>\n",
       "    <tr style=\"text-align: right;\">\n",
       "      <th></th>\n",
       "      <th></th>\n",
       "      <th>Child Benefit</th>\n",
       "      <th>Income Support</th>\n",
       "      <th>JSA (income-based)</th>\n",
       "      <th>Housing Benefit</th>\n",
       "      <th>Working Tax Credit</th>\n",
       "      <th>Child Tax Credit</th>\n",
       "      <th>Universal Credit</th>\n",
       "    </tr>\n",
       "  </thead>\n",
       "  <tbody>\n",
       "    <tr>\n",
       "      <th rowspan=\"4\" valign=\"top\">PolicyEngine-UK</th>\n",
       "      <th>2022</th>\n",
       "      <td>0.1</td>\n",
       "      <td>0.1</td>\n",
       "      <td>0.0</td>\n",
       "      <td>-2.1</td>\n",
       "      <td>2.1</td>\n",
       "      <td>3.3</td>\n",
       "      <td>-3.2</td>\n",
       "    </tr>\n",
       "    <tr>\n",
       "      <th>2023</th>\n",
       "      <td>0.1</td>\n",
       "      <td>0.3</td>\n",
       "      <td>0.2</td>\n",
       "      <td>-1.4</td>\n",
       "      <td>2.6</td>\n",
       "      <td>4.8</td>\n",
       "      <td>-8.1</td>\n",
       "    </tr>\n",
       "    <tr>\n",
       "      <th>2024</th>\n",
       "      <td>0.0</td>\n",
       "      <td>0.3</td>\n",
       "      <td>0.2</td>\n",
       "      <td>0.7</td>\n",
       "      <td>2.9</td>\n",
       "      <td>6.0</td>\n",
       "      <td>-16.5</td>\n",
       "    </tr>\n",
       "    <tr>\n",
       "      <th>2025</th>\n",
       "      <td>0.0</td>\n",
       "      <td>0.4</td>\n",
       "      <td>0.2</td>\n",
       "      <td>2.7</td>\n",
       "      <td>3.2</td>\n",
       "      <td>7.2</td>\n",
       "      <td>-27.0</td>\n",
       "    </tr>\n",
       "    <tr>\n",
       "      <th rowspan=\"4\" valign=\"top\">UKMOD</th>\n",
       "      <th>2022</th>\n",
       "      <td>0.8</td>\n",
       "      <td></td>\n",
       "      <td></td>\n",
       "      <td>-5.6</td>\n",
       "      <td>-0.1</td>\n",
       "      <td>-0.8</td>\n",
       "      <td>-9.6</td>\n",
       "    </tr>\n",
       "    <tr>\n",
       "      <th>2023</th>\n",
       "      <td>0.8</td>\n",
       "      <td></td>\n",
       "      <td></td>\n",
       "      <td>-5.1</td>\n",
       "      <td>0.0</td>\n",
       "      <td>-0.1</td>\n",
       "      <td>-10.6</td>\n",
       "    </tr>\n",
       "    <tr>\n",
       "      <th>2024</th>\n",
       "      <td>0.9</td>\n",
       "      <td></td>\n",
       "      <td></td>\n",
       "      <td>-4.0</td>\n",
       "      <td>0.1</td>\n",
       "      <td>0.3</td>\n",
       "      <td>-18.6</td>\n",
       "    </tr>\n",
       "    <tr>\n",
       "      <th>2025</th>\n",
       "      <td>1.0</td>\n",
       "      <td></td>\n",
       "      <td></td>\n",
       "      <td>-3.5</td>\n",
       "      <td>0.0</td>\n",
       "      <td>0.1</td>\n",
       "      <td>-22.3</td>\n",
       "    </tr>\n",
       "  </tbody>\n",
       "</table>\n",
       "</div>"
      ],
      "text/plain": [
       "                   Child Benefit Income Support JSA (income-based)  \\\n",
       "PolicyEngine-UK 2022            0.1            0.1                0.0   \n",
       "             2023            0.1            0.3                0.2   \n",
       "             2024            0.0            0.3                0.2   \n",
       "             2025            0.0            0.4                0.2   \n",
       "UKMOD        2022            0.8                                     \n",
       "             2023            0.8                                     \n",
       "             2024            0.9                                     \n",
       "             2025            1.0                                     \n",
       "\n",
       "                   Housing Benefit  Working Tax Credit  Child Tax Credit  \\\n",
       "PolicyEngine-UK 2022             -2.1                 2.1               3.3   \n",
       "             2023             -1.4                 2.6               4.8   \n",
       "             2024              0.7                 2.9               6.0   \n",
       "             2025              2.7                 3.2               7.2   \n",
       "UKMOD        2022             -5.6                -0.1              -0.8   \n",
       "             2023             -5.1                 0.0              -0.1   \n",
       "             2024             -4.0                 0.1               0.3   \n",
       "             2025             -3.5                 0.0               0.1   \n",
       "\n",
       "                   Universal Credit  \n",
       "PolicyEngine-UK 2022              -3.2  \n",
       "             2023              -8.1  \n",
       "             2024             -16.5  \n",
       "             2025             -27.0  \n",
       "UKMOD        2022              -9.6  \n",
       "             2023             -10.6  \n",
       "             2024             -18.6  \n",
       "             2025             -22.3  "
      ]
     },
     "execution_count": 5,
     "metadata": {},
     "output_type": "execute_result"
    }
   ],
   "source": [
    "def budgetary_impact_error(model, year, variable):\n",
    "    try:\n",
    "        if model == policyengine_uk:\n",
    "            return sim.calc(\n",
    "                variable, map_to=\"household\", period=year\n",
    "            ).sum() - budgetary_impact(EXTERNAL, year, variable)\n",
    "        elif model == UKMOD:\n",
    "            return getattr(ukmod_statistics.ukmod.budgetary_impact, variable)(\n",
    "                f\"{year}-01-01\"\n",
    "            ) - budgetary_impact(EXTERNAL, year, variable)\n",
    "    except:\n",
    "        return np.nan\n",
    "\n",
    "\n",
    "df = model_validation_table(\n",
    "    budgetary_impact_error,\n",
    "    models=[policyengine_uk, UKMOD],\n",
    "    divisor=1e9,\n",
    "    decimals=1,\n",
    ")\n",
    "\n",
    "df[df.columns[:7]]"
   ]
  },
  {
   "cell_type": "code",
   "execution_count": 6,
   "id": "c66c370b",
   "metadata": {},
   "outputs": [
    {
     "data": {
      "text/html": [
       "<div>\n",
       "<style scoped>\n",
       "    .dataframe tbody tr th:only-of-type {\n",
       "        vertical-align: middle;\n",
       "    }\n",
       "\n",
       "    .dataframe tbody tr th {\n",
       "        vertical-align: top;\n",
       "    }\n",
       "\n",
       "    .dataframe thead th {\n",
       "        text-align: right;\n",
       "    }\n",
       "</style>\n",
       "<table border=\"1\" class=\"dataframe\">\n",
       "  <thead>\n",
       "    <tr style=\"text-align: right;\">\n",
       "      <th></th>\n",
       "      <th></th>\n",
       "      <th>Pension Credit</th>\n",
       "      <th>Income Tax</th>\n",
       "      <th>National Insurance (total)</th>\n",
       "      <th>employment income</th>\n",
       "      <th>self-employment income</th>\n",
       "      <th>pension income</th>\n",
       "      <th>rental income</th>\n",
       "    </tr>\n",
       "  </thead>\n",
       "  <tbody>\n",
       "    <tr>\n",
       "      <th rowspan=\"4\" valign=\"top\">PolicyEngine-UK</th>\n",
       "      <th>2022</th>\n",
       "      <td>0.8</td>\n",
       "      <td>-26.7</td>\n",
       "      <td>-12.5</td>\n",
       "      <td>-43.4</td>\n",
       "      <td>3.4</td>\n",
       "      <td></td>\n",
       "      <td>-2.9</td>\n",
       "    </tr>\n",
       "    <tr>\n",
       "      <th>2023</th>\n",
       "      <td>0.8</td>\n",
       "      <td>-26.3</td>\n",
       "      <td>-20.8</td>\n",
       "      <td>-44.7</td>\n",
       "      <td>3.5</td>\n",
       "      <td></td>\n",
       "      <td>-3.0</td>\n",
       "    </tr>\n",
       "    <tr>\n",
       "      <th>2024</th>\n",
       "      <td>0.4</td>\n",
       "      <td>-26.6</td>\n",
       "      <td>-22.2</td>\n",
       "      <td>-46.1</td>\n",
       "      <td>3.6</td>\n",
       "      <td></td>\n",
       "      <td>-3.1</td>\n",
       "    </tr>\n",
       "    <tr>\n",
       "      <th>2025</th>\n",
       "      <td>0.2</td>\n",
       "      <td>-32.9</td>\n",
       "      <td>-24.1</td>\n",
       "      <td>-47.4</td>\n",
       "      <td>3.7</td>\n",
       "      <td></td>\n",
       "      <td>-3.2</td>\n",
       "    </tr>\n",
       "    <tr>\n",
       "      <th rowspan=\"4\" valign=\"top\">UKMOD</th>\n",
       "      <th>2022</th>\n",
       "      <td>-0.3</td>\n",
       "      <td>-43.8</td>\n",
       "      <td>4.7</td>\n",
       "      <td></td>\n",
       "      <td></td>\n",
       "      <td></td>\n",
       "      <td></td>\n",
       "    </tr>\n",
       "    <tr>\n",
       "      <th>2023</th>\n",
       "      <td>-0.0</td>\n",
       "      <td>-44.4</td>\n",
       "      <td>-12.4</td>\n",
       "      <td></td>\n",
       "      <td></td>\n",
       "      <td></td>\n",
       "      <td></td>\n",
       "    </tr>\n",
       "    <tr>\n",
       "      <th>2024</th>\n",
       "      <td>0.1</td>\n",
       "      <td>-47.2</td>\n",
       "      <td>-16.7</td>\n",
       "      <td></td>\n",
       "      <td></td>\n",
       "      <td></td>\n",
       "      <td></td>\n",
       "    </tr>\n",
       "    <tr>\n",
       "      <th>2025</th>\n",
       "      <td>0.2</td>\n",
       "      <td>-49.6</td>\n",
       "      <td>-20.2</td>\n",
       "      <td></td>\n",
       "      <td></td>\n",
       "      <td></td>\n",
       "      <td></td>\n",
       "    </tr>\n",
       "  </tbody>\n",
       "</table>\n",
       "</div>"
      ],
      "text/plain": [
       "                   Pension Credit  Income Tax  National Insurance (total)  \\\n",
       "PolicyEngine-UK 2022             0.8       -26.7                       -12.5   \n",
       "             2023             0.8       -26.3                       -20.8   \n",
       "             2024             0.4       -26.6                       -22.2   \n",
       "             2025             0.2       -32.9                       -24.1   \n",
       "UKMOD        2022            -0.3       -43.8                         4.7   \n",
       "             2023            -0.0       -44.4                       -12.4   \n",
       "             2024             0.1       -47.2                       -16.7   \n",
       "             2025             0.2       -49.6                       -20.2   \n",
       "\n",
       "                  employment income self-employment income pension income  \\\n",
       "PolicyEngine-UK 2022             -43.4                    3.4                  \n",
       "             2023             -44.7                    3.5                  \n",
       "             2024             -46.1                    3.6                  \n",
       "             2025             -47.4                    3.7                  \n",
       "UKMOD        2022                                                           \n",
       "             2023                                                           \n",
       "             2024                                                           \n",
       "             2025                                                           \n",
       "\n",
       "                  rental income  \n",
       "PolicyEngine-UK 2022          -2.9  \n",
       "             2023          -3.0  \n",
       "             2024          -3.1  \n",
       "             2025          -3.2  \n",
       "UKMOD        2022                \n",
       "             2023                \n",
       "             2024                \n",
       "             2025                "
      ]
     },
     "execution_count": 6,
     "metadata": {},
     "output_type": "execute_result"
    }
   ],
   "source": [
    "df[df.columns[7:14]]"
   ]
  },
  {
   "cell_type": "code",
   "execution_count": 7,
   "id": "f7fb315f",
   "metadata": {},
   "outputs": [
    {
     "data": {
      "text/html": [
       "<div>\n",
       "<style scoped>\n",
       "    .dataframe tbody tr th:only-of-type {\n",
       "        vertical-align: middle;\n",
       "    }\n",
       "\n",
       "    .dataframe tbody tr th {\n",
       "        vertical-align: top;\n",
       "    }\n",
       "\n",
       "    .dataframe thead th {\n",
       "        text-align: right;\n",
       "    }\n",
       "</style>\n",
       "<table border=\"1\" class=\"dataframe\">\n",
       "  <thead>\n",
       "    <tr style=\"text-align: right;\">\n",
       "      <th></th>\n",
       "      <th></th>\n",
       "      <th>savings interest income</th>\n",
       "      <th>dividend income</th>\n",
       "    </tr>\n",
       "  </thead>\n",
       "  <tbody>\n",
       "    <tr>\n",
       "      <th rowspan=\"4\" valign=\"top\">PolicyEngine-UK</th>\n",
       "      <th>2022</th>\n",
       "      <td>-0.5</td>\n",
       "      <td>-10.1</td>\n",
       "    </tr>\n",
       "    <tr>\n",
       "      <th>2023</th>\n",
       "      <td>-0.6</td>\n",
       "      <td>-10.4</td>\n",
       "    </tr>\n",
       "    <tr>\n",
       "      <th>2024</th>\n",
       "      <td>-0.6</td>\n",
       "      <td>-10.7</td>\n",
       "    </tr>\n",
       "    <tr>\n",
       "      <th>2025</th>\n",
       "      <td>-0.6</td>\n",
       "      <td>-11.0</td>\n",
       "    </tr>\n",
       "    <tr>\n",
       "      <th rowspan=\"4\" valign=\"top\">UKMOD</th>\n",
       "      <th>2022</th>\n",
       "      <td></td>\n",
       "      <td></td>\n",
       "    </tr>\n",
       "    <tr>\n",
       "      <th>2023</th>\n",
       "      <td></td>\n",
       "      <td></td>\n",
       "    </tr>\n",
       "    <tr>\n",
       "      <th>2024</th>\n",
       "      <td></td>\n",
       "      <td></td>\n",
       "    </tr>\n",
       "    <tr>\n",
       "      <th>2025</th>\n",
       "      <td></td>\n",
       "      <td></td>\n",
       "    </tr>\n",
       "  </tbody>\n",
       "</table>\n",
       "</div>"
      ],
      "text/plain": [
       "                  savings interest income dividend income\n",
       "PolicyEngine-UK 2022                    -0.5           -10.1\n",
       "             2023                    -0.6           -10.4\n",
       "             2024                    -0.6           -10.7\n",
       "             2025                    -0.6           -11.0\n",
       "UKMOD        2022                                        \n",
       "             2023                                        \n",
       "             2024                                        \n",
       "             2025                                        "
      ]
     },
     "execution_count": 7,
     "metadata": {},
     "output_type": "execute_result"
    }
   ],
   "source": [
    "df[df.columns[14:]]"
   ]
  },
  {
   "cell_type": "markdown",
   "id": "3faf63e8-f932-49df-9329-fa772cb33837",
   "metadata": {},
   "source": [
    "#### Relative"
   ]
  },
  {
   "cell_type": "code",
   "execution_count": 8,
   "id": "bfd19045-2851-47aa-861e-3f10d972b522",
   "metadata": {
    "tags": [
     "hide-input"
    ]
   },
   "outputs": [
    {
     "data": {
      "text/html": [
       "<div>\n",
       "<style scoped>\n",
       "    .dataframe tbody tr th:only-of-type {\n",
       "        vertical-align: middle;\n",
       "    }\n",
       "\n",
       "    .dataframe tbody tr th {\n",
       "        vertical-align: top;\n",
       "    }\n",
       "\n",
       "    .dataframe thead th {\n",
       "        text-align: right;\n",
       "    }\n",
       "</style>\n",
       "<table border=\"1\" class=\"dataframe\">\n",
       "  <thead>\n",
       "    <tr style=\"text-align: right;\">\n",
       "      <th></th>\n",
       "      <th></th>\n",
       "      <th>Child Benefit</th>\n",
       "      <th>Income Support</th>\n",
       "      <th>JSA (income-based)</th>\n",
       "      <th>Housing Benefit</th>\n",
       "      <th>Working Tax Credit</th>\n",
       "      <th>Child Tax Credit</th>\n",
       "      <th>Universal Credit</th>\n",
       "    </tr>\n",
       "  </thead>\n",
       "  <tbody>\n",
       "    <tr>\n",
       "      <th rowspan=\"4\" valign=\"top\">PolicyEngine-UK</th>\n",
       "      <th>2022</th>\n",
       "      <td>0.7</td>\n",
       "      <td>18.5</td>\n",
       "      <td>18.9</td>\n",
       "      <td>-13.0</td>\n",
       "      <td>122.7</td>\n",
       "      <td>53.2</td>\n",
       "      <td>-7.4</td>\n",
       "    </tr>\n",
       "    <tr>\n",
       "      <th>2023</th>\n",
       "      <td>0.8</td>\n",
       "      <td>64.6</td>\n",
       "      <td>1143581.1</td>\n",
       "      <td>-9.2</td>\n",
       "      <td>204.9</td>\n",
       "      <td>104.1</td>\n",
       "      <td>-16.4</td>\n",
       "    </tr>\n",
       "    <tr>\n",
       "      <th>2024</th>\n",
       "      <td>0.1</td>\n",
       "      <td>71.6</td>\n",
       "      <td>inf</td>\n",
       "      <td>5.2</td>\n",
       "      <td>348.2</td>\n",
       "      <td>196.5</td>\n",
       "      <td>-28.6</td>\n",
       "    </tr>\n",
       "    <tr>\n",
       "      <th>2025</th>\n",
       "      <td>0.1</td>\n",
       "      <td>87.1</td>\n",
       "      <td>inf</td>\n",
       "      <td>26.4</td>\n",
       "      <td>854.4</td>\n",
       "      <td>525.6</td>\n",
       "      <td>-39.7</td>\n",
       "    </tr>\n",
       "    <tr>\n",
       "      <th rowspan=\"4\" valign=\"top\">UKMOD</th>\n",
       "      <th>2022</th>\n",
       "      <td>6.7</td>\n",
       "      <td></td>\n",
       "      <td></td>\n",
       "      <td>-35.0</td>\n",
       "      <td>-7.2</td>\n",
       "      <td>-12.5</td>\n",
       "      <td>-22.0</td>\n",
       "    </tr>\n",
       "    <tr>\n",
       "      <th>2023</th>\n",
       "      <td>6.8</td>\n",
       "      <td></td>\n",
       "      <td></td>\n",
       "      <td>-34.7</td>\n",
       "      <td>3.8</td>\n",
       "      <td>-1.5</td>\n",
       "      <td>-21.3</td>\n",
       "    </tr>\n",
       "    <tr>\n",
       "      <th>2024</th>\n",
       "      <td>7.9</td>\n",
       "      <td></td>\n",
       "      <td></td>\n",
       "      <td>-32.2</td>\n",
       "      <td>7.4</td>\n",
       "      <td>8.5</td>\n",
       "      <td>-32.3</td>\n",
       "    </tr>\n",
       "    <tr>\n",
       "      <th>2025</th>\n",
       "      <td>8.2</td>\n",
       "      <td></td>\n",
       "      <td></td>\n",
       "      <td>-34.3</td>\n",
       "      <td>11.6</td>\n",
       "      <td>6.3</td>\n",
       "      <td>-32.8</td>\n",
       "    </tr>\n",
       "  </tbody>\n",
       "</table>\n",
       "</div>"
      ],
      "text/plain": [
       "                   Child Benefit Income Support JSA (income-based)  \\\n",
       "PolicyEngine-UK 2022            0.7           18.5               18.9   \n",
       "             2023            0.8           64.6          1143581.1   \n",
       "             2024            0.1           71.6                inf   \n",
       "             2025            0.1           87.1                inf   \n",
       "UKMOD        2022            6.7                                     \n",
       "             2023            6.8                                     \n",
       "             2024            7.9                                     \n",
       "             2025            8.2                                     \n",
       "\n",
       "                   Housing Benefit  Working Tax Credit  Child Tax Credit  \\\n",
       "PolicyEngine-UK 2022            -13.0               122.7              53.2   \n",
       "             2023             -9.2               204.9             104.1   \n",
       "             2024              5.2               348.2             196.5   \n",
       "             2025             26.4               854.4             525.6   \n",
       "UKMOD        2022            -35.0                -7.2             -12.5   \n",
       "             2023            -34.7                 3.8              -1.5   \n",
       "             2024            -32.2                 7.4               8.5   \n",
       "             2025            -34.3                11.6               6.3   \n",
       "\n",
       "                   Universal Credit  \n",
       "PolicyEngine-UK 2022              -7.4  \n",
       "             2023             -16.4  \n",
       "             2024             -28.6  \n",
       "             2025             -39.7  \n",
       "UKMOD        2022             -22.0  \n",
       "             2023             -21.3  \n",
       "             2024             -32.3  \n",
       "             2025             -32.8  "
      ]
     },
     "execution_count": 8,
     "metadata": {},
     "output_type": "execute_result"
    }
   ],
   "source": [
    "def relative_budgetary_impact_error(model, year, variable):\n",
    "    try:\n",
    "        if model == policyengine_uk:\n",
    "            return (\n",
    "                sim.calc(variable, map_to=\"household\", period=year).sum()\n",
    "                / budgetary_impact(EXTERNAL, year, variable)\n",
    "                - 1\n",
    "            )\n",
    "        elif model == UKMOD:\n",
    "            return (\n",
    "                getattr(ukmod_statistics.ukmod.budgetary_impact, variable)(\n",
    "                    f\"{year}-01-01\"\n",
    "                )\n",
    "                / budgetary_impact(EXTERNAL, year, variable)\n",
    "                - 1\n",
    "            )\n",
    "    except:\n",
    "        return np.nan\n",
    "\n",
    "\n",
    "df = model_validation_table(\n",
    "    relative_budgetary_impact_error,\n",
    "    models=[policyengine_uk, UKMOD],\n",
    "    divisor=1e-2,\n",
    "    decimals=1,\n",
    ")\n",
    "\n",
    "df[df.columns[:7]]"
   ]
  },
  {
   "cell_type": "code",
   "execution_count": 9,
   "id": "40d0c04b",
   "metadata": {},
   "outputs": [
    {
     "data": {
      "text/html": [
       "<div>\n",
       "<style scoped>\n",
       "    .dataframe tbody tr th:only-of-type {\n",
       "        vertical-align: middle;\n",
       "    }\n",
       "\n",
       "    .dataframe tbody tr th {\n",
       "        vertical-align: top;\n",
       "    }\n",
       "\n",
       "    .dataframe thead th {\n",
       "        text-align: right;\n",
       "    }\n",
       "</style>\n",
       "<table border=\"1\" class=\"dataframe\">\n",
       "  <thead>\n",
       "    <tr style=\"text-align: right;\">\n",
       "      <th></th>\n",
       "      <th></th>\n",
       "      <th>Pension Credit</th>\n",
       "      <th>Income Tax</th>\n",
       "      <th>National Insurance (total)</th>\n",
       "      <th>employment income</th>\n",
       "      <th>self-employment income</th>\n",
       "      <th>pension income</th>\n",
       "      <th>rental income</th>\n",
       "    </tr>\n",
       "  </thead>\n",
       "  <tbody>\n",
       "    <tr>\n",
       "      <th rowspan=\"4\" valign=\"top\">PolicyEngine-UK</th>\n",
       "      <th>2022</th>\n",
       "      <td>17.8</td>\n",
       "      <td>-13.0</td>\n",
       "      <td>-8.3</td>\n",
       "      <td>-5.0</td>\n",
       "      <td>3.6</td>\n",
       "      <td></td>\n",
       "      <td>-11.6</td>\n",
       "    </tr>\n",
       "    <tr>\n",
       "      <th>2023</th>\n",
       "      <td>17.2</td>\n",
       "      <td>-12.2</td>\n",
       "      <td>-13.2</td>\n",
       "      <td>-5.0</td>\n",
       "      <td>3.6</td>\n",
       "      <td></td>\n",
       "      <td>-11.6</td>\n",
       "    </tr>\n",
       "    <tr>\n",
       "      <th>2024</th>\n",
       "      <td>9.0</td>\n",
       "      <td>-11.8</td>\n",
       "      <td>-13.5</td>\n",
       "      <td>-5.0</td>\n",
       "      <td>3.6</td>\n",
       "      <td></td>\n",
       "      <td>-11.6</td>\n",
       "    </tr>\n",
       "    <tr>\n",
       "      <th>2025</th>\n",
       "      <td>3.6</td>\n",
       "      <td>-13.9</td>\n",
       "      <td>-14.0</td>\n",
       "      <td>-5.0</td>\n",
       "      <td>3.6</td>\n",
       "      <td></td>\n",
       "      <td>-11.6</td>\n",
       "    </tr>\n",
       "    <tr>\n",
       "      <th rowspan=\"4\" valign=\"top\">UKMOD</th>\n",
       "      <th>2022</th>\n",
       "      <td>-7.0</td>\n",
       "      <td>-21.4</td>\n",
       "      <td>3.1</td>\n",
       "      <td></td>\n",
       "      <td></td>\n",
       "      <td></td>\n",
       "      <td></td>\n",
       "    </tr>\n",
       "    <tr>\n",
       "      <th>2023</th>\n",
       "      <td>-0.8</td>\n",
       "      <td>-20.6</td>\n",
       "      <td>-7.9</td>\n",
       "      <td></td>\n",
       "      <td></td>\n",
       "      <td></td>\n",
       "      <td></td>\n",
       "    </tr>\n",
       "    <tr>\n",
       "      <th>2024</th>\n",
       "      <td>2.6</td>\n",
       "      <td>-20.9</td>\n",
       "      <td>-10.2</td>\n",
       "      <td></td>\n",
       "      <td></td>\n",
       "      <td></td>\n",
       "      <td></td>\n",
       "    </tr>\n",
       "    <tr>\n",
       "      <th>2025</th>\n",
       "      <td>5.8</td>\n",
       "      <td>-20.9</td>\n",
       "      <td>-11.8</td>\n",
       "      <td></td>\n",
       "      <td></td>\n",
       "      <td></td>\n",
       "      <td></td>\n",
       "    </tr>\n",
       "  </tbody>\n",
       "</table>\n",
       "</div>"
      ],
      "text/plain": [
       "                   Pension Credit  Income Tax  National Insurance (total)  \\\n",
       "PolicyEngine-UK 2022            17.8       -13.0                        -8.3   \n",
       "             2023            17.2       -12.2                       -13.2   \n",
       "             2024             9.0       -11.8                       -13.5   \n",
       "             2025             3.6       -13.9                       -14.0   \n",
       "UKMOD        2022            -7.0       -21.4                         3.1   \n",
       "             2023            -0.8       -20.6                        -7.9   \n",
       "             2024             2.6       -20.9                       -10.2   \n",
       "             2025             5.8       -20.9                       -11.8   \n",
       "\n",
       "                  employment income self-employment income pension income  \\\n",
       "PolicyEngine-UK 2022              -5.0                    3.6                  \n",
       "             2023              -5.0                    3.6                  \n",
       "             2024              -5.0                    3.6                  \n",
       "             2025              -5.0                    3.6                  \n",
       "UKMOD        2022                                                           \n",
       "             2023                                                           \n",
       "             2024                                                           \n",
       "             2025                                                           \n",
       "\n",
       "                  rental income  \n",
       "PolicyEngine-UK 2022         -11.6  \n",
       "             2023         -11.6  \n",
       "             2024         -11.6  \n",
       "             2025         -11.6  \n",
       "UKMOD        2022                \n",
       "             2023                \n",
       "             2024                \n",
       "             2025                "
      ]
     },
     "execution_count": 9,
     "metadata": {},
     "output_type": "execute_result"
    }
   ],
   "source": [
    "df[df.columns[7:14]]"
   ]
  },
  {
   "cell_type": "code",
   "execution_count": 10,
   "id": "1384a9f5",
   "metadata": {},
   "outputs": [
    {
     "data": {
      "text/html": [
       "<div>\n",
       "<style scoped>\n",
       "    .dataframe tbody tr th:only-of-type {\n",
       "        vertical-align: middle;\n",
       "    }\n",
       "\n",
       "    .dataframe tbody tr th {\n",
       "        vertical-align: top;\n",
       "    }\n",
       "\n",
       "    .dataframe thead th {\n",
       "        text-align: right;\n",
       "    }\n",
       "</style>\n",
       "<table border=\"1\" class=\"dataframe\">\n",
       "  <thead>\n",
       "    <tr style=\"text-align: right;\">\n",
       "      <th></th>\n",
       "      <th></th>\n",
       "      <th>savings interest income</th>\n",
       "      <th>dividend income</th>\n",
       "    </tr>\n",
       "  </thead>\n",
       "  <tbody>\n",
       "    <tr>\n",
       "      <th rowspan=\"4\" valign=\"top\">PolicyEngine-UK</th>\n",
       "      <th>2022</th>\n",
       "      <td>-10.2</td>\n",
       "      <td>-14.5</td>\n",
       "    </tr>\n",
       "    <tr>\n",
       "      <th>2023</th>\n",
       "      <td>-10.2</td>\n",
       "      <td>-14.5</td>\n",
       "    </tr>\n",
       "    <tr>\n",
       "      <th>2024</th>\n",
       "      <td>-10.2</td>\n",
       "      <td>-14.5</td>\n",
       "    </tr>\n",
       "    <tr>\n",
       "      <th>2025</th>\n",
       "      <td>-10.2</td>\n",
       "      <td>-14.5</td>\n",
       "    </tr>\n",
       "    <tr>\n",
       "      <th rowspan=\"4\" valign=\"top\">UKMOD</th>\n",
       "      <th>2022</th>\n",
       "      <td></td>\n",
       "      <td></td>\n",
       "    </tr>\n",
       "    <tr>\n",
       "      <th>2023</th>\n",
       "      <td></td>\n",
       "      <td></td>\n",
       "    </tr>\n",
       "    <tr>\n",
       "      <th>2024</th>\n",
       "      <td></td>\n",
       "      <td></td>\n",
       "    </tr>\n",
       "    <tr>\n",
       "      <th>2025</th>\n",
       "      <td></td>\n",
       "      <td></td>\n",
       "    </tr>\n",
       "  </tbody>\n",
       "</table>\n",
       "</div>"
      ],
      "text/plain": [
       "                  savings interest income dividend income\n",
       "PolicyEngine-UK 2022                   -10.2           -14.5\n",
       "             2023                   -10.2           -14.5\n",
       "             2024                   -10.2           -14.5\n",
       "             2025                   -10.2           -14.5\n",
       "UKMOD        2022                                        \n",
       "             2023                                        \n",
       "             2024                                        \n",
       "             2025                                        "
      ]
     },
     "execution_count": 10,
     "metadata": {},
     "output_type": "execute_result"
    }
   ],
   "source": [
    "df[df.columns[14:]]"
   ]
  },
  {
   "cell_type": "code",
   "execution_count": 11,
   "id": "fb725740-888f-477b-9aa4-dca99796cd20",
   "metadata": {
    "tags": [
     "hide-input"
    ]
   },
   "outputs": [
    {
     "data": {
      "application/vnd.plotly.v1+json": {
       "config": {
        "plotlyServerURL": "https://plot.ly"
       },
       "data": [
        {
         "alignmentgroup": "True",
         "customdata": [
          [
           11.3,
           12,
           11.2,
           2022,
           "Child Benefit"
          ],
          [
           5.3,
           4.2,
           4.5,
           2022,
           "Pension Credit"
          ],
          [
           13.8,
           10.3,
           15.9,
           2022,
           "Housing Benefit"
          ],
          [
           3.8,
           1.6,
           1.7,
           2022,
           "Working Tax Credit"
          ],
          [
           40.4,
           34.1,
           43.7,
           2022,
           "Universal Credit"
          ],
          [
           9.4,
           5.4,
           6.1,
           2022,
           "Child Tax Credit"
          ],
          [
           138.8,
           156,
           151.3,
           2022,
           "National Insurance (total)"
          ],
          [
           178.3,
           161.2,
           205,
           2022,
           "Income Tax"
          ]
         ],
         "hovertemplate": "<b>%{customdata[4]} in %{customdata[3]}</b><br>Error: %{x}<br>Official: £%{customdata[2]}bn<br>PolicyEngine-UK: £%{customdata[0]}bn<br>UKMOD: £%{customdata[1]}bn",
         "legendgroup": "PolicyEngine-UK",
         "marker": {
          "color": "blue",
          "pattern": {
           "shape": ""
          }
         },
         "name": "PolicyEngine-UK",
         "offsetgroup": "PolicyEngine-UK",
         "orientation": "h",
         "showlegend": true,
         "textposition": "auto",
         "type": "bar",
         "x": [
          79220917.809,
          794575562.3180001,
          2058350989.946,
          2079069470.516,
          3245618282.892,
          3269990056.0940003,
          12525298970.34,
          26687449794.797
         ],
         "xaxis": "x",
         "y": [
          "Child Benefit",
          "Pension Credit",
          "Housing Benefit",
          "Working Tax Credit",
          "Universal Credit",
          "Child Tax Credit",
          "National Insurance (total)",
          "Income Tax"
         ],
         "yaxis": "y"
        },
        {
         "alignmentgroup": "True",
         "customdata": [
          [
           11.3,
           12,
           11.2,
           2022,
           "Child Benefit"
          ],
          [
           5.3,
           4.2,
           4.5,
           2022,
           "Pension Credit"
          ],
          [
           13.8,
           10.3,
           15.9,
           2022,
           "Housing Benefit"
          ],
          [
           3.8,
           1.6,
           1.7,
           2022,
           "Working Tax Credit"
          ],
          [
           40.4,
           34.1,
           43.7,
           2022,
           "Universal Credit"
          ],
          [
           9.4,
           5.4,
           6.1,
           2022,
           "Child Tax Credit"
          ],
          [
           138.8,
           156,
           151.3,
           2022,
           "National Insurance (total)"
          ],
          [
           178.3,
           161.2,
           205,
           2022,
           "Income Tax"
          ]
         ],
         "hovertemplate": "<b>%{customdata[4]} in %{customdata[3]}</b><br>Error: %{x}<br>Official: £%{customdata[2]}bn<br>PolicyEngine-UK: £%{customdata[0]}bn<br>UKMOD: £%{customdata[1]}bn",
         "legendgroup": "UKMOD",
         "marker": {
          "color": "lightgrey",
          "pattern": {
           "shape": ""
          }
         },
         "name": "UKMOD",
         "offsetgroup": "UKMOD",
         "orientation": "h",
         "showlegend": true,
         "textposition": "auto",
         "type": "bar",
         "x": [
          750000000,
          313000000,
          5562000000,
          121774691.17899999,
          9584000000,
          765712115.0610001,
          4716000000,
          43803000000
         ],
         "xaxis": "x",
         "y": [
          "Child Benefit",
          "Pension Credit",
          "Housing Benefit",
          "Working Tax Credit",
          "Universal Credit",
          "Child Tax Credit",
          "National Insurance (total)",
          "Income Tax"
         ],
         "yaxis": "y"
        }
       ],
       "frames": [
        {
         "data": [
          {
           "alignmentgroup": "True",
           "customdata": [
            [
             11.3,
             12,
             11.2,
             2022,
             "Child Benefit"
            ],
            [
             5.3,
             4.2,
             4.5,
             2022,
             "Pension Credit"
            ],
            [
             13.8,
             10.3,
             15.9,
             2022,
             "Housing Benefit"
            ],
            [
             3.8,
             1.6,
             1.7,
             2022,
             "Working Tax Credit"
            ],
            [
             40.4,
             34.1,
             43.7,
             2022,
             "Universal Credit"
            ],
            [
             9.4,
             5.4,
             6.1,
             2022,
             "Child Tax Credit"
            ],
            [
             138.8,
             156,
             151.3,
             2022,
             "National Insurance (total)"
            ],
            [
             178.3,
             161.2,
             205,
             2022,
             "Income Tax"
            ]
           ],
           "hovertemplate": "<b>%{customdata[4]} in %{customdata[3]}</b><br>Error: %{x}<br>Official: £%{customdata[2]}bn<br>PolicyEngine-UK: £%{customdata[0]}bn<br>UKMOD: £%{customdata[1]}bn",
           "legendgroup": "PolicyEngine-UK",
           "marker": {
            "color": "blue",
            "pattern": {
             "shape": ""
            }
           },
           "name": "PolicyEngine-UK",
           "offsetgroup": "PolicyEngine-UK",
           "orientation": "h",
           "showlegend": true,
           "textposition": "auto",
           "type": "bar",
           "x": [
            79220917.809,
            794575562.3180001,
            2058350989.946,
            2079069470.516,
            3245618282.892,
            3269990056.0940003,
            12525298970.34,
            26687449794.797
           ],
           "xaxis": "x",
           "y": [
            "Child Benefit",
            "Pension Credit",
            "Housing Benefit",
            "Working Tax Credit",
            "Universal Credit",
            "Child Tax Credit",
            "National Insurance (total)",
            "Income Tax"
           ],
           "yaxis": "y"
          },
          {
           "alignmentgroup": "True",
           "customdata": [
            [
             11.3,
             12,
             11.2,
             2022,
             "Child Benefit"
            ],
            [
             5.3,
             4.2,
             4.5,
             2022,
             "Pension Credit"
            ],
            [
             13.8,
             10.3,
             15.9,
             2022,
             "Housing Benefit"
            ],
            [
             3.8,
             1.6,
             1.7,
             2022,
             "Working Tax Credit"
            ],
            [
             40.4,
             34.1,
             43.7,
             2022,
             "Universal Credit"
            ],
            [
             9.4,
             5.4,
             6.1,
             2022,
             "Child Tax Credit"
            ],
            [
             138.8,
             156,
             151.3,
             2022,
             "National Insurance (total)"
            ],
            [
             178.3,
             161.2,
             205,
             2022,
             "Income Tax"
            ]
           ],
           "hovertemplate": "<b>%{customdata[4]} in %{customdata[3]}</b><br>Error: %{x}<br>Official: £%{customdata[2]}bn<br>PolicyEngine-UK: £%{customdata[0]}bn<br>UKMOD: £%{customdata[1]}bn",
           "legendgroup": "UKMOD",
           "marker": {
            "color": "lightgrey",
            "pattern": {
             "shape": ""
            }
           },
           "name": "UKMOD",
           "offsetgroup": "UKMOD",
           "orientation": "h",
           "showlegend": true,
           "textposition": "auto",
           "type": "bar",
           "x": [
            750000000,
            313000000,
            5562000000,
            121774691.17899999,
            9584000000,
            765712115.0610001,
            4716000000,
            43803000000
           ],
           "xaxis": "x",
           "y": [
            "Child Benefit",
            "Pension Credit",
            "Housing Benefit",
            "Working Tax Credit",
            "Universal Credit",
            "Child Tax Credit",
            "National Insurance (total)",
            "Income Tax"
           ],
           "yaxis": "y"
          }
         ],
         "name": "2022"
        },
        {
         "data": [
          {
           "alignmentgroup": "True",
           "customdata": [
            [
             11.6,
             12.3,
             11.5,
             2023,
             "Child Benefit"
            ],
            [
             5.2,
             4.4,
             4.4,
             2023,
             "Pension Credit"
            ],
            [
             13.4,
             9.6,
             14.7,
             2023,
             "Housing Benefit"
            ],
            [
             3.9,
             1.3,
             1.3,
             2023,
             "Working Tax Credit"
            ],
            [
             9.4,
             4.5,
             4.6,
             2023,
             "Child Tax Credit"
            ],
            [
             41.6,
             39.1,
             49.8,
             2023,
             "Universal Credit"
            ],
            [
             136.7,
             145.1,
             157.5,
             2023,
             "National Insurance (total)"
            ],
            [
             188.7,
             170.6,
             215,
             2023,
             "Income Tax"
            ]
           ],
           "hovertemplate": "<b>%{customdata[4]} in %{customdata[3]}</b><br>Error: %{x}<br>Official: £%{customdata[2]}bn<br>PolicyEngine-UK: £%{customdata[0]}bn<br>UKMOD: £%{customdata[1]}bn",
           "legendgroup": "PolicyEngine-UK",
           "marker": {
            "color": "blue",
            "pattern": {
             "shape": ""
            }
           },
           "name": "PolicyEngine-UK",
           "offsetgroup": "PolicyEngine-UK",
           "orientation": "h",
           "showlegend": true,
           "textposition": "auto",
           "type": "bar",
           "x": [
            94350631.825,
            766297897.4339999,
            1355764348.836,
            2605810322.63,
            4805034451.648,
            8142363942.563001,
            20797050439.525,
            26310789038.009
           ],
           "xaxis": "x",
           "y": [
            "Child Benefit",
            "Pension Credit",
            "Housing Benefit",
            "Working Tax Credit",
            "Child Tax Credit",
            "Universal Credit",
            "National Insurance (total)",
            "Income Tax"
           ],
           "yaxis": "y"
          },
          {
           "alignmentgroup": "True",
           "customdata": [
            [
             11.6,
             12.3,
             11.5,
             2023,
             "Child Benefit"
            ],
            [
             5.2,
             4.4,
             4.4,
             2023,
             "Pension Credit"
            ],
            [
             13.4,
             9.6,
             14.7,
             2023,
             "Housing Benefit"
            ],
            [
             3.9,
             1.3,
             1.3,
             2023,
             "Working Tax Credit"
            ],
            [
             9.4,
             4.5,
             4.6,
             2023,
             "Child Tax Credit"
            ],
            [
             41.6,
             39.1,
             49.8,
             2023,
             "Universal Credit"
            ],
            [
             136.7,
             145.1,
             157.5,
             2023,
             "National Insurance (total)"
            ],
            [
             188.7,
             170.6,
             215,
             2023,
             "Income Tax"
            ]
           ],
           "hovertemplate": "<b>%{customdata[4]} in %{customdata[3]}</b><br>Error: %{x}<br>Official: £%{customdata[2]}bn<br>PolicyEngine-UK: £%{customdata[0]}bn<br>UKMOD: £%{customdata[1]}bn",
           "legendgroup": "UKMOD",
           "marker": {
            "color": "lightgrey",
            "pattern": {
             "shape": ""
            }
           },
           "name": "UKMOD",
           "offsetgroup": "UKMOD",
           "orientation": "h",
           "showlegend": true,
           "textposition": "auto",
           "type": "bar",
           "x": [
            785000000,
            37000000,
            5106000000,
            48031665.023,
            68002783.738,
            10618000000,
            12386000000,
            44374000000
           ],
           "xaxis": "x",
           "y": [
            "Child Benefit",
            "Pension Credit",
            "Housing Benefit",
            "Working Tax Credit",
            "Child Tax Credit",
            "Universal Credit",
            "National Insurance (total)",
            "Income Tax"
           ],
           "yaxis": "y"
          }
         ],
         "name": "2023"
        },
        {
         "data": [
          {
           "alignmentgroup": "True",
           "customdata": [
            [
             11.6,
             12.5,
             11.6,
             2024,
             "Child Benefit"
            ],
            [
             4.8,
             4.5,
             4.4,
             2024,
             "Pension Credit"
            ],
            [
             13.2,
             8.5,
             12.5,
             2024,
             "Housing Benefit"
            ],
            [
             3.7,
             0.9,
             0.8,
             2024,
             "Working Tax Credit"
            ],
            [
             9,
             3.3,
             3,
             2024,
             "Child Tax Credit"
            ],
            [
             41.3,
             39.1,
             57.8,
             2024,
             "Universal Credit"
            ],
            [
             142.4,
             147.9,
             164.6,
             2024,
             "National Insurance (total)"
            ],
            [
             199.1,
             178.5,
             225.7,
             2024,
             "Income Tax"
            ]
           ],
           "hovertemplate": "<b>%{customdata[4]} in %{customdata[3]}</b><br>Error: %{x}<br>Official: £%{customdata[2]}bn<br>PolicyEngine-UK: £%{customdata[0]}bn<br>UKMOD: £%{customdata[1]}bn",
           "legendgroup": "PolicyEngine-UK",
           "marker": {
            "color": "blue",
            "pattern": {
             "shape": ""
            }
           },
           "name": "PolicyEngine-UK",
           "offsetgroup": "PolicyEngine-UK",
           "orientation": "h",
           "showlegend": true,
           "textposition": "auto",
           "type": "bar",
           "x": [
            11172385.447,
            393433150.13,
            655774046.954,
            2908086490.6470003,
            5954079493.521,
            16518219960.4,
            22153181649.92,
            26583663413.867996
           ],
           "xaxis": "x",
           "y": [
            "Child Benefit",
            "Pension Credit",
            "Housing Benefit",
            "Working Tax Credit",
            "Child Tax Credit",
            "Universal Credit",
            "National Insurance (total)",
            "Income Tax"
           ],
           "yaxis": "y"
          },
          {
           "alignmentgroup": "True",
           "customdata": [
            [
             11.6,
             12.5,
             11.6,
             2024,
             "Child Benefit"
            ],
            [
             4.8,
             4.5,
             4.4,
             2024,
             "Pension Credit"
            ],
            [
             13.2,
             8.5,
             12.5,
             2024,
             "Housing Benefit"
            ],
            [
             3.7,
             0.9,
             0.8,
             2024,
             "Working Tax Credit"
            ],
            [
             9,
             3.3,
             3,
             2024,
             "Child Tax Credit"
            ],
            [
             41.3,
             39.1,
             57.8,
             2024,
             "Universal Credit"
            ],
            [
             142.4,
             147.9,
             164.6,
             2024,
             "National Insurance (total)"
            ],
            [
             199.1,
             178.5,
             225.7,
             2024,
             "Income Tax"
            ]
           ],
           "hovertemplate": "<b>%{customdata[4]} in %{customdata[3]}</b><br>Error: %{x}<br>Official: £%{customdata[2]}bn<br>PolicyEngine-UK: £%{customdata[0]}bn<br>UKMOD: £%{customdata[1]}bn",
           "legendgroup": "UKMOD",
           "marker": {
            "color": "lightgrey",
            "pattern": {
             "shape": ""
            }
           },
           "name": "UKMOD",
           "offsetgroup": "UKMOD",
           "orientation": "h",
           "showlegend": true,
           "textposition": "auto",
           "type": "bar",
           "x": [
            921000000,
            112000000,
            4027000000,
            61813257.554,
            257401032.303,
            18649000000,
            16710000000,
            47212000000
           ],
           "xaxis": "x",
           "y": [
            "Child Benefit",
            "Pension Credit",
            "Housing Benefit",
            "Working Tax Credit",
            "Child Tax Credit",
            "Universal Credit",
            "National Insurance (total)",
            "Income Tax"
           ],
           "yaxis": "y"
          }
         ],
         "name": "2024"
        },
        {
         "data": [
          {
           "alignmentgroup": "True",
           "customdata": [
            [
             11.6,
             12.6,
             11.6,
             2025,
             "Child Benefit"
            ],
            [
             4.4,
             4.5,
             4.2,
             2025,
             "Pension Credit"
            ],
            [
             12.9,
             6.7,
             10.2,
             2025,
             "Housing Benefit"
            ],
            [
             3.6,
             0.4,
             0.4,
             2025,
             "Working Tax Credit"
            ],
            [
             8.6,
             1.5,
             1.4,
             2025,
             "Child Tax Credit"
            ],
            [
             148,
             151.9,
             172.1,
             2025,
             "National Insurance (total)"
            ],
            [
             41,
             45.6,
             68,
             2025,
             "Universal Credit"
            ],
            [
             204.6,
             187.9,
             237.5,
             2025,
             "Income Tax"
            ]
           ],
           "hovertemplate": "<b>%{customdata[4]} in %{customdata[3]}</b><br>Error: %{x}<br>Official: £%{customdata[2]}bn<br>PolicyEngine-UK: £%{customdata[0]}bn<br>UKMOD: £%{customdata[1]}bn",
           "legendgroup": "PolicyEngine-UK",
           "marker": {
            "color": "blue",
            "pattern": {
             "shape": ""
            }
           },
           "name": "PolicyEngine-UK",
           "offsetgroup": "PolicyEngine-UK",
           "orientation": "h",
           "showlegend": true,
           "textposition": "auto",
           "type": "bar",
           "x": [
            8418798.508,
            151963360.12,
            2700295441.548,
            3237034834.585,
            7223114957.928,
            24100989622.518997,
            26968438874.319,
            32920030120.483997
           ],
           "xaxis": "x",
           "y": [
            "Child Benefit",
            "Pension Credit",
            "Housing Benefit",
            "Working Tax Credit",
            "Child Tax Credit",
            "National Insurance (total)",
            "Universal Credit",
            "Income Tax"
           ],
           "yaxis": "y"
          },
          {
           "alignmentgroup": "True",
           "customdata": [
            [
             11.6,
             12.6,
             11.6,
             2025,
             "Child Benefit"
            ],
            [
             4.4,
             4.5,
             4.2,
             2025,
             "Pension Credit"
            ],
            [
             12.9,
             6.7,
             10.2,
             2025,
             "Housing Benefit"
            ],
            [
             3.6,
             0.4,
             0.4,
             2025,
             "Working Tax Credit"
            ],
            [
             8.6,
             1.5,
             1.4,
             2025,
             "Child Tax Credit"
            ],
            [
             148,
             151.9,
             172.1,
             2025,
             "National Insurance (total)"
            ],
            [
             41,
             45.6,
             68,
             2025,
             "Universal Credit"
            ],
            [
             204.6,
             187.9,
             237.5,
             2025,
             "Income Tax"
            ]
           ],
           "hovertemplate": "<b>%{customdata[4]} in %{customdata[3]}</b><br>Error: %{x}<br>Official: £%{customdata[2]}bn<br>PolicyEngine-UK: £%{customdata[0]}bn<br>UKMOD: £%{customdata[1]}bn",
           "legendgroup": "UKMOD",
           "marker": {
            "color": "lightgrey",
            "pattern": {
             "shape": ""
            }
           },
           "name": "UKMOD",
           "offsetgroup": "UKMOD",
           "orientation": "h",
           "showlegend": true,
           "textposition": "auto",
           "type": "bar",
           "x": [
            952000000,
            243000000,
            3507000000,
            44115815.113000005,
            86616192.078,
            20225000000,
            22315000000,
            49635000000
           ],
           "xaxis": "x",
           "y": [
            "Child Benefit",
            "Pension Credit",
            "Housing Benefit",
            "Working Tax Credit",
            "Child Tax Credit",
            "National Insurance (total)",
            "Universal Credit",
            "Income Tax"
           ],
           "yaxis": "y"
          }
         ],
         "name": "2025"
        }
       ],
       "layout": {
        "barmode": "group",
        "height": 600,
        "legend": {
         "title": {
          "text": "Model"
         },
         "tracegroupgap": 0,
         "traceorder": "reversed"
        },
        "margin": {
         "t": 60
        },
        "sliders": [
         {
          "active": 0,
          "currentvalue": {
           "prefix": "Year="
          },
          "len": 0.9,
          "pad": {
           "b": 10,
           "t": 60
          },
          "steps": [
           {
            "args": [
             [
              "2022"
             ],
             {
              "frame": {
               "duration": 0,
               "redraw": true
              },
              "fromcurrent": true,
              "mode": "immediate",
              "transition": {
               "duration": 0,
               "easing": "linear"
              }
             }
            ],
            "label": "2022",
            "method": "animate"
           },
           {
            "args": [
             [
              "2023"
             ],
             {
              "frame": {
               "duration": 0,
               "redraw": true
              },
              "fromcurrent": true,
              "mode": "immediate",
              "transition": {
               "duration": 0,
               "easing": "linear"
              }
             }
            ],
            "label": "2023",
            "method": "animate"
           },
           {
            "args": [
             [
              "2024"
             ],
             {
              "frame": {
               "duration": 0,
               "redraw": true
              },
              "fromcurrent": true,
              "mode": "immediate",
              "transition": {
               "duration": 0,
               "easing": "linear"
              }
             }
            ],
            "label": "2024",
            "method": "animate"
           },
           {
            "args": [
             [
              "2025"
             ],
             {
              "frame": {
               "duration": 0,
               "redraw": true
              },
              "fromcurrent": true,
              "mode": "immediate",
              "transition": {
               "duration": 0,
               "easing": "linear"
              }
             }
            ],
            "label": "2025",
            "method": "animate"
           }
          ],
          "x": 0.1,
          "xanchor": "left",
          "y": 0,
          "yanchor": "top"
         }
        ],
        "template": {
         "data": {
          "bar": [
           {
            "error_x": {
             "color": "#2a3f5f"
            },
            "error_y": {
             "color": "#2a3f5f"
            },
            "marker": {
             "line": {
              "color": "white",
              "width": 0.5
             },
             "pattern": {
              "fillmode": "overlay",
              "size": 10,
              "solidity": 0.2
             }
            },
            "type": "bar"
           }
          ],
          "barpolar": [
           {
            "marker": {
             "line": {
              "color": "white",
              "width": 0.5
             },
             "pattern": {
              "fillmode": "overlay",
              "size": 10,
              "solidity": 0.2
             }
            },
            "type": "barpolar"
           }
          ],
          "carpet": [
           {
            "aaxis": {
             "endlinecolor": "#2a3f5f",
             "gridcolor": "#C8D4E3",
             "linecolor": "#C8D4E3",
             "minorgridcolor": "#C8D4E3",
             "startlinecolor": "#2a3f5f"
            },
            "baxis": {
             "endlinecolor": "#2a3f5f",
             "gridcolor": "#C8D4E3",
             "linecolor": "#C8D4E3",
             "minorgridcolor": "#C8D4E3",
             "startlinecolor": "#2a3f5f"
            },
            "type": "carpet"
           }
          ],
          "choropleth": [
           {
            "colorbar": {
             "outlinewidth": 0,
             "ticks": ""
            },
            "type": "choropleth"
           }
          ],
          "contour": [
           {
            "colorbar": {
             "outlinewidth": 0,
             "ticks": ""
            },
            "colorscale": [
             [
              0,
              "#0d0887"
             ],
             [
              0.1111111111111111,
              "#46039f"
             ],
             [
              0.2222222222222222,
              "#7201a8"
             ],
             [
              0.3333333333333333,
              "#9c179e"
             ],
             [
              0.4444444444444444,
              "#bd3786"
             ],
             [
              0.5555555555555556,
              "#d8576b"
             ],
             [
              0.6666666666666666,
              "#ed7953"
             ],
             [
              0.7777777777777778,
              "#fb9f3a"
             ],
             [
              0.8888888888888888,
              "#fdca26"
             ],
             [
              1,
              "#f0f921"
             ]
            ],
            "type": "contour"
           }
          ],
          "contourcarpet": [
           {
            "colorbar": {
             "outlinewidth": 0,
             "ticks": ""
            },
            "type": "contourcarpet"
           }
          ],
          "heatmap": [
           {
            "colorbar": {
             "outlinewidth": 0,
             "ticks": ""
            },
            "colorscale": [
             [
              0,
              "#0d0887"
             ],
             [
              0.1111111111111111,
              "#46039f"
             ],
             [
              0.2222222222222222,
              "#7201a8"
             ],
             [
              0.3333333333333333,
              "#9c179e"
             ],
             [
              0.4444444444444444,
              "#bd3786"
             ],
             [
              0.5555555555555556,
              "#d8576b"
             ],
             [
              0.6666666666666666,
              "#ed7953"
             ],
             [
              0.7777777777777778,
              "#fb9f3a"
             ],
             [
              0.8888888888888888,
              "#fdca26"
             ],
             [
              1,
              "#f0f921"
             ]
            ],
            "type": "heatmap"
           }
          ],
          "heatmapgl": [
           {
            "colorbar": {
             "outlinewidth": 0,
             "ticks": ""
            },
            "colorscale": [
             [
              0,
              "#0d0887"
             ],
             [
              0.1111111111111111,
              "#46039f"
             ],
             [
              0.2222222222222222,
              "#7201a8"
             ],
             [
              0.3333333333333333,
              "#9c179e"
             ],
             [
              0.4444444444444444,
              "#bd3786"
             ],
             [
              0.5555555555555556,
              "#d8576b"
             ],
             [
              0.6666666666666666,
              "#ed7953"
             ],
             [
              0.7777777777777778,
              "#fb9f3a"
             ],
             [
              0.8888888888888888,
              "#fdca26"
             ],
             [
              1,
              "#f0f921"
             ]
            ],
            "type": "heatmapgl"
           }
          ],
          "histogram": [
           {
            "marker": {
             "pattern": {
              "fillmode": "overlay",
              "size": 10,
              "solidity": 0.2
             }
            },
            "type": "histogram"
           }
          ],
          "histogram2d": [
           {
            "colorbar": {
             "outlinewidth": 0,
             "ticks": ""
            },
            "colorscale": [
             [
              0,
              "#0d0887"
             ],
             [
              0.1111111111111111,
              "#46039f"
             ],
             [
              0.2222222222222222,
              "#7201a8"
             ],
             [
              0.3333333333333333,
              "#9c179e"
             ],
             [
              0.4444444444444444,
              "#bd3786"
             ],
             [
              0.5555555555555556,
              "#d8576b"
             ],
             [
              0.6666666666666666,
              "#ed7953"
             ],
             [
              0.7777777777777778,
              "#fb9f3a"
             ],
             [
              0.8888888888888888,
              "#fdca26"
             ],
             [
              1,
              "#f0f921"
             ]
            ],
            "type": "histogram2d"
           }
          ],
          "histogram2dcontour": [
           {
            "colorbar": {
             "outlinewidth": 0,
             "ticks": ""
            },
            "colorscale": [
             [
              0,
              "#0d0887"
             ],
             [
              0.1111111111111111,
              "#46039f"
             ],
             [
              0.2222222222222222,
              "#7201a8"
             ],
             [
              0.3333333333333333,
              "#9c179e"
             ],
             [
              0.4444444444444444,
              "#bd3786"
             ],
             [
              0.5555555555555556,
              "#d8576b"
             ],
             [
              0.6666666666666666,
              "#ed7953"
             ],
             [
              0.7777777777777778,
              "#fb9f3a"
             ],
             [
              0.8888888888888888,
              "#fdca26"
             ],
             [
              1,
              "#f0f921"
             ]
            ],
            "type": "histogram2dcontour"
           }
          ],
          "mesh3d": [
           {
            "colorbar": {
             "outlinewidth": 0,
             "ticks": ""
            },
            "type": "mesh3d"
           }
          ],
          "parcoords": [
           {
            "line": {
             "colorbar": {
              "outlinewidth": 0,
              "ticks": ""
             }
            },
            "type": "parcoords"
           }
          ],
          "pie": [
           {
            "automargin": true,
            "type": "pie"
           }
          ],
          "scatter": [
           {
            "fillpattern": {
             "fillmode": "overlay",
             "size": 10,
             "solidity": 0.2
            },
            "type": "scatter"
           }
          ],
          "scatter3d": [
           {
            "line": {
             "colorbar": {
              "outlinewidth": 0,
              "ticks": ""
             }
            },
            "marker": {
             "colorbar": {
              "outlinewidth": 0,
              "ticks": ""
             }
            },
            "type": "scatter3d"
           }
          ],
          "scattercarpet": [
           {
            "marker": {
             "colorbar": {
              "outlinewidth": 0,
              "ticks": ""
             }
            },
            "type": "scattercarpet"
           }
          ],
          "scattergeo": [
           {
            "marker": {
             "colorbar": {
              "outlinewidth": 0,
              "ticks": ""
             }
            },
            "type": "scattergeo"
           }
          ],
          "scattergl": [
           {
            "marker": {
             "colorbar": {
              "outlinewidth": 0,
              "ticks": ""
             }
            },
            "type": "scattergl"
           }
          ],
          "scattermapbox": [
           {
            "marker": {
             "colorbar": {
              "outlinewidth": 0,
              "ticks": ""
             }
            },
            "type": "scattermapbox"
           }
          ],
          "scatterpolar": [
           {
            "marker": {
             "colorbar": {
              "outlinewidth": 0,
              "ticks": ""
             }
            },
            "type": "scatterpolar"
           }
          ],
          "scatterpolargl": [
           {
            "marker": {
             "colorbar": {
              "outlinewidth": 0,
              "ticks": ""
             }
            },
            "type": "scatterpolargl"
           }
          ],
          "scatterternary": [
           {
            "marker": {
             "colorbar": {
              "outlinewidth": 0,
              "ticks": ""
             }
            },
            "type": "scatterternary"
           }
          ],
          "surface": [
           {
            "colorbar": {
             "outlinewidth": 0,
             "ticks": ""
            },
            "colorscale": [
             [
              0,
              "#0d0887"
             ],
             [
              0.1111111111111111,
              "#46039f"
             ],
             [
              0.2222222222222222,
              "#7201a8"
             ],
             [
              0.3333333333333333,
              "#9c179e"
             ],
             [
              0.4444444444444444,
              "#bd3786"
             ],
             [
              0.5555555555555556,
              "#d8576b"
             ],
             [
              0.6666666666666666,
              "#ed7953"
             ],
             [
              0.7777777777777778,
              "#fb9f3a"
             ],
             [
              0.8888888888888888,
              "#fdca26"
             ],
             [
              1,
              "#f0f921"
             ]
            ],
            "type": "surface"
           }
          ],
          "table": [
           {
            "cells": {
             "fill": {
              "color": "#EBF0F8"
             },
             "line": {
              "color": "white"
             }
            },
            "header": {
             "fill": {
              "color": "#C8D4E3"
             },
             "line": {
              "color": "white"
             }
            },
            "type": "table"
           }
          ]
         },
         "layout": {
          "annotationdefaults": {
           "arrowcolor": "#2a3f5f",
           "arrowhead": 0,
           "arrowwidth": 1
          },
          "autotypenumbers": "strict",
          "coloraxis": {
           "colorbar": {
            "outlinewidth": 0,
            "ticks": ""
           }
          },
          "colorscale": {
           "diverging": [
            [
             0,
             "#8e0152"
            ],
            [
             0.1,
             "#c51b7d"
            ],
            [
             0.2,
             "#de77ae"
            ],
            [
             0.3,
             "#f1b6da"
            ],
            [
             0.4,
             "#fde0ef"
            ],
            [
             0.5,
             "#f7f7f7"
            ],
            [
             0.6,
             "#e6f5d0"
            ],
            [
             0.7,
             "#b8e186"
            ],
            [
             0.8,
             "#7fbc41"
            ],
            [
             0.9,
             "#4d9221"
            ],
            [
             1,
             "#276419"
            ]
           ],
           "sequential": [
            [
             0,
             "#0d0887"
            ],
            [
             0.1111111111111111,
             "#46039f"
            ],
            [
             0.2222222222222222,
             "#7201a8"
            ],
            [
             0.3333333333333333,
             "#9c179e"
            ],
            [
             0.4444444444444444,
             "#bd3786"
            ],
            [
             0.5555555555555556,
             "#d8576b"
            ],
            [
             0.6666666666666666,
             "#ed7953"
            ],
            [
             0.7777777777777778,
             "#fb9f3a"
            ],
            [
             0.8888888888888888,
             "#fdca26"
            ],
            [
             1,
             "#f0f921"
            ]
           ],
           "sequentialminus": [
            [
             0,
             "#0d0887"
            ],
            [
             0.1111111111111111,
             "#46039f"
            ],
            [
             0.2222222222222222,
             "#7201a8"
            ],
            [
             0.3333333333333333,
             "#9c179e"
            ],
            [
             0.4444444444444444,
             "#bd3786"
            ],
            [
             0.5555555555555556,
             "#d8576b"
            ],
            [
             0.6666666666666666,
             "#ed7953"
            ],
            [
             0.7777777777777778,
             "#fb9f3a"
            ],
            [
             0.8888888888888888,
             "#fdca26"
            ],
            [
             1,
             "#f0f921"
            ]
           ]
          },
          "colorway": [
           "#636efa",
           "#EF553B",
           "#00cc96",
           "#ab63fa",
           "#FFA15A",
           "#19d3f3",
           "#FF6692",
           "#B6E880",
           "#FF97FF",
           "#FECB52"
          ],
          "font": {
           "color": "#2a3f5f"
          },
          "geo": {
           "bgcolor": "white",
           "lakecolor": "white",
           "landcolor": "white",
           "showlakes": true,
           "showland": true,
           "subunitcolor": "#C8D4E3"
          },
          "hoverlabel": {
           "align": "left"
          },
          "hovermode": "closest",
          "mapbox": {
           "style": "light"
          },
          "paper_bgcolor": "white",
          "plot_bgcolor": "white",
          "polar": {
           "angularaxis": {
            "gridcolor": "#EBF0F8",
            "linecolor": "#EBF0F8",
            "ticks": ""
           },
           "bgcolor": "white",
           "radialaxis": {
            "gridcolor": "#EBF0F8",
            "linecolor": "#EBF0F8",
            "ticks": ""
           }
          },
          "scene": {
           "xaxis": {
            "backgroundcolor": "white",
            "gridcolor": "#DFE8F3",
            "gridwidth": 2,
            "linecolor": "#EBF0F8",
            "showbackground": true,
            "ticks": "",
            "zerolinecolor": "#EBF0F8"
           },
           "yaxis": {
            "backgroundcolor": "white",
            "gridcolor": "#DFE8F3",
            "gridwidth": 2,
            "linecolor": "#EBF0F8",
            "showbackground": true,
            "ticks": "",
            "zerolinecolor": "#EBF0F8"
           },
           "zaxis": {
            "backgroundcolor": "white",
            "gridcolor": "#DFE8F3",
            "gridwidth": 2,
            "linecolor": "#EBF0F8",
            "showbackground": true,
            "ticks": "",
            "zerolinecolor": "#EBF0F8"
           }
          },
          "shapedefaults": {
           "line": {
            "color": "#2a3f5f"
           }
          },
          "ternary": {
           "aaxis": {
            "gridcolor": "#DFE8F3",
            "linecolor": "#A2B1C6",
            "ticks": ""
           },
           "baxis": {
            "gridcolor": "#DFE8F3",
            "linecolor": "#A2B1C6",
            "ticks": ""
           },
           "bgcolor": "white",
           "caxis": {
            "gridcolor": "#DFE8F3",
            "linecolor": "#A2B1C6",
            "ticks": ""
           }
          },
          "title": {
           "x": 0.05
          },
          "xaxis": {
           "automargin": true,
           "gridcolor": "#EBF0F8",
           "linecolor": "#EBF0F8",
           "ticks": "",
           "title": {
            "standoff": 15
           },
           "zerolinecolor": "#EBF0F8",
           "zerolinewidth": 2
          },
          "yaxis": {
           "automargin": true,
           "gridcolor": "#EBF0F8",
           "linecolor": "#EBF0F8",
           "ticks": "",
           "title": {
            "standoff": 15
           },
           "zerolinecolor": "#EBF0F8",
           "zerolinewidth": 2
          }
         }
        },
        "title": {
         "text": "Budgetary impact error"
        },
        "updatemenus": [
         {
          "buttons": [
           {
            "args": [
             null,
             {
              "frame": {
               "duration": 500,
               "redraw": true
              },
              "fromcurrent": true,
              "mode": "immediate",
              "transition": {
               "duration": 500,
               "easing": "linear"
              }
             }
            ],
            "label": "&#9654;",
            "method": "animate"
           },
           {
            "args": [
             [
              null
             ],
             {
              "frame": {
               "duration": 0,
               "redraw": true
              },
              "fromcurrent": true,
              "mode": "immediate",
              "transition": {
               "duration": 0,
               "easing": "linear"
              }
             }
            ],
            "label": "&#9724;",
            "method": "animate"
           }
          ],
          "direction": "left",
          "pad": {
           "r": 10,
           "t": 70
          },
          "showactive": false,
          "type": "buttons",
          "x": 0.1,
          "xanchor": "right",
          "y": 0,
          "yanchor": "top"
         }
        ],
        "width": 800,
        "xaxis": {
         "anchor": "y",
         "domain": [
          0,
          1
         ],
         "tickprefix": "£",
         "title": {
          "text": "Budgetary impact error"
         }
        },
        "yaxis": {
         "anchor": "x",
         "domain": [
          0,
          1
         ],
         "title": {
          "text": ""
         }
        }
       }
      }
     },
     "metadata": {},
     "output_type": "display_data"
    }
   ],
   "source": [
    "pd.set_option(\"display.max_colwidth\", 0)\n",
    "pd.set_option(\"display.max_rows\", 500)\n",
    "\n",
    "\n",
    "def error_chart(table, title=None):\n",
    "    hovertemplate = \"<b>%{customdata[4]} in %{customdata[3]}</b><br>Error: %{x}<br>Official: £%{customdata[2]}bn<br>PolicyEngine-UK: £%{customdata[0]}bn<br>UKMOD: £%{customdata[1]}bn\"\n",
    "    table = table.replace(\"\", np.nan).dropna(axis=0)\n",
    "    table[[policyengine_uk, UKMOD]] = (\n",
    "        table[[policyengine_uk, UKMOD]].abs() / 1e2\n",
    "    )\n",
    "    fig = (\n",
    "        px.bar(\n",
    "            table.sort_values([\"Year\", policyengine_uk]),\n",
    "            x=[policyengine_uk, UKMOD],\n",
    "            y=\"Program\",\n",
    "            orientation=\"h\",\n",
    "            animation_frame=\"Year\",\n",
    "            barmode=\"group\",\n",
    "            color_discrete_map={\n",
    "                policyengine_uk: \"blue\",\n",
    "                UKMOD: \"lightgrey\",\n",
    "            },\n",
    "            custom_data=[\n",
    "                \"PolicyEngine-UK budgetary impact\",\n",
    "                \"UKMOD budgetary impact\",\n",
    "                \"External budgetary impact\",\n",
    "                \"Year\",\n",
    "                \"Program\",\n",
    "            ],\n",
    "        )\n",
    "        .update_layout(\n",
    "            width=800,\n",
    "            height=600,\n",
    "            xaxis_tickprefix=\"£\",\n",
    "            xaxis_title=\"Budgetary impact error\",\n",
    "            title=title,\n",
    "            template=\"plotly_white\",\n",
    "            legend_title=\"Model\",\n",
    "            yaxis_title=\"\",\n",
    "            legend_traceorder=\"reversed\",\n",
    "        )\n",
    "        .update_traces(hovertemplate=hovertemplate)\n",
    "    )\n",
    "    for frame in fig.frames:\n",
    "        for data in frame.data:\n",
    "            data.hovertemplate = hovertemplate\n",
    "    return fig\n",
    "\n",
    "\n",
    "error_chart(\n",
    "    tables_to_model_comparisons(\n",
    "        {\n",
    "            \"\": model_validation_table(\n",
    "                budgetary_impact_error,\n",
    "                models=[policyengine_uk, UKMOD],\n",
    "                divisor=1e-2,\n",
    "                decimals=1,\n",
    "            ),\n",
    "            \"budgetary impact\": model_validation_table(\n",
    "                budgetary_impact, divisor=1e9, decimals=1\n",
    "            ),\n",
    "        }\n",
    "    ),\n",
    "    title=\"Budgetary impact error\",\n",
    ")"
   ]
  },
  {
   "cell_type": "markdown",
   "id": "f89a9c20-9f10-4a8e-9ce9-5d35cc59f936",
   "metadata": {},
   "source": [
    "## Caseload tables\n",
    "\n",
    "PolicyEngine-UK uprates input FRS data: below are comparisons between the aggregates calculated by PolicyEngine-UK, UKMOD and external sources.\n",
    "\n",
    "### Caseloads in full"
   ]
  },
  {
   "cell_type": "code",
   "execution_count": 12,
   "id": "63f78e85-f975-49f2-9aa5-be89d8d0e4f4",
   "metadata": {
    "tags": [
     "hide-input"
    ]
   },
   "outputs": [
    {
     "data": {
      "text/html": [
       "<div>\n",
       "<style scoped>\n",
       "    .dataframe tbody tr th:only-of-type {\n",
       "        vertical-align: middle;\n",
       "    }\n",
       "\n",
       "    .dataframe tbody tr th {\n",
       "        vertical-align: top;\n",
       "    }\n",
       "\n",
       "    .dataframe thead th {\n",
       "        text-align: right;\n",
       "    }\n",
       "</style>\n",
       "<table border=\"1\" class=\"dataframe\">\n",
       "  <thead>\n",
       "    <tr style=\"text-align: right;\">\n",
       "      <th></th>\n",
       "      <th></th>\n",
       "      <th>Child Benefit</th>\n",
       "      <th>Income Support</th>\n",
       "      <th>JSA (income-based)</th>\n",
       "      <th>Housing Benefit</th>\n",
       "      <th>Working Tax Credit</th>\n",
       "      <th>Child Tax Credit</th>\n",
       "      <th>Universal Credit</th>\n",
       "    </tr>\n",
       "  </thead>\n",
       "  <tbody>\n",
       "    <tr>\n",
       "      <th rowspan=\"4\" valign=\"top\">External</th>\n",
       "      <th>2022</th>\n",
       "      <td>7.07</td>\n",
       "      <td>0.16</td>\n",
       "      <td>0.04</td>\n",
       "      <td>2.71</td>\n",
       "      <td>0.77</td>\n",
       "      <td>1.25</td>\n",
       "      <td>4.65</td>\n",
       "    </tr>\n",
       "    <tr>\n",
       "      <th>2023</th>\n",
       "      <td>7.00</td>\n",
       "      <td>0.12</td>\n",
       "      <td>0.01</td>\n",
       "      <td>2.46</td>\n",
       "      <td>0.58</td>\n",
       "      <td>0.94</td>\n",
       "      <td>5.05</td>\n",
       "    </tr>\n",
       "    <tr>\n",
       "      <th>2024</th>\n",
       "      <td>6.93</td>\n",
       "      <td>0.08</td>\n",
       "      <td>0.0</td>\n",
       "      <td>2.11</td>\n",
       "      <td>0.38</td>\n",
       "      <td>0.62</td>\n",
       "      <td>5.61</td>\n",
       "    </tr>\n",
       "    <tr>\n",
       "      <th>2025</th>\n",
       "      <td>6.87</td>\n",
       "      <td>0.03</td>\n",
       "      <td>0.0</td>\n",
       "      <td>1.73</td>\n",
       "      <td>0.17</td>\n",
       "      <td>0.28</td>\n",
       "      <td>6.29</td>\n",
       "    </tr>\n",
       "    <tr>\n",
       "      <th rowspan=\"4\" valign=\"top\">PolicyEngine-UK</th>\n",
       "      <th>2022</th>\n",
       "      <td>7.07</td>\n",
       "      <td>0.15</td>\n",
       "      <td>0.05</td>\n",
       "      <td>2.78</td>\n",
       "      <td>1.09</td>\n",
       "      <td>1.39</td>\n",
       "      <td>4.92</td>\n",
       "    </tr>\n",
       "    <tr>\n",
       "      <th>2023</th>\n",
       "      <td>7.07</td>\n",
       "      <td>0.15</td>\n",
       "      <td>0.05</td>\n",
       "      <td>2.69</td>\n",
       "      <td>1.09</td>\n",
       "      <td>1.38</td>\n",
       "      <td>4.78</td>\n",
       "    </tr>\n",
       "    <tr>\n",
       "      <th>2024</th>\n",
       "      <td>7.07</td>\n",
       "      <td>0.15</td>\n",
       "      <td>0.05</td>\n",
       "      <td>2.68</td>\n",
       "      <td>1.07</td>\n",
       "      <td>1.37</td>\n",
       "      <td>4.72</td>\n",
       "    </tr>\n",
       "    <tr>\n",
       "      <th>2025</th>\n",
       "      <td>7.07</td>\n",
       "      <td>0.15</td>\n",
       "      <td>0.05</td>\n",
       "      <td>2.68</td>\n",
       "      <td>1.05</td>\n",
       "      <td>1.34</td>\n",
       "      <td>4.66</td>\n",
       "    </tr>\n",
       "    <tr>\n",
       "      <th rowspan=\"4\" valign=\"top\">UKMOD</th>\n",
       "      <th>2022</th>\n",
       "      <td>7.12</td>\n",
       "      <td></td>\n",
       "      <td></td>\n",
       "      <td>2.26</td>\n",
       "      <td>0.54</td>\n",
       "      <td>1.08</td>\n",
       "      <td>4.21</td>\n",
       "    </tr>\n",
       "    <tr>\n",
       "      <th>2023</th>\n",
       "      <td>7.07</td>\n",
       "      <td></td>\n",
       "      <td></td>\n",
       "      <td>2.05</td>\n",
       "      <td>0.44</td>\n",
       "      <td>0.89</td>\n",
       "      <td>4.66</td>\n",
       "    </tr>\n",
       "    <tr>\n",
       "      <th>2024</th>\n",
       "      <td>7.02</td>\n",
       "      <td></td>\n",
       "      <td></td>\n",
       "      <td>1.78</td>\n",
       "      <td>0.30</td>\n",
       "      <td>0.64</td>\n",
       "      <td>5.31</td>\n",
       "    </tr>\n",
       "    <tr>\n",
       "      <th>2025</th>\n",
       "      <td>6.99</td>\n",
       "      <td></td>\n",
       "      <td></td>\n",
       "      <td>1.43</td>\n",
       "      <td>0.13</td>\n",
       "      <td>0.29</td>\n",
       "      <td>6.15</td>\n",
       "    </tr>\n",
       "  </tbody>\n",
       "</table>\n",
       "</div>"
      ],
      "text/plain": [
       "                   Child Benefit Income Support JSA (income-based)  \\\n",
       "External     2022  7.07           0.16           0.04                \n",
       "             2023  7.00           0.12           0.01                \n",
       "             2024  6.93           0.08           0.0                 \n",
       "             2025  6.87           0.03           0.0                 \n",
       "PolicyEngine-UK 2022  7.07           0.15           0.05                \n",
       "             2023  7.07           0.15           0.05                \n",
       "             2024  7.07           0.15           0.05                \n",
       "             2025  7.07           0.15           0.05                \n",
       "UKMOD        2022  7.12                                              \n",
       "             2023  7.07                                              \n",
       "             2024  7.02                                              \n",
       "             2025  6.99                                              \n",
       "\n",
       "                   Housing Benefit  Working Tax Credit  Child Tax Credit  \\\n",
       "External     2022  2.71             0.77                1.25               \n",
       "             2023  2.46             0.58                0.94               \n",
       "             2024  2.11             0.38                0.62               \n",
       "             2025  1.73             0.17                0.28               \n",
       "PolicyEngine-UK 2022  2.78             1.09                1.39               \n",
       "             2023  2.69             1.09                1.38               \n",
       "             2024  2.68             1.07                1.37               \n",
       "             2025  2.68             1.05                1.34               \n",
       "UKMOD        2022  2.26             0.54                1.08               \n",
       "             2023  2.05             0.44                0.89               \n",
       "             2024  1.78             0.30                0.64               \n",
       "             2025  1.43             0.13                0.29               \n",
       "\n",
       "                   Universal Credit  \n",
       "External     2022  4.65              \n",
       "             2023  5.05              \n",
       "             2024  5.61              \n",
       "             2025  6.29              \n",
       "PolicyEngine-UK 2022  4.92              \n",
       "             2023  4.78              \n",
       "             2024  4.72              \n",
       "             2025  4.66              \n",
       "UKMOD        2022  4.21              \n",
       "             2023  4.66              \n",
       "             2024  5.31              \n",
       "             2025  6.15              "
      ]
     },
     "execution_count": 12,
     "metadata": {},
     "output_type": "execute_result"
    }
   ],
   "source": [
    "from microdf import MicroSeries\n",
    "from policyengine_core.parameters import Parameter\n",
    "\n",
    "\n",
    "def get_nonzero(variable, year):\n",
    "    entity = default_variables[variable].entity.key\n",
    "    values = sim.calc(variable, period=year) > 0\n",
    "    return MicroSeries(\n",
    "        sim.map_result(values, entity, \"household\"),\n",
    "        weights=sim.calc(\"household_weight\", year),\n",
    "    )\n",
    "\n",
    "\n",
    "def caseload(model, year, variable):\n",
    "    try:\n",
    "        if model == policyengine_uk:\n",
    "            return get_nonzero(variable, year).sum()\n",
    "        elif model == UKMOD:\n",
    "            return getattr(ukmod_statistics.ukmod.nonzero_units, variable)(\n",
    "                f\"{year}-01-01\"\n",
    "            )\n",
    "        elif model == EXTERNAL:\n",
    "            if variable == \"income_tax\":\n",
    "                total = 0\n",
    "                for (\n",
    "                    subparam\n",
    "                ) in (\n",
    "                    parameters.calibration.programs.income_tax.participants.by_country_and_band.get_descendants()\n",
    "                ):\n",
    "                    if isinstance(subparam, Parameter):\n",
    "                        total += subparam(f\"{year}-01-01\")\n",
    "                return total\n",
    "            try:\n",
    "                return parameters.calibration.programs.children[\n",
    "                    variable\n",
    "                ].participants.UNITED_KINGDOM(f\"{year}-01-01\")\n",
    "            except:\n",
    "                return parameters.calibration.programs.children[\n",
    "                    variable\n",
    "                ].participants.GREAT_BRITAIN(f\"{year}-01-01\")\n",
    "    except:\n",
    "        return np.nan\n",
    "\n",
    "\n",
    "df = model_validation_table(\n",
    "    caseload,\n",
    "    models=[EXTERNAL, policyengine_uk, UKMOD],\n",
    "    divisor=1e6,\n",
    "    decimals=2,\n",
    ")\n",
    "df[df.columns[:7]]"
   ]
  },
  {
   "cell_type": "code",
   "execution_count": 13,
   "id": "4e4b30f5",
   "metadata": {},
   "outputs": [
    {
     "data": {
      "text/html": [
       "<div>\n",
       "<style scoped>\n",
       "    .dataframe tbody tr th:only-of-type {\n",
       "        vertical-align: middle;\n",
       "    }\n",
       "\n",
       "    .dataframe tbody tr th {\n",
       "        vertical-align: top;\n",
       "    }\n",
       "\n",
       "    .dataframe thead th {\n",
       "        text-align: right;\n",
       "    }\n",
       "</style>\n",
       "<table border=\"1\" class=\"dataframe\">\n",
       "  <thead>\n",
       "    <tr style=\"text-align: right;\">\n",
       "      <th></th>\n",
       "      <th></th>\n",
       "      <th>Pension Credit</th>\n",
       "      <th>Income Tax</th>\n",
       "      <th>National Insurance (total)</th>\n",
       "      <th>employment income</th>\n",
       "      <th>self-employment income</th>\n",
       "      <th>pension income</th>\n",
       "      <th>rental income</th>\n",
       "    </tr>\n",
       "  </thead>\n",
       "  <tbody>\n",
       "    <tr>\n",
       "      <th rowspan=\"4\" valign=\"top\">External</th>\n",
       "      <th>2022</th>\n",
       "      <td>1.41</td>\n",
       "      <td>31.88</td>\n",
       "      <td></td>\n",
       "      <td></td>\n",
       "      <td></td>\n",
       "      <td></td>\n",
       "      <td></td>\n",
       "    </tr>\n",
       "    <tr>\n",
       "      <th>2023</th>\n",
       "      <td>1.34</td>\n",
       "      <td>31.88</td>\n",
       "      <td></td>\n",
       "      <td></td>\n",
       "      <td></td>\n",
       "      <td></td>\n",
       "      <td></td>\n",
       "    </tr>\n",
       "    <tr>\n",
       "      <th>2024</th>\n",
       "      <td>1.28</td>\n",
       "      <td>31.88</td>\n",
       "      <td></td>\n",
       "      <td></td>\n",
       "      <td></td>\n",
       "      <td></td>\n",
       "      <td></td>\n",
       "    </tr>\n",
       "    <tr>\n",
       "      <th>2025</th>\n",
       "      <td>1.23</td>\n",
       "      <td>31.88</td>\n",
       "      <td></td>\n",
       "      <td></td>\n",
       "      <td></td>\n",
       "      <td></td>\n",
       "      <td></td>\n",
       "    </tr>\n",
       "    <tr>\n",
       "      <th rowspan=\"4\" valign=\"top\">PolicyEngine-UK</th>\n",
       "      <th>2022</th>\n",
       "      <td>1.78</td>\n",
       "      <td>30.31</td>\n",
       "      <td>26.44</td>\n",
       "      <td>29.27</td>\n",
       "      <td>3.28</td>\n",
       "      <td>11.41</td>\n",
       "      <td>2.61</td>\n",
       "    </tr>\n",
       "    <tr>\n",
       "      <th>2023</th>\n",
       "      <td>1.73</td>\n",
       "      <td>30.83</td>\n",
       "      <td>26.46</td>\n",
       "      <td>29.27</td>\n",
       "      <td>3.28</td>\n",
       "      <td>11.41</td>\n",
       "      <td>2.61</td>\n",
       "    </tr>\n",
       "    <tr>\n",
       "      <th>2024</th>\n",
       "      <td>1.59</td>\n",
       "      <td>31.57</td>\n",
       "      <td>26.94</td>\n",
       "      <td>29.27</td>\n",
       "      <td>3.28</td>\n",
       "      <td>11.41</td>\n",
       "      <td>2.61</td>\n",
       "    </tr>\n",
       "    <tr>\n",
       "      <th>2025</th>\n",
       "      <td>1.50</td>\n",
       "      <td>32.20</td>\n",
       "      <td>27.3</td>\n",
       "      <td>29.27</td>\n",
       "      <td>3.28</td>\n",
       "      <td>11.41</td>\n",
       "      <td>2.61</td>\n",
       "    </tr>\n",
       "    <tr>\n",
       "      <th rowspan=\"4\" valign=\"top\">UKMOD</th>\n",
       "      <th>2022</th>\n",
       "      <td>1.41</td>\n",
       "      <td>30.01</td>\n",
       "      <td>26.08</td>\n",
       "      <td></td>\n",
       "      <td></td>\n",
       "      <td></td>\n",
       "      <td></td>\n",
       "    </tr>\n",
       "    <tr>\n",
       "      <th>2023</th>\n",
       "      <td>1.45</td>\n",
       "      <td>30.58</td>\n",
       "      <td>26.19</td>\n",
       "      <td></td>\n",
       "      <td></td>\n",
       "      <td></td>\n",
       "      <td></td>\n",
       "    </tr>\n",
       "    <tr>\n",
       "      <th>2024</th>\n",
       "      <td>1.44</td>\n",
       "      <td>30.94</td>\n",
       "      <td>26.24</td>\n",
       "      <td></td>\n",
       "      <td></td>\n",
       "      <td></td>\n",
       "      <td></td>\n",
       "    </tr>\n",
       "    <tr>\n",
       "      <th>2025</th>\n",
       "      <td>1.42</td>\n",
       "      <td>31.47</td>\n",
       "      <td>26.27</td>\n",
       "      <td></td>\n",
       "      <td></td>\n",
       "      <td></td>\n",
       "      <td></td>\n",
       "    </tr>\n",
       "  </tbody>\n",
       "</table>\n",
       "</div>"
      ],
      "text/plain": [
       "                   Pension Credit  Income Tax National Insurance (total)  \\\n",
       "External     2022  1.41            31.88                                   \n",
       "             2023  1.34            31.88                                   \n",
       "             2024  1.28            31.88                                   \n",
       "             2025  1.23            31.88                                   \n",
       "PolicyEngine-UK 2022  1.78            30.31       26.44                       \n",
       "             2023  1.73            30.83       26.46                       \n",
       "             2024  1.59            31.57       26.94                       \n",
       "             2025  1.50            32.20       27.3                        \n",
       "UKMOD        2022  1.41            30.01       26.08                       \n",
       "             2023  1.45            30.58       26.19                       \n",
       "             2024  1.44            30.94       26.24                       \n",
       "             2025  1.42            31.47       26.27                       \n",
       "\n",
       "                  employment income self-employment income pension income  \\\n",
       "External     2022                                                           \n",
       "             2023                                                           \n",
       "             2024                                                           \n",
       "             2025                                                           \n",
       "PolicyEngine-UK 2022  29.27             3.28                   11.41           \n",
       "             2023  29.27             3.28                   11.41           \n",
       "             2024  29.27             3.28                   11.41           \n",
       "             2025  29.27             3.28                   11.41           \n",
       "UKMOD        2022                                                           \n",
       "             2023                                                           \n",
       "             2024                                                           \n",
       "             2025                                                           \n",
       "\n",
       "                  rental income  \n",
       "External     2022                \n",
       "             2023                \n",
       "             2024                \n",
       "             2025                \n",
       "PolicyEngine-UK 2022  2.61          \n",
       "             2023  2.61          \n",
       "             2024  2.61          \n",
       "             2025  2.61          \n",
       "UKMOD        2022                \n",
       "             2023                \n",
       "             2024                \n",
       "             2025                "
      ]
     },
     "execution_count": 13,
     "metadata": {},
     "output_type": "execute_result"
    }
   ],
   "source": [
    "df[df.columns[7:14]]"
   ]
  },
  {
   "cell_type": "code",
   "execution_count": 14,
   "id": "a542cd59",
   "metadata": {},
   "outputs": [
    {
     "data": {
      "text/html": [
       "<div>\n",
       "<style scoped>\n",
       "    .dataframe tbody tr th:only-of-type {\n",
       "        vertical-align: middle;\n",
       "    }\n",
       "\n",
       "    .dataframe tbody tr th {\n",
       "        vertical-align: top;\n",
       "    }\n",
       "\n",
       "    .dataframe thead th {\n",
       "        text-align: right;\n",
       "    }\n",
       "</style>\n",
       "<table border=\"1\" class=\"dataframe\">\n",
       "  <thead>\n",
       "    <tr style=\"text-align: right;\">\n",
       "      <th></th>\n",
       "      <th></th>\n",
       "      <th>savings interest income</th>\n",
       "      <th>dividend income</th>\n",
       "    </tr>\n",
       "  </thead>\n",
       "  <tbody>\n",
       "    <tr>\n",
       "      <th rowspan=\"4\" valign=\"top\">External</th>\n",
       "      <th>2022</th>\n",
       "      <td></td>\n",
       "      <td></td>\n",
       "    </tr>\n",
       "    <tr>\n",
       "      <th>2023</th>\n",
       "      <td></td>\n",
       "      <td></td>\n",
       "    </tr>\n",
       "    <tr>\n",
       "      <th>2024</th>\n",
       "      <td></td>\n",
       "      <td></td>\n",
       "    </tr>\n",
       "    <tr>\n",
       "      <th>2025</th>\n",
       "      <td></td>\n",
       "      <td></td>\n",
       "    </tr>\n",
       "    <tr>\n",
       "      <th rowspan=\"4\" valign=\"top\">PolicyEngine-UK</th>\n",
       "      <th>2022</th>\n",
       "      <td>21.2</td>\n",
       "      <td>5.59</td>\n",
       "    </tr>\n",
       "    <tr>\n",
       "      <th>2023</th>\n",
       "      <td>21.2</td>\n",
       "      <td>5.59</td>\n",
       "    </tr>\n",
       "    <tr>\n",
       "      <th>2024</th>\n",
       "      <td>21.2</td>\n",
       "      <td>5.59</td>\n",
       "    </tr>\n",
       "    <tr>\n",
       "      <th>2025</th>\n",
       "      <td>21.2</td>\n",
       "      <td>5.59</td>\n",
       "    </tr>\n",
       "    <tr>\n",
       "      <th rowspan=\"4\" valign=\"top\">UKMOD</th>\n",
       "      <th>2022</th>\n",
       "      <td></td>\n",
       "      <td></td>\n",
       "    </tr>\n",
       "    <tr>\n",
       "      <th>2023</th>\n",
       "      <td></td>\n",
       "      <td></td>\n",
       "    </tr>\n",
       "    <tr>\n",
       "      <th>2024</th>\n",
       "      <td></td>\n",
       "      <td></td>\n",
       "    </tr>\n",
       "    <tr>\n",
       "      <th>2025</th>\n",
       "      <td></td>\n",
       "      <td></td>\n",
       "    </tr>\n",
       "  </tbody>\n",
       "</table>\n",
       "</div>"
      ],
      "text/plain": [
       "                  savings interest income dividend income\n",
       "External     2022                                        \n",
       "             2023                                        \n",
       "             2024                                        \n",
       "             2025                                        \n",
       "PolicyEngine-UK 2022  21.2                    5.59          \n",
       "             2023  21.2                    5.59          \n",
       "             2024  21.2                    5.59          \n",
       "             2025  21.2                    5.59          \n",
       "UKMOD        2022                                        \n",
       "             2023                                        \n",
       "             2024                                        \n",
       "             2025                                        "
      ]
     },
     "execution_count": 14,
     "metadata": {},
     "output_type": "execute_result"
    }
   ],
   "source": [
    "df[df.columns[14:]]"
   ]
  },
  {
   "cell_type": "markdown",
   "id": "d83ef056-b2c6-4f56-b11b-de4ee980463d",
   "metadata": {},
   "source": [
    "### Caseload forecasts"
   ]
  },
  {
   "cell_type": "code",
   "execution_count": 15,
   "id": "7b883c5d-171d-4511-a769-47254476aad3",
   "metadata": {
    "tags": [
     "hide-input"
    ]
   },
   "outputs": [
    {
     "data": {
      "application/vnd.plotly.v1+json": {
       "config": {
        "plotlyServerURL": "https://plot.ly"
       },
       "data": [
        {
         "hovertemplate": "",
         "legendgroup": "External",
         "line": {
          "color": "#00cc96",
          "dash": "solid"
         },
         "marker": {
          "symbol": "circle"
         },
         "mode": "lines",
         "name": "External",
         "orientation": "h",
         "showlegend": true,
         "type": "scatter",
         "x": [
          2022,
          2023,
          2024,
          2025
         ],
         "xaxis": "x",
         "y": [
          7070781.7,
          7001894.9,
          6933679.3,
          6866128.3
         ],
         "yaxis": "y"
        },
        {
         "hovertemplate": "",
         "legendgroup": "PolicyEngine-UK",
         "line": {
          "color": "blue",
          "dash": "solid"
         },
         "marker": {
          "symbol": "circle"
         },
         "mode": "lines",
         "name": "PolicyEngine-UK",
         "orientation": "h",
         "showlegend": true,
         "type": "scatter",
         "x": [
          2022,
          2023,
          2024,
          2025
         ],
         "xaxis": "x",
         "y": [
          7072705.9,
          7070073.5,
          7068868,
          7067632.6
         ],
         "yaxis": "y"
        },
        {
         "hovertemplate": "",
         "legendgroup": "UKMOD",
         "line": {
          "color": "lightgrey",
          "dash": "solid"
         },
         "marker": {
          "symbol": "circle"
         },
         "mode": "lines",
         "name": "UKMOD",
         "orientation": "h",
         "showlegend": true,
         "type": "scatter",
         "x": [
          2022,
          2023,
          2024,
          2025
         ],
         "xaxis": "x",
         "y": [
          7116000,
          7072000,
          7022000,
          6990000
         ],
         "yaxis": "y"
        }
       ],
       "frames": [
        {
         "data": [
          {
           "hovertemplate": "",
           "legendgroup": "External",
           "line": {
            "color": "#00cc96",
            "dash": "solid"
           },
           "marker": {
            "symbol": "circle"
           },
           "mode": "lines",
           "name": "External",
           "orientation": "h",
           "showlegend": true,
           "type": "scatter",
           "x": [
            2022,
            2023,
            2024,
            2025
           ],
           "xaxis": "x",
           "y": [
            7070781.7,
            7001894.9,
            6933679.3,
            6866128.3
           ],
           "yaxis": "y"
          },
          {
           "hovertemplate": "",
           "legendgroup": "PolicyEngine-UK",
           "line": {
            "color": "blue",
            "dash": "solid"
           },
           "marker": {
            "symbol": "circle"
           },
           "mode": "lines",
           "name": "PolicyEngine-UK",
           "orientation": "h",
           "showlegend": true,
           "type": "scatter",
           "x": [
            2022,
            2023,
            2024,
            2025
           ],
           "xaxis": "x",
           "y": [
            7072705.9,
            7070073.5,
            7068868,
            7067632.6
           ],
           "yaxis": "y"
          },
          {
           "hovertemplate": "",
           "legendgroup": "UKMOD",
           "line": {
            "color": "lightgrey",
            "dash": "solid"
           },
           "marker": {
            "symbol": "circle"
           },
           "mode": "lines",
           "name": "UKMOD",
           "orientation": "h",
           "showlegend": true,
           "type": "scatter",
           "x": [
            2022,
            2023,
            2024,
            2025
           ],
           "xaxis": "x",
           "y": [
            7116000,
            7072000,
            7022000,
            6990000
           ],
           "yaxis": "y"
          }
         ],
         "name": "Child Benefit"
        },
        {
         "data": [
          {
           "hovertemplate": "",
           "legendgroup": "External",
           "line": {
            "color": "#00cc96",
            "dash": "solid"
           },
           "marker": {
            "symbol": "circle"
           },
           "mode": "lines",
           "name": "External",
           "orientation": "h",
           "showlegend": true,
           "type": "scatter",
           "x": [
            2022,
            2023,
            2024,
            2025
           ],
           "xaxis": "x",
           "y": [
            1249737.1,
            937957.1,
            615871.7,
            279391.5
           ],
           "yaxis": "y"
          },
          {
           "hovertemplate": "",
           "legendgroup": "PolicyEngine-UK",
           "line": {
            "color": "blue",
            "dash": "solid"
           },
           "marker": {
            "symbol": "circle"
           },
           "mode": "lines",
           "name": "PolicyEngine-UK",
           "orientation": "h",
           "showlegend": true,
           "type": "scatter",
           "x": [
            2022,
            2023,
            2024,
            2025
           ],
           "xaxis": "x",
           "y": [
            1385436.3,
            1384518.3,
            1368022,
            1341607.8
           ],
           "yaxis": "y"
          },
          {
           "hovertemplate": "",
           "legendgroup": "UKMOD",
           "line": {
            "color": "lightgrey",
            "dash": "solid"
           },
           "marker": {
            "symbol": "circle"
           },
           "mode": "lines",
           "name": "UKMOD",
           "orientation": "h",
           "showlegend": true,
           "type": "scatter",
           "x": [
            2022,
            2023,
            2024,
            2025
           ],
           "xaxis": "x",
           "y": [
            1080000,
            890000,
            643000,
            292000
           ],
           "yaxis": "y"
          }
         ],
         "name": "Child Tax Credit"
        },
        {
         "data": [
          {
           "hovertemplate": "",
           "legendgroup": "External",
           "line": {
            "color": "#00cc96",
            "dash": "solid"
           },
           "marker": {
            "symbol": "circle"
           },
           "mode": "lines",
           "name": "External",
           "orientation": "h",
           "showlegend": true,
           "type": "scatter",
           "x": [
            2022,
            2023,
            2024,
            2025
           ],
           "xaxis": "x",
           "y": [
            2708000,
            2459000,
            2114000,
            1726000
           ],
           "yaxis": "y"
          },
          {
           "hovertemplate": "",
           "legendgroup": "PolicyEngine-UK",
           "line": {
            "color": "blue",
            "dash": "solid"
           },
           "marker": {
            "symbol": "circle"
           },
           "mode": "lines",
           "name": "PolicyEngine-UK",
           "orientation": "h",
           "showlegend": true,
           "type": "scatter",
           "x": [
            2022,
            2023,
            2024,
            2025
           ],
           "xaxis": "x",
           "y": [
            2784865.2,
            2687201.6,
            2682169,
            2676936.8
           ],
           "yaxis": "y"
          },
          {
           "hovertemplate": "",
           "legendgroup": "UKMOD",
           "line": {
            "color": "lightgrey",
            "dash": "solid"
           },
           "marker": {
            "symbol": "circle"
           },
           "mode": "lines",
           "name": "UKMOD",
           "orientation": "h",
           "showlegend": true,
           "type": "scatter",
           "x": [
            2022,
            2023,
            2024,
            2025
           ],
           "xaxis": "x",
           "y": [
            2262000,
            2050000,
            1783000,
            1432000
           ],
           "yaxis": "y"
          }
         ],
         "name": "Housing Benefit"
        },
        {
         "data": [
          {
           "hovertemplate": "",
           "legendgroup": "External",
           "line": {
            "color": "#00cc96",
            "dash": "solid"
           },
           "marker": {
            "symbol": "circle"
           },
           "mode": "lines",
           "name": "External",
           "orientation": "h",
           "showlegend": true,
           "type": "scatter",
           "x": [
            2022,
            2023,
            2024,
            2025
           ],
           "xaxis": "x",
           "y": [
            157000,
            116000,
            76000,
            34000
           ],
           "yaxis": "y"
          },
          {
           "hovertemplate": "",
           "legendgroup": "PolicyEngine-UK",
           "line": {
            "color": "blue",
            "dash": "solid"
           },
           "marker": {
            "symbol": "circle"
           },
           "mode": "lines",
           "name": "PolicyEngine-UK",
           "orientation": "h",
           "showlegend": true,
           "type": "scatter",
           "x": [
            2022,
            2023,
            2024,
            2025
           ],
           "xaxis": "x",
           "y": [
            152914.1,
            152914.1,
            152914.1,
            152914.1
           ],
           "yaxis": "y"
          },
          {
           "hovertemplate": "",
           "legendgroup": "UKMOD",
           "line": {
            "color": "lightgrey",
            "dash": "solid"
           },
           "marker": {
            "symbol": "circle"
           },
           "mode": "lines",
           "name": "UKMOD",
           "orientation": "h",
           "showlegend": true,
           "type": "scatter",
           "x": [
            2022,
            2023,
            2024,
            2025
           ],
           "xaxis": "x",
           "y": [
            "",
            "",
            "",
            ""
           ],
           "yaxis": "y"
          }
         ],
         "name": "Income Support"
        },
        {
         "data": [
          {
           "hovertemplate": "",
           "legendgroup": "External",
           "line": {
            "color": "#00cc96",
            "dash": "solid"
           },
           "marker": {
            "symbol": "circle"
           },
           "mode": "lines",
           "name": "External",
           "orientation": "h",
           "showlegend": true,
           "type": "scatter",
           "x": [
            2022,
            2023,
            2024,
            2025
           ],
           "xaxis": "x",
           "y": [
            31875962,
            31875962,
            31875962,
            31875962
           ],
           "yaxis": "y"
          },
          {
           "hovertemplate": "",
           "legendgroup": "PolicyEngine-UK",
           "line": {
            "color": "blue",
            "dash": "solid"
           },
           "marker": {
            "symbol": "circle"
           },
           "mode": "lines",
           "name": "PolicyEngine-UK",
           "orientation": "h",
           "showlegend": true,
           "type": "scatter",
           "x": [
            2022,
            2023,
            2024,
            2025
           ],
           "xaxis": "x",
           "y": [
            30310914.7,
            30834652,
            31567205.2,
            32202659.1
           ],
           "yaxis": "y"
          },
          {
           "hovertemplate": "",
           "legendgroup": "UKMOD",
           "line": {
            "color": "lightgrey",
            "dash": "solid"
           },
           "marker": {
            "symbol": "circle"
           },
           "mode": "lines",
           "name": "UKMOD",
           "orientation": "h",
           "showlegend": true,
           "type": "scatter",
           "x": [
            2022,
            2023,
            2024,
            2025
           ],
           "xaxis": "x",
           "y": [
            30011000,
            30583000,
            30939000,
            31466000
           ],
           "yaxis": "y"
          }
         ],
         "name": "Income Tax"
        },
        {
         "data": [
          {
           "hovertemplate": "",
           "legendgroup": "External",
           "line": {
            "color": "#00cc96",
            "dash": "solid"
           },
           "marker": {
            "symbol": "circle"
           },
           "mode": "lines",
           "name": "External",
           "orientation": "h",
           "showlegend": true,
           "type": "scatter",
           "x": [
            2022,
            2023,
            2024,
            2025
           ],
           "xaxis": "x",
           "y": [
            44000,
            5000,
            0,
            0
           ],
           "yaxis": "y"
          },
          {
           "hovertemplate": "",
           "legendgroup": "PolicyEngine-UK",
           "line": {
            "color": "blue",
            "dash": "solid"
           },
           "marker": {
            "symbol": "circle"
           },
           "mode": "lines",
           "name": "PolicyEngine-UK",
           "orientation": "h",
           "showlegend": true,
           "type": "scatter",
           "x": [
            2022,
            2023,
            2024,
            2025
           ],
           "xaxis": "x",
           "y": [
            53949.9,
            53949.9,
            53949.9,
            53949.9
           ],
           "yaxis": "y"
          },
          {
           "hovertemplate": "",
           "legendgroup": "UKMOD",
           "line": {
            "color": "lightgrey",
            "dash": "solid"
           },
           "marker": {
            "symbol": "circle"
           },
           "mode": "lines",
           "name": "UKMOD",
           "orientation": "h",
           "showlegend": true,
           "type": "scatter",
           "x": [
            2022,
            2023,
            2024,
            2025
           ],
           "xaxis": "x",
           "y": [
            "",
            "",
            "",
            ""
           ],
           "yaxis": "y"
          }
         ],
         "name": "JSA (income-based)"
        },
        {
         "data": [
          {
           "hovertemplate": "",
           "legendgroup": "External",
           "line": {
            "color": "#00cc96",
            "dash": "solid"
           },
           "marker": {
            "symbol": "circle"
           },
           "mode": "lines",
           "name": "External",
           "orientation": "h",
           "showlegend": true,
           "type": "scatter",
           "x": [
            2022,
            2023,
            2024,
            2025
           ],
           "xaxis": "x",
           "y": [
            "",
            "",
            "",
            ""
           ],
           "yaxis": "y"
          },
          {
           "hovertemplate": "",
           "legendgroup": "PolicyEngine-UK",
           "line": {
            "color": "blue",
            "dash": "solid"
           },
           "marker": {
            "symbol": "circle"
           },
           "mode": "lines",
           "name": "PolicyEngine-UK",
           "orientation": "h",
           "showlegend": true,
           "type": "scatter",
           "x": [
            2022,
            2023,
            2024,
            2025
           ],
           "xaxis": "x",
           "y": [
            26435871.1,
            26462268.3,
            26941196.9,
            27296705
           ],
           "yaxis": "y"
          },
          {
           "hovertemplate": "",
           "legendgroup": "UKMOD",
           "line": {
            "color": "lightgrey",
            "dash": "solid"
           },
           "marker": {
            "symbol": "circle"
           },
           "mode": "lines",
           "name": "UKMOD",
           "orientation": "h",
           "showlegend": true,
           "type": "scatter",
           "x": [
            2022,
            2023,
            2024,
            2025
           ],
           "xaxis": "x",
           "y": [
            26084000,
            26194000,
            26239000,
            26271000
           ],
           "yaxis": "y"
          }
         ],
         "name": "National Insurance (total)"
        },
        {
         "data": [
          {
           "hovertemplate": "",
           "legendgroup": "External",
           "line": {
            "color": "#00cc96",
            "dash": "solid"
           },
           "marker": {
            "symbol": "circle"
           },
           "mode": "lines",
           "name": "External",
           "orientation": "h",
           "showlegend": true,
           "type": "scatter",
           "x": [
            2022,
            2023,
            2024,
            2025
           ],
           "xaxis": "x",
           "y": [
            1406000,
            1341000,
            1284000,
            1233000
           ],
           "yaxis": "y"
          },
          {
           "hovertemplate": "",
           "legendgroup": "PolicyEngine-UK",
           "line": {
            "color": "blue",
            "dash": "solid"
           },
           "marker": {
            "symbol": "circle"
           },
           "mode": "lines",
           "name": "PolicyEngine-UK",
           "orientation": "h",
           "showlegend": true,
           "type": "scatter",
           "x": [
            2022,
            2023,
            2024,
            2025
           ],
           "xaxis": "x",
           "y": [
            1783101.7,
            1731826.8,
            1591382.2,
            1498311.2
           ],
           "yaxis": "y"
          },
          {
           "hovertemplate": "",
           "legendgroup": "UKMOD",
           "line": {
            "color": "lightgrey",
            "dash": "solid"
           },
           "marker": {
            "symbol": "circle"
           },
           "mode": "lines",
           "name": "UKMOD",
           "orientation": "h",
           "showlegend": true,
           "type": "scatter",
           "x": [
            2022,
            2023,
            2024,
            2025
           ],
           "xaxis": "x",
           "y": [
            1413000,
            1445000,
            1442000,
            1417000
           ],
           "yaxis": "y"
          }
         ],
         "name": "Pension Credit"
        },
        {
         "data": [
          {
           "hovertemplate": "",
           "legendgroup": "External",
           "line": {
            "color": "#00cc96",
            "dash": "solid"
           },
           "marker": {
            "symbol": "circle"
           },
           "mode": "lines",
           "name": "External",
           "orientation": "h",
           "showlegend": true,
           "type": "scatter",
           "x": [
            2022,
            2023,
            2024,
            2025
           ],
           "xaxis": "x",
           "y": [
            4649000,
            5048000,
            5605000,
            6285000
           ],
           "yaxis": "y"
          },
          {
           "hovertemplate": "",
           "legendgroup": "PolicyEngine-UK",
           "line": {
            "color": "blue",
            "dash": "solid"
           },
           "marker": {
            "symbol": "circle"
           },
           "mode": "lines",
           "name": "PolicyEngine-UK",
           "orientation": "h",
           "showlegend": true,
           "type": "scatter",
           "x": [
            2022,
            2023,
            2024,
            2025
           ],
           "xaxis": "x",
           "y": [
            4918402.5,
            4776127.4,
            4715628.6,
            4658106.4
           ],
           "yaxis": "y"
          },
          {
           "hovertemplate": "",
           "legendgroup": "UKMOD",
           "line": {
            "color": "lightgrey",
            "dash": "solid"
           },
           "marker": {
            "symbol": "circle"
           },
           "mode": "lines",
           "name": "UKMOD",
           "orientation": "h",
           "showlegend": true,
           "type": "scatter",
           "x": [
            2022,
            2023,
            2024,
            2025
           ],
           "xaxis": "x",
           "y": [
            4214000,
            4656000,
            5311000,
            6146000
           ],
           "yaxis": "y"
          }
         ],
         "name": "Universal Credit"
        },
        {
         "data": [
          {
           "hovertemplate": "",
           "legendgroup": "External",
           "line": {
            "color": "#00cc96",
            "dash": "solid"
           },
           "marker": {
            "symbol": "circle"
           },
           "mode": "lines",
           "name": "External",
           "orientation": "h",
           "showlegend": true,
           "type": "scatter",
           "x": [
            2022,
            2023,
            2024,
            2025
           ],
           "xaxis": "x",
           "y": [
            773858.5,
            580799.1,
            381358.3,
            173004
           ],
           "yaxis": "y"
          },
          {
           "hovertemplate": "",
           "legendgroup": "PolicyEngine-UK",
           "line": {
            "color": "blue",
            "dash": "solid"
           },
           "marker": {
            "symbol": "circle"
           },
           "mode": "lines",
           "name": "PolicyEngine-UK",
           "orientation": "h",
           "showlegend": true,
           "type": "scatter",
           "x": [
            2022,
            2023,
            2024,
            2025
           ],
           "xaxis": "x",
           "y": [
            1088063.8,
            1089381.8,
            1074507.4,
            1054702.2
           ],
           "yaxis": "y"
          },
          {
           "hovertemplate": "",
           "legendgroup": "UKMOD",
           "line": {
            "color": "lightgrey",
            "dash": "solid"
           },
           "marker": {
            "symbol": "circle"
           },
           "mode": "lines",
           "name": "UKMOD",
           "orientation": "h",
           "showlegend": true,
           "type": "scatter",
           "x": [
            2022,
            2023,
            2024,
            2025
           ],
           "xaxis": "x",
           "y": [
            540000,
            443000,
            297000,
            129000
           ],
           "yaxis": "y"
          }
         ],
         "name": "Working Tax Credit"
        },
        {
         "data": [
          {
           "hovertemplate": "",
           "legendgroup": "External",
           "line": {
            "color": "#00cc96",
            "dash": "solid"
           },
           "marker": {
            "symbol": "circle"
           },
           "mode": "lines",
           "name": "External",
           "orientation": "h",
           "showlegend": true,
           "type": "scatter",
           "x": [
            2022,
            2023,
            2024,
            2025
           ],
           "xaxis": "x",
           "y": [
            "",
            "",
            "",
            ""
           ],
           "yaxis": "y"
          },
          {
           "hovertemplate": "",
           "legendgroup": "PolicyEngine-UK",
           "line": {
            "color": "blue",
            "dash": "solid"
           },
           "marker": {
            "symbol": "circle"
           },
           "mode": "lines",
           "name": "PolicyEngine-UK",
           "orientation": "h",
           "showlegend": true,
           "type": "scatter",
           "x": [
            2022,
            2023,
            2024,
            2025
           ],
           "xaxis": "x",
           "y": [
            5591899.4,
            5591899.4,
            5591899.4,
            5591899.4
           ],
           "yaxis": "y"
          },
          {
           "hovertemplate": "",
           "legendgroup": "UKMOD",
           "line": {
            "color": "lightgrey",
            "dash": "solid"
           },
           "marker": {
            "symbol": "circle"
           },
           "mode": "lines",
           "name": "UKMOD",
           "orientation": "h",
           "showlegend": true,
           "type": "scatter",
           "x": [
            2022,
            2023,
            2024,
            2025
           ],
           "xaxis": "x",
           "y": [
            "",
            "",
            "",
            ""
           ],
           "yaxis": "y"
          }
         ],
         "name": "dividend income"
        },
        {
         "data": [
          {
           "hovertemplate": "",
           "legendgroup": "External",
           "line": {
            "color": "#00cc96",
            "dash": "solid"
           },
           "marker": {
            "symbol": "circle"
           },
           "mode": "lines",
           "name": "External",
           "orientation": "h",
           "showlegend": true,
           "type": "scatter",
           "x": [
            2022,
            2023,
            2024,
            2025
           ],
           "xaxis": "x",
           "y": [
            "",
            "",
            "",
            ""
           ],
           "yaxis": "y"
          },
          {
           "hovertemplate": "",
           "legendgroup": "PolicyEngine-UK",
           "line": {
            "color": "blue",
            "dash": "solid"
           },
           "marker": {
            "symbol": "circle"
           },
           "mode": "lines",
           "name": "PolicyEngine-UK",
           "orientation": "h",
           "showlegend": true,
           "type": "scatter",
           "x": [
            2022,
            2023,
            2024,
            2025
           ],
           "xaxis": "x",
           "y": [
            29273286.1,
            29273286.1,
            29273286.1,
            29273286.1
           ],
           "yaxis": "y"
          },
          {
           "hovertemplate": "",
           "legendgroup": "UKMOD",
           "line": {
            "color": "lightgrey",
            "dash": "solid"
           },
           "marker": {
            "symbol": "circle"
           },
           "mode": "lines",
           "name": "UKMOD",
           "orientation": "h",
           "showlegend": true,
           "type": "scatter",
           "x": [
            2022,
            2023,
            2024,
            2025
           ],
           "xaxis": "x",
           "y": [
            "",
            "",
            "",
            ""
           ],
           "yaxis": "y"
          }
         ],
         "name": "employment income"
        },
        {
         "data": [
          {
           "hovertemplate": "",
           "legendgroup": "External",
           "line": {
            "color": "#00cc96",
            "dash": "solid"
           },
           "marker": {
            "symbol": "circle"
           },
           "mode": "lines",
           "name": "External",
           "orientation": "h",
           "showlegend": true,
           "type": "scatter",
           "x": [
            2022,
            2023,
            2024,
            2025
           ],
           "xaxis": "x",
           "y": [
            "",
            "",
            "",
            ""
           ],
           "yaxis": "y"
          },
          {
           "hovertemplate": "",
           "legendgroup": "PolicyEngine-UK",
           "line": {
            "color": "blue",
            "dash": "solid"
           },
           "marker": {
            "symbol": "circle"
           },
           "mode": "lines",
           "name": "PolicyEngine-UK",
           "orientation": "h",
           "showlegend": true,
           "type": "scatter",
           "x": [
            2022,
            2023,
            2024,
            2025
           ],
           "xaxis": "x",
           "y": [
            11413176.1,
            11413176.1,
            11413176.1,
            11413176.1
           ],
           "yaxis": "y"
          },
          {
           "hovertemplate": "",
           "legendgroup": "UKMOD",
           "line": {
            "color": "lightgrey",
            "dash": "solid"
           },
           "marker": {
            "symbol": "circle"
           },
           "mode": "lines",
           "name": "UKMOD",
           "orientation": "h",
           "showlegend": true,
           "type": "scatter",
           "x": [
            2022,
            2023,
            2024,
            2025
           ],
           "xaxis": "x",
           "y": [
            "",
            "",
            "",
            ""
           ],
           "yaxis": "y"
          }
         ],
         "name": "pension income"
        },
        {
         "data": [
          {
           "hovertemplate": "",
           "legendgroup": "External",
           "line": {
            "color": "#00cc96",
            "dash": "solid"
           },
           "marker": {
            "symbol": "circle"
           },
           "mode": "lines",
           "name": "External",
           "orientation": "h",
           "showlegend": true,
           "type": "scatter",
           "x": [
            2022,
            2023,
            2024,
            2025
           ],
           "xaxis": "x",
           "y": [
            "",
            "",
            "",
            ""
           ],
           "yaxis": "y"
          },
          {
           "hovertemplate": "",
           "legendgroup": "PolicyEngine-UK",
           "line": {
            "color": "blue",
            "dash": "solid"
           },
           "marker": {
            "symbol": "circle"
           },
           "mode": "lines",
           "name": "PolicyEngine-UK",
           "orientation": "h",
           "showlegend": true,
           "type": "scatter",
           "x": [
            2022,
            2023,
            2024,
            2025
           ],
           "xaxis": "x",
           "y": [
            2606127.6,
            2606127.6,
            2606127.6,
            2606127.6
           ],
           "yaxis": "y"
          },
          {
           "hovertemplate": "",
           "legendgroup": "UKMOD",
           "line": {
            "color": "lightgrey",
            "dash": "solid"
           },
           "marker": {
            "symbol": "circle"
           },
           "mode": "lines",
           "name": "UKMOD",
           "orientation": "h",
           "showlegend": true,
           "type": "scatter",
           "x": [
            2022,
            2023,
            2024,
            2025
           ],
           "xaxis": "x",
           "y": [
            "",
            "",
            "",
            ""
           ],
           "yaxis": "y"
          }
         ],
         "name": "rental income"
        },
        {
         "data": [
          {
           "hovertemplate": "",
           "legendgroup": "External",
           "line": {
            "color": "#00cc96",
            "dash": "solid"
           },
           "marker": {
            "symbol": "circle"
           },
           "mode": "lines",
           "name": "External",
           "orientation": "h",
           "showlegend": true,
           "type": "scatter",
           "x": [
            2022,
            2023,
            2024,
            2025
           ],
           "xaxis": "x",
           "y": [
            "",
            "",
            "",
            ""
           ],
           "yaxis": "y"
          },
          {
           "hovertemplate": "",
           "legendgroup": "PolicyEngine-UK",
           "line": {
            "color": "blue",
            "dash": "solid"
           },
           "marker": {
            "symbol": "circle"
           },
           "mode": "lines",
           "name": "PolicyEngine-UK",
           "orientation": "h",
           "showlegend": true,
           "type": "scatter",
           "x": [
            2022,
            2023,
            2024,
            2025
           ],
           "xaxis": "x",
           "y": [
            21199290.6,
            21199290.6,
            21199290.6,
            21199290.6
           ],
           "yaxis": "y"
          },
          {
           "hovertemplate": "",
           "legendgroup": "UKMOD",
           "line": {
            "color": "lightgrey",
            "dash": "solid"
           },
           "marker": {
            "symbol": "circle"
           },
           "mode": "lines",
           "name": "UKMOD",
           "orientation": "h",
           "showlegend": true,
           "type": "scatter",
           "x": [
            2022,
            2023,
            2024,
            2025
           ],
           "xaxis": "x",
           "y": [
            "",
            "",
            "",
            ""
           ],
           "yaxis": "y"
          }
         ],
         "name": "savings interest income"
        },
        {
         "data": [
          {
           "hovertemplate": "",
           "legendgroup": "External",
           "line": {
            "color": "#00cc96",
            "dash": "solid"
           },
           "marker": {
            "symbol": "circle"
           },
           "mode": "lines",
           "name": "External",
           "orientation": "h",
           "showlegend": true,
           "type": "scatter",
           "x": [
            2022,
            2023,
            2024,
            2025
           ],
           "xaxis": "x",
           "y": [
            "",
            "",
            "",
            ""
           ],
           "yaxis": "y"
          },
          {
           "hovertemplate": "",
           "legendgroup": "PolicyEngine-UK",
           "line": {
            "color": "blue",
            "dash": "solid"
           },
           "marker": {
            "symbol": "circle"
           },
           "mode": "lines",
           "name": "PolicyEngine-UK",
           "orientation": "h",
           "showlegend": true,
           "type": "scatter",
           "x": [
            2022,
            2023,
            2024,
            2025
           ],
           "xaxis": "x",
           "y": [
            3275276.8,
            3275276.8,
            3275276.8,
            3275276.8
           ],
           "yaxis": "y"
          },
          {
           "hovertemplate": "",
           "legendgroup": "UKMOD",
           "line": {
            "color": "lightgrey",
            "dash": "solid"
           },
           "marker": {
            "symbol": "circle"
           },
           "mode": "lines",
           "name": "UKMOD",
           "orientation": "h",
           "showlegend": true,
           "type": "scatter",
           "x": [
            2022,
            2023,
            2024,
            2025
           ],
           "xaxis": "x",
           "y": [
            "",
            "",
            "",
            ""
           ],
           "yaxis": "y"
          }
         ],
         "name": "self-employment income"
        }
       ],
       "layout": {
        "height": 600,
        "legend": {
         "title": {
          "text": "Model"
         },
         "tracegroupgap": 0,
         "traceorder": "reversed"
        },
        "margin": {
         "t": 60
        },
        "sliders": [
         {
          "active": 0,
          "currentvalue": {
           "prefix": "Program="
          },
          "len": 0.9,
          "pad": {
           "b": 10,
           "t": 60
          },
          "steps": [
           {
            "args": [
             [
              "Child Benefit"
             ],
             {
              "frame": {
               "duration": 0,
               "redraw": false
              },
              "fromcurrent": true,
              "mode": "immediate",
              "transition": {
               "duration": 0,
               "easing": "linear"
              }
             }
            ],
            "label": "Child Benefit",
            "method": "animate"
           },
           {
            "args": [
             [
              "Child Tax Credit"
             ],
             {
              "frame": {
               "duration": 0,
               "redraw": false
              },
              "fromcurrent": true,
              "mode": "immediate",
              "transition": {
               "duration": 0,
               "easing": "linear"
              }
             }
            ],
            "label": "Child Tax Credit",
            "method": "animate"
           },
           {
            "args": [
             [
              "Housing Benefit"
             ],
             {
              "frame": {
               "duration": 0,
               "redraw": false
              },
              "fromcurrent": true,
              "mode": "immediate",
              "transition": {
               "duration": 0,
               "easing": "linear"
              }
             }
            ],
            "label": "Housing Benefit",
            "method": "animate"
           },
           {
            "args": [
             [
              "Income Support"
             ],
             {
              "frame": {
               "duration": 0,
               "redraw": false
              },
              "fromcurrent": true,
              "mode": "immediate",
              "transition": {
               "duration": 0,
               "easing": "linear"
              }
             }
            ],
            "label": "Income Support",
            "method": "animate"
           },
           {
            "args": [
             [
              "Income Tax"
             ],
             {
              "frame": {
               "duration": 0,
               "redraw": false
              },
              "fromcurrent": true,
              "mode": "immediate",
              "transition": {
               "duration": 0,
               "easing": "linear"
              }
             }
            ],
            "label": "Income Tax",
            "method": "animate"
           },
           {
            "args": [
             [
              "JSA (income-based)"
             ],
             {
              "frame": {
               "duration": 0,
               "redraw": false
              },
              "fromcurrent": true,
              "mode": "immediate",
              "transition": {
               "duration": 0,
               "easing": "linear"
              }
             }
            ],
            "label": "JSA (income-based)",
            "method": "animate"
           },
           {
            "args": [
             [
              "National Insurance (total)"
             ],
             {
              "frame": {
               "duration": 0,
               "redraw": false
              },
              "fromcurrent": true,
              "mode": "immediate",
              "transition": {
               "duration": 0,
               "easing": "linear"
              }
             }
            ],
            "label": "National Insurance (total)",
            "method": "animate"
           },
           {
            "args": [
             [
              "Pension Credit"
             ],
             {
              "frame": {
               "duration": 0,
               "redraw": false
              },
              "fromcurrent": true,
              "mode": "immediate",
              "transition": {
               "duration": 0,
               "easing": "linear"
              }
             }
            ],
            "label": "Pension Credit",
            "method": "animate"
           },
           {
            "args": [
             [
              "Universal Credit"
             ],
             {
              "frame": {
               "duration": 0,
               "redraw": false
              },
              "fromcurrent": true,
              "mode": "immediate",
              "transition": {
               "duration": 0,
               "easing": "linear"
              }
             }
            ],
            "label": "Universal Credit",
            "method": "animate"
           },
           {
            "args": [
             [
              "Working Tax Credit"
             ],
             {
              "frame": {
               "duration": 0,
               "redraw": false
              },
              "fromcurrent": true,
              "mode": "immediate",
              "transition": {
               "duration": 0,
               "easing": "linear"
              }
             }
            ],
            "label": "Working Tax Credit",
            "method": "animate"
           },
           {
            "args": [
             [
              "dividend income"
             ],
             {
              "frame": {
               "duration": 0,
               "redraw": false
              },
              "fromcurrent": true,
              "mode": "immediate",
              "transition": {
               "duration": 0,
               "easing": "linear"
              }
             }
            ],
            "label": "dividend income",
            "method": "animate"
           },
           {
            "args": [
             [
              "employment income"
             ],
             {
              "frame": {
               "duration": 0,
               "redraw": false
              },
              "fromcurrent": true,
              "mode": "immediate",
              "transition": {
               "duration": 0,
               "easing": "linear"
              }
             }
            ],
            "label": "employment income",
            "method": "animate"
           },
           {
            "args": [
             [
              "pension income"
             ],
             {
              "frame": {
               "duration": 0,
               "redraw": false
              },
              "fromcurrent": true,
              "mode": "immediate",
              "transition": {
               "duration": 0,
               "easing": "linear"
              }
             }
            ],
            "label": "pension income",
            "method": "animate"
           },
           {
            "args": [
             [
              "rental income"
             ],
             {
              "frame": {
               "duration": 0,
               "redraw": false
              },
              "fromcurrent": true,
              "mode": "immediate",
              "transition": {
               "duration": 0,
               "easing": "linear"
              }
             }
            ],
            "label": "rental income",
            "method": "animate"
           },
           {
            "args": [
             [
              "savings interest income"
             ],
             {
              "frame": {
               "duration": 0,
               "redraw": false
              },
              "fromcurrent": true,
              "mode": "immediate",
              "transition": {
               "duration": 0,
               "easing": "linear"
              }
             }
            ],
            "label": "savings interest income",
            "method": "animate"
           },
           {
            "args": [
             [
              "self-employment income"
             ],
             {
              "frame": {
               "duration": 0,
               "redraw": false
              },
              "fromcurrent": true,
              "mode": "immediate",
              "transition": {
               "duration": 0,
               "easing": "linear"
              }
             }
            ],
            "label": "self-employment income",
            "method": "animate"
           }
          ],
          "x": 0.1,
          "xanchor": "left",
          "y": 0,
          "yanchor": "top"
         }
        ],
        "template": {
         "data": {
          "bar": [
           {
            "error_x": {
             "color": "#2a3f5f"
            },
            "error_y": {
             "color": "#2a3f5f"
            },
            "marker": {
             "line": {
              "color": "white",
              "width": 0.5
             },
             "pattern": {
              "fillmode": "overlay",
              "size": 10,
              "solidity": 0.2
             }
            },
            "type": "bar"
           }
          ],
          "barpolar": [
           {
            "marker": {
             "line": {
              "color": "white",
              "width": 0.5
             },
             "pattern": {
              "fillmode": "overlay",
              "size": 10,
              "solidity": 0.2
             }
            },
            "type": "barpolar"
           }
          ],
          "carpet": [
           {
            "aaxis": {
             "endlinecolor": "#2a3f5f",
             "gridcolor": "#C8D4E3",
             "linecolor": "#C8D4E3",
             "minorgridcolor": "#C8D4E3",
             "startlinecolor": "#2a3f5f"
            },
            "baxis": {
             "endlinecolor": "#2a3f5f",
             "gridcolor": "#C8D4E3",
             "linecolor": "#C8D4E3",
             "minorgridcolor": "#C8D4E3",
             "startlinecolor": "#2a3f5f"
            },
            "type": "carpet"
           }
          ],
          "choropleth": [
           {
            "colorbar": {
             "outlinewidth": 0,
             "ticks": ""
            },
            "type": "choropleth"
           }
          ],
          "contour": [
           {
            "colorbar": {
             "outlinewidth": 0,
             "ticks": ""
            },
            "colorscale": [
             [
              0,
              "#0d0887"
             ],
             [
              0.1111111111111111,
              "#46039f"
             ],
             [
              0.2222222222222222,
              "#7201a8"
             ],
             [
              0.3333333333333333,
              "#9c179e"
             ],
             [
              0.4444444444444444,
              "#bd3786"
             ],
             [
              0.5555555555555556,
              "#d8576b"
             ],
             [
              0.6666666666666666,
              "#ed7953"
             ],
             [
              0.7777777777777778,
              "#fb9f3a"
             ],
             [
              0.8888888888888888,
              "#fdca26"
             ],
             [
              1,
              "#f0f921"
             ]
            ],
            "type": "contour"
           }
          ],
          "contourcarpet": [
           {
            "colorbar": {
             "outlinewidth": 0,
             "ticks": ""
            },
            "type": "contourcarpet"
           }
          ],
          "heatmap": [
           {
            "colorbar": {
             "outlinewidth": 0,
             "ticks": ""
            },
            "colorscale": [
             [
              0,
              "#0d0887"
             ],
             [
              0.1111111111111111,
              "#46039f"
             ],
             [
              0.2222222222222222,
              "#7201a8"
             ],
             [
              0.3333333333333333,
              "#9c179e"
             ],
             [
              0.4444444444444444,
              "#bd3786"
             ],
             [
              0.5555555555555556,
              "#d8576b"
             ],
             [
              0.6666666666666666,
              "#ed7953"
             ],
             [
              0.7777777777777778,
              "#fb9f3a"
             ],
             [
              0.8888888888888888,
              "#fdca26"
             ],
             [
              1,
              "#f0f921"
             ]
            ],
            "type": "heatmap"
           }
          ],
          "heatmapgl": [
           {
            "colorbar": {
             "outlinewidth": 0,
             "ticks": ""
            },
            "colorscale": [
             [
              0,
              "#0d0887"
             ],
             [
              0.1111111111111111,
              "#46039f"
             ],
             [
              0.2222222222222222,
              "#7201a8"
             ],
             [
              0.3333333333333333,
              "#9c179e"
             ],
             [
              0.4444444444444444,
              "#bd3786"
             ],
             [
              0.5555555555555556,
              "#d8576b"
             ],
             [
              0.6666666666666666,
              "#ed7953"
             ],
             [
              0.7777777777777778,
              "#fb9f3a"
             ],
             [
              0.8888888888888888,
              "#fdca26"
             ],
             [
              1,
              "#f0f921"
             ]
            ],
            "type": "heatmapgl"
           }
          ],
          "histogram": [
           {
            "marker": {
             "pattern": {
              "fillmode": "overlay",
              "size": 10,
              "solidity": 0.2
             }
            },
            "type": "histogram"
           }
          ],
          "histogram2d": [
           {
            "colorbar": {
             "outlinewidth": 0,
             "ticks": ""
            },
            "colorscale": [
             [
              0,
              "#0d0887"
             ],
             [
              0.1111111111111111,
              "#46039f"
             ],
             [
              0.2222222222222222,
              "#7201a8"
             ],
             [
              0.3333333333333333,
              "#9c179e"
             ],
             [
              0.4444444444444444,
              "#bd3786"
             ],
             [
              0.5555555555555556,
              "#d8576b"
             ],
             [
              0.6666666666666666,
              "#ed7953"
             ],
             [
              0.7777777777777778,
              "#fb9f3a"
             ],
             [
              0.8888888888888888,
              "#fdca26"
             ],
             [
              1,
              "#f0f921"
             ]
            ],
            "type": "histogram2d"
           }
          ],
          "histogram2dcontour": [
           {
            "colorbar": {
             "outlinewidth": 0,
             "ticks": ""
            },
            "colorscale": [
             [
              0,
              "#0d0887"
             ],
             [
              0.1111111111111111,
              "#46039f"
             ],
             [
              0.2222222222222222,
              "#7201a8"
             ],
             [
              0.3333333333333333,
              "#9c179e"
             ],
             [
              0.4444444444444444,
              "#bd3786"
             ],
             [
              0.5555555555555556,
              "#d8576b"
             ],
             [
              0.6666666666666666,
              "#ed7953"
             ],
             [
              0.7777777777777778,
              "#fb9f3a"
             ],
             [
              0.8888888888888888,
              "#fdca26"
             ],
             [
              1,
              "#f0f921"
             ]
            ],
            "type": "histogram2dcontour"
           }
          ],
          "mesh3d": [
           {
            "colorbar": {
             "outlinewidth": 0,
             "ticks": ""
            },
            "type": "mesh3d"
           }
          ],
          "parcoords": [
           {
            "line": {
             "colorbar": {
              "outlinewidth": 0,
              "ticks": ""
             }
            },
            "type": "parcoords"
           }
          ],
          "pie": [
           {
            "automargin": true,
            "type": "pie"
           }
          ],
          "scatter": [
           {
            "fillpattern": {
             "fillmode": "overlay",
             "size": 10,
             "solidity": 0.2
            },
            "type": "scatter"
           }
          ],
          "scatter3d": [
           {
            "line": {
             "colorbar": {
              "outlinewidth": 0,
              "ticks": ""
             }
            },
            "marker": {
             "colorbar": {
              "outlinewidth": 0,
              "ticks": ""
             }
            },
            "type": "scatter3d"
           }
          ],
          "scattercarpet": [
           {
            "marker": {
             "colorbar": {
              "outlinewidth": 0,
              "ticks": ""
             }
            },
            "type": "scattercarpet"
           }
          ],
          "scattergeo": [
           {
            "marker": {
             "colorbar": {
              "outlinewidth": 0,
              "ticks": ""
             }
            },
            "type": "scattergeo"
           }
          ],
          "scattergl": [
           {
            "marker": {
             "colorbar": {
              "outlinewidth": 0,
              "ticks": ""
             }
            },
            "type": "scattergl"
           }
          ],
          "scattermapbox": [
           {
            "marker": {
             "colorbar": {
              "outlinewidth": 0,
              "ticks": ""
             }
            },
            "type": "scattermapbox"
           }
          ],
          "scatterpolar": [
           {
            "marker": {
             "colorbar": {
              "outlinewidth": 0,
              "ticks": ""
             }
            },
            "type": "scatterpolar"
           }
          ],
          "scatterpolargl": [
           {
            "marker": {
             "colorbar": {
              "outlinewidth": 0,
              "ticks": ""
             }
            },
            "type": "scatterpolargl"
           }
          ],
          "scatterternary": [
           {
            "marker": {
             "colorbar": {
              "outlinewidth": 0,
              "ticks": ""
             }
            },
            "type": "scatterternary"
           }
          ],
          "surface": [
           {
            "colorbar": {
             "outlinewidth": 0,
             "ticks": ""
            },
            "colorscale": [
             [
              0,
              "#0d0887"
             ],
             [
              0.1111111111111111,
              "#46039f"
             ],
             [
              0.2222222222222222,
              "#7201a8"
             ],
             [
              0.3333333333333333,
              "#9c179e"
             ],
             [
              0.4444444444444444,
              "#bd3786"
             ],
             [
              0.5555555555555556,
              "#d8576b"
             ],
             [
              0.6666666666666666,
              "#ed7953"
             ],
             [
              0.7777777777777778,
              "#fb9f3a"
             ],
             [
              0.8888888888888888,
              "#fdca26"
             ],
             [
              1,
              "#f0f921"
             ]
            ],
            "type": "surface"
           }
          ],
          "table": [
           {
            "cells": {
             "fill": {
              "color": "#EBF0F8"
             },
             "line": {
              "color": "white"
             }
            },
            "header": {
             "fill": {
              "color": "#C8D4E3"
             },
             "line": {
              "color": "white"
             }
            },
            "type": "table"
           }
          ]
         },
         "layout": {
          "annotationdefaults": {
           "arrowcolor": "#2a3f5f",
           "arrowhead": 0,
           "arrowwidth": 1
          },
          "autotypenumbers": "strict",
          "coloraxis": {
           "colorbar": {
            "outlinewidth": 0,
            "ticks": ""
           }
          },
          "colorscale": {
           "diverging": [
            [
             0,
             "#8e0152"
            ],
            [
             0.1,
             "#c51b7d"
            ],
            [
             0.2,
             "#de77ae"
            ],
            [
             0.3,
             "#f1b6da"
            ],
            [
             0.4,
             "#fde0ef"
            ],
            [
             0.5,
             "#f7f7f7"
            ],
            [
             0.6,
             "#e6f5d0"
            ],
            [
             0.7,
             "#b8e186"
            ],
            [
             0.8,
             "#7fbc41"
            ],
            [
             0.9,
             "#4d9221"
            ],
            [
             1,
             "#276419"
            ]
           ],
           "sequential": [
            [
             0,
             "#0d0887"
            ],
            [
             0.1111111111111111,
             "#46039f"
            ],
            [
             0.2222222222222222,
             "#7201a8"
            ],
            [
             0.3333333333333333,
             "#9c179e"
            ],
            [
             0.4444444444444444,
             "#bd3786"
            ],
            [
             0.5555555555555556,
             "#d8576b"
            ],
            [
             0.6666666666666666,
             "#ed7953"
            ],
            [
             0.7777777777777778,
             "#fb9f3a"
            ],
            [
             0.8888888888888888,
             "#fdca26"
            ],
            [
             1,
             "#f0f921"
            ]
           ],
           "sequentialminus": [
            [
             0,
             "#0d0887"
            ],
            [
             0.1111111111111111,
             "#46039f"
            ],
            [
             0.2222222222222222,
             "#7201a8"
            ],
            [
             0.3333333333333333,
             "#9c179e"
            ],
            [
             0.4444444444444444,
             "#bd3786"
            ],
            [
             0.5555555555555556,
             "#d8576b"
            ],
            [
             0.6666666666666666,
             "#ed7953"
            ],
            [
             0.7777777777777778,
             "#fb9f3a"
            ],
            [
             0.8888888888888888,
             "#fdca26"
            ],
            [
             1,
             "#f0f921"
            ]
           ]
          },
          "colorway": [
           "#636efa",
           "#EF553B",
           "#00cc96",
           "#ab63fa",
           "#FFA15A",
           "#19d3f3",
           "#FF6692",
           "#B6E880",
           "#FF97FF",
           "#FECB52"
          ],
          "font": {
           "color": "#2a3f5f"
          },
          "geo": {
           "bgcolor": "white",
           "lakecolor": "white",
           "landcolor": "white",
           "showlakes": true,
           "showland": true,
           "subunitcolor": "#C8D4E3"
          },
          "hoverlabel": {
           "align": "left"
          },
          "hovermode": "closest",
          "mapbox": {
           "style": "light"
          },
          "paper_bgcolor": "white",
          "plot_bgcolor": "white",
          "polar": {
           "angularaxis": {
            "gridcolor": "#EBF0F8",
            "linecolor": "#EBF0F8",
            "ticks": ""
           },
           "bgcolor": "white",
           "radialaxis": {
            "gridcolor": "#EBF0F8",
            "linecolor": "#EBF0F8",
            "ticks": ""
           }
          },
          "scene": {
           "xaxis": {
            "backgroundcolor": "white",
            "gridcolor": "#DFE8F3",
            "gridwidth": 2,
            "linecolor": "#EBF0F8",
            "showbackground": true,
            "ticks": "",
            "zerolinecolor": "#EBF0F8"
           },
           "yaxis": {
            "backgroundcolor": "white",
            "gridcolor": "#DFE8F3",
            "gridwidth": 2,
            "linecolor": "#EBF0F8",
            "showbackground": true,
            "ticks": "",
            "zerolinecolor": "#EBF0F8"
           },
           "zaxis": {
            "backgroundcolor": "white",
            "gridcolor": "#DFE8F3",
            "gridwidth": 2,
            "linecolor": "#EBF0F8",
            "showbackground": true,
            "ticks": "",
            "zerolinecolor": "#EBF0F8"
           }
          },
          "shapedefaults": {
           "line": {
            "color": "#2a3f5f"
           }
          },
          "ternary": {
           "aaxis": {
            "gridcolor": "#DFE8F3",
            "linecolor": "#A2B1C6",
            "ticks": ""
           },
           "baxis": {
            "gridcolor": "#DFE8F3",
            "linecolor": "#A2B1C6",
            "ticks": ""
           },
           "bgcolor": "white",
           "caxis": {
            "gridcolor": "#DFE8F3",
            "linecolor": "#A2B1C6",
            "ticks": ""
           }
          },
          "title": {
           "x": 0.05
          },
          "xaxis": {
           "automargin": true,
           "gridcolor": "#EBF0F8",
           "linecolor": "#EBF0F8",
           "ticks": "",
           "title": {
            "standoff": 15
           },
           "zerolinecolor": "#EBF0F8",
           "zerolinewidth": 2
          },
          "yaxis": {
           "automargin": true,
           "gridcolor": "#EBF0F8",
           "linecolor": "#EBF0F8",
           "ticks": "",
           "title": {
            "standoff": 15
           },
           "zerolinecolor": "#EBF0F8",
           "zerolinewidth": 2
          }
         }
        },
        "title": {
         "text": "Caseload forecasts"
        },
        "updatemenus": [
         {
          "buttons": [
           {
            "args": [
             null,
             {
              "frame": {
               "duration": 500,
               "redraw": false
              },
              "fromcurrent": true,
              "mode": "immediate",
              "transition": {
               "duration": 500,
               "easing": "linear"
              }
             }
            ],
            "label": "&#9654;",
            "method": "animate"
           },
           {
            "args": [
             [
              null
             ],
             {
              "frame": {
               "duration": 0,
               "redraw": false
              },
              "fromcurrent": true,
              "mode": "immediate",
              "transition": {
               "duration": 0,
               "easing": "linear"
              }
             }
            ],
            "label": "&#9724;",
            "method": "animate"
           }
          ],
          "direction": "left",
          "pad": {
           "r": 10,
           "t": 70
          },
          "showactive": false,
          "type": "buttons",
          "x": 0.1,
          "xanchor": "right",
          "y": 0,
          "yanchor": "top"
         }
        ],
        "width": 800,
        "xaxis": {
         "anchor": "y",
         "domain": [
          0,
          1
         ],
         "tickvals": [
          2022,
          2023,
          2024,
          2025
         ],
         "title": {
          "text": "Year"
         }
        },
        "yaxis": {
         "anchor": "x",
         "domain": [
          0,
          1
         ],
         "range": [
          0,
          10000000
         ],
         "tickprefix": "",
         "title": {
          "text": ""
         }
        }
       }
      }
     },
     "metadata": {},
     "output_type": "display_data"
    }
   ],
   "source": [
    "model_forecast_chart(\n",
    "    model_validation_table(\n",
    "        caseload,\n",
    "        models=[EXTERNAL, policyengine_uk, UKMOD],\n",
    "        divisor=1,\n",
    "        decimals=1,\n",
    "    ),\n",
    "    title=\"Caseload forecasts\",\n",
    "    currency=False,\n",
    ")"
   ]
  },
  {
   "cell_type": "markdown",
   "id": "ff161a6a-52b4-4851-9c48-1aede9f8fef0",
   "metadata": {},
   "source": [
    "### Differences\n",
    "\n",
    "#### Absolute"
   ]
  },
  {
   "cell_type": "code",
   "execution_count": 16,
   "id": "89b1f1ba-7545-40e1-83b1-bf934ad6aaff",
   "metadata": {
    "tags": [
     "hide-input"
    ]
   },
   "outputs": [
    {
     "data": {
      "text/html": [
       "<div>\n",
       "<style scoped>\n",
       "    .dataframe tbody tr th:only-of-type {\n",
       "        vertical-align: middle;\n",
       "    }\n",
       "\n",
       "    .dataframe tbody tr th {\n",
       "        vertical-align: top;\n",
       "    }\n",
       "\n",
       "    .dataframe thead th {\n",
       "        text-align: right;\n",
       "    }\n",
       "</style>\n",
       "<table border=\"1\" class=\"dataframe\">\n",
       "  <thead>\n",
       "    <tr style=\"text-align: right;\">\n",
       "      <th></th>\n",
       "      <th></th>\n",
       "      <th>Child Benefit</th>\n",
       "      <th>Income Support</th>\n",
       "      <th>JSA (income-based)</th>\n",
       "      <th>Housing Benefit</th>\n",
       "      <th>Working Tax Credit</th>\n",
       "      <th>Child Tax Credit</th>\n",
       "      <th>Universal Credit</th>\n",
       "    </tr>\n",
       "  </thead>\n",
       "  <tbody>\n",
       "    <tr>\n",
       "      <th rowspan=\"4\" valign=\"top\">PolicyEngine-UK</th>\n",
       "      <th>2022</th>\n",
       "      <td>0.0</td>\n",
       "      <td>-0.0</td>\n",
       "      <td>0.0</td>\n",
       "      <td>0.1</td>\n",
       "      <td>0.3</td>\n",
       "      <td>0.1</td>\n",
       "      <td>0.3</td>\n",
       "    </tr>\n",
       "    <tr>\n",
       "      <th>2023</th>\n",
       "      <td>0.1</td>\n",
       "      <td>0.0</td>\n",
       "      <td>0.0</td>\n",
       "      <td>0.2</td>\n",
       "      <td>0.5</td>\n",
       "      <td>0.4</td>\n",
       "      <td>-0.3</td>\n",
       "    </tr>\n",
       "    <tr>\n",
       "      <th>2024</th>\n",
       "      <td>0.1</td>\n",
       "      <td>0.1</td>\n",
       "      <td>0.1</td>\n",
       "      <td>0.6</td>\n",
       "      <td>0.7</td>\n",
       "      <td>0.8</td>\n",
       "      <td>-0.9</td>\n",
       "    </tr>\n",
       "    <tr>\n",
       "      <th>2025</th>\n",
       "      <td>0.2</td>\n",
       "      <td>0.1</td>\n",
       "      <td>0.1</td>\n",
       "      <td>1.0</td>\n",
       "      <td>0.9</td>\n",
       "      <td>1.1</td>\n",
       "      <td>-1.6</td>\n",
       "    </tr>\n",
       "    <tr>\n",
       "      <th rowspan=\"4\" valign=\"top\">UKMOD</th>\n",
       "      <th>2022</th>\n",
       "      <td>0.0</td>\n",
       "      <td></td>\n",
       "      <td></td>\n",
       "      <td>-0.4</td>\n",
       "      <td>-0.2</td>\n",
       "      <td>-0.2</td>\n",
       "      <td>-0.4</td>\n",
       "    </tr>\n",
       "    <tr>\n",
       "      <th>2023</th>\n",
       "      <td>0.1</td>\n",
       "      <td></td>\n",
       "      <td></td>\n",
       "      <td>-0.4</td>\n",
       "      <td>-0.1</td>\n",
       "      <td>-0.0</td>\n",
       "      <td>-0.4</td>\n",
       "    </tr>\n",
       "    <tr>\n",
       "      <th>2024</th>\n",
       "      <td>0.1</td>\n",
       "      <td></td>\n",
       "      <td></td>\n",
       "      <td>-0.3</td>\n",
       "      <td>-0.1</td>\n",
       "      <td>0.0</td>\n",
       "      <td>-0.3</td>\n",
       "    </tr>\n",
       "    <tr>\n",
       "      <th>2025</th>\n",
       "      <td>0.1</td>\n",
       "      <td></td>\n",
       "      <td></td>\n",
       "      <td>-0.3</td>\n",
       "      <td>-0.0</td>\n",
       "      <td>0.0</td>\n",
       "      <td>-0.1</td>\n",
       "    </tr>\n",
       "  </tbody>\n",
       "</table>\n",
       "</div>"
      ],
      "text/plain": [
       "                   Child Benefit Income Support JSA (income-based)  \\\n",
       "PolicyEngine-UK 2022  0.0           -0.0            0.0                 \n",
       "             2023  0.1            0.0            0.0                 \n",
       "             2024  0.1            0.1            0.1                 \n",
       "             2025  0.2            0.1            0.1                 \n",
       "UKMOD        2022  0.0                                               \n",
       "             2023  0.1                                               \n",
       "             2024  0.1                                               \n",
       "             2025  0.1                                               \n",
       "\n",
       "                   Housing Benefit  Working Tax Credit  Child Tax Credit  \\\n",
       "PolicyEngine-UK 2022  0.1              0.3                 0.1                \n",
       "             2023  0.2              0.5                 0.4                \n",
       "             2024  0.6              0.7                 0.8                \n",
       "             2025  1.0              0.9                 1.1                \n",
       "UKMOD        2022 -0.4             -0.2                -0.2                \n",
       "             2023 -0.4             -0.1                -0.0                \n",
       "             2024 -0.3             -0.1                 0.0                \n",
       "             2025 -0.3             -0.0                 0.0                \n",
       "\n",
       "                   Universal Credit  \n",
       "PolicyEngine-UK 2022  0.3               \n",
       "             2023 -0.3               \n",
       "             2024 -0.9               \n",
       "             2025 -1.6               \n",
       "UKMOD        2022 -0.4               \n",
       "             2023 -0.4               \n",
       "             2024 -0.3               \n",
       "             2025 -0.1               "
      ]
     },
     "execution_count": 16,
     "metadata": {},
     "output_type": "execute_result"
    }
   ],
   "source": [
    "def caseload_error(model, year, variable):\n",
    "    try:\n",
    "        if model == policyengine_uk:\n",
    "            return get_nonzero(variable, year).sum() - caseload(\n",
    "                EXTERNAL, year, variable\n",
    "            )\n",
    "        elif model == UKMOD:\n",
    "            return getattr(ukmod_statistics.ukmod.nonzero_units, variable)(\n",
    "                f\"{year}-01-01\"\n",
    "            ) - caseload(EXTERNAL, year, variable)\n",
    "    except:\n",
    "        return np.nan\n",
    "\n",
    "\n",
    "df = model_validation_table(\n",
    "    caseload_error,\n",
    "    variables=VARIABLES[:-1],\n",
    "    models=[policyengine_uk, UKMOD],\n",
    "    divisor=1e6,\n",
    "    decimals=1,\n",
    ")\n",
    "df[df.columns[:7]]"
   ]
  },
  {
   "cell_type": "code",
   "execution_count": 17,
   "id": "a7075308",
   "metadata": {},
   "outputs": [
    {
     "data": {
      "text/html": [
       "<div>\n",
       "<style scoped>\n",
       "    .dataframe tbody tr th:only-of-type {\n",
       "        vertical-align: middle;\n",
       "    }\n",
       "\n",
       "    .dataframe tbody tr th {\n",
       "        vertical-align: top;\n",
       "    }\n",
       "\n",
       "    .dataframe thead th {\n",
       "        text-align: right;\n",
       "    }\n",
       "</style>\n",
       "<table border=\"1\" class=\"dataframe\">\n",
       "  <thead>\n",
       "    <tr style=\"text-align: right;\">\n",
       "      <th></th>\n",
       "      <th></th>\n",
       "      <th>Pension Credit</th>\n",
       "      <th>Income Tax</th>\n",
       "      <th>National Insurance (total)</th>\n",
       "      <th>employment income</th>\n",
       "      <th>self-employment income</th>\n",
       "      <th>pension income</th>\n",
       "      <th>rental income</th>\n",
       "    </tr>\n",
       "  </thead>\n",
       "  <tbody>\n",
       "    <tr>\n",
       "      <th rowspan=\"4\" valign=\"top\">PolicyEngine-UK</th>\n",
       "      <th>2022</th>\n",
       "      <td>0.4</td>\n",
       "      <td>-1.6</td>\n",
       "      <td></td>\n",
       "      <td></td>\n",
       "      <td></td>\n",
       "      <td></td>\n",
       "      <td></td>\n",
       "    </tr>\n",
       "    <tr>\n",
       "      <th>2023</th>\n",
       "      <td>0.4</td>\n",
       "      <td>-1.0</td>\n",
       "      <td></td>\n",
       "      <td></td>\n",
       "      <td></td>\n",
       "      <td></td>\n",
       "      <td></td>\n",
       "    </tr>\n",
       "    <tr>\n",
       "      <th>2024</th>\n",
       "      <td>0.3</td>\n",
       "      <td>-0.3</td>\n",
       "      <td></td>\n",
       "      <td></td>\n",
       "      <td></td>\n",
       "      <td></td>\n",
       "      <td></td>\n",
       "    </tr>\n",
       "    <tr>\n",
       "      <th>2025</th>\n",
       "      <td>0.3</td>\n",
       "      <td>0.3</td>\n",
       "      <td></td>\n",
       "      <td></td>\n",
       "      <td></td>\n",
       "      <td></td>\n",
       "      <td></td>\n",
       "    </tr>\n",
       "    <tr>\n",
       "      <th rowspan=\"4\" valign=\"top\">UKMOD</th>\n",
       "      <th>2022</th>\n",
       "      <td>0.0</td>\n",
       "      <td>-1.9</td>\n",
       "      <td></td>\n",
       "      <td></td>\n",
       "      <td></td>\n",
       "      <td></td>\n",
       "      <td></td>\n",
       "    </tr>\n",
       "    <tr>\n",
       "      <th>2023</th>\n",
       "      <td>0.1</td>\n",
       "      <td>-1.3</td>\n",
       "      <td></td>\n",
       "      <td></td>\n",
       "      <td></td>\n",
       "      <td></td>\n",
       "      <td></td>\n",
       "    </tr>\n",
       "    <tr>\n",
       "      <th>2024</th>\n",
       "      <td>0.2</td>\n",
       "      <td>-0.9</td>\n",
       "      <td></td>\n",
       "      <td></td>\n",
       "      <td></td>\n",
       "      <td></td>\n",
       "      <td></td>\n",
       "    </tr>\n",
       "    <tr>\n",
       "      <th>2025</th>\n",
       "      <td>0.2</td>\n",
       "      <td>-0.4</td>\n",
       "      <td></td>\n",
       "      <td></td>\n",
       "      <td></td>\n",
       "      <td></td>\n",
       "      <td></td>\n",
       "    </tr>\n",
       "  </tbody>\n",
       "</table>\n",
       "</div>"
      ],
      "text/plain": [
       "                   Pension Credit  Income Tax National Insurance (total)  \\\n",
       "PolicyEngine-UK 2022  0.4            -1.6                                     \n",
       "             2023  0.4            -1.0                                     \n",
       "             2024  0.3            -0.3                                     \n",
       "             2025  0.3             0.3                                     \n",
       "UKMOD        2022  0.0            -1.9                                     \n",
       "             2023  0.1            -1.3                                     \n",
       "             2024  0.2            -0.9                                     \n",
       "             2025  0.2            -0.4                                     \n",
       "\n",
       "                  employment income self-employment income pension income  \\\n",
       "PolicyEngine-UK 2022                                                           \n",
       "             2023                                                           \n",
       "             2024                                                           \n",
       "             2025                                                           \n",
       "UKMOD        2022                                                           \n",
       "             2023                                                           \n",
       "             2024                                                           \n",
       "             2025                                                           \n",
       "\n",
       "                  rental income  \n",
       "PolicyEngine-UK 2022                \n",
       "             2023                \n",
       "             2024                \n",
       "             2025                \n",
       "UKMOD        2022                \n",
       "             2023                \n",
       "             2024                \n",
       "             2025                "
      ]
     },
     "execution_count": 17,
     "metadata": {},
     "output_type": "execute_result"
    }
   ],
   "source": [
    "df[df.columns[7:14]]"
   ]
  },
  {
   "cell_type": "code",
   "execution_count": 18,
   "id": "f7472a5f",
   "metadata": {},
   "outputs": [
    {
     "data": {
      "text/html": [
       "<div>\n",
       "<style scoped>\n",
       "    .dataframe tbody tr th:only-of-type {\n",
       "        vertical-align: middle;\n",
       "    }\n",
       "\n",
       "    .dataframe tbody tr th {\n",
       "        vertical-align: top;\n",
       "    }\n",
       "\n",
       "    .dataframe thead th {\n",
       "        text-align: right;\n",
       "    }\n",
       "</style>\n",
       "<table border=\"1\" class=\"dataframe\">\n",
       "  <thead>\n",
       "    <tr style=\"text-align: right;\">\n",
       "      <th></th>\n",
       "      <th></th>\n",
       "      <th>savings interest income</th>\n",
       "    </tr>\n",
       "  </thead>\n",
       "  <tbody>\n",
       "    <tr>\n",
       "      <th rowspan=\"4\" valign=\"top\">PolicyEngine-UK</th>\n",
       "      <th>2022</th>\n",
       "      <td></td>\n",
       "    </tr>\n",
       "    <tr>\n",
       "      <th>2023</th>\n",
       "      <td></td>\n",
       "    </tr>\n",
       "    <tr>\n",
       "      <th>2024</th>\n",
       "      <td></td>\n",
       "    </tr>\n",
       "    <tr>\n",
       "      <th>2025</th>\n",
       "      <td></td>\n",
       "    </tr>\n",
       "    <tr>\n",
       "      <th rowspan=\"4\" valign=\"top\">UKMOD</th>\n",
       "      <th>2022</th>\n",
       "      <td></td>\n",
       "    </tr>\n",
       "    <tr>\n",
       "      <th>2023</th>\n",
       "      <td></td>\n",
       "    </tr>\n",
       "    <tr>\n",
       "      <th>2024</th>\n",
       "      <td></td>\n",
       "    </tr>\n",
       "    <tr>\n",
       "      <th>2025</th>\n",
       "      <td></td>\n",
       "    </tr>\n",
       "  </tbody>\n",
       "</table>\n",
       "</div>"
      ],
      "text/plain": [
       "                  savings interest income\n",
       "PolicyEngine-UK 2022                        \n",
       "             2023                        \n",
       "             2024                        \n",
       "             2025                        \n",
       "UKMOD        2022                        \n",
       "             2023                        \n",
       "             2024                        \n",
       "             2025                        "
      ]
     },
     "execution_count": 18,
     "metadata": {},
     "output_type": "execute_result"
    }
   ],
   "source": [
    "df[df.columns[14:]]"
   ]
  },
  {
   "cell_type": "markdown",
   "id": "6a679603-acf0-44ea-a3b8-687e703bd041",
   "metadata": {},
   "source": [
    "#### Relative"
   ]
  },
  {
   "cell_type": "code",
   "execution_count": 19,
   "id": "55d5b862-5737-4148-a535-5c8bebfb129f",
   "metadata": {
    "tags": [
     "hide-input"
    ]
   },
   "outputs": [
    {
     "data": {
      "text/html": [
       "<div>\n",
       "<style scoped>\n",
       "    .dataframe tbody tr th:only-of-type {\n",
       "        vertical-align: middle;\n",
       "    }\n",
       "\n",
       "    .dataframe tbody tr th {\n",
       "        vertical-align: top;\n",
       "    }\n",
       "\n",
       "    .dataframe thead th {\n",
       "        text-align: right;\n",
       "    }\n",
       "</style>\n",
       "<table border=\"1\" class=\"dataframe\">\n",
       "  <thead>\n",
       "    <tr style=\"text-align: right;\">\n",
       "      <th></th>\n",
       "      <th></th>\n",
       "      <th>Child Benefit</th>\n",
       "      <th>Income Support</th>\n",
       "      <th>JSA (income-based)</th>\n",
       "      <th>Housing Benefit</th>\n",
       "      <th>Working Tax Credit</th>\n",
       "      <th>Child Tax Credit</th>\n",
       "      <th>Universal Credit</th>\n",
       "    </tr>\n",
       "  </thead>\n",
       "  <tbody>\n",
       "    <tr>\n",
       "      <th rowspan=\"4\" valign=\"top\">PolicyEngine-UK</th>\n",
       "      <th>2022</th>\n",
       "      <td>0.0</td>\n",
       "      <td>-2.6</td>\n",
       "      <td>22.6</td>\n",
       "      <td>2.8</td>\n",
       "      <td>40.6</td>\n",
       "      <td>10.9</td>\n",
       "      <td>5.8</td>\n",
       "    </tr>\n",
       "    <tr>\n",
       "      <th>2023</th>\n",
       "      <td>1.0</td>\n",
       "      <td>31.8</td>\n",
       "      <td>979.0</td>\n",
       "      <td>9.3</td>\n",
       "      <td>87.6</td>\n",
       "      <td>47.6</td>\n",
       "      <td>-5.4</td>\n",
       "    </tr>\n",
       "    <tr>\n",
       "      <th>2024</th>\n",
       "      <td>1.9</td>\n",
       "      <td>101.2</td>\n",
       "      <td>inf</td>\n",
       "      <td>26.9</td>\n",
       "      <td>181.8</td>\n",
       "      <td>122.1</td>\n",
       "      <td>-15.9</td>\n",
       "    </tr>\n",
       "    <tr>\n",
       "      <th>2025</th>\n",
       "      <td>2.9</td>\n",
       "      <td>349.7</td>\n",
       "      <td>inf</td>\n",
       "      <td>55.1</td>\n",
       "      <td>509.6</td>\n",
       "      <td>380.2</td>\n",
       "      <td>-25.9</td>\n",
       "    </tr>\n",
       "    <tr>\n",
       "      <th rowspan=\"4\" valign=\"top\">UKMOD</th>\n",
       "      <th>2022</th>\n",
       "      <td>0.6</td>\n",
       "      <td></td>\n",
       "      <td></td>\n",
       "      <td>-16.5</td>\n",
       "      <td>-30.2</td>\n",
       "      <td>-13.6</td>\n",
       "      <td>-9.4</td>\n",
       "    </tr>\n",
       "    <tr>\n",
       "      <th>2023</th>\n",
       "      <td>1.0</td>\n",
       "      <td></td>\n",
       "      <td></td>\n",
       "      <td>-16.6</td>\n",
       "      <td>-23.7</td>\n",
       "      <td>-5.1</td>\n",
       "      <td>-7.8</td>\n",
       "    </tr>\n",
       "    <tr>\n",
       "      <th>2024</th>\n",
       "      <td>1.3</td>\n",
       "      <td></td>\n",
       "      <td></td>\n",
       "      <td>-15.7</td>\n",
       "      <td>-22.1</td>\n",
       "      <td>4.4</td>\n",
       "      <td>-5.2</td>\n",
       "    </tr>\n",
       "    <tr>\n",
       "      <th>2025</th>\n",
       "      <td>1.8</td>\n",
       "      <td></td>\n",
       "      <td></td>\n",
       "      <td>-17.0</td>\n",
       "      <td>-25.4</td>\n",
       "      <td>4.5</td>\n",
       "      <td>-2.2</td>\n",
       "    </tr>\n",
       "  </tbody>\n",
       "</table>\n",
       "</div>"
      ],
      "text/plain": [
       "                   Child Benefit Income Support JSA (income-based)  \\\n",
       "PolicyEngine-UK 2022  0.0           -2.6            22.6                \n",
       "             2023  1.0            31.8           979.0               \n",
       "             2024  1.9            101.2          inf                 \n",
       "             2025  2.9            349.7          inf                 \n",
       "UKMOD        2022  0.6                                               \n",
       "             2023  1.0                                               \n",
       "             2024  1.3                                               \n",
       "             2025  1.8                                               \n",
       "\n",
       "                   Housing Benefit  Working Tax Credit  Child Tax Credit  \\\n",
       "PolicyEngine-UK 2022  2.8              40.6                10.9               \n",
       "             2023  9.3              87.6                47.6               \n",
       "             2024  26.9             181.8               122.1              \n",
       "             2025  55.1             509.6               380.2              \n",
       "UKMOD        2022 -16.5            -30.2               -13.6               \n",
       "             2023 -16.6            -23.7               -5.1                \n",
       "             2024 -15.7            -22.1                4.4                \n",
       "             2025 -17.0            -25.4                4.5                \n",
       "\n",
       "                   Universal Credit  \n",
       "PolicyEngine-UK 2022  5.8               \n",
       "             2023 -5.4               \n",
       "             2024 -15.9              \n",
       "             2025 -25.9              \n",
       "UKMOD        2022 -9.4               \n",
       "             2023 -7.8               \n",
       "             2024 -5.2               \n",
       "             2025 -2.2               "
      ]
     },
     "execution_count": 19,
     "metadata": {},
     "output_type": "execute_result"
    }
   ],
   "source": [
    "def relative_caseload_error(model, year, variable):\n",
    "    try:\n",
    "        if model == policyengine_uk:\n",
    "            return (\n",
    "                get_nonzero(variable, year).sum()\n",
    "                / caseload(EXTERNAL, year, variable)\n",
    "                - 1\n",
    "            )\n",
    "        elif model == UKMOD:\n",
    "            return (\n",
    "                getattr(ukmod_statistics.ukmod.nonzero_units, variable)(\n",
    "                    f\"{year}-01-01\"\n",
    "                )\n",
    "                / caseload(EXTERNAL, year, variable)\n",
    "                - 1\n",
    "            )\n",
    "    except:\n",
    "        return np.nan\n",
    "\n",
    "\n",
    "df = model_validation_table(\n",
    "    relative_caseload_error,\n",
    "    variables=VARIABLES[:-1],\n",
    "    models=[policyengine_uk, UKMOD],\n",
    "    divisor=1e-2,\n",
    "    decimals=1,\n",
    ")\n",
    "df[df.columns[:7]]"
   ]
  },
  {
   "cell_type": "code",
   "execution_count": 20,
   "id": "983c0179",
   "metadata": {},
   "outputs": [
    {
     "data": {
      "text/html": [
       "<div>\n",
       "<style scoped>\n",
       "    .dataframe tbody tr th:only-of-type {\n",
       "        vertical-align: middle;\n",
       "    }\n",
       "\n",
       "    .dataframe tbody tr th {\n",
       "        vertical-align: top;\n",
       "    }\n",
       "\n",
       "    .dataframe thead th {\n",
       "        text-align: right;\n",
       "    }\n",
       "</style>\n",
       "<table border=\"1\" class=\"dataframe\">\n",
       "  <thead>\n",
       "    <tr style=\"text-align: right;\">\n",
       "      <th></th>\n",
       "      <th></th>\n",
       "      <th>Pension Credit</th>\n",
       "      <th>Income Tax</th>\n",
       "      <th>National Insurance (total)</th>\n",
       "      <th>employment income</th>\n",
       "      <th>self-employment income</th>\n",
       "      <th>pension income</th>\n",
       "      <th>rental income</th>\n",
       "    </tr>\n",
       "  </thead>\n",
       "  <tbody>\n",
       "    <tr>\n",
       "      <th rowspan=\"4\" valign=\"top\">PolicyEngine-UK</th>\n",
       "      <th>2022</th>\n",
       "      <td>26.8</td>\n",
       "      <td>-4.9</td>\n",
       "      <td></td>\n",
       "      <td></td>\n",
       "      <td></td>\n",
       "      <td></td>\n",
       "      <td></td>\n",
       "    </tr>\n",
       "    <tr>\n",
       "      <th>2023</th>\n",
       "      <td>29.1</td>\n",
       "      <td>-3.3</td>\n",
       "      <td></td>\n",
       "      <td></td>\n",
       "      <td></td>\n",
       "      <td></td>\n",
       "      <td></td>\n",
       "    </tr>\n",
       "    <tr>\n",
       "      <th>2024</th>\n",
       "      <td>23.9</td>\n",
       "      <td>-1.0</td>\n",
       "      <td></td>\n",
       "      <td></td>\n",
       "      <td></td>\n",
       "      <td></td>\n",
       "      <td></td>\n",
       "    </tr>\n",
       "    <tr>\n",
       "      <th>2025</th>\n",
       "      <td>21.5</td>\n",
       "      <td>1.0</td>\n",
       "      <td></td>\n",
       "      <td></td>\n",
       "      <td></td>\n",
       "      <td></td>\n",
       "      <td></td>\n",
       "    </tr>\n",
       "    <tr>\n",
       "      <th rowspan=\"4\" valign=\"top\">UKMOD</th>\n",
       "      <th>2022</th>\n",
       "      <td>0.5</td>\n",
       "      <td>-5.9</td>\n",
       "      <td></td>\n",
       "      <td></td>\n",
       "      <td></td>\n",
       "      <td></td>\n",
       "      <td></td>\n",
       "    </tr>\n",
       "    <tr>\n",
       "      <th>2023</th>\n",
       "      <td>7.8</td>\n",
       "      <td>-4.1</td>\n",
       "      <td></td>\n",
       "      <td></td>\n",
       "      <td></td>\n",
       "      <td></td>\n",
       "      <td></td>\n",
       "    </tr>\n",
       "    <tr>\n",
       "      <th>2024</th>\n",
       "      <td>12.3</td>\n",
       "      <td>-2.9</td>\n",
       "      <td></td>\n",
       "      <td></td>\n",
       "      <td></td>\n",
       "      <td></td>\n",
       "      <td></td>\n",
       "    </tr>\n",
       "    <tr>\n",
       "      <th>2025</th>\n",
       "      <td>14.9</td>\n",
       "      <td>-1.3</td>\n",
       "      <td></td>\n",
       "      <td></td>\n",
       "      <td></td>\n",
       "      <td></td>\n",
       "      <td></td>\n",
       "    </tr>\n",
       "  </tbody>\n",
       "</table>\n",
       "</div>"
      ],
      "text/plain": [
       "                   Pension Credit  Income Tax National Insurance (total)  \\\n",
       "PolicyEngine-UK 2022  26.8           -4.9                                     \n",
       "             2023  29.1           -3.3                                     \n",
       "             2024  23.9           -1.0                                     \n",
       "             2025  21.5            1.0                                     \n",
       "UKMOD        2022  0.5            -5.9                                     \n",
       "             2023  7.8            -4.1                                     \n",
       "             2024  12.3           -2.9                                     \n",
       "             2025  14.9           -1.3                                     \n",
       "\n",
       "                  employment income self-employment income pension income  \\\n",
       "PolicyEngine-UK 2022                                                           \n",
       "             2023                                                           \n",
       "             2024                                                           \n",
       "             2025                                                           \n",
       "UKMOD        2022                                                           \n",
       "             2023                                                           \n",
       "             2024                                                           \n",
       "             2025                                                           \n",
       "\n",
       "                  rental income  \n",
       "PolicyEngine-UK 2022                \n",
       "             2023                \n",
       "             2024                \n",
       "             2025                \n",
       "UKMOD        2022                \n",
       "             2023                \n",
       "             2024                \n",
       "             2025                "
      ]
     },
     "execution_count": 20,
     "metadata": {},
     "output_type": "execute_result"
    }
   ],
   "source": [
    "df[df.columns[7:14]]"
   ]
  },
  {
   "cell_type": "code",
   "execution_count": 21,
   "id": "a00f351b",
   "metadata": {},
   "outputs": [
    {
     "data": {
      "text/html": [
       "<div>\n",
       "<style scoped>\n",
       "    .dataframe tbody tr th:only-of-type {\n",
       "        vertical-align: middle;\n",
       "    }\n",
       "\n",
       "    .dataframe tbody tr th {\n",
       "        vertical-align: top;\n",
       "    }\n",
       "\n",
       "    .dataframe thead th {\n",
       "        text-align: right;\n",
       "    }\n",
       "</style>\n",
       "<table border=\"1\" class=\"dataframe\">\n",
       "  <thead>\n",
       "    <tr style=\"text-align: right;\">\n",
       "      <th></th>\n",
       "      <th></th>\n",
       "      <th>savings interest income</th>\n",
       "    </tr>\n",
       "  </thead>\n",
       "  <tbody>\n",
       "    <tr>\n",
       "      <th rowspan=\"4\" valign=\"top\">PolicyEngine-UK</th>\n",
       "      <th>2022</th>\n",
       "      <td></td>\n",
       "    </tr>\n",
       "    <tr>\n",
       "      <th>2023</th>\n",
       "      <td></td>\n",
       "    </tr>\n",
       "    <tr>\n",
       "      <th>2024</th>\n",
       "      <td></td>\n",
       "    </tr>\n",
       "    <tr>\n",
       "      <th>2025</th>\n",
       "      <td></td>\n",
       "    </tr>\n",
       "    <tr>\n",
       "      <th rowspan=\"4\" valign=\"top\">UKMOD</th>\n",
       "      <th>2022</th>\n",
       "      <td></td>\n",
       "    </tr>\n",
       "    <tr>\n",
       "      <th>2023</th>\n",
       "      <td></td>\n",
       "    </tr>\n",
       "    <tr>\n",
       "      <th>2024</th>\n",
       "      <td></td>\n",
       "    </tr>\n",
       "    <tr>\n",
       "      <th>2025</th>\n",
       "      <td></td>\n",
       "    </tr>\n",
       "  </tbody>\n",
       "</table>\n",
       "</div>"
      ],
      "text/plain": [
       "                  savings interest income\n",
       "PolicyEngine-UK 2022                        \n",
       "             2023                        \n",
       "             2024                        \n",
       "             2025                        \n",
       "UKMOD        2022                        \n",
       "             2023                        \n",
       "             2024                        \n",
       "             2025                        "
      ]
     },
     "execution_count": 21,
     "metadata": {},
     "output_type": "execute_result"
    }
   ],
   "source": [
    "df[df.columns[14:]]"
   ]
  },
  {
   "cell_type": "code",
   "execution_count": 22,
   "id": "6f47e9b2-895d-4a70-9206-282bddff8769",
   "metadata": {
    "tags": [
     "hide-input"
    ]
   },
   "outputs": [
    {
     "data": {
      "application/vnd.plotly.v1+json": {
       "config": {
        "plotlyServerURL": "https://plot.ly"
       },
       "data": [
        {
         "alignmentgroup": "True",
         "customdata": [
          [
           7.1,
           7.1,
           7.1,
           2022,
           "Child Benefit"
          ],
          [
           2.8,
           2.3,
           2.7,
           2022,
           "Housing Benefit"
          ],
          [
           1.4,
           1.1,
           1.2,
           2022,
           "Child Tax Credit"
          ],
          [
           4.9,
           4.2,
           4.6,
           2022,
           "Universal Credit"
          ],
          [
           1.1,
           0.5,
           0.8,
           2022,
           "Working Tax Credit"
          ],
          [
           1.8,
           1.4,
           1.4,
           2022,
           "Pension Credit"
          ],
          [
           30.3,
           30,
           31.9,
           2022,
           "Income Tax"
          ]
         ],
         "hovertemplate": "<b>%{customdata[4]} in %{customdata[3]}</b><br>Error: %{x}<br>Official: %{customdata[2]}m<br>PolicyEngine-UK: %{customdata[0]}m<br>UKMOD: %{customdata[1]}m",
         "legendgroup": "PolicyEngine-UK",
         "marker": {
          "color": "blue",
          "pattern": {
           "shape": ""
          }
         },
         "name": "PolicyEngine-UK",
         "offsetgroup": "PolicyEngine-UK",
         "orientation": "h",
         "showlegend": true,
         "textposition": "auto",
         "type": "bar",
         "x": [
          1924.274,
          76865.196,
          135699.216,
          269402.481,
          314205.269,
          377101.689,
          1565047.3669999999
         ],
         "xaxis": "x",
         "y": [
          "Child Benefit",
          "Housing Benefit",
          "Child Tax Credit",
          "Universal Credit",
          "Working Tax Credit",
          "Pension Credit",
          "Income Tax"
         ],
         "yaxis": "y"
        },
        {
         "alignmentgroup": "True",
         "customdata": [
          [
           7.1,
           7.1,
           7.1,
           2022,
           "Child Benefit"
          ],
          [
           2.8,
           2.3,
           2.7,
           2022,
           "Housing Benefit"
          ],
          [
           1.4,
           1.1,
           1.2,
           2022,
           "Child Tax Credit"
          ],
          [
           4.9,
           4.2,
           4.6,
           2022,
           "Universal Credit"
          ],
          [
           1.1,
           0.5,
           0.8,
           2022,
           "Working Tax Credit"
          ],
          [
           1.8,
           1.4,
           1.4,
           2022,
           "Pension Credit"
          ],
          [
           30.3,
           30,
           31.9,
           2022,
           "Income Tax"
          ]
         ],
         "hovertemplate": "<b>%{customdata[4]} in %{customdata[3]}</b><br>Error: %{x}<br>Official: %{customdata[2]}m<br>PolicyEngine-UK: %{customdata[0]}m<br>UKMOD: %{customdata[1]}m",
         "legendgroup": "UKMOD",
         "marker": {
          "color": "lightgrey",
          "pattern": {
           "shape": ""
          }
         },
         "name": "UKMOD",
         "offsetgroup": "UKMOD",
         "orientation": "h",
         "showlegend": true,
         "textposition": "auto",
         "type": "bar",
         "x": [
          45218.345,
          446000,
          169737.072,
          435000,
          233858.543,
          7000,
          1864962.025
         ],
         "xaxis": "x",
         "y": [
          "Child Benefit",
          "Housing Benefit",
          "Child Tax Credit",
          "Universal Credit",
          "Working Tax Credit",
          "Pension Credit",
          "Income Tax"
         ],
         "yaxis": "y"
        }
       ],
       "frames": [
        {
         "data": [
          {
           "alignmentgroup": "True",
           "customdata": [
            [
             7.1,
             7.1,
             7.1,
             2022,
             "Child Benefit"
            ],
            [
             2.8,
             2.3,
             2.7,
             2022,
             "Housing Benefit"
            ],
            [
             1.4,
             1.1,
             1.2,
             2022,
             "Child Tax Credit"
            ],
            [
             4.9,
             4.2,
             4.6,
             2022,
             "Universal Credit"
            ],
            [
             1.1,
             0.5,
             0.8,
             2022,
             "Working Tax Credit"
            ],
            [
             1.8,
             1.4,
             1.4,
             2022,
             "Pension Credit"
            ],
            [
             30.3,
             30,
             31.9,
             2022,
             "Income Tax"
            ]
           ],
           "hovertemplate": "<b>%{customdata[4]} in %{customdata[3]}</b><br>Error: %{x}<br>Official: %{customdata[2]}m<br>PolicyEngine-UK: %{customdata[0]}m<br>UKMOD: %{customdata[1]}m",
           "legendgroup": "PolicyEngine-UK",
           "marker": {
            "color": "blue",
            "pattern": {
             "shape": ""
            }
           },
           "name": "PolicyEngine-UK",
           "offsetgroup": "PolicyEngine-UK",
           "orientation": "h",
           "showlegend": true,
           "textposition": "auto",
           "type": "bar",
           "x": [
            1924.274,
            76865.196,
            135699.216,
            269402.481,
            314205.269,
            377101.689,
            1565047.3669999999
           ],
           "xaxis": "x",
           "y": [
            "Child Benefit",
            "Housing Benefit",
            "Child Tax Credit",
            "Universal Credit",
            "Working Tax Credit",
            "Pension Credit",
            "Income Tax"
           ],
           "yaxis": "y"
          },
          {
           "alignmentgroup": "True",
           "customdata": [
            [
             7.1,
             7.1,
             7.1,
             2022,
             "Child Benefit"
            ],
            [
             2.8,
             2.3,
             2.7,
             2022,
             "Housing Benefit"
            ],
            [
             1.4,
             1.1,
             1.2,
             2022,
             "Child Tax Credit"
            ],
            [
             4.9,
             4.2,
             4.6,
             2022,
             "Universal Credit"
            ],
            [
             1.1,
             0.5,
             0.8,
             2022,
             "Working Tax Credit"
            ],
            [
             1.8,
             1.4,
             1.4,
             2022,
             "Pension Credit"
            ],
            [
             30.3,
             30,
             31.9,
             2022,
             "Income Tax"
            ]
           ],
           "hovertemplate": "<b>%{customdata[4]} in %{customdata[3]}</b><br>Error: %{x}<br>Official: %{customdata[2]}m<br>PolicyEngine-UK: %{customdata[0]}m<br>UKMOD: %{customdata[1]}m",
           "legendgroup": "UKMOD",
           "marker": {
            "color": "lightgrey",
            "pattern": {
             "shape": ""
            }
           },
           "name": "UKMOD",
           "offsetgroup": "UKMOD",
           "orientation": "h",
           "showlegend": true,
           "textposition": "auto",
           "type": "bar",
           "x": [
            45218.345,
            446000,
            169737.072,
            435000,
            233858.543,
            7000,
            1864962.025
           ],
           "xaxis": "x",
           "y": [
            "Child Benefit",
            "Housing Benefit",
            "Child Tax Credit",
            "Universal Credit",
            "Working Tax Credit",
            "Pension Credit",
            "Income Tax"
           ],
           "yaxis": "y"
          }
         ],
         "name": "2022"
        },
        {
         "data": [
          {
           "alignmentgroup": "True",
           "customdata": [
            [
             7.1,
             7.1,
             7,
             2023,
             "Child Benefit"
            ],
            [
             2.7,
             2,
             2.5,
             2023,
             "Housing Benefit"
            ],
            [
             4.8,
             4.7,
             5,
             2023,
             "Universal Credit"
            ],
            [
             1.7,
             1.4,
             1.3,
             2023,
             "Pension Credit"
            ],
            [
             1.4,
             0.9,
             0.9,
             2023,
             "Child Tax Credit"
            ],
            [
             1.1,
             0.4,
             0.6,
             2023,
             "Working Tax Credit"
            ],
            [
             30.8,
             30.6,
             31.9,
             2023,
             "Income Tax"
            ]
           ],
           "hovertemplate": "<b>%{customdata[4]} in %{customdata[3]}</b><br>Error: %{x}<br>Official: %{customdata[2]}m<br>PolicyEngine-UK: %{customdata[0]}m<br>UKMOD: %{customdata[1]}m",
           "legendgroup": "PolicyEngine-UK",
           "marker": {
            "color": "blue",
            "pattern": {
             "shape": ""
            }
           },
           "name": "PolicyEngine-UK",
           "offsetgroup": "PolicyEngine-UK",
           "orientation": "h",
           "showlegend": true,
           "textposition": "auto",
           "type": "bar",
           "x": [
            68178.595,
            228201.565,
            271872.646,
            390826.80700000003,
            446561.227,
            508582.708,
            1041309.998
           ],
           "xaxis": "x",
           "y": [
            "Child Benefit",
            "Housing Benefit",
            "Universal Credit",
            "Pension Credit",
            "Child Tax Credit",
            "Working Tax Credit",
            "Income Tax"
           ],
           "yaxis": "y"
          },
          {
           "alignmentgroup": "True",
           "customdata": [
            [
             7.1,
             7.1,
             7,
             2023,
             "Child Benefit"
            ],
            [
             2.7,
             2,
             2.5,
             2023,
             "Housing Benefit"
            ],
            [
             4.8,
             4.7,
             5,
             2023,
             "Universal Credit"
            ],
            [
             1.7,
             1.4,
             1.3,
             2023,
             "Pension Credit"
            ],
            [
             1.4,
             0.9,
             0.9,
             2023,
             "Child Tax Credit"
            ],
            [
             1.1,
             0.4,
             0.6,
             2023,
             "Working Tax Credit"
            ],
            [
             30.8,
             30.6,
             31.9,
             2023,
             "Income Tax"
            ]
           ],
           "hovertemplate": "<b>%{customdata[4]} in %{customdata[3]}</b><br>Error: %{x}<br>Official: %{customdata[2]}m<br>PolicyEngine-UK: %{customdata[0]}m<br>UKMOD: %{customdata[1]}m",
           "legendgroup": "UKMOD",
           "marker": {
            "color": "lightgrey",
            "pattern": {
             "shape": ""
            }
           },
           "name": "UKMOD",
           "offsetgroup": "UKMOD",
           "orientation": "h",
           "showlegend": true,
           "textposition": "auto",
           "type": "bar",
           "x": [
            70105.091,
            409000,
            392000,
            104000,
            47957.117,
            137799.06900000002,
            1292962.025
           ],
           "xaxis": "x",
           "y": [
            "Child Benefit",
            "Housing Benefit",
            "Universal Credit",
            "Pension Credit",
            "Child Tax Credit",
            "Working Tax Credit",
            "Income Tax"
           ],
           "yaxis": "y"
          }
         ],
         "name": "2023"
        },
        {
         "data": [
          {
           "alignmentgroup": "True",
           "customdata": [
            [
             7.1,
             7,
             6.9,
             2024,
             "Child Benefit"
            ],
            [
             1.6,
             1.4,
             1.3,
             2024,
             "Pension Credit"
            ],
            [
             31.6,
             30.9,
             31.9,
             2024,
             "Income Tax"
            ],
            [
             2.7,
             1.8,
             2.1,
             2024,
             "Housing Benefit"
            ],
            [
             1.1,
             0.3,
             0.4,
             2024,
             "Working Tax Credit"
            ],
            [
             1.4,
             0.6,
             0.6,
             2024,
             "Child Tax Credit"
            ],
            [
             4.7,
             5.3,
             5.6,
             2024,
             "Universal Credit"
            ]
           ],
           "hovertemplate": "<b>%{customdata[4]} in %{customdata[3]}</b><br>Error: %{x}<br>Official: %{customdata[2]}m<br>PolicyEngine-UK: %{customdata[0]}m<br>UKMOD: %{customdata[1]}m",
           "legendgroup": "PolicyEngine-UK",
           "marker": {
            "color": "blue",
            "pattern": {
             "shape": ""
            }
           },
           "name": "PolicyEngine-UK",
           "offsetgroup": "PolicyEngine-UK",
           "orientation": "h",
           "showlegend": true,
           "textposition": "auto",
           "type": "bar",
           "x": [
            135188.689,
            307382.19,
            308756.825,
            568168.978,
            693149.1329999999,
            752150.224,
            889371.377
           ],
           "xaxis": "x",
           "y": [
            "Child Benefit",
            "Pension Credit",
            "Income Tax",
            "Housing Benefit",
            "Working Tax Credit",
            "Child Tax Credit",
            "Universal Credit"
           ],
           "yaxis": "y"
          },
          {
           "alignmentgroup": "True",
           "customdata": [
            [
             7.1,
             7,
             6.9,
             2024,
             "Child Benefit"
            ],
            [
             1.6,
             1.4,
             1.3,
             2024,
             "Pension Credit"
            ],
            [
             31.6,
             30.9,
             31.9,
             2024,
             "Income Tax"
            ],
            [
             2.7,
             1.8,
             2.1,
             2024,
             "Housing Benefit"
            ],
            [
             1.1,
             0.3,
             0.4,
             2024,
             "Working Tax Credit"
            ],
            [
             1.4,
             0.6,
             0.6,
             2024,
             "Child Tax Credit"
            ],
            [
             4.7,
             5.3,
             5.6,
             2024,
             "Universal Credit"
            ]
           ],
           "hovertemplate": "<b>%{customdata[4]} in %{customdata[3]}</b><br>Error: %{x}<br>Official: %{customdata[2]}m<br>PolicyEngine-UK: %{customdata[0]}m<br>UKMOD: %{customdata[1]}m",
           "legendgroup": "UKMOD",
           "marker": {
            "color": "lightgrey",
            "pattern": {
             "shape": ""
            }
           },
           "name": "UKMOD",
           "offsetgroup": "UKMOD",
           "orientation": "h",
           "showlegend": true,
           "textposition": "auto",
           "type": "bar",
           "x": [
            88320.711,
            158000,
            936962.025,
            331000,
            84358.3,
            27128.262000000002,
            294000
           ],
           "xaxis": "x",
           "y": [
            "Child Benefit",
            "Pension Credit",
            "Income Tax",
            "Housing Benefit",
            "Working Tax Credit",
            "Child Tax Credit",
            "Universal Credit"
           ],
           "yaxis": "y"
          }
         ],
         "name": "2024"
        },
        {
         "data": [
          {
           "alignmentgroup": "True",
           "customdata": [
            [
             7.1,
             7,
             6.9,
             2025,
             "Child Benefit"
            ],
            [
             1.5,
             1.4,
             1.2,
             2025,
             "Pension Credit"
            ],
            [
             32.2,
             31.5,
             31.9,
             2025,
             "Income Tax"
            ],
            [
             1.1,
             0.1,
             0.2,
             2025,
             "Working Tax Credit"
            ],
            [
             2.7,
             1.4,
             1.7,
             2025,
             "Housing Benefit"
            ],
            [
             1.3,
             0.3,
             0.3,
             2025,
             "Child Tax Credit"
            ],
            [
             4.7,
             6.1,
             6.3,
             2025,
             "Universal Credit"
            ]
           ],
           "hovertemplate": "<b>%{customdata[4]} in %{customdata[3]}</b><br>Error: %{x}<br>Official: %{customdata[2]}m<br>PolicyEngine-UK: %{customdata[0]}m<br>UKMOD: %{customdata[1]}m",
           "legendgroup": "PolicyEngine-UK",
           "marker": {
            "color": "blue",
            "pattern": {
             "shape": ""
            }
           },
           "name": "PolicyEngine-UK",
           "offsetgroup": "PolicyEngine-UK",
           "orientation": "h",
           "showlegend": true,
           "textposition": "auto",
           "type": "bar",
           "x": [
            201504.34100000001,
            265311.227,
            326697.075,
            881698.2170000001,
            950936.7609999999,
            1062216.346,
            1626893.591
           ],
           "xaxis": "x",
           "y": [
            "Child Benefit",
            "Pension Credit",
            "Income Tax",
            "Working Tax Credit",
            "Housing Benefit",
            "Child Tax Credit",
            "Universal Credit"
           ],
           "yaxis": "y"
          },
          {
           "alignmentgroup": "True",
           "customdata": [
            [
             7.1,
             7,
             6.9,
             2025,
             "Child Benefit"
            ],
            [
             1.5,
             1.4,
             1.2,
             2025,
             "Pension Credit"
            ],
            [
             32.2,
             31.5,
             31.9,
             2025,
             "Income Tax"
            ],
            [
             1.1,
             0.1,
             0.2,
             2025,
             "Working Tax Credit"
            ],
            [
             2.7,
             1.4,
             1.7,
             2025,
             "Housing Benefit"
            ],
            [
             1.3,
             0.3,
             0.3,
             2025,
             "Child Tax Credit"
            ],
            [
             4.7,
             6.1,
             6.3,
             2025,
             "Universal Credit"
            ]
           ],
           "hovertemplate": "<b>%{customdata[4]} in %{customdata[3]}</b><br>Error: %{x}<br>Official: %{customdata[2]}m<br>PolicyEngine-UK: %{customdata[0]}m<br>UKMOD: %{customdata[1]}m",
           "legendgroup": "UKMOD",
           "marker": {
            "color": "lightgrey",
            "pattern": {
             "shape": ""
            }
           },
           "name": "UKMOD",
           "offsetgroup": "UKMOD",
           "orientation": "h",
           "showlegend": true,
           "textposition": "auto",
           "type": "bar",
           "x": [
            123871.743,
            184000,
            409962.025,
            44003.977999999996,
            294000,
            12608.518,
            139000
           ],
           "xaxis": "x",
           "y": [
            "Child Benefit",
            "Pension Credit",
            "Income Tax",
            "Working Tax Credit",
            "Housing Benefit",
            "Child Tax Credit",
            "Universal Credit"
           ],
           "yaxis": "y"
          }
         ],
         "name": "2025"
        }
       ],
       "layout": {
        "barmode": "group",
        "height": 600,
        "legend": {
         "title": {
          "text": "Model"
         },
         "tracegroupgap": 0,
         "traceorder": "reversed"
        },
        "margin": {
         "t": 60
        },
        "sliders": [
         {
          "active": 0,
          "currentvalue": {
           "prefix": "Year="
          },
          "len": 0.9,
          "pad": {
           "b": 10,
           "t": 60
          },
          "steps": [
           {
            "args": [
             [
              "2022"
             ],
             {
              "frame": {
               "duration": 0,
               "redraw": true
              },
              "fromcurrent": true,
              "mode": "immediate",
              "transition": {
               "duration": 0,
               "easing": "linear"
              }
             }
            ],
            "label": "2022",
            "method": "animate"
           },
           {
            "args": [
             [
              "2023"
             ],
             {
              "frame": {
               "duration": 0,
               "redraw": true
              },
              "fromcurrent": true,
              "mode": "immediate",
              "transition": {
               "duration": 0,
               "easing": "linear"
              }
             }
            ],
            "label": "2023",
            "method": "animate"
           },
           {
            "args": [
             [
              "2024"
             ],
             {
              "frame": {
               "duration": 0,
               "redraw": true
              },
              "fromcurrent": true,
              "mode": "immediate",
              "transition": {
               "duration": 0,
               "easing": "linear"
              }
             }
            ],
            "label": "2024",
            "method": "animate"
           },
           {
            "args": [
             [
              "2025"
             ],
             {
              "frame": {
               "duration": 0,
               "redraw": true
              },
              "fromcurrent": true,
              "mode": "immediate",
              "transition": {
               "duration": 0,
               "easing": "linear"
              }
             }
            ],
            "label": "2025",
            "method": "animate"
           }
          ],
          "x": 0.1,
          "xanchor": "left",
          "y": 0,
          "yanchor": "top"
         }
        ],
        "template": {
         "data": {
          "bar": [
           {
            "error_x": {
             "color": "#2a3f5f"
            },
            "error_y": {
             "color": "#2a3f5f"
            },
            "marker": {
             "line": {
              "color": "white",
              "width": 0.5
             },
             "pattern": {
              "fillmode": "overlay",
              "size": 10,
              "solidity": 0.2
             }
            },
            "type": "bar"
           }
          ],
          "barpolar": [
           {
            "marker": {
             "line": {
              "color": "white",
              "width": 0.5
             },
             "pattern": {
              "fillmode": "overlay",
              "size": 10,
              "solidity": 0.2
             }
            },
            "type": "barpolar"
           }
          ],
          "carpet": [
           {
            "aaxis": {
             "endlinecolor": "#2a3f5f",
             "gridcolor": "#C8D4E3",
             "linecolor": "#C8D4E3",
             "minorgridcolor": "#C8D4E3",
             "startlinecolor": "#2a3f5f"
            },
            "baxis": {
             "endlinecolor": "#2a3f5f",
             "gridcolor": "#C8D4E3",
             "linecolor": "#C8D4E3",
             "minorgridcolor": "#C8D4E3",
             "startlinecolor": "#2a3f5f"
            },
            "type": "carpet"
           }
          ],
          "choropleth": [
           {
            "colorbar": {
             "outlinewidth": 0,
             "ticks": ""
            },
            "type": "choropleth"
           }
          ],
          "contour": [
           {
            "colorbar": {
             "outlinewidth": 0,
             "ticks": ""
            },
            "colorscale": [
             [
              0,
              "#0d0887"
             ],
             [
              0.1111111111111111,
              "#46039f"
             ],
             [
              0.2222222222222222,
              "#7201a8"
             ],
             [
              0.3333333333333333,
              "#9c179e"
             ],
             [
              0.4444444444444444,
              "#bd3786"
             ],
             [
              0.5555555555555556,
              "#d8576b"
             ],
             [
              0.6666666666666666,
              "#ed7953"
             ],
             [
              0.7777777777777778,
              "#fb9f3a"
             ],
             [
              0.8888888888888888,
              "#fdca26"
             ],
             [
              1,
              "#f0f921"
             ]
            ],
            "type": "contour"
           }
          ],
          "contourcarpet": [
           {
            "colorbar": {
             "outlinewidth": 0,
             "ticks": ""
            },
            "type": "contourcarpet"
           }
          ],
          "heatmap": [
           {
            "colorbar": {
             "outlinewidth": 0,
             "ticks": ""
            },
            "colorscale": [
             [
              0,
              "#0d0887"
             ],
             [
              0.1111111111111111,
              "#46039f"
             ],
             [
              0.2222222222222222,
              "#7201a8"
             ],
             [
              0.3333333333333333,
              "#9c179e"
             ],
             [
              0.4444444444444444,
              "#bd3786"
             ],
             [
              0.5555555555555556,
              "#d8576b"
             ],
             [
              0.6666666666666666,
              "#ed7953"
             ],
             [
              0.7777777777777778,
              "#fb9f3a"
             ],
             [
              0.8888888888888888,
              "#fdca26"
             ],
             [
              1,
              "#f0f921"
             ]
            ],
            "type": "heatmap"
           }
          ],
          "heatmapgl": [
           {
            "colorbar": {
             "outlinewidth": 0,
             "ticks": ""
            },
            "colorscale": [
             [
              0,
              "#0d0887"
             ],
             [
              0.1111111111111111,
              "#46039f"
             ],
             [
              0.2222222222222222,
              "#7201a8"
             ],
             [
              0.3333333333333333,
              "#9c179e"
             ],
             [
              0.4444444444444444,
              "#bd3786"
             ],
             [
              0.5555555555555556,
              "#d8576b"
             ],
             [
              0.6666666666666666,
              "#ed7953"
             ],
             [
              0.7777777777777778,
              "#fb9f3a"
             ],
             [
              0.8888888888888888,
              "#fdca26"
             ],
             [
              1,
              "#f0f921"
             ]
            ],
            "type": "heatmapgl"
           }
          ],
          "histogram": [
           {
            "marker": {
             "pattern": {
              "fillmode": "overlay",
              "size": 10,
              "solidity": 0.2
             }
            },
            "type": "histogram"
           }
          ],
          "histogram2d": [
           {
            "colorbar": {
             "outlinewidth": 0,
             "ticks": ""
            },
            "colorscale": [
             [
              0,
              "#0d0887"
             ],
             [
              0.1111111111111111,
              "#46039f"
             ],
             [
              0.2222222222222222,
              "#7201a8"
             ],
             [
              0.3333333333333333,
              "#9c179e"
             ],
             [
              0.4444444444444444,
              "#bd3786"
             ],
             [
              0.5555555555555556,
              "#d8576b"
             ],
             [
              0.6666666666666666,
              "#ed7953"
             ],
             [
              0.7777777777777778,
              "#fb9f3a"
             ],
             [
              0.8888888888888888,
              "#fdca26"
             ],
             [
              1,
              "#f0f921"
             ]
            ],
            "type": "histogram2d"
           }
          ],
          "histogram2dcontour": [
           {
            "colorbar": {
             "outlinewidth": 0,
             "ticks": ""
            },
            "colorscale": [
             [
              0,
              "#0d0887"
             ],
             [
              0.1111111111111111,
              "#46039f"
             ],
             [
              0.2222222222222222,
              "#7201a8"
             ],
             [
              0.3333333333333333,
              "#9c179e"
             ],
             [
              0.4444444444444444,
              "#bd3786"
             ],
             [
              0.5555555555555556,
              "#d8576b"
             ],
             [
              0.6666666666666666,
              "#ed7953"
             ],
             [
              0.7777777777777778,
              "#fb9f3a"
             ],
             [
              0.8888888888888888,
              "#fdca26"
             ],
             [
              1,
              "#f0f921"
             ]
            ],
            "type": "histogram2dcontour"
           }
          ],
          "mesh3d": [
           {
            "colorbar": {
             "outlinewidth": 0,
             "ticks": ""
            },
            "type": "mesh3d"
           }
          ],
          "parcoords": [
           {
            "line": {
             "colorbar": {
              "outlinewidth": 0,
              "ticks": ""
             }
            },
            "type": "parcoords"
           }
          ],
          "pie": [
           {
            "automargin": true,
            "type": "pie"
           }
          ],
          "scatter": [
           {
            "fillpattern": {
             "fillmode": "overlay",
             "size": 10,
             "solidity": 0.2
            },
            "type": "scatter"
           }
          ],
          "scatter3d": [
           {
            "line": {
             "colorbar": {
              "outlinewidth": 0,
              "ticks": ""
             }
            },
            "marker": {
             "colorbar": {
              "outlinewidth": 0,
              "ticks": ""
             }
            },
            "type": "scatter3d"
           }
          ],
          "scattercarpet": [
           {
            "marker": {
             "colorbar": {
              "outlinewidth": 0,
              "ticks": ""
             }
            },
            "type": "scattercarpet"
           }
          ],
          "scattergeo": [
           {
            "marker": {
             "colorbar": {
              "outlinewidth": 0,
              "ticks": ""
             }
            },
            "type": "scattergeo"
           }
          ],
          "scattergl": [
           {
            "marker": {
             "colorbar": {
              "outlinewidth": 0,
              "ticks": ""
             }
            },
            "type": "scattergl"
           }
          ],
          "scattermapbox": [
           {
            "marker": {
             "colorbar": {
              "outlinewidth": 0,
              "ticks": ""
             }
            },
            "type": "scattermapbox"
           }
          ],
          "scatterpolar": [
           {
            "marker": {
             "colorbar": {
              "outlinewidth": 0,
              "ticks": ""
             }
            },
            "type": "scatterpolar"
           }
          ],
          "scatterpolargl": [
           {
            "marker": {
             "colorbar": {
              "outlinewidth": 0,
              "ticks": ""
             }
            },
            "type": "scatterpolargl"
           }
          ],
          "scatterternary": [
           {
            "marker": {
             "colorbar": {
              "outlinewidth": 0,
              "ticks": ""
             }
            },
            "type": "scatterternary"
           }
          ],
          "surface": [
           {
            "colorbar": {
             "outlinewidth": 0,
             "ticks": ""
            },
            "colorscale": [
             [
              0,
              "#0d0887"
             ],
             [
              0.1111111111111111,
              "#46039f"
             ],
             [
              0.2222222222222222,
              "#7201a8"
             ],
             [
              0.3333333333333333,
              "#9c179e"
             ],
             [
              0.4444444444444444,
              "#bd3786"
             ],
             [
              0.5555555555555556,
              "#d8576b"
             ],
             [
              0.6666666666666666,
              "#ed7953"
             ],
             [
              0.7777777777777778,
              "#fb9f3a"
             ],
             [
              0.8888888888888888,
              "#fdca26"
             ],
             [
              1,
              "#f0f921"
             ]
            ],
            "type": "surface"
           }
          ],
          "table": [
           {
            "cells": {
             "fill": {
              "color": "#EBF0F8"
             },
             "line": {
              "color": "white"
             }
            },
            "header": {
             "fill": {
              "color": "#C8D4E3"
             },
             "line": {
              "color": "white"
             }
            },
            "type": "table"
           }
          ]
         },
         "layout": {
          "annotationdefaults": {
           "arrowcolor": "#2a3f5f",
           "arrowhead": 0,
           "arrowwidth": 1
          },
          "autotypenumbers": "strict",
          "coloraxis": {
           "colorbar": {
            "outlinewidth": 0,
            "ticks": ""
           }
          },
          "colorscale": {
           "diverging": [
            [
             0,
             "#8e0152"
            ],
            [
             0.1,
             "#c51b7d"
            ],
            [
             0.2,
             "#de77ae"
            ],
            [
             0.3,
             "#f1b6da"
            ],
            [
             0.4,
             "#fde0ef"
            ],
            [
             0.5,
             "#f7f7f7"
            ],
            [
             0.6,
             "#e6f5d0"
            ],
            [
             0.7,
             "#b8e186"
            ],
            [
             0.8,
             "#7fbc41"
            ],
            [
             0.9,
             "#4d9221"
            ],
            [
             1,
             "#276419"
            ]
           ],
           "sequential": [
            [
             0,
             "#0d0887"
            ],
            [
             0.1111111111111111,
             "#46039f"
            ],
            [
             0.2222222222222222,
             "#7201a8"
            ],
            [
             0.3333333333333333,
             "#9c179e"
            ],
            [
             0.4444444444444444,
             "#bd3786"
            ],
            [
             0.5555555555555556,
             "#d8576b"
            ],
            [
             0.6666666666666666,
             "#ed7953"
            ],
            [
             0.7777777777777778,
             "#fb9f3a"
            ],
            [
             0.8888888888888888,
             "#fdca26"
            ],
            [
             1,
             "#f0f921"
            ]
           ],
           "sequentialminus": [
            [
             0,
             "#0d0887"
            ],
            [
             0.1111111111111111,
             "#46039f"
            ],
            [
             0.2222222222222222,
             "#7201a8"
            ],
            [
             0.3333333333333333,
             "#9c179e"
            ],
            [
             0.4444444444444444,
             "#bd3786"
            ],
            [
             0.5555555555555556,
             "#d8576b"
            ],
            [
             0.6666666666666666,
             "#ed7953"
            ],
            [
             0.7777777777777778,
             "#fb9f3a"
            ],
            [
             0.8888888888888888,
             "#fdca26"
            ],
            [
             1,
             "#f0f921"
            ]
           ]
          },
          "colorway": [
           "#636efa",
           "#EF553B",
           "#00cc96",
           "#ab63fa",
           "#FFA15A",
           "#19d3f3",
           "#FF6692",
           "#B6E880",
           "#FF97FF",
           "#FECB52"
          ],
          "font": {
           "color": "#2a3f5f"
          },
          "geo": {
           "bgcolor": "white",
           "lakecolor": "white",
           "landcolor": "white",
           "showlakes": true,
           "showland": true,
           "subunitcolor": "#C8D4E3"
          },
          "hoverlabel": {
           "align": "left"
          },
          "hovermode": "closest",
          "mapbox": {
           "style": "light"
          },
          "paper_bgcolor": "white",
          "plot_bgcolor": "white",
          "polar": {
           "angularaxis": {
            "gridcolor": "#EBF0F8",
            "linecolor": "#EBF0F8",
            "ticks": ""
           },
           "bgcolor": "white",
           "radialaxis": {
            "gridcolor": "#EBF0F8",
            "linecolor": "#EBF0F8",
            "ticks": ""
           }
          },
          "scene": {
           "xaxis": {
            "backgroundcolor": "white",
            "gridcolor": "#DFE8F3",
            "gridwidth": 2,
            "linecolor": "#EBF0F8",
            "showbackground": true,
            "ticks": "",
            "zerolinecolor": "#EBF0F8"
           },
           "yaxis": {
            "backgroundcolor": "white",
            "gridcolor": "#DFE8F3",
            "gridwidth": 2,
            "linecolor": "#EBF0F8",
            "showbackground": true,
            "ticks": "",
            "zerolinecolor": "#EBF0F8"
           },
           "zaxis": {
            "backgroundcolor": "white",
            "gridcolor": "#DFE8F3",
            "gridwidth": 2,
            "linecolor": "#EBF0F8",
            "showbackground": true,
            "ticks": "",
            "zerolinecolor": "#EBF0F8"
           }
          },
          "shapedefaults": {
           "line": {
            "color": "#2a3f5f"
           }
          },
          "ternary": {
           "aaxis": {
            "gridcolor": "#DFE8F3",
            "linecolor": "#A2B1C6",
            "ticks": ""
           },
           "baxis": {
            "gridcolor": "#DFE8F3",
            "linecolor": "#A2B1C6",
            "ticks": ""
           },
           "bgcolor": "white",
           "caxis": {
            "gridcolor": "#DFE8F3",
            "linecolor": "#A2B1C6",
            "ticks": ""
           }
          },
          "title": {
           "x": 0.05
          },
          "xaxis": {
           "automargin": true,
           "gridcolor": "#EBF0F8",
           "linecolor": "#EBF0F8",
           "ticks": "",
           "title": {
            "standoff": 15
           },
           "zerolinecolor": "#EBF0F8",
           "zerolinewidth": 2
          },
          "yaxis": {
           "automargin": true,
           "gridcolor": "#EBF0F8",
           "linecolor": "#EBF0F8",
           "ticks": "",
           "title": {
            "standoff": 15
           },
           "zerolinecolor": "#EBF0F8",
           "zerolinewidth": 2
          }
         }
        },
        "title": {
         "text": "Caseload errors"
        },
        "updatemenus": [
         {
          "buttons": [
           {
            "args": [
             null,
             {
              "frame": {
               "duration": 500,
               "redraw": true
              },
              "fromcurrent": true,
              "mode": "immediate",
              "transition": {
               "duration": 500,
               "easing": "linear"
              }
             }
            ],
            "label": "&#9654;",
            "method": "animate"
           },
           {
            "args": [
             [
              null
             ],
             {
              "frame": {
               "duration": 0,
               "redraw": true
              },
              "fromcurrent": true,
              "mode": "immediate",
              "transition": {
               "duration": 0,
               "easing": "linear"
              }
             }
            ],
            "label": "&#9724;",
            "method": "animate"
           }
          ],
          "direction": "left",
          "pad": {
           "r": 10,
           "t": 70
          },
          "showactive": false,
          "type": "buttons",
          "x": 0.1,
          "xanchor": "right",
          "y": 0,
          "yanchor": "top"
         }
        ],
        "width": 800,
        "xaxis": {
         "anchor": "y",
         "domain": [
          0,
          1
         ],
         "title": {
          "text": "Caseload error"
         }
        },
        "yaxis": {
         "anchor": "x",
         "domain": [
          0,
          1
         ],
         "title": {
          "text": ""
         }
        }
       }
      }
     },
     "metadata": {},
     "output_type": "display_data"
    }
   ],
   "source": [
    "def error_chart(table, title=None):\n",
    "    hovertemplate = \"<b>%{customdata[4]} in %{customdata[3]}</b><br>Error: %{x}<br>Official: %{customdata[2]}m<br>PolicyEngine-UK: %{customdata[0]}m<br>UKMOD: %{customdata[1]}m\"\n",
    "    table = table.replace(\"\", np.nan).dropna(axis=0)\n",
    "    table[[policyengine_uk, UKMOD]] = (\n",
    "        table[[policyengine_uk, UKMOD]].abs() / 1e2\n",
    "    )\n",
    "    fig = (\n",
    "        px.bar(\n",
    "            table.sort_values([\"Year\", policyengine_uk]),\n",
    "            x=[policyengine_uk, UKMOD],\n",
    "            y=\"Program\",\n",
    "            orientation=\"h\",\n",
    "            animation_frame=\"Year\",\n",
    "            barmode=\"group\",\n",
    "            color_discrete_map={\n",
    "                policyengine_uk: \"blue\",\n",
    "                UKMOD: \"lightgrey\",\n",
    "            },\n",
    "            custom_data=[\n",
    "                \"PolicyEngine-UK caseload\",\n",
    "                \"UKMOD caseload\",\n",
    "                \"External caseload\",\n",
    "                \"Year\",\n",
    "                \"Program\",\n",
    "            ],\n",
    "        )\n",
    "        .update_layout(\n",
    "            width=800,\n",
    "            height=600,\n",
    "            xaxis_title=\"Caseload error\",\n",
    "            title=title,\n",
    "            template=\"plotly_white\",\n",
    "            legend_title=\"Model\",\n",
    "            yaxis_title=\"\",\n",
    "            legend_traceorder=\"reversed\",\n",
    "        )\n",
    "        .update_traces(hovertemplate=hovertemplate)\n",
    "    )\n",
    "    for frame in fig.frames:\n",
    "        for data in frame.data:\n",
    "            data.hovertemplate = hovertemplate\n",
    "    return fig\n",
    "\n",
    "\n",
    "error_chart(\n",
    "    tables_to_model_comparisons(\n",
    "        {\n",
    "            \"\": model_validation_table(\n",
    "                caseload_error,\n",
    "                models=[policyengine_uk, UKMOD],\n",
    "                decimals=1,\n",
    "                divisor=1e-2,\n",
    "            ),\n",
    "            \"caseload\": model_validation_table(\n",
    "                caseload, divisor=1e6, decimals=1\n",
    "            ),\n",
    "        }\n",
    "    ),\n",
    "    title=\"Caseload errors\",\n",
    ")"
   ]
  },
  {
   "cell_type": "markdown",
   "id": "85a7bbc1-bc8f-45fa-9267-e01bf023b199",
   "metadata": {},
   "source": [
    "## Automated tests\n",
    "\n",
    "Below are test results from the most recent version."
   ]
  },
  {
   "cell_type": "code",
   "execution_count": 23,
   "id": "36cf98bd-f26a-49bb-a852-cedaeaf12a8d",
   "metadata": {
    "tags": [
     "hide-input"
    ]
   },
   "outputs": [
    {
     "data": {
      "text/html": [
       "<div>\n",
       "<style scoped>\n",
       "    .dataframe tbody tr th:only-of-type {\n",
       "        vertical-align: middle;\n",
       "    }\n",
       "\n",
       "    .dataframe tbody tr th {\n",
       "        vertical-align: top;\n",
       "    }\n",
       "\n",
       "    .dataframe thead th {\n",
       "        text-align: right;\n",
       "    }\n",
       "</style>\n",
       "<table border=\"1\" class=\"dataframe\">\n",
       "  <thead>\n",
       "    <tr style=\"text-align: right;\">\n",
       "      <th></th>\n",
       "      <th>Name</th>\n",
       "      <th>Passed</th>\n",
       "    </tr>\n",
       "  </thead>\n",
       "  <tbody>\n",
       "    <tr>\n",
       "      <th>0</th>\n",
       "      <td>PolicyEngine-UK Child Benefit caseload error is less than 10.0% in 2022</td>\n",
       "      <td>True</td>\n",
       "    </tr>\n",
       "    <tr>\n",
       "      <th>1</th>\n",
       "      <td>PolicyEngine-UK Council Tax (less CTB) aggregate error is less than 11.0% in 2022</td>\n",
       "      <td>True</td>\n",
       "    </tr>\n",
       "    <tr>\n",
       "      <th>2</th>\n",
       "      <td>PolicyEngine-UK Child Tax Credit aggregate error is less than 55.0% in 2022</td>\n",
       "      <td>True</td>\n",
       "    </tr>\n",
       "    <tr>\n",
       "      <th>3</th>\n",
       "      <td>PolicyEngine-UK Child Tax Credit caseload error is less than 25.0% in 2022</td>\n",
       "      <td>True</td>\n",
       "    </tr>\n",
       "    <tr>\n",
       "      <th>4</th>\n",
       "      <td>PolicyEngine-UK Working Tax Credit caseload error is less than 45.0% in 2022</td>\n",
       "      <td>True</td>\n",
       "    </tr>\n",
       "    <tr>\n",
       "      <th>5</th>\n",
       "      <td>PolicyEngine-UK Housing Benefit caseload error is less than 15.0% in 2022</td>\n",
       "      <td>True</td>\n",
       "    </tr>\n",
       "    <tr>\n",
       "      <th>6</th>\n",
       "      <td>PolicyEngine-UK JSA (income-based) aggregate error is less than 110.0% in 2022</td>\n",
       "      <td>True</td>\n",
       "    </tr>\n",
       "    <tr>\n",
       "      <th>7</th>\n",
       "      <td>PolicyEngine-UK Income Support caseload error is less than 50.0% in 2022</td>\n",
       "      <td>True</td>\n",
       "    </tr>\n",
       "    <tr>\n",
       "      <th>8</th>\n",
       "      <td>PolicyEngine-UK Universal Credit caseload error is less than 20.0% in 2022</td>\n",
       "      <td>True</td>\n",
       "    </tr>\n",
       "    <tr>\n",
       "      <th>9</th>\n",
       "      <td>PolicyEngine-UK Income Tax caseload error is less than 17.0% in 2022</td>\n",
       "      <td>True</td>\n",
       "    </tr>\n",
       "    <tr>\n",
       "      <th>10</th>\n",
       "      <td>PolicyEngine-UK National Insurance (total) aggregate error is less than 9.0% in 2022</td>\n",
       "      <td>True</td>\n",
       "    </tr>\n",
       "  </tbody>\n",
       "</table>\n",
       "</div>"
      ],
      "text/plain": [
       "                                                                                 Name  \\\n",
       "0   PolicyEngine-UK Child Benefit caseload error is less than 10.0% in 2022                \n",
       "1   PolicyEngine-UK Council Tax (less CTB) aggregate error is less than 11.0% in 2022      \n",
       "2   PolicyEngine-UK Child Tax Credit aggregate error is less than 55.0% in 2022            \n",
       "3   PolicyEngine-UK Child Tax Credit caseload error is less than 25.0% in 2022             \n",
       "4   PolicyEngine-UK Working Tax Credit caseload error is less than 45.0% in 2022           \n",
       "5   PolicyEngine-UK Housing Benefit caseload error is less than 15.0% in 2022              \n",
       "6   PolicyEngine-UK JSA (income-based) aggregate error is less than 110.0% in 2022         \n",
       "7   PolicyEngine-UK Income Support caseload error is less than 50.0% in 2022               \n",
       "8   PolicyEngine-UK Universal Credit caseload error is less than 20.0% in 2022             \n",
       "9   PolicyEngine-UK Income Tax caseload error is less than 17.0% in 2022                   \n",
       "10  PolicyEngine-UK National Insurance (total) aggregate error is less than 9.0% in 2022   \n",
       "\n",
       "    Passed  \n",
       "0   True    \n",
       "1   True    \n",
       "2   True    \n",
       "3   True    \n",
       "4   True    \n",
       "5   True    \n",
       "6   True    \n",
       "7   True    \n",
       "8   True    \n",
       "9   True    \n",
       "10  True    "
      ]
     },
     "execution_count": 23,
     "metadata": {},
     "output_type": "execute_result"
    }
   ],
   "source": [
    "from policyengine_uk.tests.microsimulation.test_statistics import tests\n",
    "\n",
    "pd.set_option(\"display.max_colwidth\", 0)\n",
    "pd.set_option(\"display.max_rows\", 500)\n",
    "pd.DataFrame({\"Name\": tests, \"Passed\": [test.test()[0] for test in tests]})"
   ]
  }
 ],
 "metadata": {
  "kernelspec": {
   "display_name": "Python 3.9.12 ('base')",
   "language": "python",
   "name": "python3"
  },
  "language_info": {
   "codemirror_mode": {
    "name": "ipython",
    "version": 3
   },
   "file_extension": ".py",
   "mimetype": "text/x-python",
   "name": "python",
   "nbconvert_exporter": "python",
   "pygments_lexer": "ipython3",
   "version": "3.9.12"
  },
  "vscode": {
   "interpreter": {
    "hash": "40d3a090f54c6569ab1632332b64b2c03c39dcf918b08424e98f38b5ae0af88f"
   }
  }
 },
 "nbformat": 4,
 "nbformat_minor": 5
}
