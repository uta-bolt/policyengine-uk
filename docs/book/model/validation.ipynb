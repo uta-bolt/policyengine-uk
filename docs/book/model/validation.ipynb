{
 "cells": [
  {
   "cell_type": "markdown",
   "id": "8fde3747",
   "metadata": {},
   "source": [
    "# Validation\n",
    "\n",
    "OpenFisca-UK runs unit and integration tests on each new version (see [here](https://github.com/PSLmodels/openfisca-uk/tree/master/tests)).\n",
    "In addition, the table below shows the aggregates produced by the model for the major taxes and benefits, and comparisons with UKMOD (latest [country report](https://www.iser.essex.ac.uk/research/publications/working-papers/cempa/cempa7-20.pdf)) and official sources.[^1]\n",
    "UKMOD and administrative sources refer to 2018, and OpenFisca-UK is simulated on policy at the end of 2018.\n",
    "Numbers are in billions of pounds.\n",
    "\n",
    "[^1]: From the UKMOD country report: unless otherwise specified: Department for Work and Pensions https://www.gov.uk/government/publications/benefit-expenditure-and-caseload-tables-2018 ; Best Start Grant: https://www2.gov.scot/Topics/Statistics/Browse/Social-Welfare/SocialSecurityforScotland/BSGJune2019; Child tax credit and working tax credit: HMRC statistics \n",
    "https://www.gov.uk/government/statistics/child-and-working-tax-credits-statistics-finalised-annual-awards-2016-to-2017; Scottish Child Payment: Scottish Fiscal Commission https://www.fiscalcommission.scot/forecast/supplementary-costing-scottish-child-payment; Scottish Child Winter Heating Assistance: Scottish Fiscal Commission \n",
    "https://www.fiscalcommission.scot/forecast/supplementary-costing-child-winter-heating-assistance; Income tax: HMRC statistics https://www.gov.uk/government/statistics/income-tax-liabilities-statistics-tax-year-2014-to-2015-to-tax-year-2017-to-2018; National Insurance Contributions: ONS Blue Book Table 5.2.4s "
   ]
  },
  {
   "cell_type": "markdown",
   "id": "d4998737",
   "metadata": {},
   "source": [
    "## Aggregate tables\n",
    "\n",
    "OpenFisca-UK uprates input FRS data: below are comparisons between the aggregates calculated by OpenFisca-UK, UKMOD and external sources.\n",
    "\n",
    "### Aggregates in full"
   ]
  },
  {
   "cell_type": "code",
   "execution_count": 1,
   "id": "cb98f204-73b5-42f9-a75d-e26c08e1f63c",
   "metadata": {},
   "outputs": [
    {
     "name": "stderr",
     "output_type": "stream",
     "text": [
      "WARNING:matplotlib:Bad value in file PosixPath('/home/nikhil/anaconda3/lib/python3.8/site-packages/matplotlib/mpl-data/stylelib/tableau-colorblind10.mplstyle'), line 2 (\"axes.prop_cycle: cycler('color', ['006BA4', 'FF800E', 'ABABAB', '595959', '5F9ED1', 'C85200', '898989', 'A2C8EC', 'FFBC79', 'CFCFCF'])\"): Key axes.prop_cycle: 'cycler('color', ['006BA4', 'FF800E', 'ABABAB', '595959', '5F9ED1', 'C85200', '898989', 'A2C8EC', 'FFBC79', 'CFCFCF'])' is not a valid cycler construction: \n"
     ]
    }
   ],
   "source": [
    "import numpy as np\n",
    "import pandas as pd\n",
    "from openfisca_uk import (\n",
    "    Microsimulation,\n",
    "    variables as default_variables,\n",
    "    REPO,\n",
    "    parameters,\n",
    ")\n",
    "from openfisca_core.parameters import ParameterNode\n",
    "from pathlib import Path\n",
    "import yaml\n",
    "import plotly.express as px\n",
    "\n",
    "OPENFISCA_UK = \"OpenFisca-UK\"\n",
    "UKMOD = \"UKMOD\"\n",
    "EXTERNAL = \"External\"\n",
    "\n",
    "VARIABLES = [\n",
    "    \"child_benefit\",\n",
    "    \"ESA_income\",\n",
    "    \"income_support\",\n",
    "    \"JSA_income\",\n",
    "    \"housing_benefit\",\n",
    "    \"working_tax_credit\",\n",
    "    \"child_tax_credit\",\n",
    "    \"universal_credit\",\n",
    "    \"pension_credit\",\n",
    "    \"income_tax\",\n",
    "    \"total_NI\",\n",
    "]\n",
    "\n",
    "sim = Microsimulation()\n",
    "\n",
    "# https://stackoverflow.com/questions/34667108/ignore-dates-and-times-while-parsing-yaml\n",
    "\n",
    "yaml.SafeLoader.yaml_implicit_resolvers = {\n",
    "    k: [r for r in v if r[0] != \"tag:yaml.org,2002:timestamp\"]\n",
    "    for k, v in yaml.SafeLoader.yaml_implicit_resolvers.items()\n",
    "}\n",
    "\n",
    "with open(\n",
    "    REPO.parent\n",
    "    / \"docs\"\n",
    "    / \"book\"\n",
    "    / \"model\"\n",
    "    / \"ukmod_country_report_statistics.yaml\",\n",
    "    mode=\"r\",\n",
    ") as f:\n",
    "    ukmod_statistics = ParameterNode(\n",
    "        \"ukmod\", data=yaml.load(f, Loader=yaml.SafeLoader)\n",
    "    )\n",
    "\n",
    "\n",
    "def process_scalar(x, divisor, decimals):\n",
    "    if np.isnan(x):\n",
    "        return x\n",
    "    return round(x / divisor, decimals)\n",
    "\n",
    "\n",
    "def model_validation_table(\n",
    "    model_year_variable_to_result_func,\n",
    "    title=None,\n",
    "    start_year=2019,\n",
    "    end_year=2025,\n",
    "    divisor=1,\n",
    "    decimals=0,\n",
    "    models=[EXTERNAL, OPENFISCA_UK, UKMOD],\n",
    "    variables=VARIABLES,\n",
    "):\n",
    "    dfs = []\n",
    "    for model in models:\n",
    "        df = pd.DataFrame(\n",
    "            {\n",
    "                year: {\n",
    "                    default_variables[variable].label: process_scalar(\n",
    "                        model_year_variable_to_result_func(\n",
    "                            model, year, variable\n",
    "                        ),\n",
    "                        divisor,\n",
    "                        decimals,\n",
    "                    )\n",
    "                    for variable in variables\n",
    "                }\n",
    "                for year in range(start_year, end_year + 1)\n",
    "            }\n",
    "        )\n",
    "        dfs.append(df.T)\n",
    "    return pd.concat(dfs, keys=models).replace(np.nan, \"\")\n",
    "\n",
    "\n",
    "def budgetary_impact(model, year, variable):\n",
    "    try:\n",
    "        if model == OPENFISCA_UK:\n",
    "            return sim.calc(variable, map_to=\"household\", period=year).sum()\n",
    "        elif model == UKMOD:\n",
    "            return getattr(ukmod_statistics.ukmod.budgetary_impact, variable)(\n",
    "                f\"{year}-01-01\"\n",
    "            )\n",
    "        elif model == EXTERNAL:\n",
    "            return getattr(\n",
    "                parameters.calibration.budgetary_impact.by_program, variable\n",
    "            )(f\"{year}-01-01\")\n",
    "    except:\n",
    "        return np.nan"
   ]
  },
  {
   "cell_type": "code",
   "execution_count": 2,
   "id": "7526e917-5a11-46fa-8c71-f1e32de1653e",
   "metadata": {},
   "outputs": [
    {
     "data": {
      "text/html": [
       "<div>\n",
       "<style scoped>\n",
       "    .dataframe tbody tr th:only-of-type {\n",
       "        vertical-align: middle;\n",
       "    }\n",
       "\n",
       "    .dataframe tbody tr th {\n",
       "        vertical-align: top;\n",
       "    }\n",
       "\n",
       "    .dataframe thead th {\n",
       "        text-align: right;\n",
       "    }\n",
       "</style>\n",
       "<table border=\"1\" class=\"dataframe\">\n",
       "  <thead>\n",
       "    <tr style=\"text-align: right;\">\n",
       "      <th></th>\n",
       "      <th></th>\n",
       "      <th>Child Benefit</th>\n",
       "      <th>ESA (income-based)</th>\n",
       "      <th>Income Support</th>\n",
       "      <th>JSA (income-based)</th>\n",
       "      <th>Housing Benefit</th>\n",
       "      <th>Working Tax Credit</th>\n",
       "      <th>Child Tax Credit</th>\n",
       "      <th>Universal Credit</th>\n",
       "      <th>Pension Credit</th>\n",
       "      <th>Income Tax</th>\n",
       "      <th>National Insurance (total)</th>\n",
       "    </tr>\n",
       "  </thead>\n",
       "  <tbody>\n",
       "    <tr>\n",
       "      <th rowspan=\"7\" valign=\"top\">External</th>\n",
       "      <th>2019</th>\n",
       "      <td>11.1</td>\n",
       "      <td>9.3</td>\n",
       "      <td>1.4</td>\n",
       "      <td>0.6</td>\n",
       "      <td>18.4</td>\n",
       "      <td>3.8</td>\n",
       "      <td>13.9</td>\n",
       "      <td>18.4</td>\n",
       "      <td>5.1</td>\n",
       "      <td>193.6</td>\n",
       "      <td>145.0</td>\n",
       "    </tr>\n",
       "    <tr>\n",
       "      <th>2020</th>\n",
       "      <td>11.1</td>\n",
       "      <td>8.8</td>\n",
       "      <td>1.1</td>\n",
       "      <td>0.4</td>\n",
       "      <td>17.3</td>\n",
       "      <td>3.1</td>\n",
       "      <td>11.4</td>\n",
       "      <td>38.3</td>\n",
       "      <td>5.1</td>\n",
       "      <td>188.2</td>\n",
       "      <td>140.8</td>\n",
       "    </tr>\n",
       "    <tr>\n",
       "      <th>2021</th>\n",
       "      <td>11.0</td>\n",
       "      <td>8.3</td>\n",
       "      <td>0.9</td>\n",
       "      <td>0.3</td>\n",
       "      <td>17.1</td>\n",
       "      <td>2.2</td>\n",
       "      <td>8.1</td>\n",
       "      <td>41.1</td>\n",
       "      <td>5.0</td>\n",
       "      <td>203.6</td>\n",
       "      <td>145.9</td>\n",
       "    </tr>\n",
       "    <tr>\n",
       "      <th>2022</th>\n",
       "      <td>11.2</td>\n",
       "      <td>8.2</td>\n",
       "      <td>0.7</td>\n",
       "      <td>0.2</td>\n",
       "      <td>15.9</td>\n",
       "      <td>1.6</td>\n",
       "      <td>6.0</td>\n",
       "      <td>43.7</td>\n",
       "      <td>4.5</td>\n",
       "      <td>205.0</td>\n",
       "      <td>151.3</td>\n",
       "    </tr>\n",
       "    <tr>\n",
       "      <th>2023</th>\n",
       "      <td>11.5</td>\n",
       "      <td>7.8</td>\n",
       "      <td>0.5</td>\n",
       "      <td>0.0</td>\n",
       "      <td>14.7</td>\n",
       "      <td>1.2</td>\n",
       "      <td>4.5</td>\n",
       "      <td>49.8</td>\n",
       "      <td>4.4</td>\n",
       "      <td>215.0</td>\n",
       "      <td>157.5</td>\n",
       "    </tr>\n",
       "    <tr>\n",
       "      <th>2024</th>\n",
       "      <td>11.6</td>\n",
       "      <td>6.4</td>\n",
       "      <td>0.5</td>\n",
       "      <td>0.0</td>\n",
       "      <td>12.5</td>\n",
       "      <td>0.8</td>\n",
       "      <td>3.0</td>\n",
       "      <td>57.8</td>\n",
       "      <td>4.4</td>\n",
       "      <td>225.7</td>\n",
       "      <td>164.6</td>\n",
       "    </tr>\n",
       "    <tr>\n",
       "      <th>2025</th>\n",
       "      <td>11.6</td>\n",
       "      <td>3.5</td>\n",
       "      <td>0.4</td>\n",
       "      <td>0.0</td>\n",
       "      <td>10.2</td>\n",
       "      <td>0.4</td>\n",
       "      <td>1.3</td>\n",
       "      <td>68.0</td>\n",
       "      <td>4.2</td>\n",
       "      <td>237.5</td>\n",
       "      <td>172.1</td>\n",
       "    </tr>\n",
       "    <tr>\n",
       "      <th rowspan=\"7\" valign=\"top\">OpenFisca-UK</th>\n",
       "      <th>2019</th>\n",
       "      <td>10.8</td>\n",
       "      <td>6.4</td>\n",
       "      <td>1.5</td>\n",
       "      <td>0.5</td>\n",
       "      <td>13.4</td>\n",
       "      <td>3.9</td>\n",
       "      <td>14.9</td>\n",
       "      <td>19.8</td>\n",
       "      <td>2.9</td>\n",
       "      <td>171.9</td>\n",
       "      <td>146.1</td>\n",
       "    </tr>\n",
       "    <tr>\n",
       "      <th>2020</th>\n",
       "      <td>10.6</td>\n",
       "      <td>6.5</td>\n",
       "      <td>1.2</td>\n",
       "      <td>0.4</td>\n",
       "      <td>12.7</td>\n",
       "      <td>3.3</td>\n",
       "      <td>12.6</td>\n",
       "      <td>36.6</td>\n",
       "      <td>2.8</td>\n",
       "      <td>163.3</td>\n",
       "      <td>147.1</td>\n",
       "    </tr>\n",
       "    <tr>\n",
       "      <th>2021</th>\n",
       "      <td>10.6</td>\n",
       "      <td>3.4</td>\n",
       "      <td>1.0</td>\n",
       "      <td>0.3</td>\n",
       "      <td>12.7</td>\n",
       "      <td>3.1</td>\n",
       "      <td>9.7</td>\n",
       "      <td>39.1</td>\n",
       "      <td>3.0</td>\n",
       "      <td>178.4</td>\n",
       "      <td>151.1</td>\n",
       "    </tr>\n",
       "    <tr>\n",
       "      <th>2022</th>\n",
       "      <td>10.6</td>\n",
       "      <td>3.3</td>\n",
       "      <td>0.7</td>\n",
       "      <td>0.2</td>\n",
       "      <td>12.0</td>\n",
       "      <td>2.2</td>\n",
       "      <td>7.7</td>\n",
       "      <td>39.7</td>\n",
       "      <td>2.8</td>\n",
       "      <td>177.3</td>\n",
       "      <td>155.1</td>\n",
       "    </tr>\n",
       "    <tr>\n",
       "      <th>2023</th>\n",
       "      <td>10.8</td>\n",
       "      <td>3.1</td>\n",
       "      <td>0.5</td>\n",
       "      <td>0.0</td>\n",
       "      <td>11.3</td>\n",
       "      <td>1.8</td>\n",
       "      <td>6.0</td>\n",
       "      <td>43.9</td>\n",
       "      <td>2.6</td>\n",
       "      <td>186.2</td>\n",
       "      <td>159.5</td>\n",
       "    </tr>\n",
       "    <tr>\n",
       "      <th>2024</th>\n",
       "      <td>11.1</td>\n",
       "      <td>2.4</td>\n",
       "      <td>0.4</td>\n",
       "      <td>0.3</td>\n",
       "      <td>10.1</td>\n",
       "      <td>1.4</td>\n",
       "      <td>4.4</td>\n",
       "      <td>49.7</td>\n",
       "      <td>2.5</td>\n",
       "      <td>195.5</td>\n",
       "      <td>163.7</td>\n",
       "    </tr>\n",
       "    <tr>\n",
       "      <th>2025</th>\n",
       "      <td>11.6</td>\n",
       "      <td>1.3</td>\n",
       "      <td>0.3</td>\n",
       "      <td>0.3</td>\n",
       "      <td>8.5</td>\n",
       "      <td>0.9</td>\n",
       "      <td>2.6</td>\n",
       "      <td>56.7</td>\n",
       "      <td>2.4</td>\n",
       "      <td>205.6</td>\n",
       "      <td>167.6</td>\n",
       "    </tr>\n",
       "    <tr>\n",
       "      <th rowspan=\"7\" valign=\"top\">UKMOD</th>\n",
       "      <th>2019</th>\n",
       "      <td>11.3</td>\n",
       "      <td>6.1</td>\n",
       "      <td></td>\n",
       "      <td></td>\n",
       "      <td>12.6</td>\n",
       "      <td>2.1</td>\n",
       "      <td>8.5</td>\n",
       "      <td>17.4</td>\n",
       "      <td>4.4</td>\n",
       "      <td>163.3</td>\n",
       "      <td>149.4</td>\n",
       "    </tr>\n",
       "    <tr>\n",
       "      <th>2020</th>\n",
       "      <td>11.5</td>\n",
       "      <td>5.5</td>\n",
       "      <td></td>\n",
       "      <td></td>\n",
       "      <td>12.3</td>\n",
       "      <td>2.4</td>\n",
       "      <td>7.8</td>\n",
       "      <td>26.4</td>\n",
       "      <td>4.6</td>\n",
       "      <td>159.2</td>\n",
       "      <td>140.8</td>\n",
       "    </tr>\n",
       "    <tr>\n",
       "      <th>2021</th>\n",
       "      <td>11.7</td>\n",
       "      <td>4.8</td>\n",
       "      <td></td>\n",
       "      <td></td>\n",
       "      <td>11.0</td>\n",
       "      <td>2.1</td>\n",
       "      <td>6.5</td>\n",
       "      <td>29.8</td>\n",
       "      <td>4.1</td>\n",
       "      <td>152.4</td>\n",
       "      <td>137.7</td>\n",
       "    </tr>\n",
       "    <tr>\n",
       "      <th>2022</th>\n",
       "      <td>12.0</td>\n",
       "      <td>4.2</td>\n",
       "      <td></td>\n",
       "      <td></td>\n",
       "      <td>10.3</td>\n",
       "      <td>1.6</td>\n",
       "      <td>5.4</td>\n",
       "      <td>34.1</td>\n",
       "      <td>4.2</td>\n",
       "      <td>161.2</td>\n",
       "      <td>156.0</td>\n",
       "    </tr>\n",
       "    <tr>\n",
       "      <th>2023</th>\n",
       "      <td>12.3</td>\n",
       "      <td>3.7</td>\n",
       "      <td></td>\n",
       "      <td></td>\n",
       "      <td>9.6</td>\n",
       "      <td>1.3</td>\n",
       "      <td>4.5</td>\n",
       "      <td>39.1</td>\n",
       "      <td>4.4</td>\n",
       "      <td>170.6</td>\n",
       "      <td>145.1</td>\n",
       "    </tr>\n",
       "    <tr>\n",
       "      <th>2024</th>\n",
       "      <td>12.5</td>\n",
       "      <td>2.7</td>\n",
       "      <td></td>\n",
       "      <td></td>\n",
       "      <td>8.5</td>\n",
       "      <td>0.9</td>\n",
       "      <td>3.3</td>\n",
       "      <td>39.1</td>\n",
       "      <td>4.5</td>\n",
       "      <td>178.5</td>\n",
       "      <td>147.9</td>\n",
       "    </tr>\n",
       "    <tr>\n",
       "      <th>2025</th>\n",
       "      <td>12.6</td>\n",
       "      <td>1.2</td>\n",
       "      <td></td>\n",
       "      <td></td>\n",
       "      <td>6.7</td>\n",
       "      <td>0.4</td>\n",
       "      <td>1.5</td>\n",
       "      <td>45.6</td>\n",
       "      <td>4.5</td>\n",
       "      <td>187.9</td>\n",
       "      <td>151.9</td>\n",
       "    </tr>\n",
       "  </tbody>\n",
       "</table>\n",
       "</div>"
      ],
      "text/plain": [
       "                   Child Benefit  ESA (income-based) Income Support  \\\n",
       "External     2019           11.1                 9.3            1.4   \n",
       "             2020           11.1                 8.8            1.1   \n",
       "             2021           11.0                 8.3            0.9   \n",
       "             2022           11.2                 8.2            0.7   \n",
       "             2023           11.5                 7.8            0.5   \n",
       "             2024           11.6                 6.4            0.5   \n",
       "             2025           11.6                 3.5            0.4   \n",
       "OpenFisca-UK 2019           10.8                 6.4            1.5   \n",
       "             2020           10.6                 6.5            1.2   \n",
       "             2021           10.6                 3.4            1.0   \n",
       "             2022           10.6                 3.3            0.7   \n",
       "             2023           10.8                 3.1            0.5   \n",
       "             2024           11.1                 2.4            0.4   \n",
       "             2025           11.6                 1.3            0.3   \n",
       "UKMOD        2019           11.3                 6.1                  \n",
       "             2020           11.5                 5.5                  \n",
       "             2021           11.7                 4.8                  \n",
       "             2022           12.0                 4.2                  \n",
       "             2023           12.3                 3.7                  \n",
       "             2024           12.5                 2.7                  \n",
       "             2025           12.6                 1.2                  \n",
       "\n",
       "                  JSA (income-based)  Housing Benefit  Working Tax Credit  \\\n",
       "External     2019                0.6             18.4                 3.8   \n",
       "             2020                0.4             17.3                 3.1   \n",
       "             2021                0.3             17.1                 2.2   \n",
       "             2022                0.2             15.9                 1.6   \n",
       "             2023                0.0             14.7                 1.2   \n",
       "             2024                0.0             12.5                 0.8   \n",
       "             2025                0.0             10.2                 0.4   \n",
       "OpenFisca-UK 2019                0.5             13.4                 3.9   \n",
       "             2020                0.4             12.7                 3.3   \n",
       "             2021                0.3             12.7                 3.1   \n",
       "             2022                0.2             12.0                 2.2   \n",
       "             2023                0.0             11.3                 1.8   \n",
       "             2024                0.3             10.1                 1.4   \n",
       "             2025                0.3              8.5                 0.9   \n",
       "UKMOD        2019                                12.6                 2.1   \n",
       "             2020                                12.3                 2.4   \n",
       "             2021                                11.0                 2.1   \n",
       "             2022                                10.3                 1.6   \n",
       "             2023                                 9.6                 1.3   \n",
       "             2024                                 8.5                 0.9   \n",
       "             2025                                 6.7                 0.4   \n",
       "\n",
       "                   Child Tax Credit  Universal Credit  Pension Credit  \\\n",
       "External     2019              13.9              18.4             5.1   \n",
       "             2020              11.4              38.3             5.1   \n",
       "             2021               8.1              41.1             5.0   \n",
       "             2022               6.0              43.7             4.5   \n",
       "             2023               4.5              49.8             4.4   \n",
       "             2024               3.0              57.8             4.4   \n",
       "             2025               1.3              68.0             4.2   \n",
       "OpenFisca-UK 2019              14.9              19.8             2.9   \n",
       "             2020              12.6              36.6             2.8   \n",
       "             2021               9.7              39.1             3.0   \n",
       "             2022               7.7              39.7             2.8   \n",
       "             2023               6.0              43.9             2.6   \n",
       "             2024               4.4              49.7             2.5   \n",
       "             2025               2.6              56.7             2.4   \n",
       "UKMOD        2019               8.5              17.4             4.4   \n",
       "             2020               7.8              26.4             4.6   \n",
       "             2021               6.5              29.8             4.1   \n",
       "             2022               5.4              34.1             4.2   \n",
       "             2023               4.5              39.1             4.4   \n",
       "             2024               3.3              39.1             4.5   \n",
       "             2025               1.5              45.6             4.5   \n",
       "\n",
       "                   Income Tax  National Insurance (total)  \n",
       "External     2019       193.6                       145.0  \n",
       "             2020       188.2                       140.8  \n",
       "             2021       203.6                       145.9  \n",
       "             2022       205.0                       151.3  \n",
       "             2023       215.0                       157.5  \n",
       "             2024       225.7                       164.6  \n",
       "             2025       237.5                       172.1  \n",
       "OpenFisca-UK 2019       171.9                       146.1  \n",
       "             2020       163.3                       147.1  \n",
       "             2021       178.4                       151.1  \n",
       "             2022       177.3                       155.1  \n",
       "             2023       186.2                       159.5  \n",
       "             2024       195.5                       163.7  \n",
       "             2025       205.6                       167.6  \n",
       "UKMOD        2019       163.3                       149.4  \n",
       "             2020       159.2                       140.8  \n",
       "             2021       152.4                       137.7  \n",
       "             2022       161.2                       156.0  \n",
       "             2023       170.6                       145.1  \n",
       "             2024       178.5                       147.9  \n",
       "             2025       187.9                       151.9  "
      ]
     },
     "execution_count": 2,
     "metadata": {},
     "output_type": "execute_result"
    }
   ],
   "source": [
    "model_validation_table(budgetary_impact, divisor=1e9, decimals=1)"
   ]
  },
  {
   "cell_type": "markdown",
   "id": "626c55d3-8a51-4148-baae-3cf7405d2163",
   "metadata": {},
   "source": [
    "### Forecast comparison"
   ]
  },
  {
   "cell_type": "code",
   "execution_count": 13,
   "id": "e4b06316-41a6-480b-9816-9afdc244a824",
   "metadata": {},
   "outputs": [
    {
     "data": {
      "application/vnd.plotly.v1+json": {
       "config": {
        "plotlyServerURL": "https://plot.ly"
       },
       "data": [
        {
         "hovertemplate": "",
         "legendgroup": "External",
         "line": {
          "color": "#00cc96",
          "dash": "solid"
         },
         "marker": {
          "symbol": "circle"
         },
         "mode": "lines",
         "name": "External",
         "orientation": "h",
         "showlegend": true,
         "type": "scatter",
         "x": [
          2019,
          2020,
          2021,
          2022,
          2023,
          2024,
          2025
         ],
         "xaxis": "x",
         "y": [
          11081000000,
          11116000000,
          10981000000,
          11213000000,
          11546000000,
          11626000000,
          11627000000
         ],
         "yaxis": "y"
        },
        {
         "hovertemplate": "",
         "legendgroup": "OpenFisca-UK",
         "line": {
          "color": "blue",
          "dash": "solid"
         },
         "marker": {
          "symbol": "circle"
         },
         "mode": "lines",
         "name": "OpenFisca-UK",
         "orientation": "h",
         "showlegend": true,
         "type": "scatter",
         "x": [
          2019,
          2020,
          2021,
          2022,
          2023,
          2024,
          2025
         ],
         "xaxis": "x",
         "y": [
          10757104223.8,
          10599731603.8,
          10634512275.8,
          10551004494.5,
          10750028290.8,
          11136115790.4,
          11552229598.5
         ],
         "yaxis": "y"
        },
        {
         "hovertemplate": "",
         "legendgroup": "UKMOD",
         "line": {
          "color": "lightgrey",
          "dash": "solid"
         },
         "marker": {
          "symbol": "circle"
         },
         "mode": "lines",
         "name": "UKMOD",
         "orientation": "h",
         "showlegend": true,
         "type": "scatter",
         "x": [
          2019,
          2020,
          2021,
          2022,
          2023,
          2024,
          2025
         ],
         "xaxis": "x",
         "y": [
          11340000000,
          11539000000,
          11703000000,
          11963000000,
          12331000000,
          12547000000,
          12579000000
         ],
         "yaxis": "y"
        }
       ],
       "frames": [
        {
         "data": [
          {
           "hovertemplate": "",
           "legendgroup": "External",
           "line": {
            "color": "#00cc96",
            "dash": "solid"
           },
           "marker": {
            "symbol": "circle"
           },
           "mode": "lines",
           "name": "External",
           "orientation": "h",
           "showlegend": true,
           "type": "scatter",
           "x": [
            2019,
            2020,
            2021,
            2022,
            2023,
            2024,
            2025
           ],
           "xaxis": "x",
           "y": [
            11081000000,
            11116000000,
            10981000000,
            11213000000,
            11546000000,
            11626000000,
            11627000000
           ],
           "yaxis": "y"
          },
          {
           "hovertemplate": "",
           "legendgroup": "OpenFisca-UK",
           "line": {
            "color": "blue",
            "dash": "solid"
           },
           "marker": {
            "symbol": "circle"
           },
           "mode": "lines",
           "name": "OpenFisca-UK",
           "orientation": "h",
           "showlegend": true,
           "type": "scatter",
           "x": [
            2019,
            2020,
            2021,
            2022,
            2023,
            2024,
            2025
           ],
           "xaxis": "x",
           "y": [
            10757104223.8,
            10599731603.8,
            10634512275.8,
            10551004494.5,
            10750028290.8,
            11136115790.4,
            11552229598.5
           ],
           "yaxis": "y"
          },
          {
           "hovertemplate": "",
           "legendgroup": "UKMOD",
           "line": {
            "color": "lightgrey",
            "dash": "solid"
           },
           "marker": {
            "symbol": "circle"
           },
           "mode": "lines",
           "name": "UKMOD",
           "orientation": "h",
           "showlegend": true,
           "type": "scatter",
           "x": [
            2019,
            2020,
            2021,
            2022,
            2023,
            2024,
            2025
           ],
           "xaxis": "x",
           "y": [
            11340000000,
            11539000000,
            11703000000,
            11963000000,
            12331000000,
            12547000000,
            12579000000
           ],
           "yaxis": "y"
          }
         ],
         "name": "Child Benefit"
        },
        {
         "data": [
          {
           "hovertemplate": "",
           "legendgroup": "External",
           "line": {
            "color": "#00cc96",
            "dash": "solid"
           },
           "marker": {
            "symbol": "circle"
           },
           "mode": "lines",
           "name": "External",
           "orientation": "h",
           "showlegend": true,
           "type": "scatter",
           "x": [
            2019,
            2020,
            2021,
            2022,
            2023,
            2024,
            2025
           ],
           "xaxis": "x",
           "y": [
            13875000000,
            11441000000,
            8088000000,
            5995000000,
            4494872881,
            2951377119,
            1338898305
           ],
           "yaxis": "y"
          },
          {
           "hovertemplate": "",
           "legendgroup": "OpenFisca-UK",
           "line": {
            "color": "blue",
            "dash": "solid"
           },
           "marker": {
            "symbol": "circle"
           },
           "mode": "lines",
           "name": "OpenFisca-UK",
           "orientation": "h",
           "showlegend": true,
           "type": "scatter",
           "x": [
            2019,
            2020,
            2021,
            2022,
            2023,
            2024,
            2025
           ],
           "xaxis": "x",
           "y": [
            14882834680.9,
            12554650547.1,
            9652433437,
            7672176055.5,
            6014222962.6,
            4393864724.2,
            2564280107.1
           ],
           "yaxis": "y"
          },
          {
           "hovertemplate": "",
           "legendgroup": "UKMOD",
           "line": {
            "color": "lightgrey",
            "dash": "solid"
           },
           "marker": {
            "symbol": "circle"
           },
           "mode": "lines",
           "name": "UKMOD",
           "orientation": "h",
           "showlegend": true,
           "type": "scatter",
           "x": [
            2019,
            2020,
            2021,
            2022,
            2023,
            2024,
            2025
           ],
           "xaxis": "x",
           "y": [
            8451000000,
            7795000000,
            6538000000,
            5382000000,
            4546000000,
            3287000000,
            1461000000
           ],
           "yaxis": "y"
          }
         ],
         "name": "Child Tax Credit"
        },
        {
         "data": [
          {
           "hovertemplate": "",
           "legendgroup": "External",
           "line": {
            "color": "#00cc96",
            "dash": "solid"
           },
           "marker": {
            "symbol": "circle"
           },
           "mode": "lines",
           "name": "External",
           "orientation": "h",
           "showlegend": true,
           "type": "scatter",
           "x": [
            2019,
            2020,
            2021,
            2022,
            2023,
            2024,
            2025
           ],
           "xaxis": "x",
           "y": [
            9339000000,
            8815000000,
            8254000000,
            8216000000,
            7826000000,
            6363000000,
            3503000000
           ],
           "yaxis": "y"
          },
          {
           "hovertemplate": "",
           "legendgroup": "OpenFisca-UK",
           "line": {
            "color": "blue",
            "dash": "solid"
           },
           "marker": {
            "symbol": "circle"
           },
           "mode": "lines",
           "name": "OpenFisca-UK",
           "orientation": "h",
           "showlegend": true,
           "type": "scatter",
           "x": [
            2019,
            2020,
            2021,
            2022,
            2023,
            2024,
            2025
           ],
           "xaxis": "x",
           "y": [
            6360162785.9,
            6513210895.5,
            3383160807.5,
            3272428461.6,
            3074975626.6,
            2445317546.8,
            1254270784
           ],
           "yaxis": "y"
          },
          {
           "hovertemplate": "",
           "legendgroup": "UKMOD",
           "line": {
            "color": "lightgrey",
            "dash": "solid"
           },
           "marker": {
            "symbol": "circle"
           },
           "mode": "lines",
           "name": "UKMOD",
           "orientation": "h",
           "showlegend": true,
           "type": "scatter",
           "x": [
            2019,
            2020,
            2021,
            2022,
            2023,
            2024,
            2025
           ],
           "xaxis": "x",
           "y": [
            6141000000,
            5521000000,
            4772000000,
            4203000000,
            3664000000,
            2680000000,
            1221000000
           ],
           "yaxis": "y"
          }
         ],
         "name": "ESA (income-based)"
        },
        {
         "data": [
          {
           "hovertemplate": "",
           "legendgroup": "External",
           "line": {
            "color": "#00cc96",
            "dash": "solid"
           },
           "marker": {
            "symbol": "circle"
           },
           "mode": "lines",
           "name": "External",
           "orientation": "h",
           "showlegend": true,
           "type": "scatter",
           "x": [
            2019,
            2020,
            2021,
            2022,
            2023,
            2024,
            2025
           ],
           "xaxis": "x",
           "y": [
            18379000000,
            17334000000,
            17112000000,
            15894000000,
            14728000000,
            12503000000,
            10213000000
           ],
           "yaxis": "y"
          },
          {
           "hovertemplate": "",
           "legendgroup": "OpenFisca-UK",
           "line": {
            "color": "blue",
            "dash": "solid"
           },
           "marker": {
            "symbol": "circle"
           },
           "mode": "lines",
           "name": "OpenFisca-UK",
           "orientation": "h",
           "showlegend": true,
           "type": "scatter",
           "x": [
            2019,
            2020,
            2021,
            2022,
            2023,
            2024,
            2025
           ],
           "xaxis": "x",
           "y": [
            13410603917,
            12707220259.7,
            12681175523.1,
            12037034024,
            11256201392.5,
            10079424612.3,
            8543904536
           ],
           "yaxis": "y"
          },
          {
           "hovertemplate": "",
           "legendgroup": "UKMOD",
           "line": {
            "color": "lightgrey",
            "dash": "solid"
           },
           "marker": {
            "symbol": "circle"
           },
           "mode": "lines",
           "name": "UKMOD",
           "orientation": "h",
           "showlegend": true,
           "type": "scatter",
           "x": [
            2019,
            2020,
            2021,
            2022,
            2023,
            2024,
            2025
           ],
           "xaxis": "x",
           "y": [
            12560000000,
            12319000000,
            10955000000,
            10332000000,
            9622000000,
            8476000000,
            6706000000
           ],
           "yaxis": "y"
          }
         ],
         "name": "Housing Benefit"
        },
        {
         "data": [
          {
           "hovertemplate": "",
           "legendgroup": "External",
           "line": {
            "color": "#00cc96",
            "dash": "solid"
           },
           "marker": {
            "symbol": "circle"
           },
           "mode": "lines",
           "name": "External",
           "orientation": "h",
           "showlegend": true,
           "type": "scatter",
           "x": [
            2019,
            2020,
            2021,
            2022,
            2023,
            2024,
            2025
           ],
           "xaxis": "x",
           "y": [
            1376000000,
            1080000000,
            854000000,
            670000000,
            491000000,
            471000000,
            432000000
           ],
           "yaxis": "y"
          },
          {
           "hovertemplate": "",
           "legendgroup": "OpenFisca-UK",
           "line": {
            "color": "blue",
            "dash": "solid"
           },
           "marker": {
            "symbol": "circle"
           },
           "mode": "lines",
           "name": "OpenFisca-UK",
           "orientation": "h",
           "showlegend": true,
           "type": "scatter",
           "x": [
            2019,
            2020,
            2021,
            2022,
            2023,
            2024,
            2025
           ],
           "xaxis": "x",
           "y": [
            1518966645.6,
            1233347493.3,
            964600743.1,
            730502835.5,
            543822302.9,
            449049383.5,
            287746741.6
           ],
           "yaxis": "y"
          },
          {
           "hovertemplate": "",
           "legendgroup": "UKMOD",
           "line": {
            "color": "lightgrey",
            "dash": "solid"
           },
           "marker": {
            "symbol": "circle"
           },
           "mode": "lines",
           "name": "UKMOD",
           "orientation": "h",
           "showlegend": true,
           "type": "scatter",
           "x": [
            2019,
            2020,
            2021,
            2022,
            2023,
            2024,
            2025
           ],
           "xaxis": "x",
           "y": [
            "",
            "",
            "",
            "",
            "",
            "",
            ""
           ],
           "yaxis": "y"
          }
         ],
         "name": "Income Support"
        },
        {
         "data": [
          {
           "hovertemplate": "",
           "legendgroup": "External",
           "line": {
            "color": "#00cc96",
            "dash": "solid"
           },
           "marker": {
            "symbol": "circle"
           },
           "mode": "lines",
           "name": "External",
           "orientation": "h",
           "showlegend": true,
           "type": "scatter",
           "x": [
            2019,
            2020,
            2021,
            2022,
            2023,
            2024,
            2025
           ],
           "xaxis": "x",
           "y": [
            193600000000,
            188200000000,
            203600000000,
            205000000000,
            215000000000,
            225700000000,
            237500000000
           ],
           "yaxis": "y"
          },
          {
           "hovertemplate": "",
           "legendgroup": "OpenFisca-UK",
           "line": {
            "color": "blue",
            "dash": "solid"
           },
           "marker": {
            "symbol": "circle"
           },
           "mode": "lines",
           "name": "OpenFisca-UK",
           "orientation": "h",
           "showlegend": true,
           "type": "scatter",
           "x": [
            2019,
            2020,
            2021,
            2022,
            2023,
            2024,
            2025
           ],
           "xaxis": "x",
           "y": [
            171890592113.7,
            163256193727.9,
            178372666521.1,
            177310397990.1,
            186207384696,
            195459474459.2,
            205628162233
           ],
           "yaxis": "y"
          },
          {
           "hovertemplate": "",
           "legendgroup": "UKMOD",
           "line": {
            "color": "lightgrey",
            "dash": "solid"
           },
           "marker": {
            "symbol": "circle"
           },
           "mode": "lines",
           "name": "UKMOD",
           "orientation": "h",
           "showlegend": true,
           "type": "scatter",
           "x": [
            2019,
            2020,
            2021,
            2022,
            2023,
            2024,
            2025
           ],
           "xaxis": "x",
           "y": [
            163270000000,
            159230000000,
            152443000000,
            161197000000,
            170626000000,
            178488000000,
            187865000000
           ],
           "yaxis": "y"
          }
         ],
         "name": "Income Tax"
        },
        {
         "data": [
          {
           "hovertemplate": "",
           "legendgroup": "External",
           "line": {
            "color": "#00cc96",
            "dash": "solid"
           },
           "marker": {
            "symbol": "circle"
           },
           "mode": "lines",
           "name": "External",
           "orientation": "h",
           "showlegend": true,
           "type": "scatter",
           "x": [
            2019,
            2020,
            2021,
            2022,
            2023,
            2024,
            2025
           ],
           "xaxis": "x",
           "y": [
            603000000,
            435000000,
            297000000,
            196000000,
            21000,
            0,
            0
           ],
           "yaxis": "y"
          },
          {
           "hovertemplate": "",
           "legendgroup": "OpenFisca-UK",
           "line": {
            "color": "blue",
            "dash": "solid"
           },
           "marker": {
            "symbol": "circle"
           },
           "mode": "lines",
           "name": "OpenFisca-UK",
           "orientation": "h",
           "showlegend": true,
           "type": "scatter",
           "x": [
            2019,
            2020,
            2021,
            2022,
            2023,
            2024,
            2025
           ],
           "xaxis": "x",
           "y": [
            452286407.6,
            361265316.5,
            298442334.5,
            196107190.7,
            0,
            333370427.4,
            339008213.3
           ],
           "yaxis": "y"
          },
          {
           "hovertemplate": "",
           "legendgroup": "UKMOD",
           "line": {
            "color": "lightgrey",
            "dash": "solid"
           },
           "marker": {
            "symbol": "circle"
           },
           "mode": "lines",
           "name": "UKMOD",
           "orientation": "h",
           "showlegend": true,
           "type": "scatter",
           "x": [
            2019,
            2020,
            2021,
            2022,
            2023,
            2024,
            2025
           ],
           "xaxis": "x",
           "y": [
            "",
            "",
            "",
            "",
            "",
            "",
            ""
           ],
           "yaxis": "y"
          }
         ],
         "name": "JSA (income-based)"
        },
        {
         "data": [
          {
           "hovertemplate": "",
           "legendgroup": "External",
           "line": {
            "color": "#00cc96",
            "dash": "solid"
           },
           "marker": {
            "symbol": "circle"
           },
           "mode": "lines",
           "name": "External",
           "orientation": "h",
           "showlegend": true,
           "type": "scatter",
           "x": [
            2019,
            2020,
            2021,
            2022,
            2023,
            2024,
            2025
           ],
           "xaxis": "x",
           "y": [
            145000000000,
            140800000000,
            145900000000,
            151300000000,
            157500000000,
            164600000000,
            172100000000
           ],
           "yaxis": "y"
          },
          {
           "hovertemplate": "",
           "legendgroup": "OpenFisca-UK",
           "line": {
            "color": "blue",
            "dash": "solid"
           },
           "marker": {
            "symbol": "circle"
           },
           "mode": "lines",
           "name": "OpenFisca-UK",
           "orientation": "h",
           "showlegend": true,
           "type": "scatter",
           "x": [
            2019,
            2020,
            2021,
            2022,
            2023,
            2024,
            2025
           ],
           "xaxis": "x",
           "y": [
            146100388245.6,
            147134966261.2,
            151107416027.8,
            155074819704.8,
            159512527818.8,
            163746005535.8,
            167599698221.2
           ],
           "yaxis": "y"
          },
          {
           "hovertemplate": "",
           "legendgroup": "UKMOD",
           "line": {
            "color": "lightgrey",
            "dash": "solid"
           },
           "marker": {
            "symbol": "circle"
           },
           "mode": "lines",
           "name": "UKMOD",
           "orientation": "h",
           "showlegend": true,
           "type": "scatter",
           "x": [
            2019,
            2020,
            2021,
            2022,
            2023,
            2024,
            2025
           ],
           "xaxis": "x",
           "y": [
            149412000000,
            140831000000,
            137694000000,
            156016000000,
            145114000000,
            147890000000,
            151875000000
           ],
           "yaxis": "y"
          }
         ],
         "name": "National Insurance (total)"
        },
        {
         "data": [
          {
           "hovertemplate": "",
           "legendgroup": "External",
           "line": {
            "color": "#00cc96",
            "dash": "solid"
           },
           "marker": {
            "symbol": "circle"
           },
           "mode": "lines",
           "name": "External",
           "orientation": "h",
           "showlegend": true,
           "type": "scatter",
           "x": [
            2019,
            2020,
            2021,
            2022,
            2023,
            2024,
            2025
           ],
           "xaxis": "x",
           "y": [
            5061000000,
            5071000000,
            4969000000,
            4466000000,
            4447000000,
            4379000000,
            4223000000
           ],
           "yaxis": "y"
          },
          {
           "hovertemplate": "",
           "legendgroup": "OpenFisca-UK",
           "line": {
            "color": "blue",
            "dash": "solid"
           },
           "marker": {
            "symbol": "circle"
           },
           "mode": "lines",
           "name": "OpenFisca-UK",
           "orientation": "h",
           "showlegend": true,
           "type": "scatter",
           "x": [
            2019,
            2020,
            2021,
            2022,
            2023,
            2024,
            2025
           ],
           "xaxis": "x",
           "y": [
            2877174978.1,
            2822088936.3,
            2960481384.9,
            2811184194.1,
            2569284058.1,
            2508196325.8,
            2410729588.4
           ],
           "yaxis": "y"
          },
          {
           "hovertemplate": "",
           "legendgroup": "UKMOD",
           "line": {
            "color": "lightgrey",
            "dash": "solid"
           },
           "marker": {
            "symbol": "circle"
           },
           "mode": "lines",
           "name": "UKMOD",
           "orientation": "h",
           "showlegend": true,
           "type": "scatter",
           "x": [
            2019,
            2020,
            2021,
            2022,
            2023,
            2024,
            2025
           ],
           "xaxis": "x",
           "y": [
            4442000000,
            4553000000,
            4055000000,
            4153000000,
            4410000000,
            4491000000,
            4466000000
           ],
           "yaxis": "y"
          }
         ],
         "name": "Pension Credit"
        },
        {
         "data": [
          {
           "hovertemplate": "",
           "legendgroup": "External",
           "line": {
            "color": "#00cc96",
            "dash": "solid"
           },
           "marker": {
            "symbol": "circle"
           },
           "mode": "lines",
           "name": "External",
           "orientation": "h",
           "showlegend": true,
           "type": "scatter",
           "x": [
            2019,
            2020,
            2021,
            2022,
            2023,
            2024,
            2025
           ],
           "xaxis": "x",
           "y": [
            18386000000,
            38272000000,
            41097000000,
            43657000000,
            49751000000,
            57782000000,
            67959000000
           ],
           "yaxis": "y"
          },
          {
           "hovertemplate": "",
           "legendgroup": "OpenFisca-UK",
           "line": {
            "color": "blue",
            "dash": "solid"
           },
           "marker": {
            "symbol": "circle"
           },
           "mode": "lines",
           "name": "OpenFisca-UK",
           "orientation": "h",
           "showlegend": true,
           "type": "scatter",
           "x": [
            2019,
            2020,
            2021,
            2022,
            2023,
            2024,
            2025
           ],
           "xaxis": "x",
           "y": [
            19756070528.8,
            36567287246,
            39087887842.3,
            39732389587,
            43868809344.3,
            49671681013.3,
            56701374174.8
           ],
           "yaxis": "y"
          },
          {
           "hovertemplate": "",
           "legendgroup": "UKMOD",
           "line": {
            "color": "lightgrey",
            "dash": "solid"
           },
           "marker": {
            "symbol": "circle"
           },
           "mode": "lines",
           "name": "UKMOD",
           "orientation": "h",
           "showlegend": true,
           "type": "scatter",
           "x": [
            2019,
            2020,
            2021,
            2022,
            2023,
            2024,
            2025
           ],
           "xaxis": "x",
           "y": [
            17419000000,
            26397000000,
            29821000000,
            34073000000,
            39133000000,
            39133000000,
            45644000000
           ],
           "yaxis": "y"
          }
         ],
         "name": "Universal Credit"
        },
        {
         "data": [
          {
           "hovertemplate": "",
           "legendgroup": "External",
           "line": {
            "color": "#00cc96",
            "dash": "solid"
           },
           "marker": {
            "symbol": "circle"
           },
           "mode": "lines",
           "name": "External",
           "orientation": "h",
           "showlegend": true,
           "type": "scatter",
           "x": [
            2019,
            2020,
            2021,
            2022,
            2023,
            2024,
            2025
           ],
           "xaxis": "x",
           "y": [
            3825000000,
            3139000000,
            2219000000,
            1644000000,
            1239127119,
            813622881,
            369101695
           ],
           "yaxis": "y"
          },
          {
           "hovertemplate": "",
           "legendgroup": "OpenFisca-UK",
           "line": {
            "color": "blue",
            "dash": "solid"
           },
           "marker": {
            "symbol": "circle"
           },
           "mode": "lines",
           "name": "OpenFisca-UK",
           "orientation": "h",
           "showlegend": true,
           "type": "scatter",
           "x": [
            2019,
            2020,
            2021,
            2022,
            2023,
            2024,
            2025
           ],
           "xaxis": "x",
           "y": [
            3901173622.5,
            3257901831.5,
            3070288036.8,
            2176486856.1,
            1791789123.4,
            1383088250.1,
            854941995.6
           ],
           "yaxis": "y"
          },
          {
           "hovertemplate": "",
           "legendgroup": "UKMOD",
           "line": {
            "color": "lightgrey",
            "dash": "solid"
           },
           "marker": {
            "symbol": "circle"
           },
           "mode": "lines",
           "name": "UKMOD",
           "orientation": "h",
           "showlegend": true,
           "type": "scatter",
           "x": [
            2019,
            2020,
            2021,
            2022,
            2023,
            2024,
            2025
           ],
           "xaxis": "x",
           "y": [
            2138000000,
            2412000000,
            2099000000,
            1573000000,
            1320000000,
            897000000,
            423000000
           ],
           "yaxis": "y"
          }
         ],
         "name": "Working Tax Credit"
        }
       ],
       "layout": {
        "height": 600,
        "legend": {
         "title": {
          "text": "Model"
         },
         "tracegroupgap": 0,
         "traceorder": "reversed"
        },
        "margin": {
         "t": 60
        },
        "sliders": [
         {
          "active": 0,
          "currentvalue": {
           "prefix": "Program="
          },
          "len": 0.9,
          "pad": {
           "b": 10,
           "t": 60
          },
          "steps": [
           {
            "args": [
             [
              "Child Benefit"
             ],
             {
              "frame": {
               "duration": 0,
               "redraw": false
              },
              "fromcurrent": true,
              "mode": "immediate",
              "transition": {
               "duration": 0,
               "easing": "linear"
              }
             }
            ],
            "label": "Child Benefit",
            "method": "animate"
           },
           {
            "args": [
             [
              "Child Tax Credit"
             ],
             {
              "frame": {
               "duration": 0,
               "redraw": false
              },
              "fromcurrent": true,
              "mode": "immediate",
              "transition": {
               "duration": 0,
               "easing": "linear"
              }
             }
            ],
            "label": "Child Tax Credit",
            "method": "animate"
           },
           {
            "args": [
             [
              "ESA (income-based)"
             ],
             {
              "frame": {
               "duration": 0,
               "redraw": false
              },
              "fromcurrent": true,
              "mode": "immediate",
              "transition": {
               "duration": 0,
               "easing": "linear"
              }
             }
            ],
            "label": "ESA (income-based)",
            "method": "animate"
           },
           {
            "args": [
             [
              "Housing Benefit"
             ],
             {
              "frame": {
               "duration": 0,
               "redraw": false
              },
              "fromcurrent": true,
              "mode": "immediate",
              "transition": {
               "duration": 0,
               "easing": "linear"
              }
             }
            ],
            "label": "Housing Benefit",
            "method": "animate"
           },
           {
            "args": [
             [
              "Income Support"
             ],
             {
              "frame": {
               "duration": 0,
               "redraw": false
              },
              "fromcurrent": true,
              "mode": "immediate",
              "transition": {
               "duration": 0,
               "easing": "linear"
              }
             }
            ],
            "label": "Income Support",
            "method": "animate"
           },
           {
            "args": [
             [
              "Income Tax"
             ],
             {
              "frame": {
               "duration": 0,
               "redraw": false
              },
              "fromcurrent": true,
              "mode": "immediate",
              "transition": {
               "duration": 0,
               "easing": "linear"
              }
             }
            ],
            "label": "Income Tax",
            "method": "animate"
           },
           {
            "args": [
             [
              "JSA (income-based)"
             ],
             {
              "frame": {
               "duration": 0,
               "redraw": false
              },
              "fromcurrent": true,
              "mode": "immediate",
              "transition": {
               "duration": 0,
               "easing": "linear"
              }
             }
            ],
            "label": "JSA (income-based)",
            "method": "animate"
           },
           {
            "args": [
             [
              "National Insurance (total)"
             ],
             {
              "frame": {
               "duration": 0,
               "redraw": false
              },
              "fromcurrent": true,
              "mode": "immediate",
              "transition": {
               "duration": 0,
               "easing": "linear"
              }
             }
            ],
            "label": "National Insurance (total)",
            "method": "animate"
           },
           {
            "args": [
             [
              "Pension Credit"
             ],
             {
              "frame": {
               "duration": 0,
               "redraw": false
              },
              "fromcurrent": true,
              "mode": "immediate",
              "transition": {
               "duration": 0,
               "easing": "linear"
              }
             }
            ],
            "label": "Pension Credit",
            "method": "animate"
           },
           {
            "args": [
             [
              "Universal Credit"
             ],
             {
              "frame": {
               "duration": 0,
               "redraw": false
              },
              "fromcurrent": true,
              "mode": "immediate",
              "transition": {
               "duration": 0,
               "easing": "linear"
              }
             }
            ],
            "label": "Universal Credit",
            "method": "animate"
           },
           {
            "args": [
             [
              "Working Tax Credit"
             ],
             {
              "frame": {
               "duration": 0,
               "redraw": false
              },
              "fromcurrent": true,
              "mode": "immediate",
              "transition": {
               "duration": 0,
               "easing": "linear"
              }
             }
            ],
            "label": "Working Tax Credit",
            "method": "animate"
           }
          ],
          "x": 0.1,
          "xanchor": "left",
          "y": 0,
          "yanchor": "top"
         }
        ],
        "template": {
         "data": {
          "bar": [
           {
            "error_x": {
             "color": "#2a3f5f"
            },
            "error_y": {
             "color": "#2a3f5f"
            },
            "marker": {
             "line": {
              "color": "white",
              "width": 0.5
             },
             "pattern": {
              "fillmode": "overlay",
              "size": 10,
              "solidity": 0.2
             }
            },
            "type": "bar"
           }
          ],
          "barpolar": [
           {
            "marker": {
             "line": {
              "color": "white",
              "width": 0.5
             },
             "pattern": {
              "fillmode": "overlay",
              "size": 10,
              "solidity": 0.2
             }
            },
            "type": "barpolar"
           }
          ],
          "carpet": [
           {
            "aaxis": {
             "endlinecolor": "#2a3f5f",
             "gridcolor": "#C8D4E3",
             "linecolor": "#C8D4E3",
             "minorgridcolor": "#C8D4E3",
             "startlinecolor": "#2a3f5f"
            },
            "baxis": {
             "endlinecolor": "#2a3f5f",
             "gridcolor": "#C8D4E3",
             "linecolor": "#C8D4E3",
             "minorgridcolor": "#C8D4E3",
             "startlinecolor": "#2a3f5f"
            },
            "type": "carpet"
           }
          ],
          "choropleth": [
           {
            "colorbar": {
             "outlinewidth": 0,
             "ticks": ""
            },
            "type": "choropleth"
           }
          ],
          "contour": [
           {
            "colorbar": {
             "outlinewidth": 0,
             "ticks": ""
            },
            "colorscale": [
             [
              0,
              "#0d0887"
             ],
             [
              0.1111111111111111,
              "#46039f"
             ],
             [
              0.2222222222222222,
              "#7201a8"
             ],
             [
              0.3333333333333333,
              "#9c179e"
             ],
             [
              0.4444444444444444,
              "#bd3786"
             ],
             [
              0.5555555555555556,
              "#d8576b"
             ],
             [
              0.6666666666666666,
              "#ed7953"
             ],
             [
              0.7777777777777778,
              "#fb9f3a"
             ],
             [
              0.8888888888888888,
              "#fdca26"
             ],
             [
              1,
              "#f0f921"
             ]
            ],
            "type": "contour"
           }
          ],
          "contourcarpet": [
           {
            "colorbar": {
             "outlinewidth": 0,
             "ticks": ""
            },
            "type": "contourcarpet"
           }
          ],
          "heatmap": [
           {
            "colorbar": {
             "outlinewidth": 0,
             "ticks": ""
            },
            "colorscale": [
             [
              0,
              "#0d0887"
             ],
             [
              0.1111111111111111,
              "#46039f"
             ],
             [
              0.2222222222222222,
              "#7201a8"
             ],
             [
              0.3333333333333333,
              "#9c179e"
             ],
             [
              0.4444444444444444,
              "#bd3786"
             ],
             [
              0.5555555555555556,
              "#d8576b"
             ],
             [
              0.6666666666666666,
              "#ed7953"
             ],
             [
              0.7777777777777778,
              "#fb9f3a"
             ],
             [
              0.8888888888888888,
              "#fdca26"
             ],
             [
              1,
              "#f0f921"
             ]
            ],
            "type": "heatmap"
           }
          ],
          "heatmapgl": [
           {
            "colorbar": {
             "outlinewidth": 0,
             "ticks": ""
            },
            "colorscale": [
             [
              0,
              "#0d0887"
             ],
             [
              0.1111111111111111,
              "#46039f"
             ],
             [
              0.2222222222222222,
              "#7201a8"
             ],
             [
              0.3333333333333333,
              "#9c179e"
             ],
             [
              0.4444444444444444,
              "#bd3786"
             ],
             [
              0.5555555555555556,
              "#d8576b"
             ],
             [
              0.6666666666666666,
              "#ed7953"
             ],
             [
              0.7777777777777778,
              "#fb9f3a"
             ],
             [
              0.8888888888888888,
              "#fdca26"
             ],
             [
              1,
              "#f0f921"
             ]
            ],
            "type": "heatmapgl"
           }
          ],
          "histogram": [
           {
            "marker": {
             "pattern": {
              "fillmode": "overlay",
              "size": 10,
              "solidity": 0.2
             }
            },
            "type": "histogram"
           }
          ],
          "histogram2d": [
           {
            "colorbar": {
             "outlinewidth": 0,
             "ticks": ""
            },
            "colorscale": [
             [
              0,
              "#0d0887"
             ],
             [
              0.1111111111111111,
              "#46039f"
             ],
             [
              0.2222222222222222,
              "#7201a8"
             ],
             [
              0.3333333333333333,
              "#9c179e"
             ],
             [
              0.4444444444444444,
              "#bd3786"
             ],
             [
              0.5555555555555556,
              "#d8576b"
             ],
             [
              0.6666666666666666,
              "#ed7953"
             ],
             [
              0.7777777777777778,
              "#fb9f3a"
             ],
             [
              0.8888888888888888,
              "#fdca26"
             ],
             [
              1,
              "#f0f921"
             ]
            ],
            "type": "histogram2d"
           }
          ],
          "histogram2dcontour": [
           {
            "colorbar": {
             "outlinewidth": 0,
             "ticks": ""
            },
            "colorscale": [
             [
              0,
              "#0d0887"
             ],
             [
              0.1111111111111111,
              "#46039f"
             ],
             [
              0.2222222222222222,
              "#7201a8"
             ],
             [
              0.3333333333333333,
              "#9c179e"
             ],
             [
              0.4444444444444444,
              "#bd3786"
             ],
             [
              0.5555555555555556,
              "#d8576b"
             ],
             [
              0.6666666666666666,
              "#ed7953"
             ],
             [
              0.7777777777777778,
              "#fb9f3a"
             ],
             [
              0.8888888888888888,
              "#fdca26"
             ],
             [
              1,
              "#f0f921"
             ]
            ],
            "type": "histogram2dcontour"
           }
          ],
          "mesh3d": [
           {
            "colorbar": {
             "outlinewidth": 0,
             "ticks": ""
            },
            "type": "mesh3d"
           }
          ],
          "parcoords": [
           {
            "line": {
             "colorbar": {
              "outlinewidth": 0,
              "ticks": ""
             }
            },
            "type": "parcoords"
           }
          ],
          "pie": [
           {
            "automargin": true,
            "type": "pie"
           }
          ],
          "scatter": [
           {
            "marker": {
             "colorbar": {
              "outlinewidth": 0,
              "ticks": ""
             }
            },
            "type": "scatter"
           }
          ],
          "scatter3d": [
           {
            "line": {
             "colorbar": {
              "outlinewidth": 0,
              "ticks": ""
             }
            },
            "marker": {
             "colorbar": {
              "outlinewidth": 0,
              "ticks": ""
             }
            },
            "type": "scatter3d"
           }
          ],
          "scattercarpet": [
           {
            "marker": {
             "colorbar": {
              "outlinewidth": 0,
              "ticks": ""
             }
            },
            "type": "scattercarpet"
           }
          ],
          "scattergeo": [
           {
            "marker": {
             "colorbar": {
              "outlinewidth": 0,
              "ticks": ""
             }
            },
            "type": "scattergeo"
           }
          ],
          "scattergl": [
           {
            "marker": {
             "colorbar": {
              "outlinewidth": 0,
              "ticks": ""
             }
            },
            "type": "scattergl"
           }
          ],
          "scattermapbox": [
           {
            "marker": {
             "colorbar": {
              "outlinewidth": 0,
              "ticks": ""
             }
            },
            "type": "scattermapbox"
           }
          ],
          "scatterpolar": [
           {
            "marker": {
             "colorbar": {
              "outlinewidth": 0,
              "ticks": ""
             }
            },
            "type": "scatterpolar"
           }
          ],
          "scatterpolargl": [
           {
            "marker": {
             "colorbar": {
              "outlinewidth": 0,
              "ticks": ""
             }
            },
            "type": "scatterpolargl"
           }
          ],
          "scatterternary": [
           {
            "marker": {
             "colorbar": {
              "outlinewidth": 0,
              "ticks": ""
             }
            },
            "type": "scatterternary"
           }
          ],
          "surface": [
           {
            "colorbar": {
             "outlinewidth": 0,
             "ticks": ""
            },
            "colorscale": [
             [
              0,
              "#0d0887"
             ],
             [
              0.1111111111111111,
              "#46039f"
             ],
             [
              0.2222222222222222,
              "#7201a8"
             ],
             [
              0.3333333333333333,
              "#9c179e"
             ],
             [
              0.4444444444444444,
              "#bd3786"
             ],
             [
              0.5555555555555556,
              "#d8576b"
             ],
             [
              0.6666666666666666,
              "#ed7953"
             ],
             [
              0.7777777777777778,
              "#fb9f3a"
             ],
             [
              0.8888888888888888,
              "#fdca26"
             ],
             [
              1,
              "#f0f921"
             ]
            ],
            "type": "surface"
           }
          ],
          "table": [
           {
            "cells": {
             "fill": {
              "color": "#EBF0F8"
             },
             "line": {
              "color": "white"
             }
            },
            "header": {
             "fill": {
              "color": "#C8D4E3"
             },
             "line": {
              "color": "white"
             }
            },
            "type": "table"
           }
          ]
         },
         "layout": {
          "annotationdefaults": {
           "arrowcolor": "#2a3f5f",
           "arrowhead": 0,
           "arrowwidth": 1
          },
          "autotypenumbers": "strict",
          "coloraxis": {
           "colorbar": {
            "outlinewidth": 0,
            "ticks": ""
           }
          },
          "colorscale": {
           "diverging": [
            [
             0,
             "#8e0152"
            ],
            [
             0.1,
             "#c51b7d"
            ],
            [
             0.2,
             "#de77ae"
            ],
            [
             0.3,
             "#f1b6da"
            ],
            [
             0.4,
             "#fde0ef"
            ],
            [
             0.5,
             "#f7f7f7"
            ],
            [
             0.6,
             "#e6f5d0"
            ],
            [
             0.7,
             "#b8e186"
            ],
            [
             0.8,
             "#7fbc41"
            ],
            [
             0.9,
             "#4d9221"
            ],
            [
             1,
             "#276419"
            ]
           ],
           "sequential": [
            [
             0,
             "#0d0887"
            ],
            [
             0.1111111111111111,
             "#46039f"
            ],
            [
             0.2222222222222222,
             "#7201a8"
            ],
            [
             0.3333333333333333,
             "#9c179e"
            ],
            [
             0.4444444444444444,
             "#bd3786"
            ],
            [
             0.5555555555555556,
             "#d8576b"
            ],
            [
             0.6666666666666666,
             "#ed7953"
            ],
            [
             0.7777777777777778,
             "#fb9f3a"
            ],
            [
             0.8888888888888888,
             "#fdca26"
            ],
            [
             1,
             "#f0f921"
            ]
           ],
           "sequentialminus": [
            [
             0,
             "#0d0887"
            ],
            [
             0.1111111111111111,
             "#46039f"
            ],
            [
             0.2222222222222222,
             "#7201a8"
            ],
            [
             0.3333333333333333,
             "#9c179e"
            ],
            [
             0.4444444444444444,
             "#bd3786"
            ],
            [
             0.5555555555555556,
             "#d8576b"
            ],
            [
             0.6666666666666666,
             "#ed7953"
            ],
            [
             0.7777777777777778,
             "#fb9f3a"
            ],
            [
             0.8888888888888888,
             "#fdca26"
            ],
            [
             1,
             "#f0f921"
            ]
           ]
          },
          "colorway": [
           "#636efa",
           "#EF553B",
           "#00cc96",
           "#ab63fa",
           "#FFA15A",
           "#19d3f3",
           "#FF6692",
           "#B6E880",
           "#FF97FF",
           "#FECB52"
          ],
          "font": {
           "color": "#2a3f5f"
          },
          "geo": {
           "bgcolor": "white",
           "lakecolor": "white",
           "landcolor": "white",
           "showlakes": true,
           "showland": true,
           "subunitcolor": "#C8D4E3"
          },
          "hoverlabel": {
           "align": "left"
          },
          "hovermode": "closest",
          "mapbox": {
           "style": "light"
          },
          "paper_bgcolor": "white",
          "plot_bgcolor": "white",
          "polar": {
           "angularaxis": {
            "gridcolor": "#EBF0F8",
            "linecolor": "#EBF0F8",
            "ticks": ""
           },
           "bgcolor": "white",
           "radialaxis": {
            "gridcolor": "#EBF0F8",
            "linecolor": "#EBF0F8",
            "ticks": ""
           }
          },
          "scene": {
           "xaxis": {
            "backgroundcolor": "white",
            "gridcolor": "#DFE8F3",
            "gridwidth": 2,
            "linecolor": "#EBF0F8",
            "showbackground": true,
            "ticks": "",
            "zerolinecolor": "#EBF0F8"
           },
           "yaxis": {
            "backgroundcolor": "white",
            "gridcolor": "#DFE8F3",
            "gridwidth": 2,
            "linecolor": "#EBF0F8",
            "showbackground": true,
            "ticks": "",
            "zerolinecolor": "#EBF0F8"
           },
           "zaxis": {
            "backgroundcolor": "white",
            "gridcolor": "#DFE8F3",
            "gridwidth": 2,
            "linecolor": "#EBF0F8",
            "showbackground": true,
            "ticks": "",
            "zerolinecolor": "#EBF0F8"
           }
          },
          "shapedefaults": {
           "line": {
            "color": "#2a3f5f"
           }
          },
          "ternary": {
           "aaxis": {
            "gridcolor": "#DFE8F3",
            "linecolor": "#A2B1C6",
            "ticks": ""
           },
           "baxis": {
            "gridcolor": "#DFE8F3",
            "linecolor": "#A2B1C6",
            "ticks": ""
           },
           "bgcolor": "white",
           "caxis": {
            "gridcolor": "#DFE8F3",
            "linecolor": "#A2B1C6",
            "ticks": ""
           }
          },
          "title": {
           "x": 0.05
          },
          "xaxis": {
           "automargin": true,
           "gridcolor": "#EBF0F8",
           "linecolor": "#EBF0F8",
           "ticks": "",
           "title": {
            "standoff": 15
           },
           "zerolinecolor": "#EBF0F8",
           "zerolinewidth": 2
          },
          "yaxis": {
           "automargin": true,
           "gridcolor": "#EBF0F8",
           "linecolor": "#EBF0F8",
           "ticks": "",
           "title": {
            "standoff": 15
           },
           "zerolinecolor": "#EBF0F8",
           "zerolinewidth": 2
          }
         }
        },
        "title": {
         "text": "Budgetary impact forecasts"
        },
        "updatemenus": [
         {
          "buttons": [
           {
            "args": [
             null,
             {
              "frame": {
               "duration": 500,
               "redraw": false
              },
              "fromcurrent": true,
              "mode": "immediate",
              "transition": {
               "duration": 500,
               "easing": "linear"
              }
             }
            ],
            "label": "&#9654;",
            "method": "animate"
           },
           {
            "args": [
             [
              null
             ],
             {
              "frame": {
               "duration": 0,
               "redraw": false
              },
              "fromcurrent": true,
              "mode": "immediate",
              "transition": {
               "duration": 0,
               "easing": "linear"
              }
             }
            ],
            "label": "&#9724;",
            "method": "animate"
           }
          ],
          "direction": "left",
          "pad": {
           "r": 10,
           "t": 70
          },
          "showactive": false,
          "type": "buttons",
          "x": 0.1,
          "xanchor": "right",
          "y": 0,
          "yanchor": "top"
         }
        ],
        "width": 800,
        "xaxis": {
         "anchor": "y",
         "autorange": true,
         "domain": [
          0,
          1
         ],
         "range": [
          2019,
          2025
         ],
         "title": {
          "text": "Year"
         },
         "type": "linear"
        },
        "yaxis": {
         "anchor": "x",
         "domain": [
          0,
          1
         ],
         "range": [
          0,
          20000000000
         ],
         "tickprefix": "£",
         "title": {
          "text": ""
         },
         "type": "linear"
        }
       }
      },
      "image/png": "[encoded data removed]",
      "text/html": [
       "<div>                            <div id=\"c744f051-0819-485e-bb0a-85654683d80a\" class=\"plotly-graph-div\" style=\"height:600px; width:800px;\"></div>            <script type=\"text/javascript\">                require([\"plotly\"], function(Plotly) {                    window.PLOTLYENV=window.PLOTLYENV || {};                                    if (document.getElementById(\"c744f051-0819-485e-bb0a-85654683d80a\")) {                    Plotly.newPlot(                        \"c744f051-0819-485e-bb0a-85654683d80a\",                        [{\"hovertemplate\":\"\",\"legendgroup\":\"External\",\"line\":{\"color\":\"#00cc96\",\"dash\":\"solid\"},\"marker\":{\"symbol\":\"circle\"},\"mode\":\"lines\",\"name\":\"External\",\"orientation\":\"h\",\"showlegend\":true,\"type\":\"scatter\",\"x\":[2019,2020,2021,2022,2023,2024,2025],\"xaxis\":\"x\",\"y\":[11081000000.0,11116000000.0,10981000000.0,11213000000.0,11546000000.0,11626000000.0,11627000000.0],\"yaxis\":\"y\"},{\"hovertemplate\":\"\",\"legendgroup\":\"OpenFisca-UK\",\"line\":{\"color\":\"blue\",\"dash\":\"solid\"},\"marker\":{\"symbol\":\"circle\"},\"mode\":\"lines\",\"name\":\"OpenFisca-UK\",\"orientation\":\"h\",\"showlegend\":true,\"type\":\"scatter\",\"x\":[2019,2020,2021,2022,2023,2024,2025],\"xaxis\":\"x\",\"y\":[10757104223.8,10599731603.8,10634512275.8,10551004494.5,10750028290.8,11136115790.4,11552229598.5],\"yaxis\":\"y\"},{\"hovertemplate\":\"\",\"legendgroup\":\"UKMOD\",\"line\":{\"color\":\"lightgrey\",\"dash\":\"solid\"},\"marker\":{\"symbol\":\"circle\"},\"mode\":\"lines\",\"name\":\"UKMOD\",\"orientation\":\"h\",\"showlegend\":true,\"type\":\"scatter\",\"x\":[2019,2020,2021,2022,2023,2024,2025],\"xaxis\":\"x\",\"y\":[11340000000.0,11539000000.0,11703000000.0,11963000000.0,12331000000.0,12547000000.0,12579000000.0],\"yaxis\":\"y\"}],                        {\"height\":600,\"legend\":{\"title\":{\"text\":\"Model\"},\"tracegroupgap\":0,\"traceorder\":\"reversed\"},\"margin\":{\"t\":60},\"sliders\":[{\"active\":0,\"currentvalue\":{\"prefix\":\"Program=\"},\"len\":0.9,\"pad\":{\"b\":10,\"t\":60},\"steps\":[{\"args\":[[\"Child Benefit\"],{\"frame\":{\"duration\":0,\"redraw\":false},\"fromcurrent\":true,\"mode\":\"immediate\",\"transition\":{\"duration\":0,\"easing\":\"linear\"}}],\"label\":\"Child Benefit\",\"method\":\"animate\"},{\"args\":[[\"Child Tax Credit\"],{\"frame\":{\"duration\":0,\"redraw\":false},\"fromcurrent\":true,\"mode\":\"immediate\",\"transition\":{\"duration\":0,\"easing\":\"linear\"}}],\"label\":\"Child Tax Credit\",\"method\":\"animate\"},{\"args\":[[\"ESA (income-based)\"],{\"frame\":{\"duration\":0,\"redraw\":false},\"fromcurrent\":true,\"mode\":\"immediate\",\"transition\":{\"duration\":0,\"easing\":\"linear\"}}],\"label\":\"ESA (income-based)\",\"method\":\"animate\"},{\"args\":[[\"Housing Benefit\"],{\"frame\":{\"duration\":0,\"redraw\":false},\"fromcurrent\":true,\"mode\":\"immediate\",\"transition\":{\"duration\":0,\"easing\":\"linear\"}}],\"label\":\"Housing Benefit\",\"method\":\"animate\"},{\"args\":[[\"Income Support\"],{\"frame\":{\"duration\":0,\"redraw\":false},\"fromcurrent\":true,\"mode\":\"immediate\",\"transition\":{\"duration\":0,\"easing\":\"linear\"}}],\"label\":\"Income Support\",\"method\":\"animate\"},{\"args\":[[\"Income Tax\"],{\"frame\":{\"duration\":0,\"redraw\":false},\"fromcurrent\":true,\"mode\":\"immediate\",\"transition\":{\"duration\":0,\"easing\":\"linear\"}}],\"label\":\"Income Tax\",\"method\":\"animate\"},{\"args\":[[\"JSA (income-based)\"],{\"frame\":{\"duration\":0,\"redraw\":false},\"fromcurrent\":true,\"mode\":\"immediate\",\"transition\":{\"duration\":0,\"easing\":\"linear\"}}],\"label\":\"JSA (income-based)\",\"method\":\"animate\"},{\"args\":[[\"National Insurance (total)\"],{\"frame\":{\"duration\":0,\"redraw\":false},\"fromcurrent\":true,\"mode\":\"immediate\",\"transition\":{\"duration\":0,\"easing\":\"linear\"}}],\"label\":\"National Insurance (total)\",\"method\":\"animate\"},{\"args\":[[\"Pension Credit\"],{\"frame\":{\"duration\":0,\"redraw\":false},\"fromcurrent\":true,\"mode\":\"immediate\",\"transition\":{\"duration\":0,\"easing\":\"linear\"}}],\"label\":\"Pension Credit\",\"method\":\"animate\"},{\"args\":[[\"Universal Credit\"],{\"frame\":{\"duration\":0,\"redraw\":false},\"fromcurrent\":true,\"mode\":\"immediate\",\"transition\":{\"duration\":0,\"easing\":\"linear\"}}],\"label\":\"Universal Credit\",\"method\":\"animate\"},{\"args\":[[\"Working Tax Credit\"],{\"frame\":{\"duration\":0,\"redraw\":false},\"fromcurrent\":true,\"mode\":\"immediate\",\"transition\":{\"duration\":0,\"easing\":\"linear\"}}],\"label\":\"Working Tax Credit\",\"method\":\"animate\"}],\"x\":0.1,\"xanchor\":\"left\",\"y\":0,\"yanchor\":\"top\"}],\"template\":{\"data\":{\"bar\":[{\"error_x\":{\"color\":\"#2a3f5f\"},\"error_y\":{\"color\":\"#2a3f5f\"},\"marker\":{\"line\":{\"color\":\"white\",\"width\":0.5},\"pattern\":{\"fillmode\":\"overlay\",\"size\":10,\"solidity\":0.2}},\"type\":\"bar\"}],\"barpolar\":[{\"marker\":{\"line\":{\"color\":\"white\",\"width\":0.5},\"pattern\":{\"fillmode\":\"overlay\",\"size\":10,\"solidity\":0.2}},\"type\":\"barpolar\"}],\"carpet\":[{\"aaxis\":{\"endlinecolor\":\"#2a3f5f\",\"gridcolor\":\"#C8D4E3\",\"linecolor\":\"#C8D4E3\",\"minorgridcolor\":\"#C8D4E3\",\"startlinecolor\":\"#2a3f5f\"},\"baxis\":{\"endlinecolor\":\"#2a3f5f\",\"gridcolor\":\"#C8D4E3\",\"linecolor\":\"#C8D4E3\",\"minorgridcolor\":\"#C8D4E3\",\"startlinecolor\":\"#2a3f5f\"},\"type\":\"carpet\"}],\"choropleth\":[{\"colorbar\":{\"outlinewidth\":0,\"ticks\":\"\"},\"type\":\"choropleth\"}],\"contour\":[{\"colorbar\":{\"outlinewidth\":0,\"ticks\":\"\"},\"colorscale\":[[0.0,\"#0d0887\"],[0.1111111111111111,\"#46039f\"],[0.2222222222222222,\"#7201a8\"],[0.3333333333333333,\"#9c179e\"],[0.4444444444444444,\"#bd3786\"],[0.5555555555555556,\"#d8576b\"],[0.6666666666666666,\"#ed7953\"],[0.7777777777777778,\"#fb9f3a\"],[0.8888888888888888,\"#fdca26\"],[1.0,\"#f0f921\"]],\"type\":\"contour\"}],\"contourcarpet\":[{\"colorbar\":{\"outlinewidth\":0,\"ticks\":\"\"},\"type\":\"contourcarpet\"}],\"heatmap\":[{\"colorbar\":{\"outlinewidth\":0,\"ticks\":\"\"},\"colorscale\":[[0.0,\"#0d0887\"],[0.1111111111111111,\"#46039f\"],[0.2222222222222222,\"#7201a8\"],[0.3333333333333333,\"#9c179e\"],[0.4444444444444444,\"#bd3786\"],[0.5555555555555556,\"#d8576b\"],[0.6666666666666666,\"#ed7953\"],[0.7777777777777778,\"#fb9f3a\"],[0.8888888888888888,\"#fdca26\"],[1.0,\"#f0f921\"]],\"type\":\"heatmap\"}],\"heatmapgl\":[{\"colorbar\":{\"outlinewidth\":0,\"ticks\":\"\"},\"colorscale\":[[0.0,\"#0d0887\"],[0.1111111111111111,\"#46039f\"],[0.2222222222222222,\"#7201a8\"],[0.3333333333333333,\"#9c179e\"],[0.4444444444444444,\"#bd3786\"],[0.5555555555555556,\"#d8576b\"],[0.6666666666666666,\"#ed7953\"],[0.7777777777777778,\"#fb9f3a\"],[0.8888888888888888,\"#fdca26\"],[1.0,\"#f0f921\"]],\"type\":\"heatmapgl\"}],\"histogram\":[{\"marker\":{\"pattern\":{\"fillmode\":\"overlay\",\"size\":10,\"solidity\":0.2}},\"type\":\"histogram\"}],\"histogram2d\":[{\"colorbar\":{\"outlinewidth\":0,\"ticks\":\"\"},\"colorscale\":[[0.0,\"#0d0887\"],[0.1111111111111111,\"#46039f\"],[0.2222222222222222,\"#7201a8\"],[0.3333333333333333,\"#9c179e\"],[0.4444444444444444,\"#bd3786\"],[0.5555555555555556,\"#d8576b\"],[0.6666666666666666,\"#ed7953\"],[0.7777777777777778,\"#fb9f3a\"],[0.8888888888888888,\"#fdca26\"],[1.0,\"#f0f921\"]],\"type\":\"histogram2d\"}],\"histogram2dcontour\":[{\"colorbar\":{\"outlinewidth\":0,\"ticks\":\"\"},\"colorscale\":[[0.0,\"#0d0887\"],[0.1111111111111111,\"#46039f\"],[0.2222222222222222,\"#7201a8\"],[0.3333333333333333,\"#9c179e\"],[0.4444444444444444,\"#bd3786\"],[0.5555555555555556,\"#d8576b\"],[0.6666666666666666,\"#ed7953\"],[0.7777777777777778,\"#fb9f3a\"],[0.8888888888888888,\"#fdca26\"],[1.0,\"#f0f921\"]],\"type\":\"histogram2dcontour\"}],\"mesh3d\":[{\"colorbar\":{\"outlinewidth\":0,\"ticks\":\"\"},\"type\":\"mesh3d\"}],\"parcoords\":[{\"line\":{\"colorbar\":{\"outlinewidth\":0,\"ticks\":\"\"}},\"type\":\"parcoords\"}],\"pie\":[{\"automargin\":true,\"type\":\"pie\"}],\"scatter\":[{\"marker\":{\"colorbar\":{\"outlinewidth\":0,\"ticks\":\"\"}},\"type\":\"scatter\"}],\"scatter3d\":[{\"line\":{\"colorbar\":{\"outlinewidth\":0,\"ticks\":\"\"}},\"marker\":{\"colorbar\":{\"outlinewidth\":0,\"ticks\":\"\"}},\"type\":\"scatter3d\"}],\"scattercarpet\":[{\"marker\":{\"colorbar\":{\"outlinewidth\":0,\"ticks\":\"\"}},\"type\":\"scattercarpet\"}],\"scattergeo\":[{\"marker\":{\"colorbar\":{\"outlinewidth\":0,\"ticks\":\"\"}},\"type\":\"scattergeo\"}],\"scattergl\":[{\"marker\":{\"colorbar\":{\"outlinewidth\":0,\"ticks\":\"\"}},\"type\":\"scattergl\"}],\"scattermapbox\":[{\"marker\":{\"colorbar\":{\"outlinewidth\":0,\"ticks\":\"\"}},\"type\":\"scattermapbox\"}],\"scatterpolar\":[{\"marker\":{\"colorbar\":{\"outlinewidth\":0,\"ticks\":\"\"}},\"type\":\"scatterpolar\"}],\"scatterpolargl\":[{\"marker\":{\"colorbar\":{\"outlinewidth\":0,\"ticks\":\"\"}},\"type\":\"scatterpolargl\"}],\"scatterternary\":[{\"marker\":{\"colorbar\":{\"outlinewidth\":0,\"ticks\":\"\"}},\"type\":\"scatterternary\"}],\"surface\":[{\"colorbar\":{\"outlinewidth\":0,\"ticks\":\"\"},\"colorscale\":[[0.0,\"#0d0887\"],[0.1111111111111111,\"#46039f\"],[0.2222222222222222,\"#7201a8\"],[0.3333333333333333,\"#9c179e\"],[0.4444444444444444,\"#bd3786\"],[0.5555555555555556,\"#d8576b\"],[0.6666666666666666,\"#ed7953\"],[0.7777777777777778,\"#fb9f3a\"],[0.8888888888888888,\"#fdca26\"],[1.0,\"#f0f921\"]],\"type\":\"surface\"}],\"table\":[{\"cells\":{\"fill\":{\"color\":\"#EBF0F8\"},\"line\":{\"color\":\"white\"}},\"header\":{\"fill\":{\"color\":\"#C8D4E3\"},\"line\":{\"color\":\"white\"}},\"type\":\"table\"}]},\"layout\":{\"annotationdefaults\":{\"arrowcolor\":\"#2a3f5f\",\"arrowhead\":0,\"arrowwidth\":1},\"autotypenumbers\":\"strict\",\"coloraxis\":{\"colorbar\":{\"outlinewidth\":0,\"ticks\":\"\"}},\"colorscale\":{\"diverging\":[[0,\"#8e0152\"],[0.1,\"#c51b7d\"],[0.2,\"#de77ae\"],[0.3,\"#f1b6da\"],[0.4,\"#fde0ef\"],[0.5,\"#f7f7f7\"],[0.6,\"#e6f5d0\"],[0.7,\"#b8e186\"],[0.8,\"#7fbc41\"],[0.9,\"#4d9221\"],[1,\"#276419\"]],\"sequential\":[[0.0,\"#0d0887\"],[0.1111111111111111,\"#46039f\"],[0.2222222222222222,\"#7201a8\"],[0.3333333333333333,\"#9c179e\"],[0.4444444444444444,\"#bd3786\"],[0.5555555555555556,\"#d8576b\"],[0.6666666666666666,\"#ed7953\"],[0.7777777777777778,\"#fb9f3a\"],[0.8888888888888888,\"#fdca26\"],[1.0,\"#f0f921\"]],\"sequentialminus\":[[0.0,\"#0d0887\"],[0.1111111111111111,\"#46039f\"],[0.2222222222222222,\"#7201a8\"],[0.3333333333333333,\"#9c179e\"],[0.4444444444444444,\"#bd3786\"],[0.5555555555555556,\"#d8576b\"],[0.6666666666666666,\"#ed7953\"],[0.7777777777777778,\"#fb9f3a\"],[0.8888888888888888,\"#fdca26\"],[1.0,\"#f0f921\"]]},\"colorway\":[\"#636efa\",\"#EF553B\",\"#00cc96\",\"#ab63fa\",\"#FFA15A\",\"#19d3f3\",\"#FF6692\",\"#B6E880\",\"#FF97FF\",\"#FECB52\"],\"font\":{\"color\":\"#2a3f5f\"},\"geo\":{\"bgcolor\":\"white\",\"lakecolor\":\"white\",\"landcolor\":\"white\",\"showlakes\":true,\"showland\":true,\"subunitcolor\":\"#C8D4E3\"},\"hoverlabel\":{\"align\":\"left\"},\"hovermode\":\"closest\",\"mapbox\":{\"style\":\"light\"},\"paper_bgcolor\":\"white\",\"plot_bgcolor\":\"white\",\"polar\":{\"angularaxis\":{\"gridcolor\":\"#EBF0F8\",\"linecolor\":\"#EBF0F8\",\"ticks\":\"\"},\"bgcolor\":\"white\",\"radialaxis\":{\"gridcolor\":\"#EBF0F8\",\"linecolor\":\"#EBF0F8\",\"ticks\":\"\"}},\"scene\":{\"xaxis\":{\"backgroundcolor\":\"white\",\"gridcolor\":\"#DFE8F3\",\"gridwidth\":2,\"linecolor\":\"#EBF0F8\",\"showbackground\":true,\"ticks\":\"\",\"zerolinecolor\":\"#EBF0F8\"},\"yaxis\":{\"backgroundcolor\":\"white\",\"gridcolor\":\"#DFE8F3\",\"gridwidth\":2,\"linecolor\":\"#EBF0F8\",\"showbackground\":true,\"ticks\":\"\",\"zerolinecolor\":\"#EBF0F8\"},\"zaxis\":{\"backgroundcolor\":\"white\",\"gridcolor\":\"#DFE8F3\",\"gridwidth\":2,\"linecolor\":\"#EBF0F8\",\"showbackground\":true,\"ticks\":\"\",\"zerolinecolor\":\"#EBF0F8\"}},\"shapedefaults\":{\"line\":{\"color\":\"#2a3f5f\"}},\"ternary\":{\"aaxis\":{\"gridcolor\":\"#DFE8F3\",\"linecolor\":\"#A2B1C6\",\"ticks\":\"\"},\"baxis\":{\"gridcolor\":\"#DFE8F3\",\"linecolor\":\"#A2B1C6\",\"ticks\":\"\"},\"bgcolor\":\"white\",\"caxis\":{\"gridcolor\":\"#DFE8F3\",\"linecolor\":\"#A2B1C6\",\"ticks\":\"\"}},\"title\":{\"x\":0.05},\"xaxis\":{\"automargin\":true,\"gridcolor\":\"#EBF0F8\",\"linecolor\":\"#EBF0F8\",\"ticks\":\"\",\"title\":{\"standoff\":15},\"zerolinecolor\":\"#EBF0F8\",\"zerolinewidth\":2},\"yaxis\":{\"automargin\":true,\"gridcolor\":\"#EBF0F8\",\"linecolor\":\"#EBF0F8\",\"ticks\":\"\",\"title\":{\"standoff\":15},\"zerolinecolor\":\"#EBF0F8\",\"zerolinewidth\":2}}},\"title\":{\"text\":\"Budgetary impact forecasts\"},\"updatemenus\":[{\"buttons\":[{\"args\":[null,{\"frame\":{\"duration\":500,\"redraw\":false},\"fromcurrent\":true,\"mode\":\"immediate\",\"transition\":{\"duration\":500,\"easing\":\"linear\"}}],\"label\":\"&#9654;\",\"method\":\"animate\"},{\"args\":[[null],{\"frame\":{\"duration\":0,\"redraw\":false},\"fromcurrent\":true,\"mode\":\"immediate\",\"transition\":{\"duration\":0,\"easing\":\"linear\"}}],\"label\":\"&#9724;\",\"method\":\"animate\"}],\"direction\":\"left\",\"pad\":{\"r\":10,\"t\":70},\"showactive\":false,\"type\":\"buttons\",\"x\":0.1,\"xanchor\":\"right\",\"y\":0,\"yanchor\":\"top\"}],\"width\":800,\"xaxis\":{\"anchor\":\"y\",\"domain\":[0.0,1.0],\"title\":{\"text\":\"Year\"}},\"yaxis\":{\"anchor\":\"x\",\"domain\":[0.0,1.0],\"range\":[0,20000000000.0],\"tickprefix\":\"\\u00a3\",\"title\":{\"text\":\"\"}}},                        {\"responsive\": true}                    ).then(function(){\n",
       "                            Plotly.addFrames('c744f051-0819-485e-bb0a-85654683d80a', [{\"data\":[{\"hovertemplate\":\"\",\"legendgroup\":\"External\",\"line\":{\"color\":\"#00cc96\",\"dash\":\"solid\"},\"marker\":{\"symbol\":\"circle\"},\"mode\":\"lines\",\"name\":\"External\",\"orientation\":\"h\",\"showlegend\":true,\"type\":\"scatter\",\"x\":[2019,2020,2021,2022,2023,2024,2025],\"xaxis\":\"x\",\"y\":[11081000000.0,11116000000.0,10981000000.0,11213000000.0,11546000000.0,11626000000.0,11627000000.0],\"yaxis\":\"y\"},{\"hovertemplate\":\"\",\"legendgroup\":\"OpenFisca-UK\",\"line\":{\"color\":\"blue\",\"dash\":\"solid\"},\"marker\":{\"symbol\":\"circle\"},\"mode\":\"lines\",\"name\":\"OpenFisca-UK\",\"orientation\":\"h\",\"showlegend\":true,\"type\":\"scatter\",\"x\":[2019,2020,2021,2022,2023,2024,2025],\"xaxis\":\"x\",\"y\":[10757104223.8,10599731603.8,10634512275.8,10551004494.5,10750028290.8,11136115790.4,11552229598.5],\"yaxis\":\"y\"},{\"hovertemplate\":\"\",\"legendgroup\":\"UKMOD\",\"line\":{\"color\":\"lightgrey\",\"dash\":\"solid\"},\"marker\":{\"symbol\":\"circle\"},\"mode\":\"lines\",\"name\":\"UKMOD\",\"orientation\":\"h\",\"showlegend\":true,\"type\":\"scatter\",\"x\":[2019,2020,2021,2022,2023,2024,2025],\"xaxis\":\"x\",\"y\":[11340000000.0,11539000000.0,11703000000.0,11963000000.0,12331000000.0,12547000000.0,12579000000.0],\"yaxis\":\"y\"}],\"name\":\"Child Benefit\"},{\"data\":[{\"hovertemplate\":\"\",\"legendgroup\":\"External\",\"line\":{\"color\":\"#00cc96\",\"dash\":\"solid\"},\"marker\":{\"symbol\":\"circle\"},\"mode\":\"lines\",\"name\":\"External\",\"orientation\":\"h\",\"showlegend\":true,\"type\":\"scatter\",\"x\":[2019,2020,2021,2022,2023,2024,2025],\"xaxis\":\"x\",\"y\":[13875000000.0,11441000000.0,8088000000.0,5995000000.0,4494872881.0,2951377119.0,1338898305.0],\"yaxis\":\"y\"},{\"hovertemplate\":\"\",\"legendgroup\":\"OpenFisca-UK\",\"line\":{\"color\":\"blue\",\"dash\":\"solid\"},\"marker\":{\"symbol\":\"circle\"},\"mode\":\"lines\",\"name\":\"OpenFisca-UK\",\"orientation\":\"h\",\"showlegend\":true,\"type\":\"scatter\",\"x\":[2019,2020,2021,2022,2023,2024,2025],\"xaxis\":\"x\",\"y\":[14882834680.9,12554650547.1,9652433437.0,7672176055.5,6014222962.6,4393864724.2,2564280107.1],\"yaxis\":\"y\"},{\"hovertemplate\":\"\",\"legendgroup\":\"UKMOD\",\"line\":{\"color\":\"lightgrey\",\"dash\":\"solid\"},\"marker\":{\"symbol\":\"circle\"},\"mode\":\"lines\",\"name\":\"UKMOD\",\"orientation\":\"h\",\"showlegend\":true,\"type\":\"scatter\",\"x\":[2019,2020,2021,2022,2023,2024,2025],\"xaxis\":\"x\",\"y\":[8451000000.0,7795000000.0,6538000000.0,5382000000.0,4546000000.0,3287000000.0,1461000000.0],\"yaxis\":\"y\"}],\"name\":\"Child Tax Credit\"},{\"data\":[{\"hovertemplate\":\"\",\"legendgroup\":\"External\",\"line\":{\"color\":\"#00cc96\",\"dash\":\"solid\"},\"marker\":{\"symbol\":\"circle\"},\"mode\":\"lines\",\"name\":\"External\",\"orientation\":\"h\",\"showlegend\":true,\"type\":\"scatter\",\"x\":[2019,2020,2021,2022,2023,2024,2025],\"xaxis\":\"x\",\"y\":[9339000000.0,8815000000.0,8254000000.0,8216000000.0,7826000000.0,6363000000.0,3503000000.0],\"yaxis\":\"y\"},{\"hovertemplate\":\"\",\"legendgroup\":\"OpenFisca-UK\",\"line\":{\"color\":\"blue\",\"dash\":\"solid\"},\"marker\":{\"symbol\":\"circle\"},\"mode\":\"lines\",\"name\":\"OpenFisca-UK\",\"orientation\":\"h\",\"showlegend\":true,\"type\":\"scatter\",\"x\":[2019,2020,2021,2022,2023,2024,2025],\"xaxis\":\"x\",\"y\":[6360162785.9,6513210895.5,3383160807.5,3272428461.6,3074975626.6,2445317546.8,1254270784.0],\"yaxis\":\"y\"},{\"hovertemplate\":\"\",\"legendgroup\":\"UKMOD\",\"line\":{\"color\":\"lightgrey\",\"dash\":\"solid\"},\"marker\":{\"symbol\":\"circle\"},\"mode\":\"lines\",\"name\":\"UKMOD\",\"orientation\":\"h\",\"showlegend\":true,\"type\":\"scatter\",\"x\":[2019,2020,2021,2022,2023,2024,2025],\"xaxis\":\"x\",\"y\":[6141000000.0,5521000000.0,4772000000.0,4203000000.0,3664000000.0,2680000000.0,1221000000.0],\"yaxis\":\"y\"}],\"name\":\"ESA (income-based)\"},{\"data\":[{\"hovertemplate\":\"\",\"legendgroup\":\"External\",\"line\":{\"color\":\"#00cc96\",\"dash\":\"solid\"},\"marker\":{\"symbol\":\"circle\"},\"mode\":\"lines\",\"name\":\"External\",\"orientation\":\"h\",\"showlegend\":true,\"type\":\"scatter\",\"x\":[2019,2020,2021,2022,2023,2024,2025],\"xaxis\":\"x\",\"y\":[18379000000.0,17334000000.0,17112000000.0,15894000000.0,14728000000.0,12503000000.0,10213000000.0],\"yaxis\":\"y\"},{\"hovertemplate\":\"\",\"legendgroup\":\"OpenFisca-UK\",\"line\":{\"color\":\"blue\",\"dash\":\"solid\"},\"marker\":{\"symbol\":\"circle\"},\"mode\":\"lines\",\"name\":\"OpenFisca-UK\",\"orientation\":\"h\",\"showlegend\":true,\"type\":\"scatter\",\"x\":[2019,2020,2021,2022,2023,2024,2025],\"xaxis\":\"x\",\"y\":[13410603917.0,12707220259.7,12681175523.1,12037034024.0,11256201392.5,10079424612.3,8543904536.0],\"yaxis\":\"y\"},{\"hovertemplate\":\"\",\"legendgroup\":\"UKMOD\",\"line\":{\"color\":\"lightgrey\",\"dash\":\"solid\"},\"marker\":{\"symbol\":\"circle\"},\"mode\":\"lines\",\"name\":\"UKMOD\",\"orientation\":\"h\",\"showlegend\":true,\"type\":\"scatter\",\"x\":[2019,2020,2021,2022,2023,2024,2025],\"xaxis\":\"x\",\"y\":[12560000000.0,12319000000.0,10955000000.0,10332000000.0,9622000000.0,8476000000.0,6706000000.0],\"yaxis\":\"y\"}],\"name\":\"Housing Benefit\"},{\"data\":[{\"hovertemplate\":\"\",\"legendgroup\":\"External\",\"line\":{\"color\":\"#00cc96\",\"dash\":\"solid\"},\"marker\":{\"symbol\":\"circle\"},\"mode\":\"lines\",\"name\":\"External\",\"orientation\":\"h\",\"showlegend\":true,\"type\":\"scatter\",\"x\":[2019,2020,2021,2022,2023,2024,2025],\"xaxis\":\"x\",\"y\":[1376000000.0,1080000000.0,854000000.0,670000000.0,491000000.0,471000000.0,432000000.0],\"yaxis\":\"y\"},{\"hovertemplate\":\"\",\"legendgroup\":\"OpenFisca-UK\",\"line\":{\"color\":\"blue\",\"dash\":\"solid\"},\"marker\":{\"symbol\":\"circle\"},\"mode\":\"lines\",\"name\":\"OpenFisca-UK\",\"orientation\":\"h\",\"showlegend\":true,\"type\":\"scatter\",\"x\":[2019,2020,2021,2022,2023,2024,2025],\"xaxis\":\"x\",\"y\":[1518966645.6,1233347493.3,964600743.1,730502835.5,543822302.9,449049383.5,287746741.6],\"yaxis\":\"y\"},{\"hovertemplate\":\"\",\"legendgroup\":\"UKMOD\",\"line\":{\"color\":\"lightgrey\",\"dash\":\"solid\"},\"marker\":{\"symbol\":\"circle\"},\"mode\":\"lines\",\"name\":\"UKMOD\",\"orientation\":\"h\",\"showlegend\":true,\"type\":\"scatter\",\"x\":[2019,2020,2021,2022,2023,2024,2025],\"xaxis\":\"x\",\"y\":[\"\",\"\",\"\",\"\",\"\",\"\",\"\"],\"yaxis\":\"y\"}],\"name\":\"Income Support\"},{\"data\":[{\"hovertemplate\":\"\",\"legendgroup\":\"External\",\"line\":{\"color\":\"#00cc96\",\"dash\":\"solid\"},\"marker\":{\"symbol\":\"circle\"},\"mode\":\"lines\",\"name\":\"External\",\"orientation\":\"h\",\"showlegend\":true,\"type\":\"scatter\",\"x\":[2019,2020,2021,2022,2023,2024,2025],\"xaxis\":\"x\",\"y\":[193600000000.0,188200000000.0,203600000000.0,205000000000.0,215000000000.0,225700000000.0,237500000000.0],\"yaxis\":\"y\"},{\"hovertemplate\":\"\",\"legendgroup\":\"OpenFisca-UK\",\"line\":{\"color\":\"blue\",\"dash\":\"solid\"},\"marker\":{\"symbol\":\"circle\"},\"mode\":\"lines\",\"name\":\"OpenFisca-UK\",\"orientation\":\"h\",\"showlegend\":true,\"type\":\"scatter\",\"x\":[2019,2020,2021,2022,2023,2024,2025],\"xaxis\":\"x\",\"y\":[171890592113.7,163256193727.9,178372666521.1,177310397990.1,186207384696.0,195459474459.2,205628162233.0],\"yaxis\":\"y\"},{\"hovertemplate\":\"\",\"legendgroup\":\"UKMOD\",\"line\":{\"color\":\"lightgrey\",\"dash\":\"solid\"},\"marker\":{\"symbol\":\"circle\"},\"mode\":\"lines\",\"name\":\"UKMOD\",\"orientation\":\"h\",\"showlegend\":true,\"type\":\"scatter\",\"x\":[2019,2020,2021,2022,2023,2024,2025],\"xaxis\":\"x\",\"y\":[163270000000.0,159230000000.0,152443000000.0,161197000000.0,170626000000.0,178488000000.0,187865000000.0],\"yaxis\":\"y\"}],\"name\":\"Income Tax\"},{\"data\":[{\"hovertemplate\":\"\",\"legendgroup\":\"External\",\"line\":{\"color\":\"#00cc96\",\"dash\":\"solid\"},\"marker\":{\"symbol\":\"circle\"},\"mode\":\"lines\",\"name\":\"External\",\"orientation\":\"h\",\"showlegend\":true,\"type\":\"scatter\",\"x\":[2019,2020,2021,2022,2023,2024,2025],\"xaxis\":\"x\",\"y\":[603000000.0,435000000.0,297000000.0,196000000.0,21000.0,0.0,0.0],\"yaxis\":\"y\"},{\"hovertemplate\":\"\",\"legendgroup\":\"OpenFisca-UK\",\"line\":{\"color\":\"blue\",\"dash\":\"solid\"},\"marker\":{\"symbol\":\"circle\"},\"mode\":\"lines\",\"name\":\"OpenFisca-UK\",\"orientation\":\"h\",\"showlegend\":true,\"type\":\"scatter\",\"x\":[2019,2020,2021,2022,2023,2024,2025],\"xaxis\":\"x\",\"y\":[452286407.6,361265316.5,298442334.5,196107190.7,0.0,333370427.4,339008213.3],\"yaxis\":\"y\"},{\"hovertemplate\":\"\",\"legendgroup\":\"UKMOD\",\"line\":{\"color\":\"lightgrey\",\"dash\":\"solid\"},\"marker\":{\"symbol\":\"circle\"},\"mode\":\"lines\",\"name\":\"UKMOD\",\"orientation\":\"h\",\"showlegend\":true,\"type\":\"scatter\",\"x\":[2019,2020,2021,2022,2023,2024,2025],\"xaxis\":\"x\",\"y\":[\"\",\"\",\"\",\"\",\"\",\"\",\"\"],\"yaxis\":\"y\"}],\"name\":\"JSA (income-based)\"},{\"data\":[{\"hovertemplate\":\"\",\"legendgroup\":\"External\",\"line\":{\"color\":\"#00cc96\",\"dash\":\"solid\"},\"marker\":{\"symbol\":\"circle\"},\"mode\":\"lines\",\"name\":\"External\",\"orientation\":\"h\",\"showlegend\":true,\"type\":\"scatter\",\"x\":[2019,2020,2021,2022,2023,2024,2025],\"xaxis\":\"x\",\"y\":[145000000000.0,140800000000.0,145900000000.0,151300000000.0,157500000000.0,164600000000.0,172100000000.0],\"yaxis\":\"y\"},{\"hovertemplate\":\"\",\"legendgroup\":\"OpenFisca-UK\",\"line\":{\"color\":\"blue\",\"dash\":\"solid\"},\"marker\":{\"symbol\":\"circle\"},\"mode\":\"lines\",\"name\":\"OpenFisca-UK\",\"orientation\":\"h\",\"showlegend\":true,\"type\":\"scatter\",\"x\":[2019,2020,2021,2022,2023,2024,2025],\"xaxis\":\"x\",\"y\":[146100388245.6,147134966261.2,151107416027.8,155074819704.8,159512527818.8,163746005535.8,167599698221.2],\"yaxis\":\"y\"},{\"hovertemplate\":\"\",\"legendgroup\":\"UKMOD\",\"line\":{\"color\":\"lightgrey\",\"dash\":\"solid\"},\"marker\":{\"symbol\":\"circle\"},\"mode\":\"lines\",\"name\":\"UKMOD\",\"orientation\":\"h\",\"showlegend\":true,\"type\":\"scatter\",\"x\":[2019,2020,2021,2022,2023,2024,2025],\"xaxis\":\"x\",\"y\":[149412000000.0,140831000000.0,137694000000.0,156016000000.0,145114000000.0,147890000000.0,151875000000.0],\"yaxis\":\"y\"}],\"name\":\"National Insurance (total)\"},{\"data\":[{\"hovertemplate\":\"\",\"legendgroup\":\"External\",\"line\":{\"color\":\"#00cc96\",\"dash\":\"solid\"},\"marker\":{\"symbol\":\"circle\"},\"mode\":\"lines\",\"name\":\"External\",\"orientation\":\"h\",\"showlegend\":true,\"type\":\"scatter\",\"x\":[2019,2020,2021,2022,2023,2024,2025],\"xaxis\":\"x\",\"y\":[5061000000.0,5071000000.0,4969000000.0,4466000000.0,4447000000.0,4379000000.0,4223000000.0],\"yaxis\":\"y\"},{\"hovertemplate\":\"\",\"legendgroup\":\"OpenFisca-UK\",\"line\":{\"color\":\"blue\",\"dash\":\"solid\"},\"marker\":{\"symbol\":\"circle\"},\"mode\":\"lines\",\"name\":\"OpenFisca-UK\",\"orientation\":\"h\",\"showlegend\":true,\"type\":\"scatter\",\"x\":[2019,2020,2021,2022,2023,2024,2025],\"xaxis\":\"x\",\"y\":[2877174978.1,2822088936.3,2960481384.9,2811184194.1,2569284058.1,2508196325.8,2410729588.4],\"yaxis\":\"y\"},{\"hovertemplate\":\"\",\"legendgroup\":\"UKMOD\",\"line\":{\"color\":\"lightgrey\",\"dash\":\"solid\"},\"marker\":{\"symbol\":\"circle\"},\"mode\":\"lines\",\"name\":\"UKMOD\",\"orientation\":\"h\",\"showlegend\":true,\"type\":\"scatter\",\"x\":[2019,2020,2021,2022,2023,2024,2025],\"xaxis\":\"x\",\"y\":[4442000000.0,4553000000.0,4055000000.0,4153000000.0,4410000000.0,4491000000.0,4466000000.0],\"yaxis\":\"y\"}],\"name\":\"Pension Credit\"},{\"data\":[{\"hovertemplate\":\"\",\"legendgroup\":\"External\",\"line\":{\"color\":\"#00cc96\",\"dash\":\"solid\"},\"marker\":{\"symbol\":\"circle\"},\"mode\":\"lines\",\"name\":\"External\",\"orientation\":\"h\",\"showlegend\":true,\"type\":\"scatter\",\"x\":[2019,2020,2021,2022,2023,2024,2025],\"xaxis\":\"x\",\"y\":[18386000000.0,38272000000.0,41097000000.0,43657000000.0,49751000000.0,57782000000.0,67959000000.0],\"yaxis\":\"y\"},{\"hovertemplate\":\"\",\"legendgroup\":\"OpenFisca-UK\",\"line\":{\"color\":\"blue\",\"dash\":\"solid\"},\"marker\":{\"symbol\":\"circle\"},\"mode\":\"lines\",\"name\":\"OpenFisca-UK\",\"orientation\":\"h\",\"showlegend\":true,\"type\":\"scatter\",\"x\":[2019,2020,2021,2022,2023,2024,2025],\"xaxis\":\"x\",\"y\":[19756070528.8,36567287246.0,39087887842.3,39732389587.0,43868809344.3,49671681013.3,56701374174.8],\"yaxis\":\"y\"},{\"hovertemplate\":\"\",\"legendgroup\":\"UKMOD\",\"line\":{\"color\":\"lightgrey\",\"dash\":\"solid\"},\"marker\":{\"symbol\":\"circle\"},\"mode\":\"lines\",\"name\":\"UKMOD\",\"orientation\":\"h\",\"showlegend\":true,\"type\":\"scatter\",\"x\":[2019,2020,2021,2022,2023,2024,2025],\"xaxis\":\"x\",\"y\":[17419000000.0,26397000000.0,29821000000.0,34073000000.0,39133000000.0,39133000000.0,45644000000.0],\"yaxis\":\"y\"}],\"name\":\"Universal Credit\"},{\"data\":[{\"hovertemplate\":\"\",\"legendgroup\":\"External\",\"line\":{\"color\":\"#00cc96\",\"dash\":\"solid\"},\"marker\":{\"symbol\":\"circle\"},\"mode\":\"lines\",\"name\":\"External\",\"orientation\":\"h\",\"showlegend\":true,\"type\":\"scatter\",\"x\":[2019,2020,2021,2022,2023,2024,2025],\"xaxis\":\"x\",\"y\":[3825000000.0,3139000000.0,2219000000.0,1644000000.0,1239127119.0,813622881.0,369101695.0],\"yaxis\":\"y\"},{\"hovertemplate\":\"\",\"legendgroup\":\"OpenFisca-UK\",\"line\":{\"color\":\"blue\",\"dash\":\"solid\"},\"marker\":{\"symbol\":\"circle\"},\"mode\":\"lines\",\"name\":\"OpenFisca-UK\",\"orientation\":\"h\",\"showlegend\":true,\"type\":\"scatter\",\"x\":[2019,2020,2021,2022,2023,2024,2025],\"xaxis\":\"x\",\"y\":[3901173622.5,3257901831.5,3070288036.8,2176486856.1,1791789123.4,1383088250.1,854941995.6],\"yaxis\":\"y\"},{\"hovertemplate\":\"\",\"legendgroup\":\"UKMOD\",\"line\":{\"color\":\"lightgrey\",\"dash\":\"solid\"},\"marker\":{\"symbol\":\"circle\"},\"mode\":\"lines\",\"name\":\"UKMOD\",\"orientation\":\"h\",\"showlegend\":true,\"type\":\"scatter\",\"x\":[2019,2020,2021,2022,2023,2024,2025],\"xaxis\":\"x\",\"y\":[2138000000.0,2412000000.0,2099000000.0,1573000000.0,1320000000.0,897000000.0,423000000.0],\"yaxis\":\"y\"}],\"name\":\"Working Tax Credit\"}]);\n",
       "                        }).then(function(){\n",
       "                            \n",
       "var gd = document.getElementById('c744f051-0819-485e-bb0a-85654683d80a');\n",
       "var x = new MutationObserver(function (mutations, observer) {{\n",
       "        var display = window.getComputedStyle(gd).display;\n",
       "        if (!display || display === 'none') {{\n",
       "            console.log([gd, 'removed!']);\n",
       "            Plotly.purge(gd);\n",
       "            observer.disconnect();\n",
       "        }}\n",
       "}});\n",
       "\n",
       "// Listen for the removal of the full notebook cells\n",
       "var notebookContainer = gd.closest('#notebook-container');\n",
       "if (notebookContainer) {{\n",
       "    x.observe(notebookContainer, {childList: true});\n",
       "}}\n",
       "\n",
       "// Listen for the clearing of the current output cell\n",
       "var outputEl = gd.closest('.output');\n",
       "if (outputEl) {{\n",
       "    x.observe(outputEl, {childList: true});\n",
       "}}\n",
       "\n",
       "                        })                };                });            </script>        </div>"
      ]
     },
     "metadata": {},
     "output_type": "display_data"
    }
   ],
   "source": [
    "def table_to_model_comparison(table):\n",
    "    df = table.reset_index()\n",
    "    df.columns = [\"Model\", \"Year\"] + list(table.columns)\n",
    "    return (\n",
    "        pd.melt(df, id_vars=[\"Year\", \"Model\"])\n",
    "        .pivot(index=[\"Year\", \"variable\"], columns=\"Model\", values=\"value\")\n",
    "        .reset_index()\n",
    "        .rename(columns=dict(variable=\"Program\"))\n",
    "    )\n",
    "\n",
    "\n",
    "def tables_to_model_comparisons(tables):\n",
    "    dfs = []\n",
    "    for key, table in tables.items():\n",
    "        df = table_to_model_comparison(table)\n",
    "        df = df.rename(\n",
    "            columns={\n",
    "                column: f\"{column} {key}\"\n",
    "                if key != \"\" and column not in (\"Year\", \"Model\", \"Program\")\n",
    "                else column\n",
    "                for column in df.columns\n",
    "            }\n",
    "        )\n",
    "        dfs.append(df)\n",
    "    df = pd.concat(dfs, axis=1)\n",
    "    df = df.loc[:, ~df.columns.duplicated()]\n",
    "    return df\n",
    "\n",
    "\n",
    "def model_forecast_chart(table, title=None, currency=True):\n",
    "    hovertemplate = \"\"\n",
    "    df = table_to_model_comparison(table)\n",
    "    fig = (\n",
    "        px.line(\n",
    "            df,\n",
    "            animation_frame=\"Program\",\n",
    "            x=\"Year\",\n",
    "            y=[EXTERNAL, OPENFISCA_UK, UKMOD],\n",
    "            color_discrete_map={\n",
    "                OPENFISCA_UK: \"blue\",\n",
    "                UKMOD: \"lightgrey\",\n",
    "            },\n",
    "        )\n",
    "        .update_layout(\n",
    "            width=800,\n",
    "            height=600,\n",
    "            yaxis_tickprefix=\"£\" if currency else \"\",\n",
    "            title=title,\n",
    "            template=\"plotly_white\",\n",
    "            legend_title=\"Model\",\n",
    "            yaxis_title=\"\",\n",
    "            yaxis_range=(0, 20e9) if currency else (0, 10e6),\n",
    "            legend_traceorder=\"reversed\",\n",
    "        )\n",
    "        .update_traces(hovertemplate=hovertemplate)\n",
    "    )\n",
    "    for frame in fig.frames:\n",
    "        for data in frame.data:\n",
    "            data.hovertemplate = hovertemplate\n",
    "    return fig\n",
    "\n",
    "\n",
    "model_forecast_chart(\n",
    "    model_validation_table(budgetary_impact, divisor=1, decimals=1),\n",
    "    title=\"Budgetary impact forecasts\",\n",
    ")"
   ]
  },
  {
   "cell_type": "markdown",
   "id": "e07fb9b7-62dc-40e8-a861-cff08438a545",
   "metadata": {},
   "source": [
    "### Differences\n",
    "\n",
    "#### Absolute"
   ]
  },
  {
   "cell_type": "code",
   "execution_count": 4,
   "id": "df0bef66-16e4-4a54-b912-eff54b827ba4",
   "metadata": {},
   "outputs": [
    {
     "data": {
      "text/html": [
       "<div>\n",
       "<style scoped>\n",
       "    .dataframe tbody tr th:only-of-type {\n",
       "        vertical-align: middle;\n",
       "    }\n",
       "\n",
       "    .dataframe tbody tr th {\n",
       "        vertical-align: top;\n",
       "    }\n",
       "\n",
       "    .dataframe thead th {\n",
       "        text-align: right;\n",
       "    }\n",
       "</style>\n",
       "<table border=\"1\" class=\"dataframe\">\n",
       "  <thead>\n",
       "    <tr style=\"text-align: right;\">\n",
       "      <th></th>\n",
       "      <th></th>\n",
       "      <th>Child Benefit</th>\n",
       "      <th>ESA (income-based)</th>\n",
       "      <th>Income Support</th>\n",
       "      <th>JSA (income-based)</th>\n",
       "      <th>Housing Benefit</th>\n",
       "      <th>Working Tax Credit</th>\n",
       "      <th>Child Tax Credit</th>\n",
       "      <th>Universal Credit</th>\n",
       "      <th>Pension Credit</th>\n",
       "      <th>Income Tax</th>\n",
       "      <th>National Insurance (total)</th>\n",
       "    </tr>\n",
       "  </thead>\n",
       "  <tbody>\n",
       "    <tr>\n",
       "      <th rowspan=\"7\" valign=\"top\">OpenFisca-UK</th>\n",
       "      <th>2019</th>\n",
       "      <td>-0.3</td>\n",
       "      <td>-3.0</td>\n",
       "      <td>0.1</td>\n",
       "      <td>-0.2</td>\n",
       "      <td>-5.0</td>\n",
       "      <td>0.1</td>\n",
       "      <td>1.0</td>\n",
       "      <td>1.4</td>\n",
       "      <td>-2.2</td>\n",
       "      <td>-21.7</td>\n",
       "      <td>1.1</td>\n",
       "    </tr>\n",
       "    <tr>\n",
       "      <th>2020</th>\n",
       "      <td>-0.5</td>\n",
       "      <td>-2.3</td>\n",
       "      <td>0.2</td>\n",
       "      <td>-0.1</td>\n",
       "      <td>-4.6</td>\n",
       "      <td>0.1</td>\n",
       "      <td>1.1</td>\n",
       "      <td>-1.7</td>\n",
       "      <td>-2.2</td>\n",
       "      <td>-24.9</td>\n",
       "      <td>6.3</td>\n",
       "    </tr>\n",
       "    <tr>\n",
       "      <th>2021</th>\n",
       "      <td>-0.3</td>\n",
       "      <td>-4.9</td>\n",
       "      <td>0.1</td>\n",
       "      <td>0.0</td>\n",
       "      <td>-4.4</td>\n",
       "      <td>0.9</td>\n",
       "      <td>1.6</td>\n",
       "      <td>-2.0</td>\n",
       "      <td>-2.0</td>\n",
       "      <td>-25.2</td>\n",
       "      <td>5.2</td>\n",
       "    </tr>\n",
       "    <tr>\n",
       "      <th>2022</th>\n",
       "      <td>-0.7</td>\n",
       "      <td>-4.9</td>\n",
       "      <td>0.1</td>\n",
       "      <td>0.0</td>\n",
       "      <td>-3.9</td>\n",
       "      <td>0.5</td>\n",
       "      <td>1.7</td>\n",
       "      <td>-3.9</td>\n",
       "      <td>-1.7</td>\n",
       "      <td>-27.7</td>\n",
       "      <td>3.8</td>\n",
       "    </tr>\n",
       "    <tr>\n",
       "      <th>2023</th>\n",
       "      <td>-0.8</td>\n",
       "      <td>-4.8</td>\n",
       "      <td>0.1</td>\n",
       "      <td>-0.0</td>\n",
       "      <td>-3.5</td>\n",
       "      <td>0.6</td>\n",
       "      <td>1.5</td>\n",
       "      <td>-5.9</td>\n",
       "      <td>-1.9</td>\n",
       "      <td>-28.8</td>\n",
       "      <td>2.0</td>\n",
       "    </tr>\n",
       "    <tr>\n",
       "      <th>2024</th>\n",
       "      <td>-0.5</td>\n",
       "      <td>-3.9</td>\n",
       "      <td>-0.0</td>\n",
       "      <td>0.3</td>\n",
       "      <td>-2.4</td>\n",
       "      <td>0.6</td>\n",
       "      <td>1.4</td>\n",
       "      <td>-8.1</td>\n",
       "      <td>-1.9</td>\n",
       "      <td>-30.2</td>\n",
       "      <td>-0.9</td>\n",
       "    </tr>\n",
       "    <tr>\n",
       "      <th>2025</th>\n",
       "      <td>-0.1</td>\n",
       "      <td>-2.2</td>\n",
       "      <td>-0.1</td>\n",
       "      <td>0.3</td>\n",
       "      <td>-1.7</td>\n",
       "      <td>0.5</td>\n",
       "      <td>1.2</td>\n",
       "      <td>-11.3</td>\n",
       "      <td>-1.8</td>\n",
       "      <td>-31.9</td>\n",
       "      <td>-4.5</td>\n",
       "    </tr>\n",
       "    <tr>\n",
       "      <th rowspan=\"7\" valign=\"top\">UKMOD</th>\n",
       "      <th>2019</th>\n",
       "      <td>0.3</td>\n",
       "      <td>-3.2</td>\n",
       "      <td></td>\n",
       "      <td></td>\n",
       "      <td>-5.8</td>\n",
       "      <td>-1.7</td>\n",
       "      <td>-5.4</td>\n",
       "      <td>-1.0</td>\n",
       "      <td>-0.6</td>\n",
       "      <td>-30.3</td>\n",
       "      <td>4.4</td>\n",
       "    </tr>\n",
       "    <tr>\n",
       "      <th>2020</th>\n",
       "      <td>0.4</td>\n",
       "      <td>-3.3</td>\n",
       "      <td></td>\n",
       "      <td></td>\n",
       "      <td>-5.0</td>\n",
       "      <td>-0.7</td>\n",
       "      <td>-3.6</td>\n",
       "      <td>-11.9</td>\n",
       "      <td>-0.5</td>\n",
       "      <td>-29.0</td>\n",
       "      <td>0.0</td>\n",
       "    </tr>\n",
       "    <tr>\n",
       "      <th>2021</th>\n",
       "      <td>0.7</td>\n",
       "      <td>-3.5</td>\n",
       "      <td></td>\n",
       "      <td></td>\n",
       "      <td>-6.2</td>\n",
       "      <td>-0.1</td>\n",
       "      <td>-1.6</td>\n",
       "      <td>-11.3</td>\n",
       "      <td>-0.9</td>\n",
       "      <td>-51.2</td>\n",
       "      <td>-8.2</td>\n",
       "    </tr>\n",
       "    <tr>\n",
       "      <th>2022</th>\n",
       "      <td>0.8</td>\n",
       "      <td>-4.0</td>\n",
       "      <td></td>\n",
       "      <td></td>\n",
       "      <td>-5.6</td>\n",
       "      <td>-0.1</td>\n",
       "      <td>-0.6</td>\n",
       "      <td>-9.6</td>\n",
       "      <td>-0.3</td>\n",
       "      <td>-43.8</td>\n",
       "      <td>4.7</td>\n",
       "    </tr>\n",
       "    <tr>\n",
       "      <th>2023</th>\n",
       "      <td>0.8</td>\n",
       "      <td>-4.2</td>\n",
       "      <td></td>\n",
       "      <td></td>\n",
       "      <td>-5.1</td>\n",
       "      <td>0.1</td>\n",
       "      <td>0.1</td>\n",
       "      <td>-10.6</td>\n",
       "      <td>-0.0</td>\n",
       "      <td>-44.4</td>\n",
       "      <td>-12.4</td>\n",
       "    </tr>\n",
       "    <tr>\n",
       "      <th>2024</th>\n",
       "      <td>0.9</td>\n",
       "      <td>-3.7</td>\n",
       "      <td></td>\n",
       "      <td></td>\n",
       "      <td>-4.0</td>\n",
       "      <td>0.1</td>\n",
       "      <td>0.3</td>\n",
       "      <td>-18.6</td>\n",
       "      <td>0.1</td>\n",
       "      <td>-47.2</td>\n",
       "      <td>-16.7</td>\n",
       "    </tr>\n",
       "    <tr>\n",
       "      <th>2025</th>\n",
       "      <td>1.0</td>\n",
       "      <td>-2.3</td>\n",
       "      <td></td>\n",
       "      <td></td>\n",
       "      <td>-3.5</td>\n",
       "      <td>0.1</td>\n",
       "      <td>0.1</td>\n",
       "      <td>-22.3</td>\n",
       "      <td>0.2</td>\n",
       "      <td>-49.6</td>\n",
       "      <td>-20.2</td>\n",
       "    </tr>\n",
       "  </tbody>\n",
       "</table>\n",
       "</div>"
      ],
      "text/plain": [
       "                   Child Benefit  ESA (income-based) Income Support  \\\n",
       "OpenFisca-UK 2019           -0.3                -3.0            0.1   \n",
       "             2020           -0.5                -2.3            0.2   \n",
       "             2021           -0.3                -4.9            0.1   \n",
       "             2022           -0.7                -4.9            0.1   \n",
       "             2023           -0.8                -4.8            0.1   \n",
       "             2024           -0.5                -3.9           -0.0   \n",
       "             2025           -0.1                -2.2           -0.1   \n",
       "UKMOD        2019            0.3                -3.2                  \n",
       "             2020            0.4                -3.3                  \n",
       "             2021            0.7                -3.5                  \n",
       "             2022            0.8                -4.0                  \n",
       "             2023            0.8                -4.2                  \n",
       "             2024            0.9                -3.7                  \n",
       "             2025            1.0                -2.3                  \n",
       "\n",
       "                  JSA (income-based)  Housing Benefit  Working Tax Credit  \\\n",
       "OpenFisca-UK 2019               -0.2             -5.0                 0.1   \n",
       "             2020               -0.1             -4.6                 0.1   \n",
       "             2021                0.0             -4.4                 0.9   \n",
       "             2022                0.0             -3.9                 0.5   \n",
       "             2023               -0.0             -3.5                 0.6   \n",
       "             2024                0.3             -2.4                 0.6   \n",
       "             2025                0.3             -1.7                 0.5   \n",
       "UKMOD        2019                                -5.8                -1.7   \n",
       "             2020                                -5.0                -0.7   \n",
       "             2021                                -6.2                -0.1   \n",
       "             2022                                -5.6                -0.1   \n",
       "             2023                                -5.1                 0.1   \n",
       "             2024                                -4.0                 0.1   \n",
       "             2025                                -3.5                 0.1   \n",
       "\n",
       "                   Child Tax Credit  Universal Credit  Pension Credit  \\\n",
       "OpenFisca-UK 2019               1.0               1.4            -2.2   \n",
       "             2020               1.1              -1.7            -2.2   \n",
       "             2021               1.6              -2.0            -2.0   \n",
       "             2022               1.7              -3.9            -1.7   \n",
       "             2023               1.5              -5.9            -1.9   \n",
       "             2024               1.4              -8.1            -1.9   \n",
       "             2025               1.2             -11.3            -1.8   \n",
       "UKMOD        2019              -5.4              -1.0            -0.6   \n",
       "             2020              -3.6             -11.9            -0.5   \n",
       "             2021              -1.6             -11.3            -0.9   \n",
       "             2022              -0.6              -9.6            -0.3   \n",
       "             2023               0.1             -10.6            -0.0   \n",
       "             2024               0.3             -18.6             0.1   \n",
       "             2025               0.1             -22.3             0.2   \n",
       "\n",
       "                   Income Tax  National Insurance (total)  \n",
       "OpenFisca-UK 2019       -21.7                         1.1  \n",
       "             2020       -24.9                         6.3  \n",
       "             2021       -25.2                         5.2  \n",
       "             2022       -27.7                         3.8  \n",
       "             2023       -28.8                         2.0  \n",
       "             2024       -30.2                        -0.9  \n",
       "             2025       -31.9                        -4.5  \n",
       "UKMOD        2019       -30.3                         4.4  \n",
       "             2020       -29.0                         0.0  \n",
       "             2021       -51.2                        -8.2  \n",
       "             2022       -43.8                         4.7  \n",
       "             2023       -44.4                       -12.4  \n",
       "             2024       -47.2                       -16.7  \n",
       "             2025       -49.6                       -20.2  "
      ]
     },
     "execution_count": 4,
     "metadata": {},
     "output_type": "execute_result"
    }
   ],
   "source": [
    "def budgetary_impact_error(model, year, variable):\n",
    "    try:\n",
    "        if model == OPENFISCA_UK:\n",
    "            return sim.calc(\n",
    "                variable, map_to=\"household\", period=year\n",
    "            ).sum() - budgetary_impact(EXTERNAL, year, variable)\n",
    "        elif model == UKMOD:\n",
    "            return getattr(ukmod_statistics.ukmod.budgetary_impact, variable)(\n",
    "                f\"{year}-01-01\"\n",
    "            ) - budgetary_impact(EXTERNAL, year, variable)\n",
    "    except:\n",
    "        return np.nan\n",
    "\n",
    "\n",
    "model_validation_table(\n",
    "    budgetary_impact_error,\n",
    "    models=[OPENFISCA_UK, UKMOD],\n",
    "    divisor=1e9,\n",
    "    decimals=1,\n",
    ")"
   ]
  },
  {
   "cell_type": "markdown",
   "id": "3faf63e8-f932-49df-9329-fa772cb33837",
   "metadata": {},
   "source": [
    "#### Relative"
   ]
  },
  {
   "cell_type": "code",
   "execution_count": 5,
   "id": "bfd19045-2851-47aa-861e-3f10d972b522",
   "metadata": {},
   "outputs": [
    {
     "data": {
      "text/html": [
       "<div>\n",
       "<style scoped>\n",
       "    .dataframe tbody tr th:only-of-type {\n",
       "        vertical-align: middle;\n",
       "    }\n",
       "\n",
       "    .dataframe tbody tr th {\n",
       "        vertical-align: top;\n",
       "    }\n",
       "\n",
       "    .dataframe thead th {\n",
       "        text-align: right;\n",
       "    }\n",
       "</style>\n",
       "<table border=\"1\" class=\"dataframe\">\n",
       "  <thead>\n",
       "    <tr style=\"text-align: right;\">\n",
       "      <th></th>\n",
       "      <th></th>\n",
       "      <th>Child Benefit</th>\n",
       "      <th>ESA (income-based)</th>\n",
       "      <th>Income Support</th>\n",
       "      <th>JSA (income-based)</th>\n",
       "      <th>Housing Benefit</th>\n",
       "      <th>Working Tax Credit</th>\n",
       "      <th>Child Tax Credit</th>\n",
       "      <th>Universal Credit</th>\n",
       "      <th>Pension Credit</th>\n",
       "      <th>Income Tax</th>\n",
       "      <th>National Insurance (total)</th>\n",
       "    </tr>\n",
       "  </thead>\n",
       "  <tbody>\n",
       "    <tr>\n",
       "      <th rowspan=\"7\" valign=\"top\">OpenFisca-UK</th>\n",
       "      <th>2019</th>\n",
       "      <td>-2.9</td>\n",
       "      <td>-31.9</td>\n",
       "      <td>10.4</td>\n",
       "      <td>-25.0</td>\n",
       "      <td>-27.0</td>\n",
       "      <td>2.0</td>\n",
       "      <td>7.3</td>\n",
       "      <td>7.5</td>\n",
       "      <td>-43.2</td>\n",
       "      <td>-11.2</td>\n",
       "      <td>0.8</td>\n",
       "    </tr>\n",
       "    <tr>\n",
       "      <th>2020</th>\n",
       "      <td>-4.6</td>\n",
       "      <td>-26.1</td>\n",
       "      <td>14.2</td>\n",
       "      <td>-17.0</td>\n",
       "      <td>-26.7</td>\n",
       "      <td>3.8</td>\n",
       "      <td>9.7</td>\n",
       "      <td>-4.5</td>\n",
       "      <td>-44.3</td>\n",
       "      <td>-13.3</td>\n",
       "      <td>4.5</td>\n",
       "    </tr>\n",
       "    <tr>\n",
       "      <th>2021</th>\n",
       "      <td>-3.2</td>\n",
       "      <td>-59.0</td>\n",
       "      <td>13.0</td>\n",
       "      <td>0.5</td>\n",
       "      <td>-25.9</td>\n",
       "      <td>38.4</td>\n",
       "      <td>19.3</td>\n",
       "      <td>-4.9</td>\n",
       "      <td>-40.4</td>\n",
       "      <td>-12.4</td>\n",
       "      <td>3.6</td>\n",
       "    </tr>\n",
       "    <tr>\n",
       "      <th>2022</th>\n",
       "      <td>-5.9</td>\n",
       "      <td>-60.2</td>\n",
       "      <td>9.0</td>\n",
       "      <td>0.1</td>\n",
       "      <td>-24.3</td>\n",
       "      <td>32.4</td>\n",
       "      <td>28.0</td>\n",
       "      <td>-9.0</td>\n",
       "      <td>-37.1</td>\n",
       "      <td>-13.5</td>\n",
       "      <td>2.5</td>\n",
       "    </tr>\n",
       "    <tr>\n",
       "      <th>2023</th>\n",
       "      <td>-6.9</td>\n",
       "      <td>-60.7</td>\n",
       "      <td>10.8</td>\n",
       "      <td>-100.0</td>\n",
       "      <td>-23.6</td>\n",
       "      <td>44.6</td>\n",
       "      <td>33.8</td>\n",
       "      <td>-11.8</td>\n",
       "      <td>-42.2</td>\n",
       "      <td>-13.4</td>\n",
       "      <td>1.3</td>\n",
       "    </tr>\n",
       "    <tr>\n",
       "      <th>2024</th>\n",
       "      <td>-4.2</td>\n",
       "      <td>-61.6</td>\n",
       "      <td>-4.7</td>\n",
       "      <td>inf</td>\n",
       "      <td>-19.4</td>\n",
       "      <td>70.0</td>\n",
       "      <td>48.9</td>\n",
       "      <td>-14.0</td>\n",
       "      <td>-42.7</td>\n",
       "      <td>-13.4</td>\n",
       "      <td>-0.5</td>\n",
       "    </tr>\n",
       "    <tr>\n",
       "      <th>2025</th>\n",
       "      <td>-0.6</td>\n",
       "      <td>-64.2</td>\n",
       "      <td>-33.4</td>\n",
       "      <td>inf</td>\n",
       "      <td>-16.3</td>\n",
       "      <td>131.6</td>\n",
       "      <td>91.5</td>\n",
       "      <td>-16.6</td>\n",
       "      <td>-42.9</td>\n",
       "      <td>-13.4</td>\n",
       "      <td>-2.6</td>\n",
       "    </tr>\n",
       "    <tr>\n",
       "      <th rowspan=\"7\" valign=\"top\">UKMOD</th>\n",
       "      <th>2019</th>\n",
       "      <td>2.3</td>\n",
       "      <td>-34.2</td>\n",
       "      <td></td>\n",
       "      <td></td>\n",
       "      <td>-31.7</td>\n",
       "      <td>-44.1</td>\n",
       "      <td>-39.1</td>\n",
       "      <td>-5.3</td>\n",
       "      <td>-12.2</td>\n",
       "      <td>-15.7</td>\n",
       "      <td>3.0</td>\n",
       "    </tr>\n",
       "    <tr>\n",
       "      <th>2020</th>\n",
       "      <td>3.8</td>\n",
       "      <td>-37.4</td>\n",
       "      <td></td>\n",
       "      <td></td>\n",
       "      <td>-28.9</td>\n",
       "      <td>-23.2</td>\n",
       "      <td>-31.9</td>\n",
       "      <td>-31.0</td>\n",
       "      <td>-10.2</td>\n",
       "      <td>-15.4</td>\n",
       "      <td>0.0</td>\n",
       "    </tr>\n",
       "    <tr>\n",
       "      <th>2021</th>\n",
       "      <td>6.6</td>\n",
       "      <td>-42.2</td>\n",
       "      <td></td>\n",
       "      <td></td>\n",
       "      <td>-36.0</td>\n",
       "      <td>-5.4</td>\n",
       "      <td>-19.2</td>\n",
       "      <td>-27.4</td>\n",
       "      <td>-18.4</td>\n",
       "      <td>-25.1</td>\n",
       "      <td>-5.6</td>\n",
       "    </tr>\n",
       "    <tr>\n",
       "      <th>2022</th>\n",
       "      <td>6.7</td>\n",
       "      <td>-48.8</td>\n",
       "      <td></td>\n",
       "      <td></td>\n",
       "      <td>-35.0</td>\n",
       "      <td>-4.3</td>\n",
       "      <td>-10.2</td>\n",
       "      <td>-22.0</td>\n",
       "      <td>-7.0</td>\n",
       "      <td>-21.4</td>\n",
       "      <td>3.1</td>\n",
       "    </tr>\n",
       "    <tr>\n",
       "      <th>2023</th>\n",
       "      <td>6.8</td>\n",
       "      <td>-53.2</td>\n",
       "      <td></td>\n",
       "      <td></td>\n",
       "      <td>-34.7</td>\n",
       "      <td>6.5</td>\n",
       "      <td>1.1</td>\n",
       "      <td>-21.3</td>\n",
       "      <td>-0.8</td>\n",
       "      <td>-20.6</td>\n",
       "      <td>-7.9</td>\n",
       "    </tr>\n",
       "    <tr>\n",
       "      <th>2024</th>\n",
       "      <td>7.9</td>\n",
       "      <td>-57.9</td>\n",
       "      <td></td>\n",
       "      <td></td>\n",
       "      <td>-32.2</td>\n",
       "      <td>10.2</td>\n",
       "      <td>11.4</td>\n",
       "      <td>-32.3</td>\n",
       "      <td>2.6</td>\n",
       "      <td>-20.9</td>\n",
       "      <td>-10.2</td>\n",
       "    </tr>\n",
       "    <tr>\n",
       "      <th>2025</th>\n",
       "      <td>8.2</td>\n",
       "      <td>-65.1</td>\n",
       "      <td></td>\n",
       "      <td></td>\n",
       "      <td>-34.3</td>\n",
       "      <td>14.6</td>\n",
       "      <td>9.1</td>\n",
       "      <td>-32.8</td>\n",
       "      <td>5.8</td>\n",
       "      <td>-20.9</td>\n",
       "      <td>-11.8</td>\n",
       "    </tr>\n",
       "  </tbody>\n",
       "</table>\n",
       "</div>"
      ],
      "text/plain": [
       "                   Child Benefit  ESA (income-based) Income Support  \\\n",
       "OpenFisca-UK 2019           -2.9               -31.9           10.4   \n",
       "             2020           -4.6               -26.1           14.2   \n",
       "             2021           -3.2               -59.0           13.0   \n",
       "             2022           -5.9               -60.2            9.0   \n",
       "             2023           -6.9               -60.7           10.8   \n",
       "             2024           -4.2               -61.6           -4.7   \n",
       "             2025           -0.6               -64.2          -33.4   \n",
       "UKMOD        2019            2.3               -34.2                  \n",
       "             2020            3.8               -37.4                  \n",
       "             2021            6.6               -42.2                  \n",
       "             2022            6.7               -48.8                  \n",
       "             2023            6.8               -53.2                  \n",
       "             2024            7.9               -57.9                  \n",
       "             2025            8.2               -65.1                  \n",
       "\n",
       "                  JSA (income-based)  Housing Benefit  Working Tax Credit  \\\n",
       "OpenFisca-UK 2019              -25.0            -27.0                 2.0   \n",
       "             2020              -17.0            -26.7                 3.8   \n",
       "             2021                0.5            -25.9                38.4   \n",
       "             2022                0.1            -24.3                32.4   \n",
       "             2023             -100.0            -23.6                44.6   \n",
       "             2024                inf            -19.4                70.0   \n",
       "             2025                inf            -16.3               131.6   \n",
       "UKMOD        2019                               -31.7               -44.1   \n",
       "             2020                               -28.9               -23.2   \n",
       "             2021                               -36.0                -5.4   \n",
       "             2022                               -35.0                -4.3   \n",
       "             2023                               -34.7                 6.5   \n",
       "             2024                               -32.2                10.2   \n",
       "             2025                               -34.3                14.6   \n",
       "\n",
       "                   Child Tax Credit  Universal Credit  Pension Credit  \\\n",
       "OpenFisca-UK 2019               7.3               7.5           -43.2   \n",
       "             2020               9.7              -4.5           -44.3   \n",
       "             2021              19.3              -4.9           -40.4   \n",
       "             2022              28.0              -9.0           -37.1   \n",
       "             2023              33.8             -11.8           -42.2   \n",
       "             2024              48.9             -14.0           -42.7   \n",
       "             2025              91.5             -16.6           -42.9   \n",
       "UKMOD        2019             -39.1              -5.3           -12.2   \n",
       "             2020             -31.9             -31.0           -10.2   \n",
       "             2021             -19.2             -27.4           -18.4   \n",
       "             2022             -10.2             -22.0            -7.0   \n",
       "             2023               1.1             -21.3            -0.8   \n",
       "             2024              11.4             -32.3             2.6   \n",
       "             2025               9.1             -32.8             5.8   \n",
       "\n",
       "                   Income Tax  National Insurance (total)  \n",
       "OpenFisca-UK 2019       -11.2                         0.8  \n",
       "             2020       -13.3                         4.5  \n",
       "             2021       -12.4                         3.6  \n",
       "             2022       -13.5                         2.5  \n",
       "             2023       -13.4                         1.3  \n",
       "             2024       -13.4                        -0.5  \n",
       "             2025       -13.4                        -2.6  \n",
       "UKMOD        2019       -15.7                         3.0  \n",
       "             2020       -15.4                         0.0  \n",
       "             2021       -25.1                        -5.6  \n",
       "             2022       -21.4                         3.1  \n",
       "             2023       -20.6                        -7.9  \n",
       "             2024       -20.9                       -10.2  \n",
       "             2025       -20.9                       -11.8  "
      ]
     },
     "execution_count": 5,
     "metadata": {},
     "output_type": "execute_result"
    }
   ],
   "source": [
    "def relative_budgetary_impact_error(model, year, variable):\n",
    "    try:\n",
    "        if model == OPENFISCA_UK:\n",
    "            return (\n",
    "                sim.calc(variable, map_to=\"household\", period=year).sum()\n",
    "                / budgetary_impact(EXTERNAL, year, variable)\n",
    "                - 1\n",
    "            )\n",
    "        elif model == UKMOD:\n",
    "            return (\n",
    "                getattr(ukmod_statistics.ukmod.budgetary_impact, variable)(\n",
    "                    f\"{year}-01-01\"\n",
    "                )\n",
    "                / budgetary_impact(EXTERNAL, year, variable)\n",
    "                - 1\n",
    "            )\n",
    "    except:\n",
    "        return np.nan\n",
    "\n",
    "\n",
    "model_validation_table(\n",
    "    relative_budgetary_impact_error,\n",
    "    models=[OPENFISCA_UK, UKMOD],\n",
    "    divisor=1e-2,\n",
    "    decimals=1,\n",
    ")"
   ]
  },
  {
   "cell_type": "code",
   "execution_count": 6,
   "id": "fb725740-888f-477b-9aa4-dca99796cd20",
   "metadata": {},
   "outputs": [
    {
     "data": {
      "application/vnd.plotly.v1+json": {
       "config": {
        "plotlyServerURL": "https://plot.ly"
       },
       "data": [
        {
         "alignmentgroup": "True",
         "customdata": [
          [
           11.6,
           12.6,
           11.6,
           2025,
           "Child Benefit"
          ],
          [
           167.6,
           151.9,
           172.1,
           2025,
           "National Insurance (total)"
          ],
          [
           205.6,
           187.9,
           237.5,
           2025,
           "Income Tax"
          ],
          [
           8.5,
           6.7,
           10.2,
           2025,
           "Housing Benefit"
          ],
          [
           56.7,
           45.6,
           68,
           2025,
           "Universal Credit"
          ],
          [
           2.4,
           4.5,
           4.2,
           2025,
           "Pension Credit"
          ],
          [
           1.3,
           1.2,
           3.5,
           2025,
           "ESA (income-based)"
          ],
          [
           2.6,
           1.5,
           1.3,
           2025,
           "Child Tax Credit"
          ],
          [
           0.9,
           0.4,
           0.4,
           2025,
           "Working Tax Credit"
          ]
         ],
         "hovertemplate": "<b>%{customdata[4]} in %{customdata[3]}</b><br>Error: %{x}<br>Official: £%{customdata[2]}bn<br>OpenFisca-UK: £%{customdata[0]}bn<br>UKMOD: £%{customdata[1]}bn",
         "legendgroup": "OpenFisca-UK",
         "marker": {
          "color": "blue",
          "pattern": {
           "shape": ""
          }
         },
         "name": "OpenFisca-UK",
         "offsetgroup": "OpenFisca-UK",
         "orientation": "h",
         "showlegend": true,
         "textposition": "auto",
         "type": "bar",
         "x": [
          0.006,
          0.026000000000000002,
          0.134,
          0.163,
          0.166,
          0.429,
          0.642,
          0.915,
          1.3159999999999998
         ],
         "xaxis": "x",
         "y": [
          "Child Benefit",
          "National Insurance (total)",
          "Income Tax",
          "Housing Benefit",
          "Universal Credit",
          "Pension Credit",
          "ESA (income-based)",
          "Child Tax Credit",
          "Working Tax Credit"
         ],
         "yaxis": "y"
        },
        {
         "alignmentgroup": "True",
         "customdata": [
          [
           11.6,
           12.6,
           11.6,
           2025,
           "Child Benefit"
          ],
          [
           167.6,
           151.9,
           172.1,
           2025,
           "National Insurance (total)"
          ],
          [
           205.6,
           187.9,
           237.5,
           2025,
           "Income Tax"
          ],
          [
           8.5,
           6.7,
           10.2,
           2025,
           "Housing Benefit"
          ],
          [
           56.7,
           45.6,
           68,
           2025,
           "Universal Credit"
          ],
          [
           2.4,
           4.5,
           4.2,
           2025,
           "Pension Credit"
          ],
          [
           1.3,
           1.2,
           3.5,
           2025,
           "ESA (income-based)"
          ],
          [
           2.6,
           1.5,
           1.3,
           2025,
           "Child Tax Credit"
          ],
          [
           0.9,
           0.4,
           0.4,
           2025,
           "Working Tax Credit"
          ]
         ],
         "hovertemplate": "<b>%{customdata[4]} in %{customdata[3]}</b><br>Error: %{x}<br>Official: £%{customdata[2]}bn<br>OpenFisca-UK: £%{customdata[0]}bn<br>UKMOD: £%{customdata[1]}bn",
         "legendgroup": "UKMOD",
         "marker": {
          "color": "lightgrey",
          "pattern": {
           "shape": ""
          }
         },
         "name": "UKMOD",
         "offsetgroup": "UKMOD",
         "orientation": "h",
         "showlegend": true,
         "textposition": "auto",
         "type": "bar",
         "x": [
          0.08199999999999999,
          0.11800000000000001,
          0.209,
          0.34299999999999997,
          0.32799999999999996,
          0.057999999999999996,
          0.6509999999999999,
          0.091,
          0.146
         ],
         "xaxis": "x",
         "y": [
          "Child Benefit",
          "National Insurance (total)",
          "Income Tax",
          "Housing Benefit",
          "Universal Credit",
          "Pension Credit",
          "ESA (income-based)",
          "Child Tax Credit",
          "Working Tax Credit"
         ],
         "yaxis": "y"
        }
       ],
       "frames": [
        {
         "data": [
          {
           "alignmentgroup": "True",
           "customdata": [
            [
             146.1,
             149.4,
             145,
             2019,
             "National Insurance (total)"
            ],
            [
             3.9,
             2.1,
             3.8,
             2019,
             "Working Tax Credit"
            ],
            [
             10.8,
             11.3,
             11.1,
             2019,
             "Child Benefit"
            ],
            [
             14.9,
             8.5,
             13.9,
             2019,
             "Child Tax Credit"
            ],
            [
             19.8,
             17.4,
             18.4,
             2019,
             "Universal Credit"
            ],
            [
             171.9,
             163.3,
             193.6,
             2019,
             "Income Tax"
            ],
            [
             13.4,
             12.6,
             18.4,
             2019,
             "Housing Benefit"
            ],
            [
             6.4,
             6.1,
             9.3,
             2019,
             "ESA (income-based)"
            ],
            [
             2.9,
             4.4,
             5.1,
             2019,
             "Pension Credit"
            ]
           ],
           "hovertemplate": "<b>%{customdata[4]} in %{customdata[3]}</b><br>Error: %{x}<br>Official: £%{customdata[2]}bn<br>OpenFisca-UK: £%{customdata[0]}bn<br>UKMOD: £%{customdata[1]}bn",
           "legendgroup": "OpenFisca-UK",
           "marker": {
            "color": "blue",
            "pattern": {
             "shape": ""
            }
           },
           "name": "OpenFisca-UK",
           "offsetgroup": "OpenFisca-UK",
           "orientation": "h",
           "showlegend": true,
           "textposition": "auto",
           "type": "bar",
           "x": [
            0.008,
            0.02,
            0.028999999999999998,
            0.073,
            0.075,
            0.11199999999999999,
            0.27,
            0.319,
            0.43200000000000005
           ],
           "xaxis": "x",
           "y": [
            "National Insurance (total)",
            "Working Tax Credit",
            "Child Benefit",
            "Child Tax Credit",
            "Universal Credit",
            "Income Tax",
            "Housing Benefit",
            "ESA (income-based)",
            "Pension Credit"
           ],
           "yaxis": "y"
          },
          {
           "alignmentgroup": "True",
           "customdata": [
            [
             146.1,
             149.4,
             145,
             2019,
             "National Insurance (total)"
            ],
            [
             3.9,
             2.1,
             3.8,
             2019,
             "Working Tax Credit"
            ],
            [
             10.8,
             11.3,
             11.1,
             2019,
             "Child Benefit"
            ],
            [
             14.9,
             8.5,
             13.9,
             2019,
             "Child Tax Credit"
            ],
            [
             19.8,
             17.4,
             18.4,
             2019,
             "Universal Credit"
            ],
            [
             171.9,
             163.3,
             193.6,
             2019,
             "Income Tax"
            ],
            [
             13.4,
             12.6,
             18.4,
             2019,
             "Housing Benefit"
            ],
            [
             6.4,
             6.1,
             9.3,
             2019,
             "ESA (income-based)"
            ],
            [
             2.9,
             4.4,
             5.1,
             2019,
             "Pension Credit"
            ]
           ],
           "hovertemplate": "<b>%{customdata[4]} in %{customdata[3]}</b><br>Error: %{x}<br>Official: £%{customdata[2]}bn<br>OpenFisca-UK: £%{customdata[0]}bn<br>UKMOD: £%{customdata[1]}bn",
           "legendgroup": "UKMOD",
           "marker": {
            "color": "lightgrey",
            "pattern": {
             "shape": ""
            }
           },
           "name": "UKMOD",
           "offsetgroup": "UKMOD",
           "orientation": "h",
           "showlegend": true,
           "textposition": "auto",
           "type": "bar",
           "x": [
            0.03,
            0.441,
            0.023,
            0.391,
            0.053,
            0.157,
            0.317,
            0.342,
            0.122
           ],
           "xaxis": "x",
           "y": [
            "National Insurance (total)",
            "Working Tax Credit",
            "Child Benefit",
            "Child Tax Credit",
            "Universal Credit",
            "Income Tax",
            "Housing Benefit",
            "ESA (income-based)",
            "Pension Credit"
           ],
           "yaxis": "y"
          }
         ],
         "name": "2019"
        },
        {
         "data": [
          {
           "alignmentgroup": "True",
           "customdata": [
            [
             3.3,
             2.4,
             3.1,
             2020,
             "Working Tax Credit"
            ],
            [
             147.1,
             140.8,
             140.8,
             2020,
             "National Insurance (total)"
            ],
            [
             36.6,
             26.4,
             38.3,
             2020,
             "Universal Credit"
            ],
            [
             10.6,
             11.5,
             11.1,
             2020,
             "Child Benefit"
            ],
            [
             12.6,
             7.8,
             11.4,
             2020,
             "Child Tax Credit"
            ],
            [
             163.3,
             159.2,
             188.2,
             2020,
             "Income Tax"
            ],
            [
             6.5,
             5.5,
             8.8,
             2020,
             "ESA (income-based)"
            ],
            [
             12.7,
             12.3,
             17.3,
             2020,
             "Housing Benefit"
            ],
            [
             2.8,
             4.6,
             5.1,
             2020,
             "Pension Credit"
            ]
           ],
           "hovertemplate": "<b>%{customdata[4]} in %{customdata[3]}</b><br>Error: %{x}<br>Official: £%{customdata[2]}bn<br>OpenFisca-UK: £%{customdata[0]}bn<br>UKMOD: £%{customdata[1]}bn",
           "legendgroup": "OpenFisca-UK",
           "marker": {
            "color": "blue",
            "pattern": {
             "shape": ""
            }
           },
           "name": "OpenFisca-UK",
           "offsetgroup": "OpenFisca-UK",
           "orientation": "h",
           "showlegend": true,
           "textposition": "auto",
           "type": "bar",
           "x": [
            0.038,
            0.045,
            0.045,
            0.046,
            0.09699999999999999,
            0.133,
            0.261,
            0.267,
            0.44299999999999995
           ],
           "xaxis": "x",
           "y": [
            "Working Tax Credit",
            "National Insurance (total)",
            "Universal Credit",
            "Child Benefit",
            "Child Tax Credit",
            "Income Tax",
            "ESA (income-based)",
            "Housing Benefit",
            "Pension Credit"
           ],
           "yaxis": "y"
          },
          {
           "alignmentgroup": "True",
           "customdata": [
            [
             3.3,
             2.4,
             3.1,
             2020,
             "Working Tax Credit"
            ],
            [
             147.1,
             140.8,
             140.8,
             2020,
             "National Insurance (total)"
            ],
            [
             36.6,
             26.4,
             38.3,
             2020,
             "Universal Credit"
            ],
            [
             10.6,
             11.5,
             11.1,
             2020,
             "Child Benefit"
            ],
            [
             12.6,
             7.8,
             11.4,
             2020,
             "Child Tax Credit"
            ],
            [
             163.3,
             159.2,
             188.2,
             2020,
             "Income Tax"
            ],
            [
             6.5,
             5.5,
             8.8,
             2020,
             "ESA (income-based)"
            ],
            [
             12.7,
             12.3,
             17.3,
             2020,
             "Housing Benefit"
            ],
            [
             2.8,
             4.6,
             5.1,
             2020,
             "Pension Credit"
            ]
           ],
           "hovertemplate": "<b>%{customdata[4]} in %{customdata[3]}</b><br>Error: %{x}<br>Official: £%{customdata[2]}bn<br>OpenFisca-UK: £%{customdata[0]}bn<br>UKMOD: £%{customdata[1]}bn",
           "legendgroup": "UKMOD",
           "marker": {
            "color": "lightgrey",
            "pattern": {
             "shape": ""
            }
           },
           "name": "UKMOD",
           "offsetgroup": "UKMOD",
           "orientation": "h",
           "showlegend": true,
           "textposition": "auto",
           "type": "bar",
           "x": [
            0.23199999999999998,
            0,
            0.31,
            0.038,
            0.319,
            0.154,
            0.374,
            0.289,
            0.102
           ],
           "xaxis": "x",
           "y": [
            "Working Tax Credit",
            "National Insurance (total)",
            "Universal Credit",
            "Child Benefit",
            "Child Tax Credit",
            "Income Tax",
            "ESA (income-based)",
            "Housing Benefit",
            "Pension Credit"
           ],
           "yaxis": "y"
          }
         ],
         "name": "2020"
        },
        {
         "data": [
          {
           "alignmentgroup": "True",
           "customdata": [
            [
             10.6,
             11.7,
             11,
             2021,
             "Child Benefit"
            ],
            [
             151.1,
             137.7,
             145.9,
             2021,
             "National Insurance (total)"
            ],
            [
             39.1,
             29.8,
             41.1,
             2021,
             "Universal Credit"
            ],
            [
             178.4,
             152.4,
             203.6,
             2021,
             "Income Tax"
            ],
            [
             9.7,
             6.5,
             8.1,
             2021,
             "Child Tax Credit"
            ],
            [
             12.7,
             11,
             17.1,
             2021,
             "Housing Benefit"
            ],
            [
             3.1,
             2.1,
             2.2,
             2021,
             "Working Tax Credit"
            ],
            [
             3,
             4.1,
             5,
             2021,
             "Pension Credit"
            ],
            [
             3.4,
             4.8,
             8.3,
             2021,
             "ESA (income-based)"
            ]
           ],
           "hovertemplate": "<b>%{customdata[4]} in %{customdata[3]}</b><br>Error: %{x}<br>Official: £%{customdata[2]}bn<br>OpenFisca-UK: £%{customdata[0]}bn<br>UKMOD: £%{customdata[1]}bn",
           "legendgroup": "OpenFisca-UK",
           "marker": {
            "color": "blue",
            "pattern": {
             "shape": ""
            }
           },
           "name": "OpenFisca-UK",
           "offsetgroup": "OpenFisca-UK",
           "orientation": "h",
           "showlegend": true,
           "textposition": "auto",
           "type": "bar",
           "x": [
            0.032,
            0.036000000000000004,
            0.049,
            0.124,
            0.193,
            0.259,
            0.384,
            0.40399999999999997,
            0.59
           ],
           "xaxis": "x",
           "y": [
            "Child Benefit",
            "National Insurance (total)",
            "Universal Credit",
            "Income Tax",
            "Child Tax Credit",
            "Housing Benefit",
            "Working Tax Credit",
            "Pension Credit",
            "ESA (income-based)"
           ],
           "yaxis": "y"
          },
          {
           "alignmentgroup": "True",
           "customdata": [
            [
             10.6,
             11.7,
             11,
             2021,
             "Child Benefit"
            ],
            [
             151.1,
             137.7,
             145.9,
             2021,
             "National Insurance (total)"
            ],
            [
             39.1,
             29.8,
             41.1,
             2021,
             "Universal Credit"
            ],
            [
             178.4,
             152.4,
             203.6,
             2021,
             "Income Tax"
            ],
            [
             9.7,
             6.5,
             8.1,
             2021,
             "Child Tax Credit"
            ],
            [
             12.7,
             11,
             17.1,
             2021,
             "Housing Benefit"
            ],
            [
             3.1,
             2.1,
             2.2,
             2021,
             "Working Tax Credit"
            ],
            [
             3,
             4.1,
             5,
             2021,
             "Pension Credit"
            ],
            [
             3.4,
             4.8,
             8.3,
             2021,
             "ESA (income-based)"
            ]
           ],
           "hovertemplate": "<b>%{customdata[4]} in %{customdata[3]}</b><br>Error: %{x}<br>Official: £%{customdata[2]}bn<br>OpenFisca-UK: £%{customdata[0]}bn<br>UKMOD: £%{customdata[1]}bn",
           "legendgroup": "UKMOD",
           "marker": {
            "color": "lightgrey",
            "pattern": {
             "shape": ""
            }
           },
           "name": "UKMOD",
           "offsetgroup": "UKMOD",
           "orientation": "h",
           "showlegend": true,
           "textposition": "auto",
           "type": "bar",
           "x": [
            0.066,
            0.055999999999999994,
            0.27399999999999997,
            0.251,
            0.192,
            0.36,
            0.054000000000000006,
            0.184,
            0.42200000000000004
           ],
           "xaxis": "x",
           "y": [
            "Child Benefit",
            "National Insurance (total)",
            "Universal Credit",
            "Income Tax",
            "Child Tax Credit",
            "Housing Benefit",
            "Working Tax Credit",
            "Pension Credit",
            "ESA (income-based)"
           ],
           "yaxis": "y"
          }
         ],
         "name": "2021"
        },
        {
         "data": [
          {
           "alignmentgroup": "True",
           "customdata": [
            [
             155.1,
             156,
             151.3,
             2022,
             "National Insurance (total)"
            ],
            [
             10.6,
             12,
             11.2,
             2022,
             "Child Benefit"
            ],
            [
             39.7,
             34.1,
             43.7,
             2022,
             "Universal Credit"
            ],
            [
             177.3,
             161.2,
             205,
             2022,
             "Income Tax"
            ],
            [
             12,
             10.3,
             15.9,
             2022,
             "Housing Benefit"
            ],
            [
             7.7,
             5.4,
             6,
             2022,
             "Child Tax Credit"
            ],
            [
             2.2,
             1.6,
             1.6,
             2022,
             "Working Tax Credit"
            ],
            [
             2.8,
             4.2,
             4.5,
             2022,
             "Pension Credit"
            ],
            [
             3.3,
             4.2,
             8.2,
             2022,
             "ESA (income-based)"
            ]
           ],
           "hovertemplate": "<b>%{customdata[4]} in %{customdata[3]}</b><br>Error: %{x}<br>Official: £%{customdata[2]}bn<br>OpenFisca-UK: £%{customdata[0]}bn<br>UKMOD: £%{customdata[1]}bn",
           "legendgroup": "OpenFisca-UK",
           "marker": {
            "color": "blue",
            "pattern": {
             "shape": ""
            }
           },
           "name": "OpenFisca-UK",
           "offsetgroup": "OpenFisca-UK",
           "orientation": "h",
           "showlegend": true,
           "textposition": "auto",
           "type": "bar",
           "x": [
            0.025,
            0.059000000000000004,
            0.09,
            0.135,
            0.243,
            0.28,
            0.324,
            0.371,
            0.602
           ],
           "xaxis": "x",
           "y": [
            "National Insurance (total)",
            "Child Benefit",
            "Universal Credit",
            "Income Tax",
            "Housing Benefit",
            "Child Tax Credit",
            "Working Tax Credit",
            "Pension Credit",
            "ESA (income-based)"
           ],
           "yaxis": "y"
          },
          {
           "alignmentgroup": "True",
           "customdata": [
            [
             155.1,
             156,
             151.3,
             2022,
             "National Insurance (total)"
            ],
            [
             10.6,
             12,
             11.2,
             2022,
             "Child Benefit"
            ],
            [
             39.7,
             34.1,
             43.7,
             2022,
             "Universal Credit"
            ],
            [
             177.3,
             161.2,
             205,
             2022,
             "Income Tax"
            ],
            [
             12,
             10.3,
             15.9,
             2022,
             "Housing Benefit"
            ],
            [
             7.7,
             5.4,
             6,
             2022,
             "Child Tax Credit"
            ],
            [
             2.2,
             1.6,
             1.6,
             2022,
             "Working Tax Credit"
            ],
            [
             2.8,
             4.2,
             4.5,
             2022,
             "Pension Credit"
            ],
            [
             3.3,
             4.2,
             8.2,
             2022,
             "ESA (income-based)"
            ]
           ],
           "hovertemplate": "<b>%{customdata[4]} in %{customdata[3]}</b><br>Error: %{x}<br>Official: £%{customdata[2]}bn<br>OpenFisca-UK: £%{customdata[0]}bn<br>UKMOD: £%{customdata[1]}bn",
           "legendgroup": "UKMOD",
           "marker": {
            "color": "lightgrey",
            "pattern": {
             "shape": ""
            }
           },
           "name": "UKMOD",
           "offsetgroup": "UKMOD",
           "orientation": "h",
           "showlegend": true,
           "textposition": "auto",
           "type": "bar",
           "x": [
            0.031,
            0.067,
            0.22,
            0.214,
            0.35,
            0.102,
            0.043,
            0.07,
            0.488
           ],
           "xaxis": "x",
           "y": [
            "National Insurance (total)",
            "Child Benefit",
            "Universal Credit",
            "Income Tax",
            "Housing Benefit",
            "Child Tax Credit",
            "Working Tax Credit",
            "Pension Credit",
            "ESA (income-based)"
           ],
           "yaxis": "y"
          }
         ],
         "name": "2022"
        },
        {
         "data": [
          {
           "alignmentgroup": "True",
           "customdata": [
            [
             159.5,
             145.1,
             157.5,
             2023,
             "National Insurance (total)"
            ],
            [
             10.8,
             12.3,
             11.5,
             2023,
             "Child Benefit"
            ],
            [
             43.9,
             39.1,
             49.8,
             2023,
             "Universal Credit"
            ],
            [
             186.2,
             170.6,
             215,
             2023,
             "Income Tax"
            ],
            [
             11.3,
             9.6,
             14.7,
             2023,
             "Housing Benefit"
            ],
            [
             6,
             4.5,
             4.5,
             2023,
             "Child Tax Credit"
            ],
            [
             2.6,
             4.4,
             4.4,
             2023,
             "Pension Credit"
            ],
            [
             1.8,
             1.3,
             1.2,
             2023,
             "Working Tax Credit"
            ],
            [
             3.1,
             3.7,
             7.8,
             2023,
             "ESA (income-based)"
            ]
           ],
           "hovertemplate": "<b>%{customdata[4]} in %{customdata[3]}</b><br>Error: %{x}<br>Official: £%{customdata[2]}bn<br>OpenFisca-UK: £%{customdata[0]}bn<br>UKMOD: £%{customdata[1]}bn",
           "legendgroup": "OpenFisca-UK",
           "marker": {
            "color": "blue",
            "pattern": {
             "shape": ""
            }
           },
           "name": "OpenFisca-UK",
           "offsetgroup": "OpenFisca-UK",
           "orientation": "h",
           "showlegend": true,
           "textposition": "auto",
           "type": "bar",
           "x": [
            0.013000000000000001,
            0.069,
            0.11800000000000001,
            0.134,
            0.23600000000000002,
            0.33799999999999997,
            0.42200000000000004,
            0.446,
            0.607
           ],
           "xaxis": "x",
           "y": [
            "National Insurance (total)",
            "Child Benefit",
            "Universal Credit",
            "Income Tax",
            "Housing Benefit",
            "Child Tax Credit",
            "Pension Credit",
            "Working Tax Credit",
            "ESA (income-based)"
           ],
           "yaxis": "y"
          },
          {
           "alignmentgroup": "True",
           "customdata": [
            [
             159.5,
             145.1,
             157.5,
             2023,
             "National Insurance (total)"
            ],
            [
             10.8,
             12.3,
             11.5,
             2023,
             "Child Benefit"
            ],
            [
             43.9,
             39.1,
             49.8,
             2023,
             "Universal Credit"
            ],
            [
             186.2,
             170.6,
             215,
             2023,
             "Income Tax"
            ],
            [
             11.3,
             9.6,
             14.7,
             2023,
             "Housing Benefit"
            ],
            [
             6,
             4.5,
             4.5,
             2023,
             "Child Tax Credit"
            ],
            [
             2.6,
             4.4,
             4.4,
             2023,
             "Pension Credit"
            ],
            [
             1.8,
             1.3,
             1.2,
             2023,
             "Working Tax Credit"
            ],
            [
             3.1,
             3.7,
             7.8,
             2023,
             "ESA (income-based)"
            ]
           ],
           "hovertemplate": "<b>%{customdata[4]} in %{customdata[3]}</b><br>Error: %{x}<br>Official: £%{customdata[2]}bn<br>OpenFisca-UK: £%{customdata[0]}bn<br>UKMOD: £%{customdata[1]}bn",
           "legendgroup": "UKMOD",
           "marker": {
            "color": "lightgrey",
            "pattern": {
             "shape": ""
            }
           },
           "name": "UKMOD",
           "offsetgroup": "UKMOD",
           "orientation": "h",
           "showlegend": true,
           "textposition": "auto",
           "type": "bar",
           "x": [
            0.079,
            0.068,
            0.213,
            0.20600000000000002,
            0.34700000000000003,
            0.011000000000000001,
            0.008,
            0.065,
            0.532
           ],
           "xaxis": "x",
           "y": [
            "National Insurance (total)",
            "Child Benefit",
            "Universal Credit",
            "Income Tax",
            "Housing Benefit",
            "Child Tax Credit",
            "Pension Credit",
            "Working Tax Credit",
            "ESA (income-based)"
           ],
           "yaxis": "y"
          }
         ],
         "name": "2023"
        },
        {
         "data": [
          {
           "alignmentgroup": "True",
           "customdata": [
            [
             163.7,
             147.9,
             164.6,
             2024,
             "National Insurance (total)"
            ],
            [
             11.1,
             12.5,
             11.6,
             2024,
             "Child Benefit"
            ],
            [
             195.5,
             178.5,
             225.7,
             2024,
             "Income Tax"
            ],
            [
             49.7,
             39.1,
             57.8,
             2024,
             "Universal Credit"
            ],
            [
             10.1,
             8.5,
             12.5,
             2024,
             "Housing Benefit"
            ],
            [
             2.5,
             4.5,
             4.4,
             2024,
             "Pension Credit"
            ],
            [
             4.4,
             3.3,
             3,
             2024,
             "Child Tax Credit"
            ],
            [
             2.4,
             2.7,
             6.4,
             2024,
             "ESA (income-based)"
            ],
            [
             1.4,
             0.9,
             0.8,
             2024,
             "Working Tax Credit"
            ]
           ],
           "hovertemplate": "<b>%{customdata[4]} in %{customdata[3]}</b><br>Error: %{x}<br>Official: £%{customdata[2]}bn<br>OpenFisca-UK: £%{customdata[0]}bn<br>UKMOD: £%{customdata[1]}bn",
           "legendgroup": "OpenFisca-UK",
           "marker": {
            "color": "blue",
            "pattern": {
             "shape": ""
            }
           },
           "name": "OpenFisca-UK",
           "offsetgroup": "OpenFisca-UK",
           "orientation": "h",
           "showlegend": true,
           "textposition": "auto",
           "type": "bar",
           "x": [
            0.005,
            0.042,
            0.134,
            0.14,
            0.19399999999999998,
            0.42700000000000005,
            0.489,
            0.616,
            0.7
           ],
           "xaxis": "x",
           "y": [
            "National Insurance (total)",
            "Child Benefit",
            "Income Tax",
            "Universal Credit",
            "Housing Benefit",
            "Pension Credit",
            "Child Tax Credit",
            "ESA (income-based)",
            "Working Tax Credit"
           ],
           "yaxis": "y"
          },
          {
           "alignmentgroup": "True",
           "customdata": [
            [
             163.7,
             147.9,
             164.6,
             2024,
             "National Insurance (total)"
            ],
            [
             11.1,
             12.5,
             11.6,
             2024,
             "Child Benefit"
            ],
            [
             195.5,
             178.5,
             225.7,
             2024,
             "Income Tax"
            ],
            [
             49.7,
             39.1,
             57.8,
             2024,
             "Universal Credit"
            ],
            [
             10.1,
             8.5,
             12.5,
             2024,
             "Housing Benefit"
            ],
            [
             2.5,
             4.5,
             4.4,
             2024,
             "Pension Credit"
            ],
            [
             4.4,
             3.3,
             3,
             2024,
             "Child Tax Credit"
            ],
            [
             2.4,
             2.7,
             6.4,
             2024,
             "ESA (income-based)"
            ],
            [
             1.4,
             0.9,
             0.8,
             2024,
             "Working Tax Credit"
            ]
           ],
           "hovertemplate": "<b>%{customdata[4]} in %{customdata[3]}</b><br>Error: %{x}<br>Official: £%{customdata[2]}bn<br>OpenFisca-UK: £%{customdata[0]}bn<br>UKMOD: £%{customdata[1]}bn",
           "legendgroup": "UKMOD",
           "marker": {
            "color": "lightgrey",
            "pattern": {
             "shape": ""
            }
           },
           "name": "UKMOD",
           "offsetgroup": "UKMOD",
           "orientation": "h",
           "showlegend": true,
           "textposition": "auto",
           "type": "bar",
           "x": [
            0.102,
            0.079,
            0.209,
            0.32299999999999995,
            0.322,
            0.026000000000000002,
            0.114,
            0.579,
            0.102
           ],
           "xaxis": "x",
           "y": [
            "National Insurance (total)",
            "Child Benefit",
            "Income Tax",
            "Universal Credit",
            "Housing Benefit",
            "Pension Credit",
            "Child Tax Credit",
            "ESA (income-based)",
            "Working Tax Credit"
           ],
           "yaxis": "y"
          }
         ],
         "name": "2024"
        },
        {
         "data": [
          {
           "alignmentgroup": "True",
           "customdata": [
            [
             11.6,
             12.6,
             11.6,
             2025,
             "Child Benefit"
            ],
            [
             167.6,
             151.9,
             172.1,
             2025,
             "National Insurance (total)"
            ],
            [
             205.6,
             187.9,
             237.5,
             2025,
             "Income Tax"
            ],
            [
             8.5,
             6.7,
             10.2,
             2025,
             "Housing Benefit"
            ],
            [
             56.7,
             45.6,
             68,
             2025,
             "Universal Credit"
            ],
            [
             2.4,
             4.5,
             4.2,
             2025,
             "Pension Credit"
            ],
            [
             1.3,
             1.2,
             3.5,
             2025,
             "ESA (income-based)"
            ],
            [
             2.6,
             1.5,
             1.3,
             2025,
             "Child Tax Credit"
            ],
            [
             0.9,
             0.4,
             0.4,
             2025,
             "Working Tax Credit"
            ]
           ],
           "hovertemplate": "<b>%{customdata[4]} in %{customdata[3]}</b><br>Error: %{x}<br>Official: £%{customdata[2]}bn<br>OpenFisca-UK: £%{customdata[0]}bn<br>UKMOD: £%{customdata[1]}bn",
           "legendgroup": "OpenFisca-UK",
           "marker": {
            "color": "blue",
            "pattern": {
             "shape": ""
            }
           },
           "name": "OpenFisca-UK",
           "offsetgroup": "OpenFisca-UK",
           "orientation": "h",
           "showlegend": true,
           "textposition": "auto",
           "type": "bar",
           "x": [
            0.006,
            0.026000000000000002,
            0.134,
            0.163,
            0.166,
            0.429,
            0.642,
            0.915,
            1.3159999999999998
           ],
           "xaxis": "x",
           "y": [
            "Child Benefit",
            "National Insurance (total)",
            "Income Tax",
            "Housing Benefit",
            "Universal Credit",
            "Pension Credit",
            "ESA (income-based)",
            "Child Tax Credit",
            "Working Tax Credit"
           ],
           "yaxis": "y"
          },
          {
           "alignmentgroup": "True",
           "customdata": [
            [
             11.6,
             12.6,
             11.6,
             2025,
             "Child Benefit"
            ],
            [
             167.6,
             151.9,
             172.1,
             2025,
             "National Insurance (total)"
            ],
            [
             205.6,
             187.9,
             237.5,
             2025,
             "Income Tax"
            ],
            [
             8.5,
             6.7,
             10.2,
             2025,
             "Housing Benefit"
            ],
            [
             56.7,
             45.6,
             68,
             2025,
             "Universal Credit"
            ],
            [
             2.4,
             4.5,
             4.2,
             2025,
             "Pension Credit"
            ],
            [
             1.3,
             1.2,
             3.5,
             2025,
             "ESA (income-based)"
            ],
            [
             2.6,
             1.5,
             1.3,
             2025,
             "Child Tax Credit"
            ],
            [
             0.9,
             0.4,
             0.4,
             2025,
             "Working Tax Credit"
            ]
           ],
           "hovertemplate": "<b>%{customdata[4]} in %{customdata[3]}</b><br>Error: %{x}<br>Official: £%{customdata[2]}bn<br>OpenFisca-UK: £%{customdata[0]}bn<br>UKMOD: £%{customdata[1]}bn",
           "legendgroup": "UKMOD",
           "marker": {
            "color": "lightgrey",
            "pattern": {
             "shape": ""
            }
           },
           "name": "UKMOD",
           "offsetgroup": "UKMOD",
           "orientation": "h",
           "showlegend": true,
           "textposition": "auto",
           "type": "bar",
           "x": [
            0.08199999999999999,
            0.11800000000000001,
            0.209,
            0.34299999999999997,
            0.32799999999999996,
            0.057999999999999996,
            0.6509999999999999,
            0.091,
            0.146
           ],
           "xaxis": "x",
           "y": [
            "Child Benefit",
            "National Insurance (total)",
            "Income Tax",
            "Housing Benefit",
            "Universal Credit",
            "Pension Credit",
            "ESA (income-based)",
            "Child Tax Credit",
            "Working Tax Credit"
           ],
           "yaxis": "y"
          }
         ],
         "name": "2025"
        }
       ],
       "layout": {
        "barmode": "group",
        "height": 600,
        "legend": {
         "title": {
          "text": "Model"
         },
         "tracegroupgap": 0,
         "traceorder": "reversed"
        },
        "margin": {
         "t": 60
        },
        "sliders": [
         {
          "active": 6,
          "currentvalue": {
           "prefix": "Year="
          },
          "len": 0.9,
          "pad": {
           "b": 10,
           "t": 60
          },
          "steps": [
           {
            "args": [
             [
              "2019"
             ],
             {
              "frame": {
               "duration": 0,
               "redraw": true
              },
              "fromcurrent": true,
              "mode": "immediate",
              "transition": {
               "duration": 0,
               "easing": "linear"
              }
             }
            ],
            "label": "2019",
            "method": "animate"
           },
           {
            "args": [
             [
              "2020"
             ],
             {
              "frame": {
               "duration": 0,
               "redraw": true
              },
              "fromcurrent": true,
              "mode": "immediate",
              "transition": {
               "duration": 0,
               "easing": "linear"
              }
             }
            ],
            "label": "2020",
            "method": "animate"
           },
           {
            "args": [
             [
              "2021"
             ],
             {
              "frame": {
               "duration": 0,
               "redraw": true
              },
              "fromcurrent": true,
              "mode": "immediate",
              "transition": {
               "duration": 0,
               "easing": "linear"
              }
             }
            ],
            "label": "2021",
            "method": "animate"
           },
           {
            "args": [
             [
              "2022"
             ],
             {
              "frame": {
               "duration": 0,
               "redraw": true
              },
              "fromcurrent": true,
              "mode": "immediate",
              "transition": {
               "duration": 0,
               "easing": "linear"
              }
             }
            ],
            "label": "2022",
            "method": "animate"
           },
           {
            "args": [
             [
              "2023"
             ],
             {
              "frame": {
               "duration": 0,
               "redraw": true
              },
              "fromcurrent": true,
              "mode": "immediate",
              "transition": {
               "duration": 0,
               "easing": "linear"
              }
             }
            ],
            "label": "2023",
            "method": "animate"
           },
           {
            "args": [
             [
              "2024"
             ],
             {
              "frame": {
               "duration": 0,
               "redraw": true
              },
              "fromcurrent": true,
              "mode": "immediate",
              "transition": {
               "duration": 0,
               "easing": "linear"
              }
             }
            ],
            "label": "2024",
            "method": "animate"
           },
           {
            "args": [
             [
              "2025"
             ],
             {
              "frame": {
               "duration": 0,
               "redraw": true
              },
              "fromcurrent": true,
              "mode": "immediate",
              "transition": {
               "duration": 0,
               "easing": "linear"
              }
             }
            ],
            "label": "2025",
            "method": "animate"
           }
          ],
          "x": 0.1,
          "xanchor": "left",
          "y": 0,
          "yanchor": "top"
         }
        ],
        "template": {
         "data": {
          "bar": [
           {
            "error_x": {
             "color": "#2a3f5f"
            },
            "error_y": {
             "color": "#2a3f5f"
            },
            "marker": {
             "line": {
              "color": "white",
              "width": 0.5
             },
             "pattern": {
              "fillmode": "overlay",
              "size": 10,
              "solidity": 0.2
             }
            },
            "type": "bar"
           }
          ],
          "barpolar": [
           {
            "marker": {
             "line": {
              "color": "white",
              "width": 0.5
             },
             "pattern": {
              "fillmode": "overlay",
              "size": 10,
              "solidity": 0.2
             }
            },
            "type": "barpolar"
           }
          ],
          "carpet": [
           {
            "aaxis": {
             "endlinecolor": "#2a3f5f",
             "gridcolor": "#C8D4E3",
             "linecolor": "#C8D4E3",
             "minorgridcolor": "#C8D4E3",
             "startlinecolor": "#2a3f5f"
            },
            "baxis": {
             "endlinecolor": "#2a3f5f",
             "gridcolor": "#C8D4E3",
             "linecolor": "#C8D4E3",
             "minorgridcolor": "#C8D4E3",
             "startlinecolor": "#2a3f5f"
            },
            "type": "carpet"
           }
          ],
          "choropleth": [
           {
            "colorbar": {
             "outlinewidth": 0,
             "ticks": ""
            },
            "type": "choropleth"
           }
          ],
          "contour": [
           {
            "colorbar": {
             "outlinewidth": 0,
             "ticks": ""
            },
            "colorscale": [
             [
              0,
              "#0d0887"
             ],
             [
              0.1111111111111111,
              "#46039f"
             ],
             [
              0.2222222222222222,
              "#7201a8"
             ],
             [
              0.3333333333333333,
              "#9c179e"
             ],
             [
              0.4444444444444444,
              "#bd3786"
             ],
             [
              0.5555555555555556,
              "#d8576b"
             ],
             [
              0.6666666666666666,
              "#ed7953"
             ],
             [
              0.7777777777777778,
              "#fb9f3a"
             ],
             [
              0.8888888888888888,
              "#fdca26"
             ],
             [
              1,
              "#f0f921"
             ]
            ],
            "type": "contour"
           }
          ],
          "contourcarpet": [
           {
            "colorbar": {
             "outlinewidth": 0,
             "ticks": ""
            },
            "type": "contourcarpet"
           }
          ],
          "heatmap": [
           {
            "colorbar": {
             "outlinewidth": 0,
             "ticks": ""
            },
            "colorscale": [
             [
              0,
              "#0d0887"
             ],
             [
              0.1111111111111111,
              "#46039f"
             ],
             [
              0.2222222222222222,
              "#7201a8"
             ],
             [
              0.3333333333333333,
              "#9c179e"
             ],
             [
              0.4444444444444444,
              "#bd3786"
             ],
             [
              0.5555555555555556,
              "#d8576b"
             ],
             [
              0.6666666666666666,
              "#ed7953"
             ],
             [
              0.7777777777777778,
              "#fb9f3a"
             ],
             [
              0.8888888888888888,
              "#fdca26"
             ],
             [
              1,
              "#f0f921"
             ]
            ],
            "type": "heatmap"
           }
          ],
          "heatmapgl": [
           {
            "colorbar": {
             "outlinewidth": 0,
             "ticks": ""
            },
            "colorscale": [
             [
              0,
              "#0d0887"
             ],
             [
              0.1111111111111111,
              "#46039f"
             ],
             [
              0.2222222222222222,
              "#7201a8"
             ],
             [
              0.3333333333333333,
              "#9c179e"
             ],
             [
              0.4444444444444444,
              "#bd3786"
             ],
             [
              0.5555555555555556,
              "#d8576b"
             ],
             [
              0.6666666666666666,
              "#ed7953"
             ],
             [
              0.7777777777777778,
              "#fb9f3a"
             ],
             [
              0.8888888888888888,
              "#fdca26"
             ],
             [
              1,
              "#f0f921"
             ]
            ],
            "type": "heatmapgl"
           }
          ],
          "histogram": [
           {
            "marker": {
             "pattern": {
              "fillmode": "overlay",
              "size": 10,
              "solidity": 0.2
             }
            },
            "type": "histogram"
           }
          ],
          "histogram2d": [
           {
            "colorbar": {
             "outlinewidth": 0,
             "ticks": ""
            },
            "colorscale": [
             [
              0,
              "#0d0887"
             ],
             [
              0.1111111111111111,
              "#46039f"
             ],
             [
              0.2222222222222222,
              "#7201a8"
             ],
             [
              0.3333333333333333,
              "#9c179e"
             ],
             [
              0.4444444444444444,
              "#bd3786"
             ],
             [
              0.5555555555555556,
              "#d8576b"
             ],
             [
              0.6666666666666666,
              "#ed7953"
             ],
             [
              0.7777777777777778,
              "#fb9f3a"
             ],
             [
              0.8888888888888888,
              "#fdca26"
             ],
             [
              1,
              "#f0f921"
             ]
            ],
            "type": "histogram2d"
           }
          ],
          "histogram2dcontour": [
           {
            "colorbar": {
             "outlinewidth": 0,
             "ticks": ""
            },
            "colorscale": [
             [
              0,
              "#0d0887"
             ],
             [
              0.1111111111111111,
              "#46039f"
             ],
             [
              0.2222222222222222,
              "#7201a8"
             ],
             [
              0.3333333333333333,
              "#9c179e"
             ],
             [
              0.4444444444444444,
              "#bd3786"
             ],
             [
              0.5555555555555556,
              "#d8576b"
             ],
             [
              0.6666666666666666,
              "#ed7953"
             ],
             [
              0.7777777777777778,
              "#fb9f3a"
             ],
             [
              0.8888888888888888,
              "#fdca26"
             ],
             [
              1,
              "#f0f921"
             ]
            ],
            "type": "histogram2dcontour"
           }
          ],
          "mesh3d": [
           {
            "colorbar": {
             "outlinewidth": 0,
             "ticks": ""
            },
            "type": "mesh3d"
           }
          ],
          "parcoords": [
           {
            "line": {
             "colorbar": {
              "outlinewidth": 0,
              "ticks": ""
             }
            },
            "type": "parcoords"
           }
          ],
          "pie": [
           {
            "automargin": true,
            "type": "pie"
           }
          ],
          "scatter": [
           {
            "marker": {
             "colorbar": {
              "outlinewidth": 0,
              "ticks": ""
             }
            },
            "type": "scatter"
           }
          ],
          "scatter3d": [
           {
            "line": {
             "colorbar": {
              "outlinewidth": 0,
              "ticks": ""
             }
            },
            "marker": {
             "colorbar": {
              "outlinewidth": 0,
              "ticks": ""
             }
            },
            "type": "scatter3d"
           }
          ],
          "scattercarpet": [
           {
            "marker": {
             "colorbar": {
              "outlinewidth": 0,
              "ticks": ""
             }
            },
            "type": "scattercarpet"
           }
          ],
          "scattergeo": [
           {
            "marker": {
             "colorbar": {
              "outlinewidth": 0,
              "ticks": ""
             }
            },
            "type": "scattergeo"
           }
          ],
          "scattergl": [
           {
            "marker": {
             "colorbar": {
              "outlinewidth": 0,
              "ticks": ""
             }
            },
            "type": "scattergl"
           }
          ],
          "scattermapbox": [
           {
            "marker": {
             "colorbar": {
              "outlinewidth": 0,
              "ticks": ""
             }
            },
            "type": "scattermapbox"
           }
          ],
          "scatterpolar": [
           {
            "marker": {
             "colorbar": {
              "outlinewidth": 0,
              "ticks": ""
             }
            },
            "type": "scatterpolar"
           }
          ],
          "scatterpolargl": [
           {
            "marker": {
             "colorbar": {
              "outlinewidth": 0,
              "ticks": ""
             }
            },
            "type": "scatterpolargl"
           }
          ],
          "scatterternary": [
           {
            "marker": {
             "colorbar": {
              "outlinewidth": 0,
              "ticks": ""
             }
            },
            "type": "scatterternary"
           }
          ],
          "surface": [
           {
            "colorbar": {
             "outlinewidth": 0,
             "ticks": ""
            },
            "colorscale": [
             [
              0,
              "#0d0887"
             ],
             [
              0.1111111111111111,
              "#46039f"
             ],
             [
              0.2222222222222222,
              "#7201a8"
             ],
             [
              0.3333333333333333,
              "#9c179e"
             ],
             [
              0.4444444444444444,
              "#bd3786"
             ],
             [
              0.5555555555555556,
              "#d8576b"
             ],
             [
              0.6666666666666666,
              "#ed7953"
             ],
             [
              0.7777777777777778,
              "#fb9f3a"
             ],
             [
              0.8888888888888888,
              "#fdca26"
             ],
             [
              1,
              "#f0f921"
             ]
            ],
            "type": "surface"
           }
          ],
          "table": [
           {
            "cells": {
             "fill": {
              "color": "#EBF0F8"
             },
             "line": {
              "color": "white"
             }
            },
            "header": {
             "fill": {
              "color": "#C8D4E3"
             },
             "line": {
              "color": "white"
             }
            },
            "type": "table"
           }
          ]
         },
         "layout": {
          "annotationdefaults": {
           "arrowcolor": "#2a3f5f",
           "arrowhead": 0,
           "arrowwidth": 1
          },
          "autotypenumbers": "strict",
          "coloraxis": {
           "colorbar": {
            "outlinewidth": 0,
            "ticks": ""
           }
          },
          "colorscale": {
           "diverging": [
            [
             0,
             "#8e0152"
            ],
            [
             0.1,
             "#c51b7d"
            ],
            [
             0.2,
             "#de77ae"
            ],
            [
             0.3,
             "#f1b6da"
            ],
            [
             0.4,
             "#fde0ef"
            ],
            [
             0.5,
             "#f7f7f7"
            ],
            [
             0.6,
             "#e6f5d0"
            ],
            [
             0.7,
             "#b8e186"
            ],
            [
             0.8,
             "#7fbc41"
            ],
            [
             0.9,
             "#4d9221"
            ],
            [
             1,
             "#276419"
            ]
           ],
           "sequential": [
            [
             0,
             "#0d0887"
            ],
            [
             0.1111111111111111,
             "#46039f"
            ],
            [
             0.2222222222222222,
             "#7201a8"
            ],
            [
             0.3333333333333333,
             "#9c179e"
            ],
            [
             0.4444444444444444,
             "#bd3786"
            ],
            [
             0.5555555555555556,
             "#d8576b"
            ],
            [
             0.6666666666666666,
             "#ed7953"
            ],
            [
             0.7777777777777778,
             "#fb9f3a"
            ],
            [
             0.8888888888888888,
             "#fdca26"
            ],
            [
             1,
             "#f0f921"
            ]
           ],
           "sequentialminus": [
            [
             0,
             "#0d0887"
            ],
            [
             0.1111111111111111,
             "#46039f"
            ],
            [
             0.2222222222222222,
             "#7201a8"
            ],
            [
             0.3333333333333333,
             "#9c179e"
            ],
            [
             0.4444444444444444,
             "#bd3786"
            ],
            [
             0.5555555555555556,
             "#d8576b"
            ],
            [
             0.6666666666666666,
             "#ed7953"
            ],
            [
             0.7777777777777778,
             "#fb9f3a"
            ],
            [
             0.8888888888888888,
             "#fdca26"
            ],
            [
             1,
             "#f0f921"
            ]
           ]
          },
          "colorway": [
           "#636efa",
           "#EF553B",
           "#00cc96",
           "#ab63fa",
           "#FFA15A",
           "#19d3f3",
           "#FF6692",
           "#B6E880",
           "#FF97FF",
           "#FECB52"
          ],
          "font": {
           "color": "#2a3f5f"
          },
          "geo": {
           "bgcolor": "white",
           "lakecolor": "white",
           "landcolor": "white",
           "showlakes": true,
           "showland": true,
           "subunitcolor": "#C8D4E3"
          },
          "hoverlabel": {
           "align": "left"
          },
          "hovermode": "closest",
          "mapbox": {
           "style": "light"
          },
          "paper_bgcolor": "white",
          "plot_bgcolor": "white",
          "polar": {
           "angularaxis": {
            "gridcolor": "#EBF0F8",
            "linecolor": "#EBF0F8",
            "ticks": ""
           },
           "bgcolor": "white",
           "radialaxis": {
            "gridcolor": "#EBF0F8",
            "linecolor": "#EBF0F8",
            "ticks": ""
           }
          },
          "scene": {
           "xaxis": {
            "backgroundcolor": "white",
            "gridcolor": "#DFE8F3",
            "gridwidth": 2,
            "linecolor": "#EBF0F8",
            "showbackground": true,
            "ticks": "",
            "zerolinecolor": "#EBF0F8"
           },
           "yaxis": {
            "backgroundcolor": "white",
            "gridcolor": "#DFE8F3",
            "gridwidth": 2,
            "linecolor": "#EBF0F8",
            "showbackground": true,
            "ticks": "",
            "zerolinecolor": "#EBF0F8"
           },
           "zaxis": {
            "backgroundcolor": "white",
            "gridcolor": "#DFE8F3",
            "gridwidth": 2,
            "linecolor": "#EBF0F8",
            "showbackground": true,
            "ticks": "",
            "zerolinecolor": "#EBF0F8"
           }
          },
          "shapedefaults": {
           "line": {
            "color": "#2a3f5f"
           }
          },
          "ternary": {
           "aaxis": {
            "gridcolor": "#DFE8F3",
            "linecolor": "#A2B1C6",
            "ticks": ""
           },
           "baxis": {
            "gridcolor": "#DFE8F3",
            "linecolor": "#A2B1C6",
            "ticks": ""
           },
           "bgcolor": "white",
           "caxis": {
            "gridcolor": "#DFE8F3",
            "linecolor": "#A2B1C6",
            "ticks": ""
           }
          },
          "title": {
           "x": 0.05
          },
          "xaxis": {
           "automargin": true,
           "gridcolor": "#EBF0F8",
           "linecolor": "#EBF0F8",
           "ticks": "",
           "title": {
            "standoff": 15
           },
           "zerolinecolor": "#EBF0F8",
           "zerolinewidth": 2
          },
          "yaxis": {
           "automargin": true,
           "gridcolor": "#EBF0F8",
           "linecolor": "#EBF0F8",
           "ticks": "",
           "title": {
            "standoff": 15
           },
           "zerolinecolor": "#EBF0F8",
           "zerolinewidth": 2
          }
         }
        },
        "title": {
         "text": "Relative errors on budgetary impacts"
        },
        "updatemenus": [
         {
          "buttons": [
           {
            "args": [
             null,
             {
              "frame": {
               "duration": 500,
               "redraw": true
              },
              "fromcurrent": true,
              "mode": "immediate",
              "transition": {
               "duration": 500,
               "easing": "linear"
              }
             }
            ],
            "label": "&#9654;",
            "method": "animate"
           },
           {
            "args": [
             [
              null
             ],
             {
              "frame": {
               "duration": 0,
               "redraw": true
              },
              "fromcurrent": true,
              "mode": "immediate",
              "transition": {
               "duration": 0,
               "easing": "linear"
              }
             }
            ],
            "label": "&#9724;",
            "method": "animate"
           }
          ],
          "direction": "left",
          "pad": {
           "r": 10,
           "t": 70
          },
          "showactive": false,
          "type": "buttons",
          "x": 0.1,
          "xanchor": "right",
          "y": 0,
          "yanchor": "top"
         }
        ],
        "width": 800,
        "xaxis": {
         "anchor": "y",
         "domain": [
          0,
          1
         ],
         "range": [
          0,
          1
         ],
         "tickformat": ".0%",
         "title": {
          "text": "Relative error"
         },
         "type": "linear"
        },
        "yaxis": {
         "anchor": "x",
         "autorange": true,
         "domain": [
          0,
          1
         ],
         "range": [
          -0.5,
          8.5
         ],
         "title": {
          "text": ""
         },
         "type": "category"
        }
       }
      },
      "image/png": "[encoded data removed]",
      "text/html": [
       "<div>                            <div id=\"ca47d68b-a7ad-4be6-af8b-b65254601156\" class=\"plotly-graph-div\" style=\"height:600px; width:800px;\"></div>            <script type=\"text/javascript\">                require([\"plotly\"], function(Plotly) {                    window.PLOTLYENV=window.PLOTLYENV || {};                                    if (document.getElementById(\"ca47d68b-a7ad-4be6-af8b-b65254601156\")) {                    Plotly.newPlot(                        \"ca47d68b-a7ad-4be6-af8b-b65254601156\",                        [{\"alignmentgroup\":\"True\",\"customdata\":[[146.1,149.4,145.0,2019,\"National Insurance (total)\"],[3.9,2.1,3.8,2019,\"Working Tax Credit\"],[10.8,11.3,11.1,2019,\"Child Benefit\"],[14.9,8.5,13.9,2019,\"Child Tax Credit\"],[19.8,17.4,18.4,2019,\"Universal Credit\"],[171.9,163.3,193.6,2019,\"Income Tax\"],[13.4,12.6,18.4,2019,\"Housing Benefit\"],[6.4,6.1,9.3,2019,\"ESA (income-based)\"],[2.9,4.4,5.1,2019,\"Pension Credit\"]],\"hovertemplate\":\"<b>%{customdata[4]} in %{customdata[3]}</b><br>Error: %{x}<br>Official: \\u00a3%{customdata[2]}bn<br>OpenFisca-UK: \\u00a3%{customdata[0]}bn<br>UKMOD: \\u00a3%{customdata[1]}bn\",\"legendgroup\":\"OpenFisca-UK\",\"marker\":{\"color\":\"blue\",\"pattern\":{\"shape\":\"\"}},\"name\":\"OpenFisca-UK\",\"offsetgroup\":\"OpenFisca-UK\",\"orientation\":\"h\",\"showlegend\":true,\"textposition\":\"auto\",\"type\":\"bar\",\"x\":[0.008,0.02,0.028999999999999998,0.073,0.075,0.11199999999999999,0.27,0.319,0.43200000000000005],\"xaxis\":\"x\",\"y\":[\"National Insurance (total)\",\"Working Tax Credit\",\"Child Benefit\",\"Child Tax Credit\",\"Universal Credit\",\"Income Tax\",\"Housing Benefit\",\"ESA (income-based)\",\"Pension Credit\"],\"yaxis\":\"y\"},{\"alignmentgroup\":\"True\",\"customdata\":[[146.1,149.4,145.0,2019,\"National Insurance (total)\"],[3.9,2.1,3.8,2019,\"Working Tax Credit\"],[10.8,11.3,11.1,2019,\"Child Benefit\"],[14.9,8.5,13.9,2019,\"Child Tax Credit\"],[19.8,17.4,18.4,2019,\"Universal Credit\"],[171.9,163.3,193.6,2019,\"Income Tax\"],[13.4,12.6,18.4,2019,\"Housing Benefit\"],[6.4,6.1,9.3,2019,\"ESA (income-based)\"],[2.9,4.4,5.1,2019,\"Pension Credit\"]],\"hovertemplate\":\"<b>%{customdata[4]} in %{customdata[3]}</b><br>Error: %{x}<br>Official: \\u00a3%{customdata[2]}bn<br>OpenFisca-UK: \\u00a3%{customdata[0]}bn<br>UKMOD: \\u00a3%{customdata[1]}bn\",\"legendgroup\":\"UKMOD\",\"marker\":{\"color\":\"lightgrey\",\"pattern\":{\"shape\":\"\"}},\"name\":\"UKMOD\",\"offsetgroup\":\"UKMOD\",\"orientation\":\"h\",\"showlegend\":true,\"textposition\":\"auto\",\"type\":\"bar\",\"x\":[0.03,0.441,0.023,0.391,0.053,0.157,0.317,0.342,0.122],\"xaxis\":\"x\",\"y\":[\"National Insurance (total)\",\"Working Tax Credit\",\"Child Benefit\",\"Child Tax Credit\",\"Universal Credit\",\"Income Tax\",\"Housing Benefit\",\"ESA (income-based)\",\"Pension Credit\"],\"yaxis\":\"y\"}],                        {\"barmode\":\"group\",\"height\":600,\"legend\":{\"title\":{\"text\":\"Model\"},\"tracegroupgap\":0,\"traceorder\":\"reversed\"},\"margin\":{\"t\":60},\"sliders\":[{\"active\":0,\"currentvalue\":{\"prefix\":\"Year=\"},\"len\":0.9,\"pad\":{\"b\":10,\"t\":60},\"steps\":[{\"args\":[[\"2019\"],{\"frame\":{\"duration\":0,\"redraw\":true},\"fromcurrent\":true,\"mode\":\"immediate\",\"transition\":{\"duration\":0,\"easing\":\"linear\"}}],\"label\":\"2019\",\"method\":\"animate\"},{\"args\":[[\"2020\"],{\"frame\":{\"duration\":0,\"redraw\":true},\"fromcurrent\":true,\"mode\":\"immediate\",\"transition\":{\"duration\":0,\"easing\":\"linear\"}}],\"label\":\"2020\",\"method\":\"animate\"},{\"args\":[[\"2021\"],{\"frame\":{\"duration\":0,\"redraw\":true},\"fromcurrent\":true,\"mode\":\"immediate\",\"transition\":{\"duration\":0,\"easing\":\"linear\"}}],\"label\":\"2021\",\"method\":\"animate\"},{\"args\":[[\"2022\"],{\"frame\":{\"duration\":0,\"redraw\":true},\"fromcurrent\":true,\"mode\":\"immediate\",\"transition\":{\"duration\":0,\"easing\":\"linear\"}}],\"label\":\"2022\",\"method\":\"animate\"},{\"args\":[[\"2023\"],{\"frame\":{\"duration\":0,\"redraw\":true},\"fromcurrent\":true,\"mode\":\"immediate\",\"transition\":{\"duration\":0,\"easing\":\"linear\"}}],\"label\":\"2023\",\"method\":\"animate\"},{\"args\":[[\"2024\"],{\"frame\":{\"duration\":0,\"redraw\":true},\"fromcurrent\":true,\"mode\":\"immediate\",\"transition\":{\"duration\":0,\"easing\":\"linear\"}}],\"label\":\"2024\",\"method\":\"animate\"},{\"args\":[[\"2025\"],{\"frame\":{\"duration\":0,\"redraw\":true},\"fromcurrent\":true,\"mode\":\"immediate\",\"transition\":{\"duration\":0,\"easing\":\"linear\"}}],\"label\":\"2025\",\"method\":\"animate\"}],\"x\":0.1,\"xanchor\":\"left\",\"y\":0,\"yanchor\":\"top\"}],\"template\":{\"data\":{\"bar\":[{\"error_x\":{\"color\":\"#2a3f5f\"},\"error_y\":{\"color\":\"#2a3f5f\"},\"marker\":{\"line\":{\"color\":\"white\",\"width\":0.5},\"pattern\":{\"fillmode\":\"overlay\",\"size\":10,\"solidity\":0.2}},\"type\":\"bar\"}],\"barpolar\":[{\"marker\":{\"line\":{\"color\":\"white\",\"width\":0.5},\"pattern\":{\"fillmode\":\"overlay\",\"size\":10,\"solidity\":0.2}},\"type\":\"barpolar\"}],\"carpet\":[{\"aaxis\":{\"endlinecolor\":\"#2a3f5f\",\"gridcolor\":\"#C8D4E3\",\"linecolor\":\"#C8D4E3\",\"minorgridcolor\":\"#C8D4E3\",\"startlinecolor\":\"#2a3f5f\"},\"baxis\":{\"endlinecolor\":\"#2a3f5f\",\"gridcolor\":\"#C8D4E3\",\"linecolor\":\"#C8D4E3\",\"minorgridcolor\":\"#C8D4E3\",\"startlinecolor\":\"#2a3f5f\"},\"type\":\"carpet\"}],\"choropleth\":[{\"colorbar\":{\"outlinewidth\":0,\"ticks\":\"\"},\"type\":\"choropleth\"}],\"contour\":[{\"colorbar\":{\"outlinewidth\":0,\"ticks\":\"\"},\"colorscale\":[[0.0,\"#0d0887\"],[0.1111111111111111,\"#46039f\"],[0.2222222222222222,\"#7201a8\"],[0.3333333333333333,\"#9c179e\"],[0.4444444444444444,\"#bd3786\"],[0.5555555555555556,\"#d8576b\"],[0.6666666666666666,\"#ed7953\"],[0.7777777777777778,\"#fb9f3a\"],[0.8888888888888888,\"#fdca26\"],[1.0,\"#f0f921\"]],\"type\":\"contour\"}],\"contourcarpet\":[{\"colorbar\":{\"outlinewidth\":0,\"ticks\":\"\"},\"type\":\"contourcarpet\"}],\"heatmap\":[{\"colorbar\":{\"outlinewidth\":0,\"ticks\":\"\"},\"colorscale\":[[0.0,\"#0d0887\"],[0.1111111111111111,\"#46039f\"],[0.2222222222222222,\"#7201a8\"],[0.3333333333333333,\"#9c179e\"],[0.4444444444444444,\"#bd3786\"],[0.5555555555555556,\"#d8576b\"],[0.6666666666666666,\"#ed7953\"],[0.7777777777777778,\"#fb9f3a\"],[0.8888888888888888,\"#fdca26\"],[1.0,\"#f0f921\"]],\"type\":\"heatmap\"}],\"heatmapgl\":[{\"colorbar\":{\"outlinewidth\":0,\"ticks\":\"\"},\"colorscale\":[[0.0,\"#0d0887\"],[0.1111111111111111,\"#46039f\"],[0.2222222222222222,\"#7201a8\"],[0.3333333333333333,\"#9c179e\"],[0.4444444444444444,\"#bd3786\"],[0.5555555555555556,\"#d8576b\"],[0.6666666666666666,\"#ed7953\"],[0.7777777777777778,\"#fb9f3a\"],[0.8888888888888888,\"#fdca26\"],[1.0,\"#f0f921\"]],\"type\":\"heatmapgl\"}],\"histogram\":[{\"marker\":{\"pattern\":{\"fillmode\":\"overlay\",\"size\":10,\"solidity\":0.2}},\"type\":\"histogram\"}],\"histogram2d\":[{\"colorbar\":{\"outlinewidth\":0,\"ticks\":\"\"},\"colorscale\":[[0.0,\"#0d0887\"],[0.1111111111111111,\"#46039f\"],[0.2222222222222222,\"#7201a8\"],[0.3333333333333333,\"#9c179e\"],[0.4444444444444444,\"#bd3786\"],[0.5555555555555556,\"#d8576b\"],[0.6666666666666666,\"#ed7953\"],[0.7777777777777778,\"#fb9f3a\"],[0.8888888888888888,\"#fdca26\"],[1.0,\"#f0f921\"]],\"type\":\"histogram2d\"}],\"histogram2dcontour\":[{\"colorbar\":{\"outlinewidth\":0,\"ticks\":\"\"},\"colorscale\":[[0.0,\"#0d0887\"],[0.1111111111111111,\"#46039f\"],[0.2222222222222222,\"#7201a8\"],[0.3333333333333333,\"#9c179e\"],[0.4444444444444444,\"#bd3786\"],[0.5555555555555556,\"#d8576b\"],[0.6666666666666666,\"#ed7953\"],[0.7777777777777778,\"#fb9f3a\"],[0.8888888888888888,\"#fdca26\"],[1.0,\"#f0f921\"]],\"type\":\"histogram2dcontour\"}],\"mesh3d\":[{\"colorbar\":{\"outlinewidth\":0,\"ticks\":\"\"},\"type\":\"mesh3d\"}],\"parcoords\":[{\"line\":{\"colorbar\":{\"outlinewidth\":0,\"ticks\":\"\"}},\"type\":\"parcoords\"}],\"pie\":[{\"automargin\":true,\"type\":\"pie\"}],\"scatter\":[{\"marker\":{\"colorbar\":{\"outlinewidth\":0,\"ticks\":\"\"}},\"type\":\"scatter\"}],\"scatter3d\":[{\"line\":{\"colorbar\":{\"outlinewidth\":0,\"ticks\":\"\"}},\"marker\":{\"colorbar\":{\"outlinewidth\":0,\"ticks\":\"\"}},\"type\":\"scatter3d\"}],\"scattercarpet\":[{\"marker\":{\"colorbar\":{\"outlinewidth\":0,\"ticks\":\"\"}},\"type\":\"scattercarpet\"}],\"scattergeo\":[{\"marker\":{\"colorbar\":{\"outlinewidth\":0,\"ticks\":\"\"}},\"type\":\"scattergeo\"}],\"scattergl\":[{\"marker\":{\"colorbar\":{\"outlinewidth\":0,\"ticks\":\"\"}},\"type\":\"scattergl\"}],\"scattermapbox\":[{\"marker\":{\"colorbar\":{\"outlinewidth\":0,\"ticks\":\"\"}},\"type\":\"scattermapbox\"}],\"scatterpolar\":[{\"marker\":{\"colorbar\":{\"outlinewidth\":0,\"ticks\":\"\"}},\"type\":\"scatterpolar\"}],\"scatterpolargl\":[{\"marker\":{\"colorbar\":{\"outlinewidth\":0,\"ticks\":\"\"}},\"type\":\"scatterpolargl\"}],\"scatterternary\":[{\"marker\":{\"colorbar\":{\"outlinewidth\":0,\"ticks\":\"\"}},\"type\":\"scatterternary\"}],\"surface\":[{\"colorbar\":{\"outlinewidth\":0,\"ticks\":\"\"},\"colorscale\":[[0.0,\"#0d0887\"],[0.1111111111111111,\"#46039f\"],[0.2222222222222222,\"#7201a8\"],[0.3333333333333333,\"#9c179e\"],[0.4444444444444444,\"#bd3786\"],[0.5555555555555556,\"#d8576b\"],[0.6666666666666666,\"#ed7953\"],[0.7777777777777778,\"#fb9f3a\"],[0.8888888888888888,\"#fdca26\"],[1.0,\"#f0f921\"]],\"type\":\"surface\"}],\"table\":[{\"cells\":{\"fill\":{\"color\":\"#EBF0F8\"},\"line\":{\"color\":\"white\"}},\"header\":{\"fill\":{\"color\":\"#C8D4E3\"},\"line\":{\"color\":\"white\"}},\"type\":\"table\"}]},\"layout\":{\"annotationdefaults\":{\"arrowcolor\":\"#2a3f5f\",\"arrowhead\":0,\"arrowwidth\":1},\"autotypenumbers\":\"strict\",\"coloraxis\":{\"colorbar\":{\"outlinewidth\":0,\"ticks\":\"\"}},\"colorscale\":{\"diverging\":[[0,\"#8e0152\"],[0.1,\"#c51b7d\"],[0.2,\"#de77ae\"],[0.3,\"#f1b6da\"],[0.4,\"#fde0ef\"],[0.5,\"#f7f7f7\"],[0.6,\"#e6f5d0\"],[0.7,\"#b8e186\"],[0.8,\"#7fbc41\"],[0.9,\"#4d9221\"],[1,\"#276419\"]],\"sequential\":[[0.0,\"#0d0887\"],[0.1111111111111111,\"#46039f\"],[0.2222222222222222,\"#7201a8\"],[0.3333333333333333,\"#9c179e\"],[0.4444444444444444,\"#bd3786\"],[0.5555555555555556,\"#d8576b\"],[0.6666666666666666,\"#ed7953\"],[0.7777777777777778,\"#fb9f3a\"],[0.8888888888888888,\"#fdca26\"],[1.0,\"#f0f921\"]],\"sequentialminus\":[[0.0,\"#0d0887\"],[0.1111111111111111,\"#46039f\"],[0.2222222222222222,\"#7201a8\"],[0.3333333333333333,\"#9c179e\"],[0.4444444444444444,\"#bd3786\"],[0.5555555555555556,\"#d8576b\"],[0.6666666666666666,\"#ed7953\"],[0.7777777777777778,\"#fb9f3a\"],[0.8888888888888888,\"#fdca26\"],[1.0,\"#f0f921\"]]},\"colorway\":[\"#636efa\",\"#EF553B\",\"#00cc96\",\"#ab63fa\",\"#FFA15A\",\"#19d3f3\",\"#FF6692\",\"#B6E880\",\"#FF97FF\",\"#FECB52\"],\"font\":{\"color\":\"#2a3f5f\"},\"geo\":{\"bgcolor\":\"white\",\"lakecolor\":\"white\",\"landcolor\":\"white\",\"showlakes\":true,\"showland\":true,\"subunitcolor\":\"#C8D4E3\"},\"hoverlabel\":{\"align\":\"left\"},\"hovermode\":\"closest\",\"mapbox\":{\"style\":\"light\"},\"paper_bgcolor\":\"white\",\"plot_bgcolor\":\"white\",\"polar\":{\"angularaxis\":{\"gridcolor\":\"#EBF0F8\",\"linecolor\":\"#EBF0F8\",\"ticks\":\"\"},\"bgcolor\":\"white\",\"radialaxis\":{\"gridcolor\":\"#EBF0F8\",\"linecolor\":\"#EBF0F8\",\"ticks\":\"\"}},\"scene\":{\"xaxis\":{\"backgroundcolor\":\"white\",\"gridcolor\":\"#DFE8F3\",\"gridwidth\":2,\"linecolor\":\"#EBF0F8\",\"showbackground\":true,\"ticks\":\"\",\"zerolinecolor\":\"#EBF0F8\"},\"yaxis\":{\"backgroundcolor\":\"white\",\"gridcolor\":\"#DFE8F3\",\"gridwidth\":2,\"linecolor\":\"#EBF0F8\",\"showbackground\":true,\"ticks\":\"\",\"zerolinecolor\":\"#EBF0F8\"},\"zaxis\":{\"backgroundcolor\":\"white\",\"gridcolor\":\"#DFE8F3\",\"gridwidth\":2,\"linecolor\":\"#EBF0F8\",\"showbackground\":true,\"ticks\":\"\",\"zerolinecolor\":\"#EBF0F8\"}},\"shapedefaults\":{\"line\":{\"color\":\"#2a3f5f\"}},\"ternary\":{\"aaxis\":{\"gridcolor\":\"#DFE8F3\",\"linecolor\":\"#A2B1C6\",\"ticks\":\"\"},\"baxis\":{\"gridcolor\":\"#DFE8F3\",\"linecolor\":\"#A2B1C6\",\"ticks\":\"\"},\"bgcolor\":\"white\",\"caxis\":{\"gridcolor\":\"#DFE8F3\",\"linecolor\":\"#A2B1C6\",\"ticks\":\"\"}},\"title\":{\"x\":0.05},\"xaxis\":{\"automargin\":true,\"gridcolor\":\"#EBF0F8\",\"linecolor\":\"#EBF0F8\",\"ticks\":\"\",\"title\":{\"standoff\":15},\"zerolinecolor\":\"#EBF0F8\",\"zerolinewidth\":2},\"yaxis\":{\"automargin\":true,\"gridcolor\":\"#EBF0F8\",\"linecolor\":\"#EBF0F8\",\"ticks\":\"\",\"title\":{\"standoff\":15},\"zerolinecolor\":\"#EBF0F8\",\"zerolinewidth\":2}}},\"title\":{\"text\":\"Relative errors on budgetary impacts\"},\"updatemenus\":[{\"buttons\":[{\"args\":[null,{\"frame\":{\"duration\":500,\"redraw\":true},\"fromcurrent\":true,\"mode\":\"immediate\",\"transition\":{\"duration\":500,\"easing\":\"linear\"}}],\"label\":\"&#9654;\",\"method\":\"animate\"},{\"args\":[[null],{\"frame\":{\"duration\":0,\"redraw\":true},\"fromcurrent\":true,\"mode\":\"immediate\",\"transition\":{\"duration\":0,\"easing\":\"linear\"}}],\"label\":\"&#9724;\",\"method\":\"animate\"}],\"direction\":\"left\",\"pad\":{\"r\":10,\"t\":70},\"showactive\":false,\"type\":\"buttons\",\"x\":0.1,\"xanchor\":\"right\",\"y\":0,\"yanchor\":\"top\"}],\"width\":800,\"xaxis\":{\"anchor\":\"y\",\"domain\":[0.0,1.0],\"range\":[0,1],\"tickformat\":\".0%\",\"title\":{\"text\":\"Relative error\"}},\"yaxis\":{\"anchor\":\"x\",\"domain\":[0.0,1.0],\"title\":{\"text\":\"\"}}},                        {\"responsive\": true}                    ).then(function(){\n",
       "                            Plotly.addFrames('ca47d68b-a7ad-4be6-af8b-b65254601156', [{\"data\":[{\"alignmentgroup\":\"True\",\"customdata\":[[146.1,149.4,145.0,2019,\"National Insurance (total)\"],[3.9,2.1,3.8,2019,\"Working Tax Credit\"],[10.8,11.3,11.1,2019,\"Child Benefit\"],[14.9,8.5,13.9,2019,\"Child Tax Credit\"],[19.8,17.4,18.4,2019,\"Universal Credit\"],[171.9,163.3,193.6,2019,\"Income Tax\"],[13.4,12.6,18.4,2019,\"Housing Benefit\"],[6.4,6.1,9.3,2019,\"ESA (income-based)\"],[2.9,4.4,5.1,2019,\"Pension Credit\"]],\"hovertemplate\":\"<b>%{customdata[4]} in %{customdata[3]}</b><br>Error: %{x}<br>Official: \\u00a3%{customdata[2]}bn<br>OpenFisca-UK: \\u00a3%{customdata[0]}bn<br>UKMOD: \\u00a3%{customdata[1]}bn\",\"legendgroup\":\"OpenFisca-UK\",\"marker\":{\"color\":\"blue\",\"pattern\":{\"shape\":\"\"}},\"name\":\"OpenFisca-UK\",\"offsetgroup\":\"OpenFisca-UK\",\"orientation\":\"h\",\"showlegend\":true,\"textposition\":\"auto\",\"type\":\"bar\",\"x\":[0.008,0.02,0.028999999999999998,0.073,0.075,0.11199999999999999,0.27,0.319,0.43200000000000005],\"xaxis\":\"x\",\"y\":[\"National Insurance (total)\",\"Working Tax Credit\",\"Child Benefit\",\"Child Tax Credit\",\"Universal Credit\",\"Income Tax\",\"Housing Benefit\",\"ESA (income-based)\",\"Pension Credit\"],\"yaxis\":\"y\"},{\"alignmentgroup\":\"True\",\"customdata\":[[146.1,149.4,145.0,2019,\"National Insurance (total)\"],[3.9,2.1,3.8,2019,\"Working Tax Credit\"],[10.8,11.3,11.1,2019,\"Child Benefit\"],[14.9,8.5,13.9,2019,\"Child Tax Credit\"],[19.8,17.4,18.4,2019,\"Universal Credit\"],[171.9,163.3,193.6,2019,\"Income Tax\"],[13.4,12.6,18.4,2019,\"Housing Benefit\"],[6.4,6.1,9.3,2019,\"ESA (income-based)\"],[2.9,4.4,5.1,2019,\"Pension Credit\"]],\"hovertemplate\":\"<b>%{customdata[4]} in %{customdata[3]}</b><br>Error: %{x}<br>Official: \\u00a3%{customdata[2]}bn<br>OpenFisca-UK: \\u00a3%{customdata[0]}bn<br>UKMOD: \\u00a3%{customdata[1]}bn\",\"legendgroup\":\"UKMOD\",\"marker\":{\"color\":\"lightgrey\",\"pattern\":{\"shape\":\"\"}},\"name\":\"UKMOD\",\"offsetgroup\":\"UKMOD\",\"orientation\":\"h\",\"showlegend\":true,\"textposition\":\"auto\",\"type\":\"bar\",\"x\":[0.03,0.441,0.023,0.391,0.053,0.157,0.317,0.342,0.122],\"xaxis\":\"x\",\"y\":[\"National Insurance (total)\",\"Working Tax Credit\",\"Child Benefit\",\"Child Tax Credit\",\"Universal Credit\",\"Income Tax\",\"Housing Benefit\",\"ESA (income-based)\",\"Pension Credit\"],\"yaxis\":\"y\"}],\"name\":\"2019\"},{\"data\":[{\"alignmentgroup\":\"True\",\"customdata\":[[3.3,2.4,3.1,2020,\"Working Tax Credit\"],[147.1,140.8,140.8,2020,\"National Insurance (total)\"],[36.6,26.4,38.3,2020,\"Universal Credit\"],[10.6,11.5,11.1,2020,\"Child Benefit\"],[12.6,7.8,11.4,2020,\"Child Tax Credit\"],[163.3,159.2,188.2,2020,\"Income Tax\"],[6.5,5.5,8.8,2020,\"ESA (income-based)\"],[12.7,12.3,17.3,2020,\"Housing Benefit\"],[2.8,4.6,5.1,2020,\"Pension Credit\"]],\"hovertemplate\":\"<b>%{customdata[4]} in %{customdata[3]}</b><br>Error: %{x}<br>Official: \\u00a3%{customdata[2]}bn<br>OpenFisca-UK: \\u00a3%{customdata[0]}bn<br>UKMOD: \\u00a3%{customdata[1]}bn\",\"legendgroup\":\"OpenFisca-UK\",\"marker\":{\"color\":\"blue\",\"pattern\":{\"shape\":\"\"}},\"name\":\"OpenFisca-UK\",\"offsetgroup\":\"OpenFisca-UK\",\"orientation\":\"h\",\"showlegend\":true,\"textposition\":\"auto\",\"type\":\"bar\",\"x\":[0.038,0.045,0.045,0.046,0.09699999999999999,0.133,0.261,0.267,0.44299999999999995],\"xaxis\":\"x\",\"y\":[\"Working Tax Credit\",\"National Insurance (total)\",\"Universal Credit\",\"Child Benefit\",\"Child Tax Credit\",\"Income Tax\",\"ESA (income-based)\",\"Housing Benefit\",\"Pension Credit\"],\"yaxis\":\"y\"},{\"alignmentgroup\":\"True\",\"customdata\":[[3.3,2.4,3.1,2020,\"Working Tax Credit\"],[147.1,140.8,140.8,2020,\"National Insurance (total)\"],[36.6,26.4,38.3,2020,\"Universal Credit\"],[10.6,11.5,11.1,2020,\"Child Benefit\"],[12.6,7.8,11.4,2020,\"Child Tax Credit\"],[163.3,159.2,188.2,2020,\"Income Tax\"],[6.5,5.5,8.8,2020,\"ESA (income-based)\"],[12.7,12.3,17.3,2020,\"Housing Benefit\"],[2.8,4.6,5.1,2020,\"Pension Credit\"]],\"hovertemplate\":\"<b>%{customdata[4]} in %{customdata[3]}</b><br>Error: %{x}<br>Official: \\u00a3%{customdata[2]}bn<br>OpenFisca-UK: \\u00a3%{customdata[0]}bn<br>UKMOD: \\u00a3%{customdata[1]}bn\",\"legendgroup\":\"UKMOD\",\"marker\":{\"color\":\"lightgrey\",\"pattern\":{\"shape\":\"\"}},\"name\":\"UKMOD\",\"offsetgroup\":\"UKMOD\",\"orientation\":\"h\",\"showlegend\":true,\"textposition\":\"auto\",\"type\":\"bar\",\"x\":[0.23199999999999998,0.0,0.31,0.038,0.319,0.154,0.374,0.289,0.102],\"xaxis\":\"x\",\"y\":[\"Working Tax Credit\",\"National Insurance (total)\",\"Universal Credit\",\"Child Benefit\",\"Child Tax Credit\",\"Income Tax\",\"ESA (income-based)\",\"Housing Benefit\",\"Pension Credit\"],\"yaxis\":\"y\"}],\"name\":\"2020\"},{\"data\":[{\"alignmentgroup\":\"True\",\"customdata\":[[10.6,11.7,11.0,2021,\"Child Benefit\"],[151.1,137.7,145.9,2021,\"National Insurance (total)\"],[39.1,29.8,41.1,2021,\"Universal Credit\"],[178.4,152.4,203.6,2021,\"Income Tax\"],[9.7,6.5,8.1,2021,\"Child Tax Credit\"],[12.7,11.0,17.1,2021,\"Housing Benefit\"],[3.1,2.1,2.2,2021,\"Working Tax Credit\"],[3.0,4.1,5.0,2021,\"Pension Credit\"],[3.4,4.8,8.3,2021,\"ESA (income-based)\"]],\"hovertemplate\":\"<b>%{customdata[4]} in %{customdata[3]}</b><br>Error: %{x}<br>Official: \\u00a3%{customdata[2]}bn<br>OpenFisca-UK: \\u00a3%{customdata[0]}bn<br>UKMOD: \\u00a3%{customdata[1]}bn\",\"legendgroup\":\"OpenFisca-UK\",\"marker\":{\"color\":\"blue\",\"pattern\":{\"shape\":\"\"}},\"name\":\"OpenFisca-UK\",\"offsetgroup\":\"OpenFisca-UK\",\"orientation\":\"h\",\"showlegend\":true,\"textposition\":\"auto\",\"type\":\"bar\",\"x\":[0.032,0.036000000000000004,0.049,0.124,0.193,0.259,0.384,0.40399999999999997,0.59],\"xaxis\":\"x\",\"y\":[\"Child Benefit\",\"National Insurance (total)\",\"Universal Credit\",\"Income Tax\",\"Child Tax Credit\",\"Housing Benefit\",\"Working Tax Credit\",\"Pension Credit\",\"ESA (income-based)\"],\"yaxis\":\"y\"},{\"alignmentgroup\":\"True\",\"customdata\":[[10.6,11.7,11.0,2021,\"Child Benefit\"],[151.1,137.7,145.9,2021,\"National Insurance (total)\"],[39.1,29.8,41.1,2021,\"Universal Credit\"],[178.4,152.4,203.6,2021,\"Income Tax\"],[9.7,6.5,8.1,2021,\"Child Tax Credit\"],[12.7,11.0,17.1,2021,\"Housing Benefit\"],[3.1,2.1,2.2,2021,\"Working Tax Credit\"],[3.0,4.1,5.0,2021,\"Pension Credit\"],[3.4,4.8,8.3,2021,\"ESA (income-based)\"]],\"hovertemplate\":\"<b>%{customdata[4]} in %{customdata[3]}</b><br>Error: %{x}<br>Official: \\u00a3%{customdata[2]}bn<br>OpenFisca-UK: \\u00a3%{customdata[0]}bn<br>UKMOD: \\u00a3%{customdata[1]}bn\",\"legendgroup\":\"UKMOD\",\"marker\":{\"color\":\"lightgrey\",\"pattern\":{\"shape\":\"\"}},\"name\":\"UKMOD\",\"offsetgroup\":\"UKMOD\",\"orientation\":\"h\",\"showlegend\":true,\"textposition\":\"auto\",\"type\":\"bar\",\"x\":[0.066,0.055999999999999994,0.27399999999999997,0.251,0.192,0.36,0.054000000000000006,0.184,0.42200000000000004],\"xaxis\":\"x\",\"y\":[\"Child Benefit\",\"National Insurance (total)\",\"Universal Credit\",\"Income Tax\",\"Child Tax Credit\",\"Housing Benefit\",\"Working Tax Credit\",\"Pension Credit\",\"ESA (income-based)\"],\"yaxis\":\"y\"}],\"name\":\"2021\"},{\"data\":[{\"alignmentgroup\":\"True\",\"customdata\":[[155.1,156.0,151.3,2022,\"National Insurance (total)\"],[10.6,12.0,11.2,2022,\"Child Benefit\"],[39.7,34.1,43.7,2022,\"Universal Credit\"],[177.3,161.2,205.0,2022,\"Income Tax\"],[12.0,10.3,15.9,2022,\"Housing Benefit\"],[7.7,5.4,6.0,2022,\"Child Tax Credit\"],[2.2,1.6,1.6,2022,\"Working Tax Credit\"],[2.8,4.2,4.5,2022,\"Pension Credit\"],[3.3,4.2,8.2,2022,\"ESA (income-based)\"]],\"hovertemplate\":\"<b>%{customdata[4]} in %{customdata[3]}</b><br>Error: %{x}<br>Official: \\u00a3%{customdata[2]}bn<br>OpenFisca-UK: \\u00a3%{customdata[0]}bn<br>UKMOD: \\u00a3%{customdata[1]}bn\",\"legendgroup\":\"OpenFisca-UK\",\"marker\":{\"color\":\"blue\",\"pattern\":{\"shape\":\"\"}},\"name\":\"OpenFisca-UK\",\"offsetgroup\":\"OpenFisca-UK\",\"orientation\":\"h\",\"showlegend\":true,\"textposition\":\"auto\",\"type\":\"bar\",\"x\":[0.025,0.059000000000000004,0.09,0.135,0.243,0.28,0.324,0.371,0.602],\"xaxis\":\"x\",\"y\":[\"National Insurance (total)\",\"Child Benefit\",\"Universal Credit\",\"Income Tax\",\"Housing Benefit\",\"Child Tax Credit\",\"Working Tax Credit\",\"Pension Credit\",\"ESA (income-based)\"],\"yaxis\":\"y\"},{\"alignmentgroup\":\"True\",\"customdata\":[[155.1,156.0,151.3,2022,\"National Insurance (total)\"],[10.6,12.0,11.2,2022,\"Child Benefit\"],[39.7,34.1,43.7,2022,\"Universal Credit\"],[177.3,161.2,205.0,2022,\"Income Tax\"],[12.0,10.3,15.9,2022,\"Housing Benefit\"],[7.7,5.4,6.0,2022,\"Child Tax Credit\"],[2.2,1.6,1.6,2022,\"Working Tax Credit\"],[2.8,4.2,4.5,2022,\"Pension Credit\"],[3.3,4.2,8.2,2022,\"ESA (income-based)\"]],\"hovertemplate\":\"<b>%{customdata[4]} in %{customdata[3]}</b><br>Error: %{x}<br>Official: \\u00a3%{customdata[2]}bn<br>OpenFisca-UK: \\u00a3%{customdata[0]}bn<br>UKMOD: \\u00a3%{customdata[1]}bn\",\"legendgroup\":\"UKMOD\",\"marker\":{\"color\":\"lightgrey\",\"pattern\":{\"shape\":\"\"}},\"name\":\"UKMOD\",\"offsetgroup\":\"UKMOD\",\"orientation\":\"h\",\"showlegend\":true,\"textposition\":\"auto\",\"type\":\"bar\",\"x\":[0.031,0.067,0.22,0.214,0.35,0.102,0.043,0.07,0.488],\"xaxis\":\"x\",\"y\":[\"National Insurance (total)\",\"Child Benefit\",\"Universal Credit\",\"Income Tax\",\"Housing Benefit\",\"Child Tax Credit\",\"Working Tax Credit\",\"Pension Credit\",\"ESA (income-based)\"],\"yaxis\":\"y\"}],\"name\":\"2022\"},{\"data\":[{\"alignmentgroup\":\"True\",\"customdata\":[[159.5,145.1,157.5,2023,\"National Insurance (total)\"],[10.8,12.3,11.5,2023,\"Child Benefit\"],[43.9,39.1,49.8,2023,\"Universal Credit\"],[186.2,170.6,215.0,2023,\"Income Tax\"],[11.3,9.6,14.7,2023,\"Housing Benefit\"],[6.0,4.5,4.5,2023,\"Child Tax Credit\"],[2.6,4.4,4.4,2023,\"Pension Credit\"],[1.8,1.3,1.2,2023,\"Working Tax Credit\"],[3.1,3.7,7.8,2023,\"ESA (income-based)\"]],\"hovertemplate\":\"<b>%{customdata[4]} in %{customdata[3]}</b><br>Error: %{x}<br>Official: \\u00a3%{customdata[2]}bn<br>OpenFisca-UK: \\u00a3%{customdata[0]}bn<br>UKMOD: \\u00a3%{customdata[1]}bn\",\"legendgroup\":\"OpenFisca-UK\",\"marker\":{\"color\":\"blue\",\"pattern\":{\"shape\":\"\"}},\"name\":\"OpenFisca-UK\",\"offsetgroup\":\"OpenFisca-UK\",\"orientation\":\"h\",\"showlegend\":true,\"textposition\":\"auto\",\"type\":\"bar\",\"x\":[0.013000000000000001,0.069,0.11800000000000001,0.134,0.23600000000000002,0.33799999999999997,0.42200000000000004,0.446,0.607],\"xaxis\":\"x\",\"y\":[\"National Insurance (total)\",\"Child Benefit\",\"Universal Credit\",\"Income Tax\",\"Housing Benefit\",\"Child Tax Credit\",\"Pension Credit\",\"Working Tax Credit\",\"ESA (income-based)\"],\"yaxis\":\"y\"},{\"alignmentgroup\":\"True\",\"customdata\":[[159.5,145.1,157.5,2023,\"National Insurance (total)\"],[10.8,12.3,11.5,2023,\"Child Benefit\"],[43.9,39.1,49.8,2023,\"Universal Credit\"],[186.2,170.6,215.0,2023,\"Income Tax\"],[11.3,9.6,14.7,2023,\"Housing Benefit\"],[6.0,4.5,4.5,2023,\"Child Tax Credit\"],[2.6,4.4,4.4,2023,\"Pension Credit\"],[1.8,1.3,1.2,2023,\"Working Tax Credit\"],[3.1,3.7,7.8,2023,\"ESA (income-based)\"]],\"hovertemplate\":\"<b>%{customdata[4]} in %{customdata[3]}</b><br>Error: %{x}<br>Official: \\u00a3%{customdata[2]}bn<br>OpenFisca-UK: \\u00a3%{customdata[0]}bn<br>UKMOD: \\u00a3%{customdata[1]}bn\",\"legendgroup\":\"UKMOD\",\"marker\":{\"color\":\"lightgrey\",\"pattern\":{\"shape\":\"\"}},\"name\":\"UKMOD\",\"offsetgroup\":\"UKMOD\",\"orientation\":\"h\",\"showlegend\":true,\"textposition\":\"auto\",\"type\":\"bar\",\"x\":[0.079,0.068,0.213,0.20600000000000002,0.34700000000000003,0.011000000000000001,0.008,0.065,0.532],\"xaxis\":\"x\",\"y\":[\"National Insurance (total)\",\"Child Benefit\",\"Universal Credit\",\"Income Tax\",\"Housing Benefit\",\"Child Tax Credit\",\"Pension Credit\",\"Working Tax Credit\",\"ESA (income-based)\"],\"yaxis\":\"y\"}],\"name\":\"2023\"},{\"data\":[{\"alignmentgroup\":\"True\",\"customdata\":[[163.7,147.9,164.6,2024,\"National Insurance (total)\"],[11.1,12.5,11.6,2024,\"Child Benefit\"],[195.5,178.5,225.7,2024,\"Income Tax\"],[49.7,39.1,57.8,2024,\"Universal Credit\"],[10.1,8.5,12.5,2024,\"Housing Benefit\"],[2.5,4.5,4.4,2024,\"Pension Credit\"],[4.4,3.3,3.0,2024,\"Child Tax Credit\"],[2.4,2.7,6.4,2024,\"ESA (income-based)\"],[1.4,0.9,0.8,2024,\"Working Tax Credit\"]],\"hovertemplate\":\"<b>%{customdata[4]} in %{customdata[3]}</b><br>Error: %{x}<br>Official: \\u00a3%{customdata[2]}bn<br>OpenFisca-UK: \\u00a3%{customdata[0]}bn<br>UKMOD: \\u00a3%{customdata[1]}bn\",\"legendgroup\":\"OpenFisca-UK\",\"marker\":{\"color\":\"blue\",\"pattern\":{\"shape\":\"\"}},\"name\":\"OpenFisca-UK\",\"offsetgroup\":\"OpenFisca-UK\",\"orientation\":\"h\",\"showlegend\":true,\"textposition\":\"auto\",\"type\":\"bar\",\"x\":[0.005,0.042,0.134,0.14,0.19399999999999998,0.42700000000000005,0.489,0.616,0.7],\"xaxis\":\"x\",\"y\":[\"National Insurance (total)\",\"Child Benefit\",\"Income Tax\",\"Universal Credit\",\"Housing Benefit\",\"Pension Credit\",\"Child Tax Credit\",\"ESA (income-based)\",\"Working Tax Credit\"],\"yaxis\":\"y\"},{\"alignmentgroup\":\"True\",\"customdata\":[[163.7,147.9,164.6,2024,\"National Insurance (total)\"],[11.1,12.5,11.6,2024,\"Child Benefit\"],[195.5,178.5,225.7,2024,\"Income Tax\"],[49.7,39.1,57.8,2024,\"Universal Credit\"],[10.1,8.5,12.5,2024,\"Housing Benefit\"],[2.5,4.5,4.4,2024,\"Pension Credit\"],[4.4,3.3,3.0,2024,\"Child Tax Credit\"],[2.4,2.7,6.4,2024,\"ESA (income-based)\"],[1.4,0.9,0.8,2024,\"Working Tax Credit\"]],\"hovertemplate\":\"<b>%{customdata[4]} in %{customdata[3]}</b><br>Error: %{x}<br>Official: \\u00a3%{customdata[2]}bn<br>OpenFisca-UK: \\u00a3%{customdata[0]}bn<br>UKMOD: \\u00a3%{customdata[1]}bn\",\"legendgroup\":\"UKMOD\",\"marker\":{\"color\":\"lightgrey\",\"pattern\":{\"shape\":\"\"}},\"name\":\"UKMOD\",\"offsetgroup\":\"UKMOD\",\"orientation\":\"h\",\"showlegend\":true,\"textposition\":\"auto\",\"type\":\"bar\",\"x\":[0.102,0.079,0.209,0.32299999999999995,0.322,0.026000000000000002,0.114,0.579,0.102],\"xaxis\":\"x\",\"y\":[\"National Insurance (total)\",\"Child Benefit\",\"Income Tax\",\"Universal Credit\",\"Housing Benefit\",\"Pension Credit\",\"Child Tax Credit\",\"ESA (income-based)\",\"Working Tax Credit\"],\"yaxis\":\"y\"}],\"name\":\"2024\"},{\"data\":[{\"alignmentgroup\":\"True\",\"customdata\":[[11.6,12.6,11.6,2025,\"Child Benefit\"],[167.6,151.9,172.1,2025,\"National Insurance (total)\"],[205.6,187.9,237.5,2025,\"Income Tax\"],[8.5,6.7,10.2,2025,\"Housing Benefit\"],[56.7,45.6,68.0,2025,\"Universal Credit\"],[2.4,4.5,4.2,2025,\"Pension Credit\"],[1.3,1.2,3.5,2025,\"ESA (income-based)\"],[2.6,1.5,1.3,2025,\"Child Tax Credit\"],[0.9,0.4,0.4,2025,\"Working Tax Credit\"]],\"hovertemplate\":\"<b>%{customdata[4]} in %{customdata[3]}</b><br>Error: %{x}<br>Official: \\u00a3%{customdata[2]}bn<br>OpenFisca-UK: \\u00a3%{customdata[0]}bn<br>UKMOD: \\u00a3%{customdata[1]}bn\",\"legendgroup\":\"OpenFisca-UK\",\"marker\":{\"color\":\"blue\",\"pattern\":{\"shape\":\"\"}},\"name\":\"OpenFisca-UK\",\"offsetgroup\":\"OpenFisca-UK\",\"orientation\":\"h\",\"showlegend\":true,\"textposition\":\"auto\",\"type\":\"bar\",\"x\":[0.006,0.026000000000000002,0.134,0.163,0.166,0.429,0.642,0.915,1.3159999999999998],\"xaxis\":\"x\",\"y\":[\"Child Benefit\",\"National Insurance (total)\",\"Income Tax\",\"Housing Benefit\",\"Universal Credit\",\"Pension Credit\",\"ESA (income-based)\",\"Child Tax Credit\",\"Working Tax Credit\"],\"yaxis\":\"y\"},{\"alignmentgroup\":\"True\",\"customdata\":[[11.6,12.6,11.6,2025,\"Child Benefit\"],[167.6,151.9,172.1,2025,\"National Insurance (total)\"],[205.6,187.9,237.5,2025,\"Income Tax\"],[8.5,6.7,10.2,2025,\"Housing Benefit\"],[56.7,45.6,68.0,2025,\"Universal Credit\"],[2.4,4.5,4.2,2025,\"Pension Credit\"],[1.3,1.2,3.5,2025,\"ESA (income-based)\"],[2.6,1.5,1.3,2025,\"Child Tax Credit\"],[0.9,0.4,0.4,2025,\"Working Tax Credit\"]],\"hovertemplate\":\"<b>%{customdata[4]} in %{customdata[3]}</b><br>Error: %{x}<br>Official: \\u00a3%{customdata[2]}bn<br>OpenFisca-UK: \\u00a3%{customdata[0]}bn<br>UKMOD: \\u00a3%{customdata[1]}bn\",\"legendgroup\":\"UKMOD\",\"marker\":{\"color\":\"lightgrey\",\"pattern\":{\"shape\":\"\"}},\"name\":\"UKMOD\",\"offsetgroup\":\"UKMOD\",\"orientation\":\"h\",\"showlegend\":true,\"textposition\":\"auto\",\"type\":\"bar\",\"x\":[0.08199999999999999,0.11800000000000001,0.209,0.34299999999999997,0.32799999999999996,0.057999999999999996,0.6509999999999999,0.091,0.146],\"xaxis\":\"x\",\"y\":[\"Child Benefit\",\"National Insurance (total)\",\"Income Tax\",\"Housing Benefit\",\"Universal Credit\",\"Pension Credit\",\"ESA (income-based)\",\"Child Tax Credit\",\"Working Tax Credit\"],\"yaxis\":\"y\"}],\"name\":\"2025\"}]);\n",
       "                        }).then(function(){\n",
       "                            \n",
       "var gd = document.getElementById('ca47d68b-a7ad-4be6-af8b-b65254601156');\n",
       "var x = new MutationObserver(function (mutations, observer) {{\n",
       "        var display = window.getComputedStyle(gd).display;\n",
       "        if (!display || display === 'none') {{\n",
       "            console.log([gd, 'removed!']);\n",
       "            Plotly.purge(gd);\n",
       "            observer.disconnect();\n",
       "        }}\n",
       "}});\n",
       "\n",
       "// Listen for the removal of the full notebook cells\n",
       "var notebookContainer = gd.closest('#notebook-container');\n",
       "if (notebookContainer) {{\n",
       "    x.observe(notebookContainer, {childList: true});\n",
       "}}\n",
       "\n",
       "// Listen for the clearing of the current output cell\n",
       "var outputEl = gd.closest('.output');\n",
       "if (outputEl) {{\n",
       "    x.observe(outputEl, {childList: true});\n",
       "}}\n",
       "\n",
       "                        })                };                });            </script>        </div>"
      ]
     },
     "metadata": {},
     "output_type": "display_data"
    }
   ],
   "source": [
    "pd.set_option(\"display.max_colwidth\", 0)\n",
    "pd.set_option(\"display.max_rows\", 500)\n",
    "\n",
    "\n",
    "def error_chart(table, title=None):\n",
    "    hovertemplate = \"<b>%{customdata[4]} in %{customdata[3]}</b><br>Error: %{x}<br>Official: £%{customdata[2]}bn<br>OpenFisca-UK: £%{customdata[0]}bn<br>UKMOD: £%{customdata[1]}bn\"\n",
    "    table = table.replace(\"\", np.nan).dropna(axis=0)\n",
    "    table[[OPENFISCA_UK, UKMOD]] = table[[OPENFISCA_UK, UKMOD]].abs() / 1e2\n",
    "    fig = (\n",
    "        px.bar(\n",
    "            table.sort_values([\"Year\", OPENFISCA_UK]),\n",
    "            x=[OPENFISCA_UK, UKMOD],\n",
    "            y=\"Program\",\n",
    "            orientation=\"h\",\n",
    "            animation_frame=\"Year\",\n",
    "            barmode=\"group\",\n",
    "            color_discrete_map={\n",
    "                OPENFISCA_UK: \"blue\",\n",
    "                UKMOD: \"lightgrey\",\n",
    "            },\n",
    "            custom_data=[\n",
    "                \"OpenFisca-UK budgetary impact\",\n",
    "                \"UKMOD budgetary impact\",\n",
    "                \"External budgetary impact\",\n",
    "                \"Year\",\n",
    "                \"Program\",\n",
    "            ],\n",
    "        )\n",
    "        .update_layout(\n",
    "            width=800,\n",
    "            height=600,\n",
    "            xaxis_tickformat=\".0%\",\n",
    "            xaxis_title=\"Relative error\",\n",
    "            title=title,\n",
    "            xaxis_range=(0, 1),\n",
    "            template=\"plotly_white\",\n",
    "            legend_title=\"Model\",\n",
    "            yaxis_title=\"\",\n",
    "            legend_traceorder=\"reversed\",\n",
    "        )\n",
    "        .update_traces(hovertemplate=hovertemplate)\n",
    "    )\n",
    "    for frame in fig.frames:\n",
    "        for data in frame.data:\n",
    "            data.hovertemplate = hovertemplate\n",
    "    return fig\n",
    "\n",
    "\n",
    "error_chart(\n",
    "    tables_to_model_comparisons(\n",
    "        {\n",
    "            \"\": model_validation_table(\n",
    "                relative_budgetary_impact_error,\n",
    "                models=[OPENFISCA_UK, UKMOD],\n",
    "                divisor=1e-2,\n",
    "                decimals=1,\n",
    "            ),\n",
    "            \"budgetary impact\": model_validation_table(\n",
    "                budgetary_impact, divisor=1e9, decimals=1\n",
    "            ),\n",
    "        }\n",
    "    ),\n",
    "    title=\"Relative errors on budgetary impacts\",\n",
    ")"
   ]
  },
  {
   "cell_type": "markdown",
   "id": "f89a9c20-9f10-4a8e-9ce9-5d35cc59f936",
   "metadata": {},
   "source": [
    "## Caseload tables\n",
    "\n",
    "OpenFisca-UK uprates input FRS data: below are comparisons between the aggregates calculated by OpenFisca-UK, UKMOD and external sources.\n",
    "\n",
    "### Caseloads in full"
   ]
  },
  {
   "cell_type": "code",
   "execution_count": 7,
   "id": "63f78e85-f975-49f2-9aa5-be89d8d0e4f4",
   "metadata": {},
   "outputs": [
    {
     "data": {
      "text/html": [
       "<div>\n",
       "<style scoped>\n",
       "    .dataframe tbody tr th:only-of-type {\n",
       "        vertical-align: middle;\n",
       "    }\n",
       "\n",
       "    .dataframe tbody tr th {\n",
       "        vertical-align: top;\n",
       "    }\n",
       "\n",
       "    .dataframe thead th {\n",
       "        text-align: right;\n",
       "    }\n",
       "</style>\n",
       "<table border=\"1\" class=\"dataframe\">\n",
       "  <thead>\n",
       "    <tr style=\"text-align: right;\">\n",
       "      <th></th>\n",
       "      <th></th>\n",
       "      <th>Child Benefit</th>\n",
       "      <th>ESA (income-based)</th>\n",
       "      <th>Income Support</th>\n",
       "      <th>JSA (income-based)</th>\n",
       "      <th>Housing Benefit</th>\n",
       "      <th>Working Tax Credit</th>\n",
       "      <th>Child Tax Credit</th>\n",
       "      <th>Universal Credit</th>\n",
       "      <th>Pension Credit</th>\n",
       "      <th>Income Tax</th>\n",
       "      <th>National Insurance (total)</th>\n",
       "    </tr>\n",
       "  </thead>\n",
       "  <tbody>\n",
       "    <tr>\n",
       "      <th rowspan=\"7\" valign=\"top\">External</th>\n",
       "      <th>2019</th>\n",
       "      <td>7.28</td>\n",
       "      <td>1.06</td>\n",
       "      <td>0.36</td>\n",
       "      <td>0.14</td>\n",
       "      <td>3.39</td>\n",
       "      <td>1.61</td>\n",
       "      <td>2.83</td>\n",
       "      <td>2.13</td>\n",
       "      <td>1.56</td>\n",
       "      <td>31.40</td>\n",
       "      <td></td>\n",
       "    </tr>\n",
       "    <tr>\n",
       "      <th>2020</th>\n",
       "      <td>7.21</td>\n",
       "      <td>0.96</td>\n",
       "      <td>0.27</td>\n",
       "      <td>0.1</td>\n",
       "      <td>3.03</td>\n",
       "      <td>1.20</td>\n",
       "      <td>2.12</td>\n",
       "      <td>4.05</td>\n",
       "      <td>1.48</td>\n",
       "      <td>31.70</td>\n",
       "      <td></td>\n",
       "    </tr>\n",
       "    <tr>\n",
       "      <th>2021</th>\n",
       "      <td>7.14</td>\n",
       "      <td>0.40</td>\n",
       "      <td>0.21</td>\n",
       "      <td>0.07</td>\n",
       "      <td>2.92</td>\n",
       "      <td>1.04</td>\n",
       "      <td>1.69</td>\n",
       "      <td>4.27</td>\n",
       "      <td>1.48</td>\n",
       "      <td>32.20</td>\n",
       "      <td></td>\n",
       "    </tr>\n",
       "    <tr>\n",
       "      <th>2022</th>\n",
       "      <td>7.07</td>\n",
       "      <td>0.37</td>\n",
       "      <td>0.16</td>\n",
       "      <td>0.04</td>\n",
       "      <td>2.71</td>\n",
       "      <td>0.91</td>\n",
       "      <td>1.34</td>\n",
       "      <td>4.65</td>\n",
       "      <td>1.41</td>\n",
       "      <td>32.71</td>\n",
       "      <td></td>\n",
       "    </tr>\n",
       "    <tr>\n",
       "      <th>2023</th>\n",
       "      <td>7.00</td>\n",
       "      <td>0.34</td>\n",
       "      <td>0.12</td>\n",
       "      <td>0.01</td>\n",
       "      <td>2.46</td>\n",
       "      <td>0.79</td>\n",
       "      <td>1.06</td>\n",
       "      <td>5.05</td>\n",
       "      <td>1.34</td>\n",
       "      <td>33.22</td>\n",
       "      <td></td>\n",
       "    </tr>\n",
       "    <tr>\n",
       "      <th>2024</th>\n",
       "      <td>6.93</td>\n",
       "      <td>0.26</td>\n",
       "      <td>0.08</td>\n",
       "      <td>0.0</td>\n",
       "      <td>2.11</td>\n",
       "      <td>0.69</td>\n",
       "      <td>0.84</td>\n",
       "      <td>5.61</td>\n",
       "      <td>1.28</td>\n",
       "      <td>33.75</td>\n",
       "      <td></td>\n",
       "    </tr>\n",
       "    <tr>\n",
       "      <th>2025</th>\n",
       "      <td>6.87</td>\n",
       "      <td>0.13</td>\n",
       "      <td>0.03</td>\n",
       "      <td>0.0</td>\n",
       "      <td>1.73</td>\n",
       "      <td>0.60</td>\n",
       "      <td>0.67</td>\n",
       "      <td>6.29</td>\n",
       "      <td>1.23</td>\n",
       "      <td>34.28</td>\n",
       "      <td></td>\n",
       "    </tr>\n",
       "    <tr>\n",
       "      <th rowspan=\"7\" valign=\"top\">OpenFisca-UK</th>\n",
       "      <th>2019</th>\n",
       "      <td>6.88</td>\n",
       "      <td>0.94</td>\n",
       "      <td>0.32</td>\n",
       "      <td>0.12</td>\n",
       "      <td>3.09</td>\n",
       "      <td>1.35</td>\n",
       "      <td>2.47</td>\n",
       "      <td>2.55</td>\n",
       "      <td>1.47</td>\n",
       "      <td>29.63</td>\n",
       "      <td>27.47</td>\n",
       "    </tr>\n",
       "    <tr>\n",
       "      <th>2020</th>\n",
       "      <td>6.74</td>\n",
       "      <td>0.96</td>\n",
       "      <td>0.25</td>\n",
       "      <td>0.1</td>\n",
       "      <td>2.91</td>\n",
       "      <td>1.10</td>\n",
       "      <td>2.09</td>\n",
       "      <td>4.53</td>\n",
       "      <td>1.41</td>\n",
       "      <td>29.29</td>\n",
       "      <td>27.34</td>\n",
       "    </tr>\n",
       "    <tr>\n",
       "      <th>2021</th>\n",
       "      <td>6.67</td>\n",
       "      <td>0.48</td>\n",
       "      <td>0.2</td>\n",
       "      <td>0.07</td>\n",
       "      <td>2.86</td>\n",
       "      <td>0.91</td>\n",
       "      <td>1.66</td>\n",
       "      <td>4.71</td>\n",
       "      <td>1.43</td>\n",
       "      <td>30.11</td>\n",
       "      <td>27.79</td>\n",
       "    </tr>\n",
       "    <tr>\n",
       "      <th>2022</th>\n",
       "      <td>6.63</td>\n",
       "      <td>0.45</td>\n",
       "      <td>0.15</td>\n",
       "      <td>0.04</td>\n",
       "      <td>2.71</td>\n",
       "      <td>0.79</td>\n",
       "      <td>1.33</td>\n",
       "      <td>5.16</td>\n",
       "      <td>1.36</td>\n",
       "      <td>30.88</td>\n",
       "      <td>28.39</td>\n",
       "    </tr>\n",
       "    <tr>\n",
       "      <th>2023</th>\n",
       "      <td>6.59</td>\n",
       "      <td>0.42</td>\n",
       "      <td>0.11</td>\n",
       "      <td>0.0</td>\n",
       "      <td>2.53</td>\n",
       "      <td>0.67</td>\n",
       "      <td>1.05</td>\n",
       "      <td>5.65</td>\n",
       "      <td>1.31</td>\n",
       "      <td>31.67</td>\n",
       "      <td>28.62</td>\n",
       "    </tr>\n",
       "    <tr>\n",
       "      <th>2024</th>\n",
       "      <td>6.55</td>\n",
       "      <td>0.33</td>\n",
       "      <td>0.08</td>\n",
       "      <td>0.07</td>\n",
       "      <td>2.23</td>\n",
       "      <td>0.55</td>\n",
       "      <td>0.80</td>\n",
       "      <td>6.32</td>\n",
       "      <td>1.23</td>\n",
       "      <td>32.61</td>\n",
       "      <td>28.6</td>\n",
       "    </tr>\n",
       "    <tr>\n",
       "      <th>2025</th>\n",
       "      <td>6.51</td>\n",
       "      <td>0.17</td>\n",
       "      <td>0.04</td>\n",
       "      <td>0.07</td>\n",
       "      <td>1.86</td>\n",
       "      <td>0.40</td>\n",
       "      <td>0.56</td>\n",
       "      <td>7.16</td>\n",
       "      <td>1.16</td>\n",
       "      <td>33.40</td>\n",
       "      <td>28.44</td>\n",
       "    </tr>\n",
       "    <tr>\n",
       "      <th rowspan=\"7\" valign=\"top\">UKMOD</th>\n",
       "      <th>2019</th>\n",
       "      <td>7.10</td>\n",
       "      <td>0.89</td>\n",
       "      <td></td>\n",
       "      <td></td>\n",
       "      <td>2.91</td>\n",
       "      <td>0.81</td>\n",
       "      <td>1.74</td>\n",
       "      <td>2.13</td>\n",
       "      <td>1.52</td>\n",
       "      <td>39.85</td>\n",
       "      <td>26.92</td>\n",
       "    </tr>\n",
       "    <tr>\n",
       "      <th>2020</th>\n",
       "      <td>7.09</td>\n",
       "      <td>0.79</td>\n",
       "      <td></td>\n",
       "      <td></td>\n",
       "      <td>2.69</td>\n",
       "      <td>0.62</td>\n",
       "      <td>1.48</td>\n",
       "      <td>3.15</td>\n",
       "      <td>1.55</td>\n",
       "      <td>29.55</td>\n",
       "      <td>20.32</td>\n",
       "    </tr>\n",
       "    <tr>\n",
       "      <th>2021</th>\n",
       "      <td>7.16</td>\n",
       "      <td>0.68</td>\n",
       "      <td></td>\n",
       "      <td></td>\n",
       "      <td>2.44</td>\n",
       "      <td>0.66</td>\n",
       "      <td>1.31</td>\n",
       "      <td>3.57</td>\n",
       "      <td>1.42</td>\n",
       "      <td>29.43</td>\n",
       "      <td>25.27</td>\n",
       "    </tr>\n",
       "    <tr>\n",
       "      <th>2022</th>\n",
       "      <td>7.12</td>\n",
       "      <td>0.58</td>\n",
       "      <td></td>\n",
       "      <td></td>\n",
       "      <td>2.26</td>\n",
       "      <td>0.54</td>\n",
       "      <td>1.08</td>\n",
       "      <td>4.21</td>\n",
       "      <td>1.41</td>\n",
       "      <td>30.01</td>\n",
       "      <td>26.08</td>\n",
       "    </tr>\n",
       "    <tr>\n",
       "      <th>2023</th>\n",
       "      <td>7.07</td>\n",
       "      <td>0.49</td>\n",
       "      <td></td>\n",
       "      <td></td>\n",
       "      <td>2.05</td>\n",
       "      <td>0.44</td>\n",
       "      <td>0.89</td>\n",
       "      <td>4.66</td>\n",
       "      <td>1.45</td>\n",
       "      <td>30.58</td>\n",
       "      <td>26.19</td>\n",
       "    </tr>\n",
       "    <tr>\n",
       "      <th>2024</th>\n",
       "      <td>7.02</td>\n",
       "      <td>0.34</td>\n",
       "      <td></td>\n",
       "      <td></td>\n",
       "      <td>1.78</td>\n",
       "      <td>0.30</td>\n",
       "      <td>0.64</td>\n",
       "      <td>5.31</td>\n",
       "      <td>1.44</td>\n",
       "      <td>30.94</td>\n",
       "      <td>26.24</td>\n",
       "    </tr>\n",
       "    <tr>\n",
       "      <th>2025</th>\n",
       "      <td>6.99</td>\n",
       "      <td>0.15</td>\n",
       "      <td></td>\n",
       "      <td></td>\n",
       "      <td>1.43</td>\n",
       "      <td>0.13</td>\n",
       "      <td>0.29</td>\n",
       "      <td>6.15</td>\n",
       "      <td>1.42</td>\n",
       "      <td>31.47</td>\n",
       "      <td>26.27</td>\n",
       "    </tr>\n",
       "  </tbody>\n",
       "</table>\n",
       "</div>"
      ],
      "text/plain": [
       "                   Child Benefit  ESA (income-based) Income Support  \\\n",
       "External     2019  7.28           1.06                0.36            \n",
       "             2020  7.21           0.96                0.27            \n",
       "             2021  7.14           0.40                0.21            \n",
       "             2022  7.07           0.37                0.16            \n",
       "             2023  7.00           0.34                0.12            \n",
       "             2024  6.93           0.26                0.08            \n",
       "             2025  6.87           0.13                0.03            \n",
       "OpenFisca-UK 2019  6.88           0.94                0.32            \n",
       "             2020  6.74           0.96                0.25            \n",
       "             2021  6.67           0.48                0.2             \n",
       "             2022  6.63           0.45                0.15            \n",
       "             2023  6.59           0.42                0.11            \n",
       "             2024  6.55           0.33                0.08            \n",
       "             2025  6.51           0.17                0.04            \n",
       "UKMOD        2019  7.10           0.89                                \n",
       "             2020  7.09           0.79                                \n",
       "             2021  7.16           0.68                                \n",
       "             2022  7.12           0.58                                \n",
       "             2023  7.07           0.49                                \n",
       "             2024  7.02           0.34                                \n",
       "             2025  6.99           0.15                                \n",
       "\n",
       "                  JSA (income-based)  Housing Benefit  Working Tax Credit  \\\n",
       "External     2019  0.14               3.39             1.61                 \n",
       "             2020  0.1                3.03             1.20                 \n",
       "             2021  0.07               2.92             1.04                 \n",
       "             2022  0.04               2.71             0.91                 \n",
       "             2023  0.01               2.46             0.79                 \n",
       "             2024  0.0                2.11             0.69                 \n",
       "             2025  0.0                1.73             0.60                 \n",
       "OpenFisca-UK 2019  0.12               3.09             1.35                 \n",
       "             2020  0.1                2.91             1.10                 \n",
       "             2021  0.07               2.86             0.91                 \n",
       "             2022  0.04               2.71             0.79                 \n",
       "             2023  0.0                2.53             0.67                 \n",
       "             2024  0.07               2.23             0.55                 \n",
       "             2025  0.07               1.86             0.40                 \n",
       "UKMOD        2019                     2.91             0.81                 \n",
       "             2020                     2.69             0.62                 \n",
       "             2021                     2.44             0.66                 \n",
       "             2022                     2.26             0.54                 \n",
       "             2023                     2.05             0.44                 \n",
       "             2024                     1.78             0.30                 \n",
       "             2025                     1.43             0.13                 \n",
       "\n",
       "                   Child Tax Credit  Universal Credit  Pension Credit  \\\n",
       "External     2019  2.83              2.13              1.56             \n",
       "             2020  2.12              4.05              1.48             \n",
       "             2021  1.69              4.27              1.48             \n",
       "             2022  1.34              4.65              1.41             \n",
       "             2023  1.06              5.05              1.34             \n",
       "             2024  0.84              5.61              1.28             \n",
       "             2025  0.67              6.29              1.23             \n",
       "OpenFisca-UK 2019  2.47              2.55              1.47             \n",
       "             2020  2.09              4.53              1.41             \n",
       "             2021  1.66              4.71              1.43             \n",
       "             2022  1.33              5.16              1.36             \n",
       "             2023  1.05              5.65              1.31             \n",
       "             2024  0.80              6.32              1.23             \n",
       "             2025  0.56              7.16              1.16             \n",
       "UKMOD        2019  1.74              2.13              1.52             \n",
       "             2020  1.48              3.15              1.55             \n",
       "             2021  1.31              3.57              1.42             \n",
       "             2022  1.08              4.21              1.41             \n",
       "             2023  0.89              4.66              1.45             \n",
       "             2024  0.64              5.31              1.44             \n",
       "             2025  0.29              6.15              1.42             \n",
       "\n",
       "                   Income Tax National Insurance (total)  \n",
       "External     2019  31.40                                  \n",
       "             2020  31.70                                  \n",
       "             2021  32.20                                  \n",
       "             2022  32.71                                  \n",
       "             2023  33.22                                  \n",
       "             2024  33.75                                  \n",
       "             2025  34.28                                  \n",
       "OpenFisca-UK 2019  29.63       27.47                      \n",
       "             2020  29.29       27.34                      \n",
       "             2021  30.11       27.79                      \n",
       "             2022  30.88       28.39                      \n",
       "             2023  31.67       28.62                      \n",
       "             2024  32.61       28.6                       \n",
       "             2025  33.40       28.44                      \n",
       "UKMOD        2019  39.85       26.92                      \n",
       "             2020  29.55       20.32                      \n",
       "             2021  29.43       25.27                      \n",
       "             2022  30.01       26.08                      \n",
       "             2023  30.58       26.19                      \n",
       "             2024  30.94       26.24                      \n",
       "             2025  31.47       26.27                      "
      ]
     },
     "execution_count": 7,
     "metadata": {},
     "output_type": "execute_result"
    }
   ],
   "source": [
    "from microdf import MicroSeries\n",
    "\n",
    "\n",
    "def get_nonzero(variable, year):\n",
    "    entity = default_variables[variable].entity.key\n",
    "    values = sim.calc(variable, period=year) > 0\n",
    "    return MicroSeries(\n",
    "        sim.map_to(values, entity, \"household\"),\n",
    "        weights=sim.calc(\"household_weight\", year),\n",
    "    )\n",
    "\n",
    "\n",
    "def caseload(model, year, variable):\n",
    "    try:\n",
    "        if model == OPENFISCA_UK:\n",
    "            return get_nonzero(variable, year).sum()\n",
    "        elif model == UKMOD:\n",
    "            return getattr(ukmod_statistics.ukmod.nonzero_units, variable)(\n",
    "                f\"{year}-01-01\"\n",
    "            )\n",
    "        elif model == EXTERNAL:\n",
    "            try:\n",
    "                return getattr(\n",
    "                    parameters.calibration.families.by_program_participation,\n",
    "                    variable,\n",
    "                )(f\"{year}-01-01\")\n",
    "            except:\n",
    "                return getattr(\n",
    "                    parameters.calibration.populations.by_program_participation,\n",
    "                    variable,\n",
    "                )(f\"{year}-01-01\")\n",
    "    except:\n",
    "        return np.nan\n",
    "\n",
    "\n",
    "model_validation_table(\n",
    "    caseload, models=[EXTERNAL, OPENFISCA_UK, UKMOD], divisor=1e6, decimals=2\n",
    ")"
   ]
  },
  {
   "cell_type": "markdown",
   "id": "d83ef056-b2c6-4f56-b11b-de4ee980463d",
   "metadata": {},
   "source": [
    "### Caseload forecasts"
   ]
  },
  {
   "cell_type": "code",
   "execution_count": 14,
   "id": "7b883c5d-171d-4511-a769-47254476aad3",
   "metadata": {},
   "outputs": [
    {
     "data": {
      "application/vnd.plotly.v1+json": {
       "config": {
        "plotlyServerURL": "https://plot.ly"
       },
       "data": [
        {
         "hovertemplate": "",
         "legendgroup": "External",
         "line": {
          "color": "#00cc96",
          "dash": "solid"
         },
         "marker": {
          "symbol": "circle"
         },
         "mode": "lines",
         "name": "External",
         "orientation": "h",
         "showlegend": true,
         "type": "scatter",
         "x": [
          2019,
          2020,
          2021,
          2022,
          2023,
          2024,
          2025
         ],
         "xaxis": "x",
         "y": [
          2132000,
          4052000,
          4267000,
          4649000,
          5048000,
          5605000,
          6285000
         ],
         "yaxis": "y"
        },
        {
         "hovertemplate": "",
         "legendgroup": "OpenFisca-UK",
         "line": {
          "color": "blue",
          "dash": "solid"
         },
         "marker": {
          "symbol": "circle"
         },
         "mode": "lines",
         "name": "OpenFisca-UK",
         "orientation": "h",
         "showlegend": true,
         "type": "scatter",
         "x": [
          2019,
          2020,
          2021,
          2022,
          2023,
          2024,
          2025
         ],
         "xaxis": "x",
         "y": [
          2552112.2,
          4528308.7,
          4714572.3,
          5163313.5,
          5654950.6,
          6323676.8,
          7163294.3
         ],
         "yaxis": "y"
        },
        {
         "hovertemplate": "",
         "legendgroup": "UKMOD",
         "line": {
          "color": "lightgrey",
          "dash": "solid"
         },
         "marker": {
          "symbol": "circle"
         },
         "mode": "lines",
         "name": "UKMOD",
         "orientation": "h",
         "showlegend": true,
         "type": "scatter",
         "x": [
          2019,
          2020,
          2021,
          2022,
          2023,
          2024,
          2025
         ],
         "xaxis": "x",
         "y": [
          2128000,
          3147000,
          3566000,
          4214000,
          4656000,
          5311000,
          6146000
         ],
         "yaxis": "y"
        }
       ],
       "frames": [
        {
         "data": [
          {
           "hovertemplate": "",
           "legendgroup": "External",
           "line": {
            "color": "#00cc96",
            "dash": "solid"
           },
           "marker": {
            "symbol": "circle"
           },
           "mode": "lines",
           "name": "External",
           "orientation": "h",
           "showlegend": true,
           "type": "scatter",
           "x": [
            2019,
            2020,
            2021,
            2022,
            2023,
            2024,
            2025
           ],
           "xaxis": "x",
           "y": [
            7281535,
            7210595,
            7140346.1,
            7070781.7,
            7001894.9,
            6933679.3,
            6866128.3
           ],
           "yaxis": "y"
          },
          {
           "hovertemplate": "",
           "legendgroup": "OpenFisca-UK",
           "line": {
            "color": "blue",
            "dash": "solid"
           },
           "marker": {
            "symbol": "circle"
           },
           "mode": "lines",
           "name": "OpenFisca-UK",
           "orientation": "h",
           "showlegend": true,
           "type": "scatter",
           "x": [
            2019,
            2020,
            2021,
            2022,
            2023,
            2024,
            2025
           ],
           "xaxis": "x",
           "y": [
            6882170.5,
            6743175.4,
            6669150,
            6627965.8,
            6588290.8,
            6549568.5,
            6506090.8
           ],
           "yaxis": "y"
          },
          {
           "hovertemplate": "",
           "legendgroup": "UKMOD",
           "line": {
            "color": "lightgrey",
            "dash": "solid"
           },
           "marker": {
            "symbol": "circle"
           },
           "mode": "lines",
           "name": "UKMOD",
           "orientation": "h",
           "showlegend": true,
           "type": "scatter",
           "x": [
            2019,
            2020,
            2021,
            2022,
            2023,
            2024,
            2025
           ],
           "xaxis": "x",
           "y": [
            7102000,
            7094000,
            7159000,
            7116000,
            7072000,
            7022000,
            6990000
           ],
           "yaxis": "y"
          }
         ],
         "name": "Child Benefit"
        },
        {
         "data": [
          {
           "hovertemplate": "",
           "legendgroup": "External",
           "line": {
            "color": "#00cc96",
            "dash": "solid"
           },
           "marker": {
            "symbol": "circle"
           },
           "mode": "lines",
           "name": "External",
           "orientation": "h",
           "showlegend": true,
           "type": "scatter",
           "x": [
            2019,
            2020,
            2021,
            2022,
            2023,
            2024,
            2025
           ],
           "xaxis": "x",
           "y": [
            2835000,
            2125000,
            1686000,
            1337692.2,
            1061340.8,
            842080.2,
            668116.4
           ],
           "yaxis": "y"
          },
          {
           "hovertemplate": "",
           "legendgroup": "OpenFisca-UK",
           "line": {
            "color": "blue",
            "dash": "solid"
           },
           "marker": {
            "symbol": "circle"
           },
           "mode": "lines",
           "name": "OpenFisca-UK",
           "orientation": "h",
           "showlegend": true,
           "type": "scatter",
           "x": [
            2019,
            2020,
            2021,
            2022,
            2023,
            2024,
            2025
           ],
           "xaxis": "x",
           "y": [
            2470538.6,
            2088581.7,
            1656177,
            1326944.1,
            1045578.6,
            798287.2,
            562679.4
           ],
           "yaxis": "y"
          },
          {
           "hovertemplate": "",
           "legendgroup": "UKMOD",
           "line": {
            "color": "lightgrey",
            "dash": "solid"
           },
           "marker": {
            "symbol": "circle"
           },
           "mode": "lines",
           "name": "UKMOD",
           "orientation": "h",
           "showlegend": true,
           "type": "scatter",
           "x": [
            2019,
            2020,
            2021,
            2022,
            2023,
            2024,
            2025
           ],
           "xaxis": "x",
           "y": [
            1737000,
            1480000,
            1312000,
            1080000,
            890000,
            643000,
            292000
           ],
           "yaxis": "y"
          }
         ],
         "name": "Child Tax Credit"
        },
        {
         "data": [
          {
           "hovertemplate": "",
           "legendgroup": "External",
           "line": {
            "color": "#00cc96",
            "dash": "solid"
           },
           "marker": {
            "symbol": "circle"
           },
           "mode": "lines",
           "name": "External",
           "orientation": "h",
           "showlegend": true,
           "type": "scatter",
           "x": [
            2019,
            2020,
            2021,
            2022,
            2023,
            2024,
            2025
           ],
           "xaxis": "x",
           "y": [
            1056000,
            961000,
            395000,
            373000,
            344000,
            264000,
            132000
           ],
           "yaxis": "y"
          },
          {
           "hovertemplate": "",
           "legendgroup": "OpenFisca-UK",
           "line": {
            "color": "blue",
            "dash": "solid"
           },
           "marker": {
            "symbol": "circle"
           },
           "mode": "lines",
           "name": "OpenFisca-UK",
           "orientation": "h",
           "showlegend": true,
           "type": "scatter",
           "x": [
            2019,
            2020,
            2021,
            2022,
            2023,
            2024,
            2025
           ],
           "xaxis": "x",
           "y": [
            937004.7,
            964386.7,
            475150.1,
            452230.8,
            420329.3,
            327469.3,
            166147
           ],
           "yaxis": "y"
          },
          {
           "hovertemplate": "",
           "legendgroup": "UKMOD",
           "line": {
            "color": "lightgrey",
            "dash": "solid"
           },
           "marker": {
            "symbol": "circle"
           },
           "mode": "lines",
           "name": "UKMOD",
           "orientation": "h",
           "showlegend": true,
           "type": "scatter",
           "x": [
            2019,
            2020,
            2021,
            2022,
            2023,
            2024,
            2025
           ],
           "xaxis": "x",
           "y": [
            891000,
            793000,
            680000,
            581000,
            489000,
            342000,
            146000
           ],
           "yaxis": "y"
          }
         ],
         "name": "ESA (income-based)"
        },
        {
         "data": [
          {
           "hovertemplate": "",
           "legendgroup": "External",
           "line": {
            "color": "#00cc96",
            "dash": "solid"
           },
           "marker": {
            "symbol": "circle"
           },
           "mode": "lines",
           "name": "External",
           "orientation": "h",
           "showlegend": true,
           "type": "scatter",
           "x": [
            2019,
            2020,
            2021,
            2022,
            2023,
            2024,
            2025
           ],
           "xaxis": "x",
           "y": [
            3394000,
            3028000,
            2923000,
            2708000,
            2459000,
            2114000,
            1726000
           ],
           "yaxis": "y"
          },
          {
           "hovertemplate": "",
           "legendgroup": "OpenFisca-UK",
           "line": {
            "color": "blue",
            "dash": "solid"
           },
           "marker": {
            "symbol": "circle"
           },
           "mode": "lines",
           "name": "OpenFisca-UK",
           "orientation": "h",
           "showlegend": true,
           "type": "scatter",
           "x": [
            2019,
            2020,
            2021,
            2022,
            2023,
            2024,
            2025
           ],
           "xaxis": "x",
           "y": [
            3093181.2,
            2908947.5,
            2864213.8,
            2714991,
            2530084.5,
            2230789.6,
            1864665.6
           ],
           "yaxis": "y"
          },
          {
           "hovertemplate": "",
           "legendgroup": "UKMOD",
           "line": {
            "color": "lightgrey",
            "dash": "solid"
           },
           "marker": {
            "symbol": "circle"
           },
           "mode": "lines",
           "name": "UKMOD",
           "orientation": "h",
           "showlegend": true,
           "type": "scatter",
           "x": [
            2019,
            2020,
            2021,
            2022,
            2023,
            2024,
            2025
           ],
           "xaxis": "x",
           "y": [
            2912000,
            2685000,
            2435000,
            2262000,
            2050000,
            1783000,
            1432000
           ],
           "yaxis": "y"
          }
         ],
         "name": "Housing Benefit"
        },
        {
         "data": [
          {
           "hovertemplate": "",
           "legendgroup": "External",
           "line": {
            "color": "#00cc96",
            "dash": "solid"
           },
           "marker": {
            "symbol": "circle"
           },
           "mode": "lines",
           "name": "External",
           "orientation": "h",
           "showlegend": true,
           "type": "scatter",
           "x": [
            2019,
            2020,
            2021,
            2022,
            2023,
            2024,
            2025
           ],
           "xaxis": "x",
           "y": [
            360000,
            273000,
            210000,
            157000,
            116000,
            76000,
            34000
           ],
           "yaxis": "y"
          },
          {
           "hovertemplate": "",
           "legendgroup": "OpenFisca-UK",
           "line": {
            "color": "blue",
            "dash": "solid"
           },
           "marker": {
            "symbol": "circle"
           },
           "mode": "lines",
           "name": "OpenFisca-UK",
           "orientation": "h",
           "showlegend": true,
           "type": "scatter",
           "x": [
            2019,
            2020,
            2021,
            2022,
            2023,
            2024,
            2025
           ],
           "xaxis": "x",
           "y": [
            319163.3,
            254141.4,
            201512.2,
            150468.6,
            110776,
            77089.1,
            39513.7
           ],
           "yaxis": "y"
          },
          {
           "hovertemplate": "",
           "legendgroup": "UKMOD",
           "line": {
            "color": "lightgrey",
            "dash": "solid"
           },
           "marker": {
            "symbol": "circle"
           },
           "mode": "lines",
           "name": "UKMOD",
           "orientation": "h",
           "showlegend": true,
           "type": "scatter",
           "x": [
            2019,
            2020,
            2021,
            2022,
            2023,
            2024,
            2025
           ],
           "xaxis": "x",
           "y": [
            "",
            "",
            "",
            "",
            "",
            "",
            ""
           ],
           "yaxis": "y"
          }
         ],
         "name": "Income Support"
        },
        {
         "data": [
          {
           "hovertemplate": "",
           "legendgroup": "External",
           "line": {
            "color": "#00cc96",
            "dash": "solid"
           },
           "marker": {
            "symbol": "circle"
           },
           "mode": "lines",
           "name": "External",
           "orientation": "h",
           "showlegend": true,
           "type": "scatter",
           "x": [
            2019,
            2020,
            2021,
            2022,
            2023,
            2024,
            2025
           ],
           "xaxis": "x",
           "y": [
            31400000,
            31700000,
            32200000,
            32707886.4,
            33223783.7,
            33747818.1,
            34280118.1
           ],
           "yaxis": "y"
          },
          {
           "hovertemplate": "",
           "legendgroup": "OpenFisca-UK",
           "line": {
            "color": "blue",
            "dash": "solid"
           },
           "marker": {
            "symbol": "circle"
           },
           "mode": "lines",
           "name": "OpenFisca-UK",
           "orientation": "h",
           "showlegend": true,
           "type": "scatter",
           "x": [
            2019,
            2020,
            2021,
            2022,
            2023,
            2024,
            2025
           ],
           "xaxis": "x",
           "y": [
            29631346.5,
            29287866.5,
            30112922.6,
            30884805.1,
            31670206.5,
            32609887.8,
            33399695.9
           ],
           "yaxis": "y"
          },
          {
           "hovertemplate": "",
           "legendgroup": "UKMOD",
           "line": {
            "color": "lightgrey",
            "dash": "solid"
           },
           "marker": {
            "symbol": "circle"
           },
           "mode": "lines",
           "name": "UKMOD",
           "orientation": "h",
           "showlegend": true,
           "type": "scatter",
           "x": [
            2019,
            2020,
            2021,
            2022,
            2023,
            2024,
            2025
           ],
           "xaxis": "x",
           "y": [
            39853000,
            29545000,
            29431000,
            30011000,
            30583000,
            30939000,
            31466000
           ],
           "yaxis": "y"
          }
         ],
         "name": "Income Tax"
        },
        {
         "data": [
          {
           "hovertemplate": "",
           "legendgroup": "External",
           "line": {
            "color": "#00cc96",
            "dash": "solid"
           },
           "marker": {
            "symbol": "circle"
           },
           "mode": "lines",
           "name": "External",
           "orientation": "h",
           "showlegend": true,
           "type": "scatter",
           "x": [
            2019,
            2020,
            2021,
            2022,
            2023,
            2024,
            2025
           ],
           "xaxis": "x",
           "y": [
            138000,
            97000,
            67000,
            44000,
            5000,
            0,
            0
           ],
           "yaxis": "y"
          },
          {
           "hovertemplate": "",
           "legendgroup": "OpenFisca-UK",
           "line": {
            "color": "blue",
            "dash": "solid"
           },
           "marker": {
            "symbol": "circle"
           },
           "mode": "lines",
           "name": "OpenFisca-UK",
           "orientation": "h",
           "showlegend": true,
           "type": "scatter",
           "x": [
            2019,
            2020,
            2021,
            2022,
            2023,
            2024,
            2025
           ],
           "xaxis": "x",
           "y": [
            118150.6,
            95348.8,
            66993.4,
            44021,
            0,
            72954.6,
            72376.7
           ],
           "yaxis": "y"
          },
          {
           "hovertemplate": "",
           "legendgroup": "UKMOD",
           "line": {
            "color": "lightgrey",
            "dash": "solid"
           },
           "marker": {
            "symbol": "circle"
           },
           "mode": "lines",
           "name": "UKMOD",
           "orientation": "h",
           "showlegend": true,
           "type": "scatter",
           "x": [
            2019,
            2020,
            2021,
            2022,
            2023,
            2024,
            2025
           ],
           "xaxis": "x",
           "y": [
            "",
            "",
            "",
            "",
            "",
            "",
            ""
           ],
           "yaxis": "y"
          }
         ],
         "name": "JSA (income-based)"
        },
        {
         "data": [
          {
           "hovertemplate": "",
           "legendgroup": "External",
           "line": {
            "color": "#00cc96",
            "dash": "solid"
           },
           "marker": {
            "symbol": "circle"
           },
           "mode": "lines",
           "name": "External",
           "orientation": "h",
           "showlegend": true,
           "type": "scatter",
           "x": [
            2019,
            2020,
            2021,
            2022,
            2023,
            2024,
            2025
           ],
           "xaxis": "x",
           "y": [
            "",
            "",
            "",
            "",
            "",
            "",
            ""
           ],
           "yaxis": "y"
          },
          {
           "hovertemplate": "",
           "legendgroup": "OpenFisca-UK",
           "line": {
            "color": "blue",
            "dash": "solid"
           },
           "marker": {
            "symbol": "circle"
           },
           "mode": "lines",
           "name": "OpenFisca-UK",
           "orientation": "h",
           "showlegend": true,
           "type": "scatter",
           "x": [
            2019,
            2020,
            2021,
            2022,
            2023,
            2024,
            2025
           ],
           "xaxis": "x",
           "y": [
            27474663.3,
            27341088.5,
            27788853.2,
            28393142.2,
            28615612.4,
            28602034.6,
            28439871.1
           ],
           "yaxis": "y"
          },
          {
           "hovertemplate": "",
           "legendgroup": "UKMOD",
           "line": {
            "color": "lightgrey",
            "dash": "solid"
           },
           "marker": {
            "symbol": "circle"
           },
           "mode": "lines",
           "name": "UKMOD",
           "orientation": "h",
           "showlegend": true,
           "type": "scatter",
           "x": [
            2019,
            2020,
            2021,
            2022,
            2023,
            2024,
            2025
           ],
           "xaxis": "x",
           "y": [
            26923000,
            20323000,
            25266000,
            26084000,
            26194000,
            26239000,
            26271000
           ],
           "yaxis": "y"
          }
         ],
         "name": "National Insurance (total)"
        },
        {
         "data": [
          {
           "hovertemplate": "",
           "legendgroup": "External",
           "line": {
            "color": "#00cc96",
            "dash": "solid"
           },
           "marker": {
            "symbol": "circle"
           },
           "mode": "lines",
           "name": "External",
           "orientation": "h",
           "showlegend": true,
           "type": "scatter",
           "x": [
            2019,
            2020,
            2021,
            2022,
            2023,
            2024,
            2025
           ],
           "xaxis": "x",
           "y": [
            1563000,
            1480000,
            1479000,
            1406000,
            1341000,
            1284000,
            1233000
           ],
           "yaxis": "y"
          },
          {
           "hovertemplate": "",
           "legendgroup": "OpenFisca-UK",
           "line": {
            "color": "blue",
            "dash": "solid"
           },
           "marker": {
            "symbol": "circle"
           },
           "mode": "lines",
           "name": "OpenFisca-UK",
           "orientation": "h",
           "showlegend": true,
           "type": "scatter",
           "x": [
            2019,
            2020,
            2021,
            2022,
            2023,
            2024,
            2025
           ],
           "xaxis": "x",
           "y": [
            1473310.7,
            1408487.2,
            1428260.8,
            1362859.2,
            1305335.3,
            1227970.4,
            1155719.8
           ],
           "yaxis": "y"
          },
          {
           "hovertemplate": "",
           "legendgroup": "UKMOD",
           "line": {
            "color": "lightgrey",
            "dash": "solid"
           },
           "marker": {
            "symbol": "circle"
           },
           "mode": "lines",
           "name": "UKMOD",
           "orientation": "h",
           "showlegend": true,
           "type": "scatter",
           "x": [
            2019,
            2020,
            2021,
            2022,
            2023,
            2024,
            2025
           ],
           "xaxis": "x",
           "y": [
            1522000,
            1546000,
            1422000,
            1413000,
            1445000,
            1442000,
            1417000
           ],
           "yaxis": "y"
          }
         ],
         "name": "Pension Credit"
        },
        {
         "data": [
          {
           "hovertemplate": "",
           "legendgroup": "External",
           "line": {
            "color": "#00cc96",
            "dash": "solid"
           },
           "marker": {
            "symbol": "circle"
           },
           "mode": "lines",
           "name": "External",
           "orientation": "h",
           "showlegend": true,
           "type": "scatter",
           "x": [
            2019,
            2020,
            2021,
            2022,
            2023,
            2024,
            2025
           ],
           "xaxis": "x",
           "y": [
            2132000,
            4052000,
            4267000,
            4649000,
            5048000,
            5605000,
            6285000
           ],
           "yaxis": "y"
          },
          {
           "hovertemplate": "",
           "legendgroup": "OpenFisca-UK",
           "line": {
            "color": "blue",
            "dash": "solid"
           },
           "marker": {
            "symbol": "circle"
           },
           "mode": "lines",
           "name": "OpenFisca-UK",
           "orientation": "h",
           "showlegend": true,
           "type": "scatter",
           "x": [
            2019,
            2020,
            2021,
            2022,
            2023,
            2024,
            2025
           ],
           "xaxis": "x",
           "y": [
            2552112.2,
            4528308.7,
            4714572.3,
            5163313.5,
            5654950.6,
            6323676.8,
            7163294.3
           ],
           "yaxis": "y"
          },
          {
           "hovertemplate": "",
           "legendgroup": "UKMOD",
           "line": {
            "color": "lightgrey",
            "dash": "solid"
           },
           "marker": {
            "symbol": "circle"
           },
           "mode": "lines",
           "name": "UKMOD",
           "orientation": "h",
           "showlegend": true,
           "type": "scatter",
           "x": [
            2019,
            2020,
            2021,
            2022,
            2023,
            2024,
            2025
           ],
           "xaxis": "x",
           "y": [
            2128000,
            3147000,
            3566000,
            4214000,
            4656000,
            5311000,
            6146000
           ],
           "yaxis": "y"
          }
         ],
         "name": "Universal Credit"
        },
        {
         "data": [
          {
           "hovertemplate": "",
           "legendgroup": "External",
           "line": {
            "color": "#00cc96",
            "dash": "solid"
           },
           "marker": {
            "symbol": "circle"
           },
           "mode": "lines",
           "name": "External",
           "orientation": "h",
           "showlegend": true,
           "type": "scatter",
           "x": [
            2019,
            2020,
            2021,
            2022,
            2023,
            2024,
            2025
           ],
           "xaxis": "x",
           "y": [
            1615000,
            1199000,
            1044000,
            909037.5,
            791522.3,
            689198.7,
            600102.9
           ],
           "yaxis": "y"
          },
          {
           "hovertemplate": "",
           "legendgroup": "OpenFisca-UK",
           "line": {
            "color": "blue",
            "dash": "solid"
           },
           "marker": {
            "symbol": "circle"
           },
           "mode": "lines",
           "name": "OpenFisca-UK",
           "orientation": "h",
           "showlegend": true,
           "type": "scatter",
           "x": [
            2019,
            2020,
            2021,
            2022,
            2023,
            2024,
            2025
           ],
           "xaxis": "x",
           "y": [
            1354189.9,
            1096402.7,
            910837.1,
            791727.1,
            669118.7,
            549867.7,
            402449.7
           ],
           "yaxis": "y"
          },
          {
           "hovertemplate": "",
           "legendgroup": "UKMOD",
           "line": {
            "color": "lightgrey",
            "dash": "solid"
           },
           "marker": {
            "symbol": "circle"
           },
           "mode": "lines",
           "name": "UKMOD",
           "orientation": "h",
           "showlegend": true,
           "type": "scatter",
           "x": [
            2019,
            2020,
            2021,
            2022,
            2023,
            2024,
            2025
           ],
           "xaxis": "x",
           "y": [
            810000,
            621000,
            664000,
            540000,
            443000,
            297000,
            129000
           ],
           "yaxis": "y"
          }
         ],
         "name": "Working Tax Credit"
        }
       ],
       "layout": {
        "height": 600,
        "legend": {
         "title": {
          "text": "Model"
         },
         "tracegroupgap": 0,
         "traceorder": "reversed"
        },
        "margin": {
         "t": 60
        },
        "sliders": [
         {
          "active": 9,
          "currentvalue": {
           "prefix": "Program="
          },
          "len": 0.9,
          "pad": {
           "b": 10,
           "t": 60
          },
          "steps": [
           {
            "args": [
             [
              "Child Benefit"
             ],
             {
              "frame": {
               "duration": 0,
               "redraw": false
              },
              "fromcurrent": true,
              "mode": "immediate",
              "transition": {
               "duration": 0,
               "easing": "linear"
              }
             }
            ],
            "label": "Child Benefit",
            "method": "animate"
           },
           {
            "args": [
             [
              "Child Tax Credit"
             ],
             {
              "frame": {
               "duration": 0,
               "redraw": false
              },
              "fromcurrent": true,
              "mode": "immediate",
              "transition": {
               "duration": 0,
               "easing": "linear"
              }
             }
            ],
            "label": "Child Tax Credit",
            "method": "animate"
           },
           {
            "args": [
             [
              "ESA (income-based)"
             ],
             {
              "frame": {
               "duration": 0,
               "redraw": false
              },
              "fromcurrent": true,
              "mode": "immediate",
              "transition": {
               "duration": 0,
               "easing": "linear"
              }
             }
            ],
            "label": "ESA (income-based)",
            "method": "animate"
           },
           {
            "args": [
             [
              "Housing Benefit"
             ],
             {
              "frame": {
               "duration": 0,
               "redraw": false
              },
              "fromcurrent": true,
              "mode": "immediate",
              "transition": {
               "duration": 0,
               "easing": "linear"
              }
             }
            ],
            "label": "Housing Benefit",
            "method": "animate"
           },
           {
            "args": [
             [
              "Income Support"
             ],
             {
              "frame": {
               "duration": 0,
               "redraw": false
              },
              "fromcurrent": true,
              "mode": "immediate",
              "transition": {
               "duration": 0,
               "easing": "linear"
              }
             }
            ],
            "label": "Income Support",
            "method": "animate"
           },
           {
            "args": [
             [
              "Income Tax"
             ],
             {
              "frame": {
               "duration": 0,
               "redraw": false
              },
              "fromcurrent": true,
              "mode": "immediate",
              "transition": {
               "duration": 0,
               "easing": "linear"
              }
             }
            ],
            "label": "Income Tax",
            "method": "animate"
           },
           {
            "args": [
             [
              "JSA (income-based)"
             ],
             {
              "frame": {
               "duration": 0,
               "redraw": false
              },
              "fromcurrent": true,
              "mode": "immediate",
              "transition": {
               "duration": 0,
               "easing": "linear"
              }
             }
            ],
            "label": "JSA (income-based)",
            "method": "animate"
           },
           {
            "args": [
             [
              "National Insurance (total)"
             ],
             {
              "frame": {
               "duration": 0,
               "redraw": false
              },
              "fromcurrent": true,
              "mode": "immediate",
              "transition": {
               "duration": 0,
               "easing": "linear"
              }
             }
            ],
            "label": "National Insurance (total)",
            "method": "animate"
           },
           {
            "args": [
             [
              "Pension Credit"
             ],
             {
              "frame": {
               "duration": 0,
               "redraw": false
              },
              "fromcurrent": true,
              "mode": "immediate",
              "transition": {
               "duration": 0,
               "easing": "linear"
              }
             }
            ],
            "label": "Pension Credit",
            "method": "animate"
           },
           {
            "args": [
             [
              "Universal Credit"
             ],
             {
              "frame": {
               "duration": 0,
               "redraw": false
              },
              "fromcurrent": true,
              "mode": "immediate",
              "transition": {
               "duration": 0,
               "easing": "linear"
              }
             }
            ],
            "label": "Universal Credit",
            "method": "animate"
           },
           {
            "args": [
             [
              "Working Tax Credit"
             ],
             {
              "frame": {
               "duration": 0,
               "redraw": false
              },
              "fromcurrent": true,
              "mode": "immediate",
              "transition": {
               "duration": 0,
               "easing": "linear"
              }
             }
            ],
            "label": "Working Tax Credit",
            "method": "animate"
           }
          ],
          "x": 0.1,
          "xanchor": "left",
          "y": 0,
          "yanchor": "top"
         }
        ],
        "template": {
         "data": {
          "bar": [
           {
            "error_x": {
             "color": "#2a3f5f"
            },
            "error_y": {
             "color": "#2a3f5f"
            },
            "marker": {
             "line": {
              "color": "white",
              "width": 0.5
             },
             "pattern": {
              "fillmode": "overlay",
              "size": 10,
              "solidity": 0.2
             }
            },
            "type": "bar"
           }
          ],
          "barpolar": [
           {
            "marker": {
             "line": {
              "color": "white",
              "width": 0.5
             },
             "pattern": {
              "fillmode": "overlay",
              "size": 10,
              "solidity": 0.2
             }
            },
            "type": "barpolar"
           }
          ],
          "carpet": [
           {
            "aaxis": {
             "endlinecolor": "#2a3f5f",
             "gridcolor": "#C8D4E3",
             "linecolor": "#C8D4E3",
             "minorgridcolor": "#C8D4E3",
             "startlinecolor": "#2a3f5f"
            },
            "baxis": {
             "endlinecolor": "#2a3f5f",
             "gridcolor": "#C8D4E3",
             "linecolor": "#C8D4E3",
             "minorgridcolor": "#C8D4E3",
             "startlinecolor": "#2a3f5f"
            },
            "type": "carpet"
           }
          ],
          "choropleth": [
           {
            "colorbar": {
             "outlinewidth": 0,
             "ticks": ""
            },
            "type": "choropleth"
           }
          ],
          "contour": [
           {
            "colorbar": {
             "outlinewidth": 0,
             "ticks": ""
            },
            "colorscale": [
             [
              0,
              "#0d0887"
             ],
             [
              0.1111111111111111,
              "#46039f"
             ],
             [
              0.2222222222222222,
              "#7201a8"
             ],
             [
              0.3333333333333333,
              "#9c179e"
             ],
             [
              0.4444444444444444,
              "#bd3786"
             ],
             [
              0.5555555555555556,
              "#d8576b"
             ],
             [
              0.6666666666666666,
              "#ed7953"
             ],
             [
              0.7777777777777778,
              "#fb9f3a"
             ],
             [
              0.8888888888888888,
              "#fdca26"
             ],
             [
              1,
              "#f0f921"
             ]
            ],
            "type": "contour"
           }
          ],
          "contourcarpet": [
           {
            "colorbar": {
             "outlinewidth": 0,
             "ticks": ""
            },
            "type": "contourcarpet"
           }
          ],
          "heatmap": [
           {
            "colorbar": {
             "outlinewidth": 0,
             "ticks": ""
            },
            "colorscale": [
             [
              0,
              "#0d0887"
             ],
             [
              0.1111111111111111,
              "#46039f"
             ],
             [
              0.2222222222222222,
              "#7201a8"
             ],
             [
              0.3333333333333333,
              "#9c179e"
             ],
             [
              0.4444444444444444,
              "#bd3786"
             ],
             [
              0.5555555555555556,
              "#d8576b"
             ],
             [
              0.6666666666666666,
              "#ed7953"
             ],
             [
              0.7777777777777778,
              "#fb9f3a"
             ],
             [
              0.8888888888888888,
              "#fdca26"
             ],
             [
              1,
              "#f0f921"
             ]
            ],
            "type": "heatmap"
           }
          ],
          "heatmapgl": [
           {
            "colorbar": {
             "outlinewidth": 0,
             "ticks": ""
            },
            "colorscale": [
             [
              0,
              "#0d0887"
             ],
             [
              0.1111111111111111,
              "#46039f"
             ],
             [
              0.2222222222222222,
              "#7201a8"
             ],
             [
              0.3333333333333333,
              "#9c179e"
             ],
             [
              0.4444444444444444,
              "#bd3786"
             ],
             [
              0.5555555555555556,
              "#d8576b"
             ],
             [
              0.6666666666666666,
              "#ed7953"
             ],
             [
              0.7777777777777778,
              "#fb9f3a"
             ],
             [
              0.8888888888888888,
              "#fdca26"
             ],
             [
              1,
              "#f0f921"
             ]
            ],
            "type": "heatmapgl"
           }
          ],
          "histogram": [
           {
            "marker": {
             "pattern": {
              "fillmode": "overlay",
              "size": 10,
              "solidity": 0.2
             }
            },
            "type": "histogram"
           }
          ],
          "histogram2d": [
           {
            "colorbar": {
             "outlinewidth": 0,
             "ticks": ""
            },
            "colorscale": [
             [
              0,
              "#0d0887"
             ],
             [
              0.1111111111111111,
              "#46039f"
             ],
             [
              0.2222222222222222,
              "#7201a8"
             ],
             [
              0.3333333333333333,
              "#9c179e"
             ],
             [
              0.4444444444444444,
              "#bd3786"
             ],
             [
              0.5555555555555556,
              "#d8576b"
             ],
             [
              0.6666666666666666,
              "#ed7953"
             ],
             [
              0.7777777777777778,
              "#fb9f3a"
             ],
             [
              0.8888888888888888,
              "#fdca26"
             ],
             [
              1,
              "#f0f921"
             ]
            ],
            "type": "histogram2d"
           }
          ],
          "histogram2dcontour": [
           {
            "colorbar": {
             "outlinewidth": 0,
             "ticks": ""
            },
            "colorscale": [
             [
              0,
              "#0d0887"
             ],
             [
              0.1111111111111111,
              "#46039f"
             ],
             [
              0.2222222222222222,
              "#7201a8"
             ],
             [
              0.3333333333333333,
              "#9c179e"
             ],
             [
              0.4444444444444444,
              "#bd3786"
             ],
             [
              0.5555555555555556,
              "#d8576b"
             ],
             [
              0.6666666666666666,
              "#ed7953"
             ],
             [
              0.7777777777777778,
              "#fb9f3a"
             ],
             [
              0.8888888888888888,
              "#fdca26"
             ],
             [
              1,
              "#f0f921"
             ]
            ],
            "type": "histogram2dcontour"
           }
          ],
          "mesh3d": [
           {
            "colorbar": {
             "outlinewidth": 0,
             "ticks": ""
            },
            "type": "mesh3d"
           }
          ],
          "parcoords": [
           {
            "line": {
             "colorbar": {
              "outlinewidth": 0,
              "ticks": ""
             }
            },
            "type": "parcoords"
           }
          ],
          "pie": [
           {
            "automargin": true,
            "type": "pie"
           }
          ],
          "scatter": [
           {
            "marker": {
             "colorbar": {
              "outlinewidth": 0,
              "ticks": ""
             }
            },
            "type": "scatter"
           }
          ],
          "scatter3d": [
           {
            "line": {
             "colorbar": {
              "outlinewidth": 0,
              "ticks": ""
             }
            },
            "marker": {
             "colorbar": {
              "outlinewidth": 0,
              "ticks": ""
             }
            },
            "type": "scatter3d"
           }
          ],
          "scattercarpet": [
           {
            "marker": {
             "colorbar": {
              "outlinewidth": 0,
              "ticks": ""
             }
            },
            "type": "scattercarpet"
           }
          ],
          "scattergeo": [
           {
            "marker": {
             "colorbar": {
              "outlinewidth": 0,
              "ticks": ""
             }
            },
            "type": "scattergeo"
           }
          ],
          "scattergl": [
           {
            "marker": {
             "colorbar": {
              "outlinewidth": 0,
              "ticks": ""
             }
            },
            "type": "scattergl"
           }
          ],
          "scattermapbox": [
           {
            "marker": {
             "colorbar": {
              "outlinewidth": 0,
              "ticks": ""
             }
            },
            "type": "scattermapbox"
           }
          ],
          "scatterpolar": [
           {
            "marker": {
             "colorbar": {
              "outlinewidth": 0,
              "ticks": ""
             }
            },
            "type": "scatterpolar"
           }
          ],
          "scatterpolargl": [
           {
            "marker": {
             "colorbar": {
              "outlinewidth": 0,
              "ticks": ""
             }
            },
            "type": "scatterpolargl"
           }
          ],
          "scatterternary": [
           {
            "marker": {
             "colorbar": {
              "outlinewidth": 0,
              "ticks": ""
             }
            },
            "type": "scatterternary"
           }
          ],
          "surface": [
           {
            "colorbar": {
             "outlinewidth": 0,
             "ticks": ""
            },
            "colorscale": [
             [
              0,
              "#0d0887"
             ],
             [
              0.1111111111111111,
              "#46039f"
             ],
             [
              0.2222222222222222,
              "#7201a8"
             ],
             [
              0.3333333333333333,
              "#9c179e"
             ],
             [
              0.4444444444444444,
              "#bd3786"
             ],
             [
              0.5555555555555556,
              "#d8576b"
             ],
             [
              0.6666666666666666,
              "#ed7953"
             ],
             [
              0.7777777777777778,
              "#fb9f3a"
             ],
             [
              0.8888888888888888,
              "#fdca26"
             ],
             [
              1,
              "#f0f921"
             ]
            ],
            "type": "surface"
           }
          ],
          "table": [
           {
            "cells": {
             "fill": {
              "color": "#EBF0F8"
             },
             "line": {
              "color": "white"
             }
            },
            "header": {
             "fill": {
              "color": "#C8D4E3"
             },
             "line": {
              "color": "white"
             }
            },
            "type": "table"
           }
          ]
         },
         "layout": {
          "annotationdefaults": {
           "arrowcolor": "#2a3f5f",
           "arrowhead": 0,
           "arrowwidth": 1
          },
          "autotypenumbers": "strict",
          "coloraxis": {
           "colorbar": {
            "outlinewidth": 0,
            "ticks": ""
           }
          },
          "colorscale": {
           "diverging": [
            [
             0,
             "#8e0152"
            ],
            [
             0.1,
             "#c51b7d"
            ],
            [
             0.2,
             "#de77ae"
            ],
            [
             0.3,
             "#f1b6da"
            ],
            [
             0.4,
             "#fde0ef"
            ],
            [
             0.5,
             "#f7f7f7"
            ],
            [
             0.6,
             "#e6f5d0"
            ],
            [
             0.7,
             "#b8e186"
            ],
            [
             0.8,
             "#7fbc41"
            ],
            [
             0.9,
             "#4d9221"
            ],
            [
             1,
             "#276419"
            ]
           ],
           "sequential": [
            [
             0,
             "#0d0887"
            ],
            [
             0.1111111111111111,
             "#46039f"
            ],
            [
             0.2222222222222222,
             "#7201a8"
            ],
            [
             0.3333333333333333,
             "#9c179e"
            ],
            [
             0.4444444444444444,
             "#bd3786"
            ],
            [
             0.5555555555555556,
             "#d8576b"
            ],
            [
             0.6666666666666666,
             "#ed7953"
            ],
            [
             0.7777777777777778,
             "#fb9f3a"
            ],
            [
             0.8888888888888888,
             "#fdca26"
            ],
            [
             1,
             "#f0f921"
            ]
           ],
           "sequentialminus": [
            [
             0,
             "#0d0887"
            ],
            [
             0.1111111111111111,
             "#46039f"
            ],
            [
             0.2222222222222222,
             "#7201a8"
            ],
            [
             0.3333333333333333,
             "#9c179e"
            ],
            [
             0.4444444444444444,
             "#bd3786"
            ],
            [
             0.5555555555555556,
             "#d8576b"
            ],
            [
             0.6666666666666666,
             "#ed7953"
            ],
            [
             0.7777777777777778,
             "#fb9f3a"
            ],
            [
             0.8888888888888888,
             "#fdca26"
            ],
            [
             1,
             "#f0f921"
            ]
           ]
          },
          "colorway": [
           "#636efa",
           "#EF553B",
           "#00cc96",
           "#ab63fa",
           "#FFA15A",
           "#19d3f3",
           "#FF6692",
           "#B6E880",
           "#FF97FF",
           "#FECB52"
          ],
          "font": {
           "color": "#2a3f5f"
          },
          "geo": {
           "bgcolor": "white",
           "lakecolor": "white",
           "landcolor": "white",
           "showlakes": true,
           "showland": true,
           "subunitcolor": "#C8D4E3"
          },
          "hoverlabel": {
           "align": "left"
          },
          "hovermode": "closest",
          "mapbox": {
           "style": "light"
          },
          "paper_bgcolor": "white",
          "plot_bgcolor": "white",
          "polar": {
           "angularaxis": {
            "gridcolor": "#EBF0F8",
            "linecolor": "#EBF0F8",
            "ticks": ""
           },
           "bgcolor": "white",
           "radialaxis": {
            "gridcolor": "#EBF0F8",
            "linecolor": "#EBF0F8",
            "ticks": ""
           }
          },
          "scene": {
           "xaxis": {
            "backgroundcolor": "white",
            "gridcolor": "#DFE8F3",
            "gridwidth": 2,
            "linecolor": "#EBF0F8",
            "showbackground": true,
            "ticks": "",
            "zerolinecolor": "#EBF0F8"
           },
           "yaxis": {
            "backgroundcolor": "white",
            "gridcolor": "#DFE8F3",
            "gridwidth": 2,
            "linecolor": "#EBF0F8",
            "showbackground": true,
            "ticks": "",
            "zerolinecolor": "#EBF0F8"
           },
           "zaxis": {
            "backgroundcolor": "white",
            "gridcolor": "#DFE8F3",
            "gridwidth": 2,
            "linecolor": "#EBF0F8",
            "showbackground": true,
            "ticks": "",
            "zerolinecolor": "#EBF0F8"
           }
          },
          "shapedefaults": {
           "line": {
            "color": "#2a3f5f"
           }
          },
          "ternary": {
           "aaxis": {
            "gridcolor": "#DFE8F3",
            "linecolor": "#A2B1C6",
            "ticks": ""
           },
           "baxis": {
            "gridcolor": "#DFE8F3",
            "linecolor": "#A2B1C6",
            "ticks": ""
           },
           "bgcolor": "white",
           "caxis": {
            "gridcolor": "#DFE8F3",
            "linecolor": "#A2B1C6",
            "ticks": ""
           }
          },
          "title": {
           "x": 0.05
          },
          "xaxis": {
           "automargin": true,
           "gridcolor": "#EBF0F8",
           "linecolor": "#EBF0F8",
           "ticks": "",
           "title": {
            "standoff": 15
           },
           "zerolinecolor": "#EBF0F8",
           "zerolinewidth": 2
          },
          "yaxis": {
           "automargin": true,
           "gridcolor": "#EBF0F8",
           "linecolor": "#EBF0F8",
           "ticks": "",
           "title": {
            "standoff": 15
           },
           "zerolinecolor": "#EBF0F8",
           "zerolinewidth": 2
          }
         }
        },
        "title": {
         "text": "Caseload forecasts"
        },
        "updatemenus": [
         {
          "buttons": [
           {
            "args": [
             null,
             {
              "frame": {
               "duration": 500,
               "redraw": false
              },
              "fromcurrent": true,
              "mode": "immediate",
              "transition": {
               "duration": 500,
               "easing": "linear"
              }
             }
            ],
            "label": "&#9654;",
            "method": "animate"
           },
           {
            "args": [
             [
              null
             ],
             {
              "frame": {
               "duration": 0,
               "redraw": false
              },
              "fromcurrent": true,
              "mode": "immediate",
              "transition": {
               "duration": 0,
               "easing": "linear"
              }
             }
            ],
            "label": "&#9724;",
            "method": "animate"
           }
          ],
          "direction": "left",
          "pad": {
           "r": 10,
           "t": 70
          },
          "showactive": false,
          "type": "buttons",
          "x": 0.1,
          "xanchor": "right",
          "y": 0,
          "yanchor": "top"
         }
        ],
        "width": 800,
        "xaxis": {
         "anchor": "y",
         "autorange": true,
         "domain": [
          0,
          1
         ],
         "range": [
          2019,
          2025
         ],
         "title": {
          "text": "Year"
         },
         "type": "linear"
        },
        "yaxis": {
         "anchor": "x",
         "domain": [
          0,
          1
         ],
         "range": [
          0,
          10000000
         ],
         "tickprefix": "",
         "title": {
          "text": ""
         },
         "type": "linear"
        }
       }
      },
      "image/png": "[encoded data removed]",
      "text/html": [
       "<div>                            <div id=\"c599d674-21a4-4ce2-934b-089dbf471ac5\" class=\"plotly-graph-div\" style=\"height:600px; width:800px;\"></div>            <script type=\"text/javascript\">                require([\"plotly\"], function(Plotly) {                    window.PLOTLYENV=window.PLOTLYENV || {};                                    if (document.getElementById(\"c599d674-21a4-4ce2-934b-089dbf471ac5\")) {                    Plotly.newPlot(                        \"c599d674-21a4-4ce2-934b-089dbf471ac5\",                        [{\"hovertemplate\":\"\",\"legendgroup\":\"External\",\"line\":{\"color\":\"#00cc96\",\"dash\":\"solid\"},\"marker\":{\"symbol\":\"circle\"},\"mode\":\"lines\",\"name\":\"External\",\"orientation\":\"h\",\"showlegend\":true,\"type\":\"scatter\",\"x\":[2019,2020,2021,2022,2023,2024,2025],\"xaxis\":\"x\",\"y\":[7281535.0,7210595.0,7140346.1,7070781.7,7001894.9,6933679.3,6866128.3],\"yaxis\":\"y\"},{\"hovertemplate\":\"\",\"legendgroup\":\"OpenFisca-UK\",\"line\":{\"color\":\"blue\",\"dash\":\"solid\"},\"marker\":{\"symbol\":\"circle\"},\"mode\":\"lines\",\"name\":\"OpenFisca-UK\",\"orientation\":\"h\",\"showlegend\":true,\"type\":\"scatter\",\"x\":[2019,2020,2021,2022,2023,2024,2025],\"xaxis\":\"x\",\"y\":[6882170.5,6743175.4,6669150.0,6627965.8,6588290.8,6549568.5,6506090.8],\"yaxis\":\"y\"},{\"hovertemplate\":\"\",\"legendgroup\":\"UKMOD\",\"line\":{\"color\":\"lightgrey\",\"dash\":\"solid\"},\"marker\":{\"symbol\":\"circle\"},\"mode\":\"lines\",\"name\":\"UKMOD\",\"orientation\":\"h\",\"showlegend\":true,\"type\":\"scatter\",\"x\":[2019,2020,2021,2022,2023,2024,2025],\"xaxis\":\"x\",\"y\":[7102000.0,7094000.0,7159000.0,7116000.0,7072000.0,7022000.0,6990000.0],\"yaxis\":\"y\"}],                        {\"height\":600,\"legend\":{\"title\":{\"text\":\"Model\"},\"tracegroupgap\":0,\"traceorder\":\"reversed\"},\"margin\":{\"t\":60},\"sliders\":[{\"active\":0,\"currentvalue\":{\"prefix\":\"Program=\"},\"len\":0.9,\"pad\":{\"b\":10,\"t\":60},\"steps\":[{\"args\":[[\"Child Benefit\"],{\"frame\":{\"duration\":0,\"redraw\":false},\"fromcurrent\":true,\"mode\":\"immediate\",\"transition\":{\"duration\":0,\"easing\":\"linear\"}}],\"label\":\"Child Benefit\",\"method\":\"animate\"},{\"args\":[[\"Child Tax Credit\"],{\"frame\":{\"duration\":0,\"redraw\":false},\"fromcurrent\":true,\"mode\":\"immediate\",\"transition\":{\"duration\":0,\"easing\":\"linear\"}}],\"label\":\"Child Tax Credit\",\"method\":\"animate\"},{\"args\":[[\"ESA (income-based)\"],{\"frame\":{\"duration\":0,\"redraw\":false},\"fromcurrent\":true,\"mode\":\"immediate\",\"transition\":{\"duration\":0,\"easing\":\"linear\"}}],\"label\":\"ESA (income-based)\",\"method\":\"animate\"},{\"args\":[[\"Housing Benefit\"],{\"frame\":{\"duration\":0,\"redraw\":false},\"fromcurrent\":true,\"mode\":\"immediate\",\"transition\":{\"duration\":0,\"easing\":\"linear\"}}],\"label\":\"Housing Benefit\",\"method\":\"animate\"},{\"args\":[[\"Income Support\"],{\"frame\":{\"duration\":0,\"redraw\":false},\"fromcurrent\":true,\"mode\":\"immediate\",\"transition\":{\"duration\":0,\"easing\":\"linear\"}}],\"label\":\"Income Support\",\"method\":\"animate\"},{\"args\":[[\"Income Tax\"],{\"frame\":{\"duration\":0,\"redraw\":false},\"fromcurrent\":true,\"mode\":\"immediate\",\"transition\":{\"duration\":0,\"easing\":\"linear\"}}],\"label\":\"Income Tax\",\"method\":\"animate\"},{\"args\":[[\"JSA (income-based)\"],{\"frame\":{\"duration\":0,\"redraw\":false},\"fromcurrent\":true,\"mode\":\"immediate\",\"transition\":{\"duration\":0,\"easing\":\"linear\"}}],\"label\":\"JSA (income-based)\",\"method\":\"animate\"},{\"args\":[[\"National Insurance (total)\"],{\"frame\":{\"duration\":0,\"redraw\":false},\"fromcurrent\":true,\"mode\":\"immediate\",\"transition\":{\"duration\":0,\"easing\":\"linear\"}}],\"label\":\"National Insurance (total)\",\"method\":\"animate\"},{\"args\":[[\"Pension Credit\"],{\"frame\":{\"duration\":0,\"redraw\":false},\"fromcurrent\":true,\"mode\":\"immediate\",\"transition\":{\"duration\":0,\"easing\":\"linear\"}}],\"label\":\"Pension Credit\",\"method\":\"animate\"},{\"args\":[[\"Universal Credit\"],{\"frame\":{\"duration\":0,\"redraw\":false},\"fromcurrent\":true,\"mode\":\"immediate\",\"transition\":{\"duration\":0,\"easing\":\"linear\"}}],\"label\":\"Universal Credit\",\"method\":\"animate\"},{\"args\":[[\"Working Tax Credit\"],{\"frame\":{\"duration\":0,\"redraw\":false},\"fromcurrent\":true,\"mode\":\"immediate\",\"transition\":{\"duration\":0,\"easing\":\"linear\"}}],\"label\":\"Working Tax Credit\",\"method\":\"animate\"}],\"x\":0.1,\"xanchor\":\"left\",\"y\":0,\"yanchor\":\"top\"}],\"template\":{\"data\":{\"bar\":[{\"error_x\":{\"color\":\"#2a3f5f\"},\"error_y\":{\"color\":\"#2a3f5f\"},\"marker\":{\"line\":{\"color\":\"white\",\"width\":0.5},\"pattern\":{\"fillmode\":\"overlay\",\"size\":10,\"solidity\":0.2}},\"type\":\"bar\"}],\"barpolar\":[{\"marker\":{\"line\":{\"color\":\"white\",\"width\":0.5},\"pattern\":{\"fillmode\":\"overlay\",\"size\":10,\"solidity\":0.2}},\"type\":\"barpolar\"}],\"carpet\":[{\"aaxis\":{\"endlinecolor\":\"#2a3f5f\",\"gridcolor\":\"#C8D4E3\",\"linecolor\":\"#C8D4E3\",\"minorgridcolor\":\"#C8D4E3\",\"startlinecolor\":\"#2a3f5f\"},\"baxis\":{\"endlinecolor\":\"#2a3f5f\",\"gridcolor\":\"#C8D4E3\",\"linecolor\":\"#C8D4E3\",\"minorgridcolor\":\"#C8D4E3\",\"startlinecolor\":\"#2a3f5f\"},\"type\":\"carpet\"}],\"choropleth\":[{\"colorbar\":{\"outlinewidth\":0,\"ticks\":\"\"},\"type\":\"choropleth\"}],\"contour\":[{\"colorbar\":{\"outlinewidth\":0,\"ticks\":\"\"},\"colorscale\":[[0.0,\"#0d0887\"],[0.1111111111111111,\"#46039f\"],[0.2222222222222222,\"#7201a8\"],[0.3333333333333333,\"#9c179e\"],[0.4444444444444444,\"#bd3786\"],[0.5555555555555556,\"#d8576b\"],[0.6666666666666666,\"#ed7953\"],[0.7777777777777778,\"#fb9f3a\"],[0.8888888888888888,\"#fdca26\"],[1.0,\"#f0f921\"]],\"type\":\"contour\"}],\"contourcarpet\":[{\"colorbar\":{\"outlinewidth\":0,\"ticks\":\"\"},\"type\":\"contourcarpet\"}],\"heatmap\":[{\"colorbar\":{\"outlinewidth\":0,\"ticks\":\"\"},\"colorscale\":[[0.0,\"#0d0887\"],[0.1111111111111111,\"#46039f\"],[0.2222222222222222,\"#7201a8\"],[0.3333333333333333,\"#9c179e\"],[0.4444444444444444,\"#bd3786\"],[0.5555555555555556,\"#d8576b\"],[0.6666666666666666,\"#ed7953\"],[0.7777777777777778,\"#fb9f3a\"],[0.8888888888888888,\"#fdca26\"],[1.0,\"#f0f921\"]],\"type\":\"heatmap\"}],\"heatmapgl\":[{\"colorbar\":{\"outlinewidth\":0,\"ticks\":\"\"},\"colorscale\":[[0.0,\"#0d0887\"],[0.1111111111111111,\"#46039f\"],[0.2222222222222222,\"#7201a8\"],[0.3333333333333333,\"#9c179e\"],[0.4444444444444444,\"#bd3786\"],[0.5555555555555556,\"#d8576b\"],[0.6666666666666666,\"#ed7953\"],[0.7777777777777778,\"#fb9f3a\"],[0.8888888888888888,\"#fdca26\"],[1.0,\"#f0f921\"]],\"type\":\"heatmapgl\"}],\"histogram\":[{\"marker\":{\"pattern\":{\"fillmode\":\"overlay\",\"size\":10,\"solidity\":0.2}},\"type\":\"histogram\"}],\"histogram2d\":[{\"colorbar\":{\"outlinewidth\":0,\"ticks\":\"\"},\"colorscale\":[[0.0,\"#0d0887\"],[0.1111111111111111,\"#46039f\"],[0.2222222222222222,\"#7201a8\"],[0.3333333333333333,\"#9c179e\"],[0.4444444444444444,\"#bd3786\"],[0.5555555555555556,\"#d8576b\"],[0.6666666666666666,\"#ed7953\"],[0.7777777777777778,\"#fb9f3a\"],[0.8888888888888888,\"#fdca26\"],[1.0,\"#f0f921\"]],\"type\":\"histogram2d\"}],\"histogram2dcontour\":[{\"colorbar\":{\"outlinewidth\":0,\"ticks\":\"\"},\"colorscale\":[[0.0,\"#0d0887\"],[0.1111111111111111,\"#46039f\"],[0.2222222222222222,\"#7201a8\"],[0.3333333333333333,\"#9c179e\"],[0.4444444444444444,\"#bd3786\"],[0.5555555555555556,\"#d8576b\"],[0.6666666666666666,\"#ed7953\"],[0.7777777777777778,\"#fb9f3a\"],[0.8888888888888888,\"#fdca26\"],[1.0,\"#f0f921\"]],\"type\":\"histogram2dcontour\"}],\"mesh3d\":[{\"colorbar\":{\"outlinewidth\":0,\"ticks\":\"\"},\"type\":\"mesh3d\"}],\"parcoords\":[{\"line\":{\"colorbar\":{\"outlinewidth\":0,\"ticks\":\"\"}},\"type\":\"parcoords\"}],\"pie\":[{\"automargin\":true,\"type\":\"pie\"}],\"scatter\":[{\"marker\":{\"colorbar\":{\"outlinewidth\":0,\"ticks\":\"\"}},\"type\":\"scatter\"}],\"scatter3d\":[{\"line\":{\"colorbar\":{\"outlinewidth\":0,\"ticks\":\"\"}},\"marker\":{\"colorbar\":{\"outlinewidth\":0,\"ticks\":\"\"}},\"type\":\"scatter3d\"}],\"scattercarpet\":[{\"marker\":{\"colorbar\":{\"outlinewidth\":0,\"ticks\":\"\"}},\"type\":\"scattercarpet\"}],\"scattergeo\":[{\"marker\":{\"colorbar\":{\"outlinewidth\":0,\"ticks\":\"\"}},\"type\":\"scattergeo\"}],\"scattergl\":[{\"marker\":{\"colorbar\":{\"outlinewidth\":0,\"ticks\":\"\"}},\"type\":\"scattergl\"}],\"scattermapbox\":[{\"marker\":{\"colorbar\":{\"outlinewidth\":0,\"ticks\":\"\"}},\"type\":\"scattermapbox\"}],\"scatterpolar\":[{\"marker\":{\"colorbar\":{\"outlinewidth\":0,\"ticks\":\"\"}},\"type\":\"scatterpolar\"}],\"scatterpolargl\":[{\"marker\":{\"colorbar\":{\"outlinewidth\":0,\"ticks\":\"\"}},\"type\":\"scatterpolargl\"}],\"scatterternary\":[{\"marker\":{\"colorbar\":{\"outlinewidth\":0,\"ticks\":\"\"}},\"type\":\"scatterternary\"}],\"surface\":[{\"colorbar\":{\"outlinewidth\":0,\"ticks\":\"\"},\"colorscale\":[[0.0,\"#0d0887\"],[0.1111111111111111,\"#46039f\"],[0.2222222222222222,\"#7201a8\"],[0.3333333333333333,\"#9c179e\"],[0.4444444444444444,\"#bd3786\"],[0.5555555555555556,\"#d8576b\"],[0.6666666666666666,\"#ed7953\"],[0.7777777777777778,\"#fb9f3a\"],[0.8888888888888888,\"#fdca26\"],[1.0,\"#f0f921\"]],\"type\":\"surface\"}],\"table\":[{\"cells\":{\"fill\":{\"color\":\"#EBF0F8\"},\"line\":{\"color\":\"white\"}},\"header\":{\"fill\":{\"color\":\"#C8D4E3\"},\"line\":{\"color\":\"white\"}},\"type\":\"table\"}]},\"layout\":{\"annotationdefaults\":{\"arrowcolor\":\"#2a3f5f\",\"arrowhead\":0,\"arrowwidth\":1},\"autotypenumbers\":\"strict\",\"coloraxis\":{\"colorbar\":{\"outlinewidth\":0,\"ticks\":\"\"}},\"colorscale\":{\"diverging\":[[0,\"#8e0152\"],[0.1,\"#c51b7d\"],[0.2,\"#de77ae\"],[0.3,\"#f1b6da\"],[0.4,\"#fde0ef\"],[0.5,\"#f7f7f7\"],[0.6,\"#e6f5d0\"],[0.7,\"#b8e186\"],[0.8,\"#7fbc41\"],[0.9,\"#4d9221\"],[1,\"#276419\"]],\"sequential\":[[0.0,\"#0d0887\"],[0.1111111111111111,\"#46039f\"],[0.2222222222222222,\"#7201a8\"],[0.3333333333333333,\"#9c179e\"],[0.4444444444444444,\"#bd3786\"],[0.5555555555555556,\"#d8576b\"],[0.6666666666666666,\"#ed7953\"],[0.7777777777777778,\"#fb9f3a\"],[0.8888888888888888,\"#fdca26\"],[1.0,\"#f0f921\"]],\"sequentialminus\":[[0.0,\"#0d0887\"],[0.1111111111111111,\"#46039f\"],[0.2222222222222222,\"#7201a8\"],[0.3333333333333333,\"#9c179e\"],[0.4444444444444444,\"#bd3786\"],[0.5555555555555556,\"#d8576b\"],[0.6666666666666666,\"#ed7953\"],[0.7777777777777778,\"#fb9f3a\"],[0.8888888888888888,\"#fdca26\"],[1.0,\"#f0f921\"]]},\"colorway\":[\"#636efa\",\"#EF553B\",\"#00cc96\",\"#ab63fa\",\"#FFA15A\",\"#19d3f3\",\"#FF6692\",\"#B6E880\",\"#FF97FF\",\"#FECB52\"],\"font\":{\"color\":\"#2a3f5f\"},\"geo\":{\"bgcolor\":\"white\",\"lakecolor\":\"white\",\"landcolor\":\"white\",\"showlakes\":true,\"showland\":true,\"subunitcolor\":\"#C8D4E3\"},\"hoverlabel\":{\"align\":\"left\"},\"hovermode\":\"closest\",\"mapbox\":{\"style\":\"light\"},\"paper_bgcolor\":\"white\",\"plot_bgcolor\":\"white\",\"polar\":{\"angularaxis\":{\"gridcolor\":\"#EBF0F8\",\"linecolor\":\"#EBF0F8\",\"ticks\":\"\"},\"bgcolor\":\"white\",\"radialaxis\":{\"gridcolor\":\"#EBF0F8\",\"linecolor\":\"#EBF0F8\",\"ticks\":\"\"}},\"scene\":{\"xaxis\":{\"backgroundcolor\":\"white\",\"gridcolor\":\"#DFE8F3\",\"gridwidth\":2,\"linecolor\":\"#EBF0F8\",\"showbackground\":true,\"ticks\":\"\",\"zerolinecolor\":\"#EBF0F8\"},\"yaxis\":{\"backgroundcolor\":\"white\",\"gridcolor\":\"#DFE8F3\",\"gridwidth\":2,\"linecolor\":\"#EBF0F8\",\"showbackground\":true,\"ticks\":\"\",\"zerolinecolor\":\"#EBF0F8\"},\"zaxis\":{\"backgroundcolor\":\"white\",\"gridcolor\":\"#DFE8F3\",\"gridwidth\":2,\"linecolor\":\"#EBF0F8\",\"showbackground\":true,\"ticks\":\"\",\"zerolinecolor\":\"#EBF0F8\"}},\"shapedefaults\":{\"line\":{\"color\":\"#2a3f5f\"}},\"ternary\":{\"aaxis\":{\"gridcolor\":\"#DFE8F3\",\"linecolor\":\"#A2B1C6\",\"ticks\":\"\"},\"baxis\":{\"gridcolor\":\"#DFE8F3\",\"linecolor\":\"#A2B1C6\",\"ticks\":\"\"},\"bgcolor\":\"white\",\"caxis\":{\"gridcolor\":\"#DFE8F3\",\"linecolor\":\"#A2B1C6\",\"ticks\":\"\"}},\"title\":{\"x\":0.05},\"xaxis\":{\"automargin\":true,\"gridcolor\":\"#EBF0F8\",\"linecolor\":\"#EBF0F8\",\"ticks\":\"\",\"title\":{\"standoff\":15},\"zerolinecolor\":\"#EBF0F8\",\"zerolinewidth\":2},\"yaxis\":{\"automargin\":true,\"gridcolor\":\"#EBF0F8\",\"linecolor\":\"#EBF0F8\",\"ticks\":\"\",\"title\":{\"standoff\":15},\"zerolinecolor\":\"#EBF0F8\",\"zerolinewidth\":2}}},\"title\":{\"text\":\"Caseload forecasts\"},\"updatemenus\":[{\"buttons\":[{\"args\":[null,{\"frame\":{\"duration\":500,\"redraw\":false},\"fromcurrent\":true,\"mode\":\"immediate\",\"transition\":{\"duration\":500,\"easing\":\"linear\"}}],\"label\":\"&#9654;\",\"method\":\"animate\"},{\"args\":[[null],{\"frame\":{\"duration\":0,\"redraw\":false},\"fromcurrent\":true,\"mode\":\"immediate\",\"transition\":{\"duration\":0,\"easing\":\"linear\"}}],\"label\":\"&#9724;\",\"method\":\"animate\"}],\"direction\":\"left\",\"pad\":{\"r\":10,\"t\":70},\"showactive\":false,\"type\":\"buttons\",\"x\":0.1,\"xanchor\":\"right\",\"y\":0,\"yanchor\":\"top\"}],\"width\":800,\"xaxis\":{\"anchor\":\"y\",\"domain\":[0.0,1.0],\"title\":{\"text\":\"Year\"}},\"yaxis\":{\"anchor\":\"x\",\"domain\":[0.0,1.0],\"range\":[0,10000000.0],\"tickprefix\":\"\",\"title\":{\"text\":\"\"}}},                        {\"responsive\": true}                    ).then(function(){\n",
       "                            Plotly.addFrames('c599d674-21a4-4ce2-934b-089dbf471ac5', [{\"data\":[{\"hovertemplate\":\"\",\"legendgroup\":\"External\",\"line\":{\"color\":\"#00cc96\",\"dash\":\"solid\"},\"marker\":{\"symbol\":\"circle\"},\"mode\":\"lines\",\"name\":\"External\",\"orientation\":\"h\",\"showlegend\":true,\"type\":\"scatter\",\"x\":[2019,2020,2021,2022,2023,2024,2025],\"xaxis\":\"x\",\"y\":[7281535.0,7210595.0,7140346.1,7070781.7,7001894.9,6933679.3,6866128.3],\"yaxis\":\"y\"},{\"hovertemplate\":\"\",\"legendgroup\":\"OpenFisca-UK\",\"line\":{\"color\":\"blue\",\"dash\":\"solid\"},\"marker\":{\"symbol\":\"circle\"},\"mode\":\"lines\",\"name\":\"OpenFisca-UK\",\"orientation\":\"h\",\"showlegend\":true,\"type\":\"scatter\",\"x\":[2019,2020,2021,2022,2023,2024,2025],\"xaxis\":\"x\",\"y\":[6882170.5,6743175.4,6669150.0,6627965.8,6588290.8,6549568.5,6506090.8],\"yaxis\":\"y\"},{\"hovertemplate\":\"\",\"legendgroup\":\"UKMOD\",\"line\":{\"color\":\"lightgrey\",\"dash\":\"solid\"},\"marker\":{\"symbol\":\"circle\"},\"mode\":\"lines\",\"name\":\"UKMOD\",\"orientation\":\"h\",\"showlegend\":true,\"type\":\"scatter\",\"x\":[2019,2020,2021,2022,2023,2024,2025],\"xaxis\":\"x\",\"y\":[7102000.0,7094000.0,7159000.0,7116000.0,7072000.0,7022000.0,6990000.0],\"yaxis\":\"y\"}],\"name\":\"Child Benefit\"},{\"data\":[{\"hovertemplate\":\"\",\"legendgroup\":\"External\",\"line\":{\"color\":\"#00cc96\",\"dash\":\"solid\"},\"marker\":{\"symbol\":\"circle\"},\"mode\":\"lines\",\"name\":\"External\",\"orientation\":\"h\",\"showlegend\":true,\"type\":\"scatter\",\"x\":[2019,2020,2021,2022,2023,2024,2025],\"xaxis\":\"x\",\"y\":[2835000.0,2125000.0,1686000.0,1337692.2,1061340.8,842080.2,668116.4],\"yaxis\":\"y\"},{\"hovertemplate\":\"\",\"legendgroup\":\"OpenFisca-UK\",\"line\":{\"color\":\"blue\",\"dash\":\"solid\"},\"marker\":{\"symbol\":\"circle\"},\"mode\":\"lines\",\"name\":\"OpenFisca-UK\",\"orientation\":\"h\",\"showlegend\":true,\"type\":\"scatter\",\"x\":[2019,2020,2021,2022,2023,2024,2025],\"xaxis\":\"x\",\"y\":[2470538.6,2088581.7,1656177.0,1326944.1,1045578.6,798287.2,562679.4],\"yaxis\":\"y\"},{\"hovertemplate\":\"\",\"legendgroup\":\"UKMOD\",\"line\":{\"color\":\"lightgrey\",\"dash\":\"solid\"},\"marker\":{\"symbol\":\"circle\"},\"mode\":\"lines\",\"name\":\"UKMOD\",\"orientation\":\"h\",\"showlegend\":true,\"type\":\"scatter\",\"x\":[2019,2020,2021,2022,2023,2024,2025],\"xaxis\":\"x\",\"y\":[1737000.0,1480000.0,1312000.0,1080000.0,890000.0,643000.0,292000.0],\"yaxis\":\"y\"}],\"name\":\"Child Tax Credit\"},{\"data\":[{\"hovertemplate\":\"\",\"legendgroup\":\"External\",\"line\":{\"color\":\"#00cc96\",\"dash\":\"solid\"},\"marker\":{\"symbol\":\"circle\"},\"mode\":\"lines\",\"name\":\"External\",\"orientation\":\"h\",\"showlegend\":true,\"type\":\"scatter\",\"x\":[2019,2020,2021,2022,2023,2024,2025],\"xaxis\":\"x\",\"y\":[1056000.0,961000.0,395000.0,373000.0,344000.0,264000.0,132000.0],\"yaxis\":\"y\"},{\"hovertemplate\":\"\",\"legendgroup\":\"OpenFisca-UK\",\"line\":{\"color\":\"blue\",\"dash\":\"solid\"},\"marker\":{\"symbol\":\"circle\"},\"mode\":\"lines\",\"name\":\"OpenFisca-UK\",\"orientation\":\"h\",\"showlegend\":true,\"type\":\"scatter\",\"x\":[2019,2020,2021,2022,2023,2024,2025],\"xaxis\":\"x\",\"y\":[937004.7,964386.7,475150.1,452230.8,420329.3,327469.3,166147.0],\"yaxis\":\"y\"},{\"hovertemplate\":\"\",\"legendgroup\":\"UKMOD\",\"line\":{\"color\":\"lightgrey\",\"dash\":\"solid\"},\"marker\":{\"symbol\":\"circle\"},\"mode\":\"lines\",\"name\":\"UKMOD\",\"orientation\":\"h\",\"showlegend\":true,\"type\":\"scatter\",\"x\":[2019,2020,2021,2022,2023,2024,2025],\"xaxis\":\"x\",\"y\":[891000.0,793000.0,680000.0,581000.0,489000.0,342000.0,146000.0],\"yaxis\":\"y\"}],\"name\":\"ESA (income-based)\"},{\"data\":[{\"hovertemplate\":\"\",\"legendgroup\":\"External\",\"line\":{\"color\":\"#00cc96\",\"dash\":\"solid\"},\"marker\":{\"symbol\":\"circle\"},\"mode\":\"lines\",\"name\":\"External\",\"orientation\":\"h\",\"showlegend\":true,\"type\":\"scatter\",\"x\":[2019,2020,2021,2022,2023,2024,2025],\"xaxis\":\"x\",\"y\":[3394000.0,3028000.0,2923000.0,2708000.0,2459000.0,2114000.0,1726000.0],\"yaxis\":\"y\"},{\"hovertemplate\":\"\",\"legendgroup\":\"OpenFisca-UK\",\"line\":{\"color\":\"blue\",\"dash\":\"solid\"},\"marker\":{\"symbol\":\"circle\"},\"mode\":\"lines\",\"name\":\"OpenFisca-UK\",\"orientation\":\"h\",\"showlegend\":true,\"type\":\"scatter\",\"x\":[2019,2020,2021,2022,2023,2024,2025],\"xaxis\":\"x\",\"y\":[3093181.2,2908947.5,2864213.8,2714991.0,2530084.5,2230789.6,1864665.6],\"yaxis\":\"y\"},{\"hovertemplate\":\"\",\"legendgroup\":\"UKMOD\",\"line\":{\"color\":\"lightgrey\",\"dash\":\"solid\"},\"marker\":{\"symbol\":\"circle\"},\"mode\":\"lines\",\"name\":\"UKMOD\",\"orientation\":\"h\",\"showlegend\":true,\"type\":\"scatter\",\"x\":[2019,2020,2021,2022,2023,2024,2025],\"xaxis\":\"x\",\"y\":[2912000.0,2685000.0,2435000.0,2262000.0,2050000.0,1783000.0,1432000.0],\"yaxis\":\"y\"}],\"name\":\"Housing Benefit\"},{\"data\":[{\"hovertemplate\":\"\",\"legendgroup\":\"External\",\"line\":{\"color\":\"#00cc96\",\"dash\":\"solid\"},\"marker\":{\"symbol\":\"circle\"},\"mode\":\"lines\",\"name\":\"External\",\"orientation\":\"h\",\"showlegend\":true,\"type\":\"scatter\",\"x\":[2019,2020,2021,2022,2023,2024,2025],\"xaxis\":\"x\",\"y\":[360000.0,273000.0,210000.0,157000.0,116000.0,76000.0,34000.0],\"yaxis\":\"y\"},{\"hovertemplate\":\"\",\"legendgroup\":\"OpenFisca-UK\",\"line\":{\"color\":\"blue\",\"dash\":\"solid\"},\"marker\":{\"symbol\":\"circle\"},\"mode\":\"lines\",\"name\":\"OpenFisca-UK\",\"orientation\":\"h\",\"showlegend\":true,\"type\":\"scatter\",\"x\":[2019,2020,2021,2022,2023,2024,2025],\"xaxis\":\"x\",\"y\":[319163.3,254141.4,201512.2,150468.6,110776.0,77089.1,39513.7],\"yaxis\":\"y\"},{\"hovertemplate\":\"\",\"legendgroup\":\"UKMOD\",\"line\":{\"color\":\"lightgrey\",\"dash\":\"solid\"},\"marker\":{\"symbol\":\"circle\"},\"mode\":\"lines\",\"name\":\"UKMOD\",\"orientation\":\"h\",\"showlegend\":true,\"type\":\"scatter\",\"x\":[2019,2020,2021,2022,2023,2024,2025],\"xaxis\":\"x\",\"y\":[\"\",\"\",\"\",\"\",\"\",\"\",\"\"],\"yaxis\":\"y\"}],\"name\":\"Income Support\"},{\"data\":[{\"hovertemplate\":\"\",\"legendgroup\":\"External\",\"line\":{\"color\":\"#00cc96\",\"dash\":\"solid\"},\"marker\":{\"symbol\":\"circle\"},\"mode\":\"lines\",\"name\":\"External\",\"orientation\":\"h\",\"showlegend\":true,\"type\":\"scatter\",\"x\":[2019,2020,2021,2022,2023,2024,2025],\"xaxis\":\"x\",\"y\":[31400000.0,31700000.0,32200000.0,32707886.4,33223783.7,33747818.1,34280118.1],\"yaxis\":\"y\"},{\"hovertemplate\":\"\",\"legendgroup\":\"OpenFisca-UK\",\"line\":{\"color\":\"blue\",\"dash\":\"solid\"},\"marker\":{\"symbol\":\"circle\"},\"mode\":\"lines\",\"name\":\"OpenFisca-UK\",\"orientation\":\"h\",\"showlegend\":true,\"type\":\"scatter\",\"x\":[2019,2020,2021,2022,2023,2024,2025],\"xaxis\":\"x\",\"y\":[29631346.5,29287866.5,30112922.6,30884805.1,31670206.5,32609887.8,33399695.9],\"yaxis\":\"y\"},{\"hovertemplate\":\"\",\"legendgroup\":\"UKMOD\",\"line\":{\"color\":\"lightgrey\",\"dash\":\"solid\"},\"marker\":{\"symbol\":\"circle\"},\"mode\":\"lines\",\"name\":\"UKMOD\",\"orientation\":\"h\",\"showlegend\":true,\"type\":\"scatter\",\"x\":[2019,2020,2021,2022,2023,2024,2025],\"xaxis\":\"x\",\"y\":[39853000.0,29545000.0,29431000.0,30011000.0,30583000.0,30939000.0,31466000.0],\"yaxis\":\"y\"}],\"name\":\"Income Tax\"},{\"data\":[{\"hovertemplate\":\"\",\"legendgroup\":\"External\",\"line\":{\"color\":\"#00cc96\",\"dash\":\"solid\"},\"marker\":{\"symbol\":\"circle\"},\"mode\":\"lines\",\"name\":\"External\",\"orientation\":\"h\",\"showlegend\":true,\"type\":\"scatter\",\"x\":[2019,2020,2021,2022,2023,2024,2025],\"xaxis\":\"x\",\"y\":[138000.0,97000.0,67000.0,44000.0,5000.0,0.0,0.0],\"yaxis\":\"y\"},{\"hovertemplate\":\"\",\"legendgroup\":\"OpenFisca-UK\",\"line\":{\"color\":\"blue\",\"dash\":\"solid\"},\"marker\":{\"symbol\":\"circle\"},\"mode\":\"lines\",\"name\":\"OpenFisca-UK\",\"orientation\":\"h\",\"showlegend\":true,\"type\":\"scatter\",\"x\":[2019,2020,2021,2022,2023,2024,2025],\"xaxis\":\"x\",\"y\":[118150.6,95348.8,66993.4,44021.0,0.0,72954.6,72376.7],\"yaxis\":\"y\"},{\"hovertemplate\":\"\",\"legendgroup\":\"UKMOD\",\"line\":{\"color\":\"lightgrey\",\"dash\":\"solid\"},\"marker\":{\"symbol\":\"circle\"},\"mode\":\"lines\",\"name\":\"UKMOD\",\"orientation\":\"h\",\"showlegend\":true,\"type\":\"scatter\",\"x\":[2019,2020,2021,2022,2023,2024,2025],\"xaxis\":\"x\",\"y\":[\"\",\"\",\"\",\"\",\"\",\"\",\"\"],\"yaxis\":\"y\"}],\"name\":\"JSA (income-based)\"},{\"data\":[{\"hovertemplate\":\"\",\"legendgroup\":\"External\",\"line\":{\"color\":\"#00cc96\",\"dash\":\"solid\"},\"marker\":{\"symbol\":\"circle\"},\"mode\":\"lines\",\"name\":\"External\",\"orientation\":\"h\",\"showlegend\":true,\"type\":\"scatter\",\"x\":[2019,2020,2021,2022,2023,2024,2025],\"xaxis\":\"x\",\"y\":[\"\",\"\",\"\",\"\",\"\",\"\",\"\"],\"yaxis\":\"y\"},{\"hovertemplate\":\"\",\"legendgroup\":\"OpenFisca-UK\",\"line\":{\"color\":\"blue\",\"dash\":\"solid\"},\"marker\":{\"symbol\":\"circle\"},\"mode\":\"lines\",\"name\":\"OpenFisca-UK\",\"orientation\":\"h\",\"showlegend\":true,\"type\":\"scatter\",\"x\":[2019,2020,2021,2022,2023,2024,2025],\"xaxis\":\"x\",\"y\":[27474663.3,27341088.5,27788853.2,28393142.2,28615612.4,28602034.6,28439871.1],\"yaxis\":\"y\"},{\"hovertemplate\":\"\",\"legendgroup\":\"UKMOD\",\"line\":{\"color\":\"lightgrey\",\"dash\":\"solid\"},\"marker\":{\"symbol\":\"circle\"},\"mode\":\"lines\",\"name\":\"UKMOD\",\"orientation\":\"h\",\"showlegend\":true,\"type\":\"scatter\",\"x\":[2019,2020,2021,2022,2023,2024,2025],\"xaxis\":\"x\",\"y\":[26923000.0,20323000.0,25266000.0,26084000.0,26194000.0,26239000.0,26271000.0],\"yaxis\":\"y\"}],\"name\":\"National Insurance (total)\"},{\"data\":[{\"hovertemplate\":\"\",\"legendgroup\":\"External\",\"line\":{\"color\":\"#00cc96\",\"dash\":\"solid\"},\"marker\":{\"symbol\":\"circle\"},\"mode\":\"lines\",\"name\":\"External\",\"orientation\":\"h\",\"showlegend\":true,\"type\":\"scatter\",\"x\":[2019,2020,2021,2022,2023,2024,2025],\"xaxis\":\"x\",\"y\":[1563000.0,1480000.0,1479000.0,1406000.0,1341000.0,1284000.0,1233000.0],\"yaxis\":\"y\"},{\"hovertemplate\":\"\",\"legendgroup\":\"OpenFisca-UK\",\"line\":{\"color\":\"blue\",\"dash\":\"solid\"},\"marker\":{\"symbol\":\"circle\"},\"mode\":\"lines\",\"name\":\"OpenFisca-UK\",\"orientation\":\"h\",\"showlegend\":true,\"type\":\"scatter\",\"x\":[2019,2020,2021,2022,2023,2024,2025],\"xaxis\":\"x\",\"y\":[1473310.7,1408487.2,1428260.8,1362859.2,1305335.3,1227970.4,1155719.8],\"yaxis\":\"y\"},{\"hovertemplate\":\"\",\"legendgroup\":\"UKMOD\",\"line\":{\"color\":\"lightgrey\",\"dash\":\"solid\"},\"marker\":{\"symbol\":\"circle\"},\"mode\":\"lines\",\"name\":\"UKMOD\",\"orientation\":\"h\",\"showlegend\":true,\"type\":\"scatter\",\"x\":[2019,2020,2021,2022,2023,2024,2025],\"xaxis\":\"x\",\"y\":[1522000.0,1546000.0,1422000.0,1413000.0,1445000.0,1442000.0,1417000.0],\"yaxis\":\"y\"}],\"name\":\"Pension Credit\"},{\"data\":[{\"hovertemplate\":\"\",\"legendgroup\":\"External\",\"line\":{\"color\":\"#00cc96\",\"dash\":\"solid\"},\"marker\":{\"symbol\":\"circle\"},\"mode\":\"lines\",\"name\":\"External\",\"orientation\":\"h\",\"showlegend\":true,\"type\":\"scatter\",\"x\":[2019,2020,2021,2022,2023,2024,2025],\"xaxis\":\"x\",\"y\":[2132000.0,4052000.0,4267000.0,4649000.0,5048000.0,5605000.0,6285000.0],\"yaxis\":\"y\"},{\"hovertemplate\":\"\",\"legendgroup\":\"OpenFisca-UK\",\"line\":{\"color\":\"blue\",\"dash\":\"solid\"},\"marker\":{\"symbol\":\"circle\"},\"mode\":\"lines\",\"name\":\"OpenFisca-UK\",\"orientation\":\"h\",\"showlegend\":true,\"type\":\"scatter\",\"x\":[2019,2020,2021,2022,2023,2024,2025],\"xaxis\":\"x\",\"y\":[2552112.2,4528308.7,4714572.3,5163313.5,5654950.6,6323676.8,7163294.3],\"yaxis\":\"y\"},{\"hovertemplate\":\"\",\"legendgroup\":\"UKMOD\",\"line\":{\"color\":\"lightgrey\",\"dash\":\"solid\"},\"marker\":{\"symbol\":\"circle\"},\"mode\":\"lines\",\"name\":\"UKMOD\",\"orientation\":\"h\",\"showlegend\":true,\"type\":\"scatter\",\"x\":[2019,2020,2021,2022,2023,2024,2025],\"xaxis\":\"x\",\"y\":[2128000.0,3147000.0,3566000.0,4214000.0,4656000.0,5311000.0,6146000.0],\"yaxis\":\"y\"}],\"name\":\"Universal Credit\"},{\"data\":[{\"hovertemplate\":\"\",\"legendgroup\":\"External\",\"line\":{\"color\":\"#00cc96\",\"dash\":\"solid\"},\"marker\":{\"symbol\":\"circle\"},\"mode\":\"lines\",\"name\":\"External\",\"orientation\":\"h\",\"showlegend\":true,\"type\":\"scatter\",\"x\":[2019,2020,2021,2022,2023,2024,2025],\"xaxis\":\"x\",\"y\":[1615000.0,1199000.0,1044000.0,909037.5,791522.3,689198.7,600102.9],\"yaxis\":\"y\"},{\"hovertemplate\":\"\",\"legendgroup\":\"OpenFisca-UK\",\"line\":{\"color\":\"blue\",\"dash\":\"solid\"},\"marker\":{\"symbol\":\"circle\"},\"mode\":\"lines\",\"name\":\"OpenFisca-UK\",\"orientation\":\"h\",\"showlegend\":true,\"type\":\"scatter\",\"x\":[2019,2020,2021,2022,2023,2024,2025],\"xaxis\":\"x\",\"y\":[1354189.9,1096402.7,910837.1,791727.1,669118.7,549867.7,402449.7],\"yaxis\":\"y\"},{\"hovertemplate\":\"\",\"legendgroup\":\"UKMOD\",\"line\":{\"color\":\"lightgrey\",\"dash\":\"solid\"},\"marker\":{\"symbol\":\"circle\"},\"mode\":\"lines\",\"name\":\"UKMOD\",\"orientation\":\"h\",\"showlegend\":true,\"type\":\"scatter\",\"x\":[2019,2020,2021,2022,2023,2024,2025],\"xaxis\":\"x\",\"y\":[810000.0,621000.0,664000.0,540000.0,443000.0,297000.0,129000.0],\"yaxis\":\"y\"}],\"name\":\"Working Tax Credit\"}]);\n",
       "                        }).then(function(){\n",
       "                            \n",
       "var gd = document.getElementById('c599d674-21a4-4ce2-934b-089dbf471ac5');\n",
       "var x = new MutationObserver(function (mutations, observer) {{\n",
       "        var display = window.getComputedStyle(gd).display;\n",
       "        if (!display || display === 'none') {{\n",
       "            console.log([gd, 'removed!']);\n",
       "            Plotly.purge(gd);\n",
       "            observer.disconnect();\n",
       "        }}\n",
       "}});\n",
       "\n",
       "// Listen for the removal of the full notebook cells\n",
       "var notebookContainer = gd.closest('#notebook-container');\n",
       "if (notebookContainer) {{\n",
       "    x.observe(notebookContainer, {childList: true});\n",
       "}}\n",
       "\n",
       "// Listen for the clearing of the current output cell\n",
       "var outputEl = gd.closest('.output');\n",
       "if (outputEl) {{\n",
       "    x.observe(outputEl, {childList: true});\n",
       "}}\n",
       "\n",
       "                        })                };                });            </script>        </div>"
      ]
     },
     "metadata": {},
     "output_type": "display_data"
    }
   ],
   "source": [
    "model_forecast_chart(\n",
    "    model_validation_table(\n",
    "        caseload, models=[EXTERNAL, OPENFISCA_UK, UKMOD], divisor=1, decimals=1\n",
    "    ),\n",
    "    title=\"Caseload forecasts\",\n",
    "    currency=False,\n",
    ")"
   ]
  },
  {
   "cell_type": "markdown",
   "id": "ff161a6a-52b4-4851-9c48-1aede9f8fef0",
   "metadata": {},
   "source": [
    "### Differences\n",
    "\n",
    "#### Absolute"
   ]
  },
  {
   "cell_type": "code",
   "execution_count": 9,
   "id": "89b1f1ba-7545-40e1-83b1-bf934ad6aaff",
   "metadata": {
    "tags": [
     "hide-input"
    ]
   },
   "outputs": [
    {
     "data": {
      "text/html": [
       "<div>\n",
       "<style scoped>\n",
       "    .dataframe tbody tr th:only-of-type {\n",
       "        vertical-align: middle;\n",
       "    }\n",
       "\n",
       "    .dataframe tbody tr th {\n",
       "        vertical-align: top;\n",
       "    }\n",
       "\n",
       "    .dataframe thead th {\n",
       "        text-align: right;\n",
       "    }\n",
       "</style>\n",
       "<table border=\"1\" class=\"dataframe\">\n",
       "  <thead>\n",
       "    <tr style=\"text-align: right;\">\n",
       "      <th></th>\n",
       "      <th></th>\n",
       "      <th>Child Benefit</th>\n",
       "      <th>ESA (income-based)</th>\n",
       "      <th>Income Support</th>\n",
       "      <th>JSA (income-based)</th>\n",
       "      <th>Housing Benefit</th>\n",
       "      <th>Working Tax Credit</th>\n",
       "      <th>Child Tax Credit</th>\n",
       "      <th>Universal Credit</th>\n",
       "      <th>Pension Credit</th>\n",
       "      <th>Income Tax</th>\n",
       "    </tr>\n",
       "  </thead>\n",
       "  <tbody>\n",
       "    <tr>\n",
       "      <th rowspan=\"7\" valign=\"top\">OpenFisca-UK</th>\n",
       "      <th>2019</th>\n",
       "      <td>-0.4</td>\n",
       "      <td>-0.1</td>\n",
       "      <td>-0.0</td>\n",
       "      <td>-0.0</td>\n",
       "      <td>-0.3</td>\n",
       "      <td>-0.3</td>\n",
       "      <td>-0.4</td>\n",
       "      <td>0.4</td>\n",
       "      <td>-0.1</td>\n",
       "      <td>-1.8</td>\n",
       "    </tr>\n",
       "    <tr>\n",
       "      <th>2020</th>\n",
       "      <td>-0.5</td>\n",
       "      <td>0.0</td>\n",
       "      <td>-0.0</td>\n",
       "      <td>-0.0</td>\n",
       "      <td>-0.1</td>\n",
       "      <td>-0.1</td>\n",
       "      <td>-0.0</td>\n",
       "      <td>0.5</td>\n",
       "      <td>-0.1</td>\n",
       "      <td>-2.4</td>\n",
       "    </tr>\n",
       "    <tr>\n",
       "      <th>2021</th>\n",
       "      <td>-0.5</td>\n",
       "      <td>0.1</td>\n",
       "      <td>-0.0</td>\n",
       "      <td>-0.0</td>\n",
       "      <td>-0.1</td>\n",
       "      <td>-0.1</td>\n",
       "      <td>-0.0</td>\n",
       "      <td>0.4</td>\n",
       "      <td>-0.1</td>\n",
       "      <td>-2.1</td>\n",
       "    </tr>\n",
       "    <tr>\n",
       "      <th>2022</th>\n",
       "      <td>-0.4</td>\n",
       "      <td>0.1</td>\n",
       "      <td>-0.0</td>\n",
       "      <td>0.0</td>\n",
       "      <td>0.0</td>\n",
       "      <td>-0.1</td>\n",
       "      <td>-0.0</td>\n",
       "      <td>0.5</td>\n",
       "      <td>-0.0</td>\n",
       "      <td>-1.8</td>\n",
       "    </tr>\n",
       "    <tr>\n",
       "      <th>2023</th>\n",
       "      <td>-0.4</td>\n",
       "      <td>0.1</td>\n",
       "      <td>-0.0</td>\n",
       "      <td>-0.0</td>\n",
       "      <td>0.1</td>\n",
       "      <td>-0.1</td>\n",
       "      <td>-0.0</td>\n",
       "      <td>0.6</td>\n",
       "      <td>-0.0</td>\n",
       "      <td>-1.6</td>\n",
       "    </tr>\n",
       "    <tr>\n",
       "      <th>2024</th>\n",
       "      <td>-0.4</td>\n",
       "      <td>0.1</td>\n",
       "      <td>0.0</td>\n",
       "      <td>0.1</td>\n",
       "      <td>0.1</td>\n",
       "      <td>-0.1</td>\n",
       "      <td>-0.0</td>\n",
       "      <td>0.7</td>\n",
       "      <td>-0.1</td>\n",
       "      <td>-1.1</td>\n",
       "    </tr>\n",
       "    <tr>\n",
       "      <th>2025</th>\n",
       "      <td>-0.4</td>\n",
       "      <td>0.0</td>\n",
       "      <td>0.0</td>\n",
       "      <td>0.1</td>\n",
       "      <td>0.1</td>\n",
       "      <td>-0.2</td>\n",
       "      <td>-0.1</td>\n",
       "      <td>0.9</td>\n",
       "      <td>-0.1</td>\n",
       "      <td>-0.9</td>\n",
       "    </tr>\n",
       "    <tr>\n",
       "      <th rowspan=\"7\" valign=\"top\">UKMOD</th>\n",
       "      <th>2019</th>\n",
       "      <td>-0.2</td>\n",
       "      <td>-0.2</td>\n",
       "      <td></td>\n",
       "      <td></td>\n",
       "      <td>-0.5</td>\n",
       "      <td>-0.8</td>\n",
       "      <td>-1.1</td>\n",
       "      <td>-0.0</td>\n",
       "      <td>-0.0</td>\n",
       "      <td>8.5</td>\n",
       "    </tr>\n",
       "    <tr>\n",
       "      <th>2020</th>\n",
       "      <td>-0.1</td>\n",
       "      <td>-0.2</td>\n",
       "      <td></td>\n",
       "      <td></td>\n",
       "      <td>-0.3</td>\n",
       "      <td>-0.6</td>\n",
       "      <td>-0.6</td>\n",
       "      <td>-0.9</td>\n",
       "      <td>0.1</td>\n",
       "      <td>-2.2</td>\n",
       "    </tr>\n",
       "    <tr>\n",
       "      <th>2021</th>\n",
       "      <td>0.0</td>\n",
       "      <td>0.3</td>\n",
       "      <td></td>\n",
       "      <td></td>\n",
       "      <td>-0.5</td>\n",
       "      <td>-0.4</td>\n",
       "      <td>-0.4</td>\n",
       "      <td>-0.7</td>\n",
       "      <td>-0.1</td>\n",
       "      <td>-2.8</td>\n",
       "    </tr>\n",
       "    <tr>\n",
       "      <th>2022</th>\n",
       "      <td>0.0</td>\n",
       "      <td>0.2</td>\n",
       "      <td></td>\n",
       "      <td></td>\n",
       "      <td>-0.4</td>\n",
       "      <td>-0.4</td>\n",
       "      <td>-0.3</td>\n",
       "      <td>-0.4</td>\n",
       "      <td>0.0</td>\n",
       "      <td>-2.7</td>\n",
       "    </tr>\n",
       "    <tr>\n",
       "      <th>2023</th>\n",
       "      <td>0.1</td>\n",
       "      <td>0.1</td>\n",
       "      <td></td>\n",
       "      <td></td>\n",
       "      <td>-0.4</td>\n",
       "      <td>-0.3</td>\n",
       "      <td>-0.2</td>\n",
       "      <td>-0.4</td>\n",
       "      <td>0.1</td>\n",
       "      <td>-2.6</td>\n",
       "    </tr>\n",
       "    <tr>\n",
       "      <th>2024</th>\n",
       "      <td>0.1</td>\n",
       "      <td>0.1</td>\n",
       "      <td></td>\n",
       "      <td></td>\n",
       "      <td>-0.3</td>\n",
       "      <td>-0.4</td>\n",
       "      <td>-0.2</td>\n",
       "      <td>-0.3</td>\n",
       "      <td>0.2</td>\n",
       "      <td>-2.8</td>\n",
       "    </tr>\n",
       "    <tr>\n",
       "      <th>2025</th>\n",
       "      <td>0.1</td>\n",
       "      <td>0.0</td>\n",
       "      <td></td>\n",
       "      <td></td>\n",
       "      <td>-0.3</td>\n",
       "      <td>-0.5</td>\n",
       "      <td>-0.4</td>\n",
       "      <td>-0.1</td>\n",
       "      <td>0.2</td>\n",
       "      <td>-2.8</td>\n",
       "    </tr>\n",
       "  </tbody>\n",
       "</table>\n",
       "</div>"
      ],
      "text/plain": [
       "                   Child Benefit  ESA (income-based) Income Support  \\\n",
       "OpenFisca-UK 2019 -0.4           -0.1                -0.0             \n",
       "             2020 -0.5            0.0                -0.0             \n",
       "             2021 -0.5            0.1                -0.0             \n",
       "             2022 -0.4            0.1                -0.0             \n",
       "             2023 -0.4            0.1                -0.0             \n",
       "             2024 -0.4            0.1                 0.0             \n",
       "             2025 -0.4            0.0                 0.0             \n",
       "UKMOD        2019 -0.2           -0.2                                 \n",
       "             2020 -0.1           -0.2                                 \n",
       "             2021  0.0            0.3                                 \n",
       "             2022  0.0            0.2                                 \n",
       "             2023  0.1            0.1                                 \n",
       "             2024  0.1            0.1                                 \n",
       "             2025  0.1            0.0                                 \n",
       "\n",
       "                  JSA (income-based)  Housing Benefit  Working Tax Credit  \\\n",
       "OpenFisca-UK 2019 -0.0               -0.3             -0.3                  \n",
       "             2020 -0.0               -0.1             -0.1                  \n",
       "             2021 -0.0               -0.1             -0.1                  \n",
       "             2022  0.0                0.0             -0.1                  \n",
       "             2023 -0.0                0.1             -0.1                  \n",
       "             2024  0.1                0.1             -0.1                  \n",
       "             2025  0.1                0.1             -0.2                  \n",
       "UKMOD        2019                    -0.5             -0.8                  \n",
       "             2020                    -0.3             -0.6                  \n",
       "             2021                    -0.5             -0.4                  \n",
       "             2022                    -0.4             -0.4                  \n",
       "             2023                    -0.4             -0.3                  \n",
       "             2024                    -0.3             -0.4                  \n",
       "             2025                    -0.3             -0.5                  \n",
       "\n",
       "                   Child Tax Credit  Universal Credit  Pension Credit  \\\n",
       "OpenFisca-UK 2019 -0.4               0.4              -0.1              \n",
       "             2020 -0.0               0.5              -0.1              \n",
       "             2021 -0.0               0.4              -0.1              \n",
       "             2022 -0.0               0.5              -0.0              \n",
       "             2023 -0.0               0.6              -0.0              \n",
       "             2024 -0.0               0.7              -0.1              \n",
       "             2025 -0.1               0.9              -0.1              \n",
       "UKMOD        2019 -1.1              -0.0              -0.0              \n",
       "             2020 -0.6              -0.9               0.1              \n",
       "             2021 -0.4              -0.7              -0.1              \n",
       "             2022 -0.3              -0.4               0.0              \n",
       "             2023 -0.2              -0.4               0.1              \n",
       "             2024 -0.2              -0.3               0.2              \n",
       "             2025 -0.4              -0.1               0.2              \n",
       "\n",
       "                   Income Tax  \n",
       "OpenFisca-UK 2019 -1.8         \n",
       "             2020 -2.4         \n",
       "             2021 -2.1         \n",
       "             2022 -1.8         \n",
       "             2023 -1.6         \n",
       "             2024 -1.1         \n",
       "             2025 -0.9         \n",
       "UKMOD        2019  8.5         \n",
       "             2020 -2.2         \n",
       "             2021 -2.8         \n",
       "             2022 -2.7         \n",
       "             2023 -2.6         \n",
       "             2024 -2.8         \n",
       "             2025 -2.8         "
      ]
     },
     "execution_count": 9,
     "metadata": {},
     "output_type": "execute_result"
    }
   ],
   "source": [
    "def caseload_error(model, year, variable):\n",
    "    try:\n",
    "        if model == OPENFISCA_UK:\n",
    "            return get_nonzero(variable, year).sum() - caseload(\n",
    "                EXTERNAL, year, variable\n",
    "            )\n",
    "        elif model == UKMOD:\n",
    "            return getattr(ukmod_statistics.ukmod.nonzero_units, variable)(\n",
    "                f\"{year}-01-01\"\n",
    "            ) - caseload(EXTERNAL, year, variable)\n",
    "    except:\n",
    "        return np.nan\n",
    "\n",
    "\n",
    "model_validation_table(\n",
    "    caseload_error,\n",
    "    variables=VARIABLES[:-1],\n",
    "    models=[OPENFISCA_UK, UKMOD],\n",
    "    divisor=1e6,\n",
    "    decimals=1,\n",
    ")"
   ]
  },
  {
   "cell_type": "markdown",
   "id": "6a679603-acf0-44ea-a3b8-687e703bd041",
   "metadata": {},
   "source": [
    "#### Relative"
   ]
  },
  {
   "cell_type": "code",
   "execution_count": 10,
   "id": "55d5b862-5737-4148-a535-5c8bebfb129f",
   "metadata": {
    "tags": [
     "hide-input"
    ]
   },
   "outputs": [
    {
     "data": {
      "text/html": [
       "<div>\n",
       "<style scoped>\n",
       "    .dataframe tbody tr th:only-of-type {\n",
       "        vertical-align: middle;\n",
       "    }\n",
       "\n",
       "    .dataframe tbody tr th {\n",
       "        vertical-align: top;\n",
       "    }\n",
       "\n",
       "    .dataframe thead th {\n",
       "        text-align: right;\n",
       "    }\n",
       "</style>\n",
       "<table border=\"1\" class=\"dataframe\">\n",
       "  <thead>\n",
       "    <tr style=\"text-align: right;\">\n",
       "      <th></th>\n",
       "      <th></th>\n",
       "      <th>Child Benefit</th>\n",
       "      <th>ESA (income-based)</th>\n",
       "      <th>Income Support</th>\n",
       "      <th>JSA (income-based)</th>\n",
       "      <th>Housing Benefit</th>\n",
       "      <th>Working Tax Credit</th>\n",
       "      <th>Child Tax Credit</th>\n",
       "      <th>Universal Credit</th>\n",
       "      <th>Pension Credit</th>\n",
       "      <th>Income Tax</th>\n",
       "    </tr>\n",
       "  </thead>\n",
       "  <tbody>\n",
       "    <tr>\n",
       "      <th rowspan=\"7\" valign=\"top\">OpenFisca-UK</th>\n",
       "      <th>2019</th>\n",
       "      <td>-5.5</td>\n",
       "      <td>-11.3</td>\n",
       "      <td>-11.3</td>\n",
       "      <td>-14.4</td>\n",
       "      <td>-8.9</td>\n",
       "      <td>-16.1</td>\n",
       "      <td>-12.9</td>\n",
       "      <td>19.7</td>\n",
       "      <td>-5.7</td>\n",
       "      <td>-5.6</td>\n",
       "    </tr>\n",
       "    <tr>\n",
       "      <th>2020</th>\n",
       "      <td>-6.5</td>\n",
       "      <td>0.4</td>\n",
       "      <td>-6.9</td>\n",
       "      <td>-1.7</td>\n",
       "      <td>-3.9</td>\n",
       "      <td>-8.6</td>\n",
       "      <td>-1.7</td>\n",
       "      <td>11.8</td>\n",
       "      <td>-4.8</td>\n",
       "      <td>-7.6</td>\n",
       "    </tr>\n",
       "    <tr>\n",
       "      <th>2021</th>\n",
       "      <td>-6.6</td>\n",
       "      <td>20.3</td>\n",
       "      <td>-4.0</td>\n",
       "      <td>-0.0</td>\n",
       "      <td>-2.0</td>\n",
       "      <td>-12.8</td>\n",
       "      <td>-1.8</td>\n",
       "      <td>10.5</td>\n",
       "      <td>-3.4</td>\n",
       "      <td>-6.5</td>\n",
       "    </tr>\n",
       "    <tr>\n",
       "      <th>2022</th>\n",
       "      <td>-6.3</td>\n",
       "      <td>21.2</td>\n",
       "      <td>-4.2</td>\n",
       "      <td>0.0</td>\n",
       "      <td>0.3</td>\n",
       "      <td>-12.9</td>\n",
       "      <td>-0.8</td>\n",
       "      <td>11.1</td>\n",
       "      <td>-3.1</td>\n",
       "      <td>-5.6</td>\n",
       "    </tr>\n",
       "    <tr>\n",
       "      <th>2023</th>\n",
       "      <td>-5.9</td>\n",
       "      <td>22.2</td>\n",
       "      <td>-4.5</td>\n",
       "      <td>-100.0</td>\n",
       "      <td>2.9</td>\n",
       "      <td>-15.5</td>\n",
       "      <td>-1.5</td>\n",
       "      <td>12.0</td>\n",
       "      <td>-2.7</td>\n",
       "      <td>-4.7</td>\n",
       "    </tr>\n",
       "    <tr>\n",
       "      <th>2024</th>\n",
       "      <td>-5.5</td>\n",
       "      <td>24.0</td>\n",
       "      <td>1.4</td>\n",
       "      <td>inf</td>\n",
       "      <td>5.5</td>\n",
       "      <td>-20.2</td>\n",
       "      <td>-5.2</td>\n",
       "      <td>12.8</td>\n",
       "      <td>-4.4</td>\n",
       "      <td>-3.4</td>\n",
       "    </tr>\n",
       "    <tr>\n",
       "      <th>2025</th>\n",
       "      <td>-5.2</td>\n",
       "      <td>25.9</td>\n",
       "      <td>16.2</td>\n",
       "      <td>inf</td>\n",
       "      <td>8.0</td>\n",
       "      <td>-32.9</td>\n",
       "      <td>-15.8</td>\n",
       "      <td>14.0</td>\n",
       "      <td>-6.3</td>\n",
       "      <td>-2.6</td>\n",
       "    </tr>\n",
       "    <tr>\n",
       "      <th rowspan=\"7\" valign=\"top\">UKMOD</th>\n",
       "      <th>2019</th>\n",
       "      <td>-2.5</td>\n",
       "      <td>-15.6</td>\n",
       "      <td></td>\n",
       "      <td></td>\n",
       "      <td>-14.2</td>\n",
       "      <td>-49.8</td>\n",
       "      <td>-38.7</td>\n",
       "      <td>-0.2</td>\n",
       "      <td>-2.6</td>\n",
       "      <td>26.9</td>\n",
       "    </tr>\n",
       "    <tr>\n",
       "      <th>2020</th>\n",
       "      <td>-1.6</td>\n",
       "      <td>-17.5</td>\n",
       "      <td></td>\n",
       "      <td></td>\n",
       "      <td>-11.3</td>\n",
       "      <td>-48.2</td>\n",
       "      <td>-30.4</td>\n",
       "      <td>-22.3</td>\n",
       "      <td>4.5</td>\n",
       "      <td>-6.8</td>\n",
       "    </tr>\n",
       "    <tr>\n",
       "      <th>2021</th>\n",
       "      <td>0.3</td>\n",
       "      <td>72.2</td>\n",
       "      <td></td>\n",
       "      <td></td>\n",
       "      <td>-16.7</td>\n",
       "      <td>-36.4</td>\n",
       "      <td>-22.2</td>\n",
       "      <td>-16.4</td>\n",
       "      <td>-3.9</td>\n",
       "      <td>-8.6</td>\n",
       "    </tr>\n",
       "    <tr>\n",
       "      <th>2022</th>\n",
       "      <td>0.6</td>\n",
       "      <td>55.8</td>\n",
       "      <td></td>\n",
       "      <td></td>\n",
       "      <td>-16.5</td>\n",
       "      <td>-40.6</td>\n",
       "      <td>-19.3</td>\n",
       "      <td>-9.4</td>\n",
       "      <td>0.5</td>\n",
       "      <td>-8.2</td>\n",
       "    </tr>\n",
       "    <tr>\n",
       "      <th>2023</th>\n",
       "      <td>1.0</td>\n",
       "      <td>42.2</td>\n",
       "      <td></td>\n",
       "      <td></td>\n",
       "      <td>-16.6</td>\n",
       "      <td>-44.0</td>\n",
       "      <td>-16.1</td>\n",
       "      <td>-7.8</td>\n",
       "      <td>7.8</td>\n",
       "      <td>-7.9</td>\n",
       "    </tr>\n",
       "    <tr>\n",
       "      <th>2024</th>\n",
       "      <td>1.3</td>\n",
       "      <td>29.5</td>\n",
       "      <td></td>\n",
       "      <td></td>\n",
       "      <td>-15.7</td>\n",
       "      <td>-56.9</td>\n",
       "      <td>-23.6</td>\n",
       "      <td>-5.2</td>\n",
       "      <td>12.3</td>\n",
       "      <td>-8.3</td>\n",
       "    </tr>\n",
       "    <tr>\n",
       "      <th>2025</th>\n",
       "      <td>1.8</td>\n",
       "      <td>10.6</td>\n",
       "      <td></td>\n",
       "      <td></td>\n",
       "      <td>-17.0</td>\n",
       "      <td>-78.5</td>\n",
       "      <td>-56.3</td>\n",
       "      <td>-2.2</td>\n",
       "      <td>14.9</td>\n",
       "      <td>-8.2</td>\n",
       "    </tr>\n",
       "  </tbody>\n",
       "</table>\n",
       "</div>"
      ],
      "text/plain": [
       "                   Child Benefit  ESA (income-based) Income Support  \\\n",
       "OpenFisca-UK 2019 -5.5           -11.3               -11.3            \n",
       "             2020 -6.5            0.4                -6.9             \n",
       "             2021 -6.6            20.3               -4.0             \n",
       "             2022 -6.3            21.2               -4.2             \n",
       "             2023 -5.9            22.2               -4.5             \n",
       "             2024 -5.5            24.0                1.4             \n",
       "             2025 -5.2            25.9                16.2            \n",
       "UKMOD        2019 -2.5           -15.6                                \n",
       "             2020 -1.6           -17.5                                \n",
       "             2021  0.3            72.2                                \n",
       "             2022  0.6            55.8                                \n",
       "             2023  1.0            42.2                                \n",
       "             2024  1.3            29.5                                \n",
       "             2025  1.8            10.6                                \n",
       "\n",
       "                  JSA (income-based)  Housing Benefit  Working Tax Credit  \\\n",
       "OpenFisca-UK 2019 -14.4              -8.9             -16.1                 \n",
       "             2020 -1.7               -3.9             -8.6                  \n",
       "             2021 -0.0               -2.0             -12.8                 \n",
       "             2022  0.0                0.3             -12.9                 \n",
       "             2023 -100.0              2.9             -15.5                 \n",
       "             2024  inf                5.5             -20.2                 \n",
       "             2025  inf                8.0             -32.9                 \n",
       "UKMOD        2019                    -14.2            -49.8                 \n",
       "             2020                    -11.3            -48.2                 \n",
       "             2021                    -16.7            -36.4                 \n",
       "             2022                    -16.5            -40.6                 \n",
       "             2023                    -16.6            -44.0                 \n",
       "             2024                    -15.7            -56.9                 \n",
       "             2025                    -17.0            -78.5                 \n",
       "\n",
       "                   Child Tax Credit  Universal Credit  Pension Credit  \\\n",
       "OpenFisca-UK 2019 -12.9              19.7             -5.7              \n",
       "             2020 -1.7               11.8             -4.8              \n",
       "             2021 -1.8               10.5             -3.4              \n",
       "             2022 -0.8               11.1             -3.1              \n",
       "             2023 -1.5               12.0             -2.7              \n",
       "             2024 -5.2               12.8             -4.4              \n",
       "             2025 -15.8              14.0             -6.3              \n",
       "UKMOD        2019 -38.7             -0.2              -2.6              \n",
       "             2020 -30.4             -22.3              4.5              \n",
       "             2021 -22.2             -16.4             -3.9              \n",
       "             2022 -19.3             -9.4               0.5              \n",
       "             2023 -16.1             -7.8               7.8              \n",
       "             2024 -23.6             -5.2               12.3             \n",
       "             2025 -56.3             -2.2               14.9             \n",
       "\n",
       "                   Income Tax  \n",
       "OpenFisca-UK 2019 -5.6         \n",
       "             2020 -7.6         \n",
       "             2021 -6.5         \n",
       "             2022 -5.6         \n",
       "             2023 -4.7         \n",
       "             2024 -3.4         \n",
       "             2025 -2.6         \n",
       "UKMOD        2019  26.9        \n",
       "             2020 -6.8         \n",
       "             2021 -8.6         \n",
       "             2022 -8.2         \n",
       "             2023 -7.9         \n",
       "             2024 -8.3         \n",
       "             2025 -8.2         "
      ]
     },
     "execution_count": 10,
     "metadata": {},
     "output_type": "execute_result"
    }
   ],
   "source": [
    "def relative_caseload_error(model, year, variable):\n",
    "    try:\n",
    "        if model == OPENFISCA_UK:\n",
    "            return (\n",
    "                get_nonzero(variable, year).sum()\n",
    "                / caseload(EXTERNAL, year, variable)\n",
    "                - 1\n",
    "            )\n",
    "        elif model == UKMOD:\n",
    "            return (\n",
    "                getattr(ukmod_statistics.ukmod.nonzero_units, variable)(\n",
    "                    f\"{year}-01-01\"\n",
    "                )\n",
    "                / caseload(EXTERNAL, year, variable)\n",
    "                - 1\n",
    "            )\n",
    "    except:\n",
    "        return np.nan\n",
    "\n",
    "\n",
    "model_validation_table(\n",
    "    relative_caseload_error,\n",
    "    variables=VARIABLES[:-1],\n",
    "    models=[OPENFISCA_UK, UKMOD],\n",
    "    divisor=1e-2,\n",
    "    decimals=1,\n",
    ")"
   ]
  },
  {
   "cell_type": "code",
   "execution_count": 11,
   "id": "6f47e9b2-895d-4a70-9206-282bddff8769",
   "metadata": {},
   "outputs": [
    {
     "data": {
      "application/vnd.plotly.v1+json": {
       "config": {
        "plotlyServerURL": "https://plot.ly"
       },
       "data": [
        {
         "alignmentgroup": "True",
         "customdata": [
          [
           6.9,
           7.1,
           7.3,
           2019,
           "Child Benefit"
          ],
          [
           29.6,
           39.9,
           31.4,
           2019,
           "Income Tax"
          ],
          [
           1.5,
           1.5,
           1.6,
           2019,
           "Pension Credit"
          ],
          [
           3.1,
           2.9,
           3.4,
           2019,
           "Housing Benefit"
          ],
          [
           0.9,
           0.9,
           1.1,
           2019,
           "ESA (income-based)"
          ],
          [
           2.5,
           1.7,
           2.8,
           2019,
           "Child Tax Credit"
          ],
          [
           1.4,
           0.8,
           1.6,
           2019,
           "Working Tax Credit"
          ],
          [
           2.6,
           2.1,
           2.1,
           2019,
           "Universal Credit"
          ]
         ],
         "hovertemplate": "<b>%{customdata[4]} in %{customdata[3]}</b><br>Error: %{x}<br>Official: %{customdata[2]}m<br>OpenFisca-UK: %{customdata[0]}m<br>UKMOD: %{customdata[1]}m",
         "legendgroup": "OpenFisca-UK",
         "marker": {
          "color": "blue",
          "pattern": {
           "shape": ""
          }
         },
         "name": "OpenFisca-UK",
         "offsetgroup": "OpenFisca-UK",
         "orientation": "h",
         "showlegend": true,
         "textposition": "auto",
         "type": "bar",
         "x": [
          0.055,
          0.055999999999999994,
          0.057,
          0.08900000000000001,
          0.113,
          0.129,
          0.161,
          0.19699999999999998
         ],
         "xaxis": "x",
         "y": [
          "Child Benefit",
          "Income Tax",
          "Pension Credit",
          "Housing Benefit",
          "ESA (income-based)",
          "Child Tax Credit",
          "Working Tax Credit",
          "Universal Credit"
         ],
         "yaxis": "y"
        },
        {
         "alignmentgroup": "True",
         "customdata": [
          [
           6.9,
           7.1,
           7.3,
           2019,
           "Child Benefit"
          ],
          [
           29.6,
           39.9,
           31.4,
           2019,
           "Income Tax"
          ],
          [
           1.5,
           1.5,
           1.6,
           2019,
           "Pension Credit"
          ],
          [
           3.1,
           2.9,
           3.4,
           2019,
           "Housing Benefit"
          ],
          [
           0.9,
           0.9,
           1.1,
           2019,
           "ESA (income-based)"
          ],
          [
           2.5,
           1.7,
           2.8,
           2019,
           "Child Tax Credit"
          ],
          [
           1.4,
           0.8,
           1.6,
           2019,
           "Working Tax Credit"
          ],
          [
           2.6,
           2.1,
           2.1,
           2019,
           "Universal Credit"
          ]
         ],
         "hovertemplate": "<b>%{customdata[4]} in %{customdata[3]}</b><br>Error: %{x}<br>Official: %{customdata[2]}m<br>OpenFisca-UK: %{customdata[0]}m<br>UKMOD: %{customdata[1]}m",
         "legendgroup": "UKMOD",
         "marker": {
          "color": "lightgrey",
          "pattern": {
           "shape": ""
          }
         },
         "name": "UKMOD",
         "offsetgroup": "UKMOD",
         "orientation": "h",
         "showlegend": true,
         "textposition": "auto",
         "type": "bar",
         "x": [
          0.025,
          0.26899999999999996,
          0.026000000000000002,
          0.142,
          0.156,
          0.387,
          0.498,
          0.002
         ],
         "xaxis": "x",
         "y": [
          "Child Benefit",
          "Income Tax",
          "Pension Credit",
          "Housing Benefit",
          "ESA (income-based)",
          "Child Tax Credit",
          "Working Tax Credit",
          "Universal Credit"
         ],
         "yaxis": "y"
        }
       ],
       "frames": [
        {
         "data": [
          {
           "alignmentgroup": "True",
           "customdata": [
            [
             6.9,
             7.1,
             7.3,
             2019,
             "Child Benefit"
            ],
            [
             29.6,
             39.9,
             31.4,
             2019,
             "Income Tax"
            ],
            [
             1.5,
             1.5,
             1.6,
             2019,
             "Pension Credit"
            ],
            [
             3.1,
             2.9,
             3.4,
             2019,
             "Housing Benefit"
            ],
            [
             0.9,
             0.9,
             1.1,
             2019,
             "ESA (income-based)"
            ],
            [
             2.5,
             1.7,
             2.8,
             2019,
             "Child Tax Credit"
            ],
            [
             1.4,
             0.8,
             1.6,
             2019,
             "Working Tax Credit"
            ],
            [
             2.6,
             2.1,
             2.1,
             2019,
             "Universal Credit"
            ]
           ],
           "hovertemplate": "<b>%{customdata[4]} in %{customdata[3]}</b><br>Error: %{x}<br>Official: %{customdata[2]}m<br>OpenFisca-UK: %{customdata[0]}m<br>UKMOD: %{customdata[1]}m",
           "legendgroup": "OpenFisca-UK",
           "marker": {
            "color": "blue",
            "pattern": {
             "shape": ""
            }
           },
           "name": "OpenFisca-UK",
           "offsetgroup": "OpenFisca-UK",
           "orientation": "h",
           "showlegend": true,
           "textposition": "auto",
           "type": "bar",
           "x": [
            0.055,
            0.055999999999999994,
            0.057,
            0.08900000000000001,
            0.113,
            0.129,
            0.161,
            0.19699999999999998
           ],
           "xaxis": "x",
           "y": [
            "Child Benefit",
            "Income Tax",
            "Pension Credit",
            "Housing Benefit",
            "ESA (income-based)",
            "Child Tax Credit",
            "Working Tax Credit",
            "Universal Credit"
           ],
           "yaxis": "y"
          },
          {
           "alignmentgroup": "True",
           "customdata": [
            [
             6.9,
             7.1,
             7.3,
             2019,
             "Child Benefit"
            ],
            [
             29.6,
             39.9,
             31.4,
             2019,
             "Income Tax"
            ],
            [
             1.5,
             1.5,
             1.6,
             2019,
             "Pension Credit"
            ],
            [
             3.1,
             2.9,
             3.4,
             2019,
             "Housing Benefit"
            ],
            [
             0.9,
             0.9,
             1.1,
             2019,
             "ESA (income-based)"
            ],
            [
             2.5,
             1.7,
             2.8,
             2019,
             "Child Tax Credit"
            ],
            [
             1.4,
             0.8,
             1.6,
             2019,
             "Working Tax Credit"
            ],
            [
             2.6,
             2.1,
             2.1,
             2019,
             "Universal Credit"
            ]
           ],
           "hovertemplate": "<b>%{customdata[4]} in %{customdata[3]}</b><br>Error: %{x}<br>Official: %{customdata[2]}m<br>OpenFisca-UK: %{customdata[0]}m<br>UKMOD: %{customdata[1]}m",
           "legendgroup": "UKMOD",
           "marker": {
            "color": "lightgrey",
            "pattern": {
             "shape": ""
            }
           },
           "name": "UKMOD",
           "offsetgroup": "UKMOD",
           "orientation": "h",
           "showlegend": true,
           "textposition": "auto",
           "type": "bar",
           "x": [
            0.025,
            0.26899999999999996,
            0.026000000000000002,
            0.142,
            0.156,
            0.387,
            0.498,
            0.002
           ],
           "xaxis": "x",
           "y": [
            "Child Benefit",
            "Income Tax",
            "Pension Credit",
            "Housing Benefit",
            "ESA (income-based)",
            "Child Tax Credit",
            "Working Tax Credit",
            "Universal Credit"
           ],
           "yaxis": "y"
          }
         ],
         "name": "2019"
        },
        {
         "data": [
          {
           "alignmentgroup": "True",
           "customdata": [
            [
             1,
             0.8,
             1,
             2020,
             "ESA (income-based)"
            ],
            [
             2.1,
             1.5,
             2.1,
             2020,
             "Child Tax Credit"
            ],
            [
             2.9,
             2.7,
             3,
             2020,
             "Housing Benefit"
            ],
            [
             1.4,
             1.5,
             1.5,
             2020,
             "Pension Credit"
            ],
            [
             6.7,
             7.1,
             7.2,
             2020,
             "Child Benefit"
            ],
            [
             29.3,
             29.5,
             31.7,
             2020,
             "Income Tax"
            ],
            [
             1.1,
             0.6,
             1.2,
             2020,
             "Working Tax Credit"
            ],
            [
             4.5,
             3.1,
             4.1,
             2020,
             "Universal Credit"
            ]
           ],
           "hovertemplate": "<b>%{customdata[4]} in %{customdata[3]}</b><br>Error: %{x}<br>Official: %{customdata[2]}m<br>OpenFisca-UK: %{customdata[0]}m<br>UKMOD: %{customdata[1]}m",
           "legendgroup": "OpenFisca-UK",
           "marker": {
            "color": "blue",
            "pattern": {
             "shape": ""
            }
           },
           "name": "OpenFisca-UK",
           "offsetgroup": "OpenFisca-UK",
           "orientation": "h",
           "showlegend": true,
           "textposition": "auto",
           "type": "bar",
           "x": [
            0.004,
            0.017,
            0.039,
            0.048,
            0.065,
            0.076,
            0.086,
            0.11800000000000001
           ],
           "xaxis": "x",
           "y": [
            "ESA (income-based)",
            "Child Tax Credit",
            "Housing Benefit",
            "Pension Credit",
            "Child Benefit",
            "Income Tax",
            "Working Tax Credit",
            "Universal Credit"
           ],
           "yaxis": "y"
          },
          {
           "alignmentgroup": "True",
           "customdata": [
            [
             1,
             0.8,
             1,
             2020,
             "ESA (income-based)"
            ],
            [
             2.1,
             1.5,
             2.1,
             2020,
             "Child Tax Credit"
            ],
            [
             2.9,
             2.7,
             3,
             2020,
             "Housing Benefit"
            ],
            [
             1.4,
             1.5,
             1.5,
             2020,
             "Pension Credit"
            ],
            [
             6.7,
             7.1,
             7.2,
             2020,
             "Child Benefit"
            ],
            [
             29.3,
             29.5,
             31.7,
             2020,
             "Income Tax"
            ],
            [
             1.1,
             0.6,
             1.2,
             2020,
             "Working Tax Credit"
            ],
            [
             4.5,
             3.1,
             4.1,
             2020,
             "Universal Credit"
            ]
           ],
           "hovertemplate": "<b>%{customdata[4]} in %{customdata[3]}</b><br>Error: %{x}<br>Official: %{customdata[2]}m<br>OpenFisca-UK: %{customdata[0]}m<br>UKMOD: %{customdata[1]}m",
           "legendgroup": "UKMOD",
           "marker": {
            "color": "lightgrey",
            "pattern": {
             "shape": ""
            }
           },
           "name": "UKMOD",
           "offsetgroup": "UKMOD",
           "orientation": "h",
           "showlegend": true,
           "textposition": "auto",
           "type": "bar",
           "x": [
            0.175,
            0.304,
            0.113,
            0.045,
            0.016,
            0.068,
            0.48200000000000004,
            0.223
           ],
           "xaxis": "x",
           "y": [
            "ESA (income-based)",
            "Child Tax Credit",
            "Housing Benefit",
            "Pension Credit",
            "Child Benefit",
            "Income Tax",
            "Working Tax Credit",
            "Universal Credit"
           ],
           "yaxis": "y"
          }
         ],
         "name": "2020"
        },
        {
         "data": [
          {
           "alignmentgroup": "True",
           "customdata": [
            [
             1.7,
             1.3,
             1.7,
             2021,
             "Child Tax Credit"
            ],
            [
             2.9,
             2.4,
             2.9,
             2021,
             "Housing Benefit"
            ],
            [
             1.4,
             1.4,
             1.5,
             2021,
             "Pension Credit"
            ],
            [
             30.1,
             29.4,
             32.2,
             2021,
             "Income Tax"
            ],
            [
             6.7,
             7.2,
             7.1,
             2021,
             "Child Benefit"
            ],
            [
             4.7,
             3.6,
             4.3,
             2021,
             "Universal Credit"
            ],
            [
             0.9,
             0.7,
             1,
             2021,
             "Working Tax Credit"
            ],
            [
             0.5,
             0.7,
             0.4,
             2021,
             "ESA (income-based)"
            ]
           ],
           "hovertemplate": "<b>%{customdata[4]} in %{customdata[3]}</b><br>Error: %{x}<br>Official: %{customdata[2]}m<br>OpenFisca-UK: %{customdata[0]}m<br>UKMOD: %{customdata[1]}m",
           "legendgroup": "OpenFisca-UK",
           "marker": {
            "color": "blue",
            "pattern": {
             "shape": ""
            }
           },
           "name": "OpenFisca-UK",
           "offsetgroup": "OpenFisca-UK",
           "orientation": "h",
           "showlegend": true,
           "textposition": "auto",
           "type": "bar",
           "x": [
            0.018000000000000002,
            0.02,
            0.034,
            0.065,
            0.066,
            0.105,
            0.128,
            0.203
           ],
           "xaxis": "x",
           "y": [
            "Child Tax Credit",
            "Housing Benefit",
            "Pension Credit",
            "Income Tax",
            "Child Benefit",
            "Universal Credit",
            "Working Tax Credit",
            "ESA (income-based)"
           ],
           "yaxis": "y"
          },
          {
           "alignmentgroup": "True",
           "customdata": [
            [
             1.7,
             1.3,
             1.7,
             2021,
             "Child Tax Credit"
            ],
            [
             2.9,
             2.4,
             2.9,
             2021,
             "Housing Benefit"
            ],
            [
             1.4,
             1.4,
             1.5,
             2021,
             "Pension Credit"
            ],
            [
             30.1,
             29.4,
             32.2,
             2021,
             "Income Tax"
            ],
            [
             6.7,
             7.2,
             7.1,
             2021,
             "Child Benefit"
            ],
            [
             4.7,
             3.6,
             4.3,
             2021,
             "Universal Credit"
            ],
            [
             0.9,
             0.7,
             1,
             2021,
             "Working Tax Credit"
            ],
            [
             0.5,
             0.7,
             0.4,
             2021,
             "ESA (income-based)"
            ]
           ],
           "hovertemplate": "<b>%{customdata[4]} in %{customdata[3]}</b><br>Error: %{x}<br>Official: %{customdata[2]}m<br>OpenFisca-UK: %{customdata[0]}m<br>UKMOD: %{customdata[1]}m",
           "legendgroup": "UKMOD",
           "marker": {
            "color": "lightgrey",
            "pattern": {
             "shape": ""
            }
           },
           "name": "UKMOD",
           "offsetgroup": "UKMOD",
           "orientation": "h",
           "showlegend": true,
           "textposition": "auto",
           "type": "bar",
           "x": [
            0.222,
            0.16699999999999998,
            0.039,
            0.086,
            0.003,
            0.16399999999999998,
            0.364,
            0.722
           ],
           "xaxis": "x",
           "y": [
            "Child Tax Credit",
            "Housing Benefit",
            "Pension Credit",
            "Income Tax",
            "Child Benefit",
            "Universal Credit",
            "Working Tax Credit",
            "ESA (income-based)"
           ],
           "yaxis": "y"
          }
         ],
         "name": "2021"
        },
        {
         "data": [
          {
           "alignmentgroup": "True",
           "customdata": [
            [
             2.7,
             2.3,
             2.7,
             2022,
             "Housing Benefit"
            ],
            [
             1.3,
             1.1,
             1.3,
             2022,
             "Child Tax Credit"
            ],
            [
             1.4,
             1.4,
             1.4,
             2022,
             "Pension Credit"
            ],
            [
             30.9,
             30,
             32.7,
             2022,
             "Income Tax"
            ],
            [
             6.6,
             7.1,
             7.1,
             2022,
             "Child Benefit"
            ],
            [
             5.2,
             4.2,
             4.6,
             2022,
             "Universal Credit"
            ],
            [
             0.8,
             0.5,
             0.9,
             2022,
             "Working Tax Credit"
            ],
            [
             0.5,
             0.6,
             0.4,
             2022,
             "ESA (income-based)"
            ]
           ],
           "hovertemplate": "<b>%{customdata[4]} in %{customdata[3]}</b><br>Error: %{x}<br>Official: %{customdata[2]}m<br>OpenFisca-UK: %{customdata[0]}m<br>UKMOD: %{customdata[1]}m",
           "legendgroup": "OpenFisca-UK",
           "marker": {
            "color": "blue",
            "pattern": {
             "shape": ""
            }
           },
           "name": "OpenFisca-UK",
           "offsetgroup": "OpenFisca-UK",
           "orientation": "h",
           "showlegend": true,
           "textposition": "auto",
           "type": "bar",
           "x": [
            0.003,
            0.008,
            0.031,
            0.055999999999999994,
            0.063,
            0.111,
            0.129,
            0.212
           ],
           "xaxis": "x",
           "y": [
            "Housing Benefit",
            "Child Tax Credit",
            "Pension Credit",
            "Income Tax",
            "Child Benefit",
            "Universal Credit",
            "Working Tax Credit",
            "ESA (income-based)"
           ],
           "yaxis": "y"
          },
          {
           "alignmentgroup": "True",
           "customdata": [
            [
             2.7,
             2.3,
             2.7,
             2022,
             "Housing Benefit"
            ],
            [
             1.3,
             1.1,
             1.3,
             2022,
             "Child Tax Credit"
            ],
            [
             1.4,
             1.4,
             1.4,
             2022,
             "Pension Credit"
            ],
            [
             30.9,
             30,
             32.7,
             2022,
             "Income Tax"
            ],
            [
             6.6,
             7.1,
             7.1,
             2022,
             "Child Benefit"
            ],
            [
             5.2,
             4.2,
             4.6,
             2022,
             "Universal Credit"
            ],
            [
             0.8,
             0.5,
             0.9,
             2022,
             "Working Tax Credit"
            ],
            [
             0.5,
             0.6,
             0.4,
             2022,
             "ESA (income-based)"
            ]
           ],
           "hovertemplate": "<b>%{customdata[4]} in %{customdata[3]}</b><br>Error: %{x}<br>Official: %{customdata[2]}m<br>OpenFisca-UK: %{customdata[0]}m<br>UKMOD: %{customdata[1]}m",
           "legendgroup": "UKMOD",
           "marker": {
            "color": "lightgrey",
            "pattern": {
             "shape": ""
            }
           },
           "name": "UKMOD",
           "offsetgroup": "UKMOD",
           "orientation": "h",
           "showlegend": true,
           "textposition": "auto",
           "type": "bar",
           "x": [
            0.165,
            0.193,
            0.005,
            0.08199999999999999,
            0.006,
            0.094,
            0.406,
            0.5579999999999999
           ],
           "xaxis": "x",
           "y": [
            "Housing Benefit",
            "Child Tax Credit",
            "Pension Credit",
            "Income Tax",
            "Child Benefit",
            "Universal Credit",
            "Working Tax Credit",
            "ESA (income-based)"
           ],
           "yaxis": "y"
          }
         ],
         "name": "2022"
        },
        {
         "data": [
          {
           "alignmentgroup": "True",
           "customdata": [
            [
             1,
             0.9,
             1.1,
             2023,
             "Child Tax Credit"
            ],
            [
             1.3,
             1.4,
             1.3,
             2023,
             "Pension Credit"
            ],
            [
             2.5,
             2,
             2.5,
             2023,
             "Housing Benefit"
            ],
            [
             31.7,
             30.6,
             33.2,
             2023,
             "Income Tax"
            ],
            [
             6.6,
             7.1,
             7,
             2023,
             "Child Benefit"
            ],
            [
             5.7,
             4.7,
             5,
             2023,
             "Universal Credit"
            ],
            [
             0.7,
             0.4,
             0.8,
             2023,
             "Working Tax Credit"
            ],
            [
             0.4,
             0.5,
             0.3,
             2023,
             "ESA (income-based)"
            ]
           ],
           "hovertemplate": "<b>%{customdata[4]} in %{customdata[3]}</b><br>Error: %{x}<br>Official: %{customdata[2]}m<br>OpenFisca-UK: %{customdata[0]}m<br>UKMOD: %{customdata[1]}m",
           "legendgroup": "OpenFisca-UK",
           "marker": {
            "color": "blue",
            "pattern": {
             "shape": ""
            }
           },
           "name": "OpenFisca-UK",
           "offsetgroup": "OpenFisca-UK",
           "orientation": "h",
           "showlegend": true,
           "textposition": "auto",
           "type": "bar",
           "x": [
            0.015,
            0.027000000000000003,
            0.028999999999999998,
            0.047,
            0.059000000000000004,
            0.12,
            0.155,
            0.222
           ],
           "xaxis": "x",
           "y": [
            "Child Tax Credit",
            "Pension Credit",
            "Housing Benefit",
            "Income Tax",
            "Child Benefit",
            "Universal Credit",
            "Working Tax Credit",
            "ESA (income-based)"
           ],
           "yaxis": "y"
          },
          {
           "alignmentgroup": "True",
           "customdata": [
            [
             1,
             0.9,
             1.1,
             2023,
             "Child Tax Credit"
            ],
            [
             1.3,
             1.4,
             1.3,
             2023,
             "Pension Credit"
            ],
            [
             2.5,
             2,
             2.5,
             2023,
             "Housing Benefit"
            ],
            [
             31.7,
             30.6,
             33.2,
             2023,
             "Income Tax"
            ],
            [
             6.6,
             7.1,
             7,
             2023,
             "Child Benefit"
            ],
            [
             5.7,
             4.7,
             5,
             2023,
             "Universal Credit"
            ],
            [
             0.7,
             0.4,
             0.8,
             2023,
             "Working Tax Credit"
            ],
            [
             0.4,
             0.5,
             0.3,
             2023,
             "ESA (income-based)"
            ]
           ],
           "hovertemplate": "<b>%{customdata[4]} in %{customdata[3]}</b><br>Error: %{x}<br>Official: %{customdata[2]}m<br>OpenFisca-UK: %{customdata[0]}m<br>UKMOD: %{customdata[1]}m",
           "legendgroup": "UKMOD",
           "marker": {
            "color": "lightgrey",
            "pattern": {
             "shape": ""
            }
           },
           "name": "UKMOD",
           "offsetgroup": "UKMOD",
           "orientation": "h",
           "showlegend": true,
           "textposition": "auto",
           "type": "bar",
           "x": [
            0.161,
            0.078,
            0.166,
            0.079,
            0.01,
            0.078,
            0.44,
            0.42200000000000004
           ],
           "xaxis": "x",
           "y": [
            "Child Tax Credit",
            "Pension Credit",
            "Housing Benefit",
            "Income Tax",
            "Child Benefit",
            "Universal Credit",
            "Working Tax Credit",
            "ESA (income-based)"
           ],
           "yaxis": "y"
          }
         ],
         "name": "2023"
        },
        {
         "data": [
          {
           "alignmentgroup": "True",
           "customdata": [
            [
             32.6,
             30.9,
             33.7,
             2024,
             "Income Tax"
            ],
            [
             1.2,
             1.4,
             1.3,
             2024,
             "Pension Credit"
            ],
            [
             0.8,
             0.6,
             0.8,
             2024,
             "Child Tax Credit"
            ],
            [
             6.5,
             7,
             6.9,
             2024,
             "Child Benefit"
            ],
            [
             2.2,
             1.8,
             2.1,
             2024,
             "Housing Benefit"
            ],
            [
             6.3,
             5.3,
             5.6,
             2024,
             "Universal Credit"
            ],
            [
             0.5,
             0.3,
             0.7,
             2024,
             "Working Tax Credit"
            ],
            [
             0.3,
             0.3,
             0.3,
             2024,
             "ESA (income-based)"
            ]
           ],
           "hovertemplate": "<b>%{customdata[4]} in %{customdata[3]}</b><br>Error: %{x}<br>Official: %{customdata[2]}m<br>OpenFisca-UK: %{customdata[0]}m<br>UKMOD: %{customdata[1]}m",
           "legendgroup": "OpenFisca-UK",
           "marker": {
            "color": "blue",
            "pattern": {
             "shape": ""
            }
           },
           "name": "OpenFisca-UK",
           "offsetgroup": "OpenFisca-UK",
           "orientation": "h",
           "showlegend": true,
           "textposition": "auto",
           "type": "bar",
           "x": [
            0.034,
            0.044000000000000004,
            0.052000000000000005,
            0.055,
            0.055,
            0.128,
            0.20199999999999999,
            0.24
           ],
           "xaxis": "x",
           "y": [
            "Income Tax",
            "Pension Credit",
            "Child Tax Credit",
            "Child Benefit",
            "Housing Benefit",
            "Universal Credit",
            "Working Tax Credit",
            "ESA (income-based)"
           ],
           "yaxis": "y"
          },
          {
           "alignmentgroup": "True",
           "customdata": [
            [
             32.6,
             30.9,
             33.7,
             2024,
             "Income Tax"
            ],
            [
             1.2,
             1.4,
             1.3,
             2024,
             "Pension Credit"
            ],
            [
             0.8,
             0.6,
             0.8,
             2024,
             "Child Tax Credit"
            ],
            [
             6.5,
             7,
             6.9,
             2024,
             "Child Benefit"
            ],
            [
             2.2,
             1.8,
             2.1,
             2024,
             "Housing Benefit"
            ],
            [
             6.3,
             5.3,
             5.6,
             2024,
             "Universal Credit"
            ],
            [
             0.5,
             0.3,
             0.7,
             2024,
             "Working Tax Credit"
            ],
            [
             0.3,
             0.3,
             0.3,
             2024,
             "ESA (income-based)"
            ]
           ],
           "hovertemplate": "<b>%{customdata[4]} in %{customdata[3]}</b><br>Error: %{x}<br>Official: %{customdata[2]}m<br>OpenFisca-UK: %{customdata[0]}m<br>UKMOD: %{customdata[1]}m",
           "legendgroup": "UKMOD",
           "marker": {
            "color": "lightgrey",
            "pattern": {
             "shape": ""
            }
           },
           "name": "UKMOD",
           "offsetgroup": "UKMOD",
           "orientation": "h",
           "showlegend": true,
           "textposition": "auto",
           "type": "bar",
           "x": [
            0.083,
            0.12300000000000001,
            0.23600000000000002,
            0.013000000000000001,
            0.157,
            0.052000000000000005,
            0.569,
            0.295
           ],
           "xaxis": "x",
           "y": [
            "Income Tax",
            "Pension Credit",
            "Child Tax Credit",
            "Child Benefit",
            "Housing Benefit",
            "Universal Credit",
            "Working Tax Credit",
            "ESA (income-based)"
           ],
           "yaxis": "y"
          }
         ],
         "name": "2024"
        },
        {
         "data": [
          {
           "alignmentgroup": "True",
           "customdata": [
            [
             33.4,
             31.5,
             34.3,
             2025,
             "Income Tax"
            ],
            [
             6.5,
             7,
             6.9,
             2025,
             "Child Benefit"
            ],
            [
             1.2,
             1.4,
             1.2,
             2025,
             "Pension Credit"
            ],
            [
             1.9,
             1.4,
             1.7,
             2025,
             "Housing Benefit"
            ],
            [
             7.2,
             6.1,
             6.3,
             2025,
             "Universal Credit"
            ],
            [
             0.6,
             0.3,
             0.7,
             2025,
             "Child Tax Credit"
            ],
            [
             0.2,
             0.1,
             0.1,
             2025,
             "ESA (income-based)"
            ],
            [
             0.4,
             0.1,
             0.6,
             2025,
             "Working Tax Credit"
            ]
           ],
           "hovertemplate": "<b>%{customdata[4]} in %{customdata[3]}</b><br>Error: %{x}<br>Official: %{customdata[2]}m<br>OpenFisca-UK: %{customdata[0]}m<br>UKMOD: %{customdata[1]}m",
           "legendgroup": "OpenFisca-UK",
           "marker": {
            "color": "blue",
            "pattern": {
             "shape": ""
            }
           },
           "name": "OpenFisca-UK",
           "offsetgroup": "OpenFisca-UK",
           "orientation": "h",
           "showlegend": true,
           "textposition": "auto",
           "type": "bar",
           "x": [
            0.026000000000000002,
            0.052000000000000005,
            0.063,
            0.08,
            0.14,
            0.158,
            0.259,
            0.32899999999999996
           ],
           "xaxis": "x",
           "y": [
            "Income Tax",
            "Child Benefit",
            "Pension Credit",
            "Housing Benefit",
            "Universal Credit",
            "Child Tax Credit",
            "ESA (income-based)",
            "Working Tax Credit"
           ],
           "yaxis": "y"
          },
          {
           "alignmentgroup": "True",
           "customdata": [
            [
             33.4,
             31.5,
             34.3,
             2025,
             "Income Tax"
            ],
            [
             6.5,
             7,
             6.9,
             2025,
             "Child Benefit"
            ],
            [
             1.2,
             1.4,
             1.2,
             2025,
             "Pension Credit"
            ],
            [
             1.9,
             1.4,
             1.7,
             2025,
             "Housing Benefit"
            ],
            [
             7.2,
             6.1,
             6.3,
             2025,
             "Universal Credit"
            ],
            [
             0.6,
             0.3,
             0.7,
             2025,
             "Child Tax Credit"
            ],
            [
             0.2,
             0.1,
             0.1,
             2025,
             "ESA (income-based)"
            ],
            [
             0.4,
             0.1,
             0.6,
             2025,
             "Working Tax Credit"
            ]
           ],
           "hovertemplate": "<b>%{customdata[4]} in %{customdata[3]}</b><br>Error: %{x}<br>Official: %{customdata[2]}m<br>OpenFisca-UK: %{customdata[0]}m<br>UKMOD: %{customdata[1]}m",
           "legendgroup": "UKMOD",
           "marker": {
            "color": "lightgrey",
            "pattern": {
             "shape": ""
            }
           },
           "name": "UKMOD",
           "offsetgroup": "UKMOD",
           "orientation": "h",
           "showlegend": true,
           "textposition": "auto",
           "type": "bar",
           "x": [
            0.08199999999999999,
            0.018000000000000002,
            0.149,
            0.17,
            0.022000000000000002,
            0.563,
            0.106,
            0.785
           ],
           "xaxis": "x",
           "y": [
            "Income Tax",
            "Child Benefit",
            "Pension Credit",
            "Housing Benefit",
            "Universal Credit",
            "Child Tax Credit",
            "ESA (income-based)",
            "Working Tax Credit"
           ],
           "yaxis": "y"
          }
         ],
         "name": "2025"
        }
       ],
       "layout": {
        "barmode": "group",
        "height": 600,
        "legend": {
         "title": {
          "text": "Model"
         },
         "tracegroupgap": 0,
         "traceorder": "reversed"
        },
        "margin": {
         "t": 60
        },
        "sliders": [
         {
          "active": 0,
          "currentvalue": {
           "prefix": "Year="
          },
          "len": 0.9,
          "pad": {
           "b": 10,
           "t": 60
          },
          "steps": [
           {
            "args": [
             [
              "2019"
             ],
             {
              "frame": {
               "duration": 0,
               "redraw": true
              },
              "fromcurrent": true,
              "mode": "immediate",
              "transition": {
               "duration": 0,
               "easing": "linear"
              }
             }
            ],
            "label": "2019",
            "method": "animate"
           },
           {
            "args": [
             [
              "2020"
             ],
             {
              "frame": {
               "duration": 0,
               "redraw": true
              },
              "fromcurrent": true,
              "mode": "immediate",
              "transition": {
               "duration": 0,
               "easing": "linear"
              }
             }
            ],
            "label": "2020",
            "method": "animate"
           },
           {
            "args": [
             [
              "2021"
             ],
             {
              "frame": {
               "duration": 0,
               "redraw": true
              },
              "fromcurrent": true,
              "mode": "immediate",
              "transition": {
               "duration": 0,
               "easing": "linear"
              }
             }
            ],
            "label": "2021",
            "method": "animate"
           },
           {
            "args": [
             [
              "2022"
             ],
             {
              "frame": {
               "duration": 0,
               "redraw": true
              },
              "fromcurrent": true,
              "mode": "immediate",
              "transition": {
               "duration": 0,
               "easing": "linear"
              }
             }
            ],
            "label": "2022",
            "method": "animate"
           },
           {
            "args": [
             [
              "2023"
             ],
             {
              "frame": {
               "duration": 0,
               "redraw": true
              },
              "fromcurrent": true,
              "mode": "immediate",
              "transition": {
               "duration": 0,
               "easing": "linear"
              }
             }
            ],
            "label": "2023",
            "method": "animate"
           },
           {
            "args": [
             [
              "2024"
             ],
             {
              "frame": {
               "duration": 0,
               "redraw": true
              },
              "fromcurrent": true,
              "mode": "immediate",
              "transition": {
               "duration": 0,
               "easing": "linear"
              }
             }
            ],
            "label": "2024",
            "method": "animate"
           },
           {
            "args": [
             [
              "2025"
             ],
             {
              "frame": {
               "duration": 0,
               "redraw": true
              },
              "fromcurrent": true,
              "mode": "immediate",
              "transition": {
               "duration": 0,
               "easing": "linear"
              }
             }
            ],
            "label": "2025",
            "method": "animate"
           }
          ],
          "x": 0.1,
          "xanchor": "left",
          "y": 0,
          "yanchor": "top"
         }
        ],
        "template": {
         "data": {
          "bar": [
           {
            "error_x": {
             "color": "#2a3f5f"
            },
            "error_y": {
             "color": "#2a3f5f"
            },
            "marker": {
             "line": {
              "color": "white",
              "width": 0.5
             },
             "pattern": {
              "fillmode": "overlay",
              "size": 10,
              "solidity": 0.2
             }
            },
            "type": "bar"
           }
          ],
          "barpolar": [
           {
            "marker": {
             "line": {
              "color": "white",
              "width": 0.5
             },
             "pattern": {
              "fillmode": "overlay",
              "size": 10,
              "solidity": 0.2
             }
            },
            "type": "barpolar"
           }
          ],
          "carpet": [
           {
            "aaxis": {
             "endlinecolor": "#2a3f5f",
             "gridcolor": "#C8D4E3",
             "linecolor": "#C8D4E3",
             "minorgridcolor": "#C8D4E3",
             "startlinecolor": "#2a3f5f"
            },
            "baxis": {
             "endlinecolor": "#2a3f5f",
             "gridcolor": "#C8D4E3",
             "linecolor": "#C8D4E3",
             "minorgridcolor": "#C8D4E3",
             "startlinecolor": "#2a3f5f"
            },
            "type": "carpet"
           }
          ],
          "choropleth": [
           {
            "colorbar": {
             "outlinewidth": 0,
             "ticks": ""
            },
            "type": "choropleth"
           }
          ],
          "contour": [
           {
            "colorbar": {
             "outlinewidth": 0,
             "ticks": ""
            },
            "colorscale": [
             [
              0,
              "#0d0887"
             ],
             [
              0.1111111111111111,
              "#46039f"
             ],
             [
              0.2222222222222222,
              "#7201a8"
             ],
             [
              0.3333333333333333,
              "#9c179e"
             ],
             [
              0.4444444444444444,
              "#bd3786"
             ],
             [
              0.5555555555555556,
              "#d8576b"
             ],
             [
              0.6666666666666666,
              "#ed7953"
             ],
             [
              0.7777777777777778,
              "#fb9f3a"
             ],
             [
              0.8888888888888888,
              "#fdca26"
             ],
             [
              1,
              "#f0f921"
             ]
            ],
            "type": "contour"
           }
          ],
          "contourcarpet": [
           {
            "colorbar": {
             "outlinewidth": 0,
             "ticks": ""
            },
            "type": "contourcarpet"
           }
          ],
          "heatmap": [
           {
            "colorbar": {
             "outlinewidth": 0,
             "ticks": ""
            },
            "colorscale": [
             [
              0,
              "#0d0887"
             ],
             [
              0.1111111111111111,
              "#46039f"
             ],
             [
              0.2222222222222222,
              "#7201a8"
             ],
             [
              0.3333333333333333,
              "#9c179e"
             ],
             [
              0.4444444444444444,
              "#bd3786"
             ],
             [
              0.5555555555555556,
              "#d8576b"
             ],
             [
              0.6666666666666666,
              "#ed7953"
             ],
             [
              0.7777777777777778,
              "#fb9f3a"
             ],
             [
              0.8888888888888888,
              "#fdca26"
             ],
             [
              1,
              "#f0f921"
             ]
            ],
            "type": "heatmap"
           }
          ],
          "heatmapgl": [
           {
            "colorbar": {
             "outlinewidth": 0,
             "ticks": ""
            },
            "colorscale": [
             [
              0,
              "#0d0887"
             ],
             [
              0.1111111111111111,
              "#46039f"
             ],
             [
              0.2222222222222222,
              "#7201a8"
             ],
             [
              0.3333333333333333,
              "#9c179e"
             ],
             [
              0.4444444444444444,
              "#bd3786"
             ],
             [
              0.5555555555555556,
              "#d8576b"
             ],
             [
              0.6666666666666666,
              "#ed7953"
             ],
             [
              0.7777777777777778,
              "#fb9f3a"
             ],
             [
              0.8888888888888888,
              "#fdca26"
             ],
             [
              1,
              "#f0f921"
             ]
            ],
            "type": "heatmapgl"
           }
          ],
          "histogram": [
           {
            "marker": {
             "pattern": {
              "fillmode": "overlay",
              "size": 10,
              "solidity": 0.2
             }
            },
            "type": "histogram"
           }
          ],
          "histogram2d": [
           {
            "colorbar": {
             "outlinewidth": 0,
             "ticks": ""
            },
            "colorscale": [
             [
              0,
              "#0d0887"
             ],
             [
              0.1111111111111111,
              "#46039f"
             ],
             [
              0.2222222222222222,
              "#7201a8"
             ],
             [
              0.3333333333333333,
              "#9c179e"
             ],
             [
              0.4444444444444444,
              "#bd3786"
             ],
             [
              0.5555555555555556,
              "#d8576b"
             ],
             [
              0.6666666666666666,
              "#ed7953"
             ],
             [
              0.7777777777777778,
              "#fb9f3a"
             ],
             [
              0.8888888888888888,
              "#fdca26"
             ],
             [
              1,
              "#f0f921"
             ]
            ],
            "type": "histogram2d"
           }
          ],
          "histogram2dcontour": [
           {
            "colorbar": {
             "outlinewidth": 0,
             "ticks": ""
            },
            "colorscale": [
             [
              0,
              "#0d0887"
             ],
             [
              0.1111111111111111,
              "#46039f"
             ],
             [
              0.2222222222222222,
              "#7201a8"
             ],
             [
              0.3333333333333333,
              "#9c179e"
             ],
             [
              0.4444444444444444,
              "#bd3786"
             ],
             [
              0.5555555555555556,
              "#d8576b"
             ],
             [
              0.6666666666666666,
              "#ed7953"
             ],
             [
              0.7777777777777778,
              "#fb9f3a"
             ],
             [
              0.8888888888888888,
              "#fdca26"
             ],
             [
              1,
              "#f0f921"
             ]
            ],
            "type": "histogram2dcontour"
           }
          ],
          "mesh3d": [
           {
            "colorbar": {
             "outlinewidth": 0,
             "ticks": ""
            },
            "type": "mesh3d"
           }
          ],
          "parcoords": [
           {
            "line": {
             "colorbar": {
              "outlinewidth": 0,
              "ticks": ""
             }
            },
            "type": "parcoords"
           }
          ],
          "pie": [
           {
            "automargin": true,
            "type": "pie"
           }
          ],
          "scatter": [
           {
            "marker": {
             "colorbar": {
              "outlinewidth": 0,
              "ticks": ""
             }
            },
            "type": "scatter"
           }
          ],
          "scatter3d": [
           {
            "line": {
             "colorbar": {
              "outlinewidth": 0,
              "ticks": ""
             }
            },
            "marker": {
             "colorbar": {
              "outlinewidth": 0,
              "ticks": ""
             }
            },
            "type": "scatter3d"
           }
          ],
          "scattercarpet": [
           {
            "marker": {
             "colorbar": {
              "outlinewidth": 0,
              "ticks": ""
             }
            },
            "type": "scattercarpet"
           }
          ],
          "scattergeo": [
           {
            "marker": {
             "colorbar": {
              "outlinewidth": 0,
              "ticks": ""
             }
            },
            "type": "scattergeo"
           }
          ],
          "scattergl": [
           {
            "marker": {
             "colorbar": {
              "outlinewidth": 0,
              "ticks": ""
             }
            },
            "type": "scattergl"
           }
          ],
          "scattermapbox": [
           {
            "marker": {
             "colorbar": {
              "outlinewidth": 0,
              "ticks": ""
             }
            },
            "type": "scattermapbox"
           }
          ],
          "scatterpolar": [
           {
            "marker": {
             "colorbar": {
              "outlinewidth": 0,
              "ticks": ""
             }
            },
            "type": "scatterpolar"
           }
          ],
          "scatterpolargl": [
           {
            "marker": {
             "colorbar": {
              "outlinewidth": 0,
              "ticks": ""
             }
            },
            "type": "scatterpolargl"
           }
          ],
          "scatterternary": [
           {
            "marker": {
             "colorbar": {
              "outlinewidth": 0,
              "ticks": ""
             }
            },
            "type": "scatterternary"
           }
          ],
          "surface": [
           {
            "colorbar": {
             "outlinewidth": 0,
             "ticks": ""
            },
            "colorscale": [
             [
              0,
              "#0d0887"
             ],
             [
              0.1111111111111111,
              "#46039f"
             ],
             [
              0.2222222222222222,
              "#7201a8"
             ],
             [
              0.3333333333333333,
              "#9c179e"
             ],
             [
              0.4444444444444444,
              "#bd3786"
             ],
             [
              0.5555555555555556,
              "#d8576b"
             ],
             [
              0.6666666666666666,
              "#ed7953"
             ],
             [
              0.7777777777777778,
              "#fb9f3a"
             ],
             [
              0.8888888888888888,
              "#fdca26"
             ],
             [
              1,
              "#f0f921"
             ]
            ],
            "type": "surface"
           }
          ],
          "table": [
           {
            "cells": {
             "fill": {
              "color": "#EBF0F8"
             },
             "line": {
              "color": "white"
             }
            },
            "header": {
             "fill": {
              "color": "#C8D4E3"
             },
             "line": {
              "color": "white"
             }
            },
            "type": "table"
           }
          ]
         },
         "layout": {
          "annotationdefaults": {
           "arrowcolor": "#2a3f5f",
           "arrowhead": 0,
           "arrowwidth": 1
          },
          "autotypenumbers": "strict",
          "coloraxis": {
           "colorbar": {
            "outlinewidth": 0,
            "ticks": ""
           }
          },
          "colorscale": {
           "diverging": [
            [
             0,
             "#8e0152"
            ],
            [
             0.1,
             "#c51b7d"
            ],
            [
             0.2,
             "#de77ae"
            ],
            [
             0.3,
             "#f1b6da"
            ],
            [
             0.4,
             "#fde0ef"
            ],
            [
             0.5,
             "#f7f7f7"
            ],
            [
             0.6,
             "#e6f5d0"
            ],
            [
             0.7,
             "#b8e186"
            ],
            [
             0.8,
             "#7fbc41"
            ],
            [
             0.9,
             "#4d9221"
            ],
            [
             1,
             "#276419"
            ]
           ],
           "sequential": [
            [
             0,
             "#0d0887"
            ],
            [
             0.1111111111111111,
             "#46039f"
            ],
            [
             0.2222222222222222,
             "#7201a8"
            ],
            [
             0.3333333333333333,
             "#9c179e"
            ],
            [
             0.4444444444444444,
             "#bd3786"
            ],
            [
             0.5555555555555556,
             "#d8576b"
            ],
            [
             0.6666666666666666,
             "#ed7953"
            ],
            [
             0.7777777777777778,
             "#fb9f3a"
            ],
            [
             0.8888888888888888,
             "#fdca26"
            ],
            [
             1,
             "#f0f921"
            ]
           ],
           "sequentialminus": [
            [
             0,
             "#0d0887"
            ],
            [
             0.1111111111111111,
             "#46039f"
            ],
            [
             0.2222222222222222,
             "#7201a8"
            ],
            [
             0.3333333333333333,
             "#9c179e"
            ],
            [
             0.4444444444444444,
             "#bd3786"
            ],
            [
             0.5555555555555556,
             "#d8576b"
            ],
            [
             0.6666666666666666,
             "#ed7953"
            ],
            [
             0.7777777777777778,
             "#fb9f3a"
            ],
            [
             0.8888888888888888,
             "#fdca26"
            ],
            [
             1,
             "#f0f921"
            ]
           ]
          },
          "colorway": [
           "#636efa",
           "#EF553B",
           "#00cc96",
           "#ab63fa",
           "#FFA15A",
           "#19d3f3",
           "#FF6692",
           "#B6E880",
           "#FF97FF",
           "#FECB52"
          ],
          "font": {
           "color": "#2a3f5f"
          },
          "geo": {
           "bgcolor": "white",
           "lakecolor": "white",
           "landcolor": "white",
           "showlakes": true,
           "showland": true,
           "subunitcolor": "#C8D4E3"
          },
          "hoverlabel": {
           "align": "left"
          },
          "hovermode": "closest",
          "mapbox": {
           "style": "light"
          },
          "paper_bgcolor": "white",
          "plot_bgcolor": "white",
          "polar": {
           "angularaxis": {
            "gridcolor": "#EBF0F8",
            "linecolor": "#EBF0F8",
            "ticks": ""
           },
           "bgcolor": "white",
           "radialaxis": {
            "gridcolor": "#EBF0F8",
            "linecolor": "#EBF0F8",
            "ticks": ""
           }
          },
          "scene": {
           "xaxis": {
            "backgroundcolor": "white",
            "gridcolor": "#DFE8F3",
            "gridwidth": 2,
            "linecolor": "#EBF0F8",
            "showbackground": true,
            "ticks": "",
            "zerolinecolor": "#EBF0F8"
           },
           "yaxis": {
            "backgroundcolor": "white",
            "gridcolor": "#DFE8F3",
            "gridwidth": 2,
            "linecolor": "#EBF0F8",
            "showbackground": true,
            "ticks": "",
            "zerolinecolor": "#EBF0F8"
           },
           "zaxis": {
            "backgroundcolor": "white",
            "gridcolor": "#DFE8F3",
            "gridwidth": 2,
            "linecolor": "#EBF0F8",
            "showbackground": true,
            "ticks": "",
            "zerolinecolor": "#EBF0F8"
           }
          },
          "shapedefaults": {
           "line": {
            "color": "#2a3f5f"
           }
          },
          "ternary": {
           "aaxis": {
            "gridcolor": "#DFE8F3",
            "linecolor": "#A2B1C6",
            "ticks": ""
           },
           "baxis": {
            "gridcolor": "#DFE8F3",
            "linecolor": "#A2B1C6",
            "ticks": ""
           },
           "bgcolor": "white",
           "caxis": {
            "gridcolor": "#DFE8F3",
            "linecolor": "#A2B1C6",
            "ticks": ""
           }
          },
          "title": {
           "x": 0.05
          },
          "xaxis": {
           "automargin": true,
           "gridcolor": "#EBF0F8",
           "linecolor": "#EBF0F8",
           "ticks": "",
           "title": {
            "standoff": 15
           },
           "zerolinecolor": "#EBF0F8",
           "zerolinewidth": 2
          },
          "yaxis": {
           "automargin": true,
           "gridcolor": "#EBF0F8",
           "linecolor": "#EBF0F8",
           "ticks": "",
           "title": {
            "standoff": 15
           },
           "zerolinecolor": "#EBF0F8",
           "zerolinewidth": 2
          }
         }
        },
        "title": {
         "text": "Relative errors on caseloads"
        },
        "updatemenus": [
         {
          "buttons": [
           {
            "args": [
             null,
             {
              "frame": {
               "duration": 500,
               "redraw": true
              },
              "fromcurrent": true,
              "mode": "immediate",
              "transition": {
               "duration": 500,
               "easing": "linear"
              }
             }
            ],
            "label": "&#9654;",
            "method": "animate"
           },
           {
            "args": [
             [
              null
             ],
             {
              "frame": {
               "duration": 0,
               "redraw": true
              },
              "fromcurrent": true,
              "mode": "immediate",
              "transition": {
               "duration": 0,
               "easing": "linear"
              }
             }
            ],
            "label": "&#9724;",
            "method": "animate"
           }
          ],
          "direction": "left",
          "pad": {
           "r": 10,
           "t": 70
          },
          "showactive": false,
          "type": "buttons",
          "x": 0.1,
          "xanchor": "right",
          "y": 0,
          "yanchor": "top"
         }
        ],
        "width": 800,
        "xaxis": {
         "anchor": "y",
         "domain": [
          0,
          1
         ],
         "range": [
          0,
          1
         ],
         "tickformat": ".0%",
         "title": {
          "text": "Relative error"
         },
         "type": "linear"
        },
        "yaxis": {
         "anchor": "x",
         "autorange": true,
         "domain": [
          0,
          1
         ],
         "range": [
          -0.5,
          7.5
         ],
         "title": {
          "text": ""
         },
         "type": "category"
        }
       }
      },
      "image/png": "[encoded data removed]",
      "text/html": [
       "<div>                            <div id=\"1f9707fd-7907-4bbc-af5b-87e7d0464965\" class=\"plotly-graph-div\" style=\"height:600px; width:800px;\"></div>            <script type=\"text/javascript\">                require([\"plotly\"], function(Plotly) {                    window.PLOTLYENV=window.PLOTLYENV || {};                                    if (document.getElementById(\"1f9707fd-7907-4bbc-af5b-87e7d0464965\")) {                    Plotly.newPlot(                        \"1f9707fd-7907-4bbc-af5b-87e7d0464965\",                        [{\"alignmentgroup\":\"True\",\"customdata\":[[6.9,7.1,7.3,2019,\"Child Benefit\"],[29.6,39.9,31.4,2019,\"Income Tax\"],[1.5,1.5,1.6,2019,\"Pension Credit\"],[3.1,2.9,3.4,2019,\"Housing Benefit\"],[0.9,0.9,1.1,2019,\"ESA (income-based)\"],[2.5,1.7,2.8,2019,\"Child Tax Credit\"],[1.4,0.8,1.6,2019,\"Working Tax Credit\"],[2.6,2.1,2.1,2019,\"Universal Credit\"]],\"hovertemplate\":\"<b>%{customdata[4]} in %{customdata[3]}</b><br>Error: %{x}<br>Official: %{customdata[2]}m<br>OpenFisca-UK: %{customdata[0]}m<br>UKMOD: %{customdata[1]}m\",\"legendgroup\":\"OpenFisca-UK\",\"marker\":{\"color\":\"blue\",\"pattern\":{\"shape\":\"\"}},\"name\":\"OpenFisca-UK\",\"offsetgroup\":\"OpenFisca-UK\",\"orientation\":\"h\",\"showlegend\":true,\"textposition\":\"auto\",\"type\":\"bar\",\"x\":[0.055,0.055999999999999994,0.057,0.08900000000000001,0.113,0.129,0.161,0.19699999999999998],\"xaxis\":\"x\",\"y\":[\"Child Benefit\",\"Income Tax\",\"Pension Credit\",\"Housing Benefit\",\"ESA (income-based)\",\"Child Tax Credit\",\"Working Tax Credit\",\"Universal Credit\"],\"yaxis\":\"y\"},{\"alignmentgroup\":\"True\",\"customdata\":[[6.9,7.1,7.3,2019,\"Child Benefit\"],[29.6,39.9,31.4,2019,\"Income Tax\"],[1.5,1.5,1.6,2019,\"Pension Credit\"],[3.1,2.9,3.4,2019,\"Housing Benefit\"],[0.9,0.9,1.1,2019,\"ESA (income-based)\"],[2.5,1.7,2.8,2019,\"Child Tax Credit\"],[1.4,0.8,1.6,2019,\"Working Tax Credit\"],[2.6,2.1,2.1,2019,\"Universal Credit\"]],\"hovertemplate\":\"<b>%{customdata[4]} in %{customdata[3]}</b><br>Error: %{x}<br>Official: %{customdata[2]}m<br>OpenFisca-UK: %{customdata[0]}m<br>UKMOD: %{customdata[1]}m\",\"legendgroup\":\"UKMOD\",\"marker\":{\"color\":\"lightgrey\",\"pattern\":{\"shape\":\"\"}},\"name\":\"UKMOD\",\"offsetgroup\":\"UKMOD\",\"orientation\":\"h\",\"showlegend\":true,\"textposition\":\"auto\",\"type\":\"bar\",\"x\":[0.025,0.26899999999999996,0.026000000000000002,0.142,0.156,0.387,0.498,0.002],\"xaxis\":\"x\",\"y\":[\"Child Benefit\",\"Income Tax\",\"Pension Credit\",\"Housing Benefit\",\"ESA (income-based)\",\"Child Tax Credit\",\"Working Tax Credit\",\"Universal Credit\"],\"yaxis\":\"y\"}],                        {\"barmode\":\"group\",\"height\":600,\"legend\":{\"title\":{\"text\":\"Model\"},\"tracegroupgap\":0,\"traceorder\":\"reversed\"},\"margin\":{\"t\":60},\"sliders\":[{\"active\":0,\"currentvalue\":{\"prefix\":\"Year=\"},\"len\":0.9,\"pad\":{\"b\":10,\"t\":60},\"steps\":[{\"args\":[[\"2019\"],{\"frame\":{\"duration\":0,\"redraw\":true},\"fromcurrent\":true,\"mode\":\"immediate\",\"transition\":{\"duration\":0,\"easing\":\"linear\"}}],\"label\":\"2019\",\"method\":\"animate\"},{\"args\":[[\"2020\"],{\"frame\":{\"duration\":0,\"redraw\":true},\"fromcurrent\":true,\"mode\":\"immediate\",\"transition\":{\"duration\":0,\"easing\":\"linear\"}}],\"label\":\"2020\",\"method\":\"animate\"},{\"args\":[[\"2021\"],{\"frame\":{\"duration\":0,\"redraw\":true},\"fromcurrent\":true,\"mode\":\"immediate\",\"transition\":{\"duration\":0,\"easing\":\"linear\"}}],\"label\":\"2021\",\"method\":\"animate\"},{\"args\":[[\"2022\"],{\"frame\":{\"duration\":0,\"redraw\":true},\"fromcurrent\":true,\"mode\":\"immediate\",\"transition\":{\"duration\":0,\"easing\":\"linear\"}}],\"label\":\"2022\",\"method\":\"animate\"},{\"args\":[[\"2023\"],{\"frame\":{\"duration\":0,\"redraw\":true},\"fromcurrent\":true,\"mode\":\"immediate\",\"transition\":{\"duration\":0,\"easing\":\"linear\"}}],\"label\":\"2023\",\"method\":\"animate\"},{\"args\":[[\"2024\"],{\"frame\":{\"duration\":0,\"redraw\":true},\"fromcurrent\":true,\"mode\":\"immediate\",\"transition\":{\"duration\":0,\"easing\":\"linear\"}}],\"label\":\"2024\",\"method\":\"animate\"},{\"args\":[[\"2025\"],{\"frame\":{\"duration\":0,\"redraw\":true},\"fromcurrent\":true,\"mode\":\"immediate\",\"transition\":{\"duration\":0,\"easing\":\"linear\"}}],\"label\":\"2025\",\"method\":\"animate\"}],\"x\":0.1,\"xanchor\":\"left\",\"y\":0,\"yanchor\":\"top\"}],\"template\":{\"data\":{\"bar\":[{\"error_x\":{\"color\":\"#2a3f5f\"},\"error_y\":{\"color\":\"#2a3f5f\"},\"marker\":{\"line\":{\"color\":\"white\",\"width\":0.5},\"pattern\":{\"fillmode\":\"overlay\",\"size\":10,\"solidity\":0.2}},\"type\":\"bar\"}],\"barpolar\":[{\"marker\":{\"line\":{\"color\":\"white\",\"width\":0.5},\"pattern\":{\"fillmode\":\"overlay\",\"size\":10,\"solidity\":0.2}},\"type\":\"barpolar\"}],\"carpet\":[{\"aaxis\":{\"endlinecolor\":\"#2a3f5f\",\"gridcolor\":\"#C8D4E3\",\"linecolor\":\"#C8D4E3\",\"minorgridcolor\":\"#C8D4E3\",\"startlinecolor\":\"#2a3f5f\"},\"baxis\":{\"endlinecolor\":\"#2a3f5f\",\"gridcolor\":\"#C8D4E3\",\"linecolor\":\"#C8D4E3\",\"minorgridcolor\":\"#C8D4E3\",\"startlinecolor\":\"#2a3f5f\"},\"type\":\"carpet\"}],\"choropleth\":[{\"colorbar\":{\"outlinewidth\":0,\"ticks\":\"\"},\"type\":\"choropleth\"}],\"contour\":[{\"colorbar\":{\"outlinewidth\":0,\"ticks\":\"\"},\"colorscale\":[[0.0,\"#0d0887\"],[0.1111111111111111,\"#46039f\"],[0.2222222222222222,\"#7201a8\"],[0.3333333333333333,\"#9c179e\"],[0.4444444444444444,\"#bd3786\"],[0.5555555555555556,\"#d8576b\"],[0.6666666666666666,\"#ed7953\"],[0.7777777777777778,\"#fb9f3a\"],[0.8888888888888888,\"#fdca26\"],[1.0,\"#f0f921\"]],\"type\":\"contour\"}],\"contourcarpet\":[{\"colorbar\":{\"outlinewidth\":0,\"ticks\":\"\"},\"type\":\"contourcarpet\"}],\"heatmap\":[{\"colorbar\":{\"outlinewidth\":0,\"ticks\":\"\"},\"colorscale\":[[0.0,\"#0d0887\"],[0.1111111111111111,\"#46039f\"],[0.2222222222222222,\"#7201a8\"],[0.3333333333333333,\"#9c179e\"],[0.4444444444444444,\"#bd3786\"],[0.5555555555555556,\"#d8576b\"],[0.6666666666666666,\"#ed7953\"],[0.7777777777777778,\"#fb9f3a\"],[0.8888888888888888,\"#fdca26\"],[1.0,\"#f0f921\"]],\"type\":\"heatmap\"}],\"heatmapgl\":[{\"colorbar\":{\"outlinewidth\":0,\"ticks\":\"\"},\"colorscale\":[[0.0,\"#0d0887\"],[0.1111111111111111,\"#46039f\"],[0.2222222222222222,\"#7201a8\"],[0.3333333333333333,\"#9c179e\"],[0.4444444444444444,\"#bd3786\"],[0.5555555555555556,\"#d8576b\"],[0.6666666666666666,\"#ed7953\"],[0.7777777777777778,\"#fb9f3a\"],[0.8888888888888888,\"#fdca26\"],[1.0,\"#f0f921\"]],\"type\":\"heatmapgl\"}],\"histogram\":[{\"marker\":{\"pattern\":{\"fillmode\":\"overlay\",\"size\":10,\"solidity\":0.2}},\"type\":\"histogram\"}],\"histogram2d\":[{\"colorbar\":{\"outlinewidth\":0,\"ticks\":\"\"},\"colorscale\":[[0.0,\"#0d0887\"],[0.1111111111111111,\"#46039f\"],[0.2222222222222222,\"#7201a8\"],[0.3333333333333333,\"#9c179e\"],[0.4444444444444444,\"#bd3786\"],[0.5555555555555556,\"#d8576b\"],[0.6666666666666666,\"#ed7953\"],[0.7777777777777778,\"#fb9f3a\"],[0.8888888888888888,\"#fdca26\"],[1.0,\"#f0f921\"]],\"type\":\"histogram2d\"}],\"histogram2dcontour\":[{\"colorbar\":{\"outlinewidth\":0,\"ticks\":\"\"},\"colorscale\":[[0.0,\"#0d0887\"],[0.1111111111111111,\"#46039f\"],[0.2222222222222222,\"#7201a8\"],[0.3333333333333333,\"#9c179e\"],[0.4444444444444444,\"#bd3786\"],[0.5555555555555556,\"#d8576b\"],[0.6666666666666666,\"#ed7953\"],[0.7777777777777778,\"#fb9f3a\"],[0.8888888888888888,\"#fdca26\"],[1.0,\"#f0f921\"]],\"type\":\"histogram2dcontour\"}],\"mesh3d\":[{\"colorbar\":{\"outlinewidth\":0,\"ticks\":\"\"},\"type\":\"mesh3d\"}],\"parcoords\":[{\"line\":{\"colorbar\":{\"outlinewidth\":0,\"ticks\":\"\"}},\"type\":\"parcoords\"}],\"pie\":[{\"automargin\":true,\"type\":\"pie\"}],\"scatter\":[{\"marker\":{\"colorbar\":{\"outlinewidth\":0,\"ticks\":\"\"}},\"type\":\"scatter\"}],\"scatter3d\":[{\"line\":{\"colorbar\":{\"outlinewidth\":0,\"ticks\":\"\"}},\"marker\":{\"colorbar\":{\"outlinewidth\":0,\"ticks\":\"\"}},\"type\":\"scatter3d\"}],\"scattercarpet\":[{\"marker\":{\"colorbar\":{\"outlinewidth\":0,\"ticks\":\"\"}},\"type\":\"scattercarpet\"}],\"scattergeo\":[{\"marker\":{\"colorbar\":{\"outlinewidth\":0,\"ticks\":\"\"}},\"type\":\"scattergeo\"}],\"scattergl\":[{\"marker\":{\"colorbar\":{\"outlinewidth\":0,\"ticks\":\"\"}},\"type\":\"scattergl\"}],\"scattermapbox\":[{\"marker\":{\"colorbar\":{\"outlinewidth\":0,\"ticks\":\"\"}},\"type\":\"scattermapbox\"}],\"scatterpolar\":[{\"marker\":{\"colorbar\":{\"outlinewidth\":0,\"ticks\":\"\"}},\"type\":\"scatterpolar\"}],\"scatterpolargl\":[{\"marker\":{\"colorbar\":{\"outlinewidth\":0,\"ticks\":\"\"}},\"type\":\"scatterpolargl\"}],\"scatterternary\":[{\"marker\":{\"colorbar\":{\"outlinewidth\":0,\"ticks\":\"\"}},\"type\":\"scatterternary\"}],\"surface\":[{\"colorbar\":{\"outlinewidth\":0,\"ticks\":\"\"},\"colorscale\":[[0.0,\"#0d0887\"],[0.1111111111111111,\"#46039f\"],[0.2222222222222222,\"#7201a8\"],[0.3333333333333333,\"#9c179e\"],[0.4444444444444444,\"#bd3786\"],[0.5555555555555556,\"#d8576b\"],[0.6666666666666666,\"#ed7953\"],[0.7777777777777778,\"#fb9f3a\"],[0.8888888888888888,\"#fdca26\"],[1.0,\"#f0f921\"]],\"type\":\"surface\"}],\"table\":[{\"cells\":{\"fill\":{\"color\":\"#EBF0F8\"},\"line\":{\"color\":\"white\"}},\"header\":{\"fill\":{\"color\":\"#C8D4E3\"},\"line\":{\"color\":\"white\"}},\"type\":\"table\"}]},\"layout\":{\"annotationdefaults\":{\"arrowcolor\":\"#2a3f5f\",\"arrowhead\":0,\"arrowwidth\":1},\"autotypenumbers\":\"strict\",\"coloraxis\":{\"colorbar\":{\"outlinewidth\":0,\"ticks\":\"\"}},\"colorscale\":{\"diverging\":[[0,\"#8e0152\"],[0.1,\"#c51b7d\"],[0.2,\"#de77ae\"],[0.3,\"#f1b6da\"],[0.4,\"#fde0ef\"],[0.5,\"#f7f7f7\"],[0.6,\"#e6f5d0\"],[0.7,\"#b8e186\"],[0.8,\"#7fbc41\"],[0.9,\"#4d9221\"],[1,\"#276419\"]],\"sequential\":[[0.0,\"#0d0887\"],[0.1111111111111111,\"#46039f\"],[0.2222222222222222,\"#7201a8\"],[0.3333333333333333,\"#9c179e\"],[0.4444444444444444,\"#bd3786\"],[0.5555555555555556,\"#d8576b\"],[0.6666666666666666,\"#ed7953\"],[0.7777777777777778,\"#fb9f3a\"],[0.8888888888888888,\"#fdca26\"],[1.0,\"#f0f921\"]],\"sequentialminus\":[[0.0,\"#0d0887\"],[0.1111111111111111,\"#46039f\"],[0.2222222222222222,\"#7201a8\"],[0.3333333333333333,\"#9c179e\"],[0.4444444444444444,\"#bd3786\"],[0.5555555555555556,\"#d8576b\"],[0.6666666666666666,\"#ed7953\"],[0.7777777777777778,\"#fb9f3a\"],[0.8888888888888888,\"#fdca26\"],[1.0,\"#f0f921\"]]},\"colorway\":[\"#636efa\",\"#EF553B\",\"#00cc96\",\"#ab63fa\",\"#FFA15A\",\"#19d3f3\",\"#FF6692\",\"#B6E880\",\"#FF97FF\",\"#FECB52\"],\"font\":{\"color\":\"#2a3f5f\"},\"geo\":{\"bgcolor\":\"white\",\"lakecolor\":\"white\",\"landcolor\":\"white\",\"showlakes\":true,\"showland\":true,\"subunitcolor\":\"#C8D4E3\"},\"hoverlabel\":{\"align\":\"left\"},\"hovermode\":\"closest\",\"mapbox\":{\"style\":\"light\"},\"paper_bgcolor\":\"white\",\"plot_bgcolor\":\"white\",\"polar\":{\"angularaxis\":{\"gridcolor\":\"#EBF0F8\",\"linecolor\":\"#EBF0F8\",\"ticks\":\"\"},\"bgcolor\":\"white\",\"radialaxis\":{\"gridcolor\":\"#EBF0F8\",\"linecolor\":\"#EBF0F8\",\"ticks\":\"\"}},\"scene\":{\"xaxis\":{\"backgroundcolor\":\"white\",\"gridcolor\":\"#DFE8F3\",\"gridwidth\":2,\"linecolor\":\"#EBF0F8\",\"showbackground\":true,\"ticks\":\"\",\"zerolinecolor\":\"#EBF0F8\"},\"yaxis\":{\"backgroundcolor\":\"white\",\"gridcolor\":\"#DFE8F3\",\"gridwidth\":2,\"linecolor\":\"#EBF0F8\",\"showbackground\":true,\"ticks\":\"\",\"zerolinecolor\":\"#EBF0F8\"},\"zaxis\":{\"backgroundcolor\":\"white\",\"gridcolor\":\"#DFE8F3\",\"gridwidth\":2,\"linecolor\":\"#EBF0F8\",\"showbackground\":true,\"ticks\":\"\",\"zerolinecolor\":\"#EBF0F8\"}},\"shapedefaults\":{\"line\":{\"color\":\"#2a3f5f\"}},\"ternary\":{\"aaxis\":{\"gridcolor\":\"#DFE8F3\",\"linecolor\":\"#A2B1C6\",\"ticks\":\"\"},\"baxis\":{\"gridcolor\":\"#DFE8F3\",\"linecolor\":\"#A2B1C6\",\"ticks\":\"\"},\"bgcolor\":\"white\",\"caxis\":{\"gridcolor\":\"#DFE8F3\",\"linecolor\":\"#A2B1C6\",\"ticks\":\"\"}},\"title\":{\"x\":0.05},\"xaxis\":{\"automargin\":true,\"gridcolor\":\"#EBF0F8\",\"linecolor\":\"#EBF0F8\",\"ticks\":\"\",\"title\":{\"standoff\":15},\"zerolinecolor\":\"#EBF0F8\",\"zerolinewidth\":2},\"yaxis\":{\"automargin\":true,\"gridcolor\":\"#EBF0F8\",\"linecolor\":\"#EBF0F8\",\"ticks\":\"\",\"title\":{\"standoff\":15},\"zerolinecolor\":\"#EBF0F8\",\"zerolinewidth\":2}}},\"title\":{\"text\":\"Relative errors on caseloads\"},\"updatemenus\":[{\"buttons\":[{\"args\":[null,{\"frame\":{\"duration\":500,\"redraw\":true},\"fromcurrent\":true,\"mode\":\"immediate\",\"transition\":{\"duration\":500,\"easing\":\"linear\"}}],\"label\":\"&#9654;\",\"method\":\"animate\"},{\"args\":[[null],{\"frame\":{\"duration\":0,\"redraw\":true},\"fromcurrent\":true,\"mode\":\"immediate\",\"transition\":{\"duration\":0,\"easing\":\"linear\"}}],\"label\":\"&#9724;\",\"method\":\"animate\"}],\"direction\":\"left\",\"pad\":{\"r\":10,\"t\":70},\"showactive\":false,\"type\":\"buttons\",\"x\":0.1,\"xanchor\":\"right\",\"y\":0,\"yanchor\":\"top\"}],\"width\":800,\"xaxis\":{\"anchor\":\"y\",\"domain\":[0.0,1.0],\"range\":[0,1],\"tickformat\":\".0%\",\"title\":{\"text\":\"Relative error\"}},\"yaxis\":{\"anchor\":\"x\",\"domain\":[0.0,1.0],\"title\":{\"text\":\"\"}}},                        {\"responsive\": true}                    ).then(function(){\n",
       "                            Plotly.addFrames('1f9707fd-7907-4bbc-af5b-87e7d0464965', [{\"data\":[{\"alignmentgroup\":\"True\",\"customdata\":[[6.9,7.1,7.3,2019,\"Child Benefit\"],[29.6,39.9,31.4,2019,\"Income Tax\"],[1.5,1.5,1.6,2019,\"Pension Credit\"],[3.1,2.9,3.4,2019,\"Housing Benefit\"],[0.9,0.9,1.1,2019,\"ESA (income-based)\"],[2.5,1.7,2.8,2019,\"Child Tax Credit\"],[1.4,0.8,1.6,2019,\"Working Tax Credit\"],[2.6,2.1,2.1,2019,\"Universal Credit\"]],\"hovertemplate\":\"<b>%{customdata[4]} in %{customdata[3]}</b><br>Error: %{x}<br>Official: %{customdata[2]}m<br>OpenFisca-UK: %{customdata[0]}m<br>UKMOD: %{customdata[1]}m\",\"legendgroup\":\"OpenFisca-UK\",\"marker\":{\"color\":\"blue\",\"pattern\":{\"shape\":\"\"}},\"name\":\"OpenFisca-UK\",\"offsetgroup\":\"OpenFisca-UK\",\"orientation\":\"h\",\"showlegend\":true,\"textposition\":\"auto\",\"type\":\"bar\",\"x\":[0.055,0.055999999999999994,0.057,0.08900000000000001,0.113,0.129,0.161,0.19699999999999998],\"xaxis\":\"x\",\"y\":[\"Child Benefit\",\"Income Tax\",\"Pension Credit\",\"Housing Benefit\",\"ESA (income-based)\",\"Child Tax Credit\",\"Working Tax Credit\",\"Universal Credit\"],\"yaxis\":\"y\"},{\"alignmentgroup\":\"True\",\"customdata\":[[6.9,7.1,7.3,2019,\"Child Benefit\"],[29.6,39.9,31.4,2019,\"Income Tax\"],[1.5,1.5,1.6,2019,\"Pension Credit\"],[3.1,2.9,3.4,2019,\"Housing Benefit\"],[0.9,0.9,1.1,2019,\"ESA (income-based)\"],[2.5,1.7,2.8,2019,\"Child Tax Credit\"],[1.4,0.8,1.6,2019,\"Working Tax Credit\"],[2.6,2.1,2.1,2019,\"Universal Credit\"]],\"hovertemplate\":\"<b>%{customdata[4]} in %{customdata[3]}</b><br>Error: %{x}<br>Official: %{customdata[2]}m<br>OpenFisca-UK: %{customdata[0]}m<br>UKMOD: %{customdata[1]}m\",\"legendgroup\":\"UKMOD\",\"marker\":{\"color\":\"lightgrey\",\"pattern\":{\"shape\":\"\"}},\"name\":\"UKMOD\",\"offsetgroup\":\"UKMOD\",\"orientation\":\"h\",\"showlegend\":true,\"textposition\":\"auto\",\"type\":\"bar\",\"x\":[0.025,0.26899999999999996,0.026000000000000002,0.142,0.156,0.387,0.498,0.002],\"xaxis\":\"x\",\"y\":[\"Child Benefit\",\"Income Tax\",\"Pension Credit\",\"Housing Benefit\",\"ESA (income-based)\",\"Child Tax Credit\",\"Working Tax Credit\",\"Universal Credit\"],\"yaxis\":\"y\"}],\"name\":\"2019\"},{\"data\":[{\"alignmentgroup\":\"True\",\"customdata\":[[1.0,0.8,1.0,2020,\"ESA (income-based)\"],[2.1,1.5,2.1,2020,\"Child Tax Credit\"],[2.9,2.7,3.0,2020,\"Housing Benefit\"],[1.4,1.5,1.5,2020,\"Pension Credit\"],[6.7,7.1,7.2,2020,\"Child Benefit\"],[29.3,29.5,31.7,2020,\"Income Tax\"],[1.1,0.6,1.2,2020,\"Working Tax Credit\"],[4.5,3.1,4.1,2020,\"Universal Credit\"]],\"hovertemplate\":\"<b>%{customdata[4]} in %{customdata[3]}</b><br>Error: %{x}<br>Official: %{customdata[2]}m<br>OpenFisca-UK: %{customdata[0]}m<br>UKMOD: %{customdata[1]}m\",\"legendgroup\":\"OpenFisca-UK\",\"marker\":{\"color\":\"blue\",\"pattern\":{\"shape\":\"\"}},\"name\":\"OpenFisca-UK\",\"offsetgroup\":\"OpenFisca-UK\",\"orientation\":\"h\",\"showlegend\":true,\"textposition\":\"auto\",\"type\":\"bar\",\"x\":[0.004,0.017,0.039,0.048,0.065,0.076,0.086,0.11800000000000001],\"xaxis\":\"x\",\"y\":[\"ESA (income-based)\",\"Child Tax Credit\",\"Housing Benefit\",\"Pension Credit\",\"Child Benefit\",\"Income Tax\",\"Working Tax Credit\",\"Universal Credit\"],\"yaxis\":\"y\"},{\"alignmentgroup\":\"True\",\"customdata\":[[1.0,0.8,1.0,2020,\"ESA (income-based)\"],[2.1,1.5,2.1,2020,\"Child Tax Credit\"],[2.9,2.7,3.0,2020,\"Housing Benefit\"],[1.4,1.5,1.5,2020,\"Pension Credit\"],[6.7,7.1,7.2,2020,\"Child Benefit\"],[29.3,29.5,31.7,2020,\"Income Tax\"],[1.1,0.6,1.2,2020,\"Working Tax Credit\"],[4.5,3.1,4.1,2020,\"Universal Credit\"]],\"hovertemplate\":\"<b>%{customdata[4]} in %{customdata[3]}</b><br>Error: %{x}<br>Official: %{customdata[2]}m<br>OpenFisca-UK: %{customdata[0]}m<br>UKMOD: %{customdata[1]}m\",\"legendgroup\":\"UKMOD\",\"marker\":{\"color\":\"lightgrey\",\"pattern\":{\"shape\":\"\"}},\"name\":\"UKMOD\",\"offsetgroup\":\"UKMOD\",\"orientation\":\"h\",\"showlegend\":true,\"textposition\":\"auto\",\"type\":\"bar\",\"x\":[0.175,0.304,0.113,0.045,0.016,0.068,0.48200000000000004,0.223],\"xaxis\":\"x\",\"y\":[\"ESA (income-based)\",\"Child Tax Credit\",\"Housing Benefit\",\"Pension Credit\",\"Child Benefit\",\"Income Tax\",\"Working Tax Credit\",\"Universal Credit\"],\"yaxis\":\"y\"}],\"name\":\"2020\"},{\"data\":[{\"alignmentgroup\":\"True\",\"customdata\":[[1.7,1.3,1.7,2021,\"Child Tax Credit\"],[2.9,2.4,2.9,2021,\"Housing Benefit\"],[1.4,1.4,1.5,2021,\"Pension Credit\"],[30.1,29.4,32.2,2021,\"Income Tax\"],[6.7,7.2,7.1,2021,\"Child Benefit\"],[4.7,3.6,4.3,2021,\"Universal Credit\"],[0.9,0.7,1.0,2021,\"Working Tax Credit\"],[0.5,0.7,0.4,2021,\"ESA (income-based)\"]],\"hovertemplate\":\"<b>%{customdata[4]} in %{customdata[3]}</b><br>Error: %{x}<br>Official: %{customdata[2]}m<br>OpenFisca-UK: %{customdata[0]}m<br>UKMOD: %{customdata[1]}m\",\"legendgroup\":\"OpenFisca-UK\",\"marker\":{\"color\":\"blue\",\"pattern\":{\"shape\":\"\"}},\"name\":\"OpenFisca-UK\",\"offsetgroup\":\"OpenFisca-UK\",\"orientation\":\"h\",\"showlegend\":true,\"textposition\":\"auto\",\"type\":\"bar\",\"x\":[0.018000000000000002,0.02,0.034,0.065,0.066,0.105,0.128,0.203],\"xaxis\":\"x\",\"y\":[\"Child Tax Credit\",\"Housing Benefit\",\"Pension Credit\",\"Income Tax\",\"Child Benefit\",\"Universal Credit\",\"Working Tax Credit\",\"ESA (income-based)\"],\"yaxis\":\"y\"},{\"alignmentgroup\":\"True\",\"customdata\":[[1.7,1.3,1.7,2021,\"Child Tax Credit\"],[2.9,2.4,2.9,2021,\"Housing Benefit\"],[1.4,1.4,1.5,2021,\"Pension Credit\"],[30.1,29.4,32.2,2021,\"Income Tax\"],[6.7,7.2,7.1,2021,\"Child Benefit\"],[4.7,3.6,4.3,2021,\"Universal Credit\"],[0.9,0.7,1.0,2021,\"Working Tax Credit\"],[0.5,0.7,0.4,2021,\"ESA (income-based)\"]],\"hovertemplate\":\"<b>%{customdata[4]} in %{customdata[3]}</b><br>Error: %{x}<br>Official: %{customdata[2]}m<br>OpenFisca-UK: %{customdata[0]}m<br>UKMOD: %{customdata[1]}m\",\"legendgroup\":\"UKMOD\",\"marker\":{\"color\":\"lightgrey\",\"pattern\":{\"shape\":\"\"}},\"name\":\"UKMOD\",\"offsetgroup\":\"UKMOD\",\"orientation\":\"h\",\"showlegend\":true,\"textposition\":\"auto\",\"type\":\"bar\",\"x\":[0.222,0.16699999999999998,0.039,0.086,0.003,0.16399999999999998,0.364,0.722],\"xaxis\":\"x\",\"y\":[\"Child Tax Credit\",\"Housing Benefit\",\"Pension Credit\",\"Income Tax\",\"Child Benefit\",\"Universal Credit\",\"Working Tax Credit\",\"ESA (income-based)\"],\"yaxis\":\"y\"}],\"name\":\"2021\"},{\"data\":[{\"alignmentgroup\":\"True\",\"customdata\":[[2.7,2.3,2.7,2022,\"Housing Benefit\"],[1.3,1.1,1.3,2022,\"Child Tax Credit\"],[1.4,1.4,1.4,2022,\"Pension Credit\"],[30.9,30.0,32.7,2022,\"Income Tax\"],[6.6,7.1,7.1,2022,\"Child Benefit\"],[5.2,4.2,4.6,2022,\"Universal Credit\"],[0.8,0.5,0.9,2022,\"Working Tax Credit\"],[0.5,0.6,0.4,2022,\"ESA (income-based)\"]],\"hovertemplate\":\"<b>%{customdata[4]} in %{customdata[3]}</b><br>Error: %{x}<br>Official: %{customdata[2]}m<br>OpenFisca-UK: %{customdata[0]}m<br>UKMOD: %{customdata[1]}m\",\"legendgroup\":\"OpenFisca-UK\",\"marker\":{\"color\":\"blue\",\"pattern\":{\"shape\":\"\"}},\"name\":\"OpenFisca-UK\",\"offsetgroup\":\"OpenFisca-UK\",\"orientation\":\"h\",\"showlegend\":true,\"textposition\":\"auto\",\"type\":\"bar\",\"x\":[0.003,0.008,0.031,0.055999999999999994,0.063,0.111,0.129,0.212],\"xaxis\":\"x\",\"y\":[\"Housing Benefit\",\"Child Tax Credit\",\"Pension Credit\",\"Income Tax\",\"Child Benefit\",\"Universal Credit\",\"Working Tax Credit\",\"ESA (income-based)\"],\"yaxis\":\"y\"},{\"alignmentgroup\":\"True\",\"customdata\":[[2.7,2.3,2.7,2022,\"Housing Benefit\"],[1.3,1.1,1.3,2022,\"Child Tax Credit\"],[1.4,1.4,1.4,2022,\"Pension Credit\"],[30.9,30.0,32.7,2022,\"Income Tax\"],[6.6,7.1,7.1,2022,\"Child Benefit\"],[5.2,4.2,4.6,2022,\"Universal Credit\"],[0.8,0.5,0.9,2022,\"Working Tax Credit\"],[0.5,0.6,0.4,2022,\"ESA (income-based)\"]],\"hovertemplate\":\"<b>%{customdata[4]} in %{customdata[3]}</b><br>Error: %{x}<br>Official: %{customdata[2]}m<br>OpenFisca-UK: %{customdata[0]}m<br>UKMOD: %{customdata[1]}m\",\"legendgroup\":\"UKMOD\",\"marker\":{\"color\":\"lightgrey\",\"pattern\":{\"shape\":\"\"}},\"name\":\"UKMOD\",\"offsetgroup\":\"UKMOD\",\"orientation\":\"h\",\"showlegend\":true,\"textposition\":\"auto\",\"type\":\"bar\",\"x\":[0.165,0.193,0.005,0.08199999999999999,0.006,0.094,0.406,0.5579999999999999],\"xaxis\":\"x\",\"y\":[\"Housing Benefit\",\"Child Tax Credit\",\"Pension Credit\",\"Income Tax\",\"Child Benefit\",\"Universal Credit\",\"Working Tax Credit\",\"ESA (income-based)\"],\"yaxis\":\"y\"}],\"name\":\"2022\"},{\"data\":[{\"alignmentgroup\":\"True\",\"customdata\":[[1.0,0.9,1.1,2023,\"Child Tax Credit\"],[1.3,1.4,1.3,2023,\"Pension Credit\"],[2.5,2.0,2.5,2023,\"Housing Benefit\"],[31.7,30.6,33.2,2023,\"Income Tax\"],[6.6,7.1,7.0,2023,\"Child Benefit\"],[5.7,4.7,5.0,2023,\"Universal Credit\"],[0.7,0.4,0.8,2023,\"Working Tax Credit\"],[0.4,0.5,0.3,2023,\"ESA (income-based)\"]],\"hovertemplate\":\"<b>%{customdata[4]} in %{customdata[3]}</b><br>Error: %{x}<br>Official: %{customdata[2]}m<br>OpenFisca-UK: %{customdata[0]}m<br>UKMOD: %{customdata[1]}m\",\"legendgroup\":\"OpenFisca-UK\",\"marker\":{\"color\":\"blue\",\"pattern\":{\"shape\":\"\"}},\"name\":\"OpenFisca-UK\",\"offsetgroup\":\"OpenFisca-UK\",\"orientation\":\"h\",\"showlegend\":true,\"textposition\":\"auto\",\"type\":\"bar\",\"x\":[0.015,0.027000000000000003,0.028999999999999998,0.047,0.059000000000000004,0.12,0.155,0.222],\"xaxis\":\"x\",\"y\":[\"Child Tax Credit\",\"Pension Credit\",\"Housing Benefit\",\"Income Tax\",\"Child Benefit\",\"Universal Credit\",\"Working Tax Credit\",\"ESA (income-based)\"],\"yaxis\":\"y\"},{\"alignmentgroup\":\"True\",\"customdata\":[[1.0,0.9,1.1,2023,\"Child Tax Credit\"],[1.3,1.4,1.3,2023,\"Pension Credit\"],[2.5,2.0,2.5,2023,\"Housing Benefit\"],[31.7,30.6,33.2,2023,\"Income Tax\"],[6.6,7.1,7.0,2023,\"Child Benefit\"],[5.7,4.7,5.0,2023,\"Universal Credit\"],[0.7,0.4,0.8,2023,\"Working Tax Credit\"],[0.4,0.5,0.3,2023,\"ESA (income-based)\"]],\"hovertemplate\":\"<b>%{customdata[4]} in %{customdata[3]}</b><br>Error: %{x}<br>Official: %{customdata[2]}m<br>OpenFisca-UK: %{customdata[0]}m<br>UKMOD: %{customdata[1]}m\",\"legendgroup\":\"UKMOD\",\"marker\":{\"color\":\"lightgrey\",\"pattern\":{\"shape\":\"\"}},\"name\":\"UKMOD\",\"offsetgroup\":\"UKMOD\",\"orientation\":\"h\",\"showlegend\":true,\"textposition\":\"auto\",\"type\":\"bar\",\"x\":[0.161,0.078,0.166,0.079,0.01,0.078,0.44,0.42200000000000004],\"xaxis\":\"x\",\"y\":[\"Child Tax Credit\",\"Pension Credit\",\"Housing Benefit\",\"Income Tax\",\"Child Benefit\",\"Universal Credit\",\"Working Tax Credit\",\"ESA (income-based)\"],\"yaxis\":\"y\"}],\"name\":\"2023\"},{\"data\":[{\"alignmentgroup\":\"True\",\"customdata\":[[32.6,30.9,33.7,2024,\"Income Tax\"],[1.2,1.4,1.3,2024,\"Pension Credit\"],[0.8,0.6,0.8,2024,\"Child Tax Credit\"],[6.5,7.0,6.9,2024,\"Child Benefit\"],[2.2,1.8,2.1,2024,\"Housing Benefit\"],[6.3,5.3,5.6,2024,\"Universal Credit\"],[0.5,0.3,0.7,2024,\"Working Tax Credit\"],[0.3,0.3,0.3,2024,\"ESA (income-based)\"]],\"hovertemplate\":\"<b>%{customdata[4]} in %{customdata[3]}</b><br>Error: %{x}<br>Official: %{customdata[2]}m<br>OpenFisca-UK: %{customdata[0]}m<br>UKMOD: %{customdata[1]}m\",\"legendgroup\":\"OpenFisca-UK\",\"marker\":{\"color\":\"blue\",\"pattern\":{\"shape\":\"\"}},\"name\":\"OpenFisca-UK\",\"offsetgroup\":\"OpenFisca-UK\",\"orientation\":\"h\",\"showlegend\":true,\"textposition\":\"auto\",\"type\":\"bar\",\"x\":[0.034,0.044000000000000004,0.052000000000000005,0.055,0.055,0.128,0.20199999999999999,0.24],\"xaxis\":\"x\",\"y\":[\"Income Tax\",\"Pension Credit\",\"Child Tax Credit\",\"Child Benefit\",\"Housing Benefit\",\"Universal Credit\",\"Working Tax Credit\",\"ESA (income-based)\"],\"yaxis\":\"y\"},{\"alignmentgroup\":\"True\",\"customdata\":[[32.6,30.9,33.7,2024,\"Income Tax\"],[1.2,1.4,1.3,2024,\"Pension Credit\"],[0.8,0.6,0.8,2024,\"Child Tax Credit\"],[6.5,7.0,6.9,2024,\"Child Benefit\"],[2.2,1.8,2.1,2024,\"Housing Benefit\"],[6.3,5.3,5.6,2024,\"Universal Credit\"],[0.5,0.3,0.7,2024,\"Working Tax Credit\"],[0.3,0.3,0.3,2024,\"ESA (income-based)\"]],\"hovertemplate\":\"<b>%{customdata[4]} in %{customdata[3]}</b><br>Error: %{x}<br>Official: %{customdata[2]}m<br>OpenFisca-UK: %{customdata[0]}m<br>UKMOD: %{customdata[1]}m\",\"legendgroup\":\"UKMOD\",\"marker\":{\"color\":\"lightgrey\",\"pattern\":{\"shape\":\"\"}},\"name\":\"UKMOD\",\"offsetgroup\":\"UKMOD\",\"orientation\":\"h\",\"showlegend\":true,\"textposition\":\"auto\",\"type\":\"bar\",\"x\":[0.083,0.12300000000000001,0.23600000000000002,0.013000000000000001,0.157,0.052000000000000005,0.569,0.295],\"xaxis\":\"x\",\"y\":[\"Income Tax\",\"Pension Credit\",\"Child Tax Credit\",\"Child Benefit\",\"Housing Benefit\",\"Universal Credit\",\"Working Tax Credit\",\"ESA (income-based)\"],\"yaxis\":\"y\"}],\"name\":\"2024\"},{\"data\":[{\"alignmentgroup\":\"True\",\"customdata\":[[33.4,31.5,34.3,2025,\"Income Tax\"],[6.5,7.0,6.9,2025,\"Child Benefit\"],[1.2,1.4,1.2,2025,\"Pension Credit\"],[1.9,1.4,1.7,2025,\"Housing Benefit\"],[7.2,6.1,6.3,2025,\"Universal Credit\"],[0.6,0.3,0.7,2025,\"Child Tax Credit\"],[0.2,0.1,0.1,2025,\"ESA (income-based)\"],[0.4,0.1,0.6,2025,\"Working Tax Credit\"]],\"hovertemplate\":\"<b>%{customdata[4]} in %{customdata[3]}</b><br>Error: %{x}<br>Official: %{customdata[2]}m<br>OpenFisca-UK: %{customdata[0]}m<br>UKMOD: %{customdata[1]}m\",\"legendgroup\":\"OpenFisca-UK\",\"marker\":{\"color\":\"blue\",\"pattern\":{\"shape\":\"\"}},\"name\":\"OpenFisca-UK\",\"offsetgroup\":\"OpenFisca-UK\",\"orientation\":\"h\",\"showlegend\":true,\"textposition\":\"auto\",\"type\":\"bar\",\"x\":[0.026000000000000002,0.052000000000000005,0.063,0.08,0.14,0.158,0.259,0.32899999999999996],\"xaxis\":\"x\",\"y\":[\"Income Tax\",\"Child Benefit\",\"Pension Credit\",\"Housing Benefit\",\"Universal Credit\",\"Child Tax Credit\",\"ESA (income-based)\",\"Working Tax Credit\"],\"yaxis\":\"y\"},{\"alignmentgroup\":\"True\",\"customdata\":[[33.4,31.5,34.3,2025,\"Income Tax\"],[6.5,7.0,6.9,2025,\"Child Benefit\"],[1.2,1.4,1.2,2025,\"Pension Credit\"],[1.9,1.4,1.7,2025,\"Housing Benefit\"],[7.2,6.1,6.3,2025,\"Universal Credit\"],[0.6,0.3,0.7,2025,\"Child Tax Credit\"],[0.2,0.1,0.1,2025,\"ESA (income-based)\"],[0.4,0.1,0.6,2025,\"Working Tax Credit\"]],\"hovertemplate\":\"<b>%{customdata[4]} in %{customdata[3]}</b><br>Error: %{x}<br>Official: %{customdata[2]}m<br>OpenFisca-UK: %{customdata[0]}m<br>UKMOD: %{customdata[1]}m\",\"legendgroup\":\"UKMOD\",\"marker\":{\"color\":\"lightgrey\",\"pattern\":{\"shape\":\"\"}},\"name\":\"UKMOD\",\"offsetgroup\":\"UKMOD\",\"orientation\":\"h\",\"showlegend\":true,\"textposition\":\"auto\",\"type\":\"bar\",\"x\":[0.08199999999999999,0.018000000000000002,0.149,0.17,0.022000000000000002,0.563,0.106,0.785],\"xaxis\":\"x\",\"y\":[\"Income Tax\",\"Child Benefit\",\"Pension Credit\",\"Housing Benefit\",\"Universal Credit\",\"Child Tax Credit\",\"ESA (income-based)\",\"Working Tax Credit\"],\"yaxis\":\"y\"}],\"name\":\"2025\"}]);\n",
       "                        }).then(function(){\n",
       "                            \n",
       "var gd = document.getElementById('1f9707fd-7907-4bbc-af5b-87e7d0464965');\n",
       "var x = new MutationObserver(function (mutations, observer) {{\n",
       "        var display = window.getComputedStyle(gd).display;\n",
       "        if (!display || display === 'none') {{\n",
       "            console.log([gd, 'removed!']);\n",
       "            Plotly.purge(gd);\n",
       "            observer.disconnect();\n",
       "        }}\n",
       "}});\n",
       "\n",
       "// Listen for the removal of the full notebook cells\n",
       "var notebookContainer = gd.closest('#notebook-container');\n",
       "if (notebookContainer) {{\n",
       "    x.observe(notebookContainer, {childList: true});\n",
       "}}\n",
       "\n",
       "// Listen for the clearing of the current output cell\n",
       "var outputEl = gd.closest('.output');\n",
       "if (outputEl) {{\n",
       "    x.observe(outputEl, {childList: true});\n",
       "}}\n",
       "\n",
       "                        })                };                });            </script>        </div>"
      ]
     },
     "metadata": {},
     "output_type": "display_data"
    }
   ],
   "source": [
    "def error_chart(table, title=None):\n",
    "    hovertemplate = \"<b>%{customdata[4]} in %{customdata[3]}</b><br>Error: %{x}<br>Official: %{customdata[2]}m<br>OpenFisca-UK: %{customdata[0]}m<br>UKMOD: %{customdata[1]}m\"\n",
    "    table = table.replace(\"\", np.nan).dropna(axis=0)\n",
    "    table[[OPENFISCA_UK, UKMOD]] = table[[OPENFISCA_UK, UKMOD]].abs() / 1e2\n",
    "    fig = (\n",
    "        px.bar(\n",
    "            table.sort_values([\"Year\", OPENFISCA_UK]),\n",
    "            x=[OPENFISCA_UK, UKMOD],\n",
    "            y=\"Program\",\n",
    "            orientation=\"h\",\n",
    "            animation_frame=\"Year\",\n",
    "            barmode=\"group\",\n",
    "            color_discrete_map={\n",
    "                OPENFISCA_UK: \"blue\",\n",
    "                UKMOD: \"lightgrey\",\n",
    "            },\n",
    "            custom_data=[\n",
    "                \"OpenFisca-UK caseload\",\n",
    "                \"UKMOD caseload\",\n",
    "                \"External caseload\",\n",
    "                \"Year\",\n",
    "                \"Program\",\n",
    "            ],\n",
    "        )\n",
    "        .update_layout(\n",
    "            width=800,\n",
    "            height=600,\n",
    "            xaxis_tickformat=\".0%\",\n",
    "            xaxis_title=\"Relative error\",\n",
    "            title=title,\n",
    "            xaxis_range=(0, 1),\n",
    "            template=\"plotly_white\",\n",
    "            legend_title=\"Model\",\n",
    "            yaxis_title=\"\",\n",
    "            legend_traceorder=\"reversed\",\n",
    "        )\n",
    "        .update_traces(hovertemplate=hovertemplate)\n",
    "    )\n",
    "    for frame in fig.frames:\n",
    "        for data in frame.data:\n",
    "            data.hovertemplate = hovertemplate\n",
    "    return fig\n",
    "\n",
    "\n",
    "error_chart(\n",
    "    tables_to_model_comparisons(\n",
    "        {\n",
    "            \"\": model_validation_table(\n",
    "                relative_caseload_error,\n",
    "                models=[OPENFISCA_UK, UKMOD],\n",
    "                divisor=1e-2,\n",
    "                decimals=1,\n",
    "            ),\n",
    "            \"caseload\": model_validation_table(\n",
    "                caseload, divisor=1e6, decimals=1\n",
    "            ),\n",
    "        }\n",
    "    ),\n",
    "    title=\"Relative errors on caseloads\",\n",
    ")"
   ]
  },
  {
   "cell_type": "markdown",
   "id": "85a7bbc1-bc8f-45fa-9267-e01bf023b199",
   "metadata": {},
   "source": [
    "## Automated tests\n",
    "\n",
    "Below are test results from the most recent version."
   ]
  },
  {
   "cell_type": "code",
   "execution_count": 12,
   "id": "36cf98bd-f26a-49bb-a852-cedaeaf12a8d",
   "metadata": {
    "tags": [
     "hide-input"
    ]
   },
   "outputs": [
    {
     "data": {
      "text/html": [
       "<div>\n",
       "<style scoped>\n",
       "    .dataframe tbody tr th:only-of-type {\n",
       "        vertical-align: middle;\n",
       "    }\n",
       "\n",
       "    .dataframe tbody tr th {\n",
       "        vertical-align: top;\n",
       "    }\n",
       "\n",
       "    .dataframe thead th {\n",
       "        text-align: right;\n",
       "    }\n",
       "</style>\n",
       "<table border=\"1\" class=\"dataframe\">\n",
       "  <thead>\n",
       "    <tr style=\"text-align: right;\">\n",
       "      <th></th>\n",
       "      <th>Name</th>\n",
       "      <th>Passed</th>\n",
       "    </tr>\n",
       "  </thead>\n",
       "  <tbody>\n",
       "    <tr>\n",
       "      <th>0</th>\n",
       "      <td>OpenFisca-UK Child Benefit aggregate error is less than 10.0% in 2019</td>\n",
       "      <td>True</td>\n",
       "    </tr>\n",
       "    <tr>\n",
       "      <th>1</th>\n",
       "      <td>OpenFisca-UK Child Benefit aggregate error is less than 10.0% in 2020</td>\n",
       "      <td>True</td>\n",
       "    </tr>\n",
       "    <tr>\n",
       "      <th>2</th>\n",
       "      <td>OpenFisca-UK Child Benefit aggregate error is less than 10.0% in 2021</td>\n",
       "      <td>True</td>\n",
       "    </tr>\n",
       "    <tr>\n",
       "      <th>3</th>\n",
       "      <td>OpenFisca-UK Child Benefit aggregate error is less than 10.0% in 2022</td>\n",
       "      <td>True</td>\n",
       "    </tr>\n",
       "    <tr>\n",
       "      <th>4</th>\n",
       "      <td>OpenFisca-UK Child Benefit caseload error is less than 10.0% in 2019</td>\n",
       "      <td>True</td>\n",
       "    </tr>\n",
       "    <tr>\n",
       "      <th>5</th>\n",
       "      <td>OpenFisca-UK Child Benefit caseload error is less than 10.0% in 2020</td>\n",
       "      <td>True</td>\n",
       "    </tr>\n",
       "    <tr>\n",
       "      <th>6</th>\n",
       "      <td>OpenFisca-UK Child Benefit caseload error is less than 10.0% in 2021</td>\n",
       "      <td>True</td>\n",
       "    </tr>\n",
       "    <tr>\n",
       "      <th>7</th>\n",
       "      <td>OpenFisca-UK Child Benefit caseload error is less than 10.0% in 2022</td>\n",
       "      <td>True</td>\n",
       "    </tr>\n",
       "    <tr>\n",
       "      <th>8</th>\n",
       "      <td>OpenFisca-UK Council Tax (less CTB) aggregate error is less than 11.0% in 2019</td>\n",
       "      <td>True</td>\n",
       "    </tr>\n",
       "    <tr>\n",
       "      <th>9</th>\n",
       "      <td>OpenFisca-UK Council Tax (less CTB) aggregate error is less than 11.0% in 2020</td>\n",
       "      <td>True</td>\n",
       "    </tr>\n",
       "    <tr>\n",
       "      <th>10</th>\n",
       "      <td>OpenFisca-UK Council Tax (less CTB) aggregate error is less than 11.0% in 2021</td>\n",
       "      <td>True</td>\n",
       "    </tr>\n",
       "    <tr>\n",
       "      <th>11</th>\n",
       "      <td>OpenFisca-UK Council Tax (less CTB) aggregate error is less than 11.0% in 2022</td>\n",
       "      <td>True</td>\n",
       "    </tr>\n",
       "    <tr>\n",
       "      <th>12</th>\n",
       "      <td>OpenFisca-UK Child Tax Credit aggregate error is less than 40.0% in 2019</td>\n",
       "      <td>True</td>\n",
       "    </tr>\n",
       "    <tr>\n",
       "      <th>13</th>\n",
       "      <td>OpenFisca-UK Child Tax Credit aggregate error is less than 40.0% in 2020</td>\n",
       "      <td>True</td>\n",
       "    </tr>\n",
       "    <tr>\n",
       "      <th>14</th>\n",
       "      <td>OpenFisca-UK Child Tax Credit aggregate error is less than 40.0% in 2021</td>\n",
       "      <td>True</td>\n",
       "    </tr>\n",
       "    <tr>\n",
       "      <th>15</th>\n",
       "      <td>OpenFisca-UK Child Tax Credit aggregate error is less than 40.0% in 2022</td>\n",
       "      <td>True</td>\n",
       "    </tr>\n",
       "    <tr>\n",
       "      <th>16</th>\n",
       "      <td>OpenFisca-UK Child Tax Credit caseload error is less than 25.0% in 2019</td>\n",
       "      <td>True</td>\n",
       "    </tr>\n",
       "    <tr>\n",
       "      <th>17</th>\n",
       "      <td>OpenFisca-UK Child Tax Credit caseload error is less than 25.0% in 2020</td>\n",
       "      <td>True</td>\n",
       "    </tr>\n",
       "    <tr>\n",
       "      <th>18</th>\n",
       "      <td>OpenFisca-UK Child Tax Credit caseload error is less than 25.0% in 2021</td>\n",
       "      <td>True</td>\n",
       "    </tr>\n",
       "    <tr>\n",
       "      <th>19</th>\n",
       "      <td>OpenFisca-UK Child Tax Credit caseload error is less than 25.0% in 2022</td>\n",
       "      <td>True</td>\n",
       "    </tr>\n",
       "    <tr>\n",
       "      <th>20</th>\n",
       "      <td>OpenFisca-UK Working Tax Credit aggregate error is less than 45.0% in 2019</td>\n",
       "      <td>True</td>\n",
       "    </tr>\n",
       "    <tr>\n",
       "      <th>21</th>\n",
       "      <td>OpenFisca-UK Working Tax Credit aggregate error is less than 45.0% in 2020</td>\n",
       "      <td>True</td>\n",
       "    </tr>\n",
       "    <tr>\n",
       "      <th>22</th>\n",
       "      <td>OpenFisca-UK Working Tax Credit aggregate error is less than 45.0% in 2021</td>\n",
       "      <td>True</td>\n",
       "    </tr>\n",
       "    <tr>\n",
       "      <th>23</th>\n",
       "      <td>OpenFisca-UK Working Tax Credit aggregate error is less than 45.0% in 2022</td>\n",
       "      <td>True</td>\n",
       "    </tr>\n",
       "    <tr>\n",
       "      <th>24</th>\n",
       "      <td>OpenFisca-UK Working Tax Credit caseload error is less than 40.0% in 2019</td>\n",
       "      <td>True</td>\n",
       "    </tr>\n",
       "    <tr>\n",
       "      <th>25</th>\n",
       "      <td>OpenFisca-UK Working Tax Credit caseload error is less than 40.0% in 2020</td>\n",
       "      <td>True</td>\n",
       "    </tr>\n",
       "    <tr>\n",
       "      <th>26</th>\n",
       "      <td>OpenFisca-UK Working Tax Credit caseload error is less than 40.0% in 2021</td>\n",
       "      <td>True</td>\n",
       "    </tr>\n",
       "    <tr>\n",
       "      <th>27</th>\n",
       "      <td>OpenFisca-UK Working Tax Credit caseload error is less than 40.0% in 2022</td>\n",
       "      <td>True</td>\n",
       "    </tr>\n",
       "    <tr>\n",
       "      <th>28</th>\n",
       "      <td>OpenFisca-UK Housing Benefit aggregate error is less than 25.0% in 2019</td>\n",
       "      <td>False</td>\n",
       "    </tr>\n",
       "    <tr>\n",
       "      <th>29</th>\n",
       "      <td>OpenFisca-UK Housing Benefit aggregate error is less than 25.0% in 2020</td>\n",
       "      <td>False</td>\n",
       "    </tr>\n",
       "    <tr>\n",
       "      <th>30</th>\n",
       "      <td>OpenFisca-UK Housing Benefit aggregate error is less than 25.0% in 2021</td>\n",
       "      <td>False</td>\n",
       "    </tr>\n",
       "    <tr>\n",
       "      <th>31</th>\n",
       "      <td>OpenFisca-UK Housing Benefit aggregate error is less than 25.0% in 2022</td>\n",
       "      <td>True</td>\n",
       "    </tr>\n",
       "    <tr>\n",
       "      <th>32</th>\n",
       "      <td>OpenFisca-UK Housing Benefit caseload error is less than 15.0% in 2019</td>\n",
       "      <td>True</td>\n",
       "    </tr>\n",
       "    <tr>\n",
       "      <th>33</th>\n",
       "      <td>OpenFisca-UK Housing Benefit caseload error is less than 15.0% in 2020</td>\n",
       "      <td>True</td>\n",
       "    </tr>\n",
       "    <tr>\n",
       "      <th>34</th>\n",
       "      <td>OpenFisca-UK Housing Benefit caseload error is less than 15.0% in 2021</td>\n",
       "      <td>True</td>\n",
       "    </tr>\n",
       "    <tr>\n",
       "      <th>35</th>\n",
       "      <td>OpenFisca-UK Housing Benefit caseload error is less than 15.0% in 2022</td>\n",
       "      <td>True</td>\n",
       "    </tr>\n",
       "    <tr>\n",
       "      <th>36</th>\n",
       "      <td>OpenFisca-UK JSA (income-based) aggregate error is less than 20.0% in 2019</td>\n",
       "      <td>False</td>\n",
       "    </tr>\n",
       "    <tr>\n",
       "      <th>37</th>\n",
       "      <td>OpenFisca-UK JSA (income-based) aggregate error is less than 20.0% in 2020</td>\n",
       "      <td>True</td>\n",
       "    </tr>\n",
       "    <tr>\n",
       "      <th>38</th>\n",
       "      <td>OpenFisca-UK JSA (income-based) aggregate error is less than 20.0% in 2021</td>\n",
       "      <td>True</td>\n",
       "    </tr>\n",
       "    <tr>\n",
       "      <th>39</th>\n",
       "      <td>OpenFisca-UK JSA (income-based) aggregate error is less than 20.0% in 2022</td>\n",
       "      <td>True</td>\n",
       "    </tr>\n",
       "    <tr>\n",
       "      <th>40</th>\n",
       "      <td>OpenFisca-UK JSA (income-based) caseload error is less than 20.0% in 2019</td>\n",
       "      <td>True</td>\n",
       "    </tr>\n",
       "    <tr>\n",
       "      <th>41</th>\n",
       "      <td>OpenFisca-UK JSA (income-based) caseload error is less than 20.0% in 2020</td>\n",
       "      <td>True</td>\n",
       "    </tr>\n",
       "    <tr>\n",
       "      <th>42</th>\n",
       "      <td>OpenFisca-UK JSA (income-based) caseload error is less than 20.0% in 2021</td>\n",
       "      <td>True</td>\n",
       "    </tr>\n",
       "    <tr>\n",
       "      <th>43</th>\n",
       "      <td>OpenFisca-UK JSA (income-based) caseload error is less than 20.0% in 2022</td>\n",
       "      <td>True</td>\n",
       "    </tr>\n",
       "    <tr>\n",
       "      <th>44</th>\n",
       "      <td>OpenFisca-UK Income Support aggregate error is less than 15.0% in 2019</td>\n",
       "      <td>True</td>\n",
       "    </tr>\n",
       "    <tr>\n",
       "      <th>45</th>\n",
       "      <td>OpenFisca-UK Income Support aggregate error is less than 15.0% in 2020</td>\n",
       "      <td>True</td>\n",
       "    </tr>\n",
       "    <tr>\n",
       "      <th>46</th>\n",
       "      <td>OpenFisca-UK Income Support aggregate error is less than 15.0% in 2021</td>\n",
       "      <td>True</td>\n",
       "    </tr>\n",
       "    <tr>\n",
       "      <th>47</th>\n",
       "      <td>OpenFisca-UK Income Support aggregate error is less than 15.0% in 2022</td>\n",
       "      <td>True</td>\n",
       "    </tr>\n",
       "    <tr>\n",
       "      <th>48</th>\n",
       "      <td>OpenFisca-UK Income Support caseload error is less than 15.0% in 2019</td>\n",
       "      <td>True</td>\n",
       "    </tr>\n",
       "    <tr>\n",
       "      <th>49</th>\n",
       "      <td>OpenFisca-UK Income Support caseload error is less than 15.0% in 2020</td>\n",
       "      <td>True</td>\n",
       "    </tr>\n",
       "    <tr>\n",
       "      <th>50</th>\n",
       "      <td>OpenFisca-UK Income Support caseload error is less than 15.0% in 2021</td>\n",
       "      <td>True</td>\n",
       "    </tr>\n",
       "    <tr>\n",
       "      <th>51</th>\n",
       "      <td>OpenFisca-UK Income Support caseload error is less than 15.0% in 2022</td>\n",
       "      <td>True</td>\n",
       "    </tr>\n",
       "    <tr>\n",
       "      <th>52</th>\n",
       "      <td>OpenFisca-UK Universal Credit aggregate error is less than 5.0% in 2019</td>\n",
       "      <td>False</td>\n",
       "    </tr>\n",
       "    <tr>\n",
       "      <th>53</th>\n",
       "      <td>OpenFisca-UK Universal Credit aggregate error is less than 5.0% in 2020</td>\n",
       "      <td>True</td>\n",
       "    </tr>\n",
       "    <tr>\n",
       "      <th>54</th>\n",
       "      <td>OpenFisca-UK Universal Credit aggregate error is less than 5.0% in 2021</td>\n",
       "      <td>True</td>\n",
       "    </tr>\n",
       "    <tr>\n",
       "      <th>55</th>\n",
       "      <td>OpenFisca-UK Universal Credit aggregate error is less than 5.0% in 2022</td>\n",
       "      <td>False</td>\n",
       "    </tr>\n",
       "    <tr>\n",
       "      <th>56</th>\n",
       "      <td>OpenFisca-UK Universal Credit caseload error is less than 10.0% in 2019</td>\n",
       "      <td>False</td>\n",
       "    </tr>\n",
       "    <tr>\n",
       "      <th>57</th>\n",
       "      <td>OpenFisca-UK Universal Credit caseload error is less than 10.0% in 2020</td>\n",
       "      <td>False</td>\n",
       "    </tr>\n",
       "    <tr>\n",
       "      <th>58</th>\n",
       "      <td>OpenFisca-UK Universal Credit caseload error is less than 10.0% in 2021</td>\n",
       "      <td>False</td>\n",
       "    </tr>\n",
       "    <tr>\n",
       "      <th>59</th>\n",
       "      <td>OpenFisca-UK Universal Credit caseload error is less than 10.0% in 2022</td>\n",
       "      <td>False</td>\n",
       "    </tr>\n",
       "    <tr>\n",
       "      <th>60</th>\n",
       "      <td>OpenFisca-UK Income Tax aggregate error is less than 12.5% in 2019</td>\n",
       "      <td>True</td>\n",
       "    </tr>\n",
       "    <tr>\n",
       "      <th>61</th>\n",
       "      <td>OpenFisca-UK Income Tax aggregate error is less than 12.5% in 2020</td>\n",
       "      <td>False</td>\n",
       "    </tr>\n",
       "    <tr>\n",
       "      <th>62</th>\n",
       "      <td>OpenFisca-UK Income Tax aggregate error is less than 12.5% in 2021</td>\n",
       "      <td>True</td>\n",
       "    </tr>\n",
       "    <tr>\n",
       "      <th>63</th>\n",
       "      <td>OpenFisca-UK Income Tax aggregate error is less than 12.5% in 2022</td>\n",
       "      <td>False</td>\n",
       "    </tr>\n",
       "    <tr>\n",
       "      <th>64</th>\n",
       "      <td>OpenFisca-UK Income Tax caseload error is less than 12.5% in 2019</td>\n",
       "      <td>True</td>\n",
       "    </tr>\n",
       "    <tr>\n",
       "      <th>65</th>\n",
       "      <td>OpenFisca-UK Income Tax caseload error is less than 12.5% in 2020</td>\n",
       "      <td>True</td>\n",
       "    </tr>\n",
       "    <tr>\n",
       "      <th>66</th>\n",
       "      <td>OpenFisca-UK Income Tax caseload error is less than 12.5% in 2021</td>\n",
       "      <td>True</td>\n",
       "    </tr>\n",
       "    <tr>\n",
       "      <th>67</th>\n",
       "      <td>OpenFisca-UK Income Tax caseload error is less than 12.5% in 2022</td>\n",
       "      <td>True</td>\n",
       "    </tr>\n",
       "    <tr>\n",
       "      <th>68</th>\n",
       "      <td>OpenFisca-UK National Insurance (total) aggregate error is less than 5.0% in 2019</td>\n",
       "      <td>True</td>\n",
       "    </tr>\n",
       "    <tr>\n",
       "      <th>69</th>\n",
       "      <td>OpenFisca-UK National Insurance (total) aggregate error is less than 5.0% in 2020</td>\n",
       "      <td>True</td>\n",
       "    </tr>\n",
       "    <tr>\n",
       "      <th>70</th>\n",
       "      <td>OpenFisca-UK National Insurance (total) aggregate error is less than 5.0% in 2021</td>\n",
       "      <td>True</td>\n",
       "    </tr>\n",
       "    <tr>\n",
       "      <th>71</th>\n",
       "      <td>OpenFisca-UK National Insurance (total) aggregate error is less than 5.0% in 2022</td>\n",
       "      <td>True</td>\n",
       "    </tr>\n",
       "  </tbody>\n",
       "</table>\n",
       "</div>"
      ],
      "text/plain": [
       "                                                                                 Name  \\\n",
       "0   OpenFisca-UK Child Benefit aggregate error is less than 10.0% in 2019               \n",
       "1   OpenFisca-UK Child Benefit aggregate error is less than 10.0% in 2020               \n",
       "2   OpenFisca-UK Child Benefit aggregate error is less than 10.0% in 2021               \n",
       "3   OpenFisca-UK Child Benefit aggregate error is less than 10.0% in 2022               \n",
       "4   OpenFisca-UK Child Benefit caseload error is less than 10.0% in 2019                \n",
       "5   OpenFisca-UK Child Benefit caseload error is less than 10.0% in 2020                \n",
       "6   OpenFisca-UK Child Benefit caseload error is less than 10.0% in 2021                \n",
       "7   OpenFisca-UK Child Benefit caseload error is less than 10.0% in 2022                \n",
       "8   OpenFisca-UK Council Tax (less CTB) aggregate error is less than 11.0% in 2019      \n",
       "9   OpenFisca-UK Council Tax (less CTB) aggregate error is less than 11.0% in 2020      \n",
       "10  OpenFisca-UK Council Tax (less CTB) aggregate error is less than 11.0% in 2021      \n",
       "11  OpenFisca-UK Council Tax (less CTB) aggregate error is less than 11.0% in 2022      \n",
       "12  OpenFisca-UK Child Tax Credit aggregate error is less than 40.0% in 2019            \n",
       "13  OpenFisca-UK Child Tax Credit aggregate error is less than 40.0% in 2020            \n",
       "14  OpenFisca-UK Child Tax Credit aggregate error is less than 40.0% in 2021            \n",
       "15  OpenFisca-UK Child Tax Credit aggregate error is less than 40.0% in 2022            \n",
       "16  OpenFisca-UK Child Tax Credit caseload error is less than 25.0% in 2019             \n",
       "17  OpenFisca-UK Child Tax Credit caseload error is less than 25.0% in 2020             \n",
       "18  OpenFisca-UK Child Tax Credit caseload error is less than 25.0% in 2021             \n",
       "19  OpenFisca-UK Child Tax Credit caseload error is less than 25.0% in 2022             \n",
       "20  OpenFisca-UK Working Tax Credit aggregate error is less than 45.0% in 2019          \n",
       "21  OpenFisca-UK Working Tax Credit aggregate error is less than 45.0% in 2020          \n",
       "22  OpenFisca-UK Working Tax Credit aggregate error is less than 45.0% in 2021          \n",
       "23  OpenFisca-UK Working Tax Credit aggregate error is less than 45.0% in 2022          \n",
       "24  OpenFisca-UK Working Tax Credit caseload error is less than 40.0% in 2019           \n",
       "25  OpenFisca-UK Working Tax Credit caseload error is less than 40.0% in 2020           \n",
       "26  OpenFisca-UK Working Tax Credit caseload error is less than 40.0% in 2021           \n",
       "27  OpenFisca-UK Working Tax Credit caseload error is less than 40.0% in 2022           \n",
       "28  OpenFisca-UK Housing Benefit aggregate error is less than 25.0% in 2019             \n",
       "29  OpenFisca-UK Housing Benefit aggregate error is less than 25.0% in 2020             \n",
       "30  OpenFisca-UK Housing Benefit aggregate error is less than 25.0% in 2021             \n",
       "31  OpenFisca-UK Housing Benefit aggregate error is less than 25.0% in 2022             \n",
       "32  OpenFisca-UK Housing Benefit caseload error is less than 15.0% in 2019              \n",
       "33  OpenFisca-UK Housing Benefit caseload error is less than 15.0% in 2020              \n",
       "34  OpenFisca-UK Housing Benefit caseload error is less than 15.0% in 2021              \n",
       "35  OpenFisca-UK Housing Benefit caseload error is less than 15.0% in 2022              \n",
       "36  OpenFisca-UK JSA (income-based) aggregate error is less than 20.0% in 2019          \n",
       "37  OpenFisca-UK JSA (income-based) aggregate error is less than 20.0% in 2020          \n",
       "38  OpenFisca-UK JSA (income-based) aggregate error is less than 20.0% in 2021          \n",
       "39  OpenFisca-UK JSA (income-based) aggregate error is less than 20.0% in 2022          \n",
       "40  OpenFisca-UK JSA (income-based) caseload error is less than 20.0% in 2019           \n",
       "41  OpenFisca-UK JSA (income-based) caseload error is less than 20.0% in 2020           \n",
       "42  OpenFisca-UK JSA (income-based) caseload error is less than 20.0% in 2021           \n",
       "43  OpenFisca-UK JSA (income-based) caseload error is less than 20.0% in 2022           \n",
       "44  OpenFisca-UK Income Support aggregate error is less than 15.0% in 2019              \n",
       "45  OpenFisca-UK Income Support aggregate error is less than 15.0% in 2020              \n",
       "46  OpenFisca-UK Income Support aggregate error is less than 15.0% in 2021              \n",
       "47  OpenFisca-UK Income Support aggregate error is less than 15.0% in 2022              \n",
       "48  OpenFisca-UK Income Support caseload error is less than 15.0% in 2019               \n",
       "49  OpenFisca-UK Income Support caseload error is less than 15.0% in 2020               \n",
       "50  OpenFisca-UK Income Support caseload error is less than 15.0% in 2021               \n",
       "51  OpenFisca-UK Income Support caseload error is less than 15.0% in 2022               \n",
       "52  OpenFisca-UK Universal Credit aggregate error is less than 5.0% in 2019             \n",
       "53  OpenFisca-UK Universal Credit aggregate error is less than 5.0% in 2020             \n",
       "54  OpenFisca-UK Universal Credit aggregate error is less than 5.0% in 2021             \n",
       "55  OpenFisca-UK Universal Credit aggregate error is less than 5.0% in 2022             \n",
       "56  OpenFisca-UK Universal Credit caseload error is less than 10.0% in 2019             \n",
       "57  OpenFisca-UK Universal Credit caseload error is less than 10.0% in 2020             \n",
       "58  OpenFisca-UK Universal Credit caseload error is less than 10.0% in 2021             \n",
       "59  OpenFisca-UK Universal Credit caseload error is less than 10.0% in 2022             \n",
       "60  OpenFisca-UK Income Tax aggregate error is less than 12.5% in 2019                  \n",
       "61  OpenFisca-UK Income Tax aggregate error is less than 12.5% in 2020                  \n",
       "62  OpenFisca-UK Income Tax aggregate error is less than 12.5% in 2021                  \n",
       "63  OpenFisca-UK Income Tax aggregate error is less than 12.5% in 2022                  \n",
       "64  OpenFisca-UK Income Tax caseload error is less than 12.5% in 2019                   \n",
       "65  OpenFisca-UK Income Tax caseload error is less than 12.5% in 2020                   \n",
       "66  OpenFisca-UK Income Tax caseload error is less than 12.5% in 2021                   \n",
       "67  OpenFisca-UK Income Tax caseload error is less than 12.5% in 2022                   \n",
       "68  OpenFisca-UK National Insurance (total) aggregate error is less than 5.0% in 2019   \n",
       "69  OpenFisca-UK National Insurance (total) aggregate error is less than 5.0% in 2020   \n",
       "70  OpenFisca-UK National Insurance (total) aggregate error is less than 5.0% in 2021   \n",
       "71  OpenFisca-UK National Insurance (total) aggregate error is less than 5.0% in 2022   \n",
       "\n",
       "    Passed  \n",
       "0   True    \n",
       "1   True    \n",
       "2   True    \n",
       "3   True    \n",
       "4   True    \n",
       "5   True    \n",
       "6   True    \n",
       "7   True    \n",
       "8   True    \n",
       "9   True    \n",
       "10  True    \n",
       "11  True    \n",
       "12  True    \n",
       "13  True    \n",
       "14  True    \n",
       "15  True    \n",
       "16  True    \n",
       "17  True    \n",
       "18  True    \n",
       "19  True    \n",
       "20  True    \n",
       "21  True    \n",
       "22  True    \n",
       "23  True    \n",
       "24  True    \n",
       "25  True    \n",
       "26  True    \n",
       "27  True    \n",
       "28  False   \n",
       "29  False   \n",
       "30  False   \n",
       "31  True    \n",
       "32  True    \n",
       "33  True    \n",
       "34  True    \n",
       "35  True    \n",
       "36  False   \n",
       "37  True    \n",
       "38  True    \n",
       "39  True    \n",
       "40  True    \n",
       "41  True    \n",
       "42  True    \n",
       "43  True    \n",
       "44  True    \n",
       "45  True    \n",
       "46  True    \n",
       "47  True    \n",
       "48  True    \n",
       "49  True    \n",
       "50  True    \n",
       "51  True    \n",
       "52  False   \n",
       "53  True    \n",
       "54  True    \n",
       "55  False   \n",
       "56  False   \n",
       "57  False   \n",
       "58  False   \n",
       "59  False   \n",
       "60  True    \n",
       "61  False   \n",
       "62  True    \n",
       "63  False   \n",
       "64  True    \n",
       "65  True    \n",
       "66  True    \n",
       "67  True    \n",
       "68  True    \n",
       "69  True    \n",
       "70  True    \n",
       "71  True    "
      ]
     },
     "execution_count": 12,
     "metadata": {},
     "output_type": "execute_result"
    }
   ],
   "source": [
    "from openfisca_uk.tests.microsimulation.test_statistics import tests\n",
    "\n",
    "pd.set_option(\"display.max_colwidth\", 0)\n",
    "pd.set_option(\"display.max_rows\", 500)\n",
    "pd.DataFrame({\"Name\": tests, \"Passed\": [test.test()[0] for test in tests]})"
   ]
  }
 ],
 "metadata": {
  "interpreter": {
   "hash": "d8fe82497dc3af1dafdfcaf67c3f347e622d9ec55d37e96a4812404db83e4772"
  },
  "kernelspec": {
   "display_name": "Python 3",
   "language": "python",
   "name": "python3"
  },
  "language_info": {
   "codemirror_mode": {
    "name": "ipython",
    "version": 3
   },
   "file_extension": ".py",
   "mimetype": "text/x-python",
   "name": "python",
   "nbconvert_exporter": "python",
   "pygments_lexer": "ipython3",
   "version": "3.8.8"
  }
 },
 "nbformat": 4,
 "nbformat_minor": 5
}
