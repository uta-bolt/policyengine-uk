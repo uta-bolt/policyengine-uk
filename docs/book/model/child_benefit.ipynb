{
 "cells": [
  {
   "cell_type": "markdown",
   "id": "8a84f28c-381f-4a39-aefe-2fc518dcd7f7",
   "metadata": {},
   "source": [
    "# Child Benefit\n",
    "\n",
    "The Child Benefit is a universal benefit for children administered by HMRC. It is not means-tested, but HMRC does impose a tax charge (the High-Income Tax Charge) on the highest-earning parent if their income is over a threshold to recoup the benefit payment.\n",
    "\n",
    "Child Benefit parameters can be found in `openfisca_uk/parameters/hmrc/child_benefit` and logic in `openfisca_uk/variables/hmrc/child_benefit.py`.\n",
    "\n",
    "## Legislation\n",
    "\n",
    "The Child Benefit is defined primarily in [The Social Security Contributions and Benefits Act 1992, Part IX](https://www.legislation.gov.uk/ukpga/1992/4/part/IX). This defines the core of how the benefit operates, but the rates of payment are prescribed by [The Child Benefit (Rates) Regulations 2006 reg. 2](https://www.legislation.gov.uk/uksi/2006/965/regulation/2), which is amended by up-rating regulations (for example, in 2020, [The Tax Credits, Child Benefit and Guardian’s Allowance Up-rating Regulations 2020](https://www.legislation.gov.uk/uksi/2020/298/regulation/5/made) increased the payment levels).\n",
    "\n",
    "## Payment levels\n",
    "\n",
    "Child Benefit defines a (higher) amount for the eldest or only child, and an amount for each additional child. There is no limit on the number of children covered, unlike the Child Tax Credit or the Universal Credit child element. The table below shows the rates covered by OpenFisca-UK."
   ]
  },
  {
   "cell_type": "code",
   "execution_count": 1,
   "id": "c8e4b694-162c-452d-be55-501c4a5cb87e",
   "metadata": {
    "tags": [
     "hide-input"
    ]
   },
   "outputs": [
    {
     "data": {
      "text/html": [
       "<style type=\"text/css\">\n",
       "</style>\n",
       "<table id=\"T_f9543_\">\n",
       "  <thead>\n",
       "    <tr>\n",
       "      <th class=\"blank\" >&nbsp;</th>\n",
       "      <th class=\"blank level0\" >&nbsp;</th>\n",
       "      <th class=\"col_heading level0 col0\" >Value</th>\n",
       "      <th class=\"col_heading level0 col1\" >Reference</th>\n",
       "    </tr>\n",
       "    <tr>\n",
       "      <th class=\"index_name level0\" >Date</th>\n",
       "      <th class=\"index_name level1\" >Name</th>\n",
       "      <th class=\"blank col0\" >&nbsp;</th>\n",
       "      <th class=\"blank col1\" >&nbsp;</th>\n",
       "    </tr>\n",
       "  </thead>\n",
       "  <tbody>\n",
       "    <tr>\n",
       "      <th id=\"T_f9543_level0_row0\" class=\"row_heading level0 row0\" rowspan=\"2\">2007-04-09</th>\n",
       "      <th id=\"T_f9543_level1_row0\" class=\"row_heading level1 row0\" >Eldest</th>\n",
       "      <td id=\"T_f9543_row0_col0\" class=\"data row0 col0\" >£18.80</td>\n",
       "      <td id=\"T_f9543_row0_col1\" class=\"data row0 col1\" ><a href=\"https://www.legislation.gov.uk/uksi/2007/1053/article/2/made\">The Child Benefit Up-rating Order 2007(2)(a)</a></td>\n",
       "    </tr>\n",
       "    <tr>\n",
       "      <th id=\"T_f9543_level1_row1\" class=\"row_heading level1 row1\" >Additional</th>\n",
       "      <td id=\"T_f9543_row1_col0\" class=\"data row1 col0\" >£12.10</td>\n",
       "      <td id=\"T_f9543_row1_col1\" class=\"data row1 col1\" ><a href=\"https://www.legislation.gov.uk/uksi/2007/1053/article/2/made\">The Child Benefit Up-rating Order 2007(2)(b)</a></td>\n",
       "    </tr>\n",
       "    <tr>\n",
       "      <th id=\"T_f9543_level0_row2\" class=\"row_heading level0 row2\" rowspan=\"2\">2009-01-05</th>\n",
       "      <th id=\"T_f9543_level1_row2\" class=\"row_heading level1 row2\" >Eldest</th>\n",
       "      <td id=\"T_f9543_row2_col0\" class=\"data row2 col0\" >£20.00</td>\n",
       "      <td id=\"T_f9543_row2_col1\" class=\"data row2 col1\" ><a href=\"https://www.legislation.gov.uk/uksi/2008/3246/regulation/3/made\">The Child Benefit (Rates) (Amendment) Regulations 2008(3)(a)</a></td>\n",
       "    </tr>\n",
       "    <tr>\n",
       "      <th id=\"T_f9543_level1_row3\" class=\"row_heading level1 row3\" >Additional</th>\n",
       "      <td id=\"T_f9543_row3_col0\" class=\"data row3 col0\" >£13.20</td>\n",
       "      <td id=\"T_f9543_row3_col1\" class=\"data row3 col1\" ><a href=\"https://www.legislation.gov.uk/uksi/2008/3246/regulation/3/made\">The Child Benefit (Rates) (Amendment) Regulations 2008(3)(b)</a></td>\n",
       "    </tr>\n",
       "    <tr>\n",
       "      <th id=\"T_f9543_level0_row4\" class=\"row_heading level0 row4\" rowspan=\"2\">2010-04-12</th>\n",
       "      <th id=\"T_f9543_level1_row4\" class=\"row_heading level1 row4\" >Eldest</th>\n",
       "      <td id=\"T_f9543_row4_col0\" class=\"data row4 col0\" >£20.30</td>\n",
       "      <td id=\"T_f9543_row4_col1\" class=\"data row4 col1\" ><a href=\"https://www.legislation.gov.uk/uksi/2010/982/article/2/made\">The Child Benefit Up-rating Order 2010(2)(a)</a></td>\n",
       "    </tr>\n",
       "    <tr>\n",
       "      <th id=\"T_f9543_level1_row5\" class=\"row_heading level1 row5\" >Additional</th>\n",
       "      <td id=\"T_f9543_row5_col0\" class=\"data row5 col0\" >£13.40</td>\n",
       "      <td id=\"T_f9543_row5_col1\" class=\"data row5 col1\" ><a href=\"https://www.legislation.gov.uk/uksi/2010/982/article/2/made\">The Child Benefit Up-rating Order 2010(2)(b)</a></td>\n",
       "    </tr>\n",
       "    <tr>\n",
       "      <th id=\"T_f9543_level0_row6\" class=\"row_heading level0 row6\" rowspan=\"2\">2014-04-07</th>\n",
       "      <th id=\"T_f9543_level1_row6\" class=\"row_heading level1 row6\" >Eldest</th>\n",
       "      <td id=\"T_f9543_row6_col0\" class=\"data row6 col0\" >£20.50</td>\n",
       "      <td id=\"T_f9543_row6_col1\" class=\"data row6 col1\" ><a href=\"https://www.legislation.gov.uk/uksi/2014/384/article/2/made\">The Child Benefit and Tax Credits Up-rating Order 2014(2)(a)</a></td>\n",
       "    </tr>\n",
       "    <tr>\n",
       "      <th id=\"T_f9543_level1_row7\" class=\"row_heading level1 row7\" >Additional</th>\n",
       "      <td id=\"T_f9543_row7_col0\" class=\"data row7 col0\" >£13.55</td>\n",
       "      <td id=\"T_f9543_row7_col1\" class=\"data row7 col1\" ><a href=\"https://www.legislation.gov.uk/uksi/2014/384/article/2/made\">The Child Benefit and Tax Credits Up-rating Order 2014(2)(b)</a></td>\n",
       "    </tr>\n",
       "    <tr>\n",
       "      <th id=\"T_f9543_level0_row8\" class=\"row_heading level0 row8\" rowspan=\"2\">2015-04-06</th>\n",
       "      <th id=\"T_f9543_level1_row8\" class=\"row_heading level1 row8\" >Eldest</th>\n",
       "      <td id=\"T_f9543_row8_col0\" class=\"data row8 col0\" >£20.70</td>\n",
       "      <td id=\"T_f9543_row8_col1\" class=\"data row8 col1\" ><a href=\"https://www.legislation.gov.uk/uksi/2015/567/article/2/made\">The Child Benefit and Tax Credits Up-rating Order 2015(2)(a)</a></td>\n",
       "    </tr>\n",
       "    <tr>\n",
       "      <th id=\"T_f9543_level1_row9\" class=\"row_heading level1 row9\" >Additional</th>\n",
       "      <td id=\"T_f9543_row9_col0\" class=\"data row9 col0\" >£13.70</td>\n",
       "      <td id=\"T_f9543_row9_col1\" class=\"data row9 col1\" ><a href=\"https://www.legislation.gov.uk/uksi/2015/567/article/2/made\">The Child Benefit and Tax Credits Up-rating Order 2015(2)(b)</a></td>\n",
       "    </tr>\n",
       "    <tr>\n",
       "      <th id=\"T_f9543_level0_row10\" class=\"row_heading level0 row10\" rowspan=\"2\">2020-04-06</th>\n",
       "      <th id=\"T_f9543_level1_row10\" class=\"row_heading level1 row10\" >Eldest</th>\n",
       "      <td id=\"T_f9543_row10_col0\" class=\"data row10 col0\" >£21.05</td>\n",
       "      <td id=\"T_f9543_row10_col1\" class=\"data row10 col1\" ><a href=\"https://www.legislation.gov.uk/uksi/2020/298/regulation/5/made\">The Tax Credits, Child Benefit and Guardian’s Allowance Up-rating Regulations 2020(5)(a)</a></td>\n",
       "    </tr>\n",
       "    <tr>\n",
       "      <th id=\"T_f9543_level1_row11\" class=\"row_heading level1 row11\" >Additional</th>\n",
       "      <td id=\"T_f9543_row11_col0\" class=\"data row11 col0\" >£13.95</td>\n",
       "      <td id=\"T_f9543_row11_col1\" class=\"data row11 col1\" ><a href=\"https://www.legislation.gov.uk/uksi/2020/298/regulation/5/made\">The Tax Credits, Child Benefit and Guardian’s Allowance Up-rating Regulations 2020(5)(b)</a></td>\n",
       "    </tr>\n",
       "    <tr>\n",
       "      <th id=\"T_f9543_level0_row12\" class=\"row_heading level0 row12\" rowspan=\"2\">2021-04-12</th>\n",
       "      <th id=\"T_f9543_level1_row12\" class=\"row_heading level1 row12\" >Eldest</th>\n",
       "      <td id=\"T_f9543_row12_col0\" class=\"data row12 col0\" >£21.15</td>\n",
       "      <td id=\"T_f9543_row12_col1\" class=\"data row12 col1\" ><a href=\"https://www.legislation.gov.uk/uksi/2021/156/regulation/5/made\">The Tax Credits, Child Benefit and Guardian’s Allowance Up-rating Regulations 2021(5)(a)</a></td>\n",
       "    </tr>\n",
       "    <tr>\n",
       "      <th id=\"T_f9543_level1_row13\" class=\"row_heading level1 row13\" >Additional</th>\n",
       "      <td id=\"T_f9543_row13_col0\" class=\"data row13 col0\" >£14.00</td>\n",
       "      <td id=\"T_f9543_row13_col1\" class=\"data row13 col1\" ><a href=\"https://www.legislation.gov.uk/uksi/2021/156/regulation/5/made\">The Tax Credits, Child Benefit and Guardian’s Allowance Up-rating Regulations 2021(5)(b)</a></td>\n",
       "    </tr>\n",
       "  </tbody>\n",
       "</table>\n"
      ],
      "text/plain": [
       "<pandas.io.formats.style.Styler at 0x7f6f56f02610>"
      ]
     },
     "execution_count": 1,
     "metadata": {},
     "output_type": "execute_result"
    }
   ],
   "source": [
    "from openfisca_uk import CountryTaxBenefitSystem\n",
    "import pandas as pd\n",
    "\n",
    "parameters = CountryTaxBenefitSystem().parameters\n",
    "data = {\n",
    "    \"Date\": [],\n",
    "    \"Name\": [],\n",
    "    \"Value\": [],\n",
    "    \"Reference\": [],\n",
    "}\n",
    "\n",
    "for parameter in parameters.hmrc.child_benefit.amount.eldest.values_list:\n",
    "    data[\"Date\"] += [parameter.instant_str]\n",
    "    data[\"Name\"] += [\"Eldest\"]\n",
    "    data[\"Value\"] += [f\"£{parameter.value:.2f}\"]\n",
    "    data[\"Reference\"] += [\n",
    "        f\"<a href=\\\"{parameter.metadata['reference'][0]['href']}\\\">{parameter.metadata['reference'][0]['title']}</a>\"\n",
    "    ]\n",
    "\n",
    "\n",
    "for parameter in parameters.hmrc.child_benefit.amount.additional.values_list:\n",
    "    data[\"Date\"] += [parameter.instant_str]\n",
    "    data[\"Name\"] += [\"Additional\"]\n",
    "    data[\"Value\"] += [f\"£{parameter.value:.2f}\"]\n",
    "    data[\"Reference\"] += [\n",
    "        f\"<a href=\\\"{parameter.metadata['reference'][0]['href']}\\\">{parameter.metadata['reference'][0]['title']}</a>\"\n",
    "    ]\n",
    "\n",
    "\n",
    "pd.DataFrame(data).sort_values(\"Date\").set_index(\n",
    "    [\"Date\", \"Name\"]\n",
    ").style.format(lambda x: x)"
   ]
  },
  {
   "cell_type": "markdown",
   "id": "c3a91c67-22b3-44e6-bc61-791e10be8969",
   "metadata": {},
   "source": [
    "## Examples\n",
    "\n",
    "The below table shows the entitlement calculations for a family of increasing size."
   ]
  },
  {
   "cell_type": "code",
   "execution_count": 2,
   "id": "f384270f-5179-42ff-b332-130db33e2dee",
   "metadata": {
    "tags": [
     "hide-input"
    ]
   },
   "outputs": [
    {
     "data": {
      "text/html": [
       "<div>\n",
       "<style scoped>\n",
       "    .dataframe tbody tr th:only-of-type {\n",
       "        vertical-align: middle;\n",
       "    }\n",
       "\n",
       "    .dataframe tbody tr th {\n",
       "        vertical-align: top;\n",
       "    }\n",
       "\n",
       "    .dataframe thead th {\n",
       "        text-align: right;\n",
       "    }\n",
       "</style>\n",
       "<table border=\"1\" class=\"dataframe\">\n",
       "  <thead>\n",
       "    <tr style=\"text-align: right;\">\n",
       "      <th></th>\n",
       "      <th>Child Benefit (Annual)</th>\n",
       "    </tr>\n",
       "    <tr>\n",
       "      <th>Number of children</th>\n",
       "      <th></th>\n",
       "    </tr>\n",
       "  </thead>\n",
       "  <tbody>\n",
       "    <tr>\n",
       "      <th>1</th>\n",
       "      <td>£1099.80</td>\n",
       "    </tr>\n",
       "    <tr>\n",
       "      <th>2</th>\n",
       "      <td>£1827.80</td>\n",
       "    </tr>\n",
       "    <tr>\n",
       "      <th>3</th>\n",
       "      <td>£2555.80</td>\n",
       "    </tr>\n",
       "    <tr>\n",
       "      <th>4</th>\n",
       "      <td>£3283.80</td>\n",
       "    </tr>\n",
       "    <tr>\n",
       "      <th>5</th>\n",
       "      <td>£4011.80</td>\n",
       "    </tr>\n",
       "    <tr>\n",
       "      <th>6</th>\n",
       "      <td>£4739.80</td>\n",
       "    </tr>\n",
       "  </tbody>\n",
       "</table>\n",
       "</div>"
      ],
      "text/plain": [
       "                   Child Benefit (Annual)\n",
       "Number of children                       \n",
       "1                                £1099.80\n",
       "2                                £1827.80\n",
       "3                                £2555.80\n",
       "4                                £3283.80\n",
       "5                                £4011.80\n",
       "6                                £4739.80"
      ]
     },
     "execution_count": 2,
     "metadata": {},
     "output_type": "execute_result"
    }
   ],
   "source": [
    "from openfisca_uk import IndividualSim\n",
    "\n",
    "\n",
    "def get_cb_for_n_children(n):\n",
    "    sim = IndividualSim(year=2022)\n",
    "    for i in range(n):\n",
    "        sim.add_person(age=10, name=str(i))\n",
    "    sim.add_benunit(children=[str(i) for i in range(n)])\n",
    "    return f'£{sim.calc(\"child_benefit\").sum():.2f}'\n",
    "\n",
    "\n",
    "pd.DataFrame(\n",
    "    {\n",
    "        \"Number of children\": list(range(1, 7)),\n",
    "        \"Child Benefit (Annual)\": list(\n",
    "            map(get_cb_for_n_children, range(1, 7))\n",
    "        ),\n",
    "    }\n",
    ").set_index(\"Number of children\")"
   ]
  },
  {
   "cell_type": "markdown",
   "id": "bfefbf95-0e9e-4399-900e-f9bd7c5044c5",
   "metadata": {},
   "source": [
    "## Microsimulation\n",
    "\n",
    "OpenFisca-UK simulates Child Benefit as described for each family in the survey microdata, preserving reported takeup. Child Benefit has a relatively high take-up rate compared to other benefits, most recently estimated at 92%. We use the central estimates from 2006 through 2018, provided by HMRC [Child Benefit Statistics: Annual Release, August 2020 Main Commentary | Table 3.1](https://www.gov.uk/government/statistics/child-benefit-statistics-annual-release-august-2020/child-benefit-statistics-annual-release-august-2020-main-commentary), which are calculated from microsimulation and administrative data held by HMRC."
   ]
  },
  {
   "cell_type": "markdown",
   "id": "f559b572-1391-4ff3-8e9f-6e325475b5d2",
   "metadata": {},
   "source": [
    "## Validation\n",
    "\n",
    "OpenFisca-UK matches administrative statistics closely, due to the simplicity of the calculations. The Department for Work and Pensions publishes benefit expenditure and caseload tables every year: below, we use the [2021 release](https://www.gov.uk/government/publications/benefit-expenditure-and-caseload-tables-2021) (the latest at the time of writing) release to compare against OpenFisca-UK. The table and graph below also show the aggregate spending estimated by UKMOD, as per the latest [country report](https://www.iser.essex.ac.uk/research/publications/working-papers/cempa/cempa7-20.pdf#page=129).\n",
    "\n",
    "The administrative spending figures include Guardian's Allowance, whereas OpenFisca-UK and UKMOD do not. Between 2018 and 2021, the DWP replaced previous forecasts with outturn data, revising the forecast aggregate spending for 2018, 2019 and 2020 down by £119m, £250m and £455m, respectively."
   ]
  },
  {
   "cell_type": "code",
   "execution_count": 5,
   "id": "1e21a169-e0fa-4374-9cba-f36062cf0eaa",
   "metadata": {
    "tags": [
     "hide-input"
    ]
   },
   "outputs": [
    {
     "data": {
      "text/html": [
       "<div>\n",
       "<style scoped>\n",
       "    .dataframe tbody tr th:only-of-type {\n",
       "        vertical-align: middle;\n",
       "    }\n",
       "\n",
       "    .dataframe tbody tr th {\n",
       "        vertical-align: top;\n",
       "    }\n",
       "\n",
       "    .dataframe thead th {\n",
       "        text-align: right;\n",
       "    }\n",
       "</style>\n",
       "<table border=\"1\" class=\"dataframe\">\n",
       "  <thead>\n",
       "    <tr style=\"text-align: right;\">\n",
       "      <th></th>\n",
       "      <th>OpenFisca-UK Aggregate (£m)</th>\n",
       "      <th>Official Estimate (£m)</th>\n",
       "      <th>Official Estimate Type</th>\n",
       "      <th>UKMOD Aggregate (£m)</th>\n",
       "      <th>Absolute Error (£m)</th>\n",
       "      <th>Relative Error (%)</th>\n",
       "    </tr>\n",
       "    <tr>\n",
       "      <th>Year</th>\n",
       "      <th></th>\n",
       "      <th></th>\n",
       "      <th></th>\n",
       "      <th></th>\n",
       "      <th></th>\n",
       "      <th></th>\n",
       "    </tr>\n",
       "  </thead>\n",
       "  <tbody>\n",
       "    <tr>\n",
       "      <th>2019</th>\n",
       "      <td>11609</td>\n",
       "      <td>11081</td>\n",
       "      <td>Outturn</td>\n",
       "      <td>11432</td>\n",
       "      <td>-528</td>\n",
       "      <td>4.8</td>\n",
       "    </tr>\n",
       "    <tr>\n",
       "      <th>2020</th>\n",
       "      <td>11662</td>\n",
       "      <td>11116</td>\n",
       "      <td>Outturn</td>\n",
       "      <td>11621</td>\n",
       "      <td>-546</td>\n",
       "      <td>4.9</td>\n",
       "    </tr>\n",
       "    <tr>\n",
       "      <th>2021</th>\n",
       "      <td>11752</td>\n",
       "      <td>10981</td>\n",
       "      <td>Forecast</td>\n",
       "      <td>11573</td>\n",
       "      <td>-771</td>\n",
       "      <td>7.0</td>\n",
       "    </tr>\n",
       "    <tr>\n",
       "      <th>2022</th>\n",
       "      <td>11912</td>\n",
       "      <td>11213</td>\n",
       "      <td>Forecast</td>\n",
       "      <td>11668</td>\n",
       "      <td>-699</td>\n",
       "      <td>6.2</td>\n",
       "    </tr>\n",
       "  </tbody>\n",
       "</table>\n",
       "</div>"
      ],
      "text/plain": [
       "      OpenFisca-UK Aggregate (£m)  Official Estimate (£m)  \\\n",
       "Year                                                        \n",
       "2019                        11609                   11081   \n",
       "2020                        11662                   11116   \n",
       "2021                        11752                   10981   \n",
       "2022                        11912                   11213   \n",
       "\n",
       "     Official Estimate Type  UKMOD Aggregate (£m)  Absolute Error (£m)  \\\n",
       "Year                                                                     \n",
       "2019                Outturn                 11432                 -528   \n",
       "2020                Outturn                 11621                 -546   \n",
       "2021               Forecast                 11573                 -771   \n",
       "2022               Forecast                 11668                 -699   \n",
       "\n",
       "      Relative Error (%)  \n",
       "Year                      \n",
       "2019                 4.8  \n",
       "2020                 4.9  \n",
       "2021                 7.0  \n",
       "2022                 6.2  "
      ]
     },
     "execution_count": 5,
     "metadata": {},
     "output_type": "execute_result"
    }
   ],
   "source": [
    "from openfisca_uk import Microsimulation\n",
    "from openfisca_uk_data import FRSEnhanced\n",
    "\n",
    "sim_2019 = Microsimulation(year=2019)\n",
    "\n",
    "cb_2019_onwards = [\n",
    "    int(sim_2019.calc(\"child_benefit\", year, map_to=\"household\").sum() / 1e6)\n",
    "    for year in range(2019, 2023)\n",
    "]\n",
    "\n",
    "aggregates = pd.DataFrame(\n",
    "    {\n",
    "        \"OpenFisca-UK Aggregate (£m)\": cb_2019_onwards,\n",
    "        \"Year\": list(range(2019, 2023)),\n",
    "        \"Official Estimate (£m)\": [11_081, 11_116, 10_981, 11_213],\n",
    "        \"Official Estimate Type\": [\"Outturn\"] * 2 + [\"Forecast\"] * 2,\n",
    "        \"UKMOD Aggregate (£m)\": [11_432, 11_621, 11_573, 11_668],\n",
    "    }\n",
    ")\n",
    "aggregates[\"Absolute Error (£m)\"] = (\n",
    "    aggregates[\"Official Estimate (£m)\"]\n",
    "    - aggregates[\"OpenFisca-UK Aggregate (£m)\"]\n",
    ")\n",
    "aggregates[\"Relative Error (%)\"] = 100 * (\n",
    "    aggregates[\"OpenFisca-UK Aggregate (£m)\"]\n",
    "    / aggregates[\"Official Estimate (£m)\"]\n",
    "    - 1\n",
    ").round(3)\n",
    "\n",
    "aggregates.set_index(\"Year\")"
   ]
  },
  {
   "cell_type": "code",
   "execution_count": 7,
   "id": "4ac5bf15-558d-433f-bbdf-726cbf0d67e8",
   "metadata": {
    "tags": [
     "hide-input"
    ]
   },
   "outputs": [
    {
     "data": {
      "application/vnd.plotly.v1+json": {
       "config": {
        "plotlyServerURL": "https://plot.ly"
       },
       "data": [
        {
         "hovertemplate": "variable=OpenFisca-UK Aggregate (£m)<br>Year=%{x}<br>value=%{y}<extra></extra>",
         "legendgroup": "OpenFisca-UK Aggregate (£m)",
         "line": {
          "color": "#636efa",
          "dash": "solid"
         },
         "marker": {
          "symbol": "circle"
         },
         "mode": "lines",
         "name": "OpenFisca-UK Aggregate (£m)",
         "orientation": "v",
         "showlegend": true,
         "type": "scatter",
         "x": [
          2019,
          2020,
          2021,
          2022
         ],
         "xaxis": "x",
         "y": [
          11609,
          11662,
          11752,
          11912
         ],
         "yaxis": "y"
        },
        {
         "hovertemplate": "variable=Official Estimate (£m)<br>Year=%{x}<br>value=%{y}<extra></extra>",
         "legendgroup": "Official Estimate (£m)",
         "line": {
          "color": "#EF553B",
          "dash": "solid"
         },
         "marker": {
          "symbol": "circle"
         },
         "mode": "lines",
         "name": "Official Estimate (£m)",
         "orientation": "v",
         "showlegend": true,
         "type": "scatter",
         "x": [
          2019,
          2020,
          2021,
          2022
         ],
         "xaxis": "x",
         "y": [
          11081,
          11116,
          10981,
          11213
         ],
         "yaxis": "y"
        },
        {
         "hovertemplate": "variable=UKMOD Aggregate (£m)<br>Year=%{x}<br>value=%{y}<extra></extra>",
         "legendgroup": "UKMOD Aggregate (£m)",
         "line": {
          "color": "#00cc96",
          "dash": "solid"
         },
         "marker": {
          "symbol": "circle"
         },
         "mode": "lines",
         "name": "UKMOD Aggregate (£m)",
         "orientation": "v",
         "showlegend": true,
         "type": "scatter",
         "x": [
          2019,
          2020,
          2021,
          2022
         ],
         "xaxis": "x",
         "y": [
          11432,
          11621,
          11573,
          11668
         ],
         "yaxis": "y"
        }
       ],
       "layout": {
        "autosize": true,
        "legend": {
         "title": {
          "text": ""
         },
         "tracegroupgap": 0
        },
        "margin": {
         "t": 60
        },
        "template": {
         "data": {
          "bar": [
           {
            "error_x": {
             "color": "#2a3f5f"
            },
            "error_y": {
             "color": "#2a3f5f"
            },
            "marker": {
             "line": {
              "color": "white",
              "width": 0.5
             },
             "pattern": {
              "fillmode": "overlay",
              "size": 10,
              "solidity": 0.2
             }
            },
            "type": "bar"
           }
          ],
          "barpolar": [
           {
            "marker": {
             "line": {
              "color": "white",
              "width": 0.5
             },
             "pattern": {
              "fillmode": "overlay",
              "size": 10,
              "solidity": 0.2
             }
            },
            "type": "barpolar"
           }
          ],
          "carpet": [
           {
            "aaxis": {
             "endlinecolor": "#2a3f5f",
             "gridcolor": "#C8D4E3",
             "linecolor": "#C8D4E3",
             "minorgridcolor": "#C8D4E3",
             "startlinecolor": "#2a3f5f"
            },
            "baxis": {
             "endlinecolor": "#2a3f5f",
             "gridcolor": "#C8D4E3",
             "linecolor": "#C8D4E3",
             "minorgridcolor": "#C8D4E3",
             "startlinecolor": "#2a3f5f"
            },
            "type": "carpet"
           }
          ],
          "choropleth": [
           {
            "colorbar": {
             "outlinewidth": 0,
             "ticks": ""
            },
            "type": "choropleth"
           }
          ],
          "contour": [
           {
            "colorbar": {
             "outlinewidth": 0,
             "ticks": ""
            },
            "colorscale": [
             [
              0,
              "#0d0887"
             ],
             [
              0.1111111111111111,
              "#46039f"
             ],
             [
              0.2222222222222222,
              "#7201a8"
             ],
             [
              0.3333333333333333,
              "#9c179e"
             ],
             [
              0.4444444444444444,
              "#bd3786"
             ],
             [
              0.5555555555555556,
              "#d8576b"
             ],
             [
              0.6666666666666666,
              "#ed7953"
             ],
             [
              0.7777777777777778,
              "#fb9f3a"
             ],
             [
              0.8888888888888888,
              "#fdca26"
             ],
             [
              1,
              "#f0f921"
             ]
            ],
            "type": "contour"
           }
          ],
          "contourcarpet": [
           {
            "colorbar": {
             "outlinewidth": 0,
             "ticks": ""
            },
            "type": "contourcarpet"
           }
          ],
          "heatmap": [
           {
            "colorbar": {
             "outlinewidth": 0,
             "ticks": ""
            },
            "colorscale": [
             [
              0,
              "#0d0887"
             ],
             [
              0.1111111111111111,
              "#46039f"
             ],
             [
              0.2222222222222222,
              "#7201a8"
             ],
             [
              0.3333333333333333,
              "#9c179e"
             ],
             [
              0.4444444444444444,
              "#bd3786"
             ],
             [
              0.5555555555555556,
              "#d8576b"
             ],
             [
              0.6666666666666666,
              "#ed7953"
             ],
             [
              0.7777777777777778,
              "#fb9f3a"
             ],
             [
              0.8888888888888888,
              "#fdca26"
             ],
             [
              1,
              "#f0f921"
             ]
            ],
            "type": "heatmap"
           }
          ],
          "heatmapgl": [
           {
            "colorbar": {
             "outlinewidth": 0,
             "ticks": ""
            },
            "colorscale": [
             [
              0,
              "#0d0887"
             ],
             [
              0.1111111111111111,
              "#46039f"
             ],
             [
              0.2222222222222222,
              "#7201a8"
             ],
             [
              0.3333333333333333,
              "#9c179e"
             ],
             [
              0.4444444444444444,
              "#bd3786"
             ],
             [
              0.5555555555555556,
              "#d8576b"
             ],
             [
              0.6666666666666666,
              "#ed7953"
             ],
             [
              0.7777777777777778,
              "#fb9f3a"
             ],
             [
              0.8888888888888888,
              "#fdca26"
             ],
             [
              1,
              "#f0f921"
             ]
            ],
            "type": "heatmapgl"
           }
          ],
          "histogram": [
           {
            "marker": {
             "pattern": {
              "fillmode": "overlay",
              "size": 10,
              "solidity": 0.2
             }
            },
            "type": "histogram"
           }
          ],
          "histogram2d": [
           {
            "colorbar": {
             "outlinewidth": 0,
             "ticks": ""
            },
            "colorscale": [
             [
              0,
              "#0d0887"
             ],
             [
              0.1111111111111111,
              "#46039f"
             ],
             [
              0.2222222222222222,
              "#7201a8"
             ],
             [
              0.3333333333333333,
              "#9c179e"
             ],
             [
              0.4444444444444444,
              "#bd3786"
             ],
             [
              0.5555555555555556,
              "#d8576b"
             ],
             [
              0.6666666666666666,
              "#ed7953"
             ],
             [
              0.7777777777777778,
              "#fb9f3a"
             ],
             [
              0.8888888888888888,
              "#fdca26"
             ],
             [
              1,
              "#f0f921"
             ]
            ],
            "type": "histogram2d"
           }
          ],
          "histogram2dcontour": [
           {
            "colorbar": {
             "outlinewidth": 0,
             "ticks": ""
            },
            "colorscale": [
             [
              0,
              "#0d0887"
             ],
             [
              0.1111111111111111,
              "#46039f"
             ],
             [
              0.2222222222222222,
              "#7201a8"
             ],
             [
              0.3333333333333333,
              "#9c179e"
             ],
             [
              0.4444444444444444,
              "#bd3786"
             ],
             [
              0.5555555555555556,
              "#d8576b"
             ],
             [
              0.6666666666666666,
              "#ed7953"
             ],
             [
              0.7777777777777778,
              "#fb9f3a"
             ],
             [
              0.8888888888888888,
              "#fdca26"
             ],
             [
              1,
              "#f0f921"
             ]
            ],
            "type": "histogram2dcontour"
           }
          ],
          "mesh3d": [
           {
            "colorbar": {
             "outlinewidth": 0,
             "ticks": ""
            },
            "type": "mesh3d"
           }
          ],
          "parcoords": [
           {
            "line": {
             "colorbar": {
              "outlinewidth": 0,
              "ticks": ""
             }
            },
            "type": "parcoords"
           }
          ],
          "pie": [
           {
            "automargin": true,
            "type": "pie"
           }
          ],
          "scatter": [
           {
            "marker": {
             "colorbar": {
              "outlinewidth": 0,
              "ticks": ""
             }
            },
            "type": "scatter"
           }
          ],
          "scatter3d": [
           {
            "line": {
             "colorbar": {
              "outlinewidth": 0,
              "ticks": ""
             }
            },
            "marker": {
             "colorbar": {
              "outlinewidth": 0,
              "ticks": ""
             }
            },
            "type": "scatter3d"
           }
          ],
          "scattercarpet": [
           {
            "marker": {
             "colorbar": {
              "outlinewidth": 0,
              "ticks": ""
             }
            },
            "type": "scattercarpet"
           }
          ],
          "scattergeo": [
           {
            "marker": {
             "colorbar": {
              "outlinewidth": 0,
              "ticks": ""
             }
            },
            "type": "scattergeo"
           }
          ],
          "scattergl": [
           {
            "marker": {
             "colorbar": {
              "outlinewidth": 0,
              "ticks": ""
             }
            },
            "type": "scattergl"
           }
          ],
          "scattermapbox": [
           {
            "marker": {
             "colorbar": {
              "outlinewidth": 0,
              "ticks": ""
             }
            },
            "type": "scattermapbox"
           }
          ],
          "scatterpolar": [
           {
            "marker": {
             "colorbar": {
              "outlinewidth": 0,
              "ticks": ""
             }
            },
            "type": "scatterpolar"
           }
          ],
          "scatterpolargl": [
           {
            "marker": {
             "colorbar": {
              "outlinewidth": 0,
              "ticks": ""
             }
            },
            "type": "scatterpolargl"
           }
          ],
          "scatterternary": [
           {
            "marker": {
             "colorbar": {
              "outlinewidth": 0,
              "ticks": ""
             }
            },
            "type": "scatterternary"
           }
          ],
          "surface": [
           {
            "colorbar": {
             "outlinewidth": 0,
             "ticks": ""
            },
            "colorscale": [
             [
              0,
              "#0d0887"
             ],
             [
              0.1111111111111111,
              "#46039f"
             ],
             [
              0.2222222222222222,
              "#7201a8"
             ],
             [
              0.3333333333333333,
              "#9c179e"
             ],
             [
              0.4444444444444444,
              "#bd3786"
             ],
             [
              0.5555555555555556,
              "#d8576b"
             ],
             [
              0.6666666666666666,
              "#ed7953"
             ],
             [
              0.7777777777777778,
              "#fb9f3a"
             ],
             [
              0.8888888888888888,
              "#fdca26"
             ],
             [
              1,
              "#f0f921"
             ]
            ],
            "type": "surface"
           }
          ],
          "table": [
           {
            "cells": {
             "fill": {
              "color": "#EBF0F8"
             },
             "line": {
              "color": "white"
             }
            },
            "header": {
             "fill": {
              "color": "#C8D4E3"
             },
             "line": {
              "color": "white"
             }
            },
            "type": "table"
           }
          ]
         },
         "layout": {
          "annotationdefaults": {
           "arrowcolor": "#2a3f5f",
           "arrowhead": 0,
           "arrowwidth": 1
          },
          "autotypenumbers": "strict",
          "coloraxis": {
           "colorbar": {
            "outlinewidth": 0,
            "ticks": ""
           }
          },
          "colorscale": {
           "diverging": [
            [
             0,
             "#8e0152"
            ],
            [
             0.1,
             "#c51b7d"
            ],
            [
             0.2,
             "#de77ae"
            ],
            [
             0.3,
             "#f1b6da"
            ],
            [
             0.4,
             "#fde0ef"
            ],
            [
             0.5,
             "#f7f7f7"
            ],
            [
             0.6,
             "#e6f5d0"
            ],
            [
             0.7,
             "#b8e186"
            ],
            [
             0.8,
             "#7fbc41"
            ],
            [
             0.9,
             "#4d9221"
            ],
            [
             1,
             "#276419"
            ]
           ],
           "sequential": [
            [
             0,
             "#0d0887"
            ],
            [
             0.1111111111111111,
             "#46039f"
            ],
            [
             0.2222222222222222,
             "#7201a8"
            ],
            [
             0.3333333333333333,
             "#9c179e"
            ],
            [
             0.4444444444444444,
             "#bd3786"
            ],
            [
             0.5555555555555556,
             "#d8576b"
            ],
            [
             0.6666666666666666,
             "#ed7953"
            ],
            [
             0.7777777777777778,
             "#fb9f3a"
            ],
            [
             0.8888888888888888,
             "#fdca26"
            ],
            [
             1,
             "#f0f921"
            ]
           ],
           "sequentialminus": [
            [
             0,
             "#0d0887"
            ],
            [
             0.1111111111111111,
             "#46039f"
            ],
            [
             0.2222222222222222,
             "#7201a8"
            ],
            [
             0.3333333333333333,
             "#9c179e"
            ],
            [
             0.4444444444444444,
             "#bd3786"
            ],
            [
             0.5555555555555556,
             "#d8576b"
            ],
            [
             0.6666666666666666,
             "#ed7953"
            ],
            [
             0.7777777777777778,
             "#fb9f3a"
            ],
            [
             0.8888888888888888,
             "#fdca26"
            ],
            [
             1,
             "#f0f921"
            ]
           ]
          },
          "colorway": [
           "#636efa",
           "#EF553B",
           "#00cc96",
           "#ab63fa",
           "#FFA15A",
           "#19d3f3",
           "#FF6692",
           "#B6E880",
           "#FF97FF",
           "#FECB52"
          ],
          "font": {
           "color": "#2a3f5f"
          },
          "geo": {
           "bgcolor": "white",
           "lakecolor": "white",
           "landcolor": "white",
           "showlakes": true,
           "showland": true,
           "subunitcolor": "#C8D4E3"
          },
          "hoverlabel": {
           "align": "left"
          },
          "hovermode": "closest",
          "mapbox": {
           "style": "light"
          },
          "paper_bgcolor": "white",
          "plot_bgcolor": "white",
          "polar": {
           "angularaxis": {
            "gridcolor": "#EBF0F8",
            "linecolor": "#EBF0F8",
            "ticks": ""
           },
           "bgcolor": "white",
           "radialaxis": {
            "gridcolor": "#EBF0F8",
            "linecolor": "#EBF0F8",
            "ticks": ""
           }
          },
          "scene": {
           "xaxis": {
            "backgroundcolor": "white",
            "gridcolor": "#DFE8F3",
            "gridwidth": 2,
            "linecolor": "#EBF0F8",
            "showbackground": true,
            "ticks": "",
            "zerolinecolor": "#EBF0F8"
           },
           "yaxis": {
            "backgroundcolor": "white",
            "gridcolor": "#DFE8F3",
            "gridwidth": 2,
            "linecolor": "#EBF0F8",
            "showbackground": true,
            "ticks": "",
            "zerolinecolor": "#EBF0F8"
           },
           "zaxis": {
            "backgroundcolor": "white",
            "gridcolor": "#DFE8F3",
            "gridwidth": 2,
            "linecolor": "#EBF0F8",
            "showbackground": true,
            "ticks": "",
            "zerolinecolor": "#EBF0F8"
           }
          },
          "shapedefaults": {
           "line": {
            "color": "#2a3f5f"
           }
          },
          "ternary": {
           "aaxis": {
            "gridcolor": "#DFE8F3",
            "linecolor": "#A2B1C6",
            "ticks": ""
           },
           "baxis": {
            "gridcolor": "#DFE8F3",
            "linecolor": "#A2B1C6",
            "ticks": ""
           },
           "bgcolor": "white",
           "caxis": {
            "gridcolor": "#DFE8F3",
            "linecolor": "#A2B1C6",
            "ticks": ""
           }
          },
          "title": {
           "x": 0.05
          },
          "xaxis": {
           "automargin": true,
           "gridcolor": "#EBF0F8",
           "linecolor": "#EBF0F8",
           "ticks": "",
           "title": {
            "standoff": 15
           },
           "zerolinecolor": "#EBF0F8",
           "zerolinewidth": 2
          },
          "yaxis": {
           "automargin": true,
           "gridcolor": "#EBF0F8",
           "linecolor": "#EBF0F8",
           "ticks": "",
           "title": {
            "standoff": 15
           },
           "zerolinecolor": "#EBF0F8",
           "zerolinewidth": 2
          }
         }
        },
        "title": {
         "text": "Child Benefit aggregate spending"
        },
        "xaxis": {
         "anchor": "y",
         "autorange": true,
         "domain": [
          0,
          1
         ],
         "range": [
          2019,
          2022
         ],
         "tickvals": [
          2019,
          2020,
          2021,
          2022
         ],
         "title": {
          "text": "Year"
         },
         "type": "linear"
        },
        "yaxis": {
         "anchor": "x",
         "domain": [
          0,
          1
         ],
         "range": [
          0,
          12000
         ],
         "title": {
          "text": "Spending (£m)"
         },
         "type": "linear"
        }
       }
      },
      "image/png": "[encoded data removed]",
      "text/html": [
       "<div>                            <div id=\"9a1fe110-8435-491d-9894-8c24f92f8f3d\" class=\"plotly-graph-div\" style=\"height:525px; width:100%;\"></div>            <script type=\"text/javascript\">                require([\"plotly\"], function(Plotly) {                    window.PLOTLYENV=window.PLOTLYENV || {};                                    if (document.getElementById(\"9a1fe110-8435-491d-9894-8c24f92f8f3d\")) {                    Plotly.newPlot(                        \"9a1fe110-8435-491d-9894-8c24f92f8f3d\",                        [{\"hovertemplate\":\"variable=OpenFisca-UK Aggregate (\\u00a3m)<br>Year=%{x}<br>value=%{y}<extra></extra>\",\"legendgroup\":\"OpenFisca-UK Aggregate (\\u00a3m)\",\"line\":{\"color\":\"#636efa\",\"dash\":\"solid\"},\"marker\":{\"symbol\":\"circle\"},\"mode\":\"lines\",\"name\":\"OpenFisca-UK Aggregate (\\u00a3m)\",\"orientation\":\"v\",\"showlegend\":true,\"x\":[2019,2020,2021,2022],\"xaxis\":\"x\",\"y\":[11609,11662,11752,11912],\"yaxis\":\"y\",\"type\":\"scatter\"},{\"hovertemplate\":\"variable=Official Estimate (\\u00a3m)<br>Year=%{x}<br>value=%{y}<extra></extra>\",\"legendgroup\":\"Official Estimate (\\u00a3m)\",\"line\":{\"color\":\"#EF553B\",\"dash\":\"solid\"},\"marker\":{\"symbol\":\"circle\"},\"mode\":\"lines\",\"name\":\"Official Estimate (\\u00a3m)\",\"orientation\":\"v\",\"showlegend\":true,\"x\":[2019,2020,2021,2022],\"xaxis\":\"x\",\"y\":[11081,11116,10981,11213],\"yaxis\":\"y\",\"type\":\"scatter\"},{\"hovertemplate\":\"variable=UKMOD Aggregate (\\u00a3m)<br>Year=%{x}<br>value=%{y}<extra></extra>\",\"legendgroup\":\"UKMOD Aggregate (\\u00a3m)\",\"line\":{\"color\":\"#00cc96\",\"dash\":\"solid\"},\"marker\":{\"symbol\":\"circle\"},\"mode\":\"lines\",\"name\":\"UKMOD Aggregate (\\u00a3m)\",\"orientation\":\"v\",\"showlegend\":true,\"x\":[2019,2020,2021,2022],\"xaxis\":\"x\",\"y\":[11432,11621,11573,11668],\"yaxis\":\"y\",\"type\":\"scatter\"}],                        {\"template\":{\"data\":{\"barpolar\":[{\"marker\":{\"line\":{\"color\":\"white\",\"width\":0.5},\"pattern\":{\"fillmode\":\"overlay\",\"size\":10,\"solidity\":0.2}},\"type\":\"barpolar\"}],\"bar\":[{\"error_x\":{\"color\":\"#2a3f5f\"},\"error_y\":{\"color\":\"#2a3f5f\"},\"marker\":{\"line\":{\"color\":\"white\",\"width\":0.5},\"pattern\":{\"fillmode\":\"overlay\",\"size\":10,\"solidity\":0.2}},\"type\":\"bar\"}],\"carpet\":[{\"aaxis\":{\"endlinecolor\":\"#2a3f5f\",\"gridcolor\":\"#C8D4E3\",\"linecolor\":\"#C8D4E3\",\"minorgridcolor\":\"#C8D4E3\",\"startlinecolor\":\"#2a3f5f\"},\"baxis\":{\"endlinecolor\":\"#2a3f5f\",\"gridcolor\":\"#C8D4E3\",\"linecolor\":\"#C8D4E3\",\"minorgridcolor\":\"#C8D4E3\",\"startlinecolor\":\"#2a3f5f\"},\"type\":\"carpet\"}],\"choropleth\":[{\"colorbar\":{\"outlinewidth\":0,\"ticks\":\"\"},\"type\":\"choropleth\"}],\"contourcarpet\":[{\"colorbar\":{\"outlinewidth\":0,\"ticks\":\"\"},\"type\":\"contourcarpet\"}],\"contour\":[{\"colorbar\":{\"outlinewidth\":0,\"ticks\":\"\"},\"colorscale\":[[0.0,\"#0d0887\"],[0.1111111111111111,\"#46039f\"],[0.2222222222222222,\"#7201a8\"],[0.3333333333333333,\"#9c179e\"],[0.4444444444444444,\"#bd3786\"],[0.5555555555555556,\"#d8576b\"],[0.6666666666666666,\"#ed7953\"],[0.7777777777777778,\"#fb9f3a\"],[0.8888888888888888,\"#fdca26\"],[1.0,\"#f0f921\"]],\"type\":\"contour\"}],\"heatmapgl\":[{\"colorbar\":{\"outlinewidth\":0,\"ticks\":\"\"},\"colorscale\":[[0.0,\"#0d0887\"],[0.1111111111111111,\"#46039f\"],[0.2222222222222222,\"#7201a8\"],[0.3333333333333333,\"#9c179e\"],[0.4444444444444444,\"#bd3786\"],[0.5555555555555556,\"#d8576b\"],[0.6666666666666666,\"#ed7953\"],[0.7777777777777778,\"#fb9f3a\"],[0.8888888888888888,\"#fdca26\"],[1.0,\"#f0f921\"]],\"type\":\"heatmapgl\"}],\"heatmap\":[{\"colorbar\":{\"outlinewidth\":0,\"ticks\":\"\"},\"colorscale\":[[0.0,\"#0d0887\"],[0.1111111111111111,\"#46039f\"],[0.2222222222222222,\"#7201a8\"],[0.3333333333333333,\"#9c179e\"],[0.4444444444444444,\"#bd3786\"],[0.5555555555555556,\"#d8576b\"],[0.6666666666666666,\"#ed7953\"],[0.7777777777777778,\"#fb9f3a\"],[0.8888888888888888,\"#fdca26\"],[1.0,\"#f0f921\"]],\"type\":\"heatmap\"}],\"histogram2dcontour\":[{\"colorbar\":{\"outlinewidth\":0,\"ticks\":\"\"},\"colorscale\":[[0.0,\"#0d0887\"],[0.1111111111111111,\"#46039f\"],[0.2222222222222222,\"#7201a8\"],[0.3333333333333333,\"#9c179e\"],[0.4444444444444444,\"#bd3786\"],[0.5555555555555556,\"#d8576b\"],[0.6666666666666666,\"#ed7953\"],[0.7777777777777778,\"#fb9f3a\"],[0.8888888888888888,\"#fdca26\"],[1.0,\"#f0f921\"]],\"type\":\"histogram2dcontour\"}],\"histogram2d\":[{\"colorbar\":{\"outlinewidth\":0,\"ticks\":\"\"},\"colorscale\":[[0.0,\"#0d0887\"],[0.1111111111111111,\"#46039f\"],[0.2222222222222222,\"#7201a8\"],[0.3333333333333333,\"#9c179e\"],[0.4444444444444444,\"#bd3786\"],[0.5555555555555556,\"#d8576b\"],[0.6666666666666666,\"#ed7953\"],[0.7777777777777778,\"#fb9f3a\"],[0.8888888888888888,\"#fdca26\"],[1.0,\"#f0f921\"]],\"type\":\"histogram2d\"}],\"histogram\":[{\"marker\":{\"pattern\":{\"fillmode\":\"overlay\",\"size\":10,\"solidity\":0.2}},\"type\":\"histogram\"}],\"mesh3d\":[{\"colorbar\":{\"outlinewidth\":0,\"ticks\":\"\"},\"type\":\"mesh3d\"}],\"parcoords\":[{\"line\":{\"colorbar\":{\"outlinewidth\":0,\"ticks\":\"\"}},\"type\":\"parcoords\"}],\"pie\":[{\"automargin\":true,\"type\":\"pie\"}],\"scatter3d\":[{\"line\":{\"colorbar\":{\"outlinewidth\":0,\"ticks\":\"\"}},\"marker\":{\"colorbar\":{\"outlinewidth\":0,\"ticks\":\"\"}},\"type\":\"scatter3d\"}],\"scattercarpet\":[{\"marker\":{\"colorbar\":{\"outlinewidth\":0,\"ticks\":\"\"}},\"type\":\"scattercarpet\"}],\"scattergeo\":[{\"marker\":{\"colorbar\":{\"outlinewidth\":0,\"ticks\":\"\"}},\"type\":\"scattergeo\"}],\"scattergl\":[{\"marker\":{\"colorbar\":{\"outlinewidth\":0,\"ticks\":\"\"}},\"type\":\"scattergl\"}],\"scattermapbox\":[{\"marker\":{\"colorbar\":{\"outlinewidth\":0,\"ticks\":\"\"}},\"type\":\"scattermapbox\"}],\"scatterpolargl\":[{\"marker\":{\"colorbar\":{\"outlinewidth\":0,\"ticks\":\"\"}},\"type\":\"scatterpolargl\"}],\"scatterpolar\":[{\"marker\":{\"colorbar\":{\"outlinewidth\":0,\"ticks\":\"\"}},\"type\":\"scatterpolar\"}],\"scatter\":[{\"marker\":{\"colorbar\":{\"outlinewidth\":0,\"ticks\":\"\"}},\"type\":\"scatter\"}],\"scatterternary\":[{\"marker\":{\"colorbar\":{\"outlinewidth\":0,\"ticks\":\"\"}},\"type\":\"scatterternary\"}],\"surface\":[{\"colorbar\":{\"outlinewidth\":0,\"ticks\":\"\"},\"colorscale\":[[0.0,\"#0d0887\"],[0.1111111111111111,\"#46039f\"],[0.2222222222222222,\"#7201a8\"],[0.3333333333333333,\"#9c179e\"],[0.4444444444444444,\"#bd3786\"],[0.5555555555555556,\"#d8576b\"],[0.6666666666666666,\"#ed7953\"],[0.7777777777777778,\"#fb9f3a\"],[0.8888888888888888,\"#fdca26\"],[1.0,\"#f0f921\"]],\"type\":\"surface\"}],\"table\":[{\"cells\":{\"fill\":{\"color\":\"#EBF0F8\"},\"line\":{\"color\":\"white\"}},\"header\":{\"fill\":{\"color\":\"#C8D4E3\"},\"line\":{\"color\":\"white\"}},\"type\":\"table\"}]},\"layout\":{\"annotationdefaults\":{\"arrowcolor\":\"#2a3f5f\",\"arrowhead\":0,\"arrowwidth\":1},\"autotypenumbers\":\"strict\",\"coloraxis\":{\"colorbar\":{\"outlinewidth\":0,\"ticks\":\"\"}},\"colorscale\":{\"diverging\":[[0,\"#8e0152\"],[0.1,\"#c51b7d\"],[0.2,\"#de77ae\"],[0.3,\"#f1b6da\"],[0.4,\"#fde0ef\"],[0.5,\"#f7f7f7\"],[0.6,\"#e6f5d0\"],[0.7,\"#b8e186\"],[0.8,\"#7fbc41\"],[0.9,\"#4d9221\"],[1,\"#276419\"]],\"sequential\":[[0.0,\"#0d0887\"],[0.1111111111111111,\"#46039f\"],[0.2222222222222222,\"#7201a8\"],[0.3333333333333333,\"#9c179e\"],[0.4444444444444444,\"#bd3786\"],[0.5555555555555556,\"#d8576b\"],[0.6666666666666666,\"#ed7953\"],[0.7777777777777778,\"#fb9f3a\"],[0.8888888888888888,\"#fdca26\"],[1.0,\"#f0f921\"]],\"sequentialminus\":[[0.0,\"#0d0887\"],[0.1111111111111111,\"#46039f\"],[0.2222222222222222,\"#7201a8\"],[0.3333333333333333,\"#9c179e\"],[0.4444444444444444,\"#bd3786\"],[0.5555555555555556,\"#d8576b\"],[0.6666666666666666,\"#ed7953\"],[0.7777777777777778,\"#fb9f3a\"],[0.8888888888888888,\"#fdca26\"],[1.0,\"#f0f921\"]]},\"colorway\":[\"#636efa\",\"#EF553B\",\"#00cc96\",\"#ab63fa\",\"#FFA15A\",\"#19d3f3\",\"#FF6692\",\"#B6E880\",\"#FF97FF\",\"#FECB52\"],\"font\":{\"color\":\"#2a3f5f\"},\"geo\":{\"bgcolor\":\"white\",\"lakecolor\":\"white\",\"landcolor\":\"white\",\"showlakes\":true,\"showland\":true,\"subunitcolor\":\"#C8D4E3\"},\"hoverlabel\":{\"align\":\"left\"},\"hovermode\":\"closest\",\"mapbox\":{\"style\":\"light\"},\"paper_bgcolor\":\"white\",\"plot_bgcolor\":\"white\",\"polar\":{\"angularaxis\":{\"gridcolor\":\"#EBF0F8\",\"linecolor\":\"#EBF0F8\",\"ticks\":\"\"},\"bgcolor\":\"white\",\"radialaxis\":{\"gridcolor\":\"#EBF0F8\",\"linecolor\":\"#EBF0F8\",\"ticks\":\"\"}},\"scene\":{\"xaxis\":{\"backgroundcolor\":\"white\",\"gridcolor\":\"#DFE8F3\",\"gridwidth\":2,\"linecolor\":\"#EBF0F8\",\"showbackground\":true,\"ticks\":\"\",\"zerolinecolor\":\"#EBF0F8\"},\"yaxis\":{\"backgroundcolor\":\"white\",\"gridcolor\":\"#DFE8F3\",\"gridwidth\":2,\"linecolor\":\"#EBF0F8\",\"showbackground\":true,\"ticks\":\"\",\"zerolinecolor\":\"#EBF0F8\"},\"zaxis\":{\"backgroundcolor\":\"white\",\"gridcolor\":\"#DFE8F3\",\"gridwidth\":2,\"linecolor\":\"#EBF0F8\",\"showbackground\":true,\"ticks\":\"\",\"zerolinecolor\":\"#EBF0F8\"}},\"shapedefaults\":{\"line\":{\"color\":\"#2a3f5f\"}},\"ternary\":{\"aaxis\":{\"gridcolor\":\"#DFE8F3\",\"linecolor\":\"#A2B1C6\",\"ticks\":\"\"},\"baxis\":{\"gridcolor\":\"#DFE8F3\",\"linecolor\":\"#A2B1C6\",\"ticks\":\"\"},\"bgcolor\":\"white\",\"caxis\":{\"gridcolor\":\"#DFE8F3\",\"linecolor\":\"#A2B1C6\",\"ticks\":\"\"}},\"title\":{\"x\":0.05},\"xaxis\":{\"automargin\":true,\"gridcolor\":\"#EBF0F8\",\"linecolor\":\"#EBF0F8\",\"ticks\":\"\",\"title\":{\"standoff\":15},\"zerolinecolor\":\"#EBF0F8\",\"zerolinewidth\":2},\"yaxis\":{\"automargin\":true,\"gridcolor\":\"#EBF0F8\",\"linecolor\":\"#EBF0F8\",\"ticks\":\"\",\"title\":{\"standoff\":15},\"zerolinecolor\":\"#EBF0F8\",\"zerolinewidth\":2}}},\"xaxis\":{\"anchor\":\"y\",\"domain\":[0.0,1.0],\"title\":{\"text\":\"Year\"},\"tickvals\":[2019,2020,2021,2022]},\"yaxis\":{\"anchor\":\"x\",\"domain\":[0.0,1.0],\"title\":{\"text\":\"Spending (\\u00a3m)\"},\"range\":[0,12000]},\"legend\":{\"title\":{\"text\":\"\"},\"tracegroupgap\":0},\"margin\":{\"t\":60},\"title\":{\"text\":\"Child Benefit aggregate spending\"}},                        {\"responsive\": true}                    ).then(function(){\n",
       "                            \n",
       "var gd = document.getElementById('9a1fe110-8435-491d-9894-8c24f92f8f3d');\n",
       "var x = new MutationObserver(function (mutations, observer) {{\n",
       "        var display = window.getComputedStyle(gd).display;\n",
       "        if (!display || display === 'none') {{\n",
       "            console.log([gd, 'removed!']);\n",
       "            Plotly.purge(gd);\n",
       "            observer.disconnect();\n",
       "        }}\n",
       "}});\n",
       "\n",
       "// Listen for the removal of the full notebook cells\n",
       "var notebookContainer = gd.closest('#notebook-container');\n",
       "if (notebookContainer) {{\n",
       "    x.observe(notebookContainer, {childList: true});\n",
       "}}\n",
       "\n",
       "// Listen for the clearing of the current output cell\n",
       "var outputEl = gd.closest('.output');\n",
       "if (outputEl) {{\n",
       "    x.observe(outputEl, {childList: true});\n",
       "}}\n",
       "\n",
       "                        })                };                });            </script>        </div>"
      ]
     },
     "metadata": {},
     "output_type": "display_data"
    }
   ],
   "source": [
    "import plotly.express as px\n",
    "\n",
    "px.line(\n",
    "    aggregates,\n",
    "    x=\"Year\",\n",
    "    y=[\n",
    "        \"OpenFisca-UK Aggregate (£m)\",\n",
    "        \"Official Estimate (£m)\",\n",
    "        \"UKMOD Aggregate (£m)\",\n",
    "    ],\n",
    ").update_layout(\n",
    "    template=\"plotly_white\",\n",
    "    title=\"Child Benefit aggregate spending\",\n",
    "    xaxis_tickvals=list(range(2019, 2023)),\n",
    "    yaxis_title=\"Spending (£m)\",\n",
    "    legend_title=\"\",\n",
    "    yaxis_range=(0, 12_000),\n",
    ")"
   ]
  }
 ],
 "metadata": {
  "kernelspec": {
   "display_name": "Python 3 (ipykernel)",
   "language": "python",
   "name": "python3"
  },
  "language_info": {
   "codemirror_mode": {
    "name": "ipython",
    "version": 3
   },
   "file_extension": ".py",
   "mimetype": "text/x-python",
   "name": "python",
   "nbconvert_exporter": "python",
   "pygments_lexer": "ipython3",
   "version": "3.7.11"
  }
 },
 "nbformat": 4,
 "nbformat_minor": 5
}
