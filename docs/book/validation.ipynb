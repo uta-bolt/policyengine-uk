{
 "cells": [
  {
   "cell_type": "markdown",
   "source": [
    "# Validation\n",
    "\n",
    "OpenFisca-UK runs unit and integration tests on each new version (see [here](https://github.com/PSLmodels/openfisca-uk/tree/master/tests)). In addition, the table below shows the aggregates produced by the model for the major taxes and benefits, and comparisons with UKMOD (latest [country report](https://www.iser.essex.ac.uk/research/publications/working-papers/cempa/cempa7-20.pdf)) and official sources[^1]. UKMOD and administrative sources refer to 2018, and OpenFisca-UK is simulated on policy at the end of 2018.\n",
    "\n",
    "[^1]: From the UKMOD country report: unless otherwise specified: Department for Work and Pensions https://www.gov.uk/government/publications/benefit-expenditure-and-caseload-tables-2018 ; Best Start Grant: https://www2.gov.scot/Topics/Statistics/Browse/Social-Welfare/SocialSecurityforScotland/BSGJune2019; Child tax credit and working tax credit: HMRC statistics \n",
    "https://www.gov.uk/government/statistics/child-and-working-tax-credits-statistics-finalised-annual-awards-2016-to-2017; Scottish Child Payment: Scottish Fiscal Commission https://www.fiscalcommission.scot/forecast/supplementary-costing-scottish-child-payment; Scottish Child Winter Heating Assistance: Scottish Fiscal Commission \n",
    "https://www.fiscalcommission.scot/forecast/supplementary-costing-child-winter-heating-assistance; Income tax: HMRC statistics https://www.gov.uk/government/statistics/income-tax-liabilities-statistics-tax-year-2014-to-2015-to-tax-year-2017-to-2018; National Insurance Contributions: ONS Blue Book Table 5.2.4s \n"
   ],
   "metadata": {}
  },
  {
   "cell_type": "code",
   "execution_count": 2,
   "source": [
    "from openfisca_uk import Microsimulation\n",
    "from openfisca_uk_data import FRS_SPI_Adjusted\n",
    "import pandas as pd\n",
    "\n",
    "sim = Microsimulation()\n",
    "\n",
    "VARIABLES = (\n",
    "    \"income_tax\",\n",
    "    \"national_insurance\",\n",
    "    \"employee_NI_class_1\",\n",
    "    \"employer_NI_class_1\",\n",
    "    \"NI_class_4\",\n",
    "    \"universal_credit\",\n",
    "    \"tax_credits\",\n",
    "    \"housing_benefit\",\n",
    "    \"state_pension\",\n",
    ")\n",
    "\n",
    "df = pd.DataFrame(\n",
    "    {\n",
    "        \"OpenFisca-UK\": sim.df(VARIABLES, map_to=\"household\", period=2019)\n",
    "        .sum()\n",
    "        .apply(lambda x: round(x / 1e9, 1))\n",
    "    }\n",
    ")\n",
    "df[\"Variable\"] = (\n",
    "    \"Income Tax\",\n",
    "    \"Non-employer National Insurance\",\n",
    "    \"Employee Class 1 NI\",\n",
    "    \"Employer Class 1 NI\",\n",
    "    \"Class 2 & 4 NI\",\n",
    "    \"Universal Credit\",\n",
    "    \"Tax Credits\",\n",
    "    \"Housing Benefit\",\n",
    "    \"State Pension\",\n",
    ")\n",
    "\n",
    "_ = \"\"\n",
    "\n",
    "df[\"UKMOD\"] = (\n",
    "    163.7,\n",
    "    64.0,\n",
    "    55.7,\n",
    "    77.8,\n",
    "    5.0,\n",
    "    11.7,\n",
    "    13.9,\n",
    "    15.1,\n",
    "    86.4,\n",
    ")\n",
    "\n",
    "df[\"External\"] = (\n",
    "    190.0,\n",
    "    55.7,\n",
    "    52.0,\n",
    "    79.2,\n",
    "    3.7,\n",
    "    8.1,\n",
    "    22.8,\n",
    "    20.7,\n",
    "    85.5,\n",
    ")\n",
    "df.set_index(\"Variable\", drop=True, inplace=True)\n",
    "\n",
    "\n",
    "def safe_ratio(x, y):\n",
    "    try:\n",
    "        return round(x / y, 2)\n",
    "    except:\n",
    "        return _\n",
    "\n",
    "\n",
    "df[\"OpenFisca-UK / UKMOD\"] = [\n",
    "    safe_ratio(x, y) for x, y in zip(df[\"OpenFisca-UK\"], df[\"UKMOD\"])\n",
    "]\n",
    "df[\"OpenFisca-UK / External\"] = [\n",
    "    safe_ratio(x, y) for x, y in zip(df[\"OpenFisca-UK\"], df[\"External\"])\n",
    "]\n",
    "\n",
    "df\n"
   ],
   "outputs": [],
   "metadata": {
    "tags": [
     "hide-input"
    ]
   }
  }
 ],
 "metadata": {
  "kernelspec": {
   "name": "python3",
   "display_name": "Python 3.8.8 64-bit ('base': conda)"
  },
  "language_info": {
   "codemirror_mode": {
    "name": "ipython",
    "version": 3
   },
   "file_extension": ".py",
   "mimetype": "text/x-python",
   "name": "python",
   "nbconvert_exporter": "python",
   "pygments_lexer": "ipython3",
   "version": "3.8.8"
  },
  "interpreter": {
   "hash": "d8fe82497dc3af1dafdfcaf67c3f347e622d9ec55d37e96a4812404db83e4772"
  }
 },
 "nbformat": 4,
 "nbformat_minor": 5
}