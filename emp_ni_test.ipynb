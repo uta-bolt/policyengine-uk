{
 "cells": [
  {
   "cell_type": "code",
   "execution_count": 1,
   "metadata": {},
   "outputs": [],
   "source": [
    "from policyengine_uk import Simulation\n",
    "from policyengine_core.reforms import Reform\n",
    "\n",
    "Reform.from_dict({\n",
    "    \"gov.hmrc.national_insurance.class_1.rates.employer\": {\n",
    "        \"year:2025:10\": 0.148,\n",
    "    },\n",
    "}\n",
    "\n",
    "sim = Simulation(reform=), situation={\n",
    "    \"employment_income\": {\n",
    "        2025: 40_000,\n",
    "    },\n",
    "})"
   ]
  },
  {
   "cell_type": "code",
   "execution_count": 3,
   "metadata": {},
   "outputs": [
    {
     "data": {
      "text/plain": [
       "array([37500.], dtype=float32)"
      ]
     },
     "execution_count": 3,
     "metadata": {},
     "output_type": "execute_result"
    }
   ],
   "source": [
    "sim.calculate(\"employment_income\", 2025)"
   ]
  }
 ],
 "metadata": {
  "kernelspec": {
   "display_name": "base",
   "language": "python",
   "name": "python3"
  },
  "language_info": {
   "codemirror_mode": {
    "name": "ipython",
    "version": 3
   },
   "file_extension": ".py",
   "mimetype": "text/x-python",
   "name": "python",
   "nbconvert_exporter": "python",
   "pygments_lexer": "ipython3",
   "version": "3.10.14"
  }
 },
 "nbformat": 4,
 "nbformat_minor": 2
}
