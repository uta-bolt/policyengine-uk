{
 "cells": [
  {
   "cell_type": "code",
   "execution_count": null,
   "metadata": {},
   "outputs": [],
   "source": [
    "# python -m venv policyengine_venv\n",
    "# source policyengine_venv/bin/activate\n",
    "# make sure to select kernel to be in the above environment\n",
    "# Install ipykernel if not already installed\n",
    "!pip install ipykernel\n",
    "\n",
    "# Register the environment as a kernel\n",
    "!python -m ipykernel install --user --name=policyengine_venv --display-name=\"Python (PolicyEngine)\"\n",
    "# import sys\n",
    "# print(sys.executable)  # Should show a path inside your policyengine_venv directory"
   ]
  },
  {
   "cell_type": "code",
   "execution_count": null,
   "metadata": {},
   "outputs": [],
   "source": [
    "#Create environment variable for huggingface token\n",
    "#Install policy engine\n",
    "!pip install policyengine-uk"
   ]
  },
  {
   "cell_type": "code",
   "execution_count": null,
   "metadata": {},
   "outputs": [],
   "source": [
    "import os\n",
    "\n",
    "#os.environ[\"HUGGING_FACE_TOKEN\"] = "
   ]
  },
  {
   "cell_type": "markdown",
   "metadata": {},
   "source": [
    "# The `Simulation` class is the most important class in PolicyEngine- it runs the actual simulation.\n",
    "import sys\n",
    "print(f\"Current Python: {sys.executable}\")\n",
    "import policyengine_uk\n",
    "print(f\"PolicyEngine UK version: {policyengine_uk.__file__}\")\n",
    "from policyengine_uk import Simulation\n",
    "\n",
    "situation = {\n",
    "    \"people\": {\n",
    "        \"person\": {\n",
    "            \"age\": {2025: 30},\n",
    "            \"employment_income\": {2025: 30_000},\n",
    "        },\n",
    "    },\n",
    "    \"benunits\": {\n",
    "        \"benunit\": {\n",
    "            \"members\": [\"person\"],\n",
    "        },\n",
    "    },\n",
    "    \"households\": {\n",
    "        \"household\": {\n",
    "            \"members\": [\"person\"],\n",
    "        }\n",
    "    },\n",
    "}\n",
    "\n",
    "simulation = Simulation(situation=situation)\n",
    "\n",
    "simulation.calculate(\"income_tax\", 2025)"
   ]
  },
  {
   "cell_type": "markdown",
   "metadata": {},
   "source": [
    "from policyengine_core.model_api import *\n",
    "\n",
    "\n",
    "increase_basic_rate = {\"gov.hmrc.income_tax.rates.uk[0].rate\": 0.25}\n",
    "\n",
    "\n",
    "baseline = Simulation(situation=situation)\n",
    "reformed = Simulation(situation=situation, reform=increase_basic_rate)\n",
    "\n",
    "baseline_income_tax = baseline.calculate(\"income_tax\", 2025)[0]\n",
    "reformed_income_tax = reformed.calculate(\"income_tax\", 2025)[0]\n",
    "print(f\"Pre reform, this individual payed an income tax of:{baseline_income_tax}\")\n",
    "print(\n",
    "    f\"Raising the basic rate to 25% would increase this person's income tax by £{reformed_income_tax - baseline_income_tax:.2f}\"\n",
    ")"
   ]
  },
  {
   "cell_type": "markdown",
   "metadata": {},
   "source": [
    "from policyengine_uk import Microsimulation\n",
    "LOCAL_enhanced_frs_2022_23=\"hf://policyengine/policyengine-uk-data/enhanced_frs_2022_23.h5\"\n",
    "#sim = Microsimulation(dataset=\"hf://policyengine/policyengine-uk-data/enhanced_frs_2022_23.h5\")\n",
    "sim = Microsimulation(dataset=LOCAL_enhanced_frs_2022_23)\n",
    "# The hf:// points to the private data-\n",
    "# hf:// <- go get the data from huggingface\n",
    "# policyengine/policyengine-uk-data <- the repo\n",
    "# enhanced_frs_2022_23.h5 <- the file in the repo\n",
    "\n",
    "sim.calculate(\"universal_credit\", 2025).sum() / 1e9"
   ]
  },
  {
   "cell_type": "markdown",
   "metadata": {},
   "source": [
    "sim = Microsimulation(dataset=\"/Users/helenauta.bolt/Documents/GitHub/policyengine-uk-data/policyengine_uk_data/storage/enhanced_frs_2022_23.h5\")\n",
    "\n",
    "df = sim.calculate_dataframe(\n",
    "    [\n",
    "        \"household_id\", # If the first variable is household level, the dataframe will project everything to households. Same for people.\n",
    "        \"income_tax\",\n",
    "        \"region\",\n",
    "    ],\n",
    "    period=2025\n",
    ")\n",
    "\n",
    "df.groupby(\"region\").income_tax.sum().sort_values(ascending=False)/1e9 # Weights automatically applied"
   ]
  },
  {
   "cell_type": "markdown",
   "metadata": {},
   "source": [
    "from policyengine_uk.model_api import *\n",
    "enhanced_frs=\"/Users/helenauta.bolt/Documents/GitHub/policyengine-uk-data/policyengine_uk_data/storage/enhanced_frs_2022_23.h5\"\n",
    "\n",
    "\n",
    "def change_tax_parameters(parameters):\n",
    "    parameters.gov.hmrc.income_tax.rates.uk.brackets[0].rate.update(\n",
    "        period=periods.period(\"year:2019:10\"), value=0.23\n",
    "    )\n",
    "    return parameters\n",
    "\n",
    "\n",
    "class reform(Reform):\n",
    "    def apply(self):\n",
    "        self.modify_parameters(change_tax_parameters)\n",
    "\n",
    "\n",
    "baseline = Microsimulation(dataset=enhanced_frs)\n",
    "reformed = Microsimulation(dataset=enhanced_frs, reform=reform)\n",
    "revenue = reformed.calculate(\"gov_balance\", 2025).sum() - baseline.calc(\"gov_balance\", 2025).sum()\n",
    "f\"Revenue: £{round(revenue / 1e+9, 1)}bn\""
   ]
  },
  {
   "cell_type": "code",
   "execution_count": null,
   "metadata": {},
   "outputs": [],
   "source": [
    "from policyengine_uk import Microsimulation\n",
    "from policyengine_core.reforms import Reform\n",
    "from policyengine_core.periods import instant\n",
    "import pandas as pd\n",
    "\n",
    "\n",
    "reform = Reform.from_dict({\n",
    "  \"gov.dwp.universal_credit.elements.child.limit.child_count\": {\n",
    "    \"2023-01-01.2028-12-31\": 99\n",
    "  }\n",
    "}, country_id=\"uk\")\n",
    " \n",
    "baseline = Microsimulation()\n",
    "reformed = Microsimulation(reform=reform)\n"
   ]
  },
  {
   "cell_type": "code",
   "execution_count": null,
   "metadata": {},
   "outputs": [],
   "source": [
    "baseline_income = baseline.calculate(\"household_net_income\", period=2025)\n",
    "reformed_income = reformed.calculate(\"household_net_income\", period=2025)\n",
    "difference_income = reformed_income - baseline_income\n",
    "HOUSEHOLD_VARIABLES = [\"person_id\", \"household_id\", \"age\", \"household_net_income\", \"household_income_decile\", \"in_poverty\", \"household_tax\", \"household_benefits\"]\n",
    "baseline_person_df = baseline.calculate_dataframe(HOUSEHOLD_VARIABLES, 2025).astype(float)\n",
    "reformed_person_df = reformed.calculate_dataframe(HOUSEHOLD_VARIABLES, 2025).astype(float)\n",
    "difference_person_df = reformed_person_df - baseline_person_df\n",
    "total_net_income_baseline = baseline.calculate(\"household_net_income\", 2025)\n",
    "df=pd.DataFrame({\"value\":total_net_income_baseline.values, \"weights\":total_net_income_baseline.weights})\n",
    "df.to_csv(\"baseline_income.csv\")\n",
    "total_net_income_baseline = baseline.calculate(\"household_net_income\", 2025).sum()\n",
    "total_net_income_reformed = reformed.calculate(\"household_net_income\", 2025).sum()\n",
    "\n",
    "net_cost = total_net_income_reformed - total_net_income_baseline\n",
    "\n",
    "print(f\"This reform would cost £{net_cost / 1e9:.1f}bn\")\n",
    " "
   ]
  },
  {
   "cell_type": "code",
   "execution_count": null,
   "metadata": {},
   "outputs": [],
   "source": [
    "### By oldest person in HH\n",
    "# Step 1: Get oldest person in each household\n",
    "baseline_person_df = baseline.calculate_dataframe(HOUSEHOLD_VARIABLES, 2025).astype(float)\n",
    "reformed_person_df = reformed.calculate_dataframe(HOUSEHOLD_VARIABLES, 2025).astype(float)\n",
    "baseline_idx = baseline_person_df.groupby(\"household_id\")[\"age\"].idxmax()\n",
    "reformed_idx = reformed_person_df.groupby(\"household_id\")[\"age\"].idxmax()\n",
    "baseline_df = baseline_person_df.loc[baseline_idx]\n",
    "reformed_df = reformed_person_df.loc[reformed_idx]\n",
    "# Step 2: Merge the two datasets\n",
    "df_all = pd.merge(\n",
    "    baseline_df,\n",
    "    reformed_df,\n",
    "    on=\"household_id\",\n",
    "    suffixes=(\"_baseline\", \"_reformed\")\n",
    ")\n",
    "#`df_all[\"weights\"]=total_net_income_baseline.weights\n",
    "\n",
    "# Step 3: Create age bands from the oldest person's age\n",
    "bins = [0, 24, 34, 44, 54, 64, 74, 200]\n",
    "labels = [\"<25\", \"25-34\", \"35-44\", \"45-54\", \"55-64\", \"65-74\", \"75+\"]\n",
    "df_all[\"age_group\"] = pd.cut(df_all[\"age_baseline\"], bins=bins, labels=labels, right=False)\n",
    "# Step 4: Calculate net cost per household\n",
    "df_all[\"net_cost\"] = (df_all[\"household_net_income_reformed\"] - df_all[\"household_net_income_baseline\"])* df_all[\"weights\"]\n",
    "# Step 5: Group by age group and sum net cost\n",
    "net_cost_by_age_group = df_all.groupby(\"age_group\")[\"net_cost\"].sum()\n",
    "# Show the result\n",
    "print(net_cost_by_age_group/ 1e9)\n",
    "print(net_cost_by_age_group.sum()/ 1e9)\n",
    " "
   ]
  }
 ],
 "metadata": {
  "language_info": {
   "name": "python"
  }
 },
 "nbformat": 4,
 "nbformat_minor": 2
}
