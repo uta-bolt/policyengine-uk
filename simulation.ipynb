{
 "cells": [
  {
   "cell_type": "code",
   "execution_count": 1,
   "metadata": {},
   "outputs": [
    {
     "name": "stdout",
     "output_type": "stream",
     "text": [
      "Requirement already satisfied: ipykernel in ./policyengine_venv/lib/python3.10/site-packages (6.29.5)\n",
      "Requirement already satisfied: traitlets>=5.4.0 in ./policyengine_venv/lib/python3.10/site-packages (from ipykernel) (5.14.3)\n",
      "Requirement already satisfied: pyzmq>=24 in ./policyengine_venv/lib/python3.10/site-packages (from ipykernel) (26.4.0)\n",
      "Requirement already satisfied: matplotlib-inline>=0.1 in ./policyengine_venv/lib/python3.10/site-packages (from ipykernel) (0.1.7)\n",
      "Requirement already satisfied: psutil in ./policyengine_venv/lib/python3.10/site-packages (from ipykernel) (7.0.0)\n",
      "Requirement already satisfied: nest-asyncio in ./policyengine_venv/lib/python3.10/site-packages (from ipykernel) (1.6.0)\n",
      "Requirement already satisfied: debugpy>=1.6.5 in ./policyengine_venv/lib/python3.10/site-packages (from ipykernel) (1.8.14)\n",
      "Requirement already satisfied: jupyter-core!=5.0.*,>=4.12 in ./policyengine_venv/lib/python3.10/site-packages (from ipykernel) (5.7.2)\n",
      "Requirement already satisfied: ipython>=7.23.1 in ./policyengine_venv/lib/python3.10/site-packages (from ipykernel) (8.36.0)\n",
      "Requirement already satisfied: packaging in ./policyengine_venv/lib/python3.10/site-packages (from ipykernel) (25.0)\n",
      "Requirement already satisfied: tornado>=6.1 in ./policyengine_venv/lib/python3.10/site-packages (from ipykernel) (6.5)\n",
      "Requirement already satisfied: comm>=0.1.1 in ./policyengine_venv/lib/python3.10/site-packages (from ipykernel) (0.2.2)\n",
      "Requirement already satisfied: appnope in ./policyengine_venv/lib/python3.10/site-packages (from ipykernel) (0.1.4)\n",
      "Requirement already satisfied: jupyter-client>=6.1.12 in ./policyengine_venv/lib/python3.10/site-packages (from ipykernel) (8.6.3)\n",
      "Requirement already satisfied: exceptiongroup in ./policyengine_venv/lib/python3.10/site-packages (from ipython>=7.23.1->ipykernel) (1.3.0)\n",
      "Requirement already satisfied: stack_data in ./policyengine_venv/lib/python3.10/site-packages (from ipython>=7.23.1->ipykernel) (0.6.3)\n",
      "Requirement already satisfied: typing_extensions>=4.6 in ./policyengine_venv/lib/python3.10/site-packages (from ipython>=7.23.1->ipykernel) (4.13.2)\n",
      "Requirement already satisfied: prompt_toolkit<3.1.0,>=3.0.41 in ./policyengine_venv/lib/python3.10/site-packages (from ipython>=7.23.1->ipykernel) (3.0.51)\n",
      "Requirement already satisfied: pexpect>4.3 in ./policyengine_venv/lib/python3.10/site-packages (from ipython>=7.23.1->ipykernel) (4.9.0)\n",
      "Requirement already satisfied: decorator in ./policyengine_venv/lib/python3.10/site-packages (from ipython>=7.23.1->ipykernel) (5.2.1)\n",
      "Requirement already satisfied: pygments>=2.4.0 in ./policyengine_venv/lib/python3.10/site-packages (from ipython>=7.23.1->ipykernel) (2.19.1)\n",
      "Requirement already satisfied: jedi>=0.16 in ./policyengine_venv/lib/python3.10/site-packages (from ipython>=7.23.1->ipykernel) (0.19.2)\n",
      "Requirement already satisfied: python-dateutil>=2.8.2 in ./policyengine_venv/lib/python3.10/site-packages (from jupyter-client>=6.1.12->ipykernel) (2.9.0.post0)\n",
      "Requirement already satisfied: platformdirs>=2.5 in ./policyengine_venv/lib/python3.10/site-packages (from jupyter-core!=5.0.*,>=4.12->ipykernel) (4.3.8)\n",
      "Requirement already satisfied: parso<0.9.0,>=0.8.4 in ./policyengine_venv/lib/python3.10/site-packages (from jedi>=0.16->ipython>=7.23.1->ipykernel) (0.8.4)\n",
      "Requirement already satisfied: ptyprocess>=0.5 in ./policyengine_venv/lib/python3.10/site-packages (from pexpect>4.3->ipython>=7.23.1->ipykernel) (0.7.0)\n",
      "Requirement already satisfied: wcwidth in ./policyengine_venv/lib/python3.10/site-packages (from prompt_toolkit<3.1.0,>=3.0.41->ipython>=7.23.1->ipykernel) (0.2.13)\n",
      "Requirement already satisfied: six>=1.5 in ./policyengine_venv/lib/python3.10/site-packages (from python-dateutil>=2.8.2->jupyter-client>=6.1.12->ipykernel) (1.17.0)\n",
      "Requirement already satisfied: asttokens>=2.1.0 in ./policyengine_venv/lib/python3.10/site-packages (from stack_data->ipython>=7.23.1->ipykernel) (3.0.0)\n",
      "Requirement already satisfied: pure-eval in ./policyengine_venv/lib/python3.10/site-packages (from stack_data->ipython>=7.23.1->ipykernel) (0.2.3)\n",
      "Requirement already satisfied: executing>=1.2.0 in ./policyengine_venv/lib/python3.10/site-packages (from stack_data->ipython>=7.23.1->ipykernel) (2.2.0)\n",
      "\n",
      "\u001b[1m[\u001b[0m\u001b[34;49mnotice\u001b[0m\u001b[1;39;49m]\u001b[0m\u001b[39;49m A new release of pip available: \u001b[0m\u001b[31;49m22.2.1\u001b[0m\u001b[39;49m -> \u001b[0m\u001b[32;49m25.1.1\u001b[0m\n",
      "\u001b[1m[\u001b[0m\u001b[34;49mnotice\u001b[0m\u001b[1;39;49m]\u001b[0m\u001b[39;49m To update, run: \u001b[0m\u001b[32;49mpip install --upgrade pip\u001b[0m\n",
      "Collecting python-dotenv\n",
      "  Downloading python_dotenv-1.1.0-py3-none-any.whl (20 kB)\n",
      "Installing collected packages: python-dotenv\n",
      "Successfully installed python-dotenv-1.1.0\n",
      "\n",
      "\u001b[1m[\u001b[0m\u001b[34;49mnotice\u001b[0m\u001b[1;39;49m]\u001b[0m\u001b[39;49m A new release of pip available: \u001b[0m\u001b[31;49m22.2.1\u001b[0m\u001b[39;49m -> \u001b[0m\u001b[32;49m25.1.1\u001b[0m\n",
      "\u001b[1m[\u001b[0m\u001b[34;49mnotice\u001b[0m\u001b[1;39;49m]\u001b[0m\u001b[39;49m To update, run: \u001b[0m\u001b[32;49mpip install --upgrade pip\u001b[0m\n",
      "Installed kernelspec policyengine_venv in /Users/ubolt/Library/Jupyter/kernels/policyengine_venv\n",
      "Collecting policyengine-uk\n",
      "  Downloading policyengine_uk-2.24.2-py3-none-any.whl (1.4 MB)\n",
      "\u001b[2K     \u001b[90m━━━━━━━━━━━━━━━━━━━━━━━━━━━━━━━━━━━━━━━━\u001b[0m \u001b[32m1.4/1.4 MB\u001b[0m \u001b[31m18.5 MB/s\u001b[0m eta \u001b[36m0:00:00\u001b[0m00:01\u001b[0m00:01\u001b[0m\n",
      "\u001b[?25hCollecting microdf_python\n",
      "  Downloading microdf_python-0.4.3-py3-none-any.whl (26 kB)\n",
      "Collecting PolicyEngine-Core>=3.6.4\n",
      "  Downloading policyengine_core-3.16.6-py3-none-any.whl (220 kB)\n",
      "\u001b[2K     \u001b[90m━━━━━━━━━━━━━━━━━━━━━━━━━━━━━━━━━━━━━━\u001b[0m \u001b[32m220.4/220.4 kB\u001b[0m \u001b[31m12.3 MB/s\u001b[0m eta \u001b[36m0:00:00\u001b[0m\n",
      "\u001b[?25hCollecting wheel<1\n",
      "  Downloading wheel-0.45.1-py3-none-any.whl (72 kB)\n",
      "\u001b[2K     \u001b[90m━━━━━━━━━━━━━━━━━━━━━━━━━━━━━━━━━━━━━━━━\u001b[0m \u001b[32m72.5/72.5 kB\u001b[0m \u001b[31m7.6 MB/s\u001b[0m eta \u001b[36m0:00:00\u001b[0m\n",
      "\u001b[?25hCollecting pandas>=1\n",
      "  Using cached pandas-2.2.3-cp310-cp310-macosx_11_0_arm64.whl (11.3 MB)\n",
      "Collecting dpath<3\n",
      "  Downloading dpath-2.2.0-py3-none-any.whl (17 kB)\n",
      "Collecting numexpr<3\n",
      "  Downloading numexpr-2.10.2-cp310-cp310-macosx_11_0_arm64.whl (134 kB)\n",
      "\u001b[2K     \u001b[90m━━━━━━━━━━━━━━━━━━━━━━━━━━━━━━━━━━━━━━\u001b[0m \u001b[32m134.8/134.8 kB\u001b[0m \u001b[31m21.2 MB/s\u001b[0m eta \u001b[36m0:00:00\u001b[0m\n",
      "\u001b[?25hCollecting psutil<7,>=6\n",
      "  Downloading psutil-6.1.1-cp36-abi3-macosx_11_0_arm64.whl (248 kB)\n",
      "\u001b[2K     \u001b[90m━━━━━━━━━━━━━━━━━━━━━━━━━━━━━━━━━━━━━━━\u001b[0m \u001b[32m249.0/249.0 kB\u001b[0m \u001b[31m7.4 MB/s\u001b[0m eta \u001b[36m0:00:00\u001b[0m\n",
      "\u001b[?25hCollecting pyvis>=0.3.2\n",
      "  Downloading pyvis-0.3.2-py3-none-any.whl (756 kB)\n",
      "\u001b[2K     \u001b[90m━━━━━━━━━━━━━━━━━━━━━━━━━━━━━━━━━━━━━━\u001b[0m \u001b[32m756.0/756.0 kB\u001b[0m \u001b[31m23.1 MB/s\u001b[0m eta \u001b[36m0:00:00\u001b[0m\n",
      "\u001b[?25hCollecting requests<3,>=2\n",
      "  Using cached requests-2.32.3-py3-none-any.whl (64 kB)\n",
      "Collecting plotly<6,>=5\n",
      "  Downloading plotly-5.24.1-py3-none-any.whl (19.1 MB)\n",
      "\u001b[2K     \u001b[90m━━━━━━━━━━━━━━━━━━━━━━━━━━━━━━━━━━━━━━━━\u001b[0m \u001b[32m19.1/19.1 MB\u001b[0m \u001b[31m21.3 MB/s\u001b[0m eta \u001b[36m0:00:00\u001b[0m00:01\u001b[0m00:01\u001b[0m\n",
      "\u001b[?25hCollecting numpy~=1.26.4\n",
      "  Downloading numpy-1.26.4-cp310-cp310-macosx_11_0_arm64.whl (14.0 MB)\n",
      "\u001b[2K     \u001b[90m━━━━━━━━━━━━━━━━━━━━━━━━━━━━━━━━━━━━━━━━\u001b[0m \u001b[32m14.0/14.0 MB\u001b[0m \u001b[31m29.8 MB/s\u001b[0m eta \u001b[36m0:00:00\u001b[0m00:01\u001b[0m00:01\u001b[0m\n",
      "\u001b[?25hRequirement already satisfied: ipython<9,>=8 in ./policyengine_venv/lib/python3.10/site-packages (from PolicyEngine-Core>=3.6.4->policyengine-uk) (8.36.0)\n",
      "Collecting huggingface_hub>=0.25.1\n",
      "  Downloading huggingface_hub-0.31.2-py3-none-any.whl (484 kB)\n",
      "\u001b[2K     \u001b[90m━━━━━━━━━━━━━━━━━━━━━━━━━━━━━━━━━━━━━━\u001b[0m \u001b[32m484.2/484.2 kB\u001b[0m \u001b[31m41.3 MB/s\u001b[0m eta \u001b[36m0:00:00\u001b[0m\n",
      "\u001b[?25hCollecting sortedcontainers<3\n",
      "  Downloading sortedcontainers-2.4.0-py2.py3-none-any.whl (29 kB)\n",
      "Collecting pytest<9,>=8\n",
      "  Downloading pytest-8.3.5-py3-none-any.whl (343 kB)\n",
      "\u001b[2K     \u001b[90m━━━━━━━━━━━━━━━━━━━━━━━━━━━━━━━━━━━━━━\u001b[0m \u001b[32m343.6/343.6 kB\u001b[0m \u001b[31m44.1 MB/s\u001b[0m eta \u001b[36m0:00:00\u001b[0m\n",
      "\u001b[?25hCollecting h5py<4,>=3\n",
      "  Downloading h5py-3.13.0-cp310-cp310-macosx_11_0_arm64.whl (2.9 MB)\n",
      "\u001b[2K     \u001b[90m━━━━━━━━━━━━━━━━━━━━━━━━━━━━━━━━━━━━━━━━\u001b[0m \u001b[32m2.9/2.9 MB\u001b[0m \u001b[31m33.9 MB/s\u001b[0m eta \u001b[36m0:00:00\u001b[0m00:01\u001b[0m00:01\u001b[0m\n",
      "\u001b[?25hCollecting filelock\n",
      "  Downloading filelock-3.18.0-py3-none-any.whl (16 kB)\n",
      "Requirement already satisfied: typing-extensions>=3.7.4.3 in ./policyengine_venv/lib/python3.10/site-packages (from huggingface_hub>=0.25.1->PolicyEngine-Core>=3.6.4->policyengine-uk) (4.13.2)\n",
      "Requirement already satisfied: packaging>=20.9 in ./policyengine_venv/lib/python3.10/site-packages (from huggingface_hub>=0.25.1->PolicyEngine-Core>=3.6.4->policyengine-uk) (25.0)\n",
      "Collecting tqdm>=4.42.1\n",
      "  Downloading tqdm-4.67.1-py3-none-any.whl (78 kB)\n",
      "\u001b[2K     \u001b[90m━━━━━━━━━━━━━━━━━━━━━━━━━━━━━━━━━━━━━━━━\u001b[0m \u001b[32m78.5/78.5 kB\u001b[0m \u001b[31m7.7 MB/s\u001b[0m eta \u001b[36m0:00:00\u001b[0m\n",
      "\u001b[?25hCollecting pyyaml>=5.1\n",
      "  Using cached PyYAML-6.0.2-cp310-cp310-macosx_11_0_arm64.whl (171 kB)\n",
      "Collecting fsspec>=2023.5.0\n",
      "  Downloading fsspec-2025.3.2-py3-none-any.whl (194 kB)\n",
      "\u001b[2K     \u001b[90m━━━━━━━━━━━━━━━━━━━━━━━━━━━━━━━━━━━━━━\u001b[0m \u001b[32m194.4/194.4 kB\u001b[0m \u001b[31m25.2 MB/s\u001b[0m eta \u001b[36m0:00:00\u001b[0m\n",
      "\u001b[?25hRequirement already satisfied: prompt_toolkit<3.1.0,>=3.0.41 in ./policyengine_venv/lib/python3.10/site-packages (from ipython<9,>=8->PolicyEngine-Core>=3.6.4->policyengine-uk) (3.0.51)\n",
      "Requirement already satisfied: stack_data in ./policyengine_venv/lib/python3.10/site-packages (from ipython<9,>=8->PolicyEngine-Core>=3.6.4->policyengine-uk) (0.6.3)\n",
      "Requirement already satisfied: exceptiongroup in ./policyengine_venv/lib/python3.10/site-packages (from ipython<9,>=8->PolicyEngine-Core>=3.6.4->policyengine-uk) (1.3.0)\n",
      "Requirement already satisfied: traitlets>=5.13.0 in ./policyengine_venv/lib/python3.10/site-packages (from ipython<9,>=8->PolicyEngine-Core>=3.6.4->policyengine-uk) (5.14.3)\n",
      "Requirement already satisfied: pygments>=2.4.0 in ./policyengine_venv/lib/python3.10/site-packages (from ipython<9,>=8->PolicyEngine-Core>=3.6.4->policyengine-uk) (2.19.1)\n",
      "Requirement already satisfied: pexpect>4.3 in ./policyengine_venv/lib/python3.10/site-packages (from ipython<9,>=8->PolicyEngine-Core>=3.6.4->policyengine-uk) (4.9.0)\n",
      "Requirement already satisfied: jedi>=0.16 in ./policyengine_venv/lib/python3.10/site-packages (from ipython<9,>=8->PolicyEngine-Core>=3.6.4->policyengine-uk) (0.19.2)\n",
      "Requirement already satisfied: decorator in ./policyengine_venv/lib/python3.10/site-packages (from ipython<9,>=8->PolicyEngine-Core>=3.6.4->policyengine-uk) (5.2.1)\n",
      "Requirement already satisfied: matplotlib-inline in ./policyengine_venv/lib/python3.10/site-packages (from ipython<9,>=8->PolicyEngine-Core>=3.6.4->policyengine-uk) (0.1.7)\n",
      "Collecting pytz>=2020.1\n",
      "  Using cached pytz-2025.2-py2.py3-none-any.whl (509 kB)\n",
      "Collecting tzdata>=2022.7\n",
      "  Using cached tzdata-2025.2-py2.py3-none-any.whl (347 kB)\n",
      "Requirement already satisfied: python-dateutil>=2.8.2 in ./policyengine_venv/lib/python3.10/site-packages (from pandas>=1->PolicyEngine-Core>=3.6.4->policyengine-uk) (2.9.0.post0)\n",
      "Collecting tenacity>=6.2.0\n",
      "  Downloading tenacity-9.1.2-py3-none-any.whl (28 kB)\n",
      "Collecting iniconfig\n",
      "  Downloading iniconfig-2.1.0-py3-none-any.whl (6.0 kB)\n",
      "Collecting tomli>=1\n",
      "  Using cached tomli-2.2.1-py3-none-any.whl (14 kB)\n",
      "Collecting pluggy<2,>=1.5\n",
      "  Downloading pluggy-1.6.0-py3-none-any.whl (20 kB)\n",
      "Collecting jsonpickle>=1.4.1\n",
      "  Downloading jsonpickle-4.0.5-py3-none-any.whl (46 kB)\n",
      "\u001b[2K     \u001b[90m━━━━━━━━━━━━━━━━━━━━━━━━━━━━━━━━━━━━━━━━\u001b[0m \u001b[32m46.4/46.4 kB\u001b[0m \u001b[31m4.1 MB/s\u001b[0m eta \u001b[36m0:00:00\u001b[0m\n",
      "\u001b[?25hCollecting networkx>=1.11\n",
      "  Downloading networkx-3.4.2-py3-none-any.whl (1.7 MB)\n",
      "\u001b[2K     \u001b[90m━━━━━━━━━━━━━━━━━━━━━━━━━━━━━━━━━━━━━━━━\u001b[0m \u001b[32m1.7/1.7 MB\u001b[0m \u001b[31m29.0 MB/s\u001b[0m eta \u001b[36m0:00:00\u001b[0ma \u001b[36m0:00:01\u001b[0m\n",
      "\u001b[?25hCollecting jinja2>=2.9.6\n",
      "  Using cached jinja2-3.1.6-py3-none-any.whl (134 kB)\n",
      "Collecting certifi>=2017.4.17\n",
      "  Downloading certifi-2025.4.26-py3-none-any.whl (159 kB)\n",
      "\u001b[2K     \u001b[90m━━━━━━━━━━━━━━━━━━━━━━━━━━━━━━━━━━━━━━\u001b[0m \u001b[32m159.6/159.6 kB\u001b[0m \u001b[31m19.9 MB/s\u001b[0m eta \u001b[36m0:00:00\u001b[0m\n",
      "\u001b[?25hCollecting urllib3<3,>=1.21.1\n",
      "  Downloading urllib3-2.4.0-py3-none-any.whl (128 kB)\n",
      "\u001b[2K     \u001b[90m━━━━━━━━━━━━━━━━━━━━━━━━━━━━━━━━━━━━━━\u001b[0m \u001b[32m128.7/128.7 kB\u001b[0m \u001b[31m12.6 MB/s\u001b[0m eta \u001b[36m0:00:00\u001b[0m\n",
      "\u001b[?25hCollecting charset-normalizer<4,>=2\n",
      "  Downloading charset_normalizer-3.4.2-cp310-cp310-macosx_10_9_universal2.whl (201 kB)\n",
      "\u001b[2K     \u001b[90m━━━━━━━━━━━━━━━━━━━━━━━━━━━━━━━━━━━━━━\u001b[0m \u001b[32m201.8/201.8 kB\u001b[0m \u001b[31m19.3 MB/s\u001b[0m eta \u001b[36m0:00:00\u001b[0m\n",
      "\u001b[?25hCollecting idna<4,>=2.5\n",
      "  Using cached idna-3.10-py3-none-any.whl (70 kB)\n",
      "Requirement already satisfied: parso<0.9.0,>=0.8.4 in ./policyengine_venv/lib/python3.10/site-packages (from jedi>=0.16->ipython<9,>=8->PolicyEngine-Core>=3.6.4->policyengine-uk) (0.8.4)\n",
      "Collecting MarkupSafe>=2.0\n",
      "  Using cached MarkupSafe-3.0.2-cp310-cp310-macosx_11_0_arm64.whl (12 kB)\n",
      "Requirement already satisfied: ptyprocess>=0.5 in ./policyengine_venv/lib/python3.10/site-packages (from pexpect>4.3->ipython<9,>=8->PolicyEngine-Core>=3.6.4->policyengine-uk) (0.7.0)\n",
      "Requirement already satisfied: wcwidth in ./policyengine_venv/lib/python3.10/site-packages (from prompt_toolkit<3.1.0,>=3.0.41->ipython<9,>=8->PolicyEngine-Core>=3.6.4->policyengine-uk) (0.2.13)\n",
      "Requirement already satisfied: six>=1.5 in ./policyengine_venv/lib/python3.10/site-packages (from python-dateutil>=2.8.2->pandas>=1->PolicyEngine-Core>=3.6.4->policyengine-uk) (1.17.0)\n",
      "Requirement already satisfied: executing>=1.2.0 in ./policyengine_venv/lib/python3.10/site-packages (from stack_data->ipython<9,>=8->PolicyEngine-Core>=3.6.4->policyengine-uk) (2.2.0)\n",
      "Requirement already satisfied: pure-eval in ./policyengine_venv/lib/python3.10/site-packages (from stack_data->ipython<9,>=8->PolicyEngine-Core>=3.6.4->policyengine-uk) (0.2.3)\n",
      "Requirement already satisfied: asttokens>=2.1.0 in ./policyengine_venv/lib/python3.10/site-packages (from stack_data->ipython<9,>=8->PolicyEngine-Core>=3.6.4->policyengine-uk) (3.0.0)\n",
      "Installing collected packages: sortedcontainers, pytz, wheel, urllib3, tzdata, tqdm, tomli, tenacity, pyyaml, psutil, pluggy, numpy, networkx, MarkupSafe, jsonpickle, iniconfig, idna, fsspec, filelock, dpath, charset-normalizer, certifi, requests, pytest, plotly, pandas, numexpr, jinja2, h5py, pyvis, microdf_python, huggingface_hub, PolicyEngine-Core, policyengine-uk\n",
      "  Attempting uninstall: psutil\n",
      "    Found existing installation: psutil 7.0.0\n",
      "    Uninstalling psutil-7.0.0:\n",
      "      Successfully uninstalled psutil-7.0.0\n",
      "Successfully installed MarkupSafe-3.0.2 PolicyEngine-Core-3.16.6 certifi-2025.4.26 charset-normalizer-3.4.2 dpath-2.2.0 filelock-3.18.0 fsspec-2025.3.2 h5py-3.13.0 huggingface_hub-0.31.2 idna-3.10 iniconfig-2.1.0 jinja2-3.1.6 jsonpickle-4.0.5 microdf_python-0.4.3 networkx-3.4.2 numexpr-2.10.2 numpy-1.26.4 pandas-2.2.3 plotly-5.24.1 pluggy-1.6.0 policyengine-uk-2.24.2 psutil-6.1.1 pytest-8.3.5 pytz-2025.2 pyvis-0.3.2 pyyaml-6.0.2 requests-2.32.3 sortedcontainers-2.4.0 tenacity-9.1.2 tomli-2.2.1 tqdm-4.67.1 tzdata-2025.2 urllib3-2.4.0 wheel-0.45.1\n",
      "\n",
      "\u001b[1m[\u001b[0m\u001b[34;49mnotice\u001b[0m\u001b[1;39;49m]\u001b[0m\u001b[39;49m A new release of pip available: \u001b[0m\u001b[31;49m22.2.1\u001b[0m\u001b[39;49m -> \u001b[0m\u001b[32;49m25.1.1\u001b[0m\n",
      "\u001b[1m[\u001b[0m\u001b[34;49mnotice\u001b[0m\u001b[1;39;49m]\u001b[0m\u001b[39;49m To update, run: \u001b[0m\u001b[32;49mpip install --upgrade pip\u001b[0m\n"
     ]
    }
   ],
   "source": [
    "# python -m venv policyengine_venv\n",
    "# source policyengine_venv/bin/activate\n",
    "# make sure to select kernel to be in the above environment\n",
    "# Install ipykernel if not already installed\n",
    "!pip install ipykernel\n",
    "!pip install python-dotenv\n",
    "# Register the environment as a kernel\n",
    "!python -m ipykernel install --user --name=policyengine_venv --display-name=\"Python (PolicyEngine)\"\n",
    "# import sys\n",
    "# print(sys.executable)  # Should show a path inside your policyengine_venv directory\n",
    "#Install policy engine\n",
    "!pip install policyengine-uk"
   ]
  },
  {
   "cell_type": "code",
   "execution_count": 2,
   "metadata": {},
   "outputs": [
    {
     "name": "stdout",
     "output_type": "stream",
     "text": [
      "Token loaded: hf_S...HLUg\n"
     ]
    }
   ],
   "source": [
    "import os\n",
    "from dotenv import load_dotenv\n",
    "# Load environment variables from .env file\n",
    "load_dotenv()\n",
    "\n",
    "# Access the token\n",
    "token = os.environ.get(\"HUGGING_FACE_TOKEN\")\n",
    "\n",
    "# Now you can use the token\n",
    "print(f\"Token loaded: {token[:4]}...{token[-4:]}\")  # Prints first and last 4 chars for verification"
   ]
  },
  {
   "cell_type": "code",
   "execution_count": 3,
   "metadata": {},
   "outputs": [
    {
     "name": "stdout",
     "output_type": "stream",
     "text": [
      "Current Python: /Users/ubolt/Documents/GitHub/policyengine-uk/policyengine_venv/bin/python\n"
     ]
    },
    {
     "name": "stderr",
     "output_type": "stream",
     "text": [
      "/Users/ubolt/Documents/GitHub/policyengine-uk/policyengine_venv/lib/python3.10/site-packages/tqdm/auto.py:21: TqdmWarning: IProgress not found. Please update jupyter and ipywidgets. See https://ipywidgets.readthedocs.io/en/stable/user_install.html\n",
      "  from .autonotebook import tqdm as notebook_tqdm\n"
     ]
    },
    {
     "name": "stdout",
     "output_type": "stream",
     "text": [
      "PolicyEngine UK version: /Users/ubolt/Documents/GitHub/policyengine-uk/policyengine_uk/__init__.py\n"
     ]
    },
    {
     "data": {
      "text/plain": [
       "array([3486.], dtype=float32)"
      ]
     },
     "execution_count": 3,
     "metadata": {},
     "output_type": "execute_result"
    }
   ],
   "source": [
    "# The `Simulation` class is the most important class in PolicyEngine- it runs the actual simulation.\n",
    "import sys\n",
    "print(f\"Current Python: {sys.executable}\")\n",
    "import policyengine_uk\n",
    "print(f\"PolicyEngine UK version: {policyengine_uk.__file__}\")\n",
    "from policyengine_uk import Simulation\n",
    "\n",
    "situation = {\n",
    "    \"people\": {\n",
    "        \"person\": {\n",
    "            \"age\": {2025: 30},\n",
    "            \"employment_income\": {2025: 30_000},\n",
    "        },\n",
    "    },\n",
    "    \"benunits\": {\n",
    "        \"benunit\": {\n",
    "            \"members\": [\"person\"],\n",
    "        },\n",
    "    },\n",
    "    \"households\": {\n",
    "        \"household\": {\n",
    "            \"members\": [\"person\"],\n",
    "        }\n",
    "    },\n",
    "}\n",
    "\n",
    "simulation = Simulation(situation=situation)\n",
    "\n",
    "simulation.calculate(\"income_tax\", 2025)"
   ]
  },
  {
   "cell_type": "code",
   "execution_count": null,
   "metadata": {},
   "outputs": [],
   "source": [
    "from policyengine_core.model_api import *\n",
    "\n",
    "\n",
    "increase_basic_rate = {\"gov.hmrc.income_tax.rates.uk[0].rate\": 0.25}\n",
    "\n",
    "\n",
    "baseline = Simulation(situation=situation)\n",
    "reformed = Simulation(situation=situation, reform=increase_basic_rate)\n",
    "\n",
    "baseline_income_tax = baseline.calculate(\"income_tax\", 2025)[0]\n",
    "reformed_income_tax = reformed.calculate(\"income_tax\", 2025)[0]\n",
    "print(f\"Pre reform, this individual payed an income tax of:{baseline_income_tax}\")\n",
    "print(\n",
    "    f\"Raising the basic rate to 25% would increase this person's income tax by £{reformed_income_tax - baseline_income_tax:.2f}\"\n",
    ")"
   ]
  },
  {
   "cell_type": "code",
   "execution_count": null,
   "metadata": {},
   "outputs": [],
   "source": [
    "from policyengine_uk import Microsimulation\n",
    "LOCAL_enhanced_frs_2022_23=\"hf://policyengine/policyengine-uk-data/enhanced_frs_2022_23.h5\"\n",
    "#sim = Microsimulation(dataset=\"hf://policyengine/policyengine-uk-data/enhanced_frs_2022_23.h5\")\n",
    "sim = Microsimulation(dataset=LOCAL_enhanced_frs_2022_23)\n",
    "# The hf:// points to the private data-\n",
    "# hf:// <- go get the data from huggingface\n",
    "# policyengine/policyengine-uk-data <- the repo\n",
    "# enhanced_frs_2022_23.h5 <- the file in the repo\n",
    "\n",
    "sim.calculate(\"universal_credit\", 2025).sum() / 1e9"
   ]
  },
  {
   "cell_type": "code",
   "execution_count": null,
   "metadata": {},
   "outputs": [],
   "source": [
    "sim = Microsimulation(dataset=\"/Users/helenauta.bolt/Documents/GitHub/policyengine-uk-data/policyengine_uk_data/storage/enhanced_frs_2022_23.h5\")\n",
    "\n",
    "df = sim.calculate_dataframe(\n",
    "    [\n",
    "        \"household_id\", # If the first variable is household level, the dataframe will project everything to households. Same for people.\n",
    "        \"income_tax\",\n",
    "        \"region\",\n",
    "    ],\n",
    "    period=2025\n",
    ")\n",
    "\n",
    "df.groupby(\"region\").income_tax.sum().sort_values(ascending=False)/1e9 # Weights automatically applied"
   ]
  },
  {
   "cell_type": "code",
   "execution_count": null,
   "metadata": {},
   "outputs": [],
   "source": [
    "from policyengine_uk.model_api import *\n",
    "enhanced_frs=\"/Users/helenauta.bolt/Documents/GitHub/policyengine-uk-data/policyengine_uk_data/storage/enhanced_frs_2022_23.h5\"\n",
    "\n",
    "\n",
    "def change_tax_parameters(parameters):\n",
    "    parameters.gov.hmrc.income_tax.rates.uk.brackets[0].rate.update(\n",
    "        period=periods.period(\"year:2019:10\"), value=0.23\n",
    "    )\n",
    "    return parameters\n",
    "\n",
    "\n",
    "class reform(Reform):\n",
    "    def apply(self):\n",
    "        self.modify_parameters(change_tax_parameters)\n",
    "\n",
    "\n",
    "baseline = Microsimulation(dataset=enhanced_frs)\n",
    "reformed = Microsimulation(dataset=enhanced_frs, reform=reform)\n",
    "revenue = reformed.calculate(\"gov_balance\", 2025).sum() - baseline.calc(\"gov_balance\", 2025).sum()\n",
    "f\"Revenue: £{round(revenue / 1e+9, 1)}bn\""
   ]
  },
  {
   "cell_type": "markdown",
   "metadata": {},
   "source": [
    "##RUN 2 CHILD LIMIT REFORM: "
   ]
  },
  {
   "cell_type": "code",
   "execution_count": null,
   "metadata": {},
   "outputs": [],
   "source": []
  },
  {
   "cell_type": "code",
   "execution_count": 137,
   "metadata": {},
   "outputs": [],
   "source": [
    "from policyengine_uk import Microsimulation\n",
    "from policyengine_core.reforms import Reform\n",
    "from policyengine_core.periods import instant\n",
    "import pandas as pd\n",
    "\n",
    "\n",
    "reform = Reform.from_dict({\n",
    "  \"gov.dwp.universal_credit.elements.child.limit.child_count\": {\n",
    "    \"2023-01-01.2028-12-31\": 99\n",
    "  }\n",
    "}, country_id=\"uk\")\n",
    " \n",
    "baseline = Microsimulation()\n",
    "reformed = Microsimulation(reform=reform)\n"
   ]
  },
  {
   "cell_type": "code",
   "execution_count": 143,
   "metadata": {},
   "outputs": [
    {
     "name": "stdout",
     "output_type": "stream",
     "text": [
      "This reform would cost £1.4bn\n"
     ]
    }
   ],
   "source": [
    "baseline_income = baseline.calculate(\"household_net_income\", period=2025)\n",
    "reformed_income = reformed.calculate(\"household_net_income\", period=2025)\n",
    "difference_income = reformed_income - baseline_income\n",
    "HOUSEHOLD_VARIABLES = [\"person_id\", \"household_id\", \"age\", \"household_net_income\", \"household_income_decile\", \"in_poverty\", \"household_tax\", \"household_benefits\"]\n",
    "baseline_person_df = baseline.calculate_dataframe(HOUSEHOLD_VARIABLES, 2025).astype(float)\n",
    "reformed_person_df = reformed.calculate_dataframe(HOUSEHOLD_VARIABLES, 2025).astype(float)\n",
    "difference_person_df = reformed_person_df - baseline_person_df\n",
    "total_net_income_baseline = baseline.calculate(\"household_net_income\", 2025)\n",
    "df=pd.DataFrame({\"value\":total_net_income_baseline.values, \"weights\":total_net_income_baseline.weights})\n",
    "df.to_csv(\"baseline_income.csv\")\n",
    "total_net_income_baseline = baseline.calculate(\"household_net_income\", 2025).sum()\n",
    "total_net_income_reformed = reformed.calculate(\"household_net_income\", 2025).sum()\n",
    "\n",
    "net_cost = total_net_income_reformed - total_net_income_baseline\n",
    "\n",
    "print(f\"This reform would cost £{net_cost / 1e9:.1f}bn\")\n",
    " "
   ]
  },
  {
   "cell_type": "code",
   "execution_count": 142,
   "metadata": {},
   "outputs": [
    {
     "ename": "AttributeError",
     "evalue": "'numpy.float64' object has no attribute 'weights'",
     "output_type": "error",
     "traceback": [
      "\u001b[0;31m---------------------------------------------------------------------------\u001b[0m",
      "\u001b[0;31mAttributeError\u001b[0m                            Traceback (most recent call last)",
      "Cell \u001b[0;32mIn[142], line 16\u001b[0m\n\u001b[1;32m      9\u001b[0m \u001b[38;5;66;03m# Step 2: Merge the two datasets\u001b[39;00m\n\u001b[1;32m     10\u001b[0m df_all \u001b[38;5;241m=\u001b[39m pd\u001b[38;5;241m.\u001b[39mmerge(\n\u001b[1;32m     11\u001b[0m     baseline_df,\n\u001b[1;32m     12\u001b[0m     reformed_df,\n\u001b[1;32m     13\u001b[0m     on\u001b[38;5;241m=\u001b[39m\u001b[38;5;124m\"\u001b[39m\u001b[38;5;124mhousehold_id\u001b[39m\u001b[38;5;124m\"\u001b[39m,\n\u001b[1;32m     14\u001b[0m     suffixes\u001b[38;5;241m=\u001b[39m(\u001b[38;5;124m\"\u001b[39m\u001b[38;5;124m_baseline\u001b[39m\u001b[38;5;124m\"\u001b[39m, \u001b[38;5;124m\"\u001b[39m\u001b[38;5;124m_reformed\u001b[39m\u001b[38;5;124m\"\u001b[39m)\n\u001b[1;32m     15\u001b[0m )\n\u001b[0;32m---> 16\u001b[0m df_all[\u001b[38;5;124m\"\u001b[39m\u001b[38;5;124mweights\u001b[39m\u001b[38;5;124m\"\u001b[39m]\u001b[38;5;241m=\u001b[39m\u001b[43mtotal_net_income_baseline\u001b[49m\u001b[38;5;241;43m.\u001b[39;49m\u001b[43mweights\u001b[49m\n\u001b[1;32m     18\u001b[0m \u001b[38;5;66;03m# Step 3: Create age bands from the oldest person's age\u001b[39;00m\n\u001b[1;32m     19\u001b[0m bins \u001b[38;5;241m=\u001b[39m [\u001b[38;5;241m0\u001b[39m, \u001b[38;5;241m24\u001b[39m, \u001b[38;5;241m34\u001b[39m, \u001b[38;5;241m44\u001b[39m, \u001b[38;5;241m54\u001b[39m, \u001b[38;5;241m64\u001b[39m, \u001b[38;5;241m74\u001b[39m, \u001b[38;5;241m200\u001b[39m]\n",
      "\u001b[0;31mAttributeError\u001b[0m: 'numpy.float64' object has no attribute 'weights'"
     ]
    }
   ],
   "source": [
    "### By oldest person in HH\n",
    "# Step 1: Get oldest person in each household\n",
    "baseline_person_df = baseline.calculate_dataframe(HOUSEHOLD_VARIABLES, 2025).astype(float)\n",
    "reformed_person_df = reformed.calculate_dataframe(HOUSEHOLD_VARIABLES, 2025).astype(float)\n",
    "baseline_idx = baseline_person_df.groupby(\"household_id\")[\"age\"].idxmax()\n",
    "reformed_idx = reformed_person_df.groupby(\"household_id\")[\"age\"].idxmax()\n",
    "baseline_df = baseline_person_df.loc[baseline_idx]\n",
    "reformed_df = reformed_person_df.loc[reformed_idx]\n",
    "# Step 2: Merge the two datasets\n",
    "df_all = pd.merge(\n",
    "    baseline_df,\n",
    "    reformed_df,\n",
    "    on=\"household_id\",\n",
    "    suffixes=(\"_baseline\", \"_reformed\")\n",
    ")\n",
    "#`df_all[\"weights\"]=total_net_income_baseline.weights\n",
    "\n",
    "# Step 3: Create age bands from the oldest person's age\n",
    "bins = [0, 24, 34, 44, 54, 64, 74, 200]\n",
    "labels = [\"<25\", \"25-34\", \"35-44\", \"45-54\", \"55-64\", \"65-74\", \"75+\"]\n",
    "df_all[\"age_group\"] = pd.cut(df_all[\"age_baseline\"], bins=bins, labels=labels, right=False)\n",
    "# Step 4: Calculate net cost per household\n",
    "df_all[\"net_cost\"] = (df_all[\"household_net_income_reformed\"] - df_all[\"household_net_income_baseline\"])* df_all[\"weights\"]\n",
    "# Step 5: Group by age group and sum net cost\n",
    "net_cost_by_age_group = df_all.groupby(\"age_group\")[\"net_cost\"].sum()\n",
    "# Show the result\n",
    "print(net_cost_by_age_group/ 1e9)\n",
    "print(net_cost_by_age_group.sum()/ 1e9)\n",
    " "
   ]
  },
  {
   "cell_type": "markdown",
   "metadata": {},
   "source": []
  }
 ],
 "metadata": {
  "kernelspec": {
   "display_name": "policyengine_venv",
   "language": "python",
   "name": "python3"
  },
  "language_info": {
   "codemirror_mode": {
    "name": "ipython",
    "version": 3
   },
   "file_extension": ".py",
   "mimetype": "text/x-python",
   "name": "python",
   "nbconvert_exporter": "python",
   "pygments_lexer": "ipython3",
   "version": "3.10.6"
  }
 },
 "nbformat": 4,
 "nbformat_minor": 2
}
