{
 "cells": [
  {
   "cell_type": "code",
   "execution_count": 58,
   "metadata": {},
   "outputs": [],
   "source": [
    "from policyengine_uk import Simulation\n",
    "from policyengine_core.reforms import Reform\n",
    "\n",
    "\n",
    "def get_employer_cost(employment_income, ni_rate, ni_threshold):\n",
    "    return employment_income + ni_rate * (employment_income - ni_threshold)\n",
    "    raise_emp_ni = Reform.from_dict(\n",
    "        {\n",
    "            \"gov.hmrc.national_insurance.class_1.rates.employer\": {\n",
    "                \"2025-01-01.2030-01-01\": ni_rate\n",
    "            },\n",
    "            \"gov.hmrc.national_insurance.class_1.thresholds.secondary_threshold\": {\n",
    "                \"2025-01-01.2030-01-01\": ni_threshold\n",
    "            },\n",
    "        }\n",
    "    )\n",
    "\n",
    "    raised_ni_simulation = Simulation(\n",
    "        situation={\n",
    "            \"employment_income\": employment_income,\n",
    "        },\n",
    "        reform=raise_emp_ni,\n",
    "    )\n",
    "\n",
    "    # return employment_income + raised_ni_simulation.calculate(\"ni_employer\", 2025)[0]"
   ]
  },
  {
   "cell_type": "code",
   "execution_count": 71,
   "metadata": {},
   "outputs": [
    {
     "data": {
      "text/plain": [
       "45495.47096412556"
      ]
     },
     "execution_count": 71,
     "metadata": {},
     "output_type": "execute_result"
    }
   ],
   "source": [
    "from policyengine_uk.system import system\n",
    "\n",
    "parameters = system.parameters(2025).gov.hmrc.national_insurance\n",
    "\n",
    "RATE = parameters.class_1.rates.employer  # 13.8%\n",
    "THRESHOLD = parameters.class_1.thresholds.secondary_threshold  # 9100\n",
    "\n",
    "\n",
    "def get_new_i(cost, rate, threshold):\n",
    "    return (cost + rate * threshold) / (1 + rate)\n",
    "\n",
    "\n",
    "baseline_emp_cost = get_employer_cost(40_000, RATE, THRESHOLD)\n",
    "baseline_emp_cost"
   ]
  },
  {
   "cell_type": "code",
   "execution_count": 72,
   "metadata": {},
   "outputs": [
    {
     "data": {
      "text/plain": [
       "39584.463443166314"
      ]
     },
     "execution_count": 72,
     "metadata": {},
     "output_type": "execute_result"
    }
   ],
   "source": [
    "new_i = get_new_i(baseline_emp_cost, 0.15, THRESHOLD)\n",
    "new_i"
   ]
  },
  {
   "cell_type": "code",
   "execution_count": 73,
   "metadata": {},
   "outputs": [
    {
     "data": {
      "text/plain": [
       "45495.47096412557"
      ]
     },
     "execution_count": 73,
     "metadata": {},
     "output_type": "execute_result"
    }
   ],
   "source": [
    "get_employer_cost(new_i, 0.15, THRESHOLD)"
   ]
  }
 ],
 "metadata": {
  "kernelspec": {
   "display_name": "base",
   "language": "python",
   "name": "python3"
  },
  "language_info": {
   "codemirror_mode": {
    "name": "ipython",
    "version": 3
   },
   "file_extension": ".py",
   "mimetype": "text/x-python",
   "name": "python",
   "nbconvert_exporter": "python",
   "pygments_lexer": "ipython3",
   "version": "3.10.14"
  }
 },
 "nbformat": 4,
 "nbformat_minor": 2
}
